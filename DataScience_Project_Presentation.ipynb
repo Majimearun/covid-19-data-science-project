{
  "nbformat": 4,
  "nbformat_minor": 0,
  "metadata": {
    "colab": {
      "name": "DataScience_Project_Presentation.ipynb",
      "provenance": [],
      "collapsed_sections": [],
      "toc_visible": true
    },
    "kernelspec": {
      "display_name": "Python 3",
      "language": "python",
      "name": "python3"
    },
    "language_info": {
      "codemirror_mode": {
        "name": "ipython",
        "version": 3
      },
      "file_extension": ".py",
      "mimetype": "text/x-python",
      "name": "python",
      "nbconvert_exporter": "python",
      "pygments_lexer": "ipython3",
      "version": "3.7.8"
    }
  },
  "cells": [
    {
      "cell_type": "markdown",
      "metadata": {
        "id": "3eLCS2Q0mj1i"
      },
      "source": [
        "### Note\r\n",
        "If you are running all cells at one go please fill up the credentials further down"
      ]
    },
    {
      "cell_type": "markdown",
      "metadata": {
        "id": "4JRx7UCBPxTn"
      },
      "source": [
        "# Imports"
      ]
    },
    {
      "cell_type": "code",
      "metadata": {
        "id": "QCab0kMdPxTo",
        "colab": {
          "base_uri": "https://localhost:8080/"
        },
        "outputId": "88d9e9dc-5c1e-45b2-8a3b-aefcbe4cb668"
      },
      "source": [
        "# Additional Installations For Google Colab\n",
        "\n",
        "!pip install TSErrors\n",
        "!pip install chart_studio\n",
        "!pip install plotly -U"
      ],
      "execution_count": null,
      "outputs": [
        {
          "output_type": "stream",
          "text": [
            "Requirement already satisfied: TSErrors in /usr/local/lib/python3.6/dist-packages (1.3)\n",
            "Requirement already satisfied: numpy in /usr/local/lib/python3.6/dist-packages (from TSErrors) (1.19.4)\n",
            "Requirement already satisfied: chart_studio in /usr/local/lib/python3.6/dist-packages (1.1.0)\n",
            "Requirement already satisfied: requests in /usr/local/lib/python3.6/dist-packages (from chart_studio) (2.23.0)\n",
            "Requirement already satisfied: plotly in /usr/local/lib/python3.6/dist-packages (from chart_studio) (4.14.1)\n",
            "Requirement already satisfied: retrying>=1.3.3 in /usr/local/lib/python3.6/dist-packages (from chart_studio) (1.3.3)\n",
            "Requirement already satisfied: six in /usr/local/lib/python3.6/dist-packages (from chart_studio) (1.15.0)\n",
            "Requirement already satisfied: chardet<4,>=3.0.2 in /usr/local/lib/python3.6/dist-packages (from requests->chart_studio) (3.0.4)\n",
            "Requirement already satisfied: idna<3,>=2.5 in /usr/local/lib/python3.6/dist-packages (from requests->chart_studio) (2.10)\n",
            "Requirement already satisfied: certifi>=2017.4.17 in /usr/local/lib/python3.6/dist-packages (from requests->chart_studio) (2020.12.5)\n",
            "Requirement already satisfied: urllib3!=1.25.0,!=1.25.1,<1.26,>=1.21.1 in /usr/local/lib/python3.6/dist-packages (from requests->chart_studio) (1.24.3)\n",
            "Requirement already up-to-date: plotly in /usr/local/lib/python3.6/dist-packages (4.14.1)\n",
            "Requirement already satisfied, skipping upgrade: six in /usr/local/lib/python3.6/dist-packages (from plotly) (1.15.0)\n",
            "Requirement already satisfied, skipping upgrade: retrying>=1.3.3 in /usr/local/lib/python3.6/dist-packages (from plotly) (1.3.3)\n"
          ],
          "name": "stdout"
        }
      ]
    },
    {
      "cell_type": "code",
      "metadata": {
        "id": "TwLU8bOGPxTo"
      },
      "source": [
        "import pandas as pd\n",
        "\n",
        "import numpy as np\n",
        "\n",
        "import plotly.express as px\n",
        "import plotly.graph_objects as go\n",
        "import chart_studio.plotly as py\n",
        "import chart_studio\n",
        "\n",
        "import requests\n",
        "\n",
        "from collections import Counter\n",
        "from TSErrors import FindErrors\n",
        "\n",
        "from sklearn.model_selection import ParameterGrid\n",
        "\n",
        "from keras.models import Sequential\n",
        "from keras.layers.convolutional import Conv1D, MaxPooling1D\n",
        "from keras.layers import Dense, Flatten\n",
        "\n",
        "from datetime import datetime\n",
        "from datetime import date\n",
        "\n",
        "from math import log\n",
        "from math import e\n",
        "\n",
        "from itertools import chain\n",
        "\n",
        "import warnings\n",
        "warnings.simplefilter(\"ignore\")"
      ],
      "execution_count": null,
      "outputs": []
    },
    {
      "cell_type": "markdown",
      "metadata": {
        "id": "Bun-pz1GPxTo"
      },
      "source": [
        "# Data Pre-Processing"
      ]
    },
    {
      "cell_type": "markdown",
      "metadata": {
        "id": "hUxUb581PxTp"
      },
      "source": [
        "## Getting The Data "
      ]
    },
    {
      "cell_type": "code",
      "metadata": {
        "id": "2OpsxjKEPxTp"
      },
      "source": [
        "# Data from the John Hopkins University Dataset on GitHub\n",
        "# https://github.com/CSSEGISandData/COVID-19/tree/master/csse_covid_19_data/csse_covid_19_time_series\n",
        "\n",
        "# Defining the variables required\n",
        "filenames = ['time_series_covid19_confirmed_global.csv',\n",
        "             'time_series_covid19_deaths_global.csv',\n",
        "             'time_series_covid19_recovered_global.csv']\n",
        "\n",
        "url = 'https://raw.githubusercontent.com/CSSEGISandData/COVID-19/master/csse_covid_19_data/csse_covid_19_time_series/'\n",
        "\n",
        "# Making the main dataframes required for the analysis\n",
        "confirmed_global = pd.read_csv(url + filenames[0])\n",
        "deaths_global = pd.read_csv(url + filenames[1])\n",
        "recovered_global = pd.read_csv(url + filenames[2])\n",
        "country_cases = pd.read_csv('https://raw.githubusercontent.com/CSSEGISandData/COVID-19/web-data/data/cases_country.csv')"
      ],
      "execution_count": null,
      "outputs": []
    },
    {
      "cell_type": "markdown",
      "metadata": {
        "id": "zye8p_9iPxTp"
      },
      "source": [
        "## Data Cleaning"
      ]
    },
    {
      "cell_type": "code",
      "metadata": {
        "id": "80iMplFVPxTp"
      },
      "source": [
        "# Simple Data Cleaning - Removing and renaming the Columns\n",
        "\n",
        "# Removing the Province/State column, as it is pretty much not of any use\n",
        "confirmed_global.drop(columns = ['Province/State', 'Lat', 'Long'], inplace = True)\n",
        "deaths_global.drop(columns = ['Province/State', 'Lat', 'Long'], inplace = True)\n",
        "recovered_global.drop(columns = ['Province/State', 'Lat', 'Long'], inplace = True)\n",
        "country_cases.drop(columns = [\"People_Tested\",\"People_Hospitalized\"],inplace = True)\n",
        "\n",
        "# Renaming the columns for easier access\n",
        "confirmed_global.rename(columns = {\"Country/Region\": \"country\"}, inplace = True)\n",
        "deaths_global.rename(columns = {\"Country/Region\": \"country\"}, inplace = True)\n",
        "recovered_global.rename(columns = {\"Country/Region\": \"country\"}, inplace = True)\n",
        "\n",
        "country_cases.rename(columns = {\n",
        "    \"Country_Region\" : \"country\",\n",
        "    \"Last_Update\": \"last\",\n",
        "    \"Confirmed\": \"confirmed\",\n",
        "    \"Deaths\": \"deaths\",\n",
        "    \"Recovered\" : \"recovered\",\n",
        "    \"Active\" : \"active\",\n",
        "    \"Mortality_Rate\": \"mortality\"\n",
        "}, inplace = True)"
      ],
      "execution_count": null,
      "outputs": []
    },
    {
      "cell_type": "code",
      "metadata": {
        "id": "SXnilTWvPxTq"
      },
      "source": [
        "# Removing some duplicate values from the table\n",
        "confirmed_global = confirmed_global.groupby(['country'], as_index = False).sum()\n",
        "deaths_global = deaths_global.groupby(['country'], as_index = False).sum()\n",
        "recovered_global = recovered_global.groupby(['country'], as_index = False).sum()"
      ],
      "execution_count": null,
      "outputs": []
    },
    {
      "cell_type": "code",
      "metadata": {
        "id": "RZ6CaztRPxTq"
      },
      "source": [
        "country_cases_sorted = country_cases.sort_values(\"confirmed\", ascending=False)\n",
        "country_cases_sorted.index = [x for x in range(len(country_cases_sorted))]"
      ],
      "execution_count": null,
      "outputs": []
    },
    {
      "cell_type": "markdown",
      "metadata": {
        "id": "26qLemRFPxTq"
      },
      "source": [
        "## Error Corrections"
      ]
    },
    {
      "cell_type": "code",
      "metadata": {
        "id": "kBCrrXWhPxTq"
      },
      "source": [
        "# This value is being changed as there was an error in the original dataset that had to be modified\n",
        "confirmed_global.at[178, '5/20/20'] = 251667"
      ],
      "execution_count": null,
      "outputs": []
    },
    {
      "cell_type": "markdown",
      "metadata": {
        "id": "h10ypCWnPxTr"
      },
      "source": [
        "## DataFrames"
      ]
    },
    {
      "cell_type": "code",
      "metadata": {
        "id": "LWpaolcnPxTr",
        "colab": {
          "base_uri": "https://localhost:8080/",
          "height": 251
        },
        "outputId": "34adcdf6-694c-4ffc-dfbf-1209ee52be30"
      },
      "source": [
        "confirmed_global.head()"
      ],
      "execution_count": null,
      "outputs": [
        {
          "output_type": "execute_result",
          "data": {
            "text/html": [
              "<div>\n",
              "<style scoped>\n",
              "    .dataframe tbody tr th:only-of-type {\n",
              "        vertical-align: middle;\n",
              "    }\n",
              "\n",
              "    .dataframe tbody tr th {\n",
              "        vertical-align: top;\n",
              "    }\n",
              "\n",
              "    .dataframe thead th {\n",
              "        text-align: right;\n",
              "    }\n",
              "</style>\n",
              "<table border=\"1\" class=\"dataframe\">\n",
              "  <thead>\n",
              "    <tr style=\"text-align: right;\">\n",
              "      <th></th>\n",
              "      <th>country</th>\n",
              "      <th>1/22/20</th>\n",
              "      <th>1/23/20</th>\n",
              "      <th>1/24/20</th>\n",
              "      <th>1/25/20</th>\n",
              "      <th>1/26/20</th>\n",
              "      <th>1/27/20</th>\n",
              "      <th>1/28/20</th>\n",
              "      <th>1/29/20</th>\n",
              "      <th>1/30/20</th>\n",
              "      <th>1/31/20</th>\n",
              "      <th>2/1/20</th>\n",
              "      <th>2/2/20</th>\n",
              "      <th>2/3/20</th>\n",
              "      <th>2/4/20</th>\n",
              "      <th>2/5/20</th>\n",
              "      <th>2/6/20</th>\n",
              "      <th>2/7/20</th>\n",
              "      <th>2/8/20</th>\n",
              "      <th>2/9/20</th>\n",
              "      <th>2/10/20</th>\n",
              "      <th>2/11/20</th>\n",
              "      <th>2/12/20</th>\n",
              "      <th>2/13/20</th>\n",
              "      <th>2/14/20</th>\n",
              "      <th>2/15/20</th>\n",
              "      <th>2/16/20</th>\n",
              "      <th>2/17/20</th>\n",
              "      <th>2/18/20</th>\n",
              "      <th>2/19/20</th>\n",
              "      <th>2/20/20</th>\n",
              "      <th>2/21/20</th>\n",
              "      <th>2/22/20</th>\n",
              "      <th>2/23/20</th>\n",
              "      <th>2/24/20</th>\n",
              "      <th>2/25/20</th>\n",
              "      <th>2/26/20</th>\n",
              "      <th>2/27/20</th>\n",
              "      <th>2/28/20</th>\n",
              "      <th>2/29/20</th>\n",
              "      <th>...</th>\n",
              "      <th>11/19/20</th>\n",
              "      <th>11/20/20</th>\n",
              "      <th>11/21/20</th>\n",
              "      <th>11/22/20</th>\n",
              "      <th>11/23/20</th>\n",
              "      <th>11/24/20</th>\n",
              "      <th>11/25/20</th>\n",
              "      <th>11/26/20</th>\n",
              "      <th>11/27/20</th>\n",
              "      <th>11/28/20</th>\n",
              "      <th>11/29/20</th>\n",
              "      <th>11/30/20</th>\n",
              "      <th>12/1/20</th>\n",
              "      <th>12/2/20</th>\n",
              "      <th>12/3/20</th>\n",
              "      <th>12/4/20</th>\n",
              "      <th>12/5/20</th>\n",
              "      <th>12/6/20</th>\n",
              "      <th>12/7/20</th>\n",
              "      <th>12/8/20</th>\n",
              "      <th>12/9/20</th>\n",
              "      <th>12/10/20</th>\n",
              "      <th>12/11/20</th>\n",
              "      <th>12/12/20</th>\n",
              "      <th>12/13/20</th>\n",
              "      <th>12/14/20</th>\n",
              "      <th>12/15/20</th>\n",
              "      <th>12/16/20</th>\n",
              "      <th>12/17/20</th>\n",
              "      <th>12/18/20</th>\n",
              "      <th>12/19/20</th>\n",
              "      <th>12/20/20</th>\n",
              "      <th>12/21/20</th>\n",
              "      <th>12/22/20</th>\n",
              "      <th>12/23/20</th>\n",
              "      <th>12/24/20</th>\n",
              "      <th>12/25/20</th>\n",
              "      <th>12/26/20</th>\n",
              "      <th>12/27/20</th>\n",
              "      <th>12/28/20</th>\n",
              "    </tr>\n",
              "  </thead>\n",
              "  <tbody>\n",
              "    <tr>\n",
              "      <th>0</th>\n",
              "      <td>Afghanistan</td>\n",
              "      <td>0</td>\n",
              "      <td>0</td>\n",
              "      <td>0</td>\n",
              "      <td>0</td>\n",
              "      <td>0</td>\n",
              "      <td>0</td>\n",
              "      <td>0</td>\n",
              "      <td>0</td>\n",
              "      <td>0</td>\n",
              "      <td>0</td>\n",
              "      <td>0</td>\n",
              "      <td>0</td>\n",
              "      <td>0</td>\n",
              "      <td>0</td>\n",
              "      <td>0</td>\n",
              "      <td>0</td>\n",
              "      <td>0</td>\n",
              "      <td>0</td>\n",
              "      <td>0</td>\n",
              "      <td>0</td>\n",
              "      <td>0</td>\n",
              "      <td>0</td>\n",
              "      <td>0</td>\n",
              "      <td>0</td>\n",
              "      <td>0</td>\n",
              "      <td>0</td>\n",
              "      <td>0</td>\n",
              "      <td>0</td>\n",
              "      <td>0</td>\n",
              "      <td>0</td>\n",
              "      <td>0</td>\n",
              "      <td>0</td>\n",
              "      <td>0</td>\n",
              "      <td>1</td>\n",
              "      <td>1</td>\n",
              "      <td>1</td>\n",
              "      <td>1</td>\n",
              "      <td>1</td>\n",
              "      <td>1</td>\n",
              "      <td>...</td>\n",
              "      <td>44177</td>\n",
              "      <td>44363</td>\n",
              "      <td>44503</td>\n",
              "      <td>44706</td>\n",
              "      <td>44988</td>\n",
              "      <td>45174</td>\n",
              "      <td>45384</td>\n",
              "      <td>45600</td>\n",
              "      <td>45723</td>\n",
              "      <td>45844</td>\n",
              "      <td>46116</td>\n",
              "      <td>46274</td>\n",
              "      <td>46516</td>\n",
              "      <td>46718</td>\n",
              "      <td>46837</td>\n",
              "      <td>46837</td>\n",
              "      <td>47072</td>\n",
              "      <td>47306</td>\n",
              "      <td>47516</td>\n",
              "      <td>47716</td>\n",
              "      <td>47851</td>\n",
              "      <td>48053</td>\n",
              "      <td>48116</td>\n",
              "      <td>48229</td>\n",
              "      <td>48527</td>\n",
              "      <td>48718</td>\n",
              "      <td>48952</td>\n",
              "      <td>49161</td>\n",
              "      <td>49378</td>\n",
              "      <td>49621</td>\n",
              "      <td>49681</td>\n",
              "      <td>49817</td>\n",
              "      <td>50013</td>\n",
              "      <td>50190</td>\n",
              "      <td>50433</td>\n",
              "      <td>50655</td>\n",
              "      <td>50810</td>\n",
              "      <td>50886</td>\n",
              "      <td>51039</td>\n",
              "      <td>51280</td>\n",
              "    </tr>\n",
              "    <tr>\n",
              "      <th>1</th>\n",
              "      <td>Albania</td>\n",
              "      <td>0</td>\n",
              "      <td>0</td>\n",
              "      <td>0</td>\n",
              "      <td>0</td>\n",
              "      <td>0</td>\n",
              "      <td>0</td>\n",
              "      <td>0</td>\n",
              "      <td>0</td>\n",
              "      <td>0</td>\n",
              "      <td>0</td>\n",
              "      <td>0</td>\n",
              "      <td>0</td>\n",
              "      <td>0</td>\n",
              "      <td>0</td>\n",
              "      <td>0</td>\n",
              "      <td>0</td>\n",
              "      <td>0</td>\n",
              "      <td>0</td>\n",
              "      <td>0</td>\n",
              "      <td>0</td>\n",
              "      <td>0</td>\n",
              "      <td>0</td>\n",
              "      <td>0</td>\n",
              "      <td>0</td>\n",
              "      <td>0</td>\n",
              "      <td>0</td>\n",
              "      <td>0</td>\n",
              "      <td>0</td>\n",
              "      <td>0</td>\n",
              "      <td>0</td>\n",
              "      <td>0</td>\n",
              "      <td>0</td>\n",
              "      <td>0</td>\n",
              "      <td>0</td>\n",
              "      <td>0</td>\n",
              "      <td>0</td>\n",
              "      <td>0</td>\n",
              "      <td>0</td>\n",
              "      <td>0</td>\n",
              "      <td>...</td>\n",
              "      <td>30623</td>\n",
              "      <td>31459</td>\n",
              "      <td>32196</td>\n",
              "      <td>32761</td>\n",
              "      <td>33556</td>\n",
              "      <td>34300</td>\n",
              "      <td>34944</td>\n",
              "      <td>35600</td>\n",
              "      <td>36245</td>\n",
              "      <td>36790</td>\n",
              "      <td>37625</td>\n",
              "      <td>38182</td>\n",
              "      <td>39014</td>\n",
              "      <td>39719</td>\n",
              "      <td>40501</td>\n",
              "      <td>41302</td>\n",
              "      <td>42148</td>\n",
              "      <td>42988</td>\n",
              "      <td>43683</td>\n",
              "      <td>44436</td>\n",
              "      <td>45188</td>\n",
              "      <td>46061</td>\n",
              "      <td>46863</td>\n",
              "      <td>47742</td>\n",
              "      <td>48530</td>\n",
              "      <td>49191</td>\n",
              "      <td>50000</td>\n",
              "      <td>50637</td>\n",
              "      <td>51424</td>\n",
              "      <td>52004</td>\n",
              "      <td>52542</td>\n",
              "      <td>53003</td>\n",
              "      <td>53425</td>\n",
              "      <td>53814</td>\n",
              "      <td>54317</td>\n",
              "      <td>54827</td>\n",
              "      <td>55380</td>\n",
              "      <td>55755</td>\n",
              "      <td>56254</td>\n",
              "      <td>56572</td>\n",
              "    </tr>\n",
              "    <tr>\n",
              "      <th>2</th>\n",
              "      <td>Algeria</td>\n",
              "      <td>0</td>\n",
              "      <td>0</td>\n",
              "      <td>0</td>\n",
              "      <td>0</td>\n",
              "      <td>0</td>\n",
              "      <td>0</td>\n",
              "      <td>0</td>\n",
              "      <td>0</td>\n",
              "      <td>0</td>\n",
              "      <td>0</td>\n",
              "      <td>0</td>\n",
              "      <td>0</td>\n",
              "      <td>0</td>\n",
              "      <td>0</td>\n",
              "      <td>0</td>\n",
              "      <td>0</td>\n",
              "      <td>0</td>\n",
              "      <td>0</td>\n",
              "      <td>0</td>\n",
              "      <td>0</td>\n",
              "      <td>0</td>\n",
              "      <td>0</td>\n",
              "      <td>0</td>\n",
              "      <td>0</td>\n",
              "      <td>0</td>\n",
              "      <td>0</td>\n",
              "      <td>0</td>\n",
              "      <td>0</td>\n",
              "      <td>0</td>\n",
              "      <td>0</td>\n",
              "      <td>0</td>\n",
              "      <td>0</td>\n",
              "      <td>0</td>\n",
              "      <td>0</td>\n",
              "      <td>1</td>\n",
              "      <td>1</td>\n",
              "      <td>1</td>\n",
              "      <td>1</td>\n",
              "      <td>1</td>\n",
              "      <td>...</td>\n",
              "      <td>71652</td>\n",
              "      <td>72755</td>\n",
              "      <td>73774</td>\n",
              "      <td>74862</td>\n",
              "      <td>75867</td>\n",
              "      <td>77000</td>\n",
              "      <td>78025</td>\n",
              "      <td>79110</td>\n",
              "      <td>80168</td>\n",
              "      <td>81212</td>\n",
              "      <td>82221</td>\n",
              "      <td>83199</td>\n",
              "      <td>84152</td>\n",
              "      <td>85084</td>\n",
              "      <td>85927</td>\n",
              "      <td>86730</td>\n",
              "      <td>87502</td>\n",
              "      <td>88252</td>\n",
              "      <td>88825</td>\n",
              "      <td>89416</td>\n",
              "      <td>90014</td>\n",
              "      <td>90579</td>\n",
              "      <td>91121</td>\n",
              "      <td>91638</td>\n",
              "      <td>92102</td>\n",
              "      <td>92597</td>\n",
              "      <td>93065</td>\n",
              "      <td>93507</td>\n",
              "      <td>93933</td>\n",
              "      <td>94371</td>\n",
              "      <td>94781</td>\n",
              "      <td>95203</td>\n",
              "      <td>95659</td>\n",
              "      <td>96069</td>\n",
              "      <td>96549</td>\n",
              "      <td>97007</td>\n",
              "      <td>97441</td>\n",
              "      <td>97857</td>\n",
              "      <td>98249</td>\n",
              "      <td>98631</td>\n",
              "    </tr>\n",
              "    <tr>\n",
              "      <th>3</th>\n",
              "      <td>Andorra</td>\n",
              "      <td>0</td>\n",
              "      <td>0</td>\n",
              "      <td>0</td>\n",
              "      <td>0</td>\n",
              "      <td>0</td>\n",
              "      <td>0</td>\n",
              "      <td>0</td>\n",
              "      <td>0</td>\n",
              "      <td>0</td>\n",
              "      <td>0</td>\n",
              "      <td>0</td>\n",
              "      <td>0</td>\n",
              "      <td>0</td>\n",
              "      <td>0</td>\n",
              "      <td>0</td>\n",
              "      <td>0</td>\n",
              "      <td>0</td>\n",
              "      <td>0</td>\n",
              "      <td>0</td>\n",
              "      <td>0</td>\n",
              "      <td>0</td>\n",
              "      <td>0</td>\n",
              "      <td>0</td>\n",
              "      <td>0</td>\n",
              "      <td>0</td>\n",
              "      <td>0</td>\n",
              "      <td>0</td>\n",
              "      <td>0</td>\n",
              "      <td>0</td>\n",
              "      <td>0</td>\n",
              "      <td>0</td>\n",
              "      <td>0</td>\n",
              "      <td>0</td>\n",
              "      <td>0</td>\n",
              "      <td>0</td>\n",
              "      <td>0</td>\n",
              "      <td>0</td>\n",
              "      <td>0</td>\n",
              "      <td>0</td>\n",
              "      <td>...</td>\n",
              "      <td>6066</td>\n",
              "      <td>6142</td>\n",
              "      <td>6207</td>\n",
              "      <td>6256</td>\n",
              "      <td>6304</td>\n",
              "      <td>6351</td>\n",
              "      <td>6428</td>\n",
              "      <td>6534</td>\n",
              "      <td>6610</td>\n",
              "      <td>6610</td>\n",
              "      <td>6712</td>\n",
              "      <td>6745</td>\n",
              "      <td>6790</td>\n",
              "      <td>6842</td>\n",
              "      <td>6904</td>\n",
              "      <td>6955</td>\n",
              "      <td>7005</td>\n",
              "      <td>7050</td>\n",
              "      <td>7084</td>\n",
              "      <td>7127</td>\n",
              "      <td>7162</td>\n",
              "      <td>7190</td>\n",
              "      <td>7236</td>\n",
              "      <td>7288</td>\n",
              "      <td>7338</td>\n",
              "      <td>7382</td>\n",
              "      <td>7382</td>\n",
              "      <td>7446</td>\n",
              "      <td>7466</td>\n",
              "      <td>7519</td>\n",
              "      <td>7560</td>\n",
              "      <td>7577</td>\n",
              "      <td>7602</td>\n",
              "      <td>7633</td>\n",
              "      <td>7669</td>\n",
              "      <td>7699</td>\n",
              "      <td>7756</td>\n",
              "      <td>7806</td>\n",
              "      <td>7821</td>\n",
              "      <td>7875</td>\n",
              "    </tr>\n",
              "    <tr>\n",
              "      <th>4</th>\n",
              "      <td>Angola</td>\n",
              "      <td>0</td>\n",
              "      <td>0</td>\n",
              "      <td>0</td>\n",
              "      <td>0</td>\n",
              "      <td>0</td>\n",
              "      <td>0</td>\n",
              "      <td>0</td>\n",
              "      <td>0</td>\n",
              "      <td>0</td>\n",
              "      <td>0</td>\n",
              "      <td>0</td>\n",
              "      <td>0</td>\n",
              "      <td>0</td>\n",
              "      <td>0</td>\n",
              "      <td>0</td>\n",
              "      <td>0</td>\n",
              "      <td>0</td>\n",
              "      <td>0</td>\n",
              "      <td>0</td>\n",
              "      <td>0</td>\n",
              "      <td>0</td>\n",
              "      <td>0</td>\n",
              "      <td>0</td>\n",
              "      <td>0</td>\n",
              "      <td>0</td>\n",
              "      <td>0</td>\n",
              "      <td>0</td>\n",
              "      <td>0</td>\n",
              "      <td>0</td>\n",
              "      <td>0</td>\n",
              "      <td>0</td>\n",
              "      <td>0</td>\n",
              "      <td>0</td>\n",
              "      <td>0</td>\n",
              "      <td>0</td>\n",
              "      <td>0</td>\n",
              "      <td>0</td>\n",
              "      <td>0</td>\n",
              "      <td>0</td>\n",
              "      <td>...</td>\n",
              "      <td>14134</td>\n",
              "      <td>14267</td>\n",
              "      <td>14413</td>\n",
              "      <td>14493</td>\n",
              "      <td>14634</td>\n",
              "      <td>14742</td>\n",
              "      <td>14821</td>\n",
              "      <td>14920</td>\n",
              "      <td>15008</td>\n",
              "      <td>15087</td>\n",
              "      <td>15103</td>\n",
              "      <td>15139</td>\n",
              "      <td>15251</td>\n",
              "      <td>15319</td>\n",
              "      <td>15361</td>\n",
              "      <td>15493</td>\n",
              "      <td>15536</td>\n",
              "      <td>15591</td>\n",
              "      <td>15648</td>\n",
              "      <td>15729</td>\n",
              "      <td>15804</td>\n",
              "      <td>15925</td>\n",
              "      <td>16061</td>\n",
              "      <td>16161</td>\n",
              "      <td>16188</td>\n",
              "      <td>16277</td>\n",
              "      <td>16362</td>\n",
              "      <td>16407</td>\n",
              "      <td>16484</td>\n",
              "      <td>16562</td>\n",
              "      <td>16626</td>\n",
              "      <td>16644</td>\n",
              "      <td>16686</td>\n",
              "      <td>16802</td>\n",
              "      <td>16931</td>\n",
              "      <td>17029</td>\n",
              "      <td>17099</td>\n",
              "      <td>17149</td>\n",
              "      <td>17240</td>\n",
              "      <td>17296</td>\n",
              "    </tr>\n",
              "  </tbody>\n",
              "</table>\n",
              "<p>5 rows × 343 columns</p>\n",
              "</div>"
            ],
            "text/plain": [
              "       country  1/22/20  1/23/20  ...  12/26/20  12/27/20  12/28/20\n",
              "0  Afghanistan        0        0  ...     50886     51039     51280\n",
              "1      Albania        0        0  ...     55755     56254     56572\n",
              "2      Algeria        0        0  ...     97857     98249     98631\n",
              "3      Andorra        0        0  ...      7806      7821      7875\n",
              "4       Angola        0        0  ...     17149     17240     17296\n",
              "\n",
              "[5 rows x 343 columns]"
            ]
          },
          "metadata": {
            "tags": []
          },
          "execution_count": 8
        }
      ]
    },
    {
      "cell_type": "code",
      "metadata": {
        "id": "9Bd0oczePxTr",
        "colab": {
          "base_uri": "https://localhost:8080/",
          "height": 251
        },
        "outputId": "1cf736c7-2d70-4ee5-e021-07f97973f1f5"
      },
      "source": [
        "deaths_global.head()"
      ],
      "execution_count": null,
      "outputs": [
        {
          "output_type": "execute_result",
          "data": {
            "text/html": [
              "<div>\n",
              "<style scoped>\n",
              "    .dataframe tbody tr th:only-of-type {\n",
              "        vertical-align: middle;\n",
              "    }\n",
              "\n",
              "    .dataframe tbody tr th {\n",
              "        vertical-align: top;\n",
              "    }\n",
              "\n",
              "    .dataframe thead th {\n",
              "        text-align: right;\n",
              "    }\n",
              "</style>\n",
              "<table border=\"1\" class=\"dataframe\">\n",
              "  <thead>\n",
              "    <tr style=\"text-align: right;\">\n",
              "      <th></th>\n",
              "      <th>country</th>\n",
              "      <th>1/22/20</th>\n",
              "      <th>1/23/20</th>\n",
              "      <th>1/24/20</th>\n",
              "      <th>1/25/20</th>\n",
              "      <th>1/26/20</th>\n",
              "      <th>1/27/20</th>\n",
              "      <th>1/28/20</th>\n",
              "      <th>1/29/20</th>\n",
              "      <th>1/30/20</th>\n",
              "      <th>1/31/20</th>\n",
              "      <th>2/1/20</th>\n",
              "      <th>2/2/20</th>\n",
              "      <th>2/3/20</th>\n",
              "      <th>2/4/20</th>\n",
              "      <th>2/5/20</th>\n",
              "      <th>2/6/20</th>\n",
              "      <th>2/7/20</th>\n",
              "      <th>2/8/20</th>\n",
              "      <th>2/9/20</th>\n",
              "      <th>2/10/20</th>\n",
              "      <th>2/11/20</th>\n",
              "      <th>2/12/20</th>\n",
              "      <th>2/13/20</th>\n",
              "      <th>2/14/20</th>\n",
              "      <th>2/15/20</th>\n",
              "      <th>2/16/20</th>\n",
              "      <th>2/17/20</th>\n",
              "      <th>2/18/20</th>\n",
              "      <th>2/19/20</th>\n",
              "      <th>2/20/20</th>\n",
              "      <th>2/21/20</th>\n",
              "      <th>2/22/20</th>\n",
              "      <th>2/23/20</th>\n",
              "      <th>2/24/20</th>\n",
              "      <th>2/25/20</th>\n",
              "      <th>2/26/20</th>\n",
              "      <th>2/27/20</th>\n",
              "      <th>2/28/20</th>\n",
              "      <th>2/29/20</th>\n",
              "      <th>...</th>\n",
              "      <th>11/19/20</th>\n",
              "      <th>11/20/20</th>\n",
              "      <th>11/21/20</th>\n",
              "      <th>11/22/20</th>\n",
              "      <th>11/23/20</th>\n",
              "      <th>11/24/20</th>\n",
              "      <th>11/25/20</th>\n",
              "      <th>11/26/20</th>\n",
              "      <th>11/27/20</th>\n",
              "      <th>11/28/20</th>\n",
              "      <th>11/29/20</th>\n",
              "      <th>11/30/20</th>\n",
              "      <th>12/1/20</th>\n",
              "      <th>12/2/20</th>\n",
              "      <th>12/3/20</th>\n",
              "      <th>12/4/20</th>\n",
              "      <th>12/5/20</th>\n",
              "      <th>12/6/20</th>\n",
              "      <th>12/7/20</th>\n",
              "      <th>12/8/20</th>\n",
              "      <th>12/9/20</th>\n",
              "      <th>12/10/20</th>\n",
              "      <th>12/11/20</th>\n",
              "      <th>12/12/20</th>\n",
              "      <th>12/13/20</th>\n",
              "      <th>12/14/20</th>\n",
              "      <th>12/15/20</th>\n",
              "      <th>12/16/20</th>\n",
              "      <th>12/17/20</th>\n",
              "      <th>12/18/20</th>\n",
              "      <th>12/19/20</th>\n",
              "      <th>12/20/20</th>\n",
              "      <th>12/21/20</th>\n",
              "      <th>12/22/20</th>\n",
              "      <th>12/23/20</th>\n",
              "      <th>12/24/20</th>\n",
              "      <th>12/25/20</th>\n",
              "      <th>12/26/20</th>\n",
              "      <th>12/27/20</th>\n",
              "      <th>12/28/20</th>\n",
              "    </tr>\n",
              "  </thead>\n",
              "  <tbody>\n",
              "    <tr>\n",
              "      <th>0</th>\n",
              "      <td>Afghanistan</td>\n",
              "      <td>0</td>\n",
              "      <td>0</td>\n",
              "      <td>0</td>\n",
              "      <td>0</td>\n",
              "      <td>0</td>\n",
              "      <td>0</td>\n",
              "      <td>0</td>\n",
              "      <td>0</td>\n",
              "      <td>0</td>\n",
              "      <td>0</td>\n",
              "      <td>0</td>\n",
              "      <td>0</td>\n",
              "      <td>0</td>\n",
              "      <td>0</td>\n",
              "      <td>0</td>\n",
              "      <td>0</td>\n",
              "      <td>0</td>\n",
              "      <td>0</td>\n",
              "      <td>0</td>\n",
              "      <td>0</td>\n",
              "      <td>0</td>\n",
              "      <td>0</td>\n",
              "      <td>0</td>\n",
              "      <td>0</td>\n",
              "      <td>0</td>\n",
              "      <td>0</td>\n",
              "      <td>0</td>\n",
              "      <td>0</td>\n",
              "      <td>0</td>\n",
              "      <td>0</td>\n",
              "      <td>0</td>\n",
              "      <td>0</td>\n",
              "      <td>0</td>\n",
              "      <td>0</td>\n",
              "      <td>0</td>\n",
              "      <td>0</td>\n",
              "      <td>0</td>\n",
              "      <td>0</td>\n",
              "      <td>0</td>\n",
              "      <td>...</td>\n",
              "      <td>1653</td>\n",
              "      <td>1666</td>\n",
              "      <td>1678</td>\n",
              "      <td>1690</td>\n",
              "      <td>1702</td>\n",
              "      <td>1715</td>\n",
              "      <td>1728</td>\n",
              "      <td>1737</td>\n",
              "      <td>1740</td>\n",
              "      <td>1752</td>\n",
              "      <td>1774</td>\n",
              "      <td>1795</td>\n",
              "      <td>1822</td>\n",
              "      <td>1841</td>\n",
              "      <td>1846</td>\n",
              "      <td>1846</td>\n",
              "      <td>1864</td>\n",
              "      <td>1874</td>\n",
              "      <td>1900</td>\n",
              "      <td>1906</td>\n",
              "      <td>1919</td>\n",
              "      <td>1935</td>\n",
              "      <td>1945</td>\n",
              "      <td>1956</td>\n",
              "      <td>1965</td>\n",
              "      <td>1969</td>\n",
              "      <td>1995</td>\n",
              "      <td>2011</td>\n",
              "      <td>2025</td>\n",
              "      <td>2030</td>\n",
              "      <td>2047</td>\n",
              "      <td>2067</td>\n",
              "      <td>2082</td>\n",
              "      <td>2096</td>\n",
              "      <td>2117</td>\n",
              "      <td>2126</td>\n",
              "      <td>2139</td>\n",
              "      <td>2149</td>\n",
              "      <td>2160</td>\n",
              "      <td>2174</td>\n",
              "    </tr>\n",
              "    <tr>\n",
              "      <th>1</th>\n",
              "      <td>Albania</td>\n",
              "      <td>0</td>\n",
              "      <td>0</td>\n",
              "      <td>0</td>\n",
              "      <td>0</td>\n",
              "      <td>0</td>\n",
              "      <td>0</td>\n",
              "      <td>0</td>\n",
              "      <td>0</td>\n",
              "      <td>0</td>\n",
              "      <td>0</td>\n",
              "      <td>0</td>\n",
              "      <td>0</td>\n",
              "      <td>0</td>\n",
              "      <td>0</td>\n",
              "      <td>0</td>\n",
              "      <td>0</td>\n",
              "      <td>0</td>\n",
              "      <td>0</td>\n",
              "      <td>0</td>\n",
              "      <td>0</td>\n",
              "      <td>0</td>\n",
              "      <td>0</td>\n",
              "      <td>0</td>\n",
              "      <td>0</td>\n",
              "      <td>0</td>\n",
              "      <td>0</td>\n",
              "      <td>0</td>\n",
              "      <td>0</td>\n",
              "      <td>0</td>\n",
              "      <td>0</td>\n",
              "      <td>0</td>\n",
              "      <td>0</td>\n",
              "      <td>0</td>\n",
              "      <td>0</td>\n",
              "      <td>0</td>\n",
              "      <td>0</td>\n",
              "      <td>0</td>\n",
              "      <td>0</td>\n",
              "      <td>0</td>\n",
              "      <td>...</td>\n",
              "      <td>657</td>\n",
              "      <td>672</td>\n",
              "      <td>685</td>\n",
              "      <td>699</td>\n",
              "      <td>716</td>\n",
              "      <td>735</td>\n",
              "      <td>743</td>\n",
              "      <td>753</td>\n",
              "      <td>771</td>\n",
              "      <td>787</td>\n",
              "      <td>798</td>\n",
              "      <td>810</td>\n",
              "      <td>822</td>\n",
              "      <td>839</td>\n",
              "      <td>852</td>\n",
              "      <td>870</td>\n",
              "      <td>889</td>\n",
              "      <td>905</td>\n",
              "      <td>922</td>\n",
              "      <td>936</td>\n",
              "      <td>951</td>\n",
              "      <td>965</td>\n",
              "      <td>977</td>\n",
              "      <td>989</td>\n",
              "      <td>1003</td>\n",
              "      <td>1016</td>\n",
              "      <td>1028</td>\n",
              "      <td>1040</td>\n",
              "      <td>1055</td>\n",
              "      <td>1066</td>\n",
              "      <td>1074</td>\n",
              "      <td>1088</td>\n",
              "      <td>1098</td>\n",
              "      <td>1111</td>\n",
              "      <td>1117</td>\n",
              "      <td>1125</td>\n",
              "      <td>1134</td>\n",
              "      <td>1143</td>\n",
              "      <td>1153</td>\n",
              "      <td>1164</td>\n",
              "    </tr>\n",
              "    <tr>\n",
              "      <th>2</th>\n",
              "      <td>Algeria</td>\n",
              "      <td>0</td>\n",
              "      <td>0</td>\n",
              "      <td>0</td>\n",
              "      <td>0</td>\n",
              "      <td>0</td>\n",
              "      <td>0</td>\n",
              "      <td>0</td>\n",
              "      <td>0</td>\n",
              "      <td>0</td>\n",
              "      <td>0</td>\n",
              "      <td>0</td>\n",
              "      <td>0</td>\n",
              "      <td>0</td>\n",
              "      <td>0</td>\n",
              "      <td>0</td>\n",
              "      <td>0</td>\n",
              "      <td>0</td>\n",
              "      <td>0</td>\n",
              "      <td>0</td>\n",
              "      <td>0</td>\n",
              "      <td>0</td>\n",
              "      <td>0</td>\n",
              "      <td>0</td>\n",
              "      <td>0</td>\n",
              "      <td>0</td>\n",
              "      <td>0</td>\n",
              "      <td>0</td>\n",
              "      <td>0</td>\n",
              "      <td>0</td>\n",
              "      <td>0</td>\n",
              "      <td>0</td>\n",
              "      <td>0</td>\n",
              "      <td>0</td>\n",
              "      <td>0</td>\n",
              "      <td>0</td>\n",
              "      <td>0</td>\n",
              "      <td>0</td>\n",
              "      <td>0</td>\n",
              "      <td>0</td>\n",
              "      <td>...</td>\n",
              "      <td>2224</td>\n",
              "      <td>2236</td>\n",
              "      <td>2255</td>\n",
              "      <td>2272</td>\n",
              "      <td>2294</td>\n",
              "      <td>2309</td>\n",
              "      <td>2329</td>\n",
              "      <td>2352</td>\n",
              "      <td>2372</td>\n",
              "      <td>2393</td>\n",
              "      <td>2410</td>\n",
              "      <td>2431</td>\n",
              "      <td>2447</td>\n",
              "      <td>2464</td>\n",
              "      <td>2480</td>\n",
              "      <td>2492</td>\n",
              "      <td>2501</td>\n",
              "      <td>2516</td>\n",
              "      <td>2527</td>\n",
              "      <td>2539</td>\n",
              "      <td>2554</td>\n",
              "      <td>2564</td>\n",
              "      <td>2575</td>\n",
              "      <td>2584</td>\n",
              "      <td>2596</td>\n",
              "      <td>2609</td>\n",
              "      <td>2623</td>\n",
              "      <td>2631</td>\n",
              "      <td>2640</td>\n",
              "      <td>2647</td>\n",
              "      <td>2659</td>\n",
              "      <td>2666</td>\n",
              "      <td>2675</td>\n",
              "      <td>2687</td>\n",
              "      <td>2696</td>\n",
              "      <td>2705</td>\n",
              "      <td>2716</td>\n",
              "      <td>2722</td>\n",
              "      <td>2728</td>\n",
              "      <td>2737</td>\n",
              "    </tr>\n",
              "    <tr>\n",
              "      <th>3</th>\n",
              "      <td>Andorra</td>\n",
              "      <td>0</td>\n",
              "      <td>0</td>\n",
              "      <td>0</td>\n",
              "      <td>0</td>\n",
              "      <td>0</td>\n",
              "      <td>0</td>\n",
              "      <td>0</td>\n",
              "      <td>0</td>\n",
              "      <td>0</td>\n",
              "      <td>0</td>\n",
              "      <td>0</td>\n",
              "      <td>0</td>\n",
              "      <td>0</td>\n",
              "      <td>0</td>\n",
              "      <td>0</td>\n",
              "      <td>0</td>\n",
              "      <td>0</td>\n",
              "      <td>0</td>\n",
              "      <td>0</td>\n",
              "      <td>0</td>\n",
              "      <td>0</td>\n",
              "      <td>0</td>\n",
              "      <td>0</td>\n",
              "      <td>0</td>\n",
              "      <td>0</td>\n",
              "      <td>0</td>\n",
              "      <td>0</td>\n",
              "      <td>0</td>\n",
              "      <td>0</td>\n",
              "      <td>0</td>\n",
              "      <td>0</td>\n",
              "      <td>0</td>\n",
              "      <td>0</td>\n",
              "      <td>0</td>\n",
              "      <td>0</td>\n",
              "      <td>0</td>\n",
              "      <td>0</td>\n",
              "      <td>0</td>\n",
              "      <td>0</td>\n",
              "      <td>...</td>\n",
              "      <td>76</td>\n",
              "      <td>76</td>\n",
              "      <td>76</td>\n",
              "      <td>76</td>\n",
              "      <td>76</td>\n",
              "      <td>76</td>\n",
              "      <td>76</td>\n",
              "      <td>76</td>\n",
              "      <td>76</td>\n",
              "      <td>76</td>\n",
              "      <td>76</td>\n",
              "      <td>76</td>\n",
              "      <td>76</td>\n",
              "      <td>76</td>\n",
              "      <td>77</td>\n",
              "      <td>77</td>\n",
              "      <td>78</td>\n",
              "      <td>78</td>\n",
              "      <td>78</td>\n",
              "      <td>78</td>\n",
              "      <td>78</td>\n",
              "      <td>78</td>\n",
              "      <td>78</td>\n",
              "      <td>78</td>\n",
              "      <td>79</td>\n",
              "      <td>79</td>\n",
              "      <td>79</td>\n",
              "      <td>79</td>\n",
              "      <td>79</td>\n",
              "      <td>80</td>\n",
              "      <td>80</td>\n",
              "      <td>81</td>\n",
              "      <td>81</td>\n",
              "      <td>82</td>\n",
              "      <td>82</td>\n",
              "      <td>83</td>\n",
              "      <td>83</td>\n",
              "      <td>83</td>\n",
              "      <td>83</td>\n",
              "      <td>83</td>\n",
              "    </tr>\n",
              "    <tr>\n",
              "      <th>4</th>\n",
              "      <td>Angola</td>\n",
              "      <td>0</td>\n",
              "      <td>0</td>\n",
              "      <td>0</td>\n",
              "      <td>0</td>\n",
              "      <td>0</td>\n",
              "      <td>0</td>\n",
              "      <td>0</td>\n",
              "      <td>0</td>\n",
              "      <td>0</td>\n",
              "      <td>0</td>\n",
              "      <td>0</td>\n",
              "      <td>0</td>\n",
              "      <td>0</td>\n",
              "      <td>0</td>\n",
              "      <td>0</td>\n",
              "      <td>0</td>\n",
              "      <td>0</td>\n",
              "      <td>0</td>\n",
              "      <td>0</td>\n",
              "      <td>0</td>\n",
              "      <td>0</td>\n",
              "      <td>0</td>\n",
              "      <td>0</td>\n",
              "      <td>0</td>\n",
              "      <td>0</td>\n",
              "      <td>0</td>\n",
              "      <td>0</td>\n",
              "      <td>0</td>\n",
              "      <td>0</td>\n",
              "      <td>0</td>\n",
              "      <td>0</td>\n",
              "      <td>0</td>\n",
              "      <td>0</td>\n",
              "      <td>0</td>\n",
              "      <td>0</td>\n",
              "      <td>0</td>\n",
              "      <td>0</td>\n",
              "      <td>0</td>\n",
              "      <td>0</td>\n",
              "      <td>...</td>\n",
              "      <td>333</td>\n",
              "      <td>334</td>\n",
              "      <td>336</td>\n",
              "      <td>337</td>\n",
              "      <td>337</td>\n",
              "      <td>338</td>\n",
              "      <td>340</td>\n",
              "      <td>341</td>\n",
              "      <td>342</td>\n",
              "      <td>345</td>\n",
              "      <td>346</td>\n",
              "      <td>348</td>\n",
              "      <td>350</td>\n",
              "      <td>351</td>\n",
              "      <td>352</td>\n",
              "      <td>353</td>\n",
              "      <td>354</td>\n",
              "      <td>354</td>\n",
              "      <td>354</td>\n",
              "      <td>355</td>\n",
              "      <td>358</td>\n",
              "      <td>362</td>\n",
              "      <td>365</td>\n",
              "      <td>366</td>\n",
              "      <td>371</td>\n",
              "      <td>372</td>\n",
              "      <td>372</td>\n",
              "      <td>379</td>\n",
              "      <td>382</td>\n",
              "      <td>384</td>\n",
              "      <td>386</td>\n",
              "      <td>387</td>\n",
              "      <td>390</td>\n",
              "      <td>393</td>\n",
              "      <td>393</td>\n",
              "      <td>393</td>\n",
              "      <td>396</td>\n",
              "      <td>399</td>\n",
              "      <td>399</td>\n",
              "      <td>403</td>\n",
              "    </tr>\n",
              "  </tbody>\n",
              "</table>\n",
              "<p>5 rows × 343 columns</p>\n",
              "</div>"
            ],
            "text/plain": [
              "       country  1/22/20  1/23/20  ...  12/26/20  12/27/20  12/28/20\n",
              "0  Afghanistan        0        0  ...      2149      2160      2174\n",
              "1      Albania        0        0  ...      1143      1153      1164\n",
              "2      Algeria        0        0  ...      2722      2728      2737\n",
              "3      Andorra        0        0  ...        83        83        83\n",
              "4       Angola        0        0  ...       399       399       403\n",
              "\n",
              "[5 rows x 343 columns]"
            ]
          },
          "metadata": {
            "tags": []
          },
          "execution_count": 9
        }
      ]
    },
    {
      "cell_type": "code",
      "metadata": {
        "id": "VtlasGqFPxTr",
        "colab": {
          "base_uri": "https://localhost:8080/",
          "height": 251
        },
        "outputId": "16e86157-88bd-4a7b-f42f-98a816ba8467"
      },
      "source": [
        "recovered_global.head()"
      ],
      "execution_count": null,
      "outputs": [
        {
          "output_type": "execute_result",
          "data": {
            "text/html": [
              "<div>\n",
              "<style scoped>\n",
              "    .dataframe tbody tr th:only-of-type {\n",
              "        vertical-align: middle;\n",
              "    }\n",
              "\n",
              "    .dataframe tbody tr th {\n",
              "        vertical-align: top;\n",
              "    }\n",
              "\n",
              "    .dataframe thead th {\n",
              "        text-align: right;\n",
              "    }\n",
              "</style>\n",
              "<table border=\"1\" class=\"dataframe\">\n",
              "  <thead>\n",
              "    <tr style=\"text-align: right;\">\n",
              "      <th></th>\n",
              "      <th>country</th>\n",
              "      <th>1/22/20</th>\n",
              "      <th>1/23/20</th>\n",
              "      <th>1/24/20</th>\n",
              "      <th>1/25/20</th>\n",
              "      <th>1/26/20</th>\n",
              "      <th>1/27/20</th>\n",
              "      <th>1/28/20</th>\n",
              "      <th>1/29/20</th>\n",
              "      <th>1/30/20</th>\n",
              "      <th>1/31/20</th>\n",
              "      <th>2/1/20</th>\n",
              "      <th>2/2/20</th>\n",
              "      <th>2/3/20</th>\n",
              "      <th>2/4/20</th>\n",
              "      <th>2/5/20</th>\n",
              "      <th>2/6/20</th>\n",
              "      <th>2/7/20</th>\n",
              "      <th>2/8/20</th>\n",
              "      <th>2/9/20</th>\n",
              "      <th>2/10/20</th>\n",
              "      <th>2/11/20</th>\n",
              "      <th>2/12/20</th>\n",
              "      <th>2/13/20</th>\n",
              "      <th>2/14/20</th>\n",
              "      <th>2/15/20</th>\n",
              "      <th>2/16/20</th>\n",
              "      <th>2/17/20</th>\n",
              "      <th>2/18/20</th>\n",
              "      <th>2/19/20</th>\n",
              "      <th>2/20/20</th>\n",
              "      <th>2/21/20</th>\n",
              "      <th>2/22/20</th>\n",
              "      <th>2/23/20</th>\n",
              "      <th>2/24/20</th>\n",
              "      <th>2/25/20</th>\n",
              "      <th>2/26/20</th>\n",
              "      <th>2/27/20</th>\n",
              "      <th>2/28/20</th>\n",
              "      <th>2/29/20</th>\n",
              "      <th>...</th>\n",
              "      <th>11/19/20</th>\n",
              "      <th>11/20/20</th>\n",
              "      <th>11/21/20</th>\n",
              "      <th>11/22/20</th>\n",
              "      <th>11/23/20</th>\n",
              "      <th>11/24/20</th>\n",
              "      <th>11/25/20</th>\n",
              "      <th>11/26/20</th>\n",
              "      <th>11/27/20</th>\n",
              "      <th>11/28/20</th>\n",
              "      <th>11/29/20</th>\n",
              "      <th>11/30/20</th>\n",
              "      <th>12/1/20</th>\n",
              "      <th>12/2/20</th>\n",
              "      <th>12/3/20</th>\n",
              "      <th>12/4/20</th>\n",
              "      <th>12/5/20</th>\n",
              "      <th>12/6/20</th>\n",
              "      <th>12/7/20</th>\n",
              "      <th>12/8/20</th>\n",
              "      <th>12/9/20</th>\n",
              "      <th>12/10/20</th>\n",
              "      <th>12/11/20</th>\n",
              "      <th>12/12/20</th>\n",
              "      <th>12/13/20</th>\n",
              "      <th>12/14/20</th>\n",
              "      <th>12/15/20</th>\n",
              "      <th>12/16/20</th>\n",
              "      <th>12/17/20</th>\n",
              "      <th>12/18/20</th>\n",
              "      <th>12/19/20</th>\n",
              "      <th>12/20/20</th>\n",
              "      <th>12/21/20</th>\n",
              "      <th>12/22/20</th>\n",
              "      <th>12/23/20</th>\n",
              "      <th>12/24/20</th>\n",
              "      <th>12/25/20</th>\n",
              "      <th>12/26/20</th>\n",
              "      <th>12/27/20</th>\n",
              "      <th>12/28/20</th>\n",
              "    </tr>\n",
              "  </thead>\n",
              "  <tbody>\n",
              "    <tr>\n",
              "      <th>0</th>\n",
              "      <td>Afghanistan</td>\n",
              "      <td>0</td>\n",
              "      <td>0</td>\n",
              "      <td>0</td>\n",
              "      <td>0</td>\n",
              "      <td>0</td>\n",
              "      <td>0</td>\n",
              "      <td>0</td>\n",
              "      <td>0</td>\n",
              "      <td>0</td>\n",
              "      <td>0</td>\n",
              "      <td>0</td>\n",
              "      <td>0</td>\n",
              "      <td>0</td>\n",
              "      <td>0</td>\n",
              "      <td>0</td>\n",
              "      <td>0</td>\n",
              "      <td>0</td>\n",
              "      <td>0</td>\n",
              "      <td>0</td>\n",
              "      <td>0</td>\n",
              "      <td>0</td>\n",
              "      <td>0</td>\n",
              "      <td>0</td>\n",
              "      <td>0</td>\n",
              "      <td>0</td>\n",
              "      <td>0</td>\n",
              "      <td>0</td>\n",
              "      <td>0</td>\n",
              "      <td>0</td>\n",
              "      <td>0</td>\n",
              "      <td>0</td>\n",
              "      <td>0</td>\n",
              "      <td>0</td>\n",
              "      <td>0</td>\n",
              "      <td>0</td>\n",
              "      <td>0</td>\n",
              "      <td>0</td>\n",
              "      <td>0</td>\n",
              "      <td>0</td>\n",
              "      <td>...</td>\n",
              "      <td>35350</td>\n",
              "      <td>35370</td>\n",
              "      <td>35422</td>\n",
              "      <td>35934</td>\n",
              "      <td>35976</td>\n",
              "      <td>36122</td>\n",
              "      <td>36145</td>\n",
              "      <td>36232</td>\n",
              "      <td>36295</td>\n",
              "      <td>36709</td>\n",
              "      <td>36716</td>\n",
              "      <td>36831</td>\n",
              "      <td>36946</td>\n",
              "      <td>37218</td>\n",
              "      <td>37260</td>\n",
              "      <td>37260</td>\n",
              "      <td>37393</td>\n",
              "      <td>37685</td>\n",
              "      <td>37879</td>\n",
              "      <td>37920</td>\n",
              "      <td>38032</td>\n",
              "      <td>38099</td>\n",
              "      <td>38141</td>\n",
              "      <td>38200</td>\n",
              "      <td>38250</td>\n",
              "      <td>38252</td>\n",
              "      <td>38336</td>\n",
              "      <td>38475</td>\n",
              "      <td>38505</td>\n",
              "      <td>38540</td>\n",
              "      <td>38613</td>\n",
              "      <td>39006</td>\n",
              "      <td>39508</td>\n",
              "      <td>39585</td>\n",
              "      <td>39692</td>\n",
              "      <td>40359</td>\n",
              "      <td>40444</td>\n",
              "      <td>40784</td>\n",
              "      <td>41096</td>\n",
              "      <td>41441</td>\n",
              "    </tr>\n",
              "    <tr>\n",
              "      <th>1</th>\n",
              "      <td>Albania</td>\n",
              "      <td>0</td>\n",
              "      <td>0</td>\n",
              "      <td>0</td>\n",
              "      <td>0</td>\n",
              "      <td>0</td>\n",
              "      <td>0</td>\n",
              "      <td>0</td>\n",
              "      <td>0</td>\n",
              "      <td>0</td>\n",
              "      <td>0</td>\n",
              "      <td>0</td>\n",
              "      <td>0</td>\n",
              "      <td>0</td>\n",
              "      <td>0</td>\n",
              "      <td>0</td>\n",
              "      <td>0</td>\n",
              "      <td>0</td>\n",
              "      <td>0</td>\n",
              "      <td>0</td>\n",
              "      <td>0</td>\n",
              "      <td>0</td>\n",
              "      <td>0</td>\n",
              "      <td>0</td>\n",
              "      <td>0</td>\n",
              "      <td>0</td>\n",
              "      <td>0</td>\n",
              "      <td>0</td>\n",
              "      <td>0</td>\n",
              "      <td>0</td>\n",
              "      <td>0</td>\n",
              "      <td>0</td>\n",
              "      <td>0</td>\n",
              "      <td>0</td>\n",
              "      <td>0</td>\n",
              "      <td>0</td>\n",
              "      <td>0</td>\n",
              "      <td>0</td>\n",
              "      <td>0</td>\n",
              "      <td>0</td>\n",
              "      <td>...</td>\n",
              "      <td>14565</td>\n",
              "      <td>15055</td>\n",
              "      <td>15469</td>\n",
              "      <td>15842</td>\n",
              "      <td>16230</td>\n",
              "      <td>16666</td>\n",
              "      <td>17031</td>\n",
              "      <td>17352</td>\n",
              "      <td>17755</td>\n",
              "      <td>18152</td>\n",
              "      <td>18481</td>\n",
              "      <td>18849</td>\n",
              "      <td>19384</td>\n",
              "      <td>19912</td>\n",
              "      <td>20484</td>\n",
              "      <td>20974</td>\n",
              "      <td>21286</td>\n",
              "      <td>21617</td>\n",
              "      <td>22180</td>\n",
              "      <td>22527</td>\n",
              "      <td>23072</td>\n",
              "      <td>23609</td>\n",
              "      <td>24136</td>\n",
              "      <td>24520</td>\n",
              "      <td>24820</td>\n",
              "      <td>24820</td>\n",
              "      <td>25876</td>\n",
              "      <td>26381</td>\n",
              "      <td>26898</td>\n",
              "      <td>27426</td>\n",
              "      <td>27831</td>\n",
              "      <td>28121</td>\n",
              "      <td>28752</td>\n",
              "      <td>29249</td>\n",
              "      <td>29799</td>\n",
              "      <td>30276</td>\n",
              "      <td>30790</td>\n",
              "      <td>31181</td>\n",
              "      <td>31565</td>\n",
              "      <td>32122</td>\n",
              "    </tr>\n",
              "    <tr>\n",
              "      <th>2</th>\n",
              "      <td>Algeria</td>\n",
              "      <td>0</td>\n",
              "      <td>0</td>\n",
              "      <td>0</td>\n",
              "      <td>0</td>\n",
              "      <td>0</td>\n",
              "      <td>0</td>\n",
              "      <td>0</td>\n",
              "      <td>0</td>\n",
              "      <td>0</td>\n",
              "      <td>0</td>\n",
              "      <td>0</td>\n",
              "      <td>0</td>\n",
              "      <td>0</td>\n",
              "      <td>0</td>\n",
              "      <td>0</td>\n",
              "      <td>0</td>\n",
              "      <td>0</td>\n",
              "      <td>0</td>\n",
              "      <td>0</td>\n",
              "      <td>0</td>\n",
              "      <td>0</td>\n",
              "      <td>0</td>\n",
              "      <td>0</td>\n",
              "      <td>0</td>\n",
              "      <td>0</td>\n",
              "      <td>0</td>\n",
              "      <td>0</td>\n",
              "      <td>0</td>\n",
              "      <td>0</td>\n",
              "      <td>0</td>\n",
              "      <td>0</td>\n",
              "      <td>0</td>\n",
              "      <td>0</td>\n",
              "      <td>0</td>\n",
              "      <td>0</td>\n",
              "      <td>0</td>\n",
              "      <td>0</td>\n",
              "      <td>0</td>\n",
              "      <td>0</td>\n",
              "      <td>...</td>\n",
              "      <td>46962</td>\n",
              "      <td>47581</td>\n",
              "      <td>48183</td>\n",
              "      <td>48794</td>\n",
              "      <td>49421</td>\n",
              "      <td>50070</td>\n",
              "      <td>50712</td>\n",
              "      <td>51334</td>\n",
              "      <td>51946</td>\n",
              "      <td>52568</td>\n",
              "      <td>53204</td>\n",
              "      <td>53809</td>\n",
              "      <td>54405</td>\n",
              "      <td>54990</td>\n",
              "      <td>55538</td>\n",
              "      <td>56079</td>\n",
              "      <td>56617</td>\n",
              "      <td>57146</td>\n",
              "      <td>57648</td>\n",
              "      <td>58146</td>\n",
              "      <td>58146</td>\n",
              "      <td>59135</td>\n",
              "      <td>59590</td>\n",
              "      <td>60028</td>\n",
              "      <td>60457</td>\n",
              "      <td>60888</td>\n",
              "      <td>61307</td>\n",
              "      <td>61700</td>\n",
              "      <td>62089</td>\n",
              "      <td>62487</td>\n",
              "      <td>62869</td>\n",
              "      <td>63260</td>\n",
              "      <td>63644</td>\n",
              "      <td>64020</td>\n",
              "      <td>64401</td>\n",
              "      <td>64777</td>\n",
              "      <td>65144</td>\n",
              "      <td>65505</td>\n",
              "      <td>65862</td>\n",
              "      <td>66214</td>\n",
              "    </tr>\n",
              "    <tr>\n",
              "      <th>3</th>\n",
              "      <td>Andorra</td>\n",
              "      <td>0</td>\n",
              "      <td>0</td>\n",
              "      <td>0</td>\n",
              "      <td>0</td>\n",
              "      <td>0</td>\n",
              "      <td>0</td>\n",
              "      <td>0</td>\n",
              "      <td>0</td>\n",
              "      <td>0</td>\n",
              "      <td>0</td>\n",
              "      <td>0</td>\n",
              "      <td>0</td>\n",
              "      <td>0</td>\n",
              "      <td>0</td>\n",
              "      <td>0</td>\n",
              "      <td>0</td>\n",
              "      <td>0</td>\n",
              "      <td>0</td>\n",
              "      <td>0</td>\n",
              "      <td>0</td>\n",
              "      <td>0</td>\n",
              "      <td>0</td>\n",
              "      <td>0</td>\n",
              "      <td>0</td>\n",
              "      <td>0</td>\n",
              "      <td>0</td>\n",
              "      <td>0</td>\n",
              "      <td>0</td>\n",
              "      <td>0</td>\n",
              "      <td>0</td>\n",
              "      <td>0</td>\n",
              "      <td>0</td>\n",
              "      <td>0</td>\n",
              "      <td>0</td>\n",
              "      <td>0</td>\n",
              "      <td>0</td>\n",
              "      <td>0</td>\n",
              "      <td>0</td>\n",
              "      <td>0</td>\n",
              "      <td>...</td>\n",
              "      <td>5127</td>\n",
              "      <td>5239</td>\n",
              "      <td>5290</td>\n",
              "      <td>5358</td>\n",
              "      <td>5405</td>\n",
              "      <td>5503</td>\n",
              "      <td>5542</td>\n",
              "      <td>5649</td>\n",
              "      <td>5710</td>\n",
              "      <td>5710</td>\n",
              "      <td>5794</td>\n",
              "      <td>5873</td>\n",
              "      <td>5940</td>\n",
              "      <td>5988</td>\n",
              "      <td>6066</td>\n",
              "      <td>6130</td>\n",
              "      <td>6171</td>\n",
              "      <td>6238</td>\n",
              "      <td>6293</td>\n",
              "      <td>6367</td>\n",
              "      <td>6452</td>\n",
              "      <td>6505</td>\n",
              "      <td>6598</td>\n",
              "      <td>6629</td>\n",
              "      <td>6629</td>\n",
              "      <td>6706</td>\n",
              "      <td>6706</td>\n",
              "      <td>6819</td>\n",
              "      <td>6875</td>\n",
              "      <td>6919</td>\n",
              "      <td>6963</td>\n",
              "      <td>6997</td>\n",
              "      <td>7028</td>\n",
              "      <td>7073</td>\n",
              "      <td>7106</td>\n",
              "      <td>7171</td>\n",
              "      <td>7203</td>\n",
              "      <td>7252</td>\n",
              "      <td>7288</td>\n",
              "      <td>7318</td>\n",
              "    </tr>\n",
              "    <tr>\n",
              "      <th>4</th>\n",
              "      <td>Angola</td>\n",
              "      <td>0</td>\n",
              "      <td>0</td>\n",
              "      <td>0</td>\n",
              "      <td>0</td>\n",
              "      <td>0</td>\n",
              "      <td>0</td>\n",
              "      <td>0</td>\n",
              "      <td>0</td>\n",
              "      <td>0</td>\n",
              "      <td>0</td>\n",
              "      <td>0</td>\n",
              "      <td>0</td>\n",
              "      <td>0</td>\n",
              "      <td>0</td>\n",
              "      <td>0</td>\n",
              "      <td>0</td>\n",
              "      <td>0</td>\n",
              "      <td>0</td>\n",
              "      <td>0</td>\n",
              "      <td>0</td>\n",
              "      <td>0</td>\n",
              "      <td>0</td>\n",
              "      <td>0</td>\n",
              "      <td>0</td>\n",
              "      <td>0</td>\n",
              "      <td>0</td>\n",
              "      <td>0</td>\n",
              "      <td>0</td>\n",
              "      <td>0</td>\n",
              "      <td>0</td>\n",
              "      <td>0</td>\n",
              "      <td>0</td>\n",
              "      <td>0</td>\n",
              "      <td>0</td>\n",
              "      <td>0</td>\n",
              "      <td>0</td>\n",
              "      <td>0</td>\n",
              "      <td>0</td>\n",
              "      <td>0</td>\n",
              "      <td>...</td>\n",
              "      <td>7062</td>\n",
              "      <td>7117</td>\n",
              "      <td>7273</td>\n",
              "      <td>7346</td>\n",
              "      <td>7351</td>\n",
              "      <td>7444</td>\n",
              "      <td>7517</td>\n",
              "      <td>7617</td>\n",
              "      <td>7697</td>\n",
              "      <td>7763</td>\n",
              "      <td>7763</td>\n",
              "      <td>7851</td>\n",
              "      <td>7932</td>\n",
              "      <td>8139</td>\n",
              "      <td>8244</td>\n",
              "      <td>8299</td>\n",
              "      <td>8335</td>\n",
              "      <td>8338</td>\n",
              "      <td>8353</td>\n",
              "      <td>8470</td>\n",
              "      <td>8579</td>\n",
              "      <td>8679</td>\n",
              "      <td>8798</td>\n",
              "      <td>8841</td>\n",
              "      <td>8898</td>\n",
              "      <td>8924</td>\n",
              "      <td>8990</td>\n",
              "      <td>9194</td>\n",
              "      <td>9266</td>\n",
              "      <td>9345</td>\n",
              "      <td>9518</td>\n",
              "      <td>9592</td>\n",
              "      <td>9695</td>\n",
              "      <td>9729</td>\n",
              "      <td>9729</td>\n",
              "      <td>9729</td>\n",
              "      <td>9921</td>\n",
              "      <td>9976</td>\n",
              "      <td>10354</td>\n",
              "      <td>10354</td>\n",
              "    </tr>\n",
              "  </tbody>\n",
              "</table>\n",
              "<p>5 rows × 343 columns</p>\n",
              "</div>"
            ],
            "text/plain": [
              "       country  1/22/20  1/23/20  ...  12/26/20  12/27/20  12/28/20\n",
              "0  Afghanistan        0        0  ...     40784     41096     41441\n",
              "1      Albania        0        0  ...     31181     31565     32122\n",
              "2      Algeria        0        0  ...     65505     65862     66214\n",
              "3      Andorra        0        0  ...      7252      7288      7318\n",
              "4       Angola        0        0  ...      9976     10354     10354\n",
              "\n",
              "[5 rows x 343 columns]"
            ]
          },
          "metadata": {
            "tags": []
          },
          "execution_count": 10
        }
      ]
    },
    {
      "cell_type": "code",
      "metadata": {
        "id": "lmhfQcgJPxTs",
        "colab": {
          "base_uri": "https://localhost:8080/",
          "height": 395
        },
        "outputId": "e01e6478-f4a2-4203-83a7-2fe148484858"
      },
      "source": [
        "country_cases_sorted.head()"
      ],
      "execution_count": null,
      "outputs": [
        {
          "output_type": "execute_result",
          "data": {
            "text/html": [
              "<div>\n",
              "<style scoped>\n",
              "    .dataframe tbody tr th:only-of-type {\n",
              "        vertical-align: middle;\n",
              "    }\n",
              "\n",
              "    .dataframe tbody tr th {\n",
              "        vertical-align: top;\n",
              "    }\n",
              "\n",
              "    .dataframe thead th {\n",
              "        text-align: right;\n",
              "    }\n",
              "</style>\n",
              "<table border=\"1\" class=\"dataframe\">\n",
              "  <thead>\n",
              "    <tr style=\"text-align: right;\">\n",
              "      <th></th>\n",
              "      <th>country</th>\n",
              "      <th>last</th>\n",
              "      <th>Lat</th>\n",
              "      <th>Long_</th>\n",
              "      <th>confirmed</th>\n",
              "      <th>deaths</th>\n",
              "      <th>recovered</th>\n",
              "      <th>active</th>\n",
              "      <th>Incident_Rate</th>\n",
              "      <th>mortality</th>\n",
              "      <th>UID</th>\n",
              "      <th>ISO3</th>\n",
              "    </tr>\n",
              "  </thead>\n",
              "  <tbody>\n",
              "    <tr>\n",
              "      <th>0</th>\n",
              "      <td>US</td>\n",
              "      <td>2020-12-30 03:54:35</td>\n",
              "      <td>40.000000</td>\n",
              "      <td>-100.00000</td>\n",
              "      <td>19556928.0</td>\n",
              "      <td>338561.0</td>\n",
              "      <td>NaN</td>\n",
              "      <td>19218367.0</td>\n",
              "      <td>5935.942161</td>\n",
              "      <td>1.731156</td>\n",
              "      <td>840</td>\n",
              "      <td>USA</td>\n",
              "    </tr>\n",
              "    <tr>\n",
              "      <th>1</th>\n",
              "      <td>India</td>\n",
              "      <td>2020-12-30 03:54:35</td>\n",
              "      <td>20.593684</td>\n",
              "      <td>78.96288</td>\n",
              "      <td>10224303.0</td>\n",
              "      <td>148153.0</td>\n",
              "      <td>9807569.0</td>\n",
              "      <td>268581.0</td>\n",
              "      <td>740.889168</td>\n",
              "      <td>1.449028</td>\n",
              "      <td>356</td>\n",
              "      <td>IND</td>\n",
              "    </tr>\n",
              "    <tr>\n",
              "      <th>2</th>\n",
              "      <td>Brazil</td>\n",
              "      <td>2020-12-30 03:54:35</td>\n",
              "      <td>-14.235000</td>\n",
              "      <td>-51.92530</td>\n",
              "      <td>7563551.0</td>\n",
              "      <td>192681.0</td>\n",
              "      <td>6754111.0</td>\n",
              "      <td>616759.0</td>\n",
              "      <td>3558.323311</td>\n",
              "      <td>2.547494</td>\n",
              "      <td>76</td>\n",
              "      <td>BRA</td>\n",
              "    </tr>\n",
              "    <tr>\n",
              "      <th>3</th>\n",
              "      <td>Russia</td>\n",
              "      <td>2020-12-30 03:54:35</td>\n",
              "      <td>61.524000</td>\n",
              "      <td>105.31880</td>\n",
              "      <td>3073923.0</td>\n",
              "      <td>55107.0</td>\n",
              "      <td>2470783.0</td>\n",
              "      <td>548033.0</td>\n",
              "      <td>2106.372271</td>\n",
              "      <td>1.792725</td>\n",
              "      <td>643</td>\n",
              "      <td>RUS</td>\n",
              "    </tr>\n",
              "    <tr>\n",
              "      <th>4</th>\n",
              "      <td>France</td>\n",
              "      <td>2020-12-30 03:54:35</td>\n",
              "      <td>46.227600</td>\n",
              "      <td>2.21370</td>\n",
              "      <td>2631110.0</td>\n",
              "      <td>64204.0</td>\n",
              "      <td>197726.0</td>\n",
              "      <td>2369180.0</td>\n",
              "      <td>4030.900007</td>\n",
              "      <td>2.440187</td>\n",
              "      <td>250</td>\n",
              "      <td>FRA</td>\n",
              "    </tr>\n",
              "  </tbody>\n",
              "</table>\n",
              "</div>"
            ],
            "text/plain": [
              "  country                 last        Lat  ...  mortality  UID  ISO3\n",
              "0      US  2020-12-30 03:54:35  40.000000  ...   1.731156  840   USA\n",
              "1   India  2020-12-30 03:54:35  20.593684  ...   1.449028  356   IND\n",
              "2  Brazil  2020-12-30 03:54:35 -14.235000  ...   2.547494   76   BRA\n",
              "3  Russia  2020-12-30 03:54:35  61.524000  ...   1.792725  643   RUS\n",
              "4  France  2020-12-30 03:54:35  46.227600  ...   2.440187  250   FRA\n",
              "\n",
              "[5 rows x 12 columns]"
            ]
          },
          "metadata": {
            "tags": []
          },
          "execution_count": 11
        }
      ]
    },
    {
      "cell_type": "markdown",
      "metadata": {
        "id": "Z_hMBs6qPxTs"
      },
      "source": [
        "# Data Visualization - General Graphs"
      ]
    },
    {
      "cell_type": "markdown",
      "metadata": {
        "id": "Fdwk43aVPxTs"
      },
      "source": [
        "## Timeseries"
      ]
    },
    {
      "cell_type": "markdown",
      "metadata": {
        "id": "aHPYGFM0PxTs"
      },
      "source": [
        "### Code"
      ]
    },
    {
      "cell_type": "code",
      "metadata": {
        "id": "VEO8b2bZPxTs"
      },
      "source": [
        "def get_new_cases(country):\n",
        "    time_series = confirmed_global.melt(\n",
        "        id_vars=[\"country\"], var_name=\"date\", value_name=\"cases\"\n",
        "    )\n",
        "    time_series = time_series[time_series[\"country\"] == country]\n",
        "    time_series = time_series.drop([\"country\"], axis=1)\n",
        "    time_series.index = [x for x in range(len(time_series))]\n",
        "    return time_series"
      ],
      "execution_count": null,
      "outputs": []
    },
    {
      "cell_type": "code",
      "metadata": {
        "id": "at_mY-P8PxTt"
      },
      "source": [
        "def get_new_deaths(country):\n",
        "    time_series = deaths_global.melt(\n",
        "        id_vars=[\"country\"], var_name=\"date\", value_name=\"cases\"\n",
        "    )\n",
        "    time_series = time_series[time_series[\"country\"] == country]\n",
        "    time_series = time_series.drop([\"country\"], axis=1)\n",
        "    time_series.index = [x for x in range(len(time_series))]\n",
        "    return time_series"
      ],
      "execution_count": null,
      "outputs": []
    },
    {
      "cell_type": "code",
      "metadata": {
        "id": "es50uMx2PxTt"
      },
      "source": [
        "def get_new_recoveries(country):\n",
        "    time_series = recovered_global.melt(\n",
        "        id_vars=[\"country\"], var_name=\"date\", value_name=\"cases\"\n",
        "    )\n",
        "    time_series = time_series[time_series[\"country\"] == country]\n",
        "    time_series = time_series.drop([\"country\"], axis=1)\n",
        "    time_series.index = [x for x in range(len(time_series))]\n",
        "    return time_series"
      ],
      "execution_count": null,
      "outputs": []
    },
    {
      "cell_type": "code",
      "metadata": {
        "id": "2JW7KWAnPxTt"
      },
      "source": [
        "def get_plot(time_series,name):\n",
        "    color = \"#f54842\" if \"deaths\" in name else \"#45a2ff\" if \"cases\" in name else \"#42f587\"\n",
        "    fig = px.bar(time_series, x=\"date\", y=\"cases\",color_discrete_sequence= [color]*len(time_series))\n",
        "    return fig"
      ],
      "execution_count": null,
      "outputs": []
    },
    {
      "cell_type": "code",
      "metadata": {
        "id": "9TF0kPrzPxTt"
      },
      "source": [
        "def plot_timeseries(country_name, func_name, title,n = -90,daily = False):\n",
        "    if not daily:\n",
        "      new_confirmed_cases = func_name(country_name)[n:]\n",
        "    else:\n",
        "      confirmed_cases = func_name(country_name)\n",
        "      cases = confirmed_cases[\"cases\"].diff()[1:]\n",
        "      new_confirmed_cases = confirmed_cases[1:]\n",
        "      new_confirmed_cases[\"cases\"] = cases\n",
        "      new_confirmed_cases = new_confirmed_cases[n:]\n",
        "    fig = get_plot(new_confirmed_cases,str(func_name))\n",
        "    fig.update_layout(\n",
        "        template = 'plotly_dark',\n",
        "        title=title,\n",
        "        xaxis_title=\"Date\",\n",
        "        yaxis_title=f'Number of {\"deaths\" if \"deaths\" in title else \"new cases\"}',\n",
        "    )\n",
        "    return fig"
      ],
      "execution_count": null,
      "outputs": []
    },
    {
      "cell_type": "markdown",
      "metadata": {
        "id": "H0ghB7uqPxTt"
      },
      "source": [
        "### Examples"
      ]
    },
    {
      "cell_type": "markdown",
      "metadata": {
        "id": "oJ5gqnZyPxTt"
      },
      "source": [
        "#### US - Confirmed Cases"
      ]
    },
    {
      "cell_type": "code",
      "metadata": {
        "id": "eTv-z6jIPxTu",
        "colab": {
          "base_uri": "https://localhost:8080/",
          "height": 542
        },
        "outputId": "9fc97dd5-2ece-4b40-a22d-b9857ef2948e"
      },
      "source": [
        "plot_timeseries(\"US\", get_new_cases, \"Confirmed Cases\")"
      ],
      "execution_count": null,
      "outputs": [
        {
          "output_type": "display_data",
          "data": {
            "text/html": [
              "<html>\n",
              "<head><meta charset=\"utf-8\" /></head>\n",
              "<body>\n",
              "    <div>            <script src=\"https://cdnjs.cloudflare.com/ajax/libs/mathjax/2.7.5/MathJax.js?config=TeX-AMS-MML_SVG\"></script><script type=\"text/javascript\">if (window.MathJax) {MathJax.Hub.Config({SVG: {font: \"STIX-Web\"}});}</script>                <script type=\"text/javascript\">window.PlotlyConfig = {MathJaxConfig: 'local'};</script>\n",
              "        <script src=\"https://cdn.plot.ly/plotly-latest.min.js\"></script>                <div id=\"6f73bb3d-c90d-44e8-9dee-2e3a12d87e57\" class=\"plotly-graph-div\" style=\"height:525px; width:100%;\"></div>            <script type=\"text/javascript\">                                    window.PLOTLYENV=window.PLOTLYENV || {};                                    if (document.getElementById(\"6f73bb3d-c90d-44e8-9dee-2e3a12d87e57\")) {                    Plotly.newPlot(                        \"6f73bb3d-c90d-44e8-9dee-2e3a12d87e57\",                        [{\"alignmentgroup\": \"True\", \"hovertemplate\": \"date=%{x}<br>cases=%{y}<extra></extra>\", \"legendgroup\": \"\", \"marker\": {\"color\": \"#45a2ff\"}, \"name\": \"\", \"offsetgroup\": \"\", \"orientation\": \"v\", \"showlegend\": false, \"textposition\": \"auto\", \"type\": \"bar\", \"x\": [\"9/30/20\", \"10/1/20\", \"10/2/20\", \"10/3/20\", \"10/4/20\", \"10/5/20\", \"10/6/20\", \"10/7/20\", \"10/8/20\", \"10/9/20\", \"10/10/20\", \"10/11/20\", \"10/12/20\", \"10/13/20\", \"10/14/20\", \"10/15/20\", \"10/16/20\", \"10/17/20\", \"10/18/20\", \"10/19/20\", \"10/20/20\", \"10/21/20\", \"10/22/20\", \"10/23/20\", \"10/24/20\", \"10/25/20\", \"10/26/20\", \"10/27/20\", \"10/28/20\", \"10/29/20\", \"10/30/20\", \"10/31/20\", \"11/1/20\", \"11/2/20\", \"11/3/20\", \"11/4/20\", \"11/5/20\", \"11/6/20\", \"11/7/20\", \"11/8/20\", \"11/9/20\", \"11/10/20\", \"11/11/20\", \"11/12/20\", \"11/13/20\", \"11/14/20\", \"11/15/20\", \"11/16/20\", \"11/17/20\", \"11/18/20\", \"11/19/20\", \"11/20/20\", \"11/21/20\", \"11/22/20\", \"11/23/20\", \"11/24/20\", \"11/25/20\", \"11/26/20\", \"11/27/20\", \"11/28/20\", \"11/29/20\", \"11/30/20\", \"12/1/20\", \"12/2/20\", \"12/3/20\", \"12/4/20\", \"12/5/20\", \"12/6/20\", \"12/7/20\", \"12/8/20\", \"12/9/20\", \"12/10/20\", \"12/11/20\", \"12/12/20\", \"12/13/20\", \"12/14/20\", \"12/15/20\", \"12/16/20\", \"12/17/20\", \"12/18/20\", \"12/19/20\", \"12/20/20\", \"12/21/20\", \"12/22/20\", \"12/23/20\", \"12/24/20\", \"12/25/20\", \"12/26/20\", \"12/27/20\", \"12/28/20\"], \"xaxis\": \"x\", \"y\": [7222881, 7268302, 7322880, 7371323, 7407543, 7446617, 7491223, 7541936, 7600491, 7656408, 7710911, 7757365, 7798720, 7850389, 7909706, 7974242, 8042848, 8099510, 8148923, 8216029, 8277478, 8340175, 8415938, 8497251, 8579957, 8641994, 8708816, 8784844, 8863322, 8953646, 9052200, 9141412, 9245669, 9329001, 9455121, 9558593, 9686491, 9813335, 9941908, 10052485, 10174139, 10313440, 10459107, 10621167, 10800451, 10968665, 11105231, 11264767, 11425296, 11597433, 11787243, 11983958, 12164594, 12311514, 12479985, 12654299, 12837540, 12951974, 13156157, 13312157, 13450477, 13607866, 13791945, 13992765, 14212649, 14442788, 14658875, 14840269, 15030195, 15249204, 15471133, 15698737, 15933420, 16152668, 16344409, 16538023, 16735333, 16982157, 17219177, 17468841, 17665284, 17853731, 18045048, 18239758, 18466484, 18665343, 18765529, 18992126, 19142603, 19309281], \"yaxis\": \"y\"}],                        {\"barmode\": \"relative\", \"legend\": {\"tracegroupgap\": 0}, \"margin\": {\"t\": 60}, \"template\": {\"data\": {\"bar\": [{\"error_x\": {\"color\": \"#f2f5fa\"}, \"error_y\": {\"color\": \"#f2f5fa\"}, \"marker\": {\"line\": {\"color\": \"rgb(17,17,17)\", \"width\": 0.5}}, \"type\": \"bar\"}], \"barpolar\": [{\"marker\": {\"line\": {\"color\": \"rgb(17,17,17)\", \"width\": 0.5}}, \"type\": \"barpolar\"}], \"carpet\": [{\"aaxis\": {\"endlinecolor\": \"#A2B1C6\", \"gridcolor\": \"#506784\", \"linecolor\": \"#506784\", \"minorgridcolor\": \"#506784\", \"startlinecolor\": \"#A2B1C6\"}, \"baxis\": {\"endlinecolor\": \"#A2B1C6\", \"gridcolor\": \"#506784\", \"linecolor\": \"#506784\", \"minorgridcolor\": \"#506784\", \"startlinecolor\": \"#A2B1C6\"}, \"type\": \"carpet\"}], \"choropleth\": [{\"colorbar\": {\"outlinewidth\": 0, \"ticks\": \"\"}, \"type\": \"choropleth\"}], \"contour\": [{\"colorbar\": {\"outlinewidth\": 0, \"ticks\": \"\"}, \"colorscale\": [[0.0, \"#0d0887\"], [0.1111111111111111, \"#46039f\"], [0.2222222222222222, \"#7201a8\"], [0.3333333333333333, \"#9c179e\"], [0.4444444444444444, \"#bd3786\"], [0.5555555555555556, \"#d8576b\"], [0.6666666666666666, \"#ed7953\"], [0.7777777777777778, \"#fb9f3a\"], [0.8888888888888888, \"#fdca26\"], [1.0, \"#f0f921\"]], \"type\": \"contour\"}], \"contourcarpet\": [{\"colorbar\": {\"outlinewidth\": 0, \"ticks\": \"\"}, \"type\": \"contourcarpet\"}], \"heatmap\": [{\"colorbar\": {\"outlinewidth\": 0, \"ticks\": \"\"}, \"colorscale\": [[0.0, \"#0d0887\"], [0.1111111111111111, \"#46039f\"], [0.2222222222222222, \"#7201a8\"], [0.3333333333333333, \"#9c179e\"], [0.4444444444444444, \"#bd3786\"], [0.5555555555555556, \"#d8576b\"], [0.6666666666666666, \"#ed7953\"], [0.7777777777777778, \"#fb9f3a\"], [0.8888888888888888, \"#fdca26\"], [1.0, \"#f0f921\"]], \"type\": \"heatmap\"}], \"heatmapgl\": [{\"colorbar\": {\"outlinewidth\": 0, \"ticks\": \"\"}, \"colorscale\": [[0.0, \"#0d0887\"], [0.1111111111111111, \"#46039f\"], [0.2222222222222222, \"#7201a8\"], [0.3333333333333333, \"#9c179e\"], [0.4444444444444444, \"#bd3786\"], [0.5555555555555556, \"#d8576b\"], [0.6666666666666666, \"#ed7953\"], [0.7777777777777778, \"#fb9f3a\"], [0.8888888888888888, \"#fdca26\"], [1.0, \"#f0f921\"]], \"type\": \"heatmapgl\"}], \"histogram\": [{\"marker\": {\"colorbar\": {\"outlinewidth\": 0, \"ticks\": \"\"}}, \"type\": \"histogram\"}], \"histogram2d\": [{\"colorbar\": {\"outlinewidth\": 0, \"ticks\": \"\"}, \"colorscale\": [[0.0, \"#0d0887\"], [0.1111111111111111, \"#46039f\"], [0.2222222222222222, \"#7201a8\"], [0.3333333333333333, \"#9c179e\"], [0.4444444444444444, \"#bd3786\"], [0.5555555555555556, \"#d8576b\"], [0.6666666666666666, \"#ed7953\"], [0.7777777777777778, \"#fb9f3a\"], [0.8888888888888888, \"#fdca26\"], [1.0, \"#f0f921\"]], \"type\": \"histogram2d\"}], \"histogram2dcontour\": [{\"colorbar\": {\"outlinewidth\": 0, \"ticks\": \"\"}, \"colorscale\": [[0.0, \"#0d0887\"], [0.1111111111111111, \"#46039f\"], [0.2222222222222222, \"#7201a8\"], [0.3333333333333333, \"#9c179e\"], [0.4444444444444444, \"#bd3786\"], [0.5555555555555556, \"#d8576b\"], [0.6666666666666666, \"#ed7953\"], [0.7777777777777778, \"#fb9f3a\"], [0.8888888888888888, \"#fdca26\"], [1.0, \"#f0f921\"]], \"type\": \"histogram2dcontour\"}], \"mesh3d\": [{\"colorbar\": {\"outlinewidth\": 0, \"ticks\": \"\"}, \"type\": \"mesh3d\"}], \"parcoords\": [{\"line\": {\"colorbar\": {\"outlinewidth\": 0, \"ticks\": \"\"}}, \"type\": \"parcoords\"}], \"pie\": [{\"automargin\": true, \"type\": \"pie\"}], \"scatter\": [{\"marker\": {\"line\": {\"color\": \"#283442\"}}, \"type\": \"scatter\"}], \"scatter3d\": [{\"line\": {\"colorbar\": {\"outlinewidth\": 0, \"ticks\": \"\"}}, \"marker\": {\"colorbar\": {\"outlinewidth\": 0, \"ticks\": \"\"}}, \"type\": \"scatter3d\"}], \"scattercarpet\": [{\"marker\": {\"colorbar\": {\"outlinewidth\": 0, \"ticks\": \"\"}}, \"type\": \"scattercarpet\"}], \"scattergeo\": [{\"marker\": {\"colorbar\": {\"outlinewidth\": 0, \"ticks\": \"\"}}, \"type\": \"scattergeo\"}], \"scattergl\": [{\"marker\": {\"line\": {\"color\": \"#283442\"}}, \"type\": \"scattergl\"}], \"scattermapbox\": [{\"marker\": {\"colorbar\": {\"outlinewidth\": 0, \"ticks\": \"\"}}, \"type\": \"scattermapbox\"}], \"scatterpolar\": [{\"marker\": {\"colorbar\": {\"outlinewidth\": 0, \"ticks\": \"\"}}, \"type\": \"scatterpolar\"}], \"scatterpolargl\": [{\"marker\": {\"colorbar\": {\"outlinewidth\": 0, \"ticks\": \"\"}}, \"type\": \"scatterpolargl\"}], \"scatterternary\": [{\"marker\": {\"colorbar\": {\"outlinewidth\": 0, \"ticks\": \"\"}}, \"type\": \"scatterternary\"}], \"surface\": [{\"colorbar\": {\"outlinewidth\": 0, \"ticks\": \"\"}, \"colorscale\": [[0.0, \"#0d0887\"], [0.1111111111111111, \"#46039f\"], [0.2222222222222222, \"#7201a8\"], [0.3333333333333333, \"#9c179e\"], [0.4444444444444444, \"#bd3786\"], [0.5555555555555556, \"#d8576b\"], [0.6666666666666666, \"#ed7953\"], [0.7777777777777778, \"#fb9f3a\"], [0.8888888888888888, \"#fdca26\"], [1.0, \"#f0f921\"]], \"type\": \"surface\"}], \"table\": [{\"cells\": {\"fill\": {\"color\": \"#506784\"}, \"line\": {\"color\": \"rgb(17,17,17)\"}}, \"header\": {\"fill\": {\"color\": \"#2a3f5f\"}, \"line\": {\"color\": \"rgb(17,17,17)\"}}, \"type\": \"table\"}]}, \"layout\": {\"annotationdefaults\": {\"arrowcolor\": \"#f2f5fa\", \"arrowhead\": 0, \"arrowwidth\": 1}, \"autotypenumbers\": \"strict\", \"coloraxis\": {\"colorbar\": {\"outlinewidth\": 0, \"ticks\": \"\"}}, \"colorscale\": {\"diverging\": [[0, \"#8e0152\"], [0.1, \"#c51b7d\"], [0.2, \"#de77ae\"], [0.3, \"#f1b6da\"], [0.4, \"#fde0ef\"], [0.5, \"#f7f7f7\"], [0.6, \"#e6f5d0\"], [0.7, \"#b8e186\"], [0.8, \"#7fbc41\"], [0.9, \"#4d9221\"], [1, \"#276419\"]], \"sequential\": [[0.0, \"#0d0887\"], [0.1111111111111111, \"#46039f\"], [0.2222222222222222, \"#7201a8\"], [0.3333333333333333, \"#9c179e\"], [0.4444444444444444, \"#bd3786\"], [0.5555555555555556, \"#d8576b\"], [0.6666666666666666, \"#ed7953\"], [0.7777777777777778, \"#fb9f3a\"], [0.8888888888888888, \"#fdca26\"], [1.0, \"#f0f921\"]], \"sequentialminus\": [[0.0, \"#0d0887\"], [0.1111111111111111, \"#46039f\"], [0.2222222222222222, \"#7201a8\"], [0.3333333333333333, \"#9c179e\"], [0.4444444444444444, \"#bd3786\"], [0.5555555555555556, \"#d8576b\"], [0.6666666666666666, \"#ed7953\"], [0.7777777777777778, \"#fb9f3a\"], [0.8888888888888888, \"#fdca26\"], [1.0, \"#f0f921\"]]}, \"colorway\": [\"#636efa\", \"#EF553B\", \"#00cc96\", \"#ab63fa\", \"#FFA15A\", \"#19d3f3\", \"#FF6692\", \"#B6E880\", \"#FF97FF\", \"#FECB52\"], \"font\": {\"color\": \"#f2f5fa\"}, \"geo\": {\"bgcolor\": \"rgb(17,17,17)\", \"lakecolor\": \"rgb(17,17,17)\", \"landcolor\": \"rgb(17,17,17)\", \"showlakes\": true, \"showland\": true, \"subunitcolor\": \"#506784\"}, \"hoverlabel\": {\"align\": \"left\"}, \"hovermode\": \"closest\", \"mapbox\": {\"style\": \"dark\"}, \"paper_bgcolor\": \"rgb(17,17,17)\", \"plot_bgcolor\": \"rgb(17,17,17)\", \"polar\": {\"angularaxis\": {\"gridcolor\": \"#506784\", \"linecolor\": \"#506784\", \"ticks\": \"\"}, \"bgcolor\": \"rgb(17,17,17)\", \"radialaxis\": {\"gridcolor\": \"#506784\", \"linecolor\": \"#506784\", \"ticks\": \"\"}}, \"scene\": {\"xaxis\": {\"backgroundcolor\": \"rgb(17,17,17)\", \"gridcolor\": \"#506784\", \"gridwidth\": 2, \"linecolor\": \"#506784\", \"showbackground\": true, \"ticks\": \"\", \"zerolinecolor\": \"#C8D4E3\"}, \"yaxis\": {\"backgroundcolor\": \"rgb(17,17,17)\", \"gridcolor\": \"#506784\", \"gridwidth\": 2, \"linecolor\": \"#506784\", \"showbackground\": true, \"ticks\": \"\", \"zerolinecolor\": \"#C8D4E3\"}, \"zaxis\": {\"backgroundcolor\": \"rgb(17,17,17)\", \"gridcolor\": \"#506784\", \"gridwidth\": 2, \"linecolor\": \"#506784\", \"showbackground\": true, \"ticks\": \"\", \"zerolinecolor\": \"#C8D4E3\"}}, \"shapedefaults\": {\"line\": {\"color\": \"#f2f5fa\"}}, \"sliderdefaults\": {\"bgcolor\": \"#C8D4E3\", \"bordercolor\": \"rgb(17,17,17)\", \"borderwidth\": 1, \"tickwidth\": 0}, \"ternary\": {\"aaxis\": {\"gridcolor\": \"#506784\", \"linecolor\": \"#506784\", \"ticks\": \"\"}, \"baxis\": {\"gridcolor\": \"#506784\", \"linecolor\": \"#506784\", \"ticks\": \"\"}, \"bgcolor\": \"rgb(17,17,17)\", \"caxis\": {\"gridcolor\": \"#506784\", \"linecolor\": \"#506784\", \"ticks\": \"\"}}, \"title\": {\"x\": 0.05}, \"updatemenudefaults\": {\"bgcolor\": \"#506784\", \"borderwidth\": 0}, \"xaxis\": {\"automargin\": true, \"gridcolor\": \"#283442\", \"linecolor\": \"#506784\", \"ticks\": \"\", \"title\": {\"standoff\": 15}, \"zerolinecolor\": \"#283442\", \"zerolinewidth\": 2}, \"yaxis\": {\"automargin\": true, \"gridcolor\": \"#283442\", \"linecolor\": \"#506784\", \"ticks\": \"\", \"title\": {\"standoff\": 15}, \"zerolinecolor\": \"#283442\", \"zerolinewidth\": 2}}}, \"title\": {\"text\": \"Confirmed Cases\"}, \"xaxis\": {\"anchor\": \"y\", \"domain\": [0.0, 1.0], \"title\": {\"text\": \"Date\"}}, \"yaxis\": {\"anchor\": \"x\", \"domain\": [0.0, 1.0], \"title\": {\"text\": \"Number of new cases\"}}},                        {\"responsive\": true}                    ).then(function(){\n",
              "                            \n",
              "var gd = document.getElementById('6f73bb3d-c90d-44e8-9dee-2e3a12d87e57');\n",
              "var x = new MutationObserver(function (mutations, observer) {{\n",
              "        var display = window.getComputedStyle(gd).display;\n",
              "        if (!display || display === 'none') {{\n",
              "            console.log([gd, 'removed!']);\n",
              "            Plotly.purge(gd);\n",
              "            observer.disconnect();\n",
              "        }}\n",
              "}});\n",
              "\n",
              "// Listen for the removal of the full notebook cells\n",
              "var notebookContainer = gd.closest('#notebook-container');\n",
              "if (notebookContainer) {{\n",
              "    x.observe(notebookContainer, {childList: true});\n",
              "}}\n",
              "\n",
              "// Listen for the clearing of the current output cell\n",
              "var outputEl = gd.closest('.output');\n",
              "if (outputEl) {{\n",
              "    x.observe(outputEl, {childList: true});\n",
              "}}\n",
              "\n",
              "                        })                };                            </script>        </div>\n",
              "</body>\n",
              "</html>"
            ]
          },
          "metadata": {
            "tags": []
          }
        }
      ]
    },
    {
      "cell_type": "markdown",
      "metadata": {
        "id": "XYay6BUjPxTu"
      },
      "source": [
        "#### India - Recoveries (Daily: Last month)"
      ]
    },
    {
      "cell_type": "code",
      "metadata": {
        "id": "Bt6M6H3UPxTu",
        "colab": {
          "base_uri": "https://localhost:8080/",
          "height": 542
        },
        "outputId": "a98e87aa-ba61-4640-bfef-67a288dc4d99"
      },
      "source": [
        "plot_timeseries(\"India\", get_new_recoveries, \"Recoveries\",n = -30,daily = True)"
      ],
      "execution_count": null,
      "outputs": [
        {
          "output_type": "display_data",
          "data": {
            "text/html": [
              "<html>\n",
              "<head><meta charset=\"utf-8\" /></head>\n",
              "<body>\n",
              "    <div>            <script src=\"https://cdnjs.cloudflare.com/ajax/libs/mathjax/2.7.5/MathJax.js?config=TeX-AMS-MML_SVG\"></script><script type=\"text/javascript\">if (window.MathJax) {MathJax.Hub.Config({SVG: {font: \"STIX-Web\"}});}</script>                <script type=\"text/javascript\">window.PlotlyConfig = {MathJaxConfig: 'local'};</script>\n",
              "        <script src=\"https://cdn.plot.ly/plotly-latest.min.js\"></script>                <div id=\"bb9f1e96-8e18-466a-b265-441ba02aded0\" class=\"plotly-graph-div\" style=\"height:525px; width:100%;\"></div>            <script type=\"text/javascript\">                                    window.PLOTLYENV=window.PLOTLYENV || {};                                    if (document.getElementById(\"bb9f1e96-8e18-466a-b265-441ba02aded0\")) {                    Plotly.newPlot(                        \"bb9f1e96-8e18-466a-b265-441ba02aded0\",                        [{\"alignmentgroup\": \"True\", \"hovertemplate\": \"date=%{x}<br>cases=%{y}<extra></extra>\", \"legendgroup\": \"\", \"marker\": {\"color\": \"#42f587\"}, \"name\": \"\", \"offsetgroup\": \"\", \"orientation\": \"v\", \"showlegend\": false, \"textposition\": \"auto\", \"type\": \"bar\", \"x\": [\"11/29/20\", \"11/30/20\", \"12/1/20\", \"12/2/20\", \"12/3/20\", \"12/4/20\", \"12/5/20\", \"12/6/20\", \"12/7/20\", \"12/8/20\", \"12/9/20\", \"12/10/20\", \"12/11/20\", \"12/12/20\", \"12/13/20\", \"12/14/20\", \"12/15/20\", \"12/16/20\", \"12/17/20\", \"12/18/20\", \"12/19/20\", \"12/20/20\", \"12/21/20\", \"12/22/20\", \"12/23/20\", \"12/24/20\", \"12/25/20\", \"12/26/20\", \"12/27/20\", \"12/28/20\"], \"xaxis\": \"x\", \"y\": [45333.0, 41985.0, 43062.0, 40726.0, 42916.0, 42533.0, 41970.0, 39109.0, 39045.0, 36635.0, 37725.0, 37503.0, 33519.0, 33136.0, 30695.0, 34477.0, 33813.0, 33291.0, 31087.0, 29885.0, 29690.0, 25709.0, 30376.0, 26895.0, 29791.0, 24661.0, 22274.0, 21430.0, 21131.0, 24900.0], \"yaxis\": \"y\"}],                        {\"barmode\": \"relative\", \"legend\": {\"tracegroupgap\": 0}, \"margin\": {\"t\": 60}, \"template\": {\"data\": {\"bar\": [{\"error_x\": {\"color\": \"#f2f5fa\"}, \"error_y\": {\"color\": \"#f2f5fa\"}, \"marker\": {\"line\": {\"color\": \"rgb(17,17,17)\", \"width\": 0.5}}, \"type\": \"bar\"}], \"barpolar\": [{\"marker\": {\"line\": {\"color\": \"rgb(17,17,17)\", \"width\": 0.5}}, \"type\": \"barpolar\"}], \"carpet\": [{\"aaxis\": {\"endlinecolor\": \"#A2B1C6\", \"gridcolor\": \"#506784\", \"linecolor\": \"#506784\", \"minorgridcolor\": \"#506784\", \"startlinecolor\": \"#A2B1C6\"}, \"baxis\": {\"endlinecolor\": \"#A2B1C6\", \"gridcolor\": \"#506784\", \"linecolor\": \"#506784\", \"minorgridcolor\": \"#506784\", \"startlinecolor\": \"#A2B1C6\"}, \"type\": \"carpet\"}], \"choropleth\": [{\"colorbar\": {\"outlinewidth\": 0, \"ticks\": \"\"}, \"type\": \"choropleth\"}], \"contour\": [{\"colorbar\": {\"outlinewidth\": 0, \"ticks\": \"\"}, \"colorscale\": [[0.0, \"#0d0887\"], [0.1111111111111111, \"#46039f\"], [0.2222222222222222, \"#7201a8\"], [0.3333333333333333, \"#9c179e\"], [0.4444444444444444, \"#bd3786\"], [0.5555555555555556, \"#d8576b\"], [0.6666666666666666, \"#ed7953\"], [0.7777777777777778, \"#fb9f3a\"], [0.8888888888888888, \"#fdca26\"], [1.0, \"#f0f921\"]], \"type\": \"contour\"}], \"contourcarpet\": [{\"colorbar\": {\"outlinewidth\": 0, \"ticks\": \"\"}, \"type\": \"contourcarpet\"}], \"heatmap\": [{\"colorbar\": {\"outlinewidth\": 0, \"ticks\": \"\"}, \"colorscale\": [[0.0, \"#0d0887\"], [0.1111111111111111, \"#46039f\"], [0.2222222222222222, \"#7201a8\"], [0.3333333333333333, \"#9c179e\"], [0.4444444444444444, \"#bd3786\"], [0.5555555555555556, \"#d8576b\"], [0.6666666666666666, \"#ed7953\"], [0.7777777777777778, \"#fb9f3a\"], [0.8888888888888888, \"#fdca26\"], [1.0, \"#f0f921\"]], \"type\": \"heatmap\"}], \"heatmapgl\": [{\"colorbar\": {\"outlinewidth\": 0, \"ticks\": \"\"}, \"colorscale\": [[0.0, \"#0d0887\"], [0.1111111111111111, \"#46039f\"], [0.2222222222222222, \"#7201a8\"], [0.3333333333333333, \"#9c179e\"], [0.4444444444444444, \"#bd3786\"], [0.5555555555555556, \"#d8576b\"], [0.6666666666666666, \"#ed7953\"], [0.7777777777777778, \"#fb9f3a\"], [0.8888888888888888, \"#fdca26\"], [1.0, \"#f0f921\"]], \"type\": \"heatmapgl\"}], \"histogram\": [{\"marker\": {\"colorbar\": {\"outlinewidth\": 0, \"ticks\": \"\"}}, \"type\": \"histogram\"}], \"histogram2d\": [{\"colorbar\": {\"outlinewidth\": 0, \"ticks\": \"\"}, \"colorscale\": [[0.0, \"#0d0887\"], [0.1111111111111111, \"#46039f\"], [0.2222222222222222, \"#7201a8\"], [0.3333333333333333, \"#9c179e\"], [0.4444444444444444, \"#bd3786\"], [0.5555555555555556, \"#d8576b\"], [0.6666666666666666, \"#ed7953\"], [0.7777777777777778, \"#fb9f3a\"], [0.8888888888888888, \"#fdca26\"], [1.0, \"#f0f921\"]], \"type\": \"histogram2d\"}], \"histogram2dcontour\": [{\"colorbar\": {\"outlinewidth\": 0, \"ticks\": \"\"}, \"colorscale\": [[0.0, \"#0d0887\"], [0.1111111111111111, \"#46039f\"], [0.2222222222222222, \"#7201a8\"], [0.3333333333333333, \"#9c179e\"], [0.4444444444444444, \"#bd3786\"], [0.5555555555555556, \"#d8576b\"], [0.6666666666666666, \"#ed7953\"], [0.7777777777777778, \"#fb9f3a\"], [0.8888888888888888, \"#fdca26\"], [1.0, \"#f0f921\"]], \"type\": \"histogram2dcontour\"}], \"mesh3d\": [{\"colorbar\": {\"outlinewidth\": 0, \"ticks\": \"\"}, \"type\": \"mesh3d\"}], \"parcoords\": [{\"line\": {\"colorbar\": {\"outlinewidth\": 0, \"ticks\": \"\"}}, \"type\": \"parcoords\"}], \"pie\": [{\"automargin\": true, \"type\": \"pie\"}], \"scatter\": [{\"marker\": {\"line\": {\"color\": \"#283442\"}}, \"type\": \"scatter\"}], \"scatter3d\": [{\"line\": {\"colorbar\": {\"outlinewidth\": 0, \"ticks\": \"\"}}, \"marker\": {\"colorbar\": {\"outlinewidth\": 0, \"ticks\": \"\"}}, \"type\": \"scatter3d\"}], \"scattercarpet\": [{\"marker\": {\"colorbar\": {\"outlinewidth\": 0, \"ticks\": \"\"}}, \"type\": \"scattercarpet\"}], \"scattergeo\": [{\"marker\": {\"colorbar\": {\"outlinewidth\": 0, \"ticks\": \"\"}}, \"type\": \"scattergeo\"}], \"scattergl\": [{\"marker\": {\"line\": {\"color\": \"#283442\"}}, \"type\": \"scattergl\"}], \"scattermapbox\": [{\"marker\": {\"colorbar\": {\"outlinewidth\": 0, \"ticks\": \"\"}}, \"type\": \"scattermapbox\"}], \"scatterpolar\": [{\"marker\": {\"colorbar\": {\"outlinewidth\": 0, \"ticks\": \"\"}}, \"type\": \"scatterpolar\"}], \"scatterpolargl\": [{\"marker\": {\"colorbar\": {\"outlinewidth\": 0, \"ticks\": \"\"}}, \"type\": \"scatterpolargl\"}], \"scatterternary\": [{\"marker\": {\"colorbar\": {\"outlinewidth\": 0, \"ticks\": \"\"}}, \"type\": \"scatterternary\"}], \"surface\": [{\"colorbar\": {\"outlinewidth\": 0, \"ticks\": \"\"}, \"colorscale\": [[0.0, \"#0d0887\"], [0.1111111111111111, \"#46039f\"], [0.2222222222222222, \"#7201a8\"], [0.3333333333333333, \"#9c179e\"], [0.4444444444444444, \"#bd3786\"], [0.5555555555555556, \"#d8576b\"], [0.6666666666666666, \"#ed7953\"], [0.7777777777777778, \"#fb9f3a\"], [0.8888888888888888, \"#fdca26\"], [1.0, \"#f0f921\"]], \"type\": \"surface\"}], \"table\": [{\"cells\": {\"fill\": {\"color\": \"#506784\"}, \"line\": {\"color\": \"rgb(17,17,17)\"}}, \"header\": {\"fill\": {\"color\": \"#2a3f5f\"}, \"line\": {\"color\": \"rgb(17,17,17)\"}}, \"type\": \"table\"}]}, \"layout\": {\"annotationdefaults\": {\"arrowcolor\": \"#f2f5fa\", \"arrowhead\": 0, \"arrowwidth\": 1}, \"autotypenumbers\": \"strict\", \"coloraxis\": {\"colorbar\": {\"outlinewidth\": 0, \"ticks\": \"\"}}, \"colorscale\": {\"diverging\": [[0, \"#8e0152\"], [0.1, \"#c51b7d\"], [0.2, \"#de77ae\"], [0.3, \"#f1b6da\"], [0.4, \"#fde0ef\"], [0.5, \"#f7f7f7\"], [0.6, \"#e6f5d0\"], [0.7, \"#b8e186\"], [0.8, \"#7fbc41\"], [0.9, \"#4d9221\"], [1, \"#276419\"]], \"sequential\": [[0.0, \"#0d0887\"], [0.1111111111111111, \"#46039f\"], [0.2222222222222222, \"#7201a8\"], [0.3333333333333333, \"#9c179e\"], [0.4444444444444444, \"#bd3786\"], [0.5555555555555556, \"#d8576b\"], [0.6666666666666666, \"#ed7953\"], [0.7777777777777778, \"#fb9f3a\"], [0.8888888888888888, \"#fdca26\"], [1.0, \"#f0f921\"]], \"sequentialminus\": [[0.0, \"#0d0887\"], [0.1111111111111111, \"#46039f\"], [0.2222222222222222, \"#7201a8\"], [0.3333333333333333, \"#9c179e\"], [0.4444444444444444, \"#bd3786\"], [0.5555555555555556, \"#d8576b\"], [0.6666666666666666, \"#ed7953\"], [0.7777777777777778, \"#fb9f3a\"], [0.8888888888888888, \"#fdca26\"], [1.0, \"#f0f921\"]]}, \"colorway\": [\"#636efa\", \"#EF553B\", \"#00cc96\", \"#ab63fa\", \"#FFA15A\", \"#19d3f3\", \"#FF6692\", \"#B6E880\", \"#FF97FF\", \"#FECB52\"], \"font\": {\"color\": \"#f2f5fa\"}, \"geo\": {\"bgcolor\": \"rgb(17,17,17)\", \"lakecolor\": \"rgb(17,17,17)\", \"landcolor\": \"rgb(17,17,17)\", \"showlakes\": true, \"showland\": true, \"subunitcolor\": \"#506784\"}, \"hoverlabel\": {\"align\": \"left\"}, \"hovermode\": \"closest\", \"mapbox\": {\"style\": \"dark\"}, \"paper_bgcolor\": \"rgb(17,17,17)\", \"plot_bgcolor\": \"rgb(17,17,17)\", \"polar\": {\"angularaxis\": {\"gridcolor\": \"#506784\", \"linecolor\": \"#506784\", \"ticks\": \"\"}, \"bgcolor\": \"rgb(17,17,17)\", \"radialaxis\": {\"gridcolor\": \"#506784\", \"linecolor\": \"#506784\", \"ticks\": \"\"}}, \"scene\": {\"xaxis\": {\"backgroundcolor\": \"rgb(17,17,17)\", \"gridcolor\": \"#506784\", \"gridwidth\": 2, \"linecolor\": \"#506784\", \"showbackground\": true, \"ticks\": \"\", \"zerolinecolor\": \"#C8D4E3\"}, \"yaxis\": {\"backgroundcolor\": \"rgb(17,17,17)\", \"gridcolor\": \"#506784\", \"gridwidth\": 2, \"linecolor\": \"#506784\", \"showbackground\": true, \"ticks\": \"\", \"zerolinecolor\": \"#C8D4E3\"}, \"zaxis\": {\"backgroundcolor\": \"rgb(17,17,17)\", \"gridcolor\": \"#506784\", \"gridwidth\": 2, \"linecolor\": \"#506784\", \"showbackground\": true, \"ticks\": \"\", \"zerolinecolor\": \"#C8D4E3\"}}, \"shapedefaults\": {\"line\": {\"color\": \"#f2f5fa\"}}, \"sliderdefaults\": {\"bgcolor\": \"#C8D4E3\", \"bordercolor\": \"rgb(17,17,17)\", \"borderwidth\": 1, \"tickwidth\": 0}, \"ternary\": {\"aaxis\": {\"gridcolor\": \"#506784\", \"linecolor\": \"#506784\", \"ticks\": \"\"}, \"baxis\": {\"gridcolor\": \"#506784\", \"linecolor\": \"#506784\", \"ticks\": \"\"}, \"bgcolor\": \"rgb(17,17,17)\", \"caxis\": {\"gridcolor\": \"#506784\", \"linecolor\": \"#506784\", \"ticks\": \"\"}}, \"title\": {\"x\": 0.05}, \"updatemenudefaults\": {\"bgcolor\": \"#506784\", \"borderwidth\": 0}, \"xaxis\": {\"automargin\": true, \"gridcolor\": \"#283442\", \"linecolor\": \"#506784\", \"ticks\": \"\", \"title\": {\"standoff\": 15}, \"zerolinecolor\": \"#283442\", \"zerolinewidth\": 2}, \"yaxis\": {\"automargin\": true, \"gridcolor\": \"#283442\", \"linecolor\": \"#506784\", \"ticks\": \"\", \"title\": {\"standoff\": 15}, \"zerolinecolor\": \"#283442\", \"zerolinewidth\": 2}}}, \"title\": {\"text\": \"Recoveries\"}, \"xaxis\": {\"anchor\": \"y\", \"domain\": [0.0, 1.0], \"title\": {\"text\": \"Date\"}}, \"yaxis\": {\"anchor\": \"x\", \"domain\": [0.0, 1.0], \"title\": {\"text\": \"Number of new cases\"}}},                        {\"responsive\": true}                    ).then(function(){\n",
              "                            \n",
              "var gd = document.getElementById('bb9f1e96-8e18-466a-b265-441ba02aded0');\n",
              "var x = new MutationObserver(function (mutations, observer) {{\n",
              "        var display = window.getComputedStyle(gd).display;\n",
              "        if (!display || display === 'none') {{\n",
              "            console.log([gd, 'removed!']);\n",
              "            Plotly.purge(gd);\n",
              "            observer.disconnect();\n",
              "        }}\n",
              "}});\n",
              "\n",
              "// Listen for the removal of the full notebook cells\n",
              "var notebookContainer = gd.closest('#notebook-container');\n",
              "if (notebookContainer) {{\n",
              "    x.observe(notebookContainer, {childList: true});\n",
              "}}\n",
              "\n",
              "// Listen for the clearing of the current output cell\n",
              "var outputEl = gd.closest('.output');\n",
              "if (outputEl) {{\n",
              "    x.observe(outputEl, {childList: true});\n",
              "}}\n",
              "\n",
              "                        })                };                            </script>        </div>\n",
              "</body>\n",
              "</html>"
            ]
          },
          "metadata": {
            "tags": []
          }
        }
      ]
    },
    {
      "cell_type": "markdown",
      "metadata": {
        "id": "HYouTduUPxTu"
      },
      "source": [
        "## Inter-Country : Line Plot"
      ]
    },
    {
      "cell_type": "markdown",
      "metadata": {
        "id": "hptYPhk-PxTu"
      },
      "source": [
        "### Code"
      ]
    },
    {
      "cell_type": "code",
      "metadata": {
        "id": "O6gZsFaEPxTv"
      },
      "source": [
        "def unpivot(df):\n",
        "   return df.melt(id_vars = [\"country\"],  value_vars = df.columns[1:])"
      ],
      "execution_count": null,
      "outputs": []
    },
    {
      "cell_type": "code",
      "metadata": {
        "id": "yqhgGVAuPxTv"
      },
      "source": [
        "def compare(df,*args):\n",
        "  l = list(args)\n",
        "  temp = unpivot(df)\n",
        "  return temp[temp[\"country\"].isin(l)]"
      ],
      "execution_count": null,
      "outputs": []
    },
    {
      "cell_type": "code",
      "metadata": {
        "id": "Am7j4ZapPxTv"
      },
      "source": [
        "def create_data(df):\n",
        "  new = df\n",
        "  l = list(set(new[\"variable\"]))\n",
        "  l.sort()\n",
        "  l.reverse()\n",
        "  ff= new[new['variable'].isin(l[::5])]\n",
        "  ff.rename(columns = {\"country\": \"Country\",\"variable\" : \"Date\",\"value\": \"Cases\"}, inplace = True)\n",
        "  return ff"
      ],
      "execution_count": null,
      "outputs": []
    },
    {
      "cell_type": "code",
      "metadata": {
        "id": "y-dniv7FPxTv"
      },
      "source": [
        "def static_line(df,*args):\n",
        "  df = compare(df,*args)\n",
        "  ff = create_data(df) \n",
        "  fig = px.line(ff, x=\"Date\", y=\"Cases\", color=\"Country\",template=\"plotly_dark\",range_y=[0,ff[\"Cases\"].max()])\n",
        "  fig.layout.update(hovermode = \"x\")\n",
        "  return fig"
      ],
      "execution_count": null,
      "outputs": []
    },
    {
      "cell_type": "markdown",
      "metadata": {
        "id": "_rPg98r4PxTw"
      },
      "source": [
        "### Example"
      ]
    },
    {
      "cell_type": "markdown",
      "metadata": {
        "id": "6UZMxq1nPxTw"
      },
      "source": [
        "#### Recoveries - India, New Zealand, US, Brazil"
      ]
    },
    {
      "cell_type": "code",
      "metadata": {
        "id": "rHkOPsAHPxTw",
        "colab": {
          "base_uri": "https://localhost:8080/",
          "height": 542
        },
        "outputId": "22afade3-8a60-4b54-c5b0-038e18253c7f"
      },
      "source": [
        "static_line(recovered_global,\"India\",\"New Zealand\",\"US\",\"Brazil\")"
      ],
      "execution_count": null,
      "outputs": [
        {
          "output_type": "display_data",
          "data": {
            "text/html": [
              "<html>\n",
              "<head><meta charset=\"utf-8\" /></head>\n",
              "<body>\n",
              "    <div>            <script src=\"https://cdnjs.cloudflare.com/ajax/libs/mathjax/2.7.5/MathJax.js?config=TeX-AMS-MML_SVG\"></script><script type=\"text/javascript\">if (window.MathJax) {MathJax.Hub.Config({SVG: {font: \"STIX-Web\"}});}</script>                <script type=\"text/javascript\">window.PlotlyConfig = {MathJaxConfig: 'local'};</script>\n",
              "        <script src=\"https://cdn.plot.ly/plotly-latest.min.js\"></script>                <div id=\"50ce90e0-c638-495b-b91a-3e2f74b8adfd\" class=\"plotly-graph-div\" style=\"height:525px; width:100%;\"></div>            <script type=\"text/javascript\">                                    window.PLOTLYENV=window.PLOTLYENV || {};                                    if (document.getElementById(\"50ce90e0-c638-495b-b91a-3e2f74b8adfd\")) {                    Plotly.newPlot(                        \"50ce90e0-c638-495b-b91a-3e2f74b8adfd\",                        [{\"hovertemplate\": \"Country=Brazil<br>Date=%{x}<br>Cases=%{y}<extra></extra>\", \"legendgroup\": \"Brazil\", \"line\": {\"color\": \"#636efa\", \"dash\": \"solid\"}, \"mode\": \"lines\", \"name\": \"Brazil\", \"orientation\": \"v\", \"showlegend\": true, \"type\": \"scatter\", \"x\": [\"1/23/20\", \"1/28/20\", \"2/3/20\", \"2/8/20\", \"2/11/20\", \"2/16/20\", \"2/20/20\", \"2/25/20\", \"3/7/20\", \"3/12/20\", \"3/17/20\", \"3/21/20\", \"3/26/20\", \"3/30/20\", \"4/3/20\", \"4/7/20\", \"4/11/20\", \"4/16/20\", \"4/20/20\", \"4/25/20\", \"5/3/20\", \"5/6/20\", \"5/11/20\", \"5/16/20\", \"5/20/20\", \"5/25/20\", \"6/2/20\", \"6/6/20\", \"6/10/20\", \"6/15/20\", \"6/24/20\", \"6/29/20\", \"7/2/20\", \"7/5/20\", \"7/10/20\", \"7/15/20\", \"7/24/20\", \"7/29/20\", \"8/1/20\", \"8/4/20\", \"8/9/20\", \"8/14/20\", \"8/19/20\", \"8/23/20\", \"8/28/20\", \"9/4/20\", \"9/9/20\", \"9/13/20\", \"9/18/20\", \"9/22/20\", \"9/27/20\", \"10/2/20\", \"10/5/20\", \"10/10/20\", \"10/15/20\", \"10/24/20\", \"10/29/20\", \"11/1/20\", \"11/5/20\", \"11/14/20\", \"11/19/20\", \"11/23/20\", \"11/28/20\", \"12/1/20\", \"12/7/20\", \"12/14/20\", \"12/19/20\", \"12/23/20\", \"12/28/20\"], \"xaxis\": \"x\", \"y\": [0, 0, 0, 0, 0, 0, 0, 0, 0, 0, 2, 2, 6, 120, 127, 127, 173, 14026, 22130, 29160, 42991, 51370, 67384, 89672, 116683, 153833, 223638, 277149, 413916, 477709, 660469, 757811, 957692, 1029045, 1217361, 1350098, 1693214, 1922802, 2037982, 2157484, 2356983, 2616981, 2801931, 2947784, 3158783, 3464278, 3611632, 3723206, 3897539, 4016831, 4172711, 4299659, 4397882, 4502854, 4526393, 4526393, 4962574, 5022338, 5078162, 5279452, 5406066, 5481184, 5581436, 5712305, 5897526, 6158049, 6388938, 6512717, 6712757], \"yaxis\": \"y\"}, {\"hovertemplate\": \"Country=India<br>Date=%{x}<br>Cases=%{y}<extra></extra>\", \"legendgroup\": \"India\", \"line\": {\"color\": \"#EF553B\", \"dash\": \"solid\"}, \"mode\": \"lines\", \"name\": \"India\", \"orientation\": \"v\", \"showlegend\": true, \"type\": \"scatter\", \"x\": [\"1/23/20\", \"1/28/20\", \"2/3/20\", \"2/8/20\", \"2/11/20\", \"2/16/20\", \"2/20/20\", \"2/25/20\", \"3/7/20\", \"3/12/20\", \"3/17/20\", \"3/21/20\", \"3/26/20\", \"3/30/20\", \"4/3/20\", \"4/7/20\", \"4/11/20\", \"4/16/20\", \"4/20/20\", \"4/25/20\", \"5/3/20\", \"5/6/20\", \"5/11/20\", \"5/16/20\", \"5/20/20\", \"5/25/20\", \"6/2/20\", \"6/6/20\", \"6/10/20\", \"6/15/20\", \"6/24/20\", \"6/29/20\", \"7/2/20\", \"7/5/20\", \"7/10/20\", \"7/15/20\", \"7/24/20\", \"7/29/20\", \"8/1/20\", \"8/4/20\", \"8/9/20\", \"8/14/20\", \"8/19/20\", \"8/23/20\", \"8/28/20\", \"9/4/20\", \"9/9/20\", \"9/13/20\", \"9/18/20\", \"9/22/20\", \"9/27/20\", \"10/2/20\", \"10/5/20\", \"10/10/20\", \"10/15/20\", \"10/24/20\", \"10/29/20\", \"11/1/20\", \"11/5/20\", \"11/14/20\", \"11/19/20\", \"11/23/20\", \"11/28/20\", \"12/1/20\", \"12/7/20\", \"12/14/20\", \"12/19/20\", \"12/23/20\", \"12/28/20\"], \"xaxis\": \"x\", \"y\": [0, 0, 0, 0, 0, 3, 3, 3, 3, 4, 14, 23, 45, 102, 192, 421, 969, 1768, 3273, 5939, 11775, 15331, 22549, 34224, 45422, 60706, 100285, 118695, 135206, 180013, 271697, 334822, 379892, 424433, 515386, 612768, 849432, 1019735, 1145629, 1282215, 1535743, 1808936, 2096664, 2338035, 2648998, 3107223, 3471783, 3780107, 4208431, 4587613, 5016520, 5427706, 5662490, 6077976, 6453779, 7078123, 7373375, 7544798, 7765966, 8205728, 8428409, 8604955, 8802267, 8932647, 9178946, 9422636, 9580402, 9693173, 9807569], \"yaxis\": \"y\"}, {\"hovertemplate\": \"Country=New Zealand<br>Date=%{x}<br>Cases=%{y}<extra></extra>\", \"legendgroup\": \"New Zealand\", \"line\": {\"color\": \"#00cc96\", \"dash\": \"solid\"}, \"mode\": \"lines\", \"name\": \"New Zealand\", \"orientation\": \"v\", \"showlegend\": true, \"type\": \"scatter\", \"x\": [\"1/23/20\", \"1/28/20\", \"2/3/20\", \"2/8/20\", \"2/11/20\", \"2/16/20\", \"2/20/20\", \"2/25/20\", \"3/7/20\", \"3/12/20\", \"3/17/20\", \"3/21/20\", \"3/26/20\", \"3/30/20\", \"4/3/20\", \"4/7/20\", \"4/11/20\", \"4/16/20\", \"4/20/20\", \"4/25/20\", \"5/3/20\", \"5/6/20\", \"5/11/20\", \"5/16/20\", \"5/20/20\", \"5/25/20\", \"6/2/20\", \"6/6/20\", \"6/10/20\", \"6/15/20\", \"6/24/20\", \"6/29/20\", \"7/2/20\", \"7/5/20\", \"7/10/20\", \"7/15/20\", \"7/24/20\", \"7/29/20\", \"8/1/20\", \"8/4/20\", \"8/9/20\", \"8/14/20\", \"8/19/20\", \"8/23/20\", \"8/28/20\", \"9/4/20\", \"9/9/20\", \"9/13/20\", \"9/18/20\", \"9/22/20\", \"9/27/20\", \"10/2/20\", \"10/5/20\", \"10/10/20\", \"10/15/20\", \"10/24/20\", \"10/29/20\", \"11/1/20\", \"11/5/20\", \"11/14/20\", \"11/19/20\", \"11/23/20\", \"11/28/20\", \"12/1/20\", \"12/7/20\", \"12/14/20\", \"12/19/20\", \"12/23/20\", \"12/28/20\"], \"xaxis\": \"x\", \"y\": [0, 0, 0, 0, 0, 0, 0, 0, 0, 0, 0, 0, 27, 63, 103, 241, 422, 770, 974, 1142, 1276, 1332, 1398, 1433, 1452, 1461, 1481, 1481, 1482, 1482, 1484, 1484, 1490, 1490, 1497, 1499, 1513, 1514, 1518, 1523, 1526, 1531, 1531, 1538, 1568, 1631, 1648, 1678, 1719, 1737, 1753, 1783, 1790, 1801, 1809, 1840, 1857, 1857, 1905, 1918, 1948, 1953, 1956, 1963, 2006, 2015, 2036, 2054, 2077], \"yaxis\": \"y\"}, {\"hovertemplate\": \"Country=US<br>Date=%{x}<br>Cases=%{y}<extra></extra>\", \"legendgroup\": \"US\", \"line\": {\"color\": \"#ab63fa\", \"dash\": \"solid\"}, \"mode\": \"lines\", \"name\": \"US\", \"orientation\": \"v\", \"showlegend\": true, \"type\": \"scatter\", \"x\": [\"1/23/20\", \"1/28/20\", \"2/3/20\", \"2/8/20\", \"2/11/20\", \"2/16/20\", \"2/20/20\", \"2/25/20\", \"3/7/20\", \"3/12/20\", \"3/17/20\", \"3/21/20\", \"3/26/20\", \"3/30/20\", \"4/3/20\", \"4/7/20\", \"4/11/20\", \"4/16/20\", \"4/20/20\", \"4/25/20\", \"5/3/20\", \"5/6/20\", \"5/11/20\", \"5/16/20\", \"5/20/20\", \"5/25/20\", \"6/2/20\", \"6/6/20\", \"6/10/20\", \"6/15/20\", \"6/24/20\", \"6/29/20\", \"7/2/20\", \"7/5/20\", \"7/10/20\", \"7/15/20\", \"7/24/20\", \"7/29/20\", \"8/1/20\", \"8/4/20\", \"8/9/20\", \"8/14/20\", \"8/19/20\", \"8/23/20\", \"8/28/20\", \"9/4/20\", \"9/9/20\", \"9/13/20\", \"9/18/20\", \"9/22/20\", \"9/27/20\", \"10/2/20\", \"10/5/20\", \"10/10/20\", \"10/15/20\", \"10/24/20\", \"10/29/20\", \"11/1/20\", \"11/5/20\", \"11/14/20\", \"11/19/20\", \"11/23/20\", \"11/28/20\", \"12/1/20\", \"12/7/20\", \"12/14/20\", \"12/19/20\", \"12/23/20\", \"12/28/20\"], \"xaxis\": \"x\", \"y\": [0, 0, 0, 0, 3, 3, 3, 6, 7, 12, 17, 176, 681, 5644, 9707, 21763, 31270, 54703, 72329, 100372, 180152, 189910, 232733, 268376, 294312, 379157, 463868, 500849, 533504, 576334, 656161, 705203, 781970, 906763, 983185, 1075882, 1261624, 1389425, 1461885, 1528979, 1656864, 1796326, 1925049, 1997761, 2118367, 2283454, 2387479, 2451406, 2556465, 2646959, 2766280, 2873369, 2935142, 3062983, 3177397, 3406656, 3554336, 3630579, 3781751, 4148444, 4410709, 4633600, 5023063, 5226581, 5714557, 0, 0, 0, 0], \"yaxis\": \"y\"}],                        {\"hovermode\": \"x\", \"legend\": {\"title\": {\"text\": \"Country\"}, \"tracegroupgap\": 0}, \"margin\": {\"t\": 60}, \"template\": {\"data\": {\"bar\": [{\"error_x\": {\"color\": \"#f2f5fa\"}, \"error_y\": {\"color\": \"#f2f5fa\"}, \"marker\": {\"line\": {\"color\": \"rgb(17,17,17)\", \"width\": 0.5}}, \"type\": \"bar\"}], \"barpolar\": [{\"marker\": {\"line\": {\"color\": \"rgb(17,17,17)\", \"width\": 0.5}}, \"type\": \"barpolar\"}], \"carpet\": [{\"aaxis\": {\"endlinecolor\": \"#A2B1C6\", \"gridcolor\": \"#506784\", \"linecolor\": \"#506784\", \"minorgridcolor\": \"#506784\", \"startlinecolor\": \"#A2B1C6\"}, \"baxis\": {\"endlinecolor\": \"#A2B1C6\", \"gridcolor\": \"#506784\", \"linecolor\": \"#506784\", \"minorgridcolor\": \"#506784\", \"startlinecolor\": \"#A2B1C6\"}, \"type\": \"carpet\"}], \"choropleth\": [{\"colorbar\": {\"outlinewidth\": 0, \"ticks\": \"\"}, \"type\": \"choropleth\"}], \"contour\": [{\"colorbar\": {\"outlinewidth\": 0, \"ticks\": \"\"}, \"colorscale\": [[0.0, \"#0d0887\"], [0.1111111111111111, \"#46039f\"], [0.2222222222222222, \"#7201a8\"], [0.3333333333333333, \"#9c179e\"], [0.4444444444444444, \"#bd3786\"], [0.5555555555555556, \"#d8576b\"], [0.6666666666666666, \"#ed7953\"], [0.7777777777777778, \"#fb9f3a\"], [0.8888888888888888, \"#fdca26\"], [1.0, \"#f0f921\"]], \"type\": \"contour\"}], \"contourcarpet\": [{\"colorbar\": {\"outlinewidth\": 0, \"ticks\": \"\"}, \"type\": \"contourcarpet\"}], \"heatmap\": [{\"colorbar\": {\"outlinewidth\": 0, \"ticks\": \"\"}, \"colorscale\": [[0.0, \"#0d0887\"], [0.1111111111111111, \"#46039f\"], [0.2222222222222222, \"#7201a8\"], [0.3333333333333333, \"#9c179e\"], [0.4444444444444444, \"#bd3786\"], [0.5555555555555556, \"#d8576b\"], [0.6666666666666666, \"#ed7953\"], [0.7777777777777778, \"#fb9f3a\"], [0.8888888888888888, \"#fdca26\"], [1.0, \"#f0f921\"]], \"type\": \"heatmap\"}], \"heatmapgl\": [{\"colorbar\": {\"outlinewidth\": 0, \"ticks\": \"\"}, \"colorscale\": [[0.0, \"#0d0887\"], [0.1111111111111111, \"#46039f\"], [0.2222222222222222, \"#7201a8\"], [0.3333333333333333, \"#9c179e\"], [0.4444444444444444, \"#bd3786\"], [0.5555555555555556, \"#d8576b\"], [0.6666666666666666, \"#ed7953\"], [0.7777777777777778, \"#fb9f3a\"], [0.8888888888888888, \"#fdca26\"], [1.0, \"#f0f921\"]], \"type\": \"heatmapgl\"}], \"histogram\": [{\"marker\": {\"colorbar\": {\"outlinewidth\": 0, \"ticks\": \"\"}}, \"type\": \"histogram\"}], \"histogram2d\": [{\"colorbar\": {\"outlinewidth\": 0, \"ticks\": \"\"}, \"colorscale\": [[0.0, \"#0d0887\"], [0.1111111111111111, \"#46039f\"], [0.2222222222222222, \"#7201a8\"], [0.3333333333333333, \"#9c179e\"], [0.4444444444444444, \"#bd3786\"], [0.5555555555555556, \"#d8576b\"], [0.6666666666666666, \"#ed7953\"], [0.7777777777777778, \"#fb9f3a\"], [0.8888888888888888, \"#fdca26\"], [1.0, \"#f0f921\"]], \"type\": \"histogram2d\"}], \"histogram2dcontour\": [{\"colorbar\": {\"outlinewidth\": 0, \"ticks\": \"\"}, \"colorscale\": [[0.0, \"#0d0887\"], [0.1111111111111111, \"#46039f\"], [0.2222222222222222, \"#7201a8\"], [0.3333333333333333, \"#9c179e\"], [0.4444444444444444, \"#bd3786\"], [0.5555555555555556, \"#d8576b\"], [0.6666666666666666, \"#ed7953\"], [0.7777777777777778, \"#fb9f3a\"], [0.8888888888888888, \"#fdca26\"], [1.0, \"#f0f921\"]], \"type\": \"histogram2dcontour\"}], \"mesh3d\": [{\"colorbar\": {\"outlinewidth\": 0, \"ticks\": \"\"}, \"type\": \"mesh3d\"}], \"parcoords\": [{\"line\": {\"colorbar\": {\"outlinewidth\": 0, \"ticks\": \"\"}}, \"type\": \"parcoords\"}], \"pie\": [{\"automargin\": true, \"type\": \"pie\"}], \"scatter\": [{\"marker\": {\"line\": {\"color\": \"#283442\"}}, \"type\": \"scatter\"}], \"scatter3d\": [{\"line\": {\"colorbar\": {\"outlinewidth\": 0, \"ticks\": \"\"}}, \"marker\": {\"colorbar\": {\"outlinewidth\": 0, \"ticks\": \"\"}}, \"type\": \"scatter3d\"}], \"scattercarpet\": [{\"marker\": {\"colorbar\": {\"outlinewidth\": 0, \"ticks\": \"\"}}, \"type\": \"scattercarpet\"}], \"scattergeo\": [{\"marker\": {\"colorbar\": {\"outlinewidth\": 0, \"ticks\": \"\"}}, \"type\": \"scattergeo\"}], \"scattergl\": [{\"marker\": {\"line\": {\"color\": \"#283442\"}}, \"type\": \"scattergl\"}], \"scattermapbox\": [{\"marker\": {\"colorbar\": {\"outlinewidth\": 0, \"ticks\": \"\"}}, \"type\": \"scattermapbox\"}], \"scatterpolar\": [{\"marker\": {\"colorbar\": {\"outlinewidth\": 0, \"ticks\": \"\"}}, \"type\": \"scatterpolar\"}], \"scatterpolargl\": [{\"marker\": {\"colorbar\": {\"outlinewidth\": 0, \"ticks\": \"\"}}, \"type\": \"scatterpolargl\"}], \"scatterternary\": [{\"marker\": {\"colorbar\": {\"outlinewidth\": 0, \"ticks\": \"\"}}, \"type\": \"scatterternary\"}], \"surface\": [{\"colorbar\": {\"outlinewidth\": 0, \"ticks\": \"\"}, \"colorscale\": [[0.0, \"#0d0887\"], [0.1111111111111111, \"#46039f\"], [0.2222222222222222, \"#7201a8\"], [0.3333333333333333, \"#9c179e\"], [0.4444444444444444, \"#bd3786\"], [0.5555555555555556, \"#d8576b\"], [0.6666666666666666, \"#ed7953\"], [0.7777777777777778, \"#fb9f3a\"], [0.8888888888888888, \"#fdca26\"], [1.0, \"#f0f921\"]], \"type\": \"surface\"}], \"table\": [{\"cells\": {\"fill\": {\"color\": \"#506784\"}, \"line\": {\"color\": \"rgb(17,17,17)\"}}, \"header\": {\"fill\": {\"color\": \"#2a3f5f\"}, \"line\": {\"color\": \"rgb(17,17,17)\"}}, \"type\": \"table\"}]}, \"layout\": {\"annotationdefaults\": {\"arrowcolor\": \"#f2f5fa\", \"arrowhead\": 0, \"arrowwidth\": 1}, \"autotypenumbers\": \"strict\", \"coloraxis\": {\"colorbar\": {\"outlinewidth\": 0, \"ticks\": \"\"}}, \"colorscale\": {\"diverging\": [[0, \"#8e0152\"], [0.1, \"#c51b7d\"], [0.2, \"#de77ae\"], [0.3, \"#f1b6da\"], [0.4, \"#fde0ef\"], [0.5, \"#f7f7f7\"], [0.6, \"#e6f5d0\"], [0.7, \"#b8e186\"], [0.8, \"#7fbc41\"], [0.9, \"#4d9221\"], [1, \"#276419\"]], \"sequential\": [[0.0, \"#0d0887\"], [0.1111111111111111, \"#46039f\"], [0.2222222222222222, \"#7201a8\"], [0.3333333333333333, \"#9c179e\"], [0.4444444444444444, \"#bd3786\"], [0.5555555555555556, \"#d8576b\"], [0.6666666666666666, \"#ed7953\"], [0.7777777777777778, \"#fb9f3a\"], [0.8888888888888888, \"#fdca26\"], [1.0, \"#f0f921\"]], \"sequentialminus\": [[0.0, \"#0d0887\"], [0.1111111111111111, \"#46039f\"], [0.2222222222222222, \"#7201a8\"], [0.3333333333333333, \"#9c179e\"], [0.4444444444444444, \"#bd3786\"], [0.5555555555555556, \"#d8576b\"], [0.6666666666666666, \"#ed7953\"], [0.7777777777777778, \"#fb9f3a\"], [0.8888888888888888, \"#fdca26\"], [1.0, \"#f0f921\"]]}, \"colorway\": [\"#636efa\", \"#EF553B\", \"#00cc96\", \"#ab63fa\", \"#FFA15A\", \"#19d3f3\", \"#FF6692\", \"#B6E880\", \"#FF97FF\", \"#FECB52\"], \"font\": {\"color\": \"#f2f5fa\"}, \"geo\": {\"bgcolor\": \"rgb(17,17,17)\", \"lakecolor\": \"rgb(17,17,17)\", \"landcolor\": \"rgb(17,17,17)\", \"showlakes\": true, \"showland\": true, \"subunitcolor\": \"#506784\"}, \"hoverlabel\": {\"align\": \"left\"}, \"hovermode\": \"closest\", \"mapbox\": {\"style\": \"dark\"}, \"paper_bgcolor\": \"rgb(17,17,17)\", \"plot_bgcolor\": \"rgb(17,17,17)\", \"polar\": {\"angularaxis\": {\"gridcolor\": \"#506784\", \"linecolor\": \"#506784\", \"ticks\": \"\"}, \"bgcolor\": \"rgb(17,17,17)\", \"radialaxis\": {\"gridcolor\": \"#506784\", \"linecolor\": \"#506784\", \"ticks\": \"\"}}, \"scene\": {\"xaxis\": {\"backgroundcolor\": \"rgb(17,17,17)\", \"gridcolor\": \"#506784\", \"gridwidth\": 2, \"linecolor\": \"#506784\", \"showbackground\": true, \"ticks\": \"\", \"zerolinecolor\": \"#C8D4E3\"}, \"yaxis\": {\"backgroundcolor\": \"rgb(17,17,17)\", \"gridcolor\": \"#506784\", \"gridwidth\": 2, \"linecolor\": \"#506784\", \"showbackground\": true, \"ticks\": \"\", \"zerolinecolor\": \"#C8D4E3\"}, \"zaxis\": {\"backgroundcolor\": \"rgb(17,17,17)\", \"gridcolor\": \"#506784\", \"gridwidth\": 2, \"linecolor\": \"#506784\", \"showbackground\": true, \"ticks\": \"\", \"zerolinecolor\": \"#C8D4E3\"}}, \"shapedefaults\": {\"line\": {\"color\": \"#f2f5fa\"}}, \"sliderdefaults\": {\"bgcolor\": \"#C8D4E3\", \"bordercolor\": \"rgb(17,17,17)\", \"borderwidth\": 1, \"tickwidth\": 0}, \"ternary\": {\"aaxis\": {\"gridcolor\": \"#506784\", \"linecolor\": \"#506784\", \"ticks\": \"\"}, \"baxis\": {\"gridcolor\": \"#506784\", \"linecolor\": \"#506784\", \"ticks\": \"\"}, \"bgcolor\": \"rgb(17,17,17)\", \"caxis\": {\"gridcolor\": \"#506784\", \"linecolor\": \"#506784\", \"ticks\": \"\"}}, \"title\": {\"x\": 0.05}, \"updatemenudefaults\": {\"bgcolor\": \"#506784\", \"borderwidth\": 0}, \"xaxis\": {\"automargin\": true, \"gridcolor\": \"#283442\", \"linecolor\": \"#506784\", \"ticks\": \"\", \"title\": {\"standoff\": 15}, \"zerolinecolor\": \"#283442\", \"zerolinewidth\": 2}, \"yaxis\": {\"automargin\": true, \"gridcolor\": \"#283442\", \"linecolor\": \"#506784\", \"ticks\": \"\", \"title\": {\"standoff\": 15}, \"zerolinecolor\": \"#283442\", \"zerolinewidth\": 2}}}, \"xaxis\": {\"anchor\": \"y\", \"domain\": [0.0, 1.0], \"title\": {\"text\": \"Date\"}}, \"yaxis\": {\"anchor\": \"x\", \"domain\": [0.0, 1.0], \"range\": [0, 9807569], \"title\": {\"text\": \"Cases\"}}},                        {\"responsive\": true}                    ).then(function(){\n",
              "                            \n",
              "var gd = document.getElementById('50ce90e0-c638-495b-b91a-3e2f74b8adfd');\n",
              "var x = new MutationObserver(function (mutations, observer) {{\n",
              "        var display = window.getComputedStyle(gd).display;\n",
              "        if (!display || display === 'none') {{\n",
              "            console.log([gd, 'removed!']);\n",
              "            Plotly.purge(gd);\n",
              "            observer.disconnect();\n",
              "        }}\n",
              "}});\n",
              "\n",
              "// Listen for the removal of the full notebook cells\n",
              "var notebookContainer = gd.closest('#notebook-container');\n",
              "if (notebookContainer) {{\n",
              "    x.observe(notebookContainer, {childList: true});\n",
              "}}\n",
              "\n",
              "// Listen for the clearing of the current output cell\n",
              "var outputEl = gd.closest('.output');\n",
              "if (outputEl) {{\n",
              "    x.observe(outputEl, {childList: true});\n",
              "}}\n",
              "\n",
              "                        })                };                            </script>        </div>\n",
              "</body>\n",
              "</html>"
            ]
          },
          "metadata": {
            "tags": []
          }
        }
      ]
    },
    {
      "cell_type": "markdown",
      "metadata": {
        "id": "Mr8nesFSPxTw"
      },
      "source": [
        "## Intra-Country : All 3 Studies"
      ]
    },
    {
      "cell_type": "markdown",
      "metadata": {
        "id": "ljLM6yjTPxTx"
      },
      "source": [
        "### Code"
      ]
    },
    {
      "cell_type": "code",
      "metadata": {
        "id": "24MMsdR8PxTx"
      },
      "source": [
        "def line_comparison(country):\n",
        "    whole_df = pd.DataFrame()\n",
        "    whole_df[\"dates\"] = list(confirmed_global.columns[1:])\n",
        "    whole_df[\"confirmed\"] = list(confirmed_global.loc[confirmed_global['country'] == country].values.flatten()[1:])\n",
        "    whole_df[\"deaths\"] = list(deaths_global.loc[deaths_global['country'] == country].values.flatten()[1:])\n",
        "    whole_df[\"recovered\"] = list(recovered_global.loc[recovered_global['country'] == country].values.flatten()[1:]) \n",
        "    \n",
        "    fig = go.Figure()\n",
        "\n",
        "    fig.add_trace(\n",
        "        go.Scatter(\n",
        "            x=whole_df[\"dates\"],\n",
        "            y=whole_df[\"confirmed\"],\n",
        "            mode=\"lines\",\n",
        "            name=\"confirmed\"\n",
        "        )\n",
        "    )\n",
        "\n",
        "    fig.add_trace(\n",
        "        go.Scatter(\n",
        "            x=whole_df[\"dates\"],\n",
        "            y=whole_df[\"deaths\"],\n",
        "            mode=\"lines\",\n",
        "            name=\"deaths\"\n",
        "        )\n",
        "    )\n",
        "\n",
        "    fig.add_trace(\n",
        "        go.Scatter(\n",
        "            x=whole_df[\"dates\"],\n",
        "            y=whole_df[\"recovered\"],\n",
        "            mode=\"lines\",\n",
        "            name=\"recovered\"\n",
        "        )\n",
        "    )\n",
        "\n",
        "\n",
        "    fig.update_layout(\n",
        "        height=500,\n",
        "        showlegend=True,\n",
        "        \n",
        "        template = \"plotly_dark\",\n",
        "        title_text=f\"Analysis of {country.title()}\", hovermode='x'\n",
        "    )\n",
        "\n",
        "    return fig"
      ],
      "execution_count": null,
      "outputs": []
    },
    {
      "cell_type": "markdown",
      "metadata": {
        "id": "1UXIRY03PxTx"
      },
      "source": [
        "### Example"
      ]
    },
    {
      "cell_type": "markdown",
      "metadata": {
        "id": "EnBDFC0UPxTx"
      },
      "source": [
        "#### India"
      ]
    },
    {
      "cell_type": "code",
      "metadata": {
        "id": "WMDzv6yKPxTx",
        "colab": {
          "base_uri": "https://localhost:8080/",
          "height": 517
        },
        "outputId": "849fd44f-9722-48d3-f0f2-3015b6539168"
      },
      "source": [
        "line_comparison(\"India\")"
      ],
      "execution_count": null,
      "outputs": [
        {
          "output_type": "display_data",
          "data": {
            "text/html": [
              "<html>\n",
              "<head><meta charset=\"utf-8\" /></head>\n",
              "<body>\n",
              "    <div>            <script src=\"https://cdnjs.cloudflare.com/ajax/libs/mathjax/2.7.5/MathJax.js?config=TeX-AMS-MML_SVG\"></script><script type=\"text/javascript\">if (window.MathJax) {MathJax.Hub.Config({SVG: {font: \"STIX-Web\"}});}</script>                <script type=\"text/javascript\">window.PlotlyConfig = {MathJaxConfig: 'local'};</script>\n",
              "        <script src=\"https://cdn.plot.ly/plotly-latest.min.js\"></script>                <div id=\"e7578b45-61c5-47a7-bab0-fdcb920809c8\" class=\"plotly-graph-div\" style=\"height:500px; width:100%;\"></div>            <script type=\"text/javascript\">                                    window.PLOTLYENV=window.PLOTLYENV || {};                                    if (document.getElementById(\"e7578b45-61c5-47a7-bab0-fdcb920809c8\")) {                    Plotly.newPlot(                        \"e7578b45-61c5-47a7-bab0-fdcb920809c8\",                        [{\"mode\": \"lines\", \"name\": \"confirmed\", \"type\": \"scatter\", \"x\": [\"1/22/20\", \"1/23/20\", \"1/24/20\", \"1/25/20\", \"1/26/20\", \"1/27/20\", \"1/28/20\", \"1/29/20\", \"1/30/20\", \"1/31/20\", \"2/1/20\", \"2/2/20\", \"2/3/20\", \"2/4/20\", \"2/5/20\", \"2/6/20\", \"2/7/20\", \"2/8/20\", \"2/9/20\", \"2/10/20\", \"2/11/20\", \"2/12/20\", \"2/13/20\", \"2/14/20\", \"2/15/20\", \"2/16/20\", \"2/17/20\", \"2/18/20\", \"2/19/20\", \"2/20/20\", \"2/21/20\", \"2/22/20\", \"2/23/20\", \"2/24/20\", \"2/25/20\", \"2/26/20\", \"2/27/20\", \"2/28/20\", \"2/29/20\", \"3/1/20\", \"3/2/20\", \"3/3/20\", \"3/4/20\", \"3/5/20\", \"3/6/20\", \"3/7/20\", \"3/8/20\", \"3/9/20\", \"3/10/20\", \"3/11/20\", \"3/12/20\", \"3/13/20\", \"3/14/20\", \"3/15/20\", \"3/16/20\", \"3/17/20\", \"3/18/20\", \"3/19/20\", \"3/20/20\", \"3/21/20\", \"3/22/20\", \"3/23/20\", \"3/24/20\", \"3/25/20\", \"3/26/20\", \"3/27/20\", \"3/28/20\", \"3/29/20\", \"3/30/20\", \"3/31/20\", \"4/1/20\", \"4/2/20\", \"4/3/20\", \"4/4/20\", \"4/5/20\", \"4/6/20\", \"4/7/20\", \"4/8/20\", \"4/9/20\", \"4/10/20\", \"4/11/20\", \"4/12/20\", \"4/13/20\", \"4/14/20\", \"4/15/20\", \"4/16/20\", \"4/17/20\", \"4/18/20\", \"4/19/20\", \"4/20/20\", \"4/21/20\", \"4/22/20\", \"4/23/20\", \"4/24/20\", \"4/25/20\", \"4/26/20\", \"4/27/20\", \"4/28/20\", \"4/29/20\", \"4/30/20\", \"5/1/20\", \"5/2/20\", \"5/3/20\", \"5/4/20\", \"5/5/20\", \"5/6/20\", \"5/7/20\", \"5/8/20\", \"5/9/20\", \"5/10/20\", \"5/11/20\", \"5/12/20\", \"5/13/20\", \"5/14/20\", \"5/15/20\", \"5/16/20\", \"5/17/20\", \"5/18/20\", \"5/19/20\", \"5/20/20\", \"5/21/20\", \"5/22/20\", \"5/23/20\", \"5/24/20\", \"5/25/20\", \"5/26/20\", \"5/27/20\", \"5/28/20\", \"5/29/20\", \"5/30/20\", \"5/31/20\", \"6/1/20\", \"6/2/20\", \"6/3/20\", \"6/4/20\", \"6/5/20\", \"6/6/20\", \"6/7/20\", \"6/8/20\", \"6/9/20\", \"6/10/20\", \"6/11/20\", \"6/12/20\", \"6/13/20\", \"6/14/20\", \"6/15/20\", \"6/16/20\", \"6/17/20\", \"6/18/20\", \"6/19/20\", \"6/20/20\", \"6/21/20\", \"6/22/20\", \"6/23/20\", \"6/24/20\", \"6/25/20\", \"6/26/20\", \"6/27/20\", \"6/28/20\", \"6/29/20\", \"6/30/20\", \"7/1/20\", \"7/2/20\", \"7/3/20\", \"7/4/20\", \"7/5/20\", \"7/6/20\", \"7/7/20\", \"7/8/20\", \"7/9/20\", \"7/10/20\", \"7/11/20\", \"7/12/20\", \"7/13/20\", \"7/14/20\", \"7/15/20\", \"7/16/20\", \"7/17/20\", \"7/18/20\", \"7/19/20\", \"7/20/20\", \"7/21/20\", \"7/22/20\", \"7/23/20\", \"7/24/20\", \"7/25/20\", \"7/26/20\", \"7/27/20\", \"7/28/20\", \"7/29/20\", \"7/30/20\", \"7/31/20\", \"8/1/20\", \"8/2/20\", \"8/3/20\", \"8/4/20\", \"8/5/20\", \"8/6/20\", \"8/7/20\", \"8/8/20\", \"8/9/20\", \"8/10/20\", \"8/11/20\", \"8/12/20\", \"8/13/20\", \"8/14/20\", \"8/15/20\", \"8/16/20\", \"8/17/20\", \"8/18/20\", \"8/19/20\", \"8/20/20\", \"8/21/20\", \"8/22/20\", \"8/23/20\", \"8/24/20\", \"8/25/20\", \"8/26/20\", \"8/27/20\", \"8/28/20\", \"8/29/20\", \"8/30/20\", \"8/31/20\", \"9/1/20\", \"9/2/20\", \"9/3/20\", \"9/4/20\", \"9/5/20\", \"9/6/20\", \"9/7/20\", \"9/8/20\", \"9/9/20\", \"9/10/20\", \"9/11/20\", \"9/12/20\", \"9/13/20\", \"9/14/20\", \"9/15/20\", \"9/16/20\", \"9/17/20\", \"9/18/20\", \"9/19/20\", \"9/20/20\", \"9/21/20\", \"9/22/20\", \"9/23/20\", \"9/24/20\", \"9/25/20\", \"9/26/20\", \"9/27/20\", \"9/28/20\", \"9/29/20\", \"9/30/20\", \"10/1/20\", \"10/2/20\", \"10/3/20\", \"10/4/20\", \"10/5/20\", \"10/6/20\", \"10/7/20\", \"10/8/20\", \"10/9/20\", \"10/10/20\", \"10/11/20\", \"10/12/20\", \"10/13/20\", \"10/14/20\", \"10/15/20\", \"10/16/20\", \"10/17/20\", \"10/18/20\", \"10/19/20\", \"10/20/20\", \"10/21/20\", \"10/22/20\", \"10/23/20\", \"10/24/20\", \"10/25/20\", \"10/26/20\", \"10/27/20\", \"10/28/20\", \"10/29/20\", \"10/30/20\", \"10/31/20\", \"11/1/20\", \"11/2/20\", \"11/3/20\", \"11/4/20\", \"11/5/20\", \"11/6/20\", \"11/7/20\", \"11/8/20\", \"11/9/20\", \"11/10/20\", \"11/11/20\", \"11/12/20\", \"11/13/20\", \"11/14/20\", \"11/15/20\", \"11/16/20\", \"11/17/20\", \"11/18/20\", \"11/19/20\", \"11/20/20\", \"11/21/20\", \"11/22/20\", \"11/23/20\", \"11/24/20\", \"11/25/20\", \"11/26/20\", \"11/27/20\", \"11/28/20\", \"11/29/20\", \"11/30/20\", \"12/1/20\", \"12/2/20\", \"12/3/20\", \"12/4/20\", \"12/5/20\", \"12/6/20\", \"12/7/20\", \"12/8/20\", \"12/9/20\", \"12/10/20\", \"12/11/20\", \"12/12/20\", \"12/13/20\", \"12/14/20\", \"12/15/20\", \"12/16/20\", \"12/17/20\", \"12/18/20\", \"12/19/20\", \"12/20/20\", \"12/21/20\", \"12/22/20\", \"12/23/20\", \"12/24/20\", \"12/25/20\", \"12/26/20\", \"12/27/20\", \"12/28/20\"], \"y\": [0, 0, 0, 0, 0, 0, 0, 0, 1, 1, 1, 2, 3, 3, 3, 3, 3, 3, 3, 3, 3, 3, 3, 3, 3, 3, 3, 3, 3, 3, 3, 3, 3, 3, 3, 3, 3, 3, 3, 3, 5, 5, 28, 30, 31, 34, 39, 43, 56, 62, 73, 82, 102, 113, 119, 142, 156, 194, 244, 330, 396, 499, 536, 657, 727, 887, 987, 1024, 1251, 1397, 1998, 2543, 2567, 3082, 3588, 4778, 5311, 5916, 6725, 7598, 8446, 9205, 10453, 11487, 12322, 13430, 14352, 15722, 17615, 18539, 20080, 21370, 23077, 24530, 26283, 27890, 29451, 31324, 33062, 34863, 37257, 39699, 42505, 46437, 49400, 52987, 56351, 59695, 62808, 67161, 70768, 74292, 78055, 81997, 85784, 90648, 95698, 100328, 106475, 112028, 118226, 124794, 131423, 138536, 144950, 150793, 158086, 165386, 173491, 181827, 190609, 198370, 207191, 216824, 226713, 236184, 246622, 257486, 265928, 276146, 286605, 297535, 308993, 320922, 332424, 343091, 354065, 366946, 380532, 395048, 410451, 425282, 440215, 456183, 473105, 490401, 508953, 528859, 548318, 566840, 585481, 604641, 625544, 648315, 673165, 697413, 719664, 742417, 767296, 793802, 820916, 849522, 878254, 906752, 936181, 968857, 1003832, 1039084, 1077781, 1118206, 1155338, 1193078, 1238798, 1288108, 1337024, 1385635, 1435616, 1480073, 1531669, 1581963, 1634746, 1695988, 1750723, 1803695, 1855745, 1908254, 1964536, 2027074, 2088611, 2153010, 2215074, 2268675, 2329638, 2396637, 2461190, 2525922, 2589952, 2647663, 2702681, 2767253, 2836925, 2905825, 2975701, 3044940, 3106348, 3167323, 3224547, 3310234, 3387500, 3463972, 3542733, 3621245, 3691166, 3769523, 3853406, 3936747, 4023179, 4113811, 4204613, 4280422, 4370128, 4465863, 4562414, 4659984, 4754356, 4846427, 4930236, 5020359, 5118253, 5214677, 5308014, 5400619, 5487580, 5562663, 5646010, 5732518, 5818570, 5903932, 5992532, 6074702, 6145291, 6225763, 6312584, 6394068, 6473544, 6549373, 6623815, 6685082, 6757131, 6835655, 6906151, 6979423, 7053806, 7120538, 7175880, 7239389, 7307097, 7370468, 7432680, 7494551, 7550273, 7597063, 7651107, 7706946, 7761312, 7814682, 7864811, 7909959, 7946429, 7990322, 8040203, 8088851, 8137119, 8184082, 8229313, 8267623, 8313876, 8364086, 8411724, 8462080, 8507754, 8553657, 8591730, 8636011, 8683916, 8728795, 8773479, 8814579, 8845127, 8874290, 8912907, 8958483, 9004365, 9050597, 9095806, 9139865, 9177840, 9222216, 9266705, 9309787, 9351109, 9392919, 9431691, 9462809, 9499413, 9534964, 9571559, 9608211, 9644222, 9677203, 9703770, 9735850, 9767371, 9796744, 9826775, 9857029, 9884100, 9906165, 9932547, 9956557, 9979447, 10004599, 10031223, 10055560, 10075116, 10099066, 10123778, 10146845, 10169118, 10187850, 10207871, 10224303]}, {\"mode\": \"lines\", \"name\": \"deaths\", \"type\": \"scatter\", \"x\": [\"1/22/20\", \"1/23/20\", \"1/24/20\", \"1/25/20\", \"1/26/20\", \"1/27/20\", \"1/28/20\", \"1/29/20\", \"1/30/20\", \"1/31/20\", \"2/1/20\", \"2/2/20\", \"2/3/20\", \"2/4/20\", \"2/5/20\", \"2/6/20\", \"2/7/20\", \"2/8/20\", \"2/9/20\", \"2/10/20\", \"2/11/20\", \"2/12/20\", \"2/13/20\", \"2/14/20\", \"2/15/20\", \"2/16/20\", \"2/17/20\", \"2/18/20\", \"2/19/20\", \"2/20/20\", \"2/21/20\", \"2/22/20\", \"2/23/20\", \"2/24/20\", \"2/25/20\", \"2/26/20\", \"2/27/20\", \"2/28/20\", \"2/29/20\", \"3/1/20\", \"3/2/20\", \"3/3/20\", \"3/4/20\", \"3/5/20\", \"3/6/20\", \"3/7/20\", \"3/8/20\", \"3/9/20\", \"3/10/20\", \"3/11/20\", \"3/12/20\", \"3/13/20\", \"3/14/20\", \"3/15/20\", \"3/16/20\", \"3/17/20\", \"3/18/20\", \"3/19/20\", \"3/20/20\", \"3/21/20\", \"3/22/20\", \"3/23/20\", \"3/24/20\", \"3/25/20\", \"3/26/20\", \"3/27/20\", \"3/28/20\", \"3/29/20\", \"3/30/20\", \"3/31/20\", \"4/1/20\", \"4/2/20\", \"4/3/20\", \"4/4/20\", \"4/5/20\", \"4/6/20\", \"4/7/20\", \"4/8/20\", \"4/9/20\", \"4/10/20\", \"4/11/20\", \"4/12/20\", \"4/13/20\", \"4/14/20\", \"4/15/20\", \"4/16/20\", \"4/17/20\", \"4/18/20\", \"4/19/20\", \"4/20/20\", \"4/21/20\", \"4/22/20\", \"4/23/20\", \"4/24/20\", \"4/25/20\", \"4/26/20\", \"4/27/20\", \"4/28/20\", \"4/29/20\", \"4/30/20\", \"5/1/20\", \"5/2/20\", \"5/3/20\", \"5/4/20\", \"5/5/20\", \"5/6/20\", \"5/7/20\", \"5/8/20\", \"5/9/20\", \"5/10/20\", \"5/11/20\", \"5/12/20\", \"5/13/20\", \"5/14/20\", \"5/15/20\", \"5/16/20\", \"5/17/20\", \"5/18/20\", \"5/19/20\", \"5/20/20\", \"5/21/20\", \"5/22/20\", \"5/23/20\", \"5/24/20\", \"5/25/20\", \"5/26/20\", \"5/27/20\", \"5/28/20\", \"5/29/20\", \"5/30/20\", \"5/31/20\", \"6/1/20\", \"6/2/20\", \"6/3/20\", \"6/4/20\", \"6/5/20\", \"6/6/20\", \"6/7/20\", \"6/8/20\", \"6/9/20\", \"6/10/20\", \"6/11/20\", \"6/12/20\", \"6/13/20\", \"6/14/20\", \"6/15/20\", \"6/16/20\", \"6/17/20\", \"6/18/20\", \"6/19/20\", \"6/20/20\", \"6/21/20\", \"6/22/20\", \"6/23/20\", \"6/24/20\", \"6/25/20\", \"6/26/20\", \"6/27/20\", \"6/28/20\", \"6/29/20\", \"6/30/20\", \"7/1/20\", \"7/2/20\", \"7/3/20\", \"7/4/20\", \"7/5/20\", \"7/6/20\", \"7/7/20\", \"7/8/20\", \"7/9/20\", \"7/10/20\", \"7/11/20\", \"7/12/20\", \"7/13/20\", \"7/14/20\", \"7/15/20\", \"7/16/20\", \"7/17/20\", \"7/18/20\", \"7/19/20\", \"7/20/20\", \"7/21/20\", \"7/22/20\", \"7/23/20\", \"7/24/20\", \"7/25/20\", \"7/26/20\", \"7/27/20\", \"7/28/20\", \"7/29/20\", \"7/30/20\", \"7/31/20\", \"8/1/20\", \"8/2/20\", \"8/3/20\", \"8/4/20\", \"8/5/20\", \"8/6/20\", \"8/7/20\", \"8/8/20\", \"8/9/20\", \"8/10/20\", \"8/11/20\", \"8/12/20\", \"8/13/20\", \"8/14/20\", \"8/15/20\", \"8/16/20\", \"8/17/20\", \"8/18/20\", \"8/19/20\", \"8/20/20\", \"8/21/20\", \"8/22/20\", \"8/23/20\", \"8/24/20\", \"8/25/20\", \"8/26/20\", \"8/27/20\", \"8/28/20\", \"8/29/20\", \"8/30/20\", \"8/31/20\", \"9/1/20\", \"9/2/20\", \"9/3/20\", \"9/4/20\", \"9/5/20\", \"9/6/20\", \"9/7/20\", \"9/8/20\", \"9/9/20\", \"9/10/20\", \"9/11/20\", \"9/12/20\", \"9/13/20\", \"9/14/20\", \"9/15/20\", \"9/16/20\", \"9/17/20\", \"9/18/20\", \"9/19/20\", \"9/20/20\", \"9/21/20\", \"9/22/20\", \"9/23/20\", \"9/24/20\", \"9/25/20\", \"9/26/20\", \"9/27/20\", \"9/28/20\", \"9/29/20\", \"9/30/20\", \"10/1/20\", \"10/2/20\", \"10/3/20\", \"10/4/20\", \"10/5/20\", \"10/6/20\", \"10/7/20\", \"10/8/20\", \"10/9/20\", \"10/10/20\", \"10/11/20\", \"10/12/20\", \"10/13/20\", \"10/14/20\", \"10/15/20\", \"10/16/20\", \"10/17/20\", \"10/18/20\", \"10/19/20\", \"10/20/20\", \"10/21/20\", \"10/22/20\", \"10/23/20\", \"10/24/20\", \"10/25/20\", \"10/26/20\", \"10/27/20\", \"10/28/20\", \"10/29/20\", \"10/30/20\", \"10/31/20\", \"11/1/20\", \"11/2/20\", \"11/3/20\", \"11/4/20\", \"11/5/20\", \"11/6/20\", \"11/7/20\", \"11/8/20\", \"11/9/20\", \"11/10/20\", \"11/11/20\", \"11/12/20\", \"11/13/20\", \"11/14/20\", \"11/15/20\", \"11/16/20\", \"11/17/20\", \"11/18/20\", \"11/19/20\", \"11/20/20\", \"11/21/20\", \"11/22/20\", \"11/23/20\", \"11/24/20\", \"11/25/20\", \"11/26/20\", \"11/27/20\", \"11/28/20\", \"11/29/20\", \"11/30/20\", \"12/1/20\", \"12/2/20\", \"12/3/20\", \"12/4/20\", \"12/5/20\", \"12/6/20\", \"12/7/20\", \"12/8/20\", \"12/9/20\", \"12/10/20\", \"12/11/20\", \"12/12/20\", \"12/13/20\", \"12/14/20\", \"12/15/20\", \"12/16/20\", \"12/17/20\", \"12/18/20\", \"12/19/20\", \"12/20/20\", \"12/21/20\", \"12/22/20\", \"12/23/20\", \"12/24/20\", \"12/25/20\", \"12/26/20\", \"12/27/20\", \"12/28/20\"], \"y\": [0, 0, 0, 0, 0, 0, 0, 0, 0, 0, 0, 0, 0, 0, 0, 0, 0, 0, 0, 0, 0, 0, 0, 0, 0, 0, 0, 0, 0, 0, 0, 0, 0, 0, 0, 0, 0, 0, 0, 0, 0, 0, 0, 0, 0, 0, 0, 0, 0, 1, 1, 2, 2, 2, 2, 3, 3, 4, 5, 4, 7, 10, 10, 12, 20, 20, 24, 27, 32, 35, 58, 72, 72, 86, 99, 136, 150, 178, 226, 246, 288, 331, 358, 393, 405, 448, 486, 521, 559, 592, 645, 681, 721, 780, 825, 881, 939, 1008, 1079, 1154, 1223, 1323, 1391, 1566, 1693, 1785, 1889, 1985, 2101, 2212, 2294, 2415, 2551, 2649, 2753, 2871, 3025, 3156, 3302, 3434, 3584, 3726, 3868, 4024, 4172, 4344, 4534, 4711, 4980, 5185, 5408, 5608, 5829, 6088, 6363, 6649, 6946, 7207, 7473, 7750, 8102, 8498, 8884, 9195, 9520, 9900, 11903, 12237, 12573, 12948, 13254, 13699, 14011, 14476, 14894, 15301, 15685, 16095, 16475, 16893, 17400, 17834, 18213, 18655, 19268, 19693, 20159, 20642, 21129, 21604, 22123, 22673, 23174, 23727, 24309, 24914, 25602, 26273, 26816, 27497, 28082, 28732, 29861, 30601, 31358, 32060, 32771, 33408, 34193, 34955, 35718, 36511, 37364, 38135, 38938, 39795, 40699, 41585, 42518, 43379, 44386, 45257, 46091, 47033, 48040, 49036, 49980, 50921, 51797, 52888, 53866, 54849, 55794, 56706, 57542, 58390, 59357, 60472, 61529, 62550, 63498, 64469, 65288, 66333, 67376, 68472, 69561, 70626, 71642, 72775, 73890, 75062, 76271, 77472, 78586, 79722, 80776, 82066, 83198, 84372, 85619, 86752, 87882, 88935, 90020, 91149, 92290, 93379, 94503, 95542, 96318, 97497, 98678, 99773, 100842, 101782, 102685, 103569, 104555, 105526, 106490, 107416, 108334, 109150, 109856, 110586, 111266, 112161, 112998, 114031, 114610, 115197, 115914, 116616, 117306, 117956, 118534, 119014, 119502, 120010, 120527, 121090, 121641, 122111, 122607, 123097, 123611, 124315, 124985, 125562, 126121, 126611, 127059, 127571, 128121, 128668, 129188, 129635, 130070, 130519, 130993, 131578, 132162, 132726, 133227, 133738, 134218, 134699, 135223, 135715, 136200, 136696, 137139, 137621, 138122, 138648, 139188, 139700, 140182, 140573, 140958, 141360, 141772, 142185, 142628, 143019, 143355, 143709, 144096, 144451, 144789, 145136, 145477, 145810, 146111, 146444, 146756, 147092, 147343, 147622, 147901, 148153]}, {\"mode\": \"lines\", \"name\": \"recovered\", \"type\": \"scatter\", \"x\": [\"1/22/20\", \"1/23/20\", \"1/24/20\", \"1/25/20\", \"1/26/20\", \"1/27/20\", \"1/28/20\", \"1/29/20\", \"1/30/20\", \"1/31/20\", \"2/1/20\", \"2/2/20\", \"2/3/20\", \"2/4/20\", \"2/5/20\", \"2/6/20\", \"2/7/20\", \"2/8/20\", \"2/9/20\", \"2/10/20\", \"2/11/20\", \"2/12/20\", \"2/13/20\", \"2/14/20\", \"2/15/20\", \"2/16/20\", \"2/17/20\", \"2/18/20\", \"2/19/20\", \"2/20/20\", \"2/21/20\", \"2/22/20\", \"2/23/20\", \"2/24/20\", \"2/25/20\", \"2/26/20\", \"2/27/20\", \"2/28/20\", \"2/29/20\", \"3/1/20\", \"3/2/20\", \"3/3/20\", \"3/4/20\", \"3/5/20\", \"3/6/20\", \"3/7/20\", \"3/8/20\", \"3/9/20\", \"3/10/20\", \"3/11/20\", \"3/12/20\", \"3/13/20\", \"3/14/20\", \"3/15/20\", \"3/16/20\", \"3/17/20\", \"3/18/20\", \"3/19/20\", \"3/20/20\", \"3/21/20\", \"3/22/20\", \"3/23/20\", \"3/24/20\", \"3/25/20\", \"3/26/20\", \"3/27/20\", \"3/28/20\", \"3/29/20\", \"3/30/20\", \"3/31/20\", \"4/1/20\", \"4/2/20\", \"4/3/20\", \"4/4/20\", \"4/5/20\", \"4/6/20\", \"4/7/20\", \"4/8/20\", \"4/9/20\", \"4/10/20\", \"4/11/20\", \"4/12/20\", \"4/13/20\", \"4/14/20\", \"4/15/20\", \"4/16/20\", \"4/17/20\", \"4/18/20\", \"4/19/20\", \"4/20/20\", \"4/21/20\", \"4/22/20\", \"4/23/20\", \"4/24/20\", \"4/25/20\", \"4/26/20\", \"4/27/20\", \"4/28/20\", \"4/29/20\", \"4/30/20\", \"5/1/20\", \"5/2/20\", \"5/3/20\", \"5/4/20\", \"5/5/20\", \"5/6/20\", \"5/7/20\", \"5/8/20\", \"5/9/20\", \"5/10/20\", \"5/11/20\", \"5/12/20\", \"5/13/20\", \"5/14/20\", \"5/15/20\", \"5/16/20\", \"5/17/20\", \"5/18/20\", \"5/19/20\", \"5/20/20\", \"5/21/20\", \"5/22/20\", \"5/23/20\", \"5/24/20\", \"5/25/20\", \"5/26/20\", \"5/27/20\", \"5/28/20\", \"5/29/20\", \"5/30/20\", \"5/31/20\", \"6/1/20\", \"6/2/20\", \"6/3/20\", \"6/4/20\", \"6/5/20\", \"6/6/20\", \"6/7/20\", \"6/8/20\", \"6/9/20\", \"6/10/20\", \"6/11/20\", \"6/12/20\", \"6/13/20\", \"6/14/20\", \"6/15/20\", \"6/16/20\", \"6/17/20\", \"6/18/20\", \"6/19/20\", \"6/20/20\", \"6/21/20\", \"6/22/20\", \"6/23/20\", \"6/24/20\", \"6/25/20\", \"6/26/20\", \"6/27/20\", \"6/28/20\", \"6/29/20\", \"6/30/20\", \"7/1/20\", \"7/2/20\", \"7/3/20\", \"7/4/20\", \"7/5/20\", \"7/6/20\", \"7/7/20\", \"7/8/20\", \"7/9/20\", \"7/10/20\", \"7/11/20\", \"7/12/20\", \"7/13/20\", \"7/14/20\", \"7/15/20\", \"7/16/20\", \"7/17/20\", \"7/18/20\", \"7/19/20\", \"7/20/20\", \"7/21/20\", \"7/22/20\", \"7/23/20\", \"7/24/20\", \"7/25/20\", \"7/26/20\", \"7/27/20\", \"7/28/20\", \"7/29/20\", \"7/30/20\", \"7/31/20\", \"8/1/20\", \"8/2/20\", \"8/3/20\", \"8/4/20\", \"8/5/20\", \"8/6/20\", \"8/7/20\", \"8/8/20\", \"8/9/20\", \"8/10/20\", \"8/11/20\", \"8/12/20\", \"8/13/20\", \"8/14/20\", \"8/15/20\", \"8/16/20\", \"8/17/20\", \"8/18/20\", \"8/19/20\", \"8/20/20\", \"8/21/20\", \"8/22/20\", \"8/23/20\", \"8/24/20\", \"8/25/20\", \"8/26/20\", \"8/27/20\", \"8/28/20\", \"8/29/20\", \"8/30/20\", \"8/31/20\", \"9/1/20\", \"9/2/20\", \"9/3/20\", \"9/4/20\", \"9/5/20\", \"9/6/20\", \"9/7/20\", \"9/8/20\", \"9/9/20\", \"9/10/20\", \"9/11/20\", \"9/12/20\", \"9/13/20\", \"9/14/20\", \"9/15/20\", \"9/16/20\", \"9/17/20\", \"9/18/20\", \"9/19/20\", \"9/20/20\", \"9/21/20\", \"9/22/20\", \"9/23/20\", \"9/24/20\", \"9/25/20\", \"9/26/20\", \"9/27/20\", \"9/28/20\", \"9/29/20\", \"9/30/20\", \"10/1/20\", \"10/2/20\", \"10/3/20\", \"10/4/20\", \"10/5/20\", \"10/6/20\", \"10/7/20\", \"10/8/20\", \"10/9/20\", \"10/10/20\", \"10/11/20\", \"10/12/20\", \"10/13/20\", \"10/14/20\", \"10/15/20\", \"10/16/20\", \"10/17/20\", \"10/18/20\", \"10/19/20\", \"10/20/20\", \"10/21/20\", \"10/22/20\", \"10/23/20\", \"10/24/20\", \"10/25/20\", \"10/26/20\", \"10/27/20\", \"10/28/20\", \"10/29/20\", \"10/30/20\", \"10/31/20\", \"11/1/20\", \"11/2/20\", \"11/3/20\", \"11/4/20\", \"11/5/20\", \"11/6/20\", \"11/7/20\", \"11/8/20\", \"11/9/20\", \"11/10/20\", \"11/11/20\", \"11/12/20\", \"11/13/20\", \"11/14/20\", \"11/15/20\", \"11/16/20\", \"11/17/20\", \"11/18/20\", \"11/19/20\", \"11/20/20\", \"11/21/20\", \"11/22/20\", \"11/23/20\", \"11/24/20\", \"11/25/20\", \"11/26/20\", \"11/27/20\", \"11/28/20\", \"11/29/20\", \"11/30/20\", \"12/1/20\", \"12/2/20\", \"12/3/20\", \"12/4/20\", \"12/5/20\", \"12/6/20\", \"12/7/20\", \"12/8/20\", \"12/9/20\", \"12/10/20\", \"12/11/20\", \"12/12/20\", \"12/13/20\", \"12/14/20\", \"12/15/20\", \"12/16/20\", \"12/17/20\", \"12/18/20\", \"12/19/20\", \"12/20/20\", \"12/21/20\", \"12/22/20\", \"12/23/20\", \"12/24/20\", \"12/25/20\", \"12/26/20\", \"12/27/20\", \"12/28/20\"], \"y\": [0, 0, 0, 0, 0, 0, 0, 0, 0, 0, 0, 0, 0, 0, 0, 0, 0, 0, 0, 0, 0, 0, 0, 0, 0, 3, 3, 3, 3, 3, 3, 3, 3, 3, 3, 3, 3, 3, 3, 3, 3, 3, 3, 3, 3, 3, 3, 3, 4, 4, 4, 4, 4, 13, 13, 14, 14, 15, 20, 23, 27, 27, 40, 43, 45, 73, 84, 95, 102, 123, 148, 191, 192, 229, 229, 375, 421, 506, 620, 774, 969, 1080, 1181, 1359, 1432, 1768, 2041, 2463, 2854, 3273, 3975, 4370, 5012, 5498, 5939, 6523, 7137, 7747, 8437, 9068, 10007, 10819, 11775, 12847, 14142, 15331, 16776, 17887, 19301, 20969, 22549, 24420, 26400, 27969, 30258, 34224, 36795, 39233, 42309, 45422, 48553, 51824, 54385, 57692, 60706, 64277, 67749, 70920, 82627, 86936, 91852, 95754, 100285, 104071, 108450, 113233, 118695, 123848, 129095, 134670, 135206, 147195, 154330, 162379, 169798, 180013, 186935, 194325, 204711, 213831, 227728, 237196, 248190, 258685, 271697, 285637, 295881, 309713, 321723, 334822, 347912, 359860, 379892, 394227, 409083, 424433, 439934, 456831, 476378, 495513, 515386, 534618, 553471, 571460, 592032, 612768, 635757, 653751, 677423, 700087, 724578, 753050, 782607, 817209, 849432, 885573, 917568, 951166, 988029, 1019735, 1055348, 1094374, 1145629, 1186203, 1230509, 1282215, 1328336, 1378105, 1427005, 1480884, 1535743, 1583489, 1639599, 1695982, 1751555, 1808936, 1862258, 1919842, 1977671, 2037816, 2096664, 2158946, 2222577, 2280566, 2338035, 2404585, 2458339, 2523771, 2583948, 2648998, 2713933, 2774801, 2839882, 2901908, 2970492, 3037151, 3107223, 3180865, 3250429, 3323950, 3398844, 3471783, 3542663, 3624196, 3702595, 3780107, 3859399, 3942360, 4025079, 4112551, 4208431, 4303043, 4396399, 4497867, 4587613, 4674987, 4756164, 4849584, 4941627, 5016520, 5101397, 5187825, 5273201, 5352078, 5427706, 5509966, 5586703, 5662490, 5744693, 5827704, 5906069, 5988822, 6077976, 6149535, 6227295, 6301927, 6383441, 6453779, 6524595, 6597209, 6663608, 6733328, 6795103, 6874518, 6948497, 7016046, 7078123, 7137228, 7201070, 7259509, 7315989, 7373375, 7432829, 7491513, 7544798, 7603121, 7656478, 7711809, 7765966, 7819886, 7868968, 7917373, 7959406, 8013783, 8066501, 8115580, 8163572, 8205728, 8249579, 8290370, 8335109, 8383602, 8428409, 8478124, 8521617, 8562641, 8604955, 8642771, 8679138, 8718517, 8759969, 8802267, 8847600, 8889585, 8932647, 8973373, 9016289, 9058822, 9100792, 9139901, 9178946, 9215581, 9253306, 9290809, 9324328, 9357464, 9388159, 9422636, 9456449, 9489740, 9520827, 9550712, 9580402, 9606111, 9636487, 9663382, 9693173, 9717834, 9740108, 9761538, 9782669, 9807569]}],                        {\"height\": 500, \"hovermode\": \"x\", \"showlegend\": true, \"template\": {\"data\": {\"bar\": [{\"error_x\": {\"color\": \"#f2f5fa\"}, \"error_y\": {\"color\": \"#f2f5fa\"}, \"marker\": {\"line\": {\"color\": \"rgb(17,17,17)\", \"width\": 0.5}}, \"type\": \"bar\"}], \"barpolar\": [{\"marker\": {\"line\": {\"color\": \"rgb(17,17,17)\", \"width\": 0.5}}, \"type\": \"barpolar\"}], \"carpet\": [{\"aaxis\": {\"endlinecolor\": \"#A2B1C6\", \"gridcolor\": \"#506784\", \"linecolor\": \"#506784\", \"minorgridcolor\": \"#506784\", \"startlinecolor\": \"#A2B1C6\"}, \"baxis\": {\"endlinecolor\": \"#A2B1C6\", \"gridcolor\": \"#506784\", \"linecolor\": \"#506784\", \"minorgridcolor\": \"#506784\", \"startlinecolor\": \"#A2B1C6\"}, \"type\": \"carpet\"}], \"choropleth\": [{\"colorbar\": {\"outlinewidth\": 0, \"ticks\": \"\"}, \"type\": \"choropleth\"}], \"contour\": [{\"colorbar\": {\"outlinewidth\": 0, \"ticks\": \"\"}, \"colorscale\": [[0.0, \"#0d0887\"], [0.1111111111111111, \"#46039f\"], [0.2222222222222222, \"#7201a8\"], [0.3333333333333333, \"#9c179e\"], [0.4444444444444444, \"#bd3786\"], [0.5555555555555556, \"#d8576b\"], [0.6666666666666666, \"#ed7953\"], [0.7777777777777778, \"#fb9f3a\"], [0.8888888888888888, \"#fdca26\"], [1.0, \"#f0f921\"]], \"type\": \"contour\"}], \"contourcarpet\": [{\"colorbar\": {\"outlinewidth\": 0, \"ticks\": \"\"}, \"type\": \"contourcarpet\"}], \"heatmap\": [{\"colorbar\": {\"outlinewidth\": 0, \"ticks\": \"\"}, \"colorscale\": [[0.0, \"#0d0887\"], [0.1111111111111111, \"#46039f\"], [0.2222222222222222, \"#7201a8\"], [0.3333333333333333, \"#9c179e\"], [0.4444444444444444, \"#bd3786\"], [0.5555555555555556, \"#d8576b\"], [0.6666666666666666, \"#ed7953\"], [0.7777777777777778, \"#fb9f3a\"], [0.8888888888888888, \"#fdca26\"], [1.0, \"#f0f921\"]], \"type\": \"heatmap\"}], \"heatmapgl\": [{\"colorbar\": {\"outlinewidth\": 0, \"ticks\": \"\"}, \"colorscale\": [[0.0, \"#0d0887\"], [0.1111111111111111, \"#46039f\"], [0.2222222222222222, \"#7201a8\"], [0.3333333333333333, \"#9c179e\"], [0.4444444444444444, \"#bd3786\"], [0.5555555555555556, \"#d8576b\"], [0.6666666666666666, \"#ed7953\"], [0.7777777777777778, \"#fb9f3a\"], [0.8888888888888888, \"#fdca26\"], [1.0, \"#f0f921\"]], \"type\": \"heatmapgl\"}], \"histogram\": [{\"marker\": {\"colorbar\": {\"outlinewidth\": 0, \"ticks\": \"\"}}, \"type\": \"histogram\"}], \"histogram2d\": [{\"colorbar\": {\"outlinewidth\": 0, \"ticks\": \"\"}, \"colorscale\": [[0.0, \"#0d0887\"], [0.1111111111111111, \"#46039f\"], [0.2222222222222222, \"#7201a8\"], [0.3333333333333333, \"#9c179e\"], [0.4444444444444444, \"#bd3786\"], [0.5555555555555556, \"#d8576b\"], [0.6666666666666666, \"#ed7953\"], [0.7777777777777778, \"#fb9f3a\"], [0.8888888888888888, \"#fdca26\"], [1.0, \"#f0f921\"]], \"type\": \"histogram2d\"}], \"histogram2dcontour\": [{\"colorbar\": {\"outlinewidth\": 0, \"ticks\": \"\"}, \"colorscale\": [[0.0, \"#0d0887\"], [0.1111111111111111, \"#46039f\"], [0.2222222222222222, \"#7201a8\"], [0.3333333333333333, \"#9c179e\"], [0.4444444444444444, \"#bd3786\"], [0.5555555555555556, \"#d8576b\"], [0.6666666666666666, \"#ed7953\"], [0.7777777777777778, \"#fb9f3a\"], [0.8888888888888888, \"#fdca26\"], [1.0, \"#f0f921\"]], \"type\": \"histogram2dcontour\"}], \"mesh3d\": [{\"colorbar\": {\"outlinewidth\": 0, \"ticks\": \"\"}, \"type\": \"mesh3d\"}], \"parcoords\": [{\"line\": {\"colorbar\": {\"outlinewidth\": 0, \"ticks\": \"\"}}, \"type\": \"parcoords\"}], \"pie\": [{\"automargin\": true, \"type\": \"pie\"}], \"scatter\": [{\"marker\": {\"line\": {\"color\": \"#283442\"}}, \"type\": \"scatter\"}], \"scatter3d\": [{\"line\": {\"colorbar\": {\"outlinewidth\": 0, \"ticks\": \"\"}}, \"marker\": {\"colorbar\": {\"outlinewidth\": 0, \"ticks\": \"\"}}, \"type\": \"scatter3d\"}], \"scattercarpet\": [{\"marker\": {\"colorbar\": {\"outlinewidth\": 0, \"ticks\": \"\"}}, \"type\": \"scattercarpet\"}], \"scattergeo\": [{\"marker\": {\"colorbar\": {\"outlinewidth\": 0, \"ticks\": \"\"}}, \"type\": \"scattergeo\"}], \"scattergl\": [{\"marker\": {\"line\": {\"color\": \"#283442\"}}, \"type\": \"scattergl\"}], \"scattermapbox\": [{\"marker\": {\"colorbar\": {\"outlinewidth\": 0, \"ticks\": \"\"}}, \"type\": \"scattermapbox\"}], \"scatterpolar\": [{\"marker\": {\"colorbar\": {\"outlinewidth\": 0, \"ticks\": \"\"}}, \"type\": \"scatterpolar\"}], \"scatterpolargl\": [{\"marker\": {\"colorbar\": {\"outlinewidth\": 0, \"ticks\": \"\"}}, \"type\": \"scatterpolargl\"}], \"scatterternary\": [{\"marker\": {\"colorbar\": {\"outlinewidth\": 0, \"ticks\": \"\"}}, \"type\": \"scatterternary\"}], \"surface\": [{\"colorbar\": {\"outlinewidth\": 0, \"ticks\": \"\"}, \"colorscale\": [[0.0, \"#0d0887\"], [0.1111111111111111, \"#46039f\"], [0.2222222222222222, \"#7201a8\"], [0.3333333333333333, \"#9c179e\"], [0.4444444444444444, \"#bd3786\"], [0.5555555555555556, \"#d8576b\"], [0.6666666666666666, \"#ed7953\"], [0.7777777777777778, \"#fb9f3a\"], [0.8888888888888888, \"#fdca26\"], [1.0, \"#f0f921\"]], \"type\": \"surface\"}], \"table\": [{\"cells\": {\"fill\": {\"color\": \"#506784\"}, \"line\": {\"color\": \"rgb(17,17,17)\"}}, \"header\": {\"fill\": {\"color\": \"#2a3f5f\"}, \"line\": {\"color\": \"rgb(17,17,17)\"}}, \"type\": \"table\"}]}, \"layout\": {\"annotationdefaults\": {\"arrowcolor\": \"#f2f5fa\", \"arrowhead\": 0, \"arrowwidth\": 1}, \"autotypenumbers\": \"strict\", \"coloraxis\": {\"colorbar\": {\"outlinewidth\": 0, \"ticks\": \"\"}}, \"colorscale\": {\"diverging\": [[0, \"#8e0152\"], [0.1, \"#c51b7d\"], [0.2, \"#de77ae\"], [0.3, \"#f1b6da\"], [0.4, \"#fde0ef\"], [0.5, \"#f7f7f7\"], [0.6, \"#e6f5d0\"], [0.7, \"#b8e186\"], [0.8, \"#7fbc41\"], [0.9, \"#4d9221\"], [1, \"#276419\"]], \"sequential\": [[0.0, \"#0d0887\"], [0.1111111111111111, \"#46039f\"], [0.2222222222222222, \"#7201a8\"], [0.3333333333333333, \"#9c179e\"], [0.4444444444444444, \"#bd3786\"], [0.5555555555555556, \"#d8576b\"], [0.6666666666666666, \"#ed7953\"], [0.7777777777777778, \"#fb9f3a\"], [0.8888888888888888, \"#fdca26\"], [1.0, \"#f0f921\"]], \"sequentialminus\": [[0.0, \"#0d0887\"], [0.1111111111111111, \"#46039f\"], [0.2222222222222222, \"#7201a8\"], [0.3333333333333333, \"#9c179e\"], [0.4444444444444444, \"#bd3786\"], [0.5555555555555556, \"#d8576b\"], [0.6666666666666666, \"#ed7953\"], [0.7777777777777778, \"#fb9f3a\"], [0.8888888888888888, \"#fdca26\"], [1.0, \"#f0f921\"]]}, \"colorway\": [\"#636efa\", \"#EF553B\", \"#00cc96\", \"#ab63fa\", \"#FFA15A\", \"#19d3f3\", \"#FF6692\", \"#B6E880\", \"#FF97FF\", \"#FECB52\"], \"font\": {\"color\": \"#f2f5fa\"}, \"geo\": {\"bgcolor\": \"rgb(17,17,17)\", \"lakecolor\": \"rgb(17,17,17)\", \"landcolor\": \"rgb(17,17,17)\", \"showlakes\": true, \"showland\": true, \"subunitcolor\": \"#506784\"}, \"hoverlabel\": {\"align\": \"left\"}, \"hovermode\": \"closest\", \"mapbox\": {\"style\": \"dark\"}, \"paper_bgcolor\": \"rgb(17,17,17)\", \"plot_bgcolor\": \"rgb(17,17,17)\", \"polar\": {\"angularaxis\": {\"gridcolor\": \"#506784\", \"linecolor\": \"#506784\", \"ticks\": \"\"}, \"bgcolor\": \"rgb(17,17,17)\", \"radialaxis\": {\"gridcolor\": \"#506784\", \"linecolor\": \"#506784\", \"ticks\": \"\"}}, \"scene\": {\"xaxis\": {\"backgroundcolor\": \"rgb(17,17,17)\", \"gridcolor\": \"#506784\", \"gridwidth\": 2, \"linecolor\": \"#506784\", \"showbackground\": true, \"ticks\": \"\", \"zerolinecolor\": \"#C8D4E3\"}, \"yaxis\": {\"backgroundcolor\": \"rgb(17,17,17)\", \"gridcolor\": \"#506784\", \"gridwidth\": 2, \"linecolor\": \"#506784\", \"showbackground\": true, \"ticks\": \"\", \"zerolinecolor\": \"#C8D4E3\"}, \"zaxis\": {\"backgroundcolor\": \"rgb(17,17,17)\", \"gridcolor\": \"#506784\", \"gridwidth\": 2, \"linecolor\": \"#506784\", \"showbackground\": true, \"ticks\": \"\", \"zerolinecolor\": \"#C8D4E3\"}}, \"shapedefaults\": {\"line\": {\"color\": \"#f2f5fa\"}}, \"sliderdefaults\": {\"bgcolor\": \"#C8D4E3\", \"bordercolor\": \"rgb(17,17,17)\", \"borderwidth\": 1, \"tickwidth\": 0}, \"ternary\": {\"aaxis\": {\"gridcolor\": \"#506784\", \"linecolor\": \"#506784\", \"ticks\": \"\"}, \"baxis\": {\"gridcolor\": \"#506784\", \"linecolor\": \"#506784\", \"ticks\": \"\"}, \"bgcolor\": \"rgb(17,17,17)\", \"caxis\": {\"gridcolor\": \"#506784\", \"linecolor\": \"#506784\", \"ticks\": \"\"}}, \"title\": {\"x\": 0.05}, \"updatemenudefaults\": {\"bgcolor\": \"#506784\", \"borderwidth\": 0}, \"xaxis\": {\"automargin\": true, \"gridcolor\": \"#283442\", \"linecolor\": \"#506784\", \"ticks\": \"\", \"title\": {\"standoff\": 15}, \"zerolinecolor\": \"#283442\", \"zerolinewidth\": 2}, \"yaxis\": {\"automargin\": true, \"gridcolor\": \"#283442\", \"linecolor\": \"#506784\", \"ticks\": \"\", \"title\": {\"standoff\": 15}, \"zerolinecolor\": \"#283442\", \"zerolinewidth\": 2}}}, \"title\": {\"text\": \"Analysis of India\"}},                        {\"responsive\": true}                    ).then(function(){\n",
              "                            \n",
              "var gd = document.getElementById('e7578b45-61c5-47a7-bab0-fdcb920809c8');\n",
              "var x = new MutationObserver(function (mutations, observer) {{\n",
              "        var display = window.getComputedStyle(gd).display;\n",
              "        if (!display || display === 'none') {{\n",
              "            console.log([gd, 'removed!']);\n",
              "            Plotly.purge(gd);\n",
              "            observer.disconnect();\n",
              "        }}\n",
              "}});\n",
              "\n",
              "// Listen for the removal of the full notebook cells\n",
              "var notebookContainer = gd.closest('#notebook-container');\n",
              "if (notebookContainer) {{\n",
              "    x.observe(notebookContainer, {childList: true});\n",
              "}}\n",
              "\n",
              "// Listen for the clearing of the current output cell\n",
              "var outputEl = gd.closest('.output');\n",
              "if (outputEl) {{\n",
              "    x.observe(outputEl, {childList: true});\n",
              "}}\n",
              "\n",
              "                        })                };                            </script>        </div>\n",
              "</body>\n",
              "</html>"
            ]
          },
          "metadata": {
            "tags": []
          }
        }
      ]
    },
    {
      "cell_type": "markdown",
      "metadata": {
        "id": "_p-YjGn1PxTy"
      },
      "source": [
        "# Data Visualization - Animations"
      ]
    },
    {
      "cell_type": "markdown",
      "metadata": {
        "id": "Xd-fKZkpPxTy"
      },
      "source": [
        "## Top Ten Affected "
      ]
    },
    {
      "cell_type": "markdown",
      "metadata": {
        "id": "G4I6OANkPxTy"
      },
      "source": [
        "### Code"
      ]
    },
    {
      "cell_type": "code",
      "metadata": {
        "id": "6-TmUZjLPxTy"
      },
      "source": [
        "def unpivot(df):\n",
        "   return df.melt(id_vars = [\"country\"],  value_vars = df.columns[1:])"
      ],
      "execution_count": null,
      "outputs": []
    },
    {
      "cell_type": "code",
      "metadata": {
        "id": "ZIjvwW99PxTy"
      },
      "source": [
        "def take_top10(df):\n",
        "  top = list(df[df[\"variable\"] == df['variable'][df.index[-1]]].sort_values(by=['value'], ascending=False).head(10)[\"country\"])\n",
        "  df = df[df['country'].isin(top)]\n",
        "  return df"
      ],
      "execution_count": null,
      "outputs": []
    },
    {
      "cell_type": "code",
      "metadata": {
        "id": "4axSr9rDPxTy"
      },
      "source": [
        "def create_data(df):\n",
        "  new = take_top10(df)\n",
        "  l = list(set(new[\"variable\"]))\n",
        "  l.sort()\n",
        "  l.reverse()\n",
        "  ff= new[new['variable'].isin(l[::5])]\n",
        "  ff.rename(columns = {\"country\": \"Country\",\"variable\" : \"Date\",\"value\": \"Cases\"}, inplace = True)\n",
        "  return ff"
      ],
      "execution_count": null,
      "outputs": []
    },
    {
      "cell_type": "code",
      "metadata": {
        "id": "Tocz-RmMPxTy"
      },
      "source": [
        "def plot_fig(ff,Color):\n",
        "  fig = px.bar(ff, x=\"Country\", y=\"Cases\", color_discrete_sequence=[Color]*len(ff),template=\"plotly_dark\",animation_frame=\"Date\", animation_group=\"Country\", range_y=[0,ff[\"Cases\"].max()])\n",
        "  fig.layout.update(showlegend=False)\n",
        "  return fig"
      ],
      "execution_count": null,
      "outputs": []
    },
    {
      "cell_type": "code",
      "metadata": {
        "id": "g459voYaPxTz"
      },
      "source": [
        "def animated_barchart(df,name):\n",
        "  color = \"#f54842\" if name == \"deaths\"  else \"#45a2ff\" if name == \"confirmed\" else \"#42f587\" \n",
        "  return plot_fig(create_data(take_top10(unpivot(df))),color)"
      ],
      "execution_count": null,
      "outputs": []
    },
    {
      "cell_type": "markdown",
      "metadata": {
        "id": "-JKPeUVoPxTz"
      },
      "source": [
        "### Examples"
      ]
    },
    {
      "cell_type": "markdown",
      "metadata": {
        "id": "axyQjOT-PxTz"
      },
      "source": [
        "#### Confirmed Cases"
      ]
    },
    {
      "cell_type": "code",
      "metadata": {
        "id": "mWqrtbGlPxTz",
        "colab": {
          "base_uri": "https://localhost:8080/",
          "height": 542
        },
        "outputId": "c6588263-af76-423c-da85-553ae8519d62"
      },
      "source": [
        "animated_barchart(confirmed_global,\"confirmed\")"
      ],
      "execution_count": null,
      "outputs": [
        {
          "output_type": "display_data",
          "data": {
            "text/html": [
              "<html>\n",
              "<head><meta charset=\"utf-8\" /></head>\n",
              "<body>\n",
              "    <div>            <script src=\"https://cdnjs.cloudflare.com/ajax/libs/mathjax/2.7.5/MathJax.js?config=TeX-AMS-MML_SVG\"></script><script type=\"text/javascript\">if (window.MathJax) {MathJax.Hub.Config({SVG: {font: \"STIX-Web\"}});}</script>                <script type=\"text/javascript\">window.PlotlyConfig = {MathJaxConfig: 'local'};</script>\n",
              "        <script src=\"https://cdn.plot.ly/plotly-latest.min.js\"></script>                <div id=\"87a1a974-b0e9-4dc9-bf5b-524a46ea4a6d\" class=\"plotly-graph-div\" style=\"height:525px; width:100%;\"></div>            <script type=\"text/javascript\">                                    window.PLOTLYENV=window.PLOTLYENV || {};                                    if (document.getElementById(\"87a1a974-b0e9-4dc9-bf5b-524a46ea4a6d\")) {                    Plotly.newPlot(                        \"87a1a974-b0e9-4dc9-bf5b-524a46ea4a6d\",                        [{\"alignmentgroup\": \"True\", \"hovertemplate\": \"Date=1/23/20<br>Country=%{x}<br>Cases=%{y}<extra></extra>\", \"ids\": [\"Brazil\", \"France\", \"Germany\", \"India\", \"Italy\", \"Russia\", \"Spain\", \"Turkey\", \"US\", \"United Kingdom\"], \"legendgroup\": \"\", \"marker\": {\"color\": \"#45a2ff\"}, \"name\": \"\", \"offsetgroup\": \"\", \"orientation\": \"v\", \"showlegend\": false, \"textposition\": \"auto\", \"type\": \"bar\", \"x\": [\"Brazil\", \"France\", \"Germany\", \"India\", \"Italy\", \"Russia\", \"Spain\", \"Turkey\", \"US\", \"United Kingdom\"], \"xaxis\": \"x\", \"y\": [0, 0, 0, 0, 0, 0, 0, 0, 1, 0], \"yaxis\": \"y\"}],                        {\"barmode\": \"relative\", \"legend\": {\"tracegroupgap\": 0}, \"margin\": {\"t\": 60}, \"showlegend\": false, \"sliders\": [{\"active\": 0, \"currentvalue\": {\"prefix\": \"Date=\"}, \"len\": 0.9, \"pad\": {\"b\": 10, \"t\": 60}, \"steps\": [{\"args\": [[\"1/23/20\"], {\"frame\": {\"duration\": 0, \"redraw\": true}, \"fromcurrent\": true, \"mode\": \"immediate\", \"transition\": {\"duration\": 0, \"easing\": \"linear\"}}], \"label\": \"1/23/20\", \"method\": \"animate\"}, {\"args\": [[\"1/28/20\"], {\"frame\": {\"duration\": 0, \"redraw\": true}, \"fromcurrent\": true, \"mode\": \"immediate\", \"transition\": {\"duration\": 0, \"easing\": \"linear\"}}], \"label\": \"1/28/20\", \"method\": \"animate\"}, {\"args\": [[\"2/3/20\"], {\"frame\": {\"duration\": 0, \"redraw\": true}, \"fromcurrent\": true, \"mode\": \"immediate\", \"transition\": {\"duration\": 0, \"easing\": \"linear\"}}], \"label\": \"2/3/20\", \"method\": \"animate\"}, {\"args\": [[\"2/8/20\"], {\"frame\": {\"duration\": 0, \"redraw\": true}, \"fromcurrent\": true, \"mode\": \"immediate\", \"transition\": {\"duration\": 0, \"easing\": \"linear\"}}], \"label\": \"2/8/20\", \"method\": \"animate\"}, {\"args\": [[\"2/11/20\"], {\"frame\": {\"duration\": 0, \"redraw\": true}, \"fromcurrent\": true, \"mode\": \"immediate\", \"transition\": {\"duration\": 0, \"easing\": \"linear\"}}], \"label\": \"2/11/20\", \"method\": \"animate\"}, {\"args\": [[\"2/16/20\"], {\"frame\": {\"duration\": 0, \"redraw\": true}, \"fromcurrent\": true, \"mode\": \"immediate\", \"transition\": {\"duration\": 0, \"easing\": \"linear\"}}], \"label\": \"2/16/20\", \"method\": \"animate\"}, {\"args\": [[\"2/20/20\"], {\"frame\": {\"duration\": 0, \"redraw\": true}, \"fromcurrent\": true, \"mode\": \"immediate\", \"transition\": {\"duration\": 0, \"easing\": \"linear\"}}], \"label\": \"2/20/20\", \"method\": \"animate\"}, {\"args\": [[\"2/25/20\"], {\"frame\": {\"duration\": 0, \"redraw\": true}, \"fromcurrent\": true, \"mode\": \"immediate\", \"transition\": {\"duration\": 0, \"easing\": \"linear\"}}], \"label\": \"2/25/20\", \"method\": \"animate\"}, {\"args\": [[\"3/7/20\"], {\"frame\": {\"duration\": 0, \"redraw\": true}, \"fromcurrent\": true, \"mode\": \"immediate\", \"transition\": {\"duration\": 0, \"easing\": \"linear\"}}], \"label\": \"3/7/20\", \"method\": \"animate\"}, {\"args\": [[\"3/12/20\"], {\"frame\": {\"duration\": 0, \"redraw\": true}, \"fromcurrent\": true, \"mode\": \"immediate\", \"transition\": {\"duration\": 0, \"easing\": \"linear\"}}], \"label\": \"3/12/20\", \"method\": \"animate\"}, {\"args\": [[\"3/17/20\"], {\"frame\": {\"duration\": 0, \"redraw\": true}, \"fromcurrent\": true, \"mode\": \"immediate\", \"transition\": {\"duration\": 0, \"easing\": \"linear\"}}], \"label\": \"3/17/20\", \"method\": \"animate\"}, {\"args\": [[\"3/21/20\"], {\"frame\": {\"duration\": 0, \"redraw\": true}, \"fromcurrent\": true, \"mode\": \"immediate\", \"transition\": {\"duration\": 0, \"easing\": \"linear\"}}], \"label\": \"3/21/20\", \"method\": \"animate\"}, {\"args\": [[\"3/26/20\"], {\"frame\": {\"duration\": 0, \"redraw\": true}, \"fromcurrent\": true, \"mode\": \"immediate\", \"transition\": {\"duration\": 0, \"easing\": \"linear\"}}], \"label\": \"3/26/20\", \"method\": \"animate\"}, {\"args\": [[\"3/30/20\"], {\"frame\": {\"duration\": 0, \"redraw\": true}, \"fromcurrent\": true, \"mode\": \"immediate\", \"transition\": {\"duration\": 0, \"easing\": \"linear\"}}], \"label\": \"3/30/20\", \"method\": \"animate\"}, {\"args\": [[\"4/3/20\"], {\"frame\": {\"duration\": 0, \"redraw\": true}, \"fromcurrent\": true, \"mode\": \"immediate\", \"transition\": {\"duration\": 0, \"easing\": \"linear\"}}], \"label\": \"4/3/20\", \"method\": \"animate\"}, {\"args\": [[\"4/7/20\"], {\"frame\": {\"duration\": 0, \"redraw\": true}, \"fromcurrent\": true, \"mode\": \"immediate\", \"transition\": {\"duration\": 0, \"easing\": \"linear\"}}], \"label\": \"4/7/20\", \"method\": \"animate\"}, {\"args\": [[\"4/11/20\"], {\"frame\": {\"duration\": 0, \"redraw\": true}, \"fromcurrent\": true, \"mode\": \"immediate\", \"transition\": {\"duration\": 0, \"easing\": \"linear\"}}], \"label\": \"4/11/20\", \"method\": \"animate\"}, {\"args\": [[\"4/16/20\"], {\"frame\": {\"duration\": 0, \"redraw\": true}, \"fromcurrent\": true, \"mode\": \"immediate\", \"transition\": {\"duration\": 0, \"easing\": \"linear\"}}], \"label\": \"4/16/20\", \"method\": \"animate\"}, {\"args\": [[\"4/20/20\"], {\"frame\": {\"duration\": 0, \"redraw\": true}, \"fromcurrent\": true, \"mode\": \"immediate\", \"transition\": {\"duration\": 0, \"easing\": \"linear\"}}], \"label\": \"4/20/20\", \"method\": \"animate\"}, {\"args\": [[\"4/25/20\"], {\"frame\": {\"duration\": 0, \"redraw\": true}, \"fromcurrent\": true, \"mode\": \"immediate\", \"transition\": {\"duration\": 0, \"easing\": \"linear\"}}], \"label\": \"4/25/20\", \"method\": \"animate\"}, {\"args\": [[\"5/3/20\"], {\"frame\": {\"duration\": 0, \"redraw\": true}, \"fromcurrent\": true, \"mode\": \"immediate\", \"transition\": {\"duration\": 0, \"easing\": \"linear\"}}], \"label\": \"5/3/20\", \"method\": \"animate\"}, {\"args\": [[\"5/6/20\"], {\"frame\": {\"duration\": 0, \"redraw\": true}, \"fromcurrent\": true, \"mode\": \"immediate\", \"transition\": {\"duration\": 0, \"easing\": \"linear\"}}], \"label\": \"5/6/20\", \"method\": \"animate\"}, {\"args\": [[\"5/11/20\"], {\"frame\": {\"duration\": 0, \"redraw\": true}, \"fromcurrent\": true, \"mode\": \"immediate\", \"transition\": {\"duration\": 0, \"easing\": \"linear\"}}], \"label\": \"5/11/20\", \"method\": \"animate\"}, {\"args\": [[\"5/16/20\"], {\"frame\": {\"duration\": 0, \"redraw\": true}, \"fromcurrent\": true, \"mode\": \"immediate\", \"transition\": {\"duration\": 0, \"easing\": \"linear\"}}], \"label\": \"5/16/20\", \"method\": \"animate\"}, {\"args\": [[\"5/20/20\"], {\"frame\": {\"duration\": 0, \"redraw\": true}, \"fromcurrent\": true, \"mode\": \"immediate\", \"transition\": {\"duration\": 0, \"easing\": \"linear\"}}], \"label\": \"5/20/20\", \"method\": \"animate\"}, {\"args\": [[\"5/25/20\"], {\"frame\": {\"duration\": 0, \"redraw\": true}, \"fromcurrent\": true, \"mode\": \"immediate\", \"transition\": {\"duration\": 0, \"easing\": \"linear\"}}], \"label\": \"5/25/20\", \"method\": \"animate\"}, {\"args\": [[\"6/2/20\"], {\"frame\": {\"duration\": 0, \"redraw\": true}, \"fromcurrent\": true, \"mode\": \"immediate\", \"transition\": {\"duration\": 0, \"easing\": \"linear\"}}], \"label\": \"6/2/20\", \"method\": \"animate\"}, {\"args\": [[\"6/6/20\"], {\"frame\": {\"duration\": 0, \"redraw\": true}, \"fromcurrent\": true, \"mode\": \"immediate\", \"transition\": {\"duration\": 0, \"easing\": \"linear\"}}], \"label\": \"6/6/20\", \"method\": \"animate\"}, {\"args\": [[\"6/10/20\"], {\"frame\": {\"duration\": 0, \"redraw\": true}, \"fromcurrent\": true, \"mode\": \"immediate\", \"transition\": {\"duration\": 0, \"easing\": \"linear\"}}], \"label\": \"6/10/20\", \"method\": \"animate\"}, {\"args\": [[\"6/15/20\"], {\"frame\": {\"duration\": 0, \"redraw\": true}, \"fromcurrent\": true, \"mode\": \"immediate\", \"transition\": {\"duration\": 0, \"easing\": \"linear\"}}], \"label\": \"6/15/20\", \"method\": \"animate\"}, {\"args\": [[\"6/24/20\"], {\"frame\": {\"duration\": 0, \"redraw\": true}, \"fromcurrent\": true, \"mode\": \"immediate\", \"transition\": {\"duration\": 0, \"easing\": \"linear\"}}], \"label\": \"6/24/20\", \"method\": \"animate\"}, {\"args\": [[\"6/29/20\"], {\"frame\": {\"duration\": 0, \"redraw\": true}, \"fromcurrent\": true, \"mode\": \"immediate\", \"transition\": {\"duration\": 0, \"easing\": \"linear\"}}], \"label\": \"6/29/20\", \"method\": \"animate\"}, {\"args\": [[\"7/2/20\"], {\"frame\": {\"duration\": 0, \"redraw\": true}, \"fromcurrent\": true, \"mode\": \"immediate\", \"transition\": {\"duration\": 0, \"easing\": \"linear\"}}], \"label\": \"7/2/20\", \"method\": \"animate\"}, {\"args\": [[\"7/5/20\"], {\"frame\": {\"duration\": 0, \"redraw\": true}, \"fromcurrent\": true, \"mode\": \"immediate\", \"transition\": {\"duration\": 0, \"easing\": \"linear\"}}], \"label\": \"7/5/20\", \"method\": \"animate\"}, {\"args\": [[\"7/10/20\"], {\"frame\": {\"duration\": 0, \"redraw\": true}, \"fromcurrent\": true, \"mode\": \"immediate\", \"transition\": {\"duration\": 0, \"easing\": \"linear\"}}], \"label\": \"7/10/20\", \"method\": \"animate\"}, {\"args\": [[\"7/15/20\"], {\"frame\": {\"duration\": 0, \"redraw\": true}, \"fromcurrent\": true, \"mode\": \"immediate\", \"transition\": {\"duration\": 0, \"easing\": \"linear\"}}], \"label\": \"7/15/20\", \"method\": \"animate\"}, {\"args\": [[\"7/24/20\"], {\"frame\": {\"duration\": 0, \"redraw\": true}, \"fromcurrent\": true, \"mode\": \"immediate\", \"transition\": {\"duration\": 0, \"easing\": \"linear\"}}], \"label\": \"7/24/20\", \"method\": \"animate\"}, {\"args\": [[\"7/29/20\"], {\"frame\": {\"duration\": 0, \"redraw\": true}, \"fromcurrent\": true, \"mode\": \"immediate\", \"transition\": {\"duration\": 0, \"easing\": \"linear\"}}], \"label\": \"7/29/20\", \"method\": \"animate\"}, {\"args\": [[\"8/1/20\"], {\"frame\": {\"duration\": 0, \"redraw\": true}, \"fromcurrent\": true, \"mode\": \"immediate\", \"transition\": {\"duration\": 0, \"easing\": \"linear\"}}], \"label\": \"8/1/20\", \"method\": \"animate\"}, {\"args\": [[\"8/4/20\"], {\"frame\": {\"duration\": 0, \"redraw\": true}, \"fromcurrent\": true, \"mode\": \"immediate\", \"transition\": {\"duration\": 0, \"easing\": \"linear\"}}], \"label\": \"8/4/20\", \"method\": \"animate\"}, {\"args\": [[\"8/9/20\"], {\"frame\": {\"duration\": 0, \"redraw\": true}, \"fromcurrent\": true, \"mode\": \"immediate\", \"transition\": {\"duration\": 0, \"easing\": \"linear\"}}], \"label\": \"8/9/20\", \"method\": \"animate\"}, {\"args\": [[\"8/14/20\"], {\"frame\": {\"duration\": 0, \"redraw\": true}, \"fromcurrent\": true, \"mode\": \"immediate\", \"transition\": {\"duration\": 0, \"easing\": \"linear\"}}], \"label\": \"8/14/20\", \"method\": \"animate\"}, {\"args\": [[\"8/19/20\"], {\"frame\": {\"duration\": 0, \"redraw\": true}, \"fromcurrent\": true, \"mode\": \"immediate\", \"transition\": {\"duration\": 0, \"easing\": \"linear\"}}], \"label\": \"8/19/20\", \"method\": \"animate\"}, {\"args\": [[\"8/23/20\"], {\"frame\": {\"duration\": 0, \"redraw\": true}, \"fromcurrent\": true, \"mode\": \"immediate\", \"transition\": {\"duration\": 0, \"easing\": \"linear\"}}], \"label\": \"8/23/20\", \"method\": \"animate\"}, {\"args\": [[\"8/28/20\"], {\"frame\": {\"duration\": 0, \"redraw\": true}, \"fromcurrent\": true, \"mode\": \"immediate\", \"transition\": {\"duration\": 0, \"easing\": \"linear\"}}], \"label\": \"8/28/20\", \"method\": \"animate\"}, {\"args\": [[\"9/4/20\"], {\"frame\": {\"duration\": 0, \"redraw\": true}, \"fromcurrent\": true, \"mode\": \"immediate\", \"transition\": {\"duration\": 0, \"easing\": \"linear\"}}], \"label\": \"9/4/20\", \"method\": \"animate\"}, {\"args\": [[\"9/9/20\"], {\"frame\": {\"duration\": 0, \"redraw\": true}, \"fromcurrent\": true, \"mode\": \"immediate\", \"transition\": {\"duration\": 0, \"easing\": \"linear\"}}], \"label\": \"9/9/20\", \"method\": \"animate\"}, {\"args\": [[\"9/13/20\"], {\"frame\": {\"duration\": 0, \"redraw\": true}, \"fromcurrent\": true, \"mode\": \"immediate\", \"transition\": {\"duration\": 0, \"easing\": \"linear\"}}], \"label\": \"9/13/20\", \"method\": \"animate\"}, {\"args\": [[\"9/18/20\"], {\"frame\": {\"duration\": 0, \"redraw\": true}, \"fromcurrent\": true, \"mode\": \"immediate\", \"transition\": {\"duration\": 0, \"easing\": \"linear\"}}], \"label\": \"9/18/20\", \"method\": \"animate\"}, {\"args\": [[\"9/22/20\"], {\"frame\": {\"duration\": 0, \"redraw\": true}, \"fromcurrent\": true, \"mode\": \"immediate\", \"transition\": {\"duration\": 0, \"easing\": \"linear\"}}], \"label\": \"9/22/20\", \"method\": \"animate\"}, {\"args\": [[\"9/27/20\"], {\"frame\": {\"duration\": 0, \"redraw\": true}, \"fromcurrent\": true, \"mode\": \"immediate\", \"transition\": {\"duration\": 0, \"easing\": \"linear\"}}], \"label\": \"9/27/20\", \"method\": \"animate\"}, {\"args\": [[\"10/2/20\"], {\"frame\": {\"duration\": 0, \"redraw\": true}, \"fromcurrent\": true, \"mode\": \"immediate\", \"transition\": {\"duration\": 0, \"easing\": \"linear\"}}], \"label\": \"10/2/20\", \"method\": \"animate\"}, {\"args\": [[\"10/5/20\"], {\"frame\": {\"duration\": 0, \"redraw\": true}, \"fromcurrent\": true, \"mode\": \"immediate\", \"transition\": {\"duration\": 0, \"easing\": \"linear\"}}], \"label\": \"10/5/20\", \"method\": \"animate\"}, {\"args\": [[\"10/10/20\"], {\"frame\": {\"duration\": 0, \"redraw\": true}, \"fromcurrent\": true, \"mode\": \"immediate\", \"transition\": {\"duration\": 0, \"easing\": \"linear\"}}], \"label\": \"10/10/20\", \"method\": \"animate\"}, {\"args\": [[\"10/15/20\"], {\"frame\": {\"duration\": 0, \"redraw\": true}, \"fromcurrent\": true, \"mode\": \"immediate\", \"transition\": {\"duration\": 0, \"easing\": \"linear\"}}], \"label\": \"10/15/20\", \"method\": \"animate\"}, {\"args\": [[\"10/24/20\"], {\"frame\": {\"duration\": 0, \"redraw\": true}, \"fromcurrent\": true, \"mode\": \"immediate\", \"transition\": {\"duration\": 0, \"easing\": \"linear\"}}], \"label\": \"10/24/20\", \"method\": \"animate\"}, {\"args\": [[\"10/29/20\"], {\"frame\": {\"duration\": 0, \"redraw\": true}, \"fromcurrent\": true, \"mode\": \"immediate\", \"transition\": {\"duration\": 0, \"easing\": \"linear\"}}], \"label\": \"10/29/20\", \"method\": \"animate\"}, {\"args\": [[\"11/1/20\"], {\"frame\": {\"duration\": 0, \"redraw\": true}, \"fromcurrent\": true, \"mode\": \"immediate\", \"transition\": {\"duration\": 0, \"easing\": \"linear\"}}], \"label\": \"11/1/20\", \"method\": \"animate\"}, {\"args\": [[\"11/5/20\"], {\"frame\": {\"duration\": 0, \"redraw\": true}, \"fromcurrent\": true, \"mode\": \"immediate\", \"transition\": {\"duration\": 0, \"easing\": \"linear\"}}], \"label\": \"11/5/20\", \"method\": \"animate\"}, {\"args\": [[\"11/14/20\"], {\"frame\": {\"duration\": 0, \"redraw\": true}, \"fromcurrent\": true, \"mode\": \"immediate\", \"transition\": {\"duration\": 0, \"easing\": \"linear\"}}], \"label\": \"11/14/20\", \"method\": \"animate\"}, {\"args\": [[\"11/19/20\"], {\"frame\": {\"duration\": 0, \"redraw\": true}, \"fromcurrent\": true, \"mode\": \"immediate\", \"transition\": {\"duration\": 0, \"easing\": \"linear\"}}], \"label\": \"11/19/20\", \"method\": \"animate\"}, {\"args\": [[\"11/23/20\"], {\"frame\": {\"duration\": 0, \"redraw\": true}, \"fromcurrent\": true, \"mode\": \"immediate\", \"transition\": {\"duration\": 0, \"easing\": \"linear\"}}], \"label\": \"11/23/20\", \"method\": \"animate\"}, {\"args\": [[\"11/28/20\"], {\"frame\": {\"duration\": 0, \"redraw\": true}, \"fromcurrent\": true, \"mode\": \"immediate\", \"transition\": {\"duration\": 0, \"easing\": \"linear\"}}], \"label\": \"11/28/20\", \"method\": \"animate\"}, {\"args\": [[\"12/1/20\"], {\"frame\": {\"duration\": 0, \"redraw\": true}, \"fromcurrent\": true, \"mode\": \"immediate\", \"transition\": {\"duration\": 0, \"easing\": \"linear\"}}], \"label\": \"12/1/20\", \"method\": \"animate\"}, {\"args\": [[\"12/7/20\"], {\"frame\": {\"duration\": 0, \"redraw\": true}, \"fromcurrent\": true, \"mode\": \"immediate\", \"transition\": {\"duration\": 0, \"easing\": \"linear\"}}], \"label\": \"12/7/20\", \"method\": \"animate\"}, {\"args\": [[\"12/14/20\"], {\"frame\": {\"duration\": 0, \"redraw\": true}, \"fromcurrent\": true, \"mode\": \"immediate\", \"transition\": {\"duration\": 0, \"easing\": \"linear\"}}], \"label\": \"12/14/20\", \"method\": \"animate\"}, {\"args\": [[\"12/19/20\"], {\"frame\": {\"duration\": 0, \"redraw\": true}, \"fromcurrent\": true, \"mode\": \"immediate\", \"transition\": {\"duration\": 0, \"easing\": \"linear\"}}], \"label\": \"12/19/20\", \"method\": \"animate\"}, {\"args\": [[\"12/23/20\"], {\"frame\": {\"duration\": 0, \"redraw\": true}, \"fromcurrent\": true, \"mode\": \"immediate\", \"transition\": {\"duration\": 0, \"easing\": \"linear\"}}], \"label\": \"12/23/20\", \"method\": \"animate\"}, {\"args\": [[\"12/28/20\"], {\"frame\": {\"duration\": 0, \"redraw\": true}, \"fromcurrent\": true, \"mode\": \"immediate\", \"transition\": {\"duration\": 0, \"easing\": \"linear\"}}], \"label\": \"12/28/20\", \"method\": \"animate\"}], \"x\": 0.1, \"xanchor\": \"left\", \"y\": 0, \"yanchor\": \"top\"}], \"template\": {\"data\": {\"bar\": [{\"error_x\": {\"color\": \"#f2f5fa\"}, \"error_y\": {\"color\": \"#f2f5fa\"}, \"marker\": {\"line\": {\"color\": \"rgb(17,17,17)\", \"width\": 0.5}}, \"type\": \"bar\"}], \"barpolar\": [{\"marker\": {\"line\": {\"color\": \"rgb(17,17,17)\", \"width\": 0.5}}, \"type\": \"barpolar\"}], \"carpet\": [{\"aaxis\": {\"endlinecolor\": \"#A2B1C6\", \"gridcolor\": \"#506784\", \"linecolor\": \"#506784\", \"minorgridcolor\": \"#506784\", \"startlinecolor\": \"#A2B1C6\"}, \"baxis\": {\"endlinecolor\": \"#A2B1C6\", \"gridcolor\": \"#506784\", \"linecolor\": \"#506784\", \"minorgridcolor\": \"#506784\", \"startlinecolor\": \"#A2B1C6\"}, \"type\": \"carpet\"}], \"choropleth\": [{\"colorbar\": {\"outlinewidth\": 0, \"ticks\": \"\"}, \"type\": \"choropleth\"}], \"contour\": [{\"colorbar\": {\"outlinewidth\": 0, \"ticks\": \"\"}, \"colorscale\": [[0.0, \"#0d0887\"], [0.1111111111111111, \"#46039f\"], [0.2222222222222222, \"#7201a8\"], [0.3333333333333333, \"#9c179e\"], [0.4444444444444444, \"#bd3786\"], [0.5555555555555556, \"#d8576b\"], [0.6666666666666666, \"#ed7953\"], [0.7777777777777778, \"#fb9f3a\"], [0.8888888888888888, \"#fdca26\"], [1.0, \"#f0f921\"]], \"type\": \"contour\"}], \"contourcarpet\": [{\"colorbar\": {\"outlinewidth\": 0, \"ticks\": \"\"}, \"type\": \"contourcarpet\"}], \"heatmap\": [{\"colorbar\": {\"outlinewidth\": 0, \"ticks\": \"\"}, \"colorscale\": [[0.0, \"#0d0887\"], [0.1111111111111111, \"#46039f\"], [0.2222222222222222, \"#7201a8\"], [0.3333333333333333, \"#9c179e\"], [0.4444444444444444, \"#bd3786\"], [0.5555555555555556, \"#d8576b\"], [0.6666666666666666, \"#ed7953\"], [0.7777777777777778, \"#fb9f3a\"], [0.8888888888888888, \"#fdca26\"], [1.0, \"#f0f921\"]], \"type\": \"heatmap\"}], \"heatmapgl\": [{\"colorbar\": {\"outlinewidth\": 0, \"ticks\": \"\"}, \"colorscale\": [[0.0, \"#0d0887\"], [0.1111111111111111, \"#46039f\"], [0.2222222222222222, \"#7201a8\"], [0.3333333333333333, \"#9c179e\"], [0.4444444444444444, \"#bd3786\"], [0.5555555555555556, \"#d8576b\"], [0.6666666666666666, \"#ed7953\"], [0.7777777777777778, \"#fb9f3a\"], [0.8888888888888888, \"#fdca26\"], [1.0, \"#f0f921\"]], \"type\": \"heatmapgl\"}], \"histogram\": [{\"marker\": {\"colorbar\": {\"outlinewidth\": 0, \"ticks\": \"\"}}, \"type\": \"histogram\"}], \"histogram2d\": [{\"colorbar\": {\"outlinewidth\": 0, \"ticks\": \"\"}, \"colorscale\": [[0.0, \"#0d0887\"], [0.1111111111111111, \"#46039f\"], [0.2222222222222222, \"#7201a8\"], [0.3333333333333333, \"#9c179e\"], [0.4444444444444444, \"#bd3786\"], [0.5555555555555556, \"#d8576b\"], [0.6666666666666666, \"#ed7953\"], [0.7777777777777778, \"#fb9f3a\"], [0.8888888888888888, \"#fdca26\"], [1.0, \"#f0f921\"]], \"type\": \"histogram2d\"}], \"histogram2dcontour\": [{\"colorbar\": {\"outlinewidth\": 0, \"ticks\": \"\"}, \"colorscale\": [[0.0, \"#0d0887\"], [0.1111111111111111, \"#46039f\"], [0.2222222222222222, \"#7201a8\"], [0.3333333333333333, \"#9c179e\"], [0.4444444444444444, \"#bd3786\"], [0.5555555555555556, \"#d8576b\"], [0.6666666666666666, \"#ed7953\"], [0.7777777777777778, \"#fb9f3a\"], [0.8888888888888888, \"#fdca26\"], [1.0, \"#f0f921\"]], \"type\": \"histogram2dcontour\"}], \"mesh3d\": [{\"colorbar\": {\"outlinewidth\": 0, \"ticks\": \"\"}, \"type\": \"mesh3d\"}], \"parcoords\": [{\"line\": {\"colorbar\": {\"outlinewidth\": 0, \"ticks\": \"\"}}, \"type\": \"parcoords\"}], \"pie\": [{\"automargin\": true, \"type\": \"pie\"}], \"scatter\": [{\"marker\": {\"line\": {\"color\": \"#283442\"}}, \"type\": \"scatter\"}], \"scatter3d\": [{\"line\": {\"colorbar\": {\"outlinewidth\": 0, \"ticks\": \"\"}}, \"marker\": {\"colorbar\": {\"outlinewidth\": 0, \"ticks\": \"\"}}, \"type\": \"scatter3d\"}], \"scattercarpet\": [{\"marker\": {\"colorbar\": {\"outlinewidth\": 0, \"ticks\": \"\"}}, \"type\": \"scattercarpet\"}], \"scattergeo\": [{\"marker\": {\"colorbar\": {\"outlinewidth\": 0, \"ticks\": \"\"}}, \"type\": \"scattergeo\"}], \"scattergl\": [{\"marker\": {\"line\": {\"color\": \"#283442\"}}, \"type\": \"scattergl\"}], \"scattermapbox\": [{\"marker\": {\"colorbar\": {\"outlinewidth\": 0, \"ticks\": \"\"}}, \"type\": \"scattermapbox\"}], \"scatterpolar\": [{\"marker\": {\"colorbar\": {\"outlinewidth\": 0, \"ticks\": \"\"}}, \"type\": \"scatterpolar\"}], \"scatterpolargl\": [{\"marker\": {\"colorbar\": {\"outlinewidth\": 0, \"ticks\": \"\"}}, \"type\": \"scatterpolargl\"}], \"scatterternary\": [{\"marker\": {\"colorbar\": {\"outlinewidth\": 0, \"ticks\": \"\"}}, \"type\": \"scatterternary\"}], \"surface\": [{\"colorbar\": {\"outlinewidth\": 0, \"ticks\": \"\"}, \"colorscale\": [[0.0, \"#0d0887\"], [0.1111111111111111, \"#46039f\"], [0.2222222222222222, \"#7201a8\"], [0.3333333333333333, \"#9c179e\"], [0.4444444444444444, \"#bd3786\"], [0.5555555555555556, \"#d8576b\"], [0.6666666666666666, \"#ed7953\"], [0.7777777777777778, \"#fb9f3a\"], [0.8888888888888888, \"#fdca26\"], [1.0, \"#f0f921\"]], \"type\": \"surface\"}], \"table\": [{\"cells\": {\"fill\": {\"color\": \"#506784\"}, \"line\": {\"color\": \"rgb(17,17,17)\"}}, \"header\": {\"fill\": {\"color\": \"#2a3f5f\"}, \"line\": {\"color\": \"rgb(17,17,17)\"}}, \"type\": \"table\"}]}, \"layout\": {\"annotationdefaults\": {\"arrowcolor\": \"#f2f5fa\", \"arrowhead\": 0, \"arrowwidth\": 1}, \"autotypenumbers\": \"strict\", \"coloraxis\": {\"colorbar\": {\"outlinewidth\": 0, \"ticks\": \"\"}}, \"colorscale\": {\"diverging\": [[0, \"#8e0152\"], [0.1, \"#c51b7d\"], [0.2, \"#de77ae\"], [0.3, \"#f1b6da\"], [0.4, \"#fde0ef\"], [0.5, \"#f7f7f7\"], [0.6, \"#e6f5d0\"], [0.7, \"#b8e186\"], [0.8, \"#7fbc41\"], [0.9, \"#4d9221\"], [1, \"#276419\"]], \"sequential\": [[0.0, \"#0d0887\"], [0.1111111111111111, \"#46039f\"], [0.2222222222222222, \"#7201a8\"], [0.3333333333333333, \"#9c179e\"], [0.4444444444444444, \"#bd3786\"], [0.5555555555555556, \"#d8576b\"], [0.6666666666666666, \"#ed7953\"], [0.7777777777777778, \"#fb9f3a\"], [0.8888888888888888, \"#fdca26\"], [1.0, \"#f0f921\"]], \"sequentialminus\": [[0.0, \"#0d0887\"], [0.1111111111111111, \"#46039f\"], [0.2222222222222222, \"#7201a8\"], [0.3333333333333333, \"#9c179e\"], [0.4444444444444444, \"#bd3786\"], [0.5555555555555556, \"#d8576b\"], [0.6666666666666666, \"#ed7953\"], [0.7777777777777778, \"#fb9f3a\"], [0.8888888888888888, \"#fdca26\"], [1.0, \"#f0f921\"]]}, \"colorway\": [\"#636efa\", \"#EF553B\", \"#00cc96\", \"#ab63fa\", \"#FFA15A\", \"#19d3f3\", \"#FF6692\", \"#B6E880\", \"#FF97FF\", \"#FECB52\"], \"font\": {\"color\": \"#f2f5fa\"}, \"geo\": {\"bgcolor\": \"rgb(17,17,17)\", \"lakecolor\": \"rgb(17,17,17)\", \"landcolor\": \"rgb(17,17,17)\", \"showlakes\": true, \"showland\": true, \"subunitcolor\": \"#506784\"}, \"hoverlabel\": {\"align\": \"left\"}, \"hovermode\": \"closest\", \"mapbox\": {\"style\": \"dark\"}, \"paper_bgcolor\": \"rgb(17,17,17)\", \"plot_bgcolor\": \"rgb(17,17,17)\", \"polar\": {\"angularaxis\": {\"gridcolor\": \"#506784\", \"linecolor\": \"#506784\", \"ticks\": \"\"}, \"bgcolor\": \"rgb(17,17,17)\", \"radialaxis\": {\"gridcolor\": \"#506784\", \"linecolor\": \"#506784\", \"ticks\": \"\"}}, \"scene\": {\"xaxis\": {\"backgroundcolor\": \"rgb(17,17,17)\", \"gridcolor\": \"#506784\", \"gridwidth\": 2, \"linecolor\": \"#506784\", \"showbackground\": true, \"ticks\": \"\", \"zerolinecolor\": \"#C8D4E3\"}, \"yaxis\": {\"backgroundcolor\": \"rgb(17,17,17)\", \"gridcolor\": \"#506784\", \"gridwidth\": 2, \"linecolor\": \"#506784\", \"showbackground\": true, \"ticks\": \"\", \"zerolinecolor\": \"#C8D4E3\"}, \"zaxis\": {\"backgroundcolor\": \"rgb(17,17,17)\", \"gridcolor\": \"#506784\", \"gridwidth\": 2, \"linecolor\": \"#506784\", \"showbackground\": true, \"ticks\": \"\", \"zerolinecolor\": \"#C8D4E3\"}}, \"shapedefaults\": {\"line\": {\"color\": \"#f2f5fa\"}}, \"sliderdefaults\": {\"bgcolor\": \"#C8D4E3\", \"bordercolor\": \"rgb(17,17,17)\", \"borderwidth\": 1, \"tickwidth\": 0}, \"ternary\": {\"aaxis\": {\"gridcolor\": \"#506784\", \"linecolor\": \"#506784\", \"ticks\": \"\"}, \"baxis\": {\"gridcolor\": \"#506784\", \"linecolor\": \"#506784\", \"ticks\": \"\"}, \"bgcolor\": \"rgb(17,17,17)\", \"caxis\": {\"gridcolor\": \"#506784\", \"linecolor\": \"#506784\", \"ticks\": \"\"}}, \"title\": {\"x\": 0.05}, \"updatemenudefaults\": {\"bgcolor\": \"#506784\", \"borderwidth\": 0}, \"xaxis\": {\"automargin\": true, \"gridcolor\": \"#283442\", \"linecolor\": \"#506784\", \"ticks\": \"\", \"title\": {\"standoff\": 15}, \"zerolinecolor\": \"#283442\", \"zerolinewidth\": 2}, \"yaxis\": {\"automargin\": true, \"gridcolor\": \"#283442\", \"linecolor\": \"#506784\", \"ticks\": \"\", \"title\": {\"standoff\": 15}, \"zerolinecolor\": \"#283442\", \"zerolinewidth\": 2}}}, \"updatemenus\": [{\"buttons\": [{\"args\": [null, {\"frame\": {\"duration\": 500, \"redraw\": true}, \"fromcurrent\": true, \"mode\": \"immediate\", \"transition\": {\"duration\": 500, \"easing\": \"linear\"}}], \"label\": \"&#9654;\", \"method\": \"animate\"}, {\"args\": [[null], {\"frame\": {\"duration\": 0, \"redraw\": true}, \"fromcurrent\": true, \"mode\": \"immediate\", \"transition\": {\"duration\": 0, \"easing\": \"linear\"}}], \"label\": \"&#9724;\", \"method\": \"animate\"}], \"direction\": \"left\", \"pad\": {\"r\": 10, \"t\": 70}, \"showactive\": false, \"type\": \"buttons\", \"x\": 0.1, \"xanchor\": \"right\", \"y\": 0, \"yanchor\": \"top\"}], \"xaxis\": {\"anchor\": \"y\", \"domain\": [0.0, 1.0], \"title\": {\"text\": \"Country\"}}, \"yaxis\": {\"anchor\": \"x\", \"domain\": [0.0, 1.0], \"range\": [0, 19309281], \"title\": {\"text\": \"Cases\"}}},                        {\"responsive\": true}                    ).then(function(){\n",
              "                            Plotly.addFrames('87a1a974-b0e9-4dc9-bf5b-524a46ea4a6d', [{\"data\": [{\"alignmentgroup\": \"True\", \"hovertemplate\": \"Date=1/23/20<br>Country=%{x}<br>Cases=%{y}<extra></extra>\", \"ids\": [\"Brazil\", \"France\", \"Germany\", \"India\", \"Italy\", \"Russia\", \"Spain\", \"Turkey\", \"US\", \"United Kingdom\"], \"legendgroup\": \"\", \"marker\": {\"color\": \"#45a2ff\"}, \"name\": \"\", \"offsetgroup\": \"\", \"orientation\": \"v\", \"showlegend\": false, \"textposition\": \"auto\", \"x\": [\"Brazil\", \"France\", \"Germany\", \"India\", \"Italy\", \"Russia\", \"Spain\", \"Turkey\", \"US\", \"United Kingdom\"], \"xaxis\": \"x\", \"y\": [0, 0, 0, 0, 0, 0, 0, 0, 1, 0], \"yaxis\": \"y\", \"type\": \"bar\"}], \"name\": \"1/23/20\"}, {\"data\": [{\"alignmentgroup\": \"True\", \"hovertemplate\": \"Date=1/28/20<br>Country=%{x}<br>Cases=%{y}<extra></extra>\", \"ids\": [\"Brazil\", \"France\", \"Germany\", \"India\", \"Italy\", \"Russia\", \"Spain\", \"Turkey\", \"US\", \"United Kingdom\"], \"legendgroup\": \"\", \"marker\": {\"color\": \"#45a2ff\"}, \"name\": \"\", \"offsetgroup\": \"\", \"orientation\": \"v\", \"showlegend\": false, \"textposition\": \"auto\", \"x\": [\"Brazil\", \"France\", \"Germany\", \"India\", \"Italy\", \"Russia\", \"Spain\", \"Turkey\", \"US\", \"United Kingdom\"], \"xaxis\": \"x\", \"y\": [0, 4, 4, 0, 0, 0, 0, 0, 5, 0], \"yaxis\": \"y\", \"type\": \"bar\"}], \"name\": \"1/28/20\"}, {\"data\": [{\"alignmentgroup\": \"True\", \"hovertemplate\": \"Date=2/3/20<br>Country=%{x}<br>Cases=%{y}<extra></extra>\", \"ids\": [\"Brazil\", \"France\", \"Germany\", \"India\", \"Italy\", \"Russia\", \"Spain\", \"Turkey\", \"US\", \"United Kingdom\"], \"legendgroup\": \"\", \"marker\": {\"color\": \"#45a2ff\"}, \"name\": \"\", \"offsetgroup\": \"\", \"orientation\": \"v\", \"showlegend\": false, \"textposition\": \"auto\", \"x\": [\"Brazil\", \"France\", \"Germany\", \"India\", \"Italy\", \"Russia\", \"Spain\", \"Turkey\", \"US\", \"United Kingdom\"], \"xaxis\": \"x\", \"y\": [0, 6, 12, 3, 2, 2, 1, 0, 11, 8], \"yaxis\": \"y\", \"type\": \"bar\"}], \"name\": \"2/3/20\"}, {\"data\": [{\"alignmentgroup\": \"True\", \"hovertemplate\": \"Date=2/8/20<br>Country=%{x}<br>Cases=%{y}<extra></extra>\", \"ids\": [\"Brazil\", \"France\", \"Germany\", \"India\", \"Italy\", \"Russia\", \"Spain\", \"Turkey\", \"US\", \"United Kingdom\"], \"legendgroup\": \"\", \"marker\": {\"color\": \"#45a2ff\"}, \"name\": \"\", \"offsetgroup\": \"\", \"orientation\": \"v\", \"showlegend\": false, \"textposition\": \"auto\", \"x\": [\"Brazil\", \"France\", \"Germany\", \"India\", \"Italy\", \"Russia\", \"Spain\", \"Turkey\", \"US\", \"United Kingdom\"], \"xaxis\": \"x\", \"y\": [0, 11, 13, 3, 3, 2, 1, 0, 12, 13], \"yaxis\": \"y\", \"type\": \"bar\"}], \"name\": \"2/8/20\"}, {\"data\": [{\"alignmentgroup\": \"True\", \"hovertemplate\": \"Date=2/11/20<br>Country=%{x}<br>Cases=%{y}<extra></extra>\", \"ids\": [\"Brazil\", \"France\", \"Germany\", \"India\", \"Italy\", \"Russia\", \"Spain\", \"Turkey\", \"US\", \"United Kingdom\"], \"legendgroup\": \"\", \"marker\": {\"color\": \"#45a2ff\"}, \"name\": \"\", \"offsetgroup\": \"\", \"orientation\": \"v\", \"showlegend\": false, \"textposition\": \"auto\", \"x\": [\"Brazil\", \"France\", \"Germany\", \"India\", \"Italy\", \"Russia\", \"Spain\", \"Turkey\", \"US\", \"United Kingdom\"], \"xaxis\": \"x\", \"y\": [0, 11, 16, 3, 3, 2, 2, 0, 13, 15], \"yaxis\": \"y\", \"type\": \"bar\"}], \"name\": \"2/11/20\"}, {\"data\": [{\"alignmentgroup\": \"True\", \"hovertemplate\": \"Date=2/16/20<br>Country=%{x}<br>Cases=%{y}<extra></extra>\", \"ids\": [\"Brazil\", \"France\", \"Germany\", \"India\", \"Italy\", \"Russia\", \"Spain\", \"Turkey\", \"US\", \"United Kingdom\"], \"legendgroup\": \"\", \"marker\": {\"color\": \"#45a2ff\"}, \"name\": \"\", \"offsetgroup\": \"\", \"orientation\": \"v\", \"showlegend\": false, \"textposition\": \"auto\", \"x\": [\"Brazil\", \"France\", \"Germany\", \"India\", \"Italy\", \"Russia\", \"Spain\", \"Turkey\", \"US\", \"United Kingdom\"], \"xaxis\": \"x\", \"y\": [0, 12, 16, 3, 3, 2, 2, 0, 14, 18], \"yaxis\": \"y\", \"type\": \"bar\"}], \"name\": \"2/16/20\"}, {\"data\": [{\"alignmentgroup\": \"True\", \"hovertemplate\": \"Date=2/20/20<br>Country=%{x}<br>Cases=%{y}<extra></extra>\", \"ids\": [\"Brazil\", \"France\", \"Germany\", \"India\", \"Italy\", \"Russia\", \"Spain\", \"Turkey\", \"US\", \"United Kingdom\"], \"legendgroup\": \"\", \"marker\": {\"color\": \"#45a2ff\"}, \"name\": \"\", \"offsetgroup\": \"\", \"orientation\": \"v\", \"showlegend\": false, \"textposition\": \"auto\", \"x\": [\"Brazil\", \"France\", \"Germany\", \"India\", \"Italy\", \"Russia\", \"Spain\", \"Turkey\", \"US\", \"United Kingdom\"], \"xaxis\": \"x\", \"y\": [0, 12, 16, 3, 3, 2, 2, 0, 14, 22], \"yaxis\": \"y\", \"type\": \"bar\"}], \"name\": \"2/20/20\"}, {\"data\": [{\"alignmentgroup\": \"True\", \"hovertemplate\": \"Date=2/25/20<br>Country=%{x}<br>Cases=%{y}<extra></extra>\", \"ids\": [\"Brazil\", \"France\", \"Germany\", \"India\", \"Italy\", \"Russia\", \"Spain\", \"Turkey\", \"US\", \"United Kingdom\"], \"legendgroup\": \"\", \"marker\": {\"color\": \"#45a2ff\"}, \"name\": \"\", \"offsetgroup\": \"\", \"orientation\": \"v\", \"showlegend\": false, \"textposition\": \"auto\", \"x\": [\"Brazil\", \"France\", \"Germany\", \"India\", \"Italy\", \"Russia\", \"Spain\", \"Turkey\", \"US\", \"United Kingdom\"], \"xaxis\": \"x\", \"y\": [0, 14, 17, 3, 322, 2, 6, 0, 16, 34], \"yaxis\": \"y\", \"type\": \"bar\"}], \"name\": \"2/25/20\"}, {\"data\": [{\"alignmentgroup\": \"True\", \"hovertemplate\": \"Date=3/7/20<br>Country=%{x}<br>Cases=%{y}<extra></extra>\", \"ids\": [\"Brazil\", \"France\", \"Germany\", \"India\", \"Italy\", \"Russia\", \"Spain\", \"Turkey\", \"US\", \"United Kingdom\"], \"legendgroup\": \"\", \"marker\": {\"color\": \"#45a2ff\"}, \"name\": \"\", \"offsetgroup\": \"\", \"orientation\": \"v\", \"showlegend\": false, \"textposition\": \"auto\", \"x\": [\"Brazil\", \"France\", \"Germany\", \"India\", \"Italy\", \"Russia\", \"Spain\", \"Turkey\", \"US\", \"United Kingdom\"], \"xaxis\": \"x\", \"y\": [13, 948, 799, 34, 5883, 13, 500, 0, 403, 429], \"yaxis\": \"y\", \"type\": \"bar\"}], \"name\": \"3/7/20\"}, {\"data\": [{\"alignmentgroup\": \"True\", \"hovertemplate\": \"Date=3/12/20<br>Country=%{x}<br>Cases=%{y}<extra></extra>\", \"ids\": [\"Brazil\", \"France\", \"Germany\", \"India\", \"Italy\", \"Russia\", \"Spain\", \"Turkey\", \"US\", \"United Kingdom\"], \"legendgroup\": \"\", \"marker\": {\"color\": \"#45a2ff\"}, \"name\": \"\", \"offsetgroup\": \"\", \"orientation\": \"v\", \"showlegend\": false, \"textposition\": \"auto\", \"x\": [\"Brazil\", \"France\", \"Germany\", \"India\", \"Italy\", \"Russia\", \"Spain\", \"Turkey\", \"US\", \"United Kingdom\"], \"xaxis\": \"x\", \"y\": [52, 2293, 2078, 73, 15113, 28, 2277, 1, 1586, 1790], \"yaxis\": \"y\", \"type\": \"bar\"}], \"name\": \"3/12/20\"}, {\"data\": [{\"alignmentgroup\": \"True\", \"hovertemplate\": \"Date=3/17/20<br>Country=%{x}<br>Cases=%{y}<extra></extra>\", \"ids\": [\"Brazil\", \"France\", \"Germany\", \"India\", \"Italy\", \"Russia\", \"Spain\", \"Turkey\", \"US\", \"United Kingdom\"], \"legendgroup\": \"\", \"marker\": {\"color\": \"#45a2ff\"}, \"name\": \"\", \"offsetgroup\": \"\", \"orientation\": \"v\", \"showlegend\": false, \"textposition\": \"auto\", \"x\": [\"Brazil\", \"France\", \"Germany\", \"India\", \"Italy\", \"Russia\", \"Spain\", \"Turkey\", \"US\", \"United Kingdom\"], \"xaxis\": \"x\", \"y\": [321, 7715, 9257, 142, 31506, 114, 11748, 47, 6512, 4462], \"yaxis\": \"y\", \"type\": \"bar\"}], \"name\": \"3/17/20\"}, {\"data\": [{\"alignmentgroup\": \"True\", \"hovertemplate\": \"Date=3/21/20<br>Country=%{x}<br>Cases=%{y}<extra></extra>\", \"ids\": [\"Brazil\", \"France\", \"Germany\", \"India\", \"Italy\", \"Russia\", \"Spain\", \"Turkey\", \"US\", \"United Kingdom\"], \"legendgroup\": \"\", \"marker\": {\"color\": \"#45a2ff\"}, \"name\": \"\", \"offsetgroup\": \"\", \"orientation\": \"v\", \"showlegend\": false, \"textposition\": \"auto\", \"x\": [\"Brazil\", \"France\", \"Germany\", \"India\", \"Italy\", \"Russia\", \"Spain\", \"Turkey\", \"US\", \"United Kingdom\"], \"xaxis\": \"x\", \"y\": [1021, 14463, 22213, 330, 53578, 306, 25374, 670, 26025, 9006], \"yaxis\": \"y\", \"type\": \"bar\"}], \"name\": \"3/21/20\"}, {\"data\": [{\"alignmentgroup\": \"True\", \"hovertemplate\": \"Date=3/26/20<br>Country=%{x}<br>Cases=%{y}<extra></extra>\", \"ids\": [\"Brazil\", \"France\", \"Germany\", \"India\", \"Italy\", \"Russia\", \"Spain\", \"Turkey\", \"US\", \"United Kingdom\"], \"legendgroup\": \"\", \"marker\": {\"color\": \"#45a2ff\"}, \"name\": \"\", \"offsetgroup\": \"\", \"orientation\": \"v\", \"showlegend\": false, \"textposition\": \"auto\", \"x\": [\"Brazil\", \"France\", \"Germany\", \"India\", \"Italy\", \"Russia\", \"Spain\", \"Turkey\", \"US\", \"United Kingdom\"], \"xaxis\": \"x\", \"y\": [2985, 29252, 43938, 727, 80589, 840, 57786, 3629, 86613, 20970], \"yaxis\": \"y\", \"type\": \"bar\"}], \"name\": \"3/26/20\"}, {\"data\": [{\"alignmentgroup\": \"True\", \"hovertemplate\": \"Date=3/30/20<br>Country=%{x}<br>Cases=%{y}<extra></extra>\", \"ids\": [\"Brazil\", \"France\", \"Germany\", \"India\", \"Italy\", \"Russia\", \"Spain\", \"Turkey\", \"US\", \"United Kingdom\"], \"legendgroup\": \"\", \"marker\": {\"color\": \"#45a2ff\"}, \"name\": \"\", \"offsetgroup\": \"\", \"orientation\": \"v\", \"showlegend\": false, \"textposition\": \"auto\", \"x\": [\"Brazil\", \"France\", \"Germany\", \"India\", \"Italy\", \"Russia\", \"Spain\", \"Turkey\", \"US\", \"United Kingdom\"], \"xaxis\": \"x\", \"y\": [4579, 44649, 66885, 1251, 101739, 1836, 87956, 10827, 165861, 34281], \"yaxis\": \"y\", \"type\": \"bar\"}], \"name\": \"3/30/20\"}, {\"data\": [{\"alignmentgroup\": \"True\", \"hovertemplate\": \"Date=4/3/20<br>Country=%{x}<br>Cases=%{y}<extra></extra>\", \"ids\": [\"Brazil\", \"France\", \"Germany\", \"India\", \"Italy\", \"Russia\", \"Spain\", \"Turkey\", \"US\", \"United Kingdom\"], \"legendgroup\": \"\", \"marker\": {\"color\": \"#45a2ff\"}, \"name\": \"\", \"offsetgroup\": \"\", \"orientation\": \"v\", \"showlegend\": false, \"textposition\": \"auto\", \"x\": [\"Brazil\", \"France\", \"Germany\", \"India\", \"Italy\", \"Russia\", \"Spain\", \"Turkey\", \"US\", \"United Kingdom\"], \"xaxis\": \"x\", \"y\": [9056, 64452, 91159, 2567, 119827, 4149, 119199, 20921, 288885, 53699], \"yaxis\": \"y\", \"type\": \"bar\"}], \"name\": \"4/3/20\"}, {\"data\": [{\"alignmentgroup\": \"True\", \"hovertemplate\": \"Date=4/7/20<br>Country=%{x}<br>Cases=%{y}<extra></extra>\", \"ids\": [\"Brazil\", \"France\", \"Germany\", \"India\", \"Italy\", \"Russia\", \"Spain\", \"Turkey\", \"US\", \"United Kingdom\"], \"legendgroup\": \"\", \"marker\": {\"color\": \"#45a2ff\"}, \"name\": \"\", \"offsetgroup\": \"\", \"orientation\": \"v\", \"showlegend\": false, \"textposition\": \"auto\", \"x\": [\"Brazil\", \"France\", \"Germany\", \"India\", \"Italy\", \"Russia\", \"Spain\", \"Turkey\", \"US\", \"United Kingdom\"], \"xaxis\": \"x\", \"y\": [14034, 47396, 107663, 5311, 135586, 7497, 141942, 34109, 413311, 72224], \"yaxis\": \"y\", \"type\": \"bar\"}], \"name\": \"4/7/20\"}, {\"data\": [{\"alignmentgroup\": \"True\", \"hovertemplate\": \"Date=4/11/20<br>Country=%{x}<br>Cases=%{y}<extra></extra>\", \"ids\": [\"Brazil\", \"France\", \"Germany\", \"India\", \"Italy\", \"Russia\", \"Spain\", \"Turkey\", \"US\", \"United Kingdom\"], \"legendgroup\": \"\", \"marker\": {\"color\": \"#45a2ff\"}, \"name\": \"\", \"offsetgroup\": \"\", \"orientation\": \"v\", \"showlegend\": false, \"textposition\": \"auto\", \"x\": [\"Brazil\", \"France\", \"Germany\", \"India\", \"Italy\", \"Russia\", \"Spain\", \"Turkey\", \"US\", \"United Kingdom\"], \"xaxis\": \"x\", \"y\": [20727, 58045, 124908, 8446, 152271, 13584, 163027, 52167, 544018, 90273], \"yaxis\": \"y\", \"type\": \"bar\"}], \"name\": \"4/11/20\"}, {\"data\": [{\"alignmentgroup\": \"True\", \"hovertemplate\": \"Date=4/16/20<br>Country=%{x}<br>Cases=%{y}<extra></extra>\", \"ids\": [\"Brazil\", \"France\", \"Germany\", \"India\", \"Italy\", \"Russia\", \"Spain\", \"Turkey\", \"US\", \"United Kingdom\"], \"legendgroup\": \"\", \"marker\": {\"color\": \"#45a2ff\"}, \"name\": \"\", \"offsetgroup\": \"\", \"orientation\": \"v\", \"showlegend\": false, \"textposition\": \"auto\", \"x\": [\"Brazil\", \"France\", \"Germany\", \"India\", \"Italy\", \"Russia\", \"Spain\", \"Turkey\", \"US\", \"United Kingdom\"], \"xaxis\": \"x\", \"y\": [30425, 145166, 137698, 13430, 168941, 27938, 184948, 74193, 682463, 112808], \"yaxis\": \"y\", \"type\": \"bar\"}], \"name\": \"4/16/20\"}, {\"data\": [{\"alignmentgroup\": \"True\", \"hovertemplate\": \"Date=4/20/20<br>Country=%{x}<br>Cases=%{y}<extra></extra>\", \"ids\": [\"Brazil\", \"France\", \"Germany\", \"India\", \"Italy\", \"Russia\", \"Spain\", \"Turkey\", \"US\", \"United Kingdom\"], \"legendgroup\": \"\", \"marker\": {\"color\": \"#45a2ff\"}, \"name\": \"\", \"offsetgroup\": \"\", \"orientation\": \"v\", \"showlegend\": false, \"textposition\": \"auto\", \"x\": [\"Brazil\", \"France\", \"Germany\", \"India\", \"Italy\", \"Russia\", \"Spain\", \"Turkey\", \"US\", \"United Kingdom\"], \"xaxis\": \"x\", \"y\": [40743, 154402, 147065, 18539, 181228, 47121, 200210, 90980, 799121, 131260], \"yaxis\": \"y\", \"type\": \"bar\"}], \"name\": \"4/20/20\"}, {\"data\": [{\"alignmentgroup\": \"True\", \"hovertemplate\": \"Date=4/25/20<br>Country=%{x}<br>Cases=%{y}<extra></extra>\", \"ids\": [\"Brazil\", \"France\", \"Germany\", \"India\", \"Italy\", \"Russia\", \"Spain\", \"Turkey\", \"US\", \"United Kingdom\"], \"legendgroup\": \"\", \"marker\": {\"color\": \"#45a2ff\"}, \"name\": \"\", \"offsetgroup\": \"\", \"orientation\": \"v\", \"showlegend\": false, \"textposition\": \"auto\", \"x\": [\"Brazil\", \"France\", \"Germany\", \"India\", \"Italy\", \"Russia\", \"Spain\", \"Turkey\", \"US\", \"United Kingdom\"], \"xaxis\": \"x\", \"y\": [59324, 161647, 156513, 26283, 195351, 74588, 205905, 107773, 949989, 155453], \"yaxis\": \"y\", \"type\": \"bar\"}], \"name\": \"4/25/20\"}, {\"data\": [{\"alignmentgroup\": \"True\", \"hovertemplate\": \"Date=5/3/20<br>Country=%{x}<br>Cases=%{y}<extra></extra>\", \"ids\": [\"Brazil\", \"France\", \"Germany\", \"India\", \"Italy\", \"Russia\", \"Spain\", \"Turkey\", \"US\", \"United Kingdom\"], \"legendgroup\": \"\", \"marker\": {\"color\": \"#45a2ff\"}, \"name\": \"\", \"offsetgroup\": \"\", \"orientation\": \"v\", \"showlegend\": false, \"textposition\": \"auto\", \"x\": [\"Brazil\", \"France\", \"Germany\", \"India\", \"Italy\", \"Russia\", \"Spain\", \"Turkey\", \"US\", \"United Kingdom\"], \"xaxis\": \"x\", \"y\": [101826, 170540, 165664, 42505, 210717, 134687, 217466, 126045, 1166955, 189708], \"yaxis\": \"y\", \"type\": \"bar\"}], \"name\": \"5/3/20\"}, {\"data\": [{\"alignmentgroup\": \"True\", \"hovertemplate\": \"Date=5/6/20<br>Country=%{x}<br>Cases=%{y}<extra></extra>\", \"ids\": [\"Brazil\", \"France\", \"Germany\", \"India\", \"Italy\", \"Russia\", \"Spain\", \"Turkey\", \"US\", \"United Kingdom\"], \"legendgroup\": \"\", \"marker\": {\"color\": \"#45a2ff\"}, \"name\": \"\", \"offsetgroup\": \"\", \"orientation\": \"v\", \"showlegend\": false, \"textposition\": \"auto\", \"x\": [\"Brazil\", \"France\", \"Germany\", \"India\", \"Italy\", \"Russia\", \"Spain\", \"Turkey\", \"US\", \"United Kingdom\"], \"xaxis\": \"x\", \"y\": [126611, 176355, 168162, 52987, 214457, 165929, 220325, 131744, 1239745, 200616], \"yaxis\": \"y\", \"type\": \"bar\"}], \"name\": \"5/6/20\"}, {\"data\": [{\"alignmentgroup\": \"True\", \"hovertemplate\": \"Date=5/11/20<br>Country=%{x}<br>Cases=%{y}<extra></extra>\", \"ids\": [\"Brazil\", \"France\", \"Germany\", \"India\", \"Italy\", \"Russia\", \"Spain\", \"Turkey\", \"US\", \"United Kingdom\"], \"legendgroup\": \"\", \"marker\": {\"color\": \"#45a2ff\"}, \"name\": \"\", \"offsetgroup\": \"\", \"orientation\": \"v\", \"showlegend\": false, \"textposition\": \"auto\", \"x\": [\"Brazil\", \"France\", \"Germany\", \"India\", \"Italy\", \"Russia\", \"Spain\", \"Turkey\", \"US\", \"United Kingdom\"], \"xaxis\": \"x\", \"y\": [169594, 178719, 172576, 70768, 219814, 221344, 227436, 139771, 1357368, 215500], \"yaxis\": \"y\", \"type\": \"bar\"}], \"name\": \"5/11/20\"}, {\"data\": [{\"alignmentgroup\": \"True\", \"hovertemplate\": \"Date=5/16/20<br>Country=%{x}<br>Cases=%{y}<extra></extra>\", \"ids\": [\"Brazil\", \"France\", \"Germany\", \"India\", \"Italy\", \"Russia\", \"Spain\", \"Turkey\", \"US\", \"United Kingdom\"], \"legendgroup\": \"\", \"marker\": {\"color\": \"#45a2ff\"}, \"name\": \"\", \"offsetgroup\": \"\", \"orientation\": \"v\", \"showlegend\": false, \"textposition\": \"auto\", \"x\": [\"Brazil\", \"France\", \"Germany\", \"India\", \"Italy\", \"Russia\", \"Spain\", \"Turkey\", \"US\", \"United Kingdom\"], \"xaxis\": \"x\", \"y\": [233511, 181563, 175752, 90648, 224760, 272043, 230698, 148067, 1476261, 229406], \"yaxis\": \"y\", \"type\": \"bar\"}], \"name\": \"5/16/20\"}, {\"data\": [{\"alignmentgroup\": \"True\", \"hovertemplate\": \"Date=5/20/20<br>Country=%{x}<br>Cases=%{y}<extra></extra>\", \"ids\": [\"Brazil\", \"France\", \"Germany\", \"India\", \"Italy\", \"Russia\", \"Spain\", \"Turkey\", \"US\", \"United Kingdom\"], \"legendgroup\": \"\", \"marker\": {\"color\": \"#45a2ff\"}, \"name\": \"\", \"offsetgroup\": \"\", \"orientation\": \"v\", \"showlegend\": false, \"textposition\": \"auto\", \"x\": [\"Brazil\", \"France\", \"Germany\", \"India\", \"Italy\", \"Russia\", \"Spain\", \"Turkey\", \"US\", \"United Kingdom\"], \"xaxis\": \"x\", \"y\": [291579, 183130, 178473, 112028, 227364, 308705, 232555, 152587, 1560615, 239579], \"yaxis\": \"y\", \"type\": \"bar\"}], \"name\": \"5/20/20\"}, {\"data\": [{\"alignmentgroup\": \"True\", \"hovertemplate\": \"Date=5/25/20<br>Country=%{x}<br>Cases=%{y}<extra></extra>\", \"ids\": [\"Brazil\", \"France\", \"Germany\", \"India\", \"Italy\", \"Russia\", \"Spain\", \"Turkey\", \"US\", \"United Kingdom\"], \"legendgroup\": \"\", \"marker\": {\"color\": \"#45a2ff\"}, \"name\": \"\", \"offsetgroup\": \"\", \"orientation\": \"v\", \"showlegend\": false, \"textposition\": \"auto\", \"x\": [\"Brazil\", \"France\", \"Germany\", \"India\", \"Italy\", \"Russia\", \"Spain\", \"Turkey\", \"US\", \"United Kingdom\"], \"xaxis\": \"x\", \"y\": [374898, 184585, 180600, 144950, 230158, 353427, 235400, 157814, 1670129, 248650], \"yaxis\": \"y\", \"type\": \"bar\"}], \"name\": \"5/25/20\"}, {\"data\": [{\"alignmentgroup\": \"True\", \"hovertemplate\": \"Date=6/2/20<br>Country=%{x}<br>Cases=%{y}<extra></extra>\", \"ids\": [\"Brazil\", \"France\", \"Germany\", \"India\", \"Italy\", \"Russia\", \"Spain\", \"Turkey\", \"US\", \"United Kingdom\"], \"legendgroup\": \"\", \"marker\": {\"color\": \"#45a2ff\"}, \"name\": \"\", \"offsetgroup\": \"\", \"orientation\": \"v\", \"showlegend\": false, \"textposition\": \"auto\", \"x\": [\"Brazil\", \"France\", \"Germany\", \"India\", \"Italy\", \"Russia\", \"Spain\", \"Turkey\", \"US\", \"United Kingdom\"], \"xaxis\": \"x\", \"y\": [555383, 190735, 183879, 207191, 233515, 423186, 239932, 165555, 1835988, 260453], \"yaxis\": \"y\", \"type\": \"bar\"}], \"name\": \"6/2/20\"}, {\"data\": [{\"alignmentgroup\": \"True\", \"hovertemplate\": \"Date=6/6/20<br>Country=%{x}<br>Cases=%{y}<extra></extra>\", \"ids\": [\"Brazil\", \"France\", \"Germany\", \"India\", \"Italy\", \"Russia\", \"Spain\", \"Turkey\", \"US\", \"United Kingdom\"], \"legendgroup\": \"\", \"marker\": {\"color\": \"#45a2ff\"}, \"name\": \"\", \"offsetgroup\": \"\", \"orientation\": \"v\", \"showlegend\": false, \"textposition\": \"auto\", \"x\": [\"Brazil\", \"France\", \"Germany\", \"India\", \"Italy\", \"Russia\", \"Spain\", \"Turkey\", \"US\", \"United Kingdom\"], \"xaxis\": \"x\", \"y\": [672846, 193022, 185450, 246622, 234801, 458102, 241310, 169218, 1923985, 264944], \"yaxis\": \"y\", \"type\": \"bar\"}], \"name\": \"6/6/20\"}, {\"data\": [{\"alignmentgroup\": \"True\", \"hovertemplate\": \"Date=6/10/20<br>Country=%{x}<br>Cases=%{y}<extra></extra>\", \"ids\": [\"Brazil\", \"France\", \"Germany\", \"India\", \"Italy\", \"Russia\", \"Spain\", \"Turkey\", \"US\", \"United Kingdom\"], \"legendgroup\": \"\", \"marker\": {\"color\": \"#45a2ff\"}, \"name\": \"\", \"offsetgroup\": \"\", \"orientation\": \"v\", \"showlegend\": false, \"textposition\": \"auto\", \"x\": [\"Brazil\", \"France\", \"Germany\", \"India\", \"Italy\", \"Russia\", \"Spain\", \"Turkey\", \"US\", \"United Kingdom\"], \"xaxis\": \"x\", \"y\": [772416, 194815, 186522, 286605, 235763, 493023, 242280, 173036, 1998476, 269101], \"yaxis\": \"y\", \"type\": \"bar\"}], \"name\": \"6/10/20\"}, {\"data\": [{\"alignmentgroup\": \"True\", \"hovertemplate\": \"Date=6/15/20<br>Country=%{x}<br>Cases=%{y}<extra></extra>\", \"ids\": [\"Brazil\", \"France\", \"Germany\", \"India\", \"Italy\", \"Russia\", \"Spain\", \"Turkey\", \"US\", \"United Kingdom\"], \"legendgroup\": \"\", \"marker\": {\"color\": \"#45a2ff\"}, \"name\": \"\", \"offsetgroup\": \"\", \"orientation\": \"v\", \"showlegend\": false, \"textposition\": \"auto\", \"x\": [\"Brazil\", \"France\", \"Germany\", \"India\", \"Italy\", \"Russia\", \"Spain\", \"Turkey\", \"US\", \"United Kingdom\"], \"xaxis\": \"x\", \"y\": [888271, 197004, 187682, 343091, 237290, 536484, 244109, 179831, 2109967, 273888], \"yaxis\": \"y\", \"type\": \"bar\"}], \"name\": \"6/15/20\"}, {\"data\": [{\"alignmentgroup\": \"True\", \"hovertemplate\": \"Date=6/24/20<br>Country=%{x}<br>Cases=%{y}<extra></extra>\", \"ids\": [\"Brazil\", \"France\", \"Germany\", \"India\", \"Italy\", \"Russia\", \"Spain\", \"Turkey\", \"US\", \"United Kingdom\"], \"legendgroup\": \"\", \"marker\": {\"color\": \"#45a2ff\"}, \"name\": \"\", \"offsetgroup\": \"\", \"orientation\": \"v\", \"showlegend\": false, \"textposition\": \"auto\", \"x\": [\"Brazil\", \"France\", \"Germany\", \"India\", \"Italy\", \"Russia\", \"Spain\", \"Turkey\", \"US\", \"United Kingdom\"], \"xaxis\": \"x\", \"y\": [1188631, 201598, 192871, 473105, 239410, 606043, 247086, 191657, 2378031, 281815], \"yaxis\": \"y\", \"type\": \"bar\"}], \"name\": \"6/24/20\"}, {\"data\": [{\"alignmentgroup\": \"True\", \"hovertemplate\": \"Date=6/29/20<br>Country=%{x}<br>Cases=%{y}<extra></extra>\", \"ids\": [\"Brazil\", \"France\", \"Germany\", \"India\", \"Italy\", \"Russia\", \"Spain\", \"Turkey\", \"US\", \"United Kingdom\"], \"legendgroup\": \"\", \"marker\": {\"color\": \"#45a2ff\"}, \"name\": \"\", \"offsetgroup\": \"\", \"orientation\": \"v\", \"showlegend\": false, \"textposition\": \"auto\", \"x\": [\"Brazil\", \"France\", \"Germany\", \"India\", \"Italy\", \"Russia\", \"Spain\", \"Turkey\", \"US\", \"United Kingdom\"], \"xaxis\": \"x\", \"y\": [1368195, 203803, 195042, 566840, 240436, 640246, 248970, 198613, 2585898, 284812], \"yaxis\": \"y\", \"type\": \"bar\"}], \"name\": \"6/29/20\"}, {\"data\": [{\"alignmentgroup\": \"True\", \"hovertemplate\": \"Date=7/2/20<br>Country=%{x}<br>Cases=%{y}<extra></extra>\", \"ids\": [\"Brazil\", \"France\", \"Germany\", \"India\", \"Italy\", \"Russia\", \"Spain\", \"Turkey\", \"US\", \"United Kingdom\"], \"legendgroup\": \"\", \"marker\": {\"color\": \"#45a2ff\"}, \"name\": \"\", \"offsetgroup\": \"\", \"orientation\": \"v\", \"showlegend\": false, \"textposition\": \"auto\", \"x\": [\"Brazil\", \"France\", \"Germany\", \"India\", \"Italy\", \"Russia\", \"Spain\", \"Turkey\", \"US\", \"United Kingdom\"], \"xaxis\": \"x\", \"y\": [1496858, 205773, 196370, 625544, 240961, 660231, 250103, 202284, 2739067, 285285], \"yaxis\": \"y\", \"type\": \"bar\"}], \"name\": \"7/2/20\"}, {\"data\": [{\"alignmentgroup\": \"True\", \"hovertemplate\": \"Date=7/5/20<br>Country=%{x}<br>Cases=%{y}<extra></extra>\", \"ids\": [\"Brazil\", \"France\", \"Germany\", \"India\", \"Italy\", \"Russia\", \"Spain\", \"Turkey\", \"US\", \"United Kingdom\"], \"legendgroup\": \"\", \"marker\": {\"color\": \"#45a2ff\"}, \"name\": \"\", \"offsetgroup\": \"\", \"orientation\": \"v\", \"showlegend\": false, \"textposition\": \"auto\", \"x\": [\"Brazil\", \"France\", \"Germany\", \"India\", \"Italy\", \"Russia\", \"Spain\", \"Turkey\", \"US\", \"United Kingdom\"], \"xaxis\": \"x\", \"y\": [1603055, 206681, 197523, 697413, 241611, 680283, 250545, 205758, 2886576, 286931], \"yaxis\": \"y\", \"type\": \"bar\"}], \"name\": \"7/5/20\"}, {\"data\": [{\"alignmentgroup\": \"True\", \"hovertemplate\": \"Date=7/10/20<br>Country=%{x}<br>Cases=%{y}<extra></extra>\", \"ids\": [\"Brazil\", \"France\", \"Germany\", \"India\", \"Italy\", \"Russia\", \"Spain\", \"Turkey\", \"US\", \"United Kingdom\"], \"legendgroup\": \"\", \"marker\": {\"color\": \"#45a2ff\"}, \"name\": \"\", \"offsetgroup\": \"\", \"orientation\": \"v\", \"showlegend\": false, \"textposition\": \"auto\", \"x\": [\"Brazil\", \"France\", \"Germany\", \"India\", \"Italy\", \"Russia\", \"Spain\", \"Turkey\", \"US\", \"United Kingdom\"], \"xaxis\": \"x\", \"y\": [1800827, 210134, 199332, 820916, 242639, 712863, 253908, 210965, 3181241, 289678], \"yaxis\": \"y\", \"type\": \"bar\"}], \"name\": \"7/10/20\"}, {\"data\": [{\"alignmentgroup\": \"True\", \"hovertemplate\": \"Date=7/15/20<br>Country=%{x}<br>Cases=%{y}<extra></extra>\", \"ids\": [\"Brazil\", \"France\", \"Germany\", \"India\", \"Italy\", \"Russia\", \"Spain\", \"Turkey\", \"US\", \"United Kingdom\"], \"legendgroup\": \"\", \"marker\": {\"color\": \"#45a2ff\"}, \"name\": \"\", \"offsetgroup\": \"\", \"orientation\": \"v\", \"showlegend\": false, \"textposition\": \"auto\", \"x\": [\"Brazil\", \"France\", \"Germany\", \"India\", \"Italy\", \"Russia\", \"Spain\", \"Turkey\", \"US\", \"United Kingdom\"], \"xaxis\": \"x\", \"y\": [1966748, 212613, 200890, 968857, 243506, 745197, 257494, 215940, 3495012, 293469], \"yaxis\": \"y\", \"type\": \"bar\"}], \"name\": \"7/15/20\"}, {\"data\": [{\"alignmentgroup\": \"True\", \"hovertemplate\": \"Date=7/24/20<br>Country=%{x}<br>Cases=%{y}<extra></extra>\", \"ids\": [\"Brazil\", \"France\", \"Germany\", \"India\", \"Italy\", \"Russia\", \"Spain\", \"Turkey\", \"US\", \"United Kingdom\"], \"legendgroup\": \"\", \"marker\": {\"color\": \"#45a2ff\"}, \"name\": \"\", \"offsetgroup\": \"\", \"orientation\": \"v\", \"showlegend\": false, \"textposition\": \"auto\", \"x\": [\"Brazil\", \"France\", \"Germany\", \"India\", \"Italy\", \"Russia\", \"Spain\", \"Turkey\", \"US\", \"United Kingdom\"], \"xaxis\": \"x\", \"y\": [2343366, 219932, 205623, 1337024, 245590, 799499, 272421, 224252, 4106394, 299500], \"yaxis\": \"y\", \"type\": \"bar\"}], \"name\": \"7/24/20\"}, {\"data\": [{\"alignmentgroup\": \"True\", \"hovertemplate\": \"Date=7/29/20<br>Country=%{x}<br>Cases=%{y}<extra></extra>\", \"ids\": [\"Brazil\", \"France\", \"Germany\", \"India\", \"Italy\", \"Russia\", \"Spain\", \"Turkey\", \"US\", \"United Kingdom\"], \"legendgroup\": \"\", \"marker\": {\"color\": \"#45a2ff\"}, \"name\": \"\", \"offsetgroup\": \"\", \"orientation\": \"v\", \"showlegend\": false, \"textposition\": \"auto\", \"x\": [\"Brazil\", \"France\", \"Germany\", \"India\", \"Italy\", \"Russia\", \"Spain\", \"Turkey\", \"US\", \"United Kingdom\"], \"xaxis\": \"x\", \"y\": [2552265, 224542, 208546, 1581963, 246776, 827509, 282641, 228924, 4419874, 303063], \"yaxis\": \"y\", \"type\": \"bar\"}], \"name\": \"7/29/20\"}, {\"data\": [{\"alignmentgroup\": \"True\", \"hovertemplate\": \"Date=8/1/20<br>Country=%{x}<br>Cases=%{y}<extra></extra>\", \"ids\": [\"Brazil\", \"France\", \"Germany\", \"India\", \"Italy\", \"Russia\", \"Spain\", \"Turkey\", \"US\", \"United Kingdom\"], \"legendgroup\": \"\", \"marker\": {\"color\": \"#45a2ff\"}, \"name\": \"\", \"offsetgroup\": \"\", \"orientation\": \"v\", \"showlegend\": false, \"textposition\": \"auto\", \"x\": [\"Brazil\", \"France\", \"Germany\", \"India\", \"Italy\", \"Russia\", \"Spain\", \"Turkey\", \"US\", \"United Kingdom\"], \"xaxis\": \"x\", \"y\": [2707877, 227302, 211005, 1750723, 247832, 843890, 288522, 231869, 4613200, 305562], \"yaxis\": \"y\", \"type\": \"bar\"}], \"name\": \"8/1/20\"}, {\"data\": [{\"alignmentgroup\": \"True\", \"hovertemplate\": \"Date=8/4/20<br>Country=%{x}<br>Cases=%{y}<extra></extra>\", \"ids\": [\"Brazil\", \"France\", \"Germany\", \"India\", \"Italy\", \"Russia\", \"Spain\", \"Turkey\", \"US\", \"United Kingdom\"], \"legendgroup\": \"\", \"marker\": {\"color\": \"#45a2ff\"}, \"name\": \"\", \"offsetgroup\": \"\", \"orientation\": \"v\", \"showlegend\": false, \"textposition\": \"auto\", \"x\": [\"Brazil\", \"France\", \"Germany\", \"India\", \"Italy\", \"Russia\", \"Spain\", \"Turkey\", \"US\", \"United Kingdom\"], \"xaxis\": \"x\", \"y\": [2801921, 231636, 212828, 1908254, 248419, 859762, 302814, 234934, 4761351, 307926], \"yaxis\": \"y\", \"type\": \"bar\"}], \"name\": \"8/4/20\"}, {\"data\": [{\"alignmentgroup\": \"True\", \"hovertemplate\": \"Date=8/9/20<br>Country=%{x}<br>Cases=%{y}<extra></extra>\", \"ids\": [\"Brazil\", \"France\", \"Germany\", \"India\", \"Italy\", \"Russia\", \"Spain\", \"Turkey\", \"US\", \"United Kingdom\"], \"legendgroup\": \"\", \"marker\": {\"color\": \"#45a2ff\"}, \"name\": \"\", \"offsetgroup\": \"\", \"orientation\": \"v\", \"showlegend\": false, \"textposition\": \"auto\", \"x\": [\"Brazil\", \"France\", \"Germany\", \"India\", \"Italy\", \"Russia\", \"Spain\", \"Turkey\", \"US\", \"United Kingdom\"], \"xaxis\": \"x\", \"y\": [3035422, 237437, 217288, 2215074, 250566, 885718, 314362, 240804, 5034154, 312574], \"yaxis\": \"y\", \"type\": \"bar\"}], \"name\": \"8/9/20\"}, {\"data\": [{\"alignmentgroup\": \"True\", \"hovertemplate\": \"Date=8/14/20<br>Country=%{x}<br>Cases=%{y}<extra></extra>\", \"ids\": [\"Brazil\", \"France\", \"Germany\", \"India\", \"Italy\", \"Russia\", \"Spain\", \"Turkey\", \"US\", \"United Kingdom\"], \"legendgroup\": \"\", \"marker\": {\"color\": \"#45a2ff\"}, \"name\": \"\", \"offsetgroup\": \"\", \"orientation\": \"v\", \"showlegend\": false, \"textposition\": \"auto\", \"x\": [\"Brazil\", \"France\", \"Germany\", \"India\", \"Italy\", \"Russia\", \"Spain\", \"Turkey\", \"US\", \"United Kingdom\"], \"xaxis\": \"x\", \"y\": [3275520, 251781, 223791, 2525922, 252809, 910778, 342813, 246861, 5302819, 318190], \"yaxis\": \"y\", \"type\": \"bar\"}], \"name\": \"8/14/20\"}, {\"data\": [{\"alignmentgroup\": \"True\", \"hovertemplate\": \"Date=8/19/20<br>Country=%{x}<br>Cases=%{y}<extra></extra>\", \"ids\": [\"Brazil\", \"France\", \"Germany\", \"India\", \"Italy\", \"Russia\", \"Spain\", \"Turkey\", \"US\", \"United Kingdom\"], \"legendgroup\": \"\", \"marker\": {\"color\": \"#45a2ff\"}, \"name\": \"\", \"offsetgroup\": \"\", \"orientation\": \"v\", \"showlegend\": false, \"textposition\": \"auto\", \"x\": [\"Brazil\", \"France\", \"Germany\", \"India\", \"Italy\", \"Russia\", \"Spain\", \"Turkey\", \"US\", \"United Kingdom\"], \"xaxis\": \"x\", \"y\": [3456652, 264535, 229706, 2836925, 255278, 935066, 370867, 253108, 5519619, 323008], \"yaxis\": \"y\", \"type\": \"bar\"}], \"name\": \"8/19/20\"}, {\"data\": [{\"alignmentgroup\": \"True\", \"hovertemplate\": \"Date=8/23/20<br>Country=%{x}<br>Cases=%{y}<extra></extra>\", \"ids\": [\"Brazil\", \"France\", \"Germany\", \"India\", \"Italy\", \"Russia\", \"Spain\", \"Turkey\", \"US\", \"United Kingdom\"], \"legendgroup\": \"\", \"marker\": {\"color\": \"#45a2ff\"}, \"name\": \"\", \"offsetgroup\": \"\", \"orientation\": \"v\", \"showlegend\": false, \"textposition\": \"auto\", \"x\": [\"Brazil\", \"France\", \"Germany\", \"India\", \"Italy\", \"Russia\", \"Spain\", \"Turkey\", \"US\", \"United Kingdom\"], \"xaxis\": \"x\", \"y\": [3605783, 282498, 234494, 3106348, 259345, 954328, 386054, 258249, 5690061, 327643], \"yaxis\": \"y\", \"type\": \"bar\"}], \"name\": \"8/23/20\"}, {\"data\": [{\"alignmentgroup\": \"True\", \"hovertemplate\": \"Date=8/28/20<br>Country=%{x}<br>Cases=%{y}<extra></extra>\", \"ids\": [\"Brazil\", \"France\", \"Germany\", \"India\", \"Italy\", \"Russia\", \"Spain\", \"Turkey\", \"US\", \"United Kingdom\"], \"legendgroup\": \"\", \"marker\": {\"color\": \"#45a2ff\"}, \"name\": \"\", \"offsetgroup\": \"\", \"orientation\": \"v\", \"showlegend\": false, \"textposition\": \"auto\", \"x\": [\"Brazil\", \"France\", \"Germany\", \"India\", \"Italy\", \"Russia\", \"Spain\", \"Turkey\", \"US\", \"United Kingdom\"], \"xaxis\": \"x\", \"y\": [3804803, 307221, 242126, 3463972, 265409, 977730, 439286, 265515, 5904305, 333806], \"yaxis\": \"y\", \"type\": \"bar\"}], \"name\": \"8/28/20\"}, {\"data\": [{\"alignmentgroup\": \"True\", \"hovertemplate\": \"Date=9/4/20<br>Country=%{x}<br>Cases=%{y}<extra></extra>\", \"ids\": [\"Brazil\", \"France\", \"Germany\", \"India\", \"Italy\", \"Russia\", \"Spain\", \"Turkey\", \"US\", \"United Kingdom\"], \"legendgroup\": \"\", \"marker\": {\"color\": \"#45a2ff\"}, \"name\": \"\", \"offsetgroup\": \"\", \"orientation\": \"v\", \"showlegend\": false, \"textposition\": \"auto\", \"x\": [\"Brazil\", \"France\", \"Germany\", \"India\", \"Italy\", \"Russia\", \"Spain\", \"Turkey\", \"US\", \"United Kingdom\"], \"xaxis\": \"x\", \"y\": [4091801, 349333, 250283, 4023179, 274644, 1011987, 498989, 276555, 6196213, 344686], \"yaxis\": \"y\", \"type\": \"bar\"}], \"name\": \"9/4/20\"}, {\"data\": [{\"alignmentgroup\": \"True\", \"hovertemplate\": \"Date=9/9/20<br>Country=%{x}<br>Cases=%{y}<extra></extra>\", \"ids\": [\"Brazil\", \"France\", \"Germany\", \"India\", \"Italy\", \"Russia\", \"Spain\", \"Turkey\", \"US\", \"United Kingdom\"], \"legendgroup\": \"\", \"marker\": {\"color\": \"#45a2ff\"}, \"name\": \"\", \"offsetgroup\": \"\", \"orientation\": \"v\", \"showlegend\": false, \"textposition\": \"auto\", \"x\": [\"Brazil\", \"France\", \"Germany\", \"India\", \"Italy\", \"Russia\", \"Spain\", \"Turkey\", \"US\", \"United Kingdom\"], \"xaxis\": \"x\", \"y\": [4197889, 384566, 256433, 4465863, 281583, 1037526, 543379, 284943, 6355282, 357613], \"yaxis\": \"y\", \"type\": \"bar\"}], \"name\": \"9/9/20\"}, {\"data\": [{\"alignmentgroup\": \"True\", \"hovertemplate\": \"Date=9/13/20<br>Country=%{x}<br>Cases=%{y}<extra></extra>\", \"ids\": [\"Brazil\", \"France\", \"Germany\", \"India\", \"Italy\", \"Russia\", \"Spain\", \"Turkey\", \"US\", \"United Kingdom\"], \"legendgroup\": \"\", \"marker\": {\"color\": \"#45a2ff\"}, \"name\": \"\", \"offsetgroup\": \"\", \"orientation\": \"v\", \"showlegend\": false, \"textposition\": \"auto\", \"x\": [\"Brazil\", \"France\", \"Germany\", \"India\", \"Italy\", \"Russia\", \"Spain\", \"Turkey\", \"US\", \"United Kingdom\"], \"xaxis\": \"x\", \"y\": [4330455, 421519, 261737, 4846427, 287753, 1059024, 566326, 291162, 6514296, 370930], \"yaxis\": \"y\", \"type\": \"bar\"}], \"name\": \"9/13/20\"}, {\"data\": [{\"alignmentgroup\": \"True\", \"hovertemplate\": \"Date=9/18/20<br>Country=%{x}<br>Cases=%{y}<extra></extra>\", \"ids\": [\"Brazil\", \"France\", \"Germany\", \"India\", \"Italy\", \"Russia\", \"Spain\", \"Turkey\", \"US\", \"United Kingdom\"], \"legendgroup\": \"\", \"marker\": {\"color\": \"#45a2ff\"}, \"name\": \"\", \"offsetgroup\": \"\", \"orientation\": \"v\", \"showlegend\": false, \"textposition\": \"auto\", \"x\": [\"Brazil\", \"France\", \"Germany\", \"India\", \"Italy\", \"Russia\", \"Spain\", \"Turkey\", \"US\", \"United Kingdom\"], \"xaxis\": \"x\", \"y\": [4495183, 469404, 271247, 5308014, 294932, 1086955, 640040, 299810, 6720266, 388416], \"yaxis\": \"y\", \"type\": \"bar\"}], \"name\": \"9/18/20\"}, {\"data\": [{\"alignmentgroup\": \"True\", \"hovertemplate\": \"Date=9/22/20<br>Country=%{x}<br>Cases=%{y}<extra></extra>\", \"ids\": [\"Brazil\", \"France\", \"Germany\", \"India\", \"Italy\", \"Russia\", \"Spain\", \"Turkey\", \"US\", \"United Kingdom\"], \"legendgroup\": \"\", \"marker\": {\"color\": \"#45a2ff\"}, \"name\": \"\", \"offsetgroup\": \"\", \"orientation\": \"v\", \"showlegend\": false, \"textposition\": \"auto\", \"x\": [\"Brazil\", \"France\", \"Germany\", \"India\", \"Italy\", \"Russia\", \"Spain\", \"Turkey\", \"US\", \"United Kingdom\"], \"xaxis\": \"x\", \"y\": [4591364, 509123, 277412, 5646010, 300897, 1111157, 682267, 306302, 6891985, 406058], \"yaxis\": \"y\", \"type\": \"bar\"}], \"name\": \"9/22/20\"}, {\"data\": [{\"alignmentgroup\": \"True\", \"hovertemplate\": \"Date=9/27/20<br>Country=%{x}<br>Cases=%{y}<extra></extra>\", \"ids\": [\"Brazil\", \"France\", \"Germany\", \"India\", \"Italy\", \"Russia\", \"Spain\", \"Turkey\", \"US\", \"United Kingdom\"], \"legendgroup\": \"\", \"marker\": {\"color\": \"#45a2ff\"}, \"name\": \"\", \"offsetgroup\": \"\", \"orientation\": \"v\", \"showlegend\": false, \"textposition\": \"auto\", \"x\": [\"Brazil\", \"France\", \"Germany\", \"India\", \"Italy\", \"Russia\", \"Spain\", \"Turkey\", \"US\", \"United Kingdom\"], \"xaxis\": \"x\", \"y\": [4732309, 579223, 286339, 6074702, 309870, 1146273, 716481, 314433, 7106487, 437517], \"yaxis\": \"y\", \"type\": \"bar\"}], \"name\": \"9/27/20\"}, {\"data\": [{\"alignmentgroup\": \"True\", \"hovertemplate\": \"Date=10/2/20<br>Country=%{x}<br>Cases=%{y}<extra></extra>\", \"ids\": [\"Brazil\", \"France\", \"Germany\", \"India\", \"Italy\", \"Russia\", \"Spain\", \"Turkey\", \"US\", \"United Kingdom\"], \"legendgroup\": \"\", \"marker\": {\"color\": \"#45a2ff\"}, \"name\": \"\", \"offsetgroup\": \"\", \"orientation\": \"v\", \"showlegend\": false, \"textposition\": \"auto\", \"x\": [\"Brazil\", \"France\", \"Germany\", \"India\", \"Italy\", \"Russia\", \"Spain\", \"Turkey\", \"US\", \"United Kingdom\"], \"xaxis\": \"x\", \"y\": [4847092, 631380, 298374, 6473544, 319908, 1188928, 789932, 321512, 7322880, 469769], \"yaxis\": \"y\", \"type\": \"bar\"}], \"name\": \"10/2/20\"}, {\"data\": [{\"alignmentgroup\": \"True\", \"hovertemplate\": \"Date=10/5/20<br>Country=%{x}<br>Cases=%{y}<extra></extra>\", \"ids\": [\"Brazil\", \"France\", \"Germany\", \"India\", \"Italy\", \"Russia\", \"Spain\", \"Turkey\", \"US\", \"United Kingdom\"], \"legendgroup\": \"\", \"marker\": {\"color\": \"#45a2ff\"}, \"name\": \"\", \"offsetgroup\": \"\", \"orientation\": \"v\", \"showlegend\": false, \"textposition\": \"auto\", \"x\": [\"Brazil\", \"France\", \"Germany\", \"India\", \"Italy\", \"Russia\", \"Spain\", \"Turkey\", \"US\", \"United Kingdom\"], \"xaxis\": \"x\", \"y\": [4927235, 666011, 304673, 6685082, 327586, 1219796, 813412, 326046, 7446617, 518222], \"yaxis\": \"y\", \"type\": \"bar\"}], \"name\": \"10/5/20\"}, {\"data\": [{\"alignmentgroup\": \"True\", \"hovertemplate\": \"Date=10/10/20<br>Country=%{x}<br>Cases=%{y}<extra></extra>\", \"ids\": [\"Brazil\", \"France\", \"Germany\", \"India\", \"Italy\", \"Russia\", \"Spain\", \"Turkey\", \"US\", \"United Kingdom\"], \"legendgroup\": \"\", \"marker\": {\"color\": \"#45a2ff\"}, \"name\": \"\", \"offsetgroup\": \"\", \"orientation\": \"v\", \"showlegend\": false, \"textposition\": \"auto\", \"x\": [\"Brazil\", \"France\", \"Germany\", \"India\", \"Italy\", \"Russia\", \"Spain\", \"Turkey\", \"US\", \"United Kingdom\"], \"xaxis\": \"x\", \"y\": [5082637, 761441, 323463, 7053806, 349494, 1278245, 861112, 334031, 7710911, 593565], \"yaxis\": \"y\", \"type\": \"bar\"}], \"name\": \"10/10/20\"}, {\"data\": [{\"alignmentgroup\": \"True\", \"hovertemplate\": \"Date=10/15/20<br>Country=%{x}<br>Cases=%{y}<extra></extra>\", \"ids\": [\"Brazil\", \"France\", \"Germany\", \"India\", \"Italy\", \"Russia\", \"Spain\", \"Turkey\", \"US\", \"United Kingdom\"], \"legendgroup\": \"\", \"marker\": {\"color\": \"#45a2ff\"}, \"name\": \"\", \"offsetgroup\": \"\", \"orientation\": \"v\", \"showlegend\": false, \"textposition\": \"auto\", \"x\": [\"Brazil\", \"France\", \"Germany\", \"India\", \"Italy\", \"Russia\", \"Spain\", \"Turkey\", \"US\", \"United Kingdom\"], \"xaxis\": \"x\", \"y\": [5169386, 852975, 352107, 7370468, 381602, 1346380, 921374, 342143, 7974242, 676455], \"yaxis\": \"y\", \"type\": \"bar\"}], \"name\": \"10/15/20\"}, {\"data\": [{\"alignmentgroup\": \"True\", \"hovertemplate\": \"Date=10/24/20<br>Country=%{x}<br>Cases=%{y}<extra></extra>\", \"ids\": [\"Brazil\", \"France\", \"Germany\", \"India\", \"Italy\", \"Russia\", \"Spain\", \"Turkey\", \"US\", \"United Kingdom\"], \"legendgroup\": \"\", \"marker\": {\"color\": \"#45a2ff\"}, \"name\": \"\", \"offsetgroup\": \"\", \"orientation\": \"v\", \"showlegend\": false, \"textposition\": \"auto\", \"x\": [\"Brazil\", \"France\", \"Germany\", \"India\", \"Italy\", \"Russia\", \"Spain\", \"Turkey\", \"US\", \"United Kingdom\"], \"xaxis\": \"x\", \"y\": [5380635, 1131550, 427808, 7864811, 504509, 1487260, 1046132, 359784, 8579957, 857043], \"yaxis\": \"y\", \"type\": \"bar\"}], \"name\": \"10/24/20\"}, {\"data\": [{\"alignmentgroup\": \"True\", \"hovertemplate\": \"Date=10/29/20<br>Country=%{x}<br>Cases=%{y}<extra></extra>\", \"ids\": [\"Brazil\", \"France\", \"Germany\", \"India\", \"Italy\", \"Russia\", \"Spain\", \"Turkey\", \"US\", \"United Kingdom\"], \"legendgroup\": \"\", \"marker\": {\"color\": \"#45a2ff\"}, \"name\": \"\", \"offsetgroup\": \"\", \"orientation\": \"v\", \"showlegend\": false, \"textposition\": \"auto\", \"x\": [\"Brazil\", \"France\", \"Germany\", \"India\", \"Italy\", \"Russia\", \"Spain\", \"Turkey\", \"US\", \"United Kingdom\"], \"xaxis\": \"x\", \"y\": [5494376, 1329820, 498354, 8088851, 616595, 1570446, 1160083, 370832, 8953646, 968456], \"yaxis\": \"y\", \"type\": \"bar\"}], \"name\": \"10/29/20\"}, {\"data\": [{\"alignmentgroup\": \"True\", \"hovertemplate\": \"Date=11/1/20<br>Country=%{x}<br>Cases=%{y}<extra></extra>\", \"ids\": [\"Brazil\", \"France\", \"Germany\", \"India\", \"Italy\", \"Russia\", \"Spain\", \"Turkey\", \"US\", \"United Kingdom\"], \"legendgroup\": \"\", \"marker\": {\"color\": \"#45a2ff\"}, \"name\": \"\", \"offsetgroup\": \"\", \"orientation\": \"v\", \"showlegend\": false, \"textposition\": \"auto\", \"x\": [\"Brazil\", \"France\", \"Germany\", \"India\", \"Italy\", \"Russia\", \"Spain\", \"Turkey\", \"US\", \"United Kingdom\"], \"xaxis\": \"x\", \"y\": [5545705, 1460543, 544346, 8229313, 709335, 1624648, 1185678, 377473, 9245669, 1038054], \"yaxis\": \"y\", \"type\": \"bar\"}], \"name\": \"11/1/20\"}, {\"data\": [{\"alignmentgroup\": \"True\", \"hovertemplate\": \"Date=11/5/20<br>Country=%{x}<br>Cases=%{y}<extra></extra>\", \"ids\": [\"Brazil\", \"France\", \"Germany\", \"India\", \"Italy\", \"Russia\", \"Spain\", \"Turkey\", \"US\", \"United Kingdom\"], \"legendgroup\": \"\", \"marker\": {\"color\": \"#45a2ff\"}, \"name\": \"\", \"offsetgroup\": \"\", \"orientation\": \"v\", \"showlegend\": false, \"textposition\": \"auto\", \"x\": [\"Brazil\", \"France\", \"Germany\", \"India\", \"Italy\", \"Russia\", \"Spain\", \"Turkey\", \"US\", \"United Kingdom\"], \"xaxis\": \"x\", \"y\": [5590025, 1650965, 631172, 8411724, 824879, 1699695, 1306316, 386820, 9686491, 1126469], \"yaxis\": \"y\", \"type\": \"bar\"}], \"name\": \"11/5/20\"}, {\"data\": [{\"alignmentgroup\": \"True\", \"hovertemplate\": \"Date=11/14/20<br>Country=%{x}<br>Cases=%{y}<extra></extra>\", \"ids\": [\"Brazil\", \"France\", \"Germany\", \"India\", \"Italy\", \"Russia\", \"Spain\", \"Turkey\", \"US\", \"United Kingdom\"], \"legendgroup\": \"\", \"marker\": {\"color\": \"#45a2ff\"}, \"name\": \"\", \"offsetgroup\": \"\", \"orientation\": \"v\", \"showlegend\": false, \"textposition\": \"auto\", \"x\": [\"Brazil\", \"France\", \"Germany\", \"India\", \"Italy\", \"Russia\", \"Spain\", \"Turkey\", \"US\", \"United Kingdom\"], \"xaxis\": \"x\", \"y\": [5848959, 2006227, 799733, 8814579, 1144552, 1887836, 1458591, 411055, 10968665, 1347907], \"yaxis\": \"y\", \"type\": \"bar\"}], \"name\": \"11/14/20\"}, {\"data\": [{\"alignmentgroup\": \"True\", \"hovertemplate\": \"Date=11/19/20<br>Country=%{x}<br>Cases=%{y}<extra></extra>\", \"ids\": [\"Brazil\", \"France\", \"Germany\", \"India\", \"Italy\", \"Russia\", \"Spain\", \"Turkey\", \"US\", \"United Kingdom\"], \"legendgroup\": \"\", \"marker\": {\"color\": \"#45a2ff\"}, \"name\": \"\", \"offsetgroup\": \"\", \"orientation\": \"v\", \"showlegend\": false, \"textposition\": \"auto\", \"x\": [\"Brazil\", \"France\", \"Germany\", \"India\", \"Italy\", \"Russia\", \"Spain\", \"Turkey\", \"US\", \"United Kingdom\"], \"xaxis\": \"x\", \"y\": [5981767, 2138704, 891525, 9004365, 1308528, 1998966, 1541574, 430170, 11787243, 1456940], \"yaxis\": \"y\", \"type\": \"bar\"}], \"name\": \"11/19/20\"}, {\"data\": [{\"alignmentgroup\": \"True\", \"hovertemplate\": \"Date=11/23/20<br>Country=%{x}<br>Cases=%{y}<extra></extra>\", \"ids\": [\"Brazil\", \"France\", \"Germany\", \"India\", \"Italy\", \"Russia\", \"Spain\", \"Turkey\", \"US\", \"United Kingdom\"], \"legendgroup\": \"\", \"marker\": {\"color\": \"#45a2ff\"}, \"name\": \"\", \"offsetgroup\": \"\", \"orientation\": \"v\", \"showlegend\": false, \"textposition\": \"auto\", \"x\": [\"Brazil\", \"France\", \"Germany\", \"India\", \"Italy\", \"Russia\", \"Spain\", \"Turkey\", \"US\", \"United Kingdom\"], \"xaxis\": \"x\", \"y\": [6087608, 2197830, 946822, 9177840, 1431795, 2096749, 1582616, 453535, 12479985, 1531267], \"yaxis\": \"y\", \"type\": \"bar\"}], \"name\": \"11/23/20\"}, {\"data\": [{\"alignmentgroup\": \"True\", \"hovertemplate\": \"Date=11/28/20<br>Country=%{x}<br>Cases=%{y}<extra></extra>\", \"ids\": [\"Brazil\", \"France\", \"Germany\", \"India\", \"Italy\", \"Russia\", \"Spain\", \"Turkey\", \"US\", \"United Kingdom\"], \"legendgroup\": \"\", \"marker\": {\"color\": \"#45a2ff\"}, \"name\": \"\", \"offsetgroup\": \"\", \"orientation\": \"v\", \"showlegend\": false, \"textposition\": \"auto\", \"x\": [\"Brazil\", \"France\", \"Germany\", \"India\", \"Italy\", \"Russia\", \"Spain\", \"Turkey\", \"US\", \"United Kingdom\"], \"xaxis\": \"x\", \"y\": [6290272, 2262757, 1052494, 9392919, 1564532, 2223500, 1628208, 578347, 13312157, 1609141], \"yaxis\": \"y\", \"type\": \"bar\"}], \"name\": \"11/28/20\"}, {\"data\": [{\"alignmentgroup\": \"True\", \"hovertemplate\": \"Date=12/1/20<br>Country=%{x}<br>Cases=%{y}<extra></extra>\", \"ids\": [\"Brazil\", \"France\", \"Germany\", \"India\", \"Italy\", \"Russia\", \"Spain\", \"Turkey\", \"US\", \"United Kingdom\"], \"legendgroup\": \"\", \"marker\": {\"color\": \"#45a2ff\"}, \"name\": \"\", \"offsetgroup\": \"\", \"orientation\": \"v\", \"showlegend\": false, \"textposition\": \"auto\", \"x\": [\"Brazil\", \"France\", \"Germany\", \"India\", \"Italy\", \"Russia\", \"Spain\", \"Turkey\", \"US\", \"United Kingdom\"], \"xaxis\": \"x\", \"y\": [6386787, 2285238, 1094678, 9499413, 1620901, 2302062, 1656444, 668957, 13791945, 1647230], \"yaxis\": \"y\", \"type\": \"bar\"}], \"name\": \"12/1/20\"}, {\"data\": [{\"alignmentgroup\": \"True\", \"hovertemplate\": \"Date=12/7/20<br>Country=%{x}<br>Cases=%{y}<extra></extra>\", \"ids\": [\"Brazil\", \"France\", \"Germany\", \"India\", \"Italy\", \"Russia\", \"Spain\", \"Turkey\", \"US\", \"United Kingdom\"], \"legendgroup\": \"\", \"marker\": {\"color\": \"#45a2ff\"}, \"name\": \"\", \"offsetgroup\": \"\", \"orientation\": \"v\", \"showlegend\": false, \"textposition\": \"auto\", \"x\": [\"Brazil\", \"France\", \"Germany\", \"India\", \"Italy\", \"Russia\", \"Spain\", \"Turkey\", \"US\", \"United Kingdom\"], \"xaxis\": \"x\", \"y\": [6623911, 2351006, 1200006, 9703770, 1742557, 2466961, 1702328, 860432, 15030195, 1742525], \"yaxis\": \"y\", \"type\": \"bar\"}], \"name\": \"12/7/20\"}, {\"data\": [{\"alignmentgroup\": \"True\", \"hovertemplate\": \"Date=12/14/20<br>Country=%{x}<br>Cases=%{y}<extra></extra>\", \"ids\": [\"Brazil\", \"France\", \"Germany\", \"India\", \"Italy\", \"Russia\", \"Spain\", \"Turkey\", \"US\", \"United Kingdom\"], \"legendgroup\": \"\", \"marker\": {\"color\": \"#45a2ff\"}, \"name\": \"\", \"offsetgroup\": \"\", \"orientation\": \"v\", \"showlegend\": false, \"textposition\": \"auto\", \"x\": [\"Brazil\", \"France\", \"Germany\", \"India\", \"Italy\", \"Russia\", \"Spain\", \"Turkey\", \"US\", \"United Kingdom\"], \"xaxis\": \"x\", \"y\": [6927145, 2435751, 1357261, 9906165, 1855737, 2656601, 1751884, 1866345, 16538023, 1874867], \"yaxis\": \"y\", \"type\": \"bar\"}], \"name\": \"12/14/20\"}, {\"data\": [{\"alignmentgroup\": \"True\", \"hovertemplate\": \"Date=12/19/20<br>Country=%{x}<br>Cases=%{y}<extra></extra>\", \"ids\": [\"Brazil\", \"France\", \"Germany\", \"India\", \"Italy\", \"Russia\", \"Spain\", \"Turkey\", \"US\", \"United Kingdom\"], \"legendgroup\": \"\", \"marker\": {\"color\": \"#45a2ff\"}, \"name\": \"\", \"offsetgroup\": \"\", \"orientation\": \"v\", \"showlegend\": false, \"textposition\": \"auto\", \"x\": [\"Brazil\", \"France\", \"Germany\", \"India\", \"Italy\", \"Russia\", \"Spain\", \"Turkey\", \"US\", \"United Kingdom\"], \"xaxis\": \"x\", \"y\": [7213155, 2516957, 1508518, 10031223, 1938083, 2792615, 1797236, 2004285, 17665284, 2010077], \"yaxis\": \"y\", \"type\": \"bar\"}], \"name\": \"12/19/20\"}, {\"data\": [{\"alignmentgroup\": \"True\", \"hovertemplate\": \"Date=12/23/20<br>Country=%{x}<br>Cases=%{y}<extra></extra>\", \"ids\": [\"Brazil\", \"France\", \"Germany\", \"India\", \"Italy\", \"Russia\", \"Spain\", \"Turkey\", \"US\", \"United Kingdom\"], \"legendgroup\": \"\", \"marker\": {\"color\": \"#45a2ff\"}, \"name\": \"\", \"offsetgroup\": \"\", \"orientation\": \"v\", \"showlegend\": false, \"textposition\": \"auto\", \"x\": [\"Brazil\", \"France\", \"Germany\", \"India\", \"Italy\", \"Russia\", \"Spain\", \"Turkey\", \"US\", \"United Kingdom\"], \"xaxis\": \"x\", \"y\": [7365517, 2562615, 1604129, 10123778, 1991278, 2905196, 1842289, 2082610, 18466484, 2155996], \"yaxis\": \"y\", \"type\": \"bar\"}], \"name\": \"12/23/20\"}, {\"data\": [{\"alignmentgroup\": \"True\", \"hovertemplate\": \"Date=12/28/20<br>Country=%{x}<br>Cases=%{y}<extra></extra>\", \"ids\": [\"Brazil\", \"France\", \"Germany\", \"India\", \"Italy\", \"Russia\", \"Spain\", \"Turkey\", \"US\", \"United Kingdom\"], \"legendgroup\": \"\", \"marker\": {\"color\": \"#45a2ff\"}, \"name\": \"\", \"offsetgroup\": \"\", \"orientation\": \"v\", \"showlegend\": false, \"textposition\": \"auto\", \"x\": [\"Brazil\", \"France\", \"Germany\", \"India\", \"Italy\", \"Russia\", \"Spain\", \"Turkey\", \"US\", \"United Kingdom\"], \"xaxis\": \"x\", \"y\": [7504833, 2619616, 1672643, 10224303, 2056277, 3047335, 1879413, 2162775, 19309281, 2336688], \"yaxis\": \"y\", \"type\": \"bar\"}], \"name\": \"12/28/20\"}]);\n",
              "                        }).then(function(){\n",
              "                            \n",
              "var gd = document.getElementById('87a1a974-b0e9-4dc9-bf5b-524a46ea4a6d');\n",
              "var x = new MutationObserver(function (mutations, observer) {{\n",
              "        var display = window.getComputedStyle(gd).display;\n",
              "        if (!display || display === 'none') {{\n",
              "            console.log([gd, 'removed!']);\n",
              "            Plotly.purge(gd);\n",
              "            observer.disconnect();\n",
              "        }}\n",
              "}});\n",
              "\n",
              "// Listen for the removal of the full notebook cells\n",
              "var notebookContainer = gd.closest('#notebook-container');\n",
              "if (notebookContainer) {{\n",
              "    x.observe(notebookContainer, {childList: true});\n",
              "}}\n",
              "\n",
              "// Listen for the clearing of the current output cell\n",
              "var outputEl = gd.closest('.output');\n",
              "if (outputEl) {{\n",
              "    x.observe(outputEl, {childList: true});\n",
              "}}\n",
              "\n",
              "                        })                };                            </script>        </div>\n",
              "</body>\n",
              "</html>"
            ]
          },
          "metadata": {
            "tags": []
          }
        }
      ]
    },
    {
      "cell_type": "markdown",
      "metadata": {
        "id": "Of7AckAkPxTz"
      },
      "source": [
        "#### Deaths"
      ]
    },
    {
      "cell_type": "code",
      "metadata": {
        "id": "iMY3JIcXPxTz",
        "colab": {
          "base_uri": "https://localhost:8080/",
          "height": 542
        },
        "outputId": "a0ccc88c-f74c-472d-8b26-fe031f4ec136"
      },
      "source": [
        "animated_barchart(deaths_global,\"deaths\")"
      ],
      "execution_count": null,
      "outputs": [
        {
          "output_type": "display_data",
          "data": {
            "text/html": [
              "<html>\n",
              "<head><meta charset=\"utf-8\" /></head>\n",
              "<body>\n",
              "    <div>            <script src=\"https://cdnjs.cloudflare.com/ajax/libs/mathjax/2.7.5/MathJax.js?config=TeX-AMS-MML_SVG\"></script><script type=\"text/javascript\">if (window.MathJax) {MathJax.Hub.Config({SVG: {font: \"STIX-Web\"}});}</script>                <script type=\"text/javascript\">window.PlotlyConfig = {MathJaxConfig: 'local'};</script>\n",
              "        <script src=\"https://cdn.plot.ly/plotly-latest.min.js\"></script>                <div id=\"5698a40c-80db-49d2-94b6-981b0acf7435\" class=\"plotly-graph-div\" style=\"height:525px; width:100%;\"></div>            <script type=\"text/javascript\">                                    window.PLOTLYENV=window.PLOTLYENV || {};                                    if (document.getElementById(\"5698a40c-80db-49d2-94b6-981b0acf7435\")) {                    Plotly.newPlot(                        \"5698a40c-80db-49d2-94b6-981b0acf7435\",                        [{\"alignmentgroup\": \"True\", \"hovertemplate\": \"Date=1/23/20<br>Country=%{x}<br>Cases=%{y}<extra></extra>\", \"ids\": [\"Brazil\", \"France\", \"India\", \"Iran\", \"Italy\", \"Mexico\", \"Russia\", \"Spain\", \"US\", \"United Kingdom\"], \"legendgroup\": \"\", \"marker\": {\"color\": \"#f54842\"}, \"name\": \"\", \"offsetgroup\": \"\", \"orientation\": \"v\", \"showlegend\": false, \"textposition\": \"auto\", \"type\": \"bar\", \"x\": [\"Brazil\", \"France\", \"India\", \"Iran\", \"Italy\", \"Mexico\", \"Russia\", \"Spain\", \"US\", \"United Kingdom\"], \"xaxis\": \"x\", \"y\": [0, 0, 0, 0, 0, 0, 0, 0, 0, 0], \"yaxis\": \"y\"}],                        {\"barmode\": \"relative\", \"legend\": {\"tracegroupgap\": 0}, \"margin\": {\"t\": 60}, \"showlegend\": false, \"sliders\": [{\"active\": 0, \"currentvalue\": {\"prefix\": \"Date=\"}, \"len\": 0.9, \"pad\": {\"b\": 10, \"t\": 60}, \"steps\": [{\"args\": [[\"1/23/20\"], {\"frame\": {\"duration\": 0, \"redraw\": true}, \"fromcurrent\": true, \"mode\": \"immediate\", \"transition\": {\"duration\": 0, \"easing\": \"linear\"}}], \"label\": \"1/23/20\", \"method\": \"animate\"}, {\"args\": [[\"1/28/20\"], {\"frame\": {\"duration\": 0, \"redraw\": true}, \"fromcurrent\": true, \"mode\": \"immediate\", \"transition\": {\"duration\": 0, \"easing\": \"linear\"}}], \"label\": \"1/28/20\", \"method\": \"animate\"}, {\"args\": [[\"2/3/20\"], {\"frame\": {\"duration\": 0, \"redraw\": true}, \"fromcurrent\": true, \"mode\": \"immediate\", \"transition\": {\"duration\": 0, \"easing\": \"linear\"}}], \"label\": \"2/3/20\", \"method\": \"animate\"}, {\"args\": [[\"2/8/20\"], {\"frame\": {\"duration\": 0, \"redraw\": true}, \"fromcurrent\": true, \"mode\": \"immediate\", \"transition\": {\"duration\": 0, \"easing\": \"linear\"}}], \"label\": \"2/8/20\", \"method\": \"animate\"}, {\"args\": [[\"2/11/20\"], {\"frame\": {\"duration\": 0, \"redraw\": true}, \"fromcurrent\": true, \"mode\": \"immediate\", \"transition\": {\"duration\": 0, \"easing\": \"linear\"}}], \"label\": \"2/11/20\", \"method\": \"animate\"}, {\"args\": [[\"2/16/20\"], {\"frame\": {\"duration\": 0, \"redraw\": true}, \"fromcurrent\": true, \"mode\": \"immediate\", \"transition\": {\"duration\": 0, \"easing\": \"linear\"}}], \"label\": \"2/16/20\", \"method\": \"animate\"}, {\"args\": [[\"2/20/20\"], {\"frame\": {\"duration\": 0, \"redraw\": true}, \"fromcurrent\": true, \"mode\": \"immediate\", \"transition\": {\"duration\": 0, \"easing\": \"linear\"}}], \"label\": \"2/20/20\", \"method\": \"animate\"}, {\"args\": [[\"2/25/20\"], {\"frame\": {\"duration\": 0, \"redraw\": true}, \"fromcurrent\": true, \"mode\": \"immediate\", \"transition\": {\"duration\": 0, \"easing\": \"linear\"}}], \"label\": \"2/25/20\", \"method\": \"animate\"}, {\"args\": [[\"3/7/20\"], {\"frame\": {\"duration\": 0, \"redraw\": true}, \"fromcurrent\": true, \"mode\": \"immediate\", \"transition\": {\"duration\": 0, \"easing\": \"linear\"}}], \"label\": \"3/7/20\", \"method\": \"animate\"}, {\"args\": [[\"3/12/20\"], {\"frame\": {\"duration\": 0, \"redraw\": true}, \"fromcurrent\": true, \"mode\": \"immediate\", \"transition\": {\"duration\": 0, \"easing\": \"linear\"}}], \"label\": \"3/12/20\", \"method\": \"animate\"}, {\"args\": [[\"3/17/20\"], {\"frame\": {\"duration\": 0, \"redraw\": true}, \"fromcurrent\": true, \"mode\": \"immediate\", \"transition\": {\"duration\": 0, \"easing\": \"linear\"}}], \"label\": \"3/17/20\", \"method\": \"animate\"}, {\"args\": [[\"3/21/20\"], {\"frame\": {\"duration\": 0, \"redraw\": true}, \"fromcurrent\": true, \"mode\": \"immediate\", \"transition\": {\"duration\": 0, \"easing\": \"linear\"}}], \"label\": \"3/21/20\", \"method\": \"animate\"}, {\"args\": [[\"3/26/20\"], {\"frame\": {\"duration\": 0, \"redraw\": true}, \"fromcurrent\": true, \"mode\": \"immediate\", \"transition\": {\"duration\": 0, \"easing\": \"linear\"}}], \"label\": \"3/26/20\", \"method\": \"animate\"}, {\"args\": [[\"3/30/20\"], {\"frame\": {\"duration\": 0, \"redraw\": true}, \"fromcurrent\": true, \"mode\": \"immediate\", \"transition\": {\"duration\": 0, \"easing\": \"linear\"}}], \"label\": \"3/30/20\", \"method\": \"animate\"}, {\"args\": [[\"4/3/20\"], {\"frame\": {\"duration\": 0, \"redraw\": true}, \"fromcurrent\": true, \"mode\": \"immediate\", \"transition\": {\"duration\": 0, \"easing\": \"linear\"}}], \"label\": \"4/3/20\", \"method\": \"animate\"}, {\"args\": [[\"4/7/20\"], {\"frame\": {\"duration\": 0, \"redraw\": true}, \"fromcurrent\": true, \"mode\": \"immediate\", \"transition\": {\"duration\": 0, \"easing\": \"linear\"}}], \"label\": \"4/7/20\", \"method\": \"animate\"}, {\"args\": [[\"4/11/20\"], {\"frame\": {\"duration\": 0, \"redraw\": true}, \"fromcurrent\": true, \"mode\": \"immediate\", \"transition\": {\"duration\": 0, \"easing\": \"linear\"}}], \"label\": \"4/11/20\", \"method\": \"animate\"}, {\"args\": [[\"4/16/20\"], {\"frame\": {\"duration\": 0, \"redraw\": true}, \"fromcurrent\": true, \"mode\": \"immediate\", \"transition\": {\"duration\": 0, \"easing\": \"linear\"}}], \"label\": \"4/16/20\", \"method\": \"animate\"}, {\"args\": [[\"4/20/20\"], {\"frame\": {\"duration\": 0, \"redraw\": true}, \"fromcurrent\": true, \"mode\": \"immediate\", \"transition\": {\"duration\": 0, \"easing\": \"linear\"}}], \"label\": \"4/20/20\", \"method\": \"animate\"}, {\"args\": [[\"4/25/20\"], {\"frame\": {\"duration\": 0, \"redraw\": true}, \"fromcurrent\": true, \"mode\": \"immediate\", \"transition\": {\"duration\": 0, \"easing\": \"linear\"}}], \"label\": \"4/25/20\", \"method\": \"animate\"}, {\"args\": [[\"5/3/20\"], {\"frame\": {\"duration\": 0, \"redraw\": true}, \"fromcurrent\": true, \"mode\": \"immediate\", \"transition\": {\"duration\": 0, \"easing\": \"linear\"}}], \"label\": \"5/3/20\", \"method\": \"animate\"}, {\"args\": [[\"5/6/20\"], {\"frame\": {\"duration\": 0, \"redraw\": true}, \"fromcurrent\": true, \"mode\": \"immediate\", \"transition\": {\"duration\": 0, \"easing\": \"linear\"}}], \"label\": \"5/6/20\", \"method\": \"animate\"}, {\"args\": [[\"5/11/20\"], {\"frame\": {\"duration\": 0, \"redraw\": true}, \"fromcurrent\": true, \"mode\": \"immediate\", \"transition\": {\"duration\": 0, \"easing\": \"linear\"}}], \"label\": \"5/11/20\", \"method\": \"animate\"}, {\"args\": [[\"5/16/20\"], {\"frame\": {\"duration\": 0, \"redraw\": true}, \"fromcurrent\": true, \"mode\": \"immediate\", \"transition\": {\"duration\": 0, \"easing\": \"linear\"}}], \"label\": \"5/16/20\", \"method\": \"animate\"}, {\"args\": [[\"5/20/20\"], {\"frame\": {\"duration\": 0, \"redraw\": true}, \"fromcurrent\": true, \"mode\": \"immediate\", \"transition\": {\"duration\": 0, \"easing\": \"linear\"}}], \"label\": \"5/20/20\", \"method\": \"animate\"}, {\"args\": [[\"5/25/20\"], {\"frame\": {\"duration\": 0, \"redraw\": true}, \"fromcurrent\": true, \"mode\": \"immediate\", \"transition\": {\"duration\": 0, \"easing\": \"linear\"}}], \"label\": \"5/25/20\", \"method\": \"animate\"}, {\"args\": [[\"6/2/20\"], {\"frame\": {\"duration\": 0, \"redraw\": true}, \"fromcurrent\": true, \"mode\": \"immediate\", \"transition\": {\"duration\": 0, \"easing\": \"linear\"}}], \"label\": \"6/2/20\", \"method\": \"animate\"}, {\"args\": [[\"6/6/20\"], {\"frame\": {\"duration\": 0, \"redraw\": true}, \"fromcurrent\": true, \"mode\": \"immediate\", \"transition\": {\"duration\": 0, \"easing\": \"linear\"}}], \"label\": \"6/6/20\", \"method\": \"animate\"}, {\"args\": [[\"6/10/20\"], {\"frame\": {\"duration\": 0, \"redraw\": true}, \"fromcurrent\": true, \"mode\": \"immediate\", \"transition\": {\"duration\": 0, \"easing\": \"linear\"}}], \"label\": \"6/10/20\", \"method\": \"animate\"}, {\"args\": [[\"6/15/20\"], {\"frame\": {\"duration\": 0, \"redraw\": true}, \"fromcurrent\": true, \"mode\": \"immediate\", \"transition\": {\"duration\": 0, \"easing\": \"linear\"}}], \"label\": \"6/15/20\", \"method\": \"animate\"}, {\"args\": [[\"6/24/20\"], {\"frame\": {\"duration\": 0, \"redraw\": true}, \"fromcurrent\": true, \"mode\": \"immediate\", \"transition\": {\"duration\": 0, \"easing\": \"linear\"}}], \"label\": \"6/24/20\", \"method\": \"animate\"}, {\"args\": [[\"6/29/20\"], {\"frame\": {\"duration\": 0, \"redraw\": true}, \"fromcurrent\": true, \"mode\": \"immediate\", \"transition\": {\"duration\": 0, \"easing\": \"linear\"}}], \"label\": \"6/29/20\", \"method\": \"animate\"}, {\"args\": [[\"7/2/20\"], {\"frame\": {\"duration\": 0, \"redraw\": true}, \"fromcurrent\": true, \"mode\": \"immediate\", \"transition\": {\"duration\": 0, \"easing\": \"linear\"}}], \"label\": \"7/2/20\", \"method\": \"animate\"}, {\"args\": [[\"7/5/20\"], {\"frame\": {\"duration\": 0, \"redraw\": true}, \"fromcurrent\": true, \"mode\": \"immediate\", \"transition\": {\"duration\": 0, \"easing\": \"linear\"}}], \"label\": \"7/5/20\", \"method\": \"animate\"}, {\"args\": [[\"7/10/20\"], {\"frame\": {\"duration\": 0, \"redraw\": true}, \"fromcurrent\": true, \"mode\": \"immediate\", \"transition\": {\"duration\": 0, \"easing\": \"linear\"}}], \"label\": \"7/10/20\", \"method\": \"animate\"}, {\"args\": [[\"7/15/20\"], {\"frame\": {\"duration\": 0, \"redraw\": true}, \"fromcurrent\": true, \"mode\": \"immediate\", \"transition\": {\"duration\": 0, \"easing\": \"linear\"}}], \"label\": \"7/15/20\", \"method\": \"animate\"}, {\"args\": [[\"7/24/20\"], {\"frame\": {\"duration\": 0, \"redraw\": true}, \"fromcurrent\": true, \"mode\": \"immediate\", \"transition\": {\"duration\": 0, \"easing\": \"linear\"}}], \"label\": \"7/24/20\", \"method\": \"animate\"}, {\"args\": [[\"7/29/20\"], {\"frame\": {\"duration\": 0, \"redraw\": true}, \"fromcurrent\": true, \"mode\": \"immediate\", \"transition\": {\"duration\": 0, \"easing\": \"linear\"}}], \"label\": \"7/29/20\", \"method\": \"animate\"}, {\"args\": [[\"8/1/20\"], {\"frame\": {\"duration\": 0, \"redraw\": true}, \"fromcurrent\": true, \"mode\": \"immediate\", \"transition\": {\"duration\": 0, \"easing\": \"linear\"}}], \"label\": \"8/1/20\", \"method\": \"animate\"}, {\"args\": [[\"8/4/20\"], {\"frame\": {\"duration\": 0, \"redraw\": true}, \"fromcurrent\": true, \"mode\": \"immediate\", \"transition\": {\"duration\": 0, \"easing\": \"linear\"}}], \"label\": \"8/4/20\", \"method\": \"animate\"}, {\"args\": [[\"8/9/20\"], {\"frame\": {\"duration\": 0, \"redraw\": true}, \"fromcurrent\": true, \"mode\": \"immediate\", \"transition\": {\"duration\": 0, \"easing\": \"linear\"}}], \"label\": \"8/9/20\", \"method\": \"animate\"}, {\"args\": [[\"8/14/20\"], {\"frame\": {\"duration\": 0, \"redraw\": true}, \"fromcurrent\": true, \"mode\": \"immediate\", \"transition\": {\"duration\": 0, \"easing\": \"linear\"}}], \"label\": \"8/14/20\", \"method\": \"animate\"}, {\"args\": [[\"8/19/20\"], {\"frame\": {\"duration\": 0, \"redraw\": true}, \"fromcurrent\": true, \"mode\": \"immediate\", \"transition\": {\"duration\": 0, \"easing\": \"linear\"}}], \"label\": \"8/19/20\", \"method\": \"animate\"}, {\"args\": [[\"8/23/20\"], {\"frame\": {\"duration\": 0, \"redraw\": true}, \"fromcurrent\": true, \"mode\": \"immediate\", \"transition\": {\"duration\": 0, \"easing\": \"linear\"}}], \"label\": \"8/23/20\", \"method\": \"animate\"}, {\"args\": [[\"8/28/20\"], {\"frame\": {\"duration\": 0, \"redraw\": true}, \"fromcurrent\": true, \"mode\": \"immediate\", \"transition\": {\"duration\": 0, \"easing\": \"linear\"}}], \"label\": \"8/28/20\", \"method\": \"animate\"}, {\"args\": [[\"9/4/20\"], {\"frame\": {\"duration\": 0, \"redraw\": true}, \"fromcurrent\": true, \"mode\": \"immediate\", \"transition\": {\"duration\": 0, \"easing\": \"linear\"}}], \"label\": \"9/4/20\", \"method\": \"animate\"}, {\"args\": [[\"9/9/20\"], {\"frame\": {\"duration\": 0, \"redraw\": true}, \"fromcurrent\": true, \"mode\": \"immediate\", \"transition\": {\"duration\": 0, \"easing\": \"linear\"}}], \"label\": \"9/9/20\", \"method\": \"animate\"}, {\"args\": [[\"9/13/20\"], {\"frame\": {\"duration\": 0, \"redraw\": true}, \"fromcurrent\": true, \"mode\": \"immediate\", \"transition\": {\"duration\": 0, \"easing\": \"linear\"}}], \"label\": \"9/13/20\", \"method\": \"animate\"}, {\"args\": [[\"9/18/20\"], {\"frame\": {\"duration\": 0, \"redraw\": true}, \"fromcurrent\": true, \"mode\": \"immediate\", \"transition\": {\"duration\": 0, \"easing\": \"linear\"}}], \"label\": \"9/18/20\", \"method\": \"animate\"}, {\"args\": [[\"9/22/20\"], {\"frame\": {\"duration\": 0, \"redraw\": true}, \"fromcurrent\": true, \"mode\": \"immediate\", \"transition\": {\"duration\": 0, \"easing\": \"linear\"}}], \"label\": \"9/22/20\", \"method\": \"animate\"}, {\"args\": [[\"9/27/20\"], {\"frame\": {\"duration\": 0, \"redraw\": true}, \"fromcurrent\": true, \"mode\": \"immediate\", \"transition\": {\"duration\": 0, \"easing\": \"linear\"}}], \"label\": \"9/27/20\", \"method\": \"animate\"}, {\"args\": [[\"10/2/20\"], {\"frame\": {\"duration\": 0, \"redraw\": true}, \"fromcurrent\": true, \"mode\": \"immediate\", \"transition\": {\"duration\": 0, \"easing\": \"linear\"}}], \"label\": \"10/2/20\", \"method\": \"animate\"}, {\"args\": [[\"10/5/20\"], {\"frame\": {\"duration\": 0, \"redraw\": true}, \"fromcurrent\": true, \"mode\": \"immediate\", \"transition\": {\"duration\": 0, \"easing\": \"linear\"}}], \"label\": \"10/5/20\", \"method\": \"animate\"}, {\"args\": [[\"10/10/20\"], {\"frame\": {\"duration\": 0, \"redraw\": true}, \"fromcurrent\": true, \"mode\": \"immediate\", \"transition\": {\"duration\": 0, \"easing\": \"linear\"}}], \"label\": \"10/10/20\", \"method\": \"animate\"}, {\"args\": [[\"10/15/20\"], {\"frame\": {\"duration\": 0, \"redraw\": true}, \"fromcurrent\": true, \"mode\": \"immediate\", \"transition\": {\"duration\": 0, \"easing\": \"linear\"}}], \"label\": \"10/15/20\", \"method\": \"animate\"}, {\"args\": [[\"10/24/20\"], {\"frame\": {\"duration\": 0, \"redraw\": true}, \"fromcurrent\": true, \"mode\": \"immediate\", \"transition\": {\"duration\": 0, \"easing\": \"linear\"}}], \"label\": \"10/24/20\", \"method\": \"animate\"}, {\"args\": [[\"10/29/20\"], {\"frame\": {\"duration\": 0, \"redraw\": true}, \"fromcurrent\": true, \"mode\": \"immediate\", \"transition\": {\"duration\": 0, \"easing\": \"linear\"}}], \"label\": \"10/29/20\", \"method\": \"animate\"}, {\"args\": [[\"11/1/20\"], {\"frame\": {\"duration\": 0, \"redraw\": true}, \"fromcurrent\": true, \"mode\": \"immediate\", \"transition\": {\"duration\": 0, \"easing\": \"linear\"}}], \"label\": \"11/1/20\", \"method\": \"animate\"}, {\"args\": [[\"11/5/20\"], {\"frame\": {\"duration\": 0, \"redraw\": true}, \"fromcurrent\": true, \"mode\": \"immediate\", \"transition\": {\"duration\": 0, \"easing\": \"linear\"}}], \"label\": \"11/5/20\", \"method\": \"animate\"}, {\"args\": [[\"11/14/20\"], {\"frame\": {\"duration\": 0, \"redraw\": true}, \"fromcurrent\": true, \"mode\": \"immediate\", \"transition\": {\"duration\": 0, \"easing\": \"linear\"}}], \"label\": \"11/14/20\", \"method\": \"animate\"}, {\"args\": [[\"11/19/20\"], {\"frame\": {\"duration\": 0, \"redraw\": true}, \"fromcurrent\": true, \"mode\": \"immediate\", \"transition\": {\"duration\": 0, \"easing\": \"linear\"}}], \"label\": \"11/19/20\", \"method\": \"animate\"}, {\"args\": [[\"11/23/20\"], {\"frame\": {\"duration\": 0, \"redraw\": true}, \"fromcurrent\": true, \"mode\": \"immediate\", \"transition\": {\"duration\": 0, \"easing\": \"linear\"}}], \"label\": \"11/23/20\", \"method\": \"animate\"}, {\"args\": [[\"11/28/20\"], {\"frame\": {\"duration\": 0, \"redraw\": true}, \"fromcurrent\": true, \"mode\": \"immediate\", \"transition\": {\"duration\": 0, \"easing\": \"linear\"}}], \"label\": \"11/28/20\", \"method\": \"animate\"}, {\"args\": [[\"12/1/20\"], {\"frame\": {\"duration\": 0, \"redraw\": true}, \"fromcurrent\": true, \"mode\": \"immediate\", \"transition\": {\"duration\": 0, \"easing\": \"linear\"}}], \"label\": \"12/1/20\", \"method\": \"animate\"}, {\"args\": [[\"12/7/20\"], {\"frame\": {\"duration\": 0, \"redraw\": true}, \"fromcurrent\": true, \"mode\": \"immediate\", \"transition\": {\"duration\": 0, \"easing\": \"linear\"}}], \"label\": \"12/7/20\", \"method\": \"animate\"}, {\"args\": [[\"12/14/20\"], {\"frame\": {\"duration\": 0, \"redraw\": true}, \"fromcurrent\": true, \"mode\": \"immediate\", \"transition\": {\"duration\": 0, \"easing\": \"linear\"}}], \"label\": \"12/14/20\", \"method\": \"animate\"}, {\"args\": [[\"12/19/20\"], {\"frame\": {\"duration\": 0, \"redraw\": true}, \"fromcurrent\": true, \"mode\": \"immediate\", \"transition\": {\"duration\": 0, \"easing\": \"linear\"}}], \"label\": \"12/19/20\", \"method\": \"animate\"}, {\"args\": [[\"12/23/20\"], {\"frame\": {\"duration\": 0, \"redraw\": true}, \"fromcurrent\": true, \"mode\": \"immediate\", \"transition\": {\"duration\": 0, \"easing\": \"linear\"}}], \"label\": \"12/23/20\", \"method\": \"animate\"}, {\"args\": [[\"12/28/20\"], {\"frame\": {\"duration\": 0, \"redraw\": true}, \"fromcurrent\": true, \"mode\": \"immediate\", \"transition\": {\"duration\": 0, \"easing\": \"linear\"}}], \"label\": \"12/28/20\", \"method\": \"animate\"}], \"x\": 0.1, \"xanchor\": \"left\", \"y\": 0, \"yanchor\": \"top\"}], \"template\": {\"data\": {\"bar\": [{\"error_x\": {\"color\": \"#f2f5fa\"}, \"error_y\": {\"color\": \"#f2f5fa\"}, \"marker\": {\"line\": {\"color\": \"rgb(17,17,17)\", \"width\": 0.5}}, \"type\": \"bar\"}], \"barpolar\": [{\"marker\": {\"line\": {\"color\": \"rgb(17,17,17)\", \"width\": 0.5}}, \"type\": \"barpolar\"}], \"carpet\": [{\"aaxis\": {\"endlinecolor\": \"#A2B1C6\", \"gridcolor\": \"#506784\", \"linecolor\": \"#506784\", \"minorgridcolor\": \"#506784\", \"startlinecolor\": \"#A2B1C6\"}, \"baxis\": {\"endlinecolor\": \"#A2B1C6\", \"gridcolor\": \"#506784\", \"linecolor\": \"#506784\", \"minorgridcolor\": \"#506784\", \"startlinecolor\": \"#A2B1C6\"}, \"type\": \"carpet\"}], \"choropleth\": [{\"colorbar\": {\"outlinewidth\": 0, \"ticks\": \"\"}, \"type\": \"choropleth\"}], \"contour\": [{\"colorbar\": {\"outlinewidth\": 0, \"ticks\": \"\"}, \"colorscale\": [[0.0, \"#0d0887\"], [0.1111111111111111, \"#46039f\"], [0.2222222222222222, \"#7201a8\"], [0.3333333333333333, \"#9c179e\"], [0.4444444444444444, \"#bd3786\"], [0.5555555555555556, \"#d8576b\"], [0.6666666666666666, \"#ed7953\"], [0.7777777777777778, \"#fb9f3a\"], [0.8888888888888888, \"#fdca26\"], [1.0, \"#f0f921\"]], \"type\": \"contour\"}], \"contourcarpet\": [{\"colorbar\": {\"outlinewidth\": 0, \"ticks\": \"\"}, \"type\": \"contourcarpet\"}], \"heatmap\": [{\"colorbar\": {\"outlinewidth\": 0, \"ticks\": \"\"}, \"colorscale\": [[0.0, \"#0d0887\"], [0.1111111111111111, \"#46039f\"], [0.2222222222222222, \"#7201a8\"], [0.3333333333333333, \"#9c179e\"], [0.4444444444444444, \"#bd3786\"], [0.5555555555555556, \"#d8576b\"], [0.6666666666666666, \"#ed7953\"], [0.7777777777777778, \"#fb9f3a\"], [0.8888888888888888, \"#fdca26\"], [1.0, \"#f0f921\"]], \"type\": \"heatmap\"}], \"heatmapgl\": [{\"colorbar\": {\"outlinewidth\": 0, \"ticks\": \"\"}, \"colorscale\": [[0.0, \"#0d0887\"], [0.1111111111111111, \"#46039f\"], [0.2222222222222222, \"#7201a8\"], [0.3333333333333333, \"#9c179e\"], [0.4444444444444444, \"#bd3786\"], [0.5555555555555556, \"#d8576b\"], [0.6666666666666666, \"#ed7953\"], [0.7777777777777778, \"#fb9f3a\"], [0.8888888888888888, \"#fdca26\"], [1.0, \"#f0f921\"]], \"type\": \"heatmapgl\"}], \"histogram\": [{\"marker\": {\"colorbar\": {\"outlinewidth\": 0, \"ticks\": \"\"}}, \"type\": \"histogram\"}], \"histogram2d\": [{\"colorbar\": {\"outlinewidth\": 0, \"ticks\": \"\"}, \"colorscale\": [[0.0, \"#0d0887\"], [0.1111111111111111, \"#46039f\"], [0.2222222222222222, \"#7201a8\"], [0.3333333333333333, \"#9c179e\"], [0.4444444444444444, \"#bd3786\"], [0.5555555555555556, \"#d8576b\"], [0.6666666666666666, \"#ed7953\"], [0.7777777777777778, \"#fb9f3a\"], [0.8888888888888888, \"#fdca26\"], [1.0, \"#f0f921\"]], \"type\": \"histogram2d\"}], \"histogram2dcontour\": [{\"colorbar\": {\"outlinewidth\": 0, \"ticks\": \"\"}, \"colorscale\": [[0.0, \"#0d0887\"], [0.1111111111111111, \"#46039f\"], [0.2222222222222222, \"#7201a8\"], [0.3333333333333333, \"#9c179e\"], [0.4444444444444444, \"#bd3786\"], [0.5555555555555556, \"#d8576b\"], [0.6666666666666666, \"#ed7953\"], [0.7777777777777778, \"#fb9f3a\"], [0.8888888888888888, \"#fdca26\"], [1.0, \"#f0f921\"]], \"type\": \"histogram2dcontour\"}], \"mesh3d\": [{\"colorbar\": {\"outlinewidth\": 0, \"ticks\": \"\"}, \"type\": \"mesh3d\"}], \"parcoords\": [{\"line\": {\"colorbar\": {\"outlinewidth\": 0, \"ticks\": \"\"}}, \"type\": \"parcoords\"}], \"pie\": [{\"automargin\": true, \"type\": \"pie\"}], \"scatter\": [{\"marker\": {\"line\": {\"color\": \"#283442\"}}, \"type\": \"scatter\"}], \"scatter3d\": [{\"line\": {\"colorbar\": {\"outlinewidth\": 0, \"ticks\": \"\"}}, \"marker\": {\"colorbar\": {\"outlinewidth\": 0, \"ticks\": \"\"}}, \"type\": \"scatter3d\"}], \"scattercarpet\": [{\"marker\": {\"colorbar\": {\"outlinewidth\": 0, \"ticks\": \"\"}}, \"type\": \"scattercarpet\"}], \"scattergeo\": [{\"marker\": {\"colorbar\": {\"outlinewidth\": 0, \"ticks\": \"\"}}, \"type\": \"scattergeo\"}], \"scattergl\": [{\"marker\": {\"line\": {\"color\": \"#283442\"}}, \"type\": \"scattergl\"}], \"scattermapbox\": [{\"marker\": {\"colorbar\": {\"outlinewidth\": 0, \"ticks\": \"\"}}, \"type\": \"scattermapbox\"}], \"scatterpolar\": [{\"marker\": {\"colorbar\": {\"outlinewidth\": 0, \"ticks\": \"\"}}, \"type\": \"scatterpolar\"}], \"scatterpolargl\": [{\"marker\": {\"colorbar\": {\"outlinewidth\": 0, \"ticks\": \"\"}}, \"type\": \"scatterpolargl\"}], \"scatterternary\": [{\"marker\": {\"colorbar\": {\"outlinewidth\": 0, \"ticks\": \"\"}}, \"type\": \"scatterternary\"}], \"surface\": [{\"colorbar\": {\"outlinewidth\": 0, \"ticks\": \"\"}, \"colorscale\": [[0.0, \"#0d0887\"], [0.1111111111111111, \"#46039f\"], [0.2222222222222222, \"#7201a8\"], [0.3333333333333333, \"#9c179e\"], [0.4444444444444444, \"#bd3786\"], [0.5555555555555556, \"#d8576b\"], [0.6666666666666666, \"#ed7953\"], [0.7777777777777778, \"#fb9f3a\"], [0.8888888888888888, \"#fdca26\"], [1.0, \"#f0f921\"]], \"type\": \"surface\"}], \"table\": [{\"cells\": {\"fill\": {\"color\": \"#506784\"}, \"line\": {\"color\": \"rgb(17,17,17)\"}}, \"header\": {\"fill\": {\"color\": \"#2a3f5f\"}, \"line\": {\"color\": \"rgb(17,17,17)\"}}, \"type\": \"table\"}]}, \"layout\": {\"annotationdefaults\": {\"arrowcolor\": \"#f2f5fa\", \"arrowhead\": 0, \"arrowwidth\": 1}, \"autotypenumbers\": \"strict\", \"coloraxis\": {\"colorbar\": {\"outlinewidth\": 0, \"ticks\": \"\"}}, \"colorscale\": {\"diverging\": [[0, \"#8e0152\"], [0.1, \"#c51b7d\"], [0.2, \"#de77ae\"], [0.3, \"#f1b6da\"], [0.4, \"#fde0ef\"], [0.5, \"#f7f7f7\"], [0.6, \"#e6f5d0\"], [0.7, \"#b8e186\"], [0.8, \"#7fbc41\"], [0.9, \"#4d9221\"], [1, \"#276419\"]], \"sequential\": [[0.0, \"#0d0887\"], [0.1111111111111111, \"#46039f\"], [0.2222222222222222, \"#7201a8\"], [0.3333333333333333, \"#9c179e\"], [0.4444444444444444, \"#bd3786\"], [0.5555555555555556, \"#d8576b\"], [0.6666666666666666, \"#ed7953\"], [0.7777777777777778, \"#fb9f3a\"], [0.8888888888888888, \"#fdca26\"], [1.0, \"#f0f921\"]], \"sequentialminus\": [[0.0, \"#0d0887\"], [0.1111111111111111, \"#46039f\"], [0.2222222222222222, \"#7201a8\"], [0.3333333333333333, \"#9c179e\"], [0.4444444444444444, \"#bd3786\"], [0.5555555555555556, \"#d8576b\"], [0.6666666666666666, \"#ed7953\"], [0.7777777777777778, \"#fb9f3a\"], [0.8888888888888888, \"#fdca26\"], [1.0, \"#f0f921\"]]}, \"colorway\": [\"#636efa\", \"#EF553B\", \"#00cc96\", \"#ab63fa\", \"#FFA15A\", \"#19d3f3\", \"#FF6692\", \"#B6E880\", \"#FF97FF\", \"#FECB52\"], \"font\": {\"color\": \"#f2f5fa\"}, \"geo\": {\"bgcolor\": \"rgb(17,17,17)\", \"lakecolor\": \"rgb(17,17,17)\", \"landcolor\": \"rgb(17,17,17)\", \"showlakes\": true, \"showland\": true, \"subunitcolor\": \"#506784\"}, \"hoverlabel\": {\"align\": \"left\"}, \"hovermode\": \"closest\", \"mapbox\": {\"style\": \"dark\"}, \"paper_bgcolor\": \"rgb(17,17,17)\", \"plot_bgcolor\": \"rgb(17,17,17)\", \"polar\": {\"angularaxis\": {\"gridcolor\": \"#506784\", \"linecolor\": \"#506784\", \"ticks\": \"\"}, \"bgcolor\": \"rgb(17,17,17)\", \"radialaxis\": {\"gridcolor\": \"#506784\", \"linecolor\": \"#506784\", \"ticks\": \"\"}}, \"scene\": {\"xaxis\": {\"backgroundcolor\": \"rgb(17,17,17)\", \"gridcolor\": \"#506784\", \"gridwidth\": 2, \"linecolor\": \"#506784\", \"showbackground\": true, \"ticks\": \"\", \"zerolinecolor\": \"#C8D4E3\"}, \"yaxis\": {\"backgroundcolor\": \"rgb(17,17,17)\", \"gridcolor\": \"#506784\", \"gridwidth\": 2, \"linecolor\": \"#506784\", \"showbackground\": true, \"ticks\": \"\", \"zerolinecolor\": \"#C8D4E3\"}, \"zaxis\": {\"backgroundcolor\": \"rgb(17,17,17)\", \"gridcolor\": \"#506784\", \"gridwidth\": 2, \"linecolor\": \"#506784\", \"showbackground\": true, \"ticks\": \"\", \"zerolinecolor\": \"#C8D4E3\"}}, \"shapedefaults\": {\"line\": {\"color\": \"#f2f5fa\"}}, \"sliderdefaults\": {\"bgcolor\": \"#C8D4E3\", \"bordercolor\": \"rgb(17,17,17)\", \"borderwidth\": 1, \"tickwidth\": 0}, \"ternary\": {\"aaxis\": {\"gridcolor\": \"#506784\", \"linecolor\": \"#506784\", \"ticks\": \"\"}, \"baxis\": {\"gridcolor\": \"#506784\", \"linecolor\": \"#506784\", \"ticks\": \"\"}, \"bgcolor\": \"rgb(17,17,17)\", \"caxis\": {\"gridcolor\": \"#506784\", \"linecolor\": \"#506784\", \"ticks\": \"\"}}, \"title\": {\"x\": 0.05}, \"updatemenudefaults\": {\"bgcolor\": \"#506784\", \"borderwidth\": 0}, \"xaxis\": {\"automargin\": true, \"gridcolor\": \"#283442\", \"linecolor\": \"#506784\", \"ticks\": \"\", \"title\": {\"standoff\": 15}, \"zerolinecolor\": \"#283442\", \"zerolinewidth\": 2}, \"yaxis\": {\"automargin\": true, \"gridcolor\": \"#283442\", \"linecolor\": \"#506784\", \"ticks\": \"\", \"title\": {\"standoff\": 15}, \"zerolinecolor\": \"#283442\", \"zerolinewidth\": 2}}}, \"updatemenus\": [{\"buttons\": [{\"args\": [null, {\"frame\": {\"duration\": 500, \"redraw\": true}, \"fromcurrent\": true, \"mode\": \"immediate\", \"transition\": {\"duration\": 500, \"easing\": \"linear\"}}], \"label\": \"&#9654;\", \"method\": \"animate\"}, {\"args\": [[null], {\"frame\": {\"duration\": 0, \"redraw\": true}, \"fromcurrent\": true, \"mode\": \"immediate\", \"transition\": {\"duration\": 0, \"easing\": \"linear\"}}], \"label\": \"&#9724;\", \"method\": \"animate\"}], \"direction\": \"left\", \"pad\": {\"r\": 10, \"t\": 70}, \"showactive\": false, \"type\": \"buttons\", \"x\": 0.1, \"xanchor\": \"right\", \"y\": 0, \"yanchor\": \"top\"}], \"xaxis\": {\"anchor\": \"y\", \"domain\": [0.0, 1.0], \"title\": {\"text\": \"Country\"}}, \"yaxis\": {\"anchor\": \"x\", \"domain\": [0.0, 1.0], \"range\": [0, 334836], \"title\": {\"text\": \"Cases\"}}},                        {\"responsive\": true}                    ).then(function(){\n",
              "                            Plotly.addFrames('5698a40c-80db-49d2-94b6-981b0acf7435', [{\"data\": [{\"alignmentgroup\": \"True\", \"hovertemplate\": \"Date=1/23/20<br>Country=%{x}<br>Cases=%{y}<extra></extra>\", \"ids\": [\"Brazil\", \"France\", \"India\", \"Iran\", \"Italy\", \"Mexico\", \"Russia\", \"Spain\", \"US\", \"United Kingdom\"], \"legendgroup\": \"\", \"marker\": {\"color\": \"#f54842\"}, \"name\": \"\", \"offsetgroup\": \"\", \"orientation\": \"v\", \"showlegend\": false, \"textposition\": \"auto\", \"x\": [\"Brazil\", \"France\", \"India\", \"Iran\", \"Italy\", \"Mexico\", \"Russia\", \"Spain\", \"US\", \"United Kingdom\"], \"xaxis\": \"x\", \"y\": [0, 0, 0, 0, 0, 0, 0, 0, 0, 0], \"yaxis\": \"y\", \"type\": \"bar\"}], \"name\": \"1/23/20\"}, {\"data\": [{\"alignmentgroup\": \"True\", \"hovertemplate\": \"Date=1/28/20<br>Country=%{x}<br>Cases=%{y}<extra></extra>\", \"ids\": [\"Brazil\", \"France\", \"India\", \"Iran\", \"Italy\", \"Mexico\", \"Russia\", \"Spain\", \"US\", \"United Kingdom\"], \"legendgroup\": \"\", \"marker\": {\"color\": \"#f54842\"}, \"name\": \"\", \"offsetgroup\": \"\", \"orientation\": \"v\", \"showlegend\": false, \"textposition\": \"auto\", \"x\": [\"Brazil\", \"France\", \"India\", \"Iran\", \"Italy\", \"Mexico\", \"Russia\", \"Spain\", \"US\", \"United Kingdom\"], \"xaxis\": \"x\", \"y\": [0, 0, 0, 0, 0, 0, 0, 0, 0, 0], \"yaxis\": \"y\", \"type\": \"bar\"}], \"name\": \"1/28/20\"}, {\"data\": [{\"alignmentgroup\": \"True\", \"hovertemplate\": \"Date=2/3/20<br>Country=%{x}<br>Cases=%{y}<extra></extra>\", \"ids\": [\"Brazil\", \"France\", \"India\", \"Iran\", \"Italy\", \"Mexico\", \"Russia\", \"Spain\", \"US\", \"United Kingdom\"], \"legendgroup\": \"\", \"marker\": {\"color\": \"#f54842\"}, \"name\": \"\", \"offsetgroup\": \"\", \"orientation\": \"v\", \"showlegend\": false, \"textposition\": \"auto\", \"x\": [\"Brazil\", \"France\", \"India\", \"Iran\", \"Italy\", \"Mexico\", \"Russia\", \"Spain\", \"US\", \"United Kingdom\"], \"xaxis\": \"x\", \"y\": [0, 0, 0, 0, 0, 0, 0, 0, 0, 0], \"yaxis\": \"y\", \"type\": \"bar\"}], \"name\": \"2/3/20\"}, {\"data\": [{\"alignmentgroup\": \"True\", \"hovertemplate\": \"Date=2/8/20<br>Country=%{x}<br>Cases=%{y}<extra></extra>\", \"ids\": [\"Brazil\", \"France\", \"India\", \"Iran\", \"Italy\", \"Mexico\", \"Russia\", \"Spain\", \"US\", \"United Kingdom\"], \"legendgroup\": \"\", \"marker\": {\"color\": \"#f54842\"}, \"name\": \"\", \"offsetgroup\": \"\", \"orientation\": \"v\", \"showlegend\": false, \"textposition\": \"auto\", \"x\": [\"Brazil\", \"France\", \"India\", \"Iran\", \"Italy\", \"Mexico\", \"Russia\", \"Spain\", \"US\", \"United Kingdom\"], \"xaxis\": \"x\", \"y\": [0, 0, 0, 0, 0, 0, 0, 0, 0, 0], \"yaxis\": \"y\", \"type\": \"bar\"}], \"name\": \"2/8/20\"}, {\"data\": [{\"alignmentgroup\": \"True\", \"hovertemplate\": \"Date=2/11/20<br>Country=%{x}<br>Cases=%{y}<extra></extra>\", \"ids\": [\"Brazil\", \"France\", \"India\", \"Iran\", \"Italy\", \"Mexico\", \"Russia\", \"Spain\", \"US\", \"United Kingdom\"], \"legendgroup\": \"\", \"marker\": {\"color\": \"#f54842\"}, \"name\": \"\", \"offsetgroup\": \"\", \"orientation\": \"v\", \"showlegend\": false, \"textposition\": \"auto\", \"x\": [\"Brazil\", \"France\", \"India\", \"Iran\", \"Italy\", \"Mexico\", \"Russia\", \"Spain\", \"US\", \"United Kingdom\"], \"xaxis\": \"x\", \"y\": [0, 0, 0, 0, 0, 0, 0, 0, 0, 0], \"yaxis\": \"y\", \"type\": \"bar\"}], \"name\": \"2/11/20\"}, {\"data\": [{\"alignmentgroup\": \"True\", \"hovertemplate\": \"Date=2/16/20<br>Country=%{x}<br>Cases=%{y}<extra></extra>\", \"ids\": [\"Brazil\", \"France\", \"India\", \"Iran\", \"Italy\", \"Mexico\", \"Russia\", \"Spain\", \"US\", \"United Kingdom\"], \"legendgroup\": \"\", \"marker\": {\"color\": \"#f54842\"}, \"name\": \"\", \"offsetgroup\": \"\", \"orientation\": \"v\", \"showlegend\": false, \"textposition\": \"auto\", \"x\": [\"Brazil\", \"France\", \"India\", \"Iran\", \"Italy\", \"Mexico\", \"Russia\", \"Spain\", \"US\", \"United Kingdom\"], \"xaxis\": \"x\", \"y\": [0, 1, 0, 0, 0, 0, 0, 0, 0, 0], \"yaxis\": \"y\", \"type\": \"bar\"}], \"name\": \"2/16/20\"}, {\"data\": [{\"alignmentgroup\": \"True\", \"hovertemplate\": \"Date=2/20/20<br>Country=%{x}<br>Cases=%{y}<extra></extra>\", \"ids\": [\"Brazil\", \"France\", \"India\", \"Iran\", \"Italy\", \"Mexico\", \"Russia\", \"Spain\", \"US\", \"United Kingdom\"], \"legendgroup\": \"\", \"marker\": {\"color\": \"#f54842\"}, \"name\": \"\", \"offsetgroup\": \"\", \"orientation\": \"v\", \"showlegend\": false, \"textposition\": \"auto\", \"x\": [\"Brazil\", \"France\", \"India\", \"Iran\", \"Italy\", \"Mexico\", \"Russia\", \"Spain\", \"US\", \"United Kingdom\"], \"xaxis\": \"x\", \"y\": [0, 1, 0, 2, 0, 0, 0, 0, 0, 0], \"yaxis\": \"y\", \"type\": \"bar\"}], \"name\": \"2/20/20\"}, {\"data\": [{\"alignmentgroup\": \"True\", \"hovertemplate\": \"Date=2/25/20<br>Country=%{x}<br>Cases=%{y}<extra></extra>\", \"ids\": [\"Brazil\", \"France\", \"India\", \"Iran\", \"Italy\", \"Mexico\", \"Russia\", \"Spain\", \"US\", \"United Kingdom\"], \"legendgroup\": \"\", \"marker\": {\"color\": \"#f54842\"}, \"name\": \"\", \"offsetgroup\": \"\", \"orientation\": \"v\", \"showlegend\": false, \"textposition\": \"auto\", \"x\": [\"Brazil\", \"France\", \"India\", \"Iran\", \"Italy\", \"Mexico\", \"Russia\", \"Spain\", \"US\", \"United Kingdom\"], \"xaxis\": \"x\", \"y\": [0, 1, 0, 16, 10, 0, 0, 0, 0, 0], \"yaxis\": \"y\", \"type\": \"bar\"}], \"name\": \"2/25/20\"}, {\"data\": [{\"alignmentgroup\": \"True\", \"hovertemplate\": \"Date=3/7/20<br>Country=%{x}<br>Cases=%{y}<extra></extra>\", \"ids\": [\"Brazil\", \"France\", \"India\", \"Iran\", \"Italy\", \"Mexico\", \"Russia\", \"Spain\", \"US\", \"United Kingdom\"], \"legendgroup\": \"\", \"marker\": {\"color\": \"#f54842\"}, \"name\": \"\", \"offsetgroup\": \"\", \"orientation\": \"v\", \"showlegend\": false, \"textposition\": \"auto\", \"x\": [\"Brazil\", \"France\", \"India\", \"Iran\", \"Italy\", \"Mexico\", \"Russia\", \"Spain\", \"US\", \"United Kingdom\"], \"xaxis\": \"x\", \"y\": [0, 16, 0, 145, 233, 0, 0, 10, 17, 2], \"yaxis\": \"y\", \"type\": \"bar\"}], \"name\": \"3/7/20\"}, {\"data\": [{\"alignmentgroup\": \"True\", \"hovertemplate\": \"Date=3/12/20<br>Country=%{x}<br>Cases=%{y}<extra></extra>\", \"ids\": [\"Brazil\", \"France\", \"India\", \"Iran\", \"Italy\", \"Mexico\", \"Russia\", \"Spain\", \"US\", \"United Kingdom\"], \"legendgroup\": \"\", \"marker\": {\"color\": \"#f54842\"}, \"name\": \"\", \"offsetgroup\": \"\", \"orientation\": \"v\", \"showlegend\": false, \"textposition\": \"auto\", \"x\": [\"Brazil\", \"France\", \"India\", \"Iran\", \"Italy\", \"Mexico\", \"Russia\", \"Spain\", \"US\", \"United Kingdom\"], \"xaxis\": \"x\", \"y\": [0, 48, 1, 429, 1016, 0, 0, 55, 43, 9], \"yaxis\": \"y\", \"type\": \"bar\"}], \"name\": \"3/12/20\"}, {\"data\": [{\"alignmentgroup\": \"True\", \"hovertemplate\": \"Date=3/17/20<br>Country=%{x}<br>Cases=%{y}<extra></extra>\", \"ids\": [\"Brazil\", \"France\", \"India\", \"Iran\", \"Italy\", \"Mexico\", \"Russia\", \"Spain\", \"US\", \"United Kingdom\"], \"legendgroup\": \"\", \"marker\": {\"color\": \"#f54842\"}, \"name\": \"\", \"offsetgroup\": \"\", \"orientation\": \"v\", \"showlegend\": false, \"textposition\": \"auto\", \"x\": [\"Brazil\", \"France\", \"India\", \"Iran\", \"Italy\", \"Mexico\", \"Russia\", \"Spain\", \"US\", \"United Kingdom\"], \"xaxis\": \"x\", \"y\": [1, 149, 3, 988, 2503, 0, 0, 533, 133, 83], \"yaxis\": \"y\", \"type\": \"bar\"}], \"name\": \"3/17/20\"}, {\"data\": [{\"alignmentgroup\": \"True\", \"hovertemplate\": \"Date=3/21/20<br>Country=%{x}<br>Cases=%{y}<extra></extra>\", \"ids\": [\"Brazil\", \"France\", \"India\", \"Iran\", \"Italy\", \"Mexico\", \"Russia\", \"Spain\", \"US\", \"United Kingdom\"], \"legendgroup\": \"\", \"marker\": {\"color\": \"#f54842\"}, \"name\": \"\", \"offsetgroup\": \"\", \"orientation\": \"v\", \"showlegend\": false, \"textposition\": \"auto\", \"x\": [\"Brazil\", \"France\", \"India\", \"Iran\", \"Italy\", \"Mexico\", \"Russia\", \"Spain\", \"US\", \"United Kingdom\"], \"xaxis\": \"x\", \"y\": [15, 563, 4, 1556, 4825, 2, 1, 1375, 466, 253], \"yaxis\": \"y\", \"type\": \"bar\"}], \"name\": \"3/21/20\"}, {\"data\": [{\"alignmentgroup\": \"True\", \"hovertemplate\": \"Date=3/26/20<br>Country=%{x}<br>Cases=%{y}<extra></extra>\", \"ids\": [\"Brazil\", \"France\", \"India\", \"Iran\", \"Italy\", \"Mexico\", \"Russia\", \"Spain\", \"US\", \"United Kingdom\"], \"legendgroup\": \"\", \"marker\": {\"color\": \"#f54842\"}, \"name\": \"\", \"offsetgroup\": \"\", \"orientation\": \"v\", \"showlegend\": false, \"textposition\": \"auto\", \"x\": [\"Brazil\", \"France\", \"India\", \"Iran\", \"Italy\", \"Mexico\", \"Russia\", \"Spain\", \"US\", \"United Kingdom\"], \"xaxis\": \"x\", \"y\": [77, 1697, 20, 2234, 8215, 8, 3, 4365, 1742, 886], \"yaxis\": \"y\", \"type\": \"bar\"}], \"name\": \"3/26/20\"}, {\"data\": [{\"alignmentgroup\": \"True\", \"hovertemplate\": \"Date=3/30/20<br>Country=%{x}<br>Cases=%{y}<extra></extra>\", \"ids\": [\"Brazil\", \"France\", \"India\", \"Iran\", \"Italy\", \"Mexico\", \"Russia\", \"Spain\", \"US\", \"United Kingdom\"], \"legendgroup\": \"\", \"marker\": {\"color\": \"#f54842\"}, \"name\": \"\", \"offsetgroup\": \"\", \"orientation\": \"v\", \"showlegend\": false, \"textposition\": \"auto\", \"x\": [\"Brazil\", \"France\", \"India\", \"Iran\", \"Italy\", \"Mexico\", \"Russia\", \"Spain\", \"US\", \"United Kingdom\"], \"xaxis\": \"x\", \"y\": [159, 3026, 32, 2757, 11591, 28, 9, 7716, 4187, 2053], \"yaxis\": \"y\", \"type\": \"bar\"}], \"name\": \"3/30/20\"}, {\"data\": [{\"alignmentgroup\": \"True\", \"hovertemplate\": \"Date=4/3/20<br>Country=%{x}<br>Cases=%{y}<extra></extra>\", \"ids\": [\"Brazil\", \"France\", \"India\", \"Iran\", \"Italy\", \"Mexico\", \"Russia\", \"Spain\", \"US\", \"United Kingdom\"], \"legendgroup\": \"\", \"marker\": {\"color\": \"#f54842\"}, \"name\": \"\", \"offsetgroup\": \"\", \"orientation\": \"v\", \"showlegend\": false, \"textposition\": \"auto\", \"x\": [\"Brazil\", \"France\", \"India\", \"Iran\", \"Italy\", \"Mexico\", \"Russia\", \"Spain\", \"US\", \"United Kingdom\"], \"xaxis\": \"x\", \"y\": [359, 6509, 72, 3294, 14681, 60, 34, 11198, 9436, 4524], \"yaxis\": \"y\", \"type\": \"bar\"}], \"name\": \"4/3/20\"}, {\"data\": [{\"alignmentgroup\": \"True\", \"hovertemplate\": \"Date=4/7/20<br>Country=%{x}<br>Cases=%{y}<extra></extra>\", \"ids\": [\"Brazil\", \"France\", \"India\", \"Iran\", \"Italy\", \"Mexico\", \"Russia\", \"Spain\", \"US\", \"United Kingdom\"], \"legendgroup\": \"\", \"marker\": {\"color\": \"#f54842\"}, \"name\": \"\", \"offsetgroup\": \"\", \"orientation\": \"v\", \"showlegend\": false, \"textposition\": \"auto\", \"x\": [\"Brazil\", \"France\", \"India\", \"Iran\", \"Italy\", \"Mexico\", \"Russia\", \"Spain\", \"US\", \"United Kingdom\"], \"xaxis\": \"x\", \"y\": [686, 10330, 150, 3872, 17127, 141, 58, 14045, 16895, 7557], \"yaxis\": \"y\", \"type\": \"bar\"}], \"name\": \"4/7/20\"}, {\"data\": [{\"alignmentgroup\": \"True\", \"hovertemplate\": \"Date=4/11/20<br>Country=%{x}<br>Cases=%{y}<extra></extra>\", \"ids\": [\"Brazil\", \"France\", \"India\", \"Iran\", \"Italy\", \"Mexico\", \"Russia\", \"Spain\", \"US\", \"United Kingdom\"], \"legendgroup\": \"\", \"marker\": {\"color\": \"#f54842\"}, \"name\": \"\", \"offsetgroup\": \"\", \"orientation\": \"v\", \"showlegend\": false, \"textposition\": \"auto\", \"x\": [\"Brazil\", \"France\", \"India\", \"Iran\", \"Italy\", \"Mexico\", \"Russia\", \"Spain\", \"US\", \"United Kingdom\"], \"xaxis\": \"x\", \"y\": [1124, 13835, 288, 4357, 19468, 273, 106, 16606, 25597, 11673], \"yaxis\": \"y\", \"type\": \"bar\"}], \"name\": \"4/11/20\"}, {\"data\": [{\"alignmentgroup\": \"True\", \"hovertemplate\": \"Date=4/16/20<br>Country=%{x}<br>Cases=%{y}<extra></extra>\", \"ids\": [\"Brazil\", \"France\", \"India\", \"Iran\", \"Italy\", \"Mexico\", \"Russia\", \"Spain\", \"US\", \"United Kingdom\"], \"legendgroup\": \"\", \"marker\": {\"color\": \"#f54842\"}, \"name\": \"\", \"offsetgroup\": \"\", \"orientation\": \"v\", \"showlegend\": false, \"textposition\": \"auto\", \"x\": [\"Brazil\", \"France\", \"India\", \"Iran\", \"Italy\", \"Mexico\", \"Russia\", \"Spain\", \"US\", \"United Kingdom\"], \"xaxis\": \"x\", \"y\": [1924, 17903, 448, 4869, 22170, 486, 232, 19315, 36576, 16059], \"yaxis\": \"y\", \"type\": \"bar\"}], \"name\": \"4/16/20\"}, {\"data\": [{\"alignmentgroup\": \"True\", \"hovertemplate\": \"Date=4/20/20<br>Country=%{x}<br>Cases=%{y}<extra></extra>\", \"ids\": [\"Brazil\", \"France\", \"India\", \"Iran\", \"Italy\", \"Mexico\", \"Russia\", \"Spain\", \"US\", \"United Kingdom\"], \"legendgroup\": \"\", \"marker\": {\"color\": \"#f54842\"}, \"name\": \"\", \"offsetgroup\": \"\", \"orientation\": \"v\", \"showlegend\": false, \"textposition\": \"auto\", \"x\": [\"Brazil\", \"France\", \"India\", \"Iran\", \"Italy\", \"Mexico\", \"Russia\", \"Spain\", \"US\", \"United Kingdom\"], \"xaxis\": \"x\", \"y\": [2587, 20241, 592, 5209, 24114, 712, 405, 20852, 44769, 19090], \"yaxis\": \"y\", \"type\": \"bar\"}], \"name\": \"4/20/20\"}, {\"data\": [{\"alignmentgroup\": \"True\", \"hovertemplate\": \"Date=4/25/20<br>Country=%{x}<br>Cases=%{y}<extra></extra>\", \"ids\": [\"Brazil\", \"France\", \"India\", \"Iran\", \"Italy\", \"Mexico\", \"Russia\", \"Spain\", \"US\", \"United Kingdom\"], \"legendgroup\": \"\", \"marker\": {\"color\": \"#f54842\"}, \"name\": \"\", \"offsetgroup\": \"\", \"orientation\": \"v\", \"showlegend\": false, \"textposition\": \"auto\", \"x\": [\"Brazil\", \"France\", \"India\", \"Iran\", \"Italy\", \"Mexico\", \"Russia\", \"Spain\", \"US\", \"United Kingdom\"], \"xaxis\": \"x\", \"y\": [4057, 22588, 825, 5650, 26384, 1305, 681, 22902, 56056, 23689], \"yaxis\": \"y\", \"type\": \"bar\"}], \"name\": \"4/25/20\"}, {\"data\": [{\"alignmentgroup\": \"True\", \"hovertemplate\": \"Date=5/3/20<br>Country=%{x}<br>Cases=%{y}<extra></extra>\", \"ids\": [\"Brazil\", \"France\", \"India\", \"Iran\", \"Italy\", \"Mexico\", \"Russia\", \"Spain\", \"US\", \"United Kingdom\"], \"legendgroup\": \"\", \"marker\": {\"color\": \"#f54842\"}, \"name\": \"\", \"offsetgroup\": \"\", \"orientation\": \"v\", \"showlegend\": false, \"textposition\": \"auto\", \"x\": [\"Brazil\", \"France\", \"India\", \"Iran\", \"Italy\", \"Mexico\", \"Russia\", \"Spain\", \"US\", \"United Kingdom\"], \"xaxis\": \"x\", \"y\": [7051, 24898, 1391, 6203, 28884, 2154, 1280, 25264, 70708, 28292], \"yaxis\": \"y\", \"type\": \"bar\"}], \"name\": \"5/3/20\"}, {\"data\": [{\"alignmentgroup\": \"True\", \"hovertemplate\": \"Date=5/6/20<br>Country=%{x}<br>Cases=%{y}<extra></extra>\", \"ids\": [\"Brazil\", \"France\", \"India\", \"Iran\", \"Italy\", \"Mexico\", \"Russia\", \"Spain\", \"US\", \"United Kingdom\"], \"legendgroup\": \"\", \"marker\": {\"color\": \"#f54842\"}, \"name\": \"\", \"offsetgroup\": \"\", \"orientation\": \"v\", \"showlegend\": false, \"textposition\": \"auto\", \"x\": [\"Brazil\", \"France\", \"India\", \"Iran\", \"Italy\", \"Mexico\", \"Russia\", \"Spain\", \"US\", \"United Kingdom\"], \"xaxis\": \"x\", \"y\": [8588, 25812, 1785, 6418, 29684, 2704, 1537, 25857, 76665, 29937], \"yaxis\": \"y\", \"type\": \"bar\"}], \"name\": \"5/6/20\"}, {\"data\": [{\"alignmentgroup\": \"True\", \"hovertemplate\": \"Date=5/11/20<br>Country=%{x}<br>Cases=%{y}<extra></extra>\", \"ids\": [\"Brazil\", \"France\", \"India\", \"Iran\", \"Italy\", \"Mexico\", \"Russia\", \"Spain\", \"US\", \"United Kingdom\"], \"legendgroup\": \"\", \"marker\": {\"color\": \"#f54842\"}, \"name\": \"\", \"offsetgroup\": \"\", \"orientation\": \"v\", \"showlegend\": false, \"textposition\": \"auto\", \"x\": [\"Brazil\", \"France\", \"India\", \"Iran\", \"Italy\", \"Mexico\", \"Russia\", \"Spain\", \"US\", \"United Kingdom\"], \"xaxis\": \"x\", \"y\": [11653, 26646, 2294, 6685, 30739, 3573, 2009, 26744, 83776, 31655], \"yaxis\": \"y\", \"type\": \"bar\"}], \"name\": \"5/11/20\"}, {\"data\": [{\"alignmentgroup\": \"True\", \"hovertemplate\": \"Date=5/16/20<br>Country=%{x}<br>Cases=%{y}<extra></extra>\", \"ids\": [\"Brazil\", \"France\", \"India\", \"Iran\", \"Italy\", \"Mexico\", \"Russia\", \"Spain\", \"US\", \"United Kingdom\"], \"legendgroup\": \"\", \"marker\": {\"color\": \"#f54842\"}, \"name\": \"\", \"offsetgroup\": \"\", \"orientation\": \"v\", \"showlegend\": false, \"textposition\": \"auto\", \"x\": [\"Brazil\", \"France\", \"India\", \"Iran\", \"Italy\", \"Mexico\", \"Russia\", \"Spain\", \"US\", \"United Kingdom\"], \"xaxis\": \"x\", \"y\": [15662, 27630, 2871, 6937, 31763, 5045, 2537, 27563, 91855, 33833], \"yaxis\": \"y\", \"type\": \"bar\"}], \"name\": \"5/16/20\"}, {\"data\": [{\"alignmentgroup\": \"True\", \"hovertemplate\": \"Date=5/20/20<br>Country=%{x}<br>Cases=%{y}<extra></extra>\", \"ids\": [\"Brazil\", \"France\", \"India\", \"Iran\", \"Italy\", \"Mexico\", \"Russia\", \"Spain\", \"US\", \"United Kingdom\"], \"legendgroup\": \"\", \"marker\": {\"color\": \"#f54842\"}, \"name\": \"\", \"offsetgroup\": \"\", \"orientation\": \"v\", \"showlegend\": false, \"textposition\": \"auto\", \"x\": [\"Brazil\", \"France\", \"India\", \"Iran\", \"Italy\", \"Mexico\", \"Russia\", \"Spain\", \"US\", \"United Kingdom\"], \"xaxis\": \"x\", \"y\": [18859, 28136, 3434, 7183, 32330, 6090, 2972, 27888, 96807, 34876], \"yaxis\": \"y\", \"type\": \"bar\"}], \"name\": \"5/20/20\"}, {\"data\": [{\"alignmentgroup\": \"True\", \"hovertemplate\": \"Date=5/25/20<br>Country=%{x}<br>Cases=%{y}<extra></extra>\", \"ids\": [\"Brazil\", \"France\", \"India\", \"Iran\", \"Italy\", \"Mexico\", \"Russia\", \"Spain\", \"US\", \"United Kingdom\"], \"legendgroup\": \"\", \"marker\": {\"color\": \"#f54842\"}, \"name\": \"\", \"offsetgroup\": \"\", \"orientation\": \"v\", \"showlegend\": false, \"textposition\": \"auto\", \"x\": [\"Brazil\", \"France\", \"India\", \"Iran\", \"Italy\", \"Mexico\", \"Russia\", \"Spain\", \"US\", \"United Kingdom\"], \"xaxis\": \"x\", \"y\": [23473, 28461, 4172, 7451, 32877, 7633, 3633, 26834, 101572, 36143], \"yaxis\": \"y\", \"type\": \"bar\"}], \"name\": \"5/25/20\"}, {\"data\": [{\"alignmentgroup\": \"True\", \"hovertemplate\": \"Date=6/2/20<br>Country=%{x}<br>Cases=%{y}<extra></extra>\", \"ids\": [\"Brazil\", \"France\", \"India\", \"Iran\", \"Italy\", \"Mexico\", \"Russia\", \"Spain\", \"US\", \"United Kingdom\"], \"legendgroup\": \"\", \"marker\": {\"color\": \"#f54842\"}, \"name\": \"\", \"offsetgroup\": \"\", \"orientation\": \"v\", \"showlegend\": false, \"textposition\": \"auto\", \"x\": [\"Brazil\", \"France\", \"India\", \"Iran\", \"Italy\", \"Mexico\", \"Russia\", \"Spain\", \"US\", \"United Kingdom\"], \"xaxis\": \"x\", \"y\": [31199, 28943, 5829, 7942, 33530, 10637, 5031, 27127, 109539, 37863], \"yaxis\": \"y\", \"type\": \"bar\"}], \"name\": \"6/2/20\"}, {\"data\": [{\"alignmentgroup\": \"True\", \"hovertemplate\": \"Date=6/6/20<br>Country=%{x}<br>Cases=%{y}<extra></extra>\", \"ids\": [\"Brazil\", \"France\", \"India\", \"Iran\", \"Italy\", \"Mexico\", \"Russia\", \"Spain\", \"US\", \"United Kingdom\"], \"legendgroup\": \"\", \"marker\": {\"color\": \"#f54842\"}, \"name\": \"\", \"offsetgroup\": \"\", \"orientation\": \"v\", \"showlegend\": false, \"textposition\": \"auto\", \"x\": [\"Brazil\", \"France\", \"India\", \"Iran\", \"Italy\", \"Mexico\", \"Russia\", \"Spain\", \"US\", \"United Kingdom\"], \"xaxis\": \"x\", \"y\": [35930, 29145, 6946, 8209, 33846, 13511, 5717, 27135, 113138, 38648], \"yaxis\": \"y\", \"type\": \"bar\"}], \"name\": \"6/6/20\"}, {\"data\": [{\"alignmentgroup\": \"True\", \"hovertemplate\": \"Date=6/10/20<br>Country=%{x}<br>Cases=%{y}<extra></extra>\", \"ids\": [\"Brazil\", \"France\", \"India\", \"Iran\", \"Italy\", \"Mexico\", \"Russia\", \"Spain\", \"US\", \"United Kingdom\"], \"legendgroup\": \"\", \"marker\": {\"color\": \"#f54842\"}, \"name\": \"\", \"offsetgroup\": \"\", \"orientation\": \"v\", \"showlegend\": false, \"textposition\": \"auto\", \"x\": [\"Brazil\", \"France\", \"India\", \"Iran\", \"Italy\", \"Mexico\", \"Russia\", \"Spain\", \"US\", \"United Kingdom\"], \"xaxis\": \"x\", \"y\": [39680, 29322, 8102, 8506, 34114, 15357, 6350, 27136, 115911, 39110], \"yaxis\": \"y\", \"type\": \"bar\"}], \"name\": \"6/10/20\"}, {\"data\": [{\"alignmentgroup\": \"True\", \"hovertemplate\": \"Date=6/15/20<br>Country=%{x}<br>Cases=%{y}<extra></extra>\", \"ids\": [\"Brazil\", \"France\", \"India\", \"Iran\", \"Italy\", \"Mexico\", \"Russia\", \"Spain\", \"US\", \"United Kingdom\"], \"legendgroup\": \"\", \"marker\": {\"color\": \"#f54842\"}, \"name\": \"\", \"offsetgroup\": \"\", \"orientation\": \"v\", \"showlegend\": false, \"textposition\": \"auto\", \"x\": [\"Brazil\", \"France\", \"India\", \"Iran\", \"Italy\", \"Mexico\", \"Russia\", \"Spain\", \"US\", \"United Kingdom\"], \"xaxis\": \"x\", \"y\": [43959, 29439, 9900, 8950, 34371, 17580, 7081, 27136, 119049, 39480], \"yaxis\": \"y\", \"type\": \"bar\"}], \"name\": \"6/15/20\"}, {\"data\": [{\"alignmentgroup\": \"True\", \"hovertemplate\": \"Date=6/24/20<br>Country=%{x}<br>Cases=%{y}<extra></extra>\", \"ids\": [\"Brazil\", \"France\", \"India\", \"Iran\", \"Italy\", \"Mexico\", \"Russia\", \"Spain\", \"US\", \"United Kingdom\"], \"legendgroup\": \"\", \"marker\": {\"color\": \"#f54842\"}, \"name\": \"\", \"offsetgroup\": \"\", \"orientation\": \"v\", \"showlegend\": false, \"textposition\": \"auto\", \"x\": [\"Brazil\", \"France\", \"India\", \"Iran\", \"Italy\", \"Mexico\", \"Russia\", \"Spain\", \"US\", \"United Kingdom\"], \"xaxis\": \"x\", \"y\": [53830, 29735, 14894, 9996, 34644, 24324, 8503, 28327, 124844, 40157], \"yaxis\": \"y\", \"type\": \"bar\"}], \"name\": \"6/24/20\"}, {\"data\": [{\"alignmentgroup\": \"True\", \"hovertemplate\": \"Date=6/29/20<br>Country=%{x}<br>Cases=%{y}<extra></extra>\", \"ids\": [\"Brazil\", \"France\", \"India\", \"Iran\", \"Italy\", \"Mexico\", \"Russia\", \"Spain\", \"US\", \"United Kingdom\"], \"legendgroup\": \"\", \"marker\": {\"color\": \"#f54842\"}, \"name\": \"\", \"offsetgroup\": \"\", \"orientation\": \"v\", \"showlegend\": false, \"textposition\": \"auto\", \"x\": [\"Brazil\", \"France\", \"India\", \"Iran\", \"Italy\", \"Mexico\", \"Russia\", \"Spain\", \"US\", \"United Kingdom\"], \"xaxis\": \"x\", \"y\": [58314, 29816, 16893, 10670, 34744, 27121, 9152, 28346, 127198, 40425], \"yaxis\": \"y\", \"type\": \"bar\"}], \"name\": \"6/29/20\"}, {\"data\": [{\"alignmentgroup\": \"True\", \"hovertemplate\": \"Date=7/2/20<br>Country=%{x}<br>Cases=%{y}<extra></extra>\", \"ids\": [\"Brazil\", \"France\", \"India\", \"Iran\", \"Italy\", \"Mexico\", \"Russia\", \"Spain\", \"US\", \"United Kingdom\"], \"legendgroup\": \"\", \"marker\": {\"color\": \"#f54842\"}, \"name\": \"\", \"offsetgroup\": \"\", \"orientation\": \"v\", \"showlegend\": false, \"textposition\": \"auto\", \"x\": [\"Brazil\", \"France\", \"India\", \"Iran\", \"Italy\", \"Mexico\", \"Russia\", \"Spain\", \"US\", \"United Kingdom\"], \"xaxis\": \"x\", \"y\": [61884, 29878, 18213, 11106, 34818, 29189, 9668, 28368, 129250, 40617], \"yaxis\": \"y\", \"type\": \"bar\"}], \"name\": \"7/2/20\"}, {\"data\": [{\"alignmentgroup\": \"True\", \"hovertemplate\": \"Date=7/5/20<br>Country=%{x}<br>Cases=%{y}<extra></extra>\", \"ids\": [\"Brazil\", \"France\", \"India\", \"Iran\", \"Italy\", \"Mexico\", \"Russia\", \"Spain\", \"US\", \"United Kingdom\"], \"legendgroup\": \"\", \"marker\": {\"color\": \"#f54842\"}, \"name\": \"\", \"offsetgroup\": \"\", \"orientation\": \"v\", \"showlegend\": false, \"textposition\": \"auto\", \"x\": [\"Brazil\", \"France\", \"India\", \"Iran\", \"Italy\", \"Mexico\", \"Russia\", \"Spain\", \"US\", \"United Kingdom\"], \"xaxis\": \"x\", \"y\": [64867, 29895, 19693, 11571, 34861, 30639, 10145, 28385, 130492, 40717], \"yaxis\": \"y\", \"type\": \"bar\"}], \"name\": \"7/5/20\"}, {\"data\": [{\"alignmentgroup\": \"True\", \"hovertemplate\": \"Date=7/10/20<br>Country=%{x}<br>Cases=%{y}<extra></extra>\", \"ids\": [\"Brazil\", \"France\", \"India\", \"Iran\", \"Italy\", \"Mexico\", \"Russia\", \"Spain\", \"US\", \"United Kingdom\"], \"legendgroup\": \"\", \"marker\": {\"color\": \"#f54842\"}, \"name\": \"\", \"offsetgroup\": \"\", \"orientation\": \"v\", \"showlegend\": false, \"textposition\": \"auto\", \"x\": [\"Brazil\", \"France\", \"India\", \"Iran\", \"Italy\", \"Mexico\", \"Russia\", \"Spain\", \"US\", \"United Kingdom\"], \"xaxis\": \"x\", \"y\": [70398, 30009, 22123, 12447, 34938, 34191, 11000, 28403, 134725, 40904], \"yaxis\": \"y\", \"type\": \"bar\"}], \"name\": \"7/10/20\"}, {\"data\": [{\"alignmentgroup\": \"True\", \"hovertemplate\": \"Date=7/15/20<br>Country=%{x}<br>Cases=%{y}<extra></extra>\", \"ids\": [\"Brazil\", \"France\", \"India\", \"Iran\", \"Italy\", \"Mexico\", \"Russia\", \"Spain\", \"US\", \"United Kingdom\"], \"legendgroup\": \"\", \"marker\": {\"color\": \"#f54842\"}, \"name\": \"\", \"offsetgroup\": \"\", \"orientation\": \"v\", \"showlegend\": false, \"textposition\": \"auto\", \"x\": [\"Brazil\", \"France\", \"India\", \"Iran\", \"Italy\", \"Mexico\", \"Russia\", \"Spain\", \"US\", \"United Kingdom\"], \"xaxis\": \"x\", \"y\": [75366, 30125, 24914, 13410, 34997, 36906, 11753, 28413, 138196, 41010], \"yaxis\": \"y\", \"type\": \"bar\"}], \"name\": \"7/15/20\"}, {\"data\": [{\"alignmentgroup\": \"True\", \"hovertemplate\": \"Date=7/24/20<br>Country=%{x}<br>Cases=%{y}<extra></extra>\", \"ids\": [\"Brazil\", \"France\", \"India\", \"Iran\", \"Italy\", \"Mexico\", \"Russia\", \"Spain\", \"US\", \"United Kingdom\"], \"legendgroup\": \"\", \"marker\": {\"color\": \"#f54842\"}, \"name\": \"\", \"offsetgroup\": \"\", \"orientation\": \"v\", \"showlegend\": false, \"textposition\": \"auto\", \"x\": [\"Brazil\", \"France\", \"India\", \"Iran\", \"Italy\", \"Mexico\", \"Russia\", \"Spain\", \"US\", \"United Kingdom\"], \"xaxis\": \"x\", \"y\": [85238, 30196, 31358, 15289, 35097, 42645, 13026, 28432, 146507, 41173], \"yaxis\": \"y\", \"type\": \"bar\"}], \"name\": \"7/24/20\"}, {\"data\": [{\"alignmentgroup\": \"True\", \"hovertemplate\": \"Date=7/29/20<br>Country=%{x}<br>Cases=%{y}<extra></extra>\", \"ids\": [\"Brazil\", \"France\", \"India\", \"Iran\", \"Italy\", \"Mexico\", \"Russia\", \"Spain\", \"US\", \"United Kingdom\"], \"legendgroup\": \"\", \"marker\": {\"color\": \"#f54842\"}, \"name\": \"\", \"offsetgroup\": \"\", \"orientation\": \"v\", \"showlegend\": false, \"textposition\": \"auto\", \"x\": [\"Brazil\", \"France\", \"India\", \"Iran\", \"Italy\", \"Mexico\", \"Russia\", \"Spain\", \"US\", \"United Kingdom\"], \"xaxis\": \"x\", \"y\": [90134, 30241, 34955, 16343, 35129, 45361, 13650, 28441, 151797, 41254], \"yaxis\": \"y\", \"type\": \"bar\"}], \"name\": \"7/29/20\"}, {\"data\": [{\"alignmentgroup\": \"True\", \"hovertemplate\": \"Date=8/1/20<br>Country=%{x}<br>Cases=%{y}<extra></extra>\", \"ids\": [\"Brazil\", \"France\", \"India\", \"Iran\", \"Italy\", \"Mexico\", \"Russia\", \"Spain\", \"US\", \"United Kingdom\"], \"legendgroup\": \"\", \"marker\": {\"color\": \"#f54842\"}, \"name\": \"\", \"offsetgroup\": \"\", \"orientation\": \"v\", \"showlegend\": false, \"textposition\": \"auto\", \"x\": [\"Brazil\", \"France\", \"India\", \"Iran\", \"Italy\", \"Mexico\", \"Russia\", \"Spain\", \"US\", \"United Kingdom\"], \"xaxis\": \"x\", \"y\": [93563, 30268, 37364, 16982, 35146, 47472, 14034, 28445, 155376, 41287], \"yaxis\": \"y\", \"type\": \"bar\"}], \"name\": \"8/1/20\"}, {\"data\": [{\"alignmentgroup\": \"True\", \"hovertemplate\": \"Date=8/4/20<br>Country=%{x}<br>Cases=%{y}<extra></extra>\", \"ids\": [\"Brazil\", \"France\", \"India\", \"Iran\", \"Italy\", \"Mexico\", \"Russia\", \"Spain\", \"US\", \"United Kingdom\"], \"legendgroup\": \"\", \"marker\": {\"color\": \"#f54842\"}, \"name\": \"\", \"offsetgroup\": \"\", \"orientation\": \"v\", \"showlegend\": false, \"textposition\": \"auto\", \"x\": [\"Brazil\", \"France\", \"India\", \"Iran\", \"Italy\", \"Mexico\", \"Russia\", \"Spain\", \"US\", \"United Kingdom\"], \"xaxis\": \"x\", \"y\": [95819, 30300, 39795, 17617, 35171, 48869, 14327, 28498, 157705, 41311], \"yaxis\": \"y\", \"type\": \"bar\"}], \"name\": \"8/4/20\"}, {\"data\": [{\"alignmentgroup\": \"True\", \"hovertemplate\": \"Date=8/9/20<br>Country=%{x}<br>Cases=%{y}<extra></extra>\", \"ids\": [\"Brazil\", \"France\", \"India\", \"Iran\", \"Italy\", \"Mexico\", \"Russia\", \"Spain\", \"US\", \"United Kingdom\"], \"legendgroup\": \"\", \"marker\": {\"color\": \"#f54842\"}, \"name\": \"\", \"offsetgroup\": \"\", \"orientation\": \"v\", \"showlegend\": false, \"textposition\": \"auto\", \"x\": [\"Brazil\", \"France\", \"India\", \"Iran\", \"Italy\", \"Mexico\", \"Russia\", \"Spain\", \"US\", \"United Kingdom\"], \"xaxis\": \"x\", \"y\": [101049, 30329, 44386, 18427, 35205, 52298, 14903, 28503, 163175, 41363], \"yaxis\": \"y\", \"type\": \"bar\"}], \"name\": \"8/9/20\"}, {\"data\": [{\"alignmentgroup\": \"True\", \"hovertemplate\": \"Date=8/14/20<br>Country=%{x}<br>Cases=%{y}<extra></extra>\", \"ids\": [\"Brazil\", \"France\", \"India\", \"Iran\", \"Italy\", \"Mexico\", \"Russia\", \"Spain\", \"US\", \"United Kingdom\"], \"legendgroup\": \"\", \"marker\": {\"color\": \"#f54842\"}, \"name\": \"\", \"offsetgroup\": \"\", \"orientation\": \"v\", \"showlegend\": false, \"textposition\": \"auto\", \"x\": [\"Brazil\", \"France\", \"India\", \"Iran\", \"Italy\", \"Mexico\", \"Russia\", \"Spain\", \"US\", \"United Kingdom\"], \"xaxis\": \"x\", \"y\": [106523, 30412, 49036, 19331, 35234, 55908, 15467, 28617, 168667, 41443], \"yaxis\": \"y\", \"type\": \"bar\"}], \"name\": \"8/14/20\"}, {\"data\": [{\"alignmentgroup\": \"True\", \"hovertemplate\": \"Date=8/19/20<br>Country=%{x}<br>Cases=%{y}<extra></extra>\", \"ids\": [\"Brazil\", \"France\", \"India\", \"Iran\", \"Italy\", \"Mexico\", \"Russia\", \"Spain\", \"US\", \"United Kingdom\"], \"legendgroup\": \"\", \"marker\": {\"color\": \"#f54842\"}, \"name\": \"\", \"offsetgroup\": \"\", \"orientation\": \"v\", \"showlegend\": false, \"textposition\": \"auto\", \"x\": [\"Brazil\", \"France\", \"India\", \"Iran\", \"Italy\", \"Mexico\", \"Russia\", \"Spain\", \"US\", \"United Kingdom\"], \"xaxis\": \"x\", \"y\": [111100, 30474, 53866, 20125, 35412, 58481, 15951, 28797, 173359, 41483], \"yaxis\": \"y\", \"type\": \"bar\"}], \"name\": \"8/19/20\"}, {\"data\": [{\"alignmentgroup\": \"True\", \"hovertemplate\": \"Date=8/23/20<br>Country=%{x}<br>Cases=%{y}<extra></extra>\", \"ids\": [\"Brazil\", \"France\", \"India\", \"Iran\", \"Italy\", \"Mexico\", \"Russia\", \"Spain\", \"US\", \"United Kingdom\"], \"legendgroup\": \"\", \"marker\": {\"color\": \"#f54842\"}, \"name\": \"\", \"offsetgroup\": \"\", \"orientation\": \"v\", \"showlegend\": false, \"textposition\": \"auto\", \"x\": [\"Brazil\", \"France\", \"India\", \"Iran\", \"Italy\", \"Mexico\", \"Russia\", \"Spain\", \"US\", \"United Kingdom\"], \"xaxis\": \"x\", \"y\": [114744, 30518, 57542, 20643, 35437, 60480, 16341, 28838, 176970, 41515], \"yaxis\": \"y\", \"type\": \"bar\"}], \"name\": \"8/23/20\"}, {\"data\": [{\"alignmentgroup\": \"True\", \"hovertemplate\": \"Date=8/28/20<br>Country=%{x}<br>Cases=%{y}<extra></extra>\", \"ids\": [\"Brazil\", \"France\", \"India\", \"Iran\", \"Italy\", \"Mexico\", \"Russia\", \"Spain\", \"US\", \"United Kingdom\"], \"legendgroup\": \"\", \"marker\": {\"color\": \"#f54842\"}, \"name\": \"\", \"offsetgroup\": \"\", \"orientation\": \"v\", \"showlegend\": false, \"textposition\": \"auto\", \"x\": [\"Brazil\", \"France\", \"India\", \"Iran\", \"Italy\", \"Mexico\", \"Russia\", \"Spain\", \"US\", \"United Kingdom\"], \"xaxis\": \"x\", \"y\": [119504, 30606, 62550, 21249, 35472, 63146, 16866, 29011, 181926, 41573], \"yaxis\": \"y\", \"type\": \"bar\"}], \"name\": \"8/28/20\"}, {\"data\": [{\"alignmentgroup\": \"True\", \"hovertemplate\": \"Date=9/4/20<br>Country=%{x}<br>Cases=%{y}<extra></extra>\", \"ids\": [\"Brazil\", \"France\", \"India\", \"Iran\", \"Italy\", \"Mexico\", \"Russia\", \"Spain\", \"US\", \"United Kingdom\"], \"legendgroup\": \"\", \"marker\": {\"color\": \"#f54842\"}, \"name\": \"\", \"offsetgroup\": \"\", \"orientation\": \"v\", \"showlegend\": false, \"textposition\": \"auto\", \"x\": [\"Brazil\", \"France\", \"India\", \"Iran\", \"Italy\", \"Mexico\", \"Russia\", \"Spain\", \"US\", \"United Kingdom\"], \"xaxis\": \"x\", \"y\": [125502, 30696, 69561, 22044, 35518, 66851, 17598, 29418, 187921, 41626], \"yaxis\": \"y\", \"type\": \"bar\"}], \"name\": \"9/4/20\"}, {\"data\": [{\"alignmentgroup\": \"True\", \"hovertemplate\": \"Date=9/9/20<br>Country=%{x}<br>Cases=%{y}<extra></extra>\", \"ids\": [\"Brazil\", \"France\", \"India\", \"Iran\", \"Italy\", \"Mexico\", \"Russia\", \"Spain\", \"US\", \"United Kingdom\"], \"legendgroup\": \"\", \"marker\": {\"color\": \"#f54842\"}, \"name\": \"\", \"offsetgroup\": \"\", \"orientation\": \"v\", \"showlegend\": false, \"textposition\": \"auto\", \"x\": [\"Brazil\", \"France\", \"India\", \"Iran\", \"Italy\", \"Mexico\", \"Russia\", \"Spain\", \"US\", \"United Kingdom\"], \"xaxis\": \"x\", \"y\": [128539, 30805, 75062, 22669, 35577, 69049, 18080, 29628, 190999, 41683], \"yaxis\": \"y\", \"type\": \"bar\"}], \"name\": \"9/9/20\"}, {\"data\": [{\"alignmentgroup\": \"True\", \"hovertemplate\": \"Date=9/13/20<br>Country=%{x}<br>Cases=%{y}<extra></extra>\", \"ids\": [\"Brazil\", \"France\", \"India\", \"Iran\", \"Italy\", \"Mexico\", \"Russia\", \"Spain\", \"US\", \"United Kingdom\"], \"legendgroup\": \"\", \"marker\": {\"color\": \"#f54842\"}, \"name\": \"\", \"offsetgroup\": \"\", \"orientation\": \"v\", \"showlegend\": false, \"textposition\": \"auto\", \"x\": [\"Brazil\", \"France\", \"India\", \"Iran\", \"Italy\", \"Mexico\", \"Russia\", \"Spain\", \"US\", \"United Kingdom\"], \"xaxis\": \"x\", \"y\": [131625, 30929, 79722, 23157, 35610, 70821, 18517, 29747, 194224, 41717], \"yaxis\": \"y\", \"type\": \"bar\"}], \"name\": \"9/13/20\"}, {\"data\": [{\"alignmentgroup\": \"True\", \"hovertemplate\": \"Date=9/18/20<br>Country=%{x}<br>Cases=%{y}<extra></extra>\", \"ids\": [\"Brazil\", \"France\", \"India\", \"Iran\", \"Italy\", \"Mexico\", \"Russia\", \"Spain\", \"US\", \"United Kingdom\"], \"legendgroup\": \"\", \"marker\": {\"color\": \"#f54842\"}, \"name\": \"\", \"offsetgroup\": \"\", \"orientation\": \"v\", \"showlegend\": false, \"textposition\": \"auto\", \"x\": [\"Brazil\", \"France\", \"India\", \"Iran\", \"Italy\", \"Mexico\", \"Russia\", \"Spain\", \"US\", \"United Kingdom\"], \"xaxis\": \"x\", \"y\": [135793, 31262, 85619, 23952, 35668, 72803, 19128, 30495, 198700, 41821], \"yaxis\": \"y\", \"type\": \"bar\"}], \"name\": \"9/18/20\"}, {\"data\": [{\"alignmentgroup\": \"True\", \"hovertemplate\": \"Date=9/22/20<br>Country=%{x}<br>Cases=%{y}<extra></extra>\", \"ids\": [\"Brazil\", \"France\", \"India\", \"Iran\", \"Italy\", \"Mexico\", \"Russia\", \"Spain\", \"US\", \"United Kingdom\"], \"legendgroup\": \"\", \"marker\": {\"color\": \"#f54842\"}, \"name\": \"\", \"offsetgroup\": \"\", \"orientation\": \"v\", \"showlegend\": false, \"textposition\": \"auto\", \"x\": [\"Brazil\", \"France\", \"India\", \"Iran\", \"Italy\", \"Mexico\", \"Russia\", \"Spain\", \"US\", \"United Kingdom\"], \"xaxis\": \"x\", \"y\": [138105, 31430, 90020, 24656, 35738, 74348, 19575, 30904, 201095, 41914], \"yaxis\": \"y\", \"type\": \"bar\"}], \"name\": \"9/22/20\"}, {\"data\": [{\"alignmentgroup\": \"True\", \"hovertemplate\": \"Date=9/27/20<br>Country=%{x}<br>Cases=%{y}<extra></extra>\", \"ids\": [\"Brazil\", \"France\", \"India\", \"Iran\", \"Italy\", \"Mexico\", \"Russia\", \"Spain\", \"US\", \"United Kingdom\"], \"legendgroup\": \"\", \"marker\": {\"color\": \"#f54842\"}, \"name\": \"\", \"offsetgroup\": \"\", \"orientation\": \"v\", \"showlegend\": false, \"textposition\": \"auto\", \"x\": [\"Brazil\", \"France\", \"India\", \"Iran\", \"Italy\", \"Mexico\", \"Russia\", \"Spain\", \"US\", \"United Kingdom\"], \"xaxis\": \"x\", \"y\": [141741, 31741, 95542, 25589, 35835, 76430, 20239, 31232, 205069, 42077], \"yaxis\": \"y\", \"type\": \"bar\"}], \"name\": \"9/27/20\"}, {\"data\": [{\"alignmentgroup\": \"True\", \"hovertemplate\": \"Date=10/2/20<br>Country=%{x}<br>Cases=%{y}<extra></extra>\", \"ids\": [\"Brazil\", \"France\", \"India\", \"Iran\", \"Italy\", \"Mexico\", \"Russia\", \"Spain\", \"US\", \"United Kingdom\"], \"legendgroup\": \"\", \"marker\": {\"color\": \"#f54842\"}, \"name\": \"\", \"offsetgroup\": \"\", \"orientation\": \"v\", \"showlegend\": false, \"textposition\": \"auto\", \"x\": [\"Brazil\", \"France\", \"India\", \"Iran\", \"Italy\", \"Mexico\", \"Russia\", \"Spain\", \"US\", \"United Kingdom\"], \"xaxis\": \"x\", \"y\": [144680, 32171, 100842, 26567, 35941, 78492, 20981, 32086, 209008, 42358], \"yaxis\": \"y\", \"type\": \"bar\"}], \"name\": \"10/2/20\"}, {\"data\": [{\"alignmentgroup\": \"True\", \"hovertemplate\": \"Date=10/5/20<br>Country=%{x}<br>Cases=%{y}<extra></extra>\", \"ids\": [\"Brazil\", \"France\", \"India\", \"Iran\", \"Italy\", \"Mexico\", \"Russia\", \"Spain\", \"US\", \"United Kingdom\"], \"legendgroup\": \"\", \"marker\": {\"color\": \"#f54842\"}, \"name\": \"\", \"offsetgroup\": \"\", \"orientation\": \"v\", \"showlegend\": false, \"textposition\": \"auto\", \"x\": [\"Brazil\", \"France\", \"India\", \"Iran\", \"Italy\", \"Mexico\", \"Russia\", \"Spain\", \"US\", \"United Kingdom\"], \"xaxis\": \"x\", \"y\": [146675, 32299, 103569, 27192, 36002, 81877, 21375, 32225, 210506, 42459], \"yaxis\": \"y\", \"type\": \"bar\"}], \"name\": \"10/5/20\"}, {\"data\": [{\"alignmentgroup\": \"True\", \"hovertemplate\": \"Date=10/10/20<br>Country=%{x}<br>Cases=%{y}<extra></extra>\", \"ids\": [\"Brazil\", \"France\", \"India\", \"Iran\", \"Italy\", \"Mexico\", \"Russia\", \"Spain\", \"US\", \"United Kingdom\"], \"legendgroup\": \"\", \"marker\": {\"color\": \"#f54842\"}, \"name\": \"\", \"offsetgroup\": \"\", \"orientation\": \"v\", \"showlegend\": false, \"textposition\": \"auto\", \"x\": [\"Brazil\", \"France\", \"India\", \"Iran\", \"Italy\", \"Mexico\", \"Russia\", \"Spain\", \"US\", \"United Kingdom\"], \"xaxis\": \"x\", \"y\": [150198, 32684, 108334, 28293, 36140, 83642, 22331, 32929, 214695, 42850], \"yaxis\": \"y\", \"type\": \"bar\"}], \"name\": \"10/10/20\"}, {\"data\": [{\"alignmentgroup\": \"True\", \"hovertemplate\": \"Date=10/15/20<br>Country=%{x}<br>Cases=%{y}<extra></extra>\", \"ids\": [\"Brazil\", \"France\", \"India\", \"Iran\", \"Italy\", \"Mexico\", \"Russia\", \"Spain\", \"US\", \"United Kingdom\"], \"legendgroup\": \"\", \"marker\": {\"color\": \"#f54842\"}, \"name\": \"\", \"offsetgroup\": \"\", \"orientation\": \"v\", \"showlegend\": false, \"textposition\": \"auto\", \"x\": [\"Brazil\", \"France\", \"India\", \"Iran\", \"Italy\", \"Mexico\", \"Russia\", \"Spain\", \"US\", \"United Kingdom\"], \"xaxis\": \"x\", \"y\": [152460, 33146, 112161, 29605, 36372, 85285, 23350, 33553, 218060, 43383], \"yaxis\": \"y\", \"type\": \"bar\"}], \"name\": \"10/15/20\"}, {\"data\": [{\"alignmentgroup\": \"True\", \"hovertemplate\": \"Date=10/24/20<br>Country=%{x}<br>Cases=%{y}<extra></extra>\", \"ids\": [\"Brazil\", \"France\", \"India\", \"Iran\", \"Italy\", \"Mexico\", \"Russia\", \"Spain\", \"US\", \"United Kingdom\"], \"legendgroup\": \"\", \"marker\": {\"color\": \"#f54842\"}, \"name\": \"\", \"offsetgroup\": \"\", \"orientation\": \"v\", \"showlegend\": false, \"textposition\": \"auto\", \"x\": [\"Brazil\", \"France\", \"India\", \"Iran\", \"Italy\", \"Mexico\", \"Russia\", \"Spain\", \"US\", \"United Kingdom\"], \"xaxis\": \"x\", \"y\": [156903, 34670, 118534, 32320, 37210, 88743, 25647, 34752, 225468, 44835], \"yaxis\": \"y\", \"type\": \"bar\"}], \"name\": \"10/24/20\"}, {\"data\": [{\"alignmentgroup\": \"True\", \"hovertemplate\": \"Date=10/29/20<br>Country=%{x}<br>Cases=%{y}<extra></extra>\", \"ids\": [\"Brazil\", \"France\", \"India\", \"Iran\", \"Italy\", \"Mexico\", \"Russia\", \"Spain\", \"US\", \"United Kingdom\"], \"legendgroup\": \"\", \"marker\": {\"color\": \"#f54842\"}, \"name\": \"\", \"offsetgroup\": \"\", \"orientation\": \"v\", \"showlegend\": false, \"textposition\": \"auto\", \"x\": [\"Brazil\", \"France\", \"India\", \"Iran\", \"Italy\", \"Mexico\", \"Russia\", \"Spain\", \"US\", \"United Kingdom\"], \"xaxis\": \"x\", \"y\": [158969, 36058, 121090, 34113, 38122, 90773, 27111, 35639, 229277, 46045], \"yaxis\": \"y\", \"type\": \"bar\"}], \"name\": \"10/29/20\"}, {\"data\": [{\"alignmentgroup\": \"True\", \"hovertemplate\": \"Date=11/1/20<br>Country=%{x}<br>Cases=%{y}<extra></extra>\", \"ids\": [\"Brazil\", \"France\", \"India\", \"Iran\", \"Italy\", \"Mexico\", \"Russia\", \"Spain\", \"US\", \"United Kingdom\"], \"legendgroup\": \"\", \"marker\": {\"color\": \"#f54842\"}, \"name\": \"\", \"offsetgroup\": \"\", \"orientation\": \"v\", \"showlegend\": false, \"textposition\": \"auto\", \"x\": [\"Brazil\", \"France\", \"India\", \"Iran\", \"Italy\", \"Mexico\", \"Russia\", \"Spain\", \"US\", \"United Kingdom\"], \"xaxis\": \"x\", \"y\": [160074, 37058, 122607, 35298, 38826, 91895, 28026, 35878, 231623, 46807], \"yaxis\": \"y\", \"type\": \"bar\"}], \"name\": \"11/1/20\"}, {\"data\": [{\"alignmentgroup\": \"True\", \"hovertemplate\": \"Date=11/5/20<br>Country=%{x}<br>Cases=%{y}<extra></extra>\", \"ids\": [\"Brazil\", \"France\", \"India\", \"Iran\", \"Italy\", \"Mexico\", \"Russia\", \"Spain\", \"US\", \"United Kingdom\"], \"legendgroup\": \"\", \"marker\": {\"color\": \"#f54842\"}, \"name\": \"\", \"offsetgroup\": \"\", \"orientation\": \"v\", \"showlegend\": false, \"textposition\": \"auto\", \"x\": [\"Brazil\", \"France\", \"India\", \"Iran\", \"Italy\", \"Mexico\", \"Russia\", \"Spain\", \"US\", \"United Kingdom\"], \"xaxis\": \"x\", \"y\": [161106, 39088, 124985, 36985, 40192, 93772, 29285, 38486, 235956, 48210], \"yaxis\": \"y\", \"type\": \"bar\"}], \"name\": \"11/5/20\"}, {\"data\": [{\"alignmentgroup\": \"True\", \"hovertemplate\": \"Date=11/14/20<br>Country=%{x}<br>Cases=%{y}<extra></extra>\", \"ids\": [\"Brazil\", \"France\", \"India\", \"Iran\", \"Italy\", \"Mexico\", \"Russia\", \"Spain\", \"US\", \"United Kingdom\"], \"legendgroup\": \"\", \"marker\": {\"color\": \"#f54842\"}, \"name\": \"\", \"offsetgroup\": \"\", \"orientation\": \"v\", \"showlegend\": false, \"textposition\": \"auto\", \"x\": [\"Brazil\", \"France\", \"India\", \"Iran\", \"Italy\", \"Mexico\", \"Russia\", \"Spain\", \"US\", \"United Kingdom\"], \"xaxis\": \"x\", \"y\": [165658, 44310, 129635, 41034, 44683, 98259, 32536, 40769, 245776, 51858], \"yaxis\": \"y\", \"type\": \"bar\"}], \"name\": \"11/14/20\"}, {\"data\": [{\"alignmentgroup\": \"True\", \"hovertemplate\": \"Date=11/19/20<br>Country=%{x}<br>Cases=%{y}<extra></extra>\", \"ids\": [\"Brazil\", \"France\", \"India\", \"Iran\", \"Italy\", \"Mexico\", \"Russia\", \"Spain\", \"US\", \"United Kingdom\"], \"legendgroup\": \"\", \"marker\": {\"color\": \"#f54842\"}, \"name\": \"\", \"offsetgroup\": \"\", \"orientation\": \"v\", \"showlegend\": false, \"textposition\": \"auto\", \"x\": [\"Brazil\", \"France\", \"India\", \"Iran\", \"Italy\", \"Mexico\", \"Russia\", \"Spain\", \"US\", \"United Kingdom\"], \"xaxis\": \"x\", \"y\": [168061, 47198, 132162, 43417, 47870, 100104, 34525, 42291, 252694, 53870], \"yaxis\": \"y\", \"type\": \"bar\"}], \"name\": \"11/19/20\"}, {\"data\": [{\"alignmentgroup\": \"True\", \"hovertemplate\": \"Date=11/23/20<br>Country=%{x}<br>Cases=%{y}<extra></extra>\", \"ids\": [\"Brazil\", \"France\", \"India\", \"Iran\", \"Italy\", \"Mexico\", \"Russia\", \"Spain\", \"US\", \"United Kingdom\"], \"legendgroup\": \"\", \"marker\": {\"color\": \"#f54842\"}, \"name\": \"\", \"offsetgroup\": \"\", \"orientation\": \"v\", \"showlegend\": false, \"textposition\": \"auto\", \"x\": [\"Brazil\", \"France\", \"India\", \"Iran\", \"Italy\", \"Mexico\", \"Russia\", \"Spain\", \"US\", \"United Kingdom\"], \"xaxis\": \"x\", \"y\": [169485, 49311, 134218, 45255, 50453, 101926, 36192, 43131, 257874, 55327], \"yaxis\": \"y\", \"type\": \"bar\"}], \"name\": \"11/23/20\"}, {\"data\": [{\"alignmentgroup\": \"True\", \"hovertemplate\": \"Date=11/28/20<br>Country=%{x}<br>Cases=%{y}<extra></extra>\", \"ids\": [\"Brazil\", \"France\", \"India\", \"Iran\", \"Italy\", \"Mexico\", \"Russia\", \"Spain\", \"US\", \"United Kingdom\"], \"legendgroup\": \"\", \"marker\": {\"color\": \"#f54842\"}, \"name\": \"\", \"offsetgroup\": \"\", \"orientation\": \"v\", \"showlegend\": false, \"textposition\": \"auto\", \"x\": [\"Brazil\", \"France\", \"India\", \"Iran\", \"Italy\", \"Mexico\", \"Russia\", \"Spain\", \"US\", \"United Kingdom\"], \"xaxis\": \"x\", \"y\": [172561, 52212, 136696, 47486, 54363, 105459, 38676, 44668, 266170, 58127], \"yaxis\": \"y\", \"type\": \"bar\"}], \"name\": \"11/28/20\"}, {\"data\": [{\"alignmentgroup\": \"True\", \"hovertemplate\": \"Date=12/1/20<br>Country=%{x}<br>Cases=%{y}<extra></extra>\", \"ids\": [\"Brazil\", \"France\", \"India\", \"Iran\", \"Italy\", \"Mexico\", \"Russia\", \"Spain\", \"US\", \"United Kingdom\"], \"legendgroup\": \"\", \"marker\": {\"color\": \"#f54842\"}, \"name\": \"\", \"offsetgroup\": \"\", \"orientation\": \"v\", \"showlegend\": false, \"textposition\": \"auto\", \"x\": [\"Brazil\", \"France\", \"India\", \"Iran\", \"Italy\", \"Mexico\", \"Russia\", \"Spain\", \"US\", \"United Kingdom\"], \"xaxis\": \"x\", \"y\": [173817, 53596, 138122, 48628, 56361, 106765, 40050, 45511, 270753, 59148], \"yaxis\": \"y\", \"type\": \"bar\"}], \"name\": \"12/1/20\"}, {\"data\": [{\"alignmentgroup\": \"True\", \"hovertemplate\": \"Date=12/7/20<br>Country=%{x}<br>Cases=%{y}<extra></extra>\", \"ids\": [\"Brazil\", \"France\", \"India\", \"Iran\", \"Italy\", \"Mexico\", \"Russia\", \"Spain\", \"US\", \"United Kingdom\"], \"legendgroup\": \"\", \"marker\": {\"color\": \"#f54842\"}, \"name\": \"\", \"offsetgroup\": \"\", \"orientation\": \"v\", \"showlegend\": false, \"textposition\": \"auto\", \"x\": [\"Brazil\", \"France\", \"India\", \"Iran\", \"Italy\", \"Mexico\", \"Russia\", \"Spain\", \"US\", \"United Kingdom\"], \"xaxis\": \"x\", \"y\": [177317, 55613, 140958, 50594, 60606, 110074, 43122, 46646, 283763, 61531], \"yaxis\": \"y\", \"type\": \"bar\"}], \"name\": \"12/7/20\"}, {\"data\": [{\"alignmentgroup\": \"True\", \"hovertemplate\": \"Date=12/14/20<br>Country=%{x}<br>Cases=%{y}<extra></extra>\", \"ids\": [\"Brazil\", \"France\", \"India\", \"Iran\", \"Italy\", \"Mexico\", \"Russia\", \"Spain\", \"US\", \"United Kingdom\"], \"legendgroup\": \"\", \"marker\": {\"color\": \"#f54842\"}, \"name\": \"\", \"offsetgroup\": \"\", \"orientation\": \"v\", \"showlegend\": false, \"textposition\": \"auto\", \"x\": [\"Brazil\", \"France\", \"India\", \"Iran\", \"Italy\", \"Mexico\", \"Russia\", \"Spain\", \"US\", \"United Kingdom\"], \"xaxis\": \"x\", \"y\": [181835, 58391, 143709, 52447, 65011, 114298, 46846, 48013, 300777, 64500], \"yaxis\": \"y\", \"type\": \"bar\"}], \"name\": \"12/14/20\"}, {\"data\": [{\"alignmentgroup\": \"True\", \"hovertemplate\": \"Date=12/19/20<br>Country=%{x}<br>Cases=%{y}<extra></extra>\", \"ids\": [\"Brazil\", \"France\", \"India\", \"Iran\", \"Italy\", \"Mexico\", \"Russia\", \"Spain\", \"US\", \"United Kingdom\"], \"legendgroup\": \"\", \"marker\": {\"color\": \"#f54842\"}, \"name\": \"\", \"offsetgroup\": \"\", \"orientation\": \"v\", \"showlegend\": false, \"textposition\": \"auto\", \"x\": [\"Brazil\", \"France\", \"India\", \"Iran\", \"Italy\", \"Mexico\", \"Russia\", \"Spain\", \"US\", \"United Kingdom\"], \"xaxis\": \"x\", \"y\": [186356, 60534, 145477, 53448, 68447, 117876, 49744, 48926, 316159, 67177], \"yaxis\": \"y\", \"type\": \"bar\"}], \"name\": \"12/19/20\"}, {\"data\": [{\"alignmentgroup\": \"True\", \"hovertemplate\": \"Date=12/23/20<br>Country=%{x}<br>Cases=%{y}<extra></extra>\", \"ids\": [\"Brazil\", \"France\", \"India\", \"Iran\", \"Italy\", \"Mexico\", \"Russia\", \"Spain\", \"US\", \"United Kingdom\"], \"legendgroup\": \"\", \"marker\": {\"color\": \"#f54842\"}, \"name\": \"\", \"offsetgroup\": \"\", \"orientation\": \"v\", \"showlegend\": false, \"textposition\": \"auto\", \"x\": [\"Brazil\", \"France\", \"India\", \"Iran\", \"Italy\", \"Mexico\", \"Russia\", \"Spain\", \"US\", \"United Kingdom\"], \"xaxis\": \"x\", \"y\": [189220, 62098, 146756, 54156, 70395, 120311, 51810, 49698, 326124, 69157], \"yaxis\": \"y\", \"type\": \"bar\"}], \"name\": \"12/23/20\"}, {\"data\": [{\"alignmentgroup\": \"True\", \"hovertemplate\": \"Date=12/28/20<br>Country=%{x}<br>Cases=%{y}<extra></extra>\", \"ids\": [\"Brazil\", \"France\", \"India\", \"Iran\", \"Italy\", \"Mexico\", \"Russia\", \"Spain\", \"US\", \"United Kingdom\"], \"legendgroup\": \"\", \"marker\": {\"color\": \"#f54842\"}, \"name\": \"\", \"offsetgroup\": \"\", \"orientation\": \"v\", \"showlegend\": false, \"textposition\": \"auto\", \"x\": [\"Brazil\", \"France\", \"India\", \"Iran\", \"Italy\", \"Mexico\", \"Russia\", \"Spain\", \"US\", \"United Kingdom\"], \"xaxis\": \"x\", \"y\": [191570, 63235, 148153, 54814, 72370, 122855, 54559, 50122, 334836, 71217], \"yaxis\": \"y\", \"type\": \"bar\"}], \"name\": \"12/28/20\"}]);\n",
              "                        }).then(function(){\n",
              "                            \n",
              "var gd = document.getElementById('5698a40c-80db-49d2-94b6-981b0acf7435');\n",
              "var x = new MutationObserver(function (mutations, observer) {{\n",
              "        var display = window.getComputedStyle(gd).display;\n",
              "        if (!display || display === 'none') {{\n",
              "            console.log([gd, 'removed!']);\n",
              "            Plotly.purge(gd);\n",
              "            observer.disconnect();\n",
              "        }}\n",
              "}});\n",
              "\n",
              "// Listen for the removal of the full notebook cells\n",
              "var notebookContainer = gd.closest('#notebook-container');\n",
              "if (notebookContainer) {{\n",
              "    x.observe(notebookContainer, {childList: true});\n",
              "}}\n",
              "\n",
              "// Listen for the clearing of the current output cell\n",
              "var outputEl = gd.closest('.output');\n",
              "if (outputEl) {{\n",
              "    x.observe(outputEl, {childList: true});\n",
              "}}\n",
              "\n",
              "                        })                };                            </script>        </div>\n",
              "</body>\n",
              "</html>"
            ]
          },
          "metadata": {
            "tags": []
          }
        }
      ]
    },
    {
      "cell_type": "markdown",
      "metadata": {
        "id": "kM27SaxmPxT0"
      },
      "source": [
        "#### Recoveries "
      ]
    },
    {
      "cell_type": "code",
      "metadata": {
        "id": "E710TWkwPxT0",
        "colab": {
          "base_uri": "https://localhost:8080/",
          "height": 542
        },
        "outputId": "f0dfbad4-0e6b-4b74-b4e0-df4cf61c87cd"
      },
      "source": [
        "animated_barchart(recovered_global,\"recovered\")"
      ],
      "execution_count": null,
      "outputs": [
        {
          "output_type": "display_data",
          "data": {
            "text/html": [
              "<html>\n",
              "<head><meta charset=\"utf-8\" /></head>\n",
              "<body>\n",
              "    <div>            <script src=\"https://cdnjs.cloudflare.com/ajax/libs/mathjax/2.7.5/MathJax.js?config=TeX-AMS-MML_SVG\"></script><script type=\"text/javascript\">if (window.MathJax) {MathJax.Hub.Config({SVG: {font: \"STIX-Web\"}});}</script>                <script type=\"text/javascript\">window.PlotlyConfig = {MathJaxConfig: 'local'};</script>\n",
              "        <script src=\"https://cdn.plot.ly/plotly-latest.min.js\"></script>                <div id=\"3e44ff8a-78e9-4781-8be1-4e8d636ce373\" class=\"plotly-graph-div\" style=\"height:525px; width:100%;\"></div>            <script type=\"text/javascript\">                                    window.PLOTLYENV=window.PLOTLYENV || {};                                    if (document.getElementById(\"3e44ff8a-78e9-4781-8be1-4e8d636ce373\")) {                    Plotly.newPlot(                        \"3e44ff8a-78e9-4781-8be1-4e8d636ce373\",                        [{\"alignmentgroup\": \"True\", \"hovertemplate\": \"Date=1/23/20<br>Country=%{x}<br>Cases=%{y}<extra></extra>\", \"ids\": [\"Argentina\", \"Brazil\", \"Colombia\", \"Germany\", \"India\", \"Italy\", \"Mexico\", \"Poland\", \"Russia\", \"Turkey\"], \"legendgroup\": \"\", \"marker\": {\"color\": \"#42f587\"}, \"name\": \"\", \"offsetgroup\": \"\", \"orientation\": \"v\", \"showlegend\": false, \"textposition\": \"auto\", \"type\": \"bar\", \"x\": [\"Argentina\", \"Brazil\", \"Colombia\", \"Germany\", \"India\", \"Italy\", \"Mexico\", \"Poland\", \"Russia\", \"Turkey\"], \"xaxis\": \"x\", \"y\": [0, 0, 0, 0, 0, 0, 0, 0, 0, 0], \"yaxis\": \"y\"}],                        {\"barmode\": \"relative\", \"legend\": {\"tracegroupgap\": 0}, \"margin\": {\"t\": 60}, \"showlegend\": false, \"sliders\": [{\"active\": 0, \"currentvalue\": {\"prefix\": \"Date=\"}, \"len\": 0.9, \"pad\": {\"b\": 10, \"t\": 60}, \"steps\": [{\"args\": [[\"1/23/20\"], {\"frame\": {\"duration\": 0, \"redraw\": true}, \"fromcurrent\": true, \"mode\": \"immediate\", \"transition\": {\"duration\": 0, \"easing\": \"linear\"}}], \"label\": \"1/23/20\", \"method\": \"animate\"}, {\"args\": [[\"1/28/20\"], {\"frame\": {\"duration\": 0, \"redraw\": true}, \"fromcurrent\": true, \"mode\": \"immediate\", \"transition\": {\"duration\": 0, \"easing\": \"linear\"}}], \"label\": \"1/28/20\", \"method\": \"animate\"}, {\"args\": [[\"2/3/20\"], {\"frame\": {\"duration\": 0, \"redraw\": true}, \"fromcurrent\": true, \"mode\": \"immediate\", \"transition\": {\"duration\": 0, \"easing\": \"linear\"}}], \"label\": \"2/3/20\", \"method\": \"animate\"}, {\"args\": [[\"2/8/20\"], {\"frame\": {\"duration\": 0, \"redraw\": true}, \"fromcurrent\": true, \"mode\": \"immediate\", \"transition\": {\"duration\": 0, \"easing\": \"linear\"}}], \"label\": \"2/8/20\", \"method\": \"animate\"}, {\"args\": [[\"2/11/20\"], {\"frame\": {\"duration\": 0, \"redraw\": true}, \"fromcurrent\": true, \"mode\": \"immediate\", \"transition\": {\"duration\": 0, \"easing\": \"linear\"}}], \"label\": \"2/11/20\", \"method\": \"animate\"}, {\"args\": [[\"2/16/20\"], {\"frame\": {\"duration\": 0, \"redraw\": true}, \"fromcurrent\": true, \"mode\": \"immediate\", \"transition\": {\"duration\": 0, \"easing\": \"linear\"}}], \"label\": \"2/16/20\", \"method\": \"animate\"}, {\"args\": [[\"2/20/20\"], {\"frame\": {\"duration\": 0, \"redraw\": true}, \"fromcurrent\": true, \"mode\": \"immediate\", \"transition\": {\"duration\": 0, \"easing\": \"linear\"}}], \"label\": \"2/20/20\", \"method\": \"animate\"}, {\"args\": [[\"2/25/20\"], {\"frame\": {\"duration\": 0, \"redraw\": true}, \"fromcurrent\": true, \"mode\": \"immediate\", \"transition\": {\"duration\": 0, \"easing\": \"linear\"}}], \"label\": \"2/25/20\", \"method\": \"animate\"}, {\"args\": [[\"3/7/20\"], {\"frame\": {\"duration\": 0, \"redraw\": true}, \"fromcurrent\": true, \"mode\": \"immediate\", \"transition\": {\"duration\": 0, \"easing\": \"linear\"}}], \"label\": \"3/7/20\", \"method\": \"animate\"}, {\"args\": [[\"3/12/20\"], {\"frame\": {\"duration\": 0, \"redraw\": true}, \"fromcurrent\": true, \"mode\": \"immediate\", \"transition\": {\"duration\": 0, \"easing\": \"linear\"}}], \"label\": \"3/12/20\", \"method\": \"animate\"}, {\"args\": [[\"3/17/20\"], {\"frame\": {\"duration\": 0, \"redraw\": true}, \"fromcurrent\": true, \"mode\": \"immediate\", \"transition\": {\"duration\": 0, \"easing\": \"linear\"}}], \"label\": \"3/17/20\", \"method\": \"animate\"}, {\"args\": [[\"3/21/20\"], {\"frame\": {\"duration\": 0, \"redraw\": true}, \"fromcurrent\": true, \"mode\": \"immediate\", \"transition\": {\"duration\": 0, \"easing\": \"linear\"}}], \"label\": \"3/21/20\", \"method\": \"animate\"}, {\"args\": [[\"3/26/20\"], {\"frame\": {\"duration\": 0, \"redraw\": true}, \"fromcurrent\": true, \"mode\": \"immediate\", \"transition\": {\"duration\": 0, \"easing\": \"linear\"}}], \"label\": \"3/26/20\", \"method\": \"animate\"}, {\"args\": [[\"3/30/20\"], {\"frame\": {\"duration\": 0, \"redraw\": true}, \"fromcurrent\": true, \"mode\": \"immediate\", \"transition\": {\"duration\": 0, \"easing\": \"linear\"}}], \"label\": \"3/30/20\", \"method\": \"animate\"}, {\"args\": [[\"4/3/20\"], {\"frame\": {\"duration\": 0, \"redraw\": true}, \"fromcurrent\": true, \"mode\": \"immediate\", \"transition\": {\"duration\": 0, \"easing\": \"linear\"}}], \"label\": \"4/3/20\", \"method\": \"animate\"}, {\"args\": [[\"4/7/20\"], {\"frame\": {\"duration\": 0, \"redraw\": true}, \"fromcurrent\": true, \"mode\": \"immediate\", \"transition\": {\"duration\": 0, \"easing\": \"linear\"}}], \"label\": \"4/7/20\", \"method\": \"animate\"}, {\"args\": [[\"4/11/20\"], {\"frame\": {\"duration\": 0, \"redraw\": true}, \"fromcurrent\": true, \"mode\": \"immediate\", \"transition\": {\"duration\": 0, \"easing\": \"linear\"}}], \"label\": \"4/11/20\", \"method\": \"animate\"}, {\"args\": [[\"4/16/20\"], {\"frame\": {\"duration\": 0, \"redraw\": true}, \"fromcurrent\": true, \"mode\": \"immediate\", \"transition\": {\"duration\": 0, \"easing\": \"linear\"}}], \"label\": \"4/16/20\", \"method\": \"animate\"}, {\"args\": [[\"4/20/20\"], {\"frame\": {\"duration\": 0, \"redraw\": true}, \"fromcurrent\": true, \"mode\": \"immediate\", \"transition\": {\"duration\": 0, \"easing\": \"linear\"}}], \"label\": \"4/20/20\", \"method\": \"animate\"}, {\"args\": [[\"4/25/20\"], {\"frame\": {\"duration\": 0, \"redraw\": true}, \"fromcurrent\": true, \"mode\": \"immediate\", \"transition\": {\"duration\": 0, \"easing\": \"linear\"}}], \"label\": \"4/25/20\", \"method\": \"animate\"}, {\"args\": [[\"5/3/20\"], {\"frame\": {\"duration\": 0, \"redraw\": true}, \"fromcurrent\": true, \"mode\": \"immediate\", \"transition\": {\"duration\": 0, \"easing\": \"linear\"}}], \"label\": \"5/3/20\", \"method\": \"animate\"}, {\"args\": [[\"5/6/20\"], {\"frame\": {\"duration\": 0, \"redraw\": true}, \"fromcurrent\": true, \"mode\": \"immediate\", \"transition\": {\"duration\": 0, \"easing\": \"linear\"}}], \"label\": \"5/6/20\", \"method\": \"animate\"}, {\"args\": [[\"5/11/20\"], {\"frame\": {\"duration\": 0, \"redraw\": true}, \"fromcurrent\": true, \"mode\": \"immediate\", \"transition\": {\"duration\": 0, \"easing\": \"linear\"}}], \"label\": \"5/11/20\", \"method\": \"animate\"}, {\"args\": [[\"5/16/20\"], {\"frame\": {\"duration\": 0, \"redraw\": true}, \"fromcurrent\": true, \"mode\": \"immediate\", \"transition\": {\"duration\": 0, \"easing\": \"linear\"}}], \"label\": \"5/16/20\", \"method\": \"animate\"}, {\"args\": [[\"5/20/20\"], {\"frame\": {\"duration\": 0, \"redraw\": true}, \"fromcurrent\": true, \"mode\": \"immediate\", \"transition\": {\"duration\": 0, \"easing\": \"linear\"}}], \"label\": \"5/20/20\", \"method\": \"animate\"}, {\"args\": [[\"5/25/20\"], {\"frame\": {\"duration\": 0, \"redraw\": true}, \"fromcurrent\": true, \"mode\": \"immediate\", \"transition\": {\"duration\": 0, \"easing\": \"linear\"}}], \"label\": \"5/25/20\", \"method\": \"animate\"}, {\"args\": [[\"6/2/20\"], {\"frame\": {\"duration\": 0, \"redraw\": true}, \"fromcurrent\": true, \"mode\": \"immediate\", \"transition\": {\"duration\": 0, \"easing\": \"linear\"}}], \"label\": \"6/2/20\", \"method\": \"animate\"}, {\"args\": [[\"6/6/20\"], {\"frame\": {\"duration\": 0, \"redraw\": true}, \"fromcurrent\": true, \"mode\": \"immediate\", \"transition\": {\"duration\": 0, \"easing\": \"linear\"}}], \"label\": \"6/6/20\", \"method\": \"animate\"}, {\"args\": [[\"6/10/20\"], {\"frame\": {\"duration\": 0, \"redraw\": true}, \"fromcurrent\": true, \"mode\": \"immediate\", \"transition\": {\"duration\": 0, \"easing\": \"linear\"}}], \"label\": \"6/10/20\", \"method\": \"animate\"}, {\"args\": [[\"6/15/20\"], {\"frame\": {\"duration\": 0, \"redraw\": true}, \"fromcurrent\": true, \"mode\": \"immediate\", \"transition\": {\"duration\": 0, \"easing\": \"linear\"}}], \"label\": \"6/15/20\", \"method\": \"animate\"}, {\"args\": [[\"6/24/20\"], {\"frame\": {\"duration\": 0, \"redraw\": true}, \"fromcurrent\": true, \"mode\": \"immediate\", \"transition\": {\"duration\": 0, \"easing\": \"linear\"}}], \"label\": \"6/24/20\", \"method\": \"animate\"}, {\"args\": [[\"6/29/20\"], {\"frame\": {\"duration\": 0, \"redraw\": true}, \"fromcurrent\": true, \"mode\": \"immediate\", \"transition\": {\"duration\": 0, \"easing\": \"linear\"}}], \"label\": \"6/29/20\", \"method\": \"animate\"}, {\"args\": [[\"7/2/20\"], {\"frame\": {\"duration\": 0, \"redraw\": true}, \"fromcurrent\": true, \"mode\": \"immediate\", \"transition\": {\"duration\": 0, \"easing\": \"linear\"}}], \"label\": \"7/2/20\", \"method\": \"animate\"}, {\"args\": [[\"7/5/20\"], {\"frame\": {\"duration\": 0, \"redraw\": true}, \"fromcurrent\": true, \"mode\": \"immediate\", \"transition\": {\"duration\": 0, \"easing\": \"linear\"}}], \"label\": \"7/5/20\", \"method\": \"animate\"}, {\"args\": [[\"7/10/20\"], {\"frame\": {\"duration\": 0, \"redraw\": true}, \"fromcurrent\": true, \"mode\": \"immediate\", \"transition\": {\"duration\": 0, \"easing\": \"linear\"}}], \"label\": \"7/10/20\", \"method\": \"animate\"}, {\"args\": [[\"7/15/20\"], {\"frame\": {\"duration\": 0, \"redraw\": true}, \"fromcurrent\": true, \"mode\": \"immediate\", \"transition\": {\"duration\": 0, \"easing\": \"linear\"}}], \"label\": \"7/15/20\", \"method\": \"animate\"}, {\"args\": [[\"7/24/20\"], {\"frame\": {\"duration\": 0, \"redraw\": true}, \"fromcurrent\": true, \"mode\": \"immediate\", \"transition\": {\"duration\": 0, \"easing\": \"linear\"}}], \"label\": \"7/24/20\", \"method\": \"animate\"}, {\"args\": [[\"7/29/20\"], {\"frame\": {\"duration\": 0, \"redraw\": true}, \"fromcurrent\": true, \"mode\": \"immediate\", \"transition\": {\"duration\": 0, \"easing\": \"linear\"}}], \"label\": \"7/29/20\", \"method\": \"animate\"}, {\"args\": [[\"8/1/20\"], {\"frame\": {\"duration\": 0, \"redraw\": true}, \"fromcurrent\": true, \"mode\": \"immediate\", \"transition\": {\"duration\": 0, \"easing\": \"linear\"}}], \"label\": \"8/1/20\", \"method\": \"animate\"}, {\"args\": [[\"8/4/20\"], {\"frame\": {\"duration\": 0, \"redraw\": true}, \"fromcurrent\": true, \"mode\": \"immediate\", \"transition\": {\"duration\": 0, \"easing\": \"linear\"}}], \"label\": \"8/4/20\", \"method\": \"animate\"}, {\"args\": [[\"8/9/20\"], {\"frame\": {\"duration\": 0, \"redraw\": true}, \"fromcurrent\": true, \"mode\": \"immediate\", \"transition\": {\"duration\": 0, \"easing\": \"linear\"}}], \"label\": \"8/9/20\", \"method\": \"animate\"}, {\"args\": [[\"8/14/20\"], {\"frame\": {\"duration\": 0, \"redraw\": true}, \"fromcurrent\": true, \"mode\": \"immediate\", \"transition\": {\"duration\": 0, \"easing\": \"linear\"}}], \"label\": \"8/14/20\", \"method\": \"animate\"}, {\"args\": [[\"8/19/20\"], {\"frame\": {\"duration\": 0, \"redraw\": true}, \"fromcurrent\": true, \"mode\": \"immediate\", \"transition\": {\"duration\": 0, \"easing\": \"linear\"}}], \"label\": \"8/19/20\", \"method\": \"animate\"}, {\"args\": [[\"8/23/20\"], {\"frame\": {\"duration\": 0, \"redraw\": true}, \"fromcurrent\": true, \"mode\": \"immediate\", \"transition\": {\"duration\": 0, \"easing\": \"linear\"}}], \"label\": \"8/23/20\", \"method\": \"animate\"}, {\"args\": [[\"8/28/20\"], {\"frame\": {\"duration\": 0, \"redraw\": true}, \"fromcurrent\": true, \"mode\": \"immediate\", \"transition\": {\"duration\": 0, \"easing\": \"linear\"}}], \"label\": \"8/28/20\", \"method\": \"animate\"}, {\"args\": [[\"9/4/20\"], {\"frame\": {\"duration\": 0, \"redraw\": true}, \"fromcurrent\": true, \"mode\": \"immediate\", \"transition\": {\"duration\": 0, \"easing\": \"linear\"}}], \"label\": \"9/4/20\", \"method\": \"animate\"}, {\"args\": [[\"9/9/20\"], {\"frame\": {\"duration\": 0, \"redraw\": true}, \"fromcurrent\": true, \"mode\": \"immediate\", \"transition\": {\"duration\": 0, \"easing\": \"linear\"}}], \"label\": \"9/9/20\", \"method\": \"animate\"}, {\"args\": [[\"9/13/20\"], {\"frame\": {\"duration\": 0, \"redraw\": true}, \"fromcurrent\": true, \"mode\": \"immediate\", \"transition\": {\"duration\": 0, \"easing\": \"linear\"}}], \"label\": \"9/13/20\", \"method\": \"animate\"}, {\"args\": [[\"9/18/20\"], {\"frame\": {\"duration\": 0, \"redraw\": true}, \"fromcurrent\": true, \"mode\": \"immediate\", \"transition\": {\"duration\": 0, \"easing\": \"linear\"}}], \"label\": \"9/18/20\", \"method\": \"animate\"}, {\"args\": [[\"9/22/20\"], {\"frame\": {\"duration\": 0, \"redraw\": true}, \"fromcurrent\": true, \"mode\": \"immediate\", \"transition\": {\"duration\": 0, \"easing\": \"linear\"}}], \"label\": \"9/22/20\", \"method\": \"animate\"}, {\"args\": [[\"9/27/20\"], {\"frame\": {\"duration\": 0, \"redraw\": true}, \"fromcurrent\": true, \"mode\": \"immediate\", \"transition\": {\"duration\": 0, \"easing\": \"linear\"}}], \"label\": \"9/27/20\", \"method\": \"animate\"}, {\"args\": [[\"10/2/20\"], {\"frame\": {\"duration\": 0, \"redraw\": true}, \"fromcurrent\": true, \"mode\": \"immediate\", \"transition\": {\"duration\": 0, \"easing\": \"linear\"}}], \"label\": \"10/2/20\", \"method\": \"animate\"}, {\"args\": [[\"10/5/20\"], {\"frame\": {\"duration\": 0, \"redraw\": true}, \"fromcurrent\": true, \"mode\": \"immediate\", \"transition\": {\"duration\": 0, \"easing\": \"linear\"}}], \"label\": \"10/5/20\", \"method\": \"animate\"}, {\"args\": [[\"10/10/20\"], {\"frame\": {\"duration\": 0, \"redraw\": true}, \"fromcurrent\": true, \"mode\": \"immediate\", \"transition\": {\"duration\": 0, \"easing\": \"linear\"}}], \"label\": \"10/10/20\", \"method\": \"animate\"}, {\"args\": [[\"10/15/20\"], {\"frame\": {\"duration\": 0, \"redraw\": true}, \"fromcurrent\": true, \"mode\": \"immediate\", \"transition\": {\"duration\": 0, \"easing\": \"linear\"}}], \"label\": \"10/15/20\", \"method\": \"animate\"}, {\"args\": [[\"10/24/20\"], {\"frame\": {\"duration\": 0, \"redraw\": true}, \"fromcurrent\": true, \"mode\": \"immediate\", \"transition\": {\"duration\": 0, \"easing\": \"linear\"}}], \"label\": \"10/24/20\", \"method\": \"animate\"}, {\"args\": [[\"10/29/20\"], {\"frame\": {\"duration\": 0, \"redraw\": true}, \"fromcurrent\": true, \"mode\": \"immediate\", \"transition\": {\"duration\": 0, \"easing\": \"linear\"}}], \"label\": \"10/29/20\", \"method\": \"animate\"}, {\"args\": [[\"11/1/20\"], {\"frame\": {\"duration\": 0, \"redraw\": true}, \"fromcurrent\": true, \"mode\": \"immediate\", \"transition\": {\"duration\": 0, \"easing\": \"linear\"}}], \"label\": \"11/1/20\", \"method\": \"animate\"}, {\"args\": [[\"11/5/20\"], {\"frame\": {\"duration\": 0, \"redraw\": true}, \"fromcurrent\": true, \"mode\": \"immediate\", \"transition\": {\"duration\": 0, \"easing\": \"linear\"}}], \"label\": \"11/5/20\", \"method\": \"animate\"}, {\"args\": [[\"11/14/20\"], {\"frame\": {\"duration\": 0, \"redraw\": true}, \"fromcurrent\": true, \"mode\": \"immediate\", \"transition\": {\"duration\": 0, \"easing\": \"linear\"}}], \"label\": \"11/14/20\", \"method\": \"animate\"}, {\"args\": [[\"11/19/20\"], {\"frame\": {\"duration\": 0, \"redraw\": true}, \"fromcurrent\": true, \"mode\": \"immediate\", \"transition\": {\"duration\": 0, \"easing\": \"linear\"}}], \"label\": \"11/19/20\", \"method\": \"animate\"}, {\"args\": [[\"11/23/20\"], {\"frame\": {\"duration\": 0, \"redraw\": true}, \"fromcurrent\": true, \"mode\": \"immediate\", \"transition\": {\"duration\": 0, \"easing\": \"linear\"}}], \"label\": \"11/23/20\", \"method\": \"animate\"}, {\"args\": [[\"11/28/20\"], {\"frame\": {\"duration\": 0, \"redraw\": true}, \"fromcurrent\": true, \"mode\": \"immediate\", \"transition\": {\"duration\": 0, \"easing\": \"linear\"}}], \"label\": \"11/28/20\", \"method\": \"animate\"}, {\"args\": [[\"12/1/20\"], {\"frame\": {\"duration\": 0, \"redraw\": true}, \"fromcurrent\": true, \"mode\": \"immediate\", \"transition\": {\"duration\": 0, \"easing\": \"linear\"}}], \"label\": \"12/1/20\", \"method\": \"animate\"}, {\"args\": [[\"12/7/20\"], {\"frame\": {\"duration\": 0, \"redraw\": true}, \"fromcurrent\": true, \"mode\": \"immediate\", \"transition\": {\"duration\": 0, \"easing\": \"linear\"}}], \"label\": \"12/7/20\", \"method\": \"animate\"}, {\"args\": [[\"12/14/20\"], {\"frame\": {\"duration\": 0, \"redraw\": true}, \"fromcurrent\": true, \"mode\": \"immediate\", \"transition\": {\"duration\": 0, \"easing\": \"linear\"}}], \"label\": \"12/14/20\", \"method\": \"animate\"}, {\"args\": [[\"12/19/20\"], {\"frame\": {\"duration\": 0, \"redraw\": true}, \"fromcurrent\": true, \"mode\": \"immediate\", \"transition\": {\"duration\": 0, \"easing\": \"linear\"}}], \"label\": \"12/19/20\", \"method\": \"animate\"}, {\"args\": [[\"12/23/20\"], {\"frame\": {\"duration\": 0, \"redraw\": true}, \"fromcurrent\": true, \"mode\": \"immediate\", \"transition\": {\"duration\": 0, \"easing\": \"linear\"}}], \"label\": \"12/23/20\", \"method\": \"animate\"}, {\"args\": [[\"12/28/20\"], {\"frame\": {\"duration\": 0, \"redraw\": true}, \"fromcurrent\": true, \"mode\": \"immediate\", \"transition\": {\"duration\": 0, \"easing\": \"linear\"}}], \"label\": \"12/28/20\", \"method\": \"animate\"}], \"x\": 0.1, \"xanchor\": \"left\", \"y\": 0, \"yanchor\": \"top\"}], \"template\": {\"data\": {\"bar\": [{\"error_x\": {\"color\": \"#f2f5fa\"}, \"error_y\": {\"color\": \"#f2f5fa\"}, \"marker\": {\"line\": {\"color\": \"rgb(17,17,17)\", \"width\": 0.5}}, \"type\": \"bar\"}], \"barpolar\": [{\"marker\": {\"line\": {\"color\": \"rgb(17,17,17)\", \"width\": 0.5}}, \"type\": \"barpolar\"}], \"carpet\": [{\"aaxis\": {\"endlinecolor\": \"#A2B1C6\", \"gridcolor\": \"#506784\", \"linecolor\": \"#506784\", \"minorgridcolor\": \"#506784\", \"startlinecolor\": \"#A2B1C6\"}, \"baxis\": {\"endlinecolor\": \"#A2B1C6\", \"gridcolor\": \"#506784\", \"linecolor\": \"#506784\", \"minorgridcolor\": \"#506784\", \"startlinecolor\": \"#A2B1C6\"}, \"type\": \"carpet\"}], \"choropleth\": [{\"colorbar\": {\"outlinewidth\": 0, \"ticks\": \"\"}, \"type\": \"choropleth\"}], \"contour\": [{\"colorbar\": {\"outlinewidth\": 0, \"ticks\": \"\"}, \"colorscale\": [[0.0, \"#0d0887\"], [0.1111111111111111, \"#46039f\"], [0.2222222222222222, \"#7201a8\"], [0.3333333333333333, \"#9c179e\"], [0.4444444444444444, \"#bd3786\"], [0.5555555555555556, \"#d8576b\"], [0.6666666666666666, \"#ed7953\"], [0.7777777777777778, \"#fb9f3a\"], [0.8888888888888888, \"#fdca26\"], [1.0, \"#f0f921\"]], \"type\": \"contour\"}], \"contourcarpet\": [{\"colorbar\": {\"outlinewidth\": 0, \"ticks\": \"\"}, \"type\": \"contourcarpet\"}], \"heatmap\": [{\"colorbar\": {\"outlinewidth\": 0, \"ticks\": \"\"}, \"colorscale\": [[0.0, \"#0d0887\"], [0.1111111111111111, \"#46039f\"], [0.2222222222222222, \"#7201a8\"], [0.3333333333333333, \"#9c179e\"], [0.4444444444444444, \"#bd3786\"], [0.5555555555555556, \"#d8576b\"], [0.6666666666666666, \"#ed7953\"], [0.7777777777777778, \"#fb9f3a\"], [0.8888888888888888, \"#fdca26\"], [1.0, \"#f0f921\"]], \"type\": \"heatmap\"}], \"heatmapgl\": [{\"colorbar\": {\"outlinewidth\": 0, \"ticks\": \"\"}, \"colorscale\": [[0.0, \"#0d0887\"], [0.1111111111111111, \"#46039f\"], [0.2222222222222222, \"#7201a8\"], [0.3333333333333333, \"#9c179e\"], [0.4444444444444444, \"#bd3786\"], [0.5555555555555556, \"#d8576b\"], [0.6666666666666666, \"#ed7953\"], [0.7777777777777778, \"#fb9f3a\"], [0.8888888888888888, \"#fdca26\"], [1.0, \"#f0f921\"]], \"type\": \"heatmapgl\"}], \"histogram\": [{\"marker\": {\"colorbar\": {\"outlinewidth\": 0, \"ticks\": \"\"}}, \"type\": \"histogram\"}], \"histogram2d\": [{\"colorbar\": {\"outlinewidth\": 0, \"ticks\": \"\"}, \"colorscale\": [[0.0, \"#0d0887\"], [0.1111111111111111, \"#46039f\"], [0.2222222222222222, \"#7201a8\"], [0.3333333333333333, \"#9c179e\"], [0.4444444444444444, \"#bd3786\"], [0.5555555555555556, \"#d8576b\"], [0.6666666666666666, \"#ed7953\"], [0.7777777777777778, \"#fb9f3a\"], [0.8888888888888888, \"#fdca26\"], [1.0, \"#f0f921\"]], \"type\": \"histogram2d\"}], \"histogram2dcontour\": [{\"colorbar\": {\"outlinewidth\": 0, \"ticks\": \"\"}, \"colorscale\": [[0.0, \"#0d0887\"], [0.1111111111111111, \"#46039f\"], [0.2222222222222222, \"#7201a8\"], [0.3333333333333333, \"#9c179e\"], [0.4444444444444444, \"#bd3786\"], [0.5555555555555556, \"#d8576b\"], [0.6666666666666666, \"#ed7953\"], [0.7777777777777778, \"#fb9f3a\"], [0.8888888888888888, \"#fdca26\"], [1.0, \"#f0f921\"]], \"type\": \"histogram2dcontour\"}], \"mesh3d\": [{\"colorbar\": {\"outlinewidth\": 0, \"ticks\": \"\"}, \"type\": \"mesh3d\"}], \"parcoords\": [{\"line\": {\"colorbar\": {\"outlinewidth\": 0, \"ticks\": \"\"}}, \"type\": \"parcoords\"}], \"pie\": [{\"automargin\": true, \"type\": \"pie\"}], \"scatter\": [{\"marker\": {\"line\": {\"color\": \"#283442\"}}, \"type\": \"scatter\"}], \"scatter3d\": [{\"line\": {\"colorbar\": {\"outlinewidth\": 0, \"ticks\": \"\"}}, \"marker\": {\"colorbar\": {\"outlinewidth\": 0, \"ticks\": \"\"}}, \"type\": \"scatter3d\"}], \"scattercarpet\": [{\"marker\": {\"colorbar\": {\"outlinewidth\": 0, \"ticks\": \"\"}}, \"type\": \"scattercarpet\"}], \"scattergeo\": [{\"marker\": {\"colorbar\": {\"outlinewidth\": 0, \"ticks\": \"\"}}, \"type\": \"scattergeo\"}], \"scattergl\": [{\"marker\": {\"line\": {\"color\": \"#283442\"}}, \"type\": \"scattergl\"}], \"scattermapbox\": [{\"marker\": {\"colorbar\": {\"outlinewidth\": 0, \"ticks\": \"\"}}, \"type\": \"scattermapbox\"}], \"scatterpolar\": [{\"marker\": {\"colorbar\": {\"outlinewidth\": 0, \"ticks\": \"\"}}, \"type\": \"scatterpolar\"}], \"scatterpolargl\": [{\"marker\": {\"colorbar\": {\"outlinewidth\": 0, \"ticks\": \"\"}}, \"type\": \"scatterpolargl\"}], \"scatterternary\": [{\"marker\": {\"colorbar\": {\"outlinewidth\": 0, \"ticks\": \"\"}}, \"type\": \"scatterternary\"}], \"surface\": [{\"colorbar\": {\"outlinewidth\": 0, \"ticks\": \"\"}, \"colorscale\": [[0.0, \"#0d0887\"], [0.1111111111111111, \"#46039f\"], [0.2222222222222222, \"#7201a8\"], [0.3333333333333333, \"#9c179e\"], [0.4444444444444444, \"#bd3786\"], [0.5555555555555556, \"#d8576b\"], [0.6666666666666666, \"#ed7953\"], [0.7777777777777778, \"#fb9f3a\"], [0.8888888888888888, \"#fdca26\"], [1.0, \"#f0f921\"]], \"type\": \"surface\"}], \"table\": [{\"cells\": {\"fill\": {\"color\": \"#506784\"}, \"line\": {\"color\": \"rgb(17,17,17)\"}}, \"header\": {\"fill\": {\"color\": \"#2a3f5f\"}, \"line\": {\"color\": \"rgb(17,17,17)\"}}, \"type\": \"table\"}]}, \"layout\": {\"annotationdefaults\": {\"arrowcolor\": \"#f2f5fa\", \"arrowhead\": 0, \"arrowwidth\": 1}, \"autotypenumbers\": \"strict\", \"coloraxis\": {\"colorbar\": {\"outlinewidth\": 0, \"ticks\": \"\"}}, \"colorscale\": {\"diverging\": [[0, \"#8e0152\"], [0.1, \"#c51b7d\"], [0.2, \"#de77ae\"], [0.3, \"#f1b6da\"], [0.4, \"#fde0ef\"], [0.5, \"#f7f7f7\"], [0.6, \"#e6f5d0\"], [0.7, \"#b8e186\"], [0.8, \"#7fbc41\"], [0.9, \"#4d9221\"], [1, \"#276419\"]], \"sequential\": [[0.0, \"#0d0887\"], [0.1111111111111111, \"#46039f\"], [0.2222222222222222, \"#7201a8\"], [0.3333333333333333, \"#9c179e\"], [0.4444444444444444, \"#bd3786\"], [0.5555555555555556, \"#d8576b\"], [0.6666666666666666, \"#ed7953\"], [0.7777777777777778, \"#fb9f3a\"], [0.8888888888888888, \"#fdca26\"], [1.0, \"#f0f921\"]], \"sequentialminus\": [[0.0, \"#0d0887\"], [0.1111111111111111, \"#46039f\"], [0.2222222222222222, \"#7201a8\"], [0.3333333333333333, \"#9c179e\"], [0.4444444444444444, \"#bd3786\"], [0.5555555555555556, \"#d8576b\"], [0.6666666666666666, \"#ed7953\"], [0.7777777777777778, \"#fb9f3a\"], [0.8888888888888888, \"#fdca26\"], [1.0, \"#f0f921\"]]}, \"colorway\": [\"#636efa\", \"#EF553B\", \"#00cc96\", \"#ab63fa\", \"#FFA15A\", \"#19d3f3\", \"#FF6692\", \"#B6E880\", \"#FF97FF\", \"#FECB52\"], \"font\": {\"color\": \"#f2f5fa\"}, \"geo\": {\"bgcolor\": \"rgb(17,17,17)\", \"lakecolor\": \"rgb(17,17,17)\", \"landcolor\": \"rgb(17,17,17)\", \"showlakes\": true, \"showland\": true, \"subunitcolor\": \"#506784\"}, \"hoverlabel\": {\"align\": \"left\"}, \"hovermode\": \"closest\", \"mapbox\": {\"style\": \"dark\"}, \"paper_bgcolor\": \"rgb(17,17,17)\", \"plot_bgcolor\": \"rgb(17,17,17)\", \"polar\": {\"angularaxis\": {\"gridcolor\": \"#506784\", \"linecolor\": \"#506784\", \"ticks\": \"\"}, \"bgcolor\": \"rgb(17,17,17)\", \"radialaxis\": {\"gridcolor\": \"#506784\", \"linecolor\": \"#506784\", \"ticks\": \"\"}}, \"scene\": {\"xaxis\": {\"backgroundcolor\": \"rgb(17,17,17)\", \"gridcolor\": \"#506784\", \"gridwidth\": 2, \"linecolor\": \"#506784\", \"showbackground\": true, \"ticks\": \"\", \"zerolinecolor\": \"#C8D4E3\"}, \"yaxis\": {\"backgroundcolor\": \"rgb(17,17,17)\", \"gridcolor\": \"#506784\", \"gridwidth\": 2, \"linecolor\": \"#506784\", \"showbackground\": true, \"ticks\": \"\", \"zerolinecolor\": \"#C8D4E3\"}, \"zaxis\": {\"backgroundcolor\": \"rgb(17,17,17)\", \"gridcolor\": \"#506784\", \"gridwidth\": 2, \"linecolor\": \"#506784\", \"showbackground\": true, \"ticks\": \"\", \"zerolinecolor\": \"#C8D4E3\"}}, \"shapedefaults\": {\"line\": {\"color\": \"#f2f5fa\"}}, \"sliderdefaults\": {\"bgcolor\": \"#C8D4E3\", \"bordercolor\": \"rgb(17,17,17)\", \"borderwidth\": 1, \"tickwidth\": 0}, \"ternary\": {\"aaxis\": {\"gridcolor\": \"#506784\", \"linecolor\": \"#506784\", \"ticks\": \"\"}, \"baxis\": {\"gridcolor\": \"#506784\", \"linecolor\": \"#506784\", \"ticks\": \"\"}, \"bgcolor\": \"rgb(17,17,17)\", \"caxis\": {\"gridcolor\": \"#506784\", \"linecolor\": \"#506784\", \"ticks\": \"\"}}, \"title\": {\"x\": 0.05}, \"updatemenudefaults\": {\"bgcolor\": \"#506784\", \"borderwidth\": 0}, \"xaxis\": {\"automargin\": true, \"gridcolor\": \"#283442\", \"linecolor\": \"#506784\", \"ticks\": \"\", \"title\": {\"standoff\": 15}, \"zerolinecolor\": \"#283442\", \"zerolinewidth\": 2}, \"yaxis\": {\"automargin\": true, \"gridcolor\": \"#283442\", \"linecolor\": \"#506784\", \"ticks\": \"\", \"title\": {\"standoff\": 15}, \"zerolinecolor\": \"#283442\", \"zerolinewidth\": 2}}}, \"updatemenus\": [{\"buttons\": [{\"args\": [null, {\"frame\": {\"duration\": 500, \"redraw\": true}, \"fromcurrent\": true, \"mode\": \"immediate\", \"transition\": {\"duration\": 500, \"easing\": \"linear\"}}], \"label\": \"&#9654;\", \"method\": \"animate\"}, {\"args\": [[null], {\"frame\": {\"duration\": 0, \"redraw\": true}, \"fromcurrent\": true, \"mode\": \"immediate\", \"transition\": {\"duration\": 0, \"easing\": \"linear\"}}], \"label\": \"&#9724;\", \"method\": \"animate\"}], \"direction\": \"left\", \"pad\": {\"r\": 10, \"t\": 70}, \"showactive\": false, \"type\": \"buttons\", \"x\": 0.1, \"xanchor\": \"right\", \"y\": 0, \"yanchor\": \"top\"}], \"xaxis\": {\"anchor\": \"y\", \"domain\": [0.0, 1.0], \"title\": {\"text\": \"Country\"}}, \"yaxis\": {\"anchor\": \"x\", \"domain\": [0.0, 1.0], \"range\": [0, 9807569], \"title\": {\"text\": \"Cases\"}}},                        {\"responsive\": true}                    ).then(function(){\n",
              "                            Plotly.addFrames('3e44ff8a-78e9-4781-8be1-4e8d636ce373', [{\"data\": [{\"alignmentgroup\": \"True\", \"hovertemplate\": \"Date=1/23/20<br>Country=%{x}<br>Cases=%{y}<extra></extra>\", \"ids\": [\"Argentina\", \"Brazil\", \"Colombia\", \"Germany\", \"India\", \"Italy\", \"Mexico\", \"Poland\", \"Russia\", \"Turkey\"], \"legendgroup\": \"\", \"marker\": {\"color\": \"#42f587\"}, \"name\": \"\", \"offsetgroup\": \"\", \"orientation\": \"v\", \"showlegend\": false, \"textposition\": \"auto\", \"x\": [\"Argentina\", \"Brazil\", \"Colombia\", \"Germany\", \"India\", \"Italy\", \"Mexico\", \"Poland\", \"Russia\", \"Turkey\"], \"xaxis\": \"x\", \"y\": [0, 0, 0, 0, 0, 0, 0, 0, 0, 0], \"yaxis\": \"y\", \"type\": \"bar\"}], \"name\": \"1/23/20\"}, {\"data\": [{\"alignmentgroup\": \"True\", \"hovertemplate\": \"Date=1/28/20<br>Country=%{x}<br>Cases=%{y}<extra></extra>\", \"ids\": [\"Argentina\", \"Brazil\", \"Colombia\", \"Germany\", \"India\", \"Italy\", \"Mexico\", \"Poland\", \"Russia\", \"Turkey\"], \"legendgroup\": \"\", \"marker\": {\"color\": \"#42f587\"}, \"name\": \"\", \"offsetgroup\": \"\", \"orientation\": \"v\", \"showlegend\": false, \"textposition\": \"auto\", \"x\": [\"Argentina\", \"Brazil\", \"Colombia\", \"Germany\", \"India\", \"Italy\", \"Mexico\", \"Poland\", \"Russia\", \"Turkey\"], \"xaxis\": \"x\", \"y\": [0, 0, 0, 0, 0, 0, 0, 0, 0, 0], \"yaxis\": \"y\", \"type\": \"bar\"}], \"name\": \"1/28/20\"}, {\"data\": [{\"alignmentgroup\": \"True\", \"hovertemplate\": \"Date=2/3/20<br>Country=%{x}<br>Cases=%{y}<extra></extra>\", \"ids\": [\"Argentina\", \"Brazil\", \"Colombia\", \"Germany\", \"India\", \"Italy\", \"Mexico\", \"Poland\", \"Russia\", \"Turkey\"], \"legendgroup\": \"\", \"marker\": {\"color\": \"#42f587\"}, \"name\": \"\", \"offsetgroup\": \"\", \"orientation\": \"v\", \"showlegend\": false, \"textposition\": \"auto\", \"x\": [\"Argentina\", \"Brazil\", \"Colombia\", \"Germany\", \"India\", \"Italy\", \"Mexico\", \"Poland\", \"Russia\", \"Turkey\"], \"xaxis\": \"x\", \"y\": [0, 0, 0, 0, 0, 0, 0, 0, 0, 0], \"yaxis\": \"y\", \"type\": \"bar\"}], \"name\": \"2/3/20\"}, {\"data\": [{\"alignmentgroup\": \"True\", \"hovertemplate\": \"Date=2/8/20<br>Country=%{x}<br>Cases=%{y}<extra></extra>\", \"ids\": [\"Argentina\", \"Brazil\", \"Colombia\", \"Germany\", \"India\", \"Italy\", \"Mexico\", \"Poland\", \"Russia\", \"Turkey\"], \"legendgroup\": \"\", \"marker\": {\"color\": \"#42f587\"}, \"name\": \"\", \"offsetgroup\": \"\", \"orientation\": \"v\", \"showlegend\": false, \"textposition\": \"auto\", \"x\": [\"Argentina\", \"Brazil\", \"Colombia\", \"Germany\", \"India\", \"Italy\", \"Mexico\", \"Poland\", \"Russia\", \"Turkey\"], \"xaxis\": \"x\", \"y\": [0, 0, 0, 0, 0, 0, 0, 0, 0, 0], \"yaxis\": \"y\", \"type\": \"bar\"}], \"name\": \"2/8/20\"}, {\"data\": [{\"alignmentgroup\": \"True\", \"hovertemplate\": \"Date=2/11/20<br>Country=%{x}<br>Cases=%{y}<extra></extra>\", \"ids\": [\"Argentina\", \"Brazil\", \"Colombia\", \"Germany\", \"India\", \"Italy\", \"Mexico\", \"Poland\", \"Russia\", \"Turkey\"], \"legendgroup\": \"\", \"marker\": {\"color\": \"#42f587\"}, \"name\": \"\", \"offsetgroup\": \"\", \"orientation\": \"v\", \"showlegend\": false, \"textposition\": \"auto\", \"x\": [\"Argentina\", \"Brazil\", \"Colombia\", \"Germany\", \"India\", \"Italy\", \"Mexico\", \"Poland\", \"Russia\", \"Turkey\"], \"xaxis\": \"x\", \"y\": [0, 0, 0, 0, 0, 0, 0, 0, 0, 0], \"yaxis\": \"y\", \"type\": \"bar\"}], \"name\": \"2/11/20\"}, {\"data\": [{\"alignmentgroup\": \"True\", \"hovertemplate\": \"Date=2/16/20<br>Country=%{x}<br>Cases=%{y}<extra></extra>\", \"ids\": [\"Argentina\", \"Brazil\", \"Colombia\", \"Germany\", \"India\", \"Italy\", \"Mexico\", \"Poland\", \"Russia\", \"Turkey\"], \"legendgroup\": \"\", \"marker\": {\"color\": \"#42f587\"}, \"name\": \"\", \"offsetgroup\": \"\", \"orientation\": \"v\", \"showlegend\": false, \"textposition\": \"auto\", \"x\": [\"Argentina\", \"Brazil\", \"Colombia\", \"Germany\", \"India\", \"Italy\", \"Mexico\", \"Poland\", \"Russia\", \"Turkey\"], \"xaxis\": \"x\", \"y\": [0, 0, 0, 1, 3, 0, 0, 0, 2, 0], \"yaxis\": \"y\", \"type\": \"bar\"}], \"name\": \"2/16/20\"}, {\"data\": [{\"alignmentgroup\": \"True\", \"hovertemplate\": \"Date=2/20/20<br>Country=%{x}<br>Cases=%{y}<extra></extra>\", \"ids\": [\"Argentina\", \"Brazil\", \"Colombia\", \"Germany\", \"India\", \"Italy\", \"Mexico\", \"Poland\", \"Russia\", \"Turkey\"], \"legendgroup\": \"\", \"marker\": {\"color\": \"#42f587\"}, \"name\": \"\", \"offsetgroup\": \"\", \"orientation\": \"v\", \"showlegend\": false, \"textposition\": \"auto\", \"x\": [\"Argentina\", \"Brazil\", \"Colombia\", \"Germany\", \"India\", \"Italy\", \"Mexico\", \"Poland\", \"Russia\", \"Turkey\"], \"xaxis\": \"x\", \"y\": [0, 0, 0, 12, 3, 0, 0, 0, 2, 0], \"yaxis\": \"y\", \"type\": \"bar\"}], \"name\": \"2/20/20\"}, {\"data\": [{\"alignmentgroup\": \"True\", \"hovertemplate\": \"Date=2/25/20<br>Country=%{x}<br>Cases=%{y}<extra></extra>\", \"ids\": [\"Argentina\", \"Brazil\", \"Colombia\", \"Germany\", \"India\", \"Italy\", \"Mexico\", \"Poland\", \"Russia\", \"Turkey\"], \"legendgroup\": \"\", \"marker\": {\"color\": \"#42f587\"}, \"name\": \"\", \"offsetgroup\": \"\", \"orientation\": \"v\", \"showlegend\": false, \"textposition\": \"auto\", \"x\": [\"Argentina\", \"Brazil\", \"Colombia\", \"Germany\", \"India\", \"Italy\", \"Mexico\", \"Poland\", \"Russia\", \"Turkey\"], \"xaxis\": \"x\", \"y\": [0, 0, 0, 14, 3, 1, 0, 0, 2, 0], \"yaxis\": \"y\", \"type\": \"bar\"}], \"name\": \"2/25/20\"}, {\"data\": [{\"alignmentgroup\": \"True\", \"hovertemplate\": \"Date=3/7/20<br>Country=%{x}<br>Cases=%{y}<extra></extra>\", \"ids\": [\"Argentina\", \"Brazil\", \"Colombia\", \"Germany\", \"India\", \"Italy\", \"Mexico\", \"Poland\", \"Russia\", \"Turkey\"], \"legendgroup\": \"\", \"marker\": {\"color\": \"#42f587\"}, \"name\": \"\", \"offsetgroup\": \"\", \"orientation\": \"v\", \"showlegend\": false, \"textposition\": \"auto\", \"x\": [\"Argentina\", \"Brazil\", \"Colombia\", \"Germany\", \"India\", \"Italy\", \"Mexico\", \"Poland\", \"Russia\", \"Turkey\"], \"xaxis\": \"x\", \"y\": [0, 0, 0, 18, 3, 589, 1, 0, 2, 0], \"yaxis\": \"y\", \"type\": \"bar\"}], \"name\": \"3/7/20\"}, {\"data\": [{\"alignmentgroup\": \"True\", \"hovertemplate\": \"Date=3/12/20<br>Country=%{x}<br>Cases=%{y}<extra></extra>\", \"ids\": [\"Argentina\", \"Brazil\", \"Colombia\", \"Germany\", \"India\", \"Italy\", \"Mexico\", \"Poland\", \"Russia\", \"Turkey\"], \"legendgroup\": \"\", \"marker\": {\"color\": \"#42f587\"}, \"name\": \"\", \"offsetgroup\": \"\", \"orientation\": \"v\", \"showlegend\": false, \"textposition\": \"auto\", \"x\": [\"Argentina\", \"Brazil\", \"Colombia\", \"Germany\", \"India\", \"Italy\", \"Mexico\", \"Poland\", \"Russia\", \"Turkey\"], \"xaxis\": \"x\", \"y\": [0, 0, 0, 25, 4, 1045, 4, 0, 3, 0], \"yaxis\": \"y\", \"type\": \"bar\"}], \"name\": \"3/12/20\"}, {\"data\": [{\"alignmentgroup\": \"True\", \"hovertemplate\": \"Date=3/17/20<br>Country=%{x}<br>Cases=%{y}<extra></extra>\", \"ids\": [\"Argentina\", \"Brazil\", \"Colombia\", \"Germany\", \"India\", \"Italy\", \"Mexico\", \"Poland\", \"Russia\", \"Turkey\"], \"legendgroup\": \"\", \"marker\": {\"color\": \"#42f587\"}, \"name\": \"\", \"offsetgroup\": \"\", \"orientation\": \"v\", \"showlegend\": false, \"textposition\": \"auto\", \"x\": [\"Argentina\", \"Brazil\", \"Colombia\", \"Germany\", \"India\", \"Italy\", \"Mexico\", \"Poland\", \"Russia\", \"Turkey\"], \"xaxis\": \"x\", \"y\": [3, 2, 1, 67, 14, 2941, 4, 13, 8, 0], \"yaxis\": \"y\", \"type\": \"bar\"}], \"name\": \"3/17/20\"}, {\"data\": [{\"alignmentgroup\": \"True\", \"hovertemplate\": \"Date=3/21/20<br>Country=%{x}<br>Cases=%{y}<extra></extra>\", \"ids\": [\"Argentina\", \"Brazil\", \"Colombia\", \"Germany\", \"India\", \"Italy\", \"Mexico\", \"Poland\", \"Russia\", \"Turkey\"], \"legendgroup\": \"\", \"marker\": {\"color\": \"#42f587\"}, \"name\": \"\", \"offsetgroup\": \"\", \"orientation\": \"v\", \"showlegend\": false, \"textposition\": \"auto\", \"x\": [\"Argentina\", \"Brazil\", \"Colombia\", \"Germany\", \"India\", \"Italy\", \"Mexico\", \"Poland\", \"Russia\", \"Turkey\"], \"xaxis\": \"x\", \"y\": [3, 2, 1, 233, 23, 6072, 4, 1, 12, 0], \"yaxis\": \"y\", \"type\": \"bar\"}], \"name\": \"3/21/20\"}, {\"data\": [{\"alignmentgroup\": \"True\", \"hovertemplate\": \"Date=3/26/20<br>Country=%{x}<br>Cases=%{y}<extra></extra>\", \"ids\": [\"Argentina\", \"Brazil\", \"Colombia\", \"Germany\", \"India\", \"Italy\", \"Mexico\", \"Poland\", \"Russia\", \"Turkey\"], \"legendgroup\": \"\", \"marker\": {\"color\": \"#42f587\"}, \"name\": \"\", \"offsetgroup\": \"\", \"orientation\": \"v\", \"showlegend\": false, \"textposition\": \"auto\", \"x\": [\"Argentina\", \"Brazil\", \"Colombia\", \"Germany\", \"India\", \"Italy\", \"Mexico\", \"Poland\", \"Russia\", \"Turkey\"], \"xaxis\": \"x\", \"y\": [63, 6, 8, 5673, 45, 10361, 4, 7, 38, 26], \"yaxis\": \"y\", \"type\": \"bar\"}], \"name\": \"3/26/20\"}, {\"data\": [{\"alignmentgroup\": \"True\", \"hovertemplate\": \"Date=3/30/20<br>Country=%{x}<br>Cases=%{y}<extra></extra>\", \"ids\": [\"Argentina\", \"Brazil\", \"Colombia\", \"Germany\", \"India\", \"Italy\", \"Mexico\", \"Poland\", \"Russia\", \"Turkey\"], \"legendgroup\": \"\", \"marker\": {\"color\": \"#42f587\"}, \"name\": \"\", \"offsetgroup\": \"\", \"orientation\": \"v\", \"showlegend\": false, \"textposition\": \"auto\", \"x\": [\"Argentina\", \"Brazil\", \"Colombia\", \"Germany\", \"India\", \"Italy\", \"Mexico\", \"Poland\", \"Russia\", \"Turkey\"], \"xaxis\": \"x\", \"y\": [228, 120, 15, 13500, 102, 14620, 35, 7, 66, 162], \"yaxis\": \"y\", \"type\": \"bar\"}], \"name\": \"3/30/20\"}, {\"data\": [{\"alignmentgroup\": \"True\", \"hovertemplate\": \"Date=4/3/20<br>Country=%{x}<br>Cases=%{y}<extra></extra>\", \"ids\": [\"Argentina\", \"Brazil\", \"Colombia\", \"Germany\", \"India\", \"Italy\", \"Mexico\", \"Poland\", \"Russia\", \"Turkey\"], \"legendgroup\": \"\", \"marker\": {\"color\": \"#42f587\"}, \"name\": \"\", \"offsetgroup\": \"\", \"orientation\": \"v\", \"showlegend\": false, \"textposition\": \"auto\", \"x\": [\"Argentina\", \"Brazil\", \"Colombia\", \"Germany\", \"India\", \"Italy\", \"Mexico\", \"Poland\", \"Russia\", \"Turkey\"], \"xaxis\": \"x\", \"y\": [266, 127, 55, 24575, 192, 19758, 633, 56, 281, 484], \"yaxis\": \"y\", \"type\": \"bar\"}], \"name\": \"4/3/20\"}, {\"data\": [{\"alignmentgroup\": \"True\", \"hovertemplate\": \"Date=4/7/20<br>Country=%{x}<br>Cases=%{y}<extra></extra>\", \"ids\": [\"Argentina\", \"Brazil\", \"Colombia\", \"Germany\", \"India\", \"Italy\", \"Mexico\", \"Poland\", \"Russia\", \"Turkey\"], \"legendgroup\": \"\", \"marker\": {\"color\": \"#42f587\"}, \"name\": \"\", \"offsetgroup\": \"\", \"orientation\": \"v\", \"showlegend\": false, \"textposition\": \"auto\", \"x\": [\"Argentina\", \"Brazil\", \"Colombia\", \"Germany\", \"India\", \"Italy\", \"Mexico\", \"Poland\", \"Russia\", \"Turkey\"], \"xaxis\": \"x\", \"y\": [338, 127, 100, 36081, 421, 24392, 633, 191, 494, 1582], \"yaxis\": \"y\", \"type\": \"bar\"}], \"name\": \"4/7/20\"}, {\"data\": [{\"alignmentgroup\": \"True\", \"hovertemplate\": \"Date=4/11/20<br>Country=%{x}<br>Cases=%{y}<extra></extra>\", \"ids\": [\"Argentina\", \"Brazil\", \"Colombia\", \"Germany\", \"India\", \"Italy\", \"Mexico\", \"Poland\", \"Russia\", \"Turkey\"], \"legendgroup\": \"\", \"marker\": {\"color\": \"#42f587\"}, \"name\": \"\", \"offsetgroup\": \"\", \"orientation\": \"v\", \"showlegend\": false, \"textposition\": \"auto\", \"x\": [\"Argentina\", \"Brazil\", \"Colombia\", \"Germany\", \"India\", \"Italy\", \"Mexico\", \"Poland\", \"Russia\", \"Turkey\"], \"xaxis\": \"x\", \"y\": [440, 173, 214, 57400, 969, 32534, 633, 375, 1045, 2965], \"yaxis\": \"y\", \"type\": \"bar\"}], \"name\": \"4/11/20\"}, {\"data\": [{\"alignmentgroup\": \"True\", \"hovertemplate\": \"Date=4/16/20<br>Country=%{x}<br>Cases=%{y}<extra></extra>\", \"ids\": [\"Argentina\", \"Brazil\", \"Colombia\", \"Germany\", \"India\", \"Italy\", \"Mexico\", \"Poland\", \"Russia\", \"Turkey\"], \"legendgroup\": \"\", \"marker\": {\"color\": \"#42f587\"}, \"name\": \"\", \"offsetgroup\": \"\", \"orientation\": \"v\", \"showlegend\": false, \"textposition\": \"auto\", \"x\": [\"Argentina\", \"Brazil\", \"Colombia\", \"Germany\", \"India\", \"Italy\", \"Mexico\", \"Poland\", \"Russia\", \"Turkey\"], \"xaxis\": \"x\", \"y\": [631, 14026, 550, 77000, 1768, 40164, 2125, 774, 2304, 7089], \"yaxis\": \"y\", \"type\": \"bar\"}], \"name\": \"4/16/20\"}, {\"data\": [{\"alignmentgroup\": \"True\", \"hovertemplate\": \"Date=4/20/20<br>Country=%{x}<br>Cases=%{y}<extra></extra>\", \"ids\": [\"Argentina\", \"Brazil\", \"Colombia\", \"Germany\", \"India\", \"Italy\", \"Mexico\", \"Poland\", \"Russia\", \"Turkey\"], \"legendgroup\": \"\", \"marker\": {\"color\": \"#42f587\"}, \"name\": \"\", \"offsetgroup\": \"\", \"orientation\": \"v\", \"showlegend\": false, \"textposition\": \"auto\", \"x\": [\"Argentina\", \"Brazil\", \"Colombia\", \"Germany\", \"India\", \"Italy\", \"Mexico\", \"Poland\", \"Russia\", \"Turkey\"], \"xaxis\": \"x\", \"y\": [737, 22130, 804, 91500, 3273, 48877, 2627, 1133, 3446, 13430], \"yaxis\": \"y\", \"type\": \"bar\"}], \"name\": \"4/20/20\"}, {\"data\": [{\"alignmentgroup\": \"True\", \"hovertemplate\": \"Date=4/25/20<br>Country=%{x}<br>Cases=%{y}<extra></extra>\", \"ids\": [\"Argentina\", \"Brazil\", \"Colombia\", \"Germany\", \"India\", \"Italy\", \"Mexico\", \"Poland\", \"Russia\", \"Turkey\"], \"legendgroup\": \"\", \"marker\": {\"color\": \"#42f587\"}, \"name\": \"\", \"offsetgroup\": \"\", \"orientation\": \"v\", \"showlegend\": false, \"textposition\": \"auto\", \"x\": [\"Argentina\", \"Brazil\", \"Colombia\", \"Germany\", \"India\", \"Italy\", \"Mexico\", \"Poland\", \"Russia\", \"Turkey\"], \"xaxis\": \"x\", \"y\": [1030, 29160, 1067, 109800, 5939, 63120, 7149, 2126, 6250, 25582], \"yaxis\": \"y\", \"type\": \"bar\"}], \"name\": \"4/25/20\"}, {\"data\": [{\"alignmentgroup\": \"True\", \"hovertemplate\": \"Date=5/3/20<br>Country=%{x}<br>Cases=%{y}<extra></extra>\", \"ids\": [\"Argentina\", \"Brazil\", \"Colombia\", \"Germany\", \"India\", \"Italy\", \"Mexico\", \"Poland\", \"Russia\", \"Turkey\"], \"legendgroup\": \"\", \"marker\": {\"color\": \"#42f587\"}, \"name\": \"\", \"offsetgroup\": \"\", \"orientation\": \"v\", \"showlegend\": false, \"textposition\": \"auto\", \"x\": [\"Argentina\", \"Brazil\", \"Colombia\", \"Germany\", \"India\", \"Italy\", \"Mexico\", \"Poland\", \"Russia\", \"Turkey\"], \"xaxis\": \"x\", \"y\": [1354, 42991, 1722, 130600, 11775, 81654, 13447, 3945, 16639, 63151], \"yaxis\": \"y\", \"type\": \"bar\"}], \"name\": \"5/3/20\"}, {\"data\": [{\"alignmentgroup\": \"True\", \"hovertemplate\": \"Date=5/6/20<br>Country=%{x}<br>Cases=%{y}<extra></extra>\", \"ids\": [\"Argentina\", \"Brazil\", \"Colombia\", \"Germany\", \"India\", \"Italy\", \"Mexico\", \"Poland\", \"Russia\", \"Turkey\"], \"legendgroup\": \"\", \"marker\": {\"color\": \"#42f587\"}, \"name\": \"\", \"offsetgroup\": \"\", \"orientation\": \"v\", \"showlegend\": false, \"textposition\": \"auto\", \"x\": [\"Argentina\", \"Brazil\", \"Colombia\", \"Germany\", \"India\", \"Italy\", \"Mexico\", \"Poland\", \"Russia\", \"Turkey\"], \"xaxis\": \"x\", \"y\": [1524, 51370, 2148, 139900, 15331, 93245, 17781, 4655, 21327, 78202], \"yaxis\": \"y\", \"type\": \"bar\"}], \"name\": \"5/6/20\"}, {\"data\": [{\"alignmentgroup\": \"True\", \"hovertemplate\": \"Date=5/11/20<br>Country=%{x}<br>Cases=%{y}<extra></extra>\", \"ids\": [\"Argentina\", \"Brazil\", \"Colombia\", \"Germany\", \"India\", \"Italy\", \"Mexico\", \"Poland\", \"Russia\", \"Turkey\"], \"legendgroup\": \"\", \"marker\": {\"color\": \"#42f587\"}, \"name\": \"\", \"offsetgroup\": \"\", \"orientation\": \"v\", \"showlegend\": false, \"textposition\": \"auto\", \"x\": [\"Argentina\", \"Brazil\", \"Colombia\", \"Germany\", \"India\", \"Italy\", \"Mexico\", \"Poland\", \"Russia\", \"Turkey\"], \"xaxis\": \"x\", \"y\": [1837, 67384, 2825, 145617, 22549, 106587, 23100, 5816, 39801, 95780], \"yaxis\": \"y\", \"type\": \"bar\"}], \"name\": \"5/11/20\"}, {\"data\": [{\"alignmentgroup\": \"True\", \"hovertemplate\": \"Date=5/16/20<br>Country=%{x}<br>Cases=%{y}<extra></extra>\", \"ids\": [\"Argentina\", \"Brazil\", \"Colombia\", \"Germany\", \"India\", \"Italy\", \"Mexico\", \"Poland\", \"Russia\", \"Turkey\"], \"legendgroup\": \"\", \"marker\": {\"color\": \"#42f587\"}, \"name\": \"\", \"offsetgroup\": \"\", \"orientation\": \"v\", \"showlegend\": false, \"textposition\": \"auto\", \"x\": [\"Argentina\", \"Brazil\", \"Colombia\", \"Germany\", \"India\", \"Italy\", \"Mexico\", \"Poland\", \"Russia\", \"Turkey\"], \"xaxis\": \"x\", \"y\": [2534, 89672, 3587, 152600, 34224, 122810, 31848, 7175, 63166, 108137], \"yaxis\": \"y\", \"type\": \"bar\"}], \"name\": \"5/16/20\"}, {\"data\": [{\"alignmentgroup\": \"True\", \"hovertemplate\": \"Date=5/20/20<br>Country=%{x}<br>Cases=%{y}<extra></extra>\", \"ids\": [\"Argentina\", \"Brazil\", \"Colombia\", \"Germany\", \"India\", \"Italy\", \"Mexico\", \"Poland\", \"Russia\", \"Turkey\"], \"legendgroup\": \"\", \"marker\": {\"color\": \"#42f587\"}, \"name\": \"\", \"offsetgroup\": \"\", \"orientation\": \"v\", \"showlegend\": false, \"textposition\": \"auto\", \"x\": [\"Argentina\", \"Brazil\", \"Colombia\", \"Germany\", \"India\", \"Italy\", \"Mexico\", \"Poland\", \"Russia\", \"Turkey\"], \"xaxis\": \"x\", \"y\": [2933, 116683, 4256, 156966, 45422, 132282, 38419, 8183, 85392, 113987], \"yaxis\": \"y\", \"type\": \"bar\"}], \"name\": \"5/20/20\"}, {\"data\": [{\"alignmentgroup\": \"True\", \"hovertemplate\": \"Date=5/25/20<br>Country=%{x}<br>Cases=%{y}<extra></extra>\", \"ids\": [\"Argentina\", \"Brazil\", \"Colombia\", \"Germany\", \"India\", \"Italy\", \"Mexico\", \"Poland\", \"Russia\", \"Turkey\"], \"legendgroup\": \"\", \"marker\": {\"color\": \"#42f587\"}, \"name\": \"\", \"offsetgroup\": \"\", \"orientation\": \"v\", \"showlegend\": false, \"textposition\": \"auto\", \"x\": [\"Argentina\", \"Brazil\", \"Colombia\", \"Germany\", \"India\", \"Italy\", \"Mexico\", \"Poland\", \"Russia\", \"Turkey\"], \"xaxis\": \"x\", \"y\": [3999, 153833, 5265, 161199, 60706, 141981, 49452, 9276, 118798, 120015], \"yaxis\": \"y\", \"type\": \"bar\"}], \"name\": \"5/25/20\"}, {\"data\": [{\"alignmentgroup\": \"True\", \"hovertemplate\": \"Date=6/2/20<br>Country=%{x}<br>Cases=%{y}<extra></extra>\", \"ids\": [\"Argentina\", \"Brazil\", \"Colombia\", \"Germany\", \"India\", \"Italy\", \"Mexico\", \"Poland\", \"Russia\", \"Turkey\"], \"legendgroup\": \"\", \"marker\": {\"color\": \"#42f587\"}, \"name\": \"\", \"offsetgroup\": \"\", \"orientation\": \"v\", \"showlegend\": false, \"textposition\": \"auto\", \"x\": [\"Argentina\", \"Brazil\", \"Colombia\", \"Germany\", \"India\", \"Italy\", \"Mexico\", \"Poland\", \"Russia\", \"Turkey\"], \"xaxis\": \"x\", \"y\": [5709, 223638, 9689, 166609, 100285, 160092, 69749, 11726, 186602, 129921], \"yaxis\": \"y\", \"type\": \"bar\"}], \"name\": \"6/2/20\"}, {\"data\": [{\"alignmentgroup\": \"True\", \"hovertemplate\": \"Date=6/6/20<br>Country=%{x}<br>Cases=%{y}<extra></extra>\", \"ids\": [\"Argentina\", \"Brazil\", \"Colombia\", \"Germany\", \"India\", \"Italy\", \"Mexico\", \"Poland\", \"Russia\", \"Turkey\"], \"legendgroup\": \"\", \"marker\": {\"color\": \"#42f587\"}, \"name\": \"\", \"offsetgroup\": \"\", \"orientation\": \"v\", \"showlegend\": false, \"textposition\": \"auto\", \"x\": [\"Argentina\", \"Brazil\", \"Colombia\", \"Germany\", \"India\", \"Italy\", \"Mexico\", \"Poland\", \"Russia\", \"Turkey\"], \"xaxis\": \"x\", \"y\": [6180, 277149, 13670, 168958, 118695, 165078, 80830, 12641, 220935, 135322], \"yaxis\": \"y\", \"type\": \"bar\"}], \"name\": \"6/6/20\"}, {\"data\": [{\"alignmentgroup\": \"True\", \"hovertemplate\": \"Date=6/10/20<br>Country=%{x}<br>Cases=%{y}<extra></extra>\", \"ids\": [\"Argentina\", \"Brazil\", \"Colombia\", \"Germany\", \"India\", \"Italy\", \"Mexico\", \"Poland\", \"Russia\", \"Turkey\"], \"legendgroup\": \"\", \"marker\": {\"color\": \"#42f587\"}, \"name\": \"\", \"offsetgroup\": \"\", \"orientation\": \"v\", \"showlegend\": false, \"textposition\": \"auto\", \"x\": [\"Argentina\", \"Brazil\", \"Colombia\", \"Germany\", \"India\", \"Italy\", \"Mexico\", \"Poland\", \"Russia\", \"Turkey\"], \"xaxis\": \"x\", \"y\": [7991, 413916, 16566, 170630, 135206, 169939, 93930, 13411, 252295, 146839], \"yaxis\": \"y\", \"type\": \"bar\"}], \"name\": \"6/10/20\"}, {\"data\": [{\"alignmentgroup\": \"True\", \"hovertemplate\": \"Date=6/15/20<br>Country=%{x}<br>Cases=%{y}<extra></extra>\", \"ids\": [\"Argentina\", \"Brazil\", \"Colombia\", \"Germany\", \"India\", \"Italy\", \"Mexico\", \"Poland\", \"Russia\", \"Turkey\"], \"legendgroup\": \"\", \"marker\": {\"color\": \"#42f587\"}, \"name\": \"\", \"offsetgroup\": \"\", \"orientation\": \"v\", \"showlegend\": false, \"textposition\": \"auto\", \"x\": [\"Argentina\", \"Brazil\", \"Colombia\", \"Germany\", \"India\", \"Italy\", \"Mexico\", \"Poland\", \"Russia\", \"Turkey\"], \"xaxis\": \"x\", \"y\": [9891, 477709, 19985, 172692, 180013, 177010, 112292, 14383, 284021, 152364], \"yaxis\": \"y\", \"type\": \"bar\"}], \"name\": \"6/15/20\"}, {\"data\": [{\"alignmentgroup\": \"True\", \"hovertemplate\": \"Date=6/24/20<br>Country=%{x}<br>Cases=%{y}<extra></extra>\", \"ids\": [\"Argentina\", \"Brazil\", \"Colombia\", \"Germany\", \"India\", \"Italy\", \"Mexico\", \"Poland\", \"Russia\", \"Turkey\"], \"legendgroup\": \"\", \"marker\": {\"color\": \"#42f587\"}, \"name\": \"\", \"offsetgroup\": \"\", \"orientation\": \"v\", \"showlegend\": false, \"textposition\": \"auto\", \"x\": [\"Argentina\", \"Brazil\", \"Colombia\", \"Germany\", \"India\", \"Italy\", \"Mexico\", \"Poland\", \"Russia\", \"Turkey\"], \"xaxis\": \"x\", \"y\": [13816, 660469, 30517, 176422, 271697, 186111, 148487, 18134, 368222, 164234], \"yaxis\": \"y\", \"type\": \"bar\"}], \"name\": \"6/24/20\"}, {\"data\": [{\"alignmentgroup\": \"True\", \"hovertemplate\": \"Date=6/29/20<br>Country=%{x}<br>Cases=%{y}<extra></extra>\", \"ids\": [\"Argentina\", \"Brazil\", \"Colombia\", \"Germany\", \"India\", \"Italy\", \"Mexico\", \"Poland\", \"Russia\", \"Turkey\"], \"legendgroup\": \"\", \"marker\": {\"color\": \"#42f587\"}, \"name\": \"\", \"offsetgroup\": \"\", \"orientation\": \"v\", \"showlegend\": false, \"textposition\": \"auto\", \"x\": [\"Argentina\", \"Brazil\", \"Colombia\", \"Germany\", \"India\", \"Italy\", \"Mexico\", \"Poland\", \"Russia\", \"Turkey\"], \"xaxis\": \"x\", \"y\": [21138, 757811, 38345, 177770, 334822, 189196, 170147, 20897, 402778, 171809], \"yaxis\": \"y\", \"type\": \"bar\"}], \"name\": \"6/29/20\"}, {\"data\": [{\"alignmentgroup\": \"True\", \"hovertemplate\": \"Date=7/2/20<br>Country=%{x}<br>Cases=%{y}<extra></extra>\", \"ids\": [\"Argentina\", \"Brazil\", \"Colombia\", \"Germany\", \"India\", \"Italy\", \"Mexico\", \"Poland\", \"Russia\", \"Turkey\"], \"legendgroup\": \"\", \"marker\": {\"color\": \"#42f587\"}, \"name\": \"\", \"offsetgroup\": \"\", \"orientation\": \"v\", \"showlegend\": false, \"textposition\": \"auto\", \"x\": [\"Argentina\", \"Brazil\", \"Colombia\", \"Germany\", \"India\", \"Italy\", \"Mexico\", \"Poland\", \"Russia\", \"Turkey\"], \"xaxis\": \"x\", \"y\": [24186, 957692, 43481, 179800, 379892, 191083, 183757, 22209, 428276, 176965], \"yaxis\": \"y\", \"type\": \"bar\"}], \"name\": \"7/2/20\"}, {\"data\": [{\"alignmentgroup\": \"True\", \"hovertemplate\": \"Date=7/5/20<br>Country=%{x}<br>Cases=%{y}<extra></extra>\", \"ids\": [\"Argentina\", \"Brazil\", \"Colombia\", \"Germany\", \"India\", \"Italy\", \"Mexico\", \"Poland\", \"Russia\", \"Turkey\"], \"legendgroup\": \"\", \"marker\": {\"color\": \"#42f587\"}, \"name\": \"\", \"offsetgroup\": \"\", \"orientation\": \"v\", \"showlegend\": false, \"textposition\": \"auto\", \"x\": [\"Argentina\", \"Brazil\", \"Colombia\", \"Germany\", \"India\", \"Italy\", \"Mexico\", \"Poland\", \"Russia\", \"Turkey\"], \"xaxis\": \"x\", \"y\": [27597, 1029045, 46643, 181719, 424433, 192108, 199914, 23746, 449995, 180680], \"yaxis\": \"y\", \"type\": \"bar\"}], \"name\": \"7/5/20\"}, {\"data\": [{\"alignmentgroup\": \"True\", \"hovertemplate\": \"Date=7/10/20<br>Country=%{x}<br>Cases=%{y}<extra></extra>\", \"ids\": [\"Argentina\", \"Brazil\", \"Colombia\", \"Germany\", \"India\", \"Italy\", \"Mexico\", \"Poland\", \"Russia\", \"Turkey\"], \"legendgroup\": \"\", \"marker\": {\"color\": \"#42f587\"}, \"name\": \"\", \"offsetgroup\": \"\", \"orientation\": \"v\", \"showlegend\": false, \"textposition\": \"auto\", \"x\": [\"Argentina\", \"Brazil\", \"Colombia\", \"Germany\", \"India\", \"Italy\", \"Mexico\", \"Poland\", \"Russia\", \"Turkey\"], \"xaxis\": \"x\", \"y\": [38984, 1217361, 56272, 184028, 515386, 194273, 225356, 26048, 488234, 191883], \"yaxis\": \"y\", \"type\": \"bar\"}], \"name\": \"7/10/20\"}, {\"data\": [{\"alignmentgroup\": \"True\", \"hovertemplate\": \"Date=7/15/20<br>Country=%{x}<br>Cases=%{y}<extra></extra>\", \"ids\": [\"Argentina\", \"Brazil\", \"Colombia\", \"Germany\", \"India\", \"Italy\", \"Mexico\", \"Poland\", \"Russia\", \"Turkey\"], \"legendgroup\": \"\", \"marker\": {\"color\": \"#42f587\"}, \"name\": \"\", \"offsetgroup\": \"\", \"orientation\": \"v\", \"showlegend\": false, \"textposition\": \"auto\", \"x\": [\"Argentina\", \"Brazil\", \"Colombia\", \"Germany\", \"India\", \"Italy\", \"Mexico\", \"Poland\", \"Russia\", \"Turkey\"], \"xaxis\": \"x\", \"y\": [47298, 1350098, 68806, 186000, 612768, 196016, 252368, 28492, 522375, 197733], \"yaxis\": \"y\", \"type\": \"bar\"}], \"name\": \"7/15/20\"}, {\"data\": [{\"alignmentgroup\": \"True\", \"hovertemplate\": \"Date=7/24/20<br>Country=%{x}<br>Cases=%{y}<extra></extra>\", \"ids\": [\"Argentina\", \"Brazil\", \"Colombia\", \"Germany\", \"India\", \"Italy\", \"Mexico\", \"Poland\", \"Russia\", \"Turkey\"], \"legendgroup\": \"\", \"marker\": {\"color\": \"#42f587\"}, \"name\": \"\", \"offsetgroup\": \"\", \"orientation\": \"v\", \"showlegend\": false, \"textposition\": \"auto\", \"x\": [\"Argentina\", \"Brazil\", \"Colombia\", \"Germany\", \"India\", \"Italy\", \"Mexico\", \"Poland\", \"Russia\", \"Turkey\"], \"xaxis\": \"x\", \"y\": [65447, 1693214, 113864, 189696, 849432, 198192, 283382, 31997, 587728, 207374], \"yaxis\": \"y\", \"type\": \"bar\"}], \"name\": \"7/24/20\"}, {\"data\": [{\"alignmentgroup\": \"True\", \"hovertemplate\": \"Date=7/29/20<br>Country=%{x}<br>Cases=%{y}<extra></extra>\", \"ids\": [\"Argentina\", \"Brazil\", \"Colombia\", \"Germany\", \"India\", \"Italy\", \"Mexico\", \"Poland\", \"Russia\", \"Turkey\"], \"legendgroup\": \"\", \"marker\": {\"color\": \"#42f587\"}, \"name\": \"\", \"offsetgroup\": \"\", \"orientation\": \"v\", \"showlegend\": false, \"textposition\": \"auto\", \"x\": [\"Argentina\", \"Brazil\", \"Colombia\", \"Germany\", \"India\", \"Italy\", \"Mexico\", \"Poland\", \"Russia\", \"Turkey\"], \"xaxis\": \"x\", \"y\": [77855, 1922802, 142777, 191279, 1019735, 199031, 314538, 33190, 619204, 212557], \"yaxis\": \"y\", \"type\": \"bar\"}], \"name\": \"7/29/20\"}, {\"data\": [{\"alignmentgroup\": \"True\", \"hovertemplate\": \"Date=8/1/20<br>Country=%{x}<br>Cases=%{y}<extra></extra>\", \"ids\": [\"Argentina\", \"Brazil\", \"Colombia\", \"Germany\", \"India\", \"Italy\", \"Mexico\", \"Poland\", \"Russia\", \"Turkey\"], \"legendgroup\": \"\", \"marker\": {\"color\": \"#42f587\"}, \"name\": \"\", \"offsetgroup\": \"\", \"orientation\": \"v\", \"showlegend\": false, \"textposition\": \"auto\", \"x\": [\"Argentina\", \"Brazil\", \"Colombia\", \"Germany\", \"India\", \"Italy\", \"Mexico\", \"Poland\", \"Russia\", \"Turkey\"], \"xaxis\": \"x\", \"y\": [86499, 2037982, 160708, 192636, 1145629, 200229, 334867, 34374, 645316, 215516], \"yaxis\": \"y\", \"type\": \"bar\"}], \"name\": \"8/1/20\"}, {\"data\": [{\"alignmentgroup\": \"True\", \"hovertemplate\": \"Date=8/4/20<br>Country=%{x}<br>Cases=%{y}<extra></extra>\", \"ids\": [\"Argentina\", \"Brazil\", \"Colombia\", \"Germany\", \"India\", \"Italy\", \"Mexico\", \"Poland\", \"Russia\", \"Turkey\"], \"legendgroup\": \"\", \"marker\": {\"color\": \"#42f587\"}, \"name\": \"\", \"offsetgroup\": \"\", \"orientation\": \"v\", \"showlegend\": false, \"textposition\": \"auto\", \"x\": [\"Argentina\", \"Brazil\", \"Colombia\", \"Germany\", \"India\", \"Italy\", \"Mexico\", \"Poland\", \"Russia\", \"Turkey\"], \"xaxis\": \"x\", \"y\": [94129, 2157484, 180258, 194173, 1282215, 200766, 357444, 35056, 660235, 218491], \"yaxis\": \"y\", \"type\": \"bar\"}], \"name\": \"8/4/20\"}, {\"data\": [{\"alignmentgroup\": \"True\", \"hovertemplate\": \"Date=8/9/20<br>Country=%{x}<br>Cases=%{y}<extra></extra>\", \"ids\": [\"Argentina\", \"Brazil\", \"Colombia\", \"Germany\", \"India\", \"Italy\", \"Mexico\", \"Poland\", \"Russia\", \"Turkey\"], \"legendgroup\": \"\", \"marker\": {\"color\": \"#42f587\"}, \"name\": \"\", \"offsetgroup\": \"\", \"orientation\": \"v\", \"showlegend\": false, \"textposition\": \"auto\", \"x\": [\"Argentina\", \"Brazil\", \"Colombia\", \"Germany\", \"India\", \"Italy\", \"Mexico\", \"Poland\", \"Russia\", \"Turkey\"], \"xaxis\": \"x\", \"y\": [108242, 2356983, 212688, 196783, 1535743, 202098, 384432, 36691, 692059, 223759], \"yaxis\": \"y\", \"type\": \"bar\"}], \"name\": \"8/9/20\"}, {\"data\": [{\"alignmentgroup\": \"True\", \"hovertemplate\": \"Date=8/14/20<br>Country=%{x}<br>Cases=%{y}<extra></extra>\", \"ids\": [\"Argentina\", \"Brazil\", \"Colombia\", \"Germany\", \"India\", \"Italy\", \"Mexico\", \"Poland\", \"Russia\", \"Turkey\"], \"legendgroup\": \"\", \"marker\": {\"color\": \"#42f587\"}, \"name\": \"\", \"offsetgroup\": \"\", \"orientation\": \"v\", \"showlegend\": false, \"textposition\": \"auto\", \"x\": [\"Argentina\", \"Brazil\", \"Colombia\", \"Germany\", \"India\", \"Italy\", \"Mexico\", \"Poland\", \"Russia\", \"Turkey\"], \"xaxis\": \"x\", \"y\": [199005, 2616981, 261293, 200440, 1808936, 203326, 410479, 38362, 721473, 228980], \"yaxis\": \"y\", \"type\": \"bar\"}], \"name\": \"8/14/20\"}, {\"data\": [{\"alignmentgroup\": \"True\", \"hovertemplate\": \"Date=8/19/20<br>Country=%{x}<br>Cases=%{y}<extra></extra>\", \"ids\": [\"Argentina\", \"Brazil\", \"Colombia\", \"Germany\", \"India\", \"Italy\", \"Mexico\", \"Poland\", \"Russia\", \"Turkey\"], \"legendgroup\": \"\", \"marker\": {\"color\": \"#42f587\"}, \"name\": \"\", \"offsetgroup\": \"\", \"orientation\": \"v\", \"showlegend\": false, \"textposition\": \"auto\", \"x\": [\"Argentina\", \"Brazil\", \"Colombia\", \"Germany\", \"India\", \"Italy\", \"Mexico\", \"Poland\", \"Russia\", \"Turkey\"], \"xaxis\": \"x\", \"y\": [228725, 2801931, 326298, 204454, 2096664, 204506, 438375, 40099, 747802, 233915], \"yaxis\": \"y\", \"type\": \"bar\"}], \"name\": \"8/19/20\"}, {\"data\": [{\"alignmentgroup\": \"True\", \"hovertemplate\": \"Date=8/23/20<br>Country=%{x}<br>Cases=%{y}<extra></extra>\", \"ids\": [\"Argentina\", \"Brazil\", \"Colombia\", \"Germany\", \"India\", \"Italy\", \"Mexico\", \"Poland\", \"Russia\", \"Turkey\"], \"legendgroup\": \"\", \"marker\": {\"color\": \"#42f587\"}, \"name\": \"\", \"offsetgroup\": \"\", \"orientation\": \"v\", \"showlegend\": false, \"textposition\": \"auto\", \"x\": [\"Argentina\", \"Brazil\", \"Colombia\", \"Germany\", \"India\", \"Italy\", \"Mexico\", \"Poland\", \"Russia\", \"Turkey\"], \"xaxis\": \"x\", \"y\": [251400, 2947784, 374024, 207985, 2338035, 205470, 458123, 42183, 768906, 237165], \"yaxis\": \"y\", \"type\": \"bar\"}], \"name\": \"8/23/20\"}, {\"data\": [{\"alignmentgroup\": \"True\", \"hovertemplate\": \"Date=8/28/20<br>Country=%{x}<br>Cases=%{y}<extra></extra>\", \"ids\": [\"Argentina\", \"Brazil\", \"Colombia\", \"Germany\", \"India\", \"Italy\", \"Mexico\", \"Poland\", \"Russia\", \"Turkey\"], \"legendgroup\": \"\", \"marker\": {\"color\": \"#42f587\"}, \"name\": \"\", \"offsetgroup\": \"\", \"orientation\": \"v\", \"showlegend\": false, \"textposition\": \"auto\", \"x\": [\"Argentina\", \"Brazil\", \"Colombia\", \"Germany\", \"India\", \"Italy\", \"Mexico\", \"Poland\", \"Russia\", \"Turkey\"], \"xaxis\": \"x\", \"y\": [280165, 3158783, 429608, 214186, 2648998, 206902, 479770, 44785, 796498, 241809], \"yaxis\": \"y\", \"type\": \"bar\"}], \"name\": \"8/28/20\"}, {\"data\": [{\"alignmentgroup\": \"True\", \"hovertemplate\": \"Date=9/4/20<br>Country=%{x}<br>Cases=%{y}<extra></extra>\", \"ids\": [\"Argentina\", \"Brazil\", \"Colombia\", \"Germany\", \"India\", \"Italy\", \"Mexico\", \"Poland\", \"Russia\", \"Turkey\"], \"legendgroup\": \"\", \"marker\": {\"color\": \"#42f587\"}, \"name\": \"\", \"offsetgroup\": \"\", \"orientation\": \"v\", \"showlegend\": false, \"textposition\": \"auto\", \"x\": [\"Argentina\", \"Brazil\", \"Colombia\", \"Germany\", \"India\", \"Italy\", \"Mexico\", \"Poland\", \"Russia\", \"Turkey\"], \"xaxis\": \"x\", \"y\": [331621, 3464278, 498221, 222802, 3107223, 209027, 514663, 49820, 830532, 249108], \"yaxis\": \"y\", \"type\": \"bar\"}], \"name\": \"9/4/20\"}, {\"data\": [{\"alignmentgroup\": \"True\", \"hovertemplate\": \"Date=9/9/20<br>Country=%{x}<br>Cases=%{y}<extra></extra>\", \"ids\": [\"Argentina\", \"Brazil\", \"Colombia\", \"Germany\", \"India\", \"Italy\", \"Mexico\", \"Poland\", \"Russia\", \"Turkey\"], \"legendgroup\": \"\", \"marker\": {\"color\": \"#42f587\"}, \"name\": \"\", \"offsetgroup\": \"\", \"orientation\": \"v\", \"showlegend\": false, \"textposition\": \"auto\", \"x\": [\"Argentina\", \"Brazil\", \"Colombia\", \"Germany\", \"India\", \"Italy\", \"Mexico\", \"Poland\", \"Russia\", \"Turkey\"], \"xaxis\": \"x\", \"y\": [382490, 3611632, 552885, 228784, 3471783, 211272, 538514, 57135, 854069, 254188], \"yaxis\": \"y\", \"type\": \"bar\"}], \"name\": \"9/9/20\"}, {\"data\": [{\"alignmentgroup\": \"True\", \"hovertemplate\": \"Date=9/13/20<br>Country=%{x}<br>Cases=%{y}<extra></extra>\", \"ids\": [\"Argentina\", \"Brazil\", \"Colombia\", \"Germany\", \"India\", \"Italy\", \"Mexico\", \"Poland\", \"Russia\", \"Turkey\"], \"legendgroup\": \"\", \"marker\": {\"color\": \"#42f587\"}, \"name\": \"\", \"offsetgroup\": \"\", \"orientation\": \"v\", \"showlegend\": false, \"textposition\": \"auto\", \"x\": [\"Argentina\", \"Brazil\", \"Colombia\", \"Germany\", \"India\", \"Italy\", \"Mexico\", \"Poland\", \"Russia\", \"Turkey\"], \"xaxis\": \"x\", \"y\": [419513, 3723206, 599385, 232541, 3780107, 213634, 557381, 60659, 873684, 258833], \"yaxis\": \"y\", \"type\": \"bar\"}], \"name\": \"9/13/20\"}, {\"data\": [{\"alignmentgroup\": \"True\", \"hovertemplate\": \"Date=9/18/20<br>Country=%{x}<br>Cases=%{y}<extra></extra>\", \"ids\": [\"Argentina\", \"Brazil\", \"Colombia\", \"Germany\", \"India\", \"Italy\", \"Mexico\", \"Poland\", \"Russia\", \"Turkey\"], \"legendgroup\": \"\", \"marker\": {\"color\": \"#42f587\"}, \"name\": \"\", \"offsetgroup\": \"\", \"orientation\": \"v\", \"showlegend\": false, \"textposition\": \"auto\", \"x\": [\"Argentina\", \"Brazil\", \"Colombia\", \"Germany\", \"India\", \"Italy\", \"Mexico\", \"Poland\", \"Russia\", \"Turkey\"], \"xaxis\": \"x\", \"y\": [467286, 3897539, 615457, 239654, 4208431, 216807, 582109, 63312, 898420, 264805], \"yaxis\": \"y\", \"type\": \"bar\"}], \"name\": \"9/18/20\"}, {\"data\": [{\"alignmentgroup\": \"True\", \"hovertemplate\": \"Date=9/22/20<br>Country=%{x}<br>Cases=%{y}<extra></extra>\", \"ids\": [\"Argentina\", \"Brazil\", \"Colombia\", \"Germany\", \"India\", \"Italy\", \"Mexico\", \"Poland\", \"Russia\", \"Turkey\"], \"legendgroup\": \"\", \"marker\": {\"color\": \"#42f587\"}, \"name\": \"\", \"offsetgroup\": \"\", \"orientation\": \"v\", \"showlegend\": false, \"textposition\": \"auto\", \"x\": [\"Argentina\", \"Brazil\", \"Colombia\", \"Germany\", \"India\", \"Italy\", \"Mexico\", \"Poland\", \"Russia\", \"Turkey\"], \"xaxis\": \"x\", \"y\": [517228, 4016831, 640900, 244693, 4587613, 219670, 598953, 64972, 914923, 269696], \"yaxis\": \"y\", \"type\": \"bar\"}], \"name\": \"9/22/20\"}, {\"data\": [{\"alignmentgroup\": \"True\", \"hovertemplate\": \"Date=9/27/20<br>Country=%{x}<br>Cases=%{y}<extra></extra>\", \"ids\": [\"Argentina\", \"Brazil\", \"Colombia\", \"Germany\", \"India\", \"Italy\", \"Mexico\", \"Poland\", \"Russia\", \"Turkey\"], \"legendgroup\": \"\", \"marker\": {\"color\": \"#42f587\"}, \"name\": \"\", \"offsetgroup\": \"\", \"orientation\": \"v\", \"showlegend\": false, \"textposition\": \"auto\", \"x\": [\"Argentina\", \"Brazil\", \"Colombia\", \"Germany\", \"India\", \"Italy\", \"Mexico\", \"Poland\", \"Russia\", \"Turkey\"], \"xaxis\": \"x\", \"y\": [565935, 4172711, 711472, 250866, 5016520, 224417, 616696, 67904, 939921, 275630], \"yaxis\": \"y\", \"type\": \"bar\"}], \"name\": \"9/27/20\"}, {\"data\": [{\"alignmentgroup\": \"True\", \"hovertemplate\": \"Date=10/2/20<br>Country=%{x}<br>Cases=%{y}<extra></extra>\", \"ids\": [\"Argentina\", \"Brazil\", \"Colombia\", \"Germany\", \"India\", \"Italy\", \"Mexico\", \"Poland\", \"Russia\", \"Turkey\"], \"legendgroup\": \"\", \"marker\": {\"color\": \"#42f587\"}, \"name\": \"\", \"offsetgroup\": \"\", \"orientation\": \"v\", \"showlegend\": false, \"textposition\": \"auto\", \"x\": [\"Argentina\", \"Brazil\", \"Colombia\", \"Germany\", \"India\", \"Italy\", \"Mexico\", \"Poland\", \"Russia\", \"Turkey\"], \"xaxis\": \"x\", \"y\": [614515, 4299659, 753953, 259722, 5427706, 229970, 633806, 71353, 966724, 282657], \"yaxis\": \"y\", \"type\": \"bar\"}], \"name\": \"10/2/20\"}, {\"data\": [{\"alignmentgroup\": \"True\", \"hovertemplate\": \"Date=10/5/20<br>Country=%{x}<br>Cases=%{y}<extra></extra>\", \"ids\": [\"Argentina\", \"Brazil\", \"Colombia\", \"Germany\", \"India\", \"Italy\", \"Mexico\", \"Poland\", \"Russia\", \"Turkey\"], \"legendgroup\": \"\", \"marker\": {\"color\": \"#42f587\"}, \"name\": \"\", \"offsetgroup\": \"\", \"orientation\": \"v\", \"showlegend\": false, \"textposition\": \"auto\", \"x\": [\"Argentina\", \"Brazil\", \"Colombia\", \"Germany\", \"India\", \"Italy\", \"Mexico\", \"Poland\", \"Russia\", \"Turkey\"], \"xaxis\": \"x\", \"y\": [649017, 4397882, 766300, 265624, 5662490, 232681, 670034, 73552, 978610, 286370], \"yaxis\": \"y\", \"type\": \"bar\"}], \"name\": \"10/5/20\"}, {\"data\": [{\"alignmentgroup\": \"True\", \"hovertemplate\": \"Date=10/10/20<br>Country=%{x}<br>Cases=%{y}<extra></extra>\", \"ids\": [\"Argentina\", \"Brazil\", \"Colombia\", \"Germany\", \"India\", \"Italy\", \"Mexico\", \"Poland\", \"Russia\", \"Turkey\"], \"legendgroup\": \"\", \"marker\": {\"color\": \"#42f587\"}, \"name\": \"\", \"offsetgroup\": \"\", \"orientation\": \"v\", \"showlegend\": false, \"textposition\": \"auto\", \"x\": [\"Argentina\", \"Brazil\", \"Colombia\", \"Germany\", \"India\", \"Italy\", \"Mexico\", \"Poland\", \"Russia\", \"Turkey\"], \"xaxis\": \"x\", \"y\": [709464, 4502854, 783131, 274934, 6077976, 238525, 689377, 78982, 1011911, 293145], \"yaxis\": \"y\", \"type\": \"bar\"}], \"name\": \"10/10/20\"}, {\"data\": [{\"alignmentgroup\": \"True\", \"hovertemplate\": \"Date=10/15/20<br>Country=%{x}<br>Cases=%{y}<extra></extra>\", \"ids\": [\"Argentina\", \"Brazil\", \"Colombia\", \"Germany\", \"India\", \"Italy\", \"Mexico\", \"Poland\", \"Russia\", \"Turkey\"], \"legendgroup\": \"\", \"marker\": {\"color\": \"#42f587\"}, \"name\": \"\", \"offsetgroup\": \"\", \"orientation\": \"v\", \"showlegend\": false, \"textposition\": \"auto\", \"x\": [\"Argentina\", \"Brazil\", \"Colombia\", \"Germany\", \"India\", \"Italy\", \"Mexico\", \"Poland\", \"Russia\", \"Turkey\"], \"xaxis\": \"x\", \"y\": [764859, 4526393, 826831, 286137, 6453779, 245964, 707631, 85588, 1043431, 299679], \"yaxis\": \"y\", \"type\": \"bar\"}], \"name\": \"10/15/20\"}, {\"data\": [{\"alignmentgroup\": \"True\", \"hovertemplate\": \"Date=10/24/20<br>Country=%{x}<br>Cases=%{y}<extra></extra>\", \"ids\": [\"Argentina\", \"Brazil\", \"Colombia\", \"Germany\", \"India\", \"Italy\", \"Mexico\", \"Poland\", \"Russia\", \"Turkey\"], \"legendgroup\": \"\", \"marker\": {\"color\": \"#42f587\"}, \"name\": \"\", \"offsetgroup\": \"\", \"orientation\": \"v\", \"showlegend\": false, \"textposition\": \"auto\", \"x\": [\"Argentina\", \"Brazil\", \"Colombia\", \"Germany\", \"India\", \"Italy\", \"Mexico\", \"Poland\", \"Russia\", \"Turkey\"], \"xaxis\": \"x\", \"y\": [881113, 4526393, 907379, 316124, 7078123, 264117, 746939, 109344, 1125155, 313093], \"yaxis\": \"y\", \"type\": \"bar\"}], \"name\": \"10/24/20\"}, {\"data\": [{\"alignmentgroup\": \"True\", \"hovertemplate\": \"Date=10/29/20<br>Country=%{x}<br>Cases=%{y}<extra></extra>\", \"ids\": [\"Argentina\", \"Brazil\", \"Colombia\", \"Germany\", \"India\", \"Italy\", \"Mexico\", \"Poland\", \"Russia\", \"Turkey\"], \"legendgroup\": \"\", \"marker\": {\"color\": \"#42f587\"}, \"name\": \"\", \"offsetgroup\": \"\", \"orientation\": \"v\", \"showlegend\": false, \"textposition\": \"auto\", \"x\": [\"Argentina\", \"Brazil\", \"Colombia\", \"Germany\", \"India\", \"Italy\", \"Mexico\", \"Poland\", \"Russia\", \"Turkey\"], \"xaxis\": \"x\", \"y\": [946134, 4962574, 950348, 340436, 7373375, 279282, 770007, 129267, 1179465, 320762], \"yaxis\": \"y\", \"type\": \"bar\"}], \"name\": \"10/29/20\"}, {\"data\": [{\"alignmentgroup\": \"True\", \"hovertemplate\": \"Date=11/1/20<br>Country=%{x}<br>Cases=%{y}<extra></extra>\", \"ids\": [\"Argentina\", \"Brazil\", \"Colombia\", \"Germany\", \"India\", \"Italy\", \"Mexico\", \"Poland\", \"Russia\", \"Turkey\"], \"legendgroup\": \"\", \"marker\": {\"color\": \"#42f587\"}, \"name\": \"\", \"offsetgroup\": \"\", \"orientation\": \"v\", \"showlegend\": false, \"textposition\": \"auto\", \"x\": [\"Argentina\", \"Brazil\", \"Colombia\", \"Germany\", \"India\", \"Italy\", \"Mexico\", \"Poland\", \"Russia\", \"Turkey\"], \"xaxis\": \"x\", \"y\": [985316, 5022338, 977804, 363545, 7544798, 292380, 786516, 146595, 1218619, 325486], \"yaxis\": \"y\", \"type\": \"bar\"}], \"name\": \"11/1/20\"}, {\"data\": [{\"alignmentgroup\": \"True\", \"hovertemplate\": \"Date=11/5/20<br>Country=%{x}<br>Cases=%{y}<extra></extra>\", \"ids\": [\"Argentina\", \"Brazil\", \"Colombia\", \"Germany\", \"India\", \"Italy\", \"Mexico\", \"Poland\", \"Russia\", \"Turkey\"], \"legendgroup\": \"\", \"marker\": {\"color\": \"#42f587\"}, \"name\": \"\", \"offsetgroup\": \"\", \"orientation\": \"v\", \"showlegend\": false, \"textposition\": \"auto\", \"x\": [\"Argentina\", \"Brazil\", \"Colombia\", \"Germany\", \"India\", \"Italy\", \"Mexico\", \"Poland\", \"Russia\", \"Turkey\"], \"xaxis\": \"x\", \"y\": [1030137, 5078162, 1011166, 394616, 7765966, 312339, 809063, 177681, 1271349, 332379], \"yaxis\": \"y\", \"type\": \"bar\"}], \"name\": \"11/5/20\"}, {\"data\": [{\"alignmentgroup\": \"True\", \"hovertemplate\": \"Date=11/14/20<br>Country=%{x}<br>Cases=%{y}<extra></extra>\", \"ids\": [\"Argentina\", \"Brazil\", \"Colombia\", \"Germany\", \"India\", \"Italy\", \"Mexico\", \"Poland\", \"Russia\", \"Turkey\"], \"legendgroup\": \"\", \"marker\": {\"color\": \"#42f587\"}, \"name\": \"\", \"offsetgroup\": \"\", \"orientation\": \"v\", \"showlegend\": false, \"textposition\": \"auto\", \"x\": [\"Argentina\", \"Brazil\", \"Colombia\", \"Germany\", \"India\", \"Italy\", \"Mexico\", \"Poland\", \"Russia\", \"Turkey\"], \"xaxis\": \"x\", \"y\": [1119366, 5279452, 1097576, 498996, 8205728, 411434, 745361, 282215, 1415213, 351102], \"yaxis\": \"y\", \"type\": \"bar\"}], \"name\": \"11/14/20\"}, {\"data\": [{\"alignmentgroup\": \"True\", \"hovertemplate\": \"Date=11/19/20<br>Country=%{x}<br>Cases=%{y}<extra></extra>\", \"ids\": [\"Argentina\", \"Brazil\", \"Colombia\", \"Germany\", \"India\", \"Italy\", \"Mexico\", \"Poland\", \"Russia\", \"Turkey\"], \"legendgroup\": \"\", \"marker\": {\"color\": \"#42f587\"}, \"name\": \"\", \"offsetgroup\": \"\", \"orientation\": \"v\", \"showlegend\": false, \"textposition\": \"auto\", \"x\": [\"Argentina\", \"Brazil\", \"Colombia\", \"Germany\", \"India\", \"Italy\", \"Mexico\", \"Poland\", \"Russia\", \"Turkey\"], \"xaxis\": \"x\", \"y\": [1167514, 5406066, 1132393, 570961, 8428409, 498987, 766361, 361886, 1514945, 364573], \"yaxis\": \"y\", \"type\": \"bar\"}], \"name\": \"11/19/20\"}, {\"data\": [{\"alignmentgroup\": \"True\", \"hovertemplate\": \"Date=11/23/20<br>Country=%{x}<br>Cases=%{y}<extra></extra>\", \"ids\": [\"Argentina\", \"Brazil\", \"Colombia\", \"Germany\", \"India\", \"Italy\", \"Mexico\", \"Poland\", \"Russia\", \"Turkey\"], \"legendgroup\": \"\", \"marker\": {\"color\": \"#42f587\"}, \"name\": \"\", \"offsetgroup\": \"\", \"orientation\": \"v\", \"showlegend\": false, \"textposition\": \"auto\", \"x\": [\"Argentina\", \"Brazil\", \"Colombia\", \"Germany\", \"India\", \"Italy\", \"Mexico\", \"Poland\", \"Russia\", \"Turkey\"], \"xaxis\": \"x\", \"y\": [1203800, 5481184, 1158897, 630375, 8604955, 584493, 784693, 438868, 1598723, 377891], \"yaxis\": \"y\", \"type\": \"bar\"}], \"name\": \"11/23/20\"}, {\"data\": [{\"alignmentgroup\": \"True\", \"hovertemplate\": \"Date=11/28/20<br>Country=%{x}<br>Cases=%{y}<extra></extra>\", \"ids\": [\"Argentina\", \"Brazil\", \"Colombia\", \"Germany\", \"India\", \"Italy\", \"Mexico\", \"Poland\", \"Russia\", \"Turkey\"], \"legendgroup\": \"\", \"marker\": {\"color\": \"#42f587\"}, \"name\": \"\", \"offsetgroup\": \"\", \"orientation\": \"v\", \"showlegend\": false, \"textposition\": \"auto\", \"x\": [\"Argentina\", \"Brazil\", \"Colombia\", \"Germany\", \"India\", \"Italy\", \"Mexico\", \"Poland\", \"Russia\", \"Turkey\"], \"xaxis\": \"x\", \"y\": [1242877, 5581436, 1197204, 718604, 8802267, 720861, 803581, 538273, 1724416, 396227], \"yaxis\": \"y\", \"type\": \"bar\"}], \"name\": \"11/28/20\"}, {\"data\": [{\"alignmentgroup\": \"True\", \"hovertemplate\": \"Date=12/1/20<br>Country=%{x}<br>Cases=%{y}<extra></extra>\", \"ids\": [\"Argentina\", \"Brazil\", \"Colombia\", \"Germany\", \"India\", \"Italy\", \"Mexico\", \"Poland\", \"Russia\", \"Turkey\"], \"legendgroup\": \"\", \"marker\": {\"color\": \"#42f587\"}, \"name\": \"\", \"offsetgroup\": \"\", \"orientation\": \"v\", \"showlegend\": false, \"textposition\": \"auto\", \"x\": [\"Argentina\", \"Brazil\", \"Colombia\", \"Germany\", \"India\", \"Italy\", \"Mexico\", \"Poland\", \"Russia\", \"Turkey\"], \"xaxis\": \"x\", \"y\": [1263251, 5712305, 1217647, 769380, 8932647, 784595, 829817, 597589, 1787962, 409320], \"yaxis\": \"y\", \"type\": \"bar\"}], \"name\": \"12/1/20\"}, {\"data\": [{\"alignmentgroup\": \"True\", \"hovertemplate\": \"Date=12/7/20<br>Country=%{x}<br>Cases=%{y}<extra></extra>\", \"ids\": [\"Argentina\", \"Brazil\", \"Colombia\", \"Germany\", \"India\", \"Italy\", \"Mexico\", \"Poland\", \"Russia\", \"Turkey\"], \"legendgroup\": \"\", \"marker\": {\"color\": \"#42f587\"}, \"name\": \"\", \"offsetgroup\": \"\", \"orientation\": \"v\", \"showlegend\": false, \"textposition\": \"auto\", \"x\": [\"Argentina\", \"Brazil\", \"Colombia\", \"Germany\", \"India\", \"Italy\", \"Mexico\", \"Poland\", \"Russia\", \"Turkey\"], \"xaxis\": \"x\", \"y\": [1300696, 5897526, 1267595, 888701, 9178946, 933132, 873555, 722446, 1939393, 436270], \"yaxis\": \"y\", \"type\": \"bar\"}], \"name\": \"12/7/20\"}, {\"data\": [{\"alignmentgroup\": \"True\", \"hovertemplate\": \"Date=12/14/20<br>Country=%{x}<br>Cases=%{y}<extra></extra>\", \"ids\": [\"Argentina\", \"Brazil\", \"Colombia\", \"Germany\", \"India\", \"Italy\", \"Mexico\", \"Poland\", \"Russia\", \"Turkey\"], \"legendgroup\": \"\", \"marker\": {\"color\": \"#42f587\"}, \"name\": \"\", \"offsetgroup\": \"\", \"orientation\": \"v\", \"showlegend\": false, \"textposition\": \"auto\", \"x\": [\"Argentina\", \"Brazil\", \"Colombia\", \"Germany\", \"India\", \"Italy\", \"Mexico\", \"Poland\", \"Russia\", \"Turkey\"], \"xaxis\": \"x\", \"y\": [1340120, 6158049, 1321469, 1012077, 9422636, 1115617, 927754, 869155, 2105414, 1631944], \"yaxis\": \"y\", \"type\": \"bar\"}], \"name\": \"12/14/20\"}, {\"data\": [{\"alignmentgroup\": \"True\", \"hovertemplate\": \"Date=12/19/20<br>Country=%{x}<br>Cases=%{y}<extra></extra>\", \"ids\": [\"Argentina\", \"Brazil\", \"Colombia\", \"Germany\", \"India\", \"Italy\", \"Mexico\", \"Poland\", \"Russia\", \"Turkey\"], \"legendgroup\": \"\", \"marker\": {\"color\": \"#42f587\"}, \"name\": \"\", \"offsetgroup\": \"\", \"orientation\": \"v\", \"showlegend\": false, \"textposition\": \"auto\", \"x\": [\"Argentina\", \"Brazil\", \"Colombia\", \"Germany\", \"India\", \"Italy\", \"Mexico\", \"Poland\", \"Russia\", \"Turkey\"], \"xaxis\": \"x\", \"y\": [1362617, 6388938, 1362543, 1107115, 9580402, 1249470, 971115, 927723, 2233060, 1779068], \"yaxis\": \"y\", \"type\": \"bar\"}], \"name\": \"12/19/20\"}, {\"data\": [{\"alignmentgroup\": \"True\", \"hovertemplate\": \"Date=12/23/20<br>Country=%{x}<br>Cases=%{y}<extra></extra>\", \"ids\": [\"Argentina\", \"Brazil\", \"Colombia\", \"Germany\", \"India\", \"Italy\", \"Mexico\", \"Poland\", \"Russia\", \"Turkey\"], \"legendgroup\": \"\", \"marker\": {\"color\": \"#42f587\"}, \"name\": \"\", \"offsetgroup\": \"\", \"orientation\": \"v\", \"showlegend\": false, \"textposition\": \"auto\", \"x\": [\"Argentina\", \"Brazil\", \"Colombia\", \"Germany\", \"India\", \"Italy\", \"Mexico\", \"Poland\", \"Russia\", \"Turkey\"], \"xaxis\": \"x\", \"y\": [1384277, 6512717, 1404168, 1197472, 9693173, 1322067, 1005248, 965178, 2321362, 1901307], \"yaxis\": \"y\", \"type\": \"bar\"}], \"name\": \"12/23/20\"}, {\"data\": [{\"alignmentgroup\": \"True\", \"hovertemplate\": \"Date=12/28/20<br>Country=%{x}<br>Cases=%{y}<extra></extra>\", \"ids\": [\"Argentina\", \"Brazil\", \"Colombia\", \"Germany\", \"India\", \"Italy\", \"Mexico\", \"Poland\", \"Russia\", \"Turkey\"], \"legendgroup\": \"\", \"marker\": {\"color\": \"#42f587\"}, \"name\": \"\", \"offsetgroup\": \"\", \"orientation\": \"v\", \"showlegend\": false, \"textposition\": \"auto\", \"x\": [\"Argentina\", \"Brazil\", \"Colombia\", \"Germany\", \"India\", \"Italy\", \"Mexico\", \"Poland\", \"Russia\", \"Turkey\"], \"xaxis\": \"x\", \"y\": [1414680, 6712757, 1469041, 1294932, 9807569, 1408686, 1048539, 1005376, 2446412, 2037433], \"yaxis\": \"y\", \"type\": \"bar\"}], \"name\": \"12/28/20\"}]);\n",
              "                        }).then(function(){\n",
              "                            \n",
              "var gd = document.getElementById('3e44ff8a-78e9-4781-8be1-4e8d636ce373');\n",
              "var x = new MutationObserver(function (mutations, observer) {{\n",
              "        var display = window.getComputedStyle(gd).display;\n",
              "        if (!display || display === 'none') {{\n",
              "            console.log([gd, 'removed!']);\n",
              "            Plotly.purge(gd);\n",
              "            observer.disconnect();\n",
              "        }}\n",
              "}});\n",
              "\n",
              "// Listen for the removal of the full notebook cells\n",
              "var notebookContainer = gd.closest('#notebook-container');\n",
              "if (notebookContainer) {{\n",
              "    x.observe(notebookContainer, {childList: true});\n",
              "}}\n",
              "\n",
              "// Listen for the clearing of the current output cell\n",
              "var outputEl = gd.closest('.output');\n",
              "if (outputEl) {{\n",
              "    x.observe(outputEl, {childList: true});\n",
              "}}\n",
              "\n",
              "                        })                };                            </script>        </div>\n",
              "</body>\n",
              "</html>"
            ]
          },
          "metadata": {
            "tags": []
          }
        }
      ]
    },
    {
      "cell_type": "markdown",
      "metadata": {
        "id": "fPkopmv2PxT0"
      },
      "source": [
        "## Comparison (User's Choice)"
      ]
    },
    {
      "cell_type": "markdown",
      "metadata": {
        "id": "1p4UDolkPxT0"
      },
      "source": [
        "### Code"
      ]
    },
    {
      "cell_type": "code",
      "metadata": {
        "id": "Z6m-q8i1PxT0"
      },
      "source": [
        "def compare(df,*args):\n",
        "  l = list(args)\n",
        "  temp = unpivot(df)\n",
        "  return temp[temp[\"country\"].isin(l)]"
      ],
      "execution_count": null,
      "outputs": []
    },
    {
      "cell_type": "code",
      "metadata": {
        "id": "Z1P0TWT7PxT1"
      },
      "source": [
        "def create_comparison_animation(df,name,*args):\n",
        "  df = compare(df,*args)\n",
        "  ff = create_data(df)\n",
        "  color = \"#f54842\" if name == \"deaths\"  else \"#45a2ff\" if name == \"confirmed\" else \"#42f587\" \n",
        "  return plot_fig(ff,color)"
      ],
      "execution_count": null,
      "outputs": []
    },
    {
      "cell_type": "markdown",
      "metadata": {
        "id": "EUIyygW5PxT1"
      },
      "source": [
        "### Examples"
      ]
    },
    {
      "cell_type": "markdown",
      "metadata": {
        "id": "fdRWC9DgPxT1"
      },
      "source": [
        "#### Confirmed Cases - India, US, Australia, Brazil"
      ]
    },
    {
      "cell_type": "code",
      "metadata": {
        "id": "WtHtxdCVPxT1",
        "colab": {
          "base_uri": "https://localhost:8080/",
          "height": 542
        },
        "outputId": "36dc422e-7d8e-4715-a07e-c4df9ecaafc9"
      },
      "source": [
        "create_comparison_animation(confirmed_global,\"confirmed\",\"India\",\"US\",\"Australia\",\"Brazil\")"
      ],
      "execution_count": null,
      "outputs": [
        {
          "output_type": "display_data",
          "data": {
            "text/html": [
              "<html>\n",
              "<head><meta charset=\"utf-8\" /></head>\n",
              "<body>\n",
              "    <div>            <script src=\"https://cdnjs.cloudflare.com/ajax/libs/mathjax/2.7.5/MathJax.js?config=TeX-AMS-MML_SVG\"></script><script type=\"text/javascript\">if (window.MathJax) {MathJax.Hub.Config({SVG: {font: \"STIX-Web\"}});}</script>                <script type=\"text/javascript\">window.PlotlyConfig = {MathJaxConfig: 'local'};</script>\n",
              "        <script src=\"https://cdn.plot.ly/plotly-latest.min.js\"></script>                <div id=\"99a212f6-9617-4450-9087-adf83e1609aa\" class=\"plotly-graph-div\" style=\"height:525px; width:100%;\"></div>            <script type=\"text/javascript\">                                    window.PLOTLYENV=window.PLOTLYENV || {};                                    if (document.getElementById(\"99a212f6-9617-4450-9087-adf83e1609aa\")) {                    Plotly.newPlot(                        \"99a212f6-9617-4450-9087-adf83e1609aa\",                        [{\"alignmentgroup\": \"True\", \"hovertemplate\": \"Date=1/23/20<br>Country=%{x}<br>Cases=%{y}<extra></extra>\", \"ids\": [\"Australia\", \"Brazil\", \"India\", \"US\"], \"legendgroup\": \"\", \"marker\": {\"color\": \"#45a2ff\"}, \"name\": \"\", \"offsetgroup\": \"\", \"orientation\": \"v\", \"showlegend\": false, \"textposition\": \"auto\", \"type\": \"bar\", \"x\": [\"Australia\", \"Brazil\", \"India\", \"US\"], \"xaxis\": \"x\", \"y\": [0, 0, 0, 1], \"yaxis\": \"y\"}],                        {\"barmode\": \"relative\", \"legend\": {\"tracegroupgap\": 0}, \"margin\": {\"t\": 60}, \"showlegend\": false, \"sliders\": [{\"active\": 0, \"currentvalue\": {\"prefix\": \"Date=\"}, \"len\": 0.9, \"pad\": {\"b\": 10, \"t\": 60}, \"steps\": [{\"args\": [[\"1/23/20\"], {\"frame\": {\"duration\": 0, \"redraw\": true}, \"fromcurrent\": true, \"mode\": \"immediate\", \"transition\": {\"duration\": 0, \"easing\": \"linear\"}}], \"label\": \"1/23/20\", \"method\": \"animate\"}, {\"args\": [[\"1/28/20\"], {\"frame\": {\"duration\": 0, \"redraw\": true}, \"fromcurrent\": true, \"mode\": \"immediate\", \"transition\": {\"duration\": 0, \"easing\": \"linear\"}}], \"label\": \"1/28/20\", \"method\": \"animate\"}, {\"args\": [[\"2/3/20\"], {\"frame\": {\"duration\": 0, \"redraw\": true}, \"fromcurrent\": true, \"mode\": \"immediate\", \"transition\": {\"duration\": 0, \"easing\": \"linear\"}}], \"label\": \"2/3/20\", \"method\": \"animate\"}, {\"args\": [[\"2/8/20\"], {\"frame\": {\"duration\": 0, \"redraw\": true}, \"fromcurrent\": true, \"mode\": \"immediate\", \"transition\": {\"duration\": 0, \"easing\": \"linear\"}}], \"label\": \"2/8/20\", \"method\": \"animate\"}, {\"args\": [[\"2/11/20\"], {\"frame\": {\"duration\": 0, \"redraw\": true}, \"fromcurrent\": true, \"mode\": \"immediate\", \"transition\": {\"duration\": 0, \"easing\": \"linear\"}}], \"label\": \"2/11/20\", \"method\": \"animate\"}, {\"args\": [[\"2/16/20\"], {\"frame\": {\"duration\": 0, \"redraw\": true}, \"fromcurrent\": true, \"mode\": \"immediate\", \"transition\": {\"duration\": 0, \"easing\": \"linear\"}}], \"label\": \"2/16/20\", \"method\": \"animate\"}, {\"args\": [[\"2/20/20\"], {\"frame\": {\"duration\": 0, \"redraw\": true}, \"fromcurrent\": true, \"mode\": \"immediate\", \"transition\": {\"duration\": 0, \"easing\": \"linear\"}}], \"label\": \"2/20/20\", \"method\": \"animate\"}, {\"args\": [[\"2/25/20\"], {\"frame\": {\"duration\": 0, \"redraw\": true}, \"fromcurrent\": true, \"mode\": \"immediate\", \"transition\": {\"duration\": 0, \"easing\": \"linear\"}}], \"label\": \"2/25/20\", \"method\": \"animate\"}, {\"args\": [[\"3/7/20\"], {\"frame\": {\"duration\": 0, \"redraw\": true}, \"fromcurrent\": true, \"mode\": \"immediate\", \"transition\": {\"duration\": 0, \"easing\": \"linear\"}}], \"label\": \"3/7/20\", \"method\": \"animate\"}, {\"args\": [[\"3/12/20\"], {\"frame\": {\"duration\": 0, \"redraw\": true}, \"fromcurrent\": true, \"mode\": \"immediate\", \"transition\": {\"duration\": 0, \"easing\": \"linear\"}}], \"label\": \"3/12/20\", \"method\": \"animate\"}, {\"args\": [[\"3/17/20\"], {\"frame\": {\"duration\": 0, \"redraw\": true}, \"fromcurrent\": true, \"mode\": \"immediate\", \"transition\": {\"duration\": 0, \"easing\": \"linear\"}}], \"label\": \"3/17/20\", \"method\": \"animate\"}, {\"args\": [[\"3/21/20\"], {\"frame\": {\"duration\": 0, \"redraw\": true}, \"fromcurrent\": true, \"mode\": \"immediate\", \"transition\": {\"duration\": 0, \"easing\": \"linear\"}}], \"label\": \"3/21/20\", \"method\": \"animate\"}, {\"args\": [[\"3/26/20\"], {\"frame\": {\"duration\": 0, \"redraw\": true}, \"fromcurrent\": true, \"mode\": \"immediate\", \"transition\": {\"duration\": 0, \"easing\": \"linear\"}}], \"label\": \"3/26/20\", \"method\": \"animate\"}, {\"args\": [[\"3/30/20\"], {\"frame\": {\"duration\": 0, \"redraw\": true}, \"fromcurrent\": true, \"mode\": \"immediate\", \"transition\": {\"duration\": 0, \"easing\": \"linear\"}}], \"label\": \"3/30/20\", \"method\": \"animate\"}, {\"args\": [[\"4/3/20\"], {\"frame\": {\"duration\": 0, \"redraw\": true}, \"fromcurrent\": true, \"mode\": \"immediate\", \"transition\": {\"duration\": 0, \"easing\": \"linear\"}}], \"label\": \"4/3/20\", \"method\": \"animate\"}, {\"args\": [[\"4/7/20\"], {\"frame\": {\"duration\": 0, \"redraw\": true}, \"fromcurrent\": true, \"mode\": \"immediate\", \"transition\": {\"duration\": 0, \"easing\": \"linear\"}}], \"label\": \"4/7/20\", \"method\": \"animate\"}, {\"args\": [[\"4/11/20\"], {\"frame\": {\"duration\": 0, \"redraw\": true}, \"fromcurrent\": true, \"mode\": \"immediate\", \"transition\": {\"duration\": 0, \"easing\": \"linear\"}}], \"label\": \"4/11/20\", \"method\": \"animate\"}, {\"args\": [[\"4/16/20\"], {\"frame\": {\"duration\": 0, \"redraw\": true}, \"fromcurrent\": true, \"mode\": \"immediate\", \"transition\": {\"duration\": 0, \"easing\": \"linear\"}}], \"label\": \"4/16/20\", \"method\": \"animate\"}, {\"args\": [[\"4/20/20\"], {\"frame\": {\"duration\": 0, \"redraw\": true}, \"fromcurrent\": true, \"mode\": \"immediate\", \"transition\": {\"duration\": 0, \"easing\": \"linear\"}}], \"label\": \"4/20/20\", \"method\": \"animate\"}, {\"args\": [[\"4/25/20\"], {\"frame\": {\"duration\": 0, \"redraw\": true}, \"fromcurrent\": true, \"mode\": \"immediate\", \"transition\": {\"duration\": 0, \"easing\": \"linear\"}}], \"label\": \"4/25/20\", \"method\": \"animate\"}, {\"args\": [[\"5/3/20\"], {\"frame\": {\"duration\": 0, \"redraw\": true}, \"fromcurrent\": true, \"mode\": \"immediate\", \"transition\": {\"duration\": 0, \"easing\": \"linear\"}}], \"label\": \"5/3/20\", \"method\": \"animate\"}, {\"args\": [[\"5/6/20\"], {\"frame\": {\"duration\": 0, \"redraw\": true}, \"fromcurrent\": true, \"mode\": \"immediate\", \"transition\": {\"duration\": 0, \"easing\": \"linear\"}}], \"label\": \"5/6/20\", \"method\": \"animate\"}, {\"args\": [[\"5/11/20\"], {\"frame\": {\"duration\": 0, \"redraw\": true}, \"fromcurrent\": true, \"mode\": \"immediate\", \"transition\": {\"duration\": 0, \"easing\": \"linear\"}}], \"label\": \"5/11/20\", \"method\": \"animate\"}, {\"args\": [[\"5/16/20\"], {\"frame\": {\"duration\": 0, \"redraw\": true}, \"fromcurrent\": true, \"mode\": \"immediate\", \"transition\": {\"duration\": 0, \"easing\": \"linear\"}}], \"label\": \"5/16/20\", \"method\": \"animate\"}, {\"args\": [[\"5/20/20\"], {\"frame\": {\"duration\": 0, \"redraw\": true}, \"fromcurrent\": true, \"mode\": \"immediate\", \"transition\": {\"duration\": 0, \"easing\": \"linear\"}}], \"label\": \"5/20/20\", \"method\": \"animate\"}, {\"args\": [[\"5/25/20\"], {\"frame\": {\"duration\": 0, \"redraw\": true}, \"fromcurrent\": true, \"mode\": \"immediate\", \"transition\": {\"duration\": 0, \"easing\": \"linear\"}}], \"label\": \"5/25/20\", \"method\": \"animate\"}, {\"args\": [[\"6/2/20\"], {\"frame\": {\"duration\": 0, \"redraw\": true}, \"fromcurrent\": true, \"mode\": \"immediate\", \"transition\": {\"duration\": 0, \"easing\": \"linear\"}}], \"label\": \"6/2/20\", \"method\": \"animate\"}, {\"args\": [[\"6/6/20\"], {\"frame\": {\"duration\": 0, \"redraw\": true}, \"fromcurrent\": true, \"mode\": \"immediate\", \"transition\": {\"duration\": 0, \"easing\": \"linear\"}}], \"label\": \"6/6/20\", \"method\": \"animate\"}, {\"args\": [[\"6/10/20\"], {\"frame\": {\"duration\": 0, \"redraw\": true}, \"fromcurrent\": true, \"mode\": \"immediate\", \"transition\": {\"duration\": 0, \"easing\": \"linear\"}}], \"label\": \"6/10/20\", \"method\": \"animate\"}, {\"args\": [[\"6/15/20\"], {\"frame\": {\"duration\": 0, \"redraw\": true}, \"fromcurrent\": true, \"mode\": \"immediate\", \"transition\": {\"duration\": 0, \"easing\": \"linear\"}}], \"label\": \"6/15/20\", \"method\": \"animate\"}, {\"args\": [[\"6/24/20\"], {\"frame\": {\"duration\": 0, \"redraw\": true}, \"fromcurrent\": true, \"mode\": \"immediate\", \"transition\": {\"duration\": 0, \"easing\": \"linear\"}}], \"label\": \"6/24/20\", \"method\": \"animate\"}, {\"args\": [[\"6/29/20\"], {\"frame\": {\"duration\": 0, \"redraw\": true}, \"fromcurrent\": true, \"mode\": \"immediate\", \"transition\": {\"duration\": 0, \"easing\": \"linear\"}}], \"label\": \"6/29/20\", \"method\": \"animate\"}, {\"args\": [[\"7/2/20\"], {\"frame\": {\"duration\": 0, \"redraw\": true}, \"fromcurrent\": true, \"mode\": \"immediate\", \"transition\": {\"duration\": 0, \"easing\": \"linear\"}}], \"label\": \"7/2/20\", \"method\": \"animate\"}, {\"args\": [[\"7/5/20\"], {\"frame\": {\"duration\": 0, \"redraw\": true}, \"fromcurrent\": true, \"mode\": \"immediate\", \"transition\": {\"duration\": 0, \"easing\": \"linear\"}}], \"label\": \"7/5/20\", \"method\": \"animate\"}, {\"args\": [[\"7/10/20\"], {\"frame\": {\"duration\": 0, \"redraw\": true}, \"fromcurrent\": true, \"mode\": \"immediate\", \"transition\": {\"duration\": 0, \"easing\": \"linear\"}}], \"label\": \"7/10/20\", \"method\": \"animate\"}, {\"args\": [[\"7/15/20\"], {\"frame\": {\"duration\": 0, \"redraw\": true}, \"fromcurrent\": true, \"mode\": \"immediate\", \"transition\": {\"duration\": 0, \"easing\": \"linear\"}}], \"label\": \"7/15/20\", \"method\": \"animate\"}, {\"args\": [[\"7/24/20\"], {\"frame\": {\"duration\": 0, \"redraw\": true}, \"fromcurrent\": true, \"mode\": \"immediate\", \"transition\": {\"duration\": 0, \"easing\": \"linear\"}}], \"label\": \"7/24/20\", \"method\": \"animate\"}, {\"args\": [[\"7/29/20\"], {\"frame\": {\"duration\": 0, \"redraw\": true}, \"fromcurrent\": true, \"mode\": \"immediate\", \"transition\": {\"duration\": 0, \"easing\": \"linear\"}}], \"label\": \"7/29/20\", \"method\": \"animate\"}, {\"args\": [[\"8/1/20\"], {\"frame\": {\"duration\": 0, \"redraw\": true}, \"fromcurrent\": true, \"mode\": \"immediate\", \"transition\": {\"duration\": 0, \"easing\": \"linear\"}}], \"label\": \"8/1/20\", \"method\": \"animate\"}, {\"args\": [[\"8/4/20\"], {\"frame\": {\"duration\": 0, \"redraw\": true}, \"fromcurrent\": true, \"mode\": \"immediate\", \"transition\": {\"duration\": 0, \"easing\": \"linear\"}}], \"label\": \"8/4/20\", \"method\": \"animate\"}, {\"args\": [[\"8/9/20\"], {\"frame\": {\"duration\": 0, \"redraw\": true}, \"fromcurrent\": true, \"mode\": \"immediate\", \"transition\": {\"duration\": 0, \"easing\": \"linear\"}}], \"label\": \"8/9/20\", \"method\": \"animate\"}, {\"args\": [[\"8/14/20\"], {\"frame\": {\"duration\": 0, \"redraw\": true}, \"fromcurrent\": true, \"mode\": \"immediate\", \"transition\": {\"duration\": 0, \"easing\": \"linear\"}}], \"label\": \"8/14/20\", \"method\": \"animate\"}, {\"args\": [[\"8/19/20\"], {\"frame\": {\"duration\": 0, \"redraw\": true}, \"fromcurrent\": true, \"mode\": \"immediate\", \"transition\": {\"duration\": 0, \"easing\": \"linear\"}}], \"label\": \"8/19/20\", \"method\": \"animate\"}, {\"args\": [[\"8/23/20\"], {\"frame\": {\"duration\": 0, \"redraw\": true}, \"fromcurrent\": true, \"mode\": \"immediate\", \"transition\": {\"duration\": 0, \"easing\": \"linear\"}}], \"label\": \"8/23/20\", \"method\": \"animate\"}, {\"args\": [[\"8/28/20\"], {\"frame\": {\"duration\": 0, \"redraw\": true}, \"fromcurrent\": true, \"mode\": \"immediate\", \"transition\": {\"duration\": 0, \"easing\": \"linear\"}}], \"label\": \"8/28/20\", \"method\": \"animate\"}, {\"args\": [[\"9/4/20\"], {\"frame\": {\"duration\": 0, \"redraw\": true}, \"fromcurrent\": true, \"mode\": \"immediate\", \"transition\": {\"duration\": 0, \"easing\": \"linear\"}}], \"label\": \"9/4/20\", \"method\": \"animate\"}, {\"args\": [[\"9/9/20\"], {\"frame\": {\"duration\": 0, \"redraw\": true}, \"fromcurrent\": true, \"mode\": \"immediate\", \"transition\": {\"duration\": 0, \"easing\": \"linear\"}}], \"label\": \"9/9/20\", \"method\": \"animate\"}, {\"args\": [[\"9/13/20\"], {\"frame\": {\"duration\": 0, \"redraw\": true}, \"fromcurrent\": true, \"mode\": \"immediate\", \"transition\": {\"duration\": 0, \"easing\": \"linear\"}}], \"label\": \"9/13/20\", \"method\": \"animate\"}, {\"args\": [[\"9/18/20\"], {\"frame\": {\"duration\": 0, \"redraw\": true}, \"fromcurrent\": true, \"mode\": \"immediate\", \"transition\": {\"duration\": 0, \"easing\": \"linear\"}}], \"label\": \"9/18/20\", \"method\": \"animate\"}, {\"args\": [[\"9/22/20\"], {\"frame\": {\"duration\": 0, \"redraw\": true}, \"fromcurrent\": true, \"mode\": \"immediate\", \"transition\": {\"duration\": 0, \"easing\": \"linear\"}}], \"label\": \"9/22/20\", \"method\": \"animate\"}, {\"args\": [[\"9/27/20\"], {\"frame\": {\"duration\": 0, \"redraw\": true}, \"fromcurrent\": true, \"mode\": \"immediate\", \"transition\": {\"duration\": 0, \"easing\": \"linear\"}}], \"label\": \"9/27/20\", \"method\": \"animate\"}, {\"args\": [[\"10/2/20\"], {\"frame\": {\"duration\": 0, \"redraw\": true}, \"fromcurrent\": true, \"mode\": \"immediate\", \"transition\": {\"duration\": 0, \"easing\": \"linear\"}}], \"label\": \"10/2/20\", \"method\": \"animate\"}, {\"args\": [[\"10/5/20\"], {\"frame\": {\"duration\": 0, \"redraw\": true}, \"fromcurrent\": true, \"mode\": \"immediate\", \"transition\": {\"duration\": 0, \"easing\": \"linear\"}}], \"label\": \"10/5/20\", \"method\": \"animate\"}, {\"args\": [[\"10/10/20\"], {\"frame\": {\"duration\": 0, \"redraw\": true}, \"fromcurrent\": true, \"mode\": \"immediate\", \"transition\": {\"duration\": 0, \"easing\": \"linear\"}}], \"label\": \"10/10/20\", \"method\": \"animate\"}, {\"args\": [[\"10/15/20\"], {\"frame\": {\"duration\": 0, \"redraw\": true}, \"fromcurrent\": true, \"mode\": \"immediate\", \"transition\": {\"duration\": 0, \"easing\": \"linear\"}}], \"label\": \"10/15/20\", \"method\": \"animate\"}, {\"args\": [[\"10/24/20\"], {\"frame\": {\"duration\": 0, \"redraw\": true}, \"fromcurrent\": true, \"mode\": \"immediate\", \"transition\": {\"duration\": 0, \"easing\": \"linear\"}}], \"label\": \"10/24/20\", \"method\": \"animate\"}, {\"args\": [[\"10/29/20\"], {\"frame\": {\"duration\": 0, \"redraw\": true}, \"fromcurrent\": true, \"mode\": \"immediate\", \"transition\": {\"duration\": 0, \"easing\": \"linear\"}}], \"label\": \"10/29/20\", \"method\": \"animate\"}, {\"args\": [[\"11/1/20\"], {\"frame\": {\"duration\": 0, \"redraw\": true}, \"fromcurrent\": true, \"mode\": \"immediate\", \"transition\": {\"duration\": 0, \"easing\": \"linear\"}}], \"label\": \"11/1/20\", \"method\": \"animate\"}, {\"args\": [[\"11/5/20\"], {\"frame\": {\"duration\": 0, \"redraw\": true}, \"fromcurrent\": true, \"mode\": \"immediate\", \"transition\": {\"duration\": 0, \"easing\": \"linear\"}}], \"label\": \"11/5/20\", \"method\": \"animate\"}, {\"args\": [[\"11/14/20\"], {\"frame\": {\"duration\": 0, \"redraw\": true}, \"fromcurrent\": true, \"mode\": \"immediate\", \"transition\": {\"duration\": 0, \"easing\": \"linear\"}}], \"label\": \"11/14/20\", \"method\": \"animate\"}, {\"args\": [[\"11/19/20\"], {\"frame\": {\"duration\": 0, \"redraw\": true}, \"fromcurrent\": true, \"mode\": \"immediate\", \"transition\": {\"duration\": 0, \"easing\": \"linear\"}}], \"label\": \"11/19/20\", \"method\": \"animate\"}, {\"args\": [[\"11/23/20\"], {\"frame\": {\"duration\": 0, \"redraw\": true}, \"fromcurrent\": true, \"mode\": \"immediate\", \"transition\": {\"duration\": 0, \"easing\": \"linear\"}}], \"label\": \"11/23/20\", \"method\": \"animate\"}, {\"args\": [[\"11/28/20\"], {\"frame\": {\"duration\": 0, \"redraw\": true}, \"fromcurrent\": true, \"mode\": \"immediate\", \"transition\": {\"duration\": 0, \"easing\": \"linear\"}}], \"label\": \"11/28/20\", \"method\": \"animate\"}, {\"args\": [[\"12/1/20\"], {\"frame\": {\"duration\": 0, \"redraw\": true}, \"fromcurrent\": true, \"mode\": \"immediate\", \"transition\": {\"duration\": 0, \"easing\": \"linear\"}}], \"label\": \"12/1/20\", \"method\": \"animate\"}, {\"args\": [[\"12/7/20\"], {\"frame\": {\"duration\": 0, \"redraw\": true}, \"fromcurrent\": true, \"mode\": \"immediate\", \"transition\": {\"duration\": 0, \"easing\": \"linear\"}}], \"label\": \"12/7/20\", \"method\": \"animate\"}, {\"args\": [[\"12/14/20\"], {\"frame\": {\"duration\": 0, \"redraw\": true}, \"fromcurrent\": true, \"mode\": \"immediate\", \"transition\": {\"duration\": 0, \"easing\": \"linear\"}}], \"label\": \"12/14/20\", \"method\": \"animate\"}, {\"args\": [[\"12/19/20\"], {\"frame\": {\"duration\": 0, \"redraw\": true}, \"fromcurrent\": true, \"mode\": \"immediate\", \"transition\": {\"duration\": 0, \"easing\": \"linear\"}}], \"label\": \"12/19/20\", \"method\": \"animate\"}, {\"args\": [[\"12/23/20\"], {\"frame\": {\"duration\": 0, \"redraw\": true}, \"fromcurrent\": true, \"mode\": \"immediate\", \"transition\": {\"duration\": 0, \"easing\": \"linear\"}}], \"label\": \"12/23/20\", \"method\": \"animate\"}, {\"args\": [[\"12/28/20\"], {\"frame\": {\"duration\": 0, \"redraw\": true}, \"fromcurrent\": true, \"mode\": \"immediate\", \"transition\": {\"duration\": 0, \"easing\": \"linear\"}}], \"label\": \"12/28/20\", \"method\": \"animate\"}], \"x\": 0.1, \"xanchor\": \"left\", \"y\": 0, \"yanchor\": \"top\"}], \"template\": {\"data\": {\"bar\": [{\"error_x\": {\"color\": \"#f2f5fa\"}, \"error_y\": {\"color\": \"#f2f5fa\"}, \"marker\": {\"line\": {\"color\": \"rgb(17,17,17)\", \"width\": 0.5}}, \"type\": \"bar\"}], \"barpolar\": [{\"marker\": {\"line\": {\"color\": \"rgb(17,17,17)\", \"width\": 0.5}}, \"type\": \"barpolar\"}], \"carpet\": [{\"aaxis\": {\"endlinecolor\": \"#A2B1C6\", \"gridcolor\": \"#506784\", \"linecolor\": \"#506784\", \"minorgridcolor\": \"#506784\", \"startlinecolor\": \"#A2B1C6\"}, \"baxis\": {\"endlinecolor\": \"#A2B1C6\", \"gridcolor\": \"#506784\", \"linecolor\": \"#506784\", \"minorgridcolor\": \"#506784\", \"startlinecolor\": \"#A2B1C6\"}, \"type\": \"carpet\"}], \"choropleth\": [{\"colorbar\": {\"outlinewidth\": 0, \"ticks\": \"\"}, \"type\": \"choropleth\"}], \"contour\": [{\"colorbar\": {\"outlinewidth\": 0, \"ticks\": \"\"}, \"colorscale\": [[0.0, \"#0d0887\"], [0.1111111111111111, \"#46039f\"], [0.2222222222222222, \"#7201a8\"], [0.3333333333333333, \"#9c179e\"], [0.4444444444444444, \"#bd3786\"], [0.5555555555555556, \"#d8576b\"], [0.6666666666666666, \"#ed7953\"], [0.7777777777777778, \"#fb9f3a\"], [0.8888888888888888, \"#fdca26\"], [1.0, \"#f0f921\"]], \"type\": \"contour\"}], \"contourcarpet\": [{\"colorbar\": {\"outlinewidth\": 0, \"ticks\": \"\"}, \"type\": \"contourcarpet\"}], \"heatmap\": [{\"colorbar\": {\"outlinewidth\": 0, \"ticks\": \"\"}, \"colorscale\": [[0.0, \"#0d0887\"], [0.1111111111111111, \"#46039f\"], [0.2222222222222222, \"#7201a8\"], [0.3333333333333333, \"#9c179e\"], [0.4444444444444444, \"#bd3786\"], [0.5555555555555556, \"#d8576b\"], [0.6666666666666666, \"#ed7953\"], [0.7777777777777778, \"#fb9f3a\"], [0.8888888888888888, \"#fdca26\"], [1.0, \"#f0f921\"]], \"type\": \"heatmap\"}], \"heatmapgl\": [{\"colorbar\": {\"outlinewidth\": 0, \"ticks\": \"\"}, \"colorscale\": [[0.0, \"#0d0887\"], [0.1111111111111111, \"#46039f\"], [0.2222222222222222, \"#7201a8\"], [0.3333333333333333, \"#9c179e\"], [0.4444444444444444, \"#bd3786\"], [0.5555555555555556, \"#d8576b\"], [0.6666666666666666, \"#ed7953\"], [0.7777777777777778, \"#fb9f3a\"], [0.8888888888888888, \"#fdca26\"], [1.0, \"#f0f921\"]], \"type\": \"heatmapgl\"}], \"histogram\": [{\"marker\": {\"colorbar\": {\"outlinewidth\": 0, \"ticks\": \"\"}}, \"type\": \"histogram\"}], \"histogram2d\": [{\"colorbar\": {\"outlinewidth\": 0, \"ticks\": \"\"}, \"colorscale\": [[0.0, \"#0d0887\"], [0.1111111111111111, \"#46039f\"], [0.2222222222222222, \"#7201a8\"], [0.3333333333333333, \"#9c179e\"], [0.4444444444444444, \"#bd3786\"], [0.5555555555555556, \"#d8576b\"], [0.6666666666666666, \"#ed7953\"], [0.7777777777777778, \"#fb9f3a\"], [0.8888888888888888, \"#fdca26\"], [1.0, \"#f0f921\"]], \"type\": \"histogram2d\"}], \"histogram2dcontour\": [{\"colorbar\": {\"outlinewidth\": 0, \"ticks\": \"\"}, \"colorscale\": [[0.0, \"#0d0887\"], [0.1111111111111111, \"#46039f\"], [0.2222222222222222, \"#7201a8\"], [0.3333333333333333, \"#9c179e\"], [0.4444444444444444, \"#bd3786\"], [0.5555555555555556, \"#d8576b\"], [0.6666666666666666, \"#ed7953\"], [0.7777777777777778, \"#fb9f3a\"], [0.8888888888888888, \"#fdca26\"], [1.0, \"#f0f921\"]], \"type\": \"histogram2dcontour\"}], \"mesh3d\": [{\"colorbar\": {\"outlinewidth\": 0, \"ticks\": \"\"}, \"type\": \"mesh3d\"}], \"parcoords\": [{\"line\": {\"colorbar\": {\"outlinewidth\": 0, \"ticks\": \"\"}}, \"type\": \"parcoords\"}], \"pie\": [{\"automargin\": true, \"type\": \"pie\"}], \"scatter\": [{\"marker\": {\"line\": {\"color\": \"#283442\"}}, \"type\": \"scatter\"}], \"scatter3d\": [{\"line\": {\"colorbar\": {\"outlinewidth\": 0, \"ticks\": \"\"}}, \"marker\": {\"colorbar\": {\"outlinewidth\": 0, \"ticks\": \"\"}}, \"type\": \"scatter3d\"}], \"scattercarpet\": [{\"marker\": {\"colorbar\": {\"outlinewidth\": 0, \"ticks\": \"\"}}, \"type\": \"scattercarpet\"}], \"scattergeo\": [{\"marker\": {\"colorbar\": {\"outlinewidth\": 0, \"ticks\": \"\"}}, \"type\": \"scattergeo\"}], \"scattergl\": [{\"marker\": {\"line\": {\"color\": \"#283442\"}}, \"type\": \"scattergl\"}], \"scattermapbox\": [{\"marker\": {\"colorbar\": {\"outlinewidth\": 0, \"ticks\": \"\"}}, \"type\": \"scattermapbox\"}], \"scatterpolar\": [{\"marker\": {\"colorbar\": {\"outlinewidth\": 0, \"ticks\": \"\"}}, \"type\": \"scatterpolar\"}], \"scatterpolargl\": [{\"marker\": {\"colorbar\": {\"outlinewidth\": 0, \"ticks\": \"\"}}, \"type\": \"scatterpolargl\"}], \"scatterternary\": [{\"marker\": {\"colorbar\": {\"outlinewidth\": 0, \"ticks\": \"\"}}, \"type\": \"scatterternary\"}], \"surface\": [{\"colorbar\": {\"outlinewidth\": 0, \"ticks\": \"\"}, \"colorscale\": [[0.0, \"#0d0887\"], [0.1111111111111111, \"#46039f\"], [0.2222222222222222, \"#7201a8\"], [0.3333333333333333, \"#9c179e\"], [0.4444444444444444, \"#bd3786\"], [0.5555555555555556, \"#d8576b\"], [0.6666666666666666, \"#ed7953\"], [0.7777777777777778, \"#fb9f3a\"], [0.8888888888888888, \"#fdca26\"], [1.0, \"#f0f921\"]], \"type\": \"surface\"}], \"table\": [{\"cells\": {\"fill\": {\"color\": \"#506784\"}, \"line\": {\"color\": \"rgb(17,17,17)\"}}, \"header\": {\"fill\": {\"color\": \"#2a3f5f\"}, \"line\": {\"color\": \"rgb(17,17,17)\"}}, \"type\": \"table\"}]}, \"layout\": {\"annotationdefaults\": {\"arrowcolor\": \"#f2f5fa\", \"arrowhead\": 0, \"arrowwidth\": 1}, \"autotypenumbers\": \"strict\", \"coloraxis\": {\"colorbar\": {\"outlinewidth\": 0, \"ticks\": \"\"}}, \"colorscale\": {\"diverging\": [[0, \"#8e0152\"], [0.1, \"#c51b7d\"], [0.2, \"#de77ae\"], [0.3, \"#f1b6da\"], [0.4, \"#fde0ef\"], [0.5, \"#f7f7f7\"], [0.6, \"#e6f5d0\"], [0.7, \"#b8e186\"], [0.8, \"#7fbc41\"], [0.9, \"#4d9221\"], [1, \"#276419\"]], \"sequential\": [[0.0, \"#0d0887\"], [0.1111111111111111, \"#46039f\"], [0.2222222222222222, \"#7201a8\"], [0.3333333333333333, \"#9c179e\"], [0.4444444444444444, \"#bd3786\"], [0.5555555555555556, \"#d8576b\"], [0.6666666666666666, \"#ed7953\"], [0.7777777777777778, \"#fb9f3a\"], [0.8888888888888888, \"#fdca26\"], [1.0, \"#f0f921\"]], \"sequentialminus\": [[0.0, \"#0d0887\"], [0.1111111111111111, \"#46039f\"], [0.2222222222222222, \"#7201a8\"], [0.3333333333333333, \"#9c179e\"], [0.4444444444444444, \"#bd3786\"], [0.5555555555555556, \"#d8576b\"], [0.6666666666666666, \"#ed7953\"], [0.7777777777777778, \"#fb9f3a\"], [0.8888888888888888, \"#fdca26\"], [1.0, \"#f0f921\"]]}, \"colorway\": [\"#636efa\", \"#EF553B\", \"#00cc96\", \"#ab63fa\", \"#FFA15A\", \"#19d3f3\", \"#FF6692\", \"#B6E880\", \"#FF97FF\", \"#FECB52\"], \"font\": {\"color\": \"#f2f5fa\"}, \"geo\": {\"bgcolor\": \"rgb(17,17,17)\", \"lakecolor\": \"rgb(17,17,17)\", \"landcolor\": \"rgb(17,17,17)\", \"showlakes\": true, \"showland\": true, \"subunitcolor\": \"#506784\"}, \"hoverlabel\": {\"align\": \"left\"}, \"hovermode\": \"closest\", \"mapbox\": {\"style\": \"dark\"}, \"paper_bgcolor\": \"rgb(17,17,17)\", \"plot_bgcolor\": \"rgb(17,17,17)\", \"polar\": {\"angularaxis\": {\"gridcolor\": \"#506784\", \"linecolor\": \"#506784\", \"ticks\": \"\"}, \"bgcolor\": \"rgb(17,17,17)\", \"radialaxis\": {\"gridcolor\": \"#506784\", \"linecolor\": \"#506784\", \"ticks\": \"\"}}, \"scene\": {\"xaxis\": {\"backgroundcolor\": \"rgb(17,17,17)\", \"gridcolor\": \"#506784\", \"gridwidth\": 2, \"linecolor\": \"#506784\", \"showbackground\": true, \"ticks\": \"\", \"zerolinecolor\": \"#C8D4E3\"}, \"yaxis\": {\"backgroundcolor\": \"rgb(17,17,17)\", \"gridcolor\": \"#506784\", \"gridwidth\": 2, \"linecolor\": \"#506784\", \"showbackground\": true, \"ticks\": \"\", \"zerolinecolor\": \"#C8D4E3\"}, \"zaxis\": {\"backgroundcolor\": \"rgb(17,17,17)\", \"gridcolor\": \"#506784\", \"gridwidth\": 2, \"linecolor\": \"#506784\", \"showbackground\": true, \"ticks\": \"\", \"zerolinecolor\": \"#C8D4E3\"}}, \"shapedefaults\": {\"line\": {\"color\": \"#f2f5fa\"}}, \"sliderdefaults\": {\"bgcolor\": \"#C8D4E3\", \"bordercolor\": \"rgb(17,17,17)\", \"borderwidth\": 1, \"tickwidth\": 0}, \"ternary\": {\"aaxis\": {\"gridcolor\": \"#506784\", \"linecolor\": \"#506784\", \"ticks\": \"\"}, \"baxis\": {\"gridcolor\": \"#506784\", \"linecolor\": \"#506784\", \"ticks\": \"\"}, \"bgcolor\": \"rgb(17,17,17)\", \"caxis\": {\"gridcolor\": \"#506784\", \"linecolor\": \"#506784\", \"ticks\": \"\"}}, \"title\": {\"x\": 0.05}, \"updatemenudefaults\": {\"bgcolor\": \"#506784\", \"borderwidth\": 0}, \"xaxis\": {\"automargin\": true, \"gridcolor\": \"#283442\", \"linecolor\": \"#506784\", \"ticks\": \"\", \"title\": {\"standoff\": 15}, \"zerolinecolor\": \"#283442\", \"zerolinewidth\": 2}, \"yaxis\": {\"automargin\": true, \"gridcolor\": \"#283442\", \"linecolor\": \"#506784\", \"ticks\": \"\", \"title\": {\"standoff\": 15}, \"zerolinecolor\": \"#283442\", \"zerolinewidth\": 2}}}, \"updatemenus\": [{\"buttons\": [{\"args\": [null, {\"frame\": {\"duration\": 500, \"redraw\": true}, \"fromcurrent\": true, \"mode\": \"immediate\", \"transition\": {\"duration\": 500, \"easing\": \"linear\"}}], \"label\": \"&#9654;\", \"method\": \"animate\"}, {\"args\": [[null], {\"frame\": {\"duration\": 0, \"redraw\": true}, \"fromcurrent\": true, \"mode\": \"immediate\", \"transition\": {\"duration\": 0, \"easing\": \"linear\"}}], \"label\": \"&#9724;\", \"method\": \"animate\"}], \"direction\": \"left\", \"pad\": {\"r\": 10, \"t\": 70}, \"showactive\": false, \"type\": \"buttons\", \"x\": 0.1, \"xanchor\": \"right\", \"y\": 0, \"yanchor\": \"top\"}], \"xaxis\": {\"anchor\": \"y\", \"domain\": [0.0, 1.0], \"title\": {\"text\": \"Country\"}}, \"yaxis\": {\"anchor\": \"x\", \"domain\": [0.0, 1.0], \"range\": [0, 19309281], \"title\": {\"text\": \"Cases\"}}},                        {\"responsive\": true}                    ).then(function(){\n",
              "                            Plotly.addFrames('99a212f6-9617-4450-9087-adf83e1609aa', [{\"data\": [{\"alignmentgroup\": \"True\", \"hovertemplate\": \"Date=1/23/20<br>Country=%{x}<br>Cases=%{y}<extra></extra>\", \"ids\": [\"Australia\", \"Brazil\", \"India\", \"US\"], \"legendgroup\": \"\", \"marker\": {\"color\": \"#45a2ff\"}, \"name\": \"\", \"offsetgroup\": \"\", \"orientation\": \"v\", \"showlegend\": false, \"textposition\": \"auto\", \"x\": [\"Australia\", \"Brazil\", \"India\", \"US\"], \"xaxis\": \"x\", \"y\": [0, 0, 0, 1], \"yaxis\": \"y\", \"type\": \"bar\"}], \"name\": \"1/23/20\"}, {\"data\": [{\"alignmentgroup\": \"True\", \"hovertemplate\": \"Date=1/28/20<br>Country=%{x}<br>Cases=%{y}<extra></extra>\", \"ids\": [\"Australia\", \"Brazil\", \"India\", \"US\"], \"legendgroup\": \"\", \"marker\": {\"color\": \"#45a2ff\"}, \"name\": \"\", \"offsetgroup\": \"\", \"orientation\": \"v\", \"showlegend\": false, \"textposition\": \"auto\", \"x\": [\"Australia\", \"Brazil\", \"India\", \"US\"], \"xaxis\": \"x\", \"y\": [5, 0, 0, 5], \"yaxis\": \"y\", \"type\": \"bar\"}], \"name\": \"1/28/20\"}, {\"data\": [{\"alignmentgroup\": \"True\", \"hovertemplate\": \"Date=2/3/20<br>Country=%{x}<br>Cases=%{y}<extra></extra>\", \"ids\": [\"Australia\", \"Brazil\", \"India\", \"US\"], \"legendgroup\": \"\", \"marker\": {\"color\": \"#45a2ff\"}, \"name\": \"\", \"offsetgroup\": \"\", \"orientation\": \"v\", \"showlegend\": false, \"textposition\": \"auto\", \"x\": [\"Australia\", \"Brazil\", \"India\", \"US\"], \"xaxis\": \"x\", \"y\": [12, 0, 3, 11], \"yaxis\": \"y\", \"type\": \"bar\"}], \"name\": \"2/3/20\"}, {\"data\": [{\"alignmentgroup\": \"True\", \"hovertemplate\": \"Date=2/8/20<br>Country=%{x}<br>Cases=%{y}<extra></extra>\", \"ids\": [\"Australia\", \"Brazil\", \"India\", \"US\"], \"legendgroup\": \"\", \"marker\": {\"color\": \"#45a2ff\"}, \"name\": \"\", \"offsetgroup\": \"\", \"orientation\": \"v\", \"showlegend\": false, \"textposition\": \"auto\", \"x\": [\"Australia\", \"Brazil\", \"India\", \"US\"], \"xaxis\": \"x\", \"y\": [15, 0, 3, 12], \"yaxis\": \"y\", \"type\": \"bar\"}], \"name\": \"2/8/20\"}, {\"data\": [{\"alignmentgroup\": \"True\", \"hovertemplate\": \"Date=2/11/20<br>Country=%{x}<br>Cases=%{y}<extra></extra>\", \"ids\": [\"Australia\", \"Brazil\", \"India\", \"US\"], \"legendgroup\": \"\", \"marker\": {\"color\": \"#45a2ff\"}, \"name\": \"\", \"offsetgroup\": \"\", \"orientation\": \"v\", \"showlegend\": false, \"textposition\": \"auto\", \"x\": [\"Australia\", \"Brazil\", \"India\", \"US\"], \"xaxis\": \"x\", \"y\": [15, 0, 3, 13], \"yaxis\": \"y\", \"type\": \"bar\"}], \"name\": \"2/11/20\"}, {\"data\": [{\"alignmentgroup\": \"True\", \"hovertemplate\": \"Date=2/16/20<br>Country=%{x}<br>Cases=%{y}<extra></extra>\", \"ids\": [\"Australia\", \"Brazil\", \"India\", \"US\"], \"legendgroup\": \"\", \"marker\": {\"color\": \"#45a2ff\"}, \"name\": \"\", \"offsetgroup\": \"\", \"orientation\": \"v\", \"showlegend\": false, \"textposition\": \"auto\", \"x\": [\"Australia\", \"Brazil\", \"India\", \"US\"], \"xaxis\": \"x\", \"y\": [15, 0, 3, 14], \"yaxis\": \"y\", \"type\": \"bar\"}], \"name\": \"2/16/20\"}, {\"data\": [{\"alignmentgroup\": \"True\", \"hovertemplate\": \"Date=2/20/20<br>Country=%{x}<br>Cases=%{y}<extra></extra>\", \"ids\": [\"Australia\", \"Brazil\", \"India\", \"US\"], \"legendgroup\": \"\", \"marker\": {\"color\": \"#45a2ff\"}, \"name\": \"\", \"offsetgroup\": \"\", \"orientation\": \"v\", \"showlegend\": false, \"textposition\": \"auto\", \"x\": [\"Australia\", \"Brazil\", \"India\", \"US\"], \"xaxis\": \"x\", \"y\": [15, 0, 3, 14], \"yaxis\": \"y\", \"type\": \"bar\"}], \"name\": \"2/20/20\"}, {\"data\": [{\"alignmentgroup\": \"True\", \"hovertemplate\": \"Date=2/25/20<br>Country=%{x}<br>Cases=%{y}<extra></extra>\", \"ids\": [\"Australia\", \"Brazil\", \"India\", \"US\"], \"legendgroup\": \"\", \"marker\": {\"color\": \"#45a2ff\"}, \"name\": \"\", \"offsetgroup\": \"\", \"orientation\": \"v\", \"showlegend\": false, \"textposition\": \"auto\", \"x\": [\"Australia\", \"Brazil\", \"India\", \"US\"], \"xaxis\": \"x\", \"y\": [15, 0, 3, 16], \"yaxis\": \"y\", \"type\": \"bar\"}], \"name\": \"2/25/20\"}, {\"data\": [{\"alignmentgroup\": \"True\", \"hovertemplate\": \"Date=3/7/20<br>Country=%{x}<br>Cases=%{y}<extra></extra>\", \"ids\": [\"Australia\", \"Brazil\", \"India\", \"US\"], \"legendgroup\": \"\", \"marker\": {\"color\": \"#45a2ff\"}, \"name\": \"\", \"offsetgroup\": \"\", \"orientation\": \"v\", \"showlegend\": false, \"textposition\": \"auto\", \"x\": [\"Australia\", \"Brazil\", \"India\", \"US\"], \"xaxis\": \"x\", \"y\": [63, 13, 34, 403], \"yaxis\": \"y\", \"type\": \"bar\"}], \"name\": \"3/7/20\"}, {\"data\": [{\"alignmentgroup\": \"True\", \"hovertemplate\": \"Date=3/12/20<br>Country=%{x}<br>Cases=%{y}<extra></extra>\", \"ids\": [\"Australia\", \"Brazil\", \"India\", \"US\"], \"legendgroup\": \"\", \"marker\": {\"color\": \"#45a2ff\"}, \"name\": \"\", \"offsetgroup\": \"\", \"orientation\": \"v\", \"showlegend\": false, \"textposition\": \"auto\", \"x\": [\"Australia\", \"Brazil\", \"India\", \"US\"], \"xaxis\": \"x\", \"y\": [128, 52, 73, 1586], \"yaxis\": \"y\", \"type\": \"bar\"}], \"name\": \"3/12/20\"}, {\"data\": [{\"alignmentgroup\": \"True\", \"hovertemplate\": \"Date=3/17/20<br>Country=%{x}<br>Cases=%{y}<extra></extra>\", \"ids\": [\"Australia\", \"Brazil\", \"India\", \"US\"], \"legendgroup\": \"\", \"marker\": {\"color\": \"#45a2ff\"}, \"name\": \"\", \"offsetgroup\": \"\", \"orientation\": \"v\", \"showlegend\": false, \"textposition\": \"auto\", \"x\": [\"Australia\", \"Brazil\", \"India\", \"US\"], \"xaxis\": \"x\", \"y\": [452, 321, 142, 6512], \"yaxis\": \"y\", \"type\": \"bar\"}], \"name\": \"3/17/20\"}, {\"data\": [{\"alignmentgroup\": \"True\", \"hovertemplate\": \"Date=3/21/20<br>Country=%{x}<br>Cases=%{y}<extra></extra>\", \"ids\": [\"Australia\", \"Brazil\", \"India\", \"US\"], \"legendgroup\": \"\", \"marker\": {\"color\": \"#45a2ff\"}, \"name\": \"\", \"offsetgroup\": \"\", \"orientation\": \"v\", \"showlegend\": false, \"textposition\": \"auto\", \"x\": [\"Australia\", \"Brazil\", \"India\", \"US\"], \"xaxis\": \"x\", \"y\": [1071, 1021, 330, 26025], \"yaxis\": \"y\", \"type\": \"bar\"}], \"name\": \"3/21/20\"}, {\"data\": [{\"alignmentgroup\": \"True\", \"hovertemplate\": \"Date=3/26/20<br>Country=%{x}<br>Cases=%{y}<extra></extra>\", \"ids\": [\"Australia\", \"Brazil\", \"India\", \"US\"], \"legendgroup\": \"\", \"marker\": {\"color\": \"#45a2ff\"}, \"name\": \"\", \"offsetgroup\": \"\", \"orientation\": \"v\", \"showlegend\": false, \"textposition\": \"auto\", \"x\": [\"Australia\", \"Brazil\", \"India\", \"US\"], \"xaxis\": \"x\", \"y\": [2810, 2985, 727, 86613], \"yaxis\": \"y\", \"type\": \"bar\"}], \"name\": \"3/26/20\"}, {\"data\": [{\"alignmentgroup\": \"True\", \"hovertemplate\": \"Date=3/30/20<br>Country=%{x}<br>Cases=%{y}<extra></extra>\", \"ids\": [\"Australia\", \"Brazil\", \"India\", \"US\"], \"legendgroup\": \"\", \"marker\": {\"color\": \"#45a2ff\"}, \"name\": \"\", \"offsetgroup\": \"\", \"orientation\": \"v\", \"showlegend\": false, \"textposition\": \"auto\", \"x\": [\"Australia\", \"Brazil\", \"India\", \"US\"], \"xaxis\": \"x\", \"y\": [4361, 4579, 1251, 165861], \"yaxis\": \"y\", \"type\": \"bar\"}], \"name\": \"3/30/20\"}, {\"data\": [{\"alignmentgroup\": \"True\", \"hovertemplate\": \"Date=4/3/20<br>Country=%{x}<br>Cases=%{y}<extra></extra>\", \"ids\": [\"Australia\", \"Brazil\", \"India\", \"US\"], \"legendgroup\": \"\", \"marker\": {\"color\": \"#45a2ff\"}, \"name\": \"\", \"offsetgroup\": \"\", \"orientation\": \"v\", \"showlegend\": false, \"textposition\": \"auto\", \"x\": [\"Australia\", \"Brazil\", \"India\", \"US\"], \"xaxis\": \"x\", \"y\": [5330, 9056, 2567, 288885], \"yaxis\": \"y\", \"type\": \"bar\"}], \"name\": \"4/3/20\"}, {\"data\": [{\"alignmentgroup\": \"True\", \"hovertemplate\": \"Date=4/7/20<br>Country=%{x}<br>Cases=%{y}<extra></extra>\", \"ids\": [\"Australia\", \"Brazil\", \"India\", \"US\"], \"legendgroup\": \"\", \"marker\": {\"color\": \"#45a2ff\"}, \"name\": \"\", \"offsetgroup\": \"\", \"orientation\": \"v\", \"showlegend\": false, \"textposition\": \"auto\", \"x\": [\"Australia\", \"Brazil\", \"India\", \"US\"], \"xaxis\": \"x\", \"y\": [5895, 14034, 5311, 413311], \"yaxis\": \"y\", \"type\": \"bar\"}], \"name\": \"4/7/20\"}, {\"data\": [{\"alignmentgroup\": \"True\", \"hovertemplate\": \"Date=4/11/20<br>Country=%{x}<br>Cases=%{y}<extra></extra>\", \"ids\": [\"Australia\", \"Brazil\", \"India\", \"US\"], \"legendgroup\": \"\", \"marker\": {\"color\": \"#45a2ff\"}, \"name\": \"\", \"offsetgroup\": \"\", \"orientation\": \"v\", \"showlegend\": false, \"textposition\": \"auto\", \"x\": [\"Australia\", \"Brazil\", \"India\", \"US\"], \"xaxis\": \"x\", \"y\": [6303, 20727, 8446, 544018], \"yaxis\": \"y\", \"type\": \"bar\"}], \"name\": \"4/11/20\"}, {\"data\": [{\"alignmentgroup\": \"True\", \"hovertemplate\": \"Date=4/16/20<br>Country=%{x}<br>Cases=%{y}<extra></extra>\", \"ids\": [\"Australia\", \"Brazil\", \"India\", \"US\"], \"legendgroup\": \"\", \"marker\": {\"color\": \"#45a2ff\"}, \"name\": \"\", \"offsetgroup\": \"\", \"orientation\": \"v\", \"showlegend\": false, \"textposition\": \"auto\", \"x\": [\"Australia\", \"Brazil\", \"India\", \"US\"], \"xaxis\": \"x\", \"y\": [6462, 30425, 13430, 682463], \"yaxis\": \"y\", \"type\": \"bar\"}], \"name\": \"4/16/20\"}, {\"data\": [{\"alignmentgroup\": \"True\", \"hovertemplate\": \"Date=4/20/20<br>Country=%{x}<br>Cases=%{y}<extra></extra>\", \"ids\": [\"Australia\", \"Brazil\", \"India\", \"US\"], \"legendgroup\": \"\", \"marker\": {\"color\": \"#45a2ff\"}, \"name\": \"\", \"offsetgroup\": \"\", \"orientation\": \"v\", \"showlegend\": false, \"textposition\": \"auto\", \"x\": [\"Australia\", \"Brazil\", \"India\", \"US\"], \"xaxis\": \"x\", \"y\": [6623, 40743, 18539, 799121], \"yaxis\": \"y\", \"type\": \"bar\"}], \"name\": \"4/20/20\"}, {\"data\": [{\"alignmentgroup\": \"True\", \"hovertemplate\": \"Date=4/25/20<br>Country=%{x}<br>Cases=%{y}<extra></extra>\", \"ids\": [\"Australia\", \"Brazil\", \"India\", \"US\"], \"legendgroup\": \"\", \"marker\": {\"color\": \"#45a2ff\"}, \"name\": \"\", \"offsetgroup\": \"\", \"orientation\": \"v\", \"showlegend\": false, \"textposition\": \"auto\", \"x\": [\"Australia\", \"Brazil\", \"India\", \"US\"], \"xaxis\": \"x\", \"y\": [6694, 59324, 26283, 949989], \"yaxis\": \"y\", \"type\": \"bar\"}], \"name\": \"4/25/20\"}, {\"data\": [{\"alignmentgroup\": \"True\", \"hovertemplate\": \"Date=5/3/20<br>Country=%{x}<br>Cases=%{y}<extra></extra>\", \"ids\": [\"Australia\", \"Brazil\", \"India\", \"US\"], \"legendgroup\": \"\", \"marker\": {\"color\": \"#45a2ff\"}, \"name\": \"\", \"offsetgroup\": \"\", \"orientation\": \"v\", \"showlegend\": false, \"textposition\": \"auto\", \"x\": [\"Australia\", \"Brazil\", \"India\", \"US\"], \"xaxis\": \"x\", \"y\": [6822, 101826, 42505, 1166955], \"yaxis\": \"y\", \"type\": \"bar\"}], \"name\": \"5/3/20\"}, {\"data\": [{\"alignmentgroup\": \"True\", \"hovertemplate\": \"Date=5/6/20<br>Country=%{x}<br>Cases=%{y}<extra></extra>\", \"ids\": [\"Australia\", \"Brazil\", \"India\", \"US\"], \"legendgroup\": \"\", \"marker\": {\"color\": \"#45a2ff\"}, \"name\": \"\", \"offsetgroup\": \"\", \"orientation\": \"v\", \"showlegend\": false, \"textposition\": \"auto\", \"x\": [\"Australia\", \"Brazil\", \"India\", \"US\"], \"xaxis\": \"x\", \"y\": [6894, 126611, 52987, 1239745], \"yaxis\": \"y\", \"type\": \"bar\"}], \"name\": \"5/6/20\"}, {\"data\": [{\"alignmentgroup\": \"True\", \"hovertemplate\": \"Date=5/11/20<br>Country=%{x}<br>Cases=%{y}<extra></extra>\", \"ids\": [\"Australia\", \"Brazil\", \"India\", \"US\"], \"legendgroup\": \"\", \"marker\": {\"color\": \"#45a2ff\"}, \"name\": \"\", \"offsetgroup\": \"\", \"orientation\": \"v\", \"showlegend\": false, \"textposition\": \"auto\", \"x\": [\"Australia\", \"Brazil\", \"India\", \"US\"], \"xaxis\": \"x\", \"y\": [6970, 169594, 70768, 1357368], \"yaxis\": \"y\", \"type\": \"bar\"}], \"name\": \"5/11/20\"}, {\"data\": [{\"alignmentgroup\": \"True\", \"hovertemplate\": \"Date=5/16/20<br>Country=%{x}<br>Cases=%{y}<extra></extra>\", \"ids\": [\"Australia\", \"Brazil\", \"India\", \"US\"], \"legendgroup\": \"\", \"marker\": {\"color\": \"#45a2ff\"}, \"name\": \"\", \"offsetgroup\": \"\", \"orientation\": \"v\", \"showlegend\": false, \"textposition\": \"auto\", \"x\": [\"Australia\", \"Brazil\", \"India\", \"US\"], \"xaxis\": \"x\", \"y\": [7044, 233511, 90648, 1476261], \"yaxis\": \"y\", \"type\": \"bar\"}], \"name\": \"5/16/20\"}, {\"data\": [{\"alignmentgroup\": \"True\", \"hovertemplate\": \"Date=5/20/20<br>Country=%{x}<br>Cases=%{y}<extra></extra>\", \"ids\": [\"Australia\", \"Brazil\", \"India\", \"US\"], \"legendgroup\": \"\", \"marker\": {\"color\": \"#45a2ff\"}, \"name\": \"\", \"offsetgroup\": \"\", \"orientation\": \"v\", \"showlegend\": false, \"textposition\": \"auto\", \"x\": [\"Australia\", \"Brazil\", \"India\", \"US\"], \"xaxis\": \"x\", \"y\": [7081, 291579, 112028, 1560615], \"yaxis\": \"y\", \"type\": \"bar\"}], \"name\": \"5/20/20\"}, {\"data\": [{\"alignmentgroup\": \"True\", \"hovertemplate\": \"Date=5/25/20<br>Country=%{x}<br>Cases=%{y}<extra></extra>\", \"ids\": [\"Australia\", \"Brazil\", \"India\", \"US\"], \"legendgroup\": \"\", \"marker\": {\"color\": \"#45a2ff\"}, \"name\": \"\", \"offsetgroup\": \"\", \"orientation\": \"v\", \"showlegend\": false, \"textposition\": \"auto\", \"x\": [\"Australia\", \"Brazil\", \"India\", \"US\"], \"xaxis\": \"x\", \"y\": [7126, 374898, 144950, 1670129], \"yaxis\": \"y\", \"type\": \"bar\"}], \"name\": \"5/25/20\"}, {\"data\": [{\"alignmentgroup\": \"True\", \"hovertemplate\": \"Date=6/2/20<br>Country=%{x}<br>Cases=%{y}<extra></extra>\", \"ids\": [\"Australia\", \"Brazil\", \"India\", \"US\"], \"legendgroup\": \"\", \"marker\": {\"color\": \"#45a2ff\"}, \"name\": \"\", \"offsetgroup\": \"\", \"orientation\": \"v\", \"showlegend\": false, \"textposition\": \"auto\", \"x\": [\"Australia\", \"Brazil\", \"India\", \"US\"], \"xaxis\": \"x\", \"y\": [7229, 555383, 207191, 1835988], \"yaxis\": \"y\", \"type\": \"bar\"}], \"name\": \"6/2/20\"}, {\"data\": [{\"alignmentgroup\": \"True\", \"hovertemplate\": \"Date=6/6/20<br>Country=%{x}<br>Cases=%{y}<extra></extra>\", \"ids\": [\"Australia\", \"Brazil\", \"India\", \"US\"], \"legendgroup\": \"\", \"marker\": {\"color\": \"#45a2ff\"}, \"name\": \"\", \"offsetgroup\": \"\", \"orientation\": \"v\", \"showlegend\": false, \"textposition\": \"auto\", \"x\": [\"Australia\", \"Brazil\", \"India\", \"US\"], \"xaxis\": \"x\", \"y\": [7259, 672846, 246622, 1923985], \"yaxis\": \"y\", \"type\": \"bar\"}], \"name\": \"6/6/20\"}, {\"data\": [{\"alignmentgroup\": \"True\", \"hovertemplate\": \"Date=6/10/20<br>Country=%{x}<br>Cases=%{y}<extra></extra>\", \"ids\": [\"Australia\", \"Brazil\", \"India\", \"US\"], \"legendgroup\": \"\", \"marker\": {\"color\": \"#45a2ff\"}, \"name\": \"\", \"offsetgroup\": \"\", \"orientation\": \"v\", \"showlegend\": false, \"textposition\": \"auto\", \"x\": [\"Australia\", \"Brazil\", \"India\", \"US\"], \"xaxis\": \"x\", \"y\": [7285, 772416, 286605, 1998476], \"yaxis\": \"y\", \"type\": \"bar\"}], \"name\": \"6/10/20\"}, {\"data\": [{\"alignmentgroup\": \"True\", \"hovertemplate\": \"Date=6/15/20<br>Country=%{x}<br>Cases=%{y}<extra></extra>\", \"ids\": [\"Australia\", \"Brazil\", \"India\", \"US\"], \"legendgroup\": \"\", \"marker\": {\"color\": \"#45a2ff\"}, \"name\": \"\", \"offsetgroup\": \"\", \"orientation\": \"v\", \"showlegend\": false, \"textposition\": \"auto\", \"x\": [\"Australia\", \"Brazil\", \"India\", \"US\"], \"xaxis\": \"x\", \"y\": [7347, 888271, 343091, 2109967], \"yaxis\": \"y\", \"type\": \"bar\"}], \"name\": \"6/15/20\"}, {\"data\": [{\"alignmentgroup\": \"True\", \"hovertemplate\": \"Date=6/24/20<br>Country=%{x}<br>Cases=%{y}<extra></extra>\", \"ids\": [\"Australia\", \"Brazil\", \"India\", \"US\"], \"legendgroup\": \"\", \"marker\": {\"color\": \"#45a2ff\"}, \"name\": \"\", \"offsetgroup\": \"\", \"orientation\": \"v\", \"showlegend\": false, \"textposition\": \"auto\", \"x\": [\"Australia\", \"Brazil\", \"India\", \"US\"], \"xaxis\": \"x\", \"y\": [7558, 1188631, 473105, 2378031], \"yaxis\": \"y\", \"type\": \"bar\"}], \"name\": \"6/24/20\"}, {\"data\": [{\"alignmentgroup\": \"True\", \"hovertemplate\": \"Date=6/29/20<br>Country=%{x}<br>Cases=%{y}<extra></extra>\", \"ids\": [\"Australia\", \"Brazil\", \"India\", \"US\"], \"legendgroup\": \"\", \"marker\": {\"color\": \"#45a2ff\"}, \"name\": \"\", \"offsetgroup\": \"\", \"orientation\": \"v\", \"showlegend\": false, \"textposition\": \"auto\", \"x\": [\"Australia\", \"Brazil\", \"India\", \"US\"], \"xaxis\": \"x\", \"y\": [7834, 1368195, 566840, 2585898], \"yaxis\": \"y\", \"type\": \"bar\"}], \"name\": \"6/29/20\"}, {\"data\": [{\"alignmentgroup\": \"True\", \"hovertemplate\": \"Date=7/2/20<br>Country=%{x}<br>Cases=%{y}<extra></extra>\", \"ids\": [\"Australia\", \"Brazil\", \"India\", \"US\"], \"legendgroup\": \"\", \"marker\": {\"color\": \"#45a2ff\"}, \"name\": \"\", \"offsetgroup\": \"\", \"orientation\": \"v\", \"showlegend\": false, \"textposition\": \"auto\", \"x\": [\"Australia\", \"Brazil\", \"India\", \"US\"], \"xaxis\": \"x\", \"y\": [8066, 1496858, 625544, 2739067], \"yaxis\": \"y\", \"type\": \"bar\"}], \"name\": \"7/2/20\"}, {\"data\": [{\"alignmentgroup\": \"True\", \"hovertemplate\": \"Date=7/5/20<br>Country=%{x}<br>Cases=%{y}<extra></extra>\", \"ids\": [\"Australia\", \"Brazil\", \"India\", \"US\"], \"legendgroup\": \"\", \"marker\": {\"color\": \"#45a2ff\"}, \"name\": \"\", \"offsetgroup\": \"\", \"orientation\": \"v\", \"showlegend\": false, \"textposition\": \"auto\", \"x\": [\"Australia\", \"Brazil\", \"India\", \"US\"], \"xaxis\": \"x\", \"y\": [8583, 1603055, 697413, 2886576], \"yaxis\": \"y\", \"type\": \"bar\"}], \"name\": \"7/5/20\"}, {\"data\": [{\"alignmentgroup\": \"True\", \"hovertemplate\": \"Date=7/10/20<br>Country=%{x}<br>Cases=%{y}<extra></extra>\", \"ids\": [\"Australia\", \"Brazil\", \"India\", \"US\"], \"legendgroup\": \"\", \"marker\": {\"color\": \"#45a2ff\"}, \"name\": \"\", \"offsetgroup\": \"\", \"orientation\": \"v\", \"showlegend\": false, \"textposition\": \"auto\", \"x\": [\"Australia\", \"Brazil\", \"India\", \"US\"], \"xaxis\": \"x\", \"y\": [9553, 1800827, 820916, 3181241], \"yaxis\": \"y\", \"type\": \"bar\"}], \"name\": \"7/10/20\"}, {\"data\": [{\"alignmentgroup\": \"True\", \"hovertemplate\": \"Date=7/15/20<br>Country=%{x}<br>Cases=%{y}<extra></extra>\", \"ids\": [\"Australia\", \"Brazil\", \"India\", \"US\"], \"legendgroup\": \"\", \"marker\": {\"color\": \"#45a2ff\"}, \"name\": \"\", \"offsetgroup\": \"\", \"orientation\": \"v\", \"showlegend\": false, \"textposition\": \"auto\", \"x\": [\"Australia\", \"Brazil\", \"India\", \"US\"], \"xaxis\": \"x\", \"y\": [10810, 1966748, 968857, 3495012], \"yaxis\": \"y\", \"type\": \"bar\"}], \"name\": \"7/15/20\"}, {\"data\": [{\"alignmentgroup\": \"True\", \"hovertemplate\": \"Date=7/24/20<br>Country=%{x}<br>Cases=%{y}<extra></extra>\", \"ids\": [\"Australia\", \"Brazil\", \"India\", \"US\"], \"legendgroup\": \"\", \"marker\": {\"color\": \"#45a2ff\"}, \"name\": \"\", \"offsetgroup\": \"\", \"orientation\": \"v\", \"showlegend\": false, \"textposition\": \"auto\", \"x\": [\"Australia\", \"Brazil\", \"India\", \"US\"], \"xaxis\": \"x\", \"y\": [13950, 2343366, 1337024, 4106394], \"yaxis\": \"y\", \"type\": \"bar\"}], \"name\": \"7/24/20\"}, {\"data\": [{\"alignmentgroup\": \"True\", \"hovertemplate\": \"Date=7/29/20<br>Country=%{x}<br>Cases=%{y}<extra></extra>\", \"ids\": [\"Australia\", \"Brazil\", \"India\", \"US\"], \"legendgroup\": \"\", \"marker\": {\"color\": \"#45a2ff\"}, \"name\": \"\", \"offsetgroup\": \"\", \"orientation\": \"v\", \"showlegend\": false, \"textposition\": \"auto\", \"x\": [\"Australia\", \"Brazil\", \"India\", \"US\"], \"xaxis\": \"x\", \"y\": [16298, 2552265, 1581963, 4419874], \"yaxis\": \"y\", \"type\": \"bar\"}], \"name\": \"7/29/20\"}, {\"data\": [{\"alignmentgroup\": \"True\", \"hovertemplate\": \"Date=8/1/20<br>Country=%{x}<br>Cases=%{y}<extra></extra>\", \"ids\": [\"Australia\", \"Brazil\", \"India\", \"US\"], \"legendgroup\": \"\", \"marker\": {\"color\": \"#45a2ff\"}, \"name\": \"\", \"offsetgroup\": \"\", \"orientation\": \"v\", \"showlegend\": false, \"textposition\": \"auto\", \"x\": [\"Australia\", \"Brazil\", \"India\", \"US\"], \"xaxis\": \"x\", \"y\": [17895, 2707877, 1750723, 4613200], \"yaxis\": \"y\", \"type\": \"bar\"}], \"name\": \"8/1/20\"}, {\"data\": [{\"alignmentgroup\": \"True\", \"hovertemplate\": \"Date=8/4/20<br>Country=%{x}<br>Cases=%{y}<extra></extra>\", \"ids\": [\"Australia\", \"Brazil\", \"India\", \"US\"], \"legendgroup\": \"\", \"marker\": {\"color\": \"#45a2ff\"}, \"name\": \"\", \"offsetgroup\": \"\", \"orientation\": \"v\", \"showlegend\": false, \"textposition\": \"auto\", \"x\": [\"Australia\", \"Brazil\", \"India\", \"US\"], \"xaxis\": \"x\", \"y\": [19445, 2801921, 1908254, 4761351], \"yaxis\": \"y\", \"type\": \"bar\"}], \"name\": \"8/4/20\"}, {\"data\": [{\"alignmentgroup\": \"True\", \"hovertemplate\": \"Date=8/9/20<br>Country=%{x}<br>Cases=%{y}<extra></extra>\", \"ids\": [\"Australia\", \"Brazil\", \"India\", \"US\"], \"legendgroup\": \"\", \"marker\": {\"color\": \"#45a2ff\"}, \"name\": \"\", \"offsetgroup\": \"\", \"orientation\": \"v\", \"showlegend\": false, \"textposition\": \"auto\", \"x\": [\"Australia\", \"Brazil\", \"India\", \"US\"], \"xaxis\": \"x\", \"y\": [21397, 3035422, 2215074, 5034154], \"yaxis\": \"y\", \"type\": \"bar\"}], \"name\": \"8/9/20\"}, {\"data\": [{\"alignmentgroup\": \"True\", \"hovertemplate\": \"Date=8/14/20<br>Country=%{x}<br>Cases=%{y}<extra></extra>\", \"ids\": [\"Australia\", \"Brazil\", \"India\", \"US\"], \"legendgroup\": \"\", \"marker\": {\"color\": \"#45a2ff\"}, \"name\": \"\", \"offsetgroup\": \"\", \"orientation\": \"v\", \"showlegend\": false, \"textposition\": \"auto\", \"x\": [\"Australia\", \"Brazil\", \"India\", \"US\"], \"xaxis\": \"x\", \"y\": [23035, 3275520, 2525922, 5302819], \"yaxis\": \"y\", \"type\": \"bar\"}], \"name\": \"8/14/20\"}, {\"data\": [{\"alignmentgroup\": \"True\", \"hovertemplate\": \"Date=8/19/20<br>Country=%{x}<br>Cases=%{y}<extra></extra>\", \"ids\": [\"Australia\", \"Brazil\", \"India\", \"US\"], \"legendgroup\": \"\", \"marker\": {\"color\": \"#45a2ff\"}, \"name\": \"\", \"offsetgroup\": \"\", \"orientation\": \"v\", \"showlegend\": false, \"textposition\": \"auto\", \"x\": [\"Australia\", \"Brazil\", \"India\", \"US\"], \"xaxis\": \"x\", \"y\": [24236, 3456652, 2836925, 5519619], \"yaxis\": \"y\", \"type\": \"bar\"}], \"name\": \"8/19/20\"}, {\"data\": [{\"alignmentgroup\": \"True\", \"hovertemplate\": \"Date=8/23/20<br>Country=%{x}<br>Cases=%{y}<extra></extra>\", \"ids\": [\"Australia\", \"Brazil\", \"India\", \"US\"], \"legendgroup\": \"\", \"marker\": {\"color\": \"#45a2ff\"}, \"name\": \"\", \"offsetgroup\": \"\", \"orientation\": \"v\", \"showlegend\": false, \"textposition\": \"auto\", \"x\": [\"Australia\", \"Brazil\", \"India\", \"US\"], \"xaxis\": \"x\", \"y\": [24915, 3605783, 3106348, 5690061], \"yaxis\": \"y\", \"type\": \"bar\"}], \"name\": \"8/23/20\"}, {\"data\": [{\"alignmentgroup\": \"True\", \"hovertemplate\": \"Date=8/28/20<br>Country=%{x}<br>Cases=%{y}<extra></extra>\", \"ids\": [\"Australia\", \"Brazil\", \"India\", \"US\"], \"legendgroup\": \"\", \"marker\": {\"color\": \"#45a2ff\"}, \"name\": \"\", \"offsetgroup\": \"\", \"orientation\": \"v\", \"showlegend\": false, \"textposition\": \"auto\", \"x\": [\"Australia\", \"Brazil\", \"India\", \"US\"], \"xaxis\": \"x\", \"y\": [25547, 3804803, 3463972, 5904305], \"yaxis\": \"y\", \"type\": \"bar\"}], \"name\": \"8/28/20\"}, {\"data\": [{\"alignmentgroup\": \"True\", \"hovertemplate\": \"Date=9/4/20<br>Country=%{x}<br>Cases=%{y}<extra></extra>\", \"ids\": [\"Australia\", \"Brazil\", \"India\", \"US\"], \"legendgroup\": \"\", \"marker\": {\"color\": \"#45a2ff\"}, \"name\": \"\", \"offsetgroup\": \"\", \"orientation\": \"v\", \"showlegend\": false, \"textposition\": \"auto\", \"x\": [\"Australia\", \"Brazil\", \"India\", \"US\"], \"xaxis\": \"x\", \"y\": [26207, 4091801, 4023179, 6196213], \"yaxis\": \"y\", \"type\": \"bar\"}], \"name\": \"9/4/20\"}, {\"data\": [{\"alignmentgroup\": \"True\", \"hovertemplate\": \"Date=9/9/20<br>Country=%{x}<br>Cases=%{y}<extra></extra>\", \"ids\": [\"Australia\", \"Brazil\", \"India\", \"US\"], \"legendgroup\": \"\", \"marker\": {\"color\": \"#45a2ff\"}, \"name\": \"\", \"offsetgroup\": \"\", \"orientation\": \"v\", \"showlegend\": false, \"textposition\": \"auto\", \"x\": [\"Australia\", \"Brazil\", \"India\", \"US\"], \"xaxis\": \"x\", \"y\": [26524, 4197889, 4465863, 6355282], \"yaxis\": \"y\", \"type\": \"bar\"}], \"name\": \"9/9/20\"}, {\"data\": [{\"alignmentgroup\": \"True\", \"hovertemplate\": \"Date=9/13/20<br>Country=%{x}<br>Cases=%{y}<extra></extra>\", \"ids\": [\"Australia\", \"Brazil\", \"India\", \"US\"], \"legendgroup\": \"\", \"marker\": {\"color\": \"#45a2ff\"}, \"name\": \"\", \"offsetgroup\": \"\", \"orientation\": \"v\", \"showlegend\": false, \"textposition\": \"auto\", \"x\": [\"Australia\", \"Brazil\", \"India\", \"US\"], \"xaxis\": \"x\", \"y\": [26692, 4330455, 4846427, 6514296], \"yaxis\": \"y\", \"type\": \"bar\"}], \"name\": \"9/13/20\"}, {\"data\": [{\"alignmentgroup\": \"True\", \"hovertemplate\": \"Date=9/18/20<br>Country=%{x}<br>Cases=%{y}<extra></extra>\", \"ids\": [\"Australia\", \"Brazil\", \"India\", \"US\"], \"legendgroup\": \"\", \"marker\": {\"color\": \"#45a2ff\"}, \"name\": \"\", \"offsetgroup\": \"\", \"orientation\": \"v\", \"showlegend\": false, \"textposition\": \"auto\", \"x\": [\"Australia\", \"Brazil\", \"India\", \"US\"], \"xaxis\": \"x\", \"y\": [26885, 4495183, 5308014, 6720266], \"yaxis\": \"y\", \"type\": \"bar\"}], \"name\": \"9/18/20\"}, {\"data\": [{\"alignmentgroup\": \"True\", \"hovertemplate\": \"Date=9/22/20<br>Country=%{x}<br>Cases=%{y}<extra></extra>\", \"ids\": [\"Australia\", \"Brazil\", \"India\", \"US\"], \"legendgroup\": \"\", \"marker\": {\"color\": \"#45a2ff\"}, \"name\": \"\", \"offsetgroup\": \"\", \"orientation\": \"v\", \"showlegend\": false, \"textposition\": \"auto\", \"x\": [\"Australia\", \"Brazil\", \"India\", \"US\"], \"xaxis\": \"x\", \"y\": [26972, 4591364, 5646010, 6891985], \"yaxis\": \"y\", \"type\": \"bar\"}], \"name\": \"9/22/20\"}, {\"data\": [{\"alignmentgroup\": \"True\", \"hovertemplate\": \"Date=9/27/20<br>Country=%{x}<br>Cases=%{y}<extra></extra>\", \"ids\": [\"Australia\", \"Brazil\", \"India\", \"US\"], \"legendgroup\": \"\", \"marker\": {\"color\": \"#45a2ff\"}, \"name\": \"\", \"offsetgroup\": \"\", \"orientation\": \"v\", \"showlegend\": false, \"textposition\": \"auto\", \"x\": [\"Australia\", \"Brazil\", \"India\", \"US\"], \"xaxis\": \"x\", \"y\": [27044, 4732309, 6074702, 7106487], \"yaxis\": \"y\", \"type\": \"bar\"}], \"name\": \"9/27/20\"}, {\"data\": [{\"alignmentgroup\": \"True\", \"hovertemplate\": \"Date=10/2/20<br>Country=%{x}<br>Cases=%{y}<extra></extra>\", \"ids\": [\"Australia\", \"Brazil\", \"India\", \"US\"], \"legendgroup\": \"\", \"marker\": {\"color\": \"#45a2ff\"}, \"name\": \"\", \"offsetgroup\": \"\", \"orientation\": \"v\", \"showlegend\": false, \"textposition\": \"auto\", \"x\": [\"Australia\", \"Brazil\", \"India\", \"US\"], \"xaxis\": \"x\", \"y\": [27121, 4847092, 6473544, 7322880], \"yaxis\": \"y\", \"type\": \"bar\"}], \"name\": \"10/2/20\"}, {\"data\": [{\"alignmentgroup\": \"True\", \"hovertemplate\": \"Date=10/5/20<br>Country=%{x}<br>Cases=%{y}<extra></extra>\", \"ids\": [\"Australia\", \"Brazil\", \"India\", \"US\"], \"legendgroup\": \"\", \"marker\": {\"color\": \"#45a2ff\"}, \"name\": \"\", \"offsetgroup\": \"\", \"orientation\": \"v\", \"showlegend\": false, \"textposition\": \"auto\", \"x\": [\"Australia\", \"Brazil\", \"India\", \"US\"], \"xaxis\": \"x\", \"y\": [27173, 4927235, 6685082, 7446617], \"yaxis\": \"y\", \"type\": \"bar\"}], \"name\": \"10/5/20\"}, {\"data\": [{\"alignmentgroup\": \"True\", \"hovertemplate\": \"Date=10/10/20<br>Country=%{x}<br>Cases=%{y}<extra></extra>\", \"ids\": [\"Australia\", \"Brazil\", \"India\", \"US\"], \"legendgroup\": \"\", \"marker\": {\"color\": \"#45a2ff\"}, \"name\": \"\", \"offsetgroup\": \"\", \"orientation\": \"v\", \"showlegend\": false, \"textposition\": \"auto\", \"x\": [\"Australia\", \"Brazil\", \"India\", \"US\"], \"xaxis\": \"x\", \"y\": [27263, 5082637, 7053806, 7710911], \"yaxis\": \"y\", \"type\": \"bar\"}], \"name\": \"10/10/20\"}, {\"data\": [{\"alignmentgroup\": \"True\", \"hovertemplate\": \"Date=10/15/20<br>Country=%{x}<br>Cases=%{y}<extra></extra>\", \"ids\": [\"Australia\", \"Brazil\", \"India\", \"US\"], \"legendgroup\": \"\", \"marker\": {\"color\": \"#45a2ff\"}, \"name\": \"\", \"offsetgroup\": \"\", \"orientation\": \"v\", \"showlegend\": false, \"textposition\": \"auto\", \"x\": [\"Australia\", \"Brazil\", \"India\", \"US\"], \"xaxis\": \"x\", \"y\": [27371, 5169386, 7370468, 7974242], \"yaxis\": \"y\", \"type\": \"bar\"}], \"name\": \"10/15/20\"}, {\"data\": [{\"alignmentgroup\": \"True\", \"hovertemplate\": \"Date=10/24/20<br>Country=%{x}<br>Cases=%{y}<extra></extra>\", \"ids\": [\"Australia\", \"Brazil\", \"India\", \"US\"], \"legendgroup\": \"\", \"marker\": {\"color\": \"#45a2ff\"}, \"name\": \"\", \"offsetgroup\": \"\", \"orientation\": \"v\", \"showlegend\": false, \"textposition\": \"auto\", \"x\": [\"Australia\", \"Brazil\", \"India\", \"US\"], \"xaxis\": \"x\", \"y\": [27513, 5380635, 7864811, 8579957], \"yaxis\": \"y\", \"type\": \"bar\"}], \"name\": \"10/24/20\"}, {\"data\": [{\"alignmentgroup\": \"True\", \"hovertemplate\": \"Date=10/29/20<br>Country=%{x}<br>Cases=%{y}<extra></extra>\", \"ids\": [\"Australia\", \"Brazil\", \"India\", \"US\"], \"legendgroup\": \"\", \"marker\": {\"color\": \"#45a2ff\"}, \"name\": \"\", \"offsetgroup\": \"\", \"orientation\": \"v\", \"showlegend\": false, \"textposition\": \"auto\", \"x\": [\"Australia\", \"Brazil\", \"India\", \"US\"], \"xaxis\": \"x\", \"y\": [27579, 5494376, 8088851, 8953646], \"yaxis\": \"y\", \"type\": \"bar\"}], \"name\": \"10/29/20\"}, {\"data\": [{\"alignmentgroup\": \"True\", \"hovertemplate\": \"Date=11/1/20<br>Country=%{x}<br>Cases=%{y}<extra></extra>\", \"ids\": [\"Australia\", \"Brazil\", \"India\", \"US\"], \"legendgroup\": \"\", \"marker\": {\"color\": \"#45a2ff\"}, \"name\": \"\", \"offsetgroup\": \"\", \"orientation\": \"v\", \"showlegend\": false, \"textposition\": \"auto\", \"x\": [\"Australia\", \"Brazil\", \"India\", \"US\"], \"xaxis\": \"x\", \"y\": [27601, 5545705, 8229313, 9245669], \"yaxis\": \"y\", \"type\": \"bar\"}], \"name\": \"11/1/20\"}, {\"data\": [{\"alignmentgroup\": \"True\", \"hovertemplate\": \"Date=11/5/20<br>Country=%{x}<br>Cases=%{y}<extra></extra>\", \"ids\": [\"Australia\", \"Brazil\", \"India\", \"US\"], \"legendgroup\": \"\", \"marker\": {\"color\": \"#45a2ff\"}, \"name\": \"\", \"offsetgroup\": \"\", \"orientation\": \"v\", \"showlegend\": false, \"textposition\": \"auto\", \"x\": [\"Australia\", \"Brazil\", \"India\", \"US\"], \"xaxis\": \"x\", \"y\": [27644, 5590025, 8411724, 9686491], \"yaxis\": \"y\", \"type\": \"bar\"}], \"name\": \"11/5/20\"}, {\"data\": [{\"alignmentgroup\": \"True\", \"hovertemplate\": \"Date=11/14/20<br>Country=%{x}<br>Cases=%{y}<extra></extra>\", \"ids\": [\"Australia\", \"Brazil\", \"India\", \"US\"], \"legendgroup\": \"\", \"marker\": {\"color\": \"#45a2ff\"}, \"name\": \"\", \"offsetgroup\": \"\", \"orientation\": \"v\", \"showlegend\": false, \"textposition\": \"auto\", \"x\": [\"Australia\", \"Brazil\", \"India\", \"US\"], \"xaxis\": \"x\", \"y\": [27711, 5848959, 8814579, 10968665], \"yaxis\": \"y\", \"type\": \"bar\"}], \"name\": \"11/14/20\"}, {\"data\": [{\"alignmentgroup\": \"True\", \"hovertemplate\": \"Date=11/19/20<br>Country=%{x}<br>Cases=%{y}<extra></extra>\", \"ids\": [\"Australia\", \"Brazil\", \"India\", \"US\"], \"legendgroup\": \"\", \"marker\": {\"color\": \"#45a2ff\"}, \"name\": \"\", \"offsetgroup\": \"\", \"orientation\": \"v\", \"showlegend\": false, \"textposition\": \"auto\", \"x\": [\"Australia\", \"Brazil\", \"India\", \"US\"], \"xaxis\": \"x\", \"y\": [27792, 5981767, 9004365, 11787243], \"yaxis\": \"y\", \"type\": \"bar\"}], \"name\": \"11/19/20\"}, {\"data\": [{\"alignmentgroup\": \"True\", \"hovertemplate\": \"Date=11/23/20<br>Country=%{x}<br>Cases=%{y}<extra></extra>\", \"ids\": [\"Australia\", \"Brazil\", \"India\", \"US\"], \"legendgroup\": \"\", \"marker\": {\"color\": \"#45a2ff\"}, \"name\": \"\", \"offsetgroup\": \"\", \"orientation\": \"v\", \"showlegend\": false, \"textposition\": \"auto\", \"x\": [\"Australia\", \"Brazil\", \"India\", \"US\"], \"xaxis\": \"x\", \"y\": [27843, 6087608, 9177840, 12479985], \"yaxis\": \"y\", \"type\": \"bar\"}], \"name\": \"11/23/20\"}, {\"data\": [{\"alignmentgroup\": \"True\", \"hovertemplate\": \"Date=11/28/20<br>Country=%{x}<br>Cases=%{y}<extra></extra>\", \"ids\": [\"Australia\", \"Brazil\", \"India\", \"US\"], \"legendgroup\": \"\", \"marker\": {\"color\": \"#45a2ff\"}, \"name\": \"\", \"offsetgroup\": \"\", \"orientation\": \"v\", \"showlegend\": false, \"textposition\": \"auto\", \"x\": [\"Australia\", \"Brazil\", \"India\", \"US\"], \"xaxis\": \"x\", \"y\": [27892, 6290272, 9392919, 13312157], \"yaxis\": \"y\", \"type\": \"bar\"}], \"name\": \"11/28/20\"}, {\"data\": [{\"alignmentgroup\": \"True\", \"hovertemplate\": \"Date=12/1/20<br>Country=%{x}<br>Cases=%{y}<extra></extra>\", \"ids\": [\"Australia\", \"Brazil\", \"India\", \"US\"], \"legendgroup\": \"\", \"marker\": {\"color\": \"#45a2ff\"}, \"name\": \"\", \"offsetgroup\": \"\", \"orientation\": \"v\", \"showlegend\": false, \"textposition\": \"auto\", \"x\": [\"Australia\", \"Brazil\", \"India\", \"US\"], \"xaxis\": \"x\", \"y\": [27923, 6386787, 9499413, 13791945], \"yaxis\": \"y\", \"type\": \"bar\"}], \"name\": \"12/1/20\"}, {\"data\": [{\"alignmentgroup\": \"True\", \"hovertemplate\": \"Date=12/7/20<br>Country=%{x}<br>Cases=%{y}<extra></extra>\", \"ids\": [\"Australia\", \"Brazil\", \"India\", \"US\"], \"legendgroup\": \"\", \"marker\": {\"color\": \"#45a2ff\"}, \"name\": \"\", \"offsetgroup\": \"\", \"orientation\": \"v\", \"showlegend\": false, \"textposition\": \"auto\", \"x\": [\"Australia\", \"Brazil\", \"India\", \"US\"], \"xaxis\": \"x\", \"y\": [27987, 6623911, 9703770, 15030195], \"yaxis\": \"y\", \"type\": \"bar\"}], \"name\": \"12/7/20\"}, {\"data\": [{\"alignmentgroup\": \"True\", \"hovertemplate\": \"Date=12/14/20<br>Country=%{x}<br>Cases=%{y}<extra></extra>\", \"ids\": [\"Australia\", \"Brazil\", \"India\", \"US\"], \"legendgroup\": \"\", \"marker\": {\"color\": \"#45a2ff\"}, \"name\": \"\", \"offsetgroup\": \"\", \"orientation\": \"v\", \"showlegend\": false, \"textposition\": \"auto\", \"x\": [\"Australia\", \"Brazil\", \"India\", \"US\"], \"xaxis\": \"x\", \"y\": [28048, 6927145, 9906165, 16538023], \"yaxis\": \"y\", \"type\": \"bar\"}], \"name\": \"12/14/20\"}, {\"data\": [{\"alignmentgroup\": \"True\", \"hovertemplate\": \"Date=12/19/20<br>Country=%{x}<br>Cases=%{y}<extra></extra>\", \"ids\": [\"Australia\", \"Brazil\", \"India\", \"US\"], \"legendgroup\": \"\", \"marker\": {\"color\": \"#45a2ff\"}, \"name\": \"\", \"offsetgroup\": \"\", \"orientation\": \"v\", \"showlegend\": false, \"textposition\": \"auto\", \"x\": [\"Australia\", \"Brazil\", \"India\", \"US\"], \"xaxis\": \"x\", \"y\": [28168, 7213155, 10031223, 17665284], \"yaxis\": \"y\", \"type\": \"bar\"}], \"name\": \"12/19/20\"}, {\"data\": [{\"alignmentgroup\": \"True\", \"hovertemplate\": \"Date=12/23/20<br>Country=%{x}<br>Cases=%{y}<extra></extra>\", \"ids\": [\"Australia\", \"Brazil\", \"India\", \"US\"], \"legendgroup\": \"\", \"marker\": {\"color\": \"#45a2ff\"}, \"name\": \"\", \"offsetgroup\": \"\", \"orientation\": \"v\", \"showlegend\": false, \"textposition\": \"auto\", \"x\": [\"Australia\", \"Brazil\", \"India\", \"US\"], \"xaxis\": \"x\", \"y\": [28262, 7365517, 10123778, 18466484], \"yaxis\": \"y\", \"type\": \"bar\"}], \"name\": \"12/23/20\"}, {\"data\": [{\"alignmentgroup\": \"True\", \"hovertemplate\": \"Date=12/28/20<br>Country=%{x}<br>Cases=%{y}<extra></extra>\", \"ids\": [\"Australia\", \"Brazil\", \"India\", \"US\"], \"legendgroup\": \"\", \"marker\": {\"color\": \"#45a2ff\"}, \"name\": \"\", \"offsetgroup\": \"\", \"orientation\": \"v\", \"showlegend\": false, \"textposition\": \"auto\", \"x\": [\"Australia\", \"Brazil\", \"India\", \"US\"], \"xaxis\": \"x\", \"y\": [28349, 7504833, 10224303, 19309281], \"yaxis\": \"y\", \"type\": \"bar\"}], \"name\": \"12/28/20\"}]);\n",
              "                        }).then(function(){\n",
              "                            \n",
              "var gd = document.getElementById('99a212f6-9617-4450-9087-adf83e1609aa');\n",
              "var x = new MutationObserver(function (mutations, observer) {{\n",
              "        var display = window.getComputedStyle(gd).display;\n",
              "        if (!display || display === 'none') {{\n",
              "            console.log([gd, 'removed!']);\n",
              "            Plotly.purge(gd);\n",
              "            observer.disconnect();\n",
              "        }}\n",
              "}});\n",
              "\n",
              "// Listen for the removal of the full notebook cells\n",
              "var notebookContainer = gd.closest('#notebook-container');\n",
              "if (notebookContainer) {{\n",
              "    x.observe(notebookContainer, {childList: true});\n",
              "}}\n",
              "\n",
              "// Listen for the clearing of the current output cell\n",
              "var outputEl = gd.closest('.output');\n",
              "if (outputEl) {{\n",
              "    x.observe(outputEl, {childList: true});\n",
              "}}\n",
              "\n",
              "                        })                };                            </script>        </div>\n",
              "</body>\n",
              "</html>"
            ]
          },
          "metadata": {
            "tags": []
          }
        }
      ]
    },
    {
      "cell_type": "markdown",
      "metadata": {
        "id": "vXm-2OYnPxT5"
      },
      "source": [
        "#### Recoveries - India, US, Australia, Brazil"
      ]
    },
    {
      "cell_type": "code",
      "metadata": {
        "colab": {
          "base_uri": "https://localhost:8080/",
          "height": 542
        },
        "id": "AR5Le_dTPxT5",
        "outputId": "5d3fa0f0-5df9-4c4d-c821-86af6b4cffe9"
      },
      "source": [
        "create_comparison_animation(recovered_global,\"recovered\",\"India\",\"US\",\"Australia\",\"Brazil\")"
      ],
      "execution_count": null,
      "outputs": [
        {
          "output_type": "display_data",
          "data": {
            "text/html": [
              "<html>\n",
              "<head><meta charset=\"utf-8\" /></head>\n",
              "<body>\n",
              "    <div>            <script src=\"https://cdnjs.cloudflare.com/ajax/libs/mathjax/2.7.5/MathJax.js?config=TeX-AMS-MML_SVG\"></script><script type=\"text/javascript\">if (window.MathJax) {MathJax.Hub.Config({SVG: {font: \"STIX-Web\"}});}</script>                <script type=\"text/javascript\">window.PlotlyConfig = {MathJaxConfig: 'local'};</script>\n",
              "        <script src=\"https://cdn.plot.ly/plotly-latest.min.js\"></script>                <div id=\"dd003bc1-3f7d-4e54-a092-fbe82765c23b\" class=\"plotly-graph-div\" style=\"height:525px; width:100%;\"></div>            <script type=\"text/javascript\">                                    window.PLOTLYENV=window.PLOTLYENV || {};                                    if (document.getElementById(\"dd003bc1-3f7d-4e54-a092-fbe82765c23b\")) {                    Plotly.newPlot(                        \"dd003bc1-3f7d-4e54-a092-fbe82765c23b\",                        [{\"alignmentgroup\": \"True\", \"hovertemplate\": \"Date=1/23/20<br>Country=%{x}<br>Cases=%{y}<extra></extra>\", \"ids\": [\"Australia\", \"Brazil\", \"India\", \"US\"], \"legendgroup\": \"\", \"marker\": {\"color\": \"#42f587\"}, \"name\": \"\", \"offsetgroup\": \"\", \"orientation\": \"v\", \"showlegend\": false, \"textposition\": \"auto\", \"type\": \"bar\", \"x\": [\"Australia\", \"Brazil\", \"India\", \"US\"], \"xaxis\": \"x\", \"y\": [0, 0, 0, 0], \"yaxis\": \"y\"}],                        {\"barmode\": \"relative\", \"legend\": {\"tracegroupgap\": 0}, \"margin\": {\"t\": 60}, \"showlegend\": false, \"sliders\": [{\"active\": 0, \"currentvalue\": {\"prefix\": \"Date=\"}, \"len\": 0.9, \"pad\": {\"b\": 10, \"t\": 60}, \"steps\": [{\"args\": [[\"1/23/20\"], {\"frame\": {\"duration\": 0, \"redraw\": true}, \"fromcurrent\": true, \"mode\": \"immediate\", \"transition\": {\"duration\": 0, \"easing\": \"linear\"}}], \"label\": \"1/23/20\", \"method\": \"animate\"}, {\"args\": [[\"1/28/20\"], {\"frame\": {\"duration\": 0, \"redraw\": true}, \"fromcurrent\": true, \"mode\": \"immediate\", \"transition\": {\"duration\": 0, \"easing\": \"linear\"}}], \"label\": \"1/28/20\", \"method\": \"animate\"}, {\"args\": [[\"2/3/20\"], {\"frame\": {\"duration\": 0, \"redraw\": true}, \"fromcurrent\": true, \"mode\": \"immediate\", \"transition\": {\"duration\": 0, \"easing\": \"linear\"}}], \"label\": \"2/3/20\", \"method\": \"animate\"}, {\"args\": [[\"2/8/20\"], {\"frame\": {\"duration\": 0, \"redraw\": true}, \"fromcurrent\": true, \"mode\": \"immediate\", \"transition\": {\"duration\": 0, \"easing\": \"linear\"}}], \"label\": \"2/8/20\", \"method\": \"animate\"}, {\"args\": [[\"2/11/20\"], {\"frame\": {\"duration\": 0, \"redraw\": true}, \"fromcurrent\": true, \"mode\": \"immediate\", \"transition\": {\"duration\": 0, \"easing\": \"linear\"}}], \"label\": \"2/11/20\", \"method\": \"animate\"}, {\"args\": [[\"2/16/20\"], {\"frame\": {\"duration\": 0, \"redraw\": true}, \"fromcurrent\": true, \"mode\": \"immediate\", \"transition\": {\"duration\": 0, \"easing\": \"linear\"}}], \"label\": \"2/16/20\", \"method\": \"animate\"}, {\"args\": [[\"2/20/20\"], {\"frame\": {\"duration\": 0, \"redraw\": true}, \"fromcurrent\": true, \"mode\": \"immediate\", \"transition\": {\"duration\": 0, \"easing\": \"linear\"}}], \"label\": \"2/20/20\", \"method\": \"animate\"}, {\"args\": [[\"2/25/20\"], {\"frame\": {\"duration\": 0, \"redraw\": true}, \"fromcurrent\": true, \"mode\": \"immediate\", \"transition\": {\"duration\": 0, \"easing\": \"linear\"}}], \"label\": \"2/25/20\", \"method\": \"animate\"}, {\"args\": [[\"3/7/20\"], {\"frame\": {\"duration\": 0, \"redraw\": true}, \"fromcurrent\": true, \"mode\": \"immediate\", \"transition\": {\"duration\": 0, \"easing\": \"linear\"}}], \"label\": \"3/7/20\", \"method\": \"animate\"}, {\"args\": [[\"3/12/20\"], {\"frame\": {\"duration\": 0, \"redraw\": true}, \"fromcurrent\": true, \"mode\": \"immediate\", \"transition\": {\"duration\": 0, \"easing\": \"linear\"}}], \"label\": \"3/12/20\", \"method\": \"animate\"}, {\"args\": [[\"3/17/20\"], {\"frame\": {\"duration\": 0, \"redraw\": true}, \"fromcurrent\": true, \"mode\": \"immediate\", \"transition\": {\"duration\": 0, \"easing\": \"linear\"}}], \"label\": \"3/17/20\", \"method\": \"animate\"}, {\"args\": [[\"3/21/20\"], {\"frame\": {\"duration\": 0, \"redraw\": true}, \"fromcurrent\": true, \"mode\": \"immediate\", \"transition\": {\"duration\": 0, \"easing\": \"linear\"}}], \"label\": \"3/21/20\", \"method\": \"animate\"}, {\"args\": [[\"3/26/20\"], {\"frame\": {\"duration\": 0, \"redraw\": true}, \"fromcurrent\": true, \"mode\": \"immediate\", \"transition\": {\"duration\": 0, \"easing\": \"linear\"}}], \"label\": \"3/26/20\", \"method\": \"animate\"}, {\"args\": [[\"3/30/20\"], {\"frame\": {\"duration\": 0, \"redraw\": true}, \"fromcurrent\": true, \"mode\": \"immediate\", \"transition\": {\"duration\": 0, \"easing\": \"linear\"}}], \"label\": \"3/30/20\", \"method\": \"animate\"}, {\"args\": [[\"4/3/20\"], {\"frame\": {\"duration\": 0, \"redraw\": true}, \"fromcurrent\": true, \"mode\": \"immediate\", \"transition\": {\"duration\": 0, \"easing\": \"linear\"}}], \"label\": \"4/3/20\", \"method\": \"animate\"}, {\"args\": [[\"4/7/20\"], {\"frame\": {\"duration\": 0, \"redraw\": true}, \"fromcurrent\": true, \"mode\": \"immediate\", \"transition\": {\"duration\": 0, \"easing\": \"linear\"}}], \"label\": \"4/7/20\", \"method\": \"animate\"}, {\"args\": [[\"4/11/20\"], {\"frame\": {\"duration\": 0, \"redraw\": true}, \"fromcurrent\": true, \"mode\": \"immediate\", \"transition\": {\"duration\": 0, \"easing\": \"linear\"}}], \"label\": \"4/11/20\", \"method\": \"animate\"}, {\"args\": [[\"4/16/20\"], {\"frame\": {\"duration\": 0, \"redraw\": true}, \"fromcurrent\": true, \"mode\": \"immediate\", \"transition\": {\"duration\": 0, \"easing\": \"linear\"}}], \"label\": \"4/16/20\", \"method\": \"animate\"}, {\"args\": [[\"4/20/20\"], {\"frame\": {\"duration\": 0, \"redraw\": true}, \"fromcurrent\": true, \"mode\": \"immediate\", \"transition\": {\"duration\": 0, \"easing\": \"linear\"}}], \"label\": \"4/20/20\", \"method\": \"animate\"}, {\"args\": [[\"4/25/20\"], {\"frame\": {\"duration\": 0, \"redraw\": true}, \"fromcurrent\": true, \"mode\": \"immediate\", \"transition\": {\"duration\": 0, \"easing\": \"linear\"}}], \"label\": \"4/25/20\", \"method\": \"animate\"}, {\"args\": [[\"5/3/20\"], {\"frame\": {\"duration\": 0, \"redraw\": true}, \"fromcurrent\": true, \"mode\": \"immediate\", \"transition\": {\"duration\": 0, \"easing\": \"linear\"}}], \"label\": \"5/3/20\", \"method\": \"animate\"}, {\"args\": [[\"5/6/20\"], {\"frame\": {\"duration\": 0, \"redraw\": true}, \"fromcurrent\": true, \"mode\": \"immediate\", \"transition\": {\"duration\": 0, \"easing\": \"linear\"}}], \"label\": \"5/6/20\", \"method\": \"animate\"}, {\"args\": [[\"5/11/20\"], {\"frame\": {\"duration\": 0, \"redraw\": true}, \"fromcurrent\": true, \"mode\": \"immediate\", \"transition\": {\"duration\": 0, \"easing\": \"linear\"}}], \"label\": \"5/11/20\", \"method\": \"animate\"}, {\"args\": [[\"5/16/20\"], {\"frame\": {\"duration\": 0, \"redraw\": true}, \"fromcurrent\": true, \"mode\": \"immediate\", \"transition\": {\"duration\": 0, \"easing\": \"linear\"}}], \"label\": \"5/16/20\", \"method\": \"animate\"}, {\"args\": [[\"5/20/20\"], {\"frame\": {\"duration\": 0, \"redraw\": true}, \"fromcurrent\": true, \"mode\": \"immediate\", \"transition\": {\"duration\": 0, \"easing\": \"linear\"}}], \"label\": \"5/20/20\", \"method\": \"animate\"}, {\"args\": [[\"5/25/20\"], {\"frame\": {\"duration\": 0, \"redraw\": true}, \"fromcurrent\": true, \"mode\": \"immediate\", \"transition\": {\"duration\": 0, \"easing\": \"linear\"}}], \"label\": \"5/25/20\", \"method\": \"animate\"}, {\"args\": [[\"6/2/20\"], {\"frame\": {\"duration\": 0, \"redraw\": true}, \"fromcurrent\": true, \"mode\": \"immediate\", \"transition\": {\"duration\": 0, \"easing\": \"linear\"}}], \"label\": \"6/2/20\", \"method\": \"animate\"}, {\"args\": [[\"6/6/20\"], {\"frame\": {\"duration\": 0, \"redraw\": true}, \"fromcurrent\": true, \"mode\": \"immediate\", \"transition\": {\"duration\": 0, \"easing\": \"linear\"}}], \"label\": \"6/6/20\", \"method\": \"animate\"}, {\"args\": [[\"6/10/20\"], {\"frame\": {\"duration\": 0, \"redraw\": true}, \"fromcurrent\": true, \"mode\": \"immediate\", \"transition\": {\"duration\": 0, \"easing\": \"linear\"}}], \"label\": \"6/10/20\", \"method\": \"animate\"}, {\"args\": [[\"6/15/20\"], {\"frame\": {\"duration\": 0, \"redraw\": true}, \"fromcurrent\": true, \"mode\": \"immediate\", \"transition\": {\"duration\": 0, \"easing\": \"linear\"}}], \"label\": \"6/15/20\", \"method\": \"animate\"}, {\"args\": [[\"6/24/20\"], {\"frame\": {\"duration\": 0, \"redraw\": true}, \"fromcurrent\": true, \"mode\": \"immediate\", \"transition\": {\"duration\": 0, \"easing\": \"linear\"}}], \"label\": \"6/24/20\", \"method\": \"animate\"}, {\"args\": [[\"6/29/20\"], {\"frame\": {\"duration\": 0, \"redraw\": true}, \"fromcurrent\": true, \"mode\": \"immediate\", \"transition\": {\"duration\": 0, \"easing\": \"linear\"}}], \"label\": \"6/29/20\", \"method\": \"animate\"}, {\"args\": [[\"7/2/20\"], {\"frame\": {\"duration\": 0, \"redraw\": true}, \"fromcurrent\": true, \"mode\": \"immediate\", \"transition\": {\"duration\": 0, \"easing\": \"linear\"}}], \"label\": \"7/2/20\", \"method\": \"animate\"}, {\"args\": [[\"7/5/20\"], {\"frame\": {\"duration\": 0, \"redraw\": true}, \"fromcurrent\": true, \"mode\": \"immediate\", \"transition\": {\"duration\": 0, \"easing\": \"linear\"}}], \"label\": \"7/5/20\", \"method\": \"animate\"}, {\"args\": [[\"7/10/20\"], {\"frame\": {\"duration\": 0, \"redraw\": true}, \"fromcurrent\": true, \"mode\": \"immediate\", \"transition\": {\"duration\": 0, \"easing\": \"linear\"}}], \"label\": \"7/10/20\", \"method\": \"animate\"}, {\"args\": [[\"7/15/20\"], {\"frame\": {\"duration\": 0, \"redraw\": true}, \"fromcurrent\": true, \"mode\": \"immediate\", \"transition\": {\"duration\": 0, \"easing\": \"linear\"}}], \"label\": \"7/15/20\", \"method\": \"animate\"}, {\"args\": [[\"7/24/20\"], {\"frame\": {\"duration\": 0, \"redraw\": true}, \"fromcurrent\": true, \"mode\": \"immediate\", \"transition\": {\"duration\": 0, \"easing\": \"linear\"}}], \"label\": \"7/24/20\", \"method\": \"animate\"}, {\"args\": [[\"7/29/20\"], {\"frame\": {\"duration\": 0, \"redraw\": true}, \"fromcurrent\": true, \"mode\": \"immediate\", \"transition\": {\"duration\": 0, \"easing\": \"linear\"}}], \"label\": \"7/29/20\", \"method\": \"animate\"}, {\"args\": [[\"8/1/20\"], {\"frame\": {\"duration\": 0, \"redraw\": true}, \"fromcurrent\": true, \"mode\": \"immediate\", \"transition\": {\"duration\": 0, \"easing\": \"linear\"}}], \"label\": \"8/1/20\", \"method\": \"animate\"}, {\"args\": [[\"8/4/20\"], {\"frame\": {\"duration\": 0, \"redraw\": true}, \"fromcurrent\": true, \"mode\": \"immediate\", \"transition\": {\"duration\": 0, \"easing\": \"linear\"}}], \"label\": \"8/4/20\", \"method\": \"animate\"}, {\"args\": [[\"8/9/20\"], {\"frame\": {\"duration\": 0, \"redraw\": true}, \"fromcurrent\": true, \"mode\": \"immediate\", \"transition\": {\"duration\": 0, \"easing\": \"linear\"}}], \"label\": \"8/9/20\", \"method\": \"animate\"}, {\"args\": [[\"8/14/20\"], {\"frame\": {\"duration\": 0, \"redraw\": true}, \"fromcurrent\": true, \"mode\": \"immediate\", \"transition\": {\"duration\": 0, \"easing\": \"linear\"}}], \"label\": \"8/14/20\", \"method\": \"animate\"}, {\"args\": [[\"8/19/20\"], {\"frame\": {\"duration\": 0, \"redraw\": true}, \"fromcurrent\": true, \"mode\": \"immediate\", \"transition\": {\"duration\": 0, \"easing\": \"linear\"}}], \"label\": \"8/19/20\", \"method\": \"animate\"}, {\"args\": [[\"8/23/20\"], {\"frame\": {\"duration\": 0, \"redraw\": true}, \"fromcurrent\": true, \"mode\": \"immediate\", \"transition\": {\"duration\": 0, \"easing\": \"linear\"}}], \"label\": \"8/23/20\", \"method\": \"animate\"}, {\"args\": [[\"8/28/20\"], {\"frame\": {\"duration\": 0, \"redraw\": true}, \"fromcurrent\": true, \"mode\": \"immediate\", \"transition\": {\"duration\": 0, \"easing\": \"linear\"}}], \"label\": \"8/28/20\", \"method\": \"animate\"}, {\"args\": [[\"9/4/20\"], {\"frame\": {\"duration\": 0, \"redraw\": true}, \"fromcurrent\": true, \"mode\": \"immediate\", \"transition\": {\"duration\": 0, \"easing\": \"linear\"}}], \"label\": \"9/4/20\", \"method\": \"animate\"}, {\"args\": [[\"9/9/20\"], {\"frame\": {\"duration\": 0, \"redraw\": true}, \"fromcurrent\": true, \"mode\": \"immediate\", \"transition\": {\"duration\": 0, \"easing\": \"linear\"}}], \"label\": \"9/9/20\", \"method\": \"animate\"}, {\"args\": [[\"9/13/20\"], {\"frame\": {\"duration\": 0, \"redraw\": true}, \"fromcurrent\": true, \"mode\": \"immediate\", \"transition\": {\"duration\": 0, \"easing\": \"linear\"}}], \"label\": \"9/13/20\", \"method\": \"animate\"}, {\"args\": [[\"9/18/20\"], {\"frame\": {\"duration\": 0, \"redraw\": true}, \"fromcurrent\": true, \"mode\": \"immediate\", \"transition\": {\"duration\": 0, \"easing\": \"linear\"}}], \"label\": \"9/18/20\", \"method\": \"animate\"}, {\"args\": [[\"9/22/20\"], {\"frame\": {\"duration\": 0, \"redraw\": true}, \"fromcurrent\": true, \"mode\": \"immediate\", \"transition\": {\"duration\": 0, \"easing\": \"linear\"}}], \"label\": \"9/22/20\", \"method\": \"animate\"}, {\"args\": [[\"9/27/20\"], {\"frame\": {\"duration\": 0, \"redraw\": true}, \"fromcurrent\": true, \"mode\": \"immediate\", \"transition\": {\"duration\": 0, \"easing\": \"linear\"}}], \"label\": \"9/27/20\", \"method\": \"animate\"}, {\"args\": [[\"10/2/20\"], {\"frame\": {\"duration\": 0, \"redraw\": true}, \"fromcurrent\": true, \"mode\": \"immediate\", \"transition\": {\"duration\": 0, \"easing\": \"linear\"}}], \"label\": \"10/2/20\", \"method\": \"animate\"}, {\"args\": [[\"10/5/20\"], {\"frame\": {\"duration\": 0, \"redraw\": true}, \"fromcurrent\": true, \"mode\": \"immediate\", \"transition\": {\"duration\": 0, \"easing\": \"linear\"}}], \"label\": \"10/5/20\", \"method\": \"animate\"}, {\"args\": [[\"10/10/20\"], {\"frame\": {\"duration\": 0, \"redraw\": true}, \"fromcurrent\": true, \"mode\": \"immediate\", \"transition\": {\"duration\": 0, \"easing\": \"linear\"}}], \"label\": \"10/10/20\", \"method\": \"animate\"}, {\"args\": [[\"10/15/20\"], {\"frame\": {\"duration\": 0, \"redraw\": true}, \"fromcurrent\": true, \"mode\": \"immediate\", \"transition\": {\"duration\": 0, \"easing\": \"linear\"}}], \"label\": \"10/15/20\", \"method\": \"animate\"}, {\"args\": [[\"10/24/20\"], {\"frame\": {\"duration\": 0, \"redraw\": true}, \"fromcurrent\": true, \"mode\": \"immediate\", \"transition\": {\"duration\": 0, \"easing\": \"linear\"}}], \"label\": \"10/24/20\", \"method\": \"animate\"}, {\"args\": [[\"10/29/20\"], {\"frame\": {\"duration\": 0, \"redraw\": true}, \"fromcurrent\": true, \"mode\": \"immediate\", \"transition\": {\"duration\": 0, \"easing\": \"linear\"}}], \"label\": \"10/29/20\", \"method\": \"animate\"}, {\"args\": [[\"11/1/20\"], {\"frame\": {\"duration\": 0, \"redraw\": true}, \"fromcurrent\": true, \"mode\": \"immediate\", \"transition\": {\"duration\": 0, \"easing\": \"linear\"}}], \"label\": \"11/1/20\", \"method\": \"animate\"}, {\"args\": [[\"11/5/20\"], {\"frame\": {\"duration\": 0, \"redraw\": true}, \"fromcurrent\": true, \"mode\": \"immediate\", \"transition\": {\"duration\": 0, \"easing\": \"linear\"}}], \"label\": \"11/5/20\", \"method\": \"animate\"}, {\"args\": [[\"11/14/20\"], {\"frame\": {\"duration\": 0, \"redraw\": true}, \"fromcurrent\": true, \"mode\": \"immediate\", \"transition\": {\"duration\": 0, \"easing\": \"linear\"}}], \"label\": \"11/14/20\", \"method\": \"animate\"}, {\"args\": [[\"11/19/20\"], {\"frame\": {\"duration\": 0, \"redraw\": true}, \"fromcurrent\": true, \"mode\": \"immediate\", \"transition\": {\"duration\": 0, \"easing\": \"linear\"}}], \"label\": \"11/19/20\", \"method\": \"animate\"}, {\"args\": [[\"11/23/20\"], {\"frame\": {\"duration\": 0, \"redraw\": true}, \"fromcurrent\": true, \"mode\": \"immediate\", \"transition\": {\"duration\": 0, \"easing\": \"linear\"}}], \"label\": \"11/23/20\", \"method\": \"animate\"}, {\"args\": [[\"11/28/20\"], {\"frame\": {\"duration\": 0, \"redraw\": true}, \"fromcurrent\": true, \"mode\": \"immediate\", \"transition\": {\"duration\": 0, \"easing\": \"linear\"}}], \"label\": \"11/28/20\", \"method\": \"animate\"}, {\"args\": [[\"12/1/20\"], {\"frame\": {\"duration\": 0, \"redraw\": true}, \"fromcurrent\": true, \"mode\": \"immediate\", \"transition\": {\"duration\": 0, \"easing\": \"linear\"}}], \"label\": \"12/1/20\", \"method\": \"animate\"}, {\"args\": [[\"12/7/20\"], {\"frame\": {\"duration\": 0, \"redraw\": true}, \"fromcurrent\": true, \"mode\": \"immediate\", \"transition\": {\"duration\": 0, \"easing\": \"linear\"}}], \"label\": \"12/7/20\", \"method\": \"animate\"}, {\"args\": [[\"12/14/20\"], {\"frame\": {\"duration\": 0, \"redraw\": true}, \"fromcurrent\": true, \"mode\": \"immediate\", \"transition\": {\"duration\": 0, \"easing\": \"linear\"}}], \"label\": \"12/14/20\", \"method\": \"animate\"}, {\"args\": [[\"12/19/20\"], {\"frame\": {\"duration\": 0, \"redraw\": true}, \"fromcurrent\": true, \"mode\": \"immediate\", \"transition\": {\"duration\": 0, \"easing\": \"linear\"}}], \"label\": \"12/19/20\", \"method\": \"animate\"}, {\"args\": [[\"12/23/20\"], {\"frame\": {\"duration\": 0, \"redraw\": true}, \"fromcurrent\": true, \"mode\": \"immediate\", \"transition\": {\"duration\": 0, \"easing\": \"linear\"}}], \"label\": \"12/23/20\", \"method\": \"animate\"}, {\"args\": [[\"12/28/20\"], {\"frame\": {\"duration\": 0, \"redraw\": true}, \"fromcurrent\": true, \"mode\": \"immediate\", \"transition\": {\"duration\": 0, \"easing\": \"linear\"}}], \"label\": \"12/28/20\", \"method\": \"animate\"}], \"x\": 0.1, \"xanchor\": \"left\", \"y\": 0, \"yanchor\": \"top\"}], \"template\": {\"data\": {\"bar\": [{\"error_x\": {\"color\": \"#f2f5fa\"}, \"error_y\": {\"color\": \"#f2f5fa\"}, \"marker\": {\"line\": {\"color\": \"rgb(17,17,17)\", \"width\": 0.5}}, \"type\": \"bar\"}], \"barpolar\": [{\"marker\": {\"line\": {\"color\": \"rgb(17,17,17)\", \"width\": 0.5}}, \"type\": \"barpolar\"}], \"carpet\": [{\"aaxis\": {\"endlinecolor\": \"#A2B1C6\", \"gridcolor\": \"#506784\", \"linecolor\": \"#506784\", \"minorgridcolor\": \"#506784\", \"startlinecolor\": \"#A2B1C6\"}, \"baxis\": {\"endlinecolor\": \"#A2B1C6\", \"gridcolor\": \"#506784\", \"linecolor\": \"#506784\", \"minorgridcolor\": \"#506784\", \"startlinecolor\": \"#A2B1C6\"}, \"type\": \"carpet\"}], \"choropleth\": [{\"colorbar\": {\"outlinewidth\": 0, \"ticks\": \"\"}, \"type\": \"choropleth\"}], \"contour\": [{\"colorbar\": {\"outlinewidth\": 0, \"ticks\": \"\"}, \"colorscale\": [[0.0, \"#0d0887\"], [0.1111111111111111, \"#46039f\"], [0.2222222222222222, \"#7201a8\"], [0.3333333333333333, \"#9c179e\"], [0.4444444444444444, \"#bd3786\"], [0.5555555555555556, \"#d8576b\"], [0.6666666666666666, \"#ed7953\"], [0.7777777777777778, \"#fb9f3a\"], [0.8888888888888888, \"#fdca26\"], [1.0, \"#f0f921\"]], \"type\": \"contour\"}], \"contourcarpet\": [{\"colorbar\": {\"outlinewidth\": 0, \"ticks\": \"\"}, \"type\": \"contourcarpet\"}], \"heatmap\": [{\"colorbar\": {\"outlinewidth\": 0, \"ticks\": \"\"}, \"colorscale\": [[0.0, \"#0d0887\"], [0.1111111111111111, \"#46039f\"], [0.2222222222222222, \"#7201a8\"], [0.3333333333333333, \"#9c179e\"], [0.4444444444444444, \"#bd3786\"], [0.5555555555555556, \"#d8576b\"], [0.6666666666666666, \"#ed7953\"], [0.7777777777777778, \"#fb9f3a\"], [0.8888888888888888, \"#fdca26\"], [1.0, \"#f0f921\"]], \"type\": \"heatmap\"}], \"heatmapgl\": [{\"colorbar\": {\"outlinewidth\": 0, \"ticks\": \"\"}, \"colorscale\": [[0.0, \"#0d0887\"], [0.1111111111111111, \"#46039f\"], [0.2222222222222222, \"#7201a8\"], [0.3333333333333333, \"#9c179e\"], [0.4444444444444444, \"#bd3786\"], [0.5555555555555556, \"#d8576b\"], [0.6666666666666666, \"#ed7953\"], [0.7777777777777778, \"#fb9f3a\"], [0.8888888888888888, \"#fdca26\"], [1.0, \"#f0f921\"]], \"type\": \"heatmapgl\"}], \"histogram\": [{\"marker\": {\"colorbar\": {\"outlinewidth\": 0, \"ticks\": \"\"}}, \"type\": \"histogram\"}], \"histogram2d\": [{\"colorbar\": {\"outlinewidth\": 0, \"ticks\": \"\"}, \"colorscale\": [[0.0, \"#0d0887\"], [0.1111111111111111, \"#46039f\"], [0.2222222222222222, \"#7201a8\"], [0.3333333333333333, \"#9c179e\"], [0.4444444444444444, \"#bd3786\"], [0.5555555555555556, \"#d8576b\"], [0.6666666666666666, \"#ed7953\"], [0.7777777777777778, \"#fb9f3a\"], [0.8888888888888888, \"#fdca26\"], [1.0, \"#f0f921\"]], \"type\": \"histogram2d\"}], \"histogram2dcontour\": [{\"colorbar\": {\"outlinewidth\": 0, \"ticks\": \"\"}, \"colorscale\": [[0.0, \"#0d0887\"], [0.1111111111111111, \"#46039f\"], [0.2222222222222222, \"#7201a8\"], [0.3333333333333333, \"#9c179e\"], [0.4444444444444444, \"#bd3786\"], [0.5555555555555556, \"#d8576b\"], [0.6666666666666666, \"#ed7953\"], [0.7777777777777778, \"#fb9f3a\"], [0.8888888888888888, \"#fdca26\"], [1.0, \"#f0f921\"]], \"type\": \"histogram2dcontour\"}], \"mesh3d\": [{\"colorbar\": {\"outlinewidth\": 0, \"ticks\": \"\"}, \"type\": \"mesh3d\"}], \"parcoords\": [{\"line\": {\"colorbar\": {\"outlinewidth\": 0, \"ticks\": \"\"}}, \"type\": \"parcoords\"}], \"pie\": [{\"automargin\": true, \"type\": \"pie\"}], \"scatter\": [{\"marker\": {\"line\": {\"color\": \"#283442\"}}, \"type\": \"scatter\"}], \"scatter3d\": [{\"line\": {\"colorbar\": {\"outlinewidth\": 0, \"ticks\": \"\"}}, \"marker\": {\"colorbar\": {\"outlinewidth\": 0, \"ticks\": \"\"}}, \"type\": \"scatter3d\"}], \"scattercarpet\": [{\"marker\": {\"colorbar\": {\"outlinewidth\": 0, \"ticks\": \"\"}}, \"type\": \"scattercarpet\"}], \"scattergeo\": [{\"marker\": {\"colorbar\": {\"outlinewidth\": 0, \"ticks\": \"\"}}, \"type\": \"scattergeo\"}], \"scattergl\": [{\"marker\": {\"line\": {\"color\": \"#283442\"}}, \"type\": \"scattergl\"}], \"scattermapbox\": [{\"marker\": {\"colorbar\": {\"outlinewidth\": 0, \"ticks\": \"\"}}, \"type\": \"scattermapbox\"}], \"scatterpolar\": [{\"marker\": {\"colorbar\": {\"outlinewidth\": 0, \"ticks\": \"\"}}, \"type\": \"scatterpolar\"}], \"scatterpolargl\": [{\"marker\": {\"colorbar\": {\"outlinewidth\": 0, \"ticks\": \"\"}}, \"type\": \"scatterpolargl\"}], \"scatterternary\": [{\"marker\": {\"colorbar\": {\"outlinewidth\": 0, \"ticks\": \"\"}}, \"type\": \"scatterternary\"}], \"surface\": [{\"colorbar\": {\"outlinewidth\": 0, \"ticks\": \"\"}, \"colorscale\": [[0.0, \"#0d0887\"], [0.1111111111111111, \"#46039f\"], [0.2222222222222222, \"#7201a8\"], [0.3333333333333333, \"#9c179e\"], [0.4444444444444444, \"#bd3786\"], [0.5555555555555556, \"#d8576b\"], [0.6666666666666666, \"#ed7953\"], [0.7777777777777778, \"#fb9f3a\"], [0.8888888888888888, \"#fdca26\"], [1.0, \"#f0f921\"]], \"type\": \"surface\"}], \"table\": [{\"cells\": {\"fill\": {\"color\": \"#506784\"}, \"line\": {\"color\": \"rgb(17,17,17)\"}}, \"header\": {\"fill\": {\"color\": \"#2a3f5f\"}, \"line\": {\"color\": \"rgb(17,17,17)\"}}, \"type\": \"table\"}]}, \"layout\": {\"annotationdefaults\": {\"arrowcolor\": \"#f2f5fa\", \"arrowhead\": 0, \"arrowwidth\": 1}, \"autotypenumbers\": \"strict\", \"coloraxis\": {\"colorbar\": {\"outlinewidth\": 0, \"ticks\": \"\"}}, \"colorscale\": {\"diverging\": [[0, \"#8e0152\"], [0.1, \"#c51b7d\"], [0.2, \"#de77ae\"], [0.3, \"#f1b6da\"], [0.4, \"#fde0ef\"], [0.5, \"#f7f7f7\"], [0.6, \"#e6f5d0\"], [0.7, \"#b8e186\"], [0.8, \"#7fbc41\"], [0.9, \"#4d9221\"], [1, \"#276419\"]], \"sequential\": [[0.0, \"#0d0887\"], [0.1111111111111111, \"#46039f\"], [0.2222222222222222, \"#7201a8\"], [0.3333333333333333, \"#9c179e\"], [0.4444444444444444, \"#bd3786\"], [0.5555555555555556, \"#d8576b\"], [0.6666666666666666, \"#ed7953\"], [0.7777777777777778, \"#fb9f3a\"], [0.8888888888888888, \"#fdca26\"], [1.0, \"#f0f921\"]], \"sequentialminus\": [[0.0, \"#0d0887\"], [0.1111111111111111, \"#46039f\"], [0.2222222222222222, \"#7201a8\"], [0.3333333333333333, \"#9c179e\"], [0.4444444444444444, \"#bd3786\"], [0.5555555555555556, \"#d8576b\"], [0.6666666666666666, \"#ed7953\"], [0.7777777777777778, \"#fb9f3a\"], [0.8888888888888888, \"#fdca26\"], [1.0, \"#f0f921\"]]}, \"colorway\": [\"#636efa\", \"#EF553B\", \"#00cc96\", \"#ab63fa\", \"#FFA15A\", \"#19d3f3\", \"#FF6692\", \"#B6E880\", \"#FF97FF\", \"#FECB52\"], \"font\": {\"color\": \"#f2f5fa\"}, \"geo\": {\"bgcolor\": \"rgb(17,17,17)\", \"lakecolor\": \"rgb(17,17,17)\", \"landcolor\": \"rgb(17,17,17)\", \"showlakes\": true, \"showland\": true, \"subunitcolor\": \"#506784\"}, \"hoverlabel\": {\"align\": \"left\"}, \"hovermode\": \"closest\", \"mapbox\": {\"style\": \"dark\"}, \"paper_bgcolor\": \"rgb(17,17,17)\", \"plot_bgcolor\": \"rgb(17,17,17)\", \"polar\": {\"angularaxis\": {\"gridcolor\": \"#506784\", \"linecolor\": \"#506784\", \"ticks\": \"\"}, \"bgcolor\": \"rgb(17,17,17)\", \"radialaxis\": {\"gridcolor\": \"#506784\", \"linecolor\": \"#506784\", \"ticks\": \"\"}}, \"scene\": {\"xaxis\": {\"backgroundcolor\": \"rgb(17,17,17)\", \"gridcolor\": \"#506784\", \"gridwidth\": 2, \"linecolor\": \"#506784\", \"showbackground\": true, \"ticks\": \"\", \"zerolinecolor\": \"#C8D4E3\"}, \"yaxis\": {\"backgroundcolor\": \"rgb(17,17,17)\", \"gridcolor\": \"#506784\", \"gridwidth\": 2, \"linecolor\": \"#506784\", \"showbackground\": true, \"ticks\": \"\", \"zerolinecolor\": \"#C8D4E3\"}, \"zaxis\": {\"backgroundcolor\": \"rgb(17,17,17)\", \"gridcolor\": \"#506784\", \"gridwidth\": 2, \"linecolor\": \"#506784\", \"showbackground\": true, \"ticks\": \"\", \"zerolinecolor\": \"#C8D4E3\"}}, \"shapedefaults\": {\"line\": {\"color\": \"#f2f5fa\"}}, \"sliderdefaults\": {\"bgcolor\": \"#C8D4E3\", \"bordercolor\": \"rgb(17,17,17)\", \"borderwidth\": 1, \"tickwidth\": 0}, \"ternary\": {\"aaxis\": {\"gridcolor\": \"#506784\", \"linecolor\": \"#506784\", \"ticks\": \"\"}, \"baxis\": {\"gridcolor\": \"#506784\", \"linecolor\": \"#506784\", \"ticks\": \"\"}, \"bgcolor\": \"rgb(17,17,17)\", \"caxis\": {\"gridcolor\": \"#506784\", \"linecolor\": \"#506784\", \"ticks\": \"\"}}, \"title\": {\"x\": 0.05}, \"updatemenudefaults\": {\"bgcolor\": \"#506784\", \"borderwidth\": 0}, \"xaxis\": {\"automargin\": true, \"gridcolor\": \"#283442\", \"linecolor\": \"#506784\", \"ticks\": \"\", \"title\": {\"standoff\": 15}, \"zerolinecolor\": \"#283442\", \"zerolinewidth\": 2}, \"yaxis\": {\"automargin\": true, \"gridcolor\": \"#283442\", \"linecolor\": \"#506784\", \"ticks\": \"\", \"title\": {\"standoff\": 15}, \"zerolinecolor\": \"#283442\", \"zerolinewidth\": 2}}}, \"updatemenus\": [{\"buttons\": [{\"args\": [null, {\"frame\": {\"duration\": 500, \"redraw\": true}, \"fromcurrent\": true, \"mode\": \"immediate\", \"transition\": {\"duration\": 500, \"easing\": \"linear\"}}], \"label\": \"&#9654;\", \"method\": \"animate\"}, {\"args\": [[null], {\"frame\": {\"duration\": 0, \"redraw\": true}, \"fromcurrent\": true, \"mode\": \"immediate\", \"transition\": {\"duration\": 0, \"easing\": \"linear\"}}], \"label\": \"&#9724;\", \"method\": \"animate\"}], \"direction\": \"left\", \"pad\": {\"r\": 10, \"t\": 70}, \"showactive\": false, \"type\": \"buttons\", \"x\": 0.1, \"xanchor\": \"right\", \"y\": 0, \"yanchor\": \"top\"}], \"xaxis\": {\"anchor\": \"y\", \"domain\": [0.0, 1.0], \"title\": {\"text\": \"Country\"}}, \"yaxis\": {\"anchor\": \"x\", \"domain\": [0.0, 1.0], \"range\": [0, 9807569], \"title\": {\"text\": \"Cases\"}}},                        {\"responsive\": true}                    ).then(function(){\n",
              "                            Plotly.addFrames('dd003bc1-3f7d-4e54-a092-fbe82765c23b', [{\"data\": [{\"alignmentgroup\": \"True\", \"hovertemplate\": \"Date=1/23/20<br>Country=%{x}<br>Cases=%{y}<extra></extra>\", \"ids\": [\"Australia\", \"Brazil\", \"India\", \"US\"], \"legendgroup\": \"\", \"marker\": {\"color\": \"#42f587\"}, \"name\": \"\", \"offsetgroup\": \"\", \"orientation\": \"v\", \"showlegend\": false, \"textposition\": \"auto\", \"x\": [\"Australia\", \"Brazil\", \"India\", \"US\"], \"xaxis\": \"x\", \"y\": [0, 0, 0, 0], \"yaxis\": \"y\", \"type\": \"bar\"}], \"name\": \"1/23/20\"}, {\"data\": [{\"alignmentgroup\": \"True\", \"hovertemplate\": \"Date=1/28/20<br>Country=%{x}<br>Cases=%{y}<extra></extra>\", \"ids\": [\"Australia\", \"Brazil\", \"India\", \"US\"], \"legendgroup\": \"\", \"marker\": {\"color\": \"#42f587\"}, \"name\": \"\", \"offsetgroup\": \"\", \"orientation\": \"v\", \"showlegend\": false, \"textposition\": \"auto\", \"x\": [\"Australia\", \"Brazil\", \"India\", \"US\"], \"xaxis\": \"x\", \"y\": [0, 0, 0, 0], \"yaxis\": \"y\", \"type\": \"bar\"}], \"name\": \"1/28/20\"}, {\"data\": [{\"alignmentgroup\": \"True\", \"hovertemplate\": \"Date=2/3/20<br>Country=%{x}<br>Cases=%{y}<extra></extra>\", \"ids\": [\"Australia\", \"Brazil\", \"India\", \"US\"], \"legendgroup\": \"\", \"marker\": {\"color\": \"#42f587\"}, \"name\": \"\", \"offsetgroup\": \"\", \"orientation\": \"v\", \"showlegend\": false, \"textposition\": \"auto\", \"x\": [\"Australia\", \"Brazil\", \"India\", \"US\"], \"xaxis\": \"x\", \"y\": [2, 0, 0, 0], \"yaxis\": \"y\", \"type\": \"bar\"}], \"name\": \"2/3/20\"}, {\"data\": [{\"alignmentgroup\": \"True\", \"hovertemplate\": \"Date=2/8/20<br>Country=%{x}<br>Cases=%{y}<extra></extra>\", \"ids\": [\"Australia\", \"Brazil\", \"India\", \"US\"], \"legendgroup\": \"\", \"marker\": {\"color\": \"#42f587\"}, \"name\": \"\", \"offsetgroup\": \"\", \"orientation\": \"v\", \"showlegend\": false, \"textposition\": \"auto\", \"x\": [\"Australia\", \"Brazil\", \"India\", \"US\"], \"xaxis\": \"x\", \"y\": [2, 0, 0, 0], \"yaxis\": \"y\", \"type\": \"bar\"}], \"name\": \"2/8/20\"}, {\"data\": [{\"alignmentgroup\": \"True\", \"hovertemplate\": \"Date=2/11/20<br>Country=%{x}<br>Cases=%{y}<extra></extra>\", \"ids\": [\"Australia\", \"Brazil\", \"India\", \"US\"], \"legendgroup\": \"\", \"marker\": {\"color\": \"#42f587\"}, \"name\": \"\", \"offsetgroup\": \"\", \"orientation\": \"v\", \"showlegend\": false, \"textposition\": \"auto\", \"x\": [\"Australia\", \"Brazil\", \"India\", \"US\"], \"xaxis\": \"x\", \"y\": [2, 0, 0, 3], \"yaxis\": \"y\", \"type\": \"bar\"}], \"name\": \"2/11/20\"}, {\"data\": [{\"alignmentgroup\": \"True\", \"hovertemplate\": \"Date=2/16/20<br>Country=%{x}<br>Cases=%{y}<extra></extra>\", \"ids\": [\"Australia\", \"Brazil\", \"India\", \"US\"], \"legendgroup\": \"\", \"marker\": {\"color\": \"#42f587\"}, \"name\": \"\", \"offsetgroup\": \"\", \"orientation\": \"v\", \"showlegend\": false, \"textposition\": \"auto\", \"x\": [\"Australia\", \"Brazil\", \"India\", \"US\"], \"xaxis\": \"x\", \"y\": [8, 0, 3, 3], \"yaxis\": \"y\", \"type\": \"bar\"}], \"name\": \"2/16/20\"}, {\"data\": [{\"alignmentgroup\": \"True\", \"hovertemplate\": \"Date=2/20/20<br>Country=%{x}<br>Cases=%{y}<extra></extra>\", \"ids\": [\"Australia\", \"Brazil\", \"India\", \"US\"], \"legendgroup\": \"\", \"marker\": {\"color\": \"#42f587\"}, \"name\": \"\", \"offsetgroup\": \"\", \"orientation\": \"v\", \"showlegend\": false, \"textposition\": \"auto\", \"x\": [\"Australia\", \"Brazil\", \"India\", \"US\"], \"xaxis\": \"x\", \"y\": [10, 0, 3, 3], \"yaxis\": \"y\", \"type\": \"bar\"}], \"name\": \"2/20/20\"}, {\"data\": [{\"alignmentgroup\": \"True\", \"hovertemplate\": \"Date=2/25/20<br>Country=%{x}<br>Cases=%{y}<extra></extra>\", \"ids\": [\"Australia\", \"Brazil\", \"India\", \"US\"], \"legendgroup\": \"\", \"marker\": {\"color\": \"#42f587\"}, \"name\": \"\", \"offsetgroup\": \"\", \"orientation\": \"v\", \"showlegend\": false, \"textposition\": \"auto\", \"x\": [\"Australia\", \"Brazil\", \"India\", \"US\"], \"xaxis\": \"x\", \"y\": [11, 0, 3, 6], \"yaxis\": \"y\", \"type\": \"bar\"}], \"name\": \"2/25/20\"}, {\"data\": [{\"alignmentgroup\": \"True\", \"hovertemplate\": \"Date=3/7/20<br>Country=%{x}<br>Cases=%{y}<extra></extra>\", \"ids\": [\"Australia\", \"Brazil\", \"India\", \"US\"], \"legendgroup\": \"\", \"marker\": {\"color\": \"#42f587\"}, \"name\": \"\", \"offsetgroup\": \"\", \"orientation\": \"v\", \"showlegend\": false, \"textposition\": \"auto\", \"x\": [\"Australia\", \"Brazil\", \"India\", \"US\"], \"xaxis\": \"x\", \"y\": [21, 0, 3, 7], \"yaxis\": \"y\", \"type\": \"bar\"}], \"name\": \"3/7/20\"}, {\"data\": [{\"alignmentgroup\": \"True\", \"hovertemplate\": \"Date=3/12/20<br>Country=%{x}<br>Cases=%{y}<extra></extra>\", \"ids\": [\"Australia\", \"Brazil\", \"India\", \"US\"], \"legendgroup\": \"\", \"marker\": {\"color\": \"#42f587\"}, \"name\": \"\", \"offsetgroup\": \"\", \"orientation\": \"v\", \"showlegend\": false, \"textposition\": \"auto\", \"x\": [\"Australia\", \"Brazil\", \"India\", \"US\"], \"xaxis\": \"x\", \"y\": [21, 0, 4, 12], \"yaxis\": \"y\", \"type\": \"bar\"}], \"name\": \"3/12/20\"}, {\"data\": [{\"alignmentgroup\": \"True\", \"hovertemplate\": \"Date=3/17/20<br>Country=%{x}<br>Cases=%{y}<extra></extra>\", \"ids\": [\"Australia\", \"Brazil\", \"India\", \"US\"], \"legendgroup\": \"\", \"marker\": {\"color\": \"#42f587\"}, \"name\": \"\", \"offsetgroup\": \"\", \"orientation\": \"v\", \"showlegend\": false, \"textposition\": \"auto\", \"x\": [\"Australia\", \"Brazil\", \"India\", \"US\"], \"xaxis\": \"x\", \"y\": [23, 2, 14, 17], \"yaxis\": \"y\", \"type\": \"bar\"}], \"name\": \"3/17/20\"}, {\"data\": [{\"alignmentgroup\": \"True\", \"hovertemplate\": \"Date=3/21/20<br>Country=%{x}<br>Cases=%{y}<extra></extra>\", \"ids\": [\"Australia\", \"Brazil\", \"India\", \"US\"], \"legendgroup\": \"\", \"marker\": {\"color\": \"#42f587\"}, \"name\": \"\", \"offsetgroup\": \"\", \"orientation\": \"v\", \"showlegend\": false, \"textposition\": \"auto\", \"x\": [\"Australia\", \"Brazil\", \"India\", \"US\"], \"xaxis\": \"x\", \"y\": [26, 2, 23, 176], \"yaxis\": \"y\", \"type\": \"bar\"}], \"name\": \"3/21/20\"}, {\"data\": [{\"alignmentgroup\": \"True\", \"hovertemplate\": \"Date=3/26/20<br>Country=%{x}<br>Cases=%{y}<extra></extra>\", \"ids\": [\"Australia\", \"Brazil\", \"India\", \"US\"], \"legendgroup\": \"\", \"marker\": {\"color\": \"#42f587\"}, \"name\": \"\", \"offsetgroup\": \"\", \"orientation\": \"v\", \"showlegend\": false, \"textposition\": \"auto\", \"x\": [\"Australia\", \"Brazil\", \"India\", \"US\"], \"xaxis\": \"x\", \"y\": [172, 6, 45, 681], \"yaxis\": \"y\", \"type\": \"bar\"}], \"name\": \"3/26/20\"}, {\"data\": [{\"alignmentgroup\": \"True\", \"hovertemplate\": \"Date=3/30/20<br>Country=%{x}<br>Cases=%{y}<extra></extra>\", \"ids\": [\"Australia\", \"Brazil\", \"India\", \"US\"], \"legendgroup\": \"\", \"marker\": {\"color\": \"#42f587\"}, \"name\": \"\", \"offsetgroup\": \"\", \"orientation\": \"v\", \"showlegend\": false, \"textposition\": \"auto\", \"x\": [\"Australia\", \"Brazil\", \"India\", \"US\"], \"xaxis\": \"x\", \"y\": [257, 120, 102, 5644], \"yaxis\": \"y\", \"type\": \"bar\"}], \"name\": \"3/30/20\"}, {\"data\": [{\"alignmentgroup\": \"True\", \"hovertemplate\": \"Date=4/3/20<br>Country=%{x}<br>Cases=%{y}<extra></extra>\", \"ids\": [\"Australia\", \"Brazil\", \"India\", \"US\"], \"legendgroup\": \"\", \"marker\": {\"color\": \"#42f587\"}, \"name\": \"\", \"offsetgroup\": \"\", \"orientation\": \"v\", \"showlegend\": false, \"textposition\": \"auto\", \"x\": [\"Australia\", \"Brazil\", \"India\", \"US\"], \"xaxis\": \"x\", \"y\": [649, 127, 192, 9707], \"yaxis\": \"y\", \"type\": \"bar\"}], \"name\": \"4/3/20\"}, {\"data\": [{\"alignmentgroup\": \"True\", \"hovertemplate\": \"Date=4/7/20<br>Country=%{x}<br>Cases=%{y}<extra></extra>\", \"ids\": [\"Australia\", \"Brazil\", \"India\", \"US\"], \"legendgroup\": \"\", \"marker\": {\"color\": \"#42f587\"}, \"name\": \"\", \"offsetgroup\": \"\", \"orientation\": \"v\", \"showlegend\": false, \"textposition\": \"auto\", \"x\": [\"Australia\", \"Brazil\", \"India\", \"US\"], \"xaxis\": \"x\", \"y\": [1080, 127, 421, 21763], \"yaxis\": \"y\", \"type\": \"bar\"}], \"name\": \"4/7/20\"}, {\"data\": [{\"alignmentgroup\": \"True\", \"hovertemplate\": \"Date=4/11/20<br>Country=%{x}<br>Cases=%{y}<extra></extra>\", \"ids\": [\"Australia\", \"Brazil\", \"India\", \"US\"], \"legendgroup\": \"\", \"marker\": {\"color\": \"#42f587\"}, \"name\": \"\", \"offsetgroup\": \"\", \"orientation\": \"v\", \"showlegend\": false, \"textposition\": \"auto\", \"x\": [\"Australia\", \"Brazil\", \"India\", \"US\"], \"xaxis\": \"x\", \"y\": [1806, 173, 969, 31270], \"yaxis\": \"y\", \"type\": \"bar\"}], \"name\": \"4/11/20\"}, {\"data\": [{\"alignmentgroup\": \"True\", \"hovertemplate\": \"Date=4/16/20<br>Country=%{x}<br>Cases=%{y}<extra></extra>\", \"ids\": [\"Australia\", \"Brazil\", \"India\", \"US\"], \"legendgroup\": \"\", \"marker\": {\"color\": \"#42f587\"}, \"name\": \"\", \"offsetgroup\": \"\", \"orientation\": \"v\", \"showlegend\": false, \"textposition\": \"auto\", \"x\": [\"Australia\", \"Brazil\", \"India\", \"US\"], \"xaxis\": \"x\", \"y\": [2355, 14026, 1768, 54703], \"yaxis\": \"y\", \"type\": \"bar\"}], \"name\": \"4/16/20\"}, {\"data\": [{\"alignmentgroup\": \"True\", \"hovertemplate\": \"Date=4/20/20<br>Country=%{x}<br>Cases=%{y}<extra></extra>\", \"ids\": [\"Australia\", \"Brazil\", \"India\", \"US\"], \"legendgroup\": \"\", \"marker\": {\"color\": \"#42f587\"}, \"name\": \"\", \"offsetgroup\": \"\", \"orientation\": \"v\", \"showlegend\": false, \"textposition\": \"auto\", \"x\": [\"Australia\", \"Brazil\", \"India\", \"US\"], \"xaxis\": \"x\", \"y\": [4291, 22130, 3273, 72329], \"yaxis\": \"y\", \"type\": \"bar\"}], \"name\": \"4/20/20\"}, {\"data\": [{\"alignmentgroup\": \"True\", \"hovertemplate\": \"Date=4/25/20<br>Country=%{x}<br>Cases=%{y}<extra></extra>\", \"ids\": [\"Australia\", \"Brazil\", \"India\", \"US\"], \"legendgroup\": \"\", \"marker\": {\"color\": \"#42f587\"}, \"name\": \"\", \"offsetgroup\": \"\", \"orientation\": \"v\", \"showlegend\": false, \"textposition\": \"auto\", \"x\": [\"Australia\", \"Brazil\", \"India\", \"US\"], \"xaxis\": \"x\", \"y\": [5376, 29160, 5939, 100372], \"yaxis\": \"y\", \"type\": \"bar\"}], \"name\": \"4/25/20\"}, {\"data\": [{\"alignmentgroup\": \"True\", \"hovertemplate\": \"Date=5/3/20<br>Country=%{x}<br>Cases=%{y}<extra></extra>\", \"ids\": [\"Australia\", \"Brazil\", \"India\", \"US\"], \"legendgroup\": \"\", \"marker\": {\"color\": \"#42f587\"}, \"name\": \"\", \"offsetgroup\": \"\", \"orientation\": \"v\", \"showlegend\": false, \"textposition\": \"auto\", \"x\": [\"Australia\", \"Brazil\", \"India\", \"US\"], \"xaxis\": \"x\", \"y\": [5849, 42991, 11775, 180152], \"yaxis\": \"y\", \"type\": \"bar\"}], \"name\": \"5/3/20\"}, {\"data\": [{\"alignmentgroup\": \"True\", \"hovertemplate\": \"Date=5/6/20<br>Country=%{x}<br>Cases=%{y}<extra></extra>\", \"ids\": [\"Australia\", \"Brazil\", \"India\", \"US\"], \"legendgroup\": \"\", \"marker\": {\"color\": \"#42f587\"}, \"name\": \"\", \"offsetgroup\": \"\", \"orientation\": \"v\", \"showlegend\": false, \"textposition\": \"auto\", \"x\": [\"Australia\", \"Brazil\", \"India\", \"US\"], \"xaxis\": \"x\", \"y\": [6031, 51370, 15331, 189910], \"yaxis\": \"y\", \"type\": \"bar\"}], \"name\": \"5/6/20\"}, {\"data\": [{\"alignmentgroup\": \"True\", \"hovertemplate\": \"Date=5/11/20<br>Country=%{x}<br>Cases=%{y}<extra></extra>\", \"ids\": [\"Australia\", \"Brazil\", \"India\", \"US\"], \"legendgroup\": \"\", \"marker\": {\"color\": \"#42f587\"}, \"name\": \"\", \"offsetgroup\": \"\", \"orientation\": \"v\", \"showlegend\": false, \"textposition\": \"auto\", \"x\": [\"Australia\", \"Brazil\", \"India\", \"US\"], \"xaxis\": \"x\", \"y\": [6213, 67384, 22549, 232733], \"yaxis\": \"y\", \"type\": \"bar\"}], \"name\": \"5/11/20\"}, {\"data\": [{\"alignmentgroup\": \"True\", \"hovertemplate\": \"Date=5/16/20<br>Country=%{x}<br>Cases=%{y}<extra></extra>\", \"ids\": [\"Australia\", \"Brazil\", \"India\", \"US\"], \"legendgroup\": \"\", \"marker\": {\"color\": \"#42f587\"}, \"name\": \"\", \"offsetgroup\": \"\", \"orientation\": \"v\", \"showlegend\": false, \"textposition\": \"auto\", \"x\": [\"Australia\", \"Brazil\", \"India\", \"US\"], \"xaxis\": \"x\", \"y\": [6364, 89672, 34224, 268376], \"yaxis\": \"y\", \"type\": \"bar\"}], \"name\": \"5/16/20\"}, {\"data\": [{\"alignmentgroup\": \"True\", \"hovertemplate\": \"Date=5/20/20<br>Country=%{x}<br>Cases=%{y}<extra></extra>\", \"ids\": [\"Australia\", \"Brazil\", \"India\", \"US\"], \"legendgroup\": \"\", \"marker\": {\"color\": \"#42f587\"}, \"name\": \"\", \"offsetgroup\": \"\", \"orientation\": \"v\", \"showlegend\": false, \"textposition\": \"auto\", \"x\": [\"Australia\", \"Brazil\", \"India\", \"US\"], \"xaxis\": \"x\", \"y\": [6470, 116683, 45422, 294312], \"yaxis\": \"y\", \"type\": \"bar\"}], \"name\": \"5/20/20\"}, {\"data\": [{\"alignmentgroup\": \"True\", \"hovertemplate\": \"Date=5/25/20<br>Country=%{x}<br>Cases=%{y}<extra></extra>\", \"ids\": [\"Australia\", \"Brazil\", \"India\", \"US\"], \"legendgroup\": \"\", \"marker\": {\"color\": \"#42f587\"}, \"name\": \"\", \"offsetgroup\": \"\", \"orientation\": \"v\", \"showlegend\": false, \"textposition\": \"auto\", \"x\": [\"Australia\", \"Brazil\", \"India\", \"US\"], \"xaxis\": \"x\", \"y\": [6552, 153833, 60706, 379157], \"yaxis\": \"y\", \"type\": \"bar\"}], \"name\": \"5/25/20\"}, {\"data\": [{\"alignmentgroup\": \"True\", \"hovertemplate\": \"Date=6/2/20<br>Country=%{x}<br>Cases=%{y}<extra></extra>\", \"ids\": [\"Australia\", \"Brazil\", \"India\", \"US\"], \"legendgroup\": \"\", \"marker\": {\"color\": \"#42f587\"}, \"name\": \"\", \"offsetgroup\": \"\", \"orientation\": \"v\", \"showlegend\": false, \"textposition\": \"auto\", \"x\": [\"Australia\", \"Brazil\", \"India\", \"US\"], \"xaxis\": \"x\", \"y\": [6636, 223638, 100285, 463868], \"yaxis\": \"y\", \"type\": \"bar\"}], \"name\": \"6/2/20\"}, {\"data\": [{\"alignmentgroup\": \"True\", \"hovertemplate\": \"Date=6/6/20<br>Country=%{x}<br>Cases=%{y}<extra></extra>\", \"ids\": [\"Australia\", \"Brazil\", \"India\", \"US\"], \"legendgroup\": \"\", \"marker\": {\"color\": \"#42f587\"}, \"name\": \"\", \"offsetgroup\": \"\", \"orientation\": \"v\", \"showlegend\": false, \"textposition\": \"auto\", \"x\": [\"Australia\", \"Brazil\", \"India\", \"US\"], \"xaxis\": \"x\", \"y\": [6703, 277149, 118695, 500849], \"yaxis\": \"y\", \"type\": \"bar\"}], \"name\": \"6/6/20\"}, {\"data\": [{\"alignmentgroup\": \"True\", \"hovertemplate\": \"Date=6/10/20<br>Country=%{x}<br>Cases=%{y}<extra></extra>\", \"ids\": [\"Australia\", \"Brazil\", \"India\", \"US\"], \"legendgroup\": \"\", \"marker\": {\"color\": \"#42f587\"}, \"name\": \"\", \"offsetgroup\": \"\", \"orientation\": \"v\", \"showlegend\": false, \"textposition\": \"auto\", \"x\": [\"Australia\", \"Brazil\", \"India\", \"US\"], \"xaxis\": \"x\", \"y\": [6759, 413916, 135206, 533504], \"yaxis\": \"y\", \"type\": \"bar\"}], \"name\": \"6/10/20\"}, {\"data\": [{\"alignmentgroup\": \"True\", \"hovertemplate\": \"Date=6/15/20<br>Country=%{x}<br>Cases=%{y}<extra></extra>\", \"ids\": [\"Australia\", \"Brazil\", \"India\", \"US\"], \"legendgroup\": \"\", \"marker\": {\"color\": \"#42f587\"}, \"name\": \"\", \"offsetgroup\": \"\", \"orientation\": \"v\", \"showlegend\": false, \"textposition\": \"auto\", \"x\": [\"Australia\", \"Brazil\", \"India\", \"US\"], \"xaxis\": \"x\", \"y\": [6856, 477709, 180013, 576334], \"yaxis\": \"y\", \"type\": \"bar\"}], \"name\": \"6/15/20\"}, {\"data\": [{\"alignmentgroup\": \"True\", \"hovertemplate\": \"Date=6/24/20<br>Country=%{x}<br>Cases=%{y}<extra></extra>\", \"ids\": [\"Australia\", \"Brazil\", \"India\", \"US\"], \"legendgroup\": \"\", \"marker\": {\"color\": \"#42f587\"}, \"name\": \"\", \"offsetgroup\": \"\", \"orientation\": \"v\", \"showlegend\": false, \"textposition\": \"auto\", \"x\": [\"Australia\", \"Brazil\", \"India\", \"US\"], \"xaxis\": \"x\", \"y\": [6931, 660469, 271697, 656161], \"yaxis\": \"y\", \"type\": \"bar\"}], \"name\": \"6/24/20\"}, {\"data\": [{\"alignmentgroup\": \"True\", \"hovertemplate\": \"Date=6/29/20<br>Country=%{x}<br>Cases=%{y}<extra></extra>\", \"ids\": [\"Australia\", \"Brazil\", \"India\", \"US\"], \"legendgroup\": \"\", \"marker\": {\"color\": \"#42f587\"}, \"name\": \"\", \"offsetgroup\": \"\", \"orientation\": \"v\", \"showlegend\": false, \"textposition\": \"auto\", \"x\": [\"Australia\", \"Brazil\", \"India\", \"US\"], \"xaxis\": \"x\", \"y\": [7037, 757811, 334822, 705203], \"yaxis\": \"y\", \"type\": \"bar\"}], \"name\": \"6/29/20\"}, {\"data\": [{\"alignmentgroup\": \"True\", \"hovertemplate\": \"Date=7/2/20<br>Country=%{x}<br>Cases=%{y}<extra></extra>\", \"ids\": [\"Australia\", \"Brazil\", \"India\", \"US\"], \"legendgroup\": \"\", \"marker\": {\"color\": \"#42f587\"}, \"name\": \"\", \"offsetgroup\": \"\", \"orientation\": \"v\", \"showlegend\": false, \"textposition\": \"auto\", \"x\": [\"Australia\", \"Brazil\", \"India\", \"US\"], \"xaxis\": \"x\", \"y\": [7130, 957692, 379892, 781970], \"yaxis\": \"y\", \"type\": \"bar\"}], \"name\": \"7/2/20\"}, {\"data\": [{\"alignmentgroup\": \"True\", \"hovertemplate\": \"Date=7/5/20<br>Country=%{x}<br>Cases=%{y}<extra></extra>\", \"ids\": [\"Australia\", \"Brazil\", \"India\", \"US\"], \"legendgroup\": \"\", \"marker\": {\"color\": \"#42f587\"}, \"name\": \"\", \"offsetgroup\": \"\", \"orientation\": \"v\", \"showlegend\": false, \"textposition\": \"auto\", \"x\": [\"Australia\", \"Brazil\", \"India\", \"US\"], \"xaxis\": \"x\", \"y\": [7420, 1029045, 424433, 906763], \"yaxis\": \"y\", \"type\": \"bar\"}], \"name\": \"7/5/20\"}, {\"data\": [{\"alignmentgroup\": \"True\", \"hovertemplate\": \"Date=7/10/20<br>Country=%{x}<br>Cases=%{y}<extra></extra>\", \"ids\": [\"Australia\", \"Brazil\", \"India\", \"US\"], \"legendgroup\": \"\", \"marker\": {\"color\": \"#42f587\"}, \"name\": \"\", \"offsetgroup\": \"\", \"orientation\": \"v\", \"showlegend\": false, \"textposition\": \"auto\", \"x\": [\"Australia\", \"Brazil\", \"India\", \"US\"], \"xaxis\": \"x\", \"y\": [7733, 1217361, 515386, 983185], \"yaxis\": \"y\", \"type\": \"bar\"}], \"name\": \"7/10/20\"}, {\"data\": [{\"alignmentgroup\": \"True\", \"hovertemplate\": \"Date=7/15/20<br>Country=%{x}<br>Cases=%{y}<extra></extra>\", \"ids\": [\"Australia\", \"Brazil\", \"India\", \"US\"], \"legendgroup\": \"\", \"marker\": {\"color\": \"#42f587\"}, \"name\": \"\", \"offsetgroup\": \"\", \"orientation\": \"v\", \"showlegend\": false, \"textposition\": \"auto\", \"x\": [\"Australia\", \"Brazil\", \"India\", \"US\"], \"xaxis\": \"x\", \"y\": [8035, 1350098, 612768, 1075882], \"yaxis\": \"y\", \"type\": \"bar\"}], \"name\": \"7/15/20\"}, {\"data\": [{\"alignmentgroup\": \"True\", \"hovertemplate\": \"Date=7/24/20<br>Country=%{x}<br>Cases=%{y}<extra></extra>\", \"ids\": [\"Australia\", \"Brazil\", \"India\", \"US\"], \"legendgroup\": \"\", \"marker\": {\"color\": \"#42f587\"}, \"name\": \"\", \"offsetgroup\": \"\", \"orientation\": \"v\", \"showlegend\": false, \"textposition\": \"auto\", \"x\": [\"Australia\", \"Brazil\", \"India\", \"US\"], \"xaxis\": \"x\", \"y\": [8938, 1693214, 849432, 1261624], \"yaxis\": \"y\", \"type\": \"bar\"}], \"name\": \"7/24/20\"}, {\"data\": [{\"alignmentgroup\": \"True\", \"hovertemplate\": \"Date=7/29/20<br>Country=%{x}<br>Cases=%{y}<extra></extra>\", \"ids\": [\"Australia\", \"Brazil\", \"India\", \"US\"], \"legendgroup\": \"\", \"marker\": {\"color\": \"#42f587\"}, \"name\": \"\", \"offsetgroup\": \"\", \"orientation\": \"v\", \"showlegend\": false, \"textposition\": \"auto\", \"x\": [\"Australia\", \"Brazil\", \"India\", \"US\"], \"xaxis\": \"x\", \"y\": [9619, 1922802, 1019735, 1389425], \"yaxis\": \"y\", \"type\": \"bar\"}], \"name\": \"7/29/20\"}, {\"data\": [{\"alignmentgroup\": \"True\", \"hovertemplate\": \"Date=8/1/20<br>Country=%{x}<br>Cases=%{y}<extra></extra>\", \"ids\": [\"Australia\", \"Brazil\", \"India\", \"US\"], \"legendgroup\": \"\", \"marker\": {\"color\": \"#42f587\"}, \"name\": \"\", \"offsetgroup\": \"\", \"orientation\": \"v\", \"showlegend\": false, \"textposition\": \"auto\", \"x\": [\"Australia\", \"Brazil\", \"India\", \"US\"], \"xaxis\": \"x\", \"y\": [10204, 2037982, 1145629, 1461885], \"yaxis\": \"y\", \"type\": \"bar\"}], \"name\": \"8/1/20\"}, {\"data\": [{\"alignmentgroup\": \"True\", \"hovertemplate\": \"Date=8/4/20<br>Country=%{x}<br>Cases=%{y}<extra></extra>\", \"ids\": [\"Australia\", \"Brazil\", \"India\", \"US\"], \"legendgroup\": \"\", \"marker\": {\"color\": \"#42f587\"}, \"name\": \"\", \"offsetgroup\": \"\", \"orientation\": \"v\", \"showlegend\": false, \"textposition\": \"auto\", \"x\": [\"Australia\", \"Brazil\", \"India\", \"US\"], \"xaxis\": \"x\", \"y\": [10799, 2157484, 1282215, 1528979], \"yaxis\": \"y\", \"type\": \"bar\"}], \"name\": \"8/4/20\"}, {\"data\": [{\"alignmentgroup\": \"True\", \"hovertemplate\": \"Date=8/9/20<br>Country=%{x}<br>Cases=%{y}<extra></extra>\", \"ids\": [\"Australia\", \"Brazil\", \"India\", \"US\"], \"legendgroup\": \"\", \"marker\": {\"color\": \"#42f587\"}, \"name\": \"\", \"offsetgroup\": \"\", \"orientation\": \"v\", \"showlegend\": false, \"textposition\": \"auto\", \"x\": [\"Australia\", \"Brazil\", \"India\", \"US\"], \"xaxis\": \"x\", \"y\": [11876, 2356983, 1535743, 1656864], \"yaxis\": \"y\", \"type\": \"bar\"}], \"name\": \"8/9/20\"}, {\"data\": [{\"alignmentgroup\": \"True\", \"hovertemplate\": \"Date=8/14/20<br>Country=%{x}<br>Cases=%{y}<extra></extra>\", \"ids\": [\"Australia\", \"Brazil\", \"India\", \"US\"], \"legendgroup\": \"\", \"marker\": {\"color\": \"#42f587\"}, \"name\": \"\", \"offsetgroup\": \"\", \"orientation\": \"v\", \"showlegend\": false, \"textposition\": \"auto\", \"x\": [\"Australia\", \"Brazil\", \"India\", \"US\"], \"xaxis\": \"x\", \"y\": [13632, 2616981, 1808936, 1796326], \"yaxis\": \"y\", \"type\": \"bar\"}], \"name\": \"8/14/20\"}, {\"data\": [{\"alignmentgroup\": \"True\", \"hovertemplate\": \"Date=8/19/20<br>Country=%{x}<br>Cases=%{y}<extra></extra>\", \"ids\": [\"Australia\", \"Brazil\", \"India\", \"US\"], \"legendgroup\": \"\", \"marker\": {\"color\": \"#42f587\"}, \"name\": \"\", \"offsetgroup\": \"\", \"orientation\": \"v\", \"showlegend\": false, \"textposition\": \"auto\", \"x\": [\"Australia\", \"Brazil\", \"India\", \"US\"], \"xaxis\": \"x\", \"y\": [15249, 2801931, 2096664, 1925049], \"yaxis\": \"y\", \"type\": \"bar\"}], \"name\": \"8/19/20\"}, {\"data\": [{\"alignmentgroup\": \"True\", \"hovertemplate\": \"Date=8/23/20<br>Country=%{x}<br>Cases=%{y}<extra></extra>\", \"ids\": [\"Australia\", \"Brazil\", \"India\", \"US\"], \"legendgroup\": \"\", \"marker\": {\"color\": \"#42f587\"}, \"name\": \"\", \"offsetgroup\": \"\", \"orientation\": \"v\", \"showlegend\": false, \"textposition\": \"auto\", \"x\": [\"Australia\", \"Brazil\", \"India\", \"US\"], \"xaxis\": \"x\", \"y\": [19233, 2947784, 2338035, 1997761], \"yaxis\": \"y\", \"type\": \"bar\"}], \"name\": \"8/23/20\"}, {\"data\": [{\"alignmentgroup\": \"True\", \"hovertemplate\": \"Date=8/28/20<br>Country=%{x}<br>Cases=%{y}<extra></extra>\", \"ids\": [\"Australia\", \"Brazil\", \"India\", \"US\"], \"legendgroup\": \"\", \"marker\": {\"color\": \"#42f587\"}, \"name\": \"\", \"offsetgroup\": \"\", \"orientation\": \"v\", \"showlegend\": false, \"textposition\": \"auto\", \"x\": [\"Australia\", \"Brazil\", \"India\", \"US\"], \"xaxis\": \"x\", \"y\": [20633, 3158783, 2648998, 2118367], \"yaxis\": \"y\", \"type\": \"bar\"}], \"name\": \"8/28/20\"}, {\"data\": [{\"alignmentgroup\": \"True\", \"hovertemplate\": \"Date=9/4/20<br>Country=%{x}<br>Cases=%{y}<extra></extra>\", \"ids\": [\"Australia\", \"Brazil\", \"India\", \"US\"], \"legendgroup\": \"\", \"marker\": {\"color\": \"#42f587\"}, \"name\": \"\", \"offsetgroup\": \"\", \"orientation\": \"v\", \"showlegend\": false, \"textposition\": \"auto\", \"x\": [\"Australia\", \"Brazil\", \"India\", \"US\"], \"xaxis\": \"x\", \"y\": [22172, 3464278, 3107223, 2283454], \"yaxis\": \"y\", \"type\": \"bar\"}], \"name\": \"9/4/20\"}, {\"data\": [{\"alignmentgroup\": \"True\", \"hovertemplate\": \"Date=9/9/20<br>Country=%{x}<br>Cases=%{y}<extra></extra>\", \"ids\": [\"Australia\", \"Brazil\", \"India\", \"US\"], \"legendgroup\": \"\", \"marker\": {\"color\": \"#42f587\"}, \"name\": \"\", \"offsetgroup\": \"\", \"orientation\": \"v\", \"showlegend\": false, \"textposition\": \"auto\", \"x\": [\"Australia\", \"Brazil\", \"India\", \"US\"], \"xaxis\": \"x\", \"y\": [22863, 3611632, 3471783, 2387479], \"yaxis\": \"y\", \"type\": \"bar\"}], \"name\": \"9/9/20\"}, {\"data\": [{\"alignmentgroup\": \"True\", \"hovertemplate\": \"Date=9/13/20<br>Country=%{x}<br>Cases=%{y}<extra></extra>\", \"ids\": [\"Australia\", \"Brazil\", \"India\", \"US\"], \"legendgroup\": \"\", \"marker\": {\"color\": \"#42f587\"}, \"name\": \"\", \"offsetgroup\": \"\", \"orientation\": \"v\", \"showlegend\": false, \"textposition\": \"auto\", \"x\": [\"Australia\", \"Brazil\", \"India\", \"US\"], \"xaxis\": \"x\", \"y\": [23465, 3723206, 3780107, 2451406], \"yaxis\": \"y\", \"type\": \"bar\"}], \"name\": \"9/13/20\"}, {\"data\": [{\"alignmentgroup\": \"True\", \"hovertemplate\": \"Date=9/18/20<br>Country=%{x}<br>Cases=%{y}<extra></extra>\", \"ids\": [\"Australia\", \"Brazil\", \"India\", \"US\"], \"legendgroup\": \"\", \"marker\": {\"color\": \"#42f587\"}, \"name\": \"\", \"offsetgroup\": \"\", \"orientation\": \"v\", \"showlegend\": false, \"textposition\": \"auto\", \"x\": [\"Australia\", \"Brazil\", \"India\", \"US\"], \"xaxis\": \"x\", \"y\": [23861, 3897539, 4208431, 2556465], \"yaxis\": \"y\", \"type\": \"bar\"}], \"name\": \"9/18/20\"}, {\"data\": [{\"alignmentgroup\": \"True\", \"hovertemplate\": \"Date=9/22/20<br>Country=%{x}<br>Cases=%{y}<extra></extra>\", \"ids\": [\"Australia\", \"Brazil\", \"India\", \"US\"], \"legendgroup\": \"\", \"marker\": {\"color\": \"#42f587\"}, \"name\": \"\", \"offsetgroup\": \"\", \"orientation\": \"v\", \"showlegend\": false, \"textposition\": \"auto\", \"x\": [\"Australia\", \"Brazil\", \"India\", \"US\"], \"xaxis\": \"x\", \"y\": [24331, 4016831, 4587613, 2646959], \"yaxis\": \"y\", \"type\": \"bar\"}], \"name\": \"9/22/20\"}, {\"data\": [{\"alignmentgroup\": \"True\", \"hovertemplate\": \"Date=9/27/20<br>Country=%{x}<br>Cases=%{y}<extra></extra>\", \"ids\": [\"Australia\", \"Brazil\", \"India\", \"US\"], \"legendgroup\": \"\", \"marker\": {\"color\": \"#42f587\"}, \"name\": \"\", \"offsetgroup\": \"\", \"orientation\": \"v\", \"showlegend\": false, \"textposition\": \"auto\", \"x\": [\"Australia\", \"Brazil\", \"India\", \"US\"], \"xaxis\": \"x\", \"y\": [24633, 4172711, 5016520, 2766280], \"yaxis\": \"y\", \"type\": \"bar\"}], \"name\": \"9/27/20\"}, {\"data\": [{\"alignmentgroup\": \"True\", \"hovertemplate\": \"Date=10/2/20<br>Country=%{x}<br>Cases=%{y}<extra></extra>\", \"ids\": [\"Australia\", \"Brazil\", \"India\", \"US\"], \"legendgroup\": \"\", \"marker\": {\"color\": \"#42f587\"}, \"name\": \"\", \"offsetgroup\": \"\", \"orientation\": \"v\", \"showlegend\": false, \"textposition\": \"auto\", \"x\": [\"Australia\", \"Brazil\", \"India\", \"US\"], \"xaxis\": \"x\", \"y\": [24850, 4299659, 5427706, 2873369], \"yaxis\": \"y\", \"type\": \"bar\"}], \"name\": \"10/2/20\"}, {\"data\": [{\"alignmentgroup\": \"True\", \"hovertemplate\": \"Date=10/5/20<br>Country=%{x}<br>Cases=%{y}<extra></extra>\", \"ids\": [\"Australia\", \"Brazil\", \"India\", \"US\"], \"legendgroup\": \"\", \"marker\": {\"color\": \"#42f587\"}, \"name\": \"\", \"offsetgroup\": \"\", \"orientation\": \"v\", \"showlegend\": false, \"textposition\": \"auto\", \"x\": [\"Australia\", \"Brazil\", \"India\", \"US\"], \"xaxis\": \"x\", \"y\": [24892, 4397882, 5662490, 2935142], \"yaxis\": \"y\", \"type\": \"bar\"}], \"name\": \"10/5/20\"}, {\"data\": [{\"alignmentgroup\": \"True\", \"hovertemplate\": \"Date=10/10/20<br>Country=%{x}<br>Cases=%{y}<extra></extra>\", \"ids\": [\"Australia\", \"Brazil\", \"India\", \"US\"], \"legendgroup\": \"\", \"marker\": {\"color\": \"#42f587\"}, \"name\": \"\", \"offsetgroup\": \"\", \"orientation\": \"v\", \"showlegend\": false, \"textposition\": \"auto\", \"x\": [\"Australia\", \"Brazil\", \"India\", \"US\"], \"xaxis\": \"x\", \"y\": [24987, 4502854, 6077976, 3062983], \"yaxis\": \"y\", \"type\": \"bar\"}], \"name\": \"10/10/20\"}, {\"data\": [{\"alignmentgroup\": \"True\", \"hovertemplate\": \"Date=10/15/20<br>Country=%{x}<br>Cases=%{y}<extra></extra>\", \"ids\": [\"Australia\", \"Brazil\", \"India\", \"US\"], \"legendgroup\": \"\", \"marker\": {\"color\": \"#42f587\"}, \"name\": \"\", \"offsetgroup\": \"\", \"orientation\": \"v\", \"showlegend\": false, \"textposition\": \"auto\", \"x\": [\"Australia\", \"Brazil\", \"India\", \"US\"], \"xaxis\": \"x\", \"y\": [25062, 4526393, 6453779, 3177397], \"yaxis\": \"y\", \"type\": \"bar\"}], \"name\": \"10/15/20\"}, {\"data\": [{\"alignmentgroup\": \"True\", \"hovertemplate\": \"Date=10/24/20<br>Country=%{x}<br>Cases=%{y}<extra></extra>\", \"ids\": [\"Australia\", \"Brazil\", \"India\", \"US\"], \"legendgroup\": \"\", \"marker\": {\"color\": \"#42f587\"}, \"name\": \"\", \"offsetgroup\": \"\", \"orientation\": \"v\", \"showlegend\": false, \"textposition\": \"auto\", \"x\": [\"Australia\", \"Brazil\", \"India\", \"US\"], \"xaxis\": \"x\", \"y\": [25179, 4526393, 7078123, 3406656], \"yaxis\": \"y\", \"type\": \"bar\"}], \"name\": \"10/24/20\"}, {\"data\": [{\"alignmentgroup\": \"True\", \"hovertemplate\": \"Date=10/29/20<br>Country=%{x}<br>Cases=%{y}<extra></extra>\", \"ids\": [\"Australia\", \"Brazil\", \"India\", \"US\"], \"legendgroup\": \"\", \"marker\": {\"color\": \"#42f587\"}, \"name\": \"\", \"offsetgroup\": \"\", \"orientation\": \"v\", \"showlegend\": false, \"textposition\": \"auto\", \"x\": [\"Australia\", \"Brazil\", \"India\", \"US\"], \"xaxis\": \"x\", \"y\": [25239, 4962574, 7373375, 3554336], \"yaxis\": \"y\", \"type\": \"bar\"}], \"name\": \"10/29/20\"}, {\"data\": [{\"alignmentgroup\": \"True\", \"hovertemplate\": \"Date=11/1/20<br>Country=%{x}<br>Cases=%{y}<extra></extra>\", \"ids\": [\"Australia\", \"Brazil\", \"India\", \"US\"], \"legendgroup\": \"\", \"marker\": {\"color\": \"#42f587\"}, \"name\": \"\", \"offsetgroup\": \"\", \"orientation\": \"v\", \"showlegend\": false, \"textposition\": \"auto\", \"x\": [\"Australia\", \"Brazil\", \"India\", \"US\"], \"xaxis\": \"x\", \"y\": [25352, 5022338, 7544798, 3630579], \"yaxis\": \"y\", \"type\": \"bar\"}], \"name\": \"11/1/20\"}, {\"data\": [{\"alignmentgroup\": \"True\", \"hovertemplate\": \"Date=11/5/20<br>Country=%{x}<br>Cases=%{y}<extra></extra>\", \"ids\": [\"Australia\", \"Brazil\", \"India\", \"US\"], \"legendgroup\": \"\", \"marker\": {\"color\": \"#42f587\"}, \"name\": \"\", \"offsetgroup\": \"\", \"orientation\": \"v\", \"showlegend\": false, \"textposition\": \"auto\", \"x\": [\"Australia\", \"Brazil\", \"India\", \"US\"], \"xaxis\": \"x\", \"y\": [25427, 5078162, 7765966, 3781751], \"yaxis\": \"y\", \"type\": \"bar\"}], \"name\": \"11/5/20\"}, {\"data\": [{\"alignmentgroup\": \"True\", \"hovertemplate\": \"Date=11/14/20<br>Country=%{x}<br>Cases=%{y}<extra></extra>\", \"ids\": [\"Australia\", \"Brazil\", \"India\", \"US\"], \"legendgroup\": \"\", \"marker\": {\"color\": \"#42f587\"}, \"name\": \"\", \"offsetgroup\": \"\", \"orientation\": \"v\", \"showlegend\": false, \"textposition\": \"auto\", \"x\": [\"Australia\", \"Brazil\", \"India\", \"US\"], \"xaxis\": \"x\", \"y\": [25467, 5279452, 8205728, 4148444], \"yaxis\": \"y\", \"type\": \"bar\"}], \"name\": \"11/14/20\"}, {\"data\": [{\"alignmentgroup\": \"True\", \"hovertemplate\": \"Date=11/19/20<br>Country=%{x}<br>Cases=%{y}<extra></extra>\", \"ids\": [\"Australia\", \"Brazil\", \"India\", \"US\"], \"legendgroup\": \"\", \"marker\": {\"color\": \"#42f587\"}, \"name\": \"\", \"offsetgroup\": \"\", \"orientation\": \"v\", \"showlegend\": false, \"textposition\": \"auto\", \"x\": [\"Australia\", \"Brazil\", \"India\", \"US\"], \"xaxis\": \"x\", \"y\": [25511, 5406066, 8428409, 4410709], \"yaxis\": \"y\", \"type\": \"bar\"}], \"name\": \"11/19/20\"}, {\"data\": [{\"alignmentgroup\": \"True\", \"hovertemplate\": \"Date=11/23/20<br>Country=%{x}<br>Cases=%{y}<extra></extra>\", \"ids\": [\"Australia\", \"Brazil\", \"India\", \"US\"], \"legendgroup\": \"\", \"marker\": {\"color\": \"#42f587\"}, \"name\": \"\", \"offsetgroup\": \"\", \"orientation\": \"v\", \"showlegend\": false, \"textposition\": \"auto\", \"x\": [\"Australia\", \"Brazil\", \"India\", \"US\"], \"xaxis\": \"x\", \"y\": [25533, 5481184, 8604955, 4633600], \"yaxis\": \"y\", \"type\": \"bar\"}], \"name\": \"11/23/20\"}, {\"data\": [{\"alignmentgroup\": \"True\", \"hovertemplate\": \"Date=11/28/20<br>Country=%{x}<br>Cases=%{y}<extra></extra>\", \"ids\": [\"Australia\", \"Brazil\", \"India\", \"US\"], \"legendgroup\": \"\", \"marker\": {\"color\": \"#42f587\"}, \"name\": \"\", \"offsetgroup\": \"\", \"orientation\": \"v\", \"showlegend\": false, \"textposition\": \"auto\", \"x\": [\"Australia\", \"Brazil\", \"India\", \"US\"], \"xaxis\": \"x\", \"y\": [25588, 5581436, 8802267, 5023063], \"yaxis\": \"y\", \"type\": \"bar\"}], \"name\": \"11/28/20\"}, {\"data\": [{\"alignmentgroup\": \"True\", \"hovertemplate\": \"Date=12/1/20<br>Country=%{x}<br>Cases=%{y}<extra></extra>\", \"ids\": [\"Australia\", \"Brazil\", \"India\", \"US\"], \"legendgroup\": \"\", \"marker\": {\"color\": \"#42f587\"}, \"name\": \"\", \"offsetgroup\": \"\", \"orientation\": \"v\", \"showlegend\": false, \"textposition\": \"auto\", \"x\": [\"Australia\", \"Brazil\", \"India\", \"US\"], \"xaxis\": \"x\", \"y\": [25606, 5712305, 8932647, 5226581], \"yaxis\": \"y\", \"type\": \"bar\"}], \"name\": \"12/1/20\"}, {\"data\": [{\"alignmentgroup\": \"True\", \"hovertemplate\": \"Date=12/7/20<br>Country=%{x}<br>Cases=%{y}<extra></extra>\", \"ids\": [\"Australia\", \"Brazil\", \"India\", \"US\"], \"legendgroup\": \"\", \"marker\": {\"color\": \"#42f587\"}, \"name\": \"\", \"offsetgroup\": \"\", \"orientation\": \"v\", \"showlegend\": false, \"textposition\": \"auto\", \"x\": [\"Australia\", \"Brazil\", \"India\", \"US\"], \"xaxis\": \"x\", \"y\": [25646, 5897526, 9178946, 5714557], \"yaxis\": \"y\", \"type\": \"bar\"}], \"name\": \"12/7/20\"}, {\"data\": [{\"alignmentgroup\": \"True\", \"hovertemplate\": \"Date=12/14/20<br>Country=%{x}<br>Cases=%{y}<extra></extra>\", \"ids\": [\"Australia\", \"Brazil\", \"India\", \"US\"], \"legendgroup\": \"\", \"marker\": {\"color\": \"#42f587\"}, \"name\": \"\", \"offsetgroup\": \"\", \"orientation\": \"v\", \"showlegend\": false, \"textposition\": \"auto\", \"x\": [\"Australia\", \"Brazil\", \"India\", \"US\"], \"xaxis\": \"x\", \"y\": [25689, 6158049, 9422636, 0], \"yaxis\": \"y\", \"type\": \"bar\"}], \"name\": \"12/14/20\"}, {\"data\": [{\"alignmentgroup\": \"True\", \"hovertemplate\": \"Date=12/19/20<br>Country=%{x}<br>Cases=%{y}<extra></extra>\", \"ids\": [\"Australia\", \"Brazil\", \"India\", \"US\"], \"legendgroup\": \"\", \"marker\": {\"color\": \"#42f587\"}, \"name\": \"\", \"offsetgroup\": \"\", \"orientation\": \"v\", \"showlegend\": false, \"textposition\": \"auto\", \"x\": [\"Australia\", \"Brazil\", \"India\", \"US\"], \"xaxis\": \"x\", \"y\": [25704, 6388938, 9580402, 0], \"yaxis\": \"y\", \"type\": \"bar\"}], \"name\": \"12/19/20\"}, {\"data\": [{\"alignmentgroup\": \"True\", \"hovertemplate\": \"Date=12/23/20<br>Country=%{x}<br>Cases=%{y}<extra></extra>\", \"ids\": [\"Australia\", \"Brazil\", \"India\", \"US\"], \"legendgroup\": \"\", \"marker\": {\"color\": \"#42f587\"}, \"name\": \"\", \"offsetgroup\": \"\", \"orientation\": \"v\", \"showlegend\": false, \"textposition\": \"auto\", \"x\": [\"Australia\", \"Brazil\", \"India\", \"US\"], \"xaxis\": \"x\", \"y\": [25722, 6512717, 9693173, 0], \"yaxis\": \"y\", \"type\": \"bar\"}], \"name\": \"12/23/20\"}, {\"data\": [{\"alignmentgroup\": \"True\", \"hovertemplate\": \"Date=12/28/20<br>Country=%{x}<br>Cases=%{y}<extra></extra>\", \"ids\": [\"Australia\", \"Brazil\", \"India\", \"US\"], \"legendgroup\": \"\", \"marker\": {\"color\": \"#42f587\"}, \"name\": \"\", \"offsetgroup\": \"\", \"orientation\": \"v\", \"showlegend\": false, \"textposition\": \"auto\", \"x\": [\"Australia\", \"Brazil\", \"India\", \"US\"], \"xaxis\": \"x\", \"y\": [25748, 6712757, 9807569, 0], \"yaxis\": \"y\", \"type\": \"bar\"}], \"name\": \"12/28/20\"}]);\n",
              "                        }).then(function(){\n",
              "                            \n",
              "var gd = document.getElementById('dd003bc1-3f7d-4e54-a092-fbe82765c23b');\n",
              "var x = new MutationObserver(function (mutations, observer) {{\n",
              "        var display = window.getComputedStyle(gd).display;\n",
              "        if (!display || display === 'none') {{\n",
              "            console.log([gd, 'removed!']);\n",
              "            Plotly.purge(gd);\n",
              "            observer.disconnect();\n",
              "        }}\n",
              "}});\n",
              "\n",
              "// Listen for the removal of the full notebook cells\n",
              "var notebookContainer = gd.closest('#notebook-container');\n",
              "if (notebookContainer) {{\n",
              "    x.observe(notebookContainer, {childList: true});\n",
              "}}\n",
              "\n",
              "// Listen for the clearing of the current output cell\n",
              "var outputEl = gd.closest('.output');\n",
              "if (outputEl) {{\n",
              "    x.observe(outputEl, {childList: true});\n",
              "}}\n",
              "\n",
              "                        })                };                            </script>        </div>\n",
              "</body>\n",
              "</html>"
            ]
          },
          "metadata": {
            "tags": []
          }
        }
      ]
    },
    {
      "cell_type": "markdown",
      "metadata": {
        "id": "w3_EA65cPxT6"
      },
      "source": [
        "#### Deaths - India, US, Brazil"
      ]
    },
    {
      "cell_type": "code",
      "metadata": {
        "colab": {
          "base_uri": "https://localhost:8080/",
          "height": 542
        },
        "id": "5kgiZY6pPxT6",
        "outputId": "c12e8155-5047-402f-fc58-17bf45d0af65"
      },
      "source": [
        "create_comparison_animation(deaths_global,\"deaths\",\"India\",\"US\",\"Brazil\")"
      ],
      "execution_count": null,
      "outputs": [
        {
          "output_type": "display_data",
          "data": {
            "text/html": [
              "<html>\n",
              "<head><meta charset=\"utf-8\" /></head>\n",
              "<body>\n",
              "    <div>            <script src=\"https://cdnjs.cloudflare.com/ajax/libs/mathjax/2.7.5/MathJax.js?config=TeX-AMS-MML_SVG\"></script><script type=\"text/javascript\">if (window.MathJax) {MathJax.Hub.Config({SVG: {font: \"STIX-Web\"}});}</script>                <script type=\"text/javascript\">window.PlotlyConfig = {MathJaxConfig: 'local'};</script>\n",
              "        <script src=\"https://cdn.plot.ly/plotly-latest.min.js\"></script>                <div id=\"1adeb43c-4799-49c5-a0cb-706662b0e086\" class=\"plotly-graph-div\" style=\"height:525px; width:100%;\"></div>            <script type=\"text/javascript\">                                    window.PLOTLYENV=window.PLOTLYENV || {};                                    if (document.getElementById(\"1adeb43c-4799-49c5-a0cb-706662b0e086\")) {                    Plotly.newPlot(                        \"1adeb43c-4799-49c5-a0cb-706662b0e086\",                        [{\"alignmentgroup\": \"True\", \"hovertemplate\": \"Date=1/23/20<br>Country=%{x}<br>Cases=%{y}<extra></extra>\", \"ids\": [\"Brazil\", \"India\", \"US\"], \"legendgroup\": \"\", \"marker\": {\"color\": \"#f54842\"}, \"name\": \"\", \"offsetgroup\": \"\", \"orientation\": \"v\", \"showlegend\": false, \"textposition\": \"auto\", \"type\": \"bar\", \"x\": [\"Brazil\", \"India\", \"US\"], \"xaxis\": \"x\", \"y\": [0, 0, 0], \"yaxis\": \"y\"}],                        {\"barmode\": \"relative\", \"legend\": {\"tracegroupgap\": 0}, \"margin\": {\"t\": 60}, \"showlegend\": false, \"sliders\": [{\"active\": 0, \"currentvalue\": {\"prefix\": \"Date=\"}, \"len\": 0.9, \"pad\": {\"b\": 10, \"t\": 60}, \"steps\": [{\"args\": [[\"1/23/20\"], {\"frame\": {\"duration\": 0, \"redraw\": true}, \"fromcurrent\": true, \"mode\": \"immediate\", \"transition\": {\"duration\": 0, \"easing\": \"linear\"}}], \"label\": \"1/23/20\", \"method\": \"animate\"}, {\"args\": [[\"1/28/20\"], {\"frame\": {\"duration\": 0, \"redraw\": true}, \"fromcurrent\": true, \"mode\": \"immediate\", \"transition\": {\"duration\": 0, \"easing\": \"linear\"}}], \"label\": \"1/28/20\", \"method\": \"animate\"}, {\"args\": [[\"2/3/20\"], {\"frame\": {\"duration\": 0, \"redraw\": true}, \"fromcurrent\": true, \"mode\": \"immediate\", \"transition\": {\"duration\": 0, \"easing\": \"linear\"}}], \"label\": \"2/3/20\", \"method\": \"animate\"}, {\"args\": [[\"2/8/20\"], {\"frame\": {\"duration\": 0, \"redraw\": true}, \"fromcurrent\": true, \"mode\": \"immediate\", \"transition\": {\"duration\": 0, \"easing\": \"linear\"}}], \"label\": \"2/8/20\", \"method\": \"animate\"}, {\"args\": [[\"2/11/20\"], {\"frame\": {\"duration\": 0, \"redraw\": true}, \"fromcurrent\": true, \"mode\": \"immediate\", \"transition\": {\"duration\": 0, \"easing\": \"linear\"}}], \"label\": \"2/11/20\", \"method\": \"animate\"}, {\"args\": [[\"2/16/20\"], {\"frame\": {\"duration\": 0, \"redraw\": true}, \"fromcurrent\": true, \"mode\": \"immediate\", \"transition\": {\"duration\": 0, \"easing\": \"linear\"}}], \"label\": \"2/16/20\", \"method\": \"animate\"}, {\"args\": [[\"2/20/20\"], {\"frame\": {\"duration\": 0, \"redraw\": true}, \"fromcurrent\": true, \"mode\": \"immediate\", \"transition\": {\"duration\": 0, \"easing\": \"linear\"}}], \"label\": \"2/20/20\", \"method\": \"animate\"}, {\"args\": [[\"2/25/20\"], {\"frame\": {\"duration\": 0, \"redraw\": true}, \"fromcurrent\": true, \"mode\": \"immediate\", \"transition\": {\"duration\": 0, \"easing\": \"linear\"}}], \"label\": \"2/25/20\", \"method\": \"animate\"}, {\"args\": [[\"3/7/20\"], {\"frame\": {\"duration\": 0, \"redraw\": true}, \"fromcurrent\": true, \"mode\": \"immediate\", \"transition\": {\"duration\": 0, \"easing\": \"linear\"}}], \"label\": \"3/7/20\", \"method\": \"animate\"}, {\"args\": [[\"3/12/20\"], {\"frame\": {\"duration\": 0, \"redraw\": true}, \"fromcurrent\": true, \"mode\": \"immediate\", \"transition\": {\"duration\": 0, \"easing\": \"linear\"}}], \"label\": \"3/12/20\", \"method\": \"animate\"}, {\"args\": [[\"3/17/20\"], {\"frame\": {\"duration\": 0, \"redraw\": true}, \"fromcurrent\": true, \"mode\": \"immediate\", \"transition\": {\"duration\": 0, \"easing\": \"linear\"}}], \"label\": \"3/17/20\", \"method\": \"animate\"}, {\"args\": [[\"3/21/20\"], {\"frame\": {\"duration\": 0, \"redraw\": true}, \"fromcurrent\": true, \"mode\": \"immediate\", \"transition\": {\"duration\": 0, \"easing\": \"linear\"}}], \"label\": \"3/21/20\", \"method\": \"animate\"}, {\"args\": [[\"3/26/20\"], {\"frame\": {\"duration\": 0, \"redraw\": true}, \"fromcurrent\": true, \"mode\": \"immediate\", \"transition\": {\"duration\": 0, \"easing\": \"linear\"}}], \"label\": \"3/26/20\", \"method\": \"animate\"}, {\"args\": [[\"3/30/20\"], {\"frame\": {\"duration\": 0, \"redraw\": true}, \"fromcurrent\": true, \"mode\": \"immediate\", \"transition\": {\"duration\": 0, \"easing\": \"linear\"}}], \"label\": \"3/30/20\", \"method\": \"animate\"}, {\"args\": [[\"4/3/20\"], {\"frame\": {\"duration\": 0, \"redraw\": true}, \"fromcurrent\": true, \"mode\": \"immediate\", \"transition\": {\"duration\": 0, \"easing\": \"linear\"}}], \"label\": \"4/3/20\", \"method\": \"animate\"}, {\"args\": [[\"4/7/20\"], {\"frame\": {\"duration\": 0, \"redraw\": true}, \"fromcurrent\": true, \"mode\": \"immediate\", \"transition\": {\"duration\": 0, \"easing\": \"linear\"}}], \"label\": \"4/7/20\", \"method\": \"animate\"}, {\"args\": [[\"4/11/20\"], {\"frame\": {\"duration\": 0, \"redraw\": true}, \"fromcurrent\": true, \"mode\": \"immediate\", \"transition\": {\"duration\": 0, \"easing\": \"linear\"}}], \"label\": \"4/11/20\", \"method\": \"animate\"}, {\"args\": [[\"4/16/20\"], {\"frame\": {\"duration\": 0, \"redraw\": true}, \"fromcurrent\": true, \"mode\": \"immediate\", \"transition\": {\"duration\": 0, \"easing\": \"linear\"}}], \"label\": \"4/16/20\", \"method\": \"animate\"}, {\"args\": [[\"4/20/20\"], {\"frame\": {\"duration\": 0, \"redraw\": true}, \"fromcurrent\": true, \"mode\": \"immediate\", \"transition\": {\"duration\": 0, \"easing\": \"linear\"}}], \"label\": \"4/20/20\", \"method\": \"animate\"}, {\"args\": [[\"4/25/20\"], {\"frame\": {\"duration\": 0, \"redraw\": true}, \"fromcurrent\": true, \"mode\": \"immediate\", \"transition\": {\"duration\": 0, \"easing\": \"linear\"}}], \"label\": \"4/25/20\", \"method\": \"animate\"}, {\"args\": [[\"5/3/20\"], {\"frame\": {\"duration\": 0, \"redraw\": true}, \"fromcurrent\": true, \"mode\": \"immediate\", \"transition\": {\"duration\": 0, \"easing\": \"linear\"}}], \"label\": \"5/3/20\", \"method\": \"animate\"}, {\"args\": [[\"5/6/20\"], {\"frame\": {\"duration\": 0, \"redraw\": true}, \"fromcurrent\": true, \"mode\": \"immediate\", \"transition\": {\"duration\": 0, \"easing\": \"linear\"}}], \"label\": \"5/6/20\", \"method\": \"animate\"}, {\"args\": [[\"5/11/20\"], {\"frame\": {\"duration\": 0, \"redraw\": true}, \"fromcurrent\": true, \"mode\": \"immediate\", \"transition\": {\"duration\": 0, \"easing\": \"linear\"}}], \"label\": \"5/11/20\", \"method\": \"animate\"}, {\"args\": [[\"5/16/20\"], {\"frame\": {\"duration\": 0, \"redraw\": true}, \"fromcurrent\": true, \"mode\": \"immediate\", \"transition\": {\"duration\": 0, \"easing\": \"linear\"}}], \"label\": \"5/16/20\", \"method\": \"animate\"}, {\"args\": [[\"5/20/20\"], {\"frame\": {\"duration\": 0, \"redraw\": true}, \"fromcurrent\": true, \"mode\": \"immediate\", \"transition\": {\"duration\": 0, \"easing\": \"linear\"}}], \"label\": \"5/20/20\", \"method\": \"animate\"}, {\"args\": [[\"5/25/20\"], {\"frame\": {\"duration\": 0, \"redraw\": true}, \"fromcurrent\": true, \"mode\": \"immediate\", \"transition\": {\"duration\": 0, \"easing\": \"linear\"}}], \"label\": \"5/25/20\", \"method\": \"animate\"}, {\"args\": [[\"6/2/20\"], {\"frame\": {\"duration\": 0, \"redraw\": true}, \"fromcurrent\": true, \"mode\": \"immediate\", \"transition\": {\"duration\": 0, \"easing\": \"linear\"}}], \"label\": \"6/2/20\", \"method\": \"animate\"}, {\"args\": [[\"6/6/20\"], {\"frame\": {\"duration\": 0, \"redraw\": true}, \"fromcurrent\": true, \"mode\": \"immediate\", \"transition\": {\"duration\": 0, \"easing\": \"linear\"}}], \"label\": \"6/6/20\", \"method\": \"animate\"}, {\"args\": [[\"6/10/20\"], {\"frame\": {\"duration\": 0, \"redraw\": true}, \"fromcurrent\": true, \"mode\": \"immediate\", \"transition\": {\"duration\": 0, \"easing\": \"linear\"}}], \"label\": \"6/10/20\", \"method\": \"animate\"}, {\"args\": [[\"6/15/20\"], {\"frame\": {\"duration\": 0, \"redraw\": true}, \"fromcurrent\": true, \"mode\": \"immediate\", \"transition\": {\"duration\": 0, \"easing\": \"linear\"}}], \"label\": \"6/15/20\", \"method\": \"animate\"}, {\"args\": [[\"6/24/20\"], {\"frame\": {\"duration\": 0, \"redraw\": true}, \"fromcurrent\": true, \"mode\": \"immediate\", \"transition\": {\"duration\": 0, \"easing\": \"linear\"}}], \"label\": \"6/24/20\", \"method\": \"animate\"}, {\"args\": [[\"6/29/20\"], {\"frame\": {\"duration\": 0, \"redraw\": true}, \"fromcurrent\": true, \"mode\": \"immediate\", \"transition\": {\"duration\": 0, \"easing\": \"linear\"}}], \"label\": \"6/29/20\", \"method\": \"animate\"}, {\"args\": [[\"7/2/20\"], {\"frame\": {\"duration\": 0, \"redraw\": true}, \"fromcurrent\": true, \"mode\": \"immediate\", \"transition\": {\"duration\": 0, \"easing\": \"linear\"}}], \"label\": \"7/2/20\", \"method\": \"animate\"}, {\"args\": [[\"7/5/20\"], {\"frame\": {\"duration\": 0, \"redraw\": true}, \"fromcurrent\": true, \"mode\": \"immediate\", \"transition\": {\"duration\": 0, \"easing\": \"linear\"}}], \"label\": \"7/5/20\", \"method\": \"animate\"}, {\"args\": [[\"7/10/20\"], {\"frame\": {\"duration\": 0, \"redraw\": true}, \"fromcurrent\": true, \"mode\": \"immediate\", \"transition\": {\"duration\": 0, \"easing\": \"linear\"}}], \"label\": \"7/10/20\", \"method\": \"animate\"}, {\"args\": [[\"7/15/20\"], {\"frame\": {\"duration\": 0, \"redraw\": true}, \"fromcurrent\": true, \"mode\": \"immediate\", \"transition\": {\"duration\": 0, \"easing\": \"linear\"}}], \"label\": \"7/15/20\", \"method\": \"animate\"}, {\"args\": [[\"7/24/20\"], {\"frame\": {\"duration\": 0, \"redraw\": true}, \"fromcurrent\": true, \"mode\": \"immediate\", \"transition\": {\"duration\": 0, \"easing\": \"linear\"}}], \"label\": \"7/24/20\", \"method\": \"animate\"}, {\"args\": [[\"7/29/20\"], {\"frame\": {\"duration\": 0, \"redraw\": true}, \"fromcurrent\": true, \"mode\": \"immediate\", \"transition\": {\"duration\": 0, \"easing\": \"linear\"}}], \"label\": \"7/29/20\", \"method\": \"animate\"}, {\"args\": [[\"8/1/20\"], {\"frame\": {\"duration\": 0, \"redraw\": true}, \"fromcurrent\": true, \"mode\": \"immediate\", \"transition\": {\"duration\": 0, \"easing\": \"linear\"}}], \"label\": \"8/1/20\", \"method\": \"animate\"}, {\"args\": [[\"8/4/20\"], {\"frame\": {\"duration\": 0, \"redraw\": true}, \"fromcurrent\": true, \"mode\": \"immediate\", \"transition\": {\"duration\": 0, \"easing\": \"linear\"}}], \"label\": \"8/4/20\", \"method\": \"animate\"}, {\"args\": [[\"8/9/20\"], {\"frame\": {\"duration\": 0, \"redraw\": true}, \"fromcurrent\": true, \"mode\": \"immediate\", \"transition\": {\"duration\": 0, \"easing\": \"linear\"}}], \"label\": \"8/9/20\", \"method\": \"animate\"}, {\"args\": [[\"8/14/20\"], {\"frame\": {\"duration\": 0, \"redraw\": true}, \"fromcurrent\": true, \"mode\": \"immediate\", \"transition\": {\"duration\": 0, \"easing\": \"linear\"}}], \"label\": \"8/14/20\", \"method\": \"animate\"}, {\"args\": [[\"8/19/20\"], {\"frame\": {\"duration\": 0, \"redraw\": true}, \"fromcurrent\": true, \"mode\": \"immediate\", \"transition\": {\"duration\": 0, \"easing\": \"linear\"}}], \"label\": \"8/19/20\", \"method\": \"animate\"}, {\"args\": [[\"8/23/20\"], {\"frame\": {\"duration\": 0, \"redraw\": true}, \"fromcurrent\": true, \"mode\": \"immediate\", \"transition\": {\"duration\": 0, \"easing\": \"linear\"}}], \"label\": \"8/23/20\", \"method\": \"animate\"}, {\"args\": [[\"8/28/20\"], {\"frame\": {\"duration\": 0, \"redraw\": true}, \"fromcurrent\": true, \"mode\": \"immediate\", \"transition\": {\"duration\": 0, \"easing\": \"linear\"}}], \"label\": \"8/28/20\", \"method\": \"animate\"}, {\"args\": [[\"9/4/20\"], {\"frame\": {\"duration\": 0, \"redraw\": true}, \"fromcurrent\": true, \"mode\": \"immediate\", \"transition\": {\"duration\": 0, \"easing\": \"linear\"}}], \"label\": \"9/4/20\", \"method\": \"animate\"}, {\"args\": [[\"9/9/20\"], {\"frame\": {\"duration\": 0, \"redraw\": true}, \"fromcurrent\": true, \"mode\": \"immediate\", \"transition\": {\"duration\": 0, \"easing\": \"linear\"}}], \"label\": \"9/9/20\", \"method\": \"animate\"}, {\"args\": [[\"9/13/20\"], {\"frame\": {\"duration\": 0, \"redraw\": true}, \"fromcurrent\": true, \"mode\": \"immediate\", \"transition\": {\"duration\": 0, \"easing\": \"linear\"}}], \"label\": \"9/13/20\", \"method\": \"animate\"}, {\"args\": [[\"9/18/20\"], {\"frame\": {\"duration\": 0, \"redraw\": true}, \"fromcurrent\": true, \"mode\": \"immediate\", \"transition\": {\"duration\": 0, \"easing\": \"linear\"}}], \"label\": \"9/18/20\", \"method\": \"animate\"}, {\"args\": [[\"9/22/20\"], {\"frame\": {\"duration\": 0, \"redraw\": true}, \"fromcurrent\": true, \"mode\": \"immediate\", \"transition\": {\"duration\": 0, \"easing\": \"linear\"}}], \"label\": \"9/22/20\", \"method\": \"animate\"}, {\"args\": [[\"9/27/20\"], {\"frame\": {\"duration\": 0, \"redraw\": true}, \"fromcurrent\": true, \"mode\": \"immediate\", \"transition\": {\"duration\": 0, \"easing\": \"linear\"}}], \"label\": \"9/27/20\", \"method\": \"animate\"}, {\"args\": [[\"10/2/20\"], {\"frame\": {\"duration\": 0, \"redraw\": true}, \"fromcurrent\": true, \"mode\": \"immediate\", \"transition\": {\"duration\": 0, \"easing\": \"linear\"}}], \"label\": \"10/2/20\", \"method\": \"animate\"}, {\"args\": [[\"10/5/20\"], {\"frame\": {\"duration\": 0, \"redraw\": true}, \"fromcurrent\": true, \"mode\": \"immediate\", \"transition\": {\"duration\": 0, \"easing\": \"linear\"}}], \"label\": \"10/5/20\", \"method\": \"animate\"}, {\"args\": [[\"10/10/20\"], {\"frame\": {\"duration\": 0, \"redraw\": true}, \"fromcurrent\": true, \"mode\": \"immediate\", \"transition\": {\"duration\": 0, \"easing\": \"linear\"}}], \"label\": \"10/10/20\", \"method\": \"animate\"}, {\"args\": [[\"10/15/20\"], {\"frame\": {\"duration\": 0, \"redraw\": true}, \"fromcurrent\": true, \"mode\": \"immediate\", \"transition\": {\"duration\": 0, \"easing\": \"linear\"}}], \"label\": \"10/15/20\", \"method\": \"animate\"}, {\"args\": [[\"10/24/20\"], {\"frame\": {\"duration\": 0, \"redraw\": true}, \"fromcurrent\": true, \"mode\": \"immediate\", \"transition\": {\"duration\": 0, \"easing\": \"linear\"}}], \"label\": \"10/24/20\", \"method\": \"animate\"}, {\"args\": [[\"10/29/20\"], {\"frame\": {\"duration\": 0, \"redraw\": true}, \"fromcurrent\": true, \"mode\": \"immediate\", \"transition\": {\"duration\": 0, \"easing\": \"linear\"}}], \"label\": \"10/29/20\", \"method\": \"animate\"}, {\"args\": [[\"11/1/20\"], {\"frame\": {\"duration\": 0, \"redraw\": true}, \"fromcurrent\": true, \"mode\": \"immediate\", \"transition\": {\"duration\": 0, \"easing\": \"linear\"}}], \"label\": \"11/1/20\", \"method\": \"animate\"}, {\"args\": [[\"11/5/20\"], {\"frame\": {\"duration\": 0, \"redraw\": true}, \"fromcurrent\": true, \"mode\": \"immediate\", \"transition\": {\"duration\": 0, \"easing\": \"linear\"}}], \"label\": \"11/5/20\", \"method\": \"animate\"}, {\"args\": [[\"11/14/20\"], {\"frame\": {\"duration\": 0, \"redraw\": true}, \"fromcurrent\": true, \"mode\": \"immediate\", \"transition\": {\"duration\": 0, \"easing\": \"linear\"}}], \"label\": \"11/14/20\", \"method\": \"animate\"}, {\"args\": [[\"11/19/20\"], {\"frame\": {\"duration\": 0, \"redraw\": true}, \"fromcurrent\": true, \"mode\": \"immediate\", \"transition\": {\"duration\": 0, \"easing\": \"linear\"}}], \"label\": \"11/19/20\", \"method\": \"animate\"}, {\"args\": [[\"11/23/20\"], {\"frame\": {\"duration\": 0, \"redraw\": true}, \"fromcurrent\": true, \"mode\": \"immediate\", \"transition\": {\"duration\": 0, \"easing\": \"linear\"}}], \"label\": \"11/23/20\", \"method\": \"animate\"}, {\"args\": [[\"11/28/20\"], {\"frame\": {\"duration\": 0, \"redraw\": true}, \"fromcurrent\": true, \"mode\": \"immediate\", \"transition\": {\"duration\": 0, \"easing\": \"linear\"}}], \"label\": \"11/28/20\", \"method\": \"animate\"}, {\"args\": [[\"12/1/20\"], {\"frame\": {\"duration\": 0, \"redraw\": true}, \"fromcurrent\": true, \"mode\": \"immediate\", \"transition\": {\"duration\": 0, \"easing\": \"linear\"}}], \"label\": \"12/1/20\", \"method\": \"animate\"}, {\"args\": [[\"12/7/20\"], {\"frame\": {\"duration\": 0, \"redraw\": true}, \"fromcurrent\": true, \"mode\": \"immediate\", \"transition\": {\"duration\": 0, \"easing\": \"linear\"}}], \"label\": \"12/7/20\", \"method\": \"animate\"}, {\"args\": [[\"12/14/20\"], {\"frame\": {\"duration\": 0, \"redraw\": true}, \"fromcurrent\": true, \"mode\": \"immediate\", \"transition\": {\"duration\": 0, \"easing\": \"linear\"}}], \"label\": \"12/14/20\", \"method\": \"animate\"}, {\"args\": [[\"12/19/20\"], {\"frame\": {\"duration\": 0, \"redraw\": true}, \"fromcurrent\": true, \"mode\": \"immediate\", \"transition\": {\"duration\": 0, \"easing\": \"linear\"}}], \"label\": \"12/19/20\", \"method\": \"animate\"}, {\"args\": [[\"12/23/20\"], {\"frame\": {\"duration\": 0, \"redraw\": true}, \"fromcurrent\": true, \"mode\": \"immediate\", \"transition\": {\"duration\": 0, \"easing\": \"linear\"}}], \"label\": \"12/23/20\", \"method\": \"animate\"}, {\"args\": [[\"12/28/20\"], {\"frame\": {\"duration\": 0, \"redraw\": true}, \"fromcurrent\": true, \"mode\": \"immediate\", \"transition\": {\"duration\": 0, \"easing\": \"linear\"}}], \"label\": \"12/28/20\", \"method\": \"animate\"}], \"x\": 0.1, \"xanchor\": \"left\", \"y\": 0, \"yanchor\": \"top\"}], \"template\": {\"data\": {\"bar\": [{\"error_x\": {\"color\": \"#f2f5fa\"}, \"error_y\": {\"color\": \"#f2f5fa\"}, \"marker\": {\"line\": {\"color\": \"rgb(17,17,17)\", \"width\": 0.5}}, \"type\": \"bar\"}], \"barpolar\": [{\"marker\": {\"line\": {\"color\": \"rgb(17,17,17)\", \"width\": 0.5}}, \"type\": \"barpolar\"}], \"carpet\": [{\"aaxis\": {\"endlinecolor\": \"#A2B1C6\", \"gridcolor\": \"#506784\", \"linecolor\": \"#506784\", \"minorgridcolor\": \"#506784\", \"startlinecolor\": \"#A2B1C6\"}, \"baxis\": {\"endlinecolor\": \"#A2B1C6\", \"gridcolor\": \"#506784\", \"linecolor\": \"#506784\", \"minorgridcolor\": \"#506784\", \"startlinecolor\": \"#A2B1C6\"}, \"type\": \"carpet\"}], \"choropleth\": [{\"colorbar\": {\"outlinewidth\": 0, \"ticks\": \"\"}, \"type\": \"choropleth\"}], \"contour\": [{\"colorbar\": {\"outlinewidth\": 0, \"ticks\": \"\"}, \"colorscale\": [[0.0, \"#0d0887\"], [0.1111111111111111, \"#46039f\"], [0.2222222222222222, \"#7201a8\"], [0.3333333333333333, \"#9c179e\"], [0.4444444444444444, \"#bd3786\"], [0.5555555555555556, \"#d8576b\"], [0.6666666666666666, \"#ed7953\"], [0.7777777777777778, \"#fb9f3a\"], [0.8888888888888888, \"#fdca26\"], [1.0, \"#f0f921\"]], \"type\": \"contour\"}], \"contourcarpet\": [{\"colorbar\": {\"outlinewidth\": 0, \"ticks\": \"\"}, \"type\": \"contourcarpet\"}], \"heatmap\": [{\"colorbar\": {\"outlinewidth\": 0, \"ticks\": \"\"}, \"colorscale\": [[0.0, \"#0d0887\"], [0.1111111111111111, \"#46039f\"], [0.2222222222222222, \"#7201a8\"], [0.3333333333333333, \"#9c179e\"], [0.4444444444444444, \"#bd3786\"], [0.5555555555555556, \"#d8576b\"], [0.6666666666666666, \"#ed7953\"], [0.7777777777777778, \"#fb9f3a\"], [0.8888888888888888, \"#fdca26\"], [1.0, \"#f0f921\"]], \"type\": \"heatmap\"}], \"heatmapgl\": [{\"colorbar\": {\"outlinewidth\": 0, \"ticks\": \"\"}, \"colorscale\": [[0.0, \"#0d0887\"], [0.1111111111111111, \"#46039f\"], [0.2222222222222222, \"#7201a8\"], [0.3333333333333333, \"#9c179e\"], [0.4444444444444444, \"#bd3786\"], [0.5555555555555556, \"#d8576b\"], [0.6666666666666666, \"#ed7953\"], [0.7777777777777778, \"#fb9f3a\"], [0.8888888888888888, \"#fdca26\"], [1.0, \"#f0f921\"]], \"type\": \"heatmapgl\"}], \"histogram\": [{\"marker\": {\"colorbar\": {\"outlinewidth\": 0, \"ticks\": \"\"}}, \"type\": \"histogram\"}], \"histogram2d\": [{\"colorbar\": {\"outlinewidth\": 0, \"ticks\": \"\"}, \"colorscale\": [[0.0, \"#0d0887\"], [0.1111111111111111, \"#46039f\"], [0.2222222222222222, \"#7201a8\"], [0.3333333333333333, \"#9c179e\"], [0.4444444444444444, \"#bd3786\"], [0.5555555555555556, \"#d8576b\"], [0.6666666666666666, \"#ed7953\"], [0.7777777777777778, \"#fb9f3a\"], [0.8888888888888888, \"#fdca26\"], [1.0, \"#f0f921\"]], \"type\": \"histogram2d\"}], \"histogram2dcontour\": [{\"colorbar\": {\"outlinewidth\": 0, \"ticks\": \"\"}, \"colorscale\": [[0.0, \"#0d0887\"], [0.1111111111111111, \"#46039f\"], [0.2222222222222222, \"#7201a8\"], [0.3333333333333333, \"#9c179e\"], [0.4444444444444444, \"#bd3786\"], [0.5555555555555556, \"#d8576b\"], [0.6666666666666666, \"#ed7953\"], [0.7777777777777778, \"#fb9f3a\"], [0.8888888888888888, \"#fdca26\"], [1.0, \"#f0f921\"]], \"type\": \"histogram2dcontour\"}], \"mesh3d\": [{\"colorbar\": {\"outlinewidth\": 0, \"ticks\": \"\"}, \"type\": \"mesh3d\"}], \"parcoords\": [{\"line\": {\"colorbar\": {\"outlinewidth\": 0, \"ticks\": \"\"}}, \"type\": \"parcoords\"}], \"pie\": [{\"automargin\": true, \"type\": \"pie\"}], \"scatter\": [{\"marker\": {\"line\": {\"color\": \"#283442\"}}, \"type\": \"scatter\"}], \"scatter3d\": [{\"line\": {\"colorbar\": {\"outlinewidth\": 0, \"ticks\": \"\"}}, \"marker\": {\"colorbar\": {\"outlinewidth\": 0, \"ticks\": \"\"}}, \"type\": \"scatter3d\"}], \"scattercarpet\": [{\"marker\": {\"colorbar\": {\"outlinewidth\": 0, \"ticks\": \"\"}}, \"type\": \"scattercarpet\"}], \"scattergeo\": [{\"marker\": {\"colorbar\": {\"outlinewidth\": 0, \"ticks\": \"\"}}, \"type\": \"scattergeo\"}], \"scattergl\": [{\"marker\": {\"line\": {\"color\": \"#283442\"}}, \"type\": \"scattergl\"}], \"scattermapbox\": [{\"marker\": {\"colorbar\": {\"outlinewidth\": 0, \"ticks\": \"\"}}, \"type\": \"scattermapbox\"}], \"scatterpolar\": [{\"marker\": {\"colorbar\": {\"outlinewidth\": 0, \"ticks\": \"\"}}, \"type\": \"scatterpolar\"}], \"scatterpolargl\": [{\"marker\": {\"colorbar\": {\"outlinewidth\": 0, \"ticks\": \"\"}}, \"type\": \"scatterpolargl\"}], \"scatterternary\": [{\"marker\": {\"colorbar\": {\"outlinewidth\": 0, \"ticks\": \"\"}}, \"type\": \"scatterternary\"}], \"surface\": [{\"colorbar\": {\"outlinewidth\": 0, \"ticks\": \"\"}, \"colorscale\": [[0.0, \"#0d0887\"], [0.1111111111111111, \"#46039f\"], [0.2222222222222222, \"#7201a8\"], [0.3333333333333333, \"#9c179e\"], [0.4444444444444444, \"#bd3786\"], [0.5555555555555556, \"#d8576b\"], [0.6666666666666666, \"#ed7953\"], [0.7777777777777778, \"#fb9f3a\"], [0.8888888888888888, \"#fdca26\"], [1.0, \"#f0f921\"]], \"type\": \"surface\"}], \"table\": [{\"cells\": {\"fill\": {\"color\": \"#506784\"}, \"line\": {\"color\": \"rgb(17,17,17)\"}}, \"header\": {\"fill\": {\"color\": \"#2a3f5f\"}, \"line\": {\"color\": \"rgb(17,17,17)\"}}, \"type\": \"table\"}]}, \"layout\": {\"annotationdefaults\": {\"arrowcolor\": \"#f2f5fa\", \"arrowhead\": 0, \"arrowwidth\": 1}, \"autotypenumbers\": \"strict\", \"coloraxis\": {\"colorbar\": {\"outlinewidth\": 0, \"ticks\": \"\"}}, \"colorscale\": {\"diverging\": [[0, \"#8e0152\"], [0.1, \"#c51b7d\"], [0.2, \"#de77ae\"], [0.3, \"#f1b6da\"], [0.4, \"#fde0ef\"], [0.5, \"#f7f7f7\"], [0.6, \"#e6f5d0\"], [0.7, \"#b8e186\"], [0.8, \"#7fbc41\"], [0.9, \"#4d9221\"], [1, \"#276419\"]], \"sequential\": [[0.0, \"#0d0887\"], [0.1111111111111111, \"#46039f\"], [0.2222222222222222, \"#7201a8\"], [0.3333333333333333, \"#9c179e\"], [0.4444444444444444, \"#bd3786\"], [0.5555555555555556, \"#d8576b\"], [0.6666666666666666, \"#ed7953\"], [0.7777777777777778, \"#fb9f3a\"], [0.8888888888888888, \"#fdca26\"], [1.0, \"#f0f921\"]], \"sequentialminus\": [[0.0, \"#0d0887\"], [0.1111111111111111, \"#46039f\"], [0.2222222222222222, \"#7201a8\"], [0.3333333333333333, \"#9c179e\"], [0.4444444444444444, \"#bd3786\"], [0.5555555555555556, \"#d8576b\"], [0.6666666666666666, \"#ed7953\"], [0.7777777777777778, \"#fb9f3a\"], [0.8888888888888888, \"#fdca26\"], [1.0, \"#f0f921\"]]}, \"colorway\": [\"#636efa\", \"#EF553B\", \"#00cc96\", \"#ab63fa\", \"#FFA15A\", \"#19d3f3\", \"#FF6692\", \"#B6E880\", \"#FF97FF\", \"#FECB52\"], \"font\": {\"color\": \"#f2f5fa\"}, \"geo\": {\"bgcolor\": \"rgb(17,17,17)\", \"lakecolor\": \"rgb(17,17,17)\", \"landcolor\": \"rgb(17,17,17)\", \"showlakes\": true, \"showland\": true, \"subunitcolor\": \"#506784\"}, \"hoverlabel\": {\"align\": \"left\"}, \"hovermode\": \"closest\", \"mapbox\": {\"style\": \"dark\"}, \"paper_bgcolor\": \"rgb(17,17,17)\", \"plot_bgcolor\": \"rgb(17,17,17)\", \"polar\": {\"angularaxis\": {\"gridcolor\": \"#506784\", \"linecolor\": \"#506784\", \"ticks\": \"\"}, \"bgcolor\": \"rgb(17,17,17)\", \"radialaxis\": {\"gridcolor\": \"#506784\", \"linecolor\": \"#506784\", \"ticks\": \"\"}}, \"scene\": {\"xaxis\": {\"backgroundcolor\": \"rgb(17,17,17)\", \"gridcolor\": \"#506784\", \"gridwidth\": 2, \"linecolor\": \"#506784\", \"showbackground\": true, \"ticks\": \"\", \"zerolinecolor\": \"#C8D4E3\"}, \"yaxis\": {\"backgroundcolor\": \"rgb(17,17,17)\", \"gridcolor\": \"#506784\", \"gridwidth\": 2, \"linecolor\": \"#506784\", \"showbackground\": true, \"ticks\": \"\", \"zerolinecolor\": \"#C8D4E3\"}, \"zaxis\": {\"backgroundcolor\": \"rgb(17,17,17)\", \"gridcolor\": \"#506784\", \"gridwidth\": 2, \"linecolor\": \"#506784\", \"showbackground\": true, \"ticks\": \"\", \"zerolinecolor\": \"#C8D4E3\"}}, \"shapedefaults\": {\"line\": {\"color\": \"#f2f5fa\"}}, \"sliderdefaults\": {\"bgcolor\": \"#C8D4E3\", \"bordercolor\": \"rgb(17,17,17)\", \"borderwidth\": 1, \"tickwidth\": 0}, \"ternary\": {\"aaxis\": {\"gridcolor\": \"#506784\", \"linecolor\": \"#506784\", \"ticks\": \"\"}, \"baxis\": {\"gridcolor\": \"#506784\", \"linecolor\": \"#506784\", \"ticks\": \"\"}, \"bgcolor\": \"rgb(17,17,17)\", \"caxis\": {\"gridcolor\": \"#506784\", \"linecolor\": \"#506784\", \"ticks\": \"\"}}, \"title\": {\"x\": 0.05}, \"updatemenudefaults\": {\"bgcolor\": \"#506784\", \"borderwidth\": 0}, \"xaxis\": {\"automargin\": true, \"gridcolor\": \"#283442\", \"linecolor\": \"#506784\", \"ticks\": \"\", \"title\": {\"standoff\": 15}, \"zerolinecolor\": \"#283442\", \"zerolinewidth\": 2}, \"yaxis\": {\"automargin\": true, \"gridcolor\": \"#283442\", \"linecolor\": \"#506784\", \"ticks\": \"\", \"title\": {\"standoff\": 15}, \"zerolinecolor\": \"#283442\", \"zerolinewidth\": 2}}}, \"updatemenus\": [{\"buttons\": [{\"args\": [null, {\"frame\": {\"duration\": 500, \"redraw\": true}, \"fromcurrent\": true, \"mode\": \"immediate\", \"transition\": {\"duration\": 500, \"easing\": \"linear\"}}], \"label\": \"&#9654;\", \"method\": \"animate\"}, {\"args\": [[null], {\"frame\": {\"duration\": 0, \"redraw\": true}, \"fromcurrent\": true, \"mode\": \"immediate\", \"transition\": {\"duration\": 0, \"easing\": \"linear\"}}], \"label\": \"&#9724;\", \"method\": \"animate\"}], \"direction\": \"left\", \"pad\": {\"r\": 10, \"t\": 70}, \"showactive\": false, \"type\": \"buttons\", \"x\": 0.1, \"xanchor\": \"right\", \"y\": 0, \"yanchor\": \"top\"}], \"xaxis\": {\"anchor\": \"y\", \"domain\": [0.0, 1.0], \"title\": {\"text\": \"Country\"}}, \"yaxis\": {\"anchor\": \"x\", \"domain\": [0.0, 1.0], \"range\": [0, 334836], \"title\": {\"text\": \"Cases\"}}},                        {\"responsive\": true}                    ).then(function(){\n",
              "                            Plotly.addFrames('1adeb43c-4799-49c5-a0cb-706662b0e086', [{\"data\": [{\"alignmentgroup\": \"True\", \"hovertemplate\": \"Date=1/23/20<br>Country=%{x}<br>Cases=%{y}<extra></extra>\", \"ids\": [\"Brazil\", \"India\", \"US\"], \"legendgroup\": \"\", \"marker\": {\"color\": \"#f54842\"}, \"name\": \"\", \"offsetgroup\": \"\", \"orientation\": \"v\", \"showlegend\": false, \"textposition\": \"auto\", \"x\": [\"Brazil\", \"India\", \"US\"], \"xaxis\": \"x\", \"y\": [0, 0, 0], \"yaxis\": \"y\", \"type\": \"bar\"}], \"name\": \"1/23/20\"}, {\"data\": [{\"alignmentgroup\": \"True\", \"hovertemplate\": \"Date=1/28/20<br>Country=%{x}<br>Cases=%{y}<extra></extra>\", \"ids\": [\"Brazil\", \"India\", \"US\"], \"legendgroup\": \"\", \"marker\": {\"color\": \"#f54842\"}, \"name\": \"\", \"offsetgroup\": \"\", \"orientation\": \"v\", \"showlegend\": false, \"textposition\": \"auto\", \"x\": [\"Brazil\", \"India\", \"US\"], \"xaxis\": \"x\", \"y\": [0, 0, 0], \"yaxis\": \"y\", \"type\": \"bar\"}], \"name\": \"1/28/20\"}, {\"data\": [{\"alignmentgroup\": \"True\", \"hovertemplate\": \"Date=2/3/20<br>Country=%{x}<br>Cases=%{y}<extra></extra>\", \"ids\": [\"Brazil\", \"India\", \"US\"], \"legendgroup\": \"\", \"marker\": {\"color\": \"#f54842\"}, \"name\": \"\", \"offsetgroup\": \"\", \"orientation\": \"v\", \"showlegend\": false, \"textposition\": \"auto\", \"x\": [\"Brazil\", \"India\", \"US\"], \"xaxis\": \"x\", \"y\": [0, 0, 0], \"yaxis\": \"y\", \"type\": \"bar\"}], \"name\": \"2/3/20\"}, {\"data\": [{\"alignmentgroup\": \"True\", \"hovertemplate\": \"Date=2/8/20<br>Country=%{x}<br>Cases=%{y}<extra></extra>\", \"ids\": [\"Brazil\", \"India\", \"US\"], \"legendgroup\": \"\", \"marker\": {\"color\": \"#f54842\"}, \"name\": \"\", \"offsetgroup\": \"\", \"orientation\": \"v\", \"showlegend\": false, \"textposition\": \"auto\", \"x\": [\"Brazil\", \"India\", \"US\"], \"xaxis\": \"x\", \"y\": [0, 0, 0], \"yaxis\": \"y\", \"type\": \"bar\"}], \"name\": \"2/8/20\"}, {\"data\": [{\"alignmentgroup\": \"True\", \"hovertemplate\": \"Date=2/11/20<br>Country=%{x}<br>Cases=%{y}<extra></extra>\", \"ids\": [\"Brazil\", \"India\", \"US\"], \"legendgroup\": \"\", \"marker\": {\"color\": \"#f54842\"}, \"name\": \"\", \"offsetgroup\": \"\", \"orientation\": \"v\", \"showlegend\": false, \"textposition\": \"auto\", \"x\": [\"Brazil\", \"India\", \"US\"], \"xaxis\": \"x\", \"y\": [0, 0, 0], \"yaxis\": \"y\", \"type\": \"bar\"}], \"name\": \"2/11/20\"}, {\"data\": [{\"alignmentgroup\": \"True\", \"hovertemplate\": \"Date=2/16/20<br>Country=%{x}<br>Cases=%{y}<extra></extra>\", \"ids\": [\"Brazil\", \"India\", \"US\"], \"legendgroup\": \"\", \"marker\": {\"color\": \"#f54842\"}, \"name\": \"\", \"offsetgroup\": \"\", \"orientation\": \"v\", \"showlegend\": false, \"textposition\": \"auto\", \"x\": [\"Brazil\", \"India\", \"US\"], \"xaxis\": \"x\", \"y\": [0, 0, 0], \"yaxis\": \"y\", \"type\": \"bar\"}], \"name\": \"2/16/20\"}, {\"data\": [{\"alignmentgroup\": \"True\", \"hovertemplate\": \"Date=2/20/20<br>Country=%{x}<br>Cases=%{y}<extra></extra>\", \"ids\": [\"Brazil\", \"India\", \"US\"], \"legendgroup\": \"\", \"marker\": {\"color\": \"#f54842\"}, \"name\": \"\", \"offsetgroup\": \"\", \"orientation\": \"v\", \"showlegend\": false, \"textposition\": \"auto\", \"x\": [\"Brazil\", \"India\", \"US\"], \"xaxis\": \"x\", \"y\": [0, 0, 0], \"yaxis\": \"y\", \"type\": \"bar\"}], \"name\": \"2/20/20\"}, {\"data\": [{\"alignmentgroup\": \"True\", \"hovertemplate\": \"Date=2/25/20<br>Country=%{x}<br>Cases=%{y}<extra></extra>\", \"ids\": [\"Brazil\", \"India\", \"US\"], \"legendgroup\": \"\", \"marker\": {\"color\": \"#f54842\"}, \"name\": \"\", \"offsetgroup\": \"\", \"orientation\": \"v\", \"showlegend\": false, \"textposition\": \"auto\", \"x\": [\"Brazil\", \"India\", \"US\"], \"xaxis\": \"x\", \"y\": [0, 0, 0], \"yaxis\": \"y\", \"type\": \"bar\"}], \"name\": \"2/25/20\"}, {\"data\": [{\"alignmentgroup\": \"True\", \"hovertemplate\": \"Date=3/7/20<br>Country=%{x}<br>Cases=%{y}<extra></extra>\", \"ids\": [\"Brazil\", \"India\", \"US\"], \"legendgroup\": \"\", \"marker\": {\"color\": \"#f54842\"}, \"name\": \"\", \"offsetgroup\": \"\", \"orientation\": \"v\", \"showlegend\": false, \"textposition\": \"auto\", \"x\": [\"Brazil\", \"India\", \"US\"], \"xaxis\": \"x\", \"y\": [0, 0, 17], \"yaxis\": \"y\", \"type\": \"bar\"}], \"name\": \"3/7/20\"}, {\"data\": [{\"alignmentgroup\": \"True\", \"hovertemplate\": \"Date=3/12/20<br>Country=%{x}<br>Cases=%{y}<extra></extra>\", \"ids\": [\"Brazil\", \"India\", \"US\"], \"legendgroup\": \"\", \"marker\": {\"color\": \"#f54842\"}, \"name\": \"\", \"offsetgroup\": \"\", \"orientation\": \"v\", \"showlegend\": false, \"textposition\": \"auto\", \"x\": [\"Brazil\", \"India\", \"US\"], \"xaxis\": \"x\", \"y\": [0, 1, 43], \"yaxis\": \"y\", \"type\": \"bar\"}], \"name\": \"3/12/20\"}, {\"data\": [{\"alignmentgroup\": \"True\", \"hovertemplate\": \"Date=3/17/20<br>Country=%{x}<br>Cases=%{y}<extra></extra>\", \"ids\": [\"Brazil\", \"India\", \"US\"], \"legendgroup\": \"\", \"marker\": {\"color\": \"#f54842\"}, \"name\": \"\", \"offsetgroup\": \"\", \"orientation\": \"v\", \"showlegend\": false, \"textposition\": \"auto\", \"x\": [\"Brazil\", \"India\", \"US\"], \"xaxis\": \"x\", \"y\": [1, 3, 133], \"yaxis\": \"y\", \"type\": \"bar\"}], \"name\": \"3/17/20\"}, {\"data\": [{\"alignmentgroup\": \"True\", \"hovertemplate\": \"Date=3/21/20<br>Country=%{x}<br>Cases=%{y}<extra></extra>\", \"ids\": [\"Brazil\", \"India\", \"US\"], \"legendgroup\": \"\", \"marker\": {\"color\": \"#f54842\"}, \"name\": \"\", \"offsetgroup\": \"\", \"orientation\": \"v\", \"showlegend\": false, \"textposition\": \"auto\", \"x\": [\"Brazil\", \"India\", \"US\"], \"xaxis\": \"x\", \"y\": [15, 4, 466], \"yaxis\": \"y\", \"type\": \"bar\"}], \"name\": \"3/21/20\"}, {\"data\": [{\"alignmentgroup\": \"True\", \"hovertemplate\": \"Date=3/26/20<br>Country=%{x}<br>Cases=%{y}<extra></extra>\", \"ids\": [\"Brazil\", \"India\", \"US\"], \"legendgroup\": \"\", \"marker\": {\"color\": \"#f54842\"}, \"name\": \"\", \"offsetgroup\": \"\", \"orientation\": \"v\", \"showlegend\": false, \"textposition\": \"auto\", \"x\": [\"Brazil\", \"India\", \"US\"], \"xaxis\": \"x\", \"y\": [77, 20, 1742], \"yaxis\": \"y\", \"type\": \"bar\"}], \"name\": \"3/26/20\"}, {\"data\": [{\"alignmentgroup\": \"True\", \"hovertemplate\": \"Date=3/30/20<br>Country=%{x}<br>Cases=%{y}<extra></extra>\", \"ids\": [\"Brazil\", \"India\", \"US\"], \"legendgroup\": \"\", \"marker\": {\"color\": \"#f54842\"}, \"name\": \"\", \"offsetgroup\": \"\", \"orientation\": \"v\", \"showlegend\": false, \"textposition\": \"auto\", \"x\": [\"Brazil\", \"India\", \"US\"], \"xaxis\": \"x\", \"y\": [159, 32, 4187], \"yaxis\": \"y\", \"type\": \"bar\"}], \"name\": \"3/30/20\"}, {\"data\": [{\"alignmentgroup\": \"True\", \"hovertemplate\": \"Date=4/3/20<br>Country=%{x}<br>Cases=%{y}<extra></extra>\", \"ids\": [\"Brazil\", \"India\", \"US\"], \"legendgroup\": \"\", \"marker\": {\"color\": \"#f54842\"}, \"name\": \"\", \"offsetgroup\": \"\", \"orientation\": \"v\", \"showlegend\": false, \"textposition\": \"auto\", \"x\": [\"Brazil\", \"India\", \"US\"], \"xaxis\": \"x\", \"y\": [359, 72, 9436], \"yaxis\": \"y\", \"type\": \"bar\"}], \"name\": \"4/3/20\"}, {\"data\": [{\"alignmentgroup\": \"True\", \"hovertemplate\": \"Date=4/7/20<br>Country=%{x}<br>Cases=%{y}<extra></extra>\", \"ids\": [\"Brazil\", \"India\", \"US\"], \"legendgroup\": \"\", \"marker\": {\"color\": \"#f54842\"}, \"name\": \"\", \"offsetgroup\": \"\", \"orientation\": \"v\", \"showlegend\": false, \"textposition\": \"auto\", \"x\": [\"Brazil\", \"India\", \"US\"], \"xaxis\": \"x\", \"y\": [686, 150, 16895], \"yaxis\": \"y\", \"type\": \"bar\"}], \"name\": \"4/7/20\"}, {\"data\": [{\"alignmentgroup\": \"True\", \"hovertemplate\": \"Date=4/11/20<br>Country=%{x}<br>Cases=%{y}<extra></extra>\", \"ids\": [\"Brazil\", \"India\", \"US\"], \"legendgroup\": \"\", \"marker\": {\"color\": \"#f54842\"}, \"name\": \"\", \"offsetgroup\": \"\", \"orientation\": \"v\", \"showlegend\": false, \"textposition\": \"auto\", \"x\": [\"Brazil\", \"India\", \"US\"], \"xaxis\": \"x\", \"y\": [1124, 288, 25597], \"yaxis\": \"y\", \"type\": \"bar\"}], \"name\": \"4/11/20\"}, {\"data\": [{\"alignmentgroup\": \"True\", \"hovertemplate\": \"Date=4/16/20<br>Country=%{x}<br>Cases=%{y}<extra></extra>\", \"ids\": [\"Brazil\", \"India\", \"US\"], \"legendgroup\": \"\", \"marker\": {\"color\": \"#f54842\"}, \"name\": \"\", \"offsetgroup\": \"\", \"orientation\": \"v\", \"showlegend\": false, \"textposition\": \"auto\", \"x\": [\"Brazil\", \"India\", \"US\"], \"xaxis\": \"x\", \"y\": [1924, 448, 36576], \"yaxis\": \"y\", \"type\": \"bar\"}], \"name\": \"4/16/20\"}, {\"data\": [{\"alignmentgroup\": \"True\", \"hovertemplate\": \"Date=4/20/20<br>Country=%{x}<br>Cases=%{y}<extra></extra>\", \"ids\": [\"Brazil\", \"India\", \"US\"], \"legendgroup\": \"\", \"marker\": {\"color\": \"#f54842\"}, \"name\": \"\", \"offsetgroup\": \"\", \"orientation\": \"v\", \"showlegend\": false, \"textposition\": \"auto\", \"x\": [\"Brazil\", \"India\", \"US\"], \"xaxis\": \"x\", \"y\": [2587, 592, 44769], \"yaxis\": \"y\", \"type\": \"bar\"}], \"name\": \"4/20/20\"}, {\"data\": [{\"alignmentgroup\": \"True\", \"hovertemplate\": \"Date=4/25/20<br>Country=%{x}<br>Cases=%{y}<extra></extra>\", \"ids\": [\"Brazil\", \"India\", \"US\"], \"legendgroup\": \"\", \"marker\": {\"color\": \"#f54842\"}, \"name\": \"\", \"offsetgroup\": \"\", \"orientation\": \"v\", \"showlegend\": false, \"textposition\": \"auto\", \"x\": [\"Brazil\", \"India\", \"US\"], \"xaxis\": \"x\", \"y\": [4057, 825, 56056], \"yaxis\": \"y\", \"type\": \"bar\"}], \"name\": \"4/25/20\"}, {\"data\": [{\"alignmentgroup\": \"True\", \"hovertemplate\": \"Date=5/3/20<br>Country=%{x}<br>Cases=%{y}<extra></extra>\", \"ids\": [\"Brazil\", \"India\", \"US\"], \"legendgroup\": \"\", \"marker\": {\"color\": \"#f54842\"}, \"name\": \"\", \"offsetgroup\": \"\", \"orientation\": \"v\", \"showlegend\": false, \"textposition\": \"auto\", \"x\": [\"Brazil\", \"India\", \"US\"], \"xaxis\": \"x\", \"y\": [7051, 1391, 70708], \"yaxis\": \"y\", \"type\": \"bar\"}], \"name\": \"5/3/20\"}, {\"data\": [{\"alignmentgroup\": \"True\", \"hovertemplate\": \"Date=5/6/20<br>Country=%{x}<br>Cases=%{y}<extra></extra>\", \"ids\": [\"Brazil\", \"India\", \"US\"], \"legendgroup\": \"\", \"marker\": {\"color\": \"#f54842\"}, \"name\": \"\", \"offsetgroup\": \"\", \"orientation\": \"v\", \"showlegend\": false, \"textposition\": \"auto\", \"x\": [\"Brazil\", \"India\", \"US\"], \"xaxis\": \"x\", \"y\": [8588, 1785, 76665], \"yaxis\": \"y\", \"type\": \"bar\"}], \"name\": \"5/6/20\"}, {\"data\": [{\"alignmentgroup\": \"True\", \"hovertemplate\": \"Date=5/11/20<br>Country=%{x}<br>Cases=%{y}<extra></extra>\", \"ids\": [\"Brazil\", \"India\", \"US\"], \"legendgroup\": \"\", \"marker\": {\"color\": \"#f54842\"}, \"name\": \"\", \"offsetgroup\": \"\", \"orientation\": \"v\", \"showlegend\": false, \"textposition\": \"auto\", \"x\": [\"Brazil\", \"India\", \"US\"], \"xaxis\": \"x\", \"y\": [11653, 2294, 83776], \"yaxis\": \"y\", \"type\": \"bar\"}], \"name\": \"5/11/20\"}, {\"data\": [{\"alignmentgroup\": \"True\", \"hovertemplate\": \"Date=5/16/20<br>Country=%{x}<br>Cases=%{y}<extra></extra>\", \"ids\": [\"Brazil\", \"India\", \"US\"], \"legendgroup\": \"\", \"marker\": {\"color\": \"#f54842\"}, \"name\": \"\", \"offsetgroup\": \"\", \"orientation\": \"v\", \"showlegend\": false, \"textposition\": \"auto\", \"x\": [\"Brazil\", \"India\", \"US\"], \"xaxis\": \"x\", \"y\": [15662, 2871, 91855], \"yaxis\": \"y\", \"type\": \"bar\"}], \"name\": \"5/16/20\"}, {\"data\": [{\"alignmentgroup\": \"True\", \"hovertemplate\": \"Date=5/20/20<br>Country=%{x}<br>Cases=%{y}<extra></extra>\", \"ids\": [\"Brazil\", \"India\", \"US\"], \"legendgroup\": \"\", \"marker\": {\"color\": \"#f54842\"}, \"name\": \"\", \"offsetgroup\": \"\", \"orientation\": \"v\", \"showlegend\": false, \"textposition\": \"auto\", \"x\": [\"Brazil\", \"India\", \"US\"], \"xaxis\": \"x\", \"y\": [18859, 3434, 96807], \"yaxis\": \"y\", \"type\": \"bar\"}], \"name\": \"5/20/20\"}, {\"data\": [{\"alignmentgroup\": \"True\", \"hovertemplate\": \"Date=5/25/20<br>Country=%{x}<br>Cases=%{y}<extra></extra>\", \"ids\": [\"Brazil\", \"India\", \"US\"], \"legendgroup\": \"\", \"marker\": {\"color\": \"#f54842\"}, \"name\": \"\", \"offsetgroup\": \"\", \"orientation\": \"v\", \"showlegend\": false, \"textposition\": \"auto\", \"x\": [\"Brazil\", \"India\", \"US\"], \"xaxis\": \"x\", \"y\": [23473, 4172, 101572], \"yaxis\": \"y\", \"type\": \"bar\"}], \"name\": \"5/25/20\"}, {\"data\": [{\"alignmentgroup\": \"True\", \"hovertemplate\": \"Date=6/2/20<br>Country=%{x}<br>Cases=%{y}<extra></extra>\", \"ids\": [\"Brazil\", \"India\", \"US\"], \"legendgroup\": \"\", \"marker\": {\"color\": \"#f54842\"}, \"name\": \"\", \"offsetgroup\": \"\", \"orientation\": \"v\", \"showlegend\": false, \"textposition\": \"auto\", \"x\": [\"Brazil\", \"India\", \"US\"], \"xaxis\": \"x\", \"y\": [31199, 5829, 109539], \"yaxis\": \"y\", \"type\": \"bar\"}], \"name\": \"6/2/20\"}, {\"data\": [{\"alignmentgroup\": \"True\", \"hovertemplate\": \"Date=6/6/20<br>Country=%{x}<br>Cases=%{y}<extra></extra>\", \"ids\": [\"Brazil\", \"India\", \"US\"], \"legendgroup\": \"\", \"marker\": {\"color\": \"#f54842\"}, \"name\": \"\", \"offsetgroup\": \"\", \"orientation\": \"v\", \"showlegend\": false, \"textposition\": \"auto\", \"x\": [\"Brazil\", \"India\", \"US\"], \"xaxis\": \"x\", \"y\": [35930, 6946, 113138], \"yaxis\": \"y\", \"type\": \"bar\"}], \"name\": \"6/6/20\"}, {\"data\": [{\"alignmentgroup\": \"True\", \"hovertemplate\": \"Date=6/10/20<br>Country=%{x}<br>Cases=%{y}<extra></extra>\", \"ids\": [\"Brazil\", \"India\", \"US\"], \"legendgroup\": \"\", \"marker\": {\"color\": \"#f54842\"}, \"name\": \"\", \"offsetgroup\": \"\", \"orientation\": \"v\", \"showlegend\": false, \"textposition\": \"auto\", \"x\": [\"Brazil\", \"India\", \"US\"], \"xaxis\": \"x\", \"y\": [39680, 8102, 115911], \"yaxis\": \"y\", \"type\": \"bar\"}], \"name\": \"6/10/20\"}, {\"data\": [{\"alignmentgroup\": \"True\", \"hovertemplate\": \"Date=6/15/20<br>Country=%{x}<br>Cases=%{y}<extra></extra>\", \"ids\": [\"Brazil\", \"India\", \"US\"], \"legendgroup\": \"\", \"marker\": {\"color\": \"#f54842\"}, \"name\": \"\", \"offsetgroup\": \"\", \"orientation\": \"v\", \"showlegend\": false, \"textposition\": \"auto\", \"x\": [\"Brazil\", \"India\", \"US\"], \"xaxis\": \"x\", \"y\": [43959, 9900, 119049], \"yaxis\": \"y\", \"type\": \"bar\"}], \"name\": \"6/15/20\"}, {\"data\": [{\"alignmentgroup\": \"True\", \"hovertemplate\": \"Date=6/24/20<br>Country=%{x}<br>Cases=%{y}<extra></extra>\", \"ids\": [\"Brazil\", \"India\", \"US\"], \"legendgroup\": \"\", \"marker\": {\"color\": \"#f54842\"}, \"name\": \"\", \"offsetgroup\": \"\", \"orientation\": \"v\", \"showlegend\": false, \"textposition\": \"auto\", \"x\": [\"Brazil\", \"India\", \"US\"], \"xaxis\": \"x\", \"y\": [53830, 14894, 124844], \"yaxis\": \"y\", \"type\": \"bar\"}], \"name\": \"6/24/20\"}, {\"data\": [{\"alignmentgroup\": \"True\", \"hovertemplate\": \"Date=6/29/20<br>Country=%{x}<br>Cases=%{y}<extra></extra>\", \"ids\": [\"Brazil\", \"India\", \"US\"], \"legendgroup\": \"\", \"marker\": {\"color\": \"#f54842\"}, \"name\": \"\", \"offsetgroup\": \"\", \"orientation\": \"v\", \"showlegend\": false, \"textposition\": \"auto\", \"x\": [\"Brazil\", \"India\", \"US\"], \"xaxis\": \"x\", \"y\": [58314, 16893, 127198], \"yaxis\": \"y\", \"type\": \"bar\"}], \"name\": \"6/29/20\"}, {\"data\": [{\"alignmentgroup\": \"True\", \"hovertemplate\": \"Date=7/2/20<br>Country=%{x}<br>Cases=%{y}<extra></extra>\", \"ids\": [\"Brazil\", \"India\", \"US\"], \"legendgroup\": \"\", \"marker\": {\"color\": \"#f54842\"}, \"name\": \"\", \"offsetgroup\": \"\", \"orientation\": \"v\", \"showlegend\": false, \"textposition\": \"auto\", \"x\": [\"Brazil\", \"India\", \"US\"], \"xaxis\": \"x\", \"y\": [61884, 18213, 129250], \"yaxis\": \"y\", \"type\": \"bar\"}], \"name\": \"7/2/20\"}, {\"data\": [{\"alignmentgroup\": \"True\", \"hovertemplate\": \"Date=7/5/20<br>Country=%{x}<br>Cases=%{y}<extra></extra>\", \"ids\": [\"Brazil\", \"India\", \"US\"], \"legendgroup\": \"\", \"marker\": {\"color\": \"#f54842\"}, \"name\": \"\", \"offsetgroup\": \"\", \"orientation\": \"v\", \"showlegend\": false, \"textposition\": \"auto\", \"x\": [\"Brazil\", \"India\", \"US\"], \"xaxis\": \"x\", \"y\": [64867, 19693, 130492], \"yaxis\": \"y\", \"type\": \"bar\"}], \"name\": \"7/5/20\"}, {\"data\": [{\"alignmentgroup\": \"True\", \"hovertemplate\": \"Date=7/10/20<br>Country=%{x}<br>Cases=%{y}<extra></extra>\", \"ids\": [\"Brazil\", \"India\", \"US\"], \"legendgroup\": \"\", \"marker\": {\"color\": \"#f54842\"}, \"name\": \"\", \"offsetgroup\": \"\", \"orientation\": \"v\", \"showlegend\": false, \"textposition\": \"auto\", \"x\": [\"Brazil\", \"India\", \"US\"], \"xaxis\": \"x\", \"y\": [70398, 22123, 134725], \"yaxis\": \"y\", \"type\": \"bar\"}], \"name\": \"7/10/20\"}, {\"data\": [{\"alignmentgroup\": \"True\", \"hovertemplate\": \"Date=7/15/20<br>Country=%{x}<br>Cases=%{y}<extra></extra>\", \"ids\": [\"Brazil\", \"India\", \"US\"], \"legendgroup\": \"\", \"marker\": {\"color\": \"#f54842\"}, \"name\": \"\", \"offsetgroup\": \"\", \"orientation\": \"v\", \"showlegend\": false, \"textposition\": \"auto\", \"x\": [\"Brazil\", \"India\", \"US\"], \"xaxis\": \"x\", \"y\": [75366, 24914, 138196], \"yaxis\": \"y\", \"type\": \"bar\"}], \"name\": \"7/15/20\"}, {\"data\": [{\"alignmentgroup\": \"True\", \"hovertemplate\": \"Date=7/24/20<br>Country=%{x}<br>Cases=%{y}<extra></extra>\", \"ids\": [\"Brazil\", \"India\", \"US\"], \"legendgroup\": \"\", \"marker\": {\"color\": \"#f54842\"}, \"name\": \"\", \"offsetgroup\": \"\", \"orientation\": \"v\", \"showlegend\": false, \"textposition\": \"auto\", \"x\": [\"Brazil\", \"India\", \"US\"], \"xaxis\": \"x\", \"y\": [85238, 31358, 146507], \"yaxis\": \"y\", \"type\": \"bar\"}], \"name\": \"7/24/20\"}, {\"data\": [{\"alignmentgroup\": \"True\", \"hovertemplate\": \"Date=7/29/20<br>Country=%{x}<br>Cases=%{y}<extra></extra>\", \"ids\": [\"Brazil\", \"India\", \"US\"], \"legendgroup\": \"\", \"marker\": {\"color\": \"#f54842\"}, \"name\": \"\", \"offsetgroup\": \"\", \"orientation\": \"v\", \"showlegend\": false, \"textposition\": \"auto\", \"x\": [\"Brazil\", \"India\", \"US\"], \"xaxis\": \"x\", \"y\": [90134, 34955, 151797], \"yaxis\": \"y\", \"type\": \"bar\"}], \"name\": \"7/29/20\"}, {\"data\": [{\"alignmentgroup\": \"True\", \"hovertemplate\": \"Date=8/1/20<br>Country=%{x}<br>Cases=%{y}<extra></extra>\", \"ids\": [\"Brazil\", \"India\", \"US\"], \"legendgroup\": \"\", \"marker\": {\"color\": \"#f54842\"}, \"name\": \"\", \"offsetgroup\": \"\", \"orientation\": \"v\", \"showlegend\": false, \"textposition\": \"auto\", \"x\": [\"Brazil\", \"India\", \"US\"], \"xaxis\": \"x\", \"y\": [93563, 37364, 155376], \"yaxis\": \"y\", \"type\": \"bar\"}], \"name\": \"8/1/20\"}, {\"data\": [{\"alignmentgroup\": \"True\", \"hovertemplate\": \"Date=8/4/20<br>Country=%{x}<br>Cases=%{y}<extra></extra>\", \"ids\": [\"Brazil\", \"India\", \"US\"], \"legendgroup\": \"\", \"marker\": {\"color\": \"#f54842\"}, \"name\": \"\", \"offsetgroup\": \"\", \"orientation\": \"v\", \"showlegend\": false, \"textposition\": \"auto\", \"x\": [\"Brazil\", \"India\", \"US\"], \"xaxis\": \"x\", \"y\": [95819, 39795, 157705], \"yaxis\": \"y\", \"type\": \"bar\"}], \"name\": \"8/4/20\"}, {\"data\": [{\"alignmentgroup\": \"True\", \"hovertemplate\": \"Date=8/9/20<br>Country=%{x}<br>Cases=%{y}<extra></extra>\", \"ids\": [\"Brazil\", \"India\", \"US\"], \"legendgroup\": \"\", \"marker\": {\"color\": \"#f54842\"}, \"name\": \"\", \"offsetgroup\": \"\", \"orientation\": \"v\", \"showlegend\": false, \"textposition\": \"auto\", \"x\": [\"Brazil\", \"India\", \"US\"], \"xaxis\": \"x\", \"y\": [101049, 44386, 163175], \"yaxis\": \"y\", \"type\": \"bar\"}], \"name\": \"8/9/20\"}, {\"data\": [{\"alignmentgroup\": \"True\", \"hovertemplate\": \"Date=8/14/20<br>Country=%{x}<br>Cases=%{y}<extra></extra>\", \"ids\": [\"Brazil\", \"India\", \"US\"], \"legendgroup\": \"\", \"marker\": {\"color\": \"#f54842\"}, \"name\": \"\", \"offsetgroup\": \"\", \"orientation\": \"v\", \"showlegend\": false, \"textposition\": \"auto\", \"x\": [\"Brazil\", \"India\", \"US\"], \"xaxis\": \"x\", \"y\": [106523, 49036, 168667], \"yaxis\": \"y\", \"type\": \"bar\"}], \"name\": \"8/14/20\"}, {\"data\": [{\"alignmentgroup\": \"True\", \"hovertemplate\": \"Date=8/19/20<br>Country=%{x}<br>Cases=%{y}<extra></extra>\", \"ids\": [\"Brazil\", \"India\", \"US\"], \"legendgroup\": \"\", \"marker\": {\"color\": \"#f54842\"}, \"name\": \"\", \"offsetgroup\": \"\", \"orientation\": \"v\", \"showlegend\": false, \"textposition\": \"auto\", \"x\": [\"Brazil\", \"India\", \"US\"], \"xaxis\": \"x\", \"y\": [111100, 53866, 173359], \"yaxis\": \"y\", \"type\": \"bar\"}], \"name\": \"8/19/20\"}, {\"data\": [{\"alignmentgroup\": \"True\", \"hovertemplate\": \"Date=8/23/20<br>Country=%{x}<br>Cases=%{y}<extra></extra>\", \"ids\": [\"Brazil\", \"India\", \"US\"], \"legendgroup\": \"\", \"marker\": {\"color\": \"#f54842\"}, \"name\": \"\", \"offsetgroup\": \"\", \"orientation\": \"v\", \"showlegend\": false, \"textposition\": \"auto\", \"x\": [\"Brazil\", \"India\", \"US\"], \"xaxis\": \"x\", \"y\": [114744, 57542, 176970], \"yaxis\": \"y\", \"type\": \"bar\"}], \"name\": \"8/23/20\"}, {\"data\": [{\"alignmentgroup\": \"True\", \"hovertemplate\": \"Date=8/28/20<br>Country=%{x}<br>Cases=%{y}<extra></extra>\", \"ids\": [\"Brazil\", \"India\", \"US\"], \"legendgroup\": \"\", \"marker\": {\"color\": \"#f54842\"}, \"name\": \"\", \"offsetgroup\": \"\", \"orientation\": \"v\", \"showlegend\": false, \"textposition\": \"auto\", \"x\": [\"Brazil\", \"India\", \"US\"], \"xaxis\": \"x\", \"y\": [119504, 62550, 181926], \"yaxis\": \"y\", \"type\": \"bar\"}], \"name\": \"8/28/20\"}, {\"data\": [{\"alignmentgroup\": \"True\", \"hovertemplate\": \"Date=9/4/20<br>Country=%{x}<br>Cases=%{y}<extra></extra>\", \"ids\": [\"Brazil\", \"India\", \"US\"], \"legendgroup\": \"\", \"marker\": {\"color\": \"#f54842\"}, \"name\": \"\", \"offsetgroup\": \"\", \"orientation\": \"v\", \"showlegend\": false, \"textposition\": \"auto\", \"x\": [\"Brazil\", \"India\", \"US\"], \"xaxis\": \"x\", \"y\": [125502, 69561, 187921], \"yaxis\": \"y\", \"type\": \"bar\"}], \"name\": \"9/4/20\"}, {\"data\": [{\"alignmentgroup\": \"True\", \"hovertemplate\": \"Date=9/9/20<br>Country=%{x}<br>Cases=%{y}<extra></extra>\", \"ids\": [\"Brazil\", \"India\", \"US\"], \"legendgroup\": \"\", \"marker\": {\"color\": \"#f54842\"}, \"name\": \"\", \"offsetgroup\": \"\", \"orientation\": \"v\", \"showlegend\": false, \"textposition\": \"auto\", \"x\": [\"Brazil\", \"India\", \"US\"], \"xaxis\": \"x\", \"y\": [128539, 75062, 190999], \"yaxis\": \"y\", \"type\": \"bar\"}], \"name\": \"9/9/20\"}, {\"data\": [{\"alignmentgroup\": \"True\", \"hovertemplate\": \"Date=9/13/20<br>Country=%{x}<br>Cases=%{y}<extra></extra>\", \"ids\": [\"Brazil\", \"India\", \"US\"], \"legendgroup\": \"\", \"marker\": {\"color\": \"#f54842\"}, \"name\": \"\", \"offsetgroup\": \"\", \"orientation\": \"v\", \"showlegend\": false, \"textposition\": \"auto\", \"x\": [\"Brazil\", \"India\", \"US\"], \"xaxis\": \"x\", \"y\": [131625, 79722, 194224], \"yaxis\": \"y\", \"type\": \"bar\"}], \"name\": \"9/13/20\"}, {\"data\": [{\"alignmentgroup\": \"True\", \"hovertemplate\": \"Date=9/18/20<br>Country=%{x}<br>Cases=%{y}<extra></extra>\", \"ids\": [\"Brazil\", \"India\", \"US\"], \"legendgroup\": \"\", \"marker\": {\"color\": \"#f54842\"}, \"name\": \"\", \"offsetgroup\": \"\", \"orientation\": \"v\", \"showlegend\": false, \"textposition\": \"auto\", \"x\": [\"Brazil\", \"India\", \"US\"], \"xaxis\": \"x\", \"y\": [135793, 85619, 198700], \"yaxis\": \"y\", \"type\": \"bar\"}], \"name\": \"9/18/20\"}, {\"data\": [{\"alignmentgroup\": \"True\", \"hovertemplate\": \"Date=9/22/20<br>Country=%{x}<br>Cases=%{y}<extra></extra>\", \"ids\": [\"Brazil\", \"India\", \"US\"], \"legendgroup\": \"\", \"marker\": {\"color\": \"#f54842\"}, \"name\": \"\", \"offsetgroup\": \"\", \"orientation\": \"v\", \"showlegend\": false, \"textposition\": \"auto\", \"x\": [\"Brazil\", \"India\", \"US\"], \"xaxis\": \"x\", \"y\": [138105, 90020, 201095], \"yaxis\": \"y\", \"type\": \"bar\"}], \"name\": \"9/22/20\"}, {\"data\": [{\"alignmentgroup\": \"True\", \"hovertemplate\": \"Date=9/27/20<br>Country=%{x}<br>Cases=%{y}<extra></extra>\", \"ids\": [\"Brazil\", \"India\", \"US\"], \"legendgroup\": \"\", \"marker\": {\"color\": \"#f54842\"}, \"name\": \"\", \"offsetgroup\": \"\", \"orientation\": \"v\", \"showlegend\": false, \"textposition\": \"auto\", \"x\": [\"Brazil\", \"India\", \"US\"], \"xaxis\": \"x\", \"y\": [141741, 95542, 205069], \"yaxis\": \"y\", \"type\": \"bar\"}], \"name\": \"9/27/20\"}, {\"data\": [{\"alignmentgroup\": \"True\", \"hovertemplate\": \"Date=10/2/20<br>Country=%{x}<br>Cases=%{y}<extra></extra>\", \"ids\": [\"Brazil\", \"India\", \"US\"], \"legendgroup\": \"\", \"marker\": {\"color\": \"#f54842\"}, \"name\": \"\", \"offsetgroup\": \"\", \"orientation\": \"v\", \"showlegend\": false, \"textposition\": \"auto\", \"x\": [\"Brazil\", \"India\", \"US\"], \"xaxis\": \"x\", \"y\": [144680, 100842, 209008], \"yaxis\": \"y\", \"type\": \"bar\"}], \"name\": \"10/2/20\"}, {\"data\": [{\"alignmentgroup\": \"True\", \"hovertemplate\": \"Date=10/5/20<br>Country=%{x}<br>Cases=%{y}<extra></extra>\", \"ids\": [\"Brazil\", \"India\", \"US\"], \"legendgroup\": \"\", \"marker\": {\"color\": \"#f54842\"}, \"name\": \"\", \"offsetgroup\": \"\", \"orientation\": \"v\", \"showlegend\": false, \"textposition\": \"auto\", \"x\": [\"Brazil\", \"India\", \"US\"], \"xaxis\": \"x\", \"y\": [146675, 103569, 210506], \"yaxis\": \"y\", \"type\": \"bar\"}], \"name\": \"10/5/20\"}, {\"data\": [{\"alignmentgroup\": \"True\", \"hovertemplate\": \"Date=10/10/20<br>Country=%{x}<br>Cases=%{y}<extra></extra>\", \"ids\": [\"Brazil\", \"India\", \"US\"], \"legendgroup\": \"\", \"marker\": {\"color\": \"#f54842\"}, \"name\": \"\", \"offsetgroup\": \"\", \"orientation\": \"v\", \"showlegend\": false, \"textposition\": \"auto\", \"x\": [\"Brazil\", \"India\", \"US\"], \"xaxis\": \"x\", \"y\": [150198, 108334, 214695], \"yaxis\": \"y\", \"type\": \"bar\"}], \"name\": \"10/10/20\"}, {\"data\": [{\"alignmentgroup\": \"True\", \"hovertemplate\": \"Date=10/15/20<br>Country=%{x}<br>Cases=%{y}<extra></extra>\", \"ids\": [\"Brazil\", \"India\", \"US\"], \"legendgroup\": \"\", \"marker\": {\"color\": \"#f54842\"}, \"name\": \"\", \"offsetgroup\": \"\", \"orientation\": \"v\", \"showlegend\": false, \"textposition\": \"auto\", \"x\": [\"Brazil\", \"India\", \"US\"], \"xaxis\": \"x\", \"y\": [152460, 112161, 218060], \"yaxis\": \"y\", \"type\": \"bar\"}], \"name\": \"10/15/20\"}, {\"data\": [{\"alignmentgroup\": \"True\", \"hovertemplate\": \"Date=10/24/20<br>Country=%{x}<br>Cases=%{y}<extra></extra>\", \"ids\": [\"Brazil\", \"India\", \"US\"], \"legendgroup\": \"\", \"marker\": {\"color\": \"#f54842\"}, \"name\": \"\", \"offsetgroup\": \"\", \"orientation\": \"v\", \"showlegend\": false, \"textposition\": \"auto\", \"x\": [\"Brazil\", \"India\", \"US\"], \"xaxis\": \"x\", \"y\": [156903, 118534, 225468], \"yaxis\": \"y\", \"type\": \"bar\"}], \"name\": \"10/24/20\"}, {\"data\": [{\"alignmentgroup\": \"True\", \"hovertemplate\": \"Date=10/29/20<br>Country=%{x}<br>Cases=%{y}<extra></extra>\", \"ids\": [\"Brazil\", \"India\", \"US\"], \"legendgroup\": \"\", \"marker\": {\"color\": \"#f54842\"}, \"name\": \"\", \"offsetgroup\": \"\", \"orientation\": \"v\", \"showlegend\": false, \"textposition\": \"auto\", \"x\": [\"Brazil\", \"India\", \"US\"], \"xaxis\": \"x\", \"y\": [158969, 121090, 229277], \"yaxis\": \"y\", \"type\": \"bar\"}], \"name\": \"10/29/20\"}, {\"data\": [{\"alignmentgroup\": \"True\", \"hovertemplate\": \"Date=11/1/20<br>Country=%{x}<br>Cases=%{y}<extra></extra>\", \"ids\": [\"Brazil\", \"India\", \"US\"], \"legendgroup\": \"\", \"marker\": {\"color\": \"#f54842\"}, \"name\": \"\", \"offsetgroup\": \"\", \"orientation\": \"v\", \"showlegend\": false, \"textposition\": \"auto\", \"x\": [\"Brazil\", \"India\", \"US\"], \"xaxis\": \"x\", \"y\": [160074, 122607, 231623], \"yaxis\": \"y\", \"type\": \"bar\"}], \"name\": \"11/1/20\"}, {\"data\": [{\"alignmentgroup\": \"True\", \"hovertemplate\": \"Date=11/5/20<br>Country=%{x}<br>Cases=%{y}<extra></extra>\", \"ids\": [\"Brazil\", \"India\", \"US\"], \"legendgroup\": \"\", \"marker\": {\"color\": \"#f54842\"}, \"name\": \"\", \"offsetgroup\": \"\", \"orientation\": \"v\", \"showlegend\": false, \"textposition\": \"auto\", \"x\": [\"Brazil\", \"India\", \"US\"], \"xaxis\": \"x\", \"y\": [161106, 124985, 235956], \"yaxis\": \"y\", \"type\": \"bar\"}], \"name\": \"11/5/20\"}, {\"data\": [{\"alignmentgroup\": \"True\", \"hovertemplate\": \"Date=11/14/20<br>Country=%{x}<br>Cases=%{y}<extra></extra>\", \"ids\": [\"Brazil\", \"India\", \"US\"], \"legendgroup\": \"\", \"marker\": {\"color\": \"#f54842\"}, \"name\": \"\", \"offsetgroup\": \"\", \"orientation\": \"v\", \"showlegend\": false, \"textposition\": \"auto\", \"x\": [\"Brazil\", \"India\", \"US\"], \"xaxis\": \"x\", \"y\": [165658, 129635, 245776], \"yaxis\": \"y\", \"type\": \"bar\"}], \"name\": \"11/14/20\"}, {\"data\": [{\"alignmentgroup\": \"True\", \"hovertemplate\": \"Date=11/19/20<br>Country=%{x}<br>Cases=%{y}<extra></extra>\", \"ids\": [\"Brazil\", \"India\", \"US\"], \"legendgroup\": \"\", \"marker\": {\"color\": \"#f54842\"}, \"name\": \"\", \"offsetgroup\": \"\", \"orientation\": \"v\", \"showlegend\": false, \"textposition\": \"auto\", \"x\": [\"Brazil\", \"India\", \"US\"], \"xaxis\": \"x\", \"y\": [168061, 132162, 252694], \"yaxis\": \"y\", \"type\": \"bar\"}], \"name\": \"11/19/20\"}, {\"data\": [{\"alignmentgroup\": \"True\", \"hovertemplate\": \"Date=11/23/20<br>Country=%{x}<br>Cases=%{y}<extra></extra>\", \"ids\": [\"Brazil\", \"India\", \"US\"], \"legendgroup\": \"\", \"marker\": {\"color\": \"#f54842\"}, \"name\": \"\", \"offsetgroup\": \"\", \"orientation\": \"v\", \"showlegend\": false, \"textposition\": \"auto\", \"x\": [\"Brazil\", \"India\", \"US\"], \"xaxis\": \"x\", \"y\": [169485, 134218, 257874], \"yaxis\": \"y\", \"type\": \"bar\"}], \"name\": \"11/23/20\"}, {\"data\": [{\"alignmentgroup\": \"True\", \"hovertemplate\": \"Date=11/28/20<br>Country=%{x}<br>Cases=%{y}<extra></extra>\", \"ids\": [\"Brazil\", \"India\", \"US\"], \"legendgroup\": \"\", \"marker\": {\"color\": \"#f54842\"}, \"name\": \"\", \"offsetgroup\": \"\", \"orientation\": \"v\", \"showlegend\": false, \"textposition\": \"auto\", \"x\": [\"Brazil\", \"India\", \"US\"], \"xaxis\": \"x\", \"y\": [172561, 136696, 266170], \"yaxis\": \"y\", \"type\": \"bar\"}], \"name\": \"11/28/20\"}, {\"data\": [{\"alignmentgroup\": \"True\", \"hovertemplate\": \"Date=12/1/20<br>Country=%{x}<br>Cases=%{y}<extra></extra>\", \"ids\": [\"Brazil\", \"India\", \"US\"], \"legendgroup\": \"\", \"marker\": {\"color\": \"#f54842\"}, \"name\": \"\", \"offsetgroup\": \"\", \"orientation\": \"v\", \"showlegend\": false, \"textposition\": \"auto\", \"x\": [\"Brazil\", \"India\", \"US\"], \"xaxis\": \"x\", \"y\": [173817, 138122, 270753], \"yaxis\": \"y\", \"type\": \"bar\"}], \"name\": \"12/1/20\"}, {\"data\": [{\"alignmentgroup\": \"True\", \"hovertemplate\": \"Date=12/7/20<br>Country=%{x}<br>Cases=%{y}<extra></extra>\", \"ids\": [\"Brazil\", \"India\", \"US\"], \"legendgroup\": \"\", \"marker\": {\"color\": \"#f54842\"}, \"name\": \"\", \"offsetgroup\": \"\", \"orientation\": \"v\", \"showlegend\": false, \"textposition\": \"auto\", \"x\": [\"Brazil\", \"India\", \"US\"], \"xaxis\": \"x\", \"y\": [177317, 140958, 283763], \"yaxis\": \"y\", \"type\": \"bar\"}], \"name\": \"12/7/20\"}, {\"data\": [{\"alignmentgroup\": \"True\", \"hovertemplate\": \"Date=12/14/20<br>Country=%{x}<br>Cases=%{y}<extra></extra>\", \"ids\": [\"Brazil\", \"India\", \"US\"], \"legendgroup\": \"\", \"marker\": {\"color\": \"#f54842\"}, \"name\": \"\", \"offsetgroup\": \"\", \"orientation\": \"v\", \"showlegend\": false, \"textposition\": \"auto\", \"x\": [\"Brazil\", \"India\", \"US\"], \"xaxis\": \"x\", \"y\": [181835, 143709, 300777], \"yaxis\": \"y\", \"type\": \"bar\"}], \"name\": \"12/14/20\"}, {\"data\": [{\"alignmentgroup\": \"True\", \"hovertemplate\": \"Date=12/19/20<br>Country=%{x}<br>Cases=%{y}<extra></extra>\", \"ids\": [\"Brazil\", \"India\", \"US\"], \"legendgroup\": \"\", \"marker\": {\"color\": \"#f54842\"}, \"name\": \"\", \"offsetgroup\": \"\", \"orientation\": \"v\", \"showlegend\": false, \"textposition\": \"auto\", \"x\": [\"Brazil\", \"India\", \"US\"], \"xaxis\": \"x\", \"y\": [186356, 145477, 316159], \"yaxis\": \"y\", \"type\": \"bar\"}], \"name\": \"12/19/20\"}, {\"data\": [{\"alignmentgroup\": \"True\", \"hovertemplate\": \"Date=12/23/20<br>Country=%{x}<br>Cases=%{y}<extra></extra>\", \"ids\": [\"Brazil\", \"India\", \"US\"], \"legendgroup\": \"\", \"marker\": {\"color\": \"#f54842\"}, \"name\": \"\", \"offsetgroup\": \"\", \"orientation\": \"v\", \"showlegend\": false, \"textposition\": \"auto\", \"x\": [\"Brazil\", \"India\", \"US\"], \"xaxis\": \"x\", \"y\": [189220, 146756, 326124], \"yaxis\": \"y\", \"type\": \"bar\"}], \"name\": \"12/23/20\"}, {\"data\": [{\"alignmentgroup\": \"True\", \"hovertemplate\": \"Date=12/28/20<br>Country=%{x}<br>Cases=%{y}<extra></extra>\", \"ids\": [\"Brazil\", \"India\", \"US\"], \"legendgroup\": \"\", \"marker\": {\"color\": \"#f54842\"}, \"name\": \"\", \"offsetgroup\": \"\", \"orientation\": \"v\", \"showlegend\": false, \"textposition\": \"auto\", \"x\": [\"Brazil\", \"India\", \"US\"], \"xaxis\": \"x\", \"y\": [191570, 148153, 334836], \"yaxis\": \"y\", \"type\": \"bar\"}], \"name\": \"12/28/20\"}]);\n",
              "                        }).then(function(){\n",
              "                            \n",
              "var gd = document.getElementById('1adeb43c-4799-49c5-a0cb-706662b0e086');\n",
              "var x = new MutationObserver(function (mutations, observer) {{\n",
              "        var display = window.getComputedStyle(gd).display;\n",
              "        if (!display || display === 'none') {{\n",
              "            console.log([gd, 'removed!']);\n",
              "            Plotly.purge(gd);\n",
              "            observer.disconnect();\n",
              "        }}\n",
              "}});\n",
              "\n",
              "// Listen for the removal of the full notebook cells\n",
              "var notebookContainer = gd.closest('#notebook-container');\n",
              "if (notebookContainer) {{\n",
              "    x.observe(notebookContainer, {childList: true});\n",
              "}}\n",
              "\n",
              "// Listen for the clearing of the current output cell\n",
              "var outputEl = gd.closest('.output');\n",
              "if (outputEl) {{\n",
              "    x.observe(outputEl, {childList: true});\n",
              "}}\n",
              "\n",
              "                        })                };                            </script>        </div>\n",
              "</body>\n",
              "</html>"
            ]
          },
          "metadata": {
            "tags": []
          }
        }
      ]
    },
    {
      "cell_type": "markdown",
      "metadata": {
        "id": "WLlqkrFvPxT6"
      },
      "source": [
        "# Data Visualization - Chloropleths"
      ]
    },
    {
      "cell_type": "markdown",
      "metadata": {
        "id": "TYsLmQQBPxT6"
      },
      "source": [
        "## Code"
      ]
    },
    {
      "cell_type": "markdown",
      "metadata": {
        "id": "4rQs2VJ1PxT6"
      },
      "source": [
        "### Setting Credentials (Mapbox and Chart Studio)"
      ]
    },
    {
      "cell_type": "code",
      "metadata": {
        "id": "QU_oixh8PxT6"
      },
      "source": [
        "# Set your credentials befpre running this cell!!\n",
        "\n",
        "chart_studio.tools.set_credentials_file(username=\"\",\n",
        "                                         api_key=\"\")\n",
        "mapbox_access_token = \"\""
      ],
      "execution_count": null,
      "outputs": []
    },
    {
      "cell_type": "markdown",
      "metadata": {
        "id": "nwqYlBiVPxT6"
      },
      "source": [
        "### Formatting Data"
      ]
    },
    {
      "cell_type": "code",
      "metadata": {
        "id": "ro1BXPCRPxT7"
      },
      "source": [
        "def chainer(s):\n",
        "    return list(chain.from_iterable(s.str.split(\",\")))"
      ],
      "execution_count": null,
      "outputs": []
    },
    {
      "cell_type": "code",
      "metadata": {
        "id": "EBWNKgsNPxT7"
      },
      "source": [
        "def convert_df(df, cols):\n",
        "    df.dropna(inplace=True)\n",
        "    df.set_index(df[cols[0]].values)\n",
        "\n",
        "\n",
        "    L = []\n",
        "    for i in range(len(df)):\n",
        "        string = \"\"\n",
        "        for j in range(len(cols[1])):\n",
        "            if j != (len(cols[1]) - 1):\n",
        "                string = string + str(df[cols[1][j]].values[i]) + \",\"\n",
        "            else:\n",
        "                string = string + str(df[cols[1][j]].values[i])\n",
        "\n",
        "        L.append(string)\n",
        "\n",
        "    df[\"New\"] = L\n",
        "    lens = df[\"New\"].str.split(\",\").map(len)\n",
        "\n",
        "    df = pd.DataFrame(\n",
        "        {\n",
        "            \"Country\": np.repeat(df[cols[0]], lens),\n",
        "            \"Lat\": np.repeat(df[cols[-2]], lens),\n",
        "            \"Long_\": np.repeat(df[cols[-1]], lens),\n",
        "            \"Count\": chainer(df[\"New\"]),\n",
        "        }\n",
        "    )\n",
        "    df[\"Study\"] = [cols[1][i] for i in range(len(cols[1]))] * (\n",
        "        len(df.index) // len(cols[1])\n",
        "    )\n",
        "    return df"
      ],
      "execution_count": null,
      "outputs": []
    },
    {
      "cell_type": "markdown",
      "metadata": {
        "id": "iaViuMjHPxT7"
      },
      "source": [
        "### Creating Trace"
      ]
    },
    {
      "cell_type": "code",
      "metadata": {
        "id": "QfYfc0yDPxT7"
      },
      "source": [
        "def create_hovertemplate(df, study, country):\n",
        "    emoji = \"💀\" if study.lower() == \"deaths\" else \"😷\" if study.lower() == \"recovered\" else \"🏥\"\n",
        "    return f\"{emoji}: {format(int(float(df.loc[(df['Study'] == study) & (df['Country'] == country), 'Count'])),',d')}\""
      ],
      "execution_count": null,
      "outputs": []
    },
    {
      "cell_type": "code",
      "metadata": {
        "id": "8n2FWDGPPxT7"
      },
      "source": [
        "def create_data(df, study, color):\n",
        "    countries = list(df[\"Country\"].value_counts().index)\n",
        "    data = []\n",
        "    df.dropna(inplace=True)\n",
        "\n",
        "    for country in countries:\n",
        "        try:\n",
        "            event_data = dict(\n",
        "                lat=df.loc[(df[\"Study\"] == study) & (df[\"Country\"] == country), \"Lat\"],\n",
        "                lon=df.loc[\n",
        "                    (df[\"Study\"] == study) & (df[\"Country\"] == country), \"Long_\"\n",
        "                ],\n",
        "                name=f\"{country}\",\n",
        "                marker={\n",
        "                    \"size\": log(\n",
        "                        float(\n",
        "                            df.loc[\n",
        "                                (df[\"Study\"] == study) & (df[\"Country\"] == country),\n",
        "                                \"Count\",\n",
        "                            ]\n",
        "                        ),\n",
        "                        1.5,\n",
        "                    ),\n",
        "                    \"opacity\": 0.5,\n",
        "                    \"color\": color,\n",
        "                },\n",
        "                type=\"scattermapbox\",\n",
        "                hovertemplate=create_hovertemplate(df, study, country),\n",
        "            )\n",
        "            data.append(event_data)\n",
        "        except:\n",
        "            continue\n",
        "\n",
        "    return data"
      ],
      "execution_count": null,
      "outputs": []
    },
    {
      "cell_type": "markdown",
      "metadata": {
        "id": "Kre-rSKxPxT7"
      },
      "source": [
        "### Creating Layout"
      ]
    },
    {
      "cell_type": "code",
      "metadata": {
        "id": "GG7zag3OPxT7"
      },
      "source": [
        "def create_basic_layout(latitude, longitude, zoom):\n",
        "    layout = {\n",
        "        \"height\": 700,\n",
        "        \"margin\": {\"t\": 0, \"b\": 0, \"l\": 0, \"r\": 0},\n",
        "        \"font\": {\"color\": \"#FFFFFF\", \"size\": 15},\n",
        "        \"paper_bgcolor\": \"#000000\",\n",
        "        \"showlegend\": False,\n",
        "        \"mapbox\": {\n",
        "            \"accesstoken\": mapbox_access_token,\n",
        "            \"bearing\": 0,\n",
        "            \"center\": {\"lat\": latitude, \"lon\": longitude},\n",
        "            \"pitch\": 0,\n",
        "            \"zoom\": zoom,\n",
        "            \"style\": \"dark\",\n",
        "        },\n",
        "    }\n",
        "    return layout"
      ],
      "execution_count": null,
      "outputs": []
    },
    {
      "cell_type": "code",
      "metadata": {
        "id": "lD-zVp9bPxT8"
      },
      "source": [
        "def update_layout(study, layout):\n",
        "    annotations = [\n",
        "        {\n",
        "            \"text\": f\"{study.capitalize()} Cases\",\n",
        "            \"font\": {\"color\": \"#FFFFFF\", \"size\": 14},\n",
        "            \"borderpad\": 10,\n",
        "            \"x\": 0.05,\n",
        "            \"y\": 0.05,\n",
        "            \"xref\": \"paper\",\n",
        "            \"yref\": \"paper\",\n",
        "            \"align\": \"left\",\n",
        "            \"showarrow\": False,\n",
        "            \"bgcolor\": \"black\",\n",
        "        }\n",
        "    ]\n",
        "\n",
        "    layout[\"title\"] = f\"{study.capitalize()}\"\n",
        "    layout[\"annotations\"] = annotations\n",
        "    layout[\"hoverlabel\"] = dict(font_size=16, font_family=\"Rockwell\",font_color = \"black\")\n",
        "\n",
        "    return layout"
      ],
      "execution_count": null,
      "outputs": []
    },
    {
      "cell_type": "code",
      "metadata": {
        "id": "IpDD6CONPxT8"
      },
      "source": [
        "def get_lat_long(country, coord_df=country_cases_sorted):\n",
        "    lat = float(coord_df.loc[(coord_df[\"country\"] == country), \"Lat\"])\n",
        "    long = float(coord_df.loc[(coord_df[\"country\"] == country), \"Long_\"])\n",
        "    return lat, long"
      ],
      "execution_count": null,
      "outputs": []
    },
    {
      "cell_type": "markdown",
      "metadata": {
        "id": "1rbdojARPxT8"
      },
      "source": [
        "### Getting Data For Country Plot"
      ]
    },
    {
      "cell_type": "code",
      "metadata": {
        "id": "H_giKLdTPxT8"
      },
      "source": [
        "def get_country_wise_data():\n",
        "    response = requests.get(\"https://corona.lmao.ninja/v2/jhucsse\")\n",
        "    data = response.json()\n",
        "    return data"
      ],
      "execution_count": null,
      "outputs": []
    },
    {
      "cell_type": "code",
      "metadata": {
        "id": "TpBRYHKaPxT8"
      },
      "source": [
        "def choose_country(array, country):\n",
        "    return [i for i in array if (i[\"country\"] == country)]"
      ],
      "execution_count": null,
      "outputs": []
    },
    {
      "cell_type": "code",
      "metadata": {
        "id": "WsWirIxUPxT8"
      },
      "source": [
        "def get_country_frame(country):\n",
        "    def get(string, country):\n",
        "        return [i[string] for i in country]\n",
        "\n",
        "    coords = get(\"coordinates\", country)\n",
        "    stats = get(\"stats\", country)\n",
        "    names = get(\"province\", country)\n",
        "\n",
        "    def make_column(string, main):\n",
        "        return [i[string] for i in main]\n",
        "\n",
        "    df = pd.DataFrame()\n",
        "    df[\"Provinces\"] = names\n",
        "    df[\"lat\"] = make_column(\"latitude\", coords)\n",
        "    df[\"lon\"] = make_column(\"longitude\", coords)\n",
        "    df[\"Confirmed\"] = make_column(\"confirmed\", stats)\n",
        "    df[\"Recoveries\"] = make_column(\"recovered\", stats)\n",
        "    df[\"Deaths\"] = make_column(\"deaths\", stats)\n",
        "    df = df[df[\"Provinces\"] != \"Unknown\"]\n",
        "    return df"
      ],
      "execution_count": null,
      "outputs": []
    },
    {
      "cell_type": "markdown",
      "metadata": {
        "id": "G_-v9ZbsPxT8"
      },
      "source": [
        "### Creating Figure Object"
      ]
    },
    {
      "cell_type": "code",
      "metadata": {
        "id": "OyDiWLwEPxT9"
      },
      "source": [
        "def interactive_map(data, layout):\n",
        "    figure = {\"data\": data, \"layout\": layout}\n",
        "\n",
        "    return figure"
      ],
      "execution_count": null,
      "outputs": []
    },
    {
      "cell_type": "markdown",
      "metadata": {
        "id": "EbckAAA1PxT9"
      },
      "source": [
        "### Final Function"
      ]
    },
    {
      "cell_type": "markdown",
      "metadata": {
        "id": "YY1qLBFaPxT9"
      },
      "source": [
        "#### Global Plot Function"
      ]
    },
    {
      "cell_type": "code",
      "metadata": {
        "id": "Bhrb9WSKPxT9"
      },
      "source": [
        "def plot_study(\n",
        "    starting_df,\n",
        "    cols,\n",
        "    study_dict,\n",
        "    location=\"global\",\n",
        "    zoom=2,\n",
        "    latitude=20.59,\n",
        "    longitude=78.96,\n",
        "):\n",
        "    color = study_dict[\"color\"]\n",
        "    study = study_dict[\"study\"]\n",
        "    df = convert_df(starting_df, cols)\n",
        "    data = create_data(df, study, color)\n",
        "    layout = create_basic_layout(latitude, longitude, zoom)\n",
        "    updated_layout = update_layout(study, layout)\n",
        "    figure = interactive_map(data, updated_layout)\n",
        "    return figure"
      ],
      "execution_count": null,
      "outputs": []
    },
    {
      "cell_type": "markdown",
      "metadata": {
        "id": "n7GMlnwfPxT9"
      },
      "source": [
        "#### Country Plot Function"
      ]
    },
    {
      "cell_type": "code",
      "metadata": {
        "id": "zeTQ9ovaPxT9"
      },
      "source": [
        "def plot_country(Country, data, study):\n",
        "    country = choose_country(data, Country)\n",
        "    df = get_country_frame(country)\n",
        "    columns = [\"Provinces\", [\"Confirmed\", \"Recoveries\", \"Deaths\"], \"lat\", \"lon\"]\n",
        "    color = \"#45a2ff\" if study == \"Confirmed\" else \"#f54842\" if study == \"Deaths\" else \"#42f587\"\n",
        "    d = dict(study=study.title(), color=color)\n",
        "    figure = plot_study(\n",
        "        df,\n",
        "        columns,\n",
        "        d,\n",
        "        country,\n",
        "        zoom=4.5,\n",
        "        latitude=get_lat_long(Country)[0],\n",
        "        longitude=get_lat_long(Country)[1],\n",
        "    )\n",
        "    return figure"
      ],
      "execution_count": null,
      "outputs": []
    },
    {
      "cell_type": "markdown",
      "metadata": {
        "id": "i4aMgp_nPxT9"
      },
      "source": [
        "## Examples"
      ]
    },
    {
      "cell_type": "markdown",
      "metadata": {
        "id": "tuOj_w36PxT9"
      },
      "source": [
        "### Global - Confirmed Cases"
      ]
    },
    {
      "cell_type": "code",
      "metadata": {
        "colab": {
          "base_uri": "https://localhost:8080/",
          "height": 721
        },
        "id": "-hTqGv_UPxT-",
        "outputId": "4c0e0291-3247-4b1d-c3c6-54facd835832"
      },
      "source": [
        "confirmed = dict(study=\"confirmed\",color=\"#45a2ff\")\n",
        "recovered = dict(study=\"recovered\",color=\"#42f587\")\n",
        "deaths = dict(study=\"deaths\",color=\"#f54842\")\n",
        "\n",
        "columns = [\"country\", [\"deaths\", \"confirmed\", \"recovered\"], \"Lat\", \"Long_\"]\n",
        "\n",
        "figure = plot_study(country_cases_sorted, columns, confirmed)\n",
        "py.iplot(figure)"
      ],
      "execution_count": null,
      "outputs": [
        {
          "output_type": "execute_result",
          "data": {
            "text/html": [
              "\n",
              "        <iframe\n",
              "            width=\"100%\"\n",
              "            height=\"700px\"\n",
              "            src=\"https://plotly.com/~MajimeArun/502.embed\"\n",
              "            frameborder=\"0\"\n",
              "            allowfullscreen\n",
              "        ></iframe>\n",
              "        "
            ],
            "text/plain": [
              "<IPython.lib.display.IFrame at 0x7f136ed39438>"
            ]
          },
          "metadata": {
            "tags": []
          },
          "execution_count": 53
        }
      ]
    },
    {
      "cell_type": "markdown",
      "metadata": {
        "id": "DAcZ9DCaPxT-"
      },
      "source": [
        "### Japan - Recoveries Cases"
      ]
    },
    {
      "cell_type": "code",
      "metadata": {
        "colab": {
          "base_uri": "https://localhost:8080/",
          "height": 721
        },
        "id": "RjD_uXNbPxT-",
        "outputId": "f21ed9a4-b6d2-4af1-8f61-0999748309c3"
      },
      "source": [
        "figure= plot_country(\"Japan\",get_country_wise_data(),\"Recoveries\")\n",
        "py.iplot(figure)"
      ],
      "execution_count": null,
      "outputs": [
        {
          "output_type": "execute_result",
          "data": {
            "text/html": [
              "\n",
              "        <iframe\n",
              "            width=\"100%\"\n",
              "            height=\"700px\"\n",
              "            src=\"https://plotly.com/~MajimeArun/504.embed\"\n",
              "            frameborder=\"0\"\n",
              "            allowfullscreen\n",
              "        ></iframe>\n",
              "        "
            ],
            "text/plain": [
              "<IPython.lib.display.IFrame at 0x7f136ecfe6d8>"
            ]
          },
          "metadata": {
            "tags": []
          },
          "execution_count": 54
        }
      ]
    },
    {
      "cell_type": "markdown",
      "metadata": {
        "id": "visSFMF7PxT-"
      },
      "source": [
        "# Working With The Latest Data - Of Individual Countries"
      ]
    },
    {
      "cell_type": "markdown",
      "metadata": {
        "id": "Lzxgh_12PxT-"
      },
      "source": [
        "## Getting Data"
      ]
    },
    {
      "cell_type": "code",
      "metadata": {
        "id": "QrkAxiKzPxT-"
      },
      "source": [
        "def get_today_data():\n",
        "    today_data = requests.get(\"https://corona.lmao.ninja/v2/all?yesterday\")\n",
        "    today_country_data = requests.get(\"https://corona.lmao.ninja/v2/jhucsse\")\n",
        "\n",
        "    today_data = today_data.json()\n",
        "    today_country_data = today_country_data.json()\n",
        "\n",
        "    return today_data, today_country_data"
      ],
      "execution_count": null,
      "outputs": []
    },
    {
      "cell_type": "markdown",
      "metadata": {
        "id": "Lg3zrq9NPxT_"
      },
      "source": [
        "## Formatting Data "
      ]
    },
    {
      "cell_type": "code",
      "metadata": {
        "id": "TXNyF1FgPxT_"
      },
      "source": [
        "def cases_object(array):\n",
        "    obj1 = {\n",
        "        study: sum([(i[\"stats\"][study]) for i in array])\n",
        "        for study in [\"confirmed\", \"deaths\", \"recovered\"]\n",
        "    }\n",
        "    return {**obj1, \"updatedAt\": [i[\"updatedAt\"] for i in array]}"
      ],
      "execution_count": null,
      "outputs": []
    },
    {
      "cell_type": "code",
      "metadata": {
        "id": "y0ziZ1KVPxT_"
      },
      "source": [
        "def choose_country(array, country):\n",
        "    return [i for i in array if (i[\"country\"] == country)]"
      ],
      "execution_count": null,
      "outputs": []
    },
    {
      "cell_type": "code",
      "metadata": {
        "id": "4e9GeVrrPxT_"
      },
      "source": [
        "def get_final_object(country, array):\n",
        "    return cases_object(choose_country(array, country))"
      ],
      "execution_count": null,
      "outputs": []
    },
    {
      "cell_type": "code",
      "metadata": {
        "id": "j-r2YsrCPxT_"
      },
      "source": [
        "def get_country_frame(country):\n",
        "    def get(string, country):\n",
        "        return [i[string] for i in country]\n",
        "\n",
        "    coords = get(\"coordinates\", country)\n",
        "    stats = get(\"stats\", country)\n",
        "    names = get(\"province\", country)\n",
        "\n",
        "    def make_column(string, main):\n",
        "        return [i[string] for i in main]\n",
        "\n",
        "    df = pd.DataFrame()\n",
        "    df[\"Provinces\"] = names\n",
        "    df[\"lat\"] = make_column(\"latitude\", coords)\n",
        "    df[\"lon\"] = make_column(\"longitude\", coords)\n",
        "    df[\"Confirmed\"] = make_column(\"confirmed\", stats)\n",
        "    df[\"Recoveries\"] = make_column(\"recovered\", stats)\n",
        "    df[\"Deaths\"] = make_column(\"deaths\", stats)\n",
        "    df = df[df[\"Provinces\"] != \"Unknown\"]\n",
        "    return df"
      ],
      "execution_count": null,
      "outputs": []
    },
    {
      "cell_type": "markdown",
      "metadata": {
        "id": "0KMWYwi6PxT_"
      },
      "source": [
        "## Visualizing The Data"
      ]
    },
    {
      "cell_type": "code",
      "metadata": {
        "id": "ewINb8JDPxT_"
      },
      "source": [
        "today_data,today_country_data = get_today_data()\n",
        "country_stats = get_country_frame(choose_country(today_country_data, \"India\"))"
      ],
      "execution_count": null,
      "outputs": []
    },
    {
      "cell_type": "markdown",
      "metadata": {
        "id": "7xY_vT0mPxUA"
      },
      "source": [
        "### Bar Chart"
      ]
    },
    {
      "cell_type": "code",
      "metadata": {
        "id": "wHm0haMQPxUA"
      },
      "source": [
        "def plot_province(data, metric, metric_name):\n",
        "    fig = go.Figure()\n",
        "\n",
        "    fig.add_trace(\n",
        "        go.Bar(x=data[\"Provinces\"], y=data[metric])\n",
        "    )\n",
        "\n",
        "    fig.update_layout(\n",
        "        title={\n",
        "            \"text\": \"Province Details\",\n",
        "            \"y\": 0.9,\n",
        "            \"x\": 0.5,\n",
        "            \"xanchor\": \"center\",\n",
        "            \"yanchor\": \"top\",\n",
        "        },\n",
        "        template=\"plotly_dark\",\n",
        "        xaxis_title=\"Province\",\n",
        "        yaxis_title=\"Cases\",\n",
        "    )\n",
        "\n",
        "    return fig\n",
        "\n"
      ],
      "execution_count": null,
      "outputs": []
    },
    {
      "cell_type": "markdown",
      "metadata": {
        "id": "xunm0FbFpnzK"
      },
      "source": [
        "#### Example - India"
      ]
    },
    {
      "cell_type": "code",
      "metadata": {
        "colab": {
          "base_uri": "https://localhost:8080/",
          "height": 542
        },
        "id": "26aN0HqLPxUA",
        "outputId": "c4e4b287-5907-4c02-8c5e-eb58552553fb"
      },
      "source": [
        "plot_province(country_stats, \"Confirmed\", \"Confirmed Cases\")"
      ],
      "execution_count": null,
      "outputs": [
        {
          "output_type": "display_data",
          "data": {
            "text/html": [
              "<html>\n",
              "<head><meta charset=\"utf-8\" /></head>\n",
              "<body>\n",
              "    <div>            <script src=\"https://cdnjs.cloudflare.com/ajax/libs/mathjax/2.7.5/MathJax.js?config=TeX-AMS-MML_SVG\"></script><script type=\"text/javascript\">if (window.MathJax) {MathJax.Hub.Config({SVG: {font: \"STIX-Web\"}});}</script>                <script type=\"text/javascript\">window.PlotlyConfig = {MathJaxConfig: 'local'};</script>\n",
              "        <script src=\"https://cdn.plot.ly/plotly-latest.min.js\"></script>                <div id=\"de4f34ef-f428-4168-9e11-dad1298ffa9a\" class=\"plotly-graph-div\" style=\"height:525px; width:100%;\"></div>            <script type=\"text/javascript\">                                    window.PLOTLYENV=window.PLOTLYENV || {};                                    if (document.getElementById(\"de4f34ef-f428-4168-9e11-dad1298ffa9a\")) {                    Plotly.newPlot(                        \"de4f34ef-f428-4168-9e11-dad1298ffa9a\",                        [{\"type\": \"bar\", \"x\": [\"Andaman and Nicobar Islands\", \"Andhra Pradesh\", \"Arunachal Pradesh\", \"Assam\", \"Bihar\", \"Chandigarh\", \"Chhattisgarh\", \"Dadra and Nagar Haveli and Daman and Diu\", \"Delhi\", \"Goa\", \"Gujarat\", \"Haryana\", \"Himachal Pradesh\", \"Jammu and Kashmir\", \"Jharkhand\", \"Karnataka\", \"Kerala\", \"Ladakh\", \"Lakshadweep\", \"Madhya Pradesh\", \"Maharashtra\", \"Manipur\", \"Meghalaya\", \"Mizoram\", \"Nagaland\", \"Odisha\", \"Puducherry\", \"Punjab\", \"Rajasthan\", \"Sikkim\", \"Tamil Nadu\", \"Telangana\", \"Tripura\", \"Uttar Pradesh\", \"Uttarakhand\", \"West Bengal\"], \"y\": [4929, 881273, 16696, 215997, 250390, 19551, 276337, 3374, 623415, 50772, 242655, 261258, 54680, 120293, 114420, 916909, 743563, 9411, 0, 239228, 1922048, 28060, 13379, 4190, 11911, 328738, 38028, 165668, 306158, 5845, 815175, 285465, 33246, 582920, 89850, 548471]}],                        {\"template\": {\"data\": {\"bar\": [{\"error_x\": {\"color\": \"#f2f5fa\"}, \"error_y\": {\"color\": \"#f2f5fa\"}, \"marker\": {\"line\": {\"color\": \"rgb(17,17,17)\", \"width\": 0.5}}, \"type\": \"bar\"}], \"barpolar\": [{\"marker\": {\"line\": {\"color\": \"rgb(17,17,17)\", \"width\": 0.5}}, \"type\": \"barpolar\"}], \"carpet\": [{\"aaxis\": {\"endlinecolor\": \"#A2B1C6\", \"gridcolor\": \"#506784\", \"linecolor\": \"#506784\", \"minorgridcolor\": \"#506784\", \"startlinecolor\": \"#A2B1C6\"}, \"baxis\": {\"endlinecolor\": \"#A2B1C6\", \"gridcolor\": \"#506784\", \"linecolor\": \"#506784\", \"minorgridcolor\": \"#506784\", \"startlinecolor\": \"#A2B1C6\"}, \"type\": \"carpet\"}], \"choropleth\": [{\"colorbar\": {\"outlinewidth\": 0, \"ticks\": \"\"}, \"type\": \"choropleth\"}], \"contour\": [{\"colorbar\": {\"outlinewidth\": 0, \"ticks\": \"\"}, \"colorscale\": [[0.0, \"#0d0887\"], [0.1111111111111111, \"#46039f\"], [0.2222222222222222, \"#7201a8\"], [0.3333333333333333, \"#9c179e\"], [0.4444444444444444, \"#bd3786\"], [0.5555555555555556, \"#d8576b\"], [0.6666666666666666, \"#ed7953\"], [0.7777777777777778, \"#fb9f3a\"], [0.8888888888888888, \"#fdca26\"], [1.0, \"#f0f921\"]], \"type\": \"contour\"}], \"contourcarpet\": [{\"colorbar\": {\"outlinewidth\": 0, \"ticks\": \"\"}, \"type\": \"contourcarpet\"}], \"heatmap\": [{\"colorbar\": {\"outlinewidth\": 0, \"ticks\": \"\"}, \"colorscale\": [[0.0, \"#0d0887\"], [0.1111111111111111, \"#46039f\"], [0.2222222222222222, \"#7201a8\"], [0.3333333333333333, \"#9c179e\"], [0.4444444444444444, \"#bd3786\"], [0.5555555555555556, \"#d8576b\"], [0.6666666666666666, \"#ed7953\"], [0.7777777777777778, \"#fb9f3a\"], [0.8888888888888888, \"#fdca26\"], [1.0, \"#f0f921\"]], \"type\": \"heatmap\"}], \"heatmapgl\": [{\"colorbar\": {\"outlinewidth\": 0, \"ticks\": \"\"}, \"colorscale\": [[0.0, \"#0d0887\"], [0.1111111111111111, \"#46039f\"], [0.2222222222222222, \"#7201a8\"], [0.3333333333333333, \"#9c179e\"], [0.4444444444444444, \"#bd3786\"], [0.5555555555555556, \"#d8576b\"], [0.6666666666666666, \"#ed7953\"], [0.7777777777777778, \"#fb9f3a\"], [0.8888888888888888, \"#fdca26\"], [1.0, \"#f0f921\"]], \"type\": \"heatmapgl\"}], \"histogram\": [{\"marker\": {\"colorbar\": {\"outlinewidth\": 0, \"ticks\": \"\"}}, \"type\": \"histogram\"}], \"histogram2d\": [{\"colorbar\": {\"outlinewidth\": 0, \"ticks\": \"\"}, \"colorscale\": [[0.0, \"#0d0887\"], [0.1111111111111111, \"#46039f\"], [0.2222222222222222, \"#7201a8\"], [0.3333333333333333, \"#9c179e\"], [0.4444444444444444, \"#bd3786\"], [0.5555555555555556, \"#d8576b\"], [0.6666666666666666, \"#ed7953\"], [0.7777777777777778, \"#fb9f3a\"], [0.8888888888888888, \"#fdca26\"], [1.0, \"#f0f921\"]], \"type\": \"histogram2d\"}], \"histogram2dcontour\": [{\"colorbar\": {\"outlinewidth\": 0, \"ticks\": \"\"}, \"colorscale\": [[0.0, \"#0d0887\"], [0.1111111111111111, \"#46039f\"], [0.2222222222222222, \"#7201a8\"], [0.3333333333333333, \"#9c179e\"], [0.4444444444444444, \"#bd3786\"], [0.5555555555555556, \"#d8576b\"], [0.6666666666666666, \"#ed7953\"], [0.7777777777777778, \"#fb9f3a\"], [0.8888888888888888, \"#fdca26\"], [1.0, \"#f0f921\"]], \"type\": \"histogram2dcontour\"}], \"mesh3d\": [{\"colorbar\": {\"outlinewidth\": 0, \"ticks\": \"\"}, \"type\": \"mesh3d\"}], \"parcoords\": [{\"line\": {\"colorbar\": {\"outlinewidth\": 0, \"ticks\": \"\"}}, \"type\": \"parcoords\"}], \"pie\": [{\"automargin\": true, \"type\": \"pie\"}], \"scatter\": [{\"marker\": {\"line\": {\"color\": \"#283442\"}}, \"type\": \"scatter\"}], \"scatter3d\": [{\"line\": {\"colorbar\": {\"outlinewidth\": 0, \"ticks\": \"\"}}, \"marker\": {\"colorbar\": {\"outlinewidth\": 0, \"ticks\": \"\"}}, \"type\": \"scatter3d\"}], \"scattercarpet\": [{\"marker\": {\"colorbar\": {\"outlinewidth\": 0, \"ticks\": \"\"}}, \"type\": \"scattercarpet\"}], \"scattergeo\": [{\"marker\": {\"colorbar\": {\"outlinewidth\": 0, \"ticks\": \"\"}}, \"type\": \"scattergeo\"}], \"scattergl\": [{\"marker\": {\"line\": {\"color\": \"#283442\"}}, \"type\": \"scattergl\"}], \"scattermapbox\": [{\"marker\": {\"colorbar\": {\"outlinewidth\": 0, \"ticks\": \"\"}}, \"type\": \"scattermapbox\"}], \"scatterpolar\": [{\"marker\": {\"colorbar\": {\"outlinewidth\": 0, \"ticks\": \"\"}}, \"type\": \"scatterpolar\"}], \"scatterpolargl\": [{\"marker\": {\"colorbar\": {\"outlinewidth\": 0, \"ticks\": \"\"}}, \"type\": \"scatterpolargl\"}], \"scatterternary\": [{\"marker\": {\"colorbar\": {\"outlinewidth\": 0, \"ticks\": \"\"}}, \"type\": \"scatterternary\"}], \"surface\": [{\"colorbar\": {\"outlinewidth\": 0, \"ticks\": \"\"}, \"colorscale\": [[0.0, \"#0d0887\"], [0.1111111111111111, \"#46039f\"], [0.2222222222222222, \"#7201a8\"], [0.3333333333333333, \"#9c179e\"], [0.4444444444444444, \"#bd3786\"], [0.5555555555555556, \"#d8576b\"], [0.6666666666666666, \"#ed7953\"], [0.7777777777777778, \"#fb9f3a\"], [0.8888888888888888, \"#fdca26\"], [1.0, \"#f0f921\"]], \"type\": \"surface\"}], \"table\": [{\"cells\": {\"fill\": {\"color\": \"#506784\"}, \"line\": {\"color\": \"rgb(17,17,17)\"}}, \"header\": {\"fill\": {\"color\": \"#2a3f5f\"}, \"line\": {\"color\": \"rgb(17,17,17)\"}}, \"type\": \"table\"}]}, \"layout\": {\"annotationdefaults\": {\"arrowcolor\": \"#f2f5fa\", \"arrowhead\": 0, \"arrowwidth\": 1}, \"autotypenumbers\": \"strict\", \"coloraxis\": {\"colorbar\": {\"outlinewidth\": 0, \"ticks\": \"\"}}, \"colorscale\": {\"diverging\": [[0, \"#8e0152\"], [0.1, \"#c51b7d\"], [0.2, \"#de77ae\"], [0.3, \"#f1b6da\"], [0.4, \"#fde0ef\"], [0.5, \"#f7f7f7\"], [0.6, \"#e6f5d0\"], [0.7, \"#b8e186\"], [0.8, \"#7fbc41\"], [0.9, \"#4d9221\"], [1, \"#276419\"]], \"sequential\": [[0.0, \"#0d0887\"], [0.1111111111111111, \"#46039f\"], [0.2222222222222222, \"#7201a8\"], [0.3333333333333333, \"#9c179e\"], [0.4444444444444444, \"#bd3786\"], [0.5555555555555556, \"#d8576b\"], [0.6666666666666666, \"#ed7953\"], [0.7777777777777778, \"#fb9f3a\"], [0.8888888888888888, \"#fdca26\"], [1.0, \"#f0f921\"]], \"sequentialminus\": [[0.0, \"#0d0887\"], [0.1111111111111111, \"#46039f\"], [0.2222222222222222, \"#7201a8\"], [0.3333333333333333, \"#9c179e\"], [0.4444444444444444, \"#bd3786\"], [0.5555555555555556, \"#d8576b\"], [0.6666666666666666, \"#ed7953\"], [0.7777777777777778, \"#fb9f3a\"], [0.8888888888888888, \"#fdca26\"], [1.0, \"#f0f921\"]]}, \"colorway\": [\"#636efa\", \"#EF553B\", \"#00cc96\", \"#ab63fa\", \"#FFA15A\", \"#19d3f3\", \"#FF6692\", \"#B6E880\", \"#FF97FF\", \"#FECB52\"], \"font\": {\"color\": \"#f2f5fa\"}, \"geo\": {\"bgcolor\": \"rgb(17,17,17)\", \"lakecolor\": \"rgb(17,17,17)\", \"landcolor\": \"rgb(17,17,17)\", \"showlakes\": true, \"showland\": true, \"subunitcolor\": \"#506784\"}, \"hoverlabel\": {\"align\": \"left\"}, \"hovermode\": \"closest\", \"mapbox\": {\"style\": \"dark\"}, \"paper_bgcolor\": \"rgb(17,17,17)\", \"plot_bgcolor\": \"rgb(17,17,17)\", \"polar\": {\"angularaxis\": {\"gridcolor\": \"#506784\", \"linecolor\": \"#506784\", \"ticks\": \"\"}, \"bgcolor\": \"rgb(17,17,17)\", \"radialaxis\": {\"gridcolor\": \"#506784\", \"linecolor\": \"#506784\", \"ticks\": \"\"}}, \"scene\": {\"xaxis\": {\"backgroundcolor\": \"rgb(17,17,17)\", \"gridcolor\": \"#506784\", \"gridwidth\": 2, \"linecolor\": \"#506784\", \"showbackground\": true, \"ticks\": \"\", \"zerolinecolor\": \"#C8D4E3\"}, \"yaxis\": {\"backgroundcolor\": \"rgb(17,17,17)\", \"gridcolor\": \"#506784\", \"gridwidth\": 2, \"linecolor\": \"#506784\", \"showbackground\": true, \"ticks\": \"\", \"zerolinecolor\": \"#C8D4E3\"}, \"zaxis\": {\"backgroundcolor\": \"rgb(17,17,17)\", \"gridcolor\": \"#506784\", \"gridwidth\": 2, \"linecolor\": \"#506784\", \"showbackground\": true, \"ticks\": \"\", \"zerolinecolor\": \"#C8D4E3\"}}, \"shapedefaults\": {\"line\": {\"color\": \"#f2f5fa\"}}, \"sliderdefaults\": {\"bgcolor\": \"#C8D4E3\", \"bordercolor\": \"rgb(17,17,17)\", \"borderwidth\": 1, \"tickwidth\": 0}, \"ternary\": {\"aaxis\": {\"gridcolor\": \"#506784\", \"linecolor\": \"#506784\", \"ticks\": \"\"}, \"baxis\": {\"gridcolor\": \"#506784\", \"linecolor\": \"#506784\", \"ticks\": \"\"}, \"bgcolor\": \"rgb(17,17,17)\", \"caxis\": {\"gridcolor\": \"#506784\", \"linecolor\": \"#506784\", \"ticks\": \"\"}}, \"title\": {\"x\": 0.05}, \"updatemenudefaults\": {\"bgcolor\": \"#506784\", \"borderwidth\": 0}, \"xaxis\": {\"automargin\": true, \"gridcolor\": \"#283442\", \"linecolor\": \"#506784\", \"ticks\": \"\", \"title\": {\"standoff\": 15}, \"zerolinecolor\": \"#283442\", \"zerolinewidth\": 2}, \"yaxis\": {\"automargin\": true, \"gridcolor\": \"#283442\", \"linecolor\": \"#506784\", \"ticks\": \"\", \"title\": {\"standoff\": 15}, \"zerolinecolor\": \"#283442\", \"zerolinewidth\": 2}}}, \"title\": {\"text\": \"Province Details\", \"x\": 0.5, \"xanchor\": \"center\", \"y\": 0.9, \"yanchor\": \"top\"}, \"xaxis\": {\"title\": {\"text\": \"Province\"}}, \"yaxis\": {\"title\": {\"text\": \"Cases\"}}},                        {\"responsive\": true}                    ).then(function(){\n",
              "                            \n",
              "var gd = document.getElementById('de4f34ef-f428-4168-9e11-dad1298ffa9a');\n",
              "var x = new MutationObserver(function (mutations, observer) {{\n",
              "        var display = window.getComputedStyle(gd).display;\n",
              "        if (!display || display === 'none') {{\n",
              "            console.log([gd, 'removed!']);\n",
              "            Plotly.purge(gd);\n",
              "            observer.disconnect();\n",
              "        }}\n",
              "}});\n",
              "\n",
              "// Listen for the removal of the full notebook cells\n",
              "var notebookContainer = gd.closest('#notebook-container');\n",
              "if (notebookContainer) {{\n",
              "    x.observe(notebookContainer, {childList: true});\n",
              "}}\n",
              "\n",
              "// Listen for the clearing of the current output cell\n",
              "var outputEl = gd.closest('.output');\n",
              "if (outputEl) {{\n",
              "    x.observe(outputEl, {childList: true});\n",
              "}}\n",
              "\n",
              "                        })                };                            </script>        </div>\n",
              "</body>\n",
              "</html>"
            ]
          },
          "metadata": {
            "tags": []
          }
        }
      ]
    },
    {
      "cell_type": "markdown",
      "metadata": {
        "id": "AbKBzPo-PxUA"
      },
      "source": [
        "### Table Form"
      ]
    },
    {
      "cell_type": "code",
      "metadata": {
        "id": "I5vWqDBYPxUA"
      },
      "source": [
        "def table_province_data(data, metric):\n",
        "    df = pd.DataFrame(data={\"Provinces\": data[\"Provinces\"], metric: data[metric]})\n",
        "    df[metric] = df[metric].map(lambda x: format(x, \",d\"))\n",
        "    if len(df) <= 1:\n",
        "        return\n",
        "    else:\n",
        "        return df"
      ],
      "execution_count": null,
      "outputs": []
    },
    {
      "cell_type": "markdown",
      "metadata": {
        "id": "zoEjKmt6pwq3"
      },
      "source": [
        "#### Example - India"
      ]
    },
    {
      "cell_type": "code",
      "metadata": {
        "colab": {
          "base_uri": "https://localhost:8080/",
          "height": 1000
        },
        "id": "zWKvUJB5PxUA",
        "outputId": "3096f76b-b5ed-4065-872d-10f57e2bf7bb"
      },
      "source": [
        "table_province_data(country_stats, \"Confirmed\")"
      ],
      "execution_count": null,
      "outputs": [
        {
          "output_type": "execute_result",
          "data": {
            "text/html": [
              "<div>\n",
              "<style scoped>\n",
              "    .dataframe tbody tr th:only-of-type {\n",
              "        vertical-align: middle;\n",
              "    }\n",
              "\n",
              "    .dataframe tbody tr th {\n",
              "        vertical-align: top;\n",
              "    }\n",
              "\n",
              "    .dataframe thead th {\n",
              "        text-align: right;\n",
              "    }\n",
              "</style>\n",
              "<table border=\"1\" class=\"dataframe\">\n",
              "  <thead>\n",
              "    <tr style=\"text-align: right;\">\n",
              "      <th></th>\n",
              "      <th>Provinces</th>\n",
              "      <th>Confirmed</th>\n",
              "    </tr>\n",
              "  </thead>\n",
              "  <tbody>\n",
              "    <tr>\n",
              "      <th>0</th>\n",
              "      <td>Andaman and Nicobar Islands</td>\n",
              "      <td>4,929</td>\n",
              "    </tr>\n",
              "    <tr>\n",
              "      <th>1</th>\n",
              "      <td>Andhra Pradesh</td>\n",
              "      <td>881,273</td>\n",
              "    </tr>\n",
              "    <tr>\n",
              "      <th>2</th>\n",
              "      <td>Arunachal Pradesh</td>\n",
              "      <td>16,696</td>\n",
              "    </tr>\n",
              "    <tr>\n",
              "      <th>3</th>\n",
              "      <td>Assam</td>\n",
              "      <td>215,997</td>\n",
              "    </tr>\n",
              "    <tr>\n",
              "      <th>4</th>\n",
              "      <td>Bihar</td>\n",
              "      <td>250,390</td>\n",
              "    </tr>\n",
              "    <tr>\n",
              "      <th>5</th>\n",
              "      <td>Chandigarh</td>\n",
              "      <td>19,551</td>\n",
              "    </tr>\n",
              "    <tr>\n",
              "      <th>6</th>\n",
              "      <td>Chhattisgarh</td>\n",
              "      <td>276,337</td>\n",
              "    </tr>\n",
              "    <tr>\n",
              "      <th>7</th>\n",
              "      <td>Dadra and Nagar Haveli and Daman and Diu</td>\n",
              "      <td>3,374</td>\n",
              "    </tr>\n",
              "    <tr>\n",
              "      <th>8</th>\n",
              "      <td>Delhi</td>\n",
              "      <td>623,415</td>\n",
              "    </tr>\n",
              "    <tr>\n",
              "      <th>9</th>\n",
              "      <td>Goa</td>\n",
              "      <td>50,772</td>\n",
              "    </tr>\n",
              "    <tr>\n",
              "      <th>10</th>\n",
              "      <td>Gujarat</td>\n",
              "      <td>242,655</td>\n",
              "    </tr>\n",
              "    <tr>\n",
              "      <th>11</th>\n",
              "      <td>Haryana</td>\n",
              "      <td>261,258</td>\n",
              "    </tr>\n",
              "    <tr>\n",
              "      <th>12</th>\n",
              "      <td>Himachal Pradesh</td>\n",
              "      <td>54,680</td>\n",
              "    </tr>\n",
              "    <tr>\n",
              "      <th>13</th>\n",
              "      <td>Jammu and Kashmir</td>\n",
              "      <td>120,293</td>\n",
              "    </tr>\n",
              "    <tr>\n",
              "      <th>14</th>\n",
              "      <td>Jharkhand</td>\n",
              "      <td>114,420</td>\n",
              "    </tr>\n",
              "    <tr>\n",
              "      <th>15</th>\n",
              "      <td>Karnataka</td>\n",
              "      <td>916,909</td>\n",
              "    </tr>\n",
              "    <tr>\n",
              "      <th>16</th>\n",
              "      <td>Kerala</td>\n",
              "      <td>743,563</td>\n",
              "    </tr>\n",
              "    <tr>\n",
              "      <th>17</th>\n",
              "      <td>Ladakh</td>\n",
              "      <td>9,411</td>\n",
              "    </tr>\n",
              "    <tr>\n",
              "      <th>18</th>\n",
              "      <td>Lakshadweep</td>\n",
              "      <td>0</td>\n",
              "    </tr>\n",
              "    <tr>\n",
              "      <th>19</th>\n",
              "      <td>Madhya Pradesh</td>\n",
              "      <td>239,228</td>\n",
              "    </tr>\n",
              "    <tr>\n",
              "      <th>20</th>\n",
              "      <td>Maharashtra</td>\n",
              "      <td>1,922,048</td>\n",
              "    </tr>\n",
              "    <tr>\n",
              "      <th>21</th>\n",
              "      <td>Manipur</td>\n",
              "      <td>28,060</td>\n",
              "    </tr>\n",
              "    <tr>\n",
              "      <th>22</th>\n",
              "      <td>Meghalaya</td>\n",
              "      <td>13,379</td>\n",
              "    </tr>\n",
              "    <tr>\n",
              "      <th>23</th>\n",
              "      <td>Mizoram</td>\n",
              "      <td>4,190</td>\n",
              "    </tr>\n",
              "    <tr>\n",
              "      <th>24</th>\n",
              "      <td>Nagaland</td>\n",
              "      <td>11,911</td>\n",
              "    </tr>\n",
              "    <tr>\n",
              "      <th>25</th>\n",
              "      <td>Odisha</td>\n",
              "      <td>328,738</td>\n",
              "    </tr>\n",
              "    <tr>\n",
              "      <th>26</th>\n",
              "      <td>Puducherry</td>\n",
              "      <td>38,028</td>\n",
              "    </tr>\n",
              "    <tr>\n",
              "      <th>27</th>\n",
              "      <td>Punjab</td>\n",
              "      <td>165,668</td>\n",
              "    </tr>\n",
              "    <tr>\n",
              "      <th>28</th>\n",
              "      <td>Rajasthan</td>\n",
              "      <td>306,158</td>\n",
              "    </tr>\n",
              "    <tr>\n",
              "      <th>29</th>\n",
              "      <td>Sikkim</td>\n",
              "      <td>5,845</td>\n",
              "    </tr>\n",
              "    <tr>\n",
              "      <th>30</th>\n",
              "      <td>Tamil Nadu</td>\n",
              "      <td>815,175</td>\n",
              "    </tr>\n",
              "    <tr>\n",
              "      <th>31</th>\n",
              "      <td>Telangana</td>\n",
              "      <td>285,465</td>\n",
              "    </tr>\n",
              "    <tr>\n",
              "      <th>32</th>\n",
              "      <td>Tripura</td>\n",
              "      <td>33,246</td>\n",
              "    </tr>\n",
              "    <tr>\n",
              "      <th>34</th>\n",
              "      <td>Uttar Pradesh</td>\n",
              "      <td>582,920</td>\n",
              "    </tr>\n",
              "    <tr>\n",
              "      <th>35</th>\n",
              "      <td>Uttarakhand</td>\n",
              "      <td>89,850</td>\n",
              "    </tr>\n",
              "    <tr>\n",
              "      <th>36</th>\n",
              "      <td>West Bengal</td>\n",
              "      <td>548,471</td>\n",
              "    </tr>\n",
              "  </tbody>\n",
              "</table>\n",
              "</div>"
            ],
            "text/plain": [
              "                                   Provinces  Confirmed\n",
              "0                Andaman and Nicobar Islands      4,929\n",
              "1                             Andhra Pradesh    881,273\n",
              "2                          Arunachal Pradesh     16,696\n",
              "3                                      Assam    215,997\n",
              "4                                      Bihar    250,390\n",
              "5                                 Chandigarh     19,551\n",
              "6                               Chhattisgarh    276,337\n",
              "7   Dadra and Nagar Haveli and Daman and Diu      3,374\n",
              "8                                      Delhi    623,415\n",
              "9                                        Goa     50,772\n",
              "10                                   Gujarat    242,655\n",
              "11                                   Haryana    261,258\n",
              "12                          Himachal Pradesh     54,680\n",
              "13                         Jammu and Kashmir    120,293\n",
              "14                                 Jharkhand    114,420\n",
              "15                                 Karnataka    916,909\n",
              "16                                    Kerala    743,563\n",
              "17                                    Ladakh      9,411\n",
              "18                               Lakshadweep          0\n",
              "19                            Madhya Pradesh    239,228\n",
              "20                               Maharashtra  1,922,048\n",
              "21                                   Manipur     28,060\n",
              "22                                 Meghalaya     13,379\n",
              "23                                   Mizoram      4,190\n",
              "24                                  Nagaland     11,911\n",
              "25                                    Odisha    328,738\n",
              "26                                Puducherry     38,028\n",
              "27                                    Punjab    165,668\n",
              "28                                 Rajasthan    306,158\n",
              "29                                    Sikkim      5,845\n",
              "30                                Tamil Nadu    815,175\n",
              "31                                 Telangana    285,465\n",
              "32                                   Tripura     33,246\n",
              "34                             Uttar Pradesh    582,920\n",
              "35                               Uttarakhand     89,850\n",
              "36                               West Bengal    548,471"
            ]
          },
          "metadata": {
            "tags": []
          },
          "execution_count": 64
        }
      ]
    },
    {
      "cell_type": "markdown",
      "metadata": {
        "id": "dVnvh4JePxUB"
      },
      "source": [
        "# Predictive TimeSeries Model : CNN"
      ]
    },
    {
      "cell_type": "markdown",
      "metadata": {
        "id": "usDnSbuuPxUB"
      },
      "source": [
        "## Code"
      ]
    },
    {
      "cell_type": "markdown",
      "metadata": {
        "id": "R6BrzgKVPxUB"
      },
      "source": [
        "### Formatting The Data"
      ]
    },
    {
      "cell_type": "code",
      "metadata": {
        "id": "lMqDSpbgPxUB"
      },
      "source": [
        "def get_data(confirmed = confirmed_global, deaths = deaths_global, recovered = recovered_global):\n",
        "\n",
        "    recovered = recovered.groupby(\"country\").sum().T\n",
        "    deaths = deaths.groupby(\"country\").sum().T\n",
        "    confirmed = confirmed.groupby(\"country\").sum().T\n",
        "\n",
        "    deaths.index = pd.to_datetime(deaths.index, infer_datetime_format=True)\n",
        "    recovered.index = pd.to_datetime(\n",
        "        recovered.index, infer_datetime_format=True)\n",
        "    confirmed.index = pd.to_datetime(\n",
        "        confirmed.index, infer_datetime_format=True)\n",
        "\n",
        "    return deaths, recovered, confirmed"
      ],
      "execution_count": null,
      "outputs": []
    },
    {
      "cell_type": "code",
      "metadata": {
        "id": "inYF6dMUPxUB"
      },
      "source": [
        "def create_data_frame(dataframe, country):\n",
        "\n",
        "    deaths, recovered, confirmed = get_data()\n",
        "\n",
        "    if dataframe == \"deaths\":\n",
        "        data = pd.DataFrame(\n",
        "            index=deaths.index, data=deaths[country].values, columns=[\"Total\"]\n",
        "        )\n",
        "\n",
        "    elif dataframe == \"recovered\":\n",
        "        data = pd.DataFrame(\n",
        "            index=recovered.index, data=recovered[country].values, columns=[\n",
        "                \"Total\"]\n",
        "        )\n",
        "\n",
        "    elif dataframe == \"confirmed\":\n",
        "        data = pd.DataFrame(\n",
        "            index=confirmed.index, data=confirmed[country].values, columns=[\n",
        "                \"Total\"]\n",
        "        )\n",
        "\n",
        "    data = data[(data != 0).all(1)]\n",
        "\n",
        "    data_diff = data.diff()\n",
        "\n",
        "    # removing the first value from data_diff as it had no previous value and is a NaN after diffrencing\n",
        "    data_diff = data_diff[1:]\n",
        "\n",
        "    return data, data_diff"
      ],
      "execution_count": null,
      "outputs": []
    },
    {
      "cell_type": "markdown",
      "metadata": {
        "id": "Vvs5G8qUPxUB"
      },
      "source": [
        "### Series Creation"
      ]
    },
    {
      "cell_type": "code",
      "metadata": {
        "id": "Uwo7ZHWXPxUB"
      },
      "source": [
        "def make_series(df_name, country, steps):\n",
        "\n",
        "    data, data_diff = create_data_frame(df_name, country)\n",
        "\n",
        "    # Taking the values from data_diff and making them an array\n",
        "    series = np.array(data_diff[\"Total\"])\n",
        "\n",
        "    X, y = [], []\n",
        "    for i in range(len(series)):\n",
        "        end = i + steps\n",
        "        if end > len(series) - 1:\n",
        "            break\n",
        "        x_sample, y_sample = series[i:end], series[end]\n",
        "        X.append(x_sample)\n",
        "        y.append(y_sample)\n",
        "\n",
        "    return data, data_diff, np.array(X), np.array(y)"
      ],
      "execution_count": null,
      "outputs": []
    },
    {
      "cell_type": "markdown",
      "metadata": {
        "id": "WmWkD3TkPxUB"
      },
      "source": [
        "### Error : MASE"
      ]
    },
    {
      "cell_type": "code",
      "metadata": {
        "id": "R3Snmm0YPxUC"
      },
      "source": [
        "def mase(y_true, y_pred):\n",
        "    er = FindErrors(y_true, y_pred)\n",
        "    return er.mase()"
      ],
      "execution_count": null,
      "outputs": []
    },
    {
      "cell_type": "markdown",
      "metadata": {
        "id": "Cx2aVY4WPxUC"
      },
      "source": [
        "### Parameter Grid"
      ]
    },
    {
      "cell_type": "code",
      "metadata": {
        "id": "sNbwoP00PxUC"
      },
      "source": [
        "def create_param_grid():\n",
        "\n",
        "    param_grid = {\n",
        "        \"filters\": (60, 70),\n",
        "        \"nodes\": (60, 70),\n",
        "        \"epochs\": (60, 70),\n",
        "        \"activation1\": (\"swish\", \"relu\", \"tanh\"),\n",
        "        \"activation2\": (\"swish\", \"relu\", \"tanh\"),\n",
        "    }\n",
        "    grid = ParameterGrid(param_grid)\n",
        "\n",
        "    return grid"
      ],
      "execution_count": null,
      "outputs": []
    },
    {
      "cell_type": "markdown",
      "metadata": {
        "id": "I_o082iGPxUC"
      },
      "source": [
        "### Compiling The Model"
      ]
    },
    {
      "cell_type": "code",
      "metadata": {
        "id": "Mwi2rcCZPxUC"
      },
      "source": [
        "\n",
        "def compile_model(p):\n",
        "\n",
        "    model = Sequential()\n",
        "    model.add(\n",
        "        Conv1D(\n",
        "            filters=p[\"filters\"],\n",
        "            kernel_size=2,\n",
        "            activation=p[\"activation1\"],\n",
        "            input_shape=(14, 1),\n",
        "        )\n",
        "    )\n",
        "    model.add(MaxPooling1D(pool_size=2))\n",
        "    model.add(Flatten())\n",
        "    model.add(Dense(p[\"nodes\"], activation=p[\"activation2\"]))\n",
        "    model.add(Dense(1))\n",
        "    model.compile(optimizer=\"adam\", loss=\"mse\")\n",
        "\n",
        "    return model"
      ],
      "execution_count": null,
      "outputs": []
    },
    {
      "cell_type": "markdown",
      "metadata": {
        "id": "x4-EuaZOPxUC"
      },
      "source": [
        "### Hyperparameter Tuning"
      ]
    },
    {
      "cell_type": "code",
      "metadata": {
        "id": "hOWzvukyPxUC"
      },
      "source": [
        "def hyperparameter_tuning(grid, X_train, y_train):\n",
        "\n",
        "    parameters = pd.DataFrame(columns=[\"MASE\", \"Parameters\"])\n",
        "    for p in grid:\n",
        "        model = compile_model(p)\n",
        "\n",
        "        # reshaping the set to suit the required input shape\n",
        "        X_train = X_train.reshape((X_train.shape[0], X_train.shape[1], 1))\n",
        "\n",
        "        model.fit(X_train, y_train, epochs=p[\"epochs\"], verbose=0)\n",
        "        predictions = model.predict(X_train, verbose=0)\n",
        "\n",
        "        # flattening the predictions to a 1D array to calculate the MASE\n",
        "        predictions = predictions.flatten()\n",
        "\n",
        "        MASE = mase(y_train, predictions)\n",
        "        parameters = parameters.append(\n",
        "            {\"MASE\": MASE, \"Parameters\": p}, ignore_index=True\n",
        "        )\n",
        "\n",
        "    return parameters"
      ],
      "execution_count": null,
      "outputs": []
    },
    {
      "cell_type": "code",
      "metadata": {
        "id": "VesnXhwEPxUD"
      },
      "source": [
        "def get_best_params(parameters):\n",
        "\n",
        "    # sort the dataframe based on MASE values\n",
        "    final = parameters.sort_values(\"MASE\").reset_index().iloc[0]\n",
        "\n",
        "    return final.values[2]"
      ],
      "execution_count": null,
      "outputs": []
    },
    {
      "cell_type": "markdown",
      "metadata": {
        "id": "kw3gddyDPxUD"
      },
      "source": [
        "### Testing The Model"
      ]
    },
    {
      "cell_type": "code",
      "metadata": {
        "id": "LpG_408PPxUD"
      },
      "source": [
        "def test_model(p, X_train, X_test, y_train, y_test, data):\n",
        "\n",
        "    model = compile_model(p)\n",
        "\n",
        "    # reshaping the set to suit the required input shape\n",
        "    X_train = X_train.reshape((X_train.shape[0], X_train.shape[1], 1))\n",
        "\n",
        "    model.fit(X_train, y_train, epochs=p[\"epochs\"], verbose=0)\n",
        "\n",
        "    # reshaping the set to suit the required input shape\n",
        "    X_test = X_test.reshape((X_test.shape[0], X_test.shape[1], 1))\n",
        "\n",
        "    # predicting results of X_test\n",
        "    predictions = model.predict(X_test, verbose=0)\n",
        "    predictions = predictions.flatten()\n",
        "\n",
        "    # Taking the cumulative of the predictions step wise\n",
        "    # Start is the value just before the test_set, which is used to begin taking the cumulative\n",
        "    start = data[\"Total\"][-len(y_test) - 1]\n",
        "    predictions_cumulative = []\n",
        "    for i in predictions:\n",
        "        start = start + i\n",
        "        predictions_cumulative.append(start)\n",
        "\n",
        "    # The actual cumulative values\n",
        "    y_test_cumulative = data[\"Total\"][-len(y_test):]\n",
        "\n",
        "    MASE = mase(y_test_cumulative, predictions_cumulative)\n",
        "\n",
        "    return MASE"
      ],
      "execution_count": null,
      "outputs": []
    },
    {
      "cell_type": "markdown",
      "metadata": {
        "id": "fn4rHIu9PxUD"
      },
      "source": [
        "### Fitting The Final Model"
      ]
    },
    {
      "cell_type": "code",
      "metadata": {
        "id": "PyySrYIEPxUD"
      },
      "source": [
        "def make_final_model(p, X, y):\n",
        "    model = compile_model(p)\n",
        "\n",
        "    # reshaping the set to suit the required input shape\n",
        "    X = X.reshape((X.shape[0], X.shape[1], 1))\n",
        "\n",
        "    model.fit(X, y, epochs=p[\"epochs\"], verbose=0)\n",
        "\n",
        "    return model"
      ],
      "execution_count": null,
      "outputs": []
    },
    {
      "cell_type": "markdown",
      "metadata": {
        "id": "g-WuaGnNPxUD"
      },
      "source": [
        "### Forecasting The Next 14 Days"
      ]
    },
    {
      "cell_type": "code",
      "metadata": {
        "id": "KHqZdKG9PxUD"
      },
      "source": [
        "def forecast(data_diff, data, n, model):\n",
        "\n",
        "    forecast = []\n",
        "\n",
        "    for i in range(n):\n",
        "        l = len(forecast)\n",
        "        inp = (list(data_diff[\"Total\"][-(n - l):])) + forecast\n",
        "        inp = np.array(inp)\n",
        "        inp = inp.reshape(1, 14, 1)\n",
        "        future = model.predict(inp, verbose=0)\n",
        "        forecast.append(list(future.flatten())[0])\n",
        "\n",
        "    forecast_cumulative = []\n",
        "    start = data[\"Total\"][-1]\n",
        "    for i in forecast:\n",
        "        start = start + i\n",
        "        forecast_cumulative.append(start)\n",
        "\n",
        "    return forecast_cumulative"
      ],
      "execution_count": null,
      "outputs": []
    },
    {
      "cell_type": "markdown",
      "metadata": {
        "id": "Md4hswlmPxUD"
      },
      "source": [
        "### Plotting The Forecast"
      ]
    },
    {
      "cell_type": "code",
      "metadata": {
        "id": "-p7tbaXYPxUE"
      },
      "source": [
        "def plot_graph(data, pred):\n",
        "\n",
        "    datelist = pd.date_range(data.index[-1], periods=15).tolist()\n",
        "    datelist = datelist[1:]\n",
        "    fig = go.Figure()\n",
        "    fig.add_trace(\n",
        "        go.Scatter(x=data.index, y=data[\"Total\"],\n",
        "                   mode=\"lines\", name=\"Up till now\")\n",
        "    )\n",
        "    fig.add_trace(go.Scatter(x=datelist, y=pred,\n",
        "                             mode=\"lines\", name=\"Predictions*\"))\n",
        "    fig.update_layout(template=\"plotly_dark\")\n",
        "\n",
        "    return fig"
      ],
      "execution_count": null,
      "outputs": []
    },
    {
      "cell_type": "markdown",
      "metadata": {
        "id": "m2bcjVnyPxUE"
      },
      "source": [
        "### Flatline Check - Naive Forecast"
      ]
    },
    {
      "cell_type": "code",
      "metadata": {
        "id": "7a5EZydEPxUE"
      },
      "source": [
        "def check_slope(x, y):\n",
        "    c = Counter(np.diff(y) / np.diff(x))\n",
        "    return 0 not in [i[0] for i in c.most_common(1)]"
      ],
      "execution_count": null,
      "outputs": []
    },
    {
      "cell_type": "code",
      "metadata": {
        "id": "NetdOg4BPxUE"
      },
      "source": [
        "def naive_forecast(study, country):\n",
        "    df, _ = create_data_frame(study, country)\n",
        "    datelist = pd.date_range(df.index[-1], periods=15).tolist()[1:]\n",
        "    predictions = [df.Total[-1]] * 14\n",
        "    fig = go.Figure()\n",
        "    fig.add_trace(\n",
        "        go.Scatter(x=df.index, y=df[\"Total\"], mode=\"lines\", name=\"Up till now\")\n",
        "    )\n",
        "    fig.add_trace(\n",
        "        go.Scatter(x=datelist, y=predictions,\n",
        "                   mode=\"lines\", name=\"Predictions*\")\n",
        "    )\n",
        "    fig.update_layout(template=\"plotly_dark\")\n",
        "    return 1, fig, predictions"
      ],
      "execution_count": null,
      "outputs": []
    },
    {
      "cell_type": "markdown",
      "metadata": {
        "id": "LnssGeTgPxUE"
      },
      "source": [
        "### Final Function"
      ]
    },
    {
      "cell_type": "code",
      "metadata": {
        "id": "H2x581RhPxUE"
      },
      "source": [
        "def cnn_predict(df_name, country):\n",
        "\n",
        "    data, data_diff, X, y = make_series(df_name, country, 14)\n",
        "    grid = create_param_grid()\n",
        "    n = len(data_diff) * 17 // 20\n",
        "    X_train, X_test, y_train, y_test = X[:n], X[n:], y[:n], y[n:]\n",
        "    parameters = hyperparameter_tuning(grid, X_train, y_train)\n",
        "    p = get_best_params(parameters)\n",
        "    MASE = (test_model(p, X_train, X_test, y_train, y_test, data)).round(2)\n",
        "    if MASE <= 1 or check_slope([1, 2, 3, 4, 5], data.Total[-5:]):\n",
        "        cnn = make_final_model(p, X, y)\n",
        "        f = forecast(data_diff, data, 14, cnn)\n",
        "        f = list(map(int, f))\n",
        "        fig = plot_graph(data, f)\n",
        "    else:\n",
        "        MASE, fig, f = naive_forecast(df_name, country)\n",
        "        \n",
        "    datelist = pd.date_range(data.index[-1], periods=8).tolist()[1:]\n",
        "    predictions = pd.DataFrame(\n",
        "        data={\"Date\": list(map(lambda x: x.strftime('%d/%m/%Y'), datelist)), \"Cases\": f[:7]})\n",
        "\n",
        "    return predictions, MASE, fig"
      ],
      "execution_count": null,
      "outputs": []
    },
    {
      "cell_type": "markdown",
      "metadata": {
        "id": "1sn9VkyCPxUE"
      },
      "source": [
        "## Examples"
      ]
    },
    {
      "cell_type": "markdown",
      "metadata": {
        "id": "SpHZnhp5PxUE"
      },
      "source": [
        "### India - Confirmed Cases"
      ]
    },
    {
      "cell_type": "code",
      "metadata": {
        "id": "Sa0b1xKfPxUF"
      },
      "source": [
        "pred,_,figure = cnn_predict(\"confirmed\",\"India\")"
      ],
      "execution_count": null,
      "outputs": []
    },
    {
      "cell_type": "code",
      "metadata": {
        "colab": {
          "base_uri": "https://localhost:8080/",
          "height": 263
        },
        "id": "xggF8YbFPxUF",
        "outputId": "23de3b2d-2632-442e-a41f-8f04fff943d4"
      },
      "source": [
        "pred"
      ],
      "execution_count": null,
      "outputs": [
        {
          "output_type": "execute_result",
          "data": {
            "text/html": [
              "<div>\n",
              "<style scoped>\n",
              "    .dataframe tbody tr th:only-of-type {\n",
              "        vertical-align: middle;\n",
              "    }\n",
              "\n",
              "    .dataframe tbody tr th {\n",
              "        vertical-align: top;\n",
              "    }\n",
              "\n",
              "    .dataframe thead th {\n",
              "        text-align: right;\n",
              "    }\n",
              "</style>\n",
              "<table border=\"1\" class=\"dataframe\">\n",
              "  <thead>\n",
              "    <tr style=\"text-align: right;\">\n",
              "      <th></th>\n",
              "      <th>Date</th>\n",
              "      <th>Cases</th>\n",
              "    </tr>\n",
              "  </thead>\n",
              "  <tbody>\n",
              "    <tr>\n",
              "      <th>0</th>\n",
              "      <td>29/12/2020</td>\n",
              "      <td>10245509</td>\n",
              "    </tr>\n",
              "    <tr>\n",
              "      <th>1</th>\n",
              "      <td>30/12/2020</td>\n",
              "      <td>10266224</td>\n",
              "    </tr>\n",
              "    <tr>\n",
              "      <th>2</th>\n",
              "      <td>31/12/2020</td>\n",
              "      <td>10286461</td>\n",
              "    </tr>\n",
              "    <tr>\n",
              "      <th>3</th>\n",
              "      <td>01/01/2021</td>\n",
              "      <td>10306163</td>\n",
              "    </tr>\n",
              "    <tr>\n",
              "      <th>4</th>\n",
              "      <td>02/01/2021</td>\n",
              "      <td>10324129</td>\n",
              "    </tr>\n",
              "    <tr>\n",
              "      <th>5</th>\n",
              "      <td>03/01/2021</td>\n",
              "      <td>10340682</td>\n",
              "    </tr>\n",
              "    <tr>\n",
              "      <th>6</th>\n",
              "      <td>04/01/2021</td>\n",
              "      <td>10356696</td>\n",
              "    </tr>\n",
              "  </tbody>\n",
              "</table>\n",
              "</div>"
            ],
            "text/plain": [
              "         Date     Cases\n",
              "0  29/12/2020  10245509\n",
              "1  30/12/2020  10266224\n",
              "2  31/12/2020  10286461\n",
              "3  01/01/2021  10306163\n",
              "4  02/01/2021  10324129\n",
              "5  03/01/2021  10340682\n",
              "6  04/01/2021  10356696"
            ]
          },
          "metadata": {
            "tags": []
          },
          "execution_count": 81
        }
      ]
    },
    {
      "cell_type": "code",
      "metadata": {
        "colab": {
          "base_uri": "https://localhost:8080/",
          "height": 542
        },
        "id": "93I0H1JIPxUF",
        "outputId": "1176d5e2-a60d-4868-fe38-7aeff15d0ff3"
      },
      "source": [
        "figure.show()"
      ],
      "execution_count": null,
      "outputs": [
        {
          "output_type": "display_data",
          "data": {
            "text/html": [
              "<html>\n",
              "<head><meta charset=\"utf-8\" /></head>\n",
              "<body>\n",
              "    <div>            <script src=\"https://cdnjs.cloudflare.com/ajax/libs/mathjax/2.7.5/MathJax.js?config=TeX-AMS-MML_SVG\"></script><script type=\"text/javascript\">if (window.MathJax) {MathJax.Hub.Config({SVG: {font: \"STIX-Web\"}});}</script>                <script type=\"text/javascript\">window.PlotlyConfig = {MathJaxConfig: 'local'};</script>\n",
              "        <script src=\"https://cdn.plot.ly/plotly-latest.min.js\"></script>                <div id=\"d2b155eb-22aa-4f37-a517-1125e1946323\" class=\"plotly-graph-div\" style=\"height:525px; width:100%;\"></div>            <script type=\"text/javascript\">                                    window.PLOTLYENV=window.PLOTLYENV || {};                                    if (document.getElementById(\"d2b155eb-22aa-4f37-a517-1125e1946323\")) {                    Plotly.newPlot(                        \"d2b155eb-22aa-4f37-a517-1125e1946323\",                        [{\"mode\": \"lines\", \"name\": \"Up till now\", \"type\": \"scatter\", \"x\": [\"2020-01-30T00:00:00\", \"2020-01-31T00:00:00\", \"2020-02-01T00:00:00\", \"2020-02-02T00:00:00\", \"2020-02-03T00:00:00\", \"2020-02-04T00:00:00\", \"2020-02-05T00:00:00\", \"2020-02-06T00:00:00\", \"2020-02-07T00:00:00\", \"2020-02-08T00:00:00\", \"2020-02-09T00:00:00\", \"2020-02-10T00:00:00\", \"2020-02-11T00:00:00\", \"2020-02-12T00:00:00\", \"2020-02-13T00:00:00\", \"2020-02-14T00:00:00\", \"2020-02-15T00:00:00\", \"2020-02-16T00:00:00\", \"2020-02-17T00:00:00\", \"2020-02-18T00:00:00\", \"2020-02-19T00:00:00\", \"2020-02-20T00:00:00\", \"2020-02-21T00:00:00\", \"2020-02-22T00:00:00\", \"2020-02-23T00:00:00\", \"2020-02-24T00:00:00\", \"2020-02-25T00:00:00\", \"2020-02-26T00:00:00\", \"2020-02-27T00:00:00\", \"2020-02-28T00:00:00\", \"2020-02-29T00:00:00\", \"2020-03-01T00:00:00\", \"2020-03-02T00:00:00\", \"2020-03-03T00:00:00\", \"2020-03-04T00:00:00\", \"2020-03-05T00:00:00\", \"2020-03-06T00:00:00\", \"2020-03-07T00:00:00\", \"2020-03-08T00:00:00\", \"2020-03-09T00:00:00\", \"2020-03-10T00:00:00\", \"2020-03-11T00:00:00\", \"2020-03-12T00:00:00\", \"2020-03-13T00:00:00\", \"2020-03-14T00:00:00\", \"2020-03-15T00:00:00\", \"2020-03-16T00:00:00\", \"2020-03-17T00:00:00\", \"2020-03-18T00:00:00\", \"2020-03-19T00:00:00\", \"2020-03-20T00:00:00\", \"2020-03-21T00:00:00\", \"2020-03-22T00:00:00\", \"2020-03-23T00:00:00\", \"2020-03-24T00:00:00\", \"2020-03-25T00:00:00\", \"2020-03-26T00:00:00\", \"2020-03-27T00:00:00\", \"2020-03-28T00:00:00\", \"2020-03-29T00:00:00\", \"2020-03-30T00:00:00\", \"2020-03-31T00:00:00\", \"2020-04-01T00:00:00\", \"2020-04-02T00:00:00\", \"2020-04-03T00:00:00\", \"2020-04-04T00:00:00\", \"2020-04-05T00:00:00\", \"2020-04-06T00:00:00\", \"2020-04-07T00:00:00\", \"2020-04-08T00:00:00\", \"2020-04-09T00:00:00\", \"2020-04-10T00:00:00\", \"2020-04-11T00:00:00\", \"2020-04-12T00:00:00\", \"2020-04-13T00:00:00\", \"2020-04-14T00:00:00\", \"2020-04-15T00:00:00\", \"2020-04-16T00:00:00\", \"2020-04-17T00:00:00\", \"2020-04-18T00:00:00\", \"2020-04-19T00:00:00\", \"2020-04-20T00:00:00\", \"2020-04-21T00:00:00\", \"2020-04-22T00:00:00\", \"2020-04-23T00:00:00\", \"2020-04-24T00:00:00\", \"2020-04-25T00:00:00\", \"2020-04-26T00:00:00\", \"2020-04-27T00:00:00\", \"2020-04-28T00:00:00\", \"2020-04-29T00:00:00\", \"2020-04-30T00:00:00\", \"2020-05-01T00:00:00\", \"2020-05-02T00:00:00\", \"2020-05-03T00:00:00\", \"2020-05-04T00:00:00\", \"2020-05-05T00:00:00\", \"2020-05-06T00:00:00\", \"2020-05-07T00:00:00\", \"2020-05-08T00:00:00\", \"2020-05-09T00:00:00\", \"2020-05-10T00:00:00\", \"2020-05-11T00:00:00\", \"2020-05-12T00:00:00\", \"2020-05-13T00:00:00\", \"2020-05-14T00:00:00\", \"2020-05-15T00:00:00\", \"2020-05-16T00:00:00\", \"2020-05-17T00:00:00\", \"2020-05-18T00:00:00\", \"2020-05-19T00:00:00\", \"2020-05-20T00:00:00\", \"2020-05-21T00:00:00\", \"2020-05-22T00:00:00\", \"2020-05-23T00:00:00\", \"2020-05-24T00:00:00\", \"2020-05-25T00:00:00\", \"2020-05-26T00:00:00\", \"2020-05-27T00:00:00\", \"2020-05-28T00:00:00\", \"2020-05-29T00:00:00\", \"2020-05-30T00:00:00\", \"2020-05-31T00:00:00\", \"2020-06-01T00:00:00\", \"2020-06-02T00:00:00\", \"2020-06-03T00:00:00\", \"2020-06-04T00:00:00\", \"2020-06-05T00:00:00\", \"2020-06-06T00:00:00\", \"2020-06-07T00:00:00\", \"2020-06-08T00:00:00\", \"2020-06-09T00:00:00\", \"2020-06-10T00:00:00\", \"2020-06-11T00:00:00\", \"2020-06-12T00:00:00\", \"2020-06-13T00:00:00\", \"2020-06-14T00:00:00\", \"2020-06-15T00:00:00\", \"2020-06-16T00:00:00\", \"2020-06-17T00:00:00\", \"2020-06-18T00:00:00\", \"2020-06-19T00:00:00\", \"2020-06-20T00:00:00\", \"2020-06-21T00:00:00\", \"2020-06-22T00:00:00\", \"2020-06-23T00:00:00\", \"2020-06-24T00:00:00\", \"2020-06-25T00:00:00\", \"2020-06-26T00:00:00\", \"2020-06-27T00:00:00\", \"2020-06-28T00:00:00\", \"2020-06-29T00:00:00\", \"2020-06-30T00:00:00\", \"2020-07-01T00:00:00\", \"2020-07-02T00:00:00\", \"2020-07-03T00:00:00\", \"2020-07-04T00:00:00\", \"2020-07-05T00:00:00\", \"2020-07-06T00:00:00\", \"2020-07-07T00:00:00\", \"2020-07-08T00:00:00\", \"2020-07-09T00:00:00\", \"2020-07-10T00:00:00\", \"2020-07-11T00:00:00\", \"2020-07-12T00:00:00\", \"2020-07-13T00:00:00\", \"2020-07-14T00:00:00\", \"2020-07-15T00:00:00\", \"2020-07-16T00:00:00\", \"2020-07-17T00:00:00\", \"2020-07-18T00:00:00\", \"2020-07-19T00:00:00\", \"2020-07-20T00:00:00\", \"2020-07-21T00:00:00\", \"2020-07-22T00:00:00\", \"2020-07-23T00:00:00\", \"2020-07-24T00:00:00\", \"2020-07-25T00:00:00\", \"2020-07-26T00:00:00\", \"2020-07-27T00:00:00\", \"2020-07-28T00:00:00\", \"2020-07-29T00:00:00\", \"2020-07-30T00:00:00\", \"2020-07-31T00:00:00\", \"2020-08-01T00:00:00\", \"2020-08-02T00:00:00\", \"2020-08-03T00:00:00\", \"2020-08-04T00:00:00\", \"2020-08-05T00:00:00\", \"2020-08-06T00:00:00\", \"2020-08-07T00:00:00\", \"2020-08-08T00:00:00\", \"2020-08-09T00:00:00\", \"2020-08-10T00:00:00\", \"2020-08-11T00:00:00\", \"2020-08-12T00:00:00\", \"2020-08-13T00:00:00\", \"2020-08-14T00:00:00\", \"2020-08-15T00:00:00\", \"2020-08-16T00:00:00\", \"2020-08-17T00:00:00\", \"2020-08-18T00:00:00\", \"2020-08-19T00:00:00\", \"2020-08-20T00:00:00\", \"2020-08-21T00:00:00\", \"2020-08-22T00:00:00\", \"2020-08-23T00:00:00\", \"2020-08-24T00:00:00\", \"2020-08-25T00:00:00\", \"2020-08-26T00:00:00\", \"2020-08-27T00:00:00\", \"2020-08-28T00:00:00\", \"2020-08-29T00:00:00\", \"2020-08-30T00:00:00\", \"2020-08-31T00:00:00\", \"2020-09-01T00:00:00\", \"2020-09-02T00:00:00\", \"2020-09-03T00:00:00\", \"2020-09-04T00:00:00\", \"2020-09-05T00:00:00\", \"2020-09-06T00:00:00\", \"2020-09-07T00:00:00\", \"2020-09-08T00:00:00\", \"2020-09-09T00:00:00\", \"2020-09-10T00:00:00\", \"2020-09-11T00:00:00\", \"2020-09-12T00:00:00\", \"2020-09-13T00:00:00\", \"2020-09-14T00:00:00\", \"2020-09-15T00:00:00\", \"2020-09-16T00:00:00\", \"2020-09-17T00:00:00\", \"2020-09-18T00:00:00\", \"2020-09-19T00:00:00\", \"2020-09-20T00:00:00\", \"2020-09-21T00:00:00\", \"2020-09-22T00:00:00\", \"2020-09-23T00:00:00\", \"2020-09-24T00:00:00\", \"2020-09-25T00:00:00\", \"2020-09-26T00:00:00\", \"2020-09-27T00:00:00\", \"2020-09-28T00:00:00\", \"2020-09-29T00:00:00\", \"2020-09-30T00:00:00\", \"2020-10-01T00:00:00\", \"2020-10-02T00:00:00\", \"2020-10-03T00:00:00\", \"2020-10-04T00:00:00\", \"2020-10-05T00:00:00\", \"2020-10-06T00:00:00\", \"2020-10-07T00:00:00\", \"2020-10-08T00:00:00\", \"2020-10-09T00:00:00\", \"2020-10-10T00:00:00\", \"2020-10-11T00:00:00\", \"2020-10-12T00:00:00\", \"2020-10-13T00:00:00\", \"2020-10-14T00:00:00\", \"2020-10-15T00:00:00\", \"2020-10-16T00:00:00\", \"2020-10-17T00:00:00\", \"2020-10-18T00:00:00\", \"2020-10-19T00:00:00\", \"2020-10-20T00:00:00\", \"2020-10-21T00:00:00\", \"2020-10-22T00:00:00\", \"2020-10-23T00:00:00\", \"2020-10-24T00:00:00\", \"2020-10-25T00:00:00\", \"2020-10-26T00:00:00\", \"2020-10-27T00:00:00\", \"2020-10-28T00:00:00\", \"2020-10-29T00:00:00\", \"2020-10-30T00:00:00\", \"2020-10-31T00:00:00\", \"2020-11-01T00:00:00\", \"2020-11-02T00:00:00\", \"2020-11-03T00:00:00\", \"2020-11-04T00:00:00\", \"2020-11-05T00:00:00\", \"2020-11-06T00:00:00\", \"2020-11-07T00:00:00\", \"2020-11-08T00:00:00\", \"2020-11-09T00:00:00\", \"2020-11-10T00:00:00\", \"2020-11-11T00:00:00\", \"2020-11-12T00:00:00\", \"2020-11-13T00:00:00\", \"2020-11-14T00:00:00\", \"2020-11-15T00:00:00\", \"2020-11-16T00:00:00\", \"2020-11-17T00:00:00\", \"2020-11-18T00:00:00\", \"2020-11-19T00:00:00\", \"2020-11-20T00:00:00\", \"2020-11-21T00:00:00\", \"2020-11-22T00:00:00\", \"2020-11-23T00:00:00\", \"2020-11-24T00:00:00\", \"2020-11-25T00:00:00\", \"2020-11-26T00:00:00\", \"2020-11-27T00:00:00\", \"2020-11-28T00:00:00\", \"2020-11-29T00:00:00\", \"2020-11-30T00:00:00\", \"2020-12-01T00:00:00\", \"2020-12-02T00:00:00\", \"2020-12-03T00:00:00\", \"2020-12-04T00:00:00\", \"2020-12-05T00:00:00\", \"2020-12-06T00:00:00\", \"2020-12-07T00:00:00\", \"2020-12-08T00:00:00\", \"2020-12-09T00:00:00\", \"2020-12-10T00:00:00\", \"2020-12-11T00:00:00\", \"2020-12-12T00:00:00\", \"2020-12-13T00:00:00\", \"2020-12-14T00:00:00\", \"2020-12-15T00:00:00\", \"2020-12-16T00:00:00\", \"2020-12-17T00:00:00\", \"2020-12-18T00:00:00\", \"2020-12-19T00:00:00\", \"2020-12-20T00:00:00\", \"2020-12-21T00:00:00\", \"2020-12-22T00:00:00\", \"2020-12-23T00:00:00\", \"2020-12-24T00:00:00\", \"2020-12-25T00:00:00\", \"2020-12-26T00:00:00\", \"2020-12-27T00:00:00\", \"2020-12-28T00:00:00\"], \"y\": [1, 1, 1, 2, 3, 3, 3, 3, 3, 3, 3, 3, 3, 3, 3, 3, 3, 3, 3, 3, 3, 3, 3, 3, 3, 3, 3, 3, 3, 3, 3, 3, 5, 5, 28, 30, 31, 34, 39, 43, 56, 62, 73, 82, 102, 113, 119, 142, 156, 194, 244, 330, 396, 499, 536, 657, 727, 887, 987, 1024, 1251, 1397, 1998, 2543, 2567, 3082, 3588, 4778, 5311, 5916, 6725, 7598, 8446, 9205, 10453, 11487, 12322, 13430, 14352, 15722, 17615, 18539, 20080, 21370, 23077, 24530, 26283, 27890, 29451, 31324, 33062, 34863, 37257, 39699, 42505, 46437, 49400, 52987, 56351, 59695, 62808, 67161, 70768, 74292, 78055, 81997, 85784, 90648, 95698, 100328, 106475, 112028, 118226, 124794, 131423, 138536, 144950, 150793, 158086, 165386, 173491, 181827, 190609, 198370, 207191, 216824, 226713, 236184, 246622, 257486, 265928, 276146, 286605, 297535, 308993, 320922, 332424, 343091, 354065, 366946, 380532, 395048, 410451, 425282, 440215, 456183, 473105, 490401, 508953, 528859, 548318, 566840, 585481, 604641, 625544, 648315, 673165, 697413, 719664, 742417, 767296, 793802, 820916, 849522, 878254, 906752, 936181, 968857, 1003832, 1039084, 1077781, 1118206, 1155338, 1193078, 1238798, 1288108, 1337024, 1385635, 1435616, 1480073, 1531669, 1581963, 1634746, 1695988, 1750723, 1803695, 1855745, 1908254, 1964536, 2027074, 2088611, 2153010, 2215074, 2268675, 2329638, 2396637, 2461190, 2525922, 2589952, 2647663, 2702681, 2767253, 2836925, 2905825, 2975701, 3044940, 3106348, 3167323, 3224547, 3310234, 3387500, 3463972, 3542733, 3621245, 3691166, 3769523, 3853406, 3936747, 4023179, 4113811, 4204613, 4280422, 4370128, 4465863, 4562414, 4659984, 4754356, 4846427, 4930236, 5020359, 5118253, 5214677, 5308014, 5400619, 5487580, 5562663, 5646010, 5732518, 5818570, 5903932, 5992532, 6074702, 6145291, 6225763, 6312584, 6394068, 6473544, 6549373, 6623815, 6685082, 6757131, 6835655, 6906151, 6979423, 7053806, 7120538, 7175880, 7239389, 7307097, 7370468, 7432680, 7494551, 7550273, 7597063, 7651107, 7706946, 7761312, 7814682, 7864811, 7909959, 7946429, 7990322, 8040203, 8088851, 8137119, 8184082, 8229313, 8267623, 8313876, 8364086, 8411724, 8462080, 8507754, 8553657, 8591730, 8636011, 8683916, 8728795, 8773479, 8814579, 8845127, 8874290, 8912907, 8958483, 9004365, 9050597, 9095806, 9139865, 9177840, 9222216, 9266705, 9309787, 9351109, 9392919, 9431691, 9462809, 9499413, 9534964, 9571559, 9608211, 9644222, 9677203, 9703770, 9735850, 9767371, 9796744, 9826775, 9857029, 9884100, 9906165, 9932547, 9956557, 9979447, 10004599, 10031223, 10055560, 10075116, 10099066, 10123778, 10146845, 10169118, 10187850, 10207871, 10224303]}, {\"mode\": \"lines\", \"name\": \"Predictions*\", \"type\": \"scatter\", \"x\": [\"2020-12-29T00:00:00\", \"2020-12-30T00:00:00\", \"2020-12-31T00:00:00\", \"2021-01-01T00:00:00\", \"2021-01-02T00:00:00\", \"2021-01-03T00:00:00\", \"2021-01-04T00:00:00\", \"2021-01-05T00:00:00\", \"2021-01-06T00:00:00\", \"2021-01-07T00:00:00\", \"2021-01-08T00:00:00\", \"2021-01-09T00:00:00\", \"2021-01-10T00:00:00\", \"2021-01-11T00:00:00\"], \"y\": [10245509, 10266224, 10286461, 10306163, 10324129, 10340682, 10356696, 10374671, 10393670, 10412785, 10430347, 10447545, 10463001, 10477851]}],                        {\"template\": {\"data\": {\"bar\": [{\"error_x\": {\"color\": \"#f2f5fa\"}, \"error_y\": {\"color\": \"#f2f5fa\"}, \"marker\": {\"line\": {\"color\": \"rgb(17,17,17)\", \"width\": 0.5}}, \"type\": \"bar\"}], \"barpolar\": [{\"marker\": {\"line\": {\"color\": \"rgb(17,17,17)\", \"width\": 0.5}}, \"type\": \"barpolar\"}], \"carpet\": [{\"aaxis\": {\"endlinecolor\": \"#A2B1C6\", \"gridcolor\": \"#506784\", \"linecolor\": \"#506784\", \"minorgridcolor\": \"#506784\", \"startlinecolor\": \"#A2B1C6\"}, \"baxis\": {\"endlinecolor\": \"#A2B1C6\", \"gridcolor\": \"#506784\", \"linecolor\": \"#506784\", \"minorgridcolor\": \"#506784\", \"startlinecolor\": \"#A2B1C6\"}, \"type\": \"carpet\"}], \"choropleth\": [{\"colorbar\": {\"outlinewidth\": 0, \"ticks\": \"\"}, \"type\": \"choropleth\"}], \"contour\": [{\"colorbar\": {\"outlinewidth\": 0, \"ticks\": \"\"}, \"colorscale\": [[0.0, \"#0d0887\"], [0.1111111111111111, \"#46039f\"], [0.2222222222222222, \"#7201a8\"], [0.3333333333333333, \"#9c179e\"], [0.4444444444444444, \"#bd3786\"], [0.5555555555555556, \"#d8576b\"], [0.6666666666666666, \"#ed7953\"], [0.7777777777777778, \"#fb9f3a\"], [0.8888888888888888, \"#fdca26\"], [1.0, \"#f0f921\"]], \"type\": \"contour\"}], \"contourcarpet\": [{\"colorbar\": {\"outlinewidth\": 0, \"ticks\": \"\"}, \"type\": \"contourcarpet\"}], \"heatmap\": [{\"colorbar\": {\"outlinewidth\": 0, \"ticks\": \"\"}, \"colorscale\": [[0.0, \"#0d0887\"], [0.1111111111111111, \"#46039f\"], [0.2222222222222222, \"#7201a8\"], [0.3333333333333333, \"#9c179e\"], [0.4444444444444444, \"#bd3786\"], [0.5555555555555556, \"#d8576b\"], [0.6666666666666666, \"#ed7953\"], [0.7777777777777778, \"#fb9f3a\"], [0.8888888888888888, \"#fdca26\"], [1.0, \"#f0f921\"]], \"type\": \"heatmap\"}], \"heatmapgl\": [{\"colorbar\": {\"outlinewidth\": 0, \"ticks\": \"\"}, \"colorscale\": [[0.0, \"#0d0887\"], [0.1111111111111111, \"#46039f\"], [0.2222222222222222, \"#7201a8\"], [0.3333333333333333, \"#9c179e\"], [0.4444444444444444, \"#bd3786\"], [0.5555555555555556, \"#d8576b\"], [0.6666666666666666, \"#ed7953\"], [0.7777777777777778, \"#fb9f3a\"], [0.8888888888888888, \"#fdca26\"], [1.0, \"#f0f921\"]], \"type\": \"heatmapgl\"}], \"histogram\": [{\"marker\": {\"colorbar\": {\"outlinewidth\": 0, \"ticks\": \"\"}}, \"type\": \"histogram\"}], \"histogram2d\": [{\"colorbar\": {\"outlinewidth\": 0, \"ticks\": \"\"}, \"colorscale\": [[0.0, \"#0d0887\"], [0.1111111111111111, \"#46039f\"], [0.2222222222222222, \"#7201a8\"], [0.3333333333333333, \"#9c179e\"], [0.4444444444444444, \"#bd3786\"], [0.5555555555555556, \"#d8576b\"], [0.6666666666666666, \"#ed7953\"], [0.7777777777777778, \"#fb9f3a\"], [0.8888888888888888, \"#fdca26\"], [1.0, \"#f0f921\"]], \"type\": \"histogram2d\"}], \"histogram2dcontour\": [{\"colorbar\": {\"outlinewidth\": 0, \"ticks\": \"\"}, \"colorscale\": [[0.0, \"#0d0887\"], [0.1111111111111111, \"#46039f\"], [0.2222222222222222, \"#7201a8\"], [0.3333333333333333, \"#9c179e\"], [0.4444444444444444, \"#bd3786\"], [0.5555555555555556, \"#d8576b\"], [0.6666666666666666, \"#ed7953\"], [0.7777777777777778, \"#fb9f3a\"], [0.8888888888888888, \"#fdca26\"], [1.0, \"#f0f921\"]], \"type\": \"histogram2dcontour\"}], \"mesh3d\": [{\"colorbar\": {\"outlinewidth\": 0, \"ticks\": \"\"}, \"type\": \"mesh3d\"}], \"parcoords\": [{\"line\": {\"colorbar\": {\"outlinewidth\": 0, \"ticks\": \"\"}}, \"type\": \"parcoords\"}], \"pie\": [{\"automargin\": true, \"type\": \"pie\"}], \"scatter\": [{\"marker\": {\"line\": {\"color\": \"#283442\"}}, \"type\": \"scatter\"}], \"scatter3d\": [{\"line\": {\"colorbar\": {\"outlinewidth\": 0, \"ticks\": \"\"}}, \"marker\": {\"colorbar\": {\"outlinewidth\": 0, \"ticks\": \"\"}}, \"type\": \"scatter3d\"}], \"scattercarpet\": [{\"marker\": {\"colorbar\": {\"outlinewidth\": 0, \"ticks\": \"\"}}, \"type\": \"scattercarpet\"}], \"scattergeo\": [{\"marker\": {\"colorbar\": {\"outlinewidth\": 0, \"ticks\": \"\"}}, \"type\": \"scattergeo\"}], \"scattergl\": [{\"marker\": {\"line\": {\"color\": \"#283442\"}}, \"type\": \"scattergl\"}], \"scattermapbox\": [{\"marker\": {\"colorbar\": {\"outlinewidth\": 0, \"ticks\": \"\"}}, \"type\": \"scattermapbox\"}], \"scatterpolar\": [{\"marker\": {\"colorbar\": {\"outlinewidth\": 0, \"ticks\": \"\"}}, \"type\": \"scatterpolar\"}], \"scatterpolargl\": [{\"marker\": {\"colorbar\": {\"outlinewidth\": 0, \"ticks\": \"\"}}, \"type\": \"scatterpolargl\"}], \"scatterternary\": [{\"marker\": {\"colorbar\": {\"outlinewidth\": 0, \"ticks\": \"\"}}, \"type\": \"scatterternary\"}], \"surface\": [{\"colorbar\": {\"outlinewidth\": 0, \"ticks\": \"\"}, \"colorscale\": [[0.0, \"#0d0887\"], [0.1111111111111111, \"#46039f\"], [0.2222222222222222, \"#7201a8\"], [0.3333333333333333, \"#9c179e\"], [0.4444444444444444, \"#bd3786\"], [0.5555555555555556, \"#d8576b\"], [0.6666666666666666, \"#ed7953\"], [0.7777777777777778, \"#fb9f3a\"], [0.8888888888888888, \"#fdca26\"], [1.0, \"#f0f921\"]], \"type\": \"surface\"}], \"table\": [{\"cells\": {\"fill\": {\"color\": \"#506784\"}, \"line\": {\"color\": \"rgb(17,17,17)\"}}, \"header\": {\"fill\": {\"color\": \"#2a3f5f\"}, \"line\": {\"color\": \"rgb(17,17,17)\"}}, \"type\": \"table\"}]}, \"layout\": {\"annotationdefaults\": {\"arrowcolor\": \"#f2f5fa\", \"arrowhead\": 0, \"arrowwidth\": 1}, \"autotypenumbers\": \"strict\", \"coloraxis\": {\"colorbar\": {\"outlinewidth\": 0, \"ticks\": \"\"}}, \"colorscale\": {\"diverging\": [[0, \"#8e0152\"], [0.1, \"#c51b7d\"], [0.2, \"#de77ae\"], [0.3, \"#f1b6da\"], [0.4, \"#fde0ef\"], [0.5, \"#f7f7f7\"], [0.6, \"#e6f5d0\"], [0.7, \"#b8e186\"], [0.8, \"#7fbc41\"], [0.9, \"#4d9221\"], [1, \"#276419\"]], \"sequential\": [[0.0, \"#0d0887\"], [0.1111111111111111, \"#46039f\"], [0.2222222222222222, \"#7201a8\"], [0.3333333333333333, \"#9c179e\"], [0.4444444444444444, \"#bd3786\"], [0.5555555555555556, \"#d8576b\"], [0.6666666666666666, \"#ed7953\"], [0.7777777777777778, \"#fb9f3a\"], [0.8888888888888888, \"#fdca26\"], [1.0, \"#f0f921\"]], \"sequentialminus\": [[0.0, \"#0d0887\"], [0.1111111111111111, \"#46039f\"], [0.2222222222222222, \"#7201a8\"], [0.3333333333333333, \"#9c179e\"], [0.4444444444444444, \"#bd3786\"], [0.5555555555555556, \"#d8576b\"], [0.6666666666666666, \"#ed7953\"], [0.7777777777777778, \"#fb9f3a\"], [0.8888888888888888, \"#fdca26\"], [1.0, \"#f0f921\"]]}, \"colorway\": [\"#636efa\", \"#EF553B\", \"#00cc96\", \"#ab63fa\", \"#FFA15A\", \"#19d3f3\", \"#FF6692\", \"#B6E880\", \"#FF97FF\", \"#FECB52\"], \"font\": {\"color\": \"#f2f5fa\"}, \"geo\": {\"bgcolor\": \"rgb(17,17,17)\", \"lakecolor\": \"rgb(17,17,17)\", \"landcolor\": \"rgb(17,17,17)\", \"showlakes\": true, \"showland\": true, \"subunitcolor\": \"#506784\"}, \"hoverlabel\": {\"align\": \"left\"}, \"hovermode\": \"closest\", \"mapbox\": {\"style\": \"dark\"}, \"paper_bgcolor\": \"rgb(17,17,17)\", \"plot_bgcolor\": \"rgb(17,17,17)\", \"polar\": {\"angularaxis\": {\"gridcolor\": \"#506784\", \"linecolor\": \"#506784\", \"ticks\": \"\"}, \"bgcolor\": \"rgb(17,17,17)\", \"radialaxis\": {\"gridcolor\": \"#506784\", \"linecolor\": \"#506784\", \"ticks\": \"\"}}, \"scene\": {\"xaxis\": {\"backgroundcolor\": \"rgb(17,17,17)\", \"gridcolor\": \"#506784\", \"gridwidth\": 2, \"linecolor\": \"#506784\", \"showbackground\": true, \"ticks\": \"\", \"zerolinecolor\": \"#C8D4E3\"}, \"yaxis\": {\"backgroundcolor\": \"rgb(17,17,17)\", \"gridcolor\": \"#506784\", \"gridwidth\": 2, \"linecolor\": \"#506784\", \"showbackground\": true, \"ticks\": \"\", \"zerolinecolor\": \"#C8D4E3\"}, \"zaxis\": {\"backgroundcolor\": \"rgb(17,17,17)\", \"gridcolor\": \"#506784\", \"gridwidth\": 2, \"linecolor\": \"#506784\", \"showbackground\": true, \"ticks\": \"\", \"zerolinecolor\": \"#C8D4E3\"}}, \"shapedefaults\": {\"line\": {\"color\": \"#f2f5fa\"}}, \"sliderdefaults\": {\"bgcolor\": \"#C8D4E3\", \"bordercolor\": \"rgb(17,17,17)\", \"borderwidth\": 1, \"tickwidth\": 0}, \"ternary\": {\"aaxis\": {\"gridcolor\": \"#506784\", \"linecolor\": \"#506784\", \"ticks\": \"\"}, \"baxis\": {\"gridcolor\": \"#506784\", \"linecolor\": \"#506784\", \"ticks\": \"\"}, \"bgcolor\": \"rgb(17,17,17)\", \"caxis\": {\"gridcolor\": \"#506784\", \"linecolor\": \"#506784\", \"ticks\": \"\"}}, \"title\": {\"x\": 0.05}, \"updatemenudefaults\": {\"bgcolor\": \"#506784\", \"borderwidth\": 0}, \"xaxis\": {\"automargin\": true, \"gridcolor\": \"#283442\", \"linecolor\": \"#506784\", \"ticks\": \"\", \"title\": {\"standoff\": 15}, \"zerolinecolor\": \"#283442\", \"zerolinewidth\": 2}, \"yaxis\": {\"automargin\": true, \"gridcolor\": \"#283442\", \"linecolor\": \"#506784\", \"ticks\": \"\", \"title\": {\"standoff\": 15}, \"zerolinecolor\": \"#283442\", \"zerolinewidth\": 2}}}},                        {\"responsive\": true}                    ).then(function(){\n",
              "                            \n",
              "var gd = document.getElementById('d2b155eb-22aa-4f37-a517-1125e1946323');\n",
              "var x = new MutationObserver(function (mutations, observer) {{\n",
              "        var display = window.getComputedStyle(gd).display;\n",
              "        if (!display || display === 'none') {{\n",
              "            console.log([gd, 'removed!']);\n",
              "            Plotly.purge(gd);\n",
              "            observer.disconnect();\n",
              "        }}\n",
              "}});\n",
              "\n",
              "// Listen for the removal of the full notebook cells\n",
              "var notebookContainer = gd.closest('#notebook-container');\n",
              "if (notebookContainer) {{\n",
              "    x.observe(notebookContainer, {childList: true});\n",
              "}}\n",
              "\n",
              "// Listen for the clearing of the current output cell\n",
              "var outputEl = gd.closest('.output');\n",
              "if (outputEl) {{\n",
              "    x.observe(outputEl, {childList: true});\n",
              "}}\n",
              "\n",
              "                        })                };                            </script>        </div>\n",
              "</body>\n",
              "</html>"
            ]
          },
          "metadata": {
            "tags": []
          }
        }
      ]
    },
    {
      "cell_type": "markdown",
      "metadata": {
        "id": "1S0t8sVfPxUF"
      },
      "source": [
        "### US - Deaths"
      ]
    },
    {
      "cell_type": "code",
      "metadata": {
        "id": "gvqx2R8MPxUF"
      },
      "source": [
        "pred,_,figure = cnn_predict(\"deaths\",\"US\")"
      ],
      "execution_count": null,
      "outputs": []
    },
    {
      "cell_type": "code",
      "metadata": {
        "colab": {
          "base_uri": "https://localhost:8080/",
          "height": 263
        },
        "id": "IToYh9YaPxUF",
        "outputId": "b44e5279-db4d-41d1-a54e-d3b2c41945c0"
      },
      "source": [
        "pred"
      ],
      "execution_count": null,
      "outputs": [
        {
          "output_type": "execute_result",
          "data": {
            "text/html": [
              "<div>\n",
              "<style scoped>\n",
              "    .dataframe tbody tr th:only-of-type {\n",
              "        vertical-align: middle;\n",
              "    }\n",
              "\n",
              "    .dataframe tbody tr th {\n",
              "        vertical-align: top;\n",
              "    }\n",
              "\n",
              "    .dataframe thead th {\n",
              "        text-align: right;\n",
              "    }\n",
              "</style>\n",
              "<table border=\"1\" class=\"dataframe\">\n",
              "  <thead>\n",
              "    <tr style=\"text-align: right;\">\n",
              "      <th></th>\n",
              "      <th>Date</th>\n",
              "      <th>Cases</th>\n",
              "    </tr>\n",
              "  </thead>\n",
              "  <tbody>\n",
              "    <tr>\n",
              "      <th>0</th>\n",
              "      <td>29/12/2020</td>\n",
              "      <td>337674</td>\n",
              "    </tr>\n",
              "    <tr>\n",
              "      <th>1</th>\n",
              "      <td>30/12/2020</td>\n",
              "      <td>340742</td>\n",
              "    </tr>\n",
              "    <tr>\n",
              "      <th>2</th>\n",
              "      <td>31/12/2020</td>\n",
              "      <td>343300</td>\n",
              "    </tr>\n",
              "    <tr>\n",
              "      <th>3</th>\n",
              "      <td>01/01/2021</td>\n",
              "      <td>345195</td>\n",
              "    </tr>\n",
              "    <tr>\n",
              "      <th>4</th>\n",
              "      <td>02/01/2021</td>\n",
              "      <td>346657</td>\n",
              "    </tr>\n",
              "    <tr>\n",
              "      <th>5</th>\n",
              "      <td>03/01/2021</td>\n",
              "      <td>347788</td>\n",
              "    </tr>\n",
              "    <tr>\n",
              "      <th>6</th>\n",
              "      <td>04/01/2021</td>\n",
              "      <td>349487</td>\n",
              "    </tr>\n",
              "  </tbody>\n",
              "</table>\n",
              "</div>"
            ],
            "text/plain": [
              "         Date   Cases\n",
              "0  29/12/2020  337674\n",
              "1  30/12/2020  340742\n",
              "2  31/12/2020  343300\n",
              "3  01/01/2021  345195\n",
              "4  02/01/2021  346657\n",
              "5  03/01/2021  347788\n",
              "6  04/01/2021  349487"
            ]
          },
          "metadata": {
            "tags": []
          },
          "execution_count": 84
        }
      ]
    },
    {
      "cell_type": "code",
      "metadata": {
        "colab": {
          "base_uri": "https://localhost:8080/",
          "height": 542
        },
        "id": "iNax2GvIPxUG",
        "outputId": "d5ccb8a0-c28e-4fb7-dae4-0129fbfed88c"
      },
      "source": [
        "figure.show()"
      ],
      "execution_count": null,
      "outputs": [
        {
          "output_type": "display_data",
          "data": {
            "text/html": [
              "<html>\n",
              "<head><meta charset=\"utf-8\" /></head>\n",
              "<body>\n",
              "    <div>            <script src=\"https://cdnjs.cloudflare.com/ajax/libs/mathjax/2.7.5/MathJax.js?config=TeX-AMS-MML_SVG\"></script><script type=\"text/javascript\">if (window.MathJax) {MathJax.Hub.Config({SVG: {font: \"STIX-Web\"}});}</script>                <script type=\"text/javascript\">window.PlotlyConfig = {MathJaxConfig: 'local'};</script>\n",
              "        <script src=\"https://cdn.plot.ly/plotly-latest.min.js\"></script>                <div id=\"ebf508ec-3d24-4a55-a1e6-50d149b3dec3\" class=\"plotly-graph-div\" style=\"height:525px; width:100%;\"></div>            <script type=\"text/javascript\">                                    window.PLOTLYENV=window.PLOTLYENV || {};                                    if (document.getElementById(\"ebf508ec-3d24-4a55-a1e6-50d149b3dec3\")) {                    Plotly.newPlot(                        \"ebf508ec-3d24-4a55-a1e6-50d149b3dec3\",                        [{\"mode\": \"lines\", \"name\": \"Up till now\", \"type\": \"scatter\", \"x\": [\"2020-02-29T00:00:00\", \"2020-03-01T00:00:00\", \"2020-03-02T00:00:00\", \"2020-03-03T00:00:00\", \"2020-03-04T00:00:00\", \"2020-03-05T00:00:00\", \"2020-03-06T00:00:00\", \"2020-03-07T00:00:00\", \"2020-03-08T00:00:00\", \"2020-03-09T00:00:00\", \"2020-03-10T00:00:00\", \"2020-03-11T00:00:00\", \"2020-03-12T00:00:00\", \"2020-03-13T00:00:00\", \"2020-03-14T00:00:00\", \"2020-03-15T00:00:00\", \"2020-03-16T00:00:00\", \"2020-03-17T00:00:00\", \"2020-03-18T00:00:00\", \"2020-03-19T00:00:00\", \"2020-03-20T00:00:00\", \"2020-03-21T00:00:00\", \"2020-03-22T00:00:00\", \"2020-03-23T00:00:00\", \"2020-03-24T00:00:00\", \"2020-03-25T00:00:00\", \"2020-03-26T00:00:00\", \"2020-03-27T00:00:00\", \"2020-03-28T00:00:00\", \"2020-03-29T00:00:00\", \"2020-03-30T00:00:00\", \"2020-03-31T00:00:00\", \"2020-04-01T00:00:00\", \"2020-04-02T00:00:00\", \"2020-04-03T00:00:00\", \"2020-04-04T00:00:00\", \"2020-04-05T00:00:00\", \"2020-04-06T00:00:00\", \"2020-04-07T00:00:00\", \"2020-04-08T00:00:00\", \"2020-04-09T00:00:00\", \"2020-04-10T00:00:00\", \"2020-04-11T00:00:00\", \"2020-04-12T00:00:00\", \"2020-04-13T00:00:00\", \"2020-04-14T00:00:00\", \"2020-04-15T00:00:00\", \"2020-04-16T00:00:00\", \"2020-04-17T00:00:00\", \"2020-04-18T00:00:00\", \"2020-04-19T00:00:00\", \"2020-04-20T00:00:00\", \"2020-04-21T00:00:00\", \"2020-04-22T00:00:00\", \"2020-04-23T00:00:00\", \"2020-04-24T00:00:00\", \"2020-04-25T00:00:00\", \"2020-04-26T00:00:00\", \"2020-04-27T00:00:00\", \"2020-04-28T00:00:00\", \"2020-04-29T00:00:00\", \"2020-04-30T00:00:00\", \"2020-05-01T00:00:00\", \"2020-05-02T00:00:00\", \"2020-05-03T00:00:00\", \"2020-05-04T00:00:00\", \"2020-05-05T00:00:00\", \"2020-05-06T00:00:00\", \"2020-05-07T00:00:00\", \"2020-05-08T00:00:00\", \"2020-05-09T00:00:00\", \"2020-05-10T00:00:00\", \"2020-05-11T00:00:00\", \"2020-05-12T00:00:00\", \"2020-05-13T00:00:00\", \"2020-05-14T00:00:00\", \"2020-05-15T00:00:00\", \"2020-05-16T00:00:00\", \"2020-05-17T00:00:00\", \"2020-05-18T00:00:00\", \"2020-05-19T00:00:00\", \"2020-05-20T00:00:00\", \"2020-05-21T00:00:00\", \"2020-05-22T00:00:00\", \"2020-05-23T00:00:00\", \"2020-05-24T00:00:00\", \"2020-05-25T00:00:00\", \"2020-05-26T00:00:00\", \"2020-05-27T00:00:00\", \"2020-05-28T00:00:00\", \"2020-05-29T00:00:00\", \"2020-05-30T00:00:00\", \"2020-05-31T00:00:00\", \"2020-06-01T00:00:00\", \"2020-06-02T00:00:00\", \"2020-06-03T00:00:00\", \"2020-06-04T00:00:00\", \"2020-06-05T00:00:00\", \"2020-06-06T00:00:00\", \"2020-06-07T00:00:00\", \"2020-06-08T00:00:00\", \"2020-06-09T00:00:00\", \"2020-06-10T00:00:00\", \"2020-06-11T00:00:00\", \"2020-06-12T00:00:00\", \"2020-06-13T00:00:00\", \"2020-06-14T00:00:00\", \"2020-06-15T00:00:00\", \"2020-06-16T00:00:00\", \"2020-06-17T00:00:00\", \"2020-06-18T00:00:00\", \"2020-06-19T00:00:00\", \"2020-06-20T00:00:00\", \"2020-06-21T00:00:00\", \"2020-06-22T00:00:00\", \"2020-06-23T00:00:00\", \"2020-06-24T00:00:00\", \"2020-06-25T00:00:00\", \"2020-06-26T00:00:00\", \"2020-06-27T00:00:00\", \"2020-06-28T00:00:00\", \"2020-06-29T00:00:00\", \"2020-06-30T00:00:00\", \"2020-07-01T00:00:00\", \"2020-07-02T00:00:00\", \"2020-07-03T00:00:00\", \"2020-07-04T00:00:00\", \"2020-07-05T00:00:00\", \"2020-07-06T00:00:00\", \"2020-07-07T00:00:00\", \"2020-07-08T00:00:00\", \"2020-07-09T00:00:00\", \"2020-07-10T00:00:00\", \"2020-07-11T00:00:00\", \"2020-07-12T00:00:00\", \"2020-07-13T00:00:00\", \"2020-07-14T00:00:00\", \"2020-07-15T00:00:00\", \"2020-07-16T00:00:00\", \"2020-07-17T00:00:00\", \"2020-07-18T00:00:00\", \"2020-07-19T00:00:00\", \"2020-07-20T00:00:00\", \"2020-07-21T00:00:00\", \"2020-07-22T00:00:00\", \"2020-07-23T00:00:00\", \"2020-07-24T00:00:00\", \"2020-07-25T00:00:00\", \"2020-07-26T00:00:00\", \"2020-07-27T00:00:00\", \"2020-07-28T00:00:00\", \"2020-07-29T00:00:00\", \"2020-07-30T00:00:00\", \"2020-07-31T00:00:00\", \"2020-08-01T00:00:00\", \"2020-08-02T00:00:00\", \"2020-08-03T00:00:00\", \"2020-08-04T00:00:00\", \"2020-08-05T00:00:00\", \"2020-08-06T00:00:00\", \"2020-08-07T00:00:00\", \"2020-08-08T00:00:00\", \"2020-08-09T00:00:00\", \"2020-08-10T00:00:00\", \"2020-08-11T00:00:00\", \"2020-08-12T00:00:00\", \"2020-08-13T00:00:00\", \"2020-08-14T00:00:00\", \"2020-08-15T00:00:00\", \"2020-08-16T00:00:00\", \"2020-08-17T00:00:00\", \"2020-08-18T00:00:00\", \"2020-08-19T00:00:00\", \"2020-08-20T00:00:00\", \"2020-08-21T00:00:00\", \"2020-08-22T00:00:00\", \"2020-08-23T00:00:00\", \"2020-08-24T00:00:00\", \"2020-08-25T00:00:00\", \"2020-08-26T00:00:00\", \"2020-08-27T00:00:00\", \"2020-08-28T00:00:00\", \"2020-08-29T00:00:00\", \"2020-08-30T00:00:00\", \"2020-08-31T00:00:00\", \"2020-09-01T00:00:00\", \"2020-09-02T00:00:00\", \"2020-09-03T00:00:00\", \"2020-09-04T00:00:00\", \"2020-09-05T00:00:00\", \"2020-09-06T00:00:00\", \"2020-09-07T00:00:00\", \"2020-09-08T00:00:00\", \"2020-09-09T00:00:00\", \"2020-09-10T00:00:00\", \"2020-09-11T00:00:00\", \"2020-09-12T00:00:00\", \"2020-09-13T00:00:00\", \"2020-09-14T00:00:00\", \"2020-09-15T00:00:00\", \"2020-09-16T00:00:00\", \"2020-09-17T00:00:00\", \"2020-09-18T00:00:00\", \"2020-09-19T00:00:00\", \"2020-09-20T00:00:00\", \"2020-09-21T00:00:00\", \"2020-09-22T00:00:00\", \"2020-09-23T00:00:00\", \"2020-09-24T00:00:00\", \"2020-09-25T00:00:00\", \"2020-09-26T00:00:00\", \"2020-09-27T00:00:00\", \"2020-09-28T00:00:00\", \"2020-09-29T00:00:00\", \"2020-09-30T00:00:00\", \"2020-10-01T00:00:00\", \"2020-10-02T00:00:00\", \"2020-10-03T00:00:00\", \"2020-10-04T00:00:00\", \"2020-10-05T00:00:00\", \"2020-10-06T00:00:00\", \"2020-10-07T00:00:00\", \"2020-10-08T00:00:00\", \"2020-10-09T00:00:00\", \"2020-10-10T00:00:00\", \"2020-10-11T00:00:00\", \"2020-10-12T00:00:00\", \"2020-10-13T00:00:00\", \"2020-10-14T00:00:00\", \"2020-10-15T00:00:00\", \"2020-10-16T00:00:00\", \"2020-10-17T00:00:00\", \"2020-10-18T00:00:00\", \"2020-10-19T00:00:00\", \"2020-10-20T00:00:00\", \"2020-10-21T00:00:00\", \"2020-10-22T00:00:00\", \"2020-10-23T00:00:00\", \"2020-10-24T00:00:00\", \"2020-10-25T00:00:00\", \"2020-10-26T00:00:00\", \"2020-10-27T00:00:00\", \"2020-10-28T00:00:00\", \"2020-10-29T00:00:00\", \"2020-10-30T00:00:00\", \"2020-10-31T00:00:00\", \"2020-11-01T00:00:00\", \"2020-11-02T00:00:00\", \"2020-11-03T00:00:00\", \"2020-11-04T00:00:00\", \"2020-11-05T00:00:00\", \"2020-11-06T00:00:00\", \"2020-11-07T00:00:00\", \"2020-11-08T00:00:00\", \"2020-11-09T00:00:00\", \"2020-11-10T00:00:00\", \"2020-11-11T00:00:00\", \"2020-11-12T00:00:00\", \"2020-11-13T00:00:00\", \"2020-11-14T00:00:00\", \"2020-11-15T00:00:00\", \"2020-11-16T00:00:00\", \"2020-11-17T00:00:00\", \"2020-11-18T00:00:00\", \"2020-11-19T00:00:00\", \"2020-11-20T00:00:00\", \"2020-11-21T00:00:00\", \"2020-11-22T00:00:00\", \"2020-11-23T00:00:00\", \"2020-11-24T00:00:00\", \"2020-11-25T00:00:00\", \"2020-11-26T00:00:00\", \"2020-11-27T00:00:00\", \"2020-11-28T00:00:00\", \"2020-11-29T00:00:00\", \"2020-11-30T00:00:00\", \"2020-12-01T00:00:00\", \"2020-12-02T00:00:00\", \"2020-12-03T00:00:00\", \"2020-12-04T00:00:00\", \"2020-12-05T00:00:00\", \"2020-12-06T00:00:00\", \"2020-12-07T00:00:00\", \"2020-12-08T00:00:00\", \"2020-12-09T00:00:00\", \"2020-12-10T00:00:00\", \"2020-12-11T00:00:00\", \"2020-12-12T00:00:00\", \"2020-12-13T00:00:00\", \"2020-12-14T00:00:00\", \"2020-12-15T00:00:00\", \"2020-12-16T00:00:00\", \"2020-12-17T00:00:00\", \"2020-12-18T00:00:00\", \"2020-12-19T00:00:00\", \"2020-12-20T00:00:00\", \"2020-12-21T00:00:00\", \"2020-12-22T00:00:00\", \"2020-12-23T00:00:00\", \"2020-12-24T00:00:00\", \"2020-12-25T00:00:00\", \"2020-12-26T00:00:00\", \"2020-12-27T00:00:00\", \"2020-12-28T00:00:00\"], \"y\": [1, 1, 6, 7, 11, 12, 14, 17, 21, 22, 28, 33, 43, 51, 58, 70, 97, 133, 192, 264, 367, 466, 576, 763, 1004, 1330, 1742, 2263, 2898, 3490, 4187, 5278, 6535, 8031, 9436, 10982, 12562, 14318, 16895, 19037, 21244, 23461, 25597, 27415, 29372, 31819, 34415, 36576, 38662, 40636, 42572, 44769, 47308, 49735, 52189, 54351, 56056, 57400, 58862, 61086, 63605, 66016, 67899, 69591, 70708, 72031, 74316, 76665, 78587, 80332, 81867, 82778, 83776, 85392, 87133, 88915, 90584, 91855, 92617, 93794, 95291, 96807, 98013, 99256, 100399, 101016, 101572, 102233, 103731, 104908, 106071, 107022, 107719, 108500, 109539, 110532, 111546, 112438, 113138, 113588, 114093, 115012, 115911, 116761, 117579, 118348, 118663, 119049, 119869, 120608, 121301, 121960, 122563, 122859, 123247, 124088, 124844, 125389, 126020, 126524, 126813, 127198, 127831, 128521, 129250, 129908, 130193, 130492, 130855, 132059, 132912, 133912, 134725, 135435, 135896, 136318, 137237, 138196, 139159, 140075, 140939, 141407, 141947, 143054, 144266, 145359, 146507, 147393, 147900, 149021, 150375, 151797, 153017, 154277, 155376, 155793, 156350, 157705, 159103, 160329, 161563, 162645, 163175, 163719, 164757, 166273, 167331, 168667, 169697, 170273, 170724, 172031, 173359, 174439, 175533, 176511, 176970, 177418, 178634, 179867, 180964, 181926, 182773, 183214, 183809, 184858, 185902, 186960, 187921, 188698, 189109, 189390, 189842, 190999, 191911, 193115, 193830, 194224, 194638, 195926, 196913, 197778, 198700, 199415, 199664, 200084, 201095, 202179, 203100, 204026, 204780, 205069, 205401, 206285, 207227, 208081, 209008, 209695, 210049, 210506, 211212, 212130, 213099, 214060, 214695, 215122, 215472, 216254, 217248, 218060, 218962, 219717, 220162, 220620, 221536, 222703, 223566, 224518, 225468, 225857, 226339, 227301, 228311, 229277, 230308, 231201, 231623, 232155, 233720, 234812, 235956, 237153, 238165, 238655, 239338, 240714, 242142, 243335, 244499, 245776, 246421, 247152, 248838, 250716, 252694, 254590, 256040, 256958, 257874, 260000, 262287, 263532, 264958, 266170, 267012, 268165, 270753, 273528, 276371, 278965, 281222, 282344, 283763, 286283, 289347, 292267, 295550, 297904, 299293, 300777, 303761, 307443, 310789, 313610, 316159, 317668, 319364, 322765, 326124, 329023, 330246, 331909, 333118, 334836]}, {\"mode\": \"lines\", \"name\": \"Predictions*\", \"type\": \"scatter\", \"x\": [\"2020-12-29T00:00:00\", \"2020-12-30T00:00:00\", \"2020-12-31T00:00:00\", \"2021-01-01T00:00:00\", \"2021-01-02T00:00:00\", \"2021-01-03T00:00:00\", \"2021-01-04T00:00:00\", \"2021-01-05T00:00:00\", \"2021-01-06T00:00:00\", \"2021-01-07T00:00:00\", \"2021-01-08T00:00:00\", \"2021-01-09T00:00:00\", \"2021-01-10T00:00:00\", \"2021-01-11T00:00:00\"], \"y\": [337674, 340742, 343300, 345195, 346657, 347788, 349487, 352100, 354697, 356933, 358734, 360053, 361110, 362669]}],                        {\"template\": {\"data\": {\"bar\": [{\"error_x\": {\"color\": \"#f2f5fa\"}, \"error_y\": {\"color\": \"#f2f5fa\"}, \"marker\": {\"line\": {\"color\": \"rgb(17,17,17)\", \"width\": 0.5}}, \"type\": \"bar\"}], \"barpolar\": [{\"marker\": {\"line\": {\"color\": \"rgb(17,17,17)\", \"width\": 0.5}}, \"type\": \"barpolar\"}], \"carpet\": [{\"aaxis\": {\"endlinecolor\": \"#A2B1C6\", \"gridcolor\": \"#506784\", \"linecolor\": \"#506784\", \"minorgridcolor\": \"#506784\", \"startlinecolor\": \"#A2B1C6\"}, \"baxis\": {\"endlinecolor\": \"#A2B1C6\", \"gridcolor\": \"#506784\", \"linecolor\": \"#506784\", \"minorgridcolor\": \"#506784\", \"startlinecolor\": \"#A2B1C6\"}, \"type\": \"carpet\"}], \"choropleth\": [{\"colorbar\": {\"outlinewidth\": 0, \"ticks\": \"\"}, \"type\": \"choropleth\"}], \"contour\": [{\"colorbar\": {\"outlinewidth\": 0, \"ticks\": \"\"}, \"colorscale\": [[0.0, \"#0d0887\"], [0.1111111111111111, \"#46039f\"], [0.2222222222222222, \"#7201a8\"], [0.3333333333333333, \"#9c179e\"], [0.4444444444444444, \"#bd3786\"], [0.5555555555555556, \"#d8576b\"], [0.6666666666666666, \"#ed7953\"], [0.7777777777777778, \"#fb9f3a\"], [0.8888888888888888, \"#fdca26\"], [1.0, \"#f0f921\"]], \"type\": \"contour\"}], \"contourcarpet\": [{\"colorbar\": {\"outlinewidth\": 0, \"ticks\": \"\"}, \"type\": \"contourcarpet\"}], \"heatmap\": [{\"colorbar\": {\"outlinewidth\": 0, \"ticks\": \"\"}, \"colorscale\": [[0.0, \"#0d0887\"], [0.1111111111111111, \"#46039f\"], [0.2222222222222222, \"#7201a8\"], [0.3333333333333333, \"#9c179e\"], [0.4444444444444444, \"#bd3786\"], [0.5555555555555556, \"#d8576b\"], [0.6666666666666666, \"#ed7953\"], [0.7777777777777778, \"#fb9f3a\"], [0.8888888888888888, \"#fdca26\"], [1.0, \"#f0f921\"]], \"type\": \"heatmap\"}], \"heatmapgl\": [{\"colorbar\": {\"outlinewidth\": 0, \"ticks\": \"\"}, \"colorscale\": [[0.0, \"#0d0887\"], [0.1111111111111111, \"#46039f\"], [0.2222222222222222, \"#7201a8\"], [0.3333333333333333, \"#9c179e\"], [0.4444444444444444, \"#bd3786\"], [0.5555555555555556, \"#d8576b\"], [0.6666666666666666, \"#ed7953\"], [0.7777777777777778, \"#fb9f3a\"], [0.8888888888888888, \"#fdca26\"], [1.0, \"#f0f921\"]], \"type\": \"heatmapgl\"}], \"histogram\": [{\"marker\": {\"colorbar\": {\"outlinewidth\": 0, \"ticks\": \"\"}}, \"type\": \"histogram\"}], \"histogram2d\": [{\"colorbar\": {\"outlinewidth\": 0, \"ticks\": \"\"}, \"colorscale\": [[0.0, \"#0d0887\"], [0.1111111111111111, \"#46039f\"], [0.2222222222222222, \"#7201a8\"], [0.3333333333333333, \"#9c179e\"], [0.4444444444444444, \"#bd3786\"], [0.5555555555555556, \"#d8576b\"], [0.6666666666666666, \"#ed7953\"], [0.7777777777777778, \"#fb9f3a\"], [0.8888888888888888, \"#fdca26\"], [1.0, \"#f0f921\"]], \"type\": \"histogram2d\"}], \"histogram2dcontour\": [{\"colorbar\": {\"outlinewidth\": 0, \"ticks\": \"\"}, \"colorscale\": [[0.0, \"#0d0887\"], [0.1111111111111111, \"#46039f\"], [0.2222222222222222, \"#7201a8\"], [0.3333333333333333, \"#9c179e\"], [0.4444444444444444, \"#bd3786\"], [0.5555555555555556, \"#d8576b\"], [0.6666666666666666, \"#ed7953\"], [0.7777777777777778, \"#fb9f3a\"], [0.8888888888888888, \"#fdca26\"], [1.0, \"#f0f921\"]], \"type\": \"histogram2dcontour\"}], \"mesh3d\": [{\"colorbar\": {\"outlinewidth\": 0, \"ticks\": \"\"}, \"type\": \"mesh3d\"}], \"parcoords\": [{\"line\": {\"colorbar\": {\"outlinewidth\": 0, \"ticks\": \"\"}}, \"type\": \"parcoords\"}], \"pie\": [{\"automargin\": true, \"type\": \"pie\"}], \"scatter\": [{\"marker\": {\"line\": {\"color\": \"#283442\"}}, \"type\": \"scatter\"}], \"scatter3d\": [{\"line\": {\"colorbar\": {\"outlinewidth\": 0, \"ticks\": \"\"}}, \"marker\": {\"colorbar\": {\"outlinewidth\": 0, \"ticks\": \"\"}}, \"type\": \"scatter3d\"}], \"scattercarpet\": [{\"marker\": {\"colorbar\": {\"outlinewidth\": 0, \"ticks\": \"\"}}, \"type\": \"scattercarpet\"}], \"scattergeo\": [{\"marker\": {\"colorbar\": {\"outlinewidth\": 0, \"ticks\": \"\"}}, \"type\": \"scattergeo\"}], \"scattergl\": [{\"marker\": {\"line\": {\"color\": \"#283442\"}}, \"type\": \"scattergl\"}], \"scattermapbox\": [{\"marker\": {\"colorbar\": {\"outlinewidth\": 0, \"ticks\": \"\"}}, \"type\": \"scattermapbox\"}], \"scatterpolar\": [{\"marker\": {\"colorbar\": {\"outlinewidth\": 0, \"ticks\": \"\"}}, \"type\": \"scatterpolar\"}], \"scatterpolargl\": [{\"marker\": {\"colorbar\": {\"outlinewidth\": 0, \"ticks\": \"\"}}, \"type\": \"scatterpolargl\"}], \"scatterternary\": [{\"marker\": {\"colorbar\": {\"outlinewidth\": 0, \"ticks\": \"\"}}, \"type\": \"scatterternary\"}], \"surface\": [{\"colorbar\": {\"outlinewidth\": 0, \"ticks\": \"\"}, \"colorscale\": [[0.0, \"#0d0887\"], [0.1111111111111111, \"#46039f\"], [0.2222222222222222, \"#7201a8\"], [0.3333333333333333, \"#9c179e\"], [0.4444444444444444, \"#bd3786\"], [0.5555555555555556, \"#d8576b\"], [0.6666666666666666, \"#ed7953\"], [0.7777777777777778, \"#fb9f3a\"], [0.8888888888888888, \"#fdca26\"], [1.0, \"#f0f921\"]], \"type\": \"surface\"}], \"table\": [{\"cells\": {\"fill\": {\"color\": \"#506784\"}, \"line\": {\"color\": \"rgb(17,17,17)\"}}, \"header\": {\"fill\": {\"color\": \"#2a3f5f\"}, \"line\": {\"color\": \"rgb(17,17,17)\"}}, \"type\": \"table\"}]}, \"layout\": {\"annotationdefaults\": {\"arrowcolor\": \"#f2f5fa\", \"arrowhead\": 0, \"arrowwidth\": 1}, \"autotypenumbers\": \"strict\", \"coloraxis\": {\"colorbar\": {\"outlinewidth\": 0, \"ticks\": \"\"}}, \"colorscale\": {\"diverging\": [[0, \"#8e0152\"], [0.1, \"#c51b7d\"], [0.2, \"#de77ae\"], [0.3, \"#f1b6da\"], [0.4, \"#fde0ef\"], [0.5, \"#f7f7f7\"], [0.6, \"#e6f5d0\"], [0.7, \"#b8e186\"], [0.8, \"#7fbc41\"], [0.9, \"#4d9221\"], [1, \"#276419\"]], \"sequential\": [[0.0, \"#0d0887\"], [0.1111111111111111, \"#46039f\"], [0.2222222222222222, \"#7201a8\"], [0.3333333333333333, \"#9c179e\"], [0.4444444444444444, \"#bd3786\"], [0.5555555555555556, \"#d8576b\"], [0.6666666666666666, \"#ed7953\"], [0.7777777777777778, \"#fb9f3a\"], [0.8888888888888888, \"#fdca26\"], [1.0, \"#f0f921\"]], \"sequentialminus\": [[0.0, \"#0d0887\"], [0.1111111111111111, \"#46039f\"], [0.2222222222222222, \"#7201a8\"], [0.3333333333333333, \"#9c179e\"], [0.4444444444444444, \"#bd3786\"], [0.5555555555555556, \"#d8576b\"], [0.6666666666666666, \"#ed7953\"], [0.7777777777777778, \"#fb9f3a\"], [0.8888888888888888, \"#fdca26\"], [1.0, \"#f0f921\"]]}, \"colorway\": [\"#636efa\", \"#EF553B\", \"#00cc96\", \"#ab63fa\", \"#FFA15A\", \"#19d3f3\", \"#FF6692\", \"#B6E880\", \"#FF97FF\", \"#FECB52\"], \"font\": {\"color\": \"#f2f5fa\"}, \"geo\": {\"bgcolor\": \"rgb(17,17,17)\", \"lakecolor\": \"rgb(17,17,17)\", \"landcolor\": \"rgb(17,17,17)\", \"showlakes\": true, \"showland\": true, \"subunitcolor\": \"#506784\"}, \"hoverlabel\": {\"align\": \"left\"}, \"hovermode\": \"closest\", \"mapbox\": {\"style\": \"dark\"}, \"paper_bgcolor\": \"rgb(17,17,17)\", \"plot_bgcolor\": \"rgb(17,17,17)\", \"polar\": {\"angularaxis\": {\"gridcolor\": \"#506784\", \"linecolor\": \"#506784\", \"ticks\": \"\"}, \"bgcolor\": \"rgb(17,17,17)\", \"radialaxis\": {\"gridcolor\": \"#506784\", \"linecolor\": \"#506784\", \"ticks\": \"\"}}, \"scene\": {\"xaxis\": {\"backgroundcolor\": \"rgb(17,17,17)\", \"gridcolor\": \"#506784\", \"gridwidth\": 2, \"linecolor\": \"#506784\", \"showbackground\": true, \"ticks\": \"\", \"zerolinecolor\": \"#C8D4E3\"}, \"yaxis\": {\"backgroundcolor\": \"rgb(17,17,17)\", \"gridcolor\": \"#506784\", \"gridwidth\": 2, \"linecolor\": \"#506784\", \"showbackground\": true, \"ticks\": \"\", \"zerolinecolor\": \"#C8D4E3\"}, \"zaxis\": {\"backgroundcolor\": \"rgb(17,17,17)\", \"gridcolor\": \"#506784\", \"gridwidth\": 2, \"linecolor\": \"#506784\", \"showbackground\": true, \"ticks\": \"\", \"zerolinecolor\": \"#C8D4E3\"}}, \"shapedefaults\": {\"line\": {\"color\": \"#f2f5fa\"}}, \"sliderdefaults\": {\"bgcolor\": \"#C8D4E3\", \"bordercolor\": \"rgb(17,17,17)\", \"borderwidth\": 1, \"tickwidth\": 0}, \"ternary\": {\"aaxis\": {\"gridcolor\": \"#506784\", \"linecolor\": \"#506784\", \"ticks\": \"\"}, \"baxis\": {\"gridcolor\": \"#506784\", \"linecolor\": \"#506784\", \"ticks\": \"\"}, \"bgcolor\": \"rgb(17,17,17)\", \"caxis\": {\"gridcolor\": \"#506784\", \"linecolor\": \"#506784\", \"ticks\": \"\"}}, \"title\": {\"x\": 0.05}, \"updatemenudefaults\": {\"bgcolor\": \"#506784\", \"borderwidth\": 0}, \"xaxis\": {\"automargin\": true, \"gridcolor\": \"#283442\", \"linecolor\": \"#506784\", \"ticks\": \"\", \"title\": {\"standoff\": 15}, \"zerolinecolor\": \"#283442\", \"zerolinewidth\": 2}, \"yaxis\": {\"automargin\": true, \"gridcolor\": \"#283442\", \"linecolor\": \"#506784\", \"ticks\": \"\", \"title\": {\"standoff\": 15}, \"zerolinecolor\": \"#283442\", \"zerolinewidth\": 2}}}},                        {\"responsive\": true}                    ).then(function(){\n",
              "                            \n",
              "var gd = document.getElementById('ebf508ec-3d24-4a55-a1e6-50d149b3dec3');\n",
              "var x = new MutationObserver(function (mutations, observer) {{\n",
              "        var display = window.getComputedStyle(gd).display;\n",
              "        if (!display || display === 'none') {{\n",
              "            console.log([gd, 'removed!']);\n",
              "            Plotly.purge(gd);\n",
              "            observer.disconnect();\n",
              "        }}\n",
              "}});\n",
              "\n",
              "// Listen for the removal of the full notebook cells\n",
              "var notebookContainer = gd.closest('#notebook-container');\n",
              "if (notebookContainer) {{\n",
              "    x.observe(notebookContainer, {childList: true});\n",
              "}}\n",
              "\n",
              "// Listen for the clearing of the current output cell\n",
              "var outputEl = gd.closest('.output');\n",
              "if (outputEl) {{\n",
              "    x.observe(outputEl, {childList: true});\n",
              "}}\n",
              "\n",
              "                        })                };                            </script>        </div>\n",
              "</body>\n",
              "</html>"
            ]
          },
          "metadata": {
            "tags": []
          }
        }
      ]
    },
    {
      "cell_type": "markdown",
      "metadata": {
        "id": "bhoS7JrTo0d7"
      },
      "source": [
        "### Japan - Recoveries"
      ]
    },
    {
      "cell_type": "code",
      "metadata": {
        "id": "R5yUM2Qto9C6"
      },
      "source": [
        "pred,_,figure = cnn_predict(\"recovered\",\"Japan\")"
      ],
      "execution_count": null,
      "outputs": []
    },
    {
      "cell_type": "code",
      "metadata": {
        "colab": {
          "base_uri": "https://localhost:8080/",
          "height": 263
        },
        "id": "ozNtQ__lpBcD",
        "outputId": "d031a3fc-80ad-46ea-cc9c-df392baff1f8"
      },
      "source": [
        "pred"
      ],
      "execution_count": null,
      "outputs": [
        {
          "output_type": "execute_result",
          "data": {
            "text/html": [
              "<div>\n",
              "<style scoped>\n",
              "    .dataframe tbody tr th:only-of-type {\n",
              "        vertical-align: middle;\n",
              "    }\n",
              "\n",
              "    .dataframe tbody tr th {\n",
              "        vertical-align: top;\n",
              "    }\n",
              "\n",
              "    .dataframe thead th {\n",
              "        text-align: right;\n",
              "    }\n",
              "</style>\n",
              "<table border=\"1\" class=\"dataframe\">\n",
              "  <thead>\n",
              "    <tr style=\"text-align: right;\">\n",
              "      <th></th>\n",
              "      <th>Date</th>\n",
              "      <th>Cases</th>\n",
              "    </tr>\n",
              "  </thead>\n",
              "  <tbody>\n",
              "    <tr>\n",
              "      <th>0</th>\n",
              "      <td>29/12/2020</td>\n",
              "      <td>186687</td>\n",
              "    </tr>\n",
              "    <tr>\n",
              "      <th>1</th>\n",
              "      <td>30/12/2020</td>\n",
              "      <td>189025</td>\n",
              "    </tr>\n",
              "    <tr>\n",
              "      <th>2</th>\n",
              "      <td>31/12/2020</td>\n",
              "      <td>191448</td>\n",
              "    </tr>\n",
              "    <tr>\n",
              "      <th>3</th>\n",
              "      <td>01/01/2021</td>\n",
              "      <td>193948</td>\n",
              "    </tr>\n",
              "    <tr>\n",
              "      <th>4</th>\n",
              "      <td>02/01/2021</td>\n",
              "      <td>196280</td>\n",
              "    </tr>\n",
              "    <tr>\n",
              "      <th>5</th>\n",
              "      <td>03/01/2021</td>\n",
              "      <td>198544</td>\n",
              "    </tr>\n",
              "    <tr>\n",
              "      <th>6</th>\n",
              "      <td>04/01/2021</td>\n",
              "      <td>200780</td>\n",
              "    </tr>\n",
              "  </tbody>\n",
              "</table>\n",
              "</div>"
            ],
            "text/plain": [
              "         Date   Cases\n",
              "0  29/12/2020  186687\n",
              "1  30/12/2020  189025\n",
              "2  31/12/2020  191448\n",
              "3  01/01/2021  193948\n",
              "4  02/01/2021  196280\n",
              "5  03/01/2021  198544\n",
              "6  04/01/2021  200780"
            ]
          },
          "metadata": {
            "tags": []
          },
          "execution_count": 87
        }
      ]
    },
    {
      "cell_type": "code",
      "metadata": {
        "colab": {
          "base_uri": "https://localhost:8080/",
          "height": 542
        },
        "id": "zfInmagBpdMk",
        "outputId": "68d04741-65f1-4970-a2e0-46413fb8e53b"
      },
      "source": [
        "figure.show()"
      ],
      "execution_count": null,
      "outputs": [
        {
          "output_type": "display_data",
          "data": {
            "text/html": [
              "<html>\n",
              "<head><meta charset=\"utf-8\" /></head>\n",
              "<body>\n",
              "    <div>            <script src=\"https://cdnjs.cloudflare.com/ajax/libs/mathjax/2.7.5/MathJax.js?config=TeX-AMS-MML_SVG\"></script><script type=\"text/javascript\">if (window.MathJax) {MathJax.Hub.Config({SVG: {font: \"STIX-Web\"}});}</script>                <script type=\"text/javascript\">window.PlotlyConfig = {MathJaxConfig: 'local'};</script>\n",
              "        <script src=\"https://cdn.plot.ly/plotly-latest.min.js\"></script>                <div id=\"079c389d-1c3c-4347-9cf7-2318db7726d4\" class=\"plotly-graph-div\" style=\"height:525px; width:100%;\"></div>            <script type=\"text/javascript\">                                    window.PLOTLYENV=window.PLOTLYENV || {};                                    if (document.getElementById(\"079c389d-1c3c-4347-9cf7-2318db7726d4\")) {                    Plotly.newPlot(                        \"079c389d-1c3c-4347-9cf7-2318db7726d4\",                        [{\"mode\": \"lines\", \"name\": \"Up till now\", \"type\": \"scatter\", \"x\": [\"2020-01-26T00:00:00\", \"2020-01-27T00:00:00\", \"2020-01-28T00:00:00\", \"2020-01-29T00:00:00\", \"2020-01-30T00:00:00\", \"2020-01-31T00:00:00\", \"2020-02-01T00:00:00\", \"2020-02-02T00:00:00\", \"2020-02-03T00:00:00\", \"2020-02-04T00:00:00\", \"2020-02-05T00:00:00\", \"2020-02-06T00:00:00\", \"2020-02-07T00:00:00\", \"2020-02-08T00:00:00\", \"2020-02-09T00:00:00\", \"2020-02-10T00:00:00\", \"2020-02-11T00:00:00\", \"2020-02-12T00:00:00\", \"2020-02-13T00:00:00\", \"2020-02-14T00:00:00\", \"2020-02-15T00:00:00\", \"2020-02-16T00:00:00\", \"2020-02-17T00:00:00\", \"2020-02-18T00:00:00\", \"2020-02-19T00:00:00\", \"2020-02-20T00:00:00\", \"2020-02-21T00:00:00\", \"2020-02-22T00:00:00\", \"2020-02-23T00:00:00\", \"2020-02-24T00:00:00\", \"2020-02-25T00:00:00\", \"2020-02-26T00:00:00\", \"2020-02-27T00:00:00\", \"2020-02-28T00:00:00\", \"2020-02-29T00:00:00\", \"2020-03-01T00:00:00\", \"2020-03-02T00:00:00\", \"2020-03-03T00:00:00\", \"2020-03-04T00:00:00\", \"2020-03-05T00:00:00\", \"2020-03-06T00:00:00\", \"2020-03-07T00:00:00\", \"2020-03-08T00:00:00\", \"2020-03-09T00:00:00\", \"2020-03-10T00:00:00\", \"2020-03-11T00:00:00\", \"2020-03-12T00:00:00\", \"2020-03-13T00:00:00\", \"2020-03-14T00:00:00\", \"2020-03-15T00:00:00\", \"2020-03-16T00:00:00\", \"2020-03-17T00:00:00\", \"2020-03-18T00:00:00\", \"2020-03-19T00:00:00\", \"2020-03-20T00:00:00\", \"2020-03-21T00:00:00\", \"2020-03-22T00:00:00\", \"2020-03-23T00:00:00\", \"2020-03-24T00:00:00\", \"2020-03-25T00:00:00\", \"2020-03-26T00:00:00\", \"2020-03-27T00:00:00\", \"2020-03-28T00:00:00\", \"2020-03-29T00:00:00\", \"2020-03-30T00:00:00\", \"2020-03-31T00:00:00\", \"2020-04-01T00:00:00\", \"2020-04-02T00:00:00\", \"2020-04-03T00:00:00\", \"2020-04-04T00:00:00\", \"2020-04-05T00:00:00\", \"2020-04-06T00:00:00\", \"2020-04-07T00:00:00\", \"2020-04-08T00:00:00\", \"2020-04-09T00:00:00\", \"2020-04-10T00:00:00\", \"2020-04-11T00:00:00\", \"2020-04-12T00:00:00\", \"2020-04-13T00:00:00\", \"2020-04-14T00:00:00\", \"2020-04-15T00:00:00\", \"2020-04-16T00:00:00\", \"2020-04-17T00:00:00\", \"2020-04-18T00:00:00\", \"2020-04-19T00:00:00\", \"2020-04-20T00:00:00\", \"2020-04-21T00:00:00\", \"2020-04-22T00:00:00\", \"2020-04-23T00:00:00\", \"2020-04-24T00:00:00\", \"2020-04-25T00:00:00\", \"2020-04-26T00:00:00\", \"2020-04-27T00:00:00\", \"2020-04-28T00:00:00\", \"2020-04-29T00:00:00\", \"2020-04-30T00:00:00\", \"2020-05-01T00:00:00\", \"2020-05-02T00:00:00\", \"2020-05-03T00:00:00\", \"2020-05-04T00:00:00\", \"2020-05-05T00:00:00\", \"2020-05-06T00:00:00\", \"2020-05-07T00:00:00\", \"2020-05-08T00:00:00\", \"2020-05-09T00:00:00\", \"2020-05-10T00:00:00\", \"2020-05-11T00:00:00\", \"2020-05-12T00:00:00\", \"2020-05-13T00:00:00\", \"2020-05-14T00:00:00\", \"2020-05-15T00:00:00\", \"2020-05-16T00:00:00\", \"2020-05-17T00:00:00\", \"2020-05-18T00:00:00\", \"2020-05-19T00:00:00\", \"2020-05-20T00:00:00\", \"2020-05-21T00:00:00\", \"2020-05-22T00:00:00\", \"2020-05-23T00:00:00\", \"2020-05-24T00:00:00\", \"2020-05-25T00:00:00\", \"2020-05-26T00:00:00\", \"2020-05-27T00:00:00\", \"2020-05-28T00:00:00\", \"2020-05-29T00:00:00\", \"2020-05-30T00:00:00\", \"2020-05-31T00:00:00\", \"2020-06-01T00:00:00\", \"2020-06-02T00:00:00\", \"2020-06-03T00:00:00\", \"2020-06-04T00:00:00\", \"2020-06-05T00:00:00\", \"2020-06-06T00:00:00\", \"2020-06-07T00:00:00\", \"2020-06-08T00:00:00\", \"2020-06-09T00:00:00\", \"2020-06-10T00:00:00\", \"2020-06-11T00:00:00\", \"2020-06-12T00:00:00\", \"2020-06-13T00:00:00\", \"2020-06-14T00:00:00\", \"2020-06-15T00:00:00\", \"2020-06-16T00:00:00\", \"2020-06-17T00:00:00\", \"2020-06-18T00:00:00\", \"2020-06-19T00:00:00\", \"2020-06-20T00:00:00\", \"2020-06-21T00:00:00\", \"2020-06-22T00:00:00\", \"2020-06-23T00:00:00\", \"2020-06-24T00:00:00\", \"2020-06-25T00:00:00\", \"2020-06-26T00:00:00\", \"2020-06-27T00:00:00\", \"2020-06-28T00:00:00\", \"2020-06-29T00:00:00\", \"2020-06-30T00:00:00\", \"2020-07-01T00:00:00\", \"2020-07-02T00:00:00\", \"2020-07-03T00:00:00\", \"2020-07-04T00:00:00\", \"2020-07-05T00:00:00\", \"2020-07-06T00:00:00\", \"2020-07-07T00:00:00\", \"2020-07-08T00:00:00\", \"2020-07-09T00:00:00\", \"2020-07-10T00:00:00\", \"2020-07-11T00:00:00\", \"2020-07-12T00:00:00\", \"2020-07-13T00:00:00\", \"2020-07-14T00:00:00\", \"2020-07-15T00:00:00\", \"2020-07-16T00:00:00\", \"2020-07-17T00:00:00\", \"2020-07-18T00:00:00\", \"2020-07-19T00:00:00\", \"2020-07-20T00:00:00\", \"2020-07-21T00:00:00\", \"2020-07-22T00:00:00\", \"2020-07-23T00:00:00\", \"2020-07-24T00:00:00\", \"2020-07-25T00:00:00\", \"2020-07-26T00:00:00\", \"2020-07-27T00:00:00\", \"2020-07-28T00:00:00\", \"2020-07-29T00:00:00\", \"2020-07-30T00:00:00\", \"2020-07-31T00:00:00\", \"2020-08-01T00:00:00\", \"2020-08-02T00:00:00\", \"2020-08-03T00:00:00\", \"2020-08-04T00:00:00\", \"2020-08-05T00:00:00\", \"2020-08-06T00:00:00\", \"2020-08-07T00:00:00\", \"2020-08-08T00:00:00\", \"2020-08-09T00:00:00\", \"2020-08-10T00:00:00\", \"2020-08-11T00:00:00\", \"2020-08-12T00:00:00\", \"2020-08-13T00:00:00\", \"2020-08-14T00:00:00\", \"2020-08-15T00:00:00\", \"2020-08-16T00:00:00\", \"2020-08-17T00:00:00\", \"2020-08-18T00:00:00\", \"2020-08-19T00:00:00\", \"2020-08-20T00:00:00\", \"2020-08-21T00:00:00\", \"2020-08-22T00:00:00\", \"2020-08-23T00:00:00\", \"2020-08-24T00:00:00\", \"2020-08-25T00:00:00\", \"2020-08-26T00:00:00\", \"2020-08-27T00:00:00\", \"2020-08-28T00:00:00\", \"2020-08-29T00:00:00\", \"2020-08-30T00:00:00\", \"2020-08-31T00:00:00\", \"2020-09-01T00:00:00\", \"2020-09-02T00:00:00\", \"2020-09-03T00:00:00\", \"2020-09-04T00:00:00\", \"2020-09-05T00:00:00\", \"2020-09-06T00:00:00\", \"2020-09-07T00:00:00\", \"2020-09-08T00:00:00\", \"2020-09-09T00:00:00\", \"2020-09-10T00:00:00\", \"2020-09-11T00:00:00\", \"2020-09-12T00:00:00\", \"2020-09-13T00:00:00\", \"2020-09-14T00:00:00\", \"2020-09-15T00:00:00\", \"2020-09-16T00:00:00\", \"2020-09-17T00:00:00\", \"2020-09-18T00:00:00\", \"2020-09-19T00:00:00\", \"2020-09-20T00:00:00\", \"2020-09-21T00:00:00\", \"2020-09-22T00:00:00\", \"2020-09-23T00:00:00\", \"2020-09-24T00:00:00\", \"2020-09-25T00:00:00\", \"2020-09-26T00:00:00\", \"2020-09-27T00:00:00\", \"2020-09-28T00:00:00\", \"2020-09-29T00:00:00\", \"2020-09-30T00:00:00\", \"2020-10-01T00:00:00\", \"2020-10-02T00:00:00\", \"2020-10-03T00:00:00\", \"2020-10-04T00:00:00\", \"2020-10-05T00:00:00\", \"2020-10-06T00:00:00\", \"2020-10-07T00:00:00\", \"2020-10-08T00:00:00\", \"2020-10-09T00:00:00\", \"2020-10-10T00:00:00\", \"2020-10-11T00:00:00\", \"2020-10-12T00:00:00\", \"2020-10-13T00:00:00\", \"2020-10-14T00:00:00\", \"2020-10-15T00:00:00\", \"2020-10-16T00:00:00\", \"2020-10-17T00:00:00\", \"2020-10-18T00:00:00\", \"2020-10-19T00:00:00\", \"2020-10-20T00:00:00\", \"2020-10-21T00:00:00\", \"2020-10-22T00:00:00\", \"2020-10-23T00:00:00\", \"2020-10-24T00:00:00\", \"2020-10-25T00:00:00\", \"2020-10-26T00:00:00\", \"2020-10-27T00:00:00\", \"2020-10-28T00:00:00\", \"2020-10-29T00:00:00\", \"2020-10-30T00:00:00\", \"2020-10-31T00:00:00\", \"2020-11-01T00:00:00\", \"2020-11-02T00:00:00\", \"2020-11-03T00:00:00\", \"2020-11-04T00:00:00\", \"2020-11-05T00:00:00\", \"2020-11-06T00:00:00\", \"2020-11-07T00:00:00\", \"2020-11-08T00:00:00\", \"2020-11-09T00:00:00\", \"2020-11-10T00:00:00\", \"2020-11-11T00:00:00\", \"2020-11-12T00:00:00\", \"2020-11-13T00:00:00\", \"2020-11-14T00:00:00\", \"2020-11-15T00:00:00\", \"2020-11-16T00:00:00\", \"2020-11-17T00:00:00\", \"2020-11-18T00:00:00\", \"2020-11-19T00:00:00\", \"2020-11-20T00:00:00\", \"2020-11-21T00:00:00\", \"2020-11-22T00:00:00\", \"2020-11-23T00:00:00\", \"2020-11-24T00:00:00\", \"2020-11-25T00:00:00\", \"2020-11-26T00:00:00\", \"2020-11-27T00:00:00\", \"2020-11-28T00:00:00\", \"2020-11-29T00:00:00\", \"2020-11-30T00:00:00\", \"2020-12-01T00:00:00\", \"2020-12-02T00:00:00\", \"2020-12-03T00:00:00\", \"2020-12-04T00:00:00\", \"2020-12-05T00:00:00\", \"2020-12-06T00:00:00\", \"2020-12-07T00:00:00\", \"2020-12-08T00:00:00\", \"2020-12-09T00:00:00\", \"2020-12-10T00:00:00\", \"2020-12-11T00:00:00\", \"2020-12-12T00:00:00\", \"2020-12-13T00:00:00\", \"2020-12-14T00:00:00\", \"2020-12-15T00:00:00\", \"2020-12-16T00:00:00\", \"2020-12-17T00:00:00\", \"2020-12-18T00:00:00\", \"2020-12-19T00:00:00\", \"2020-12-20T00:00:00\", \"2020-12-21T00:00:00\", \"2020-12-22T00:00:00\", \"2020-12-23T00:00:00\", \"2020-12-24T00:00:00\", \"2020-12-25T00:00:00\", \"2020-12-26T00:00:00\", \"2020-12-27T00:00:00\", \"2020-12-28T00:00:00\"], \"y\": [1, 1, 1, 1, 1, 1, 1, 1, 1, 1, 1, 1, 1, 1, 1, 4, 9, 9, 9, 9, 12, 12, 12, 13, 18, 18, 22, 22, 22, 22, 22, 22, 22, 22, 32, 32, 32, 43, 43, 43, 46, 76, 76, 76, 101, 118, 118, 118, 118, 118, 144, 144, 144, 150, 191, 232, 235, 235, 285, 310, 359, 372, 404, 424, 424, 424, 472, 472, 514, 514, 514, 575, 592, 622, 632, 685, 762, 762, 784, 799, 853, 901, 935, 1069, 1159, 1159, 1239, 1356, 1494, 1530, 1656, 1809, 1899, 1899, 2368, 2460, 2975, 3205, 3981, 4156, 4496, 4496, 4918, 5146, 5906, 8127, 8293, 8531, 8920, 9868, 10338, 10338, 11153, 11564, 11564, 11564, 12672, 13005, 13244, 13413, 13612, 13810, 13973, 14096, 14213, 14267, 14342, 14463, 14585, 14702, 14785, 14925, 14927, 14990, 15043, 15141, 15217, 15233, 15362, 15458, 15514, 15567, 15652, 15753, 15753, 15844, 15948, 15948, 15957, 16096, 16101, 16142, 16224, 16293, 16327, 16388, 16458, 16563, 16615, 16721, 16832, 16870, 17007, 17057, 17057, 17412, 17494, 17494, 17845, 18058, 18126, 18126, 18641, 18944, 19211, 19211, 19603, 20001, 20482, 20878, 21173, 21464, 21606, 21970, 22636, 23351, 24024, 24774, 25347, 25748, 26476, 27187, 28020, 28858, 30241, 31248, 32867, 33450, 34136, 34969, 36191, 35498, 39439, 40560, 41591, 42965, 43786, 45110, 46264, 47418, 48319, 49089, 50092, 51407, 52542, 53691, 54883, 55700, 56338, 57503, 58108, 58200, 60093, 61099, 61730, 62190, 62936, 63734, 64489, 65244, 65934, 66524, 66901, 66901, 68110, 68827, 69468, 70051, 70604, 70970, 71214, 71547, 72066, 73016, 73677, 73677, 74495, 74962, 75522, 76081, 76700, 76700, 77851, 78071, 78521, 79123, 79674, 80140, 80798, 81266, 81552, 82063, 82576, 83272, 83882, 84461, 84461, 85310, 85867, 86429, 87022, 87600, 88138, 88610, 89031, 89465, 90118, 90624, 91184, 89765, 92250, 92673, 93133, 93564, 94376, 95010, 95703, 96430, 96684, 98487, 98305, 99282, 100197, 101162, 91954, 102810, 103778, 104837, 106074, 107521, 108981, 110273, 111343, 112385, 114569, 116222, 117709, 120103, 121735, 127289, 125304, 127148, 129085, 131020, 133287, 135121, 136747, 138838, 140466, 142850, 144858, 147368, 149130, 150791, 153363, 155391, 158131, 160630, 163152, 165177, 167357, 169186, 171959, 174723, 177637, 180032, 182440, 184506]}, {\"mode\": \"lines\", \"name\": \"Predictions*\", \"type\": \"scatter\", \"x\": [\"2020-12-29T00:00:00\", \"2020-12-30T00:00:00\", \"2020-12-31T00:00:00\", \"2021-01-01T00:00:00\", \"2021-01-02T00:00:00\", \"2021-01-03T00:00:00\", \"2021-01-04T00:00:00\", \"2021-01-05T00:00:00\", \"2021-01-06T00:00:00\", \"2021-01-07T00:00:00\", \"2021-01-08T00:00:00\", \"2021-01-09T00:00:00\", \"2021-01-10T00:00:00\", \"2021-01-11T00:00:00\"], \"y\": [186687, 189025, 191448, 193948, 196280, 198544, 200780, 203090, 205297, 207525, 209701, 211863, 213966, 216075]}],                        {\"template\": {\"data\": {\"bar\": [{\"error_x\": {\"color\": \"#f2f5fa\"}, \"error_y\": {\"color\": \"#f2f5fa\"}, \"marker\": {\"line\": {\"color\": \"rgb(17,17,17)\", \"width\": 0.5}}, \"type\": \"bar\"}], \"barpolar\": [{\"marker\": {\"line\": {\"color\": \"rgb(17,17,17)\", \"width\": 0.5}}, \"type\": \"barpolar\"}], \"carpet\": [{\"aaxis\": {\"endlinecolor\": \"#A2B1C6\", \"gridcolor\": \"#506784\", \"linecolor\": \"#506784\", \"minorgridcolor\": \"#506784\", \"startlinecolor\": \"#A2B1C6\"}, \"baxis\": {\"endlinecolor\": \"#A2B1C6\", \"gridcolor\": \"#506784\", \"linecolor\": \"#506784\", \"minorgridcolor\": \"#506784\", \"startlinecolor\": \"#A2B1C6\"}, \"type\": \"carpet\"}], \"choropleth\": [{\"colorbar\": {\"outlinewidth\": 0, \"ticks\": \"\"}, \"type\": \"choropleth\"}], \"contour\": [{\"colorbar\": {\"outlinewidth\": 0, \"ticks\": \"\"}, \"colorscale\": [[0.0, \"#0d0887\"], [0.1111111111111111, \"#46039f\"], [0.2222222222222222, \"#7201a8\"], [0.3333333333333333, \"#9c179e\"], [0.4444444444444444, \"#bd3786\"], [0.5555555555555556, \"#d8576b\"], [0.6666666666666666, \"#ed7953\"], [0.7777777777777778, \"#fb9f3a\"], [0.8888888888888888, \"#fdca26\"], [1.0, \"#f0f921\"]], \"type\": \"contour\"}], \"contourcarpet\": [{\"colorbar\": {\"outlinewidth\": 0, \"ticks\": \"\"}, \"type\": \"contourcarpet\"}], \"heatmap\": [{\"colorbar\": {\"outlinewidth\": 0, \"ticks\": \"\"}, \"colorscale\": [[0.0, \"#0d0887\"], [0.1111111111111111, \"#46039f\"], [0.2222222222222222, \"#7201a8\"], [0.3333333333333333, \"#9c179e\"], [0.4444444444444444, \"#bd3786\"], [0.5555555555555556, \"#d8576b\"], [0.6666666666666666, \"#ed7953\"], [0.7777777777777778, \"#fb9f3a\"], [0.8888888888888888, \"#fdca26\"], [1.0, \"#f0f921\"]], \"type\": \"heatmap\"}], \"heatmapgl\": [{\"colorbar\": {\"outlinewidth\": 0, \"ticks\": \"\"}, \"colorscale\": [[0.0, \"#0d0887\"], [0.1111111111111111, \"#46039f\"], [0.2222222222222222, \"#7201a8\"], [0.3333333333333333, \"#9c179e\"], [0.4444444444444444, \"#bd3786\"], [0.5555555555555556, \"#d8576b\"], [0.6666666666666666, \"#ed7953\"], [0.7777777777777778, \"#fb9f3a\"], [0.8888888888888888, \"#fdca26\"], [1.0, \"#f0f921\"]], \"type\": \"heatmapgl\"}], \"histogram\": [{\"marker\": {\"colorbar\": {\"outlinewidth\": 0, \"ticks\": \"\"}}, \"type\": \"histogram\"}], \"histogram2d\": [{\"colorbar\": {\"outlinewidth\": 0, \"ticks\": \"\"}, \"colorscale\": [[0.0, \"#0d0887\"], [0.1111111111111111, \"#46039f\"], [0.2222222222222222, \"#7201a8\"], [0.3333333333333333, \"#9c179e\"], [0.4444444444444444, \"#bd3786\"], [0.5555555555555556, \"#d8576b\"], [0.6666666666666666, \"#ed7953\"], [0.7777777777777778, \"#fb9f3a\"], [0.8888888888888888, \"#fdca26\"], [1.0, \"#f0f921\"]], \"type\": \"histogram2d\"}], \"histogram2dcontour\": [{\"colorbar\": {\"outlinewidth\": 0, \"ticks\": \"\"}, \"colorscale\": [[0.0, \"#0d0887\"], [0.1111111111111111, \"#46039f\"], [0.2222222222222222, \"#7201a8\"], [0.3333333333333333, \"#9c179e\"], [0.4444444444444444, \"#bd3786\"], [0.5555555555555556, \"#d8576b\"], [0.6666666666666666, \"#ed7953\"], [0.7777777777777778, \"#fb9f3a\"], [0.8888888888888888, \"#fdca26\"], [1.0, \"#f0f921\"]], \"type\": \"histogram2dcontour\"}], \"mesh3d\": [{\"colorbar\": {\"outlinewidth\": 0, \"ticks\": \"\"}, \"type\": \"mesh3d\"}], \"parcoords\": [{\"line\": {\"colorbar\": {\"outlinewidth\": 0, \"ticks\": \"\"}}, \"type\": \"parcoords\"}], \"pie\": [{\"automargin\": true, \"type\": \"pie\"}], \"scatter\": [{\"marker\": {\"line\": {\"color\": \"#283442\"}}, \"type\": \"scatter\"}], \"scatter3d\": [{\"line\": {\"colorbar\": {\"outlinewidth\": 0, \"ticks\": \"\"}}, \"marker\": {\"colorbar\": {\"outlinewidth\": 0, \"ticks\": \"\"}}, \"type\": \"scatter3d\"}], \"scattercarpet\": [{\"marker\": {\"colorbar\": {\"outlinewidth\": 0, \"ticks\": \"\"}}, \"type\": \"scattercarpet\"}], \"scattergeo\": [{\"marker\": {\"colorbar\": {\"outlinewidth\": 0, \"ticks\": \"\"}}, \"type\": \"scattergeo\"}], \"scattergl\": [{\"marker\": {\"line\": {\"color\": \"#283442\"}}, \"type\": \"scattergl\"}], \"scattermapbox\": [{\"marker\": {\"colorbar\": {\"outlinewidth\": 0, \"ticks\": \"\"}}, \"type\": \"scattermapbox\"}], \"scatterpolar\": [{\"marker\": {\"colorbar\": {\"outlinewidth\": 0, \"ticks\": \"\"}}, \"type\": \"scatterpolar\"}], \"scatterpolargl\": [{\"marker\": {\"colorbar\": {\"outlinewidth\": 0, \"ticks\": \"\"}}, \"type\": \"scatterpolargl\"}], \"scatterternary\": [{\"marker\": {\"colorbar\": {\"outlinewidth\": 0, \"ticks\": \"\"}}, \"type\": \"scatterternary\"}], \"surface\": [{\"colorbar\": {\"outlinewidth\": 0, \"ticks\": \"\"}, \"colorscale\": [[0.0, \"#0d0887\"], [0.1111111111111111, \"#46039f\"], [0.2222222222222222, \"#7201a8\"], [0.3333333333333333, \"#9c179e\"], [0.4444444444444444, \"#bd3786\"], [0.5555555555555556, \"#d8576b\"], [0.6666666666666666, \"#ed7953\"], [0.7777777777777778, \"#fb9f3a\"], [0.8888888888888888, \"#fdca26\"], [1.0, \"#f0f921\"]], \"type\": \"surface\"}], \"table\": [{\"cells\": {\"fill\": {\"color\": \"#506784\"}, \"line\": {\"color\": \"rgb(17,17,17)\"}}, \"header\": {\"fill\": {\"color\": \"#2a3f5f\"}, \"line\": {\"color\": \"rgb(17,17,17)\"}}, \"type\": \"table\"}]}, \"layout\": {\"annotationdefaults\": {\"arrowcolor\": \"#f2f5fa\", \"arrowhead\": 0, \"arrowwidth\": 1}, \"autotypenumbers\": \"strict\", \"coloraxis\": {\"colorbar\": {\"outlinewidth\": 0, \"ticks\": \"\"}}, \"colorscale\": {\"diverging\": [[0, \"#8e0152\"], [0.1, \"#c51b7d\"], [0.2, \"#de77ae\"], [0.3, \"#f1b6da\"], [0.4, \"#fde0ef\"], [0.5, \"#f7f7f7\"], [0.6, \"#e6f5d0\"], [0.7, \"#b8e186\"], [0.8, \"#7fbc41\"], [0.9, \"#4d9221\"], [1, \"#276419\"]], \"sequential\": [[0.0, \"#0d0887\"], [0.1111111111111111, \"#46039f\"], [0.2222222222222222, \"#7201a8\"], [0.3333333333333333, \"#9c179e\"], [0.4444444444444444, \"#bd3786\"], [0.5555555555555556, \"#d8576b\"], [0.6666666666666666, \"#ed7953\"], [0.7777777777777778, \"#fb9f3a\"], [0.8888888888888888, \"#fdca26\"], [1.0, \"#f0f921\"]], \"sequentialminus\": [[0.0, \"#0d0887\"], [0.1111111111111111, \"#46039f\"], [0.2222222222222222, \"#7201a8\"], [0.3333333333333333, \"#9c179e\"], [0.4444444444444444, \"#bd3786\"], [0.5555555555555556, \"#d8576b\"], [0.6666666666666666, \"#ed7953\"], [0.7777777777777778, \"#fb9f3a\"], [0.8888888888888888, \"#fdca26\"], [1.0, \"#f0f921\"]]}, \"colorway\": [\"#636efa\", \"#EF553B\", \"#00cc96\", \"#ab63fa\", \"#FFA15A\", \"#19d3f3\", \"#FF6692\", \"#B6E880\", \"#FF97FF\", \"#FECB52\"], \"font\": {\"color\": \"#f2f5fa\"}, \"geo\": {\"bgcolor\": \"rgb(17,17,17)\", \"lakecolor\": \"rgb(17,17,17)\", \"landcolor\": \"rgb(17,17,17)\", \"showlakes\": true, \"showland\": true, \"subunitcolor\": \"#506784\"}, \"hoverlabel\": {\"align\": \"left\"}, \"hovermode\": \"closest\", \"mapbox\": {\"style\": \"dark\"}, \"paper_bgcolor\": \"rgb(17,17,17)\", \"plot_bgcolor\": \"rgb(17,17,17)\", \"polar\": {\"angularaxis\": {\"gridcolor\": \"#506784\", \"linecolor\": \"#506784\", \"ticks\": \"\"}, \"bgcolor\": \"rgb(17,17,17)\", \"radialaxis\": {\"gridcolor\": \"#506784\", \"linecolor\": \"#506784\", \"ticks\": \"\"}}, \"scene\": {\"xaxis\": {\"backgroundcolor\": \"rgb(17,17,17)\", \"gridcolor\": \"#506784\", \"gridwidth\": 2, \"linecolor\": \"#506784\", \"showbackground\": true, \"ticks\": \"\", \"zerolinecolor\": \"#C8D4E3\"}, \"yaxis\": {\"backgroundcolor\": \"rgb(17,17,17)\", \"gridcolor\": \"#506784\", \"gridwidth\": 2, \"linecolor\": \"#506784\", \"showbackground\": true, \"ticks\": \"\", \"zerolinecolor\": \"#C8D4E3\"}, \"zaxis\": {\"backgroundcolor\": \"rgb(17,17,17)\", \"gridcolor\": \"#506784\", \"gridwidth\": 2, \"linecolor\": \"#506784\", \"showbackground\": true, \"ticks\": \"\", \"zerolinecolor\": \"#C8D4E3\"}}, \"shapedefaults\": {\"line\": {\"color\": \"#f2f5fa\"}}, \"sliderdefaults\": {\"bgcolor\": \"#C8D4E3\", \"bordercolor\": \"rgb(17,17,17)\", \"borderwidth\": 1, \"tickwidth\": 0}, \"ternary\": {\"aaxis\": {\"gridcolor\": \"#506784\", \"linecolor\": \"#506784\", \"ticks\": \"\"}, \"baxis\": {\"gridcolor\": \"#506784\", \"linecolor\": \"#506784\", \"ticks\": \"\"}, \"bgcolor\": \"rgb(17,17,17)\", \"caxis\": {\"gridcolor\": \"#506784\", \"linecolor\": \"#506784\", \"ticks\": \"\"}}, \"title\": {\"x\": 0.05}, \"updatemenudefaults\": {\"bgcolor\": \"#506784\", \"borderwidth\": 0}, \"xaxis\": {\"automargin\": true, \"gridcolor\": \"#283442\", \"linecolor\": \"#506784\", \"ticks\": \"\", \"title\": {\"standoff\": 15}, \"zerolinecolor\": \"#283442\", \"zerolinewidth\": 2}, \"yaxis\": {\"automargin\": true, \"gridcolor\": \"#283442\", \"linecolor\": \"#506784\", \"ticks\": \"\", \"title\": {\"standoff\": 15}, \"zerolinecolor\": \"#283442\", \"zerolinewidth\": 2}}}},                        {\"responsive\": true}                    ).then(function(){\n",
              "                            \n",
              "var gd = document.getElementById('079c389d-1c3c-4347-9cf7-2318db7726d4');\n",
              "var x = new MutationObserver(function (mutations, observer) {{\n",
              "        var display = window.getComputedStyle(gd).display;\n",
              "        if (!display || display === 'none') {{\n",
              "            console.log([gd, 'removed!']);\n",
              "            Plotly.purge(gd);\n",
              "            observer.disconnect();\n",
              "        }}\n",
              "}});\n",
              "\n",
              "// Listen for the removal of the full notebook cells\n",
              "var notebookContainer = gd.closest('#notebook-container');\n",
              "if (notebookContainer) {{\n",
              "    x.observe(notebookContainer, {childList: true});\n",
              "}}\n",
              "\n",
              "// Listen for the clearing of the current output cell\n",
              "var outputEl = gd.closest('.output');\n",
              "if (outputEl) {{\n",
              "    x.observe(outputEl, {childList: true});\n",
              "}}\n",
              "\n",
              "                        })                };                            </script>        </div>\n",
              "</body>\n",
              "</html>"
            ]
          },
          "metadata": {
            "tags": []
          }
        }
      ]
    }
  ]
}