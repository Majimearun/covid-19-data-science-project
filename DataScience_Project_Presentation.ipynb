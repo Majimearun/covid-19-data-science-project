{
  "nbformat": 4,
  "nbformat_minor": 0,
  "metadata": {
    "colab": {
      "name": "covid.ipynb",
      "provenance": [],
      "collapsed_sections": [
        "HYouTduUPxTu",
        "hptYPhk-PxTu",
        "_rPg98r4PxTw",
        "6UZMxq1nPxTw",
        "Mr8nesFSPxTw",
        "ljLM6yjTPxTx",
        "1UXIRY03PxTx",
        "EnBDFC0UPxTx",
        "G4I6OANkPxTy",
        "Of7AckAkPxTz",
        "kM27SaxmPxT0",
        "4rQs2VJ1PxT6",
        "nwqYlBiVPxT6"
      ],
      "toc_visible": true
    },
    "kernelspec": {
      "display_name": "Python 3",
      "language": "python",
      "name": "python3"
    },
    "language_info": {
      "codemirror_mode": {
        "name": "ipython",
        "version": 3
      },
      "file_extension": ".py",
      "mimetype": "text/x-python",
      "name": "python",
      "nbconvert_exporter": "python",
      "pygments_lexer": "ipython3",
      "version": "3.7.8"
    }
  },
  "cells": [
    {
      "cell_type": "markdown",
      "metadata": {
        "id": "3eLCS2Q0mj1i"
      },
      "source": [
        "### Note\r\n",
        "If you are running all cells at one go please fill up the credentials further down"
      ]
    },
    {
      "cell_type": "markdown",
      "metadata": {
        "id": "4JRx7UCBPxTn"
      },
      "source": [
        "# Imports"
      ]
    },
    {
      "cell_type": "code",
      "metadata": {
        "id": "QCab0kMdPxTo"
      },
      "source": [
        "# Additional Installations For Google Colab\n",
        "\n",
        "!pip install TSErrors\n",
        "!pip install chart_studio\n",
        "!pip install plotly -U"
      ],
      "execution_count": null,
      "outputs": []
    },
    {
      "cell_type": "code",
      "metadata": {
        "id": "TwLU8bOGPxTo"
      },
      "source": [
        "import pandas as pd\n",
        "\n",
        "import numpy as np\n",
        "\n",
        "import plotly.express as px\n",
        "import plotly.graph_objects as go\n",
        "import chart_studio.plotly as py\n",
        "import chart_studio\n",
        "\n",
        "import requests\n",
        "\n",
        "from collections import Counter\n",
        "from TSErrors import FindErrors\n",
        "\n",
        "from sklearn.model_selection import ParameterGrid\n",
        "\n",
        "from keras.models import Sequential\n",
        "from keras.layers.convolutional import Conv1D, MaxPooling1D\n",
        "from keras.layers import Dense, Flatten\n",
        "\n",
        "from datetime import datetime\n",
        "from datetime import date\n",
        "\n",
        "from math import log\n",
        "from math import e\n",
        "\n",
        "from itertools import chain\n",
        "\n",
        "import warnings\n",
        "warnings.simplefilter(\"ignore\")"
      ],
      "execution_count": null,
      "outputs": []
    },
    {
      "cell_type": "markdown",
      "metadata": {
        "id": "Bun-pz1GPxTo"
      },
      "source": [
        "# Data Pre-Processing"
      ]
    },
    {
      "cell_type": "markdown",
      "metadata": {
        "id": "hUxUb581PxTp"
      },
      "source": [
        "## Getting The Data "
      ]
    },
    {
      "cell_type": "code",
      "metadata": {
        "id": "2OpsxjKEPxTp"
      },
      "source": [
        "# Data from the John Hopkins University Dataset on GitHub\n",
        "# https://github.com/CSSEGISandData/COVID-19/tree/master/csse_covid_19_data/csse_covid_19_time_series\n",
        "\n",
        "# Defining the variables required\n",
        "filenames = ['time_series_covid19_confirmed_global.csv',\n",
        "             'time_series_covid19_deaths_global.csv',\n",
        "             'time_series_covid19_recovered_global.csv']\n",
        "\n",
        "url = 'https://raw.githubusercontent.com/CSSEGISandData/COVID-19/master/csse_covid_19_data/csse_covid_19_time_series/'\n",
        "\n",
        "# Making the main dataframes required for the analysis\n",
        "confirmed_global = pd.read_csv(url + filenames[0])\n",
        "deaths_global = pd.read_csv(url + filenames[1])\n",
        "recovered_global = pd.read_csv(url + filenames[2])\n",
        "country_cases = pd.read_csv('https://raw.githubusercontent.com/CSSEGISandData/COVID-19/web-data/data/cases_country.csv')"
      ],
      "execution_count": null,
      "outputs": []
    },
    {
      "cell_type": "markdown",
      "metadata": {
        "id": "zye8p_9iPxTp"
      },
      "source": [
        "## Data Cleaning"
      ]
    },
    {
      "cell_type": "code",
      "metadata": {
        "id": "80iMplFVPxTp"
      },
      "source": [
        "# Simple Data Cleaning - Removing and renaming the Columns\n",
        "\n",
        "# Removing the Province/State column, as it is pretty much not of any use\n",
        "confirmed_global.drop(columns = ['Province/State', 'Lat', 'Long'], inplace = True)\n",
        "deaths_global.drop(columns = ['Province/State', 'Lat', 'Long'], inplace = True)\n",
        "recovered_global.drop(columns = ['Province/State', 'Lat', 'Long'], inplace = True)\n",
        "country_cases.drop(columns = [\"People_Tested\",\"People_Hospitalized\"],inplace = True)\n",
        "\n",
        "# Renaming the columns for easier access\n",
        "confirmed_global.rename(columns = {\"Country/Region\": \"country\"}, inplace = True)\n",
        "deaths_global.rename(columns = {\"Country/Region\": \"country\"}, inplace = True)\n",
        "recovered_global.rename(columns = {\"Country/Region\": \"country\"}, inplace = True)\n",
        "\n",
        "country_cases.rename(columns = {\n",
        "    \"Country_Region\" : \"country\",\n",
        "    \"Last_Update\": \"last\",\n",
        "    \"Confirmed\": \"confirmed\",\n",
        "    \"Deaths\": \"deaths\",\n",
        "    \"Recovered\" : \"recovered\",\n",
        "    \"Active\" : \"active\",\n",
        "    \"Mortality_Rate\": \"mortality\"\n",
        "}, inplace = True)"
      ],
      "execution_count": null,
      "outputs": []
    },
    {
      "cell_type": "code",
      "metadata": {
        "id": "SXnilTWvPxTq"
      },
      "source": [
        "# Removing some duplicate values from the table\n",
        "confirmed_global = confirmed_global.groupby(['country'], as_index = False).sum()\n",
        "deaths_global = deaths_global.groupby(['country'], as_index = False).sum()\n",
        "recovered_global = recovered_global.groupby(['country'], as_index = False).sum()"
      ],
      "execution_count": null,
      "outputs": []
    },
    {
      "cell_type": "code",
      "metadata": {
        "id": "RZ6CaztRPxTq"
      },
      "source": [
        "country_cases_sorted = country_cases.sort_values(\"confirmed\", ascending=False)\n",
        "country_cases_sorted.index = [x for x in range(len(country_cases_sorted))]"
      ],
      "execution_count": null,
      "outputs": []
    },
    {
      "cell_type": "markdown",
      "metadata": {
        "id": "26qLemRFPxTq"
      },
      "source": [
        "## Error Corrections"
      ]
    },
    {
      "cell_type": "code",
      "metadata": {
        "id": "kBCrrXWhPxTq"
      },
      "source": [
        "# This value is being changed as there was an error in the original dataset that had to be modified\n",
        "confirmed_global.at[178, '5/20/20'] = 251667"
      ],
      "execution_count": null,
      "outputs": []
    },
    {
      "cell_type": "markdown",
      "metadata": {
        "id": "h10ypCWnPxTr"
      },
      "source": [
        "## DataFrames"
      ]
    },
    {
      "cell_type": "code",
      "metadata": {
        "id": "LWpaolcnPxTr"
      },
      "source": [
        "confirmed_global.head()"
      ],
      "execution_count": null,
      "outputs": []
    },
    {
      "cell_type": "code",
      "metadata": {
        "id": "9Bd0oczePxTr"
      },
      "source": [
        "deaths_global.head()"
      ],
      "execution_count": null,
      "outputs": []
    },
    {
      "cell_type": "code",
      "metadata": {
        "id": "VtlasGqFPxTr"
      },
      "source": [
        "recovered_global.head()"
      ],
      "execution_count": null,
      "outputs": []
    },
    {
      "cell_type": "code",
      "metadata": {
        "id": "lmhfQcgJPxTs"
      },
      "source": [
        "country_cases_sorted.head()"
      ],
      "execution_count": null,
      "outputs": []
    },
    {
      "cell_type": "markdown",
      "metadata": {
        "id": "Z_hMBs6qPxTs"
      },
      "source": [
        "# Data Visualization - General Graphs"
      ]
    },
    {
      "cell_type": "markdown",
      "metadata": {
        "id": "Fdwk43aVPxTs"
      },
      "source": [
        "## Timeseries"
      ]
    },
    {
      "cell_type": "markdown",
      "metadata": {
        "id": "aHPYGFM0PxTs"
      },
      "source": [
        "### Code"
      ]
    },
    {
      "cell_type": "code",
      "metadata": {
        "id": "VEO8b2bZPxTs"
      },
      "source": [
        "def get_new_cases(country):\n",
        "    time_series = confirmed_global.melt(\n",
        "        id_vars=[\"country\"], var_name=\"date\", value_name=\"cases\"\n",
        "    )\n",
        "    time_series = time_series[time_series[\"country\"] == country]\n",
        "    time_series = time_series.drop([\"country\"], axis=1)\n",
        "    time_series.index = [x for x in range(len(time_series))]\n",
        "    return time_series"
      ],
      "execution_count": null,
      "outputs": []
    },
    {
      "cell_type": "code",
      "metadata": {
        "id": "at_mY-P8PxTt"
      },
      "source": [
        "def get_new_deaths(country):\n",
        "    time_series = deaths_global.melt(\n",
        "        id_vars=[\"country\"], var_name=\"date\", value_name=\"cases\"\n",
        "    )\n",
        "    time_series = time_series[time_series[\"country\"] == country]\n",
        "    time_series = time_series.drop([\"country\"], axis=1)\n",
        "    time_series.index = [x for x in range(len(time_series))]\n",
        "    return time_series"
      ],
      "execution_count": null,
      "outputs": []
    },
    {
      "cell_type": "code",
      "metadata": {
        "id": "es50uMx2PxTt"
      },
      "source": [
        "def get_new_recoveries(country):\n",
        "    time_series = recovered_global.melt(\n",
        "        id_vars=[\"country\"], var_name=\"date\", value_name=\"cases\"\n",
        "    )\n",
        "    time_series = time_series[time_series[\"country\"] == country]\n",
        "    time_series = time_series.drop([\"country\"], axis=1)\n",
        "    time_series.index = [x for x in range(len(time_series))]\n",
        "    return time_series"
      ],
      "execution_count": null,
      "outputs": []
    },
    {
      "cell_type": "code",
      "metadata": {
        "id": "2JW7KWAnPxTt"
      },
      "source": [
        "def get_plot(time_series,name):\n",
        "    color = \"#f54842\" if \"deaths\" in name else \"#45a2ff\" if \"cases\" in name else \"#42f587\"\n",
        "    fig = px.bar(time_series, x=\"date\", y=\"cases\",color_discrete_sequence= [color]*len(time_series))\n",
        "    return fig"
      ],
      "execution_count": null,
      "outputs": []
    },
    {
      "cell_type": "code",
      "metadata": {
        "id": "9TF0kPrzPxTt"
      },
      "source": [
        "def plot_timeseries(country_name, func_name, title,n = -90,daily = False):\n",
        "    if not daily:\n",
        "      new_confirmed_cases = func_name(country_name)[n:]\n",
        "    else:\n",
        "      confirmed_cases = func_name(country_name)\n",
        "      cases = confirmed_cases[\"cases\"].diff()[1:]\n",
        "      new_confirmed_cases = confirmed_cases[1:]\n",
        "      new_confirmed_cases[\"cases\"] = cases\n",
        "      new_confirmed_cases = new_confirmed_cases[n:]\n",
        "    fig = get_plot(new_confirmed_cases,str(func_name))\n",
        "    fig.update_layout(\n",
        "        template = 'plotly_dark',\n",
        "        title=title,\n",
        "        xaxis_title=\"Date\",\n",
        "        yaxis_title=f'Number of {\"deaths\" if \"deaths\" in title else \"new cases\"}',\n",
        "    )\n",
        "    return fig"
      ],
      "execution_count": null,
      "outputs": []
    },
    {
      "cell_type": "markdown",
      "metadata": {
        "id": "H0ghB7uqPxTt"
      },
      "source": [
        "### Examples"
      ]
    },
    {
      "cell_type": "markdown",
      "metadata": {
        "id": "oJ5gqnZyPxTt"
      },
      "source": [
        "#### US - Confirmed Cases"
      ]
    },
    {
      "cell_type": "code",
      "metadata": {
        "id": "eTv-z6jIPxTu"
      },
      "source": [
        "plot_timeseries(\"US\", get_new_cases, \"Confirmed Cases\")"
      ],
      "execution_count": null,
      "outputs": []
    },
    {
      "cell_type": "markdown",
      "metadata": {
        "id": "XYay6BUjPxTu"
      },
      "source": [
        "#### India - Recoveries (Daily: Last month)"
      ]
    },
    {
      "cell_type": "code",
      "metadata": {
        "id": "Bt6M6H3UPxTu"
      },
      "source": [
        "plot_timeseries(\"India\", get_new_recoveries, \"Recoveries\",n = -30,daily = True)"
      ],
      "execution_count": null,
      "outputs": []
    },
    {
      "cell_type": "markdown",
      "metadata": {
        "id": "HYouTduUPxTu"
      },
      "source": [
        "## Inter-Country : Line Plot"
      ]
    },
    {
      "cell_type": "markdown",
      "metadata": {
        "id": "hptYPhk-PxTu"
      },
      "source": [
        "### Code"
      ]
    },
    {
      "cell_type": "code",
      "metadata": {
        "id": "O6gZsFaEPxTv"
      },
      "source": [
        "def unpivot(df):\n",
        "   return df.melt(id_vars = [\"country\"],  value_vars = df.columns[1:])"
      ],
      "execution_count": null,
      "outputs": []
    },
    {
      "cell_type": "code",
      "metadata": {
        "id": "yqhgGVAuPxTv"
      },
      "source": [
        "def compare(df,*args):\n",
        "  l = list(args)\n",
        "  temp = unpivot(df)\n",
        "  return temp[temp[\"country\"].isin(l)]"
      ],
      "execution_count": null,
      "outputs": []
    },
    {
      "cell_type": "code",
      "metadata": {
        "id": "Am7j4ZapPxTv"
      },
      "source": [
        "def create_data(df):\n",
        "  new = df\n",
        "  l = list(set(new[\"variable\"]))\n",
        "  l.sort()\n",
        "  l.reverse()\n",
        "  ff= new[new['variable'].isin(l[::5])]\n",
        "  ff.rename(columns = {\"country\": \"Country\",\"variable\" : \"Date\",\"value\": \"Cases\"}, inplace = True)\n",
        "  return ff"
      ],
      "execution_count": null,
      "outputs": []
    },
    {
      "cell_type": "code",
      "metadata": {
        "id": "y-dniv7FPxTv"
      },
      "source": [
        "def static_line(df,*args):\n",
        "  df = compare(df,*args)\n",
        "  ff = create_data(df)\n",
        "  fig = px.line(ff, x=\"Date\", y=\"Cases\", color=\"Country\",template=\"plotly_dark\",range_y=[0,ff[\"Cases\"].max()])\n",
        "  fig.layout.update(hovermode = \"x\")\n",
        "  return fig"
      ],
      "execution_count": null,
      "outputs": []
    },
    {
      "cell_type": "markdown",
      "metadata": {
        "id": "_rPg98r4PxTw"
      },
      "source": [
        "### Example"
      ]
    },
    {
      "cell_type": "markdown",
      "metadata": {
        "id": "6UZMxq1nPxTw"
      },
      "source": [
        "#### Recoveries - India, New Zealand, US, Brazil"
      ]
    },
    {
      "cell_type": "code",
      "metadata": {
        "id": "rHkOPsAHPxTw"
      },
      "source": [
        "static_line(recovered_global,\"India\",\"New Zealand\",\"US\",\"Brazil\")"
      ],
      "execution_count": null,
      "outputs": []
    },
    {
      "cell_type": "markdown",
      "metadata": {
        "id": "Mr8nesFSPxTw"
      },
      "source": [
        "## Intra-Country : All 3 Studies"
      ]
    },
    {
      "cell_type": "markdown",
      "metadata": {
        "id": "ljLM6yjTPxTx"
      },
      "source": [
        "### Code"
      ]
    },
    {
      "cell_type": "code",
      "metadata": {
        "id": "24MMsdR8PxTx"
      },
      "source": [
        "def line_comparison(country):\n",
        "    whole_df = pd.DataFrame()\n",
        "    whole_df[\"dates\"] = list(confirmed_global.columns[1:])\n",
        "    whole_df[\"confirmed\"] = list(confirmed_global.loc[confirmed_global['country'] == country].values.flatten()[1:])\n",
        "    whole_df[\"deaths\"] = list(deaths_global.loc[deaths_global['country'] == country].values.flatten()[1:])\n",
        "    whole_df[\"recovered\"] = list(recovered_global.loc[recovered_global['country'] == country].values.flatten()[1:]) \n",
        "    \n",
        "    fig = go.Figure()\n",
        "\n",
        "    fig.add_trace(\n",
        "        go.Scatter(\n",
        "            x=whole_df[\"dates\"],\n",
        "            y=whole_df[\"confirmed\"],\n",
        "            mode=\"lines\",\n",
        "            name=\"confirmed\"\n",
        "        )\n",
        "    )\n",
        "\n",
        "    fig.add_trace(\n",
        "        go.Scatter(\n",
        "            x=whole_df[\"dates\"],\n",
        "            y=whole_df[\"deaths\"],\n",
        "            mode=\"lines\",\n",
        "            name=\"deaths\"\n",
        "        )\n",
        "    )\n",
        "\n",
        "    fig.add_trace(\n",
        "        go.Scatter(\n",
        "            x=whole_df[\"dates\"],\n",
        "            y=whole_df[\"recovered\"],\n",
        "            mode=\"lines\",\n",
        "            name=\"recovered\"\n",
        "        )\n",
        "    )\n",
        "\n",
        "\n",
        "    fig.update_layout(\n",
        "        height=500,\n",
        "        showlegend=True,\n",
        "        \n",
        "        template = \"plotly_dark\",\n",
        "        title_text=f\"Analysis of {country.title()}\", hovermode='x'\n",
        "    )\n",
        "\n",
        "    return fig"
      ],
      "execution_count": null,
      "outputs": []
    },
    {
      "cell_type": "markdown",
      "metadata": {
        "id": "1UXIRY03PxTx"
      },
      "source": [
        "### Example"
      ]
    },
    {
      "cell_type": "markdown",
      "metadata": {
        "id": "EnBDFC0UPxTx"
      },
      "source": [
        "#### India"
      ]
    },
    {
      "cell_type": "code",
      "metadata": {
        "id": "WMDzv6yKPxTx"
      },
      "source": [
        "line_comparison(\"India\")"
      ],
      "execution_count": null,
      "outputs": []
    },
    {
      "cell_type": "markdown",
      "metadata": {
        "id": "_p-YjGn1PxTy"
      },
      "source": [
        "# Data Visualization - Animations"
      ]
    },
    {
      "cell_type": "markdown",
      "metadata": {
        "id": "Xd-fKZkpPxTy"
      },
      "source": [
        "## Top Ten Affected "
      ]
    },
    {
      "cell_type": "markdown",
      "metadata": {
        "id": "G4I6OANkPxTy"
      },
      "source": [
        "### Code"
      ]
    },
    {
      "cell_type": "code",
      "metadata": {
        "id": "6-TmUZjLPxTy"
      },
      "source": [
        "def unpivot(df):\n",
        "   return df.melt(id_vars = [\"country\"],  value_vars = df.columns[1:])"
      ],
      "execution_count": null,
      "outputs": []
    },
    {
      "cell_type": "code",
      "metadata": {
        "id": "ZIjvwW99PxTy"
      },
      "source": [
        "def take_top10(df):\n",
        "  top = list(df[df[\"variable\"] == df['variable'][df.index[-1]]].sort_values(by=['value'], ascending=False).head(10)[\"country\"])\n",
        "  df = df[df['country'].isin(top)]\n",
        "  return df"
      ],
      "execution_count": null,
      "outputs": []
    },
    {
      "cell_type": "code",
      "metadata": {
        "id": "4axSr9rDPxTy"
      },
      "source": [
        "def create_data(df):\n",
        "  new = take_top10(df)\n",
        "  l = list(set(new[\"variable\"]))\n",
        "  l.sort()\n",
        "  l.reverse()\n",
        "  ff= new[new['variable'].isin(l[::5])]\n",
        "  ff.rename(columns = {\"country\": \"Country\",\"variable\" : \"Date\",\"value\": \"Cases\"}, inplace = True)\n",
        "  return ff"
      ],
      "execution_count": null,
      "outputs": []
    },
    {
      "cell_type": "code",
      "metadata": {
        "id": "Tocz-RmMPxTy"
      },
      "source": [
        "def plot_fig(ff):\n",
        "  fig = px.bar(ff, x=\"Country\", y=\"Cases\", color=\"Country\",template=\"plotly_dark\",animation_frame=\"Date\", animation_group=\"Country\", range_y=[0,ff[\"Cases\"].max()])\n",
        "  fig.layout.update(showlegend=False)\n",
        "  return fig"
      ],
      "execution_count": null,
      "outputs": []
    },
    {
      "cell_type": "code",
      "metadata": {
        "id": "g459voYaPxTz"
      },
      "source": [
        "def animated_barchart(df):\n",
        "  return plot_fig(create_data(take_top10(unpivot(df))))"
      ],
      "execution_count": null,
      "outputs": []
    },
    {
      "cell_type": "markdown",
      "metadata": {
        "id": "-JKPeUVoPxTz"
      },
      "source": [
        "### Examples"
      ]
    },
    {
      "cell_type": "markdown",
      "metadata": {
        "id": "axyQjOT-PxTz"
      },
      "source": [
        "#### Confirmed Cases"
      ]
    },
    {
      "cell_type": "code",
      "metadata": {
        "id": "mWqrtbGlPxTz"
      },
      "source": [
        "animated_barchart(confirmed_global)"
      ],
      "execution_count": null,
      "outputs": []
    },
    {
      "cell_type": "markdown",
      "metadata": {
        "id": "Of7AckAkPxTz"
      },
      "source": [
        "#### Deaths"
      ]
    },
    {
      "cell_type": "code",
      "metadata": {
        "id": "iMY3JIcXPxTz"
      },
      "source": [
        "animated_barchart(deaths_global)"
      ],
      "execution_count": null,
      "outputs": []
    },
    {
      "cell_type": "markdown",
      "metadata": {
        "id": "kM27SaxmPxT0"
      },
      "source": [
        "#### Recoveries "
      ]
    },
    {
      "cell_type": "code",
      "metadata": {
        "id": "E710TWkwPxT0"
      },
      "source": [
        "animated_barchart(recovered_global)"
      ],
      "execution_count": null,
      "outputs": []
    },
    {
      "cell_type": "markdown",
      "metadata": {
        "id": "fPkopmv2PxT0"
      },
      "source": [
        "## Comparison (User's Choice)"
      ]
    },
    {
      "cell_type": "markdown",
      "metadata": {
        "id": "1p4UDolkPxT0"
      },
      "source": [
        "### Code"
      ]
    },
    {
      "cell_type": "code",
      "metadata": {
        "id": "Z6m-q8i1PxT0"
      },
      "source": [
        "def compare(df,*args):\n",
        "  l = list(args)\n",
        "  temp = unpivot(df)\n",
        "  return temp[temp[\"country\"].isin(l)]"
      ],
      "execution_count": null,
      "outputs": []
    },
    {
      "cell_type": "code",
      "metadata": {
        "id": "A39KzXlvPxT1"
      },
      "source": [
        "def plot_fig_compare(ff):\n",
        "  fig = px.bar(ff, x=\"Country\", y=\"Cases\", color=\"Country\",template=\"plotly_dark\",animation_frame=\"Date\", animation_group=\"Country\",range_y=[0,ff[\"Cases\"].max()])\n",
        "  fig.layout.update(hovermode = \"x\")\n",
        "  return fig"
      ],
      "execution_count": null,
      "outputs": []
    },
    {
      "cell_type": "code",
      "metadata": {
        "id": "Z1P0TWT7PxT1"
      },
      "source": [
        "def create_comparison_animation(df,*args):\n",
        "  df = compare(df,*args)\n",
        "  ff = create_data(df)\n",
        "  return plot_fig_compare(ff)"
      ],
      "execution_count": null,
      "outputs": []
    },
    {
      "cell_type": "markdown",
      "metadata": {
        "id": "EUIyygW5PxT1"
      },
      "source": [
        "### Examples"
      ]
    },
    {
      "cell_type": "markdown",
      "metadata": {
        "id": "fdRWC9DgPxT1"
      },
      "source": [
        "#### Confirmed Cases - India, US, Australia, Brazil"
      ]
    },
    {
      "cell_type": "code",
      "metadata": {
        "id": "WtHtxdCVPxT1"
      },
      "source": [
        "create_comparison_animation(confirmed_global,\"India\",\"US\",\"Australia\",\"Brazil\")"
      ],
      "execution_count": null,
      "outputs": []
    },
    {
      "cell_type": "markdown",
      "metadata": {
        "id": "vXm-2OYnPxT5"
      },
      "source": [
        "#### Recoveries - India, US, Australia, Brazil"
      ]
    },
    {
      "cell_type": "code",
      "metadata": {
        "colab": {
          "background_save": true
        },
        "id": "AR5Le_dTPxT5",
        "outputId": "6b63e9f3-94e4-49ec-9bf5-410fb0454317"
      },
      "source": [
        "create_comparison_animation(recovered_global,\"India\",\"US\",\"Australia\",\"Brazil\")"
      ],
      "execution_count": null,
      "outputs": [
        {
          "output_type": "display_data",
          "data": {
            "text/html": [
              "<html>\n",
              "<head><meta charset=\"utf-8\" /></head>\n",
              "<body>\n",
              "    <div>            <script src=\"https://cdnjs.cloudflare.com/ajax/libs/mathjax/2.7.5/MathJax.js?config=TeX-AMS-MML_SVG\"></script><script type=\"text/javascript\">if (window.MathJax) {MathJax.Hub.Config({SVG: {font: \"STIX-Web\"}});}</script>                <script type=\"text/javascript\">window.PlotlyConfig = {MathJaxConfig: 'local'};</script>\n",
              "        <script src=\"https://cdn.plot.ly/plotly-latest.min.js\"></script>                <div id=\"66710088-1c1b-442a-bcba-10ca7eca933f\" class=\"plotly-graph-div\" style=\"height:525px; width:100%;\"></div>            <script type=\"text/javascript\">                                    window.PLOTLYENV=window.PLOTLYENV || {};                                    if (document.getElementById(\"66710088-1c1b-442a-bcba-10ca7eca933f\")) {                    Plotly.newPlot(                        \"66710088-1c1b-442a-bcba-10ca7eca933f\",                        [{\"alignmentgroup\": \"True\", \"hovertemplate\": \"Country=%{x}<br>Date=1/23/20<br>Cases=%{y}<extra></extra>\", \"ids\": [\"Australia\"], \"legendgroup\": \"Australia\", \"marker\": {\"color\": \"#636efa\"}, \"name\": \"Australia\", \"offsetgroup\": \"Australia\", \"orientation\": \"v\", \"showlegend\": true, \"textposition\": \"auto\", \"type\": \"bar\", \"x\": [\"Australia\"], \"xaxis\": \"x\", \"y\": [0], \"yaxis\": \"y\"}, {\"alignmentgroup\": \"True\", \"hovertemplate\": \"Country=%{x}<br>Date=1/23/20<br>Cases=%{y}<extra></extra>\", \"ids\": [\"Brazil\"], \"legendgroup\": \"Brazil\", \"marker\": {\"color\": \"#EF553B\"}, \"name\": \"Brazil\", \"offsetgroup\": \"Brazil\", \"orientation\": \"v\", \"showlegend\": true, \"textposition\": \"auto\", \"type\": \"bar\", \"x\": [\"Brazil\"], \"xaxis\": \"x\", \"y\": [0], \"yaxis\": \"y\"}, {\"alignmentgroup\": \"True\", \"hovertemplate\": \"Country=%{x}<br>Date=1/23/20<br>Cases=%{y}<extra></extra>\", \"ids\": [\"India\"], \"legendgroup\": \"India\", \"marker\": {\"color\": \"#00cc96\"}, \"name\": \"India\", \"offsetgroup\": \"India\", \"orientation\": \"v\", \"showlegend\": true, \"textposition\": \"auto\", \"type\": \"bar\", \"x\": [\"India\"], \"xaxis\": \"x\", \"y\": [0], \"yaxis\": \"y\"}, {\"alignmentgroup\": \"True\", \"hovertemplate\": \"Country=%{x}<br>Date=1/23/20<br>Cases=%{y}<extra></extra>\", \"ids\": [\"US\"], \"legendgroup\": \"US\", \"marker\": {\"color\": \"#ab63fa\"}, \"name\": \"US\", \"offsetgroup\": \"US\", \"orientation\": \"v\", \"showlegend\": true, \"textposition\": \"auto\", \"type\": \"bar\", \"x\": [\"US\"], \"xaxis\": \"x\", \"y\": [0], \"yaxis\": \"y\"}],                        {\"barmode\": \"relative\", \"hovermode\": \"x\", \"legend\": {\"title\": {\"text\": \"Country\"}, \"tracegroupgap\": 0}, \"margin\": {\"t\": 60}, \"sliders\": [{\"active\": 0, \"currentvalue\": {\"prefix\": \"Date=\"}, \"len\": 0.9, \"pad\": {\"b\": 10, \"t\": 60}, \"steps\": [{\"args\": [[\"1/23/20\"], {\"frame\": {\"duration\": 0, \"redraw\": true}, \"fromcurrent\": true, \"mode\": \"immediate\", \"transition\": {\"duration\": 0, \"easing\": \"linear\"}}], \"label\": \"1/23/20\", \"method\": \"animate\"}, {\"args\": [[\"1/28/20\"], {\"frame\": {\"duration\": 0, \"redraw\": true}, \"fromcurrent\": true, \"mode\": \"immediate\", \"transition\": {\"duration\": 0, \"easing\": \"linear\"}}], \"label\": \"1/28/20\", \"method\": \"animate\"}, {\"args\": [[\"2/3/20\"], {\"frame\": {\"duration\": 0, \"redraw\": true}, \"fromcurrent\": true, \"mode\": \"immediate\", \"transition\": {\"duration\": 0, \"easing\": \"linear\"}}], \"label\": \"2/3/20\", \"method\": \"animate\"}, {\"args\": [[\"2/8/20\"], {\"frame\": {\"duration\": 0, \"redraw\": true}, \"fromcurrent\": true, \"mode\": \"immediate\", \"transition\": {\"duration\": 0, \"easing\": \"linear\"}}], \"label\": \"2/8/20\", \"method\": \"animate\"}, {\"args\": [[\"2/11/20\"], {\"frame\": {\"duration\": 0, \"redraw\": true}, \"fromcurrent\": true, \"mode\": \"immediate\", \"transition\": {\"duration\": 0, \"easing\": \"linear\"}}], \"label\": \"2/11/20\", \"method\": \"animate\"}, {\"args\": [[\"2/16/20\"], {\"frame\": {\"duration\": 0, \"redraw\": true}, \"fromcurrent\": true, \"mode\": \"immediate\", \"transition\": {\"duration\": 0, \"easing\": \"linear\"}}], \"label\": \"2/16/20\", \"method\": \"animate\"}, {\"args\": [[\"2/20/20\"], {\"frame\": {\"duration\": 0, \"redraw\": true}, \"fromcurrent\": true, \"mode\": \"immediate\", \"transition\": {\"duration\": 0, \"easing\": \"linear\"}}], \"label\": \"2/20/20\", \"method\": \"animate\"}, {\"args\": [[\"2/25/20\"], {\"frame\": {\"duration\": 0, \"redraw\": true}, \"fromcurrent\": true, \"mode\": \"immediate\", \"transition\": {\"duration\": 0, \"easing\": \"linear\"}}], \"label\": \"2/25/20\", \"method\": \"animate\"}, {\"args\": [[\"3/7/20\"], {\"frame\": {\"duration\": 0, \"redraw\": true}, \"fromcurrent\": true, \"mode\": \"immediate\", \"transition\": {\"duration\": 0, \"easing\": \"linear\"}}], \"label\": \"3/7/20\", \"method\": \"animate\"}, {\"args\": [[\"3/12/20\"], {\"frame\": {\"duration\": 0, \"redraw\": true}, \"fromcurrent\": true, \"mode\": \"immediate\", \"transition\": {\"duration\": 0, \"easing\": \"linear\"}}], \"label\": \"3/12/20\", \"method\": \"animate\"}, {\"args\": [[\"3/17/20\"], {\"frame\": {\"duration\": 0, \"redraw\": true}, \"fromcurrent\": true, \"mode\": \"immediate\", \"transition\": {\"duration\": 0, \"easing\": \"linear\"}}], \"label\": \"3/17/20\", \"method\": \"animate\"}, {\"args\": [[\"3/21/20\"], {\"frame\": {\"duration\": 0, \"redraw\": true}, \"fromcurrent\": true, \"mode\": \"immediate\", \"transition\": {\"duration\": 0, \"easing\": \"linear\"}}], \"label\": \"3/21/20\", \"method\": \"animate\"}, {\"args\": [[\"3/26/20\"], {\"frame\": {\"duration\": 0, \"redraw\": true}, \"fromcurrent\": true, \"mode\": \"immediate\", \"transition\": {\"duration\": 0, \"easing\": \"linear\"}}], \"label\": \"3/26/20\", \"method\": \"animate\"}, {\"args\": [[\"3/30/20\"], {\"frame\": {\"duration\": 0, \"redraw\": true}, \"fromcurrent\": true, \"mode\": \"immediate\", \"transition\": {\"duration\": 0, \"easing\": \"linear\"}}], \"label\": \"3/30/20\", \"method\": \"animate\"}, {\"args\": [[\"4/3/20\"], {\"frame\": {\"duration\": 0, \"redraw\": true}, \"fromcurrent\": true, \"mode\": \"immediate\", \"transition\": {\"duration\": 0, \"easing\": \"linear\"}}], \"label\": \"4/3/20\", \"method\": \"animate\"}, {\"args\": [[\"4/7/20\"], {\"frame\": {\"duration\": 0, \"redraw\": true}, \"fromcurrent\": true, \"mode\": \"immediate\", \"transition\": {\"duration\": 0, \"easing\": \"linear\"}}], \"label\": \"4/7/20\", \"method\": \"animate\"}, {\"args\": [[\"4/11/20\"], {\"frame\": {\"duration\": 0, \"redraw\": true}, \"fromcurrent\": true, \"mode\": \"immediate\", \"transition\": {\"duration\": 0, \"easing\": \"linear\"}}], \"label\": \"4/11/20\", \"method\": \"animate\"}, {\"args\": [[\"4/16/20\"], {\"frame\": {\"duration\": 0, \"redraw\": true}, \"fromcurrent\": true, \"mode\": \"immediate\", \"transition\": {\"duration\": 0, \"easing\": \"linear\"}}], \"label\": \"4/16/20\", \"method\": \"animate\"}, {\"args\": [[\"4/20/20\"], {\"frame\": {\"duration\": 0, \"redraw\": true}, \"fromcurrent\": true, \"mode\": \"immediate\", \"transition\": {\"duration\": 0, \"easing\": \"linear\"}}], \"label\": \"4/20/20\", \"method\": \"animate\"}, {\"args\": [[\"4/25/20\"], {\"frame\": {\"duration\": 0, \"redraw\": true}, \"fromcurrent\": true, \"mode\": \"immediate\", \"transition\": {\"duration\": 0, \"easing\": \"linear\"}}], \"label\": \"4/25/20\", \"method\": \"animate\"}, {\"args\": [[\"5/3/20\"], {\"frame\": {\"duration\": 0, \"redraw\": true}, \"fromcurrent\": true, \"mode\": \"immediate\", \"transition\": {\"duration\": 0, \"easing\": \"linear\"}}], \"label\": \"5/3/20\", \"method\": \"animate\"}, {\"args\": [[\"5/6/20\"], {\"frame\": {\"duration\": 0, \"redraw\": true}, \"fromcurrent\": true, \"mode\": \"immediate\", \"transition\": {\"duration\": 0, \"easing\": \"linear\"}}], \"label\": \"5/6/20\", \"method\": \"animate\"}, {\"args\": [[\"5/11/20\"], {\"frame\": {\"duration\": 0, \"redraw\": true}, \"fromcurrent\": true, \"mode\": \"immediate\", \"transition\": {\"duration\": 0, \"easing\": \"linear\"}}], \"label\": \"5/11/20\", \"method\": \"animate\"}, {\"args\": [[\"5/16/20\"], {\"frame\": {\"duration\": 0, \"redraw\": true}, \"fromcurrent\": true, \"mode\": \"immediate\", \"transition\": {\"duration\": 0, \"easing\": \"linear\"}}], \"label\": \"5/16/20\", \"method\": \"animate\"}, {\"args\": [[\"5/20/20\"], {\"frame\": {\"duration\": 0, \"redraw\": true}, \"fromcurrent\": true, \"mode\": \"immediate\", \"transition\": {\"duration\": 0, \"easing\": \"linear\"}}], \"label\": \"5/20/20\", \"method\": \"animate\"}, {\"args\": [[\"5/25/20\"], {\"frame\": {\"duration\": 0, \"redraw\": true}, \"fromcurrent\": true, \"mode\": \"immediate\", \"transition\": {\"duration\": 0, \"easing\": \"linear\"}}], \"label\": \"5/25/20\", \"method\": \"animate\"}, {\"args\": [[\"6/2/20\"], {\"frame\": {\"duration\": 0, \"redraw\": true}, \"fromcurrent\": true, \"mode\": \"immediate\", \"transition\": {\"duration\": 0, \"easing\": \"linear\"}}], \"label\": \"6/2/20\", \"method\": \"animate\"}, {\"args\": [[\"6/6/20\"], {\"frame\": {\"duration\": 0, \"redraw\": true}, \"fromcurrent\": true, \"mode\": \"immediate\", \"transition\": {\"duration\": 0, \"easing\": \"linear\"}}], \"label\": \"6/6/20\", \"method\": \"animate\"}, {\"args\": [[\"6/10/20\"], {\"frame\": {\"duration\": 0, \"redraw\": true}, \"fromcurrent\": true, \"mode\": \"immediate\", \"transition\": {\"duration\": 0, \"easing\": \"linear\"}}], \"label\": \"6/10/20\", \"method\": \"animate\"}, {\"args\": [[\"6/15/20\"], {\"frame\": {\"duration\": 0, \"redraw\": true}, \"fromcurrent\": true, \"mode\": \"immediate\", \"transition\": {\"duration\": 0, \"easing\": \"linear\"}}], \"label\": \"6/15/20\", \"method\": \"animate\"}, {\"args\": [[\"6/24/20\"], {\"frame\": {\"duration\": 0, \"redraw\": true}, \"fromcurrent\": true, \"mode\": \"immediate\", \"transition\": {\"duration\": 0, \"easing\": \"linear\"}}], \"label\": \"6/24/20\", \"method\": \"animate\"}, {\"args\": [[\"6/29/20\"], {\"frame\": {\"duration\": 0, \"redraw\": true}, \"fromcurrent\": true, \"mode\": \"immediate\", \"transition\": {\"duration\": 0, \"easing\": \"linear\"}}], \"label\": \"6/29/20\", \"method\": \"animate\"}, {\"args\": [[\"7/2/20\"], {\"frame\": {\"duration\": 0, \"redraw\": true}, \"fromcurrent\": true, \"mode\": \"immediate\", \"transition\": {\"duration\": 0, \"easing\": \"linear\"}}], \"label\": \"7/2/20\", \"method\": \"animate\"}, {\"args\": [[\"7/5/20\"], {\"frame\": {\"duration\": 0, \"redraw\": true}, \"fromcurrent\": true, \"mode\": \"immediate\", \"transition\": {\"duration\": 0, \"easing\": \"linear\"}}], \"label\": \"7/5/20\", \"method\": \"animate\"}, {\"args\": [[\"7/10/20\"], {\"frame\": {\"duration\": 0, \"redraw\": true}, \"fromcurrent\": true, \"mode\": \"immediate\", \"transition\": {\"duration\": 0, \"easing\": \"linear\"}}], \"label\": \"7/10/20\", \"method\": \"animate\"}, {\"args\": [[\"7/15/20\"], {\"frame\": {\"duration\": 0, \"redraw\": true}, \"fromcurrent\": true, \"mode\": \"immediate\", \"transition\": {\"duration\": 0, \"easing\": \"linear\"}}], \"label\": \"7/15/20\", \"method\": \"animate\"}, {\"args\": [[\"7/24/20\"], {\"frame\": {\"duration\": 0, \"redraw\": true}, \"fromcurrent\": true, \"mode\": \"immediate\", \"transition\": {\"duration\": 0, \"easing\": \"linear\"}}], \"label\": \"7/24/20\", \"method\": \"animate\"}, {\"args\": [[\"7/29/20\"], {\"frame\": {\"duration\": 0, \"redraw\": true}, \"fromcurrent\": true, \"mode\": \"immediate\", \"transition\": {\"duration\": 0, \"easing\": \"linear\"}}], \"label\": \"7/29/20\", \"method\": \"animate\"}, {\"args\": [[\"8/1/20\"], {\"frame\": {\"duration\": 0, \"redraw\": true}, \"fromcurrent\": true, \"mode\": \"immediate\", \"transition\": {\"duration\": 0, \"easing\": \"linear\"}}], \"label\": \"8/1/20\", \"method\": \"animate\"}, {\"args\": [[\"8/4/20\"], {\"frame\": {\"duration\": 0, \"redraw\": true}, \"fromcurrent\": true, \"mode\": \"immediate\", \"transition\": {\"duration\": 0, \"easing\": \"linear\"}}], \"label\": \"8/4/20\", \"method\": \"animate\"}, {\"args\": [[\"8/9/20\"], {\"frame\": {\"duration\": 0, \"redraw\": true}, \"fromcurrent\": true, \"mode\": \"immediate\", \"transition\": {\"duration\": 0, \"easing\": \"linear\"}}], \"label\": \"8/9/20\", \"method\": \"animate\"}, {\"args\": [[\"8/14/20\"], {\"frame\": {\"duration\": 0, \"redraw\": true}, \"fromcurrent\": true, \"mode\": \"immediate\", \"transition\": {\"duration\": 0, \"easing\": \"linear\"}}], \"label\": \"8/14/20\", \"method\": \"animate\"}, {\"args\": [[\"8/19/20\"], {\"frame\": {\"duration\": 0, \"redraw\": true}, \"fromcurrent\": true, \"mode\": \"immediate\", \"transition\": {\"duration\": 0, \"easing\": \"linear\"}}], \"label\": \"8/19/20\", \"method\": \"animate\"}, {\"args\": [[\"8/23/20\"], {\"frame\": {\"duration\": 0, \"redraw\": true}, \"fromcurrent\": true, \"mode\": \"immediate\", \"transition\": {\"duration\": 0, \"easing\": \"linear\"}}], \"label\": \"8/23/20\", \"method\": \"animate\"}, {\"args\": [[\"8/28/20\"], {\"frame\": {\"duration\": 0, \"redraw\": true}, \"fromcurrent\": true, \"mode\": \"immediate\", \"transition\": {\"duration\": 0, \"easing\": \"linear\"}}], \"label\": \"8/28/20\", \"method\": \"animate\"}, {\"args\": [[\"9/4/20\"], {\"frame\": {\"duration\": 0, \"redraw\": true}, \"fromcurrent\": true, \"mode\": \"immediate\", \"transition\": {\"duration\": 0, \"easing\": \"linear\"}}], \"label\": \"9/4/20\", \"method\": \"animate\"}, {\"args\": [[\"9/9/20\"], {\"frame\": {\"duration\": 0, \"redraw\": true}, \"fromcurrent\": true, \"mode\": \"immediate\", \"transition\": {\"duration\": 0, \"easing\": \"linear\"}}], \"label\": \"9/9/20\", \"method\": \"animate\"}, {\"args\": [[\"9/13/20\"], {\"frame\": {\"duration\": 0, \"redraw\": true}, \"fromcurrent\": true, \"mode\": \"immediate\", \"transition\": {\"duration\": 0, \"easing\": \"linear\"}}], \"label\": \"9/13/20\", \"method\": \"animate\"}, {\"args\": [[\"9/18/20\"], {\"frame\": {\"duration\": 0, \"redraw\": true}, \"fromcurrent\": true, \"mode\": \"immediate\", \"transition\": {\"duration\": 0, \"easing\": \"linear\"}}], \"label\": \"9/18/20\", \"method\": \"animate\"}, {\"args\": [[\"9/22/20\"], {\"frame\": {\"duration\": 0, \"redraw\": true}, \"fromcurrent\": true, \"mode\": \"immediate\", \"transition\": {\"duration\": 0, \"easing\": \"linear\"}}], \"label\": \"9/22/20\", \"method\": \"animate\"}, {\"args\": [[\"9/27/20\"], {\"frame\": {\"duration\": 0, \"redraw\": true}, \"fromcurrent\": true, \"mode\": \"immediate\", \"transition\": {\"duration\": 0, \"easing\": \"linear\"}}], \"label\": \"9/27/20\", \"method\": \"animate\"}, {\"args\": [[\"10/2/20\"], {\"frame\": {\"duration\": 0, \"redraw\": true}, \"fromcurrent\": true, \"mode\": \"immediate\", \"transition\": {\"duration\": 0, \"easing\": \"linear\"}}], \"label\": \"10/2/20\", \"method\": \"animate\"}, {\"args\": [[\"10/5/20\"], {\"frame\": {\"duration\": 0, \"redraw\": true}, \"fromcurrent\": true, \"mode\": \"immediate\", \"transition\": {\"duration\": 0, \"easing\": \"linear\"}}], \"label\": \"10/5/20\", \"method\": \"animate\"}, {\"args\": [[\"10/10/20\"], {\"frame\": {\"duration\": 0, \"redraw\": true}, \"fromcurrent\": true, \"mode\": \"immediate\", \"transition\": {\"duration\": 0, \"easing\": \"linear\"}}], \"label\": \"10/10/20\", \"method\": \"animate\"}, {\"args\": [[\"10/15/20\"], {\"frame\": {\"duration\": 0, \"redraw\": true}, \"fromcurrent\": true, \"mode\": \"immediate\", \"transition\": {\"duration\": 0, \"easing\": \"linear\"}}], \"label\": \"10/15/20\", \"method\": \"animate\"}, {\"args\": [[\"10/24/20\"], {\"frame\": {\"duration\": 0, \"redraw\": true}, \"fromcurrent\": true, \"mode\": \"immediate\", \"transition\": {\"duration\": 0, \"easing\": \"linear\"}}], \"label\": \"10/24/20\", \"method\": \"animate\"}, {\"args\": [[\"10/29/20\"], {\"frame\": {\"duration\": 0, \"redraw\": true}, \"fromcurrent\": true, \"mode\": \"immediate\", \"transition\": {\"duration\": 0, \"easing\": \"linear\"}}], \"label\": \"10/29/20\", \"method\": \"animate\"}, {\"args\": [[\"11/1/20\"], {\"frame\": {\"duration\": 0, \"redraw\": true}, \"fromcurrent\": true, \"mode\": \"immediate\", \"transition\": {\"duration\": 0, \"easing\": \"linear\"}}], \"label\": \"11/1/20\", \"method\": \"animate\"}, {\"args\": [[\"11/5/20\"], {\"frame\": {\"duration\": 0, \"redraw\": true}, \"fromcurrent\": true, \"mode\": \"immediate\", \"transition\": {\"duration\": 0, \"easing\": \"linear\"}}], \"label\": \"11/5/20\", \"method\": \"animate\"}, {\"args\": [[\"11/14/20\"], {\"frame\": {\"duration\": 0, \"redraw\": true}, \"fromcurrent\": true, \"mode\": \"immediate\", \"transition\": {\"duration\": 0, \"easing\": \"linear\"}}], \"label\": \"11/14/20\", \"method\": \"animate\"}, {\"args\": [[\"11/19/20\"], {\"frame\": {\"duration\": 0, \"redraw\": true}, \"fromcurrent\": true, \"mode\": \"immediate\", \"transition\": {\"duration\": 0, \"easing\": \"linear\"}}], \"label\": \"11/19/20\", \"method\": \"animate\"}, {\"args\": [[\"11/23/20\"], {\"frame\": {\"duration\": 0, \"redraw\": true}, \"fromcurrent\": true, \"mode\": \"immediate\", \"transition\": {\"duration\": 0, \"easing\": \"linear\"}}], \"label\": \"11/23/20\", \"method\": \"animate\"}, {\"args\": [[\"11/28/20\"], {\"frame\": {\"duration\": 0, \"redraw\": true}, \"fromcurrent\": true, \"mode\": \"immediate\", \"transition\": {\"duration\": 0, \"easing\": \"linear\"}}], \"label\": \"11/28/20\", \"method\": \"animate\"}, {\"args\": [[\"12/1/20\"], {\"frame\": {\"duration\": 0, \"redraw\": true}, \"fromcurrent\": true, \"mode\": \"immediate\", \"transition\": {\"duration\": 0, \"easing\": \"linear\"}}], \"label\": \"12/1/20\", \"method\": \"animate\"}, {\"args\": [[\"12/7/20\"], {\"frame\": {\"duration\": 0, \"redraw\": true}, \"fromcurrent\": true, \"mode\": \"immediate\", \"transition\": {\"duration\": 0, \"easing\": \"linear\"}}], \"label\": \"12/7/20\", \"method\": \"animate\"}, {\"args\": [[\"12/14/20\"], {\"frame\": {\"duration\": 0, \"redraw\": true}, \"fromcurrent\": true, \"mode\": \"immediate\", \"transition\": {\"duration\": 0, \"easing\": \"linear\"}}], \"label\": \"12/14/20\", \"method\": \"animate\"}, {\"args\": [[\"12/19/20\"], {\"frame\": {\"duration\": 0, \"redraw\": true}, \"fromcurrent\": true, \"mode\": \"immediate\", \"transition\": {\"duration\": 0, \"easing\": \"linear\"}}], \"label\": \"12/19/20\", \"method\": \"animate\"}, {\"args\": [[\"12/23/20\"], {\"frame\": {\"duration\": 0, \"redraw\": true}, \"fromcurrent\": true, \"mode\": \"immediate\", \"transition\": {\"duration\": 0, \"easing\": \"linear\"}}], \"label\": \"12/23/20\", \"method\": \"animate\"}, {\"args\": [[\"12/28/20\"], {\"frame\": {\"duration\": 0, \"redraw\": true}, \"fromcurrent\": true, \"mode\": \"immediate\", \"transition\": {\"duration\": 0, \"easing\": \"linear\"}}], \"label\": \"12/28/20\", \"method\": \"animate\"}], \"x\": 0.1, \"xanchor\": \"left\", \"y\": 0, \"yanchor\": \"top\"}], \"template\": {\"data\": {\"bar\": [{\"error_x\": {\"color\": \"#f2f5fa\"}, \"error_y\": {\"color\": \"#f2f5fa\"}, \"marker\": {\"line\": {\"color\": \"rgb(17,17,17)\", \"width\": 0.5}}, \"type\": \"bar\"}], \"barpolar\": [{\"marker\": {\"line\": {\"color\": \"rgb(17,17,17)\", \"width\": 0.5}}, \"type\": \"barpolar\"}], \"carpet\": [{\"aaxis\": {\"endlinecolor\": \"#A2B1C6\", \"gridcolor\": \"#506784\", \"linecolor\": \"#506784\", \"minorgridcolor\": \"#506784\", \"startlinecolor\": \"#A2B1C6\"}, \"baxis\": {\"endlinecolor\": \"#A2B1C6\", \"gridcolor\": \"#506784\", \"linecolor\": \"#506784\", \"minorgridcolor\": \"#506784\", \"startlinecolor\": \"#A2B1C6\"}, \"type\": \"carpet\"}], \"choropleth\": [{\"colorbar\": {\"outlinewidth\": 0, \"ticks\": \"\"}, \"type\": \"choropleth\"}], \"contour\": [{\"colorbar\": {\"outlinewidth\": 0, \"ticks\": \"\"}, \"colorscale\": [[0.0, \"#0d0887\"], [0.1111111111111111, \"#46039f\"], [0.2222222222222222, \"#7201a8\"], [0.3333333333333333, \"#9c179e\"], [0.4444444444444444, \"#bd3786\"], [0.5555555555555556, \"#d8576b\"], [0.6666666666666666, \"#ed7953\"], [0.7777777777777778, \"#fb9f3a\"], [0.8888888888888888, \"#fdca26\"], [1.0, \"#f0f921\"]], \"type\": \"contour\"}], \"contourcarpet\": [{\"colorbar\": {\"outlinewidth\": 0, \"ticks\": \"\"}, \"type\": \"contourcarpet\"}], \"heatmap\": [{\"colorbar\": {\"outlinewidth\": 0, \"ticks\": \"\"}, \"colorscale\": [[0.0, \"#0d0887\"], [0.1111111111111111, \"#46039f\"], [0.2222222222222222, \"#7201a8\"], [0.3333333333333333, \"#9c179e\"], [0.4444444444444444, \"#bd3786\"], [0.5555555555555556, \"#d8576b\"], [0.6666666666666666, \"#ed7953\"], [0.7777777777777778, \"#fb9f3a\"], [0.8888888888888888, \"#fdca26\"], [1.0, \"#f0f921\"]], \"type\": \"heatmap\"}], \"heatmapgl\": [{\"colorbar\": {\"outlinewidth\": 0, \"ticks\": \"\"}, \"colorscale\": [[0.0, \"#0d0887\"], [0.1111111111111111, \"#46039f\"], [0.2222222222222222, \"#7201a8\"], [0.3333333333333333, \"#9c179e\"], [0.4444444444444444, \"#bd3786\"], [0.5555555555555556, \"#d8576b\"], [0.6666666666666666, \"#ed7953\"], [0.7777777777777778, \"#fb9f3a\"], [0.8888888888888888, \"#fdca26\"], [1.0, \"#f0f921\"]], \"type\": \"heatmapgl\"}], \"histogram\": [{\"marker\": {\"colorbar\": {\"outlinewidth\": 0, \"ticks\": \"\"}}, \"type\": \"histogram\"}], \"histogram2d\": [{\"colorbar\": {\"outlinewidth\": 0, \"ticks\": \"\"}, \"colorscale\": [[0.0, \"#0d0887\"], [0.1111111111111111, \"#46039f\"], [0.2222222222222222, \"#7201a8\"], [0.3333333333333333, \"#9c179e\"], [0.4444444444444444, \"#bd3786\"], [0.5555555555555556, \"#d8576b\"], [0.6666666666666666, \"#ed7953\"], [0.7777777777777778, \"#fb9f3a\"], [0.8888888888888888, \"#fdca26\"], [1.0, \"#f0f921\"]], \"type\": \"histogram2d\"}], \"histogram2dcontour\": [{\"colorbar\": {\"outlinewidth\": 0, \"ticks\": \"\"}, \"colorscale\": [[0.0, \"#0d0887\"], [0.1111111111111111, \"#46039f\"], [0.2222222222222222, \"#7201a8\"], [0.3333333333333333, \"#9c179e\"], [0.4444444444444444, \"#bd3786\"], [0.5555555555555556, \"#d8576b\"], [0.6666666666666666, \"#ed7953\"], [0.7777777777777778, \"#fb9f3a\"], [0.8888888888888888, \"#fdca26\"], [1.0, \"#f0f921\"]], \"type\": \"histogram2dcontour\"}], \"mesh3d\": [{\"colorbar\": {\"outlinewidth\": 0, \"ticks\": \"\"}, \"type\": \"mesh3d\"}], \"parcoords\": [{\"line\": {\"colorbar\": {\"outlinewidth\": 0, \"ticks\": \"\"}}, \"type\": \"parcoords\"}], \"pie\": [{\"automargin\": true, \"type\": \"pie\"}], \"scatter\": [{\"marker\": {\"line\": {\"color\": \"#283442\"}}, \"type\": \"scatter\"}], \"scatter3d\": [{\"line\": {\"colorbar\": {\"outlinewidth\": 0, \"ticks\": \"\"}}, \"marker\": {\"colorbar\": {\"outlinewidth\": 0, \"ticks\": \"\"}}, \"type\": \"scatter3d\"}], \"scattercarpet\": [{\"marker\": {\"colorbar\": {\"outlinewidth\": 0, \"ticks\": \"\"}}, \"type\": \"scattercarpet\"}], \"scattergeo\": [{\"marker\": {\"colorbar\": {\"outlinewidth\": 0, \"ticks\": \"\"}}, \"type\": \"scattergeo\"}], \"scattergl\": [{\"marker\": {\"line\": {\"color\": \"#283442\"}}, \"type\": \"scattergl\"}], \"scattermapbox\": [{\"marker\": {\"colorbar\": {\"outlinewidth\": 0, \"ticks\": \"\"}}, \"type\": \"scattermapbox\"}], \"scatterpolar\": [{\"marker\": {\"colorbar\": {\"outlinewidth\": 0, \"ticks\": \"\"}}, \"type\": \"scatterpolar\"}], \"scatterpolargl\": [{\"marker\": {\"colorbar\": {\"outlinewidth\": 0, \"ticks\": \"\"}}, \"type\": \"scatterpolargl\"}], \"scatterternary\": [{\"marker\": {\"colorbar\": {\"outlinewidth\": 0, \"ticks\": \"\"}}, \"type\": \"scatterternary\"}], \"surface\": [{\"colorbar\": {\"outlinewidth\": 0, \"ticks\": \"\"}, \"colorscale\": [[0.0, \"#0d0887\"], [0.1111111111111111, \"#46039f\"], [0.2222222222222222, \"#7201a8\"], [0.3333333333333333, \"#9c179e\"], [0.4444444444444444, \"#bd3786\"], [0.5555555555555556, \"#d8576b\"], [0.6666666666666666, \"#ed7953\"], [0.7777777777777778, \"#fb9f3a\"], [0.8888888888888888, \"#fdca26\"], [1.0, \"#f0f921\"]], \"type\": \"surface\"}], \"table\": [{\"cells\": {\"fill\": {\"color\": \"#506784\"}, \"line\": {\"color\": \"rgb(17,17,17)\"}}, \"header\": {\"fill\": {\"color\": \"#2a3f5f\"}, \"line\": {\"color\": \"rgb(17,17,17)\"}}, \"type\": \"table\"}]}, \"layout\": {\"annotationdefaults\": {\"arrowcolor\": \"#f2f5fa\", \"arrowhead\": 0, \"arrowwidth\": 1}, \"autotypenumbers\": \"strict\", \"coloraxis\": {\"colorbar\": {\"outlinewidth\": 0, \"ticks\": \"\"}}, \"colorscale\": {\"diverging\": [[0, \"#8e0152\"], [0.1, \"#c51b7d\"], [0.2, \"#de77ae\"], [0.3, \"#f1b6da\"], [0.4, \"#fde0ef\"], [0.5, \"#f7f7f7\"], [0.6, \"#e6f5d0\"], [0.7, \"#b8e186\"], [0.8, \"#7fbc41\"], [0.9, \"#4d9221\"], [1, \"#276419\"]], \"sequential\": [[0.0, \"#0d0887\"], [0.1111111111111111, \"#46039f\"], [0.2222222222222222, \"#7201a8\"], [0.3333333333333333, \"#9c179e\"], [0.4444444444444444, \"#bd3786\"], [0.5555555555555556, \"#d8576b\"], [0.6666666666666666, \"#ed7953\"], [0.7777777777777778, \"#fb9f3a\"], [0.8888888888888888, \"#fdca26\"], [1.0, \"#f0f921\"]], \"sequentialminus\": [[0.0, \"#0d0887\"], [0.1111111111111111, \"#46039f\"], [0.2222222222222222, \"#7201a8\"], [0.3333333333333333, \"#9c179e\"], [0.4444444444444444, \"#bd3786\"], [0.5555555555555556, \"#d8576b\"], [0.6666666666666666, \"#ed7953\"], [0.7777777777777778, \"#fb9f3a\"], [0.8888888888888888, \"#fdca26\"], [1.0, \"#f0f921\"]]}, \"colorway\": [\"#636efa\", \"#EF553B\", \"#00cc96\", \"#ab63fa\", \"#FFA15A\", \"#19d3f3\", \"#FF6692\", \"#B6E880\", \"#FF97FF\", \"#FECB52\"], \"font\": {\"color\": \"#f2f5fa\"}, \"geo\": {\"bgcolor\": \"rgb(17,17,17)\", \"lakecolor\": \"rgb(17,17,17)\", \"landcolor\": \"rgb(17,17,17)\", \"showlakes\": true, \"showland\": true, \"subunitcolor\": \"#506784\"}, \"hoverlabel\": {\"align\": \"left\"}, \"hovermode\": \"closest\", \"mapbox\": {\"style\": \"dark\"}, \"paper_bgcolor\": \"rgb(17,17,17)\", \"plot_bgcolor\": \"rgb(17,17,17)\", \"polar\": {\"angularaxis\": {\"gridcolor\": \"#506784\", \"linecolor\": \"#506784\", \"ticks\": \"\"}, \"bgcolor\": \"rgb(17,17,17)\", \"radialaxis\": {\"gridcolor\": \"#506784\", \"linecolor\": \"#506784\", \"ticks\": \"\"}}, \"scene\": {\"xaxis\": {\"backgroundcolor\": \"rgb(17,17,17)\", \"gridcolor\": \"#506784\", \"gridwidth\": 2, \"linecolor\": \"#506784\", \"showbackground\": true, \"ticks\": \"\", \"zerolinecolor\": \"#C8D4E3\"}, \"yaxis\": {\"backgroundcolor\": \"rgb(17,17,17)\", \"gridcolor\": \"#506784\", \"gridwidth\": 2, \"linecolor\": \"#506784\", \"showbackground\": true, \"ticks\": \"\", \"zerolinecolor\": \"#C8D4E3\"}, \"zaxis\": {\"backgroundcolor\": \"rgb(17,17,17)\", \"gridcolor\": \"#506784\", \"gridwidth\": 2, \"linecolor\": \"#506784\", \"showbackground\": true, \"ticks\": \"\", \"zerolinecolor\": \"#C8D4E3\"}}, \"shapedefaults\": {\"line\": {\"color\": \"#f2f5fa\"}}, \"sliderdefaults\": {\"bgcolor\": \"#C8D4E3\", \"bordercolor\": \"rgb(17,17,17)\", \"borderwidth\": 1, \"tickwidth\": 0}, \"ternary\": {\"aaxis\": {\"gridcolor\": \"#506784\", \"linecolor\": \"#506784\", \"ticks\": \"\"}, \"baxis\": {\"gridcolor\": \"#506784\", \"linecolor\": \"#506784\", \"ticks\": \"\"}, \"bgcolor\": \"rgb(17,17,17)\", \"caxis\": {\"gridcolor\": \"#506784\", \"linecolor\": \"#506784\", \"ticks\": \"\"}}, \"title\": {\"x\": 0.05}, \"updatemenudefaults\": {\"bgcolor\": \"#506784\", \"borderwidth\": 0}, \"xaxis\": {\"automargin\": true, \"gridcolor\": \"#283442\", \"linecolor\": \"#506784\", \"ticks\": \"\", \"title\": {\"standoff\": 15}, \"zerolinecolor\": \"#283442\", \"zerolinewidth\": 2}, \"yaxis\": {\"automargin\": true, \"gridcolor\": \"#283442\", \"linecolor\": \"#506784\", \"ticks\": \"\", \"title\": {\"standoff\": 15}, \"zerolinecolor\": \"#283442\", \"zerolinewidth\": 2}}}, \"updatemenus\": [{\"buttons\": [{\"args\": [null, {\"frame\": {\"duration\": 500, \"redraw\": true}, \"fromcurrent\": true, \"mode\": \"immediate\", \"transition\": {\"duration\": 500, \"easing\": \"linear\"}}], \"label\": \"&#9654;\", \"method\": \"animate\"}, {\"args\": [[null], {\"frame\": {\"duration\": 0, \"redraw\": true}, \"fromcurrent\": true, \"mode\": \"immediate\", \"transition\": {\"duration\": 0, \"easing\": \"linear\"}}], \"label\": \"&#9724;\", \"method\": \"animate\"}], \"direction\": \"left\", \"pad\": {\"r\": 10, \"t\": 70}, \"showactive\": false, \"type\": \"buttons\", \"x\": 0.1, \"xanchor\": \"right\", \"y\": 0, \"yanchor\": \"top\"}], \"xaxis\": {\"anchor\": \"y\", \"categoryarray\": [\"Australia\", \"Brazil\", \"India\", \"US\"], \"categoryorder\": \"array\", \"domain\": [0.0, 1.0], \"title\": {\"text\": \"Country\"}}, \"yaxis\": {\"anchor\": \"x\", \"domain\": [0.0, 1.0], \"range\": [0, 9807569], \"title\": {\"text\": \"Cases\"}}},                        {\"responsive\": true}                    ).then(function(){\n",
              "                            Plotly.addFrames('66710088-1c1b-442a-bcba-10ca7eca933f', [{\"data\": [{\"alignmentgroup\": \"True\", \"hovertemplate\": \"Country=%{x}<br>Date=1/23/20<br>Cases=%{y}<extra></extra>\", \"ids\": [\"Australia\"], \"legendgroup\": \"Australia\", \"marker\": {\"color\": \"#636efa\"}, \"name\": \"Australia\", \"offsetgroup\": \"Australia\", \"orientation\": \"v\", \"showlegend\": true, \"textposition\": \"auto\", \"x\": [\"Australia\"], \"xaxis\": \"x\", \"y\": [0], \"yaxis\": \"y\", \"type\": \"bar\"}, {\"alignmentgroup\": \"True\", \"hovertemplate\": \"Country=%{x}<br>Date=1/23/20<br>Cases=%{y}<extra></extra>\", \"ids\": [\"Brazil\"], \"legendgroup\": \"Brazil\", \"marker\": {\"color\": \"#EF553B\"}, \"name\": \"Brazil\", \"offsetgroup\": \"Brazil\", \"orientation\": \"v\", \"showlegend\": true, \"textposition\": \"auto\", \"x\": [\"Brazil\"], \"xaxis\": \"x\", \"y\": [0], \"yaxis\": \"y\", \"type\": \"bar\"}, {\"alignmentgroup\": \"True\", \"hovertemplate\": \"Country=%{x}<br>Date=1/23/20<br>Cases=%{y}<extra></extra>\", \"ids\": [\"India\"], \"legendgroup\": \"India\", \"marker\": {\"color\": \"#00cc96\"}, \"name\": \"India\", \"offsetgroup\": \"India\", \"orientation\": \"v\", \"showlegend\": true, \"textposition\": \"auto\", \"x\": [\"India\"], \"xaxis\": \"x\", \"y\": [0], \"yaxis\": \"y\", \"type\": \"bar\"}, {\"alignmentgroup\": \"True\", \"hovertemplate\": \"Country=%{x}<br>Date=1/23/20<br>Cases=%{y}<extra></extra>\", \"ids\": [\"US\"], \"legendgroup\": \"US\", \"marker\": {\"color\": \"#ab63fa\"}, \"name\": \"US\", \"offsetgroup\": \"US\", \"orientation\": \"v\", \"showlegend\": true, \"textposition\": \"auto\", \"x\": [\"US\"], \"xaxis\": \"x\", \"y\": [0], \"yaxis\": \"y\", \"type\": \"bar\"}], \"name\": \"1/23/20\"}, {\"data\": [{\"alignmentgroup\": \"True\", \"hovertemplate\": \"Country=%{x}<br>Date=1/28/20<br>Cases=%{y}<extra></extra>\", \"ids\": [\"Australia\"], \"legendgroup\": \"Australia\", \"marker\": {\"color\": \"#636efa\"}, \"name\": \"Australia\", \"offsetgroup\": \"Australia\", \"orientation\": \"v\", \"showlegend\": true, \"textposition\": \"auto\", \"x\": [\"Australia\"], \"xaxis\": \"x\", \"y\": [0], \"yaxis\": \"y\", \"type\": \"bar\"}, {\"alignmentgroup\": \"True\", \"hovertemplate\": \"Country=%{x}<br>Date=1/28/20<br>Cases=%{y}<extra></extra>\", \"ids\": [\"Brazil\"], \"legendgroup\": \"Brazil\", \"marker\": {\"color\": \"#EF553B\"}, \"name\": \"Brazil\", \"offsetgroup\": \"Brazil\", \"orientation\": \"v\", \"showlegend\": true, \"textposition\": \"auto\", \"x\": [\"Brazil\"], \"xaxis\": \"x\", \"y\": [0], \"yaxis\": \"y\", \"type\": \"bar\"}, {\"alignmentgroup\": \"True\", \"hovertemplate\": \"Country=%{x}<br>Date=1/28/20<br>Cases=%{y}<extra></extra>\", \"ids\": [\"India\"], \"legendgroup\": \"India\", \"marker\": {\"color\": \"#00cc96\"}, \"name\": \"India\", \"offsetgroup\": \"India\", \"orientation\": \"v\", \"showlegend\": true, \"textposition\": \"auto\", \"x\": [\"India\"], \"xaxis\": \"x\", \"y\": [0], \"yaxis\": \"y\", \"type\": \"bar\"}, {\"alignmentgroup\": \"True\", \"hovertemplate\": \"Country=%{x}<br>Date=1/28/20<br>Cases=%{y}<extra></extra>\", \"ids\": [\"US\"], \"legendgroup\": \"US\", \"marker\": {\"color\": \"#ab63fa\"}, \"name\": \"US\", \"offsetgroup\": \"US\", \"orientation\": \"v\", \"showlegend\": true, \"textposition\": \"auto\", \"x\": [\"US\"], \"xaxis\": \"x\", \"y\": [0], \"yaxis\": \"y\", \"type\": \"bar\"}], \"name\": \"1/28/20\"}, {\"data\": [{\"alignmentgroup\": \"True\", \"hovertemplate\": \"Country=%{x}<br>Date=2/3/20<br>Cases=%{y}<extra></extra>\", \"ids\": [\"Australia\"], \"legendgroup\": \"Australia\", \"marker\": {\"color\": \"#636efa\"}, \"name\": \"Australia\", \"offsetgroup\": \"Australia\", \"orientation\": \"v\", \"showlegend\": true, \"textposition\": \"auto\", \"x\": [\"Australia\"], \"xaxis\": \"x\", \"y\": [2], \"yaxis\": \"y\", \"type\": \"bar\"}, {\"alignmentgroup\": \"True\", \"hovertemplate\": \"Country=%{x}<br>Date=2/3/20<br>Cases=%{y}<extra></extra>\", \"ids\": [\"Brazil\"], \"legendgroup\": \"Brazil\", \"marker\": {\"color\": \"#EF553B\"}, \"name\": \"Brazil\", \"offsetgroup\": \"Brazil\", \"orientation\": \"v\", \"showlegend\": true, \"textposition\": \"auto\", \"x\": [\"Brazil\"], \"xaxis\": \"x\", \"y\": [0], \"yaxis\": \"y\", \"type\": \"bar\"}, {\"alignmentgroup\": \"True\", \"hovertemplate\": \"Country=%{x}<br>Date=2/3/20<br>Cases=%{y}<extra></extra>\", \"ids\": [\"India\"], \"legendgroup\": \"India\", \"marker\": {\"color\": \"#00cc96\"}, \"name\": \"India\", \"offsetgroup\": \"India\", \"orientation\": \"v\", \"showlegend\": true, \"textposition\": \"auto\", \"x\": [\"India\"], \"xaxis\": \"x\", \"y\": [0], \"yaxis\": \"y\", \"type\": \"bar\"}, {\"alignmentgroup\": \"True\", \"hovertemplate\": \"Country=%{x}<br>Date=2/3/20<br>Cases=%{y}<extra></extra>\", \"ids\": [\"US\"], \"legendgroup\": \"US\", \"marker\": {\"color\": \"#ab63fa\"}, \"name\": \"US\", \"offsetgroup\": \"US\", \"orientation\": \"v\", \"showlegend\": true, \"textposition\": \"auto\", \"x\": [\"US\"], \"xaxis\": \"x\", \"y\": [0], \"yaxis\": \"y\", \"type\": \"bar\"}], \"name\": \"2/3/20\"}, {\"data\": [{\"alignmentgroup\": \"True\", \"hovertemplate\": \"Country=%{x}<br>Date=2/8/20<br>Cases=%{y}<extra></extra>\", \"ids\": [\"Australia\"], \"legendgroup\": \"Australia\", \"marker\": {\"color\": \"#636efa\"}, \"name\": \"Australia\", \"offsetgroup\": \"Australia\", \"orientation\": \"v\", \"showlegend\": true, \"textposition\": \"auto\", \"x\": [\"Australia\"], \"xaxis\": \"x\", \"y\": [2], \"yaxis\": \"y\", \"type\": \"bar\"}, {\"alignmentgroup\": \"True\", \"hovertemplate\": \"Country=%{x}<br>Date=2/8/20<br>Cases=%{y}<extra></extra>\", \"ids\": [\"Brazil\"], \"legendgroup\": \"Brazil\", \"marker\": {\"color\": \"#EF553B\"}, \"name\": \"Brazil\", \"offsetgroup\": \"Brazil\", \"orientation\": \"v\", \"showlegend\": true, \"textposition\": \"auto\", \"x\": [\"Brazil\"], \"xaxis\": \"x\", \"y\": [0], \"yaxis\": \"y\", \"type\": \"bar\"}, {\"alignmentgroup\": \"True\", \"hovertemplate\": \"Country=%{x}<br>Date=2/8/20<br>Cases=%{y}<extra></extra>\", \"ids\": [\"India\"], \"legendgroup\": \"India\", \"marker\": {\"color\": \"#00cc96\"}, \"name\": \"India\", \"offsetgroup\": \"India\", \"orientation\": \"v\", \"showlegend\": true, \"textposition\": \"auto\", \"x\": [\"India\"], \"xaxis\": \"x\", \"y\": [0], \"yaxis\": \"y\", \"type\": \"bar\"}, {\"alignmentgroup\": \"True\", \"hovertemplate\": \"Country=%{x}<br>Date=2/8/20<br>Cases=%{y}<extra></extra>\", \"ids\": [\"US\"], \"legendgroup\": \"US\", \"marker\": {\"color\": \"#ab63fa\"}, \"name\": \"US\", \"offsetgroup\": \"US\", \"orientation\": \"v\", \"showlegend\": true, \"textposition\": \"auto\", \"x\": [\"US\"], \"xaxis\": \"x\", \"y\": [0], \"yaxis\": \"y\", \"type\": \"bar\"}], \"name\": \"2/8/20\"}, {\"data\": [{\"alignmentgroup\": \"True\", \"hovertemplate\": \"Country=%{x}<br>Date=2/11/20<br>Cases=%{y}<extra></extra>\", \"ids\": [\"Australia\"], \"legendgroup\": \"Australia\", \"marker\": {\"color\": \"#636efa\"}, \"name\": \"Australia\", \"offsetgroup\": \"Australia\", \"orientation\": \"v\", \"showlegend\": true, \"textposition\": \"auto\", \"x\": [\"Australia\"], \"xaxis\": \"x\", \"y\": [2], \"yaxis\": \"y\", \"type\": \"bar\"}, {\"alignmentgroup\": \"True\", \"hovertemplate\": \"Country=%{x}<br>Date=2/11/20<br>Cases=%{y}<extra></extra>\", \"ids\": [\"Brazil\"], \"legendgroup\": \"Brazil\", \"marker\": {\"color\": \"#EF553B\"}, \"name\": \"Brazil\", \"offsetgroup\": \"Brazil\", \"orientation\": \"v\", \"showlegend\": true, \"textposition\": \"auto\", \"x\": [\"Brazil\"], \"xaxis\": \"x\", \"y\": [0], \"yaxis\": \"y\", \"type\": \"bar\"}, {\"alignmentgroup\": \"True\", \"hovertemplate\": \"Country=%{x}<br>Date=2/11/20<br>Cases=%{y}<extra></extra>\", \"ids\": [\"India\"], \"legendgroup\": \"India\", \"marker\": {\"color\": \"#00cc96\"}, \"name\": \"India\", \"offsetgroup\": \"India\", \"orientation\": \"v\", \"showlegend\": true, \"textposition\": \"auto\", \"x\": [\"India\"], \"xaxis\": \"x\", \"y\": [0], \"yaxis\": \"y\", \"type\": \"bar\"}, {\"alignmentgroup\": \"True\", \"hovertemplate\": \"Country=%{x}<br>Date=2/11/20<br>Cases=%{y}<extra></extra>\", \"ids\": [\"US\"], \"legendgroup\": \"US\", \"marker\": {\"color\": \"#ab63fa\"}, \"name\": \"US\", \"offsetgroup\": \"US\", \"orientation\": \"v\", \"showlegend\": true, \"textposition\": \"auto\", \"x\": [\"US\"], \"xaxis\": \"x\", \"y\": [3], \"yaxis\": \"y\", \"type\": \"bar\"}], \"name\": \"2/11/20\"}, {\"data\": [{\"alignmentgroup\": \"True\", \"hovertemplate\": \"Country=%{x}<br>Date=2/16/20<br>Cases=%{y}<extra></extra>\", \"ids\": [\"Australia\"], \"legendgroup\": \"Australia\", \"marker\": {\"color\": \"#636efa\"}, \"name\": \"Australia\", \"offsetgroup\": \"Australia\", \"orientation\": \"v\", \"showlegend\": true, \"textposition\": \"auto\", \"x\": [\"Australia\"], \"xaxis\": \"x\", \"y\": [8], \"yaxis\": \"y\", \"type\": \"bar\"}, {\"alignmentgroup\": \"True\", \"hovertemplate\": \"Country=%{x}<br>Date=2/16/20<br>Cases=%{y}<extra></extra>\", \"ids\": [\"Brazil\"], \"legendgroup\": \"Brazil\", \"marker\": {\"color\": \"#EF553B\"}, \"name\": \"Brazil\", \"offsetgroup\": \"Brazil\", \"orientation\": \"v\", \"showlegend\": true, \"textposition\": \"auto\", \"x\": [\"Brazil\"], \"xaxis\": \"x\", \"y\": [0], \"yaxis\": \"y\", \"type\": \"bar\"}, {\"alignmentgroup\": \"True\", \"hovertemplate\": \"Country=%{x}<br>Date=2/16/20<br>Cases=%{y}<extra></extra>\", \"ids\": [\"India\"], \"legendgroup\": \"India\", \"marker\": {\"color\": \"#00cc96\"}, \"name\": \"India\", \"offsetgroup\": \"India\", \"orientation\": \"v\", \"showlegend\": true, \"textposition\": \"auto\", \"x\": [\"India\"], \"xaxis\": \"x\", \"y\": [3], \"yaxis\": \"y\", \"type\": \"bar\"}, {\"alignmentgroup\": \"True\", \"hovertemplate\": \"Country=%{x}<br>Date=2/16/20<br>Cases=%{y}<extra></extra>\", \"ids\": [\"US\"], \"legendgroup\": \"US\", \"marker\": {\"color\": \"#ab63fa\"}, \"name\": \"US\", \"offsetgroup\": \"US\", \"orientation\": \"v\", \"showlegend\": true, \"textposition\": \"auto\", \"x\": [\"US\"], \"xaxis\": \"x\", \"y\": [3], \"yaxis\": \"y\", \"type\": \"bar\"}], \"name\": \"2/16/20\"}, {\"data\": [{\"alignmentgroup\": \"True\", \"hovertemplate\": \"Country=%{x}<br>Date=2/20/20<br>Cases=%{y}<extra></extra>\", \"ids\": [\"Australia\"], \"legendgroup\": \"Australia\", \"marker\": {\"color\": \"#636efa\"}, \"name\": \"Australia\", \"offsetgroup\": \"Australia\", \"orientation\": \"v\", \"showlegend\": true, \"textposition\": \"auto\", \"x\": [\"Australia\"], \"xaxis\": \"x\", \"y\": [10], \"yaxis\": \"y\", \"type\": \"bar\"}, {\"alignmentgroup\": \"True\", \"hovertemplate\": \"Country=%{x}<br>Date=2/20/20<br>Cases=%{y}<extra></extra>\", \"ids\": [\"Brazil\"], \"legendgroup\": \"Brazil\", \"marker\": {\"color\": \"#EF553B\"}, \"name\": \"Brazil\", \"offsetgroup\": \"Brazil\", \"orientation\": \"v\", \"showlegend\": true, \"textposition\": \"auto\", \"x\": [\"Brazil\"], \"xaxis\": \"x\", \"y\": [0], \"yaxis\": \"y\", \"type\": \"bar\"}, {\"alignmentgroup\": \"True\", \"hovertemplate\": \"Country=%{x}<br>Date=2/20/20<br>Cases=%{y}<extra></extra>\", \"ids\": [\"India\"], \"legendgroup\": \"India\", \"marker\": {\"color\": \"#00cc96\"}, \"name\": \"India\", \"offsetgroup\": \"India\", \"orientation\": \"v\", \"showlegend\": true, \"textposition\": \"auto\", \"x\": [\"India\"], \"xaxis\": \"x\", \"y\": [3], \"yaxis\": \"y\", \"type\": \"bar\"}, {\"alignmentgroup\": \"True\", \"hovertemplate\": \"Country=%{x}<br>Date=2/20/20<br>Cases=%{y}<extra></extra>\", \"ids\": [\"US\"], \"legendgroup\": \"US\", \"marker\": {\"color\": \"#ab63fa\"}, \"name\": \"US\", \"offsetgroup\": \"US\", \"orientation\": \"v\", \"showlegend\": true, \"textposition\": \"auto\", \"x\": [\"US\"], \"xaxis\": \"x\", \"y\": [3], \"yaxis\": \"y\", \"type\": \"bar\"}], \"name\": \"2/20/20\"}, {\"data\": [{\"alignmentgroup\": \"True\", \"hovertemplate\": \"Country=%{x}<br>Date=2/25/20<br>Cases=%{y}<extra></extra>\", \"ids\": [\"Australia\"], \"legendgroup\": \"Australia\", \"marker\": {\"color\": \"#636efa\"}, \"name\": \"Australia\", \"offsetgroup\": \"Australia\", \"orientation\": \"v\", \"showlegend\": true, \"textposition\": \"auto\", \"x\": [\"Australia\"], \"xaxis\": \"x\", \"y\": [11], \"yaxis\": \"y\", \"type\": \"bar\"}, {\"alignmentgroup\": \"True\", \"hovertemplate\": \"Country=%{x}<br>Date=2/25/20<br>Cases=%{y}<extra></extra>\", \"ids\": [\"Brazil\"], \"legendgroup\": \"Brazil\", \"marker\": {\"color\": \"#EF553B\"}, \"name\": \"Brazil\", \"offsetgroup\": \"Brazil\", \"orientation\": \"v\", \"showlegend\": true, \"textposition\": \"auto\", \"x\": [\"Brazil\"], \"xaxis\": \"x\", \"y\": [0], \"yaxis\": \"y\", \"type\": \"bar\"}, {\"alignmentgroup\": \"True\", \"hovertemplate\": \"Country=%{x}<br>Date=2/25/20<br>Cases=%{y}<extra></extra>\", \"ids\": [\"India\"], \"legendgroup\": \"India\", \"marker\": {\"color\": \"#00cc96\"}, \"name\": \"India\", \"offsetgroup\": \"India\", \"orientation\": \"v\", \"showlegend\": true, \"textposition\": \"auto\", \"x\": [\"India\"], \"xaxis\": \"x\", \"y\": [3], \"yaxis\": \"y\", \"type\": \"bar\"}, {\"alignmentgroup\": \"True\", \"hovertemplate\": \"Country=%{x}<br>Date=2/25/20<br>Cases=%{y}<extra></extra>\", \"ids\": [\"US\"], \"legendgroup\": \"US\", \"marker\": {\"color\": \"#ab63fa\"}, \"name\": \"US\", \"offsetgroup\": \"US\", \"orientation\": \"v\", \"showlegend\": true, \"textposition\": \"auto\", \"x\": [\"US\"], \"xaxis\": \"x\", \"y\": [6], \"yaxis\": \"y\", \"type\": \"bar\"}], \"name\": \"2/25/20\"}, {\"data\": [{\"alignmentgroup\": \"True\", \"hovertemplate\": \"Country=%{x}<br>Date=3/7/20<br>Cases=%{y}<extra></extra>\", \"ids\": [\"Australia\"], \"legendgroup\": \"Australia\", \"marker\": {\"color\": \"#636efa\"}, \"name\": \"Australia\", \"offsetgroup\": \"Australia\", \"orientation\": \"v\", \"showlegend\": true, \"textposition\": \"auto\", \"x\": [\"Australia\"], \"xaxis\": \"x\", \"y\": [21], \"yaxis\": \"y\", \"type\": \"bar\"}, {\"alignmentgroup\": \"True\", \"hovertemplate\": \"Country=%{x}<br>Date=3/7/20<br>Cases=%{y}<extra></extra>\", \"ids\": [\"Brazil\"], \"legendgroup\": \"Brazil\", \"marker\": {\"color\": \"#EF553B\"}, \"name\": \"Brazil\", \"offsetgroup\": \"Brazil\", \"orientation\": \"v\", \"showlegend\": true, \"textposition\": \"auto\", \"x\": [\"Brazil\"], \"xaxis\": \"x\", \"y\": [0], \"yaxis\": \"y\", \"type\": \"bar\"}, {\"alignmentgroup\": \"True\", \"hovertemplate\": \"Country=%{x}<br>Date=3/7/20<br>Cases=%{y}<extra></extra>\", \"ids\": [\"India\"], \"legendgroup\": \"India\", \"marker\": {\"color\": \"#00cc96\"}, \"name\": \"India\", \"offsetgroup\": \"India\", \"orientation\": \"v\", \"showlegend\": true, \"textposition\": \"auto\", \"x\": [\"India\"], \"xaxis\": \"x\", \"y\": [3], \"yaxis\": \"y\", \"type\": \"bar\"}, {\"alignmentgroup\": \"True\", \"hovertemplate\": \"Country=%{x}<br>Date=3/7/20<br>Cases=%{y}<extra></extra>\", \"ids\": [\"US\"], \"legendgroup\": \"US\", \"marker\": {\"color\": \"#ab63fa\"}, \"name\": \"US\", \"offsetgroup\": \"US\", \"orientation\": \"v\", \"showlegend\": true, \"textposition\": \"auto\", \"x\": [\"US\"], \"xaxis\": \"x\", \"y\": [7], \"yaxis\": \"y\", \"type\": \"bar\"}], \"name\": \"3/7/20\"}, {\"data\": [{\"alignmentgroup\": \"True\", \"hovertemplate\": \"Country=%{x}<br>Date=3/12/20<br>Cases=%{y}<extra></extra>\", \"ids\": [\"Australia\"], \"legendgroup\": \"Australia\", \"marker\": {\"color\": \"#636efa\"}, \"name\": \"Australia\", \"offsetgroup\": \"Australia\", \"orientation\": \"v\", \"showlegend\": true, \"textposition\": \"auto\", \"x\": [\"Australia\"], \"xaxis\": \"x\", \"y\": [21], \"yaxis\": \"y\", \"type\": \"bar\"}, {\"alignmentgroup\": \"True\", \"hovertemplate\": \"Country=%{x}<br>Date=3/12/20<br>Cases=%{y}<extra></extra>\", \"ids\": [\"Brazil\"], \"legendgroup\": \"Brazil\", \"marker\": {\"color\": \"#EF553B\"}, \"name\": \"Brazil\", \"offsetgroup\": \"Brazil\", \"orientation\": \"v\", \"showlegend\": true, \"textposition\": \"auto\", \"x\": [\"Brazil\"], \"xaxis\": \"x\", \"y\": [0], \"yaxis\": \"y\", \"type\": \"bar\"}, {\"alignmentgroup\": \"True\", \"hovertemplate\": \"Country=%{x}<br>Date=3/12/20<br>Cases=%{y}<extra></extra>\", \"ids\": [\"India\"], \"legendgroup\": \"India\", \"marker\": {\"color\": \"#00cc96\"}, \"name\": \"India\", \"offsetgroup\": \"India\", \"orientation\": \"v\", \"showlegend\": true, \"textposition\": \"auto\", \"x\": [\"India\"], \"xaxis\": \"x\", \"y\": [4], \"yaxis\": \"y\", \"type\": \"bar\"}, {\"alignmentgroup\": \"True\", \"hovertemplate\": \"Country=%{x}<br>Date=3/12/20<br>Cases=%{y}<extra></extra>\", \"ids\": [\"US\"], \"legendgroup\": \"US\", \"marker\": {\"color\": \"#ab63fa\"}, \"name\": \"US\", \"offsetgroup\": \"US\", \"orientation\": \"v\", \"showlegend\": true, \"textposition\": \"auto\", \"x\": [\"US\"], \"xaxis\": \"x\", \"y\": [12], \"yaxis\": \"y\", \"type\": \"bar\"}], \"name\": \"3/12/20\"}, {\"data\": [{\"alignmentgroup\": \"True\", \"hovertemplate\": \"Country=%{x}<br>Date=3/17/20<br>Cases=%{y}<extra></extra>\", \"ids\": [\"Australia\"], \"legendgroup\": \"Australia\", \"marker\": {\"color\": \"#636efa\"}, \"name\": \"Australia\", \"offsetgroup\": \"Australia\", \"orientation\": \"v\", \"showlegend\": true, \"textposition\": \"auto\", \"x\": [\"Australia\"], \"xaxis\": \"x\", \"y\": [23], \"yaxis\": \"y\", \"type\": \"bar\"}, {\"alignmentgroup\": \"True\", \"hovertemplate\": \"Country=%{x}<br>Date=3/17/20<br>Cases=%{y}<extra></extra>\", \"ids\": [\"Brazil\"], \"legendgroup\": \"Brazil\", \"marker\": {\"color\": \"#EF553B\"}, \"name\": \"Brazil\", \"offsetgroup\": \"Brazil\", \"orientation\": \"v\", \"showlegend\": true, \"textposition\": \"auto\", \"x\": [\"Brazil\"], \"xaxis\": \"x\", \"y\": [2], \"yaxis\": \"y\", \"type\": \"bar\"}, {\"alignmentgroup\": \"True\", \"hovertemplate\": \"Country=%{x}<br>Date=3/17/20<br>Cases=%{y}<extra></extra>\", \"ids\": [\"India\"], \"legendgroup\": \"India\", \"marker\": {\"color\": \"#00cc96\"}, \"name\": \"India\", \"offsetgroup\": \"India\", \"orientation\": \"v\", \"showlegend\": true, \"textposition\": \"auto\", \"x\": [\"India\"], \"xaxis\": \"x\", \"y\": [14], \"yaxis\": \"y\", \"type\": \"bar\"}, {\"alignmentgroup\": \"True\", \"hovertemplate\": \"Country=%{x}<br>Date=3/17/20<br>Cases=%{y}<extra></extra>\", \"ids\": [\"US\"], \"legendgroup\": \"US\", \"marker\": {\"color\": \"#ab63fa\"}, \"name\": \"US\", \"offsetgroup\": \"US\", \"orientation\": \"v\", \"showlegend\": true, \"textposition\": \"auto\", \"x\": [\"US\"], \"xaxis\": \"x\", \"y\": [17], \"yaxis\": \"y\", \"type\": \"bar\"}], \"name\": \"3/17/20\"}, {\"data\": [{\"alignmentgroup\": \"True\", \"hovertemplate\": \"Country=%{x}<br>Date=3/21/20<br>Cases=%{y}<extra></extra>\", \"ids\": [\"Australia\"], \"legendgroup\": \"Australia\", \"marker\": {\"color\": \"#636efa\"}, \"name\": \"Australia\", \"offsetgroup\": \"Australia\", \"orientation\": \"v\", \"showlegend\": true, \"textposition\": \"auto\", \"x\": [\"Australia\"], \"xaxis\": \"x\", \"y\": [26], \"yaxis\": \"y\", \"type\": \"bar\"}, {\"alignmentgroup\": \"True\", \"hovertemplate\": \"Country=%{x}<br>Date=3/21/20<br>Cases=%{y}<extra></extra>\", \"ids\": [\"Brazil\"], \"legendgroup\": \"Brazil\", \"marker\": {\"color\": \"#EF553B\"}, \"name\": \"Brazil\", \"offsetgroup\": \"Brazil\", \"orientation\": \"v\", \"showlegend\": true, \"textposition\": \"auto\", \"x\": [\"Brazil\"], \"xaxis\": \"x\", \"y\": [2], \"yaxis\": \"y\", \"type\": \"bar\"}, {\"alignmentgroup\": \"True\", \"hovertemplate\": \"Country=%{x}<br>Date=3/21/20<br>Cases=%{y}<extra></extra>\", \"ids\": [\"India\"], \"legendgroup\": \"India\", \"marker\": {\"color\": \"#00cc96\"}, \"name\": \"India\", \"offsetgroup\": \"India\", \"orientation\": \"v\", \"showlegend\": true, \"textposition\": \"auto\", \"x\": [\"India\"], \"xaxis\": \"x\", \"y\": [23], \"yaxis\": \"y\", \"type\": \"bar\"}, {\"alignmentgroup\": \"True\", \"hovertemplate\": \"Country=%{x}<br>Date=3/21/20<br>Cases=%{y}<extra></extra>\", \"ids\": [\"US\"], \"legendgroup\": \"US\", \"marker\": {\"color\": \"#ab63fa\"}, \"name\": \"US\", \"offsetgroup\": \"US\", \"orientation\": \"v\", \"showlegend\": true, \"textposition\": \"auto\", \"x\": [\"US\"], \"xaxis\": \"x\", \"y\": [176], \"yaxis\": \"y\", \"type\": \"bar\"}], \"name\": \"3/21/20\"}, {\"data\": [{\"alignmentgroup\": \"True\", \"hovertemplate\": \"Country=%{x}<br>Date=3/26/20<br>Cases=%{y}<extra></extra>\", \"ids\": [\"Australia\"], \"legendgroup\": \"Australia\", \"marker\": {\"color\": \"#636efa\"}, \"name\": \"Australia\", \"offsetgroup\": \"Australia\", \"orientation\": \"v\", \"showlegend\": true, \"textposition\": \"auto\", \"x\": [\"Australia\"], \"xaxis\": \"x\", \"y\": [172], \"yaxis\": \"y\", \"type\": \"bar\"}, {\"alignmentgroup\": \"True\", \"hovertemplate\": \"Country=%{x}<br>Date=3/26/20<br>Cases=%{y}<extra></extra>\", \"ids\": [\"Brazil\"], \"legendgroup\": \"Brazil\", \"marker\": {\"color\": \"#EF553B\"}, \"name\": \"Brazil\", \"offsetgroup\": \"Brazil\", \"orientation\": \"v\", \"showlegend\": true, \"textposition\": \"auto\", \"x\": [\"Brazil\"], \"xaxis\": \"x\", \"y\": [6], \"yaxis\": \"y\", \"type\": \"bar\"}, {\"alignmentgroup\": \"True\", \"hovertemplate\": \"Country=%{x}<br>Date=3/26/20<br>Cases=%{y}<extra></extra>\", \"ids\": [\"India\"], \"legendgroup\": \"India\", \"marker\": {\"color\": \"#00cc96\"}, \"name\": \"India\", \"offsetgroup\": \"India\", \"orientation\": \"v\", \"showlegend\": true, \"textposition\": \"auto\", \"x\": [\"India\"], \"xaxis\": \"x\", \"y\": [45], \"yaxis\": \"y\", \"type\": \"bar\"}, {\"alignmentgroup\": \"True\", \"hovertemplate\": \"Country=%{x}<br>Date=3/26/20<br>Cases=%{y}<extra></extra>\", \"ids\": [\"US\"], \"legendgroup\": \"US\", \"marker\": {\"color\": \"#ab63fa\"}, \"name\": \"US\", \"offsetgroup\": \"US\", \"orientation\": \"v\", \"showlegend\": true, \"textposition\": \"auto\", \"x\": [\"US\"], \"xaxis\": \"x\", \"y\": [681], \"yaxis\": \"y\", \"type\": \"bar\"}], \"name\": \"3/26/20\"}, {\"data\": [{\"alignmentgroup\": \"True\", \"hovertemplate\": \"Country=%{x}<br>Date=3/30/20<br>Cases=%{y}<extra></extra>\", \"ids\": [\"Australia\"], \"legendgroup\": \"Australia\", \"marker\": {\"color\": \"#636efa\"}, \"name\": \"Australia\", \"offsetgroup\": \"Australia\", \"orientation\": \"v\", \"showlegend\": true, \"textposition\": \"auto\", \"x\": [\"Australia\"], \"xaxis\": \"x\", \"y\": [257], \"yaxis\": \"y\", \"type\": \"bar\"}, {\"alignmentgroup\": \"True\", \"hovertemplate\": \"Country=%{x}<br>Date=3/30/20<br>Cases=%{y}<extra></extra>\", \"ids\": [\"Brazil\"], \"legendgroup\": \"Brazil\", \"marker\": {\"color\": \"#EF553B\"}, \"name\": \"Brazil\", \"offsetgroup\": \"Brazil\", \"orientation\": \"v\", \"showlegend\": true, \"textposition\": \"auto\", \"x\": [\"Brazil\"], \"xaxis\": \"x\", \"y\": [120], \"yaxis\": \"y\", \"type\": \"bar\"}, {\"alignmentgroup\": \"True\", \"hovertemplate\": \"Country=%{x}<br>Date=3/30/20<br>Cases=%{y}<extra></extra>\", \"ids\": [\"India\"], \"legendgroup\": \"India\", \"marker\": {\"color\": \"#00cc96\"}, \"name\": \"India\", \"offsetgroup\": \"India\", \"orientation\": \"v\", \"showlegend\": true, \"textposition\": \"auto\", \"x\": [\"India\"], \"xaxis\": \"x\", \"y\": [102], \"yaxis\": \"y\", \"type\": \"bar\"}, {\"alignmentgroup\": \"True\", \"hovertemplate\": \"Country=%{x}<br>Date=3/30/20<br>Cases=%{y}<extra></extra>\", \"ids\": [\"US\"], \"legendgroup\": \"US\", \"marker\": {\"color\": \"#ab63fa\"}, \"name\": \"US\", \"offsetgroup\": \"US\", \"orientation\": \"v\", \"showlegend\": true, \"textposition\": \"auto\", \"x\": [\"US\"], \"xaxis\": \"x\", \"y\": [5644], \"yaxis\": \"y\", \"type\": \"bar\"}], \"name\": \"3/30/20\"}, {\"data\": [{\"alignmentgroup\": \"True\", \"hovertemplate\": \"Country=%{x}<br>Date=4/3/20<br>Cases=%{y}<extra></extra>\", \"ids\": [\"Australia\"], \"legendgroup\": \"Australia\", \"marker\": {\"color\": \"#636efa\"}, \"name\": \"Australia\", \"offsetgroup\": \"Australia\", \"orientation\": \"v\", \"showlegend\": true, \"textposition\": \"auto\", \"x\": [\"Australia\"], \"xaxis\": \"x\", \"y\": [649], \"yaxis\": \"y\", \"type\": \"bar\"}, {\"alignmentgroup\": \"True\", \"hovertemplate\": \"Country=%{x}<br>Date=4/3/20<br>Cases=%{y}<extra></extra>\", \"ids\": [\"Brazil\"], \"legendgroup\": \"Brazil\", \"marker\": {\"color\": \"#EF553B\"}, \"name\": \"Brazil\", \"offsetgroup\": \"Brazil\", \"orientation\": \"v\", \"showlegend\": true, \"textposition\": \"auto\", \"x\": [\"Brazil\"], \"xaxis\": \"x\", \"y\": [127], \"yaxis\": \"y\", \"type\": \"bar\"}, {\"alignmentgroup\": \"True\", \"hovertemplate\": \"Country=%{x}<br>Date=4/3/20<br>Cases=%{y}<extra></extra>\", \"ids\": [\"India\"], \"legendgroup\": \"India\", \"marker\": {\"color\": \"#00cc96\"}, \"name\": \"India\", \"offsetgroup\": \"India\", \"orientation\": \"v\", \"showlegend\": true, \"textposition\": \"auto\", \"x\": [\"India\"], \"xaxis\": \"x\", \"y\": [192], \"yaxis\": \"y\", \"type\": \"bar\"}, {\"alignmentgroup\": \"True\", \"hovertemplate\": \"Country=%{x}<br>Date=4/3/20<br>Cases=%{y}<extra></extra>\", \"ids\": [\"US\"], \"legendgroup\": \"US\", \"marker\": {\"color\": \"#ab63fa\"}, \"name\": \"US\", \"offsetgroup\": \"US\", \"orientation\": \"v\", \"showlegend\": true, \"textposition\": \"auto\", \"x\": [\"US\"], \"xaxis\": \"x\", \"y\": [9707], \"yaxis\": \"y\", \"type\": \"bar\"}], \"name\": \"4/3/20\"}, {\"data\": [{\"alignmentgroup\": \"True\", \"hovertemplate\": \"Country=%{x}<br>Date=4/7/20<br>Cases=%{y}<extra></extra>\", \"ids\": [\"Australia\"], \"legendgroup\": \"Australia\", \"marker\": {\"color\": \"#636efa\"}, \"name\": \"Australia\", \"offsetgroup\": \"Australia\", \"orientation\": \"v\", \"showlegend\": true, \"textposition\": \"auto\", \"x\": [\"Australia\"], \"xaxis\": \"x\", \"y\": [1080], \"yaxis\": \"y\", \"type\": \"bar\"}, {\"alignmentgroup\": \"True\", \"hovertemplate\": \"Country=%{x}<br>Date=4/7/20<br>Cases=%{y}<extra></extra>\", \"ids\": [\"Brazil\"], \"legendgroup\": \"Brazil\", \"marker\": {\"color\": \"#EF553B\"}, \"name\": \"Brazil\", \"offsetgroup\": \"Brazil\", \"orientation\": \"v\", \"showlegend\": true, \"textposition\": \"auto\", \"x\": [\"Brazil\"], \"xaxis\": \"x\", \"y\": [127], \"yaxis\": \"y\", \"type\": \"bar\"}, {\"alignmentgroup\": \"True\", \"hovertemplate\": \"Country=%{x}<br>Date=4/7/20<br>Cases=%{y}<extra></extra>\", \"ids\": [\"India\"], \"legendgroup\": \"India\", \"marker\": {\"color\": \"#00cc96\"}, \"name\": \"India\", \"offsetgroup\": \"India\", \"orientation\": \"v\", \"showlegend\": true, \"textposition\": \"auto\", \"x\": [\"India\"], \"xaxis\": \"x\", \"y\": [421], \"yaxis\": \"y\", \"type\": \"bar\"}, {\"alignmentgroup\": \"True\", \"hovertemplate\": \"Country=%{x}<br>Date=4/7/20<br>Cases=%{y}<extra></extra>\", \"ids\": [\"US\"], \"legendgroup\": \"US\", \"marker\": {\"color\": \"#ab63fa\"}, \"name\": \"US\", \"offsetgroup\": \"US\", \"orientation\": \"v\", \"showlegend\": true, \"textposition\": \"auto\", \"x\": [\"US\"], \"xaxis\": \"x\", \"y\": [21763], \"yaxis\": \"y\", \"type\": \"bar\"}], \"name\": \"4/7/20\"}, {\"data\": [{\"alignmentgroup\": \"True\", \"hovertemplate\": \"Country=%{x}<br>Date=4/11/20<br>Cases=%{y}<extra></extra>\", \"ids\": [\"Australia\"], \"legendgroup\": \"Australia\", \"marker\": {\"color\": \"#636efa\"}, \"name\": \"Australia\", \"offsetgroup\": \"Australia\", \"orientation\": \"v\", \"showlegend\": true, \"textposition\": \"auto\", \"x\": [\"Australia\"], \"xaxis\": \"x\", \"y\": [1806], \"yaxis\": \"y\", \"type\": \"bar\"}, {\"alignmentgroup\": \"True\", \"hovertemplate\": \"Country=%{x}<br>Date=4/11/20<br>Cases=%{y}<extra></extra>\", \"ids\": [\"Brazil\"], \"legendgroup\": \"Brazil\", \"marker\": {\"color\": \"#EF553B\"}, \"name\": \"Brazil\", \"offsetgroup\": \"Brazil\", \"orientation\": \"v\", \"showlegend\": true, \"textposition\": \"auto\", \"x\": [\"Brazil\"], \"xaxis\": \"x\", \"y\": [173], \"yaxis\": \"y\", \"type\": \"bar\"}, {\"alignmentgroup\": \"True\", \"hovertemplate\": \"Country=%{x}<br>Date=4/11/20<br>Cases=%{y}<extra></extra>\", \"ids\": [\"India\"], \"legendgroup\": \"India\", \"marker\": {\"color\": \"#00cc96\"}, \"name\": \"India\", \"offsetgroup\": \"India\", \"orientation\": \"v\", \"showlegend\": true, \"textposition\": \"auto\", \"x\": [\"India\"], \"xaxis\": \"x\", \"y\": [969], \"yaxis\": \"y\", \"type\": \"bar\"}, {\"alignmentgroup\": \"True\", \"hovertemplate\": \"Country=%{x}<br>Date=4/11/20<br>Cases=%{y}<extra></extra>\", \"ids\": [\"US\"], \"legendgroup\": \"US\", \"marker\": {\"color\": \"#ab63fa\"}, \"name\": \"US\", \"offsetgroup\": \"US\", \"orientation\": \"v\", \"showlegend\": true, \"textposition\": \"auto\", \"x\": [\"US\"], \"xaxis\": \"x\", \"y\": [31270], \"yaxis\": \"y\", \"type\": \"bar\"}], \"name\": \"4/11/20\"}, {\"data\": [{\"alignmentgroup\": \"True\", \"hovertemplate\": \"Country=%{x}<br>Date=4/16/20<br>Cases=%{y}<extra></extra>\", \"ids\": [\"Australia\"], \"legendgroup\": \"Australia\", \"marker\": {\"color\": \"#636efa\"}, \"name\": \"Australia\", \"offsetgroup\": \"Australia\", \"orientation\": \"v\", \"showlegend\": true, \"textposition\": \"auto\", \"x\": [\"Australia\"], \"xaxis\": \"x\", \"y\": [2355], \"yaxis\": \"y\", \"type\": \"bar\"}, {\"alignmentgroup\": \"True\", \"hovertemplate\": \"Country=%{x}<br>Date=4/16/20<br>Cases=%{y}<extra></extra>\", \"ids\": [\"Brazil\"], \"legendgroup\": \"Brazil\", \"marker\": {\"color\": \"#EF553B\"}, \"name\": \"Brazil\", \"offsetgroup\": \"Brazil\", \"orientation\": \"v\", \"showlegend\": true, \"textposition\": \"auto\", \"x\": [\"Brazil\"], \"xaxis\": \"x\", \"y\": [14026], \"yaxis\": \"y\", \"type\": \"bar\"}, {\"alignmentgroup\": \"True\", \"hovertemplate\": \"Country=%{x}<br>Date=4/16/20<br>Cases=%{y}<extra></extra>\", \"ids\": [\"India\"], \"legendgroup\": \"India\", \"marker\": {\"color\": \"#00cc96\"}, \"name\": \"India\", \"offsetgroup\": \"India\", \"orientation\": \"v\", \"showlegend\": true, \"textposition\": \"auto\", \"x\": [\"India\"], \"xaxis\": \"x\", \"y\": [1768], \"yaxis\": \"y\", \"type\": \"bar\"}, {\"alignmentgroup\": \"True\", \"hovertemplate\": \"Country=%{x}<br>Date=4/16/20<br>Cases=%{y}<extra></extra>\", \"ids\": [\"US\"], \"legendgroup\": \"US\", \"marker\": {\"color\": \"#ab63fa\"}, \"name\": \"US\", \"offsetgroup\": \"US\", \"orientation\": \"v\", \"showlegend\": true, \"textposition\": \"auto\", \"x\": [\"US\"], \"xaxis\": \"x\", \"y\": [54703], \"yaxis\": \"y\", \"type\": \"bar\"}], \"name\": \"4/16/20\"}, {\"data\": [{\"alignmentgroup\": \"True\", \"hovertemplate\": \"Country=%{x}<br>Date=4/20/20<br>Cases=%{y}<extra></extra>\", \"ids\": [\"Australia\"], \"legendgroup\": \"Australia\", \"marker\": {\"color\": \"#636efa\"}, \"name\": \"Australia\", \"offsetgroup\": \"Australia\", \"orientation\": \"v\", \"showlegend\": true, \"textposition\": \"auto\", \"x\": [\"Australia\"], \"xaxis\": \"x\", \"y\": [4291], \"yaxis\": \"y\", \"type\": \"bar\"}, {\"alignmentgroup\": \"True\", \"hovertemplate\": \"Country=%{x}<br>Date=4/20/20<br>Cases=%{y}<extra></extra>\", \"ids\": [\"Brazil\"], \"legendgroup\": \"Brazil\", \"marker\": {\"color\": \"#EF553B\"}, \"name\": \"Brazil\", \"offsetgroup\": \"Brazil\", \"orientation\": \"v\", \"showlegend\": true, \"textposition\": \"auto\", \"x\": [\"Brazil\"], \"xaxis\": \"x\", \"y\": [22130], \"yaxis\": \"y\", \"type\": \"bar\"}, {\"alignmentgroup\": \"True\", \"hovertemplate\": \"Country=%{x}<br>Date=4/20/20<br>Cases=%{y}<extra></extra>\", \"ids\": [\"India\"], \"legendgroup\": \"India\", \"marker\": {\"color\": \"#00cc96\"}, \"name\": \"India\", \"offsetgroup\": \"India\", \"orientation\": \"v\", \"showlegend\": true, \"textposition\": \"auto\", \"x\": [\"India\"], \"xaxis\": \"x\", \"y\": [3273], \"yaxis\": \"y\", \"type\": \"bar\"}, {\"alignmentgroup\": \"True\", \"hovertemplate\": \"Country=%{x}<br>Date=4/20/20<br>Cases=%{y}<extra></extra>\", \"ids\": [\"US\"], \"legendgroup\": \"US\", \"marker\": {\"color\": \"#ab63fa\"}, \"name\": \"US\", \"offsetgroup\": \"US\", \"orientation\": \"v\", \"showlegend\": true, \"textposition\": \"auto\", \"x\": [\"US\"], \"xaxis\": \"x\", \"y\": [72329], \"yaxis\": \"y\", \"type\": \"bar\"}], \"name\": \"4/20/20\"}, {\"data\": [{\"alignmentgroup\": \"True\", \"hovertemplate\": \"Country=%{x}<br>Date=4/25/20<br>Cases=%{y}<extra></extra>\", \"ids\": [\"Australia\"], \"legendgroup\": \"Australia\", \"marker\": {\"color\": \"#636efa\"}, \"name\": \"Australia\", \"offsetgroup\": \"Australia\", \"orientation\": \"v\", \"showlegend\": true, \"textposition\": \"auto\", \"x\": [\"Australia\"], \"xaxis\": \"x\", \"y\": [5376], \"yaxis\": \"y\", \"type\": \"bar\"}, {\"alignmentgroup\": \"True\", \"hovertemplate\": \"Country=%{x}<br>Date=4/25/20<br>Cases=%{y}<extra></extra>\", \"ids\": [\"Brazil\"], \"legendgroup\": \"Brazil\", \"marker\": {\"color\": \"#EF553B\"}, \"name\": \"Brazil\", \"offsetgroup\": \"Brazil\", \"orientation\": \"v\", \"showlegend\": true, \"textposition\": \"auto\", \"x\": [\"Brazil\"], \"xaxis\": \"x\", \"y\": [29160], \"yaxis\": \"y\", \"type\": \"bar\"}, {\"alignmentgroup\": \"True\", \"hovertemplate\": \"Country=%{x}<br>Date=4/25/20<br>Cases=%{y}<extra></extra>\", \"ids\": [\"India\"], \"legendgroup\": \"India\", \"marker\": {\"color\": \"#00cc96\"}, \"name\": \"India\", \"offsetgroup\": \"India\", \"orientation\": \"v\", \"showlegend\": true, \"textposition\": \"auto\", \"x\": [\"India\"], \"xaxis\": \"x\", \"y\": [5939], \"yaxis\": \"y\", \"type\": \"bar\"}, {\"alignmentgroup\": \"True\", \"hovertemplate\": \"Country=%{x}<br>Date=4/25/20<br>Cases=%{y}<extra></extra>\", \"ids\": [\"US\"], \"legendgroup\": \"US\", \"marker\": {\"color\": \"#ab63fa\"}, \"name\": \"US\", \"offsetgroup\": \"US\", \"orientation\": \"v\", \"showlegend\": true, \"textposition\": \"auto\", \"x\": [\"US\"], \"xaxis\": \"x\", \"y\": [100372], \"yaxis\": \"y\", \"type\": \"bar\"}], \"name\": \"4/25/20\"}, {\"data\": [{\"alignmentgroup\": \"True\", \"hovertemplate\": \"Country=%{x}<br>Date=5/3/20<br>Cases=%{y}<extra></extra>\", \"ids\": [\"Australia\"], \"legendgroup\": \"Australia\", \"marker\": {\"color\": \"#636efa\"}, \"name\": \"Australia\", \"offsetgroup\": \"Australia\", \"orientation\": \"v\", \"showlegend\": true, \"textposition\": \"auto\", \"x\": [\"Australia\"], \"xaxis\": \"x\", \"y\": [5849], \"yaxis\": \"y\", \"type\": \"bar\"}, {\"alignmentgroup\": \"True\", \"hovertemplate\": \"Country=%{x}<br>Date=5/3/20<br>Cases=%{y}<extra></extra>\", \"ids\": [\"Brazil\"], \"legendgroup\": \"Brazil\", \"marker\": {\"color\": \"#EF553B\"}, \"name\": \"Brazil\", \"offsetgroup\": \"Brazil\", \"orientation\": \"v\", \"showlegend\": true, \"textposition\": \"auto\", \"x\": [\"Brazil\"], \"xaxis\": \"x\", \"y\": [42991], \"yaxis\": \"y\", \"type\": \"bar\"}, {\"alignmentgroup\": \"True\", \"hovertemplate\": \"Country=%{x}<br>Date=5/3/20<br>Cases=%{y}<extra></extra>\", \"ids\": [\"India\"], \"legendgroup\": \"India\", \"marker\": {\"color\": \"#00cc96\"}, \"name\": \"India\", \"offsetgroup\": \"India\", \"orientation\": \"v\", \"showlegend\": true, \"textposition\": \"auto\", \"x\": [\"India\"], \"xaxis\": \"x\", \"y\": [11775], \"yaxis\": \"y\", \"type\": \"bar\"}, {\"alignmentgroup\": \"True\", \"hovertemplate\": \"Country=%{x}<br>Date=5/3/20<br>Cases=%{y}<extra></extra>\", \"ids\": [\"US\"], \"legendgroup\": \"US\", \"marker\": {\"color\": \"#ab63fa\"}, \"name\": \"US\", \"offsetgroup\": \"US\", \"orientation\": \"v\", \"showlegend\": true, \"textposition\": \"auto\", \"x\": [\"US\"], \"xaxis\": \"x\", \"y\": [180152], \"yaxis\": \"y\", \"type\": \"bar\"}], \"name\": \"5/3/20\"}, {\"data\": [{\"alignmentgroup\": \"True\", \"hovertemplate\": \"Country=%{x}<br>Date=5/6/20<br>Cases=%{y}<extra></extra>\", \"ids\": [\"Australia\"], \"legendgroup\": \"Australia\", \"marker\": {\"color\": \"#636efa\"}, \"name\": \"Australia\", \"offsetgroup\": \"Australia\", \"orientation\": \"v\", \"showlegend\": true, \"textposition\": \"auto\", \"x\": [\"Australia\"], \"xaxis\": \"x\", \"y\": [6031], \"yaxis\": \"y\", \"type\": \"bar\"}, {\"alignmentgroup\": \"True\", \"hovertemplate\": \"Country=%{x}<br>Date=5/6/20<br>Cases=%{y}<extra></extra>\", \"ids\": [\"Brazil\"], \"legendgroup\": \"Brazil\", \"marker\": {\"color\": \"#EF553B\"}, \"name\": \"Brazil\", \"offsetgroup\": \"Brazil\", \"orientation\": \"v\", \"showlegend\": true, \"textposition\": \"auto\", \"x\": [\"Brazil\"], \"xaxis\": \"x\", \"y\": [51370], \"yaxis\": \"y\", \"type\": \"bar\"}, {\"alignmentgroup\": \"True\", \"hovertemplate\": \"Country=%{x}<br>Date=5/6/20<br>Cases=%{y}<extra></extra>\", \"ids\": [\"India\"], \"legendgroup\": \"India\", \"marker\": {\"color\": \"#00cc96\"}, \"name\": \"India\", \"offsetgroup\": \"India\", \"orientation\": \"v\", \"showlegend\": true, \"textposition\": \"auto\", \"x\": [\"India\"], \"xaxis\": \"x\", \"y\": [15331], \"yaxis\": \"y\", \"type\": \"bar\"}, {\"alignmentgroup\": \"True\", \"hovertemplate\": \"Country=%{x}<br>Date=5/6/20<br>Cases=%{y}<extra></extra>\", \"ids\": [\"US\"], \"legendgroup\": \"US\", \"marker\": {\"color\": \"#ab63fa\"}, \"name\": \"US\", \"offsetgroup\": \"US\", \"orientation\": \"v\", \"showlegend\": true, \"textposition\": \"auto\", \"x\": [\"US\"], \"xaxis\": \"x\", \"y\": [189910], \"yaxis\": \"y\", \"type\": \"bar\"}], \"name\": \"5/6/20\"}, {\"data\": [{\"alignmentgroup\": \"True\", \"hovertemplate\": \"Country=%{x}<br>Date=5/11/20<br>Cases=%{y}<extra></extra>\", \"ids\": [\"Australia\"], \"legendgroup\": \"Australia\", \"marker\": {\"color\": \"#636efa\"}, \"name\": \"Australia\", \"offsetgroup\": \"Australia\", \"orientation\": \"v\", \"showlegend\": true, \"textposition\": \"auto\", \"x\": [\"Australia\"], \"xaxis\": \"x\", \"y\": [6213], \"yaxis\": \"y\", \"type\": \"bar\"}, {\"alignmentgroup\": \"True\", \"hovertemplate\": \"Country=%{x}<br>Date=5/11/20<br>Cases=%{y}<extra></extra>\", \"ids\": [\"Brazil\"], \"legendgroup\": \"Brazil\", \"marker\": {\"color\": \"#EF553B\"}, \"name\": \"Brazil\", \"offsetgroup\": \"Brazil\", \"orientation\": \"v\", \"showlegend\": true, \"textposition\": \"auto\", \"x\": [\"Brazil\"], \"xaxis\": \"x\", \"y\": [67384], \"yaxis\": \"y\", \"type\": \"bar\"}, {\"alignmentgroup\": \"True\", \"hovertemplate\": \"Country=%{x}<br>Date=5/11/20<br>Cases=%{y}<extra></extra>\", \"ids\": [\"India\"], \"legendgroup\": \"India\", \"marker\": {\"color\": \"#00cc96\"}, \"name\": \"India\", \"offsetgroup\": \"India\", \"orientation\": \"v\", \"showlegend\": true, \"textposition\": \"auto\", \"x\": [\"India\"], \"xaxis\": \"x\", \"y\": [22549], \"yaxis\": \"y\", \"type\": \"bar\"}, {\"alignmentgroup\": \"True\", \"hovertemplate\": \"Country=%{x}<br>Date=5/11/20<br>Cases=%{y}<extra></extra>\", \"ids\": [\"US\"], \"legendgroup\": \"US\", \"marker\": {\"color\": \"#ab63fa\"}, \"name\": \"US\", \"offsetgroup\": \"US\", \"orientation\": \"v\", \"showlegend\": true, \"textposition\": \"auto\", \"x\": [\"US\"], \"xaxis\": \"x\", \"y\": [232733], \"yaxis\": \"y\", \"type\": \"bar\"}], \"name\": \"5/11/20\"}, {\"data\": [{\"alignmentgroup\": \"True\", \"hovertemplate\": \"Country=%{x}<br>Date=5/16/20<br>Cases=%{y}<extra></extra>\", \"ids\": [\"Australia\"], \"legendgroup\": \"Australia\", \"marker\": {\"color\": \"#636efa\"}, \"name\": \"Australia\", \"offsetgroup\": \"Australia\", \"orientation\": \"v\", \"showlegend\": true, \"textposition\": \"auto\", \"x\": [\"Australia\"], \"xaxis\": \"x\", \"y\": [6364], \"yaxis\": \"y\", \"type\": \"bar\"}, {\"alignmentgroup\": \"True\", \"hovertemplate\": \"Country=%{x}<br>Date=5/16/20<br>Cases=%{y}<extra></extra>\", \"ids\": [\"Brazil\"], \"legendgroup\": \"Brazil\", \"marker\": {\"color\": \"#EF553B\"}, \"name\": \"Brazil\", \"offsetgroup\": \"Brazil\", \"orientation\": \"v\", \"showlegend\": true, \"textposition\": \"auto\", \"x\": [\"Brazil\"], \"xaxis\": \"x\", \"y\": [89672], \"yaxis\": \"y\", \"type\": \"bar\"}, {\"alignmentgroup\": \"True\", \"hovertemplate\": \"Country=%{x}<br>Date=5/16/20<br>Cases=%{y}<extra></extra>\", \"ids\": [\"India\"], \"legendgroup\": \"India\", \"marker\": {\"color\": \"#00cc96\"}, \"name\": \"India\", \"offsetgroup\": \"India\", \"orientation\": \"v\", \"showlegend\": true, \"textposition\": \"auto\", \"x\": [\"India\"], \"xaxis\": \"x\", \"y\": [34224], \"yaxis\": \"y\", \"type\": \"bar\"}, {\"alignmentgroup\": \"True\", \"hovertemplate\": \"Country=%{x}<br>Date=5/16/20<br>Cases=%{y}<extra></extra>\", \"ids\": [\"US\"], \"legendgroup\": \"US\", \"marker\": {\"color\": \"#ab63fa\"}, \"name\": \"US\", \"offsetgroup\": \"US\", \"orientation\": \"v\", \"showlegend\": true, \"textposition\": \"auto\", \"x\": [\"US\"], \"xaxis\": \"x\", \"y\": [268376], \"yaxis\": \"y\", \"type\": \"bar\"}], \"name\": \"5/16/20\"}, {\"data\": [{\"alignmentgroup\": \"True\", \"hovertemplate\": \"Country=%{x}<br>Date=5/20/20<br>Cases=%{y}<extra></extra>\", \"ids\": [\"Australia\"], \"legendgroup\": \"Australia\", \"marker\": {\"color\": \"#636efa\"}, \"name\": \"Australia\", \"offsetgroup\": \"Australia\", \"orientation\": \"v\", \"showlegend\": true, \"textposition\": \"auto\", \"x\": [\"Australia\"], \"xaxis\": \"x\", \"y\": [6470], \"yaxis\": \"y\", \"type\": \"bar\"}, {\"alignmentgroup\": \"True\", \"hovertemplate\": \"Country=%{x}<br>Date=5/20/20<br>Cases=%{y}<extra></extra>\", \"ids\": [\"Brazil\"], \"legendgroup\": \"Brazil\", \"marker\": {\"color\": \"#EF553B\"}, \"name\": \"Brazil\", \"offsetgroup\": \"Brazil\", \"orientation\": \"v\", \"showlegend\": true, \"textposition\": \"auto\", \"x\": [\"Brazil\"], \"xaxis\": \"x\", \"y\": [116683], \"yaxis\": \"y\", \"type\": \"bar\"}, {\"alignmentgroup\": \"True\", \"hovertemplate\": \"Country=%{x}<br>Date=5/20/20<br>Cases=%{y}<extra></extra>\", \"ids\": [\"India\"], \"legendgroup\": \"India\", \"marker\": {\"color\": \"#00cc96\"}, \"name\": \"India\", \"offsetgroup\": \"India\", \"orientation\": \"v\", \"showlegend\": true, \"textposition\": \"auto\", \"x\": [\"India\"], \"xaxis\": \"x\", \"y\": [45422], \"yaxis\": \"y\", \"type\": \"bar\"}, {\"alignmentgroup\": \"True\", \"hovertemplate\": \"Country=%{x}<br>Date=5/20/20<br>Cases=%{y}<extra></extra>\", \"ids\": [\"US\"], \"legendgroup\": \"US\", \"marker\": {\"color\": \"#ab63fa\"}, \"name\": \"US\", \"offsetgroup\": \"US\", \"orientation\": \"v\", \"showlegend\": true, \"textposition\": \"auto\", \"x\": [\"US\"], \"xaxis\": \"x\", \"y\": [294312], \"yaxis\": \"y\", \"type\": \"bar\"}], \"name\": \"5/20/20\"}, {\"data\": [{\"alignmentgroup\": \"True\", \"hovertemplate\": \"Country=%{x}<br>Date=5/25/20<br>Cases=%{y}<extra></extra>\", \"ids\": [\"Australia\"], \"legendgroup\": \"Australia\", \"marker\": {\"color\": \"#636efa\"}, \"name\": \"Australia\", \"offsetgroup\": \"Australia\", \"orientation\": \"v\", \"showlegend\": true, \"textposition\": \"auto\", \"x\": [\"Australia\"], \"xaxis\": \"x\", \"y\": [6552], \"yaxis\": \"y\", \"type\": \"bar\"}, {\"alignmentgroup\": \"True\", \"hovertemplate\": \"Country=%{x}<br>Date=5/25/20<br>Cases=%{y}<extra></extra>\", \"ids\": [\"Brazil\"], \"legendgroup\": \"Brazil\", \"marker\": {\"color\": \"#EF553B\"}, \"name\": \"Brazil\", \"offsetgroup\": \"Brazil\", \"orientation\": \"v\", \"showlegend\": true, \"textposition\": \"auto\", \"x\": [\"Brazil\"], \"xaxis\": \"x\", \"y\": [153833], \"yaxis\": \"y\", \"type\": \"bar\"}, {\"alignmentgroup\": \"True\", \"hovertemplate\": \"Country=%{x}<br>Date=5/25/20<br>Cases=%{y}<extra></extra>\", \"ids\": [\"India\"], \"legendgroup\": \"India\", \"marker\": {\"color\": \"#00cc96\"}, \"name\": \"India\", \"offsetgroup\": \"India\", \"orientation\": \"v\", \"showlegend\": true, \"textposition\": \"auto\", \"x\": [\"India\"], \"xaxis\": \"x\", \"y\": [60706], \"yaxis\": \"y\", \"type\": \"bar\"}, {\"alignmentgroup\": \"True\", \"hovertemplate\": \"Country=%{x}<br>Date=5/25/20<br>Cases=%{y}<extra></extra>\", \"ids\": [\"US\"], \"legendgroup\": \"US\", \"marker\": {\"color\": \"#ab63fa\"}, \"name\": \"US\", \"offsetgroup\": \"US\", \"orientation\": \"v\", \"showlegend\": true, \"textposition\": \"auto\", \"x\": [\"US\"], \"xaxis\": \"x\", \"y\": [379157], \"yaxis\": \"y\", \"type\": \"bar\"}], \"name\": \"5/25/20\"}, {\"data\": [{\"alignmentgroup\": \"True\", \"hovertemplate\": \"Country=%{x}<br>Date=6/2/20<br>Cases=%{y}<extra></extra>\", \"ids\": [\"Australia\"], \"legendgroup\": \"Australia\", \"marker\": {\"color\": \"#636efa\"}, \"name\": \"Australia\", \"offsetgroup\": \"Australia\", \"orientation\": \"v\", \"showlegend\": true, \"textposition\": \"auto\", \"x\": [\"Australia\"], \"xaxis\": \"x\", \"y\": [6636], \"yaxis\": \"y\", \"type\": \"bar\"}, {\"alignmentgroup\": \"True\", \"hovertemplate\": \"Country=%{x}<br>Date=6/2/20<br>Cases=%{y}<extra></extra>\", \"ids\": [\"Brazil\"], \"legendgroup\": \"Brazil\", \"marker\": {\"color\": \"#EF553B\"}, \"name\": \"Brazil\", \"offsetgroup\": \"Brazil\", \"orientation\": \"v\", \"showlegend\": true, \"textposition\": \"auto\", \"x\": [\"Brazil\"], \"xaxis\": \"x\", \"y\": [223638], \"yaxis\": \"y\", \"type\": \"bar\"}, {\"alignmentgroup\": \"True\", \"hovertemplate\": \"Country=%{x}<br>Date=6/2/20<br>Cases=%{y}<extra></extra>\", \"ids\": [\"India\"], \"legendgroup\": \"India\", \"marker\": {\"color\": \"#00cc96\"}, \"name\": \"India\", \"offsetgroup\": \"India\", \"orientation\": \"v\", \"showlegend\": true, \"textposition\": \"auto\", \"x\": [\"India\"], \"xaxis\": \"x\", \"y\": [100285], \"yaxis\": \"y\", \"type\": \"bar\"}, {\"alignmentgroup\": \"True\", \"hovertemplate\": \"Country=%{x}<br>Date=6/2/20<br>Cases=%{y}<extra></extra>\", \"ids\": [\"US\"], \"legendgroup\": \"US\", \"marker\": {\"color\": \"#ab63fa\"}, \"name\": \"US\", \"offsetgroup\": \"US\", \"orientation\": \"v\", \"showlegend\": true, \"textposition\": \"auto\", \"x\": [\"US\"], \"xaxis\": \"x\", \"y\": [463868], \"yaxis\": \"y\", \"type\": \"bar\"}], \"name\": \"6/2/20\"}, {\"data\": [{\"alignmentgroup\": \"True\", \"hovertemplate\": \"Country=%{x}<br>Date=6/6/20<br>Cases=%{y}<extra></extra>\", \"ids\": [\"Australia\"], \"legendgroup\": \"Australia\", \"marker\": {\"color\": \"#636efa\"}, \"name\": \"Australia\", \"offsetgroup\": \"Australia\", \"orientation\": \"v\", \"showlegend\": true, \"textposition\": \"auto\", \"x\": [\"Australia\"], \"xaxis\": \"x\", \"y\": [6703], \"yaxis\": \"y\", \"type\": \"bar\"}, {\"alignmentgroup\": \"True\", \"hovertemplate\": \"Country=%{x}<br>Date=6/6/20<br>Cases=%{y}<extra></extra>\", \"ids\": [\"Brazil\"], \"legendgroup\": \"Brazil\", \"marker\": {\"color\": \"#EF553B\"}, \"name\": \"Brazil\", \"offsetgroup\": \"Brazil\", \"orientation\": \"v\", \"showlegend\": true, \"textposition\": \"auto\", \"x\": [\"Brazil\"], \"xaxis\": \"x\", \"y\": [277149], \"yaxis\": \"y\", \"type\": \"bar\"}, {\"alignmentgroup\": \"True\", \"hovertemplate\": \"Country=%{x}<br>Date=6/6/20<br>Cases=%{y}<extra></extra>\", \"ids\": [\"India\"], \"legendgroup\": \"India\", \"marker\": {\"color\": \"#00cc96\"}, \"name\": \"India\", \"offsetgroup\": \"India\", \"orientation\": \"v\", \"showlegend\": true, \"textposition\": \"auto\", \"x\": [\"India\"], \"xaxis\": \"x\", \"y\": [118695], \"yaxis\": \"y\", \"type\": \"bar\"}, {\"alignmentgroup\": \"True\", \"hovertemplate\": \"Country=%{x}<br>Date=6/6/20<br>Cases=%{y}<extra></extra>\", \"ids\": [\"US\"], \"legendgroup\": \"US\", \"marker\": {\"color\": \"#ab63fa\"}, \"name\": \"US\", \"offsetgroup\": \"US\", \"orientation\": \"v\", \"showlegend\": true, \"textposition\": \"auto\", \"x\": [\"US\"], \"xaxis\": \"x\", \"y\": [500849], \"yaxis\": \"y\", \"type\": \"bar\"}], \"name\": \"6/6/20\"}, {\"data\": [{\"alignmentgroup\": \"True\", \"hovertemplate\": \"Country=%{x}<br>Date=6/10/20<br>Cases=%{y}<extra></extra>\", \"ids\": [\"Australia\"], \"legendgroup\": \"Australia\", \"marker\": {\"color\": \"#636efa\"}, \"name\": \"Australia\", \"offsetgroup\": \"Australia\", \"orientation\": \"v\", \"showlegend\": true, \"textposition\": \"auto\", \"x\": [\"Australia\"], \"xaxis\": \"x\", \"y\": [6759], \"yaxis\": \"y\", \"type\": \"bar\"}, {\"alignmentgroup\": \"True\", \"hovertemplate\": \"Country=%{x}<br>Date=6/10/20<br>Cases=%{y}<extra></extra>\", \"ids\": [\"Brazil\"], \"legendgroup\": \"Brazil\", \"marker\": {\"color\": \"#EF553B\"}, \"name\": \"Brazil\", \"offsetgroup\": \"Brazil\", \"orientation\": \"v\", \"showlegend\": true, \"textposition\": \"auto\", \"x\": [\"Brazil\"], \"xaxis\": \"x\", \"y\": [413916], \"yaxis\": \"y\", \"type\": \"bar\"}, {\"alignmentgroup\": \"True\", \"hovertemplate\": \"Country=%{x}<br>Date=6/10/20<br>Cases=%{y}<extra></extra>\", \"ids\": [\"India\"], \"legendgroup\": \"India\", \"marker\": {\"color\": \"#00cc96\"}, \"name\": \"India\", \"offsetgroup\": \"India\", \"orientation\": \"v\", \"showlegend\": true, \"textposition\": \"auto\", \"x\": [\"India\"], \"xaxis\": \"x\", \"y\": [135206], \"yaxis\": \"y\", \"type\": \"bar\"}, {\"alignmentgroup\": \"True\", \"hovertemplate\": \"Country=%{x}<br>Date=6/10/20<br>Cases=%{y}<extra></extra>\", \"ids\": [\"US\"], \"legendgroup\": \"US\", \"marker\": {\"color\": \"#ab63fa\"}, \"name\": \"US\", \"offsetgroup\": \"US\", \"orientation\": \"v\", \"showlegend\": true, \"textposition\": \"auto\", \"x\": [\"US\"], \"xaxis\": \"x\", \"y\": [533504], \"yaxis\": \"y\", \"type\": \"bar\"}], \"name\": \"6/10/20\"}, {\"data\": [{\"alignmentgroup\": \"True\", \"hovertemplate\": \"Country=%{x}<br>Date=6/15/20<br>Cases=%{y}<extra></extra>\", \"ids\": [\"Australia\"], \"legendgroup\": \"Australia\", \"marker\": {\"color\": \"#636efa\"}, \"name\": \"Australia\", \"offsetgroup\": \"Australia\", \"orientation\": \"v\", \"showlegend\": true, \"textposition\": \"auto\", \"x\": [\"Australia\"], \"xaxis\": \"x\", \"y\": [6856], \"yaxis\": \"y\", \"type\": \"bar\"}, {\"alignmentgroup\": \"True\", \"hovertemplate\": \"Country=%{x}<br>Date=6/15/20<br>Cases=%{y}<extra></extra>\", \"ids\": [\"Brazil\"], \"legendgroup\": \"Brazil\", \"marker\": {\"color\": \"#EF553B\"}, \"name\": \"Brazil\", \"offsetgroup\": \"Brazil\", \"orientation\": \"v\", \"showlegend\": true, \"textposition\": \"auto\", \"x\": [\"Brazil\"], \"xaxis\": \"x\", \"y\": [477709], \"yaxis\": \"y\", \"type\": \"bar\"}, {\"alignmentgroup\": \"True\", \"hovertemplate\": \"Country=%{x}<br>Date=6/15/20<br>Cases=%{y}<extra></extra>\", \"ids\": [\"India\"], \"legendgroup\": \"India\", \"marker\": {\"color\": \"#00cc96\"}, \"name\": \"India\", \"offsetgroup\": \"India\", \"orientation\": \"v\", \"showlegend\": true, \"textposition\": \"auto\", \"x\": [\"India\"], \"xaxis\": \"x\", \"y\": [180013], \"yaxis\": \"y\", \"type\": \"bar\"}, {\"alignmentgroup\": \"True\", \"hovertemplate\": \"Country=%{x}<br>Date=6/15/20<br>Cases=%{y}<extra></extra>\", \"ids\": [\"US\"], \"legendgroup\": \"US\", \"marker\": {\"color\": \"#ab63fa\"}, \"name\": \"US\", \"offsetgroup\": \"US\", \"orientation\": \"v\", \"showlegend\": true, \"textposition\": \"auto\", \"x\": [\"US\"], \"xaxis\": \"x\", \"y\": [576334], \"yaxis\": \"y\", \"type\": \"bar\"}], \"name\": \"6/15/20\"}, {\"data\": [{\"alignmentgroup\": \"True\", \"hovertemplate\": \"Country=%{x}<br>Date=6/24/20<br>Cases=%{y}<extra></extra>\", \"ids\": [\"Australia\"], \"legendgroup\": \"Australia\", \"marker\": {\"color\": \"#636efa\"}, \"name\": \"Australia\", \"offsetgroup\": \"Australia\", \"orientation\": \"v\", \"showlegend\": true, \"textposition\": \"auto\", \"x\": [\"Australia\"], \"xaxis\": \"x\", \"y\": [6931], \"yaxis\": \"y\", \"type\": \"bar\"}, {\"alignmentgroup\": \"True\", \"hovertemplate\": \"Country=%{x}<br>Date=6/24/20<br>Cases=%{y}<extra></extra>\", \"ids\": [\"Brazil\"], \"legendgroup\": \"Brazil\", \"marker\": {\"color\": \"#EF553B\"}, \"name\": \"Brazil\", \"offsetgroup\": \"Brazil\", \"orientation\": \"v\", \"showlegend\": true, \"textposition\": \"auto\", \"x\": [\"Brazil\"], \"xaxis\": \"x\", \"y\": [660469], \"yaxis\": \"y\", \"type\": \"bar\"}, {\"alignmentgroup\": \"True\", \"hovertemplate\": \"Country=%{x}<br>Date=6/24/20<br>Cases=%{y}<extra></extra>\", \"ids\": [\"India\"], \"legendgroup\": \"India\", \"marker\": {\"color\": \"#00cc96\"}, \"name\": \"India\", \"offsetgroup\": \"India\", \"orientation\": \"v\", \"showlegend\": true, \"textposition\": \"auto\", \"x\": [\"India\"], \"xaxis\": \"x\", \"y\": [271697], \"yaxis\": \"y\", \"type\": \"bar\"}, {\"alignmentgroup\": \"True\", \"hovertemplate\": \"Country=%{x}<br>Date=6/24/20<br>Cases=%{y}<extra></extra>\", \"ids\": [\"US\"], \"legendgroup\": \"US\", \"marker\": {\"color\": \"#ab63fa\"}, \"name\": \"US\", \"offsetgroup\": \"US\", \"orientation\": \"v\", \"showlegend\": true, \"textposition\": \"auto\", \"x\": [\"US\"], \"xaxis\": \"x\", \"y\": [656161], \"yaxis\": \"y\", \"type\": \"bar\"}], \"name\": \"6/24/20\"}, {\"data\": [{\"alignmentgroup\": \"True\", \"hovertemplate\": \"Country=%{x}<br>Date=6/29/20<br>Cases=%{y}<extra></extra>\", \"ids\": [\"Australia\"], \"legendgroup\": \"Australia\", \"marker\": {\"color\": \"#636efa\"}, \"name\": \"Australia\", \"offsetgroup\": \"Australia\", \"orientation\": \"v\", \"showlegend\": true, \"textposition\": \"auto\", \"x\": [\"Australia\"], \"xaxis\": \"x\", \"y\": [7037], \"yaxis\": \"y\", \"type\": \"bar\"}, {\"alignmentgroup\": \"True\", \"hovertemplate\": \"Country=%{x}<br>Date=6/29/20<br>Cases=%{y}<extra></extra>\", \"ids\": [\"Brazil\"], \"legendgroup\": \"Brazil\", \"marker\": {\"color\": \"#EF553B\"}, \"name\": \"Brazil\", \"offsetgroup\": \"Brazil\", \"orientation\": \"v\", \"showlegend\": true, \"textposition\": \"auto\", \"x\": [\"Brazil\"], \"xaxis\": \"x\", \"y\": [757811], \"yaxis\": \"y\", \"type\": \"bar\"}, {\"alignmentgroup\": \"True\", \"hovertemplate\": \"Country=%{x}<br>Date=6/29/20<br>Cases=%{y}<extra></extra>\", \"ids\": [\"India\"], \"legendgroup\": \"India\", \"marker\": {\"color\": \"#00cc96\"}, \"name\": \"India\", \"offsetgroup\": \"India\", \"orientation\": \"v\", \"showlegend\": true, \"textposition\": \"auto\", \"x\": [\"India\"], \"xaxis\": \"x\", \"y\": [334822], \"yaxis\": \"y\", \"type\": \"bar\"}, {\"alignmentgroup\": \"True\", \"hovertemplate\": \"Country=%{x}<br>Date=6/29/20<br>Cases=%{y}<extra></extra>\", \"ids\": [\"US\"], \"legendgroup\": \"US\", \"marker\": {\"color\": \"#ab63fa\"}, \"name\": \"US\", \"offsetgroup\": \"US\", \"orientation\": \"v\", \"showlegend\": true, \"textposition\": \"auto\", \"x\": [\"US\"], \"xaxis\": \"x\", \"y\": [705203], \"yaxis\": \"y\", \"type\": \"bar\"}], \"name\": \"6/29/20\"}, {\"data\": [{\"alignmentgroup\": \"True\", \"hovertemplate\": \"Country=%{x}<br>Date=7/2/20<br>Cases=%{y}<extra></extra>\", \"ids\": [\"Australia\"], \"legendgroup\": \"Australia\", \"marker\": {\"color\": \"#636efa\"}, \"name\": \"Australia\", \"offsetgroup\": \"Australia\", \"orientation\": \"v\", \"showlegend\": true, \"textposition\": \"auto\", \"x\": [\"Australia\"], \"xaxis\": \"x\", \"y\": [7130], \"yaxis\": \"y\", \"type\": \"bar\"}, {\"alignmentgroup\": \"True\", \"hovertemplate\": \"Country=%{x}<br>Date=7/2/20<br>Cases=%{y}<extra></extra>\", \"ids\": [\"Brazil\"], \"legendgroup\": \"Brazil\", \"marker\": {\"color\": \"#EF553B\"}, \"name\": \"Brazil\", \"offsetgroup\": \"Brazil\", \"orientation\": \"v\", \"showlegend\": true, \"textposition\": \"auto\", \"x\": [\"Brazil\"], \"xaxis\": \"x\", \"y\": [957692], \"yaxis\": \"y\", \"type\": \"bar\"}, {\"alignmentgroup\": \"True\", \"hovertemplate\": \"Country=%{x}<br>Date=7/2/20<br>Cases=%{y}<extra></extra>\", \"ids\": [\"India\"], \"legendgroup\": \"India\", \"marker\": {\"color\": \"#00cc96\"}, \"name\": \"India\", \"offsetgroup\": \"India\", \"orientation\": \"v\", \"showlegend\": true, \"textposition\": \"auto\", \"x\": [\"India\"], \"xaxis\": \"x\", \"y\": [379892], \"yaxis\": \"y\", \"type\": \"bar\"}, {\"alignmentgroup\": \"True\", \"hovertemplate\": \"Country=%{x}<br>Date=7/2/20<br>Cases=%{y}<extra></extra>\", \"ids\": [\"US\"], \"legendgroup\": \"US\", \"marker\": {\"color\": \"#ab63fa\"}, \"name\": \"US\", \"offsetgroup\": \"US\", \"orientation\": \"v\", \"showlegend\": true, \"textposition\": \"auto\", \"x\": [\"US\"], \"xaxis\": \"x\", \"y\": [781970], \"yaxis\": \"y\", \"type\": \"bar\"}], \"name\": \"7/2/20\"}, {\"data\": [{\"alignmentgroup\": \"True\", \"hovertemplate\": \"Country=%{x}<br>Date=7/5/20<br>Cases=%{y}<extra></extra>\", \"ids\": [\"Australia\"], \"legendgroup\": \"Australia\", \"marker\": {\"color\": \"#636efa\"}, \"name\": \"Australia\", \"offsetgroup\": \"Australia\", \"orientation\": \"v\", \"showlegend\": true, \"textposition\": \"auto\", \"x\": [\"Australia\"], \"xaxis\": \"x\", \"y\": [7420], \"yaxis\": \"y\", \"type\": \"bar\"}, {\"alignmentgroup\": \"True\", \"hovertemplate\": \"Country=%{x}<br>Date=7/5/20<br>Cases=%{y}<extra></extra>\", \"ids\": [\"Brazil\"], \"legendgroup\": \"Brazil\", \"marker\": {\"color\": \"#EF553B\"}, \"name\": \"Brazil\", \"offsetgroup\": \"Brazil\", \"orientation\": \"v\", \"showlegend\": true, \"textposition\": \"auto\", \"x\": [\"Brazil\"], \"xaxis\": \"x\", \"y\": [1029045], \"yaxis\": \"y\", \"type\": \"bar\"}, {\"alignmentgroup\": \"True\", \"hovertemplate\": \"Country=%{x}<br>Date=7/5/20<br>Cases=%{y}<extra></extra>\", \"ids\": [\"India\"], \"legendgroup\": \"India\", \"marker\": {\"color\": \"#00cc96\"}, \"name\": \"India\", \"offsetgroup\": \"India\", \"orientation\": \"v\", \"showlegend\": true, \"textposition\": \"auto\", \"x\": [\"India\"], \"xaxis\": \"x\", \"y\": [424433], \"yaxis\": \"y\", \"type\": \"bar\"}, {\"alignmentgroup\": \"True\", \"hovertemplate\": \"Country=%{x}<br>Date=7/5/20<br>Cases=%{y}<extra></extra>\", \"ids\": [\"US\"], \"legendgroup\": \"US\", \"marker\": {\"color\": \"#ab63fa\"}, \"name\": \"US\", \"offsetgroup\": \"US\", \"orientation\": \"v\", \"showlegend\": true, \"textposition\": \"auto\", \"x\": [\"US\"], \"xaxis\": \"x\", \"y\": [906763], \"yaxis\": \"y\", \"type\": \"bar\"}], \"name\": \"7/5/20\"}, {\"data\": [{\"alignmentgroup\": \"True\", \"hovertemplate\": \"Country=%{x}<br>Date=7/10/20<br>Cases=%{y}<extra></extra>\", \"ids\": [\"Australia\"], \"legendgroup\": \"Australia\", \"marker\": {\"color\": \"#636efa\"}, \"name\": \"Australia\", \"offsetgroup\": \"Australia\", \"orientation\": \"v\", \"showlegend\": true, \"textposition\": \"auto\", \"x\": [\"Australia\"], \"xaxis\": \"x\", \"y\": [7733], \"yaxis\": \"y\", \"type\": \"bar\"}, {\"alignmentgroup\": \"True\", \"hovertemplate\": \"Country=%{x}<br>Date=7/10/20<br>Cases=%{y}<extra></extra>\", \"ids\": [\"Brazil\"], \"legendgroup\": \"Brazil\", \"marker\": {\"color\": \"#EF553B\"}, \"name\": \"Brazil\", \"offsetgroup\": \"Brazil\", \"orientation\": \"v\", \"showlegend\": true, \"textposition\": \"auto\", \"x\": [\"Brazil\"], \"xaxis\": \"x\", \"y\": [1217361], \"yaxis\": \"y\", \"type\": \"bar\"}, {\"alignmentgroup\": \"True\", \"hovertemplate\": \"Country=%{x}<br>Date=7/10/20<br>Cases=%{y}<extra></extra>\", \"ids\": [\"India\"], \"legendgroup\": \"India\", \"marker\": {\"color\": \"#00cc96\"}, \"name\": \"India\", \"offsetgroup\": \"India\", \"orientation\": \"v\", \"showlegend\": true, \"textposition\": \"auto\", \"x\": [\"India\"], \"xaxis\": \"x\", \"y\": [515386], \"yaxis\": \"y\", \"type\": \"bar\"}, {\"alignmentgroup\": \"True\", \"hovertemplate\": \"Country=%{x}<br>Date=7/10/20<br>Cases=%{y}<extra></extra>\", \"ids\": [\"US\"], \"legendgroup\": \"US\", \"marker\": {\"color\": \"#ab63fa\"}, \"name\": \"US\", \"offsetgroup\": \"US\", \"orientation\": \"v\", \"showlegend\": true, \"textposition\": \"auto\", \"x\": [\"US\"], \"xaxis\": \"x\", \"y\": [983185], \"yaxis\": \"y\", \"type\": \"bar\"}], \"name\": \"7/10/20\"}, {\"data\": [{\"alignmentgroup\": \"True\", \"hovertemplate\": \"Country=%{x}<br>Date=7/15/20<br>Cases=%{y}<extra></extra>\", \"ids\": [\"Australia\"], \"legendgroup\": \"Australia\", \"marker\": {\"color\": \"#636efa\"}, \"name\": \"Australia\", \"offsetgroup\": \"Australia\", \"orientation\": \"v\", \"showlegend\": true, \"textposition\": \"auto\", \"x\": [\"Australia\"], \"xaxis\": \"x\", \"y\": [8035], \"yaxis\": \"y\", \"type\": \"bar\"}, {\"alignmentgroup\": \"True\", \"hovertemplate\": \"Country=%{x}<br>Date=7/15/20<br>Cases=%{y}<extra></extra>\", \"ids\": [\"Brazil\"], \"legendgroup\": \"Brazil\", \"marker\": {\"color\": \"#EF553B\"}, \"name\": \"Brazil\", \"offsetgroup\": \"Brazil\", \"orientation\": \"v\", \"showlegend\": true, \"textposition\": \"auto\", \"x\": [\"Brazil\"], \"xaxis\": \"x\", \"y\": [1350098], \"yaxis\": \"y\", \"type\": \"bar\"}, {\"alignmentgroup\": \"True\", \"hovertemplate\": \"Country=%{x}<br>Date=7/15/20<br>Cases=%{y}<extra></extra>\", \"ids\": [\"India\"], \"legendgroup\": \"India\", \"marker\": {\"color\": \"#00cc96\"}, \"name\": \"India\", \"offsetgroup\": \"India\", \"orientation\": \"v\", \"showlegend\": true, \"textposition\": \"auto\", \"x\": [\"India\"], \"xaxis\": \"x\", \"y\": [612768], \"yaxis\": \"y\", \"type\": \"bar\"}, {\"alignmentgroup\": \"True\", \"hovertemplate\": \"Country=%{x}<br>Date=7/15/20<br>Cases=%{y}<extra></extra>\", \"ids\": [\"US\"], \"legendgroup\": \"US\", \"marker\": {\"color\": \"#ab63fa\"}, \"name\": \"US\", \"offsetgroup\": \"US\", \"orientation\": \"v\", \"showlegend\": true, \"textposition\": \"auto\", \"x\": [\"US\"], \"xaxis\": \"x\", \"y\": [1075882], \"yaxis\": \"y\", \"type\": \"bar\"}], \"name\": \"7/15/20\"}, {\"data\": [{\"alignmentgroup\": \"True\", \"hovertemplate\": \"Country=%{x}<br>Date=7/24/20<br>Cases=%{y}<extra></extra>\", \"ids\": [\"Australia\"], \"legendgroup\": \"Australia\", \"marker\": {\"color\": \"#636efa\"}, \"name\": \"Australia\", \"offsetgroup\": \"Australia\", \"orientation\": \"v\", \"showlegend\": true, \"textposition\": \"auto\", \"x\": [\"Australia\"], \"xaxis\": \"x\", \"y\": [8938], \"yaxis\": \"y\", \"type\": \"bar\"}, {\"alignmentgroup\": \"True\", \"hovertemplate\": \"Country=%{x}<br>Date=7/24/20<br>Cases=%{y}<extra></extra>\", \"ids\": [\"Brazil\"], \"legendgroup\": \"Brazil\", \"marker\": {\"color\": \"#EF553B\"}, \"name\": \"Brazil\", \"offsetgroup\": \"Brazil\", \"orientation\": \"v\", \"showlegend\": true, \"textposition\": \"auto\", \"x\": [\"Brazil\"], \"xaxis\": \"x\", \"y\": [1693214], \"yaxis\": \"y\", \"type\": \"bar\"}, {\"alignmentgroup\": \"True\", \"hovertemplate\": \"Country=%{x}<br>Date=7/24/20<br>Cases=%{y}<extra></extra>\", \"ids\": [\"India\"], \"legendgroup\": \"India\", \"marker\": {\"color\": \"#00cc96\"}, \"name\": \"India\", \"offsetgroup\": \"India\", \"orientation\": \"v\", \"showlegend\": true, \"textposition\": \"auto\", \"x\": [\"India\"], \"xaxis\": \"x\", \"y\": [849432], \"yaxis\": \"y\", \"type\": \"bar\"}, {\"alignmentgroup\": \"True\", \"hovertemplate\": \"Country=%{x}<br>Date=7/24/20<br>Cases=%{y}<extra></extra>\", \"ids\": [\"US\"], \"legendgroup\": \"US\", \"marker\": {\"color\": \"#ab63fa\"}, \"name\": \"US\", \"offsetgroup\": \"US\", \"orientation\": \"v\", \"showlegend\": true, \"textposition\": \"auto\", \"x\": [\"US\"], \"xaxis\": \"x\", \"y\": [1261624], \"yaxis\": \"y\", \"type\": \"bar\"}], \"name\": \"7/24/20\"}, {\"data\": [{\"alignmentgroup\": \"True\", \"hovertemplate\": \"Country=%{x}<br>Date=7/29/20<br>Cases=%{y}<extra></extra>\", \"ids\": [\"Australia\"], \"legendgroup\": \"Australia\", \"marker\": {\"color\": \"#636efa\"}, \"name\": \"Australia\", \"offsetgroup\": \"Australia\", \"orientation\": \"v\", \"showlegend\": true, \"textposition\": \"auto\", \"x\": [\"Australia\"], \"xaxis\": \"x\", \"y\": [9619], \"yaxis\": \"y\", \"type\": \"bar\"}, {\"alignmentgroup\": \"True\", \"hovertemplate\": \"Country=%{x}<br>Date=7/29/20<br>Cases=%{y}<extra></extra>\", \"ids\": [\"Brazil\"], \"legendgroup\": \"Brazil\", \"marker\": {\"color\": \"#EF553B\"}, \"name\": \"Brazil\", \"offsetgroup\": \"Brazil\", \"orientation\": \"v\", \"showlegend\": true, \"textposition\": \"auto\", \"x\": [\"Brazil\"], \"xaxis\": \"x\", \"y\": [1922802], \"yaxis\": \"y\", \"type\": \"bar\"}, {\"alignmentgroup\": \"True\", \"hovertemplate\": \"Country=%{x}<br>Date=7/29/20<br>Cases=%{y}<extra></extra>\", \"ids\": [\"India\"], \"legendgroup\": \"India\", \"marker\": {\"color\": \"#00cc96\"}, \"name\": \"India\", \"offsetgroup\": \"India\", \"orientation\": \"v\", \"showlegend\": true, \"textposition\": \"auto\", \"x\": [\"India\"], \"xaxis\": \"x\", \"y\": [1019735], \"yaxis\": \"y\", \"type\": \"bar\"}, {\"alignmentgroup\": \"True\", \"hovertemplate\": \"Country=%{x}<br>Date=7/29/20<br>Cases=%{y}<extra></extra>\", \"ids\": [\"US\"], \"legendgroup\": \"US\", \"marker\": {\"color\": \"#ab63fa\"}, \"name\": \"US\", \"offsetgroup\": \"US\", \"orientation\": \"v\", \"showlegend\": true, \"textposition\": \"auto\", \"x\": [\"US\"], \"xaxis\": \"x\", \"y\": [1389425], \"yaxis\": \"y\", \"type\": \"bar\"}], \"name\": \"7/29/20\"}, {\"data\": [{\"alignmentgroup\": \"True\", \"hovertemplate\": \"Country=%{x}<br>Date=8/1/20<br>Cases=%{y}<extra></extra>\", \"ids\": [\"Australia\"], \"legendgroup\": \"Australia\", \"marker\": {\"color\": \"#636efa\"}, \"name\": \"Australia\", \"offsetgroup\": \"Australia\", \"orientation\": \"v\", \"showlegend\": true, \"textposition\": \"auto\", \"x\": [\"Australia\"], \"xaxis\": \"x\", \"y\": [10204], \"yaxis\": \"y\", \"type\": \"bar\"}, {\"alignmentgroup\": \"True\", \"hovertemplate\": \"Country=%{x}<br>Date=8/1/20<br>Cases=%{y}<extra></extra>\", \"ids\": [\"Brazil\"], \"legendgroup\": \"Brazil\", \"marker\": {\"color\": \"#EF553B\"}, \"name\": \"Brazil\", \"offsetgroup\": \"Brazil\", \"orientation\": \"v\", \"showlegend\": true, \"textposition\": \"auto\", \"x\": [\"Brazil\"], \"xaxis\": \"x\", \"y\": [2037982], \"yaxis\": \"y\", \"type\": \"bar\"}, {\"alignmentgroup\": \"True\", \"hovertemplate\": \"Country=%{x}<br>Date=8/1/20<br>Cases=%{y}<extra></extra>\", \"ids\": [\"India\"], \"legendgroup\": \"India\", \"marker\": {\"color\": \"#00cc96\"}, \"name\": \"India\", \"offsetgroup\": \"India\", \"orientation\": \"v\", \"showlegend\": true, \"textposition\": \"auto\", \"x\": [\"India\"], \"xaxis\": \"x\", \"y\": [1145629], \"yaxis\": \"y\", \"type\": \"bar\"}, {\"alignmentgroup\": \"True\", \"hovertemplate\": \"Country=%{x}<br>Date=8/1/20<br>Cases=%{y}<extra></extra>\", \"ids\": [\"US\"], \"legendgroup\": \"US\", \"marker\": {\"color\": \"#ab63fa\"}, \"name\": \"US\", \"offsetgroup\": \"US\", \"orientation\": \"v\", \"showlegend\": true, \"textposition\": \"auto\", \"x\": [\"US\"], \"xaxis\": \"x\", \"y\": [1461885], \"yaxis\": \"y\", \"type\": \"bar\"}], \"name\": \"8/1/20\"}, {\"data\": [{\"alignmentgroup\": \"True\", \"hovertemplate\": \"Country=%{x}<br>Date=8/4/20<br>Cases=%{y}<extra></extra>\", \"ids\": [\"Australia\"], \"legendgroup\": \"Australia\", \"marker\": {\"color\": \"#636efa\"}, \"name\": \"Australia\", \"offsetgroup\": \"Australia\", \"orientation\": \"v\", \"showlegend\": true, \"textposition\": \"auto\", \"x\": [\"Australia\"], \"xaxis\": \"x\", \"y\": [10799], \"yaxis\": \"y\", \"type\": \"bar\"}, {\"alignmentgroup\": \"True\", \"hovertemplate\": \"Country=%{x}<br>Date=8/4/20<br>Cases=%{y}<extra></extra>\", \"ids\": [\"Brazil\"], \"legendgroup\": \"Brazil\", \"marker\": {\"color\": \"#EF553B\"}, \"name\": \"Brazil\", \"offsetgroup\": \"Brazil\", \"orientation\": \"v\", \"showlegend\": true, \"textposition\": \"auto\", \"x\": [\"Brazil\"], \"xaxis\": \"x\", \"y\": [2157484], \"yaxis\": \"y\", \"type\": \"bar\"}, {\"alignmentgroup\": \"True\", \"hovertemplate\": \"Country=%{x}<br>Date=8/4/20<br>Cases=%{y}<extra></extra>\", \"ids\": [\"India\"], \"legendgroup\": \"India\", \"marker\": {\"color\": \"#00cc96\"}, \"name\": \"India\", \"offsetgroup\": \"India\", \"orientation\": \"v\", \"showlegend\": true, \"textposition\": \"auto\", \"x\": [\"India\"], \"xaxis\": \"x\", \"y\": [1282215], \"yaxis\": \"y\", \"type\": \"bar\"}, {\"alignmentgroup\": \"True\", \"hovertemplate\": \"Country=%{x}<br>Date=8/4/20<br>Cases=%{y}<extra></extra>\", \"ids\": [\"US\"], \"legendgroup\": \"US\", \"marker\": {\"color\": \"#ab63fa\"}, \"name\": \"US\", \"offsetgroup\": \"US\", \"orientation\": \"v\", \"showlegend\": true, \"textposition\": \"auto\", \"x\": [\"US\"], \"xaxis\": \"x\", \"y\": [1528979], \"yaxis\": \"y\", \"type\": \"bar\"}], \"name\": \"8/4/20\"}, {\"data\": [{\"alignmentgroup\": \"True\", \"hovertemplate\": \"Country=%{x}<br>Date=8/9/20<br>Cases=%{y}<extra></extra>\", \"ids\": [\"Australia\"], \"legendgroup\": \"Australia\", \"marker\": {\"color\": \"#636efa\"}, \"name\": \"Australia\", \"offsetgroup\": \"Australia\", \"orientation\": \"v\", \"showlegend\": true, \"textposition\": \"auto\", \"x\": [\"Australia\"], \"xaxis\": \"x\", \"y\": [11876], \"yaxis\": \"y\", \"type\": \"bar\"}, {\"alignmentgroup\": \"True\", \"hovertemplate\": \"Country=%{x}<br>Date=8/9/20<br>Cases=%{y}<extra></extra>\", \"ids\": [\"Brazil\"], \"legendgroup\": \"Brazil\", \"marker\": {\"color\": \"#EF553B\"}, \"name\": \"Brazil\", \"offsetgroup\": \"Brazil\", \"orientation\": \"v\", \"showlegend\": true, \"textposition\": \"auto\", \"x\": [\"Brazil\"], \"xaxis\": \"x\", \"y\": [2356983], \"yaxis\": \"y\", \"type\": \"bar\"}, {\"alignmentgroup\": \"True\", \"hovertemplate\": \"Country=%{x}<br>Date=8/9/20<br>Cases=%{y}<extra></extra>\", \"ids\": [\"India\"], \"legendgroup\": \"India\", \"marker\": {\"color\": \"#00cc96\"}, \"name\": \"India\", \"offsetgroup\": \"India\", \"orientation\": \"v\", \"showlegend\": true, \"textposition\": \"auto\", \"x\": [\"India\"], \"xaxis\": \"x\", \"y\": [1535743], \"yaxis\": \"y\", \"type\": \"bar\"}, {\"alignmentgroup\": \"True\", \"hovertemplate\": \"Country=%{x}<br>Date=8/9/20<br>Cases=%{y}<extra></extra>\", \"ids\": [\"US\"], \"legendgroup\": \"US\", \"marker\": {\"color\": \"#ab63fa\"}, \"name\": \"US\", \"offsetgroup\": \"US\", \"orientation\": \"v\", \"showlegend\": true, \"textposition\": \"auto\", \"x\": [\"US\"], \"xaxis\": \"x\", \"y\": [1656864], \"yaxis\": \"y\", \"type\": \"bar\"}], \"name\": \"8/9/20\"}, {\"data\": [{\"alignmentgroup\": \"True\", \"hovertemplate\": \"Country=%{x}<br>Date=8/14/20<br>Cases=%{y}<extra></extra>\", \"ids\": [\"Australia\"], \"legendgroup\": \"Australia\", \"marker\": {\"color\": \"#636efa\"}, \"name\": \"Australia\", \"offsetgroup\": \"Australia\", \"orientation\": \"v\", \"showlegend\": true, \"textposition\": \"auto\", \"x\": [\"Australia\"], \"xaxis\": \"x\", \"y\": [13632], \"yaxis\": \"y\", \"type\": \"bar\"}, {\"alignmentgroup\": \"True\", \"hovertemplate\": \"Country=%{x}<br>Date=8/14/20<br>Cases=%{y}<extra></extra>\", \"ids\": [\"Brazil\"], \"legendgroup\": \"Brazil\", \"marker\": {\"color\": \"#EF553B\"}, \"name\": \"Brazil\", \"offsetgroup\": \"Brazil\", \"orientation\": \"v\", \"showlegend\": true, \"textposition\": \"auto\", \"x\": [\"Brazil\"], \"xaxis\": \"x\", \"y\": [2616981], \"yaxis\": \"y\", \"type\": \"bar\"}, {\"alignmentgroup\": \"True\", \"hovertemplate\": \"Country=%{x}<br>Date=8/14/20<br>Cases=%{y}<extra></extra>\", \"ids\": [\"India\"], \"legendgroup\": \"India\", \"marker\": {\"color\": \"#00cc96\"}, \"name\": \"India\", \"offsetgroup\": \"India\", \"orientation\": \"v\", \"showlegend\": true, \"textposition\": \"auto\", \"x\": [\"India\"], \"xaxis\": \"x\", \"y\": [1808936], \"yaxis\": \"y\", \"type\": \"bar\"}, {\"alignmentgroup\": \"True\", \"hovertemplate\": \"Country=%{x}<br>Date=8/14/20<br>Cases=%{y}<extra></extra>\", \"ids\": [\"US\"], \"legendgroup\": \"US\", \"marker\": {\"color\": \"#ab63fa\"}, \"name\": \"US\", \"offsetgroup\": \"US\", \"orientation\": \"v\", \"showlegend\": true, \"textposition\": \"auto\", \"x\": [\"US\"], \"xaxis\": \"x\", \"y\": [1796326], \"yaxis\": \"y\", \"type\": \"bar\"}], \"name\": \"8/14/20\"}, {\"data\": [{\"alignmentgroup\": \"True\", \"hovertemplate\": \"Country=%{x}<br>Date=8/19/20<br>Cases=%{y}<extra></extra>\", \"ids\": [\"Australia\"], \"legendgroup\": \"Australia\", \"marker\": {\"color\": \"#636efa\"}, \"name\": \"Australia\", \"offsetgroup\": \"Australia\", \"orientation\": \"v\", \"showlegend\": true, \"textposition\": \"auto\", \"x\": [\"Australia\"], \"xaxis\": \"x\", \"y\": [15249], \"yaxis\": \"y\", \"type\": \"bar\"}, {\"alignmentgroup\": \"True\", \"hovertemplate\": \"Country=%{x}<br>Date=8/19/20<br>Cases=%{y}<extra></extra>\", \"ids\": [\"Brazil\"], \"legendgroup\": \"Brazil\", \"marker\": {\"color\": \"#EF553B\"}, \"name\": \"Brazil\", \"offsetgroup\": \"Brazil\", \"orientation\": \"v\", \"showlegend\": true, \"textposition\": \"auto\", \"x\": [\"Brazil\"], \"xaxis\": \"x\", \"y\": [2801931], \"yaxis\": \"y\", \"type\": \"bar\"}, {\"alignmentgroup\": \"True\", \"hovertemplate\": \"Country=%{x}<br>Date=8/19/20<br>Cases=%{y}<extra></extra>\", \"ids\": [\"India\"], \"legendgroup\": \"India\", \"marker\": {\"color\": \"#00cc96\"}, \"name\": \"India\", \"offsetgroup\": \"India\", \"orientation\": \"v\", \"showlegend\": true, \"textposition\": \"auto\", \"x\": [\"India\"], \"xaxis\": \"x\", \"y\": [2096664], \"yaxis\": \"y\", \"type\": \"bar\"}, {\"alignmentgroup\": \"True\", \"hovertemplate\": \"Country=%{x}<br>Date=8/19/20<br>Cases=%{y}<extra></extra>\", \"ids\": [\"US\"], \"legendgroup\": \"US\", \"marker\": {\"color\": \"#ab63fa\"}, \"name\": \"US\", \"offsetgroup\": \"US\", \"orientation\": \"v\", \"showlegend\": true, \"textposition\": \"auto\", \"x\": [\"US\"], \"xaxis\": \"x\", \"y\": [1925049], \"yaxis\": \"y\", \"type\": \"bar\"}], \"name\": \"8/19/20\"}, {\"data\": [{\"alignmentgroup\": \"True\", \"hovertemplate\": \"Country=%{x}<br>Date=8/23/20<br>Cases=%{y}<extra></extra>\", \"ids\": [\"Australia\"], \"legendgroup\": \"Australia\", \"marker\": {\"color\": \"#636efa\"}, \"name\": \"Australia\", \"offsetgroup\": \"Australia\", \"orientation\": \"v\", \"showlegend\": true, \"textposition\": \"auto\", \"x\": [\"Australia\"], \"xaxis\": \"x\", \"y\": [19233], \"yaxis\": \"y\", \"type\": \"bar\"}, {\"alignmentgroup\": \"True\", \"hovertemplate\": \"Country=%{x}<br>Date=8/23/20<br>Cases=%{y}<extra></extra>\", \"ids\": [\"Brazil\"], \"legendgroup\": \"Brazil\", \"marker\": {\"color\": \"#EF553B\"}, \"name\": \"Brazil\", \"offsetgroup\": \"Brazil\", \"orientation\": \"v\", \"showlegend\": true, \"textposition\": \"auto\", \"x\": [\"Brazil\"], \"xaxis\": \"x\", \"y\": [2947784], \"yaxis\": \"y\", \"type\": \"bar\"}, {\"alignmentgroup\": \"True\", \"hovertemplate\": \"Country=%{x}<br>Date=8/23/20<br>Cases=%{y}<extra></extra>\", \"ids\": [\"India\"], \"legendgroup\": \"India\", \"marker\": {\"color\": \"#00cc96\"}, \"name\": \"India\", \"offsetgroup\": \"India\", \"orientation\": \"v\", \"showlegend\": true, \"textposition\": \"auto\", \"x\": [\"India\"], \"xaxis\": \"x\", \"y\": [2338035], \"yaxis\": \"y\", \"type\": \"bar\"}, {\"alignmentgroup\": \"True\", \"hovertemplate\": \"Country=%{x}<br>Date=8/23/20<br>Cases=%{y}<extra></extra>\", \"ids\": [\"US\"], \"legendgroup\": \"US\", \"marker\": {\"color\": \"#ab63fa\"}, \"name\": \"US\", \"offsetgroup\": \"US\", \"orientation\": \"v\", \"showlegend\": true, \"textposition\": \"auto\", \"x\": [\"US\"], \"xaxis\": \"x\", \"y\": [1997761], \"yaxis\": \"y\", \"type\": \"bar\"}], \"name\": \"8/23/20\"}, {\"data\": [{\"alignmentgroup\": \"True\", \"hovertemplate\": \"Country=%{x}<br>Date=8/28/20<br>Cases=%{y}<extra></extra>\", \"ids\": [\"Australia\"], \"legendgroup\": \"Australia\", \"marker\": {\"color\": \"#636efa\"}, \"name\": \"Australia\", \"offsetgroup\": \"Australia\", \"orientation\": \"v\", \"showlegend\": true, \"textposition\": \"auto\", \"x\": [\"Australia\"], \"xaxis\": \"x\", \"y\": [20633], \"yaxis\": \"y\", \"type\": \"bar\"}, {\"alignmentgroup\": \"True\", \"hovertemplate\": \"Country=%{x}<br>Date=8/28/20<br>Cases=%{y}<extra></extra>\", \"ids\": [\"Brazil\"], \"legendgroup\": \"Brazil\", \"marker\": {\"color\": \"#EF553B\"}, \"name\": \"Brazil\", \"offsetgroup\": \"Brazil\", \"orientation\": \"v\", \"showlegend\": true, \"textposition\": \"auto\", \"x\": [\"Brazil\"], \"xaxis\": \"x\", \"y\": [3158783], \"yaxis\": \"y\", \"type\": \"bar\"}, {\"alignmentgroup\": \"True\", \"hovertemplate\": \"Country=%{x}<br>Date=8/28/20<br>Cases=%{y}<extra></extra>\", \"ids\": [\"India\"], \"legendgroup\": \"India\", \"marker\": {\"color\": \"#00cc96\"}, \"name\": \"India\", \"offsetgroup\": \"India\", \"orientation\": \"v\", \"showlegend\": true, \"textposition\": \"auto\", \"x\": [\"India\"], \"xaxis\": \"x\", \"y\": [2648998], \"yaxis\": \"y\", \"type\": \"bar\"}, {\"alignmentgroup\": \"True\", \"hovertemplate\": \"Country=%{x}<br>Date=8/28/20<br>Cases=%{y}<extra></extra>\", \"ids\": [\"US\"], \"legendgroup\": \"US\", \"marker\": {\"color\": \"#ab63fa\"}, \"name\": \"US\", \"offsetgroup\": \"US\", \"orientation\": \"v\", \"showlegend\": true, \"textposition\": \"auto\", \"x\": [\"US\"], \"xaxis\": \"x\", \"y\": [2118367], \"yaxis\": \"y\", \"type\": \"bar\"}], \"name\": \"8/28/20\"}, {\"data\": [{\"alignmentgroup\": \"True\", \"hovertemplate\": \"Country=%{x}<br>Date=9/4/20<br>Cases=%{y}<extra></extra>\", \"ids\": [\"Australia\"], \"legendgroup\": \"Australia\", \"marker\": {\"color\": \"#636efa\"}, \"name\": \"Australia\", \"offsetgroup\": \"Australia\", \"orientation\": \"v\", \"showlegend\": true, \"textposition\": \"auto\", \"x\": [\"Australia\"], \"xaxis\": \"x\", \"y\": [22172], \"yaxis\": \"y\", \"type\": \"bar\"}, {\"alignmentgroup\": \"True\", \"hovertemplate\": \"Country=%{x}<br>Date=9/4/20<br>Cases=%{y}<extra></extra>\", \"ids\": [\"Brazil\"], \"legendgroup\": \"Brazil\", \"marker\": {\"color\": \"#EF553B\"}, \"name\": \"Brazil\", \"offsetgroup\": \"Brazil\", \"orientation\": \"v\", \"showlegend\": true, \"textposition\": \"auto\", \"x\": [\"Brazil\"], \"xaxis\": \"x\", \"y\": [3464278], \"yaxis\": \"y\", \"type\": \"bar\"}, {\"alignmentgroup\": \"True\", \"hovertemplate\": \"Country=%{x}<br>Date=9/4/20<br>Cases=%{y}<extra></extra>\", \"ids\": [\"India\"], \"legendgroup\": \"India\", \"marker\": {\"color\": \"#00cc96\"}, \"name\": \"India\", \"offsetgroup\": \"India\", \"orientation\": \"v\", \"showlegend\": true, \"textposition\": \"auto\", \"x\": [\"India\"], \"xaxis\": \"x\", \"y\": [3107223], \"yaxis\": \"y\", \"type\": \"bar\"}, {\"alignmentgroup\": \"True\", \"hovertemplate\": \"Country=%{x}<br>Date=9/4/20<br>Cases=%{y}<extra></extra>\", \"ids\": [\"US\"], \"legendgroup\": \"US\", \"marker\": {\"color\": \"#ab63fa\"}, \"name\": \"US\", \"offsetgroup\": \"US\", \"orientation\": \"v\", \"showlegend\": true, \"textposition\": \"auto\", \"x\": [\"US\"], \"xaxis\": \"x\", \"y\": [2283454], \"yaxis\": \"y\", \"type\": \"bar\"}], \"name\": \"9/4/20\"}, {\"data\": [{\"alignmentgroup\": \"True\", \"hovertemplate\": \"Country=%{x}<br>Date=9/9/20<br>Cases=%{y}<extra></extra>\", \"ids\": [\"Australia\"], \"legendgroup\": \"Australia\", \"marker\": {\"color\": \"#636efa\"}, \"name\": \"Australia\", \"offsetgroup\": \"Australia\", \"orientation\": \"v\", \"showlegend\": true, \"textposition\": \"auto\", \"x\": [\"Australia\"], \"xaxis\": \"x\", \"y\": [22863], \"yaxis\": \"y\", \"type\": \"bar\"}, {\"alignmentgroup\": \"True\", \"hovertemplate\": \"Country=%{x}<br>Date=9/9/20<br>Cases=%{y}<extra></extra>\", \"ids\": [\"Brazil\"], \"legendgroup\": \"Brazil\", \"marker\": {\"color\": \"#EF553B\"}, \"name\": \"Brazil\", \"offsetgroup\": \"Brazil\", \"orientation\": \"v\", \"showlegend\": true, \"textposition\": \"auto\", \"x\": [\"Brazil\"], \"xaxis\": \"x\", \"y\": [3611632], \"yaxis\": \"y\", \"type\": \"bar\"}, {\"alignmentgroup\": \"True\", \"hovertemplate\": \"Country=%{x}<br>Date=9/9/20<br>Cases=%{y}<extra></extra>\", \"ids\": [\"India\"], \"legendgroup\": \"India\", \"marker\": {\"color\": \"#00cc96\"}, \"name\": \"India\", \"offsetgroup\": \"India\", \"orientation\": \"v\", \"showlegend\": true, \"textposition\": \"auto\", \"x\": [\"India\"], \"xaxis\": \"x\", \"y\": [3471783], \"yaxis\": \"y\", \"type\": \"bar\"}, {\"alignmentgroup\": \"True\", \"hovertemplate\": \"Country=%{x}<br>Date=9/9/20<br>Cases=%{y}<extra></extra>\", \"ids\": [\"US\"], \"legendgroup\": \"US\", \"marker\": {\"color\": \"#ab63fa\"}, \"name\": \"US\", \"offsetgroup\": \"US\", \"orientation\": \"v\", \"showlegend\": true, \"textposition\": \"auto\", \"x\": [\"US\"], \"xaxis\": \"x\", \"y\": [2387479], \"yaxis\": \"y\", \"type\": \"bar\"}], \"name\": \"9/9/20\"}, {\"data\": [{\"alignmentgroup\": \"True\", \"hovertemplate\": \"Country=%{x}<br>Date=9/13/20<br>Cases=%{y}<extra></extra>\", \"ids\": [\"Australia\"], \"legendgroup\": \"Australia\", \"marker\": {\"color\": \"#636efa\"}, \"name\": \"Australia\", \"offsetgroup\": \"Australia\", \"orientation\": \"v\", \"showlegend\": true, \"textposition\": \"auto\", \"x\": [\"Australia\"], \"xaxis\": \"x\", \"y\": [23465], \"yaxis\": \"y\", \"type\": \"bar\"}, {\"alignmentgroup\": \"True\", \"hovertemplate\": \"Country=%{x}<br>Date=9/13/20<br>Cases=%{y}<extra></extra>\", \"ids\": [\"Brazil\"], \"legendgroup\": \"Brazil\", \"marker\": {\"color\": \"#EF553B\"}, \"name\": \"Brazil\", \"offsetgroup\": \"Brazil\", \"orientation\": \"v\", \"showlegend\": true, \"textposition\": \"auto\", \"x\": [\"Brazil\"], \"xaxis\": \"x\", \"y\": [3723206], \"yaxis\": \"y\", \"type\": \"bar\"}, {\"alignmentgroup\": \"True\", \"hovertemplate\": \"Country=%{x}<br>Date=9/13/20<br>Cases=%{y}<extra></extra>\", \"ids\": [\"India\"], \"legendgroup\": \"India\", \"marker\": {\"color\": \"#00cc96\"}, \"name\": \"India\", \"offsetgroup\": \"India\", \"orientation\": \"v\", \"showlegend\": true, \"textposition\": \"auto\", \"x\": [\"India\"], \"xaxis\": \"x\", \"y\": [3780107], \"yaxis\": \"y\", \"type\": \"bar\"}, {\"alignmentgroup\": \"True\", \"hovertemplate\": \"Country=%{x}<br>Date=9/13/20<br>Cases=%{y}<extra></extra>\", \"ids\": [\"US\"], \"legendgroup\": \"US\", \"marker\": {\"color\": \"#ab63fa\"}, \"name\": \"US\", \"offsetgroup\": \"US\", \"orientation\": \"v\", \"showlegend\": true, \"textposition\": \"auto\", \"x\": [\"US\"], \"xaxis\": \"x\", \"y\": [2451406], \"yaxis\": \"y\", \"type\": \"bar\"}], \"name\": \"9/13/20\"}, {\"data\": [{\"alignmentgroup\": \"True\", \"hovertemplate\": \"Country=%{x}<br>Date=9/18/20<br>Cases=%{y}<extra></extra>\", \"ids\": [\"Australia\"], \"legendgroup\": \"Australia\", \"marker\": {\"color\": \"#636efa\"}, \"name\": \"Australia\", \"offsetgroup\": \"Australia\", \"orientation\": \"v\", \"showlegend\": true, \"textposition\": \"auto\", \"x\": [\"Australia\"], \"xaxis\": \"x\", \"y\": [23861], \"yaxis\": \"y\", \"type\": \"bar\"}, {\"alignmentgroup\": \"True\", \"hovertemplate\": \"Country=%{x}<br>Date=9/18/20<br>Cases=%{y}<extra></extra>\", \"ids\": [\"Brazil\"], \"legendgroup\": \"Brazil\", \"marker\": {\"color\": \"#EF553B\"}, \"name\": \"Brazil\", \"offsetgroup\": \"Brazil\", \"orientation\": \"v\", \"showlegend\": true, \"textposition\": \"auto\", \"x\": [\"Brazil\"], \"xaxis\": \"x\", \"y\": [3897539], \"yaxis\": \"y\", \"type\": \"bar\"}, {\"alignmentgroup\": \"True\", \"hovertemplate\": \"Country=%{x}<br>Date=9/18/20<br>Cases=%{y}<extra></extra>\", \"ids\": [\"India\"], \"legendgroup\": \"India\", \"marker\": {\"color\": \"#00cc96\"}, \"name\": \"India\", \"offsetgroup\": \"India\", \"orientation\": \"v\", \"showlegend\": true, \"textposition\": \"auto\", \"x\": [\"India\"], \"xaxis\": \"x\", \"y\": [4208431], \"yaxis\": \"y\", \"type\": \"bar\"}, {\"alignmentgroup\": \"True\", \"hovertemplate\": \"Country=%{x}<br>Date=9/18/20<br>Cases=%{y}<extra></extra>\", \"ids\": [\"US\"], \"legendgroup\": \"US\", \"marker\": {\"color\": \"#ab63fa\"}, \"name\": \"US\", \"offsetgroup\": \"US\", \"orientation\": \"v\", \"showlegend\": true, \"textposition\": \"auto\", \"x\": [\"US\"], \"xaxis\": \"x\", \"y\": [2556465], \"yaxis\": \"y\", \"type\": \"bar\"}], \"name\": \"9/18/20\"}, {\"data\": [{\"alignmentgroup\": \"True\", \"hovertemplate\": \"Country=%{x}<br>Date=9/22/20<br>Cases=%{y}<extra></extra>\", \"ids\": [\"Australia\"], \"legendgroup\": \"Australia\", \"marker\": {\"color\": \"#636efa\"}, \"name\": \"Australia\", \"offsetgroup\": \"Australia\", \"orientation\": \"v\", \"showlegend\": true, \"textposition\": \"auto\", \"x\": [\"Australia\"], \"xaxis\": \"x\", \"y\": [24331], \"yaxis\": \"y\", \"type\": \"bar\"}, {\"alignmentgroup\": \"True\", \"hovertemplate\": \"Country=%{x}<br>Date=9/22/20<br>Cases=%{y}<extra></extra>\", \"ids\": [\"Brazil\"], \"legendgroup\": \"Brazil\", \"marker\": {\"color\": \"#EF553B\"}, \"name\": \"Brazil\", \"offsetgroup\": \"Brazil\", \"orientation\": \"v\", \"showlegend\": true, \"textposition\": \"auto\", \"x\": [\"Brazil\"], \"xaxis\": \"x\", \"y\": [4016831], \"yaxis\": \"y\", \"type\": \"bar\"}, {\"alignmentgroup\": \"True\", \"hovertemplate\": \"Country=%{x}<br>Date=9/22/20<br>Cases=%{y}<extra></extra>\", \"ids\": [\"India\"], \"legendgroup\": \"India\", \"marker\": {\"color\": \"#00cc96\"}, \"name\": \"India\", \"offsetgroup\": \"India\", \"orientation\": \"v\", \"showlegend\": true, \"textposition\": \"auto\", \"x\": [\"India\"], \"xaxis\": \"x\", \"y\": [4587613], \"yaxis\": \"y\", \"type\": \"bar\"}, {\"alignmentgroup\": \"True\", \"hovertemplate\": \"Country=%{x}<br>Date=9/22/20<br>Cases=%{y}<extra></extra>\", \"ids\": [\"US\"], \"legendgroup\": \"US\", \"marker\": {\"color\": \"#ab63fa\"}, \"name\": \"US\", \"offsetgroup\": \"US\", \"orientation\": \"v\", \"showlegend\": true, \"textposition\": \"auto\", \"x\": [\"US\"], \"xaxis\": \"x\", \"y\": [2646959], \"yaxis\": \"y\", \"type\": \"bar\"}], \"name\": \"9/22/20\"}, {\"data\": [{\"alignmentgroup\": \"True\", \"hovertemplate\": \"Country=%{x}<br>Date=9/27/20<br>Cases=%{y}<extra></extra>\", \"ids\": [\"Australia\"], \"legendgroup\": \"Australia\", \"marker\": {\"color\": \"#636efa\"}, \"name\": \"Australia\", \"offsetgroup\": \"Australia\", \"orientation\": \"v\", \"showlegend\": true, \"textposition\": \"auto\", \"x\": [\"Australia\"], \"xaxis\": \"x\", \"y\": [24633], \"yaxis\": \"y\", \"type\": \"bar\"}, {\"alignmentgroup\": \"True\", \"hovertemplate\": \"Country=%{x}<br>Date=9/27/20<br>Cases=%{y}<extra></extra>\", \"ids\": [\"Brazil\"], \"legendgroup\": \"Brazil\", \"marker\": {\"color\": \"#EF553B\"}, \"name\": \"Brazil\", \"offsetgroup\": \"Brazil\", \"orientation\": \"v\", \"showlegend\": true, \"textposition\": \"auto\", \"x\": [\"Brazil\"], \"xaxis\": \"x\", \"y\": [4172711], \"yaxis\": \"y\", \"type\": \"bar\"}, {\"alignmentgroup\": \"True\", \"hovertemplate\": \"Country=%{x}<br>Date=9/27/20<br>Cases=%{y}<extra></extra>\", \"ids\": [\"India\"], \"legendgroup\": \"India\", \"marker\": {\"color\": \"#00cc96\"}, \"name\": \"India\", \"offsetgroup\": \"India\", \"orientation\": \"v\", \"showlegend\": true, \"textposition\": \"auto\", \"x\": [\"India\"], \"xaxis\": \"x\", \"y\": [5016520], \"yaxis\": \"y\", \"type\": \"bar\"}, {\"alignmentgroup\": \"True\", \"hovertemplate\": \"Country=%{x}<br>Date=9/27/20<br>Cases=%{y}<extra></extra>\", \"ids\": [\"US\"], \"legendgroup\": \"US\", \"marker\": {\"color\": \"#ab63fa\"}, \"name\": \"US\", \"offsetgroup\": \"US\", \"orientation\": \"v\", \"showlegend\": true, \"textposition\": \"auto\", \"x\": [\"US\"], \"xaxis\": \"x\", \"y\": [2766280], \"yaxis\": \"y\", \"type\": \"bar\"}], \"name\": \"9/27/20\"}, {\"data\": [{\"alignmentgroup\": \"True\", \"hovertemplate\": \"Country=%{x}<br>Date=10/2/20<br>Cases=%{y}<extra></extra>\", \"ids\": [\"Australia\"], \"legendgroup\": \"Australia\", \"marker\": {\"color\": \"#636efa\"}, \"name\": \"Australia\", \"offsetgroup\": \"Australia\", \"orientation\": \"v\", \"showlegend\": true, \"textposition\": \"auto\", \"x\": [\"Australia\"], \"xaxis\": \"x\", \"y\": [24850], \"yaxis\": \"y\", \"type\": \"bar\"}, {\"alignmentgroup\": \"True\", \"hovertemplate\": \"Country=%{x}<br>Date=10/2/20<br>Cases=%{y}<extra></extra>\", \"ids\": [\"Brazil\"], \"legendgroup\": \"Brazil\", \"marker\": {\"color\": \"#EF553B\"}, \"name\": \"Brazil\", \"offsetgroup\": \"Brazil\", \"orientation\": \"v\", \"showlegend\": true, \"textposition\": \"auto\", \"x\": [\"Brazil\"], \"xaxis\": \"x\", \"y\": [4299659], \"yaxis\": \"y\", \"type\": \"bar\"}, {\"alignmentgroup\": \"True\", \"hovertemplate\": \"Country=%{x}<br>Date=10/2/20<br>Cases=%{y}<extra></extra>\", \"ids\": [\"India\"], \"legendgroup\": \"India\", \"marker\": {\"color\": \"#00cc96\"}, \"name\": \"India\", \"offsetgroup\": \"India\", \"orientation\": \"v\", \"showlegend\": true, \"textposition\": \"auto\", \"x\": [\"India\"], \"xaxis\": \"x\", \"y\": [5427706], \"yaxis\": \"y\", \"type\": \"bar\"}, {\"alignmentgroup\": \"True\", \"hovertemplate\": \"Country=%{x}<br>Date=10/2/20<br>Cases=%{y}<extra></extra>\", \"ids\": [\"US\"], \"legendgroup\": \"US\", \"marker\": {\"color\": \"#ab63fa\"}, \"name\": \"US\", \"offsetgroup\": \"US\", \"orientation\": \"v\", \"showlegend\": true, \"textposition\": \"auto\", \"x\": [\"US\"], \"xaxis\": \"x\", \"y\": [2873369], \"yaxis\": \"y\", \"type\": \"bar\"}], \"name\": \"10/2/20\"}, {\"data\": [{\"alignmentgroup\": \"True\", \"hovertemplate\": \"Country=%{x}<br>Date=10/5/20<br>Cases=%{y}<extra></extra>\", \"ids\": [\"Australia\"], \"legendgroup\": \"Australia\", \"marker\": {\"color\": \"#636efa\"}, \"name\": \"Australia\", \"offsetgroup\": \"Australia\", \"orientation\": \"v\", \"showlegend\": true, \"textposition\": \"auto\", \"x\": [\"Australia\"], \"xaxis\": \"x\", \"y\": [24892], \"yaxis\": \"y\", \"type\": \"bar\"}, {\"alignmentgroup\": \"True\", \"hovertemplate\": \"Country=%{x}<br>Date=10/5/20<br>Cases=%{y}<extra></extra>\", \"ids\": [\"Brazil\"], \"legendgroup\": \"Brazil\", \"marker\": {\"color\": \"#EF553B\"}, \"name\": \"Brazil\", \"offsetgroup\": \"Brazil\", \"orientation\": \"v\", \"showlegend\": true, \"textposition\": \"auto\", \"x\": [\"Brazil\"], \"xaxis\": \"x\", \"y\": [4397882], \"yaxis\": \"y\", \"type\": \"bar\"}, {\"alignmentgroup\": \"True\", \"hovertemplate\": \"Country=%{x}<br>Date=10/5/20<br>Cases=%{y}<extra></extra>\", \"ids\": [\"India\"], \"legendgroup\": \"India\", \"marker\": {\"color\": \"#00cc96\"}, \"name\": \"India\", \"offsetgroup\": \"India\", \"orientation\": \"v\", \"showlegend\": true, \"textposition\": \"auto\", \"x\": [\"India\"], \"xaxis\": \"x\", \"y\": [5662490], \"yaxis\": \"y\", \"type\": \"bar\"}, {\"alignmentgroup\": \"True\", \"hovertemplate\": \"Country=%{x}<br>Date=10/5/20<br>Cases=%{y}<extra></extra>\", \"ids\": [\"US\"], \"legendgroup\": \"US\", \"marker\": {\"color\": \"#ab63fa\"}, \"name\": \"US\", \"offsetgroup\": \"US\", \"orientation\": \"v\", \"showlegend\": true, \"textposition\": \"auto\", \"x\": [\"US\"], \"xaxis\": \"x\", \"y\": [2935142], \"yaxis\": \"y\", \"type\": \"bar\"}], \"name\": \"10/5/20\"}, {\"data\": [{\"alignmentgroup\": \"True\", \"hovertemplate\": \"Country=%{x}<br>Date=10/10/20<br>Cases=%{y}<extra></extra>\", \"ids\": [\"Australia\"], \"legendgroup\": \"Australia\", \"marker\": {\"color\": \"#636efa\"}, \"name\": \"Australia\", \"offsetgroup\": \"Australia\", \"orientation\": \"v\", \"showlegend\": true, \"textposition\": \"auto\", \"x\": [\"Australia\"], \"xaxis\": \"x\", \"y\": [24987], \"yaxis\": \"y\", \"type\": \"bar\"}, {\"alignmentgroup\": \"True\", \"hovertemplate\": \"Country=%{x}<br>Date=10/10/20<br>Cases=%{y}<extra></extra>\", \"ids\": [\"Brazil\"], \"legendgroup\": \"Brazil\", \"marker\": {\"color\": \"#EF553B\"}, \"name\": \"Brazil\", \"offsetgroup\": \"Brazil\", \"orientation\": \"v\", \"showlegend\": true, \"textposition\": \"auto\", \"x\": [\"Brazil\"], \"xaxis\": \"x\", \"y\": [4502854], \"yaxis\": \"y\", \"type\": \"bar\"}, {\"alignmentgroup\": \"True\", \"hovertemplate\": \"Country=%{x}<br>Date=10/10/20<br>Cases=%{y}<extra></extra>\", \"ids\": [\"India\"], \"legendgroup\": \"India\", \"marker\": {\"color\": \"#00cc96\"}, \"name\": \"India\", \"offsetgroup\": \"India\", \"orientation\": \"v\", \"showlegend\": true, \"textposition\": \"auto\", \"x\": [\"India\"], \"xaxis\": \"x\", \"y\": [6077976], \"yaxis\": \"y\", \"type\": \"bar\"}, {\"alignmentgroup\": \"True\", \"hovertemplate\": \"Country=%{x}<br>Date=10/10/20<br>Cases=%{y}<extra></extra>\", \"ids\": [\"US\"], \"legendgroup\": \"US\", \"marker\": {\"color\": \"#ab63fa\"}, \"name\": \"US\", \"offsetgroup\": \"US\", \"orientation\": \"v\", \"showlegend\": true, \"textposition\": \"auto\", \"x\": [\"US\"], \"xaxis\": \"x\", \"y\": [3062983], \"yaxis\": \"y\", \"type\": \"bar\"}], \"name\": \"10/10/20\"}, {\"data\": [{\"alignmentgroup\": \"True\", \"hovertemplate\": \"Country=%{x}<br>Date=10/15/20<br>Cases=%{y}<extra></extra>\", \"ids\": [\"Australia\"], \"legendgroup\": \"Australia\", \"marker\": {\"color\": \"#636efa\"}, \"name\": \"Australia\", \"offsetgroup\": \"Australia\", \"orientation\": \"v\", \"showlegend\": true, \"textposition\": \"auto\", \"x\": [\"Australia\"], \"xaxis\": \"x\", \"y\": [25062], \"yaxis\": \"y\", \"type\": \"bar\"}, {\"alignmentgroup\": \"True\", \"hovertemplate\": \"Country=%{x}<br>Date=10/15/20<br>Cases=%{y}<extra></extra>\", \"ids\": [\"Brazil\"], \"legendgroup\": \"Brazil\", \"marker\": {\"color\": \"#EF553B\"}, \"name\": \"Brazil\", \"offsetgroup\": \"Brazil\", \"orientation\": \"v\", \"showlegend\": true, \"textposition\": \"auto\", \"x\": [\"Brazil\"], \"xaxis\": \"x\", \"y\": [4526393], \"yaxis\": \"y\", \"type\": \"bar\"}, {\"alignmentgroup\": \"True\", \"hovertemplate\": \"Country=%{x}<br>Date=10/15/20<br>Cases=%{y}<extra></extra>\", \"ids\": [\"India\"], \"legendgroup\": \"India\", \"marker\": {\"color\": \"#00cc96\"}, \"name\": \"India\", \"offsetgroup\": \"India\", \"orientation\": \"v\", \"showlegend\": true, \"textposition\": \"auto\", \"x\": [\"India\"], \"xaxis\": \"x\", \"y\": [6453779], \"yaxis\": \"y\", \"type\": \"bar\"}, {\"alignmentgroup\": \"True\", \"hovertemplate\": \"Country=%{x}<br>Date=10/15/20<br>Cases=%{y}<extra></extra>\", \"ids\": [\"US\"], \"legendgroup\": \"US\", \"marker\": {\"color\": \"#ab63fa\"}, \"name\": \"US\", \"offsetgroup\": \"US\", \"orientation\": \"v\", \"showlegend\": true, \"textposition\": \"auto\", \"x\": [\"US\"], \"xaxis\": \"x\", \"y\": [3177397], \"yaxis\": \"y\", \"type\": \"bar\"}], \"name\": \"10/15/20\"}, {\"data\": [{\"alignmentgroup\": \"True\", \"hovertemplate\": \"Country=%{x}<br>Date=10/24/20<br>Cases=%{y}<extra></extra>\", \"ids\": [\"Australia\"], \"legendgroup\": \"Australia\", \"marker\": {\"color\": \"#636efa\"}, \"name\": \"Australia\", \"offsetgroup\": \"Australia\", \"orientation\": \"v\", \"showlegend\": true, \"textposition\": \"auto\", \"x\": [\"Australia\"], \"xaxis\": \"x\", \"y\": [25179], \"yaxis\": \"y\", \"type\": \"bar\"}, {\"alignmentgroup\": \"True\", \"hovertemplate\": \"Country=%{x}<br>Date=10/24/20<br>Cases=%{y}<extra></extra>\", \"ids\": [\"Brazil\"], \"legendgroup\": \"Brazil\", \"marker\": {\"color\": \"#EF553B\"}, \"name\": \"Brazil\", \"offsetgroup\": \"Brazil\", \"orientation\": \"v\", \"showlegend\": true, \"textposition\": \"auto\", \"x\": [\"Brazil\"], \"xaxis\": \"x\", \"y\": [4526393], \"yaxis\": \"y\", \"type\": \"bar\"}, {\"alignmentgroup\": \"True\", \"hovertemplate\": \"Country=%{x}<br>Date=10/24/20<br>Cases=%{y}<extra></extra>\", \"ids\": [\"India\"], \"legendgroup\": \"India\", \"marker\": {\"color\": \"#00cc96\"}, \"name\": \"India\", \"offsetgroup\": \"India\", \"orientation\": \"v\", \"showlegend\": true, \"textposition\": \"auto\", \"x\": [\"India\"], \"xaxis\": \"x\", \"y\": [7078123], \"yaxis\": \"y\", \"type\": \"bar\"}, {\"alignmentgroup\": \"True\", \"hovertemplate\": \"Country=%{x}<br>Date=10/24/20<br>Cases=%{y}<extra></extra>\", \"ids\": [\"US\"], \"legendgroup\": \"US\", \"marker\": {\"color\": \"#ab63fa\"}, \"name\": \"US\", \"offsetgroup\": \"US\", \"orientation\": \"v\", \"showlegend\": true, \"textposition\": \"auto\", \"x\": [\"US\"], \"xaxis\": \"x\", \"y\": [3406656], \"yaxis\": \"y\", \"type\": \"bar\"}], \"name\": \"10/24/20\"}, {\"data\": [{\"alignmentgroup\": \"True\", \"hovertemplate\": \"Country=%{x}<br>Date=10/29/20<br>Cases=%{y}<extra></extra>\", \"ids\": [\"Australia\"], \"legendgroup\": \"Australia\", \"marker\": {\"color\": \"#636efa\"}, \"name\": \"Australia\", \"offsetgroup\": \"Australia\", \"orientation\": \"v\", \"showlegend\": true, \"textposition\": \"auto\", \"x\": [\"Australia\"], \"xaxis\": \"x\", \"y\": [25239], \"yaxis\": \"y\", \"type\": \"bar\"}, {\"alignmentgroup\": \"True\", \"hovertemplate\": \"Country=%{x}<br>Date=10/29/20<br>Cases=%{y}<extra></extra>\", \"ids\": [\"Brazil\"], \"legendgroup\": \"Brazil\", \"marker\": {\"color\": \"#EF553B\"}, \"name\": \"Brazil\", \"offsetgroup\": \"Brazil\", \"orientation\": \"v\", \"showlegend\": true, \"textposition\": \"auto\", \"x\": [\"Brazil\"], \"xaxis\": \"x\", \"y\": [4962574], \"yaxis\": \"y\", \"type\": \"bar\"}, {\"alignmentgroup\": \"True\", \"hovertemplate\": \"Country=%{x}<br>Date=10/29/20<br>Cases=%{y}<extra></extra>\", \"ids\": [\"India\"], \"legendgroup\": \"India\", \"marker\": {\"color\": \"#00cc96\"}, \"name\": \"India\", \"offsetgroup\": \"India\", \"orientation\": \"v\", \"showlegend\": true, \"textposition\": \"auto\", \"x\": [\"India\"], \"xaxis\": \"x\", \"y\": [7373375], \"yaxis\": \"y\", \"type\": \"bar\"}, {\"alignmentgroup\": \"True\", \"hovertemplate\": \"Country=%{x}<br>Date=10/29/20<br>Cases=%{y}<extra></extra>\", \"ids\": [\"US\"], \"legendgroup\": \"US\", \"marker\": {\"color\": \"#ab63fa\"}, \"name\": \"US\", \"offsetgroup\": \"US\", \"orientation\": \"v\", \"showlegend\": true, \"textposition\": \"auto\", \"x\": [\"US\"], \"xaxis\": \"x\", \"y\": [3554336], \"yaxis\": \"y\", \"type\": \"bar\"}], \"name\": \"10/29/20\"}, {\"data\": [{\"alignmentgroup\": \"True\", \"hovertemplate\": \"Country=%{x}<br>Date=11/1/20<br>Cases=%{y}<extra></extra>\", \"ids\": [\"Australia\"], \"legendgroup\": \"Australia\", \"marker\": {\"color\": \"#636efa\"}, \"name\": \"Australia\", \"offsetgroup\": \"Australia\", \"orientation\": \"v\", \"showlegend\": true, \"textposition\": \"auto\", \"x\": [\"Australia\"], \"xaxis\": \"x\", \"y\": [25352], \"yaxis\": \"y\", \"type\": \"bar\"}, {\"alignmentgroup\": \"True\", \"hovertemplate\": \"Country=%{x}<br>Date=11/1/20<br>Cases=%{y}<extra></extra>\", \"ids\": [\"Brazil\"], \"legendgroup\": \"Brazil\", \"marker\": {\"color\": \"#EF553B\"}, \"name\": \"Brazil\", \"offsetgroup\": \"Brazil\", \"orientation\": \"v\", \"showlegend\": true, \"textposition\": \"auto\", \"x\": [\"Brazil\"], \"xaxis\": \"x\", \"y\": [5022338], \"yaxis\": \"y\", \"type\": \"bar\"}, {\"alignmentgroup\": \"True\", \"hovertemplate\": \"Country=%{x}<br>Date=11/1/20<br>Cases=%{y}<extra></extra>\", \"ids\": [\"India\"], \"legendgroup\": \"India\", \"marker\": {\"color\": \"#00cc96\"}, \"name\": \"India\", \"offsetgroup\": \"India\", \"orientation\": \"v\", \"showlegend\": true, \"textposition\": \"auto\", \"x\": [\"India\"], \"xaxis\": \"x\", \"y\": [7544798], \"yaxis\": \"y\", \"type\": \"bar\"}, {\"alignmentgroup\": \"True\", \"hovertemplate\": \"Country=%{x}<br>Date=11/1/20<br>Cases=%{y}<extra></extra>\", \"ids\": [\"US\"], \"legendgroup\": \"US\", \"marker\": {\"color\": \"#ab63fa\"}, \"name\": \"US\", \"offsetgroup\": \"US\", \"orientation\": \"v\", \"showlegend\": true, \"textposition\": \"auto\", \"x\": [\"US\"], \"xaxis\": \"x\", \"y\": [3630579], \"yaxis\": \"y\", \"type\": \"bar\"}], \"name\": \"11/1/20\"}, {\"data\": [{\"alignmentgroup\": \"True\", \"hovertemplate\": \"Country=%{x}<br>Date=11/5/20<br>Cases=%{y}<extra></extra>\", \"ids\": [\"Australia\"], \"legendgroup\": \"Australia\", \"marker\": {\"color\": \"#636efa\"}, \"name\": \"Australia\", \"offsetgroup\": \"Australia\", \"orientation\": \"v\", \"showlegend\": true, \"textposition\": \"auto\", \"x\": [\"Australia\"], \"xaxis\": \"x\", \"y\": [25427], \"yaxis\": \"y\", \"type\": \"bar\"}, {\"alignmentgroup\": \"True\", \"hovertemplate\": \"Country=%{x}<br>Date=11/5/20<br>Cases=%{y}<extra></extra>\", \"ids\": [\"Brazil\"], \"legendgroup\": \"Brazil\", \"marker\": {\"color\": \"#EF553B\"}, \"name\": \"Brazil\", \"offsetgroup\": \"Brazil\", \"orientation\": \"v\", \"showlegend\": true, \"textposition\": \"auto\", \"x\": [\"Brazil\"], \"xaxis\": \"x\", \"y\": [5078162], \"yaxis\": \"y\", \"type\": \"bar\"}, {\"alignmentgroup\": \"True\", \"hovertemplate\": \"Country=%{x}<br>Date=11/5/20<br>Cases=%{y}<extra></extra>\", \"ids\": [\"India\"], \"legendgroup\": \"India\", \"marker\": {\"color\": \"#00cc96\"}, \"name\": \"India\", \"offsetgroup\": \"India\", \"orientation\": \"v\", \"showlegend\": true, \"textposition\": \"auto\", \"x\": [\"India\"], \"xaxis\": \"x\", \"y\": [7765966], \"yaxis\": \"y\", \"type\": \"bar\"}, {\"alignmentgroup\": \"True\", \"hovertemplate\": \"Country=%{x}<br>Date=11/5/20<br>Cases=%{y}<extra></extra>\", \"ids\": [\"US\"], \"legendgroup\": \"US\", \"marker\": {\"color\": \"#ab63fa\"}, \"name\": \"US\", \"offsetgroup\": \"US\", \"orientation\": \"v\", \"showlegend\": true, \"textposition\": \"auto\", \"x\": [\"US\"], \"xaxis\": \"x\", \"y\": [3781751], \"yaxis\": \"y\", \"type\": \"bar\"}], \"name\": \"11/5/20\"}, {\"data\": [{\"alignmentgroup\": \"True\", \"hovertemplate\": \"Country=%{x}<br>Date=11/14/20<br>Cases=%{y}<extra></extra>\", \"ids\": [\"Australia\"], \"legendgroup\": \"Australia\", \"marker\": {\"color\": \"#636efa\"}, \"name\": \"Australia\", \"offsetgroup\": \"Australia\", \"orientation\": \"v\", \"showlegend\": true, \"textposition\": \"auto\", \"x\": [\"Australia\"], \"xaxis\": \"x\", \"y\": [25467], \"yaxis\": \"y\", \"type\": \"bar\"}, {\"alignmentgroup\": \"True\", \"hovertemplate\": \"Country=%{x}<br>Date=11/14/20<br>Cases=%{y}<extra></extra>\", \"ids\": [\"Brazil\"], \"legendgroup\": \"Brazil\", \"marker\": {\"color\": \"#EF553B\"}, \"name\": \"Brazil\", \"offsetgroup\": \"Brazil\", \"orientation\": \"v\", \"showlegend\": true, \"textposition\": \"auto\", \"x\": [\"Brazil\"], \"xaxis\": \"x\", \"y\": [5279452], \"yaxis\": \"y\", \"type\": \"bar\"}, {\"alignmentgroup\": \"True\", \"hovertemplate\": \"Country=%{x}<br>Date=11/14/20<br>Cases=%{y}<extra></extra>\", \"ids\": [\"India\"], \"legendgroup\": \"India\", \"marker\": {\"color\": \"#00cc96\"}, \"name\": \"India\", \"offsetgroup\": \"India\", \"orientation\": \"v\", \"showlegend\": true, \"textposition\": \"auto\", \"x\": [\"India\"], \"xaxis\": \"x\", \"y\": [8205728], \"yaxis\": \"y\", \"type\": \"bar\"}, {\"alignmentgroup\": \"True\", \"hovertemplate\": \"Country=%{x}<br>Date=11/14/20<br>Cases=%{y}<extra></extra>\", \"ids\": [\"US\"], \"legendgroup\": \"US\", \"marker\": {\"color\": \"#ab63fa\"}, \"name\": \"US\", \"offsetgroup\": \"US\", \"orientation\": \"v\", \"showlegend\": true, \"textposition\": \"auto\", \"x\": [\"US\"], \"xaxis\": \"x\", \"y\": [4148444], \"yaxis\": \"y\", \"type\": \"bar\"}], \"name\": \"11/14/20\"}, {\"data\": [{\"alignmentgroup\": \"True\", \"hovertemplate\": \"Country=%{x}<br>Date=11/19/20<br>Cases=%{y}<extra></extra>\", \"ids\": [\"Australia\"], \"legendgroup\": \"Australia\", \"marker\": {\"color\": \"#636efa\"}, \"name\": \"Australia\", \"offsetgroup\": \"Australia\", \"orientation\": \"v\", \"showlegend\": true, \"textposition\": \"auto\", \"x\": [\"Australia\"], \"xaxis\": \"x\", \"y\": [25511], \"yaxis\": \"y\", \"type\": \"bar\"}, {\"alignmentgroup\": \"True\", \"hovertemplate\": \"Country=%{x}<br>Date=11/19/20<br>Cases=%{y}<extra></extra>\", \"ids\": [\"Brazil\"], \"legendgroup\": \"Brazil\", \"marker\": {\"color\": \"#EF553B\"}, \"name\": \"Brazil\", \"offsetgroup\": \"Brazil\", \"orientation\": \"v\", \"showlegend\": true, \"textposition\": \"auto\", \"x\": [\"Brazil\"], \"xaxis\": \"x\", \"y\": [5406066], \"yaxis\": \"y\", \"type\": \"bar\"}, {\"alignmentgroup\": \"True\", \"hovertemplate\": \"Country=%{x}<br>Date=11/19/20<br>Cases=%{y}<extra></extra>\", \"ids\": [\"India\"], \"legendgroup\": \"India\", \"marker\": {\"color\": \"#00cc96\"}, \"name\": \"India\", \"offsetgroup\": \"India\", \"orientation\": \"v\", \"showlegend\": true, \"textposition\": \"auto\", \"x\": [\"India\"], \"xaxis\": \"x\", \"y\": [8428409], \"yaxis\": \"y\", \"type\": \"bar\"}, {\"alignmentgroup\": \"True\", \"hovertemplate\": \"Country=%{x}<br>Date=11/19/20<br>Cases=%{y}<extra></extra>\", \"ids\": [\"US\"], \"legendgroup\": \"US\", \"marker\": {\"color\": \"#ab63fa\"}, \"name\": \"US\", \"offsetgroup\": \"US\", \"orientation\": \"v\", \"showlegend\": true, \"textposition\": \"auto\", \"x\": [\"US\"], \"xaxis\": \"x\", \"y\": [4410709], \"yaxis\": \"y\", \"type\": \"bar\"}], \"name\": \"11/19/20\"}, {\"data\": [{\"alignmentgroup\": \"True\", \"hovertemplate\": \"Country=%{x}<br>Date=11/23/20<br>Cases=%{y}<extra></extra>\", \"ids\": [\"Australia\"], \"legendgroup\": \"Australia\", \"marker\": {\"color\": \"#636efa\"}, \"name\": \"Australia\", \"offsetgroup\": \"Australia\", \"orientation\": \"v\", \"showlegend\": true, \"textposition\": \"auto\", \"x\": [\"Australia\"], \"xaxis\": \"x\", \"y\": [25533], \"yaxis\": \"y\", \"type\": \"bar\"}, {\"alignmentgroup\": \"True\", \"hovertemplate\": \"Country=%{x}<br>Date=11/23/20<br>Cases=%{y}<extra></extra>\", \"ids\": [\"Brazil\"], \"legendgroup\": \"Brazil\", \"marker\": {\"color\": \"#EF553B\"}, \"name\": \"Brazil\", \"offsetgroup\": \"Brazil\", \"orientation\": \"v\", \"showlegend\": true, \"textposition\": \"auto\", \"x\": [\"Brazil\"], \"xaxis\": \"x\", \"y\": [5481184], \"yaxis\": \"y\", \"type\": \"bar\"}, {\"alignmentgroup\": \"True\", \"hovertemplate\": \"Country=%{x}<br>Date=11/23/20<br>Cases=%{y}<extra></extra>\", \"ids\": [\"India\"], \"legendgroup\": \"India\", \"marker\": {\"color\": \"#00cc96\"}, \"name\": \"India\", \"offsetgroup\": \"India\", \"orientation\": \"v\", \"showlegend\": true, \"textposition\": \"auto\", \"x\": [\"India\"], \"xaxis\": \"x\", \"y\": [8604955], \"yaxis\": \"y\", \"type\": \"bar\"}, {\"alignmentgroup\": \"True\", \"hovertemplate\": \"Country=%{x}<br>Date=11/23/20<br>Cases=%{y}<extra></extra>\", \"ids\": [\"US\"], \"legendgroup\": \"US\", \"marker\": {\"color\": \"#ab63fa\"}, \"name\": \"US\", \"offsetgroup\": \"US\", \"orientation\": \"v\", \"showlegend\": true, \"textposition\": \"auto\", \"x\": [\"US\"], \"xaxis\": \"x\", \"y\": [4633600], \"yaxis\": \"y\", \"type\": \"bar\"}], \"name\": \"11/23/20\"}, {\"data\": [{\"alignmentgroup\": \"True\", \"hovertemplate\": \"Country=%{x}<br>Date=11/28/20<br>Cases=%{y}<extra></extra>\", \"ids\": [\"Australia\"], \"legendgroup\": \"Australia\", \"marker\": {\"color\": \"#636efa\"}, \"name\": \"Australia\", \"offsetgroup\": \"Australia\", \"orientation\": \"v\", \"showlegend\": true, \"textposition\": \"auto\", \"x\": [\"Australia\"], \"xaxis\": \"x\", \"y\": [25588], \"yaxis\": \"y\", \"type\": \"bar\"}, {\"alignmentgroup\": \"True\", \"hovertemplate\": \"Country=%{x}<br>Date=11/28/20<br>Cases=%{y}<extra></extra>\", \"ids\": [\"Brazil\"], \"legendgroup\": \"Brazil\", \"marker\": {\"color\": \"#EF553B\"}, \"name\": \"Brazil\", \"offsetgroup\": \"Brazil\", \"orientation\": \"v\", \"showlegend\": true, \"textposition\": \"auto\", \"x\": [\"Brazil\"], \"xaxis\": \"x\", \"y\": [5581436], \"yaxis\": \"y\", \"type\": \"bar\"}, {\"alignmentgroup\": \"True\", \"hovertemplate\": \"Country=%{x}<br>Date=11/28/20<br>Cases=%{y}<extra></extra>\", \"ids\": [\"India\"], \"legendgroup\": \"India\", \"marker\": {\"color\": \"#00cc96\"}, \"name\": \"India\", \"offsetgroup\": \"India\", \"orientation\": \"v\", \"showlegend\": true, \"textposition\": \"auto\", \"x\": [\"India\"], \"xaxis\": \"x\", \"y\": [8802267], \"yaxis\": \"y\", \"type\": \"bar\"}, {\"alignmentgroup\": \"True\", \"hovertemplate\": \"Country=%{x}<br>Date=11/28/20<br>Cases=%{y}<extra></extra>\", \"ids\": [\"US\"], \"legendgroup\": \"US\", \"marker\": {\"color\": \"#ab63fa\"}, \"name\": \"US\", \"offsetgroup\": \"US\", \"orientation\": \"v\", \"showlegend\": true, \"textposition\": \"auto\", \"x\": [\"US\"], \"xaxis\": \"x\", \"y\": [5023063], \"yaxis\": \"y\", \"type\": \"bar\"}], \"name\": \"11/28/20\"}, {\"data\": [{\"alignmentgroup\": \"True\", \"hovertemplate\": \"Country=%{x}<br>Date=12/1/20<br>Cases=%{y}<extra></extra>\", \"ids\": [\"Australia\"], \"legendgroup\": \"Australia\", \"marker\": {\"color\": \"#636efa\"}, \"name\": \"Australia\", \"offsetgroup\": \"Australia\", \"orientation\": \"v\", \"showlegend\": true, \"textposition\": \"auto\", \"x\": [\"Australia\"], \"xaxis\": \"x\", \"y\": [25606], \"yaxis\": \"y\", \"type\": \"bar\"}, {\"alignmentgroup\": \"True\", \"hovertemplate\": \"Country=%{x}<br>Date=12/1/20<br>Cases=%{y}<extra></extra>\", \"ids\": [\"Brazil\"], \"legendgroup\": \"Brazil\", \"marker\": {\"color\": \"#EF553B\"}, \"name\": \"Brazil\", \"offsetgroup\": \"Brazil\", \"orientation\": \"v\", \"showlegend\": true, \"textposition\": \"auto\", \"x\": [\"Brazil\"], \"xaxis\": \"x\", \"y\": [5712305], \"yaxis\": \"y\", \"type\": \"bar\"}, {\"alignmentgroup\": \"True\", \"hovertemplate\": \"Country=%{x}<br>Date=12/1/20<br>Cases=%{y}<extra></extra>\", \"ids\": [\"India\"], \"legendgroup\": \"India\", \"marker\": {\"color\": \"#00cc96\"}, \"name\": \"India\", \"offsetgroup\": \"India\", \"orientation\": \"v\", \"showlegend\": true, \"textposition\": \"auto\", \"x\": [\"India\"], \"xaxis\": \"x\", \"y\": [8932647], \"yaxis\": \"y\", \"type\": \"bar\"}, {\"alignmentgroup\": \"True\", \"hovertemplate\": \"Country=%{x}<br>Date=12/1/20<br>Cases=%{y}<extra></extra>\", \"ids\": [\"US\"], \"legendgroup\": \"US\", \"marker\": {\"color\": \"#ab63fa\"}, \"name\": \"US\", \"offsetgroup\": \"US\", \"orientation\": \"v\", \"showlegend\": true, \"textposition\": \"auto\", \"x\": [\"US\"], \"xaxis\": \"x\", \"y\": [5226581], \"yaxis\": \"y\", \"type\": \"bar\"}], \"name\": \"12/1/20\"}, {\"data\": [{\"alignmentgroup\": \"True\", \"hovertemplate\": \"Country=%{x}<br>Date=12/7/20<br>Cases=%{y}<extra></extra>\", \"ids\": [\"Australia\"], \"legendgroup\": \"Australia\", \"marker\": {\"color\": \"#636efa\"}, \"name\": \"Australia\", \"offsetgroup\": \"Australia\", \"orientation\": \"v\", \"showlegend\": true, \"textposition\": \"auto\", \"x\": [\"Australia\"], \"xaxis\": \"x\", \"y\": [25646], \"yaxis\": \"y\", \"type\": \"bar\"}, {\"alignmentgroup\": \"True\", \"hovertemplate\": \"Country=%{x}<br>Date=12/7/20<br>Cases=%{y}<extra></extra>\", \"ids\": [\"Brazil\"], \"legendgroup\": \"Brazil\", \"marker\": {\"color\": \"#EF553B\"}, \"name\": \"Brazil\", \"offsetgroup\": \"Brazil\", \"orientation\": \"v\", \"showlegend\": true, \"textposition\": \"auto\", \"x\": [\"Brazil\"], \"xaxis\": \"x\", \"y\": [5897526], \"yaxis\": \"y\", \"type\": \"bar\"}, {\"alignmentgroup\": \"True\", \"hovertemplate\": \"Country=%{x}<br>Date=12/7/20<br>Cases=%{y}<extra></extra>\", \"ids\": [\"India\"], \"legendgroup\": \"India\", \"marker\": {\"color\": \"#00cc96\"}, \"name\": \"India\", \"offsetgroup\": \"India\", \"orientation\": \"v\", \"showlegend\": true, \"textposition\": \"auto\", \"x\": [\"India\"], \"xaxis\": \"x\", \"y\": [9178946], \"yaxis\": \"y\", \"type\": \"bar\"}, {\"alignmentgroup\": \"True\", \"hovertemplate\": \"Country=%{x}<br>Date=12/7/20<br>Cases=%{y}<extra></extra>\", \"ids\": [\"US\"], \"legendgroup\": \"US\", \"marker\": {\"color\": \"#ab63fa\"}, \"name\": \"US\", \"offsetgroup\": \"US\", \"orientation\": \"v\", \"showlegend\": true, \"textposition\": \"auto\", \"x\": [\"US\"], \"xaxis\": \"x\", \"y\": [5714557], \"yaxis\": \"y\", \"type\": \"bar\"}], \"name\": \"12/7/20\"}, {\"data\": [{\"alignmentgroup\": \"True\", \"hovertemplate\": \"Country=%{x}<br>Date=12/14/20<br>Cases=%{y}<extra></extra>\", \"ids\": [\"Australia\"], \"legendgroup\": \"Australia\", \"marker\": {\"color\": \"#636efa\"}, \"name\": \"Australia\", \"offsetgroup\": \"Australia\", \"orientation\": \"v\", \"showlegend\": true, \"textposition\": \"auto\", \"x\": [\"Australia\"], \"xaxis\": \"x\", \"y\": [25689], \"yaxis\": \"y\", \"type\": \"bar\"}, {\"alignmentgroup\": \"True\", \"hovertemplate\": \"Country=%{x}<br>Date=12/14/20<br>Cases=%{y}<extra></extra>\", \"ids\": [\"Brazil\"], \"legendgroup\": \"Brazil\", \"marker\": {\"color\": \"#EF553B\"}, \"name\": \"Brazil\", \"offsetgroup\": \"Brazil\", \"orientation\": \"v\", \"showlegend\": true, \"textposition\": \"auto\", \"x\": [\"Brazil\"], \"xaxis\": \"x\", \"y\": [6158049], \"yaxis\": \"y\", \"type\": \"bar\"}, {\"alignmentgroup\": \"True\", \"hovertemplate\": \"Country=%{x}<br>Date=12/14/20<br>Cases=%{y}<extra></extra>\", \"ids\": [\"India\"], \"legendgroup\": \"India\", \"marker\": {\"color\": \"#00cc96\"}, \"name\": \"India\", \"offsetgroup\": \"India\", \"orientation\": \"v\", \"showlegend\": true, \"textposition\": \"auto\", \"x\": [\"India\"], \"xaxis\": \"x\", \"y\": [9422636], \"yaxis\": \"y\", \"type\": \"bar\"}, {\"alignmentgroup\": \"True\", \"hovertemplate\": \"Country=%{x}<br>Date=12/14/20<br>Cases=%{y}<extra></extra>\", \"ids\": [\"US\"], \"legendgroup\": \"US\", \"marker\": {\"color\": \"#ab63fa\"}, \"name\": \"US\", \"offsetgroup\": \"US\", \"orientation\": \"v\", \"showlegend\": true, \"textposition\": \"auto\", \"x\": [\"US\"], \"xaxis\": \"x\", \"y\": [0], \"yaxis\": \"y\", \"type\": \"bar\"}], \"name\": \"12/14/20\"}, {\"data\": [{\"alignmentgroup\": \"True\", \"hovertemplate\": \"Country=%{x}<br>Date=12/19/20<br>Cases=%{y}<extra></extra>\", \"ids\": [\"Australia\"], \"legendgroup\": \"Australia\", \"marker\": {\"color\": \"#636efa\"}, \"name\": \"Australia\", \"offsetgroup\": \"Australia\", \"orientation\": \"v\", \"showlegend\": true, \"textposition\": \"auto\", \"x\": [\"Australia\"], \"xaxis\": \"x\", \"y\": [25704], \"yaxis\": \"y\", \"type\": \"bar\"}, {\"alignmentgroup\": \"True\", \"hovertemplate\": \"Country=%{x}<br>Date=12/19/20<br>Cases=%{y}<extra></extra>\", \"ids\": [\"Brazil\"], \"legendgroup\": \"Brazil\", \"marker\": {\"color\": \"#EF553B\"}, \"name\": \"Brazil\", \"offsetgroup\": \"Brazil\", \"orientation\": \"v\", \"showlegend\": true, \"textposition\": \"auto\", \"x\": [\"Brazil\"], \"xaxis\": \"x\", \"y\": [6388938], \"yaxis\": \"y\", \"type\": \"bar\"}, {\"alignmentgroup\": \"True\", \"hovertemplate\": \"Country=%{x}<br>Date=12/19/20<br>Cases=%{y}<extra></extra>\", \"ids\": [\"India\"], \"legendgroup\": \"India\", \"marker\": {\"color\": \"#00cc96\"}, \"name\": \"India\", \"offsetgroup\": \"India\", \"orientation\": \"v\", \"showlegend\": true, \"textposition\": \"auto\", \"x\": [\"India\"], \"xaxis\": \"x\", \"y\": [9580402], \"yaxis\": \"y\", \"type\": \"bar\"}, {\"alignmentgroup\": \"True\", \"hovertemplate\": \"Country=%{x}<br>Date=12/19/20<br>Cases=%{y}<extra></extra>\", \"ids\": [\"US\"], \"legendgroup\": \"US\", \"marker\": {\"color\": \"#ab63fa\"}, \"name\": \"US\", \"offsetgroup\": \"US\", \"orientation\": \"v\", \"showlegend\": true, \"textposition\": \"auto\", \"x\": [\"US\"], \"xaxis\": \"x\", \"y\": [0], \"yaxis\": \"y\", \"type\": \"bar\"}], \"name\": \"12/19/20\"}, {\"data\": [{\"alignmentgroup\": \"True\", \"hovertemplate\": \"Country=%{x}<br>Date=12/23/20<br>Cases=%{y}<extra></extra>\", \"ids\": [\"Australia\"], \"legendgroup\": \"Australia\", \"marker\": {\"color\": \"#636efa\"}, \"name\": \"Australia\", \"offsetgroup\": \"Australia\", \"orientation\": \"v\", \"showlegend\": true, \"textposition\": \"auto\", \"x\": [\"Australia\"], \"xaxis\": \"x\", \"y\": [25722], \"yaxis\": \"y\", \"type\": \"bar\"}, {\"alignmentgroup\": \"True\", \"hovertemplate\": \"Country=%{x}<br>Date=12/23/20<br>Cases=%{y}<extra></extra>\", \"ids\": [\"Brazil\"], \"legendgroup\": \"Brazil\", \"marker\": {\"color\": \"#EF553B\"}, \"name\": \"Brazil\", \"offsetgroup\": \"Brazil\", \"orientation\": \"v\", \"showlegend\": true, \"textposition\": \"auto\", \"x\": [\"Brazil\"], \"xaxis\": \"x\", \"y\": [6512717], \"yaxis\": \"y\", \"type\": \"bar\"}, {\"alignmentgroup\": \"True\", \"hovertemplate\": \"Country=%{x}<br>Date=12/23/20<br>Cases=%{y}<extra></extra>\", \"ids\": [\"India\"], \"legendgroup\": \"India\", \"marker\": {\"color\": \"#00cc96\"}, \"name\": \"India\", \"offsetgroup\": \"India\", \"orientation\": \"v\", \"showlegend\": true, \"textposition\": \"auto\", \"x\": [\"India\"], \"xaxis\": \"x\", \"y\": [9693173], \"yaxis\": \"y\", \"type\": \"bar\"}, {\"alignmentgroup\": \"True\", \"hovertemplate\": \"Country=%{x}<br>Date=12/23/20<br>Cases=%{y}<extra></extra>\", \"ids\": [\"US\"], \"legendgroup\": \"US\", \"marker\": {\"color\": \"#ab63fa\"}, \"name\": \"US\", \"offsetgroup\": \"US\", \"orientation\": \"v\", \"showlegend\": true, \"textposition\": \"auto\", \"x\": [\"US\"], \"xaxis\": \"x\", \"y\": [0], \"yaxis\": \"y\", \"type\": \"bar\"}], \"name\": \"12/23/20\"}, {\"data\": [{\"alignmentgroup\": \"True\", \"hovertemplate\": \"Country=%{x}<br>Date=12/28/20<br>Cases=%{y}<extra></extra>\", \"ids\": [\"Australia\"], \"legendgroup\": \"Australia\", \"marker\": {\"color\": \"#636efa\"}, \"name\": \"Australia\", \"offsetgroup\": \"Australia\", \"orientation\": \"v\", \"showlegend\": true, \"textposition\": \"auto\", \"x\": [\"Australia\"], \"xaxis\": \"x\", \"y\": [25748], \"yaxis\": \"y\", \"type\": \"bar\"}, {\"alignmentgroup\": \"True\", \"hovertemplate\": \"Country=%{x}<br>Date=12/28/20<br>Cases=%{y}<extra></extra>\", \"ids\": [\"Brazil\"], \"legendgroup\": \"Brazil\", \"marker\": {\"color\": \"#EF553B\"}, \"name\": \"Brazil\", \"offsetgroup\": \"Brazil\", \"orientation\": \"v\", \"showlegend\": true, \"textposition\": \"auto\", \"x\": [\"Brazil\"], \"xaxis\": \"x\", \"y\": [6712757], \"yaxis\": \"y\", \"type\": \"bar\"}, {\"alignmentgroup\": \"True\", \"hovertemplate\": \"Country=%{x}<br>Date=12/28/20<br>Cases=%{y}<extra></extra>\", \"ids\": [\"India\"], \"legendgroup\": \"India\", \"marker\": {\"color\": \"#00cc96\"}, \"name\": \"India\", \"offsetgroup\": \"India\", \"orientation\": \"v\", \"showlegend\": true, \"textposition\": \"auto\", \"x\": [\"India\"], \"xaxis\": \"x\", \"y\": [9807569], \"yaxis\": \"y\", \"type\": \"bar\"}, {\"alignmentgroup\": \"True\", \"hovertemplate\": \"Country=%{x}<br>Date=12/28/20<br>Cases=%{y}<extra></extra>\", \"ids\": [\"US\"], \"legendgroup\": \"US\", \"marker\": {\"color\": \"#ab63fa\"}, \"name\": \"US\", \"offsetgroup\": \"US\", \"orientation\": \"v\", \"showlegend\": true, \"textposition\": \"auto\", \"x\": [\"US\"], \"xaxis\": \"x\", \"y\": [0], \"yaxis\": \"y\", \"type\": \"bar\"}], \"name\": \"12/28/20\"}]);\n",
              "                        }).then(function(){\n",
              "                            \n",
              "var gd = document.getElementById('66710088-1c1b-442a-bcba-10ca7eca933f');\n",
              "var x = new MutationObserver(function (mutations, observer) {{\n",
              "        var display = window.getComputedStyle(gd).display;\n",
              "        if (!display || display === 'none') {{\n",
              "            console.log([gd, 'removed!']);\n",
              "            Plotly.purge(gd);\n",
              "            observer.disconnect();\n",
              "        }}\n",
              "}});\n",
              "\n",
              "// Listen for the removal of the full notebook cells\n",
              "var notebookContainer = gd.closest('#notebook-container');\n",
              "if (notebookContainer) {{\n",
              "    x.observe(notebookContainer, {childList: true});\n",
              "}}\n",
              "\n",
              "// Listen for the clearing of the current output cell\n",
              "var outputEl = gd.closest('.output');\n",
              "if (outputEl) {{\n",
              "    x.observe(outputEl, {childList: true});\n",
              "}}\n",
              "\n",
              "                        })                };                            </script>        </div>\n",
              "</body>\n",
              "</html>"
            ]
          },
          "metadata": {
            "tags": []
          }
        }
      ]
    },
    {
      "cell_type": "markdown",
      "metadata": {
        "id": "w3_EA65cPxT6"
      },
      "source": [
        "#### Deaths - India, US, Brazil"
      ]
    },
    {
      "cell_type": "code",
      "metadata": {
        "colab": {
          "background_save": true
        },
        "id": "5kgiZY6pPxT6",
        "outputId": "3026a084-f01f-42f7-c3b9-c323ce25f5f9"
      },
      "source": [
        "create_comparison_animation(deaths_global,\"India\",\"US\",\"Brazil\")"
      ],
      "execution_count": null,
      "outputs": [
        {
          "output_type": "display_data",
          "data": {
            "text/html": [
              "<html>\n",
              "<head><meta charset=\"utf-8\" /></head>\n",
              "<body>\n",
              "    <div>            <script src=\"https://cdnjs.cloudflare.com/ajax/libs/mathjax/2.7.5/MathJax.js?config=TeX-AMS-MML_SVG\"></script><script type=\"text/javascript\">if (window.MathJax) {MathJax.Hub.Config({SVG: {font: \"STIX-Web\"}});}</script>                <script type=\"text/javascript\">window.PlotlyConfig = {MathJaxConfig: 'local'};</script>\n",
              "        <script src=\"https://cdn.plot.ly/plotly-latest.min.js\"></script>                <div id=\"b2463648-ec98-4d34-be63-41e7e15a4d04\" class=\"plotly-graph-div\" style=\"height:525px; width:100%;\"></div>            <script type=\"text/javascript\">                                    window.PLOTLYENV=window.PLOTLYENV || {};                                    if (document.getElementById(\"b2463648-ec98-4d34-be63-41e7e15a4d04\")) {                    Plotly.newPlot(                        \"b2463648-ec98-4d34-be63-41e7e15a4d04\",                        [{\"alignmentgroup\": \"True\", \"hovertemplate\": \"Country=%{x}<br>Date=1/23/20<br>Cases=%{y}<extra></extra>\", \"ids\": [\"Brazil\"], \"legendgroup\": \"Brazil\", \"marker\": {\"color\": \"#636efa\"}, \"name\": \"Brazil\", \"offsetgroup\": \"Brazil\", \"orientation\": \"v\", \"showlegend\": true, \"textposition\": \"auto\", \"type\": \"bar\", \"x\": [\"Brazil\"], \"xaxis\": \"x\", \"y\": [0], \"yaxis\": \"y\"}, {\"alignmentgroup\": \"True\", \"hovertemplate\": \"Country=%{x}<br>Date=1/23/20<br>Cases=%{y}<extra></extra>\", \"ids\": [\"India\"], \"legendgroup\": \"India\", \"marker\": {\"color\": \"#EF553B\"}, \"name\": \"India\", \"offsetgroup\": \"India\", \"orientation\": \"v\", \"showlegend\": true, \"textposition\": \"auto\", \"type\": \"bar\", \"x\": [\"India\"], \"xaxis\": \"x\", \"y\": [0], \"yaxis\": \"y\"}, {\"alignmentgroup\": \"True\", \"hovertemplate\": \"Country=%{x}<br>Date=1/23/20<br>Cases=%{y}<extra></extra>\", \"ids\": [\"US\"], \"legendgroup\": \"US\", \"marker\": {\"color\": \"#00cc96\"}, \"name\": \"US\", \"offsetgroup\": \"US\", \"orientation\": \"v\", \"showlegend\": true, \"textposition\": \"auto\", \"type\": \"bar\", \"x\": [\"US\"], \"xaxis\": \"x\", \"y\": [0], \"yaxis\": \"y\"}],                        {\"barmode\": \"relative\", \"hovermode\": \"x\", \"legend\": {\"title\": {\"text\": \"Country\"}, \"tracegroupgap\": 0}, \"margin\": {\"t\": 60}, \"sliders\": [{\"active\": 0, \"currentvalue\": {\"prefix\": \"Date=\"}, \"len\": 0.9, \"pad\": {\"b\": 10, \"t\": 60}, \"steps\": [{\"args\": [[\"1/23/20\"], {\"frame\": {\"duration\": 0, \"redraw\": true}, \"fromcurrent\": true, \"mode\": \"immediate\", \"transition\": {\"duration\": 0, \"easing\": \"linear\"}}], \"label\": \"1/23/20\", \"method\": \"animate\"}, {\"args\": [[\"1/28/20\"], {\"frame\": {\"duration\": 0, \"redraw\": true}, \"fromcurrent\": true, \"mode\": \"immediate\", \"transition\": {\"duration\": 0, \"easing\": \"linear\"}}], \"label\": \"1/28/20\", \"method\": \"animate\"}, {\"args\": [[\"2/3/20\"], {\"frame\": {\"duration\": 0, \"redraw\": true}, \"fromcurrent\": true, \"mode\": \"immediate\", \"transition\": {\"duration\": 0, \"easing\": \"linear\"}}], \"label\": \"2/3/20\", \"method\": \"animate\"}, {\"args\": [[\"2/8/20\"], {\"frame\": {\"duration\": 0, \"redraw\": true}, \"fromcurrent\": true, \"mode\": \"immediate\", \"transition\": {\"duration\": 0, \"easing\": \"linear\"}}], \"label\": \"2/8/20\", \"method\": \"animate\"}, {\"args\": [[\"2/11/20\"], {\"frame\": {\"duration\": 0, \"redraw\": true}, \"fromcurrent\": true, \"mode\": \"immediate\", \"transition\": {\"duration\": 0, \"easing\": \"linear\"}}], \"label\": \"2/11/20\", \"method\": \"animate\"}, {\"args\": [[\"2/16/20\"], {\"frame\": {\"duration\": 0, \"redraw\": true}, \"fromcurrent\": true, \"mode\": \"immediate\", \"transition\": {\"duration\": 0, \"easing\": \"linear\"}}], \"label\": \"2/16/20\", \"method\": \"animate\"}, {\"args\": [[\"2/20/20\"], {\"frame\": {\"duration\": 0, \"redraw\": true}, \"fromcurrent\": true, \"mode\": \"immediate\", \"transition\": {\"duration\": 0, \"easing\": \"linear\"}}], \"label\": \"2/20/20\", \"method\": \"animate\"}, {\"args\": [[\"2/25/20\"], {\"frame\": {\"duration\": 0, \"redraw\": true}, \"fromcurrent\": true, \"mode\": \"immediate\", \"transition\": {\"duration\": 0, \"easing\": \"linear\"}}], \"label\": \"2/25/20\", \"method\": \"animate\"}, {\"args\": [[\"3/7/20\"], {\"frame\": {\"duration\": 0, \"redraw\": true}, \"fromcurrent\": true, \"mode\": \"immediate\", \"transition\": {\"duration\": 0, \"easing\": \"linear\"}}], \"label\": \"3/7/20\", \"method\": \"animate\"}, {\"args\": [[\"3/12/20\"], {\"frame\": {\"duration\": 0, \"redraw\": true}, \"fromcurrent\": true, \"mode\": \"immediate\", \"transition\": {\"duration\": 0, \"easing\": \"linear\"}}], \"label\": \"3/12/20\", \"method\": \"animate\"}, {\"args\": [[\"3/17/20\"], {\"frame\": {\"duration\": 0, \"redraw\": true}, \"fromcurrent\": true, \"mode\": \"immediate\", \"transition\": {\"duration\": 0, \"easing\": \"linear\"}}], \"label\": \"3/17/20\", \"method\": \"animate\"}, {\"args\": [[\"3/21/20\"], {\"frame\": {\"duration\": 0, \"redraw\": true}, \"fromcurrent\": true, \"mode\": \"immediate\", \"transition\": {\"duration\": 0, \"easing\": \"linear\"}}], \"label\": \"3/21/20\", \"method\": \"animate\"}, {\"args\": [[\"3/26/20\"], {\"frame\": {\"duration\": 0, \"redraw\": true}, \"fromcurrent\": true, \"mode\": \"immediate\", \"transition\": {\"duration\": 0, \"easing\": \"linear\"}}], \"label\": \"3/26/20\", \"method\": \"animate\"}, {\"args\": [[\"3/30/20\"], {\"frame\": {\"duration\": 0, \"redraw\": true}, \"fromcurrent\": true, \"mode\": \"immediate\", \"transition\": {\"duration\": 0, \"easing\": \"linear\"}}], \"label\": \"3/30/20\", \"method\": \"animate\"}, {\"args\": [[\"4/3/20\"], {\"frame\": {\"duration\": 0, \"redraw\": true}, \"fromcurrent\": true, \"mode\": \"immediate\", \"transition\": {\"duration\": 0, \"easing\": \"linear\"}}], \"label\": \"4/3/20\", \"method\": \"animate\"}, {\"args\": [[\"4/7/20\"], {\"frame\": {\"duration\": 0, \"redraw\": true}, \"fromcurrent\": true, \"mode\": \"immediate\", \"transition\": {\"duration\": 0, \"easing\": \"linear\"}}], \"label\": \"4/7/20\", \"method\": \"animate\"}, {\"args\": [[\"4/11/20\"], {\"frame\": {\"duration\": 0, \"redraw\": true}, \"fromcurrent\": true, \"mode\": \"immediate\", \"transition\": {\"duration\": 0, \"easing\": \"linear\"}}], \"label\": \"4/11/20\", \"method\": \"animate\"}, {\"args\": [[\"4/16/20\"], {\"frame\": {\"duration\": 0, \"redraw\": true}, \"fromcurrent\": true, \"mode\": \"immediate\", \"transition\": {\"duration\": 0, \"easing\": \"linear\"}}], \"label\": \"4/16/20\", \"method\": \"animate\"}, {\"args\": [[\"4/20/20\"], {\"frame\": {\"duration\": 0, \"redraw\": true}, \"fromcurrent\": true, \"mode\": \"immediate\", \"transition\": {\"duration\": 0, \"easing\": \"linear\"}}], \"label\": \"4/20/20\", \"method\": \"animate\"}, {\"args\": [[\"4/25/20\"], {\"frame\": {\"duration\": 0, \"redraw\": true}, \"fromcurrent\": true, \"mode\": \"immediate\", \"transition\": {\"duration\": 0, \"easing\": \"linear\"}}], \"label\": \"4/25/20\", \"method\": \"animate\"}, {\"args\": [[\"5/3/20\"], {\"frame\": {\"duration\": 0, \"redraw\": true}, \"fromcurrent\": true, \"mode\": \"immediate\", \"transition\": {\"duration\": 0, \"easing\": \"linear\"}}], \"label\": \"5/3/20\", \"method\": \"animate\"}, {\"args\": [[\"5/6/20\"], {\"frame\": {\"duration\": 0, \"redraw\": true}, \"fromcurrent\": true, \"mode\": \"immediate\", \"transition\": {\"duration\": 0, \"easing\": \"linear\"}}], \"label\": \"5/6/20\", \"method\": \"animate\"}, {\"args\": [[\"5/11/20\"], {\"frame\": {\"duration\": 0, \"redraw\": true}, \"fromcurrent\": true, \"mode\": \"immediate\", \"transition\": {\"duration\": 0, \"easing\": \"linear\"}}], \"label\": \"5/11/20\", \"method\": \"animate\"}, {\"args\": [[\"5/16/20\"], {\"frame\": {\"duration\": 0, \"redraw\": true}, \"fromcurrent\": true, \"mode\": \"immediate\", \"transition\": {\"duration\": 0, \"easing\": \"linear\"}}], \"label\": \"5/16/20\", \"method\": \"animate\"}, {\"args\": [[\"5/20/20\"], {\"frame\": {\"duration\": 0, \"redraw\": true}, \"fromcurrent\": true, \"mode\": \"immediate\", \"transition\": {\"duration\": 0, \"easing\": \"linear\"}}], \"label\": \"5/20/20\", \"method\": \"animate\"}, {\"args\": [[\"5/25/20\"], {\"frame\": {\"duration\": 0, \"redraw\": true}, \"fromcurrent\": true, \"mode\": \"immediate\", \"transition\": {\"duration\": 0, \"easing\": \"linear\"}}], \"label\": \"5/25/20\", \"method\": \"animate\"}, {\"args\": [[\"6/2/20\"], {\"frame\": {\"duration\": 0, \"redraw\": true}, \"fromcurrent\": true, \"mode\": \"immediate\", \"transition\": {\"duration\": 0, \"easing\": \"linear\"}}], \"label\": \"6/2/20\", \"method\": \"animate\"}, {\"args\": [[\"6/6/20\"], {\"frame\": {\"duration\": 0, \"redraw\": true}, \"fromcurrent\": true, \"mode\": \"immediate\", \"transition\": {\"duration\": 0, \"easing\": \"linear\"}}], \"label\": \"6/6/20\", \"method\": \"animate\"}, {\"args\": [[\"6/10/20\"], {\"frame\": {\"duration\": 0, \"redraw\": true}, \"fromcurrent\": true, \"mode\": \"immediate\", \"transition\": {\"duration\": 0, \"easing\": \"linear\"}}], \"label\": \"6/10/20\", \"method\": \"animate\"}, {\"args\": [[\"6/15/20\"], {\"frame\": {\"duration\": 0, \"redraw\": true}, \"fromcurrent\": true, \"mode\": \"immediate\", \"transition\": {\"duration\": 0, \"easing\": \"linear\"}}], \"label\": \"6/15/20\", \"method\": \"animate\"}, {\"args\": [[\"6/24/20\"], {\"frame\": {\"duration\": 0, \"redraw\": true}, \"fromcurrent\": true, \"mode\": \"immediate\", \"transition\": {\"duration\": 0, \"easing\": \"linear\"}}], \"label\": \"6/24/20\", \"method\": \"animate\"}, {\"args\": [[\"6/29/20\"], {\"frame\": {\"duration\": 0, \"redraw\": true}, \"fromcurrent\": true, \"mode\": \"immediate\", \"transition\": {\"duration\": 0, \"easing\": \"linear\"}}], \"label\": \"6/29/20\", \"method\": \"animate\"}, {\"args\": [[\"7/2/20\"], {\"frame\": {\"duration\": 0, \"redraw\": true}, \"fromcurrent\": true, \"mode\": \"immediate\", \"transition\": {\"duration\": 0, \"easing\": \"linear\"}}], \"label\": \"7/2/20\", \"method\": \"animate\"}, {\"args\": [[\"7/5/20\"], {\"frame\": {\"duration\": 0, \"redraw\": true}, \"fromcurrent\": true, \"mode\": \"immediate\", \"transition\": {\"duration\": 0, \"easing\": \"linear\"}}], \"label\": \"7/5/20\", \"method\": \"animate\"}, {\"args\": [[\"7/10/20\"], {\"frame\": {\"duration\": 0, \"redraw\": true}, \"fromcurrent\": true, \"mode\": \"immediate\", \"transition\": {\"duration\": 0, \"easing\": \"linear\"}}], \"label\": \"7/10/20\", \"method\": \"animate\"}, {\"args\": [[\"7/15/20\"], {\"frame\": {\"duration\": 0, \"redraw\": true}, \"fromcurrent\": true, \"mode\": \"immediate\", \"transition\": {\"duration\": 0, \"easing\": \"linear\"}}], \"label\": \"7/15/20\", \"method\": \"animate\"}, {\"args\": [[\"7/24/20\"], {\"frame\": {\"duration\": 0, \"redraw\": true}, \"fromcurrent\": true, \"mode\": \"immediate\", \"transition\": {\"duration\": 0, \"easing\": \"linear\"}}], \"label\": \"7/24/20\", \"method\": \"animate\"}, {\"args\": [[\"7/29/20\"], {\"frame\": {\"duration\": 0, \"redraw\": true}, \"fromcurrent\": true, \"mode\": \"immediate\", \"transition\": {\"duration\": 0, \"easing\": \"linear\"}}], \"label\": \"7/29/20\", \"method\": \"animate\"}, {\"args\": [[\"8/1/20\"], {\"frame\": {\"duration\": 0, \"redraw\": true}, \"fromcurrent\": true, \"mode\": \"immediate\", \"transition\": {\"duration\": 0, \"easing\": \"linear\"}}], \"label\": \"8/1/20\", \"method\": \"animate\"}, {\"args\": [[\"8/4/20\"], {\"frame\": {\"duration\": 0, \"redraw\": true}, \"fromcurrent\": true, \"mode\": \"immediate\", \"transition\": {\"duration\": 0, \"easing\": \"linear\"}}], \"label\": \"8/4/20\", \"method\": \"animate\"}, {\"args\": [[\"8/9/20\"], {\"frame\": {\"duration\": 0, \"redraw\": true}, \"fromcurrent\": true, \"mode\": \"immediate\", \"transition\": {\"duration\": 0, \"easing\": \"linear\"}}], \"label\": \"8/9/20\", \"method\": \"animate\"}, {\"args\": [[\"8/14/20\"], {\"frame\": {\"duration\": 0, \"redraw\": true}, \"fromcurrent\": true, \"mode\": \"immediate\", \"transition\": {\"duration\": 0, \"easing\": \"linear\"}}], \"label\": \"8/14/20\", \"method\": \"animate\"}, {\"args\": [[\"8/19/20\"], {\"frame\": {\"duration\": 0, \"redraw\": true}, \"fromcurrent\": true, \"mode\": \"immediate\", \"transition\": {\"duration\": 0, \"easing\": \"linear\"}}], \"label\": \"8/19/20\", \"method\": \"animate\"}, {\"args\": [[\"8/23/20\"], {\"frame\": {\"duration\": 0, \"redraw\": true}, \"fromcurrent\": true, \"mode\": \"immediate\", \"transition\": {\"duration\": 0, \"easing\": \"linear\"}}], \"label\": \"8/23/20\", \"method\": \"animate\"}, {\"args\": [[\"8/28/20\"], {\"frame\": {\"duration\": 0, \"redraw\": true}, \"fromcurrent\": true, \"mode\": \"immediate\", \"transition\": {\"duration\": 0, \"easing\": \"linear\"}}], \"label\": \"8/28/20\", \"method\": \"animate\"}, {\"args\": [[\"9/4/20\"], {\"frame\": {\"duration\": 0, \"redraw\": true}, \"fromcurrent\": true, \"mode\": \"immediate\", \"transition\": {\"duration\": 0, \"easing\": \"linear\"}}], \"label\": \"9/4/20\", \"method\": \"animate\"}, {\"args\": [[\"9/9/20\"], {\"frame\": {\"duration\": 0, \"redraw\": true}, \"fromcurrent\": true, \"mode\": \"immediate\", \"transition\": {\"duration\": 0, \"easing\": \"linear\"}}], \"label\": \"9/9/20\", \"method\": \"animate\"}, {\"args\": [[\"9/13/20\"], {\"frame\": {\"duration\": 0, \"redraw\": true}, \"fromcurrent\": true, \"mode\": \"immediate\", \"transition\": {\"duration\": 0, \"easing\": \"linear\"}}], \"label\": \"9/13/20\", \"method\": \"animate\"}, {\"args\": [[\"9/18/20\"], {\"frame\": {\"duration\": 0, \"redraw\": true}, \"fromcurrent\": true, \"mode\": \"immediate\", \"transition\": {\"duration\": 0, \"easing\": \"linear\"}}], \"label\": \"9/18/20\", \"method\": \"animate\"}, {\"args\": [[\"9/22/20\"], {\"frame\": {\"duration\": 0, \"redraw\": true}, \"fromcurrent\": true, \"mode\": \"immediate\", \"transition\": {\"duration\": 0, \"easing\": \"linear\"}}], \"label\": \"9/22/20\", \"method\": \"animate\"}, {\"args\": [[\"9/27/20\"], {\"frame\": {\"duration\": 0, \"redraw\": true}, \"fromcurrent\": true, \"mode\": \"immediate\", \"transition\": {\"duration\": 0, \"easing\": \"linear\"}}], \"label\": \"9/27/20\", \"method\": \"animate\"}, {\"args\": [[\"10/2/20\"], {\"frame\": {\"duration\": 0, \"redraw\": true}, \"fromcurrent\": true, \"mode\": \"immediate\", \"transition\": {\"duration\": 0, \"easing\": \"linear\"}}], \"label\": \"10/2/20\", \"method\": \"animate\"}, {\"args\": [[\"10/5/20\"], {\"frame\": {\"duration\": 0, \"redraw\": true}, \"fromcurrent\": true, \"mode\": \"immediate\", \"transition\": {\"duration\": 0, \"easing\": \"linear\"}}], \"label\": \"10/5/20\", \"method\": \"animate\"}, {\"args\": [[\"10/10/20\"], {\"frame\": {\"duration\": 0, \"redraw\": true}, \"fromcurrent\": true, \"mode\": \"immediate\", \"transition\": {\"duration\": 0, \"easing\": \"linear\"}}], \"label\": \"10/10/20\", \"method\": \"animate\"}, {\"args\": [[\"10/15/20\"], {\"frame\": {\"duration\": 0, \"redraw\": true}, \"fromcurrent\": true, \"mode\": \"immediate\", \"transition\": {\"duration\": 0, \"easing\": \"linear\"}}], \"label\": \"10/15/20\", \"method\": \"animate\"}, {\"args\": [[\"10/24/20\"], {\"frame\": {\"duration\": 0, \"redraw\": true}, \"fromcurrent\": true, \"mode\": \"immediate\", \"transition\": {\"duration\": 0, \"easing\": \"linear\"}}], \"label\": \"10/24/20\", \"method\": \"animate\"}, {\"args\": [[\"10/29/20\"], {\"frame\": {\"duration\": 0, \"redraw\": true}, \"fromcurrent\": true, \"mode\": \"immediate\", \"transition\": {\"duration\": 0, \"easing\": \"linear\"}}], \"label\": \"10/29/20\", \"method\": \"animate\"}, {\"args\": [[\"11/1/20\"], {\"frame\": {\"duration\": 0, \"redraw\": true}, \"fromcurrent\": true, \"mode\": \"immediate\", \"transition\": {\"duration\": 0, \"easing\": \"linear\"}}], \"label\": \"11/1/20\", \"method\": \"animate\"}, {\"args\": [[\"11/5/20\"], {\"frame\": {\"duration\": 0, \"redraw\": true}, \"fromcurrent\": true, \"mode\": \"immediate\", \"transition\": {\"duration\": 0, \"easing\": \"linear\"}}], \"label\": \"11/5/20\", \"method\": \"animate\"}, {\"args\": [[\"11/14/20\"], {\"frame\": {\"duration\": 0, \"redraw\": true}, \"fromcurrent\": true, \"mode\": \"immediate\", \"transition\": {\"duration\": 0, \"easing\": \"linear\"}}], \"label\": \"11/14/20\", \"method\": \"animate\"}, {\"args\": [[\"11/19/20\"], {\"frame\": {\"duration\": 0, \"redraw\": true}, \"fromcurrent\": true, \"mode\": \"immediate\", \"transition\": {\"duration\": 0, \"easing\": \"linear\"}}], \"label\": \"11/19/20\", \"method\": \"animate\"}, {\"args\": [[\"11/23/20\"], {\"frame\": {\"duration\": 0, \"redraw\": true}, \"fromcurrent\": true, \"mode\": \"immediate\", \"transition\": {\"duration\": 0, \"easing\": \"linear\"}}], \"label\": \"11/23/20\", \"method\": \"animate\"}, {\"args\": [[\"11/28/20\"], {\"frame\": {\"duration\": 0, \"redraw\": true}, \"fromcurrent\": true, \"mode\": \"immediate\", \"transition\": {\"duration\": 0, \"easing\": \"linear\"}}], \"label\": \"11/28/20\", \"method\": \"animate\"}, {\"args\": [[\"12/1/20\"], {\"frame\": {\"duration\": 0, \"redraw\": true}, \"fromcurrent\": true, \"mode\": \"immediate\", \"transition\": {\"duration\": 0, \"easing\": \"linear\"}}], \"label\": \"12/1/20\", \"method\": \"animate\"}, {\"args\": [[\"12/7/20\"], {\"frame\": {\"duration\": 0, \"redraw\": true}, \"fromcurrent\": true, \"mode\": \"immediate\", \"transition\": {\"duration\": 0, \"easing\": \"linear\"}}], \"label\": \"12/7/20\", \"method\": \"animate\"}, {\"args\": [[\"12/14/20\"], {\"frame\": {\"duration\": 0, \"redraw\": true}, \"fromcurrent\": true, \"mode\": \"immediate\", \"transition\": {\"duration\": 0, \"easing\": \"linear\"}}], \"label\": \"12/14/20\", \"method\": \"animate\"}, {\"args\": [[\"12/19/20\"], {\"frame\": {\"duration\": 0, \"redraw\": true}, \"fromcurrent\": true, \"mode\": \"immediate\", \"transition\": {\"duration\": 0, \"easing\": \"linear\"}}], \"label\": \"12/19/20\", \"method\": \"animate\"}, {\"args\": [[\"12/23/20\"], {\"frame\": {\"duration\": 0, \"redraw\": true}, \"fromcurrent\": true, \"mode\": \"immediate\", \"transition\": {\"duration\": 0, \"easing\": \"linear\"}}], \"label\": \"12/23/20\", \"method\": \"animate\"}, {\"args\": [[\"12/28/20\"], {\"frame\": {\"duration\": 0, \"redraw\": true}, \"fromcurrent\": true, \"mode\": \"immediate\", \"transition\": {\"duration\": 0, \"easing\": \"linear\"}}], \"label\": \"12/28/20\", \"method\": \"animate\"}], \"x\": 0.1, \"xanchor\": \"left\", \"y\": 0, \"yanchor\": \"top\"}], \"template\": {\"data\": {\"bar\": [{\"error_x\": {\"color\": \"#f2f5fa\"}, \"error_y\": {\"color\": \"#f2f5fa\"}, \"marker\": {\"line\": {\"color\": \"rgb(17,17,17)\", \"width\": 0.5}}, \"type\": \"bar\"}], \"barpolar\": [{\"marker\": {\"line\": {\"color\": \"rgb(17,17,17)\", \"width\": 0.5}}, \"type\": \"barpolar\"}], \"carpet\": [{\"aaxis\": {\"endlinecolor\": \"#A2B1C6\", \"gridcolor\": \"#506784\", \"linecolor\": \"#506784\", \"minorgridcolor\": \"#506784\", \"startlinecolor\": \"#A2B1C6\"}, \"baxis\": {\"endlinecolor\": \"#A2B1C6\", \"gridcolor\": \"#506784\", \"linecolor\": \"#506784\", \"minorgridcolor\": \"#506784\", \"startlinecolor\": \"#A2B1C6\"}, \"type\": \"carpet\"}], \"choropleth\": [{\"colorbar\": {\"outlinewidth\": 0, \"ticks\": \"\"}, \"type\": \"choropleth\"}], \"contour\": [{\"colorbar\": {\"outlinewidth\": 0, \"ticks\": \"\"}, \"colorscale\": [[0.0, \"#0d0887\"], [0.1111111111111111, \"#46039f\"], [0.2222222222222222, \"#7201a8\"], [0.3333333333333333, \"#9c179e\"], [0.4444444444444444, \"#bd3786\"], [0.5555555555555556, \"#d8576b\"], [0.6666666666666666, \"#ed7953\"], [0.7777777777777778, \"#fb9f3a\"], [0.8888888888888888, \"#fdca26\"], [1.0, \"#f0f921\"]], \"type\": \"contour\"}], \"contourcarpet\": [{\"colorbar\": {\"outlinewidth\": 0, \"ticks\": \"\"}, \"type\": \"contourcarpet\"}], \"heatmap\": [{\"colorbar\": {\"outlinewidth\": 0, \"ticks\": \"\"}, \"colorscale\": [[0.0, \"#0d0887\"], [0.1111111111111111, \"#46039f\"], [0.2222222222222222, \"#7201a8\"], [0.3333333333333333, \"#9c179e\"], [0.4444444444444444, \"#bd3786\"], [0.5555555555555556, \"#d8576b\"], [0.6666666666666666, \"#ed7953\"], [0.7777777777777778, \"#fb9f3a\"], [0.8888888888888888, \"#fdca26\"], [1.0, \"#f0f921\"]], \"type\": \"heatmap\"}], \"heatmapgl\": [{\"colorbar\": {\"outlinewidth\": 0, \"ticks\": \"\"}, \"colorscale\": [[0.0, \"#0d0887\"], [0.1111111111111111, \"#46039f\"], [0.2222222222222222, \"#7201a8\"], [0.3333333333333333, \"#9c179e\"], [0.4444444444444444, \"#bd3786\"], [0.5555555555555556, \"#d8576b\"], [0.6666666666666666, \"#ed7953\"], [0.7777777777777778, \"#fb9f3a\"], [0.8888888888888888, \"#fdca26\"], [1.0, \"#f0f921\"]], \"type\": \"heatmapgl\"}], \"histogram\": [{\"marker\": {\"colorbar\": {\"outlinewidth\": 0, \"ticks\": \"\"}}, \"type\": \"histogram\"}], \"histogram2d\": [{\"colorbar\": {\"outlinewidth\": 0, \"ticks\": \"\"}, \"colorscale\": [[0.0, \"#0d0887\"], [0.1111111111111111, \"#46039f\"], [0.2222222222222222, \"#7201a8\"], [0.3333333333333333, \"#9c179e\"], [0.4444444444444444, \"#bd3786\"], [0.5555555555555556, \"#d8576b\"], [0.6666666666666666, \"#ed7953\"], [0.7777777777777778, \"#fb9f3a\"], [0.8888888888888888, \"#fdca26\"], [1.0, \"#f0f921\"]], \"type\": \"histogram2d\"}], \"histogram2dcontour\": [{\"colorbar\": {\"outlinewidth\": 0, \"ticks\": \"\"}, \"colorscale\": [[0.0, \"#0d0887\"], [0.1111111111111111, \"#46039f\"], [0.2222222222222222, \"#7201a8\"], [0.3333333333333333, \"#9c179e\"], [0.4444444444444444, \"#bd3786\"], [0.5555555555555556, \"#d8576b\"], [0.6666666666666666, \"#ed7953\"], [0.7777777777777778, \"#fb9f3a\"], [0.8888888888888888, \"#fdca26\"], [1.0, \"#f0f921\"]], \"type\": \"histogram2dcontour\"}], \"mesh3d\": [{\"colorbar\": {\"outlinewidth\": 0, \"ticks\": \"\"}, \"type\": \"mesh3d\"}], \"parcoords\": [{\"line\": {\"colorbar\": {\"outlinewidth\": 0, \"ticks\": \"\"}}, \"type\": \"parcoords\"}], \"pie\": [{\"automargin\": true, \"type\": \"pie\"}], \"scatter\": [{\"marker\": {\"line\": {\"color\": \"#283442\"}}, \"type\": \"scatter\"}], \"scatter3d\": [{\"line\": {\"colorbar\": {\"outlinewidth\": 0, \"ticks\": \"\"}}, \"marker\": {\"colorbar\": {\"outlinewidth\": 0, \"ticks\": \"\"}}, \"type\": \"scatter3d\"}], \"scattercarpet\": [{\"marker\": {\"colorbar\": {\"outlinewidth\": 0, \"ticks\": \"\"}}, \"type\": \"scattercarpet\"}], \"scattergeo\": [{\"marker\": {\"colorbar\": {\"outlinewidth\": 0, \"ticks\": \"\"}}, \"type\": \"scattergeo\"}], \"scattergl\": [{\"marker\": {\"line\": {\"color\": \"#283442\"}}, \"type\": \"scattergl\"}], \"scattermapbox\": [{\"marker\": {\"colorbar\": {\"outlinewidth\": 0, \"ticks\": \"\"}}, \"type\": \"scattermapbox\"}], \"scatterpolar\": [{\"marker\": {\"colorbar\": {\"outlinewidth\": 0, \"ticks\": \"\"}}, \"type\": \"scatterpolar\"}], \"scatterpolargl\": [{\"marker\": {\"colorbar\": {\"outlinewidth\": 0, \"ticks\": \"\"}}, \"type\": \"scatterpolargl\"}], \"scatterternary\": [{\"marker\": {\"colorbar\": {\"outlinewidth\": 0, \"ticks\": \"\"}}, \"type\": \"scatterternary\"}], \"surface\": [{\"colorbar\": {\"outlinewidth\": 0, \"ticks\": \"\"}, \"colorscale\": [[0.0, \"#0d0887\"], [0.1111111111111111, \"#46039f\"], [0.2222222222222222, \"#7201a8\"], [0.3333333333333333, \"#9c179e\"], [0.4444444444444444, \"#bd3786\"], [0.5555555555555556, \"#d8576b\"], [0.6666666666666666, \"#ed7953\"], [0.7777777777777778, \"#fb9f3a\"], [0.8888888888888888, \"#fdca26\"], [1.0, \"#f0f921\"]], \"type\": \"surface\"}], \"table\": [{\"cells\": {\"fill\": {\"color\": \"#506784\"}, \"line\": {\"color\": \"rgb(17,17,17)\"}}, \"header\": {\"fill\": {\"color\": \"#2a3f5f\"}, \"line\": {\"color\": \"rgb(17,17,17)\"}}, \"type\": \"table\"}]}, \"layout\": {\"annotationdefaults\": {\"arrowcolor\": \"#f2f5fa\", \"arrowhead\": 0, \"arrowwidth\": 1}, \"autotypenumbers\": \"strict\", \"coloraxis\": {\"colorbar\": {\"outlinewidth\": 0, \"ticks\": \"\"}}, \"colorscale\": {\"diverging\": [[0, \"#8e0152\"], [0.1, \"#c51b7d\"], [0.2, \"#de77ae\"], [0.3, \"#f1b6da\"], [0.4, \"#fde0ef\"], [0.5, \"#f7f7f7\"], [0.6, \"#e6f5d0\"], [0.7, \"#b8e186\"], [0.8, \"#7fbc41\"], [0.9, \"#4d9221\"], [1, \"#276419\"]], \"sequential\": [[0.0, \"#0d0887\"], [0.1111111111111111, \"#46039f\"], [0.2222222222222222, \"#7201a8\"], [0.3333333333333333, \"#9c179e\"], [0.4444444444444444, \"#bd3786\"], [0.5555555555555556, \"#d8576b\"], [0.6666666666666666, \"#ed7953\"], [0.7777777777777778, \"#fb9f3a\"], [0.8888888888888888, \"#fdca26\"], [1.0, \"#f0f921\"]], \"sequentialminus\": [[0.0, \"#0d0887\"], [0.1111111111111111, \"#46039f\"], [0.2222222222222222, \"#7201a8\"], [0.3333333333333333, \"#9c179e\"], [0.4444444444444444, \"#bd3786\"], [0.5555555555555556, \"#d8576b\"], [0.6666666666666666, \"#ed7953\"], [0.7777777777777778, \"#fb9f3a\"], [0.8888888888888888, \"#fdca26\"], [1.0, \"#f0f921\"]]}, \"colorway\": [\"#636efa\", \"#EF553B\", \"#00cc96\", \"#ab63fa\", \"#FFA15A\", \"#19d3f3\", \"#FF6692\", \"#B6E880\", \"#FF97FF\", \"#FECB52\"], \"font\": {\"color\": \"#f2f5fa\"}, \"geo\": {\"bgcolor\": \"rgb(17,17,17)\", \"lakecolor\": \"rgb(17,17,17)\", \"landcolor\": \"rgb(17,17,17)\", \"showlakes\": true, \"showland\": true, \"subunitcolor\": \"#506784\"}, \"hoverlabel\": {\"align\": \"left\"}, \"hovermode\": \"closest\", \"mapbox\": {\"style\": \"dark\"}, \"paper_bgcolor\": \"rgb(17,17,17)\", \"plot_bgcolor\": \"rgb(17,17,17)\", \"polar\": {\"angularaxis\": {\"gridcolor\": \"#506784\", \"linecolor\": \"#506784\", \"ticks\": \"\"}, \"bgcolor\": \"rgb(17,17,17)\", \"radialaxis\": {\"gridcolor\": \"#506784\", \"linecolor\": \"#506784\", \"ticks\": \"\"}}, \"scene\": {\"xaxis\": {\"backgroundcolor\": \"rgb(17,17,17)\", \"gridcolor\": \"#506784\", \"gridwidth\": 2, \"linecolor\": \"#506784\", \"showbackground\": true, \"ticks\": \"\", \"zerolinecolor\": \"#C8D4E3\"}, \"yaxis\": {\"backgroundcolor\": \"rgb(17,17,17)\", \"gridcolor\": \"#506784\", \"gridwidth\": 2, \"linecolor\": \"#506784\", \"showbackground\": true, \"ticks\": \"\", \"zerolinecolor\": \"#C8D4E3\"}, \"zaxis\": {\"backgroundcolor\": \"rgb(17,17,17)\", \"gridcolor\": \"#506784\", \"gridwidth\": 2, \"linecolor\": \"#506784\", \"showbackground\": true, \"ticks\": \"\", \"zerolinecolor\": \"#C8D4E3\"}}, \"shapedefaults\": {\"line\": {\"color\": \"#f2f5fa\"}}, \"sliderdefaults\": {\"bgcolor\": \"#C8D4E3\", \"bordercolor\": \"rgb(17,17,17)\", \"borderwidth\": 1, \"tickwidth\": 0}, \"ternary\": {\"aaxis\": {\"gridcolor\": \"#506784\", \"linecolor\": \"#506784\", \"ticks\": \"\"}, \"baxis\": {\"gridcolor\": \"#506784\", \"linecolor\": \"#506784\", \"ticks\": \"\"}, \"bgcolor\": \"rgb(17,17,17)\", \"caxis\": {\"gridcolor\": \"#506784\", \"linecolor\": \"#506784\", \"ticks\": \"\"}}, \"title\": {\"x\": 0.05}, \"updatemenudefaults\": {\"bgcolor\": \"#506784\", \"borderwidth\": 0}, \"xaxis\": {\"automargin\": true, \"gridcolor\": \"#283442\", \"linecolor\": \"#506784\", \"ticks\": \"\", \"title\": {\"standoff\": 15}, \"zerolinecolor\": \"#283442\", \"zerolinewidth\": 2}, \"yaxis\": {\"automargin\": true, \"gridcolor\": \"#283442\", \"linecolor\": \"#506784\", \"ticks\": \"\", \"title\": {\"standoff\": 15}, \"zerolinecolor\": \"#283442\", \"zerolinewidth\": 2}}}, \"updatemenus\": [{\"buttons\": [{\"args\": [null, {\"frame\": {\"duration\": 500, \"redraw\": true}, \"fromcurrent\": true, \"mode\": \"immediate\", \"transition\": {\"duration\": 500, \"easing\": \"linear\"}}], \"label\": \"&#9654;\", \"method\": \"animate\"}, {\"args\": [[null], {\"frame\": {\"duration\": 0, \"redraw\": true}, \"fromcurrent\": true, \"mode\": \"immediate\", \"transition\": {\"duration\": 0, \"easing\": \"linear\"}}], \"label\": \"&#9724;\", \"method\": \"animate\"}], \"direction\": \"left\", \"pad\": {\"r\": 10, \"t\": 70}, \"showactive\": false, \"type\": \"buttons\", \"x\": 0.1, \"xanchor\": \"right\", \"y\": 0, \"yanchor\": \"top\"}], \"xaxis\": {\"anchor\": \"y\", \"categoryarray\": [\"Brazil\", \"India\", \"US\"], \"categoryorder\": \"array\", \"domain\": [0.0, 1.0], \"title\": {\"text\": \"Country\"}}, \"yaxis\": {\"anchor\": \"x\", \"domain\": [0.0, 1.0], \"range\": [0, 334836], \"title\": {\"text\": \"Cases\"}}},                        {\"responsive\": true}                    ).then(function(){\n",
              "                            Plotly.addFrames('b2463648-ec98-4d34-be63-41e7e15a4d04', [{\"data\": [{\"alignmentgroup\": \"True\", \"hovertemplate\": \"Country=%{x}<br>Date=1/23/20<br>Cases=%{y}<extra></extra>\", \"ids\": [\"Brazil\"], \"legendgroup\": \"Brazil\", \"marker\": {\"color\": \"#636efa\"}, \"name\": \"Brazil\", \"offsetgroup\": \"Brazil\", \"orientation\": \"v\", \"showlegend\": true, \"textposition\": \"auto\", \"x\": [\"Brazil\"], \"xaxis\": \"x\", \"y\": [0], \"yaxis\": \"y\", \"type\": \"bar\"}, {\"alignmentgroup\": \"True\", \"hovertemplate\": \"Country=%{x}<br>Date=1/23/20<br>Cases=%{y}<extra></extra>\", \"ids\": [\"India\"], \"legendgroup\": \"India\", \"marker\": {\"color\": \"#EF553B\"}, \"name\": \"India\", \"offsetgroup\": \"India\", \"orientation\": \"v\", \"showlegend\": true, \"textposition\": \"auto\", \"x\": [\"India\"], \"xaxis\": \"x\", \"y\": [0], \"yaxis\": \"y\", \"type\": \"bar\"}, {\"alignmentgroup\": \"True\", \"hovertemplate\": \"Country=%{x}<br>Date=1/23/20<br>Cases=%{y}<extra></extra>\", \"ids\": [\"US\"], \"legendgroup\": \"US\", \"marker\": {\"color\": \"#00cc96\"}, \"name\": \"US\", \"offsetgroup\": \"US\", \"orientation\": \"v\", \"showlegend\": true, \"textposition\": \"auto\", \"x\": [\"US\"], \"xaxis\": \"x\", \"y\": [0], \"yaxis\": \"y\", \"type\": \"bar\"}], \"name\": \"1/23/20\"}, {\"data\": [{\"alignmentgroup\": \"True\", \"hovertemplate\": \"Country=%{x}<br>Date=1/28/20<br>Cases=%{y}<extra></extra>\", \"ids\": [\"Brazil\"], \"legendgroup\": \"Brazil\", \"marker\": {\"color\": \"#636efa\"}, \"name\": \"Brazil\", \"offsetgroup\": \"Brazil\", \"orientation\": \"v\", \"showlegend\": true, \"textposition\": \"auto\", \"x\": [\"Brazil\"], \"xaxis\": \"x\", \"y\": [0], \"yaxis\": \"y\", \"type\": \"bar\"}, {\"alignmentgroup\": \"True\", \"hovertemplate\": \"Country=%{x}<br>Date=1/28/20<br>Cases=%{y}<extra></extra>\", \"ids\": [\"India\"], \"legendgroup\": \"India\", \"marker\": {\"color\": \"#EF553B\"}, \"name\": \"India\", \"offsetgroup\": \"India\", \"orientation\": \"v\", \"showlegend\": true, \"textposition\": \"auto\", \"x\": [\"India\"], \"xaxis\": \"x\", \"y\": [0], \"yaxis\": \"y\", \"type\": \"bar\"}, {\"alignmentgroup\": \"True\", \"hovertemplate\": \"Country=%{x}<br>Date=1/28/20<br>Cases=%{y}<extra></extra>\", \"ids\": [\"US\"], \"legendgroup\": \"US\", \"marker\": {\"color\": \"#00cc96\"}, \"name\": \"US\", \"offsetgroup\": \"US\", \"orientation\": \"v\", \"showlegend\": true, \"textposition\": \"auto\", \"x\": [\"US\"], \"xaxis\": \"x\", \"y\": [0], \"yaxis\": \"y\", \"type\": \"bar\"}], \"name\": \"1/28/20\"}, {\"data\": [{\"alignmentgroup\": \"True\", \"hovertemplate\": \"Country=%{x}<br>Date=2/3/20<br>Cases=%{y}<extra></extra>\", \"ids\": [\"Brazil\"], \"legendgroup\": \"Brazil\", \"marker\": {\"color\": \"#636efa\"}, \"name\": \"Brazil\", \"offsetgroup\": \"Brazil\", \"orientation\": \"v\", \"showlegend\": true, \"textposition\": \"auto\", \"x\": [\"Brazil\"], \"xaxis\": \"x\", \"y\": [0], \"yaxis\": \"y\", \"type\": \"bar\"}, {\"alignmentgroup\": \"True\", \"hovertemplate\": \"Country=%{x}<br>Date=2/3/20<br>Cases=%{y}<extra></extra>\", \"ids\": [\"India\"], \"legendgroup\": \"India\", \"marker\": {\"color\": \"#EF553B\"}, \"name\": \"India\", \"offsetgroup\": \"India\", \"orientation\": \"v\", \"showlegend\": true, \"textposition\": \"auto\", \"x\": [\"India\"], \"xaxis\": \"x\", \"y\": [0], \"yaxis\": \"y\", \"type\": \"bar\"}, {\"alignmentgroup\": \"True\", \"hovertemplate\": \"Country=%{x}<br>Date=2/3/20<br>Cases=%{y}<extra></extra>\", \"ids\": [\"US\"], \"legendgroup\": \"US\", \"marker\": {\"color\": \"#00cc96\"}, \"name\": \"US\", \"offsetgroup\": \"US\", \"orientation\": \"v\", \"showlegend\": true, \"textposition\": \"auto\", \"x\": [\"US\"], \"xaxis\": \"x\", \"y\": [0], \"yaxis\": \"y\", \"type\": \"bar\"}], \"name\": \"2/3/20\"}, {\"data\": [{\"alignmentgroup\": \"True\", \"hovertemplate\": \"Country=%{x}<br>Date=2/8/20<br>Cases=%{y}<extra></extra>\", \"ids\": [\"Brazil\"], \"legendgroup\": \"Brazil\", \"marker\": {\"color\": \"#636efa\"}, \"name\": \"Brazil\", \"offsetgroup\": \"Brazil\", \"orientation\": \"v\", \"showlegend\": true, \"textposition\": \"auto\", \"x\": [\"Brazil\"], \"xaxis\": \"x\", \"y\": [0], \"yaxis\": \"y\", \"type\": \"bar\"}, {\"alignmentgroup\": \"True\", \"hovertemplate\": \"Country=%{x}<br>Date=2/8/20<br>Cases=%{y}<extra></extra>\", \"ids\": [\"India\"], \"legendgroup\": \"India\", \"marker\": {\"color\": \"#EF553B\"}, \"name\": \"India\", \"offsetgroup\": \"India\", \"orientation\": \"v\", \"showlegend\": true, \"textposition\": \"auto\", \"x\": [\"India\"], \"xaxis\": \"x\", \"y\": [0], \"yaxis\": \"y\", \"type\": \"bar\"}, {\"alignmentgroup\": \"True\", \"hovertemplate\": \"Country=%{x}<br>Date=2/8/20<br>Cases=%{y}<extra></extra>\", \"ids\": [\"US\"], \"legendgroup\": \"US\", \"marker\": {\"color\": \"#00cc96\"}, \"name\": \"US\", \"offsetgroup\": \"US\", \"orientation\": \"v\", \"showlegend\": true, \"textposition\": \"auto\", \"x\": [\"US\"], \"xaxis\": \"x\", \"y\": [0], \"yaxis\": \"y\", \"type\": \"bar\"}], \"name\": \"2/8/20\"}, {\"data\": [{\"alignmentgroup\": \"True\", \"hovertemplate\": \"Country=%{x}<br>Date=2/11/20<br>Cases=%{y}<extra></extra>\", \"ids\": [\"Brazil\"], \"legendgroup\": \"Brazil\", \"marker\": {\"color\": \"#636efa\"}, \"name\": \"Brazil\", \"offsetgroup\": \"Brazil\", \"orientation\": \"v\", \"showlegend\": true, \"textposition\": \"auto\", \"x\": [\"Brazil\"], \"xaxis\": \"x\", \"y\": [0], \"yaxis\": \"y\", \"type\": \"bar\"}, {\"alignmentgroup\": \"True\", \"hovertemplate\": \"Country=%{x}<br>Date=2/11/20<br>Cases=%{y}<extra></extra>\", \"ids\": [\"India\"], \"legendgroup\": \"India\", \"marker\": {\"color\": \"#EF553B\"}, \"name\": \"India\", \"offsetgroup\": \"India\", \"orientation\": \"v\", \"showlegend\": true, \"textposition\": \"auto\", \"x\": [\"India\"], \"xaxis\": \"x\", \"y\": [0], \"yaxis\": \"y\", \"type\": \"bar\"}, {\"alignmentgroup\": \"True\", \"hovertemplate\": \"Country=%{x}<br>Date=2/11/20<br>Cases=%{y}<extra></extra>\", \"ids\": [\"US\"], \"legendgroup\": \"US\", \"marker\": {\"color\": \"#00cc96\"}, \"name\": \"US\", \"offsetgroup\": \"US\", \"orientation\": \"v\", \"showlegend\": true, \"textposition\": \"auto\", \"x\": [\"US\"], \"xaxis\": \"x\", \"y\": [0], \"yaxis\": \"y\", \"type\": \"bar\"}], \"name\": \"2/11/20\"}, {\"data\": [{\"alignmentgroup\": \"True\", \"hovertemplate\": \"Country=%{x}<br>Date=2/16/20<br>Cases=%{y}<extra></extra>\", \"ids\": [\"Brazil\"], \"legendgroup\": \"Brazil\", \"marker\": {\"color\": \"#636efa\"}, \"name\": \"Brazil\", \"offsetgroup\": \"Brazil\", \"orientation\": \"v\", \"showlegend\": true, \"textposition\": \"auto\", \"x\": [\"Brazil\"], \"xaxis\": \"x\", \"y\": [0], \"yaxis\": \"y\", \"type\": \"bar\"}, {\"alignmentgroup\": \"True\", \"hovertemplate\": \"Country=%{x}<br>Date=2/16/20<br>Cases=%{y}<extra></extra>\", \"ids\": [\"India\"], \"legendgroup\": \"India\", \"marker\": {\"color\": \"#EF553B\"}, \"name\": \"India\", \"offsetgroup\": \"India\", \"orientation\": \"v\", \"showlegend\": true, \"textposition\": \"auto\", \"x\": [\"India\"], \"xaxis\": \"x\", \"y\": [0], \"yaxis\": \"y\", \"type\": \"bar\"}, {\"alignmentgroup\": \"True\", \"hovertemplate\": \"Country=%{x}<br>Date=2/16/20<br>Cases=%{y}<extra></extra>\", \"ids\": [\"US\"], \"legendgroup\": \"US\", \"marker\": {\"color\": \"#00cc96\"}, \"name\": \"US\", \"offsetgroup\": \"US\", \"orientation\": \"v\", \"showlegend\": true, \"textposition\": \"auto\", \"x\": [\"US\"], \"xaxis\": \"x\", \"y\": [0], \"yaxis\": \"y\", \"type\": \"bar\"}], \"name\": \"2/16/20\"}, {\"data\": [{\"alignmentgroup\": \"True\", \"hovertemplate\": \"Country=%{x}<br>Date=2/20/20<br>Cases=%{y}<extra></extra>\", \"ids\": [\"Brazil\"], \"legendgroup\": \"Brazil\", \"marker\": {\"color\": \"#636efa\"}, \"name\": \"Brazil\", \"offsetgroup\": \"Brazil\", \"orientation\": \"v\", \"showlegend\": true, \"textposition\": \"auto\", \"x\": [\"Brazil\"], \"xaxis\": \"x\", \"y\": [0], \"yaxis\": \"y\", \"type\": \"bar\"}, {\"alignmentgroup\": \"True\", \"hovertemplate\": \"Country=%{x}<br>Date=2/20/20<br>Cases=%{y}<extra></extra>\", \"ids\": [\"India\"], \"legendgroup\": \"India\", \"marker\": {\"color\": \"#EF553B\"}, \"name\": \"India\", \"offsetgroup\": \"India\", \"orientation\": \"v\", \"showlegend\": true, \"textposition\": \"auto\", \"x\": [\"India\"], \"xaxis\": \"x\", \"y\": [0], \"yaxis\": \"y\", \"type\": \"bar\"}, {\"alignmentgroup\": \"True\", \"hovertemplate\": \"Country=%{x}<br>Date=2/20/20<br>Cases=%{y}<extra></extra>\", \"ids\": [\"US\"], \"legendgroup\": \"US\", \"marker\": {\"color\": \"#00cc96\"}, \"name\": \"US\", \"offsetgroup\": \"US\", \"orientation\": \"v\", \"showlegend\": true, \"textposition\": \"auto\", \"x\": [\"US\"], \"xaxis\": \"x\", \"y\": [0], \"yaxis\": \"y\", \"type\": \"bar\"}], \"name\": \"2/20/20\"}, {\"data\": [{\"alignmentgroup\": \"True\", \"hovertemplate\": \"Country=%{x}<br>Date=2/25/20<br>Cases=%{y}<extra></extra>\", \"ids\": [\"Brazil\"], \"legendgroup\": \"Brazil\", \"marker\": {\"color\": \"#636efa\"}, \"name\": \"Brazil\", \"offsetgroup\": \"Brazil\", \"orientation\": \"v\", \"showlegend\": true, \"textposition\": \"auto\", \"x\": [\"Brazil\"], \"xaxis\": \"x\", \"y\": [0], \"yaxis\": \"y\", \"type\": \"bar\"}, {\"alignmentgroup\": \"True\", \"hovertemplate\": \"Country=%{x}<br>Date=2/25/20<br>Cases=%{y}<extra></extra>\", \"ids\": [\"India\"], \"legendgroup\": \"India\", \"marker\": {\"color\": \"#EF553B\"}, \"name\": \"India\", \"offsetgroup\": \"India\", \"orientation\": \"v\", \"showlegend\": true, \"textposition\": \"auto\", \"x\": [\"India\"], \"xaxis\": \"x\", \"y\": [0], \"yaxis\": \"y\", \"type\": \"bar\"}, {\"alignmentgroup\": \"True\", \"hovertemplate\": \"Country=%{x}<br>Date=2/25/20<br>Cases=%{y}<extra></extra>\", \"ids\": [\"US\"], \"legendgroup\": \"US\", \"marker\": {\"color\": \"#00cc96\"}, \"name\": \"US\", \"offsetgroup\": \"US\", \"orientation\": \"v\", \"showlegend\": true, \"textposition\": \"auto\", \"x\": [\"US\"], \"xaxis\": \"x\", \"y\": [0], \"yaxis\": \"y\", \"type\": \"bar\"}], \"name\": \"2/25/20\"}, {\"data\": [{\"alignmentgroup\": \"True\", \"hovertemplate\": \"Country=%{x}<br>Date=3/7/20<br>Cases=%{y}<extra></extra>\", \"ids\": [\"Brazil\"], \"legendgroup\": \"Brazil\", \"marker\": {\"color\": \"#636efa\"}, \"name\": \"Brazil\", \"offsetgroup\": \"Brazil\", \"orientation\": \"v\", \"showlegend\": true, \"textposition\": \"auto\", \"x\": [\"Brazil\"], \"xaxis\": \"x\", \"y\": [0], \"yaxis\": \"y\", \"type\": \"bar\"}, {\"alignmentgroup\": \"True\", \"hovertemplate\": \"Country=%{x}<br>Date=3/7/20<br>Cases=%{y}<extra></extra>\", \"ids\": [\"India\"], \"legendgroup\": \"India\", \"marker\": {\"color\": \"#EF553B\"}, \"name\": \"India\", \"offsetgroup\": \"India\", \"orientation\": \"v\", \"showlegend\": true, \"textposition\": \"auto\", \"x\": [\"India\"], \"xaxis\": \"x\", \"y\": [0], \"yaxis\": \"y\", \"type\": \"bar\"}, {\"alignmentgroup\": \"True\", \"hovertemplate\": \"Country=%{x}<br>Date=3/7/20<br>Cases=%{y}<extra></extra>\", \"ids\": [\"US\"], \"legendgroup\": \"US\", \"marker\": {\"color\": \"#00cc96\"}, \"name\": \"US\", \"offsetgroup\": \"US\", \"orientation\": \"v\", \"showlegend\": true, \"textposition\": \"auto\", \"x\": [\"US\"], \"xaxis\": \"x\", \"y\": [17], \"yaxis\": \"y\", \"type\": \"bar\"}], \"name\": \"3/7/20\"}, {\"data\": [{\"alignmentgroup\": \"True\", \"hovertemplate\": \"Country=%{x}<br>Date=3/12/20<br>Cases=%{y}<extra></extra>\", \"ids\": [\"Brazil\"], \"legendgroup\": \"Brazil\", \"marker\": {\"color\": \"#636efa\"}, \"name\": \"Brazil\", \"offsetgroup\": \"Brazil\", \"orientation\": \"v\", \"showlegend\": true, \"textposition\": \"auto\", \"x\": [\"Brazil\"], \"xaxis\": \"x\", \"y\": [0], \"yaxis\": \"y\", \"type\": \"bar\"}, {\"alignmentgroup\": \"True\", \"hovertemplate\": \"Country=%{x}<br>Date=3/12/20<br>Cases=%{y}<extra></extra>\", \"ids\": [\"India\"], \"legendgroup\": \"India\", \"marker\": {\"color\": \"#EF553B\"}, \"name\": \"India\", \"offsetgroup\": \"India\", \"orientation\": \"v\", \"showlegend\": true, \"textposition\": \"auto\", \"x\": [\"India\"], \"xaxis\": \"x\", \"y\": [1], \"yaxis\": \"y\", \"type\": \"bar\"}, {\"alignmentgroup\": \"True\", \"hovertemplate\": \"Country=%{x}<br>Date=3/12/20<br>Cases=%{y}<extra></extra>\", \"ids\": [\"US\"], \"legendgroup\": \"US\", \"marker\": {\"color\": \"#00cc96\"}, \"name\": \"US\", \"offsetgroup\": \"US\", \"orientation\": \"v\", \"showlegend\": true, \"textposition\": \"auto\", \"x\": [\"US\"], \"xaxis\": \"x\", \"y\": [43], \"yaxis\": \"y\", \"type\": \"bar\"}], \"name\": \"3/12/20\"}, {\"data\": [{\"alignmentgroup\": \"True\", \"hovertemplate\": \"Country=%{x}<br>Date=3/17/20<br>Cases=%{y}<extra></extra>\", \"ids\": [\"Brazil\"], \"legendgroup\": \"Brazil\", \"marker\": {\"color\": \"#636efa\"}, \"name\": \"Brazil\", \"offsetgroup\": \"Brazil\", \"orientation\": \"v\", \"showlegend\": true, \"textposition\": \"auto\", \"x\": [\"Brazil\"], \"xaxis\": \"x\", \"y\": [1], \"yaxis\": \"y\", \"type\": \"bar\"}, {\"alignmentgroup\": \"True\", \"hovertemplate\": \"Country=%{x}<br>Date=3/17/20<br>Cases=%{y}<extra></extra>\", \"ids\": [\"India\"], \"legendgroup\": \"India\", \"marker\": {\"color\": \"#EF553B\"}, \"name\": \"India\", \"offsetgroup\": \"India\", \"orientation\": \"v\", \"showlegend\": true, \"textposition\": \"auto\", \"x\": [\"India\"], \"xaxis\": \"x\", \"y\": [3], \"yaxis\": \"y\", \"type\": \"bar\"}, {\"alignmentgroup\": \"True\", \"hovertemplate\": \"Country=%{x}<br>Date=3/17/20<br>Cases=%{y}<extra></extra>\", \"ids\": [\"US\"], \"legendgroup\": \"US\", \"marker\": {\"color\": \"#00cc96\"}, \"name\": \"US\", \"offsetgroup\": \"US\", \"orientation\": \"v\", \"showlegend\": true, \"textposition\": \"auto\", \"x\": [\"US\"], \"xaxis\": \"x\", \"y\": [133], \"yaxis\": \"y\", \"type\": \"bar\"}], \"name\": \"3/17/20\"}, {\"data\": [{\"alignmentgroup\": \"True\", \"hovertemplate\": \"Country=%{x}<br>Date=3/21/20<br>Cases=%{y}<extra></extra>\", \"ids\": [\"Brazil\"], \"legendgroup\": \"Brazil\", \"marker\": {\"color\": \"#636efa\"}, \"name\": \"Brazil\", \"offsetgroup\": \"Brazil\", \"orientation\": \"v\", \"showlegend\": true, \"textposition\": \"auto\", \"x\": [\"Brazil\"], \"xaxis\": \"x\", \"y\": [15], \"yaxis\": \"y\", \"type\": \"bar\"}, {\"alignmentgroup\": \"True\", \"hovertemplate\": \"Country=%{x}<br>Date=3/21/20<br>Cases=%{y}<extra></extra>\", \"ids\": [\"India\"], \"legendgroup\": \"India\", \"marker\": {\"color\": \"#EF553B\"}, \"name\": \"India\", \"offsetgroup\": \"India\", \"orientation\": \"v\", \"showlegend\": true, \"textposition\": \"auto\", \"x\": [\"India\"], \"xaxis\": \"x\", \"y\": [4], \"yaxis\": \"y\", \"type\": \"bar\"}, {\"alignmentgroup\": \"True\", \"hovertemplate\": \"Country=%{x}<br>Date=3/21/20<br>Cases=%{y}<extra></extra>\", \"ids\": [\"US\"], \"legendgroup\": \"US\", \"marker\": {\"color\": \"#00cc96\"}, \"name\": \"US\", \"offsetgroup\": \"US\", \"orientation\": \"v\", \"showlegend\": true, \"textposition\": \"auto\", \"x\": [\"US\"], \"xaxis\": \"x\", \"y\": [466], \"yaxis\": \"y\", \"type\": \"bar\"}], \"name\": \"3/21/20\"}, {\"data\": [{\"alignmentgroup\": \"True\", \"hovertemplate\": \"Country=%{x}<br>Date=3/26/20<br>Cases=%{y}<extra></extra>\", \"ids\": [\"Brazil\"], \"legendgroup\": \"Brazil\", \"marker\": {\"color\": \"#636efa\"}, \"name\": \"Brazil\", \"offsetgroup\": \"Brazil\", \"orientation\": \"v\", \"showlegend\": true, \"textposition\": \"auto\", \"x\": [\"Brazil\"], \"xaxis\": \"x\", \"y\": [77], \"yaxis\": \"y\", \"type\": \"bar\"}, {\"alignmentgroup\": \"True\", \"hovertemplate\": \"Country=%{x}<br>Date=3/26/20<br>Cases=%{y}<extra></extra>\", \"ids\": [\"India\"], \"legendgroup\": \"India\", \"marker\": {\"color\": \"#EF553B\"}, \"name\": \"India\", \"offsetgroup\": \"India\", \"orientation\": \"v\", \"showlegend\": true, \"textposition\": \"auto\", \"x\": [\"India\"], \"xaxis\": \"x\", \"y\": [20], \"yaxis\": \"y\", \"type\": \"bar\"}, {\"alignmentgroup\": \"True\", \"hovertemplate\": \"Country=%{x}<br>Date=3/26/20<br>Cases=%{y}<extra></extra>\", \"ids\": [\"US\"], \"legendgroup\": \"US\", \"marker\": {\"color\": \"#00cc96\"}, \"name\": \"US\", \"offsetgroup\": \"US\", \"orientation\": \"v\", \"showlegend\": true, \"textposition\": \"auto\", \"x\": [\"US\"], \"xaxis\": \"x\", \"y\": [1742], \"yaxis\": \"y\", \"type\": \"bar\"}], \"name\": \"3/26/20\"}, {\"data\": [{\"alignmentgroup\": \"True\", \"hovertemplate\": \"Country=%{x}<br>Date=3/30/20<br>Cases=%{y}<extra></extra>\", \"ids\": [\"Brazil\"], \"legendgroup\": \"Brazil\", \"marker\": {\"color\": \"#636efa\"}, \"name\": \"Brazil\", \"offsetgroup\": \"Brazil\", \"orientation\": \"v\", \"showlegend\": true, \"textposition\": \"auto\", \"x\": [\"Brazil\"], \"xaxis\": \"x\", \"y\": [159], \"yaxis\": \"y\", \"type\": \"bar\"}, {\"alignmentgroup\": \"True\", \"hovertemplate\": \"Country=%{x}<br>Date=3/30/20<br>Cases=%{y}<extra></extra>\", \"ids\": [\"India\"], \"legendgroup\": \"India\", \"marker\": {\"color\": \"#EF553B\"}, \"name\": \"India\", \"offsetgroup\": \"India\", \"orientation\": \"v\", \"showlegend\": true, \"textposition\": \"auto\", \"x\": [\"India\"], \"xaxis\": \"x\", \"y\": [32], \"yaxis\": \"y\", \"type\": \"bar\"}, {\"alignmentgroup\": \"True\", \"hovertemplate\": \"Country=%{x}<br>Date=3/30/20<br>Cases=%{y}<extra></extra>\", \"ids\": [\"US\"], \"legendgroup\": \"US\", \"marker\": {\"color\": \"#00cc96\"}, \"name\": \"US\", \"offsetgroup\": \"US\", \"orientation\": \"v\", \"showlegend\": true, \"textposition\": \"auto\", \"x\": [\"US\"], \"xaxis\": \"x\", \"y\": [4187], \"yaxis\": \"y\", \"type\": \"bar\"}], \"name\": \"3/30/20\"}, {\"data\": [{\"alignmentgroup\": \"True\", \"hovertemplate\": \"Country=%{x}<br>Date=4/3/20<br>Cases=%{y}<extra></extra>\", \"ids\": [\"Brazil\"], \"legendgroup\": \"Brazil\", \"marker\": {\"color\": \"#636efa\"}, \"name\": \"Brazil\", \"offsetgroup\": \"Brazil\", \"orientation\": \"v\", \"showlegend\": true, \"textposition\": \"auto\", \"x\": [\"Brazil\"], \"xaxis\": \"x\", \"y\": [359], \"yaxis\": \"y\", \"type\": \"bar\"}, {\"alignmentgroup\": \"True\", \"hovertemplate\": \"Country=%{x}<br>Date=4/3/20<br>Cases=%{y}<extra></extra>\", \"ids\": [\"India\"], \"legendgroup\": \"India\", \"marker\": {\"color\": \"#EF553B\"}, \"name\": \"India\", \"offsetgroup\": \"India\", \"orientation\": \"v\", \"showlegend\": true, \"textposition\": \"auto\", \"x\": [\"India\"], \"xaxis\": \"x\", \"y\": [72], \"yaxis\": \"y\", \"type\": \"bar\"}, {\"alignmentgroup\": \"True\", \"hovertemplate\": \"Country=%{x}<br>Date=4/3/20<br>Cases=%{y}<extra></extra>\", \"ids\": [\"US\"], \"legendgroup\": \"US\", \"marker\": {\"color\": \"#00cc96\"}, \"name\": \"US\", \"offsetgroup\": \"US\", \"orientation\": \"v\", \"showlegend\": true, \"textposition\": \"auto\", \"x\": [\"US\"], \"xaxis\": \"x\", \"y\": [9436], \"yaxis\": \"y\", \"type\": \"bar\"}], \"name\": \"4/3/20\"}, {\"data\": [{\"alignmentgroup\": \"True\", \"hovertemplate\": \"Country=%{x}<br>Date=4/7/20<br>Cases=%{y}<extra></extra>\", \"ids\": [\"Brazil\"], \"legendgroup\": \"Brazil\", \"marker\": {\"color\": \"#636efa\"}, \"name\": \"Brazil\", \"offsetgroup\": \"Brazil\", \"orientation\": \"v\", \"showlegend\": true, \"textposition\": \"auto\", \"x\": [\"Brazil\"], \"xaxis\": \"x\", \"y\": [686], \"yaxis\": \"y\", \"type\": \"bar\"}, {\"alignmentgroup\": \"True\", \"hovertemplate\": \"Country=%{x}<br>Date=4/7/20<br>Cases=%{y}<extra></extra>\", \"ids\": [\"India\"], \"legendgroup\": \"India\", \"marker\": {\"color\": \"#EF553B\"}, \"name\": \"India\", \"offsetgroup\": \"India\", \"orientation\": \"v\", \"showlegend\": true, \"textposition\": \"auto\", \"x\": [\"India\"], \"xaxis\": \"x\", \"y\": [150], \"yaxis\": \"y\", \"type\": \"bar\"}, {\"alignmentgroup\": \"True\", \"hovertemplate\": \"Country=%{x}<br>Date=4/7/20<br>Cases=%{y}<extra></extra>\", \"ids\": [\"US\"], \"legendgroup\": \"US\", \"marker\": {\"color\": \"#00cc96\"}, \"name\": \"US\", \"offsetgroup\": \"US\", \"orientation\": \"v\", \"showlegend\": true, \"textposition\": \"auto\", \"x\": [\"US\"], \"xaxis\": \"x\", \"y\": [16895], \"yaxis\": \"y\", \"type\": \"bar\"}], \"name\": \"4/7/20\"}, {\"data\": [{\"alignmentgroup\": \"True\", \"hovertemplate\": \"Country=%{x}<br>Date=4/11/20<br>Cases=%{y}<extra></extra>\", \"ids\": [\"Brazil\"], \"legendgroup\": \"Brazil\", \"marker\": {\"color\": \"#636efa\"}, \"name\": \"Brazil\", \"offsetgroup\": \"Brazil\", \"orientation\": \"v\", \"showlegend\": true, \"textposition\": \"auto\", \"x\": [\"Brazil\"], \"xaxis\": \"x\", \"y\": [1124], \"yaxis\": \"y\", \"type\": \"bar\"}, {\"alignmentgroup\": \"True\", \"hovertemplate\": \"Country=%{x}<br>Date=4/11/20<br>Cases=%{y}<extra></extra>\", \"ids\": [\"India\"], \"legendgroup\": \"India\", \"marker\": {\"color\": \"#EF553B\"}, \"name\": \"India\", \"offsetgroup\": \"India\", \"orientation\": \"v\", \"showlegend\": true, \"textposition\": \"auto\", \"x\": [\"India\"], \"xaxis\": \"x\", \"y\": [288], \"yaxis\": \"y\", \"type\": \"bar\"}, {\"alignmentgroup\": \"True\", \"hovertemplate\": \"Country=%{x}<br>Date=4/11/20<br>Cases=%{y}<extra></extra>\", \"ids\": [\"US\"], \"legendgroup\": \"US\", \"marker\": {\"color\": \"#00cc96\"}, \"name\": \"US\", \"offsetgroup\": \"US\", \"orientation\": \"v\", \"showlegend\": true, \"textposition\": \"auto\", \"x\": [\"US\"], \"xaxis\": \"x\", \"y\": [25597], \"yaxis\": \"y\", \"type\": \"bar\"}], \"name\": \"4/11/20\"}, {\"data\": [{\"alignmentgroup\": \"True\", \"hovertemplate\": \"Country=%{x}<br>Date=4/16/20<br>Cases=%{y}<extra></extra>\", \"ids\": [\"Brazil\"], \"legendgroup\": \"Brazil\", \"marker\": {\"color\": \"#636efa\"}, \"name\": \"Brazil\", \"offsetgroup\": \"Brazil\", \"orientation\": \"v\", \"showlegend\": true, \"textposition\": \"auto\", \"x\": [\"Brazil\"], \"xaxis\": \"x\", \"y\": [1924], \"yaxis\": \"y\", \"type\": \"bar\"}, {\"alignmentgroup\": \"True\", \"hovertemplate\": \"Country=%{x}<br>Date=4/16/20<br>Cases=%{y}<extra></extra>\", \"ids\": [\"India\"], \"legendgroup\": \"India\", \"marker\": {\"color\": \"#EF553B\"}, \"name\": \"India\", \"offsetgroup\": \"India\", \"orientation\": \"v\", \"showlegend\": true, \"textposition\": \"auto\", \"x\": [\"India\"], \"xaxis\": \"x\", \"y\": [448], \"yaxis\": \"y\", \"type\": \"bar\"}, {\"alignmentgroup\": \"True\", \"hovertemplate\": \"Country=%{x}<br>Date=4/16/20<br>Cases=%{y}<extra></extra>\", \"ids\": [\"US\"], \"legendgroup\": \"US\", \"marker\": {\"color\": \"#00cc96\"}, \"name\": \"US\", \"offsetgroup\": \"US\", \"orientation\": \"v\", \"showlegend\": true, \"textposition\": \"auto\", \"x\": [\"US\"], \"xaxis\": \"x\", \"y\": [36576], \"yaxis\": \"y\", \"type\": \"bar\"}], \"name\": \"4/16/20\"}, {\"data\": [{\"alignmentgroup\": \"True\", \"hovertemplate\": \"Country=%{x}<br>Date=4/20/20<br>Cases=%{y}<extra></extra>\", \"ids\": [\"Brazil\"], \"legendgroup\": \"Brazil\", \"marker\": {\"color\": \"#636efa\"}, \"name\": \"Brazil\", \"offsetgroup\": \"Brazil\", \"orientation\": \"v\", \"showlegend\": true, \"textposition\": \"auto\", \"x\": [\"Brazil\"], \"xaxis\": \"x\", \"y\": [2587], \"yaxis\": \"y\", \"type\": \"bar\"}, {\"alignmentgroup\": \"True\", \"hovertemplate\": \"Country=%{x}<br>Date=4/20/20<br>Cases=%{y}<extra></extra>\", \"ids\": [\"India\"], \"legendgroup\": \"India\", \"marker\": {\"color\": \"#EF553B\"}, \"name\": \"India\", \"offsetgroup\": \"India\", \"orientation\": \"v\", \"showlegend\": true, \"textposition\": \"auto\", \"x\": [\"India\"], \"xaxis\": \"x\", \"y\": [592], \"yaxis\": \"y\", \"type\": \"bar\"}, {\"alignmentgroup\": \"True\", \"hovertemplate\": \"Country=%{x}<br>Date=4/20/20<br>Cases=%{y}<extra></extra>\", \"ids\": [\"US\"], \"legendgroup\": \"US\", \"marker\": {\"color\": \"#00cc96\"}, \"name\": \"US\", \"offsetgroup\": \"US\", \"orientation\": \"v\", \"showlegend\": true, \"textposition\": \"auto\", \"x\": [\"US\"], \"xaxis\": \"x\", \"y\": [44769], \"yaxis\": \"y\", \"type\": \"bar\"}], \"name\": \"4/20/20\"}, {\"data\": [{\"alignmentgroup\": \"True\", \"hovertemplate\": \"Country=%{x}<br>Date=4/25/20<br>Cases=%{y}<extra></extra>\", \"ids\": [\"Brazil\"], \"legendgroup\": \"Brazil\", \"marker\": {\"color\": \"#636efa\"}, \"name\": \"Brazil\", \"offsetgroup\": \"Brazil\", \"orientation\": \"v\", \"showlegend\": true, \"textposition\": \"auto\", \"x\": [\"Brazil\"], \"xaxis\": \"x\", \"y\": [4057], \"yaxis\": \"y\", \"type\": \"bar\"}, {\"alignmentgroup\": \"True\", \"hovertemplate\": \"Country=%{x}<br>Date=4/25/20<br>Cases=%{y}<extra></extra>\", \"ids\": [\"India\"], \"legendgroup\": \"India\", \"marker\": {\"color\": \"#EF553B\"}, \"name\": \"India\", \"offsetgroup\": \"India\", \"orientation\": \"v\", \"showlegend\": true, \"textposition\": \"auto\", \"x\": [\"India\"], \"xaxis\": \"x\", \"y\": [825], \"yaxis\": \"y\", \"type\": \"bar\"}, {\"alignmentgroup\": \"True\", \"hovertemplate\": \"Country=%{x}<br>Date=4/25/20<br>Cases=%{y}<extra></extra>\", \"ids\": [\"US\"], \"legendgroup\": \"US\", \"marker\": {\"color\": \"#00cc96\"}, \"name\": \"US\", \"offsetgroup\": \"US\", \"orientation\": \"v\", \"showlegend\": true, \"textposition\": \"auto\", \"x\": [\"US\"], \"xaxis\": \"x\", \"y\": [56056], \"yaxis\": \"y\", \"type\": \"bar\"}], \"name\": \"4/25/20\"}, {\"data\": [{\"alignmentgroup\": \"True\", \"hovertemplate\": \"Country=%{x}<br>Date=5/3/20<br>Cases=%{y}<extra></extra>\", \"ids\": [\"Brazil\"], \"legendgroup\": \"Brazil\", \"marker\": {\"color\": \"#636efa\"}, \"name\": \"Brazil\", \"offsetgroup\": \"Brazil\", \"orientation\": \"v\", \"showlegend\": true, \"textposition\": \"auto\", \"x\": [\"Brazil\"], \"xaxis\": \"x\", \"y\": [7051], \"yaxis\": \"y\", \"type\": \"bar\"}, {\"alignmentgroup\": \"True\", \"hovertemplate\": \"Country=%{x}<br>Date=5/3/20<br>Cases=%{y}<extra></extra>\", \"ids\": [\"India\"], \"legendgroup\": \"India\", \"marker\": {\"color\": \"#EF553B\"}, \"name\": \"India\", \"offsetgroup\": \"India\", \"orientation\": \"v\", \"showlegend\": true, \"textposition\": \"auto\", \"x\": [\"India\"], \"xaxis\": \"x\", \"y\": [1391], \"yaxis\": \"y\", \"type\": \"bar\"}, {\"alignmentgroup\": \"True\", \"hovertemplate\": \"Country=%{x}<br>Date=5/3/20<br>Cases=%{y}<extra></extra>\", \"ids\": [\"US\"], \"legendgroup\": \"US\", \"marker\": {\"color\": \"#00cc96\"}, \"name\": \"US\", \"offsetgroup\": \"US\", \"orientation\": \"v\", \"showlegend\": true, \"textposition\": \"auto\", \"x\": [\"US\"], \"xaxis\": \"x\", \"y\": [70708], \"yaxis\": \"y\", \"type\": \"bar\"}], \"name\": \"5/3/20\"}, {\"data\": [{\"alignmentgroup\": \"True\", \"hovertemplate\": \"Country=%{x}<br>Date=5/6/20<br>Cases=%{y}<extra></extra>\", \"ids\": [\"Brazil\"], \"legendgroup\": \"Brazil\", \"marker\": {\"color\": \"#636efa\"}, \"name\": \"Brazil\", \"offsetgroup\": \"Brazil\", \"orientation\": \"v\", \"showlegend\": true, \"textposition\": \"auto\", \"x\": [\"Brazil\"], \"xaxis\": \"x\", \"y\": [8588], \"yaxis\": \"y\", \"type\": \"bar\"}, {\"alignmentgroup\": \"True\", \"hovertemplate\": \"Country=%{x}<br>Date=5/6/20<br>Cases=%{y}<extra></extra>\", \"ids\": [\"India\"], \"legendgroup\": \"India\", \"marker\": {\"color\": \"#EF553B\"}, \"name\": \"India\", \"offsetgroup\": \"India\", \"orientation\": \"v\", \"showlegend\": true, \"textposition\": \"auto\", \"x\": [\"India\"], \"xaxis\": \"x\", \"y\": [1785], \"yaxis\": \"y\", \"type\": \"bar\"}, {\"alignmentgroup\": \"True\", \"hovertemplate\": \"Country=%{x}<br>Date=5/6/20<br>Cases=%{y}<extra></extra>\", \"ids\": [\"US\"], \"legendgroup\": \"US\", \"marker\": {\"color\": \"#00cc96\"}, \"name\": \"US\", \"offsetgroup\": \"US\", \"orientation\": \"v\", \"showlegend\": true, \"textposition\": \"auto\", \"x\": [\"US\"], \"xaxis\": \"x\", \"y\": [76665], \"yaxis\": \"y\", \"type\": \"bar\"}], \"name\": \"5/6/20\"}, {\"data\": [{\"alignmentgroup\": \"True\", \"hovertemplate\": \"Country=%{x}<br>Date=5/11/20<br>Cases=%{y}<extra></extra>\", \"ids\": [\"Brazil\"], \"legendgroup\": \"Brazil\", \"marker\": {\"color\": \"#636efa\"}, \"name\": \"Brazil\", \"offsetgroup\": \"Brazil\", \"orientation\": \"v\", \"showlegend\": true, \"textposition\": \"auto\", \"x\": [\"Brazil\"], \"xaxis\": \"x\", \"y\": [11653], \"yaxis\": \"y\", \"type\": \"bar\"}, {\"alignmentgroup\": \"True\", \"hovertemplate\": \"Country=%{x}<br>Date=5/11/20<br>Cases=%{y}<extra></extra>\", \"ids\": [\"India\"], \"legendgroup\": \"India\", \"marker\": {\"color\": \"#EF553B\"}, \"name\": \"India\", \"offsetgroup\": \"India\", \"orientation\": \"v\", \"showlegend\": true, \"textposition\": \"auto\", \"x\": [\"India\"], \"xaxis\": \"x\", \"y\": [2294], \"yaxis\": \"y\", \"type\": \"bar\"}, {\"alignmentgroup\": \"True\", \"hovertemplate\": \"Country=%{x}<br>Date=5/11/20<br>Cases=%{y}<extra></extra>\", \"ids\": [\"US\"], \"legendgroup\": \"US\", \"marker\": {\"color\": \"#00cc96\"}, \"name\": \"US\", \"offsetgroup\": \"US\", \"orientation\": \"v\", \"showlegend\": true, \"textposition\": \"auto\", \"x\": [\"US\"], \"xaxis\": \"x\", \"y\": [83776], \"yaxis\": \"y\", \"type\": \"bar\"}], \"name\": \"5/11/20\"}, {\"data\": [{\"alignmentgroup\": \"True\", \"hovertemplate\": \"Country=%{x}<br>Date=5/16/20<br>Cases=%{y}<extra></extra>\", \"ids\": [\"Brazil\"], \"legendgroup\": \"Brazil\", \"marker\": {\"color\": \"#636efa\"}, \"name\": \"Brazil\", \"offsetgroup\": \"Brazil\", \"orientation\": \"v\", \"showlegend\": true, \"textposition\": \"auto\", \"x\": [\"Brazil\"], \"xaxis\": \"x\", \"y\": [15662], \"yaxis\": \"y\", \"type\": \"bar\"}, {\"alignmentgroup\": \"True\", \"hovertemplate\": \"Country=%{x}<br>Date=5/16/20<br>Cases=%{y}<extra></extra>\", \"ids\": [\"India\"], \"legendgroup\": \"India\", \"marker\": {\"color\": \"#EF553B\"}, \"name\": \"India\", \"offsetgroup\": \"India\", \"orientation\": \"v\", \"showlegend\": true, \"textposition\": \"auto\", \"x\": [\"India\"], \"xaxis\": \"x\", \"y\": [2871], \"yaxis\": \"y\", \"type\": \"bar\"}, {\"alignmentgroup\": \"True\", \"hovertemplate\": \"Country=%{x}<br>Date=5/16/20<br>Cases=%{y}<extra></extra>\", \"ids\": [\"US\"], \"legendgroup\": \"US\", \"marker\": {\"color\": \"#00cc96\"}, \"name\": \"US\", \"offsetgroup\": \"US\", \"orientation\": \"v\", \"showlegend\": true, \"textposition\": \"auto\", \"x\": [\"US\"], \"xaxis\": \"x\", \"y\": [91855], \"yaxis\": \"y\", \"type\": \"bar\"}], \"name\": \"5/16/20\"}, {\"data\": [{\"alignmentgroup\": \"True\", \"hovertemplate\": \"Country=%{x}<br>Date=5/20/20<br>Cases=%{y}<extra></extra>\", \"ids\": [\"Brazil\"], \"legendgroup\": \"Brazil\", \"marker\": {\"color\": \"#636efa\"}, \"name\": \"Brazil\", \"offsetgroup\": \"Brazil\", \"orientation\": \"v\", \"showlegend\": true, \"textposition\": \"auto\", \"x\": [\"Brazil\"], \"xaxis\": \"x\", \"y\": [18859], \"yaxis\": \"y\", \"type\": \"bar\"}, {\"alignmentgroup\": \"True\", \"hovertemplate\": \"Country=%{x}<br>Date=5/20/20<br>Cases=%{y}<extra></extra>\", \"ids\": [\"India\"], \"legendgroup\": \"India\", \"marker\": {\"color\": \"#EF553B\"}, \"name\": \"India\", \"offsetgroup\": \"India\", \"orientation\": \"v\", \"showlegend\": true, \"textposition\": \"auto\", \"x\": [\"India\"], \"xaxis\": \"x\", \"y\": [3434], \"yaxis\": \"y\", \"type\": \"bar\"}, {\"alignmentgroup\": \"True\", \"hovertemplate\": \"Country=%{x}<br>Date=5/20/20<br>Cases=%{y}<extra></extra>\", \"ids\": [\"US\"], \"legendgroup\": \"US\", \"marker\": {\"color\": \"#00cc96\"}, \"name\": \"US\", \"offsetgroup\": \"US\", \"orientation\": \"v\", \"showlegend\": true, \"textposition\": \"auto\", \"x\": [\"US\"], \"xaxis\": \"x\", \"y\": [96807], \"yaxis\": \"y\", \"type\": \"bar\"}], \"name\": \"5/20/20\"}, {\"data\": [{\"alignmentgroup\": \"True\", \"hovertemplate\": \"Country=%{x}<br>Date=5/25/20<br>Cases=%{y}<extra></extra>\", \"ids\": [\"Brazil\"], \"legendgroup\": \"Brazil\", \"marker\": {\"color\": \"#636efa\"}, \"name\": \"Brazil\", \"offsetgroup\": \"Brazil\", \"orientation\": \"v\", \"showlegend\": true, \"textposition\": \"auto\", \"x\": [\"Brazil\"], \"xaxis\": \"x\", \"y\": [23473], \"yaxis\": \"y\", \"type\": \"bar\"}, {\"alignmentgroup\": \"True\", \"hovertemplate\": \"Country=%{x}<br>Date=5/25/20<br>Cases=%{y}<extra></extra>\", \"ids\": [\"India\"], \"legendgroup\": \"India\", \"marker\": {\"color\": \"#EF553B\"}, \"name\": \"India\", \"offsetgroup\": \"India\", \"orientation\": \"v\", \"showlegend\": true, \"textposition\": \"auto\", \"x\": [\"India\"], \"xaxis\": \"x\", \"y\": [4172], \"yaxis\": \"y\", \"type\": \"bar\"}, {\"alignmentgroup\": \"True\", \"hovertemplate\": \"Country=%{x}<br>Date=5/25/20<br>Cases=%{y}<extra></extra>\", \"ids\": [\"US\"], \"legendgroup\": \"US\", \"marker\": {\"color\": \"#00cc96\"}, \"name\": \"US\", \"offsetgroup\": \"US\", \"orientation\": \"v\", \"showlegend\": true, \"textposition\": \"auto\", \"x\": [\"US\"], \"xaxis\": \"x\", \"y\": [101572], \"yaxis\": \"y\", \"type\": \"bar\"}], \"name\": \"5/25/20\"}, {\"data\": [{\"alignmentgroup\": \"True\", \"hovertemplate\": \"Country=%{x}<br>Date=6/2/20<br>Cases=%{y}<extra></extra>\", \"ids\": [\"Brazil\"], \"legendgroup\": \"Brazil\", \"marker\": {\"color\": \"#636efa\"}, \"name\": \"Brazil\", \"offsetgroup\": \"Brazil\", \"orientation\": \"v\", \"showlegend\": true, \"textposition\": \"auto\", \"x\": [\"Brazil\"], \"xaxis\": \"x\", \"y\": [31199], \"yaxis\": \"y\", \"type\": \"bar\"}, {\"alignmentgroup\": \"True\", \"hovertemplate\": \"Country=%{x}<br>Date=6/2/20<br>Cases=%{y}<extra></extra>\", \"ids\": [\"India\"], \"legendgroup\": \"India\", \"marker\": {\"color\": \"#EF553B\"}, \"name\": \"India\", \"offsetgroup\": \"India\", \"orientation\": \"v\", \"showlegend\": true, \"textposition\": \"auto\", \"x\": [\"India\"], \"xaxis\": \"x\", \"y\": [5829], \"yaxis\": \"y\", \"type\": \"bar\"}, {\"alignmentgroup\": \"True\", \"hovertemplate\": \"Country=%{x}<br>Date=6/2/20<br>Cases=%{y}<extra></extra>\", \"ids\": [\"US\"], \"legendgroup\": \"US\", \"marker\": {\"color\": \"#00cc96\"}, \"name\": \"US\", \"offsetgroup\": \"US\", \"orientation\": \"v\", \"showlegend\": true, \"textposition\": \"auto\", \"x\": [\"US\"], \"xaxis\": \"x\", \"y\": [109539], \"yaxis\": \"y\", \"type\": \"bar\"}], \"name\": \"6/2/20\"}, {\"data\": [{\"alignmentgroup\": \"True\", \"hovertemplate\": \"Country=%{x}<br>Date=6/6/20<br>Cases=%{y}<extra></extra>\", \"ids\": [\"Brazil\"], \"legendgroup\": \"Brazil\", \"marker\": {\"color\": \"#636efa\"}, \"name\": \"Brazil\", \"offsetgroup\": \"Brazil\", \"orientation\": \"v\", \"showlegend\": true, \"textposition\": \"auto\", \"x\": [\"Brazil\"], \"xaxis\": \"x\", \"y\": [35930], \"yaxis\": \"y\", \"type\": \"bar\"}, {\"alignmentgroup\": \"True\", \"hovertemplate\": \"Country=%{x}<br>Date=6/6/20<br>Cases=%{y}<extra></extra>\", \"ids\": [\"India\"], \"legendgroup\": \"India\", \"marker\": {\"color\": \"#EF553B\"}, \"name\": \"India\", \"offsetgroup\": \"India\", \"orientation\": \"v\", \"showlegend\": true, \"textposition\": \"auto\", \"x\": [\"India\"], \"xaxis\": \"x\", \"y\": [6946], \"yaxis\": \"y\", \"type\": \"bar\"}, {\"alignmentgroup\": \"True\", \"hovertemplate\": \"Country=%{x}<br>Date=6/6/20<br>Cases=%{y}<extra></extra>\", \"ids\": [\"US\"], \"legendgroup\": \"US\", \"marker\": {\"color\": \"#00cc96\"}, \"name\": \"US\", \"offsetgroup\": \"US\", \"orientation\": \"v\", \"showlegend\": true, \"textposition\": \"auto\", \"x\": [\"US\"], \"xaxis\": \"x\", \"y\": [113138], \"yaxis\": \"y\", \"type\": \"bar\"}], \"name\": \"6/6/20\"}, {\"data\": [{\"alignmentgroup\": \"True\", \"hovertemplate\": \"Country=%{x}<br>Date=6/10/20<br>Cases=%{y}<extra></extra>\", \"ids\": [\"Brazil\"], \"legendgroup\": \"Brazil\", \"marker\": {\"color\": \"#636efa\"}, \"name\": \"Brazil\", \"offsetgroup\": \"Brazil\", \"orientation\": \"v\", \"showlegend\": true, \"textposition\": \"auto\", \"x\": [\"Brazil\"], \"xaxis\": \"x\", \"y\": [39680], \"yaxis\": \"y\", \"type\": \"bar\"}, {\"alignmentgroup\": \"True\", \"hovertemplate\": \"Country=%{x}<br>Date=6/10/20<br>Cases=%{y}<extra></extra>\", \"ids\": [\"India\"], \"legendgroup\": \"India\", \"marker\": {\"color\": \"#EF553B\"}, \"name\": \"India\", \"offsetgroup\": \"India\", \"orientation\": \"v\", \"showlegend\": true, \"textposition\": \"auto\", \"x\": [\"India\"], \"xaxis\": \"x\", \"y\": [8102], \"yaxis\": \"y\", \"type\": \"bar\"}, {\"alignmentgroup\": \"True\", \"hovertemplate\": \"Country=%{x}<br>Date=6/10/20<br>Cases=%{y}<extra></extra>\", \"ids\": [\"US\"], \"legendgroup\": \"US\", \"marker\": {\"color\": \"#00cc96\"}, \"name\": \"US\", \"offsetgroup\": \"US\", \"orientation\": \"v\", \"showlegend\": true, \"textposition\": \"auto\", \"x\": [\"US\"], \"xaxis\": \"x\", \"y\": [115911], \"yaxis\": \"y\", \"type\": \"bar\"}], \"name\": \"6/10/20\"}, {\"data\": [{\"alignmentgroup\": \"True\", \"hovertemplate\": \"Country=%{x}<br>Date=6/15/20<br>Cases=%{y}<extra></extra>\", \"ids\": [\"Brazil\"], \"legendgroup\": \"Brazil\", \"marker\": {\"color\": \"#636efa\"}, \"name\": \"Brazil\", \"offsetgroup\": \"Brazil\", \"orientation\": \"v\", \"showlegend\": true, \"textposition\": \"auto\", \"x\": [\"Brazil\"], \"xaxis\": \"x\", \"y\": [43959], \"yaxis\": \"y\", \"type\": \"bar\"}, {\"alignmentgroup\": \"True\", \"hovertemplate\": \"Country=%{x}<br>Date=6/15/20<br>Cases=%{y}<extra></extra>\", \"ids\": [\"India\"], \"legendgroup\": \"India\", \"marker\": {\"color\": \"#EF553B\"}, \"name\": \"India\", \"offsetgroup\": \"India\", \"orientation\": \"v\", \"showlegend\": true, \"textposition\": \"auto\", \"x\": [\"India\"], \"xaxis\": \"x\", \"y\": [9900], \"yaxis\": \"y\", \"type\": \"bar\"}, {\"alignmentgroup\": \"True\", \"hovertemplate\": \"Country=%{x}<br>Date=6/15/20<br>Cases=%{y}<extra></extra>\", \"ids\": [\"US\"], \"legendgroup\": \"US\", \"marker\": {\"color\": \"#00cc96\"}, \"name\": \"US\", \"offsetgroup\": \"US\", \"orientation\": \"v\", \"showlegend\": true, \"textposition\": \"auto\", \"x\": [\"US\"], \"xaxis\": \"x\", \"y\": [119049], \"yaxis\": \"y\", \"type\": \"bar\"}], \"name\": \"6/15/20\"}, {\"data\": [{\"alignmentgroup\": \"True\", \"hovertemplate\": \"Country=%{x}<br>Date=6/24/20<br>Cases=%{y}<extra></extra>\", \"ids\": [\"Brazil\"], \"legendgroup\": \"Brazil\", \"marker\": {\"color\": \"#636efa\"}, \"name\": \"Brazil\", \"offsetgroup\": \"Brazil\", \"orientation\": \"v\", \"showlegend\": true, \"textposition\": \"auto\", \"x\": [\"Brazil\"], \"xaxis\": \"x\", \"y\": [53830], \"yaxis\": \"y\", \"type\": \"bar\"}, {\"alignmentgroup\": \"True\", \"hovertemplate\": \"Country=%{x}<br>Date=6/24/20<br>Cases=%{y}<extra></extra>\", \"ids\": [\"India\"], \"legendgroup\": \"India\", \"marker\": {\"color\": \"#EF553B\"}, \"name\": \"India\", \"offsetgroup\": \"India\", \"orientation\": \"v\", \"showlegend\": true, \"textposition\": \"auto\", \"x\": [\"India\"], \"xaxis\": \"x\", \"y\": [14894], \"yaxis\": \"y\", \"type\": \"bar\"}, {\"alignmentgroup\": \"True\", \"hovertemplate\": \"Country=%{x}<br>Date=6/24/20<br>Cases=%{y}<extra></extra>\", \"ids\": [\"US\"], \"legendgroup\": \"US\", \"marker\": {\"color\": \"#00cc96\"}, \"name\": \"US\", \"offsetgroup\": \"US\", \"orientation\": \"v\", \"showlegend\": true, \"textposition\": \"auto\", \"x\": [\"US\"], \"xaxis\": \"x\", \"y\": [124844], \"yaxis\": \"y\", \"type\": \"bar\"}], \"name\": \"6/24/20\"}, {\"data\": [{\"alignmentgroup\": \"True\", \"hovertemplate\": \"Country=%{x}<br>Date=6/29/20<br>Cases=%{y}<extra></extra>\", \"ids\": [\"Brazil\"], \"legendgroup\": \"Brazil\", \"marker\": {\"color\": \"#636efa\"}, \"name\": \"Brazil\", \"offsetgroup\": \"Brazil\", \"orientation\": \"v\", \"showlegend\": true, \"textposition\": \"auto\", \"x\": [\"Brazil\"], \"xaxis\": \"x\", \"y\": [58314], \"yaxis\": \"y\", \"type\": \"bar\"}, {\"alignmentgroup\": \"True\", \"hovertemplate\": \"Country=%{x}<br>Date=6/29/20<br>Cases=%{y}<extra></extra>\", \"ids\": [\"India\"], \"legendgroup\": \"India\", \"marker\": {\"color\": \"#EF553B\"}, \"name\": \"India\", \"offsetgroup\": \"India\", \"orientation\": \"v\", \"showlegend\": true, \"textposition\": \"auto\", \"x\": [\"India\"], \"xaxis\": \"x\", \"y\": [16893], \"yaxis\": \"y\", \"type\": \"bar\"}, {\"alignmentgroup\": \"True\", \"hovertemplate\": \"Country=%{x}<br>Date=6/29/20<br>Cases=%{y}<extra></extra>\", \"ids\": [\"US\"], \"legendgroup\": \"US\", \"marker\": {\"color\": \"#00cc96\"}, \"name\": \"US\", \"offsetgroup\": \"US\", \"orientation\": \"v\", \"showlegend\": true, \"textposition\": \"auto\", \"x\": [\"US\"], \"xaxis\": \"x\", \"y\": [127198], \"yaxis\": \"y\", \"type\": \"bar\"}], \"name\": \"6/29/20\"}, {\"data\": [{\"alignmentgroup\": \"True\", \"hovertemplate\": \"Country=%{x}<br>Date=7/2/20<br>Cases=%{y}<extra></extra>\", \"ids\": [\"Brazil\"], \"legendgroup\": \"Brazil\", \"marker\": {\"color\": \"#636efa\"}, \"name\": \"Brazil\", \"offsetgroup\": \"Brazil\", \"orientation\": \"v\", \"showlegend\": true, \"textposition\": \"auto\", \"x\": [\"Brazil\"], \"xaxis\": \"x\", \"y\": [61884], \"yaxis\": \"y\", \"type\": \"bar\"}, {\"alignmentgroup\": \"True\", \"hovertemplate\": \"Country=%{x}<br>Date=7/2/20<br>Cases=%{y}<extra></extra>\", \"ids\": [\"India\"], \"legendgroup\": \"India\", \"marker\": {\"color\": \"#EF553B\"}, \"name\": \"India\", \"offsetgroup\": \"India\", \"orientation\": \"v\", \"showlegend\": true, \"textposition\": \"auto\", \"x\": [\"India\"], \"xaxis\": \"x\", \"y\": [18213], \"yaxis\": \"y\", \"type\": \"bar\"}, {\"alignmentgroup\": \"True\", \"hovertemplate\": \"Country=%{x}<br>Date=7/2/20<br>Cases=%{y}<extra></extra>\", \"ids\": [\"US\"], \"legendgroup\": \"US\", \"marker\": {\"color\": \"#00cc96\"}, \"name\": \"US\", \"offsetgroup\": \"US\", \"orientation\": \"v\", \"showlegend\": true, \"textposition\": \"auto\", \"x\": [\"US\"], \"xaxis\": \"x\", \"y\": [129250], \"yaxis\": \"y\", \"type\": \"bar\"}], \"name\": \"7/2/20\"}, {\"data\": [{\"alignmentgroup\": \"True\", \"hovertemplate\": \"Country=%{x}<br>Date=7/5/20<br>Cases=%{y}<extra></extra>\", \"ids\": [\"Brazil\"], \"legendgroup\": \"Brazil\", \"marker\": {\"color\": \"#636efa\"}, \"name\": \"Brazil\", \"offsetgroup\": \"Brazil\", \"orientation\": \"v\", \"showlegend\": true, \"textposition\": \"auto\", \"x\": [\"Brazil\"], \"xaxis\": \"x\", \"y\": [64867], \"yaxis\": \"y\", \"type\": \"bar\"}, {\"alignmentgroup\": \"True\", \"hovertemplate\": \"Country=%{x}<br>Date=7/5/20<br>Cases=%{y}<extra></extra>\", \"ids\": [\"India\"], \"legendgroup\": \"India\", \"marker\": {\"color\": \"#EF553B\"}, \"name\": \"India\", \"offsetgroup\": \"India\", \"orientation\": \"v\", \"showlegend\": true, \"textposition\": \"auto\", \"x\": [\"India\"], \"xaxis\": \"x\", \"y\": [19693], \"yaxis\": \"y\", \"type\": \"bar\"}, {\"alignmentgroup\": \"True\", \"hovertemplate\": \"Country=%{x}<br>Date=7/5/20<br>Cases=%{y}<extra></extra>\", \"ids\": [\"US\"], \"legendgroup\": \"US\", \"marker\": {\"color\": \"#00cc96\"}, \"name\": \"US\", \"offsetgroup\": \"US\", \"orientation\": \"v\", \"showlegend\": true, \"textposition\": \"auto\", \"x\": [\"US\"], \"xaxis\": \"x\", \"y\": [130492], \"yaxis\": \"y\", \"type\": \"bar\"}], \"name\": \"7/5/20\"}, {\"data\": [{\"alignmentgroup\": \"True\", \"hovertemplate\": \"Country=%{x}<br>Date=7/10/20<br>Cases=%{y}<extra></extra>\", \"ids\": [\"Brazil\"], \"legendgroup\": \"Brazil\", \"marker\": {\"color\": \"#636efa\"}, \"name\": \"Brazil\", \"offsetgroup\": \"Brazil\", \"orientation\": \"v\", \"showlegend\": true, \"textposition\": \"auto\", \"x\": [\"Brazil\"], \"xaxis\": \"x\", \"y\": [70398], \"yaxis\": \"y\", \"type\": \"bar\"}, {\"alignmentgroup\": \"True\", \"hovertemplate\": \"Country=%{x}<br>Date=7/10/20<br>Cases=%{y}<extra></extra>\", \"ids\": [\"India\"], \"legendgroup\": \"India\", \"marker\": {\"color\": \"#EF553B\"}, \"name\": \"India\", \"offsetgroup\": \"India\", \"orientation\": \"v\", \"showlegend\": true, \"textposition\": \"auto\", \"x\": [\"India\"], \"xaxis\": \"x\", \"y\": [22123], \"yaxis\": \"y\", \"type\": \"bar\"}, {\"alignmentgroup\": \"True\", \"hovertemplate\": \"Country=%{x}<br>Date=7/10/20<br>Cases=%{y}<extra></extra>\", \"ids\": [\"US\"], \"legendgroup\": \"US\", \"marker\": {\"color\": \"#00cc96\"}, \"name\": \"US\", \"offsetgroup\": \"US\", \"orientation\": \"v\", \"showlegend\": true, \"textposition\": \"auto\", \"x\": [\"US\"], \"xaxis\": \"x\", \"y\": [134725], \"yaxis\": \"y\", \"type\": \"bar\"}], \"name\": \"7/10/20\"}, {\"data\": [{\"alignmentgroup\": \"True\", \"hovertemplate\": \"Country=%{x}<br>Date=7/15/20<br>Cases=%{y}<extra></extra>\", \"ids\": [\"Brazil\"], \"legendgroup\": \"Brazil\", \"marker\": {\"color\": \"#636efa\"}, \"name\": \"Brazil\", \"offsetgroup\": \"Brazil\", \"orientation\": \"v\", \"showlegend\": true, \"textposition\": \"auto\", \"x\": [\"Brazil\"], \"xaxis\": \"x\", \"y\": [75366], \"yaxis\": \"y\", \"type\": \"bar\"}, {\"alignmentgroup\": \"True\", \"hovertemplate\": \"Country=%{x}<br>Date=7/15/20<br>Cases=%{y}<extra></extra>\", \"ids\": [\"India\"], \"legendgroup\": \"India\", \"marker\": {\"color\": \"#EF553B\"}, \"name\": \"India\", \"offsetgroup\": \"India\", \"orientation\": \"v\", \"showlegend\": true, \"textposition\": \"auto\", \"x\": [\"India\"], \"xaxis\": \"x\", \"y\": [24914], \"yaxis\": \"y\", \"type\": \"bar\"}, {\"alignmentgroup\": \"True\", \"hovertemplate\": \"Country=%{x}<br>Date=7/15/20<br>Cases=%{y}<extra></extra>\", \"ids\": [\"US\"], \"legendgroup\": \"US\", \"marker\": {\"color\": \"#00cc96\"}, \"name\": \"US\", \"offsetgroup\": \"US\", \"orientation\": \"v\", \"showlegend\": true, \"textposition\": \"auto\", \"x\": [\"US\"], \"xaxis\": \"x\", \"y\": [138196], \"yaxis\": \"y\", \"type\": \"bar\"}], \"name\": \"7/15/20\"}, {\"data\": [{\"alignmentgroup\": \"True\", \"hovertemplate\": \"Country=%{x}<br>Date=7/24/20<br>Cases=%{y}<extra></extra>\", \"ids\": [\"Brazil\"], \"legendgroup\": \"Brazil\", \"marker\": {\"color\": \"#636efa\"}, \"name\": \"Brazil\", \"offsetgroup\": \"Brazil\", \"orientation\": \"v\", \"showlegend\": true, \"textposition\": \"auto\", \"x\": [\"Brazil\"], \"xaxis\": \"x\", \"y\": [85238], \"yaxis\": \"y\", \"type\": \"bar\"}, {\"alignmentgroup\": \"True\", \"hovertemplate\": \"Country=%{x}<br>Date=7/24/20<br>Cases=%{y}<extra></extra>\", \"ids\": [\"India\"], \"legendgroup\": \"India\", \"marker\": {\"color\": \"#EF553B\"}, \"name\": \"India\", \"offsetgroup\": \"India\", \"orientation\": \"v\", \"showlegend\": true, \"textposition\": \"auto\", \"x\": [\"India\"], \"xaxis\": \"x\", \"y\": [31358], \"yaxis\": \"y\", \"type\": \"bar\"}, {\"alignmentgroup\": \"True\", \"hovertemplate\": \"Country=%{x}<br>Date=7/24/20<br>Cases=%{y}<extra></extra>\", \"ids\": [\"US\"], \"legendgroup\": \"US\", \"marker\": {\"color\": \"#00cc96\"}, \"name\": \"US\", \"offsetgroup\": \"US\", \"orientation\": \"v\", \"showlegend\": true, \"textposition\": \"auto\", \"x\": [\"US\"], \"xaxis\": \"x\", \"y\": [146507], \"yaxis\": \"y\", \"type\": \"bar\"}], \"name\": \"7/24/20\"}, {\"data\": [{\"alignmentgroup\": \"True\", \"hovertemplate\": \"Country=%{x}<br>Date=7/29/20<br>Cases=%{y}<extra></extra>\", \"ids\": [\"Brazil\"], \"legendgroup\": \"Brazil\", \"marker\": {\"color\": \"#636efa\"}, \"name\": \"Brazil\", \"offsetgroup\": \"Brazil\", \"orientation\": \"v\", \"showlegend\": true, \"textposition\": \"auto\", \"x\": [\"Brazil\"], \"xaxis\": \"x\", \"y\": [90134], \"yaxis\": \"y\", \"type\": \"bar\"}, {\"alignmentgroup\": \"True\", \"hovertemplate\": \"Country=%{x}<br>Date=7/29/20<br>Cases=%{y}<extra></extra>\", \"ids\": [\"India\"], \"legendgroup\": \"India\", \"marker\": {\"color\": \"#EF553B\"}, \"name\": \"India\", \"offsetgroup\": \"India\", \"orientation\": \"v\", \"showlegend\": true, \"textposition\": \"auto\", \"x\": [\"India\"], \"xaxis\": \"x\", \"y\": [34955], \"yaxis\": \"y\", \"type\": \"bar\"}, {\"alignmentgroup\": \"True\", \"hovertemplate\": \"Country=%{x}<br>Date=7/29/20<br>Cases=%{y}<extra></extra>\", \"ids\": [\"US\"], \"legendgroup\": \"US\", \"marker\": {\"color\": \"#00cc96\"}, \"name\": \"US\", \"offsetgroup\": \"US\", \"orientation\": \"v\", \"showlegend\": true, \"textposition\": \"auto\", \"x\": [\"US\"], \"xaxis\": \"x\", \"y\": [151797], \"yaxis\": \"y\", \"type\": \"bar\"}], \"name\": \"7/29/20\"}, {\"data\": [{\"alignmentgroup\": \"True\", \"hovertemplate\": \"Country=%{x}<br>Date=8/1/20<br>Cases=%{y}<extra></extra>\", \"ids\": [\"Brazil\"], \"legendgroup\": \"Brazil\", \"marker\": {\"color\": \"#636efa\"}, \"name\": \"Brazil\", \"offsetgroup\": \"Brazil\", \"orientation\": \"v\", \"showlegend\": true, \"textposition\": \"auto\", \"x\": [\"Brazil\"], \"xaxis\": \"x\", \"y\": [93563], \"yaxis\": \"y\", \"type\": \"bar\"}, {\"alignmentgroup\": \"True\", \"hovertemplate\": \"Country=%{x}<br>Date=8/1/20<br>Cases=%{y}<extra></extra>\", \"ids\": [\"India\"], \"legendgroup\": \"India\", \"marker\": {\"color\": \"#EF553B\"}, \"name\": \"India\", \"offsetgroup\": \"India\", \"orientation\": \"v\", \"showlegend\": true, \"textposition\": \"auto\", \"x\": [\"India\"], \"xaxis\": \"x\", \"y\": [37364], \"yaxis\": \"y\", \"type\": \"bar\"}, {\"alignmentgroup\": \"True\", \"hovertemplate\": \"Country=%{x}<br>Date=8/1/20<br>Cases=%{y}<extra></extra>\", \"ids\": [\"US\"], \"legendgroup\": \"US\", \"marker\": {\"color\": \"#00cc96\"}, \"name\": \"US\", \"offsetgroup\": \"US\", \"orientation\": \"v\", \"showlegend\": true, \"textposition\": \"auto\", \"x\": [\"US\"], \"xaxis\": \"x\", \"y\": [155376], \"yaxis\": \"y\", \"type\": \"bar\"}], \"name\": \"8/1/20\"}, {\"data\": [{\"alignmentgroup\": \"True\", \"hovertemplate\": \"Country=%{x}<br>Date=8/4/20<br>Cases=%{y}<extra></extra>\", \"ids\": [\"Brazil\"], \"legendgroup\": \"Brazil\", \"marker\": {\"color\": \"#636efa\"}, \"name\": \"Brazil\", \"offsetgroup\": \"Brazil\", \"orientation\": \"v\", \"showlegend\": true, \"textposition\": \"auto\", \"x\": [\"Brazil\"], \"xaxis\": \"x\", \"y\": [95819], \"yaxis\": \"y\", \"type\": \"bar\"}, {\"alignmentgroup\": \"True\", \"hovertemplate\": \"Country=%{x}<br>Date=8/4/20<br>Cases=%{y}<extra></extra>\", \"ids\": [\"India\"], \"legendgroup\": \"India\", \"marker\": {\"color\": \"#EF553B\"}, \"name\": \"India\", \"offsetgroup\": \"India\", \"orientation\": \"v\", \"showlegend\": true, \"textposition\": \"auto\", \"x\": [\"India\"], \"xaxis\": \"x\", \"y\": [39795], \"yaxis\": \"y\", \"type\": \"bar\"}, {\"alignmentgroup\": \"True\", \"hovertemplate\": \"Country=%{x}<br>Date=8/4/20<br>Cases=%{y}<extra></extra>\", \"ids\": [\"US\"], \"legendgroup\": \"US\", \"marker\": {\"color\": \"#00cc96\"}, \"name\": \"US\", \"offsetgroup\": \"US\", \"orientation\": \"v\", \"showlegend\": true, \"textposition\": \"auto\", \"x\": [\"US\"], \"xaxis\": \"x\", \"y\": [157705], \"yaxis\": \"y\", \"type\": \"bar\"}], \"name\": \"8/4/20\"}, {\"data\": [{\"alignmentgroup\": \"True\", \"hovertemplate\": \"Country=%{x}<br>Date=8/9/20<br>Cases=%{y}<extra></extra>\", \"ids\": [\"Brazil\"], \"legendgroup\": \"Brazil\", \"marker\": {\"color\": \"#636efa\"}, \"name\": \"Brazil\", \"offsetgroup\": \"Brazil\", \"orientation\": \"v\", \"showlegend\": true, \"textposition\": \"auto\", \"x\": [\"Brazil\"], \"xaxis\": \"x\", \"y\": [101049], \"yaxis\": \"y\", \"type\": \"bar\"}, {\"alignmentgroup\": \"True\", \"hovertemplate\": \"Country=%{x}<br>Date=8/9/20<br>Cases=%{y}<extra></extra>\", \"ids\": [\"India\"], \"legendgroup\": \"India\", \"marker\": {\"color\": \"#EF553B\"}, \"name\": \"India\", \"offsetgroup\": \"India\", \"orientation\": \"v\", \"showlegend\": true, \"textposition\": \"auto\", \"x\": [\"India\"], \"xaxis\": \"x\", \"y\": [44386], \"yaxis\": \"y\", \"type\": \"bar\"}, {\"alignmentgroup\": \"True\", \"hovertemplate\": \"Country=%{x}<br>Date=8/9/20<br>Cases=%{y}<extra></extra>\", \"ids\": [\"US\"], \"legendgroup\": \"US\", \"marker\": {\"color\": \"#00cc96\"}, \"name\": \"US\", \"offsetgroup\": \"US\", \"orientation\": \"v\", \"showlegend\": true, \"textposition\": \"auto\", \"x\": [\"US\"], \"xaxis\": \"x\", \"y\": [163175], \"yaxis\": \"y\", \"type\": \"bar\"}], \"name\": \"8/9/20\"}, {\"data\": [{\"alignmentgroup\": \"True\", \"hovertemplate\": \"Country=%{x}<br>Date=8/14/20<br>Cases=%{y}<extra></extra>\", \"ids\": [\"Brazil\"], \"legendgroup\": \"Brazil\", \"marker\": {\"color\": \"#636efa\"}, \"name\": \"Brazil\", \"offsetgroup\": \"Brazil\", \"orientation\": \"v\", \"showlegend\": true, \"textposition\": \"auto\", \"x\": [\"Brazil\"], \"xaxis\": \"x\", \"y\": [106523], \"yaxis\": \"y\", \"type\": \"bar\"}, {\"alignmentgroup\": \"True\", \"hovertemplate\": \"Country=%{x}<br>Date=8/14/20<br>Cases=%{y}<extra></extra>\", \"ids\": [\"India\"], \"legendgroup\": \"India\", \"marker\": {\"color\": \"#EF553B\"}, \"name\": \"India\", \"offsetgroup\": \"India\", \"orientation\": \"v\", \"showlegend\": true, \"textposition\": \"auto\", \"x\": [\"India\"], \"xaxis\": \"x\", \"y\": [49036], \"yaxis\": \"y\", \"type\": \"bar\"}, {\"alignmentgroup\": \"True\", \"hovertemplate\": \"Country=%{x}<br>Date=8/14/20<br>Cases=%{y}<extra></extra>\", \"ids\": [\"US\"], \"legendgroup\": \"US\", \"marker\": {\"color\": \"#00cc96\"}, \"name\": \"US\", \"offsetgroup\": \"US\", \"orientation\": \"v\", \"showlegend\": true, \"textposition\": \"auto\", \"x\": [\"US\"], \"xaxis\": \"x\", \"y\": [168667], \"yaxis\": \"y\", \"type\": \"bar\"}], \"name\": \"8/14/20\"}, {\"data\": [{\"alignmentgroup\": \"True\", \"hovertemplate\": \"Country=%{x}<br>Date=8/19/20<br>Cases=%{y}<extra></extra>\", \"ids\": [\"Brazil\"], \"legendgroup\": \"Brazil\", \"marker\": {\"color\": \"#636efa\"}, \"name\": \"Brazil\", \"offsetgroup\": \"Brazil\", \"orientation\": \"v\", \"showlegend\": true, \"textposition\": \"auto\", \"x\": [\"Brazil\"], \"xaxis\": \"x\", \"y\": [111100], \"yaxis\": \"y\", \"type\": \"bar\"}, {\"alignmentgroup\": \"True\", \"hovertemplate\": \"Country=%{x}<br>Date=8/19/20<br>Cases=%{y}<extra></extra>\", \"ids\": [\"India\"], \"legendgroup\": \"India\", \"marker\": {\"color\": \"#EF553B\"}, \"name\": \"India\", \"offsetgroup\": \"India\", \"orientation\": \"v\", \"showlegend\": true, \"textposition\": \"auto\", \"x\": [\"India\"], \"xaxis\": \"x\", \"y\": [53866], \"yaxis\": \"y\", \"type\": \"bar\"}, {\"alignmentgroup\": \"True\", \"hovertemplate\": \"Country=%{x}<br>Date=8/19/20<br>Cases=%{y}<extra></extra>\", \"ids\": [\"US\"], \"legendgroup\": \"US\", \"marker\": {\"color\": \"#00cc96\"}, \"name\": \"US\", \"offsetgroup\": \"US\", \"orientation\": \"v\", \"showlegend\": true, \"textposition\": \"auto\", \"x\": [\"US\"], \"xaxis\": \"x\", \"y\": [173359], \"yaxis\": \"y\", \"type\": \"bar\"}], \"name\": \"8/19/20\"}, {\"data\": [{\"alignmentgroup\": \"True\", \"hovertemplate\": \"Country=%{x}<br>Date=8/23/20<br>Cases=%{y}<extra></extra>\", \"ids\": [\"Brazil\"], \"legendgroup\": \"Brazil\", \"marker\": {\"color\": \"#636efa\"}, \"name\": \"Brazil\", \"offsetgroup\": \"Brazil\", \"orientation\": \"v\", \"showlegend\": true, \"textposition\": \"auto\", \"x\": [\"Brazil\"], \"xaxis\": \"x\", \"y\": [114744], \"yaxis\": \"y\", \"type\": \"bar\"}, {\"alignmentgroup\": \"True\", \"hovertemplate\": \"Country=%{x}<br>Date=8/23/20<br>Cases=%{y}<extra></extra>\", \"ids\": [\"India\"], \"legendgroup\": \"India\", \"marker\": {\"color\": \"#EF553B\"}, \"name\": \"India\", \"offsetgroup\": \"India\", \"orientation\": \"v\", \"showlegend\": true, \"textposition\": \"auto\", \"x\": [\"India\"], \"xaxis\": \"x\", \"y\": [57542], \"yaxis\": \"y\", \"type\": \"bar\"}, {\"alignmentgroup\": \"True\", \"hovertemplate\": \"Country=%{x}<br>Date=8/23/20<br>Cases=%{y}<extra></extra>\", \"ids\": [\"US\"], \"legendgroup\": \"US\", \"marker\": {\"color\": \"#00cc96\"}, \"name\": \"US\", \"offsetgroup\": \"US\", \"orientation\": \"v\", \"showlegend\": true, \"textposition\": \"auto\", \"x\": [\"US\"], \"xaxis\": \"x\", \"y\": [176970], \"yaxis\": \"y\", \"type\": \"bar\"}], \"name\": \"8/23/20\"}, {\"data\": [{\"alignmentgroup\": \"True\", \"hovertemplate\": \"Country=%{x}<br>Date=8/28/20<br>Cases=%{y}<extra></extra>\", \"ids\": [\"Brazil\"], \"legendgroup\": \"Brazil\", \"marker\": {\"color\": \"#636efa\"}, \"name\": \"Brazil\", \"offsetgroup\": \"Brazil\", \"orientation\": \"v\", \"showlegend\": true, \"textposition\": \"auto\", \"x\": [\"Brazil\"], \"xaxis\": \"x\", \"y\": [119504], \"yaxis\": \"y\", \"type\": \"bar\"}, {\"alignmentgroup\": \"True\", \"hovertemplate\": \"Country=%{x}<br>Date=8/28/20<br>Cases=%{y}<extra></extra>\", \"ids\": [\"India\"], \"legendgroup\": \"India\", \"marker\": {\"color\": \"#EF553B\"}, \"name\": \"India\", \"offsetgroup\": \"India\", \"orientation\": \"v\", \"showlegend\": true, \"textposition\": \"auto\", \"x\": [\"India\"], \"xaxis\": \"x\", \"y\": [62550], \"yaxis\": \"y\", \"type\": \"bar\"}, {\"alignmentgroup\": \"True\", \"hovertemplate\": \"Country=%{x}<br>Date=8/28/20<br>Cases=%{y}<extra></extra>\", \"ids\": [\"US\"], \"legendgroup\": \"US\", \"marker\": {\"color\": \"#00cc96\"}, \"name\": \"US\", \"offsetgroup\": \"US\", \"orientation\": \"v\", \"showlegend\": true, \"textposition\": \"auto\", \"x\": [\"US\"], \"xaxis\": \"x\", \"y\": [181926], \"yaxis\": \"y\", \"type\": \"bar\"}], \"name\": \"8/28/20\"}, {\"data\": [{\"alignmentgroup\": \"True\", \"hovertemplate\": \"Country=%{x}<br>Date=9/4/20<br>Cases=%{y}<extra></extra>\", \"ids\": [\"Brazil\"], \"legendgroup\": \"Brazil\", \"marker\": {\"color\": \"#636efa\"}, \"name\": \"Brazil\", \"offsetgroup\": \"Brazil\", \"orientation\": \"v\", \"showlegend\": true, \"textposition\": \"auto\", \"x\": [\"Brazil\"], \"xaxis\": \"x\", \"y\": [125502], \"yaxis\": \"y\", \"type\": \"bar\"}, {\"alignmentgroup\": \"True\", \"hovertemplate\": \"Country=%{x}<br>Date=9/4/20<br>Cases=%{y}<extra></extra>\", \"ids\": [\"India\"], \"legendgroup\": \"India\", \"marker\": {\"color\": \"#EF553B\"}, \"name\": \"India\", \"offsetgroup\": \"India\", \"orientation\": \"v\", \"showlegend\": true, \"textposition\": \"auto\", \"x\": [\"India\"], \"xaxis\": \"x\", \"y\": [69561], \"yaxis\": \"y\", \"type\": \"bar\"}, {\"alignmentgroup\": \"True\", \"hovertemplate\": \"Country=%{x}<br>Date=9/4/20<br>Cases=%{y}<extra></extra>\", \"ids\": [\"US\"], \"legendgroup\": \"US\", \"marker\": {\"color\": \"#00cc96\"}, \"name\": \"US\", \"offsetgroup\": \"US\", \"orientation\": \"v\", \"showlegend\": true, \"textposition\": \"auto\", \"x\": [\"US\"], \"xaxis\": \"x\", \"y\": [187921], \"yaxis\": \"y\", \"type\": \"bar\"}], \"name\": \"9/4/20\"}, {\"data\": [{\"alignmentgroup\": \"True\", \"hovertemplate\": \"Country=%{x}<br>Date=9/9/20<br>Cases=%{y}<extra></extra>\", \"ids\": [\"Brazil\"], \"legendgroup\": \"Brazil\", \"marker\": {\"color\": \"#636efa\"}, \"name\": \"Brazil\", \"offsetgroup\": \"Brazil\", \"orientation\": \"v\", \"showlegend\": true, \"textposition\": \"auto\", \"x\": [\"Brazil\"], \"xaxis\": \"x\", \"y\": [128539], \"yaxis\": \"y\", \"type\": \"bar\"}, {\"alignmentgroup\": \"True\", \"hovertemplate\": \"Country=%{x}<br>Date=9/9/20<br>Cases=%{y}<extra></extra>\", \"ids\": [\"India\"], \"legendgroup\": \"India\", \"marker\": {\"color\": \"#EF553B\"}, \"name\": \"India\", \"offsetgroup\": \"India\", \"orientation\": \"v\", \"showlegend\": true, \"textposition\": \"auto\", \"x\": [\"India\"], \"xaxis\": \"x\", \"y\": [75062], \"yaxis\": \"y\", \"type\": \"bar\"}, {\"alignmentgroup\": \"True\", \"hovertemplate\": \"Country=%{x}<br>Date=9/9/20<br>Cases=%{y}<extra></extra>\", \"ids\": [\"US\"], \"legendgroup\": \"US\", \"marker\": {\"color\": \"#00cc96\"}, \"name\": \"US\", \"offsetgroup\": \"US\", \"orientation\": \"v\", \"showlegend\": true, \"textposition\": \"auto\", \"x\": [\"US\"], \"xaxis\": \"x\", \"y\": [190999], \"yaxis\": \"y\", \"type\": \"bar\"}], \"name\": \"9/9/20\"}, {\"data\": [{\"alignmentgroup\": \"True\", \"hovertemplate\": \"Country=%{x}<br>Date=9/13/20<br>Cases=%{y}<extra></extra>\", \"ids\": [\"Brazil\"], \"legendgroup\": \"Brazil\", \"marker\": {\"color\": \"#636efa\"}, \"name\": \"Brazil\", \"offsetgroup\": \"Brazil\", \"orientation\": \"v\", \"showlegend\": true, \"textposition\": \"auto\", \"x\": [\"Brazil\"], \"xaxis\": \"x\", \"y\": [131625], \"yaxis\": \"y\", \"type\": \"bar\"}, {\"alignmentgroup\": \"True\", \"hovertemplate\": \"Country=%{x}<br>Date=9/13/20<br>Cases=%{y}<extra></extra>\", \"ids\": [\"India\"], \"legendgroup\": \"India\", \"marker\": {\"color\": \"#EF553B\"}, \"name\": \"India\", \"offsetgroup\": \"India\", \"orientation\": \"v\", \"showlegend\": true, \"textposition\": \"auto\", \"x\": [\"India\"], \"xaxis\": \"x\", \"y\": [79722], \"yaxis\": \"y\", \"type\": \"bar\"}, {\"alignmentgroup\": \"True\", \"hovertemplate\": \"Country=%{x}<br>Date=9/13/20<br>Cases=%{y}<extra></extra>\", \"ids\": [\"US\"], \"legendgroup\": \"US\", \"marker\": {\"color\": \"#00cc96\"}, \"name\": \"US\", \"offsetgroup\": \"US\", \"orientation\": \"v\", \"showlegend\": true, \"textposition\": \"auto\", \"x\": [\"US\"], \"xaxis\": \"x\", \"y\": [194224], \"yaxis\": \"y\", \"type\": \"bar\"}], \"name\": \"9/13/20\"}, {\"data\": [{\"alignmentgroup\": \"True\", \"hovertemplate\": \"Country=%{x}<br>Date=9/18/20<br>Cases=%{y}<extra></extra>\", \"ids\": [\"Brazil\"], \"legendgroup\": \"Brazil\", \"marker\": {\"color\": \"#636efa\"}, \"name\": \"Brazil\", \"offsetgroup\": \"Brazil\", \"orientation\": \"v\", \"showlegend\": true, \"textposition\": \"auto\", \"x\": [\"Brazil\"], \"xaxis\": \"x\", \"y\": [135793], \"yaxis\": \"y\", \"type\": \"bar\"}, {\"alignmentgroup\": \"True\", \"hovertemplate\": \"Country=%{x}<br>Date=9/18/20<br>Cases=%{y}<extra></extra>\", \"ids\": [\"India\"], \"legendgroup\": \"India\", \"marker\": {\"color\": \"#EF553B\"}, \"name\": \"India\", \"offsetgroup\": \"India\", \"orientation\": \"v\", \"showlegend\": true, \"textposition\": \"auto\", \"x\": [\"India\"], \"xaxis\": \"x\", \"y\": [85619], \"yaxis\": \"y\", \"type\": \"bar\"}, {\"alignmentgroup\": \"True\", \"hovertemplate\": \"Country=%{x}<br>Date=9/18/20<br>Cases=%{y}<extra></extra>\", \"ids\": [\"US\"], \"legendgroup\": \"US\", \"marker\": {\"color\": \"#00cc96\"}, \"name\": \"US\", \"offsetgroup\": \"US\", \"orientation\": \"v\", \"showlegend\": true, \"textposition\": \"auto\", \"x\": [\"US\"], \"xaxis\": \"x\", \"y\": [198700], \"yaxis\": \"y\", \"type\": \"bar\"}], \"name\": \"9/18/20\"}, {\"data\": [{\"alignmentgroup\": \"True\", \"hovertemplate\": \"Country=%{x}<br>Date=9/22/20<br>Cases=%{y}<extra></extra>\", \"ids\": [\"Brazil\"], \"legendgroup\": \"Brazil\", \"marker\": {\"color\": \"#636efa\"}, \"name\": \"Brazil\", \"offsetgroup\": \"Brazil\", \"orientation\": \"v\", \"showlegend\": true, \"textposition\": \"auto\", \"x\": [\"Brazil\"], \"xaxis\": \"x\", \"y\": [138105], \"yaxis\": \"y\", \"type\": \"bar\"}, {\"alignmentgroup\": \"True\", \"hovertemplate\": \"Country=%{x}<br>Date=9/22/20<br>Cases=%{y}<extra></extra>\", \"ids\": [\"India\"], \"legendgroup\": \"India\", \"marker\": {\"color\": \"#EF553B\"}, \"name\": \"India\", \"offsetgroup\": \"India\", \"orientation\": \"v\", \"showlegend\": true, \"textposition\": \"auto\", \"x\": [\"India\"], \"xaxis\": \"x\", \"y\": [90020], \"yaxis\": \"y\", \"type\": \"bar\"}, {\"alignmentgroup\": \"True\", \"hovertemplate\": \"Country=%{x}<br>Date=9/22/20<br>Cases=%{y}<extra></extra>\", \"ids\": [\"US\"], \"legendgroup\": \"US\", \"marker\": {\"color\": \"#00cc96\"}, \"name\": \"US\", \"offsetgroup\": \"US\", \"orientation\": \"v\", \"showlegend\": true, \"textposition\": \"auto\", \"x\": [\"US\"], \"xaxis\": \"x\", \"y\": [201095], \"yaxis\": \"y\", \"type\": \"bar\"}], \"name\": \"9/22/20\"}, {\"data\": [{\"alignmentgroup\": \"True\", \"hovertemplate\": \"Country=%{x}<br>Date=9/27/20<br>Cases=%{y}<extra></extra>\", \"ids\": [\"Brazil\"], \"legendgroup\": \"Brazil\", \"marker\": {\"color\": \"#636efa\"}, \"name\": \"Brazil\", \"offsetgroup\": \"Brazil\", \"orientation\": \"v\", \"showlegend\": true, \"textposition\": \"auto\", \"x\": [\"Brazil\"], \"xaxis\": \"x\", \"y\": [141741], \"yaxis\": \"y\", \"type\": \"bar\"}, {\"alignmentgroup\": \"True\", \"hovertemplate\": \"Country=%{x}<br>Date=9/27/20<br>Cases=%{y}<extra></extra>\", \"ids\": [\"India\"], \"legendgroup\": \"India\", \"marker\": {\"color\": \"#EF553B\"}, \"name\": \"India\", \"offsetgroup\": \"India\", \"orientation\": \"v\", \"showlegend\": true, \"textposition\": \"auto\", \"x\": [\"India\"], \"xaxis\": \"x\", \"y\": [95542], \"yaxis\": \"y\", \"type\": \"bar\"}, {\"alignmentgroup\": \"True\", \"hovertemplate\": \"Country=%{x}<br>Date=9/27/20<br>Cases=%{y}<extra></extra>\", \"ids\": [\"US\"], \"legendgroup\": \"US\", \"marker\": {\"color\": \"#00cc96\"}, \"name\": \"US\", \"offsetgroup\": \"US\", \"orientation\": \"v\", \"showlegend\": true, \"textposition\": \"auto\", \"x\": [\"US\"], \"xaxis\": \"x\", \"y\": [205069], \"yaxis\": \"y\", \"type\": \"bar\"}], \"name\": \"9/27/20\"}, {\"data\": [{\"alignmentgroup\": \"True\", \"hovertemplate\": \"Country=%{x}<br>Date=10/2/20<br>Cases=%{y}<extra></extra>\", \"ids\": [\"Brazil\"], \"legendgroup\": \"Brazil\", \"marker\": {\"color\": \"#636efa\"}, \"name\": \"Brazil\", \"offsetgroup\": \"Brazil\", \"orientation\": \"v\", \"showlegend\": true, \"textposition\": \"auto\", \"x\": [\"Brazil\"], \"xaxis\": \"x\", \"y\": [144680], \"yaxis\": \"y\", \"type\": \"bar\"}, {\"alignmentgroup\": \"True\", \"hovertemplate\": \"Country=%{x}<br>Date=10/2/20<br>Cases=%{y}<extra></extra>\", \"ids\": [\"India\"], \"legendgroup\": \"India\", \"marker\": {\"color\": \"#EF553B\"}, \"name\": \"India\", \"offsetgroup\": \"India\", \"orientation\": \"v\", \"showlegend\": true, \"textposition\": \"auto\", \"x\": [\"India\"], \"xaxis\": \"x\", \"y\": [100842], \"yaxis\": \"y\", \"type\": \"bar\"}, {\"alignmentgroup\": \"True\", \"hovertemplate\": \"Country=%{x}<br>Date=10/2/20<br>Cases=%{y}<extra></extra>\", \"ids\": [\"US\"], \"legendgroup\": \"US\", \"marker\": {\"color\": \"#00cc96\"}, \"name\": \"US\", \"offsetgroup\": \"US\", \"orientation\": \"v\", \"showlegend\": true, \"textposition\": \"auto\", \"x\": [\"US\"], \"xaxis\": \"x\", \"y\": [209008], \"yaxis\": \"y\", \"type\": \"bar\"}], \"name\": \"10/2/20\"}, {\"data\": [{\"alignmentgroup\": \"True\", \"hovertemplate\": \"Country=%{x}<br>Date=10/5/20<br>Cases=%{y}<extra></extra>\", \"ids\": [\"Brazil\"], \"legendgroup\": \"Brazil\", \"marker\": {\"color\": \"#636efa\"}, \"name\": \"Brazil\", \"offsetgroup\": \"Brazil\", \"orientation\": \"v\", \"showlegend\": true, \"textposition\": \"auto\", \"x\": [\"Brazil\"], \"xaxis\": \"x\", \"y\": [146675], \"yaxis\": \"y\", \"type\": \"bar\"}, {\"alignmentgroup\": \"True\", \"hovertemplate\": \"Country=%{x}<br>Date=10/5/20<br>Cases=%{y}<extra></extra>\", \"ids\": [\"India\"], \"legendgroup\": \"India\", \"marker\": {\"color\": \"#EF553B\"}, \"name\": \"India\", \"offsetgroup\": \"India\", \"orientation\": \"v\", \"showlegend\": true, \"textposition\": \"auto\", \"x\": [\"India\"], \"xaxis\": \"x\", \"y\": [103569], \"yaxis\": \"y\", \"type\": \"bar\"}, {\"alignmentgroup\": \"True\", \"hovertemplate\": \"Country=%{x}<br>Date=10/5/20<br>Cases=%{y}<extra></extra>\", \"ids\": [\"US\"], \"legendgroup\": \"US\", \"marker\": {\"color\": \"#00cc96\"}, \"name\": \"US\", \"offsetgroup\": \"US\", \"orientation\": \"v\", \"showlegend\": true, \"textposition\": \"auto\", \"x\": [\"US\"], \"xaxis\": \"x\", \"y\": [210506], \"yaxis\": \"y\", \"type\": \"bar\"}], \"name\": \"10/5/20\"}, {\"data\": [{\"alignmentgroup\": \"True\", \"hovertemplate\": \"Country=%{x}<br>Date=10/10/20<br>Cases=%{y}<extra></extra>\", \"ids\": [\"Brazil\"], \"legendgroup\": \"Brazil\", \"marker\": {\"color\": \"#636efa\"}, \"name\": \"Brazil\", \"offsetgroup\": \"Brazil\", \"orientation\": \"v\", \"showlegend\": true, \"textposition\": \"auto\", \"x\": [\"Brazil\"], \"xaxis\": \"x\", \"y\": [150198], \"yaxis\": \"y\", \"type\": \"bar\"}, {\"alignmentgroup\": \"True\", \"hovertemplate\": \"Country=%{x}<br>Date=10/10/20<br>Cases=%{y}<extra></extra>\", \"ids\": [\"India\"], \"legendgroup\": \"India\", \"marker\": {\"color\": \"#EF553B\"}, \"name\": \"India\", \"offsetgroup\": \"India\", \"orientation\": \"v\", \"showlegend\": true, \"textposition\": \"auto\", \"x\": [\"India\"], \"xaxis\": \"x\", \"y\": [108334], \"yaxis\": \"y\", \"type\": \"bar\"}, {\"alignmentgroup\": \"True\", \"hovertemplate\": \"Country=%{x}<br>Date=10/10/20<br>Cases=%{y}<extra></extra>\", \"ids\": [\"US\"], \"legendgroup\": \"US\", \"marker\": {\"color\": \"#00cc96\"}, \"name\": \"US\", \"offsetgroup\": \"US\", \"orientation\": \"v\", \"showlegend\": true, \"textposition\": \"auto\", \"x\": [\"US\"], \"xaxis\": \"x\", \"y\": [214695], \"yaxis\": \"y\", \"type\": \"bar\"}], \"name\": \"10/10/20\"}, {\"data\": [{\"alignmentgroup\": \"True\", \"hovertemplate\": \"Country=%{x}<br>Date=10/15/20<br>Cases=%{y}<extra></extra>\", \"ids\": [\"Brazil\"], \"legendgroup\": \"Brazil\", \"marker\": {\"color\": \"#636efa\"}, \"name\": \"Brazil\", \"offsetgroup\": \"Brazil\", \"orientation\": \"v\", \"showlegend\": true, \"textposition\": \"auto\", \"x\": [\"Brazil\"], \"xaxis\": \"x\", \"y\": [152460], \"yaxis\": \"y\", \"type\": \"bar\"}, {\"alignmentgroup\": \"True\", \"hovertemplate\": \"Country=%{x}<br>Date=10/15/20<br>Cases=%{y}<extra></extra>\", \"ids\": [\"India\"], \"legendgroup\": \"India\", \"marker\": {\"color\": \"#EF553B\"}, \"name\": \"India\", \"offsetgroup\": \"India\", \"orientation\": \"v\", \"showlegend\": true, \"textposition\": \"auto\", \"x\": [\"India\"], \"xaxis\": \"x\", \"y\": [112161], \"yaxis\": \"y\", \"type\": \"bar\"}, {\"alignmentgroup\": \"True\", \"hovertemplate\": \"Country=%{x}<br>Date=10/15/20<br>Cases=%{y}<extra></extra>\", \"ids\": [\"US\"], \"legendgroup\": \"US\", \"marker\": {\"color\": \"#00cc96\"}, \"name\": \"US\", \"offsetgroup\": \"US\", \"orientation\": \"v\", \"showlegend\": true, \"textposition\": \"auto\", \"x\": [\"US\"], \"xaxis\": \"x\", \"y\": [218060], \"yaxis\": \"y\", \"type\": \"bar\"}], \"name\": \"10/15/20\"}, {\"data\": [{\"alignmentgroup\": \"True\", \"hovertemplate\": \"Country=%{x}<br>Date=10/24/20<br>Cases=%{y}<extra></extra>\", \"ids\": [\"Brazil\"], \"legendgroup\": \"Brazil\", \"marker\": {\"color\": \"#636efa\"}, \"name\": \"Brazil\", \"offsetgroup\": \"Brazil\", \"orientation\": \"v\", \"showlegend\": true, \"textposition\": \"auto\", \"x\": [\"Brazil\"], \"xaxis\": \"x\", \"y\": [156903], \"yaxis\": \"y\", \"type\": \"bar\"}, {\"alignmentgroup\": \"True\", \"hovertemplate\": \"Country=%{x}<br>Date=10/24/20<br>Cases=%{y}<extra></extra>\", \"ids\": [\"India\"], \"legendgroup\": \"India\", \"marker\": {\"color\": \"#EF553B\"}, \"name\": \"India\", \"offsetgroup\": \"India\", \"orientation\": \"v\", \"showlegend\": true, \"textposition\": \"auto\", \"x\": [\"India\"], \"xaxis\": \"x\", \"y\": [118534], \"yaxis\": \"y\", \"type\": \"bar\"}, {\"alignmentgroup\": \"True\", \"hovertemplate\": \"Country=%{x}<br>Date=10/24/20<br>Cases=%{y}<extra></extra>\", \"ids\": [\"US\"], \"legendgroup\": \"US\", \"marker\": {\"color\": \"#00cc96\"}, \"name\": \"US\", \"offsetgroup\": \"US\", \"orientation\": \"v\", \"showlegend\": true, \"textposition\": \"auto\", \"x\": [\"US\"], \"xaxis\": \"x\", \"y\": [225468], \"yaxis\": \"y\", \"type\": \"bar\"}], \"name\": \"10/24/20\"}, {\"data\": [{\"alignmentgroup\": \"True\", \"hovertemplate\": \"Country=%{x}<br>Date=10/29/20<br>Cases=%{y}<extra></extra>\", \"ids\": [\"Brazil\"], \"legendgroup\": \"Brazil\", \"marker\": {\"color\": \"#636efa\"}, \"name\": \"Brazil\", \"offsetgroup\": \"Brazil\", \"orientation\": \"v\", \"showlegend\": true, \"textposition\": \"auto\", \"x\": [\"Brazil\"], \"xaxis\": \"x\", \"y\": [158969], \"yaxis\": \"y\", \"type\": \"bar\"}, {\"alignmentgroup\": \"True\", \"hovertemplate\": \"Country=%{x}<br>Date=10/29/20<br>Cases=%{y}<extra></extra>\", \"ids\": [\"India\"], \"legendgroup\": \"India\", \"marker\": {\"color\": \"#EF553B\"}, \"name\": \"India\", \"offsetgroup\": \"India\", \"orientation\": \"v\", \"showlegend\": true, \"textposition\": \"auto\", \"x\": [\"India\"], \"xaxis\": \"x\", \"y\": [121090], \"yaxis\": \"y\", \"type\": \"bar\"}, {\"alignmentgroup\": \"True\", \"hovertemplate\": \"Country=%{x}<br>Date=10/29/20<br>Cases=%{y}<extra></extra>\", \"ids\": [\"US\"], \"legendgroup\": \"US\", \"marker\": {\"color\": \"#00cc96\"}, \"name\": \"US\", \"offsetgroup\": \"US\", \"orientation\": \"v\", \"showlegend\": true, \"textposition\": \"auto\", \"x\": [\"US\"], \"xaxis\": \"x\", \"y\": [229277], \"yaxis\": \"y\", \"type\": \"bar\"}], \"name\": \"10/29/20\"}, {\"data\": [{\"alignmentgroup\": \"True\", \"hovertemplate\": \"Country=%{x}<br>Date=11/1/20<br>Cases=%{y}<extra></extra>\", \"ids\": [\"Brazil\"], \"legendgroup\": \"Brazil\", \"marker\": {\"color\": \"#636efa\"}, \"name\": \"Brazil\", \"offsetgroup\": \"Brazil\", \"orientation\": \"v\", \"showlegend\": true, \"textposition\": \"auto\", \"x\": [\"Brazil\"], \"xaxis\": \"x\", \"y\": [160074], \"yaxis\": \"y\", \"type\": \"bar\"}, {\"alignmentgroup\": \"True\", \"hovertemplate\": \"Country=%{x}<br>Date=11/1/20<br>Cases=%{y}<extra></extra>\", \"ids\": [\"India\"], \"legendgroup\": \"India\", \"marker\": {\"color\": \"#EF553B\"}, \"name\": \"India\", \"offsetgroup\": \"India\", \"orientation\": \"v\", \"showlegend\": true, \"textposition\": \"auto\", \"x\": [\"India\"], \"xaxis\": \"x\", \"y\": [122607], \"yaxis\": \"y\", \"type\": \"bar\"}, {\"alignmentgroup\": \"True\", \"hovertemplate\": \"Country=%{x}<br>Date=11/1/20<br>Cases=%{y}<extra></extra>\", \"ids\": [\"US\"], \"legendgroup\": \"US\", \"marker\": {\"color\": \"#00cc96\"}, \"name\": \"US\", \"offsetgroup\": \"US\", \"orientation\": \"v\", \"showlegend\": true, \"textposition\": \"auto\", \"x\": [\"US\"], \"xaxis\": \"x\", \"y\": [231623], \"yaxis\": \"y\", \"type\": \"bar\"}], \"name\": \"11/1/20\"}, {\"data\": [{\"alignmentgroup\": \"True\", \"hovertemplate\": \"Country=%{x}<br>Date=11/5/20<br>Cases=%{y}<extra></extra>\", \"ids\": [\"Brazil\"], \"legendgroup\": \"Brazil\", \"marker\": {\"color\": \"#636efa\"}, \"name\": \"Brazil\", \"offsetgroup\": \"Brazil\", \"orientation\": \"v\", \"showlegend\": true, \"textposition\": \"auto\", \"x\": [\"Brazil\"], \"xaxis\": \"x\", \"y\": [161106], \"yaxis\": \"y\", \"type\": \"bar\"}, {\"alignmentgroup\": \"True\", \"hovertemplate\": \"Country=%{x}<br>Date=11/5/20<br>Cases=%{y}<extra></extra>\", \"ids\": [\"India\"], \"legendgroup\": \"India\", \"marker\": {\"color\": \"#EF553B\"}, \"name\": \"India\", \"offsetgroup\": \"India\", \"orientation\": \"v\", \"showlegend\": true, \"textposition\": \"auto\", \"x\": [\"India\"], \"xaxis\": \"x\", \"y\": [124985], \"yaxis\": \"y\", \"type\": \"bar\"}, {\"alignmentgroup\": \"True\", \"hovertemplate\": \"Country=%{x}<br>Date=11/5/20<br>Cases=%{y}<extra></extra>\", \"ids\": [\"US\"], \"legendgroup\": \"US\", \"marker\": {\"color\": \"#00cc96\"}, \"name\": \"US\", \"offsetgroup\": \"US\", \"orientation\": \"v\", \"showlegend\": true, \"textposition\": \"auto\", \"x\": [\"US\"], \"xaxis\": \"x\", \"y\": [235956], \"yaxis\": \"y\", \"type\": \"bar\"}], \"name\": \"11/5/20\"}, {\"data\": [{\"alignmentgroup\": \"True\", \"hovertemplate\": \"Country=%{x}<br>Date=11/14/20<br>Cases=%{y}<extra></extra>\", \"ids\": [\"Brazil\"], \"legendgroup\": \"Brazil\", \"marker\": {\"color\": \"#636efa\"}, \"name\": \"Brazil\", \"offsetgroup\": \"Brazil\", \"orientation\": \"v\", \"showlegend\": true, \"textposition\": \"auto\", \"x\": [\"Brazil\"], \"xaxis\": \"x\", \"y\": [165658], \"yaxis\": \"y\", \"type\": \"bar\"}, {\"alignmentgroup\": \"True\", \"hovertemplate\": \"Country=%{x}<br>Date=11/14/20<br>Cases=%{y}<extra></extra>\", \"ids\": [\"India\"], \"legendgroup\": \"India\", \"marker\": {\"color\": \"#EF553B\"}, \"name\": \"India\", \"offsetgroup\": \"India\", \"orientation\": \"v\", \"showlegend\": true, \"textposition\": \"auto\", \"x\": [\"India\"], \"xaxis\": \"x\", \"y\": [129635], \"yaxis\": \"y\", \"type\": \"bar\"}, {\"alignmentgroup\": \"True\", \"hovertemplate\": \"Country=%{x}<br>Date=11/14/20<br>Cases=%{y}<extra></extra>\", \"ids\": [\"US\"], \"legendgroup\": \"US\", \"marker\": {\"color\": \"#00cc96\"}, \"name\": \"US\", \"offsetgroup\": \"US\", \"orientation\": \"v\", \"showlegend\": true, \"textposition\": \"auto\", \"x\": [\"US\"], \"xaxis\": \"x\", \"y\": [245776], \"yaxis\": \"y\", \"type\": \"bar\"}], \"name\": \"11/14/20\"}, {\"data\": [{\"alignmentgroup\": \"True\", \"hovertemplate\": \"Country=%{x}<br>Date=11/19/20<br>Cases=%{y}<extra></extra>\", \"ids\": [\"Brazil\"], \"legendgroup\": \"Brazil\", \"marker\": {\"color\": \"#636efa\"}, \"name\": \"Brazil\", \"offsetgroup\": \"Brazil\", \"orientation\": \"v\", \"showlegend\": true, \"textposition\": \"auto\", \"x\": [\"Brazil\"], \"xaxis\": \"x\", \"y\": [168061], \"yaxis\": \"y\", \"type\": \"bar\"}, {\"alignmentgroup\": \"True\", \"hovertemplate\": \"Country=%{x}<br>Date=11/19/20<br>Cases=%{y}<extra></extra>\", \"ids\": [\"India\"], \"legendgroup\": \"India\", \"marker\": {\"color\": \"#EF553B\"}, \"name\": \"India\", \"offsetgroup\": \"India\", \"orientation\": \"v\", \"showlegend\": true, \"textposition\": \"auto\", \"x\": [\"India\"], \"xaxis\": \"x\", \"y\": [132162], \"yaxis\": \"y\", \"type\": \"bar\"}, {\"alignmentgroup\": \"True\", \"hovertemplate\": \"Country=%{x}<br>Date=11/19/20<br>Cases=%{y}<extra></extra>\", \"ids\": [\"US\"], \"legendgroup\": \"US\", \"marker\": {\"color\": \"#00cc96\"}, \"name\": \"US\", \"offsetgroup\": \"US\", \"orientation\": \"v\", \"showlegend\": true, \"textposition\": \"auto\", \"x\": [\"US\"], \"xaxis\": \"x\", \"y\": [252694], \"yaxis\": \"y\", \"type\": \"bar\"}], \"name\": \"11/19/20\"}, {\"data\": [{\"alignmentgroup\": \"True\", \"hovertemplate\": \"Country=%{x}<br>Date=11/23/20<br>Cases=%{y}<extra></extra>\", \"ids\": [\"Brazil\"], \"legendgroup\": \"Brazil\", \"marker\": {\"color\": \"#636efa\"}, \"name\": \"Brazil\", \"offsetgroup\": \"Brazil\", \"orientation\": \"v\", \"showlegend\": true, \"textposition\": \"auto\", \"x\": [\"Brazil\"], \"xaxis\": \"x\", \"y\": [169485], \"yaxis\": \"y\", \"type\": \"bar\"}, {\"alignmentgroup\": \"True\", \"hovertemplate\": \"Country=%{x}<br>Date=11/23/20<br>Cases=%{y}<extra></extra>\", \"ids\": [\"India\"], \"legendgroup\": \"India\", \"marker\": {\"color\": \"#EF553B\"}, \"name\": \"India\", \"offsetgroup\": \"India\", \"orientation\": \"v\", \"showlegend\": true, \"textposition\": \"auto\", \"x\": [\"India\"], \"xaxis\": \"x\", \"y\": [134218], \"yaxis\": \"y\", \"type\": \"bar\"}, {\"alignmentgroup\": \"True\", \"hovertemplate\": \"Country=%{x}<br>Date=11/23/20<br>Cases=%{y}<extra></extra>\", \"ids\": [\"US\"], \"legendgroup\": \"US\", \"marker\": {\"color\": \"#00cc96\"}, \"name\": \"US\", \"offsetgroup\": \"US\", \"orientation\": \"v\", \"showlegend\": true, \"textposition\": \"auto\", \"x\": [\"US\"], \"xaxis\": \"x\", \"y\": [257874], \"yaxis\": \"y\", \"type\": \"bar\"}], \"name\": \"11/23/20\"}, {\"data\": [{\"alignmentgroup\": \"True\", \"hovertemplate\": \"Country=%{x}<br>Date=11/28/20<br>Cases=%{y}<extra></extra>\", \"ids\": [\"Brazil\"], \"legendgroup\": \"Brazil\", \"marker\": {\"color\": \"#636efa\"}, \"name\": \"Brazil\", \"offsetgroup\": \"Brazil\", \"orientation\": \"v\", \"showlegend\": true, \"textposition\": \"auto\", \"x\": [\"Brazil\"], \"xaxis\": \"x\", \"y\": [172561], \"yaxis\": \"y\", \"type\": \"bar\"}, {\"alignmentgroup\": \"True\", \"hovertemplate\": \"Country=%{x}<br>Date=11/28/20<br>Cases=%{y}<extra></extra>\", \"ids\": [\"India\"], \"legendgroup\": \"India\", \"marker\": {\"color\": \"#EF553B\"}, \"name\": \"India\", \"offsetgroup\": \"India\", \"orientation\": \"v\", \"showlegend\": true, \"textposition\": \"auto\", \"x\": [\"India\"], \"xaxis\": \"x\", \"y\": [136696], \"yaxis\": \"y\", \"type\": \"bar\"}, {\"alignmentgroup\": \"True\", \"hovertemplate\": \"Country=%{x}<br>Date=11/28/20<br>Cases=%{y}<extra></extra>\", \"ids\": [\"US\"], \"legendgroup\": \"US\", \"marker\": {\"color\": \"#00cc96\"}, \"name\": \"US\", \"offsetgroup\": \"US\", \"orientation\": \"v\", \"showlegend\": true, \"textposition\": \"auto\", \"x\": [\"US\"], \"xaxis\": \"x\", \"y\": [266170], \"yaxis\": \"y\", \"type\": \"bar\"}], \"name\": \"11/28/20\"}, {\"data\": [{\"alignmentgroup\": \"True\", \"hovertemplate\": \"Country=%{x}<br>Date=12/1/20<br>Cases=%{y}<extra></extra>\", \"ids\": [\"Brazil\"], \"legendgroup\": \"Brazil\", \"marker\": {\"color\": \"#636efa\"}, \"name\": \"Brazil\", \"offsetgroup\": \"Brazil\", \"orientation\": \"v\", \"showlegend\": true, \"textposition\": \"auto\", \"x\": [\"Brazil\"], \"xaxis\": \"x\", \"y\": [173817], \"yaxis\": \"y\", \"type\": \"bar\"}, {\"alignmentgroup\": \"True\", \"hovertemplate\": \"Country=%{x}<br>Date=12/1/20<br>Cases=%{y}<extra></extra>\", \"ids\": [\"India\"], \"legendgroup\": \"India\", \"marker\": {\"color\": \"#EF553B\"}, \"name\": \"India\", \"offsetgroup\": \"India\", \"orientation\": \"v\", \"showlegend\": true, \"textposition\": \"auto\", \"x\": [\"India\"], \"xaxis\": \"x\", \"y\": [138122], \"yaxis\": \"y\", \"type\": \"bar\"}, {\"alignmentgroup\": \"True\", \"hovertemplate\": \"Country=%{x}<br>Date=12/1/20<br>Cases=%{y}<extra></extra>\", \"ids\": [\"US\"], \"legendgroup\": \"US\", \"marker\": {\"color\": \"#00cc96\"}, \"name\": \"US\", \"offsetgroup\": \"US\", \"orientation\": \"v\", \"showlegend\": true, \"textposition\": \"auto\", \"x\": [\"US\"], \"xaxis\": \"x\", \"y\": [270753], \"yaxis\": \"y\", \"type\": \"bar\"}], \"name\": \"12/1/20\"}, {\"data\": [{\"alignmentgroup\": \"True\", \"hovertemplate\": \"Country=%{x}<br>Date=12/7/20<br>Cases=%{y}<extra></extra>\", \"ids\": [\"Brazil\"], \"legendgroup\": \"Brazil\", \"marker\": {\"color\": \"#636efa\"}, \"name\": \"Brazil\", \"offsetgroup\": \"Brazil\", \"orientation\": \"v\", \"showlegend\": true, \"textposition\": \"auto\", \"x\": [\"Brazil\"], \"xaxis\": \"x\", \"y\": [177317], \"yaxis\": \"y\", \"type\": \"bar\"}, {\"alignmentgroup\": \"True\", \"hovertemplate\": \"Country=%{x}<br>Date=12/7/20<br>Cases=%{y}<extra></extra>\", \"ids\": [\"India\"], \"legendgroup\": \"India\", \"marker\": {\"color\": \"#EF553B\"}, \"name\": \"India\", \"offsetgroup\": \"India\", \"orientation\": \"v\", \"showlegend\": true, \"textposition\": \"auto\", \"x\": [\"India\"], \"xaxis\": \"x\", \"y\": [140958], \"yaxis\": \"y\", \"type\": \"bar\"}, {\"alignmentgroup\": \"True\", \"hovertemplate\": \"Country=%{x}<br>Date=12/7/20<br>Cases=%{y}<extra></extra>\", \"ids\": [\"US\"], \"legendgroup\": \"US\", \"marker\": {\"color\": \"#00cc96\"}, \"name\": \"US\", \"offsetgroup\": \"US\", \"orientation\": \"v\", \"showlegend\": true, \"textposition\": \"auto\", \"x\": [\"US\"], \"xaxis\": \"x\", \"y\": [283763], \"yaxis\": \"y\", \"type\": \"bar\"}], \"name\": \"12/7/20\"}, {\"data\": [{\"alignmentgroup\": \"True\", \"hovertemplate\": \"Country=%{x}<br>Date=12/14/20<br>Cases=%{y}<extra></extra>\", \"ids\": [\"Brazil\"], \"legendgroup\": \"Brazil\", \"marker\": {\"color\": \"#636efa\"}, \"name\": \"Brazil\", \"offsetgroup\": \"Brazil\", \"orientation\": \"v\", \"showlegend\": true, \"textposition\": \"auto\", \"x\": [\"Brazil\"], \"xaxis\": \"x\", \"y\": [181835], \"yaxis\": \"y\", \"type\": \"bar\"}, {\"alignmentgroup\": \"True\", \"hovertemplate\": \"Country=%{x}<br>Date=12/14/20<br>Cases=%{y}<extra></extra>\", \"ids\": [\"India\"], \"legendgroup\": \"India\", \"marker\": {\"color\": \"#EF553B\"}, \"name\": \"India\", \"offsetgroup\": \"India\", \"orientation\": \"v\", \"showlegend\": true, \"textposition\": \"auto\", \"x\": [\"India\"], \"xaxis\": \"x\", \"y\": [143709], \"yaxis\": \"y\", \"type\": \"bar\"}, {\"alignmentgroup\": \"True\", \"hovertemplate\": \"Country=%{x}<br>Date=12/14/20<br>Cases=%{y}<extra></extra>\", \"ids\": [\"US\"], \"legendgroup\": \"US\", \"marker\": {\"color\": \"#00cc96\"}, \"name\": \"US\", \"offsetgroup\": \"US\", \"orientation\": \"v\", \"showlegend\": true, \"textposition\": \"auto\", \"x\": [\"US\"], \"xaxis\": \"x\", \"y\": [300777], \"yaxis\": \"y\", \"type\": \"bar\"}], \"name\": \"12/14/20\"}, {\"data\": [{\"alignmentgroup\": \"True\", \"hovertemplate\": \"Country=%{x}<br>Date=12/19/20<br>Cases=%{y}<extra></extra>\", \"ids\": [\"Brazil\"], \"legendgroup\": \"Brazil\", \"marker\": {\"color\": \"#636efa\"}, \"name\": \"Brazil\", \"offsetgroup\": \"Brazil\", \"orientation\": \"v\", \"showlegend\": true, \"textposition\": \"auto\", \"x\": [\"Brazil\"], \"xaxis\": \"x\", \"y\": [186356], \"yaxis\": \"y\", \"type\": \"bar\"}, {\"alignmentgroup\": \"True\", \"hovertemplate\": \"Country=%{x}<br>Date=12/19/20<br>Cases=%{y}<extra></extra>\", \"ids\": [\"India\"], \"legendgroup\": \"India\", \"marker\": {\"color\": \"#EF553B\"}, \"name\": \"India\", \"offsetgroup\": \"India\", \"orientation\": \"v\", \"showlegend\": true, \"textposition\": \"auto\", \"x\": [\"India\"], \"xaxis\": \"x\", \"y\": [145477], \"yaxis\": \"y\", \"type\": \"bar\"}, {\"alignmentgroup\": \"True\", \"hovertemplate\": \"Country=%{x}<br>Date=12/19/20<br>Cases=%{y}<extra></extra>\", \"ids\": [\"US\"], \"legendgroup\": \"US\", \"marker\": {\"color\": \"#00cc96\"}, \"name\": \"US\", \"offsetgroup\": \"US\", \"orientation\": \"v\", \"showlegend\": true, \"textposition\": \"auto\", \"x\": [\"US\"], \"xaxis\": \"x\", \"y\": [316159], \"yaxis\": \"y\", \"type\": \"bar\"}], \"name\": \"12/19/20\"}, {\"data\": [{\"alignmentgroup\": \"True\", \"hovertemplate\": \"Country=%{x}<br>Date=12/23/20<br>Cases=%{y}<extra></extra>\", \"ids\": [\"Brazil\"], \"legendgroup\": \"Brazil\", \"marker\": {\"color\": \"#636efa\"}, \"name\": \"Brazil\", \"offsetgroup\": \"Brazil\", \"orientation\": \"v\", \"showlegend\": true, \"textposition\": \"auto\", \"x\": [\"Brazil\"], \"xaxis\": \"x\", \"y\": [189220], \"yaxis\": \"y\", \"type\": \"bar\"}, {\"alignmentgroup\": \"True\", \"hovertemplate\": \"Country=%{x}<br>Date=12/23/20<br>Cases=%{y}<extra></extra>\", \"ids\": [\"India\"], \"legendgroup\": \"India\", \"marker\": {\"color\": \"#EF553B\"}, \"name\": \"India\", \"offsetgroup\": \"India\", \"orientation\": \"v\", \"showlegend\": true, \"textposition\": \"auto\", \"x\": [\"India\"], \"xaxis\": \"x\", \"y\": [146756], \"yaxis\": \"y\", \"type\": \"bar\"}, {\"alignmentgroup\": \"True\", \"hovertemplate\": \"Country=%{x}<br>Date=12/23/20<br>Cases=%{y}<extra></extra>\", \"ids\": [\"US\"], \"legendgroup\": \"US\", \"marker\": {\"color\": \"#00cc96\"}, \"name\": \"US\", \"offsetgroup\": \"US\", \"orientation\": \"v\", \"showlegend\": true, \"textposition\": \"auto\", \"x\": [\"US\"], \"xaxis\": \"x\", \"y\": [326124], \"yaxis\": \"y\", \"type\": \"bar\"}], \"name\": \"12/23/20\"}, {\"data\": [{\"alignmentgroup\": \"True\", \"hovertemplate\": \"Country=%{x}<br>Date=12/28/20<br>Cases=%{y}<extra></extra>\", \"ids\": [\"Brazil\"], \"legendgroup\": \"Brazil\", \"marker\": {\"color\": \"#636efa\"}, \"name\": \"Brazil\", \"offsetgroup\": \"Brazil\", \"orientation\": \"v\", \"showlegend\": true, \"textposition\": \"auto\", \"x\": [\"Brazil\"], \"xaxis\": \"x\", \"y\": [191570], \"yaxis\": \"y\", \"type\": \"bar\"}, {\"alignmentgroup\": \"True\", \"hovertemplate\": \"Country=%{x}<br>Date=12/28/20<br>Cases=%{y}<extra></extra>\", \"ids\": [\"India\"], \"legendgroup\": \"India\", \"marker\": {\"color\": \"#EF553B\"}, \"name\": \"India\", \"offsetgroup\": \"India\", \"orientation\": \"v\", \"showlegend\": true, \"textposition\": \"auto\", \"x\": [\"India\"], \"xaxis\": \"x\", \"y\": [148153], \"yaxis\": \"y\", \"type\": \"bar\"}, {\"alignmentgroup\": \"True\", \"hovertemplate\": \"Country=%{x}<br>Date=12/28/20<br>Cases=%{y}<extra></extra>\", \"ids\": [\"US\"], \"legendgroup\": \"US\", \"marker\": {\"color\": \"#00cc96\"}, \"name\": \"US\", \"offsetgroup\": \"US\", \"orientation\": \"v\", \"showlegend\": true, \"textposition\": \"auto\", \"x\": [\"US\"], \"xaxis\": \"x\", \"y\": [334836], \"yaxis\": \"y\", \"type\": \"bar\"}], \"name\": \"12/28/20\"}]);\n",
              "                        }).then(function(){\n",
              "                            \n",
              "var gd = document.getElementById('b2463648-ec98-4d34-be63-41e7e15a4d04');\n",
              "var x = new MutationObserver(function (mutations, observer) {{\n",
              "        var display = window.getComputedStyle(gd).display;\n",
              "        if (!display || display === 'none') {{\n",
              "            console.log([gd, 'removed!']);\n",
              "            Plotly.purge(gd);\n",
              "            observer.disconnect();\n",
              "        }}\n",
              "}});\n",
              "\n",
              "// Listen for the removal of the full notebook cells\n",
              "var notebookContainer = gd.closest('#notebook-container');\n",
              "if (notebookContainer) {{\n",
              "    x.observe(notebookContainer, {childList: true});\n",
              "}}\n",
              "\n",
              "// Listen for the clearing of the current output cell\n",
              "var outputEl = gd.closest('.output');\n",
              "if (outputEl) {{\n",
              "    x.observe(outputEl, {childList: true});\n",
              "}}\n",
              "\n",
              "                        })                };                            </script>        </div>\n",
              "</body>\n",
              "</html>"
            ]
          },
          "metadata": {
            "tags": []
          }
        }
      ]
    },
    {
      "cell_type": "markdown",
      "metadata": {
        "id": "WLlqkrFvPxT6"
      },
      "source": [
        "# Data Visualization - Chloropleths"
      ]
    },
    {
      "cell_type": "markdown",
      "metadata": {
        "id": "TYsLmQQBPxT6"
      },
      "source": [
        "## Code"
      ]
    },
    {
      "cell_type": "markdown",
      "metadata": {
        "id": "4rQs2VJ1PxT6"
      },
      "source": [
        "### Setting Credentials (Mapbox and Chart Studio)"
      ]
    },
    {
      "cell_type": "code",
      "metadata": {
        "colab": {
          "background_save": true
        },
        "id": "QU_oixh8PxT6"
      },
      "source": [
        "# Set your credentials befpre running this cell!!\n",
        "\n",
        "chart_studio.tools.set_credentials_file(username=\"MajimeArun\",\n",
        "                                         api_key=\"KK84E7jKFwJ23FiKj49y\")\n",
        "mapbox_access_token = \"pk.eyJ1IjoiY2hhcnRzdHVkaW91c2VyIiwiYSI6ImNrZXd3bTBoNTA4bnYyemw4N3l5aDN5azIifQ.7e-KoC1KMXr_EKbkahgAQQ\""
      ],
      "execution_count": null,
      "outputs": []
    },
    {
      "cell_type": "markdown",
      "metadata": {
        "id": "nwqYlBiVPxT6"
      },
      "source": [
        "### Formatting Data"
      ]
    },
    {
      "cell_type": "code",
      "metadata": {
        "colab": {
          "background_save": true
        },
        "id": "ro1BXPCRPxT7"
      },
      "source": [
        "def chainer(s):\n",
        "    return list(chain.from_iterable(s.str.split(\",\")))"
      ],
      "execution_count": null,
      "outputs": []
    },
    {
      "cell_type": "code",
      "metadata": {
        "colab": {
          "background_save": true
        },
        "id": "EBWNKgsNPxT7"
      },
      "source": [
        "def convert_df(df, cols):\n",
        "    df.dropna(inplace=True)\n",
        "    df.set_index(df[cols[0]].values)\n",
        "\n",
        "\n",
        "    L = []\n",
        "    for i in range(len(df)):\n",
        "        string = \"\"\n",
        "        for j in range(len(cols[1])):\n",
        "            if j != (len(cols[1]) - 1):\n",
        "                string = string + str(df[cols[1][j]].values[i]) + \",\"\n",
        "            else:\n",
        "                string = string + str(df[cols[1][j]].values[i])\n",
        "\n",
        "        L.append(string)\n",
        "\n",
        "    df[\"New\"] = L\n",
        "    lens = df[\"New\"].str.split(\",\").map(len)\n",
        "\n",
        "    df = pd.DataFrame(\n",
        "        {\n",
        "            \"Country\": np.repeat(df[cols[0]], lens),\n",
        "            \"Lat\": np.repeat(df[cols[-2]], lens),\n",
        "            \"Long_\": np.repeat(df[cols[-1]], lens),\n",
        "            \"Count\": chainer(df[\"New\"]),\n",
        "        }\n",
        "    )\n",
        "    df[\"Study\"] = [cols[1][i] for i in range(len(cols[1]))] * (\n",
        "        len(df.index) // len(cols[1])\n",
        "    )\n",
        "    return df"
      ],
      "execution_count": null,
      "outputs": []
    },
    {
      "cell_type": "markdown",
      "metadata": {
        "id": "iaViuMjHPxT7"
      },
      "source": [
        "### Creating Trace"
      ]
    },
    {
      "cell_type": "code",
      "metadata": {
        "colab": {
          "background_save": true
        },
        "id": "QfYfc0yDPxT7"
      },
      "source": [
        "def create_hovertemplate(df, study, country):\n",
        "    emoji = \"💀\" if study.lower() == \"deaths\" else \"😷\" if study.lower() == \"recovered\" else \"🏥\"\n",
        "    return f\"{emoji}: {format(int(float(df.loc[(df['Study'] == study) & (df['Country'] == country), 'Count'])),',d')}\""
      ],
      "execution_count": null,
      "outputs": []
    },
    {
      "cell_type": "code",
      "metadata": {
        "colab": {
          "background_save": true
        },
        "id": "8n2FWDGPPxT7"
      },
      "source": [
        "def create_data(df, study, color):\n",
        "    countries = list(df[\"Country\"].value_counts().index)\n",
        "    data = []\n",
        "    df.dropna(inplace=True)\n",
        "\n",
        "    for country in countries:\n",
        "        try:\n",
        "            event_data = dict(\n",
        "                lat=df.loc[(df[\"Study\"] == study) & (df[\"Country\"] == country), \"Lat\"],\n",
        "                lon=df.loc[\n",
        "                    (df[\"Study\"] == study) & (df[\"Country\"] == country), \"Long_\"\n",
        "                ],\n",
        "                name=f\"{country}\",\n",
        "                marker={\n",
        "                    \"size\": log(\n",
        "                        float(\n",
        "                            df.loc[\n",
        "                                (df[\"Study\"] == study) & (df[\"Country\"] == country),\n",
        "                                \"Count\",\n",
        "                            ]\n",
        "                        ),\n",
        "                        1.5,\n",
        "                    ),\n",
        "                    \"opacity\": 0.5,\n",
        "                    \"color\": color,\n",
        "                },\n",
        "                type=\"scattermapbox\",\n",
        "                hovertemplate=create_hovertemplate(df, study, country),\n",
        "            )\n",
        "            data.append(event_data)\n",
        "        except:\n",
        "            continue\n",
        "\n",
        "    return data"
      ],
      "execution_count": null,
      "outputs": []
    },
    {
      "cell_type": "markdown",
      "metadata": {
        "id": "Kre-rSKxPxT7"
      },
      "source": [
        "### Creating Layout"
      ]
    },
    {
      "cell_type": "code",
      "metadata": {
        "colab": {
          "background_save": true
        },
        "id": "GG7zag3OPxT7"
      },
      "source": [
        "def create_basic_layout(latitude, longitude, zoom):\n",
        "    layout = {\n",
        "        \"height\": 700,\n",
        "        \"margin\": {\"t\": 0, \"b\": 0, \"l\": 0, \"r\": 0},\n",
        "        \"font\": {\"color\": \"#FFFFFF\", \"size\": 15},\n",
        "        \"paper_bgcolor\": \"#000000\",\n",
        "        \"showlegend\": False,\n",
        "        \"mapbox\": {\n",
        "            \"accesstoken\": mapbox_access_token,\n",
        "            \"bearing\": 0,\n",
        "            \"center\": {\"lat\": latitude, \"lon\": longitude},\n",
        "            \"pitch\": 0,\n",
        "            \"zoom\": zoom,\n",
        "            \"style\": \"dark\",\n",
        "        },\n",
        "    }\n",
        "    return layout"
      ],
      "execution_count": null,
      "outputs": []
    },
    {
      "cell_type": "code",
      "metadata": {
        "colab": {
          "background_save": true
        },
        "id": "lD-zVp9bPxT8"
      },
      "source": [
        "def update_layout(study, layout):\n",
        "    annotations = [\n",
        "        {\n",
        "            \"text\": f\"{study.capitalize()} Cases\",\n",
        "            \"font\": {\"color\": \"#FFFFFF\", \"size\": 14},\n",
        "            \"borderpad\": 10,\n",
        "            \"x\": 0.05,\n",
        "            \"y\": 0.05,\n",
        "            \"xref\": \"paper\",\n",
        "            \"yref\": \"paper\",\n",
        "            \"align\": \"left\",\n",
        "            \"showarrow\": False,\n",
        "            \"bgcolor\": \"black\",\n",
        "        }\n",
        "    ]\n",
        "\n",
        "    layout[\"title\"] = f\"{study.capitalize()}\"\n",
        "    layout[\"annotations\"] = annotations\n",
        "    layout[\"hoverlabel\"] = dict(font_size=16, font_family=\"Rockwell\",font_color = \"black\")\n",
        "\n",
        "    return layout"
      ],
      "execution_count": null,
      "outputs": []
    },
    {
      "cell_type": "code",
      "metadata": {
        "colab": {
          "background_save": true
        },
        "id": "IpDD6CONPxT8"
      },
      "source": [
        "def get_lat_long(country, coord_df=country_cases_sorted):\n",
        "    lat = float(coord_df.loc[(coord_df[\"country\"] == country), \"Lat\"])\n",
        "    long = float(coord_df.loc[(coord_df[\"country\"] == country), \"Long_\"])\n",
        "    return lat, long"
      ],
      "execution_count": null,
      "outputs": []
    },
    {
      "cell_type": "markdown",
      "metadata": {
        "id": "1rbdojARPxT8"
      },
      "source": [
        "### Getting Data For Country Plot"
      ]
    },
    {
      "cell_type": "code",
      "metadata": {
        "colab": {
          "background_save": true
        },
        "id": "H_giKLdTPxT8"
      },
      "source": [
        "def get_country_wise_data():\n",
        "    response = requests.get(\"https://corona.lmao.ninja/v2/jhucsse\")\n",
        "    data = response.json()\n",
        "    return data"
      ],
      "execution_count": null,
      "outputs": []
    },
    {
      "cell_type": "code",
      "metadata": {
        "colab": {
          "background_save": true
        },
        "id": "TpBRYHKaPxT8"
      },
      "source": [
        "def choose_country(array, country):\n",
        "    return [i for i in array if (i[\"country\"] == country)]"
      ],
      "execution_count": null,
      "outputs": []
    },
    {
      "cell_type": "code",
      "metadata": {
        "colab": {
          "background_save": true
        },
        "id": "WsWirIxUPxT8"
      },
      "source": [
        "def get_country_frame(country):\n",
        "    def get(string, country):\n",
        "        return [i[string] for i in country]\n",
        "\n",
        "    coords = get(\"coordinates\", country)\n",
        "    stats = get(\"stats\", country)\n",
        "    names = get(\"province\", country)\n",
        "\n",
        "    def make_column(string, main):\n",
        "        return [i[string] for i in main]\n",
        "\n",
        "    df = pd.DataFrame()\n",
        "    df[\"Provinces\"] = names\n",
        "    df[\"lat\"] = make_column(\"latitude\", coords)\n",
        "    df[\"lon\"] = make_column(\"longitude\", coords)\n",
        "    df[\"Confirmed\"] = make_column(\"confirmed\", stats)\n",
        "    df[\"Recoveries\"] = make_column(\"recovered\", stats)\n",
        "    df[\"Deaths\"] = make_column(\"deaths\", stats)\n",
        "    df = df[df[\"Provinces\"] != \"Unknown\"]\n",
        "    return df"
      ],
      "execution_count": null,
      "outputs": []
    },
    {
      "cell_type": "markdown",
      "metadata": {
        "id": "G_-v9ZbsPxT8"
      },
      "source": [
        "### Creating Figure Object"
      ]
    },
    {
      "cell_type": "code",
      "metadata": {
        "colab": {
          "background_save": true
        },
        "id": "OyDiWLwEPxT9"
      },
      "source": [
        "def interactive_map(data, layout):\n",
        "    figure = {\"data\": data, \"layout\": layout}\n",
        "\n",
        "    return figure"
      ],
      "execution_count": null,
      "outputs": []
    },
    {
      "cell_type": "markdown",
      "metadata": {
        "id": "EbckAAA1PxT9"
      },
      "source": [
        "### Final Function"
      ]
    },
    {
      "cell_type": "markdown",
      "metadata": {
        "id": "YY1qLBFaPxT9"
      },
      "source": [
        "#### Global Plot Function"
      ]
    },
    {
      "cell_type": "code",
      "metadata": {
        "colab": {
          "background_save": true
        },
        "id": "Bhrb9WSKPxT9"
      },
      "source": [
        "def plot_study(\n",
        "    starting_df,\n",
        "    cols,\n",
        "    study_dict,\n",
        "    location=\"global\",\n",
        "    zoom=2,\n",
        "    latitude=20.59,\n",
        "    longitude=78.96,\n",
        "):\n",
        "    color = study_dict[\"color\"]\n",
        "    study = study_dict[\"study\"]\n",
        "    df = convert_df(starting_df, cols)\n",
        "    data = create_data(df, study, color)\n",
        "    layout = create_basic_layout(latitude, longitude, zoom)\n",
        "    updated_layout = update_layout(study, layout)\n",
        "    figure = interactive_map(data, updated_layout)\n",
        "    return figure"
      ],
      "execution_count": null,
      "outputs": []
    },
    {
      "cell_type": "markdown",
      "metadata": {
        "id": "n7GMlnwfPxT9"
      },
      "source": [
        "#### Country Plot Function"
      ]
    },
    {
      "cell_type": "code",
      "metadata": {
        "colab": {
          "background_save": true
        },
        "id": "zeTQ9ovaPxT9"
      },
      "source": [
        "def plot_country(Country, data, study):\n",
        "    country = choose_country(data, Country)\n",
        "    df = get_country_frame(country)\n",
        "    columns = [\"Provinces\", [\"Confirmed\", \"Recoveries\", \"Deaths\"], \"lat\", \"lon\"]\n",
        "    color = \"#45a2ff\" if study == \"Confirmed\" else \"#f54842\" if study == \"Deaths\" else \"#42f587\"\n",
        "    d = dict(study=study.title(), color=color)\n",
        "    figure = plot_study(\n",
        "        df,\n",
        "        columns,\n",
        "        d,\n",
        "        country,\n",
        "        zoom=4.5,\n",
        "        latitude=get_lat_long(Country)[0],\n",
        "        longitude=get_lat_long(Country)[1],\n",
        "    )\n",
        "    return figure"
      ],
      "execution_count": null,
      "outputs": []
    },
    {
      "cell_type": "markdown",
      "metadata": {
        "id": "i4aMgp_nPxT9"
      },
      "source": [
        "## Examples"
      ]
    },
    {
      "cell_type": "markdown",
      "metadata": {
        "id": "tuOj_w36PxT9"
      },
      "source": [
        "### Global - Confirmed Cases"
      ]
    },
    {
      "cell_type": "code",
      "metadata": {
        "colab": {
          "background_save": true
        },
        "id": "-hTqGv_UPxT-",
        "outputId": "bc5ffdf5-7c2c-42a4-dd59-a31dbd6f34db"
      },
      "source": [
        "confirmed = dict(study=\"confirmed\",color=\"#45a2ff\")\n",
        "recovered = dict(study=\"recovered\",color=\"#42f587\")\n",
        "deaths = dict(study=\"deaths\",color=\"#f54842\")\n",
        "\n",
        "columns = [\"country\", [\"deaths\", \"confirmed\", \"recovered\"], \"Lat\", \"Long_\"]\n",
        "\n",
        "figure = plot_study(country_cases_sorted, columns, confirmed)\n",
        "py.iplot(figure)"
      ],
      "execution_count": null,
      "outputs": [
        {
          "output_type": "execute_result",
          "data": {
            "text/html": [
              "\n",
              "        <iframe\n",
              "            width=\"100%\"\n",
              "            height=\"700px\"\n",
              "            src=\"https://plotly.com/~MajimeArun/494.embed\"\n",
              "            frameborder=\"0\"\n",
              "            allowfullscreen\n",
              "        ></iframe>\n",
              "        "
            ],
            "text/plain": [
              "<IPython.lib.display.IFrame at 0x7f901e7962e8>"
            ]
          },
          "metadata": {
            "tags": []
          },
          "execution_count": 0
        }
      ]
    },
    {
      "cell_type": "markdown",
      "metadata": {
        "id": "DAcZ9DCaPxT-"
      },
      "source": [
        "### Japan - Recoveries Cases"
      ]
    },
    {
      "cell_type": "code",
      "metadata": {
        "colab": {
          "background_save": true
        },
        "id": "RjD_uXNbPxT-",
        "outputId": "e8f69cee-3912-444c-81d8-bb3dc8e7b345"
      },
      "source": [
        "figure= plot_country(\"Japan\",get_country_wise_data(),\"Recoveries\")\n",
        "py.iplot(figure)"
      ],
      "execution_count": null,
      "outputs": [
        {
          "output_type": "execute_result",
          "data": {
            "text/html": [
              "\n",
              "        <iframe\n",
              "            width=\"100%\"\n",
              "            height=\"700px\"\n",
              "            src=\"https://plotly.com/~MajimeArun/496.embed\"\n",
              "            frameborder=\"0\"\n",
              "            allowfullscreen\n",
              "        ></iframe>\n",
              "        "
            ],
            "text/plain": [
              "<IPython.lib.display.IFrame at 0x7f901ec46a90>"
            ]
          },
          "metadata": {
            "tags": []
          },
          "execution_count": 0
        }
      ]
    },
    {
      "cell_type": "markdown",
      "metadata": {
        "id": "visSFMF7PxT-"
      },
      "source": [
        "# Working With The Latest Data - Of Individual Countries"
      ]
    },
    {
      "cell_type": "markdown",
      "metadata": {
        "id": "Lzxgh_12PxT-"
      },
      "source": [
        "## Getting Data"
      ]
    },
    {
      "cell_type": "code",
      "metadata": {
        "colab": {
          "background_save": true
        },
        "id": "QrkAxiKzPxT-"
      },
      "source": [
        "def get_today_data():\n",
        "    today_data = requests.get(\"https://corona.lmao.ninja/v2/all?yesterday\")\n",
        "    today_country_data = requests.get(\"https://corona.lmao.ninja/v2/jhucsse\")\n",
        "\n",
        "    today_data = today_data.json()\n",
        "    today_country_data = today_country_data.json()\n",
        "\n",
        "    return today_data, today_country_data"
      ],
      "execution_count": null,
      "outputs": []
    },
    {
      "cell_type": "markdown",
      "metadata": {
        "id": "Lg3zrq9NPxT_"
      },
      "source": [
        "## Formatting Data "
      ]
    },
    {
      "cell_type": "code",
      "metadata": {
        "colab": {
          "background_save": true
        },
        "id": "TXNyF1FgPxT_"
      },
      "source": [
        "def cases_object(array):\n",
        "    obj1 = {\n",
        "        study: sum([(i[\"stats\"][study]) for i in array])\n",
        "        for study in [\"confirmed\", \"deaths\", \"recovered\"]\n",
        "    }\n",
        "    return {**obj1, \"updatedAt\": [i[\"updatedAt\"] for i in array]}"
      ],
      "execution_count": null,
      "outputs": []
    },
    {
      "cell_type": "code",
      "metadata": {
        "colab": {
          "background_save": true
        },
        "id": "y0ziZ1KVPxT_"
      },
      "source": [
        "def choose_country(array, country):\n",
        "    return [i for i in array if (i[\"country\"] == country)]"
      ],
      "execution_count": null,
      "outputs": []
    },
    {
      "cell_type": "code",
      "metadata": {
        "colab": {
          "background_save": true
        },
        "id": "4e9GeVrrPxT_"
      },
      "source": [
        "def get_final_object(country, array):\n",
        "    return cases_object(choose_country(array, country))"
      ],
      "execution_count": null,
      "outputs": []
    },
    {
      "cell_type": "code",
      "metadata": {
        "colab": {
          "background_save": true
        },
        "id": "j-r2YsrCPxT_"
      },
      "source": [
        "def get_country_frame(country):\n",
        "    def get(string, country):\n",
        "        return [i[string] for i in country]\n",
        "\n",
        "    coords = get(\"coordinates\", country)\n",
        "    stats = get(\"stats\", country)\n",
        "    names = get(\"province\", country)\n",
        "\n",
        "    def make_column(string, main):\n",
        "        return [i[string] for i in main]\n",
        "\n",
        "    df = pd.DataFrame()\n",
        "    df[\"Provinces\"] = names\n",
        "    df[\"lat\"] = make_column(\"latitude\", coords)\n",
        "    df[\"lon\"] = make_column(\"longitude\", coords)\n",
        "    df[\"Confirmed\"] = make_column(\"confirmed\", stats)\n",
        "    df[\"Recoveries\"] = make_column(\"recovered\", stats)\n",
        "    df[\"Deaths\"] = make_column(\"deaths\", stats)\n",
        "    df = df[df[\"Provinces\"] != \"Unknown\"]\n",
        "    return df"
      ],
      "execution_count": null,
      "outputs": []
    },
    {
      "cell_type": "markdown",
      "metadata": {
        "id": "0KMWYwi6PxT_"
      },
      "source": [
        "## Visualizing The Data"
      ]
    },
    {
      "cell_type": "code",
      "metadata": {
        "colab": {
          "background_save": true
        },
        "id": "ewINb8JDPxT_"
      },
      "source": [
        "today_data,today_country_data = get_today_data()\n",
        "country_stats = get_country_frame(choose_country(today_country_data, \"India\"))"
      ],
      "execution_count": null,
      "outputs": []
    },
    {
      "cell_type": "markdown",
      "metadata": {
        "id": "7xY_vT0mPxUA"
      },
      "source": [
        "### Bar Chart"
      ]
    },
    {
      "cell_type": "code",
      "metadata": {
        "colab": {
          "background_save": true
        },
        "id": "wHm0haMQPxUA"
      },
      "source": [
        "def plot_province(data, metric, metric_name):\n",
        "    fig = go.Figure()\n",
        "\n",
        "    fig.add_trace(\n",
        "        go.Bar(x=data[\"Provinces\"], y=data[metric])\n",
        "    )\n",
        "\n",
        "    fig.update_layout(\n",
        "        title={\n",
        "            \"text\": \"Province Details\",\n",
        "            \"y\": 0.9,\n",
        "            \"x\": 0.5,\n",
        "            \"xanchor\": \"center\",\n",
        "            \"yanchor\": \"top\",\n",
        "        },\n",
        "        template=\"plotly_dark\",\n",
        "        xaxis_title=\"Province\",\n",
        "        yaxis_title=\"Cases\",\n",
        "    )\n",
        "\n",
        "    return fig\n",
        "\n"
      ],
      "execution_count": null,
      "outputs": []
    },
    {
      "cell_type": "markdown",
      "metadata": {
        "id": "xunm0FbFpnzK"
      },
      "source": [
        "#### Example - India"
      ]
    },
    {
      "cell_type": "code",
      "metadata": {
        "colab": {
          "background_save": true
        },
        "id": "26aN0HqLPxUA",
        "outputId": "9a01a0cb-4895-4483-9482-bb00ec48a33e"
      },
      "source": [
        "plot_province(country_stats, \"Confirmed\", \"Confirmed Cases\")"
      ],
      "execution_count": null,
      "outputs": [
        {
          "output_type": "display_data",
          "data": {
            "text/html": [
              "<html>\n",
              "<head><meta charset=\"utf-8\" /></head>\n",
              "<body>\n",
              "    <div>            <script src=\"https://cdnjs.cloudflare.com/ajax/libs/mathjax/2.7.5/MathJax.js?config=TeX-AMS-MML_SVG\"></script><script type=\"text/javascript\">if (window.MathJax) {MathJax.Hub.Config({SVG: {font: \"STIX-Web\"}});}</script>                <script type=\"text/javascript\">window.PlotlyConfig = {MathJaxConfig: 'local'};</script>\n",
              "        <script src=\"https://cdn.plot.ly/plotly-latest.min.js\"></script>                <div id=\"a63ba1dd-4320-42cd-a61f-25d0cdd05805\" class=\"plotly-graph-div\" style=\"height:525px; width:100%;\"></div>            <script type=\"text/javascript\">                                    window.PLOTLYENV=window.PLOTLYENV || {};                                    if (document.getElementById(\"a63ba1dd-4320-42cd-a61f-25d0cdd05805\")) {                    Plotly.newPlot(                        \"a63ba1dd-4320-42cd-a61f-25d0cdd05805\",                        [{\"type\": \"bar\", \"x\": [\"Andaman and Nicobar Islands\", \"Andhra Pradesh\", \"Arunachal Pradesh\", \"Assam\", \"Bihar\", \"Chandigarh\", \"Chhattisgarh\", \"Dadra and Nagar Haveli and Daman and Diu\", \"Delhi\", \"Goa\", \"Gujarat\", \"Haryana\", \"Himachal Pradesh\", \"Jammu and Kashmir\", \"Jharkhand\", \"Karnataka\", \"Kerala\", \"Ladakh\", \"Lakshadweep\", \"Madhya Pradesh\", \"Maharashtra\", \"Manipur\", \"Meghalaya\", \"Mizoram\", \"Nagaland\", \"Odisha\", \"Puducherry\", \"Punjab\", \"Rajasthan\", \"Sikkim\", \"Tamil Nadu\", \"Telangana\", \"Tripura\", \"Uttar Pradesh\", \"Uttarakhand\", \"West Bengal\"], \"y\": [4929, 881273, 16696, 215997, 250390, 19551, 276337, 3374, 623415, 50772, 242655, 261258, 54680, 120293, 114420, 916909, 743563, 9411, 0, 239228, 1922048, 28060, 13379, 4190, 11911, 328738, 38028, 165668, 306158, 5845, 815175, 285465, 33246, 582920, 89850, 548471]}],                        {\"template\": {\"data\": {\"bar\": [{\"error_x\": {\"color\": \"#f2f5fa\"}, \"error_y\": {\"color\": \"#f2f5fa\"}, \"marker\": {\"line\": {\"color\": \"rgb(17,17,17)\", \"width\": 0.5}}, \"type\": \"bar\"}], \"barpolar\": [{\"marker\": {\"line\": {\"color\": \"rgb(17,17,17)\", \"width\": 0.5}}, \"type\": \"barpolar\"}], \"carpet\": [{\"aaxis\": {\"endlinecolor\": \"#A2B1C6\", \"gridcolor\": \"#506784\", \"linecolor\": \"#506784\", \"minorgridcolor\": \"#506784\", \"startlinecolor\": \"#A2B1C6\"}, \"baxis\": {\"endlinecolor\": \"#A2B1C6\", \"gridcolor\": \"#506784\", \"linecolor\": \"#506784\", \"minorgridcolor\": \"#506784\", \"startlinecolor\": \"#A2B1C6\"}, \"type\": \"carpet\"}], \"choropleth\": [{\"colorbar\": {\"outlinewidth\": 0, \"ticks\": \"\"}, \"type\": \"choropleth\"}], \"contour\": [{\"colorbar\": {\"outlinewidth\": 0, \"ticks\": \"\"}, \"colorscale\": [[0.0, \"#0d0887\"], [0.1111111111111111, \"#46039f\"], [0.2222222222222222, \"#7201a8\"], [0.3333333333333333, \"#9c179e\"], [0.4444444444444444, \"#bd3786\"], [0.5555555555555556, \"#d8576b\"], [0.6666666666666666, \"#ed7953\"], [0.7777777777777778, \"#fb9f3a\"], [0.8888888888888888, \"#fdca26\"], [1.0, \"#f0f921\"]], \"type\": \"contour\"}], \"contourcarpet\": [{\"colorbar\": {\"outlinewidth\": 0, \"ticks\": \"\"}, \"type\": \"contourcarpet\"}], \"heatmap\": [{\"colorbar\": {\"outlinewidth\": 0, \"ticks\": \"\"}, \"colorscale\": [[0.0, \"#0d0887\"], [0.1111111111111111, \"#46039f\"], [0.2222222222222222, \"#7201a8\"], [0.3333333333333333, \"#9c179e\"], [0.4444444444444444, \"#bd3786\"], [0.5555555555555556, \"#d8576b\"], [0.6666666666666666, \"#ed7953\"], [0.7777777777777778, \"#fb9f3a\"], [0.8888888888888888, \"#fdca26\"], [1.0, \"#f0f921\"]], \"type\": \"heatmap\"}], \"heatmapgl\": [{\"colorbar\": {\"outlinewidth\": 0, \"ticks\": \"\"}, \"colorscale\": [[0.0, \"#0d0887\"], [0.1111111111111111, \"#46039f\"], [0.2222222222222222, \"#7201a8\"], [0.3333333333333333, \"#9c179e\"], [0.4444444444444444, \"#bd3786\"], [0.5555555555555556, \"#d8576b\"], [0.6666666666666666, \"#ed7953\"], [0.7777777777777778, \"#fb9f3a\"], [0.8888888888888888, \"#fdca26\"], [1.0, \"#f0f921\"]], \"type\": \"heatmapgl\"}], \"histogram\": [{\"marker\": {\"colorbar\": {\"outlinewidth\": 0, \"ticks\": \"\"}}, \"type\": \"histogram\"}], \"histogram2d\": [{\"colorbar\": {\"outlinewidth\": 0, \"ticks\": \"\"}, \"colorscale\": [[0.0, \"#0d0887\"], [0.1111111111111111, \"#46039f\"], [0.2222222222222222, \"#7201a8\"], [0.3333333333333333, \"#9c179e\"], [0.4444444444444444, \"#bd3786\"], [0.5555555555555556, \"#d8576b\"], [0.6666666666666666, \"#ed7953\"], [0.7777777777777778, \"#fb9f3a\"], [0.8888888888888888, \"#fdca26\"], [1.0, \"#f0f921\"]], \"type\": \"histogram2d\"}], \"histogram2dcontour\": [{\"colorbar\": {\"outlinewidth\": 0, \"ticks\": \"\"}, \"colorscale\": [[0.0, \"#0d0887\"], [0.1111111111111111, \"#46039f\"], [0.2222222222222222, \"#7201a8\"], [0.3333333333333333, \"#9c179e\"], [0.4444444444444444, \"#bd3786\"], [0.5555555555555556, \"#d8576b\"], [0.6666666666666666, \"#ed7953\"], [0.7777777777777778, \"#fb9f3a\"], [0.8888888888888888, \"#fdca26\"], [1.0, \"#f0f921\"]], \"type\": \"histogram2dcontour\"}], \"mesh3d\": [{\"colorbar\": {\"outlinewidth\": 0, \"ticks\": \"\"}, \"type\": \"mesh3d\"}], \"parcoords\": [{\"line\": {\"colorbar\": {\"outlinewidth\": 0, \"ticks\": \"\"}}, \"type\": \"parcoords\"}], \"pie\": [{\"automargin\": true, \"type\": \"pie\"}], \"scatter\": [{\"marker\": {\"line\": {\"color\": \"#283442\"}}, \"type\": \"scatter\"}], \"scatter3d\": [{\"line\": {\"colorbar\": {\"outlinewidth\": 0, \"ticks\": \"\"}}, \"marker\": {\"colorbar\": {\"outlinewidth\": 0, \"ticks\": \"\"}}, \"type\": \"scatter3d\"}], \"scattercarpet\": [{\"marker\": {\"colorbar\": {\"outlinewidth\": 0, \"ticks\": \"\"}}, \"type\": \"scattercarpet\"}], \"scattergeo\": [{\"marker\": {\"colorbar\": {\"outlinewidth\": 0, \"ticks\": \"\"}}, \"type\": \"scattergeo\"}], \"scattergl\": [{\"marker\": {\"line\": {\"color\": \"#283442\"}}, \"type\": \"scattergl\"}], \"scattermapbox\": [{\"marker\": {\"colorbar\": {\"outlinewidth\": 0, \"ticks\": \"\"}}, \"type\": \"scattermapbox\"}], \"scatterpolar\": [{\"marker\": {\"colorbar\": {\"outlinewidth\": 0, \"ticks\": \"\"}}, \"type\": \"scatterpolar\"}], \"scatterpolargl\": [{\"marker\": {\"colorbar\": {\"outlinewidth\": 0, \"ticks\": \"\"}}, \"type\": \"scatterpolargl\"}], \"scatterternary\": [{\"marker\": {\"colorbar\": {\"outlinewidth\": 0, \"ticks\": \"\"}}, \"type\": \"scatterternary\"}], \"surface\": [{\"colorbar\": {\"outlinewidth\": 0, \"ticks\": \"\"}, \"colorscale\": [[0.0, \"#0d0887\"], [0.1111111111111111, \"#46039f\"], [0.2222222222222222, \"#7201a8\"], [0.3333333333333333, \"#9c179e\"], [0.4444444444444444, \"#bd3786\"], [0.5555555555555556, \"#d8576b\"], [0.6666666666666666, \"#ed7953\"], [0.7777777777777778, \"#fb9f3a\"], [0.8888888888888888, \"#fdca26\"], [1.0, \"#f0f921\"]], \"type\": \"surface\"}], \"table\": [{\"cells\": {\"fill\": {\"color\": \"#506784\"}, \"line\": {\"color\": \"rgb(17,17,17)\"}}, \"header\": {\"fill\": {\"color\": \"#2a3f5f\"}, \"line\": {\"color\": \"rgb(17,17,17)\"}}, \"type\": \"table\"}]}, \"layout\": {\"annotationdefaults\": {\"arrowcolor\": \"#f2f5fa\", \"arrowhead\": 0, \"arrowwidth\": 1}, \"autotypenumbers\": \"strict\", \"coloraxis\": {\"colorbar\": {\"outlinewidth\": 0, \"ticks\": \"\"}}, \"colorscale\": {\"diverging\": [[0, \"#8e0152\"], [0.1, \"#c51b7d\"], [0.2, \"#de77ae\"], [0.3, \"#f1b6da\"], [0.4, \"#fde0ef\"], [0.5, \"#f7f7f7\"], [0.6, \"#e6f5d0\"], [0.7, \"#b8e186\"], [0.8, \"#7fbc41\"], [0.9, \"#4d9221\"], [1, \"#276419\"]], \"sequential\": [[0.0, \"#0d0887\"], [0.1111111111111111, \"#46039f\"], [0.2222222222222222, \"#7201a8\"], [0.3333333333333333, \"#9c179e\"], [0.4444444444444444, \"#bd3786\"], [0.5555555555555556, \"#d8576b\"], [0.6666666666666666, \"#ed7953\"], [0.7777777777777778, \"#fb9f3a\"], [0.8888888888888888, \"#fdca26\"], [1.0, \"#f0f921\"]], \"sequentialminus\": [[0.0, \"#0d0887\"], [0.1111111111111111, \"#46039f\"], [0.2222222222222222, \"#7201a8\"], [0.3333333333333333, \"#9c179e\"], [0.4444444444444444, \"#bd3786\"], [0.5555555555555556, \"#d8576b\"], [0.6666666666666666, \"#ed7953\"], [0.7777777777777778, \"#fb9f3a\"], [0.8888888888888888, \"#fdca26\"], [1.0, \"#f0f921\"]]}, \"colorway\": [\"#636efa\", \"#EF553B\", \"#00cc96\", \"#ab63fa\", \"#FFA15A\", \"#19d3f3\", \"#FF6692\", \"#B6E880\", \"#FF97FF\", \"#FECB52\"], \"font\": {\"color\": \"#f2f5fa\"}, \"geo\": {\"bgcolor\": \"rgb(17,17,17)\", \"lakecolor\": \"rgb(17,17,17)\", \"landcolor\": \"rgb(17,17,17)\", \"showlakes\": true, \"showland\": true, \"subunitcolor\": \"#506784\"}, \"hoverlabel\": {\"align\": \"left\"}, \"hovermode\": \"closest\", \"mapbox\": {\"style\": \"dark\"}, \"paper_bgcolor\": \"rgb(17,17,17)\", \"plot_bgcolor\": \"rgb(17,17,17)\", \"polar\": {\"angularaxis\": {\"gridcolor\": \"#506784\", \"linecolor\": \"#506784\", \"ticks\": \"\"}, \"bgcolor\": \"rgb(17,17,17)\", \"radialaxis\": {\"gridcolor\": \"#506784\", \"linecolor\": \"#506784\", \"ticks\": \"\"}}, \"scene\": {\"xaxis\": {\"backgroundcolor\": \"rgb(17,17,17)\", \"gridcolor\": \"#506784\", \"gridwidth\": 2, \"linecolor\": \"#506784\", \"showbackground\": true, \"ticks\": \"\", \"zerolinecolor\": \"#C8D4E3\"}, \"yaxis\": {\"backgroundcolor\": \"rgb(17,17,17)\", \"gridcolor\": \"#506784\", \"gridwidth\": 2, \"linecolor\": \"#506784\", \"showbackground\": true, \"ticks\": \"\", \"zerolinecolor\": \"#C8D4E3\"}, \"zaxis\": {\"backgroundcolor\": \"rgb(17,17,17)\", \"gridcolor\": \"#506784\", \"gridwidth\": 2, \"linecolor\": \"#506784\", \"showbackground\": true, \"ticks\": \"\", \"zerolinecolor\": \"#C8D4E3\"}}, \"shapedefaults\": {\"line\": {\"color\": \"#f2f5fa\"}}, \"sliderdefaults\": {\"bgcolor\": \"#C8D4E3\", \"bordercolor\": \"rgb(17,17,17)\", \"borderwidth\": 1, \"tickwidth\": 0}, \"ternary\": {\"aaxis\": {\"gridcolor\": \"#506784\", \"linecolor\": \"#506784\", \"ticks\": \"\"}, \"baxis\": {\"gridcolor\": \"#506784\", \"linecolor\": \"#506784\", \"ticks\": \"\"}, \"bgcolor\": \"rgb(17,17,17)\", \"caxis\": {\"gridcolor\": \"#506784\", \"linecolor\": \"#506784\", \"ticks\": \"\"}}, \"title\": {\"x\": 0.05}, \"updatemenudefaults\": {\"bgcolor\": \"#506784\", \"borderwidth\": 0}, \"xaxis\": {\"automargin\": true, \"gridcolor\": \"#283442\", \"linecolor\": \"#506784\", \"ticks\": \"\", \"title\": {\"standoff\": 15}, \"zerolinecolor\": \"#283442\", \"zerolinewidth\": 2}, \"yaxis\": {\"automargin\": true, \"gridcolor\": \"#283442\", \"linecolor\": \"#506784\", \"ticks\": \"\", \"title\": {\"standoff\": 15}, \"zerolinecolor\": \"#283442\", \"zerolinewidth\": 2}}}, \"title\": {\"text\": \"Province Details\", \"x\": 0.5, \"xanchor\": \"center\", \"y\": 0.9, \"yanchor\": \"top\"}, \"xaxis\": {\"title\": {\"text\": \"Province\"}}, \"yaxis\": {\"title\": {\"text\": \"Cases\"}}},                        {\"responsive\": true}                    ).then(function(){\n",
              "                            \n",
              "var gd = document.getElementById('a63ba1dd-4320-42cd-a61f-25d0cdd05805');\n",
              "var x = new MutationObserver(function (mutations, observer) {{\n",
              "        var display = window.getComputedStyle(gd).display;\n",
              "        if (!display || display === 'none') {{\n",
              "            console.log([gd, 'removed!']);\n",
              "            Plotly.purge(gd);\n",
              "            observer.disconnect();\n",
              "        }}\n",
              "}});\n",
              "\n",
              "// Listen for the removal of the full notebook cells\n",
              "var notebookContainer = gd.closest('#notebook-container');\n",
              "if (notebookContainer) {{\n",
              "    x.observe(notebookContainer, {childList: true});\n",
              "}}\n",
              "\n",
              "// Listen for the clearing of the current output cell\n",
              "var outputEl = gd.closest('.output');\n",
              "if (outputEl) {{\n",
              "    x.observe(outputEl, {childList: true});\n",
              "}}\n",
              "\n",
              "                        })                };                            </script>        </div>\n",
              "</body>\n",
              "</html>"
            ]
          },
          "metadata": {
            "tags": []
          }
        }
      ]
    },
    {
      "cell_type": "markdown",
      "metadata": {
        "id": "AbKBzPo-PxUA"
      },
      "source": [
        "### Table Form"
      ]
    },
    {
      "cell_type": "code",
      "metadata": {
        "colab": {
          "background_save": true
        },
        "id": "I5vWqDBYPxUA"
      },
      "source": [
        "def table_province_data(data, metric):\n",
        "    df = pd.DataFrame(data={\"Provinces\": data[\"Provinces\"], metric: data[metric]})\n",
        "    df[metric] = df[metric].map(lambda x: format(x, \",d\"))\n",
        "    if len(df) <= 1:\n",
        "        return\n",
        "    else:\n",
        "        return df"
      ],
      "execution_count": null,
      "outputs": []
    },
    {
      "cell_type": "markdown",
      "metadata": {
        "id": "zoEjKmt6pwq3"
      },
      "source": [
        "#### Example - India"
      ]
    },
    {
      "cell_type": "code",
      "metadata": {
        "colab": {
          "background_save": true
        },
        "id": "zWKvUJB5PxUA",
        "outputId": "753c8f32-493c-4b48-df0b-fc7bf5e1afef"
      },
      "source": [
        "table_province_data(country_stats, \"Confirmed\")"
      ],
      "execution_count": null,
      "outputs": [
        {
          "output_type": "execute_result",
          "data": {
            "text/html": [
              "<div>\n",
              "<style scoped>\n",
              "    .dataframe tbody tr th:only-of-type {\n",
              "        vertical-align: middle;\n",
              "    }\n",
              "\n",
              "    .dataframe tbody tr th {\n",
              "        vertical-align: top;\n",
              "    }\n",
              "\n",
              "    .dataframe thead th {\n",
              "        text-align: right;\n",
              "    }\n",
              "</style>\n",
              "<table border=\"1\" class=\"dataframe\">\n",
              "  <thead>\n",
              "    <tr style=\"text-align: right;\">\n",
              "      <th></th>\n",
              "      <th>Provinces</th>\n",
              "      <th>Confirmed</th>\n",
              "    </tr>\n",
              "  </thead>\n",
              "  <tbody>\n",
              "    <tr>\n",
              "      <th>0</th>\n",
              "      <td>Andaman and Nicobar Islands</td>\n",
              "      <td>4,929</td>\n",
              "    </tr>\n",
              "    <tr>\n",
              "      <th>1</th>\n",
              "      <td>Andhra Pradesh</td>\n",
              "      <td>881,273</td>\n",
              "    </tr>\n",
              "    <tr>\n",
              "      <th>2</th>\n",
              "      <td>Arunachal Pradesh</td>\n",
              "      <td>16,696</td>\n",
              "    </tr>\n",
              "    <tr>\n",
              "      <th>3</th>\n",
              "      <td>Assam</td>\n",
              "      <td>215,997</td>\n",
              "    </tr>\n",
              "    <tr>\n",
              "      <th>4</th>\n",
              "      <td>Bihar</td>\n",
              "      <td>250,390</td>\n",
              "    </tr>\n",
              "    <tr>\n",
              "      <th>5</th>\n",
              "      <td>Chandigarh</td>\n",
              "      <td>19,551</td>\n",
              "    </tr>\n",
              "    <tr>\n",
              "      <th>6</th>\n",
              "      <td>Chhattisgarh</td>\n",
              "      <td>276,337</td>\n",
              "    </tr>\n",
              "    <tr>\n",
              "      <th>7</th>\n",
              "      <td>Dadra and Nagar Haveli and Daman and Diu</td>\n",
              "      <td>3,374</td>\n",
              "    </tr>\n",
              "    <tr>\n",
              "      <th>8</th>\n",
              "      <td>Delhi</td>\n",
              "      <td>623,415</td>\n",
              "    </tr>\n",
              "    <tr>\n",
              "      <th>9</th>\n",
              "      <td>Goa</td>\n",
              "      <td>50,772</td>\n",
              "    </tr>\n",
              "    <tr>\n",
              "      <th>10</th>\n",
              "      <td>Gujarat</td>\n",
              "      <td>242,655</td>\n",
              "    </tr>\n",
              "    <tr>\n",
              "      <th>11</th>\n",
              "      <td>Haryana</td>\n",
              "      <td>261,258</td>\n",
              "    </tr>\n",
              "    <tr>\n",
              "      <th>12</th>\n",
              "      <td>Himachal Pradesh</td>\n",
              "      <td>54,680</td>\n",
              "    </tr>\n",
              "    <tr>\n",
              "      <th>13</th>\n",
              "      <td>Jammu and Kashmir</td>\n",
              "      <td>120,293</td>\n",
              "    </tr>\n",
              "    <tr>\n",
              "      <th>14</th>\n",
              "      <td>Jharkhand</td>\n",
              "      <td>114,420</td>\n",
              "    </tr>\n",
              "    <tr>\n",
              "      <th>15</th>\n",
              "      <td>Karnataka</td>\n",
              "      <td>916,909</td>\n",
              "    </tr>\n",
              "    <tr>\n",
              "      <th>16</th>\n",
              "      <td>Kerala</td>\n",
              "      <td>743,563</td>\n",
              "    </tr>\n",
              "    <tr>\n",
              "      <th>17</th>\n",
              "      <td>Ladakh</td>\n",
              "      <td>9,411</td>\n",
              "    </tr>\n",
              "    <tr>\n",
              "      <th>18</th>\n",
              "      <td>Lakshadweep</td>\n",
              "      <td>0</td>\n",
              "    </tr>\n",
              "    <tr>\n",
              "      <th>19</th>\n",
              "      <td>Madhya Pradesh</td>\n",
              "      <td>239,228</td>\n",
              "    </tr>\n",
              "    <tr>\n",
              "      <th>20</th>\n",
              "      <td>Maharashtra</td>\n",
              "      <td>1,922,048</td>\n",
              "    </tr>\n",
              "    <tr>\n",
              "      <th>21</th>\n",
              "      <td>Manipur</td>\n",
              "      <td>28,060</td>\n",
              "    </tr>\n",
              "    <tr>\n",
              "      <th>22</th>\n",
              "      <td>Meghalaya</td>\n",
              "      <td>13,379</td>\n",
              "    </tr>\n",
              "    <tr>\n",
              "      <th>23</th>\n",
              "      <td>Mizoram</td>\n",
              "      <td>4,190</td>\n",
              "    </tr>\n",
              "    <tr>\n",
              "      <th>24</th>\n",
              "      <td>Nagaland</td>\n",
              "      <td>11,911</td>\n",
              "    </tr>\n",
              "    <tr>\n",
              "      <th>25</th>\n",
              "      <td>Odisha</td>\n",
              "      <td>328,738</td>\n",
              "    </tr>\n",
              "    <tr>\n",
              "      <th>26</th>\n",
              "      <td>Puducherry</td>\n",
              "      <td>38,028</td>\n",
              "    </tr>\n",
              "    <tr>\n",
              "      <th>27</th>\n",
              "      <td>Punjab</td>\n",
              "      <td>165,668</td>\n",
              "    </tr>\n",
              "    <tr>\n",
              "      <th>28</th>\n",
              "      <td>Rajasthan</td>\n",
              "      <td>306,158</td>\n",
              "    </tr>\n",
              "    <tr>\n",
              "      <th>29</th>\n",
              "      <td>Sikkim</td>\n",
              "      <td>5,845</td>\n",
              "    </tr>\n",
              "    <tr>\n",
              "      <th>30</th>\n",
              "      <td>Tamil Nadu</td>\n",
              "      <td>815,175</td>\n",
              "    </tr>\n",
              "    <tr>\n",
              "      <th>31</th>\n",
              "      <td>Telangana</td>\n",
              "      <td>285,465</td>\n",
              "    </tr>\n",
              "    <tr>\n",
              "      <th>32</th>\n",
              "      <td>Tripura</td>\n",
              "      <td>33,246</td>\n",
              "    </tr>\n",
              "    <tr>\n",
              "      <th>34</th>\n",
              "      <td>Uttar Pradesh</td>\n",
              "      <td>582,920</td>\n",
              "    </tr>\n",
              "    <tr>\n",
              "      <th>35</th>\n",
              "      <td>Uttarakhand</td>\n",
              "      <td>89,850</td>\n",
              "    </tr>\n",
              "    <tr>\n",
              "      <th>36</th>\n",
              "      <td>West Bengal</td>\n",
              "      <td>548,471</td>\n",
              "    </tr>\n",
              "  </tbody>\n",
              "</table>\n",
              "</div>"
            ],
            "text/plain": [
              "                                   Provinces  Confirmed\n",
              "0                Andaman and Nicobar Islands      4,929\n",
              "1                             Andhra Pradesh    881,273\n",
              "2                          Arunachal Pradesh     16,696\n",
              "3                                      Assam    215,997\n",
              "4                                      Bihar    250,390\n",
              "5                                 Chandigarh     19,551\n",
              "6                               Chhattisgarh    276,337\n",
              "7   Dadra and Nagar Haveli and Daman and Diu      3,374\n",
              "8                                      Delhi    623,415\n",
              "9                                        Goa     50,772\n",
              "10                                   Gujarat    242,655\n",
              "11                                   Haryana    261,258\n",
              "12                          Himachal Pradesh     54,680\n",
              "13                         Jammu and Kashmir    120,293\n",
              "14                                 Jharkhand    114,420\n",
              "15                                 Karnataka    916,909\n",
              "16                                    Kerala    743,563\n",
              "17                                    Ladakh      9,411\n",
              "18                               Lakshadweep          0\n",
              "19                            Madhya Pradesh    239,228\n",
              "20                               Maharashtra  1,922,048\n",
              "21                                   Manipur     28,060\n",
              "22                                 Meghalaya     13,379\n",
              "23                                   Mizoram      4,190\n",
              "24                                  Nagaland     11,911\n",
              "25                                    Odisha    328,738\n",
              "26                                Puducherry     38,028\n",
              "27                                    Punjab    165,668\n",
              "28                                 Rajasthan    306,158\n",
              "29                                    Sikkim      5,845\n",
              "30                                Tamil Nadu    815,175\n",
              "31                                 Telangana    285,465\n",
              "32                                   Tripura     33,246\n",
              "34                             Uttar Pradesh    582,920\n",
              "35                               Uttarakhand     89,850\n",
              "36                               West Bengal    548,471"
            ]
          },
          "metadata": {
            "tags": []
          },
          "execution_count": 0
        }
      ]
    },
    {
      "cell_type": "markdown",
      "metadata": {
        "id": "dVnvh4JePxUB"
      },
      "source": [
        "# Predictive TimeSeries Model : CNN"
      ]
    },
    {
      "cell_type": "markdown",
      "metadata": {
        "id": "usDnSbuuPxUB"
      },
      "source": [
        "## Code"
      ]
    },
    {
      "cell_type": "markdown",
      "metadata": {
        "id": "R6BrzgKVPxUB"
      },
      "source": [
        "### Formatting The Data"
      ]
    },
    {
      "cell_type": "code",
      "metadata": {
        "colab": {
          "background_save": true
        },
        "id": "lMqDSpbgPxUB"
      },
      "source": [
        "def get_data(confirmed = confirmed_global, deaths = deaths_global, recovered = recovered_global):\n",
        "\n",
        "    recovered = recovered.groupby(\"country\").sum().T\n",
        "    deaths = deaths.groupby(\"country\").sum().T\n",
        "    confirmed = confirmed.groupby(\"country\").sum().T\n",
        "\n",
        "    deaths.index = pd.to_datetime(deaths.index, infer_datetime_format=True)\n",
        "    recovered.index = pd.to_datetime(\n",
        "        recovered.index, infer_datetime_format=True)\n",
        "    confirmed.index = pd.to_datetime(\n",
        "        confirmed.index, infer_datetime_format=True)\n",
        "\n",
        "    return deaths, recovered, confirmed"
      ],
      "execution_count": null,
      "outputs": []
    },
    {
      "cell_type": "code",
      "metadata": {
        "colab": {
          "background_save": true
        },
        "id": "inYF6dMUPxUB"
      },
      "source": [
        "def create_data_frame(dataframe, country):\n",
        "\n",
        "    deaths, recovered, confirmed = get_data()\n",
        "\n",
        "    if dataframe == \"deaths\":\n",
        "        data = pd.DataFrame(\n",
        "            index=deaths.index, data=deaths[country].values, columns=[\"Total\"]\n",
        "        )\n",
        "\n",
        "    elif dataframe == \"recovered\":\n",
        "        data = pd.DataFrame(\n",
        "            index=recovered.index, data=recovered[country].values, columns=[\n",
        "                \"Total\"]\n",
        "        )\n",
        "\n",
        "    elif dataframe == \"confirmed\":\n",
        "        data = pd.DataFrame(\n",
        "            index=confirmed.index, data=confirmed[country].values, columns=[\n",
        "                \"Total\"]\n",
        "        )\n",
        "\n",
        "    data = data[(data != 0).all(1)]\n",
        "\n",
        "    data_diff = data.diff()\n",
        "\n",
        "    # removing the first value from data_diff as it had no previous value and is a NaN after diffrencing\n",
        "    data_diff = data_diff[1:]\n",
        "\n",
        "    return data, data_diff"
      ],
      "execution_count": null,
      "outputs": []
    },
    {
      "cell_type": "markdown",
      "metadata": {
        "id": "Vvs5G8qUPxUB"
      },
      "source": [
        "### Series Creation"
      ]
    },
    {
      "cell_type": "code",
      "metadata": {
        "colab": {
          "background_save": true
        },
        "id": "Uwo7ZHWXPxUB"
      },
      "source": [
        "def make_series(df_name, country, steps):\n",
        "\n",
        "    data, data_diff = create_data_frame(df_name, country)\n",
        "\n",
        "    # Taking the values from data_diff and making them an array\n",
        "    series = np.array(data_diff[\"Total\"])\n",
        "\n",
        "    X, y = [], []\n",
        "    for i in range(len(series)):\n",
        "        end = i + steps\n",
        "        if end > len(series) - 1:\n",
        "            break\n",
        "        x_sample, y_sample = series[i:end], series[end]\n",
        "        X.append(x_sample)\n",
        "        y.append(y_sample)\n",
        "\n",
        "    return data, data_diff, np.array(X), np.array(y)"
      ],
      "execution_count": null,
      "outputs": []
    },
    {
      "cell_type": "markdown",
      "metadata": {
        "id": "WmWkD3TkPxUB"
      },
      "source": [
        "### Error : MASE"
      ]
    },
    {
      "cell_type": "code",
      "metadata": {
        "colab": {
          "background_save": true
        },
        "id": "R3Snmm0YPxUC"
      },
      "source": [
        "def mase(y_true, y_pred):\n",
        "    er = FindErrors(y_true, y_pred)\n",
        "    return er.mase()"
      ],
      "execution_count": null,
      "outputs": []
    },
    {
      "cell_type": "markdown",
      "metadata": {
        "id": "Cx2aVY4WPxUC"
      },
      "source": [
        "### Parameter Grid"
      ]
    },
    {
      "cell_type": "code",
      "metadata": {
        "colab": {
          "background_save": true
        },
        "id": "sNbwoP00PxUC"
      },
      "source": [
        "def create_param_grid():\n",
        "\n",
        "    param_grid = {\n",
        "        \"filters\": (60, 70),\n",
        "        \"nodes\": (60, 70),\n",
        "        \"epochs\": (60, 70),\n",
        "        \"activation1\": (\"swish\", \"relu\", \"tanh\"),\n",
        "        \"activation2\": (\"swish\", \"relu\", \"tanh\"),\n",
        "    }\n",
        "    grid = ParameterGrid(param_grid)\n",
        "\n",
        "    return grid"
      ],
      "execution_count": null,
      "outputs": []
    },
    {
      "cell_type": "markdown",
      "metadata": {
        "id": "I_o082iGPxUC"
      },
      "source": [
        "### Compiling The Model"
      ]
    },
    {
      "cell_type": "code",
      "metadata": {
        "colab": {
          "background_save": true
        },
        "id": "Mwi2rcCZPxUC"
      },
      "source": [
        "\n",
        "def compile_model(p):\n",
        "\n",
        "    model = Sequential()\n",
        "    model.add(\n",
        "        Conv1D(\n",
        "            filters=p[\"filters\"],\n",
        "            kernel_size=2,\n",
        "            activation=p[\"activation1\"],\n",
        "            input_shape=(14, 1),\n",
        "        )\n",
        "    )\n",
        "    model.add(MaxPooling1D(pool_size=2))\n",
        "    model.add(Flatten())\n",
        "    model.add(Dense(p[\"nodes\"], activation=p[\"activation2\"]))\n",
        "    model.add(Dense(1))\n",
        "    model.compile(optimizer=\"adam\", loss=\"mse\")\n",
        "\n",
        "    return model"
      ],
      "execution_count": null,
      "outputs": []
    },
    {
      "cell_type": "markdown",
      "metadata": {
        "id": "x4-EuaZOPxUC"
      },
      "source": [
        "### Hyperparameter Tuning"
      ]
    },
    {
      "cell_type": "code",
      "metadata": {
        "colab": {
          "background_save": true
        },
        "id": "hOWzvukyPxUC"
      },
      "source": [
        "def hyperparameter_tuning(grid, X_train, y_train):\n",
        "\n",
        "    parameters = pd.DataFrame(columns=[\"MASE\", \"Parameters\"])\n",
        "    for p in grid:\n",
        "        model = compile_model(p)\n",
        "\n",
        "        # reshaping the set to suit the required input shape\n",
        "        X_train = X_train.reshape((X_train.shape[0], X_train.shape[1], 1))\n",
        "\n",
        "        model.fit(X_train, y_train, epochs=p[\"epochs\"], verbose=0)\n",
        "        predictions = model.predict(X_train, verbose=0)\n",
        "\n",
        "        # flattening the predictions to a 1D array to calculate the MASE\n",
        "        predictions = predictions.flatten()\n",
        "\n",
        "        MASE = mase(y_train, predictions)\n",
        "        parameters = parameters.append(\n",
        "            {\"MASE\": MASE, \"Parameters\": p}, ignore_index=True\n",
        "        )\n",
        "\n",
        "    return parameters"
      ],
      "execution_count": null,
      "outputs": []
    },
    {
      "cell_type": "code",
      "metadata": {
        "colab": {
          "background_save": true
        },
        "id": "VesnXhwEPxUD"
      },
      "source": [
        "def get_best_params(parameters):\n",
        "\n",
        "    # sort the dataframe based on MASE values\n",
        "    final = parameters.sort_values(\"MASE\").reset_index().iloc[0]\n",
        "\n",
        "    return final.values[2]"
      ],
      "execution_count": null,
      "outputs": []
    },
    {
      "cell_type": "markdown",
      "metadata": {
        "id": "kw3gddyDPxUD"
      },
      "source": [
        "### Testing The Model"
      ]
    },
    {
      "cell_type": "code",
      "metadata": {
        "colab": {
          "background_save": true
        },
        "id": "LpG_408PPxUD"
      },
      "source": [
        "def test_model(p, X_train, X_test, y_train, y_test, data):\n",
        "\n",
        "    model = compile_model(p)\n",
        "\n",
        "    # reshaping the set to suit the required input shape\n",
        "    X_train = X_train.reshape((X_train.shape[0], X_train.shape[1], 1))\n",
        "\n",
        "    model.fit(X_train, y_train, epochs=p[\"epochs\"], verbose=0)\n",
        "\n",
        "    # reshaping the set to suit the required input shape\n",
        "    X_test = X_test.reshape((X_test.shape[0], X_test.shape[1], 1))\n",
        "\n",
        "    # predicting results of X_test\n",
        "    predictions = model.predict(X_test, verbose=0)\n",
        "    predictions = predictions.flatten()\n",
        "\n",
        "    # Taking the cumulative of the predictions step wise\n",
        "    # Start is the value just before the test_set, which is used to begin taking the cumulative\n",
        "    start = data[\"Total\"][-len(y_test) - 1]\n",
        "    predictions_cumulative = []\n",
        "    for i in predictions:\n",
        "        start = start + i\n",
        "        predictions_cumulative.append(start)\n",
        "\n",
        "    # The actual cumulative values\n",
        "    y_test_cumulative = data[\"Total\"][-len(y_test):]\n",
        "\n",
        "    MASE = mase(y_test_cumulative, predictions_cumulative)\n",
        "\n",
        "    return MASE"
      ],
      "execution_count": null,
      "outputs": []
    },
    {
      "cell_type": "markdown",
      "metadata": {
        "id": "fn4rHIu9PxUD"
      },
      "source": [
        "### Fitting The Final Model"
      ]
    },
    {
      "cell_type": "code",
      "metadata": {
        "colab": {
          "background_save": true
        },
        "id": "PyySrYIEPxUD"
      },
      "source": [
        "def make_final_model(p, X, y):\n",
        "    model = compile_model(p)\n",
        "\n",
        "    # reshaping the set to suit the required input shape\n",
        "    X = X.reshape((X.shape[0], X.shape[1], 1))\n",
        "\n",
        "    model.fit(X, y, epochs=p[\"epochs\"], verbose=0)\n",
        "\n",
        "    return model"
      ],
      "execution_count": null,
      "outputs": []
    },
    {
      "cell_type": "markdown",
      "metadata": {
        "id": "g-WuaGnNPxUD"
      },
      "source": [
        "### Forecasting The Next 14 Days"
      ]
    },
    {
      "cell_type": "code",
      "metadata": {
        "colab": {
          "background_save": true
        },
        "id": "KHqZdKG9PxUD"
      },
      "source": [
        "def forecast(data_diff, data, n, model):\n",
        "\n",
        "    forecast = []\n",
        "\n",
        "    for i in range(n):\n",
        "        l = len(forecast)\n",
        "        inp = (list(data_diff[\"Total\"][-(n - l):])) + forecast\n",
        "        inp = np.array(inp)\n",
        "        inp = inp.reshape(1, 14, 1)\n",
        "        future = model.predict(inp, verbose=0)\n",
        "        forecast.append(list(future.flatten())[0])\n",
        "\n",
        "    forecast_cumulative = []\n",
        "    start = data[\"Total\"][-1]\n",
        "    for i in forecast:\n",
        "        start = start + i\n",
        "        forecast_cumulative.append(start)\n",
        "\n",
        "    return forecast_cumulative"
      ],
      "execution_count": null,
      "outputs": []
    },
    {
      "cell_type": "markdown",
      "metadata": {
        "id": "Md4hswlmPxUD"
      },
      "source": [
        "### Plotting The Forecast"
      ]
    },
    {
      "cell_type": "code",
      "metadata": {
        "colab": {
          "background_save": true
        },
        "id": "-p7tbaXYPxUE"
      },
      "source": [
        "def plot_graph(data, pred):\n",
        "\n",
        "    datelist = pd.date_range(data.index[-1], periods=15).tolist()\n",
        "    datelist = datelist[1:]\n",
        "    fig = go.Figure()\n",
        "    fig.add_trace(\n",
        "        go.Scatter(x=data.index, y=data[\"Total\"],\n",
        "                   mode=\"lines\", name=\"Up till now\")\n",
        "    )\n",
        "    fig.add_trace(go.Scatter(x=datelist, y=pred,\n",
        "                             mode=\"lines\", name=\"Predictions*\"))\n",
        "    fig.update_layout(template=\"plotly_dark\")\n",
        "\n",
        "    return fig"
      ],
      "execution_count": null,
      "outputs": []
    },
    {
      "cell_type": "markdown",
      "metadata": {
        "id": "m2bcjVnyPxUE"
      },
      "source": [
        "### Flatline Check - Naive Forecast"
      ]
    },
    {
      "cell_type": "code",
      "metadata": {
        "colab": {
          "background_save": true
        },
        "id": "7a5EZydEPxUE"
      },
      "source": [
        "def check_slope(x, y):\n",
        "    c = Counter(np.diff(y) / np.diff(x))\n",
        "    return 0 not in [i[0] for i in c.most_common(1)]"
      ],
      "execution_count": null,
      "outputs": []
    },
    {
      "cell_type": "code",
      "metadata": {
        "colab": {
          "background_save": true
        },
        "id": "NetdOg4BPxUE"
      },
      "source": [
        "def naive_forecast(study, country):\n",
        "    df, _ = create_data_frame(study, country)\n",
        "    datelist = pd.date_range(df.index[-1], periods=15).tolist()[1:]\n",
        "    predictions = [df.Total[-1]] * 14\n",
        "    fig = go.Figure()\n",
        "    fig.add_trace(\n",
        "        go.Scatter(x=df.index, y=df[\"Total\"], mode=\"lines\", name=\"Up till now\")\n",
        "    )\n",
        "    fig.add_trace(\n",
        "        go.Scatter(x=datelist, y=predictions,\n",
        "                   mode=\"lines\", name=\"Predictions*\")\n",
        "    )\n",
        "    fig.update_layout(template=\"plotly_dark\")\n",
        "    return 1, fig, predictions"
      ],
      "execution_count": null,
      "outputs": []
    },
    {
      "cell_type": "markdown",
      "metadata": {
        "id": "LnssGeTgPxUE"
      },
      "source": [
        "### Final Function"
      ]
    },
    {
      "cell_type": "code",
      "metadata": {
        "colab": {
          "background_save": true
        },
        "id": "H2x581RhPxUE"
      },
      "source": [
        "def cnn_predict(df_name, country):\n",
        "\n",
        "    data, data_diff, X, y = make_series(df_name, country, 14)\n",
        "    grid = create_param_grid()\n",
        "    n = len(data_diff) * 17 // 20\n",
        "    X_train, X_test, y_train, y_test = X[:n], X[n:], y[:n], y[n:]\n",
        "    parameters = hyperparameter_tuning(grid, X_train, y_train)\n",
        "    p = get_best_params(parameters)\n",
        "    MASE = (test_model(p, X_train, X_test, y_train, y_test, data)).round(2)\n",
        "    if MASE <= 1 or check_slope([1, 2, 3, 4, 5], data.Total[-5:]):\n",
        "        cnn = make_final_model(p, X, y)\n",
        "        f = forecast(data_diff, data, 14, cnn)\n",
        "        f = list(map(int, f))\n",
        "        fig = plot_graph(data, f)\n",
        "    else:\n",
        "        MASE, fig, f = naive_forecast(df_name, country)\n",
        "        \n",
        "    datelist = pd.date_range(data.index[-1], periods=8).tolist()[1:]\n",
        "    predictions = pd.DataFrame(\n",
        "        data={\"Date\": list(map(lambda x: x.strftime('%d/%m/%Y'), datelist)), \"Cases\": f[:7]})\n",
        "\n",
        "    return predictions, MASE, fig"
      ],
      "execution_count": null,
      "outputs": []
    },
    {
      "cell_type": "markdown",
      "metadata": {
        "id": "1sn9VkyCPxUE"
      },
      "source": [
        "## Examples"
      ]
    },
    {
      "cell_type": "markdown",
      "metadata": {
        "id": "SpHZnhp5PxUE"
      },
      "source": [
        "### India - Confirmed Cases"
      ]
    },
    {
      "cell_type": "code",
      "metadata": {
        "colab": {
          "background_save": true
        },
        "id": "Sa0b1xKfPxUF"
      },
      "source": [
        "pred,_,figure = cnn_predict(\"confirmed\",\"India\")"
      ],
      "execution_count": null,
      "outputs": []
    },
    {
      "cell_type": "code",
      "metadata": {
        "colab": {
          "background_save": true
        },
        "id": "xggF8YbFPxUF",
        "outputId": "d99640ae-47ef-4411-8edd-51e15bcb9a44"
      },
      "source": [
        "pred"
      ],
      "execution_count": null,
      "outputs": [
        {
          "output_type": "execute_result",
          "data": {
            "text/html": [
              "<div>\n",
              "<style scoped>\n",
              "    .dataframe tbody tr th:only-of-type {\n",
              "        vertical-align: middle;\n",
              "    }\n",
              "\n",
              "    .dataframe tbody tr th {\n",
              "        vertical-align: top;\n",
              "    }\n",
              "\n",
              "    .dataframe thead th {\n",
              "        text-align: right;\n",
              "    }\n",
              "</style>\n",
              "<table border=\"1\" class=\"dataframe\">\n",
              "  <thead>\n",
              "    <tr style=\"text-align: right;\">\n",
              "      <th></th>\n",
              "      <th>Date</th>\n",
              "      <th>Cases</th>\n",
              "    </tr>\n",
              "  </thead>\n",
              "  <tbody>\n",
              "    <tr>\n",
              "      <th>0</th>\n",
              "      <td>29/12/2020</td>\n",
              "      <td>10244919</td>\n",
              "    </tr>\n",
              "    <tr>\n",
              "      <th>1</th>\n",
              "      <td>30/12/2020</td>\n",
              "      <td>10265629</td>\n",
              "    </tr>\n",
              "    <tr>\n",
              "      <th>2</th>\n",
              "      <td>31/12/2020</td>\n",
              "      <td>10285156</td>\n",
              "    </tr>\n",
              "    <tr>\n",
              "      <th>3</th>\n",
              "      <td>01/01/2021</td>\n",
              "      <td>10304596</td>\n",
              "    </tr>\n",
              "    <tr>\n",
              "      <th>4</th>\n",
              "      <td>02/01/2021</td>\n",
              "      <td>10322177</td>\n",
              "    </tr>\n",
              "    <tr>\n",
              "      <th>5</th>\n",
              "      <td>03/01/2021</td>\n",
              "      <td>10338294</td>\n",
              "    </tr>\n",
              "    <tr>\n",
              "      <th>6</th>\n",
              "      <td>04/01/2021</td>\n",
              "      <td>10354309</td>\n",
              "    </tr>\n",
              "  </tbody>\n",
              "</table>\n",
              "</div>"
            ],
            "text/plain": [
              "         Date     Cases\n",
              "0  29/12/2020  10244919\n",
              "1  30/12/2020  10265629\n",
              "2  31/12/2020  10285156\n",
              "3  01/01/2021  10304596\n",
              "4  02/01/2021  10322177\n",
              "5  03/01/2021  10338294\n",
              "6  04/01/2021  10354309"
            ]
          },
          "metadata": {
            "tags": []
          },
          "execution_count": 0
        }
      ]
    },
    {
      "cell_type": "code",
      "metadata": {
        "colab": {
          "background_save": true
        },
        "id": "93I0H1JIPxUF",
        "outputId": "91ed4818-03f0-4ac0-ba3e-1cf2d6644a50"
      },
      "source": [
        "figure.show()"
      ],
      "execution_count": null,
      "outputs": [
        {
          "output_type": "display_data",
          "data": {
            "text/html": [
              "<html>\n",
              "<head><meta charset=\"utf-8\" /></head>\n",
              "<body>\n",
              "    <div>            <script src=\"https://cdnjs.cloudflare.com/ajax/libs/mathjax/2.7.5/MathJax.js?config=TeX-AMS-MML_SVG\"></script><script type=\"text/javascript\">if (window.MathJax) {MathJax.Hub.Config({SVG: {font: \"STIX-Web\"}});}</script>                <script type=\"text/javascript\">window.PlotlyConfig = {MathJaxConfig: 'local'};</script>\n",
              "        <script src=\"https://cdn.plot.ly/plotly-latest.min.js\"></script>                <div id=\"bdf142c9-28ee-45a8-8471-c90223bf507b\" class=\"plotly-graph-div\" style=\"height:525px; width:100%;\"></div>            <script type=\"text/javascript\">                                    window.PLOTLYENV=window.PLOTLYENV || {};                                    if (document.getElementById(\"bdf142c9-28ee-45a8-8471-c90223bf507b\")) {                    Plotly.newPlot(                        \"bdf142c9-28ee-45a8-8471-c90223bf507b\",                        [{\"mode\": \"lines\", \"name\": \"Up till now\", \"type\": \"scatter\", \"x\": [\"2020-01-30T00:00:00\", \"2020-01-31T00:00:00\", \"2020-02-01T00:00:00\", \"2020-02-02T00:00:00\", \"2020-02-03T00:00:00\", \"2020-02-04T00:00:00\", \"2020-02-05T00:00:00\", \"2020-02-06T00:00:00\", \"2020-02-07T00:00:00\", \"2020-02-08T00:00:00\", \"2020-02-09T00:00:00\", \"2020-02-10T00:00:00\", \"2020-02-11T00:00:00\", \"2020-02-12T00:00:00\", \"2020-02-13T00:00:00\", \"2020-02-14T00:00:00\", \"2020-02-15T00:00:00\", \"2020-02-16T00:00:00\", \"2020-02-17T00:00:00\", \"2020-02-18T00:00:00\", \"2020-02-19T00:00:00\", \"2020-02-20T00:00:00\", \"2020-02-21T00:00:00\", \"2020-02-22T00:00:00\", \"2020-02-23T00:00:00\", \"2020-02-24T00:00:00\", \"2020-02-25T00:00:00\", \"2020-02-26T00:00:00\", \"2020-02-27T00:00:00\", \"2020-02-28T00:00:00\", \"2020-02-29T00:00:00\", \"2020-03-01T00:00:00\", \"2020-03-02T00:00:00\", \"2020-03-03T00:00:00\", \"2020-03-04T00:00:00\", \"2020-03-05T00:00:00\", \"2020-03-06T00:00:00\", \"2020-03-07T00:00:00\", \"2020-03-08T00:00:00\", \"2020-03-09T00:00:00\", \"2020-03-10T00:00:00\", \"2020-03-11T00:00:00\", \"2020-03-12T00:00:00\", \"2020-03-13T00:00:00\", \"2020-03-14T00:00:00\", \"2020-03-15T00:00:00\", \"2020-03-16T00:00:00\", \"2020-03-17T00:00:00\", \"2020-03-18T00:00:00\", \"2020-03-19T00:00:00\", \"2020-03-20T00:00:00\", \"2020-03-21T00:00:00\", \"2020-03-22T00:00:00\", \"2020-03-23T00:00:00\", \"2020-03-24T00:00:00\", \"2020-03-25T00:00:00\", \"2020-03-26T00:00:00\", \"2020-03-27T00:00:00\", \"2020-03-28T00:00:00\", \"2020-03-29T00:00:00\", \"2020-03-30T00:00:00\", \"2020-03-31T00:00:00\", \"2020-04-01T00:00:00\", \"2020-04-02T00:00:00\", \"2020-04-03T00:00:00\", \"2020-04-04T00:00:00\", \"2020-04-05T00:00:00\", \"2020-04-06T00:00:00\", \"2020-04-07T00:00:00\", \"2020-04-08T00:00:00\", \"2020-04-09T00:00:00\", \"2020-04-10T00:00:00\", \"2020-04-11T00:00:00\", \"2020-04-12T00:00:00\", \"2020-04-13T00:00:00\", \"2020-04-14T00:00:00\", \"2020-04-15T00:00:00\", \"2020-04-16T00:00:00\", \"2020-04-17T00:00:00\", \"2020-04-18T00:00:00\", \"2020-04-19T00:00:00\", \"2020-04-20T00:00:00\", \"2020-04-21T00:00:00\", \"2020-04-22T00:00:00\", \"2020-04-23T00:00:00\", \"2020-04-24T00:00:00\", \"2020-04-25T00:00:00\", \"2020-04-26T00:00:00\", \"2020-04-27T00:00:00\", \"2020-04-28T00:00:00\", \"2020-04-29T00:00:00\", \"2020-04-30T00:00:00\", \"2020-05-01T00:00:00\", \"2020-05-02T00:00:00\", \"2020-05-03T00:00:00\", \"2020-05-04T00:00:00\", \"2020-05-05T00:00:00\", \"2020-05-06T00:00:00\", \"2020-05-07T00:00:00\", \"2020-05-08T00:00:00\", \"2020-05-09T00:00:00\", \"2020-05-10T00:00:00\", \"2020-05-11T00:00:00\", \"2020-05-12T00:00:00\", \"2020-05-13T00:00:00\", \"2020-05-14T00:00:00\", \"2020-05-15T00:00:00\", \"2020-05-16T00:00:00\", \"2020-05-17T00:00:00\", \"2020-05-18T00:00:00\", \"2020-05-19T00:00:00\", \"2020-05-20T00:00:00\", \"2020-05-21T00:00:00\", \"2020-05-22T00:00:00\", \"2020-05-23T00:00:00\", \"2020-05-24T00:00:00\", \"2020-05-25T00:00:00\", \"2020-05-26T00:00:00\", \"2020-05-27T00:00:00\", \"2020-05-28T00:00:00\", \"2020-05-29T00:00:00\", \"2020-05-30T00:00:00\", \"2020-05-31T00:00:00\", \"2020-06-01T00:00:00\", \"2020-06-02T00:00:00\", \"2020-06-03T00:00:00\", \"2020-06-04T00:00:00\", \"2020-06-05T00:00:00\", \"2020-06-06T00:00:00\", \"2020-06-07T00:00:00\", \"2020-06-08T00:00:00\", \"2020-06-09T00:00:00\", \"2020-06-10T00:00:00\", \"2020-06-11T00:00:00\", \"2020-06-12T00:00:00\", \"2020-06-13T00:00:00\", \"2020-06-14T00:00:00\", \"2020-06-15T00:00:00\", \"2020-06-16T00:00:00\", \"2020-06-17T00:00:00\", \"2020-06-18T00:00:00\", \"2020-06-19T00:00:00\", \"2020-06-20T00:00:00\", \"2020-06-21T00:00:00\", \"2020-06-22T00:00:00\", \"2020-06-23T00:00:00\", \"2020-06-24T00:00:00\", \"2020-06-25T00:00:00\", \"2020-06-26T00:00:00\", \"2020-06-27T00:00:00\", \"2020-06-28T00:00:00\", \"2020-06-29T00:00:00\", \"2020-06-30T00:00:00\", \"2020-07-01T00:00:00\", \"2020-07-02T00:00:00\", \"2020-07-03T00:00:00\", \"2020-07-04T00:00:00\", \"2020-07-05T00:00:00\", \"2020-07-06T00:00:00\", \"2020-07-07T00:00:00\", \"2020-07-08T00:00:00\", \"2020-07-09T00:00:00\", \"2020-07-10T00:00:00\", \"2020-07-11T00:00:00\", \"2020-07-12T00:00:00\", \"2020-07-13T00:00:00\", \"2020-07-14T00:00:00\", \"2020-07-15T00:00:00\", \"2020-07-16T00:00:00\", \"2020-07-17T00:00:00\", \"2020-07-18T00:00:00\", \"2020-07-19T00:00:00\", \"2020-07-20T00:00:00\", \"2020-07-21T00:00:00\", \"2020-07-22T00:00:00\", \"2020-07-23T00:00:00\", \"2020-07-24T00:00:00\", \"2020-07-25T00:00:00\", \"2020-07-26T00:00:00\", \"2020-07-27T00:00:00\", \"2020-07-28T00:00:00\", \"2020-07-29T00:00:00\", \"2020-07-30T00:00:00\", \"2020-07-31T00:00:00\", \"2020-08-01T00:00:00\", \"2020-08-02T00:00:00\", \"2020-08-03T00:00:00\", \"2020-08-04T00:00:00\", \"2020-08-05T00:00:00\", \"2020-08-06T00:00:00\", \"2020-08-07T00:00:00\", \"2020-08-08T00:00:00\", \"2020-08-09T00:00:00\", \"2020-08-10T00:00:00\", \"2020-08-11T00:00:00\", \"2020-08-12T00:00:00\", \"2020-08-13T00:00:00\", \"2020-08-14T00:00:00\", \"2020-08-15T00:00:00\", \"2020-08-16T00:00:00\", \"2020-08-17T00:00:00\", \"2020-08-18T00:00:00\", \"2020-08-19T00:00:00\", \"2020-08-20T00:00:00\", \"2020-08-21T00:00:00\", \"2020-08-22T00:00:00\", \"2020-08-23T00:00:00\", \"2020-08-24T00:00:00\", \"2020-08-25T00:00:00\", \"2020-08-26T00:00:00\", \"2020-08-27T00:00:00\", \"2020-08-28T00:00:00\", \"2020-08-29T00:00:00\", \"2020-08-30T00:00:00\", \"2020-08-31T00:00:00\", \"2020-09-01T00:00:00\", \"2020-09-02T00:00:00\", \"2020-09-03T00:00:00\", \"2020-09-04T00:00:00\", \"2020-09-05T00:00:00\", \"2020-09-06T00:00:00\", \"2020-09-07T00:00:00\", \"2020-09-08T00:00:00\", \"2020-09-09T00:00:00\", \"2020-09-10T00:00:00\", \"2020-09-11T00:00:00\", \"2020-09-12T00:00:00\", \"2020-09-13T00:00:00\", \"2020-09-14T00:00:00\", \"2020-09-15T00:00:00\", \"2020-09-16T00:00:00\", \"2020-09-17T00:00:00\", \"2020-09-18T00:00:00\", \"2020-09-19T00:00:00\", \"2020-09-20T00:00:00\", \"2020-09-21T00:00:00\", \"2020-09-22T00:00:00\", \"2020-09-23T00:00:00\", \"2020-09-24T00:00:00\", \"2020-09-25T00:00:00\", \"2020-09-26T00:00:00\", \"2020-09-27T00:00:00\", \"2020-09-28T00:00:00\", \"2020-09-29T00:00:00\", \"2020-09-30T00:00:00\", \"2020-10-01T00:00:00\", \"2020-10-02T00:00:00\", \"2020-10-03T00:00:00\", \"2020-10-04T00:00:00\", \"2020-10-05T00:00:00\", \"2020-10-06T00:00:00\", \"2020-10-07T00:00:00\", \"2020-10-08T00:00:00\", \"2020-10-09T00:00:00\", \"2020-10-10T00:00:00\", \"2020-10-11T00:00:00\", \"2020-10-12T00:00:00\", \"2020-10-13T00:00:00\", \"2020-10-14T00:00:00\", \"2020-10-15T00:00:00\", \"2020-10-16T00:00:00\", \"2020-10-17T00:00:00\", \"2020-10-18T00:00:00\", \"2020-10-19T00:00:00\", \"2020-10-20T00:00:00\", \"2020-10-21T00:00:00\", \"2020-10-22T00:00:00\", \"2020-10-23T00:00:00\", \"2020-10-24T00:00:00\", \"2020-10-25T00:00:00\", \"2020-10-26T00:00:00\", \"2020-10-27T00:00:00\", \"2020-10-28T00:00:00\", \"2020-10-29T00:00:00\", \"2020-10-30T00:00:00\", \"2020-10-31T00:00:00\", \"2020-11-01T00:00:00\", \"2020-11-02T00:00:00\", \"2020-11-03T00:00:00\", \"2020-11-04T00:00:00\", \"2020-11-05T00:00:00\", \"2020-11-06T00:00:00\", \"2020-11-07T00:00:00\", \"2020-11-08T00:00:00\", \"2020-11-09T00:00:00\", \"2020-11-10T00:00:00\", \"2020-11-11T00:00:00\", \"2020-11-12T00:00:00\", \"2020-11-13T00:00:00\", \"2020-11-14T00:00:00\", \"2020-11-15T00:00:00\", \"2020-11-16T00:00:00\", \"2020-11-17T00:00:00\", \"2020-11-18T00:00:00\", \"2020-11-19T00:00:00\", \"2020-11-20T00:00:00\", \"2020-11-21T00:00:00\", \"2020-11-22T00:00:00\", \"2020-11-23T00:00:00\", \"2020-11-24T00:00:00\", \"2020-11-25T00:00:00\", \"2020-11-26T00:00:00\", \"2020-11-27T00:00:00\", \"2020-11-28T00:00:00\", \"2020-11-29T00:00:00\", \"2020-11-30T00:00:00\", \"2020-12-01T00:00:00\", \"2020-12-02T00:00:00\", \"2020-12-03T00:00:00\", \"2020-12-04T00:00:00\", \"2020-12-05T00:00:00\", \"2020-12-06T00:00:00\", \"2020-12-07T00:00:00\", \"2020-12-08T00:00:00\", \"2020-12-09T00:00:00\", \"2020-12-10T00:00:00\", \"2020-12-11T00:00:00\", \"2020-12-12T00:00:00\", \"2020-12-13T00:00:00\", \"2020-12-14T00:00:00\", \"2020-12-15T00:00:00\", \"2020-12-16T00:00:00\", \"2020-12-17T00:00:00\", \"2020-12-18T00:00:00\", \"2020-12-19T00:00:00\", \"2020-12-20T00:00:00\", \"2020-12-21T00:00:00\", \"2020-12-22T00:00:00\", \"2020-12-23T00:00:00\", \"2020-12-24T00:00:00\", \"2020-12-25T00:00:00\", \"2020-12-26T00:00:00\", \"2020-12-27T00:00:00\", \"2020-12-28T00:00:00\"], \"y\": [1, 1, 1, 2, 3, 3, 3, 3, 3, 3, 3, 3, 3, 3, 3, 3, 3, 3, 3, 3, 3, 3, 3, 3, 3, 3, 3, 3, 3, 3, 3, 3, 5, 5, 28, 30, 31, 34, 39, 43, 56, 62, 73, 82, 102, 113, 119, 142, 156, 194, 244, 330, 396, 499, 536, 657, 727, 887, 987, 1024, 1251, 1397, 1998, 2543, 2567, 3082, 3588, 4778, 5311, 5916, 6725, 7598, 8446, 9205, 10453, 11487, 12322, 13430, 14352, 15722, 17615, 18539, 20080, 21370, 23077, 24530, 26283, 27890, 29451, 31324, 33062, 34863, 37257, 39699, 42505, 46437, 49400, 52987, 56351, 59695, 62808, 67161, 70768, 74292, 78055, 81997, 85784, 90648, 95698, 100328, 106475, 112028, 118226, 124794, 131423, 138536, 144950, 150793, 158086, 165386, 173491, 181827, 190609, 198370, 207191, 216824, 226713, 236184, 246622, 257486, 265928, 276146, 286605, 297535, 308993, 320922, 332424, 343091, 354065, 366946, 380532, 395048, 410451, 425282, 440215, 456183, 473105, 490401, 508953, 528859, 548318, 566840, 585481, 604641, 625544, 648315, 673165, 697413, 719664, 742417, 767296, 793802, 820916, 849522, 878254, 906752, 936181, 968857, 1003832, 1039084, 1077781, 1118206, 1155338, 1193078, 1238798, 1288108, 1337024, 1385635, 1435616, 1480073, 1531669, 1581963, 1634746, 1695988, 1750723, 1803695, 1855745, 1908254, 1964536, 2027074, 2088611, 2153010, 2215074, 2268675, 2329638, 2396637, 2461190, 2525922, 2589952, 2647663, 2702681, 2767253, 2836925, 2905825, 2975701, 3044940, 3106348, 3167323, 3224547, 3310234, 3387500, 3463972, 3542733, 3621245, 3691166, 3769523, 3853406, 3936747, 4023179, 4113811, 4204613, 4280422, 4370128, 4465863, 4562414, 4659984, 4754356, 4846427, 4930236, 5020359, 5118253, 5214677, 5308014, 5400619, 5487580, 5562663, 5646010, 5732518, 5818570, 5903932, 5992532, 6074702, 6145291, 6225763, 6312584, 6394068, 6473544, 6549373, 6623815, 6685082, 6757131, 6835655, 6906151, 6979423, 7053806, 7120538, 7175880, 7239389, 7307097, 7370468, 7432680, 7494551, 7550273, 7597063, 7651107, 7706946, 7761312, 7814682, 7864811, 7909959, 7946429, 7990322, 8040203, 8088851, 8137119, 8184082, 8229313, 8267623, 8313876, 8364086, 8411724, 8462080, 8507754, 8553657, 8591730, 8636011, 8683916, 8728795, 8773479, 8814579, 8845127, 8874290, 8912907, 8958483, 9004365, 9050597, 9095806, 9139865, 9177840, 9222216, 9266705, 9309787, 9351109, 9392919, 9431691, 9462809, 9499413, 9534964, 9571559, 9608211, 9644222, 9677203, 9703770, 9735850, 9767371, 9796744, 9826775, 9857029, 9884100, 9906165, 9932547, 9956557, 9979447, 10004599, 10031223, 10055560, 10075116, 10099066, 10123778, 10146845, 10169118, 10187850, 10207871, 10224303]}, {\"mode\": \"lines\", \"name\": \"Predictions*\", \"type\": \"scatter\", \"x\": [\"2020-12-29T00:00:00\", \"2020-12-30T00:00:00\", \"2020-12-31T00:00:00\", \"2021-01-01T00:00:00\", \"2021-01-02T00:00:00\", \"2021-01-03T00:00:00\", \"2021-01-04T00:00:00\", \"2021-01-05T00:00:00\", \"2021-01-06T00:00:00\", \"2021-01-07T00:00:00\", \"2021-01-08T00:00:00\", \"2021-01-09T00:00:00\", \"2021-01-10T00:00:00\", \"2021-01-11T00:00:00\"], \"y\": [10244919, 10265629, 10285156, 10304596, 10322177, 10338294, 10354309, 10371470, 10389524, 10407230, 10423656, 10439550, 10453779, 10467308]}],                        {\"template\": {\"data\": {\"bar\": [{\"error_x\": {\"color\": \"#f2f5fa\"}, \"error_y\": {\"color\": \"#f2f5fa\"}, \"marker\": {\"line\": {\"color\": \"rgb(17,17,17)\", \"width\": 0.5}}, \"type\": \"bar\"}], \"barpolar\": [{\"marker\": {\"line\": {\"color\": \"rgb(17,17,17)\", \"width\": 0.5}}, \"type\": \"barpolar\"}], \"carpet\": [{\"aaxis\": {\"endlinecolor\": \"#A2B1C6\", \"gridcolor\": \"#506784\", \"linecolor\": \"#506784\", \"minorgridcolor\": \"#506784\", \"startlinecolor\": \"#A2B1C6\"}, \"baxis\": {\"endlinecolor\": \"#A2B1C6\", \"gridcolor\": \"#506784\", \"linecolor\": \"#506784\", \"minorgridcolor\": \"#506784\", \"startlinecolor\": \"#A2B1C6\"}, \"type\": \"carpet\"}], \"choropleth\": [{\"colorbar\": {\"outlinewidth\": 0, \"ticks\": \"\"}, \"type\": \"choropleth\"}], \"contour\": [{\"colorbar\": {\"outlinewidth\": 0, \"ticks\": \"\"}, \"colorscale\": [[0.0, \"#0d0887\"], [0.1111111111111111, \"#46039f\"], [0.2222222222222222, \"#7201a8\"], [0.3333333333333333, \"#9c179e\"], [0.4444444444444444, \"#bd3786\"], [0.5555555555555556, \"#d8576b\"], [0.6666666666666666, \"#ed7953\"], [0.7777777777777778, \"#fb9f3a\"], [0.8888888888888888, \"#fdca26\"], [1.0, \"#f0f921\"]], \"type\": \"contour\"}], \"contourcarpet\": [{\"colorbar\": {\"outlinewidth\": 0, \"ticks\": \"\"}, \"type\": \"contourcarpet\"}], \"heatmap\": [{\"colorbar\": {\"outlinewidth\": 0, \"ticks\": \"\"}, \"colorscale\": [[0.0, \"#0d0887\"], [0.1111111111111111, \"#46039f\"], [0.2222222222222222, \"#7201a8\"], [0.3333333333333333, \"#9c179e\"], [0.4444444444444444, \"#bd3786\"], [0.5555555555555556, \"#d8576b\"], [0.6666666666666666, \"#ed7953\"], [0.7777777777777778, \"#fb9f3a\"], [0.8888888888888888, \"#fdca26\"], [1.0, \"#f0f921\"]], \"type\": \"heatmap\"}], \"heatmapgl\": [{\"colorbar\": {\"outlinewidth\": 0, \"ticks\": \"\"}, \"colorscale\": [[0.0, \"#0d0887\"], [0.1111111111111111, \"#46039f\"], [0.2222222222222222, \"#7201a8\"], [0.3333333333333333, \"#9c179e\"], [0.4444444444444444, \"#bd3786\"], [0.5555555555555556, \"#d8576b\"], [0.6666666666666666, \"#ed7953\"], [0.7777777777777778, \"#fb9f3a\"], [0.8888888888888888, \"#fdca26\"], [1.0, \"#f0f921\"]], \"type\": \"heatmapgl\"}], \"histogram\": [{\"marker\": {\"colorbar\": {\"outlinewidth\": 0, \"ticks\": \"\"}}, \"type\": \"histogram\"}], \"histogram2d\": [{\"colorbar\": {\"outlinewidth\": 0, \"ticks\": \"\"}, \"colorscale\": [[0.0, \"#0d0887\"], [0.1111111111111111, \"#46039f\"], [0.2222222222222222, \"#7201a8\"], [0.3333333333333333, \"#9c179e\"], [0.4444444444444444, \"#bd3786\"], [0.5555555555555556, \"#d8576b\"], [0.6666666666666666, \"#ed7953\"], [0.7777777777777778, \"#fb9f3a\"], [0.8888888888888888, \"#fdca26\"], [1.0, \"#f0f921\"]], \"type\": \"histogram2d\"}], \"histogram2dcontour\": [{\"colorbar\": {\"outlinewidth\": 0, \"ticks\": \"\"}, \"colorscale\": [[0.0, \"#0d0887\"], [0.1111111111111111, \"#46039f\"], [0.2222222222222222, \"#7201a8\"], [0.3333333333333333, \"#9c179e\"], [0.4444444444444444, \"#bd3786\"], [0.5555555555555556, \"#d8576b\"], [0.6666666666666666, \"#ed7953\"], [0.7777777777777778, \"#fb9f3a\"], [0.8888888888888888, \"#fdca26\"], [1.0, \"#f0f921\"]], \"type\": \"histogram2dcontour\"}], \"mesh3d\": [{\"colorbar\": {\"outlinewidth\": 0, \"ticks\": \"\"}, \"type\": \"mesh3d\"}], \"parcoords\": [{\"line\": {\"colorbar\": {\"outlinewidth\": 0, \"ticks\": \"\"}}, \"type\": \"parcoords\"}], \"pie\": [{\"automargin\": true, \"type\": \"pie\"}], \"scatter\": [{\"marker\": {\"line\": {\"color\": \"#283442\"}}, \"type\": \"scatter\"}], \"scatter3d\": [{\"line\": {\"colorbar\": {\"outlinewidth\": 0, \"ticks\": \"\"}}, \"marker\": {\"colorbar\": {\"outlinewidth\": 0, \"ticks\": \"\"}}, \"type\": \"scatter3d\"}], \"scattercarpet\": [{\"marker\": {\"colorbar\": {\"outlinewidth\": 0, \"ticks\": \"\"}}, \"type\": \"scattercarpet\"}], \"scattergeo\": [{\"marker\": {\"colorbar\": {\"outlinewidth\": 0, \"ticks\": \"\"}}, \"type\": \"scattergeo\"}], \"scattergl\": [{\"marker\": {\"line\": {\"color\": \"#283442\"}}, \"type\": \"scattergl\"}], \"scattermapbox\": [{\"marker\": {\"colorbar\": {\"outlinewidth\": 0, \"ticks\": \"\"}}, \"type\": \"scattermapbox\"}], \"scatterpolar\": [{\"marker\": {\"colorbar\": {\"outlinewidth\": 0, \"ticks\": \"\"}}, \"type\": \"scatterpolar\"}], \"scatterpolargl\": [{\"marker\": {\"colorbar\": {\"outlinewidth\": 0, \"ticks\": \"\"}}, \"type\": \"scatterpolargl\"}], \"scatterternary\": [{\"marker\": {\"colorbar\": {\"outlinewidth\": 0, \"ticks\": \"\"}}, \"type\": \"scatterternary\"}], \"surface\": [{\"colorbar\": {\"outlinewidth\": 0, \"ticks\": \"\"}, \"colorscale\": [[0.0, \"#0d0887\"], [0.1111111111111111, \"#46039f\"], [0.2222222222222222, \"#7201a8\"], [0.3333333333333333, \"#9c179e\"], [0.4444444444444444, \"#bd3786\"], [0.5555555555555556, \"#d8576b\"], [0.6666666666666666, \"#ed7953\"], [0.7777777777777778, \"#fb9f3a\"], [0.8888888888888888, \"#fdca26\"], [1.0, \"#f0f921\"]], \"type\": \"surface\"}], \"table\": [{\"cells\": {\"fill\": {\"color\": \"#506784\"}, \"line\": {\"color\": \"rgb(17,17,17)\"}}, \"header\": {\"fill\": {\"color\": \"#2a3f5f\"}, \"line\": {\"color\": \"rgb(17,17,17)\"}}, \"type\": \"table\"}]}, \"layout\": {\"annotationdefaults\": {\"arrowcolor\": \"#f2f5fa\", \"arrowhead\": 0, \"arrowwidth\": 1}, \"autotypenumbers\": \"strict\", \"coloraxis\": {\"colorbar\": {\"outlinewidth\": 0, \"ticks\": \"\"}}, \"colorscale\": {\"diverging\": [[0, \"#8e0152\"], [0.1, \"#c51b7d\"], [0.2, \"#de77ae\"], [0.3, \"#f1b6da\"], [0.4, \"#fde0ef\"], [0.5, \"#f7f7f7\"], [0.6, \"#e6f5d0\"], [0.7, \"#b8e186\"], [0.8, \"#7fbc41\"], [0.9, \"#4d9221\"], [1, \"#276419\"]], \"sequential\": [[0.0, \"#0d0887\"], [0.1111111111111111, \"#46039f\"], [0.2222222222222222, \"#7201a8\"], [0.3333333333333333, \"#9c179e\"], [0.4444444444444444, \"#bd3786\"], [0.5555555555555556, \"#d8576b\"], [0.6666666666666666, \"#ed7953\"], [0.7777777777777778, \"#fb9f3a\"], [0.8888888888888888, \"#fdca26\"], [1.0, \"#f0f921\"]], \"sequentialminus\": [[0.0, \"#0d0887\"], [0.1111111111111111, \"#46039f\"], [0.2222222222222222, \"#7201a8\"], [0.3333333333333333, \"#9c179e\"], [0.4444444444444444, \"#bd3786\"], [0.5555555555555556, \"#d8576b\"], [0.6666666666666666, \"#ed7953\"], [0.7777777777777778, \"#fb9f3a\"], [0.8888888888888888, \"#fdca26\"], [1.0, \"#f0f921\"]]}, \"colorway\": [\"#636efa\", \"#EF553B\", \"#00cc96\", \"#ab63fa\", \"#FFA15A\", \"#19d3f3\", \"#FF6692\", \"#B6E880\", \"#FF97FF\", \"#FECB52\"], \"font\": {\"color\": \"#f2f5fa\"}, \"geo\": {\"bgcolor\": \"rgb(17,17,17)\", \"lakecolor\": \"rgb(17,17,17)\", \"landcolor\": \"rgb(17,17,17)\", \"showlakes\": true, \"showland\": true, \"subunitcolor\": \"#506784\"}, \"hoverlabel\": {\"align\": \"left\"}, \"hovermode\": \"closest\", \"mapbox\": {\"style\": \"dark\"}, \"paper_bgcolor\": \"rgb(17,17,17)\", \"plot_bgcolor\": \"rgb(17,17,17)\", \"polar\": {\"angularaxis\": {\"gridcolor\": \"#506784\", \"linecolor\": \"#506784\", \"ticks\": \"\"}, \"bgcolor\": \"rgb(17,17,17)\", \"radialaxis\": {\"gridcolor\": \"#506784\", \"linecolor\": \"#506784\", \"ticks\": \"\"}}, \"scene\": {\"xaxis\": {\"backgroundcolor\": \"rgb(17,17,17)\", \"gridcolor\": \"#506784\", \"gridwidth\": 2, \"linecolor\": \"#506784\", \"showbackground\": true, \"ticks\": \"\", \"zerolinecolor\": \"#C8D4E3\"}, \"yaxis\": {\"backgroundcolor\": \"rgb(17,17,17)\", \"gridcolor\": \"#506784\", \"gridwidth\": 2, \"linecolor\": \"#506784\", \"showbackground\": true, \"ticks\": \"\", \"zerolinecolor\": \"#C8D4E3\"}, \"zaxis\": {\"backgroundcolor\": \"rgb(17,17,17)\", \"gridcolor\": \"#506784\", \"gridwidth\": 2, \"linecolor\": \"#506784\", \"showbackground\": true, \"ticks\": \"\", \"zerolinecolor\": \"#C8D4E3\"}}, \"shapedefaults\": {\"line\": {\"color\": \"#f2f5fa\"}}, \"sliderdefaults\": {\"bgcolor\": \"#C8D4E3\", \"bordercolor\": \"rgb(17,17,17)\", \"borderwidth\": 1, \"tickwidth\": 0}, \"ternary\": {\"aaxis\": {\"gridcolor\": \"#506784\", \"linecolor\": \"#506784\", \"ticks\": \"\"}, \"baxis\": {\"gridcolor\": \"#506784\", \"linecolor\": \"#506784\", \"ticks\": \"\"}, \"bgcolor\": \"rgb(17,17,17)\", \"caxis\": {\"gridcolor\": \"#506784\", \"linecolor\": \"#506784\", \"ticks\": \"\"}}, \"title\": {\"x\": 0.05}, \"updatemenudefaults\": {\"bgcolor\": \"#506784\", \"borderwidth\": 0}, \"xaxis\": {\"automargin\": true, \"gridcolor\": \"#283442\", \"linecolor\": \"#506784\", \"ticks\": \"\", \"title\": {\"standoff\": 15}, \"zerolinecolor\": \"#283442\", \"zerolinewidth\": 2}, \"yaxis\": {\"automargin\": true, \"gridcolor\": \"#283442\", \"linecolor\": \"#506784\", \"ticks\": \"\", \"title\": {\"standoff\": 15}, \"zerolinecolor\": \"#283442\", \"zerolinewidth\": 2}}}},                        {\"responsive\": true}                    ).then(function(){\n",
              "                            \n",
              "var gd = document.getElementById('bdf142c9-28ee-45a8-8471-c90223bf507b');\n",
              "var x = new MutationObserver(function (mutations, observer) {{\n",
              "        var display = window.getComputedStyle(gd).display;\n",
              "        if (!display || display === 'none') {{\n",
              "            console.log([gd, 'removed!']);\n",
              "            Plotly.purge(gd);\n",
              "            observer.disconnect();\n",
              "        }}\n",
              "}});\n",
              "\n",
              "// Listen for the removal of the full notebook cells\n",
              "var notebookContainer = gd.closest('#notebook-container');\n",
              "if (notebookContainer) {{\n",
              "    x.observe(notebookContainer, {childList: true});\n",
              "}}\n",
              "\n",
              "// Listen for the clearing of the current output cell\n",
              "var outputEl = gd.closest('.output');\n",
              "if (outputEl) {{\n",
              "    x.observe(outputEl, {childList: true});\n",
              "}}\n",
              "\n",
              "                        })                };                            </script>        </div>\n",
              "</body>\n",
              "</html>"
            ]
          },
          "metadata": {
            "tags": []
          }
        }
      ]
    },
    {
      "cell_type": "markdown",
      "metadata": {
        "id": "1S0t8sVfPxUF"
      },
      "source": [
        "### US - Deaths"
      ]
    },
    {
      "cell_type": "code",
      "metadata": {
        "colab": {
          "background_save": true
        },
        "id": "gvqx2R8MPxUF"
      },
      "source": [
        "pred,_,figure = cnn_predict(\"deaths\",\"US\")"
      ],
      "execution_count": null,
      "outputs": []
    },
    {
      "cell_type": "code",
      "metadata": {
        "colab": {
          "background_save": true
        },
        "id": "IToYh9YaPxUF",
        "outputId": "aeaac2a9-3314-4eb9-877e-a9f361295e3a"
      },
      "source": [
        "pred"
      ],
      "execution_count": null,
      "outputs": [
        {
          "output_type": "execute_result",
          "data": {
            "text/html": [
              "<div>\n",
              "<style scoped>\n",
              "    .dataframe tbody tr th:only-of-type {\n",
              "        vertical-align: middle;\n",
              "    }\n",
              "\n",
              "    .dataframe tbody tr th {\n",
              "        vertical-align: top;\n",
              "    }\n",
              "\n",
              "    .dataframe thead th {\n",
              "        text-align: right;\n",
              "    }\n",
              "</style>\n",
              "<table border=\"1\" class=\"dataframe\">\n",
              "  <thead>\n",
              "    <tr style=\"text-align: right;\">\n",
              "      <th></th>\n",
              "      <th>Date</th>\n",
              "      <th>Cases</th>\n",
              "    </tr>\n",
              "  </thead>\n",
              "  <tbody>\n",
              "    <tr>\n",
              "      <th>0</th>\n",
              "      <td>29/12/2020</td>\n",
              "      <td>337320</td>\n",
              "    </tr>\n",
              "    <tr>\n",
              "      <th>1</th>\n",
              "      <td>30/12/2020</td>\n",
              "      <td>340197</td>\n",
              "    </tr>\n",
              "    <tr>\n",
              "      <th>2</th>\n",
              "      <td>31/12/2020</td>\n",
              "      <td>342742</td>\n",
              "    </tr>\n",
              "    <tr>\n",
              "      <th>3</th>\n",
              "      <td>01/01/2021</td>\n",
              "      <td>344414</td>\n",
              "    </tr>\n",
              "    <tr>\n",
              "      <th>4</th>\n",
              "      <td>02/01/2021</td>\n",
              "      <td>345597</td>\n",
              "    </tr>\n",
              "    <tr>\n",
              "      <th>5</th>\n",
              "      <td>03/01/2021</td>\n",
              "      <td>346561</td>\n",
              "    </tr>\n",
              "    <tr>\n",
              "      <th>6</th>\n",
              "      <td>04/01/2021</td>\n",
              "      <td>348086</td>\n",
              "    </tr>\n",
              "  </tbody>\n",
              "</table>\n",
              "</div>"
            ],
            "text/plain": [
              "         Date   Cases\n",
              "0  29/12/2020  337320\n",
              "1  30/12/2020  340197\n",
              "2  31/12/2020  342742\n",
              "3  01/01/2021  344414\n",
              "4  02/01/2021  345597\n",
              "5  03/01/2021  346561\n",
              "6  04/01/2021  348086"
            ]
          },
          "metadata": {
            "tags": []
          },
          "execution_count": 0
        }
      ]
    },
    {
      "cell_type": "code",
      "metadata": {
        "colab": {
          "background_save": true
        },
        "id": "iNax2GvIPxUG",
        "outputId": "6ce50882-5f1a-42a3-d63a-bf17a16acab4"
      },
      "source": [
        "figure.show()"
      ],
      "execution_count": null,
      "outputs": [
        {
          "output_type": "display_data",
          "data": {
            "text/html": [
              "<html>\n",
              "<head><meta charset=\"utf-8\" /></head>\n",
              "<body>\n",
              "    <div>            <script src=\"https://cdnjs.cloudflare.com/ajax/libs/mathjax/2.7.5/MathJax.js?config=TeX-AMS-MML_SVG\"></script><script type=\"text/javascript\">if (window.MathJax) {MathJax.Hub.Config({SVG: {font: \"STIX-Web\"}});}</script>                <script type=\"text/javascript\">window.PlotlyConfig = {MathJaxConfig: 'local'};</script>\n",
              "        <script src=\"https://cdn.plot.ly/plotly-latest.min.js\"></script>                <div id=\"c941923e-4de8-4c02-8c88-8984c46248be\" class=\"plotly-graph-div\" style=\"height:525px; width:100%;\"></div>            <script type=\"text/javascript\">                                    window.PLOTLYENV=window.PLOTLYENV || {};                                    if (document.getElementById(\"c941923e-4de8-4c02-8c88-8984c46248be\")) {                    Plotly.newPlot(                        \"c941923e-4de8-4c02-8c88-8984c46248be\",                        [{\"mode\": \"lines\", \"name\": \"Up till now\", \"type\": \"scatter\", \"x\": [\"2020-02-29T00:00:00\", \"2020-03-01T00:00:00\", \"2020-03-02T00:00:00\", \"2020-03-03T00:00:00\", \"2020-03-04T00:00:00\", \"2020-03-05T00:00:00\", \"2020-03-06T00:00:00\", \"2020-03-07T00:00:00\", \"2020-03-08T00:00:00\", \"2020-03-09T00:00:00\", \"2020-03-10T00:00:00\", \"2020-03-11T00:00:00\", \"2020-03-12T00:00:00\", \"2020-03-13T00:00:00\", \"2020-03-14T00:00:00\", \"2020-03-15T00:00:00\", \"2020-03-16T00:00:00\", \"2020-03-17T00:00:00\", \"2020-03-18T00:00:00\", \"2020-03-19T00:00:00\", \"2020-03-20T00:00:00\", \"2020-03-21T00:00:00\", \"2020-03-22T00:00:00\", \"2020-03-23T00:00:00\", \"2020-03-24T00:00:00\", \"2020-03-25T00:00:00\", \"2020-03-26T00:00:00\", \"2020-03-27T00:00:00\", \"2020-03-28T00:00:00\", \"2020-03-29T00:00:00\", \"2020-03-30T00:00:00\", \"2020-03-31T00:00:00\", \"2020-04-01T00:00:00\", \"2020-04-02T00:00:00\", \"2020-04-03T00:00:00\", \"2020-04-04T00:00:00\", \"2020-04-05T00:00:00\", \"2020-04-06T00:00:00\", \"2020-04-07T00:00:00\", \"2020-04-08T00:00:00\", \"2020-04-09T00:00:00\", \"2020-04-10T00:00:00\", \"2020-04-11T00:00:00\", \"2020-04-12T00:00:00\", \"2020-04-13T00:00:00\", \"2020-04-14T00:00:00\", \"2020-04-15T00:00:00\", \"2020-04-16T00:00:00\", \"2020-04-17T00:00:00\", \"2020-04-18T00:00:00\", \"2020-04-19T00:00:00\", \"2020-04-20T00:00:00\", \"2020-04-21T00:00:00\", \"2020-04-22T00:00:00\", \"2020-04-23T00:00:00\", \"2020-04-24T00:00:00\", \"2020-04-25T00:00:00\", \"2020-04-26T00:00:00\", \"2020-04-27T00:00:00\", \"2020-04-28T00:00:00\", \"2020-04-29T00:00:00\", \"2020-04-30T00:00:00\", \"2020-05-01T00:00:00\", \"2020-05-02T00:00:00\", \"2020-05-03T00:00:00\", \"2020-05-04T00:00:00\", \"2020-05-05T00:00:00\", \"2020-05-06T00:00:00\", \"2020-05-07T00:00:00\", \"2020-05-08T00:00:00\", \"2020-05-09T00:00:00\", \"2020-05-10T00:00:00\", \"2020-05-11T00:00:00\", \"2020-05-12T00:00:00\", \"2020-05-13T00:00:00\", \"2020-05-14T00:00:00\", \"2020-05-15T00:00:00\", \"2020-05-16T00:00:00\", \"2020-05-17T00:00:00\", \"2020-05-18T00:00:00\", \"2020-05-19T00:00:00\", \"2020-05-20T00:00:00\", \"2020-05-21T00:00:00\", \"2020-05-22T00:00:00\", \"2020-05-23T00:00:00\", \"2020-05-24T00:00:00\", \"2020-05-25T00:00:00\", \"2020-05-26T00:00:00\", \"2020-05-27T00:00:00\", \"2020-05-28T00:00:00\", \"2020-05-29T00:00:00\", \"2020-05-30T00:00:00\", \"2020-05-31T00:00:00\", \"2020-06-01T00:00:00\", \"2020-06-02T00:00:00\", \"2020-06-03T00:00:00\", \"2020-06-04T00:00:00\", \"2020-06-05T00:00:00\", \"2020-06-06T00:00:00\", \"2020-06-07T00:00:00\", \"2020-06-08T00:00:00\", \"2020-06-09T00:00:00\", \"2020-06-10T00:00:00\", \"2020-06-11T00:00:00\", \"2020-06-12T00:00:00\", \"2020-06-13T00:00:00\", \"2020-06-14T00:00:00\", \"2020-06-15T00:00:00\", \"2020-06-16T00:00:00\", \"2020-06-17T00:00:00\", \"2020-06-18T00:00:00\", \"2020-06-19T00:00:00\", \"2020-06-20T00:00:00\", \"2020-06-21T00:00:00\", \"2020-06-22T00:00:00\", \"2020-06-23T00:00:00\", \"2020-06-24T00:00:00\", \"2020-06-25T00:00:00\", \"2020-06-26T00:00:00\", \"2020-06-27T00:00:00\", \"2020-06-28T00:00:00\", \"2020-06-29T00:00:00\", \"2020-06-30T00:00:00\", \"2020-07-01T00:00:00\", \"2020-07-02T00:00:00\", \"2020-07-03T00:00:00\", \"2020-07-04T00:00:00\", \"2020-07-05T00:00:00\", \"2020-07-06T00:00:00\", \"2020-07-07T00:00:00\", \"2020-07-08T00:00:00\", \"2020-07-09T00:00:00\", \"2020-07-10T00:00:00\", \"2020-07-11T00:00:00\", \"2020-07-12T00:00:00\", \"2020-07-13T00:00:00\", \"2020-07-14T00:00:00\", \"2020-07-15T00:00:00\", \"2020-07-16T00:00:00\", \"2020-07-17T00:00:00\", \"2020-07-18T00:00:00\", \"2020-07-19T00:00:00\", \"2020-07-20T00:00:00\", \"2020-07-21T00:00:00\", \"2020-07-22T00:00:00\", \"2020-07-23T00:00:00\", \"2020-07-24T00:00:00\", \"2020-07-25T00:00:00\", \"2020-07-26T00:00:00\", \"2020-07-27T00:00:00\", \"2020-07-28T00:00:00\", \"2020-07-29T00:00:00\", \"2020-07-30T00:00:00\", \"2020-07-31T00:00:00\", \"2020-08-01T00:00:00\", \"2020-08-02T00:00:00\", \"2020-08-03T00:00:00\", \"2020-08-04T00:00:00\", \"2020-08-05T00:00:00\", \"2020-08-06T00:00:00\", \"2020-08-07T00:00:00\", \"2020-08-08T00:00:00\", \"2020-08-09T00:00:00\", \"2020-08-10T00:00:00\", \"2020-08-11T00:00:00\", \"2020-08-12T00:00:00\", \"2020-08-13T00:00:00\", \"2020-08-14T00:00:00\", \"2020-08-15T00:00:00\", \"2020-08-16T00:00:00\", \"2020-08-17T00:00:00\", \"2020-08-18T00:00:00\", \"2020-08-19T00:00:00\", \"2020-08-20T00:00:00\", \"2020-08-21T00:00:00\", \"2020-08-22T00:00:00\", \"2020-08-23T00:00:00\", \"2020-08-24T00:00:00\", \"2020-08-25T00:00:00\", \"2020-08-26T00:00:00\", \"2020-08-27T00:00:00\", \"2020-08-28T00:00:00\", \"2020-08-29T00:00:00\", \"2020-08-30T00:00:00\", \"2020-08-31T00:00:00\", \"2020-09-01T00:00:00\", \"2020-09-02T00:00:00\", \"2020-09-03T00:00:00\", \"2020-09-04T00:00:00\", \"2020-09-05T00:00:00\", \"2020-09-06T00:00:00\", \"2020-09-07T00:00:00\", \"2020-09-08T00:00:00\", \"2020-09-09T00:00:00\", \"2020-09-10T00:00:00\", \"2020-09-11T00:00:00\", \"2020-09-12T00:00:00\", \"2020-09-13T00:00:00\", \"2020-09-14T00:00:00\", \"2020-09-15T00:00:00\", \"2020-09-16T00:00:00\", \"2020-09-17T00:00:00\", \"2020-09-18T00:00:00\", \"2020-09-19T00:00:00\", \"2020-09-20T00:00:00\", \"2020-09-21T00:00:00\", \"2020-09-22T00:00:00\", \"2020-09-23T00:00:00\", \"2020-09-24T00:00:00\", \"2020-09-25T00:00:00\", \"2020-09-26T00:00:00\", \"2020-09-27T00:00:00\", \"2020-09-28T00:00:00\", \"2020-09-29T00:00:00\", \"2020-09-30T00:00:00\", \"2020-10-01T00:00:00\", \"2020-10-02T00:00:00\", \"2020-10-03T00:00:00\", \"2020-10-04T00:00:00\", \"2020-10-05T00:00:00\", \"2020-10-06T00:00:00\", \"2020-10-07T00:00:00\", \"2020-10-08T00:00:00\", \"2020-10-09T00:00:00\", \"2020-10-10T00:00:00\", \"2020-10-11T00:00:00\", \"2020-10-12T00:00:00\", \"2020-10-13T00:00:00\", \"2020-10-14T00:00:00\", \"2020-10-15T00:00:00\", \"2020-10-16T00:00:00\", \"2020-10-17T00:00:00\", \"2020-10-18T00:00:00\", \"2020-10-19T00:00:00\", \"2020-10-20T00:00:00\", \"2020-10-21T00:00:00\", \"2020-10-22T00:00:00\", \"2020-10-23T00:00:00\", \"2020-10-24T00:00:00\", \"2020-10-25T00:00:00\", \"2020-10-26T00:00:00\", \"2020-10-27T00:00:00\", \"2020-10-28T00:00:00\", \"2020-10-29T00:00:00\", \"2020-10-30T00:00:00\", \"2020-10-31T00:00:00\", \"2020-11-01T00:00:00\", \"2020-11-02T00:00:00\", \"2020-11-03T00:00:00\", \"2020-11-04T00:00:00\", \"2020-11-05T00:00:00\", \"2020-11-06T00:00:00\", \"2020-11-07T00:00:00\", \"2020-11-08T00:00:00\", \"2020-11-09T00:00:00\", \"2020-11-10T00:00:00\", \"2020-11-11T00:00:00\", \"2020-11-12T00:00:00\", \"2020-11-13T00:00:00\", \"2020-11-14T00:00:00\", \"2020-11-15T00:00:00\", \"2020-11-16T00:00:00\", \"2020-11-17T00:00:00\", \"2020-11-18T00:00:00\", \"2020-11-19T00:00:00\", \"2020-11-20T00:00:00\", \"2020-11-21T00:00:00\", \"2020-11-22T00:00:00\", \"2020-11-23T00:00:00\", \"2020-11-24T00:00:00\", \"2020-11-25T00:00:00\", \"2020-11-26T00:00:00\", \"2020-11-27T00:00:00\", \"2020-11-28T00:00:00\", \"2020-11-29T00:00:00\", \"2020-11-30T00:00:00\", \"2020-12-01T00:00:00\", \"2020-12-02T00:00:00\", \"2020-12-03T00:00:00\", \"2020-12-04T00:00:00\", \"2020-12-05T00:00:00\", \"2020-12-06T00:00:00\", \"2020-12-07T00:00:00\", \"2020-12-08T00:00:00\", \"2020-12-09T00:00:00\", \"2020-12-10T00:00:00\", \"2020-12-11T00:00:00\", \"2020-12-12T00:00:00\", \"2020-12-13T00:00:00\", \"2020-12-14T00:00:00\", \"2020-12-15T00:00:00\", \"2020-12-16T00:00:00\", \"2020-12-17T00:00:00\", \"2020-12-18T00:00:00\", \"2020-12-19T00:00:00\", \"2020-12-20T00:00:00\", \"2020-12-21T00:00:00\", \"2020-12-22T00:00:00\", \"2020-12-23T00:00:00\", \"2020-12-24T00:00:00\", \"2020-12-25T00:00:00\", \"2020-12-26T00:00:00\", \"2020-12-27T00:00:00\", \"2020-12-28T00:00:00\"], \"y\": [1, 1, 6, 7, 11, 12, 14, 17, 21, 22, 28, 33, 43, 51, 58, 70, 97, 133, 192, 264, 367, 466, 576, 763, 1004, 1330, 1742, 2263, 2898, 3490, 4187, 5278, 6535, 8031, 9436, 10982, 12562, 14318, 16895, 19037, 21244, 23461, 25597, 27415, 29372, 31819, 34415, 36576, 38662, 40636, 42572, 44769, 47308, 49735, 52189, 54351, 56056, 57400, 58862, 61086, 63605, 66016, 67899, 69591, 70708, 72031, 74316, 76665, 78587, 80332, 81867, 82778, 83776, 85392, 87133, 88915, 90584, 91855, 92617, 93794, 95291, 96807, 98013, 99256, 100399, 101016, 101572, 102233, 103731, 104908, 106071, 107022, 107719, 108500, 109539, 110532, 111546, 112438, 113138, 113588, 114093, 115012, 115911, 116761, 117579, 118348, 118663, 119049, 119869, 120608, 121301, 121960, 122563, 122859, 123247, 124088, 124844, 125389, 126020, 126524, 126813, 127198, 127831, 128521, 129250, 129908, 130193, 130492, 130855, 132059, 132912, 133912, 134725, 135435, 135896, 136318, 137237, 138196, 139159, 140075, 140939, 141407, 141947, 143054, 144266, 145359, 146507, 147393, 147900, 149021, 150375, 151797, 153017, 154277, 155376, 155793, 156350, 157705, 159103, 160329, 161563, 162645, 163175, 163719, 164757, 166273, 167331, 168667, 169697, 170273, 170724, 172031, 173359, 174439, 175533, 176511, 176970, 177418, 178634, 179867, 180964, 181926, 182773, 183214, 183809, 184858, 185902, 186960, 187921, 188698, 189109, 189390, 189842, 190999, 191911, 193115, 193830, 194224, 194638, 195926, 196913, 197778, 198700, 199415, 199664, 200084, 201095, 202179, 203100, 204026, 204780, 205069, 205401, 206285, 207227, 208081, 209008, 209695, 210049, 210506, 211212, 212130, 213099, 214060, 214695, 215122, 215472, 216254, 217248, 218060, 218962, 219717, 220162, 220620, 221536, 222703, 223566, 224518, 225468, 225857, 226339, 227301, 228311, 229277, 230308, 231201, 231623, 232155, 233720, 234812, 235956, 237153, 238165, 238655, 239338, 240714, 242142, 243335, 244499, 245776, 246421, 247152, 248838, 250716, 252694, 254590, 256040, 256958, 257874, 260000, 262287, 263532, 264958, 266170, 267012, 268165, 270753, 273528, 276371, 278965, 281222, 282344, 283763, 286283, 289347, 292267, 295550, 297904, 299293, 300777, 303761, 307443, 310789, 313610, 316159, 317668, 319364, 322765, 326124, 329023, 330246, 331909, 333118, 334836]}, {\"mode\": \"lines\", \"name\": \"Predictions*\", \"type\": \"scatter\", \"x\": [\"2020-12-29T00:00:00\", \"2020-12-30T00:00:00\", \"2020-12-31T00:00:00\", \"2021-01-01T00:00:00\", \"2021-01-02T00:00:00\", \"2021-01-03T00:00:00\", \"2021-01-04T00:00:00\", \"2021-01-05T00:00:00\", \"2021-01-06T00:00:00\", \"2021-01-07T00:00:00\", \"2021-01-08T00:00:00\", \"2021-01-09T00:00:00\", \"2021-01-10T00:00:00\", \"2021-01-11T00:00:00\"], \"y\": [337320, 340197, 342742, 344414, 345597, 346561, 348086, 350376, 352562, 354595, 356192, 357155, 358038, 359467]}],                        {\"template\": {\"data\": {\"bar\": [{\"error_x\": {\"color\": \"#f2f5fa\"}, \"error_y\": {\"color\": \"#f2f5fa\"}, \"marker\": {\"line\": {\"color\": \"rgb(17,17,17)\", \"width\": 0.5}}, \"type\": \"bar\"}], \"barpolar\": [{\"marker\": {\"line\": {\"color\": \"rgb(17,17,17)\", \"width\": 0.5}}, \"type\": \"barpolar\"}], \"carpet\": [{\"aaxis\": {\"endlinecolor\": \"#A2B1C6\", \"gridcolor\": \"#506784\", \"linecolor\": \"#506784\", \"minorgridcolor\": \"#506784\", \"startlinecolor\": \"#A2B1C6\"}, \"baxis\": {\"endlinecolor\": \"#A2B1C6\", \"gridcolor\": \"#506784\", \"linecolor\": \"#506784\", \"minorgridcolor\": \"#506784\", \"startlinecolor\": \"#A2B1C6\"}, \"type\": \"carpet\"}], \"choropleth\": [{\"colorbar\": {\"outlinewidth\": 0, \"ticks\": \"\"}, \"type\": \"choropleth\"}], \"contour\": [{\"colorbar\": {\"outlinewidth\": 0, \"ticks\": \"\"}, \"colorscale\": [[0.0, \"#0d0887\"], [0.1111111111111111, \"#46039f\"], [0.2222222222222222, \"#7201a8\"], [0.3333333333333333, \"#9c179e\"], [0.4444444444444444, \"#bd3786\"], [0.5555555555555556, \"#d8576b\"], [0.6666666666666666, \"#ed7953\"], [0.7777777777777778, \"#fb9f3a\"], [0.8888888888888888, \"#fdca26\"], [1.0, \"#f0f921\"]], \"type\": \"contour\"}], \"contourcarpet\": [{\"colorbar\": {\"outlinewidth\": 0, \"ticks\": \"\"}, \"type\": \"contourcarpet\"}], \"heatmap\": [{\"colorbar\": {\"outlinewidth\": 0, \"ticks\": \"\"}, \"colorscale\": [[0.0, \"#0d0887\"], [0.1111111111111111, \"#46039f\"], [0.2222222222222222, \"#7201a8\"], [0.3333333333333333, \"#9c179e\"], [0.4444444444444444, \"#bd3786\"], [0.5555555555555556, \"#d8576b\"], [0.6666666666666666, \"#ed7953\"], [0.7777777777777778, \"#fb9f3a\"], [0.8888888888888888, \"#fdca26\"], [1.0, \"#f0f921\"]], \"type\": \"heatmap\"}], \"heatmapgl\": [{\"colorbar\": {\"outlinewidth\": 0, \"ticks\": \"\"}, \"colorscale\": [[0.0, \"#0d0887\"], [0.1111111111111111, \"#46039f\"], [0.2222222222222222, \"#7201a8\"], [0.3333333333333333, \"#9c179e\"], [0.4444444444444444, \"#bd3786\"], [0.5555555555555556, \"#d8576b\"], [0.6666666666666666, \"#ed7953\"], [0.7777777777777778, \"#fb9f3a\"], [0.8888888888888888, \"#fdca26\"], [1.0, \"#f0f921\"]], \"type\": \"heatmapgl\"}], \"histogram\": [{\"marker\": {\"colorbar\": {\"outlinewidth\": 0, \"ticks\": \"\"}}, \"type\": \"histogram\"}], \"histogram2d\": [{\"colorbar\": {\"outlinewidth\": 0, \"ticks\": \"\"}, \"colorscale\": [[0.0, \"#0d0887\"], [0.1111111111111111, \"#46039f\"], [0.2222222222222222, \"#7201a8\"], [0.3333333333333333, \"#9c179e\"], [0.4444444444444444, \"#bd3786\"], [0.5555555555555556, \"#d8576b\"], [0.6666666666666666, \"#ed7953\"], [0.7777777777777778, \"#fb9f3a\"], [0.8888888888888888, \"#fdca26\"], [1.0, \"#f0f921\"]], \"type\": \"histogram2d\"}], \"histogram2dcontour\": [{\"colorbar\": {\"outlinewidth\": 0, \"ticks\": \"\"}, \"colorscale\": [[0.0, \"#0d0887\"], [0.1111111111111111, \"#46039f\"], [0.2222222222222222, \"#7201a8\"], [0.3333333333333333, \"#9c179e\"], [0.4444444444444444, \"#bd3786\"], [0.5555555555555556, \"#d8576b\"], [0.6666666666666666, \"#ed7953\"], [0.7777777777777778, \"#fb9f3a\"], [0.8888888888888888, \"#fdca26\"], [1.0, \"#f0f921\"]], \"type\": \"histogram2dcontour\"}], \"mesh3d\": [{\"colorbar\": {\"outlinewidth\": 0, \"ticks\": \"\"}, \"type\": \"mesh3d\"}], \"parcoords\": [{\"line\": {\"colorbar\": {\"outlinewidth\": 0, \"ticks\": \"\"}}, \"type\": \"parcoords\"}], \"pie\": [{\"automargin\": true, \"type\": \"pie\"}], \"scatter\": [{\"marker\": {\"line\": {\"color\": \"#283442\"}}, \"type\": \"scatter\"}], \"scatter3d\": [{\"line\": {\"colorbar\": {\"outlinewidth\": 0, \"ticks\": \"\"}}, \"marker\": {\"colorbar\": {\"outlinewidth\": 0, \"ticks\": \"\"}}, \"type\": \"scatter3d\"}], \"scattercarpet\": [{\"marker\": {\"colorbar\": {\"outlinewidth\": 0, \"ticks\": \"\"}}, \"type\": \"scattercarpet\"}], \"scattergeo\": [{\"marker\": {\"colorbar\": {\"outlinewidth\": 0, \"ticks\": \"\"}}, \"type\": \"scattergeo\"}], \"scattergl\": [{\"marker\": {\"line\": {\"color\": \"#283442\"}}, \"type\": \"scattergl\"}], \"scattermapbox\": [{\"marker\": {\"colorbar\": {\"outlinewidth\": 0, \"ticks\": \"\"}}, \"type\": \"scattermapbox\"}], \"scatterpolar\": [{\"marker\": {\"colorbar\": {\"outlinewidth\": 0, \"ticks\": \"\"}}, \"type\": \"scatterpolar\"}], \"scatterpolargl\": [{\"marker\": {\"colorbar\": {\"outlinewidth\": 0, \"ticks\": \"\"}}, \"type\": \"scatterpolargl\"}], \"scatterternary\": [{\"marker\": {\"colorbar\": {\"outlinewidth\": 0, \"ticks\": \"\"}}, \"type\": \"scatterternary\"}], \"surface\": [{\"colorbar\": {\"outlinewidth\": 0, \"ticks\": \"\"}, \"colorscale\": [[0.0, \"#0d0887\"], [0.1111111111111111, \"#46039f\"], [0.2222222222222222, \"#7201a8\"], [0.3333333333333333, \"#9c179e\"], [0.4444444444444444, \"#bd3786\"], [0.5555555555555556, \"#d8576b\"], [0.6666666666666666, \"#ed7953\"], [0.7777777777777778, \"#fb9f3a\"], [0.8888888888888888, \"#fdca26\"], [1.0, \"#f0f921\"]], \"type\": \"surface\"}], \"table\": [{\"cells\": {\"fill\": {\"color\": \"#506784\"}, \"line\": {\"color\": \"rgb(17,17,17)\"}}, \"header\": {\"fill\": {\"color\": \"#2a3f5f\"}, \"line\": {\"color\": \"rgb(17,17,17)\"}}, \"type\": \"table\"}]}, \"layout\": {\"annotationdefaults\": {\"arrowcolor\": \"#f2f5fa\", \"arrowhead\": 0, \"arrowwidth\": 1}, \"autotypenumbers\": \"strict\", \"coloraxis\": {\"colorbar\": {\"outlinewidth\": 0, \"ticks\": \"\"}}, \"colorscale\": {\"diverging\": [[0, \"#8e0152\"], [0.1, \"#c51b7d\"], [0.2, \"#de77ae\"], [0.3, \"#f1b6da\"], [0.4, \"#fde0ef\"], [0.5, \"#f7f7f7\"], [0.6, \"#e6f5d0\"], [0.7, \"#b8e186\"], [0.8, \"#7fbc41\"], [0.9, \"#4d9221\"], [1, \"#276419\"]], \"sequential\": [[0.0, \"#0d0887\"], [0.1111111111111111, \"#46039f\"], [0.2222222222222222, \"#7201a8\"], [0.3333333333333333, \"#9c179e\"], [0.4444444444444444, \"#bd3786\"], [0.5555555555555556, \"#d8576b\"], [0.6666666666666666, \"#ed7953\"], [0.7777777777777778, \"#fb9f3a\"], [0.8888888888888888, \"#fdca26\"], [1.0, \"#f0f921\"]], \"sequentialminus\": [[0.0, \"#0d0887\"], [0.1111111111111111, \"#46039f\"], [0.2222222222222222, \"#7201a8\"], [0.3333333333333333, \"#9c179e\"], [0.4444444444444444, \"#bd3786\"], [0.5555555555555556, \"#d8576b\"], [0.6666666666666666, \"#ed7953\"], [0.7777777777777778, \"#fb9f3a\"], [0.8888888888888888, \"#fdca26\"], [1.0, \"#f0f921\"]]}, \"colorway\": [\"#636efa\", \"#EF553B\", \"#00cc96\", \"#ab63fa\", \"#FFA15A\", \"#19d3f3\", \"#FF6692\", \"#B6E880\", \"#FF97FF\", \"#FECB52\"], \"font\": {\"color\": \"#f2f5fa\"}, \"geo\": {\"bgcolor\": \"rgb(17,17,17)\", \"lakecolor\": \"rgb(17,17,17)\", \"landcolor\": \"rgb(17,17,17)\", \"showlakes\": true, \"showland\": true, \"subunitcolor\": \"#506784\"}, \"hoverlabel\": {\"align\": \"left\"}, \"hovermode\": \"closest\", \"mapbox\": {\"style\": \"dark\"}, \"paper_bgcolor\": \"rgb(17,17,17)\", \"plot_bgcolor\": \"rgb(17,17,17)\", \"polar\": {\"angularaxis\": {\"gridcolor\": \"#506784\", \"linecolor\": \"#506784\", \"ticks\": \"\"}, \"bgcolor\": \"rgb(17,17,17)\", \"radialaxis\": {\"gridcolor\": \"#506784\", \"linecolor\": \"#506784\", \"ticks\": \"\"}}, \"scene\": {\"xaxis\": {\"backgroundcolor\": \"rgb(17,17,17)\", \"gridcolor\": \"#506784\", \"gridwidth\": 2, \"linecolor\": \"#506784\", \"showbackground\": true, \"ticks\": \"\", \"zerolinecolor\": \"#C8D4E3\"}, \"yaxis\": {\"backgroundcolor\": \"rgb(17,17,17)\", \"gridcolor\": \"#506784\", \"gridwidth\": 2, \"linecolor\": \"#506784\", \"showbackground\": true, \"ticks\": \"\", \"zerolinecolor\": \"#C8D4E3\"}, \"zaxis\": {\"backgroundcolor\": \"rgb(17,17,17)\", \"gridcolor\": \"#506784\", \"gridwidth\": 2, \"linecolor\": \"#506784\", \"showbackground\": true, \"ticks\": \"\", \"zerolinecolor\": \"#C8D4E3\"}}, \"shapedefaults\": {\"line\": {\"color\": \"#f2f5fa\"}}, \"sliderdefaults\": {\"bgcolor\": \"#C8D4E3\", \"bordercolor\": \"rgb(17,17,17)\", \"borderwidth\": 1, \"tickwidth\": 0}, \"ternary\": {\"aaxis\": {\"gridcolor\": \"#506784\", \"linecolor\": \"#506784\", \"ticks\": \"\"}, \"baxis\": {\"gridcolor\": \"#506784\", \"linecolor\": \"#506784\", \"ticks\": \"\"}, \"bgcolor\": \"rgb(17,17,17)\", \"caxis\": {\"gridcolor\": \"#506784\", \"linecolor\": \"#506784\", \"ticks\": \"\"}}, \"title\": {\"x\": 0.05}, \"updatemenudefaults\": {\"bgcolor\": \"#506784\", \"borderwidth\": 0}, \"xaxis\": {\"automargin\": true, \"gridcolor\": \"#283442\", \"linecolor\": \"#506784\", \"ticks\": \"\", \"title\": {\"standoff\": 15}, \"zerolinecolor\": \"#283442\", \"zerolinewidth\": 2}, \"yaxis\": {\"automargin\": true, \"gridcolor\": \"#283442\", \"linecolor\": \"#506784\", \"ticks\": \"\", \"title\": {\"standoff\": 15}, \"zerolinecolor\": \"#283442\", \"zerolinewidth\": 2}}}},                        {\"responsive\": true}                    ).then(function(){\n",
              "                            \n",
              "var gd = document.getElementById('c941923e-4de8-4c02-8c88-8984c46248be');\n",
              "var x = new MutationObserver(function (mutations, observer) {{\n",
              "        var display = window.getComputedStyle(gd).display;\n",
              "        if (!display || display === 'none') {{\n",
              "            console.log([gd, 'removed!']);\n",
              "            Plotly.purge(gd);\n",
              "            observer.disconnect();\n",
              "        }}\n",
              "}});\n",
              "\n",
              "// Listen for the removal of the full notebook cells\n",
              "var notebookContainer = gd.closest('#notebook-container');\n",
              "if (notebookContainer) {{\n",
              "    x.observe(notebookContainer, {childList: true});\n",
              "}}\n",
              "\n",
              "// Listen for the clearing of the current output cell\n",
              "var outputEl = gd.closest('.output');\n",
              "if (outputEl) {{\n",
              "    x.observe(outputEl, {childList: true});\n",
              "}}\n",
              "\n",
              "                        })                };                            </script>        </div>\n",
              "</body>\n",
              "</html>"
            ]
          },
          "metadata": {
            "tags": []
          }
        }
      ]
    },
    {
      "cell_type": "markdown",
      "metadata": {
        "id": "bhoS7JrTo0d7"
      },
      "source": [
        "### Japan - Recoveries"
      ]
    },
    {
      "cell_type": "code",
      "metadata": {
        "colab": {
          "background_save": true
        },
        "id": "R5yUM2Qto9C6"
      },
      "source": [
        "pred,_,figure = cnn_predict(\"recovered\",\"Japan\")"
      ],
      "execution_count": null,
      "outputs": []
    },
    {
      "cell_type": "code",
      "metadata": {
        "colab": {
          "background_save": true
        },
        "id": "ozNtQ__lpBcD",
        "outputId": "df8d2561-65b7-4045-d5d9-b198b6bed879"
      },
      "source": [
        "pred"
      ],
      "execution_count": null,
      "outputs": [
        {
          "output_type": "execute_result",
          "data": {
            "text/html": [
              "<div>\n",
              "<style scoped>\n",
              "    .dataframe tbody tr th:only-of-type {\n",
              "        vertical-align: middle;\n",
              "    }\n",
              "\n",
              "    .dataframe tbody tr th {\n",
              "        vertical-align: top;\n",
              "    }\n",
              "\n",
              "    .dataframe thead th {\n",
              "        text-align: right;\n",
              "    }\n",
              "</style>\n",
              "<table border=\"1\" class=\"dataframe\">\n",
              "  <thead>\n",
              "    <tr style=\"text-align: right;\">\n",
              "      <th></th>\n",
              "      <th>Date</th>\n",
              "      <th>Cases</th>\n",
              "    </tr>\n",
              "  </thead>\n",
              "  <tbody>\n",
              "    <tr>\n",
              "      <th>0</th>\n",
              "      <td>29/12/2020</td>\n",
              "      <td>187066</td>\n",
              "    </tr>\n",
              "    <tr>\n",
              "      <th>1</th>\n",
              "      <td>30/12/2020</td>\n",
              "      <td>189929</td>\n",
              "    </tr>\n",
              "    <tr>\n",
              "      <th>2</th>\n",
              "      <td>31/12/2020</td>\n",
              "      <td>192972</td>\n",
              "    </tr>\n",
              "    <tr>\n",
              "      <th>3</th>\n",
              "      <td>01/01/2021</td>\n",
              "      <td>196288</td>\n",
              "    </tr>\n",
              "    <tr>\n",
              "      <th>4</th>\n",
              "      <td>02/01/2021</td>\n",
              "      <td>199424</td>\n",
              "    </tr>\n",
              "    <tr>\n",
              "      <th>5</th>\n",
              "      <td>03/01/2021</td>\n",
              "      <td>202356</td>\n",
              "    </tr>\n",
              "    <tr>\n",
              "      <th>6</th>\n",
              "      <td>04/01/2021</td>\n",
              "      <td>205179</td>\n",
              "    </tr>\n",
              "  </tbody>\n",
              "</table>\n",
              "</div>"
            ],
            "text/plain": [
              "         Date   Cases\n",
              "0  29/12/2020  187066\n",
              "1  30/12/2020  189929\n",
              "2  31/12/2020  192972\n",
              "3  01/01/2021  196288\n",
              "4  02/01/2021  199424\n",
              "5  03/01/2021  202356\n",
              "6  04/01/2021  205179"
            ]
          },
          "metadata": {
            "tags": []
          },
          "execution_count": 0
        }
      ]
    },
    {
      "cell_type": "code",
      "metadata": {
        "colab": {
          "background_save": true
        },
        "id": "zfInmagBpdMk",
        "outputId": "0133bdc1-1c8a-446c-d91b-705080595c45"
      },
      "source": [
        "figure.show()"
      ],
      "execution_count": null,
      "outputs": [
        {
          "output_type": "display_data",
          "data": {
            "text/html": [
              "<html>\n",
              "<head><meta charset=\"utf-8\" /></head>\n",
              "<body>\n",
              "    <div>            <script src=\"https://cdnjs.cloudflare.com/ajax/libs/mathjax/2.7.5/MathJax.js?config=TeX-AMS-MML_SVG\"></script><script type=\"text/javascript\">if (window.MathJax) {MathJax.Hub.Config({SVG: {font: \"STIX-Web\"}});}</script>                <script type=\"text/javascript\">window.PlotlyConfig = {MathJaxConfig: 'local'};</script>\n",
              "        <script src=\"https://cdn.plot.ly/plotly-latest.min.js\"></script>                <div id=\"9b59675b-f4da-46a5-8a41-e5cbfab51df3\" class=\"plotly-graph-div\" style=\"height:525px; width:100%;\"></div>            <script type=\"text/javascript\">                                    window.PLOTLYENV=window.PLOTLYENV || {};                                    if (document.getElementById(\"9b59675b-f4da-46a5-8a41-e5cbfab51df3\")) {                    Plotly.newPlot(                        \"9b59675b-f4da-46a5-8a41-e5cbfab51df3\",                        [{\"mode\": \"lines\", \"name\": \"Up till now\", \"type\": \"scatter\", \"x\": [\"2020-01-26T00:00:00\", \"2020-01-27T00:00:00\", \"2020-01-28T00:00:00\", \"2020-01-29T00:00:00\", \"2020-01-30T00:00:00\", \"2020-01-31T00:00:00\", \"2020-02-01T00:00:00\", \"2020-02-02T00:00:00\", \"2020-02-03T00:00:00\", \"2020-02-04T00:00:00\", \"2020-02-05T00:00:00\", \"2020-02-06T00:00:00\", \"2020-02-07T00:00:00\", \"2020-02-08T00:00:00\", \"2020-02-09T00:00:00\", \"2020-02-10T00:00:00\", \"2020-02-11T00:00:00\", \"2020-02-12T00:00:00\", \"2020-02-13T00:00:00\", \"2020-02-14T00:00:00\", \"2020-02-15T00:00:00\", \"2020-02-16T00:00:00\", \"2020-02-17T00:00:00\", \"2020-02-18T00:00:00\", \"2020-02-19T00:00:00\", \"2020-02-20T00:00:00\", \"2020-02-21T00:00:00\", \"2020-02-22T00:00:00\", \"2020-02-23T00:00:00\", \"2020-02-24T00:00:00\", \"2020-02-25T00:00:00\", \"2020-02-26T00:00:00\", \"2020-02-27T00:00:00\", \"2020-02-28T00:00:00\", \"2020-02-29T00:00:00\", \"2020-03-01T00:00:00\", \"2020-03-02T00:00:00\", \"2020-03-03T00:00:00\", \"2020-03-04T00:00:00\", \"2020-03-05T00:00:00\", \"2020-03-06T00:00:00\", \"2020-03-07T00:00:00\", \"2020-03-08T00:00:00\", \"2020-03-09T00:00:00\", \"2020-03-10T00:00:00\", \"2020-03-11T00:00:00\", \"2020-03-12T00:00:00\", \"2020-03-13T00:00:00\", \"2020-03-14T00:00:00\", \"2020-03-15T00:00:00\", \"2020-03-16T00:00:00\", \"2020-03-17T00:00:00\", \"2020-03-18T00:00:00\", \"2020-03-19T00:00:00\", \"2020-03-20T00:00:00\", \"2020-03-21T00:00:00\", \"2020-03-22T00:00:00\", \"2020-03-23T00:00:00\", \"2020-03-24T00:00:00\", \"2020-03-25T00:00:00\", \"2020-03-26T00:00:00\", \"2020-03-27T00:00:00\", \"2020-03-28T00:00:00\", \"2020-03-29T00:00:00\", \"2020-03-30T00:00:00\", \"2020-03-31T00:00:00\", \"2020-04-01T00:00:00\", \"2020-04-02T00:00:00\", \"2020-04-03T00:00:00\", \"2020-04-04T00:00:00\", \"2020-04-05T00:00:00\", \"2020-04-06T00:00:00\", \"2020-04-07T00:00:00\", \"2020-04-08T00:00:00\", \"2020-04-09T00:00:00\", \"2020-04-10T00:00:00\", \"2020-04-11T00:00:00\", \"2020-04-12T00:00:00\", \"2020-04-13T00:00:00\", \"2020-04-14T00:00:00\", \"2020-04-15T00:00:00\", \"2020-04-16T00:00:00\", \"2020-04-17T00:00:00\", \"2020-04-18T00:00:00\", \"2020-04-19T00:00:00\", \"2020-04-20T00:00:00\", \"2020-04-21T00:00:00\", \"2020-04-22T00:00:00\", \"2020-04-23T00:00:00\", \"2020-04-24T00:00:00\", \"2020-04-25T00:00:00\", \"2020-04-26T00:00:00\", \"2020-04-27T00:00:00\", \"2020-04-28T00:00:00\", \"2020-04-29T00:00:00\", \"2020-04-30T00:00:00\", \"2020-05-01T00:00:00\", \"2020-05-02T00:00:00\", \"2020-05-03T00:00:00\", \"2020-05-04T00:00:00\", \"2020-05-05T00:00:00\", \"2020-05-06T00:00:00\", \"2020-05-07T00:00:00\", \"2020-05-08T00:00:00\", \"2020-05-09T00:00:00\", \"2020-05-10T00:00:00\", \"2020-05-11T00:00:00\", \"2020-05-12T00:00:00\", \"2020-05-13T00:00:00\", \"2020-05-14T00:00:00\", \"2020-05-15T00:00:00\", \"2020-05-16T00:00:00\", \"2020-05-17T00:00:00\", \"2020-05-18T00:00:00\", \"2020-05-19T00:00:00\", \"2020-05-20T00:00:00\", \"2020-05-21T00:00:00\", \"2020-05-22T00:00:00\", \"2020-05-23T00:00:00\", \"2020-05-24T00:00:00\", \"2020-05-25T00:00:00\", \"2020-05-26T00:00:00\", \"2020-05-27T00:00:00\", \"2020-05-28T00:00:00\", \"2020-05-29T00:00:00\", \"2020-05-30T00:00:00\", \"2020-05-31T00:00:00\", \"2020-06-01T00:00:00\", \"2020-06-02T00:00:00\", \"2020-06-03T00:00:00\", \"2020-06-04T00:00:00\", \"2020-06-05T00:00:00\", \"2020-06-06T00:00:00\", \"2020-06-07T00:00:00\", \"2020-06-08T00:00:00\", \"2020-06-09T00:00:00\", \"2020-06-10T00:00:00\", \"2020-06-11T00:00:00\", \"2020-06-12T00:00:00\", \"2020-06-13T00:00:00\", \"2020-06-14T00:00:00\", \"2020-06-15T00:00:00\", \"2020-06-16T00:00:00\", \"2020-06-17T00:00:00\", \"2020-06-18T00:00:00\", \"2020-06-19T00:00:00\", \"2020-06-20T00:00:00\", \"2020-06-21T00:00:00\", \"2020-06-22T00:00:00\", \"2020-06-23T00:00:00\", \"2020-06-24T00:00:00\", \"2020-06-25T00:00:00\", \"2020-06-26T00:00:00\", \"2020-06-27T00:00:00\", \"2020-06-28T00:00:00\", \"2020-06-29T00:00:00\", \"2020-06-30T00:00:00\", \"2020-07-01T00:00:00\", \"2020-07-02T00:00:00\", \"2020-07-03T00:00:00\", \"2020-07-04T00:00:00\", \"2020-07-05T00:00:00\", \"2020-07-06T00:00:00\", \"2020-07-07T00:00:00\", \"2020-07-08T00:00:00\", \"2020-07-09T00:00:00\", \"2020-07-10T00:00:00\", \"2020-07-11T00:00:00\", \"2020-07-12T00:00:00\", \"2020-07-13T00:00:00\", \"2020-07-14T00:00:00\", \"2020-07-15T00:00:00\", \"2020-07-16T00:00:00\", \"2020-07-17T00:00:00\", \"2020-07-18T00:00:00\", \"2020-07-19T00:00:00\", \"2020-07-20T00:00:00\", \"2020-07-21T00:00:00\", \"2020-07-22T00:00:00\", \"2020-07-23T00:00:00\", \"2020-07-24T00:00:00\", \"2020-07-25T00:00:00\", \"2020-07-26T00:00:00\", \"2020-07-27T00:00:00\", \"2020-07-28T00:00:00\", \"2020-07-29T00:00:00\", \"2020-07-30T00:00:00\", \"2020-07-31T00:00:00\", \"2020-08-01T00:00:00\", \"2020-08-02T00:00:00\", \"2020-08-03T00:00:00\", \"2020-08-04T00:00:00\", \"2020-08-05T00:00:00\", \"2020-08-06T00:00:00\", \"2020-08-07T00:00:00\", \"2020-08-08T00:00:00\", \"2020-08-09T00:00:00\", \"2020-08-10T00:00:00\", \"2020-08-11T00:00:00\", \"2020-08-12T00:00:00\", \"2020-08-13T00:00:00\", \"2020-08-14T00:00:00\", \"2020-08-15T00:00:00\", \"2020-08-16T00:00:00\", \"2020-08-17T00:00:00\", \"2020-08-18T00:00:00\", \"2020-08-19T00:00:00\", \"2020-08-20T00:00:00\", \"2020-08-21T00:00:00\", \"2020-08-22T00:00:00\", \"2020-08-23T00:00:00\", \"2020-08-24T00:00:00\", \"2020-08-25T00:00:00\", \"2020-08-26T00:00:00\", \"2020-08-27T00:00:00\", \"2020-08-28T00:00:00\", \"2020-08-29T00:00:00\", \"2020-08-30T00:00:00\", \"2020-08-31T00:00:00\", \"2020-09-01T00:00:00\", \"2020-09-02T00:00:00\", \"2020-09-03T00:00:00\", \"2020-09-04T00:00:00\", \"2020-09-05T00:00:00\", \"2020-09-06T00:00:00\", \"2020-09-07T00:00:00\", \"2020-09-08T00:00:00\", \"2020-09-09T00:00:00\", \"2020-09-10T00:00:00\", \"2020-09-11T00:00:00\", \"2020-09-12T00:00:00\", \"2020-09-13T00:00:00\", \"2020-09-14T00:00:00\", \"2020-09-15T00:00:00\", \"2020-09-16T00:00:00\", \"2020-09-17T00:00:00\", \"2020-09-18T00:00:00\", \"2020-09-19T00:00:00\", \"2020-09-20T00:00:00\", \"2020-09-21T00:00:00\", \"2020-09-22T00:00:00\", \"2020-09-23T00:00:00\", \"2020-09-24T00:00:00\", \"2020-09-25T00:00:00\", \"2020-09-26T00:00:00\", \"2020-09-27T00:00:00\", \"2020-09-28T00:00:00\", \"2020-09-29T00:00:00\", \"2020-09-30T00:00:00\", \"2020-10-01T00:00:00\", \"2020-10-02T00:00:00\", \"2020-10-03T00:00:00\", \"2020-10-04T00:00:00\", \"2020-10-05T00:00:00\", \"2020-10-06T00:00:00\", \"2020-10-07T00:00:00\", \"2020-10-08T00:00:00\", \"2020-10-09T00:00:00\", \"2020-10-10T00:00:00\", \"2020-10-11T00:00:00\", \"2020-10-12T00:00:00\", \"2020-10-13T00:00:00\", \"2020-10-14T00:00:00\", \"2020-10-15T00:00:00\", \"2020-10-16T00:00:00\", \"2020-10-17T00:00:00\", \"2020-10-18T00:00:00\", \"2020-10-19T00:00:00\", \"2020-10-20T00:00:00\", \"2020-10-21T00:00:00\", \"2020-10-22T00:00:00\", \"2020-10-23T00:00:00\", \"2020-10-24T00:00:00\", \"2020-10-25T00:00:00\", \"2020-10-26T00:00:00\", \"2020-10-27T00:00:00\", \"2020-10-28T00:00:00\", \"2020-10-29T00:00:00\", \"2020-10-30T00:00:00\", \"2020-10-31T00:00:00\", \"2020-11-01T00:00:00\", \"2020-11-02T00:00:00\", \"2020-11-03T00:00:00\", \"2020-11-04T00:00:00\", \"2020-11-05T00:00:00\", \"2020-11-06T00:00:00\", \"2020-11-07T00:00:00\", \"2020-11-08T00:00:00\", \"2020-11-09T00:00:00\", \"2020-11-10T00:00:00\", \"2020-11-11T00:00:00\", \"2020-11-12T00:00:00\", \"2020-11-13T00:00:00\", \"2020-11-14T00:00:00\", \"2020-11-15T00:00:00\", \"2020-11-16T00:00:00\", \"2020-11-17T00:00:00\", \"2020-11-18T00:00:00\", \"2020-11-19T00:00:00\", \"2020-11-20T00:00:00\", \"2020-11-21T00:00:00\", \"2020-11-22T00:00:00\", \"2020-11-23T00:00:00\", \"2020-11-24T00:00:00\", \"2020-11-25T00:00:00\", \"2020-11-26T00:00:00\", \"2020-11-27T00:00:00\", \"2020-11-28T00:00:00\", \"2020-11-29T00:00:00\", \"2020-11-30T00:00:00\", \"2020-12-01T00:00:00\", \"2020-12-02T00:00:00\", \"2020-12-03T00:00:00\", \"2020-12-04T00:00:00\", \"2020-12-05T00:00:00\", \"2020-12-06T00:00:00\", \"2020-12-07T00:00:00\", \"2020-12-08T00:00:00\", \"2020-12-09T00:00:00\", \"2020-12-10T00:00:00\", \"2020-12-11T00:00:00\", \"2020-12-12T00:00:00\", \"2020-12-13T00:00:00\", \"2020-12-14T00:00:00\", \"2020-12-15T00:00:00\", \"2020-12-16T00:00:00\", \"2020-12-17T00:00:00\", \"2020-12-18T00:00:00\", \"2020-12-19T00:00:00\", \"2020-12-20T00:00:00\", \"2020-12-21T00:00:00\", \"2020-12-22T00:00:00\", \"2020-12-23T00:00:00\", \"2020-12-24T00:00:00\", \"2020-12-25T00:00:00\", \"2020-12-26T00:00:00\", \"2020-12-27T00:00:00\", \"2020-12-28T00:00:00\"], \"y\": [1, 1, 1, 1, 1, 1, 1, 1, 1, 1, 1, 1, 1, 1, 1, 4, 9, 9, 9, 9, 12, 12, 12, 13, 18, 18, 22, 22, 22, 22, 22, 22, 22, 22, 32, 32, 32, 43, 43, 43, 46, 76, 76, 76, 101, 118, 118, 118, 118, 118, 144, 144, 144, 150, 191, 232, 235, 235, 285, 310, 359, 372, 404, 424, 424, 424, 472, 472, 514, 514, 514, 575, 592, 622, 632, 685, 762, 762, 784, 799, 853, 901, 935, 1069, 1159, 1159, 1239, 1356, 1494, 1530, 1656, 1809, 1899, 1899, 2368, 2460, 2975, 3205, 3981, 4156, 4496, 4496, 4918, 5146, 5906, 8127, 8293, 8531, 8920, 9868, 10338, 10338, 11153, 11564, 11564, 11564, 12672, 13005, 13244, 13413, 13612, 13810, 13973, 14096, 14213, 14267, 14342, 14463, 14585, 14702, 14785, 14925, 14927, 14990, 15043, 15141, 15217, 15233, 15362, 15458, 15514, 15567, 15652, 15753, 15753, 15844, 15948, 15948, 15957, 16096, 16101, 16142, 16224, 16293, 16327, 16388, 16458, 16563, 16615, 16721, 16832, 16870, 17007, 17057, 17057, 17412, 17494, 17494, 17845, 18058, 18126, 18126, 18641, 18944, 19211, 19211, 19603, 20001, 20482, 20878, 21173, 21464, 21606, 21970, 22636, 23351, 24024, 24774, 25347, 25748, 26476, 27187, 28020, 28858, 30241, 31248, 32867, 33450, 34136, 34969, 36191, 35498, 39439, 40560, 41591, 42965, 43786, 45110, 46264, 47418, 48319, 49089, 50092, 51407, 52542, 53691, 54883, 55700, 56338, 57503, 58108, 58200, 60093, 61099, 61730, 62190, 62936, 63734, 64489, 65244, 65934, 66524, 66901, 66901, 68110, 68827, 69468, 70051, 70604, 70970, 71214, 71547, 72066, 73016, 73677, 73677, 74495, 74962, 75522, 76081, 76700, 76700, 77851, 78071, 78521, 79123, 79674, 80140, 80798, 81266, 81552, 82063, 82576, 83272, 83882, 84461, 84461, 85310, 85867, 86429, 87022, 87600, 88138, 88610, 89031, 89465, 90118, 90624, 91184, 89765, 92250, 92673, 93133, 93564, 94376, 95010, 95703, 96430, 96684, 98487, 98305, 99282, 100197, 101162, 91954, 102810, 103778, 104837, 106074, 107521, 108981, 110273, 111343, 112385, 114569, 116222, 117709, 120103, 121735, 127289, 125304, 127148, 129085, 131020, 133287, 135121, 136747, 138838, 140466, 142850, 144858, 147368, 149130, 150791, 153363, 155391, 158131, 160630, 163152, 165177, 167357, 169186, 171959, 174723, 177637, 180032, 182440, 184506]}, {\"mode\": \"lines\", \"name\": \"Predictions*\", \"type\": \"scatter\", \"x\": [\"2020-12-29T00:00:00\", \"2020-12-30T00:00:00\", \"2020-12-31T00:00:00\", \"2021-01-01T00:00:00\", \"2021-01-02T00:00:00\", \"2021-01-03T00:00:00\", \"2021-01-04T00:00:00\", \"2021-01-05T00:00:00\", \"2021-01-06T00:00:00\", \"2021-01-07T00:00:00\", \"2021-01-08T00:00:00\", \"2021-01-09T00:00:00\", \"2021-01-10T00:00:00\", \"2021-01-11T00:00:00\"], \"y\": [187066, 189929, 192972, 196288, 199424, 202356, 205179, 208271, 211532, 215078, 218767, 222495, 226071, 229676]}],                        {\"template\": {\"data\": {\"bar\": [{\"error_x\": {\"color\": \"#f2f5fa\"}, \"error_y\": {\"color\": \"#f2f5fa\"}, \"marker\": {\"line\": {\"color\": \"rgb(17,17,17)\", \"width\": 0.5}}, \"type\": \"bar\"}], \"barpolar\": [{\"marker\": {\"line\": {\"color\": \"rgb(17,17,17)\", \"width\": 0.5}}, \"type\": \"barpolar\"}], \"carpet\": [{\"aaxis\": {\"endlinecolor\": \"#A2B1C6\", \"gridcolor\": \"#506784\", \"linecolor\": \"#506784\", \"minorgridcolor\": \"#506784\", \"startlinecolor\": \"#A2B1C6\"}, \"baxis\": {\"endlinecolor\": \"#A2B1C6\", \"gridcolor\": \"#506784\", \"linecolor\": \"#506784\", \"minorgridcolor\": \"#506784\", \"startlinecolor\": \"#A2B1C6\"}, \"type\": \"carpet\"}], \"choropleth\": [{\"colorbar\": {\"outlinewidth\": 0, \"ticks\": \"\"}, \"type\": \"choropleth\"}], \"contour\": [{\"colorbar\": {\"outlinewidth\": 0, \"ticks\": \"\"}, \"colorscale\": [[0.0, \"#0d0887\"], [0.1111111111111111, \"#46039f\"], [0.2222222222222222, \"#7201a8\"], [0.3333333333333333, \"#9c179e\"], [0.4444444444444444, \"#bd3786\"], [0.5555555555555556, \"#d8576b\"], [0.6666666666666666, \"#ed7953\"], [0.7777777777777778, \"#fb9f3a\"], [0.8888888888888888, \"#fdca26\"], [1.0, \"#f0f921\"]], \"type\": \"contour\"}], \"contourcarpet\": [{\"colorbar\": {\"outlinewidth\": 0, \"ticks\": \"\"}, \"type\": \"contourcarpet\"}], \"heatmap\": [{\"colorbar\": {\"outlinewidth\": 0, \"ticks\": \"\"}, \"colorscale\": [[0.0, \"#0d0887\"], [0.1111111111111111, \"#46039f\"], [0.2222222222222222, \"#7201a8\"], [0.3333333333333333, \"#9c179e\"], [0.4444444444444444, \"#bd3786\"], [0.5555555555555556, \"#d8576b\"], [0.6666666666666666, \"#ed7953\"], [0.7777777777777778, \"#fb9f3a\"], [0.8888888888888888, \"#fdca26\"], [1.0, \"#f0f921\"]], \"type\": \"heatmap\"}], \"heatmapgl\": [{\"colorbar\": {\"outlinewidth\": 0, \"ticks\": \"\"}, \"colorscale\": [[0.0, \"#0d0887\"], [0.1111111111111111, \"#46039f\"], [0.2222222222222222, \"#7201a8\"], [0.3333333333333333, \"#9c179e\"], [0.4444444444444444, \"#bd3786\"], [0.5555555555555556, \"#d8576b\"], [0.6666666666666666, \"#ed7953\"], [0.7777777777777778, \"#fb9f3a\"], [0.8888888888888888, \"#fdca26\"], [1.0, \"#f0f921\"]], \"type\": \"heatmapgl\"}], \"histogram\": [{\"marker\": {\"colorbar\": {\"outlinewidth\": 0, \"ticks\": \"\"}}, \"type\": \"histogram\"}], \"histogram2d\": [{\"colorbar\": {\"outlinewidth\": 0, \"ticks\": \"\"}, \"colorscale\": [[0.0, \"#0d0887\"], [0.1111111111111111, \"#46039f\"], [0.2222222222222222, \"#7201a8\"], [0.3333333333333333, \"#9c179e\"], [0.4444444444444444, \"#bd3786\"], [0.5555555555555556, \"#d8576b\"], [0.6666666666666666, \"#ed7953\"], [0.7777777777777778, \"#fb9f3a\"], [0.8888888888888888, \"#fdca26\"], [1.0, \"#f0f921\"]], \"type\": \"histogram2d\"}], \"histogram2dcontour\": [{\"colorbar\": {\"outlinewidth\": 0, \"ticks\": \"\"}, \"colorscale\": [[0.0, \"#0d0887\"], [0.1111111111111111, \"#46039f\"], [0.2222222222222222, \"#7201a8\"], [0.3333333333333333, \"#9c179e\"], [0.4444444444444444, \"#bd3786\"], [0.5555555555555556, \"#d8576b\"], [0.6666666666666666, \"#ed7953\"], [0.7777777777777778, \"#fb9f3a\"], [0.8888888888888888, \"#fdca26\"], [1.0, \"#f0f921\"]], \"type\": \"histogram2dcontour\"}], \"mesh3d\": [{\"colorbar\": {\"outlinewidth\": 0, \"ticks\": \"\"}, \"type\": \"mesh3d\"}], \"parcoords\": [{\"line\": {\"colorbar\": {\"outlinewidth\": 0, \"ticks\": \"\"}}, \"type\": \"parcoords\"}], \"pie\": [{\"automargin\": true, \"type\": \"pie\"}], \"scatter\": [{\"marker\": {\"line\": {\"color\": \"#283442\"}}, \"type\": \"scatter\"}], \"scatter3d\": [{\"line\": {\"colorbar\": {\"outlinewidth\": 0, \"ticks\": \"\"}}, \"marker\": {\"colorbar\": {\"outlinewidth\": 0, \"ticks\": \"\"}}, \"type\": \"scatter3d\"}], \"scattercarpet\": [{\"marker\": {\"colorbar\": {\"outlinewidth\": 0, \"ticks\": \"\"}}, \"type\": \"scattercarpet\"}], \"scattergeo\": [{\"marker\": {\"colorbar\": {\"outlinewidth\": 0, \"ticks\": \"\"}}, \"type\": \"scattergeo\"}], \"scattergl\": [{\"marker\": {\"line\": {\"color\": \"#283442\"}}, \"type\": \"scattergl\"}], \"scattermapbox\": [{\"marker\": {\"colorbar\": {\"outlinewidth\": 0, \"ticks\": \"\"}}, \"type\": \"scattermapbox\"}], \"scatterpolar\": [{\"marker\": {\"colorbar\": {\"outlinewidth\": 0, \"ticks\": \"\"}}, \"type\": \"scatterpolar\"}], \"scatterpolargl\": [{\"marker\": {\"colorbar\": {\"outlinewidth\": 0, \"ticks\": \"\"}}, \"type\": \"scatterpolargl\"}], \"scatterternary\": [{\"marker\": {\"colorbar\": {\"outlinewidth\": 0, \"ticks\": \"\"}}, \"type\": \"scatterternary\"}], \"surface\": [{\"colorbar\": {\"outlinewidth\": 0, \"ticks\": \"\"}, \"colorscale\": [[0.0, \"#0d0887\"], [0.1111111111111111, \"#46039f\"], [0.2222222222222222, \"#7201a8\"], [0.3333333333333333, \"#9c179e\"], [0.4444444444444444, \"#bd3786\"], [0.5555555555555556, \"#d8576b\"], [0.6666666666666666, \"#ed7953\"], [0.7777777777777778, \"#fb9f3a\"], [0.8888888888888888, \"#fdca26\"], [1.0, \"#f0f921\"]], \"type\": \"surface\"}], \"table\": [{\"cells\": {\"fill\": {\"color\": \"#506784\"}, \"line\": {\"color\": \"rgb(17,17,17)\"}}, \"header\": {\"fill\": {\"color\": \"#2a3f5f\"}, \"line\": {\"color\": \"rgb(17,17,17)\"}}, \"type\": \"table\"}]}, \"layout\": {\"annotationdefaults\": {\"arrowcolor\": \"#f2f5fa\", \"arrowhead\": 0, \"arrowwidth\": 1}, \"autotypenumbers\": \"strict\", \"coloraxis\": {\"colorbar\": {\"outlinewidth\": 0, \"ticks\": \"\"}}, \"colorscale\": {\"diverging\": [[0, \"#8e0152\"], [0.1, \"#c51b7d\"], [0.2, \"#de77ae\"], [0.3, \"#f1b6da\"], [0.4, \"#fde0ef\"], [0.5, \"#f7f7f7\"], [0.6, \"#e6f5d0\"], [0.7, \"#b8e186\"], [0.8, \"#7fbc41\"], [0.9, \"#4d9221\"], [1, \"#276419\"]], \"sequential\": [[0.0, \"#0d0887\"], [0.1111111111111111, \"#46039f\"], [0.2222222222222222, \"#7201a8\"], [0.3333333333333333, \"#9c179e\"], [0.4444444444444444, \"#bd3786\"], [0.5555555555555556, \"#d8576b\"], [0.6666666666666666, \"#ed7953\"], [0.7777777777777778, \"#fb9f3a\"], [0.8888888888888888, \"#fdca26\"], [1.0, \"#f0f921\"]], \"sequentialminus\": [[0.0, \"#0d0887\"], [0.1111111111111111, \"#46039f\"], [0.2222222222222222, \"#7201a8\"], [0.3333333333333333, \"#9c179e\"], [0.4444444444444444, \"#bd3786\"], [0.5555555555555556, \"#d8576b\"], [0.6666666666666666, \"#ed7953\"], [0.7777777777777778, \"#fb9f3a\"], [0.8888888888888888, \"#fdca26\"], [1.0, \"#f0f921\"]]}, \"colorway\": [\"#636efa\", \"#EF553B\", \"#00cc96\", \"#ab63fa\", \"#FFA15A\", \"#19d3f3\", \"#FF6692\", \"#B6E880\", \"#FF97FF\", \"#FECB52\"], \"font\": {\"color\": \"#f2f5fa\"}, \"geo\": {\"bgcolor\": \"rgb(17,17,17)\", \"lakecolor\": \"rgb(17,17,17)\", \"landcolor\": \"rgb(17,17,17)\", \"showlakes\": true, \"showland\": true, \"subunitcolor\": \"#506784\"}, \"hoverlabel\": {\"align\": \"left\"}, \"hovermode\": \"closest\", \"mapbox\": {\"style\": \"dark\"}, \"paper_bgcolor\": \"rgb(17,17,17)\", \"plot_bgcolor\": \"rgb(17,17,17)\", \"polar\": {\"angularaxis\": {\"gridcolor\": \"#506784\", \"linecolor\": \"#506784\", \"ticks\": \"\"}, \"bgcolor\": \"rgb(17,17,17)\", \"radialaxis\": {\"gridcolor\": \"#506784\", \"linecolor\": \"#506784\", \"ticks\": \"\"}}, \"scene\": {\"xaxis\": {\"backgroundcolor\": \"rgb(17,17,17)\", \"gridcolor\": \"#506784\", \"gridwidth\": 2, \"linecolor\": \"#506784\", \"showbackground\": true, \"ticks\": \"\", \"zerolinecolor\": \"#C8D4E3\"}, \"yaxis\": {\"backgroundcolor\": \"rgb(17,17,17)\", \"gridcolor\": \"#506784\", \"gridwidth\": 2, \"linecolor\": \"#506784\", \"showbackground\": true, \"ticks\": \"\", \"zerolinecolor\": \"#C8D4E3\"}, \"zaxis\": {\"backgroundcolor\": \"rgb(17,17,17)\", \"gridcolor\": \"#506784\", \"gridwidth\": 2, \"linecolor\": \"#506784\", \"showbackground\": true, \"ticks\": \"\", \"zerolinecolor\": \"#C8D4E3\"}}, \"shapedefaults\": {\"line\": {\"color\": \"#f2f5fa\"}}, \"sliderdefaults\": {\"bgcolor\": \"#C8D4E3\", \"bordercolor\": \"rgb(17,17,17)\", \"borderwidth\": 1, \"tickwidth\": 0}, \"ternary\": {\"aaxis\": {\"gridcolor\": \"#506784\", \"linecolor\": \"#506784\", \"ticks\": \"\"}, \"baxis\": {\"gridcolor\": \"#506784\", \"linecolor\": \"#506784\", \"ticks\": \"\"}, \"bgcolor\": \"rgb(17,17,17)\", \"caxis\": {\"gridcolor\": \"#506784\", \"linecolor\": \"#506784\", \"ticks\": \"\"}}, \"title\": {\"x\": 0.05}, \"updatemenudefaults\": {\"bgcolor\": \"#506784\", \"borderwidth\": 0}, \"xaxis\": {\"automargin\": true, \"gridcolor\": \"#283442\", \"linecolor\": \"#506784\", \"ticks\": \"\", \"title\": {\"standoff\": 15}, \"zerolinecolor\": \"#283442\", \"zerolinewidth\": 2}, \"yaxis\": {\"automargin\": true, \"gridcolor\": \"#283442\", \"linecolor\": \"#506784\", \"ticks\": \"\", \"title\": {\"standoff\": 15}, \"zerolinecolor\": \"#283442\", \"zerolinewidth\": 2}}}},                        {\"responsive\": true}                    ).then(function(){\n",
              "                            \n",
              "var gd = document.getElementById('9b59675b-f4da-46a5-8a41-e5cbfab51df3');\n",
              "var x = new MutationObserver(function (mutations, observer) {{\n",
              "        var display = window.getComputedStyle(gd).display;\n",
              "        if (!display || display === 'none') {{\n",
              "            console.log([gd, 'removed!']);\n",
              "            Plotly.purge(gd);\n",
              "            observer.disconnect();\n",
              "        }}\n",
              "}});\n",
              "\n",
              "// Listen for the removal of the full notebook cells\n",
              "var notebookContainer = gd.closest('#notebook-container');\n",
              "if (notebookContainer) {{\n",
              "    x.observe(notebookContainer, {childList: true});\n",
              "}}\n",
              "\n",
              "// Listen for the clearing of the current output cell\n",
              "var outputEl = gd.closest('.output');\n",
              "if (outputEl) {{\n",
              "    x.observe(outputEl, {childList: true});\n",
              "}}\n",
              "\n",
              "                        })                };                            </script>        </div>\n",
              "</body>\n",
              "</html>"
            ]
          },
          "metadata": {
            "tags": []
          }
        }
      ]
    }
  ]
}