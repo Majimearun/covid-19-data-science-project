{
 "metadata": {
  "language_info": {
   "codemirror_mode": {
    "name": "ipython",
    "version": 3
   },
   "file_extension": ".py",
   "mimetype": "text/x-python",
   "name": "python",
   "nbconvert_exporter": "python",
   "pygments_lexer": "ipython3",
   "version": "3.7.9-final"
  },
  "orig_nbformat": 2,
  "kernelspec": {
   "name": "python3",
   "display_name": "Python 3",
   "language": "python"
  }
 },
 "nbformat": 4,
 "nbformat_minor": 2,
 "cells": [
  {
   "source": [
    "# Testing the map functions"
   ],
   "cell_type": "markdown",
   "metadata": {}
  },
  {
   "cell_type": "code",
   "execution_count": 1,
   "metadata": {},
   "outputs": [],
   "source": [
    "from python_files.maps import *"
   ]
  },
  {
   "cell_type": "code",
   "execution_count": 2,
   "metadata": {},
   "outputs": [],
   "source": [
    "chart_studio.tools.set_credentials_file(username=\"MajimeArun\",\n",
    "                                         api_key=\"KK84E7jKFwJ23FiKj49y\")"
   ]
  },
  {
   "source": [
    "## Global maps"
   ],
   "cell_type": "markdown",
   "metadata": {}
  },
  {
   "cell_type": "code",
   "execution_count": 3,
   "metadata": {},
   "outputs": [],
   "source": [
    "confirmed = dict(study=\"confirmed\",color=\"#45a2ff\")\n",
    "recovered = dict(study=\"recovered\",color=\"#42f587\")\n",
    "deaths = dict(study=\"deaths\",color=\"#f54842\")\n",
    "columns = [\"country\", [\"deaths\", \"confirmed\", \"recovered\"], \"Lat\", \"Long_\"]"
   ]
  },
  {
   "cell_type": "code",
   "execution_count": 7,
   "metadata": {},
   "outputs": [
    {
     "output_type": "execute_result",
     "data": {
      "text/plain": [
       "<IPython.lib.display.IFrame at 0x2c72f70fa48>"
      ],
      "text/html": "\n        <iframe\n            width=\"100%\"\n            height=\"700px\"\n            src=\"https://plotly.com/~MajimeArun/506.embed\"\n            frameborder=\"0\"\n            allowfullscreen\n        ></iframe>\n        "
     },
     "metadata": {},
     "execution_count": 7
    }
   ],
   "source": [
    "# Confirmed Cases\n",
    "fig = plot_study(country_cases_sorted, columns, confirmed)\n",
    "py.iplot(fig)"
   ]
  },
  {
   "cell_type": "code",
   "execution_count": 8,
   "metadata": {},
   "outputs": [
    {
     "output_type": "execute_result",
     "data": {
      "text/plain": [
       "<IPython.lib.display.IFrame at 0x2c72fd97ec8>"
      ],
      "text/html": "\n        <iframe\n            width=\"100%\"\n            height=\"700px\"\n            src=\"https://plotly.com/~MajimeArun/508.embed\"\n            frameborder=\"0\"\n            allowfullscreen\n        ></iframe>\n        "
     },
     "metadata": {},
     "execution_count": 8
    }
   ],
   "source": [
    "# Deaths\n",
    "fig = plot_study(country_cases_sorted, columns, deaths)\n",
    "py.iplot(fig)"
   ]
  },
  {
   "cell_type": "code",
   "execution_count": 9,
   "metadata": {},
   "outputs": [
    {
     "output_type": "execute_result",
     "data": {
      "text/plain": [
       "<IPython.lib.display.IFrame at 0x2c72f621fc8>"
      ],
      "text/html": "\n        <iframe\n            width=\"100%\"\n            height=\"700px\"\n            src=\"https://plotly.com/~MajimeArun/510.embed\"\n            frameborder=\"0\"\n            allowfullscreen\n        ></iframe>\n        "
     },
     "metadata": {},
     "execution_count": 9
    }
   ],
   "source": [
    "# Recoveries\n",
    "fig = plot_study(country_cases_sorted, columns, recovered)\n",
    "py.iplot(fig)"
   ]
  },
  {
   "source": [
    "## Country Maps"
   ],
   "cell_type": "markdown",
   "metadata": {}
  },
  {
   "cell_type": "code",
   "execution_count": 10,
   "metadata": {},
   "outputs": [
    {
     "output_type": "execute_result",
     "data": {
      "text/plain": [
       "<IPython.lib.display.IFrame at 0x2c72f64af08>"
      ],
      "text/html": "\n        <iframe\n            width=\"100%\"\n            height=\"700px\"\n            src=\"https://plotly.com/~MajimeArun/512.embed\"\n            frameborder=\"0\"\n            allowfullscreen\n        ></iframe>\n        "
     },
     "metadata": {},
     "execution_count": 10
    }
   ],
   "source": [
    "# Japan: Deaths\n",
    "figure= plot_country(\"Japan\",get_country_wise_data(),\"Deaths\")\n",
    "py.iplot(figure)"
   ]
  },
  {
   "cell_type": "code",
   "execution_count": 11,
   "metadata": {},
   "outputs": [
    {
     "output_type": "execute_result",
     "data": {
      "text/plain": [
       "<IPython.lib.display.IFrame at 0x2c72fd44848>"
      ],
      "text/html": "\n        <iframe\n            width=\"100%\"\n            height=\"700px\"\n            src=\"https://plotly.com/~MajimeArun/514.embed\"\n            frameborder=\"0\"\n            allowfullscreen\n        ></iframe>\n        "
     },
     "metadata": {},
     "execution_count": 11
    }
   ],
   "source": [
    "# India: Confirmed Cases\n",
    "figure= plot_country(\"India\",get_country_wise_data(),\"Confirmed\")\n",
    "py.iplot(figure)"
   ]
  },
  {
   "cell_type": "code",
   "execution_count": 14,
   "metadata": {},
   "outputs": [
    {
     "output_type": "execute_result",
     "data": {
      "text/plain": [
       "<IPython.lib.display.IFrame at 0x2c72fca1948>"
      ],
      "text/html": "\n        <iframe\n            width=\"100%\"\n            height=\"700px\"\n            src=\"https://plotly.com/~MajimeArun/516.embed\"\n            frameborder=\"0\"\n            allowfullscreen\n        ></iframe>\n        "
     },
     "metadata": {},
     "execution_count": 14
    }
   ],
   "source": [
    "# India: Recoveries\n",
    "figure= plot_country(\"India\",get_country_wise_data(),\"Recoveries\")\n",
    "py.iplot(figure)"
   ]
  }
 ]
}