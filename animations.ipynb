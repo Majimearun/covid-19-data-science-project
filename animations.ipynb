{
 "metadata": {
  "language_info": {
   "codemirror_mode": {
    "name": "ipython",
    "version": 3
   },
   "file_extension": ".py",
   "mimetype": "text/x-python",
   "name": "python",
   "nbconvert_exporter": "python",
   "pygments_lexer": "ipython3",
   "version": "3.7.9-final"
  },
  "orig_nbformat": 2,
  "kernelspec": {
   "name": "python3",
   "display_name": "Python 3",
   "language": "python"
  }
 },
 "nbformat": 4,
 "nbformat_minor": 2,
 "cells": [
  {
   "source": [
    "# Testing Animations"
   ],
   "cell_type": "markdown",
   "metadata": {}
  },
  {
   "cell_type": "code",
   "execution_count": 1,
   "metadata": {},
   "outputs": [],
   "source": [
    "# importing all variables and functions from animations.py\n",
    "from python_files.animations import *"
   ]
  },
  {
   "source": [
    "## Top 10 countries in each category\n"
   ],
   "cell_type": "markdown",
   "metadata": {}
  },
  {
   "cell_type": "code",
   "execution_count": 2,
   "metadata": {},
   "outputs": [
    {
     "output_type": "display_data",
     "data": {
      "application/vnd.plotly.v1+json": {
       "config": {
        "plotlyServerURL": "https://plotly.com"
       },
       "data": [
        {
         "alignmentgroup": "True",
         "hovertemplate": "Date=1/24/20<br>Country=%{x}<br>Cases=%{y}<extra></extra>",
         "ids": [
          "Brazil",
          "France",
          "Germany",
          "India",
          "Italy",
          "Russia",
          "Spain",
          "Turkey",
          "US",
          "United Kingdom"
         ],
         "legendgroup": "",
         "marker": {
          "color": "#45a2ff"
         },
         "name": "",
         "offsetgroup": "",
         "orientation": "v",
         "showlegend": false,
         "textposition": "auto",
         "type": "bar",
         "x": [
          "Brazil",
          "France",
          "Germany",
          "India",
          "Italy",
          "Russia",
          "Spain",
          "Turkey",
          "US",
          "United Kingdom"
         ],
         "xaxis": "x",
         "y": [
          0,
          2,
          0,
          0,
          0,
          0,
          0,
          0,
          2,
          0
         ],
         "yaxis": "y"
        }
       ],
       "frames": [
        {
         "data": [
          {
           "alignmentgroup": "True",
           "hovertemplate": "Date=1/24/20<br>Country=%{x}<br>Cases=%{y}<extra></extra>",
           "ids": [
            "Brazil",
            "France",
            "Germany",
            "India",
            "Italy",
            "Russia",
            "Spain",
            "Turkey",
            "US",
            "United Kingdom"
           ],
           "legendgroup": "",
           "marker": {
            "color": "#45a2ff"
           },
           "name": "",
           "offsetgroup": "",
           "orientation": "v",
           "showlegend": false,
           "textposition": "auto",
           "type": "bar",
           "x": [
            "Brazil",
            "France",
            "Germany",
            "India",
            "Italy",
            "Russia",
            "Spain",
            "Turkey",
            "US",
            "United Kingdom"
           ],
           "xaxis": "x",
           "y": [
            0,
            2,
            0,
            0,
            0,
            0,
            0,
            0,
            2,
            0
           ],
           "yaxis": "y"
          }
         ],
         "name": "1/24/20"
        },
        {
         "data": [
          {
           "alignmentgroup": "True",
           "hovertemplate": "Date=1/29/20<br>Country=%{x}<br>Cases=%{y}<extra></extra>",
           "ids": [
            "Brazil",
            "France",
            "Germany",
            "India",
            "Italy",
            "Russia",
            "Spain",
            "Turkey",
            "US",
            "United Kingdom"
           ],
           "legendgroup": "",
           "marker": {
            "color": "#45a2ff"
           },
           "name": "",
           "offsetgroup": "",
           "orientation": "v",
           "showlegend": false,
           "textposition": "auto",
           "type": "bar",
           "x": [
            "Brazil",
            "France",
            "Germany",
            "India",
            "Italy",
            "Russia",
            "Spain",
            "Turkey",
            "US",
            "United Kingdom"
           ],
           "xaxis": "x",
           "y": [
            0,
            5,
            4,
            0,
            0,
            0,
            0,
            0,
            6,
            0
           ],
           "yaxis": "y"
          }
         ],
         "name": "1/29/20"
        },
        {
         "data": [
          {
           "alignmentgroup": "True",
           "hovertemplate": "Date=2/3/20<br>Country=%{x}<br>Cases=%{y}<extra></extra>",
           "ids": [
            "Brazil",
            "France",
            "Germany",
            "India",
            "Italy",
            "Russia",
            "Spain",
            "Turkey",
            "US",
            "United Kingdom"
           ],
           "legendgroup": "",
           "marker": {
            "color": "#45a2ff"
           },
           "name": "",
           "offsetgroup": "",
           "orientation": "v",
           "showlegend": false,
           "textposition": "auto",
           "type": "bar",
           "x": [
            "Brazil",
            "France",
            "Germany",
            "India",
            "Italy",
            "Russia",
            "Spain",
            "Turkey",
            "US",
            "United Kingdom"
           ],
           "xaxis": "x",
           "y": [
            0,
            6,
            12,
            3,
            2,
            2,
            1,
            0,
            11,
            8
           ],
           "yaxis": "y"
          }
         ],
         "name": "2/3/20"
        },
        {
         "data": [
          {
           "alignmentgroup": "True",
           "hovertemplate": "Date=2/8/20<br>Country=%{x}<br>Cases=%{y}<extra></extra>",
           "ids": [
            "Brazil",
            "France",
            "Germany",
            "India",
            "Italy",
            "Russia",
            "Spain",
            "Turkey",
            "US",
            "United Kingdom"
           ],
           "legendgroup": "",
           "marker": {
            "color": "#45a2ff"
           },
           "name": "",
           "offsetgroup": "",
           "orientation": "v",
           "showlegend": false,
           "textposition": "auto",
           "type": "bar",
           "x": [
            "Brazil",
            "France",
            "Germany",
            "India",
            "Italy",
            "Russia",
            "Spain",
            "Turkey",
            "US",
            "United Kingdom"
           ],
           "xaxis": "x",
           "y": [
            0,
            11,
            13,
            3,
            3,
            2,
            1,
            0,
            12,
            13
           ],
           "yaxis": "y"
          }
         ],
         "name": "2/8/20"
        },
        {
         "data": [
          {
           "alignmentgroup": "True",
           "hovertemplate": "Date=2/11/20<br>Country=%{x}<br>Cases=%{y}<extra></extra>",
           "ids": [
            "Brazil",
            "France",
            "Germany",
            "India",
            "Italy",
            "Russia",
            "Spain",
            "Turkey",
            "US",
            "United Kingdom"
           ],
           "legendgroup": "",
           "marker": {
            "color": "#45a2ff"
           },
           "name": "",
           "offsetgroup": "",
           "orientation": "v",
           "showlegend": false,
           "textposition": "auto",
           "type": "bar",
           "x": [
            "Brazil",
            "France",
            "Germany",
            "India",
            "Italy",
            "Russia",
            "Spain",
            "Turkey",
            "US",
            "United Kingdom"
           ],
           "xaxis": "x",
           "y": [
            0,
            11,
            16,
            3,
            3,
            2,
            2,
            0,
            13,
            15
           ],
           "yaxis": "y"
          }
         ],
         "name": "2/11/20"
        },
        {
         "data": [
          {
           "alignmentgroup": "True",
           "hovertemplate": "Date=2/16/20<br>Country=%{x}<br>Cases=%{y}<extra></extra>",
           "ids": [
            "Brazil",
            "France",
            "Germany",
            "India",
            "Italy",
            "Russia",
            "Spain",
            "Turkey",
            "US",
            "United Kingdom"
           ],
           "legendgroup": "",
           "marker": {
            "color": "#45a2ff"
           },
           "name": "",
           "offsetgroup": "",
           "orientation": "v",
           "showlegend": false,
           "textposition": "auto",
           "type": "bar",
           "x": [
            "Brazil",
            "France",
            "Germany",
            "India",
            "Italy",
            "Russia",
            "Spain",
            "Turkey",
            "US",
            "United Kingdom"
           ],
           "xaxis": "x",
           "y": [
            0,
            12,
            16,
            3,
            3,
            2,
            2,
            0,
            14,
            18
           ],
           "yaxis": "y"
          }
         ],
         "name": "2/16/20"
        },
        {
         "data": [
          {
           "alignmentgroup": "True",
           "hovertemplate": "Date=2/20/20<br>Country=%{x}<br>Cases=%{y}<extra></extra>",
           "ids": [
            "Brazil",
            "France",
            "Germany",
            "India",
            "Italy",
            "Russia",
            "Spain",
            "Turkey",
            "US",
            "United Kingdom"
           ],
           "legendgroup": "",
           "marker": {
            "color": "#45a2ff"
           },
           "name": "",
           "offsetgroup": "",
           "orientation": "v",
           "showlegend": false,
           "textposition": "auto",
           "type": "bar",
           "x": [
            "Brazil",
            "France",
            "Germany",
            "India",
            "Italy",
            "Russia",
            "Spain",
            "Turkey",
            "US",
            "United Kingdom"
           ],
           "xaxis": "x",
           "y": [
            0,
            12,
            16,
            3,
            3,
            2,
            2,
            0,
            14,
            22
           ],
           "yaxis": "y"
          }
         ],
         "name": "2/20/20"
        },
        {
         "data": [
          {
           "alignmentgroup": "True",
           "hovertemplate": "Date=2/25/20<br>Country=%{x}<br>Cases=%{y}<extra></extra>",
           "ids": [
            "Brazil",
            "France",
            "Germany",
            "India",
            "Italy",
            "Russia",
            "Spain",
            "Turkey",
            "US",
            "United Kingdom"
           ],
           "legendgroup": "",
           "marker": {
            "color": "#45a2ff"
           },
           "name": "",
           "offsetgroup": "",
           "orientation": "v",
           "showlegend": false,
           "textposition": "auto",
           "type": "bar",
           "x": [
            "Brazil",
            "France",
            "Germany",
            "India",
            "Italy",
            "Russia",
            "Spain",
            "Turkey",
            "US",
            "United Kingdom"
           ],
           "xaxis": "x",
           "y": [
            0,
            14,
            17,
            3,
            322,
            2,
            6,
            0,
            16,
            34
           ],
           "yaxis": "y"
          }
         ],
         "name": "2/25/20"
        },
        {
         "data": [
          {
           "alignmentgroup": "True",
           "hovertemplate": "Date=3/7/20<br>Country=%{x}<br>Cases=%{y}<extra></extra>",
           "ids": [
            "Brazil",
            "France",
            "Germany",
            "India",
            "Italy",
            "Russia",
            "Spain",
            "Turkey",
            "US",
            "United Kingdom"
           ],
           "legendgroup": "",
           "marker": {
            "color": "#45a2ff"
           },
           "name": "",
           "offsetgroup": "",
           "orientation": "v",
           "showlegend": false,
           "textposition": "auto",
           "type": "bar",
           "x": [
            "Brazil",
            "France",
            "Germany",
            "India",
            "Italy",
            "Russia",
            "Spain",
            "Turkey",
            "US",
            "United Kingdom"
           ],
           "xaxis": "x",
           "y": [
            13,
            948,
            799,
            34,
            5883,
            13,
            500,
            0,
            403,
            429
           ],
           "yaxis": "y"
          }
         ],
         "name": "3/7/20"
        },
        {
         "data": [
          {
           "alignmentgroup": "True",
           "hovertemplate": "Date=3/12/20<br>Country=%{x}<br>Cases=%{y}<extra></extra>",
           "ids": [
            "Brazil",
            "France",
            "Germany",
            "India",
            "Italy",
            "Russia",
            "Spain",
            "Turkey",
            "US",
            "United Kingdom"
           ],
           "legendgroup": "",
           "marker": {
            "color": "#45a2ff"
           },
           "name": "",
           "offsetgroup": "",
           "orientation": "v",
           "showlegend": false,
           "textposition": "auto",
           "type": "bar",
           "x": [
            "Brazil",
            "France",
            "Germany",
            "India",
            "Italy",
            "Russia",
            "Spain",
            "Turkey",
            "US",
            "United Kingdom"
           ],
           "xaxis": "x",
           "y": [
            52,
            2293,
            2078,
            73,
            15113,
            28,
            2277,
            1,
            1586,
            1790
           ],
           "yaxis": "y"
          }
         ],
         "name": "3/12/20"
        },
        {
         "data": [
          {
           "alignmentgroup": "True",
           "hovertemplate": "Date=3/17/20<br>Country=%{x}<br>Cases=%{y}<extra></extra>",
           "ids": [
            "Brazil",
            "France",
            "Germany",
            "India",
            "Italy",
            "Russia",
            "Spain",
            "Turkey",
            "US",
            "United Kingdom"
           ],
           "legendgroup": "",
           "marker": {
            "color": "#45a2ff"
           },
           "name": "",
           "offsetgroup": "",
           "orientation": "v",
           "showlegend": false,
           "textposition": "auto",
           "type": "bar",
           "x": [
            "Brazil",
            "France",
            "Germany",
            "India",
            "Italy",
            "Russia",
            "Spain",
            "Turkey",
            "US",
            "United Kingdom"
           ],
           "xaxis": "x",
           "y": [
            321,
            7715,
            9257,
            142,
            31506,
            114,
            11748,
            47,
            6512,
            4462
           ],
           "yaxis": "y"
          }
         ],
         "name": "3/17/20"
        },
        {
         "data": [
          {
           "alignmentgroup": "True",
           "hovertemplate": "Date=3/21/20<br>Country=%{x}<br>Cases=%{y}<extra></extra>",
           "ids": [
            "Brazil",
            "France",
            "Germany",
            "India",
            "Italy",
            "Russia",
            "Spain",
            "Turkey",
            "US",
            "United Kingdom"
           ],
           "legendgroup": "",
           "marker": {
            "color": "#45a2ff"
           },
           "name": "",
           "offsetgroup": "",
           "orientation": "v",
           "showlegend": false,
           "textposition": "auto",
           "type": "bar",
           "x": [
            "Brazil",
            "France",
            "Germany",
            "India",
            "Italy",
            "Russia",
            "Spain",
            "Turkey",
            "US",
            "United Kingdom"
           ],
           "xaxis": "x",
           "y": [
            1021,
            14463,
            22213,
            330,
            53578,
            306,
            25374,
            670,
            26025,
            9006
           ],
           "yaxis": "y"
          }
         ],
         "name": "3/21/20"
        },
        {
         "data": [
          {
           "alignmentgroup": "True",
           "hovertemplate": "Date=3/26/20<br>Country=%{x}<br>Cases=%{y}<extra></extra>",
           "ids": [
            "Brazil",
            "France",
            "Germany",
            "India",
            "Italy",
            "Russia",
            "Spain",
            "Turkey",
            "US",
            "United Kingdom"
           ],
           "legendgroup": "",
           "marker": {
            "color": "#45a2ff"
           },
           "name": "",
           "offsetgroup": "",
           "orientation": "v",
           "showlegend": false,
           "textposition": "auto",
           "type": "bar",
           "x": [
            "Brazil",
            "France",
            "Germany",
            "India",
            "Italy",
            "Russia",
            "Spain",
            "Turkey",
            "US",
            "United Kingdom"
           ],
           "xaxis": "x",
           "y": [
            2985,
            29252,
            43938,
            727,
            80589,
            840,
            57786,
            3629,
            86613,
            20970
           ],
           "yaxis": "y"
          }
         ],
         "name": "3/26/20"
        },
        {
         "data": [
          {
           "alignmentgroup": "True",
           "hovertemplate": "Date=3/30/20<br>Country=%{x}<br>Cases=%{y}<extra></extra>",
           "ids": [
            "Brazil",
            "France",
            "Germany",
            "India",
            "Italy",
            "Russia",
            "Spain",
            "Turkey",
            "US",
            "United Kingdom"
           ],
           "legendgroup": "",
           "marker": {
            "color": "#45a2ff"
           },
           "name": "",
           "offsetgroup": "",
           "orientation": "v",
           "showlegend": false,
           "textposition": "auto",
           "type": "bar",
           "x": [
            "Brazil",
            "France",
            "Germany",
            "India",
            "Italy",
            "Russia",
            "Spain",
            "Turkey",
            "US",
            "United Kingdom"
           ],
           "xaxis": "x",
           "y": [
            4579,
            44649,
            66885,
            1251,
            101739,
            1836,
            87956,
            10827,
            165861,
            34281
           ],
           "yaxis": "y"
          }
         ],
         "name": "3/30/20"
        },
        {
         "data": [
          {
           "alignmentgroup": "True",
           "hovertemplate": "Date=4/3/20<br>Country=%{x}<br>Cases=%{y}<extra></extra>",
           "ids": [
            "Brazil",
            "France",
            "Germany",
            "India",
            "Italy",
            "Russia",
            "Spain",
            "Turkey",
            "US",
            "United Kingdom"
           ],
           "legendgroup": "",
           "marker": {
            "color": "#45a2ff"
           },
           "name": "",
           "offsetgroup": "",
           "orientation": "v",
           "showlegend": false,
           "textposition": "auto",
           "type": "bar",
           "x": [
            "Brazil",
            "France",
            "Germany",
            "India",
            "Italy",
            "Russia",
            "Spain",
            "Turkey",
            "US",
            "United Kingdom"
           ],
           "xaxis": "x",
           "y": [
            9056,
            64452,
            91159,
            2567,
            119827,
            4149,
            119199,
            20921,
            288885,
            53699
           ],
           "yaxis": "y"
          }
         ],
         "name": "4/3/20"
        },
        {
         "data": [
          {
           "alignmentgroup": "True",
           "hovertemplate": "Date=4/7/20<br>Country=%{x}<br>Cases=%{y}<extra></extra>",
           "ids": [
            "Brazil",
            "France",
            "Germany",
            "India",
            "Italy",
            "Russia",
            "Spain",
            "Turkey",
            "US",
            "United Kingdom"
           ],
           "legendgroup": "",
           "marker": {
            "color": "#45a2ff"
           },
           "name": "",
           "offsetgroup": "",
           "orientation": "v",
           "showlegend": false,
           "textposition": "auto",
           "type": "bar",
           "x": [
            "Brazil",
            "France",
            "Germany",
            "India",
            "Italy",
            "Russia",
            "Spain",
            "Turkey",
            "US",
            "United Kingdom"
           ],
           "xaxis": "x",
           "y": [
            14034,
            47396,
            107663,
            5311,
            135586,
            7497,
            141942,
            34109,
            413311,
            72224
           ],
           "yaxis": "y"
          }
         ],
         "name": "4/7/20"
        },
        {
         "data": [
          {
           "alignmentgroup": "True",
           "hovertemplate": "Date=4/11/20<br>Country=%{x}<br>Cases=%{y}<extra></extra>",
           "ids": [
            "Brazil",
            "France",
            "Germany",
            "India",
            "Italy",
            "Russia",
            "Spain",
            "Turkey",
            "US",
            "United Kingdom"
           ],
           "legendgroup": "",
           "marker": {
            "color": "#45a2ff"
           },
           "name": "",
           "offsetgroup": "",
           "orientation": "v",
           "showlegend": false,
           "textposition": "auto",
           "type": "bar",
           "x": [
            "Brazil",
            "France",
            "Germany",
            "India",
            "Italy",
            "Russia",
            "Spain",
            "Turkey",
            "US",
            "United Kingdom"
           ],
           "xaxis": "x",
           "y": [
            20727,
            58045,
            124908,
            8446,
            152271,
            13584,
            163027,
            52167,
            544018,
            90273
           ],
           "yaxis": "y"
          }
         ],
         "name": "4/11/20"
        },
        {
         "data": [
          {
           "alignmentgroup": "True",
           "hovertemplate": "Date=4/16/20<br>Country=%{x}<br>Cases=%{y}<extra></extra>",
           "ids": [
            "Brazil",
            "France",
            "Germany",
            "India",
            "Italy",
            "Russia",
            "Spain",
            "Turkey",
            "US",
            "United Kingdom"
           ],
           "legendgroup": "",
           "marker": {
            "color": "#45a2ff"
           },
           "name": "",
           "offsetgroup": "",
           "orientation": "v",
           "showlegend": false,
           "textposition": "auto",
           "type": "bar",
           "x": [
            "Brazil",
            "France",
            "Germany",
            "India",
            "Italy",
            "Russia",
            "Spain",
            "Turkey",
            "US",
            "United Kingdom"
           ],
           "xaxis": "x",
           "y": [
            30425,
            145166,
            137698,
            13430,
            168941,
            27938,
            184948,
            74193,
            682463,
            112808
           ],
           "yaxis": "y"
          }
         ],
         "name": "4/16/20"
        },
        {
         "data": [
          {
           "alignmentgroup": "True",
           "hovertemplate": "Date=4/20/20<br>Country=%{x}<br>Cases=%{y}<extra></extra>",
           "ids": [
            "Brazil",
            "France",
            "Germany",
            "India",
            "Italy",
            "Russia",
            "Spain",
            "Turkey",
            "US",
            "United Kingdom"
           ],
           "legendgroup": "",
           "marker": {
            "color": "#45a2ff"
           },
           "name": "",
           "offsetgroup": "",
           "orientation": "v",
           "showlegend": false,
           "textposition": "auto",
           "type": "bar",
           "x": [
            "Brazil",
            "France",
            "Germany",
            "India",
            "Italy",
            "Russia",
            "Spain",
            "Turkey",
            "US",
            "United Kingdom"
           ],
           "xaxis": "x",
           "y": [
            40743,
            154402,
            147065,
            18539,
            181228,
            47121,
            200210,
            90980,
            799121,
            131260
           ],
           "yaxis": "y"
          }
         ],
         "name": "4/20/20"
        },
        {
         "data": [
          {
           "alignmentgroup": "True",
           "hovertemplate": "Date=4/25/20<br>Country=%{x}<br>Cases=%{y}<extra></extra>",
           "ids": [
            "Brazil",
            "France",
            "Germany",
            "India",
            "Italy",
            "Russia",
            "Spain",
            "Turkey",
            "US",
            "United Kingdom"
           ],
           "legendgroup": "",
           "marker": {
            "color": "#45a2ff"
           },
           "name": "",
           "offsetgroup": "",
           "orientation": "v",
           "showlegend": false,
           "textposition": "auto",
           "type": "bar",
           "x": [
            "Brazil",
            "France",
            "Germany",
            "India",
            "Italy",
            "Russia",
            "Spain",
            "Turkey",
            "US",
            "United Kingdom"
           ],
           "xaxis": "x",
           "y": [
            59324,
            161647,
            156513,
            26283,
            195351,
            74588,
            205905,
            107773,
            949989,
            155453
           ],
           "yaxis": "y"
          }
         ],
         "name": "4/25/20"
        },
        {
         "data": [
          {
           "alignmentgroup": "True",
           "hovertemplate": "Date=5/3/20<br>Country=%{x}<br>Cases=%{y}<extra></extra>",
           "ids": [
            "Brazil",
            "France",
            "Germany",
            "India",
            "Italy",
            "Russia",
            "Spain",
            "Turkey",
            "US",
            "United Kingdom"
           ],
           "legendgroup": "",
           "marker": {
            "color": "#45a2ff"
           },
           "name": "",
           "offsetgroup": "",
           "orientation": "v",
           "showlegend": false,
           "textposition": "auto",
           "type": "bar",
           "x": [
            "Brazil",
            "France",
            "Germany",
            "India",
            "Italy",
            "Russia",
            "Spain",
            "Turkey",
            "US",
            "United Kingdom"
           ],
           "xaxis": "x",
           "y": [
            101826,
            170540,
            165664,
            42505,
            210717,
            134687,
            217466,
            126045,
            1166955,
            189708
           ],
           "yaxis": "y"
          }
         ],
         "name": "5/3/20"
        },
        {
         "data": [
          {
           "alignmentgroup": "True",
           "hovertemplate": "Date=5/6/20<br>Country=%{x}<br>Cases=%{y}<extra></extra>",
           "ids": [
            "Brazil",
            "France",
            "Germany",
            "India",
            "Italy",
            "Russia",
            "Spain",
            "Turkey",
            "US",
            "United Kingdom"
           ],
           "legendgroup": "",
           "marker": {
            "color": "#45a2ff"
           },
           "name": "",
           "offsetgroup": "",
           "orientation": "v",
           "showlegend": false,
           "textposition": "auto",
           "type": "bar",
           "x": [
            "Brazil",
            "France",
            "Germany",
            "India",
            "Italy",
            "Russia",
            "Spain",
            "Turkey",
            "US",
            "United Kingdom"
           ],
           "xaxis": "x",
           "y": [
            126611,
            176355,
            168162,
            52987,
            214457,
            165929,
            220325,
            131744,
            1239745,
            200616
           ],
           "yaxis": "y"
          }
         ],
         "name": "5/6/20"
        },
        {
         "data": [
          {
           "alignmentgroup": "True",
           "hovertemplate": "Date=5/11/20<br>Country=%{x}<br>Cases=%{y}<extra></extra>",
           "ids": [
            "Brazil",
            "France",
            "Germany",
            "India",
            "Italy",
            "Russia",
            "Spain",
            "Turkey",
            "US",
            "United Kingdom"
           ],
           "legendgroup": "",
           "marker": {
            "color": "#45a2ff"
           },
           "name": "",
           "offsetgroup": "",
           "orientation": "v",
           "showlegend": false,
           "textposition": "auto",
           "type": "bar",
           "x": [
            "Brazil",
            "France",
            "Germany",
            "India",
            "Italy",
            "Russia",
            "Spain",
            "Turkey",
            "US",
            "United Kingdom"
           ],
           "xaxis": "x",
           "y": [
            169594,
            178719,
            172576,
            70768,
            219814,
            221344,
            227436,
            139771,
            1357368,
            215500
           ],
           "yaxis": "y"
          }
         ],
         "name": "5/11/20"
        },
        {
         "data": [
          {
           "alignmentgroup": "True",
           "hovertemplate": "Date=5/16/20<br>Country=%{x}<br>Cases=%{y}<extra></extra>",
           "ids": [
            "Brazil",
            "France",
            "Germany",
            "India",
            "Italy",
            "Russia",
            "Spain",
            "Turkey",
            "US",
            "United Kingdom"
           ],
           "legendgroup": "",
           "marker": {
            "color": "#45a2ff"
           },
           "name": "",
           "offsetgroup": "",
           "orientation": "v",
           "showlegend": false,
           "textposition": "auto",
           "type": "bar",
           "x": [
            "Brazil",
            "France",
            "Germany",
            "India",
            "Italy",
            "Russia",
            "Spain",
            "Turkey",
            "US",
            "United Kingdom"
           ],
           "xaxis": "x",
           "y": [
            233511,
            181563,
            175752,
            90648,
            224760,
            272043,
            230698,
            148067,
            1476261,
            229406
           ],
           "yaxis": "y"
          }
         ],
         "name": "5/16/20"
        },
        {
         "data": [
          {
           "alignmentgroup": "True",
           "hovertemplate": "Date=5/20/20<br>Country=%{x}<br>Cases=%{y}<extra></extra>",
           "ids": [
            "Brazil",
            "France",
            "Germany",
            "India",
            "Italy",
            "Russia",
            "Spain",
            "Turkey",
            "US",
            "United Kingdom"
           ],
           "legendgroup": "",
           "marker": {
            "color": "#45a2ff"
           },
           "name": "",
           "offsetgroup": "",
           "orientation": "v",
           "showlegend": false,
           "textposition": "auto",
           "type": "bar",
           "x": [
            "Brazil",
            "France",
            "Germany",
            "India",
            "Italy",
            "Russia",
            "Spain",
            "Turkey",
            "US",
            "United Kingdom"
           ],
           "xaxis": "x",
           "y": [
            291579,
            183130,
            178473,
            112028,
            227364,
            308705,
            232555,
            152587,
            1560615,
            239579
           ],
           "yaxis": "y"
          }
         ],
         "name": "5/20/20"
        },
        {
         "data": [
          {
           "alignmentgroup": "True",
           "hovertemplate": "Date=5/25/20<br>Country=%{x}<br>Cases=%{y}<extra></extra>",
           "ids": [
            "Brazil",
            "France",
            "Germany",
            "India",
            "Italy",
            "Russia",
            "Spain",
            "Turkey",
            "US",
            "United Kingdom"
           ],
           "legendgroup": "",
           "marker": {
            "color": "#45a2ff"
           },
           "name": "",
           "offsetgroup": "",
           "orientation": "v",
           "showlegend": false,
           "textposition": "auto",
           "type": "bar",
           "x": [
            "Brazil",
            "France",
            "Germany",
            "India",
            "Italy",
            "Russia",
            "Spain",
            "Turkey",
            "US",
            "United Kingdom"
           ],
           "xaxis": "x",
           "y": [
            374898,
            184585,
            180600,
            144950,
            230158,
            353427,
            235400,
            157814,
            1670129,
            248650
           ],
           "yaxis": "y"
          }
         ],
         "name": "5/25/20"
        },
        {
         "data": [
          {
           "alignmentgroup": "True",
           "hovertemplate": "Date=6/2/20<br>Country=%{x}<br>Cases=%{y}<extra></extra>",
           "ids": [
            "Brazil",
            "France",
            "Germany",
            "India",
            "Italy",
            "Russia",
            "Spain",
            "Turkey",
            "US",
            "United Kingdom"
           ],
           "legendgroup": "",
           "marker": {
            "color": "#45a2ff"
           },
           "name": "",
           "offsetgroup": "",
           "orientation": "v",
           "showlegend": false,
           "textposition": "auto",
           "type": "bar",
           "x": [
            "Brazil",
            "France",
            "Germany",
            "India",
            "Italy",
            "Russia",
            "Spain",
            "Turkey",
            "US",
            "United Kingdom"
           ],
           "xaxis": "x",
           "y": [
            555383,
            190735,
            183879,
            207191,
            233515,
            423186,
            239932,
            165555,
            1835988,
            260453
           ],
           "yaxis": "y"
          }
         ],
         "name": "6/2/20"
        },
        {
         "data": [
          {
           "alignmentgroup": "True",
           "hovertemplate": "Date=6/6/20<br>Country=%{x}<br>Cases=%{y}<extra></extra>",
           "ids": [
            "Brazil",
            "France",
            "Germany",
            "India",
            "Italy",
            "Russia",
            "Spain",
            "Turkey",
            "US",
            "United Kingdom"
           ],
           "legendgroup": "",
           "marker": {
            "color": "#45a2ff"
           },
           "name": "",
           "offsetgroup": "",
           "orientation": "v",
           "showlegend": false,
           "textposition": "auto",
           "type": "bar",
           "x": [
            "Brazil",
            "France",
            "Germany",
            "India",
            "Italy",
            "Russia",
            "Spain",
            "Turkey",
            "US",
            "United Kingdom"
           ],
           "xaxis": "x",
           "y": [
            672846,
            193022,
            185450,
            246622,
            234801,
            458102,
            241310,
            169218,
            1923985,
            264944
           ],
           "yaxis": "y"
          }
         ],
         "name": "6/6/20"
        },
        {
         "data": [
          {
           "alignmentgroup": "True",
           "hovertemplate": "Date=6/10/20<br>Country=%{x}<br>Cases=%{y}<extra></extra>",
           "ids": [
            "Brazil",
            "France",
            "Germany",
            "India",
            "Italy",
            "Russia",
            "Spain",
            "Turkey",
            "US",
            "United Kingdom"
           ],
           "legendgroup": "",
           "marker": {
            "color": "#45a2ff"
           },
           "name": "",
           "offsetgroup": "",
           "orientation": "v",
           "showlegend": false,
           "textposition": "auto",
           "type": "bar",
           "x": [
            "Brazil",
            "France",
            "Germany",
            "India",
            "Italy",
            "Russia",
            "Spain",
            "Turkey",
            "US",
            "United Kingdom"
           ],
           "xaxis": "x",
           "y": [
            772416,
            194815,
            186522,
            286605,
            235763,
            493023,
            242280,
            173036,
            1998476,
            269101
           ],
           "yaxis": "y"
          }
         ],
         "name": "6/10/20"
        },
        {
         "data": [
          {
           "alignmentgroup": "True",
           "hovertemplate": "Date=6/15/20<br>Country=%{x}<br>Cases=%{y}<extra></extra>",
           "ids": [
            "Brazil",
            "France",
            "Germany",
            "India",
            "Italy",
            "Russia",
            "Spain",
            "Turkey",
            "US",
            "United Kingdom"
           ],
           "legendgroup": "",
           "marker": {
            "color": "#45a2ff"
           },
           "name": "",
           "offsetgroup": "",
           "orientation": "v",
           "showlegend": false,
           "textposition": "auto",
           "type": "bar",
           "x": [
            "Brazil",
            "France",
            "Germany",
            "India",
            "Italy",
            "Russia",
            "Spain",
            "Turkey",
            "US",
            "United Kingdom"
           ],
           "xaxis": "x",
           "y": [
            888271,
            197004,
            187682,
            343091,
            237290,
            536484,
            244109,
            179831,
            2109967,
            273888
           ],
           "yaxis": "y"
          }
         ],
         "name": "6/15/20"
        },
        {
         "data": [
          {
           "alignmentgroup": "True",
           "hovertemplate": "Date=6/24/20<br>Country=%{x}<br>Cases=%{y}<extra></extra>",
           "ids": [
            "Brazil",
            "France",
            "Germany",
            "India",
            "Italy",
            "Russia",
            "Spain",
            "Turkey",
            "US",
            "United Kingdom"
           ],
           "legendgroup": "",
           "marker": {
            "color": "#45a2ff"
           },
           "name": "",
           "offsetgroup": "",
           "orientation": "v",
           "showlegend": false,
           "textposition": "auto",
           "type": "bar",
           "x": [
            "Brazil",
            "France",
            "Germany",
            "India",
            "Italy",
            "Russia",
            "Spain",
            "Turkey",
            "US",
            "United Kingdom"
           ],
           "xaxis": "x",
           "y": [
            1188631,
            201598,
            192871,
            473105,
            239410,
            606043,
            247086,
            191657,
            2378031,
            281815
           ],
           "yaxis": "y"
          }
         ],
         "name": "6/24/20"
        },
        {
         "data": [
          {
           "alignmentgroup": "True",
           "hovertemplate": "Date=6/29/20<br>Country=%{x}<br>Cases=%{y}<extra></extra>",
           "ids": [
            "Brazil",
            "France",
            "Germany",
            "India",
            "Italy",
            "Russia",
            "Spain",
            "Turkey",
            "US",
            "United Kingdom"
           ],
           "legendgroup": "",
           "marker": {
            "color": "#45a2ff"
           },
           "name": "",
           "offsetgroup": "",
           "orientation": "v",
           "showlegend": false,
           "textposition": "auto",
           "type": "bar",
           "x": [
            "Brazil",
            "France",
            "Germany",
            "India",
            "Italy",
            "Russia",
            "Spain",
            "Turkey",
            "US",
            "United Kingdom"
           ],
           "xaxis": "x",
           "y": [
            1368195,
            203803,
            195042,
            566840,
            240436,
            640246,
            248970,
            198613,
            2585898,
            284812
           ],
           "yaxis": "y"
          }
         ],
         "name": "6/29/20"
        },
        {
         "data": [
          {
           "alignmentgroup": "True",
           "hovertemplate": "Date=7/2/20<br>Country=%{x}<br>Cases=%{y}<extra></extra>",
           "ids": [
            "Brazil",
            "France",
            "Germany",
            "India",
            "Italy",
            "Russia",
            "Spain",
            "Turkey",
            "US",
            "United Kingdom"
           ],
           "legendgroup": "",
           "marker": {
            "color": "#45a2ff"
           },
           "name": "",
           "offsetgroup": "",
           "orientation": "v",
           "showlegend": false,
           "textposition": "auto",
           "type": "bar",
           "x": [
            "Brazil",
            "France",
            "Germany",
            "India",
            "Italy",
            "Russia",
            "Spain",
            "Turkey",
            "US",
            "United Kingdom"
           ],
           "xaxis": "x",
           "y": [
            1496858,
            205773,
            196370,
            625544,
            240961,
            660231,
            250103,
            202284,
            2739067,
            285285
           ],
           "yaxis": "y"
          }
         ],
         "name": "7/2/20"
        },
        {
         "data": [
          {
           "alignmentgroup": "True",
           "hovertemplate": "Date=7/5/20<br>Country=%{x}<br>Cases=%{y}<extra></extra>",
           "ids": [
            "Brazil",
            "France",
            "Germany",
            "India",
            "Italy",
            "Russia",
            "Spain",
            "Turkey",
            "US",
            "United Kingdom"
           ],
           "legendgroup": "",
           "marker": {
            "color": "#45a2ff"
           },
           "name": "",
           "offsetgroup": "",
           "orientation": "v",
           "showlegend": false,
           "textposition": "auto",
           "type": "bar",
           "x": [
            "Brazil",
            "France",
            "Germany",
            "India",
            "Italy",
            "Russia",
            "Spain",
            "Turkey",
            "US",
            "United Kingdom"
           ],
           "xaxis": "x",
           "y": [
            1603055,
            206681,
            197523,
            697413,
            241611,
            680283,
            250545,
            205758,
            2886576,
            286931
           ],
           "yaxis": "y"
          }
         ],
         "name": "7/5/20"
        },
        {
         "data": [
          {
           "alignmentgroup": "True",
           "hovertemplate": "Date=7/10/20<br>Country=%{x}<br>Cases=%{y}<extra></extra>",
           "ids": [
            "Brazil",
            "France",
            "Germany",
            "India",
            "Italy",
            "Russia",
            "Spain",
            "Turkey",
            "US",
            "United Kingdom"
           ],
           "legendgroup": "",
           "marker": {
            "color": "#45a2ff"
           },
           "name": "",
           "offsetgroup": "",
           "orientation": "v",
           "showlegend": false,
           "textposition": "auto",
           "type": "bar",
           "x": [
            "Brazil",
            "France",
            "Germany",
            "India",
            "Italy",
            "Russia",
            "Spain",
            "Turkey",
            "US",
            "United Kingdom"
           ],
           "xaxis": "x",
           "y": [
            1800827,
            210134,
            199332,
            820916,
            242639,
            712863,
            253908,
            210965,
            3181241,
            289678
           ],
           "yaxis": "y"
          }
         ],
         "name": "7/10/20"
        },
        {
         "data": [
          {
           "alignmentgroup": "True",
           "hovertemplate": "Date=7/15/20<br>Country=%{x}<br>Cases=%{y}<extra></extra>",
           "ids": [
            "Brazil",
            "France",
            "Germany",
            "India",
            "Italy",
            "Russia",
            "Spain",
            "Turkey",
            "US",
            "United Kingdom"
           ],
           "legendgroup": "",
           "marker": {
            "color": "#45a2ff"
           },
           "name": "",
           "offsetgroup": "",
           "orientation": "v",
           "showlegend": false,
           "textposition": "auto",
           "type": "bar",
           "x": [
            "Brazil",
            "France",
            "Germany",
            "India",
            "Italy",
            "Russia",
            "Spain",
            "Turkey",
            "US",
            "United Kingdom"
           ],
           "xaxis": "x",
           "y": [
            1966748,
            212613,
            200890,
            968857,
            243506,
            745197,
            257494,
            215940,
            3495012,
            293469
           ],
           "yaxis": "y"
          }
         ],
         "name": "7/15/20"
        },
        {
         "data": [
          {
           "alignmentgroup": "True",
           "hovertemplate": "Date=7/24/20<br>Country=%{x}<br>Cases=%{y}<extra></extra>",
           "ids": [
            "Brazil",
            "France",
            "Germany",
            "India",
            "Italy",
            "Russia",
            "Spain",
            "Turkey",
            "US",
            "United Kingdom"
           ],
           "legendgroup": "",
           "marker": {
            "color": "#45a2ff"
           },
           "name": "",
           "offsetgroup": "",
           "orientation": "v",
           "showlegend": false,
           "textposition": "auto",
           "type": "bar",
           "x": [
            "Brazil",
            "France",
            "Germany",
            "India",
            "Italy",
            "Russia",
            "Spain",
            "Turkey",
            "US",
            "United Kingdom"
           ],
           "xaxis": "x",
           "y": [
            2343366,
            219932,
            205623,
            1337024,
            245590,
            799499,
            272421,
            224252,
            4106394,
            299500
           ],
           "yaxis": "y"
          }
         ],
         "name": "7/24/20"
        },
        {
         "data": [
          {
           "alignmentgroup": "True",
           "hovertemplate": "Date=7/29/20<br>Country=%{x}<br>Cases=%{y}<extra></extra>",
           "ids": [
            "Brazil",
            "France",
            "Germany",
            "India",
            "Italy",
            "Russia",
            "Spain",
            "Turkey",
            "US",
            "United Kingdom"
           ],
           "legendgroup": "",
           "marker": {
            "color": "#45a2ff"
           },
           "name": "",
           "offsetgroup": "",
           "orientation": "v",
           "showlegend": false,
           "textposition": "auto",
           "type": "bar",
           "x": [
            "Brazil",
            "France",
            "Germany",
            "India",
            "Italy",
            "Russia",
            "Spain",
            "Turkey",
            "US",
            "United Kingdom"
           ],
           "xaxis": "x",
           "y": [
            2552265,
            224542,
            208546,
            1581963,
            246776,
            827509,
            282641,
            228924,
            4419874,
            303063
           ],
           "yaxis": "y"
          }
         ],
         "name": "7/29/20"
        },
        {
         "data": [
          {
           "alignmentgroup": "True",
           "hovertemplate": "Date=8/1/20<br>Country=%{x}<br>Cases=%{y}<extra></extra>",
           "ids": [
            "Brazil",
            "France",
            "Germany",
            "India",
            "Italy",
            "Russia",
            "Spain",
            "Turkey",
            "US",
            "United Kingdom"
           ],
           "legendgroup": "",
           "marker": {
            "color": "#45a2ff"
           },
           "name": "",
           "offsetgroup": "",
           "orientation": "v",
           "showlegend": false,
           "textposition": "auto",
           "type": "bar",
           "x": [
            "Brazil",
            "France",
            "Germany",
            "India",
            "Italy",
            "Russia",
            "Spain",
            "Turkey",
            "US",
            "United Kingdom"
           ],
           "xaxis": "x",
           "y": [
            2707877,
            227302,
            211005,
            1750723,
            247832,
            843890,
            288522,
            231869,
            4613200,
            305562
           ],
           "yaxis": "y"
          }
         ],
         "name": "8/1/20"
        },
        {
         "data": [
          {
           "alignmentgroup": "True",
           "hovertemplate": "Date=8/4/20<br>Country=%{x}<br>Cases=%{y}<extra></extra>",
           "ids": [
            "Brazil",
            "France",
            "Germany",
            "India",
            "Italy",
            "Russia",
            "Spain",
            "Turkey",
            "US",
            "United Kingdom"
           ],
           "legendgroup": "",
           "marker": {
            "color": "#45a2ff"
           },
           "name": "",
           "offsetgroup": "",
           "orientation": "v",
           "showlegend": false,
           "textposition": "auto",
           "type": "bar",
           "x": [
            "Brazil",
            "France",
            "Germany",
            "India",
            "Italy",
            "Russia",
            "Spain",
            "Turkey",
            "US",
            "United Kingdom"
           ],
           "xaxis": "x",
           "y": [
            2801921,
            231636,
            212828,
            1908254,
            248419,
            859762,
            302814,
            234934,
            4761351,
            307926
           ],
           "yaxis": "y"
          }
         ],
         "name": "8/4/20"
        },
        {
         "data": [
          {
           "alignmentgroup": "True",
           "hovertemplate": "Date=8/9/20<br>Country=%{x}<br>Cases=%{y}<extra></extra>",
           "ids": [
            "Brazil",
            "France",
            "Germany",
            "India",
            "Italy",
            "Russia",
            "Spain",
            "Turkey",
            "US",
            "United Kingdom"
           ],
           "legendgroup": "",
           "marker": {
            "color": "#45a2ff"
           },
           "name": "",
           "offsetgroup": "",
           "orientation": "v",
           "showlegend": false,
           "textposition": "auto",
           "type": "bar",
           "x": [
            "Brazil",
            "France",
            "Germany",
            "India",
            "Italy",
            "Russia",
            "Spain",
            "Turkey",
            "US",
            "United Kingdom"
           ],
           "xaxis": "x",
           "y": [
            3035422,
            237437,
            217288,
            2215074,
            250566,
            885718,
            314362,
            240804,
            5034154,
            312574
           ],
           "yaxis": "y"
          }
         ],
         "name": "8/9/20"
        },
        {
         "data": [
          {
           "alignmentgroup": "True",
           "hovertemplate": "Date=8/14/20<br>Country=%{x}<br>Cases=%{y}<extra></extra>",
           "ids": [
            "Brazil",
            "France",
            "Germany",
            "India",
            "Italy",
            "Russia",
            "Spain",
            "Turkey",
            "US",
            "United Kingdom"
           ],
           "legendgroup": "",
           "marker": {
            "color": "#45a2ff"
           },
           "name": "",
           "offsetgroup": "",
           "orientation": "v",
           "showlegend": false,
           "textposition": "auto",
           "type": "bar",
           "x": [
            "Brazil",
            "France",
            "Germany",
            "India",
            "Italy",
            "Russia",
            "Spain",
            "Turkey",
            "US",
            "United Kingdom"
           ],
           "xaxis": "x",
           "y": [
            3275520,
            251781,
            223791,
            2525922,
            252809,
            910778,
            342813,
            246861,
            5302819,
            318190
           ],
           "yaxis": "y"
          }
         ],
         "name": "8/14/20"
        },
        {
         "data": [
          {
           "alignmentgroup": "True",
           "hovertemplate": "Date=8/19/20<br>Country=%{x}<br>Cases=%{y}<extra></extra>",
           "ids": [
            "Brazil",
            "France",
            "Germany",
            "India",
            "Italy",
            "Russia",
            "Spain",
            "Turkey",
            "US",
            "United Kingdom"
           ],
           "legendgroup": "",
           "marker": {
            "color": "#45a2ff"
           },
           "name": "",
           "offsetgroup": "",
           "orientation": "v",
           "showlegend": false,
           "textposition": "auto",
           "type": "bar",
           "x": [
            "Brazil",
            "France",
            "Germany",
            "India",
            "Italy",
            "Russia",
            "Spain",
            "Turkey",
            "US",
            "United Kingdom"
           ],
           "xaxis": "x",
           "y": [
            3456652,
            264535,
            229706,
            2836925,
            255278,
            935066,
            370867,
            253108,
            5519619,
            323008
           ],
           "yaxis": "y"
          }
         ],
         "name": "8/19/20"
        },
        {
         "data": [
          {
           "alignmentgroup": "True",
           "hovertemplate": "Date=8/23/20<br>Country=%{x}<br>Cases=%{y}<extra></extra>",
           "ids": [
            "Brazil",
            "France",
            "Germany",
            "India",
            "Italy",
            "Russia",
            "Spain",
            "Turkey",
            "US",
            "United Kingdom"
           ],
           "legendgroup": "",
           "marker": {
            "color": "#45a2ff"
           },
           "name": "",
           "offsetgroup": "",
           "orientation": "v",
           "showlegend": false,
           "textposition": "auto",
           "type": "bar",
           "x": [
            "Brazil",
            "France",
            "Germany",
            "India",
            "Italy",
            "Russia",
            "Spain",
            "Turkey",
            "US",
            "United Kingdom"
           ],
           "xaxis": "x",
           "y": [
            3605783,
            282498,
            234494,
            3106348,
            259345,
            954328,
            386054,
            258249,
            5690061,
            327643
           ],
           "yaxis": "y"
          }
         ],
         "name": "8/23/20"
        },
        {
         "data": [
          {
           "alignmentgroup": "True",
           "hovertemplate": "Date=8/28/20<br>Country=%{x}<br>Cases=%{y}<extra></extra>",
           "ids": [
            "Brazil",
            "France",
            "Germany",
            "India",
            "Italy",
            "Russia",
            "Spain",
            "Turkey",
            "US",
            "United Kingdom"
           ],
           "legendgroup": "",
           "marker": {
            "color": "#45a2ff"
           },
           "name": "",
           "offsetgroup": "",
           "orientation": "v",
           "showlegend": false,
           "textposition": "auto",
           "type": "bar",
           "x": [
            "Brazil",
            "France",
            "Germany",
            "India",
            "Italy",
            "Russia",
            "Spain",
            "Turkey",
            "US",
            "United Kingdom"
           ],
           "xaxis": "x",
           "y": [
            3804803,
            307221,
            242126,
            3463972,
            265409,
            977730,
            439286,
            265515,
            5904305,
            333806
           ],
           "yaxis": "y"
          }
         ],
         "name": "8/28/20"
        },
        {
         "data": [
          {
           "alignmentgroup": "True",
           "hovertemplate": "Date=9/4/20<br>Country=%{x}<br>Cases=%{y}<extra></extra>",
           "ids": [
            "Brazil",
            "France",
            "Germany",
            "India",
            "Italy",
            "Russia",
            "Spain",
            "Turkey",
            "US",
            "United Kingdom"
           ],
           "legendgroup": "",
           "marker": {
            "color": "#45a2ff"
           },
           "name": "",
           "offsetgroup": "",
           "orientation": "v",
           "showlegend": false,
           "textposition": "auto",
           "type": "bar",
           "x": [
            "Brazil",
            "France",
            "Germany",
            "India",
            "Italy",
            "Russia",
            "Spain",
            "Turkey",
            "US",
            "United Kingdom"
           ],
           "xaxis": "x",
           "y": [
            4091801,
            349333,
            250283,
            4023179,
            274644,
            1011987,
            498989,
            276555,
            6196213,
            344686
           ],
           "yaxis": "y"
          }
         ],
         "name": "9/4/20"
        },
        {
         "data": [
          {
           "alignmentgroup": "True",
           "hovertemplate": "Date=9/9/20<br>Country=%{x}<br>Cases=%{y}<extra></extra>",
           "ids": [
            "Brazil",
            "France",
            "Germany",
            "India",
            "Italy",
            "Russia",
            "Spain",
            "Turkey",
            "US",
            "United Kingdom"
           ],
           "legendgroup": "",
           "marker": {
            "color": "#45a2ff"
           },
           "name": "",
           "offsetgroup": "",
           "orientation": "v",
           "showlegend": false,
           "textposition": "auto",
           "type": "bar",
           "x": [
            "Brazil",
            "France",
            "Germany",
            "India",
            "Italy",
            "Russia",
            "Spain",
            "Turkey",
            "US",
            "United Kingdom"
           ],
           "xaxis": "x",
           "y": [
            4197889,
            384566,
            256433,
            4465863,
            281583,
            1037526,
            543379,
            284943,
            6355282,
            357613
           ],
           "yaxis": "y"
          }
         ],
         "name": "9/9/20"
        },
        {
         "data": [
          {
           "alignmentgroup": "True",
           "hovertemplate": "Date=9/13/20<br>Country=%{x}<br>Cases=%{y}<extra></extra>",
           "ids": [
            "Brazil",
            "France",
            "Germany",
            "India",
            "Italy",
            "Russia",
            "Spain",
            "Turkey",
            "US",
            "United Kingdom"
           ],
           "legendgroup": "",
           "marker": {
            "color": "#45a2ff"
           },
           "name": "",
           "offsetgroup": "",
           "orientation": "v",
           "showlegend": false,
           "textposition": "auto",
           "type": "bar",
           "x": [
            "Brazil",
            "France",
            "Germany",
            "India",
            "Italy",
            "Russia",
            "Spain",
            "Turkey",
            "US",
            "United Kingdom"
           ],
           "xaxis": "x",
           "y": [
            4330455,
            421519,
            261737,
            4846427,
            287753,
            1059024,
            566326,
            291162,
            6514296,
            370930
           ],
           "yaxis": "y"
          }
         ],
         "name": "9/13/20"
        },
        {
         "data": [
          {
           "alignmentgroup": "True",
           "hovertemplate": "Date=9/18/20<br>Country=%{x}<br>Cases=%{y}<extra></extra>",
           "ids": [
            "Brazil",
            "France",
            "Germany",
            "India",
            "Italy",
            "Russia",
            "Spain",
            "Turkey",
            "US",
            "United Kingdom"
           ],
           "legendgroup": "",
           "marker": {
            "color": "#45a2ff"
           },
           "name": "",
           "offsetgroup": "",
           "orientation": "v",
           "showlegend": false,
           "textposition": "auto",
           "type": "bar",
           "x": [
            "Brazil",
            "France",
            "Germany",
            "India",
            "Italy",
            "Russia",
            "Spain",
            "Turkey",
            "US",
            "United Kingdom"
           ],
           "xaxis": "x",
           "y": [
            4495183,
            469404,
            271247,
            5308014,
            294932,
            1086955,
            640040,
            299810,
            6720266,
            388416
           ],
           "yaxis": "y"
          }
         ],
         "name": "9/18/20"
        },
        {
         "data": [
          {
           "alignmentgroup": "True",
           "hovertemplate": "Date=9/22/20<br>Country=%{x}<br>Cases=%{y}<extra></extra>",
           "ids": [
            "Brazil",
            "France",
            "Germany",
            "India",
            "Italy",
            "Russia",
            "Spain",
            "Turkey",
            "US",
            "United Kingdom"
           ],
           "legendgroup": "",
           "marker": {
            "color": "#45a2ff"
           },
           "name": "",
           "offsetgroup": "",
           "orientation": "v",
           "showlegend": false,
           "textposition": "auto",
           "type": "bar",
           "x": [
            "Brazil",
            "France",
            "Germany",
            "India",
            "Italy",
            "Russia",
            "Spain",
            "Turkey",
            "US",
            "United Kingdom"
           ],
           "xaxis": "x",
           "y": [
            4591364,
            509123,
            277412,
            5646010,
            300897,
            1111157,
            682267,
            306302,
            6891985,
            406058
           ],
           "yaxis": "y"
          }
         ],
         "name": "9/22/20"
        },
        {
         "data": [
          {
           "alignmentgroup": "True",
           "hovertemplate": "Date=9/27/20<br>Country=%{x}<br>Cases=%{y}<extra></extra>",
           "ids": [
            "Brazil",
            "France",
            "Germany",
            "India",
            "Italy",
            "Russia",
            "Spain",
            "Turkey",
            "US",
            "United Kingdom"
           ],
           "legendgroup": "",
           "marker": {
            "color": "#45a2ff"
           },
           "name": "",
           "offsetgroup": "",
           "orientation": "v",
           "showlegend": false,
           "textposition": "auto",
           "type": "bar",
           "x": [
            "Brazil",
            "France",
            "Germany",
            "India",
            "Italy",
            "Russia",
            "Spain",
            "Turkey",
            "US",
            "United Kingdom"
           ],
           "xaxis": "x",
           "y": [
            4732309,
            579223,
            286339,
            6074702,
            309870,
            1146273,
            716481,
            314433,
            7106487,
            437517
           ],
           "yaxis": "y"
          }
         ],
         "name": "9/27/20"
        },
        {
         "data": [
          {
           "alignmentgroup": "True",
           "hovertemplate": "Date=10/3/20<br>Country=%{x}<br>Cases=%{y}<extra></extra>",
           "ids": [
            "Brazil",
            "France",
            "Germany",
            "India",
            "Italy",
            "Russia",
            "Spain",
            "Turkey",
            "US",
            "United Kingdom"
           ],
           "legendgroup": "",
           "marker": {
            "color": "#45a2ff"
           },
           "name": "",
           "offsetgroup": "",
           "orientation": "v",
           "showlegend": false,
           "textposition": "auto",
           "type": "bar",
           "x": [
            "Brazil",
            "France",
            "Germany",
            "India",
            "Italy",
            "Russia",
            "Spain",
            "Turkey",
            "US",
            "United Kingdom"
           ],
           "xaxis": "x",
           "y": [
            4906833,
            647868,
            300027,
            6549373,
            322751,
            1198663,
            789932,
            323014,
            7371323,
            482654
           ],
           "yaxis": "y"
          }
         ],
         "name": "10/3/20"
        },
        {
         "data": [
          {
           "alignmentgroup": "True",
           "hovertemplate": "Date=10/6/20<br>Country=%{x}<br>Cases=%{y}<extra></extra>",
           "ids": [
            "Brazil",
            "France",
            "Germany",
            "India",
            "Italy",
            "Russia",
            "Spain",
            "Turkey",
            "US",
            "United Kingdom"
           ],
           "legendgroup": "",
           "marker": {
            "color": "#45a2ff"
           },
           "name": "",
           "offsetgroup": "",
           "orientation": "v",
           "showlegend": false,
           "textposition": "auto",
           "type": "bar",
           "x": [
            "Brazil",
            "France",
            "Germany",
            "India",
            "Italy",
            "Russia",
            "Spain",
            "Turkey",
            "US",
            "United Kingdom"
           ],
           "xaxis": "x",
           "y": [
            4969141,
            677321,
            307127,
            6757131,
            330263,
            1231277,
            825410,
            327557,
            7491223,
            532779
           ],
           "yaxis": "y"
          }
         ],
         "name": "10/6/20"
        },
        {
         "data": [
          {
           "alignmentgroup": "True",
           "hovertemplate": "Date=10/11/20<br>Country=%{x}<br>Cases=%{y}<extra></extra>",
           "ids": [
            "Brazil",
            "France",
            "Germany",
            "India",
            "Italy",
            "Russia",
            "Spain",
            "Turkey",
            "US",
            "United Kingdom"
           ],
           "legendgroup": "",
           "marker": {
            "color": "#45a2ff"
           },
           "name": "",
           "offsetgroup": "",
           "orientation": "v",
           "showlegend": false,
           "textposition": "auto",
           "type": "bar",
           "x": [
            "Brazil",
            "France",
            "Germany",
            "India",
            "Italy",
            "Russia",
            "Spain",
            "Turkey",
            "US",
            "United Kingdom"
           ],
           "xaxis": "x",
           "y": [
            5094979,
            777378,
            326309,
            7120538,
            354950,
            1291687,
            861112,
            335533,
            7757365,
            606447
           ],
           "yaxis": "y"
          }
         ],
         "name": "10/11/20"
        },
        {
         "data": [
          {
           "alignmentgroup": "True",
           "hovertemplate": "Date=10/16/20<br>Country=%{x}<br>Cases=%{y}<extra></extra>",
           "ids": [
            "Brazil",
            "France",
            "Germany",
            "India",
            "Italy",
            "Russia",
            "Spain",
            "Turkey",
            "US",
            "United Kingdom"
           ],
           "legendgroup": "",
           "marker": {
            "color": "#45a2ff"
           },
           "name": "",
           "offsetgroup": "",
           "orientation": "v",
           "showlegend": false,
           "textposition": "auto",
           "type": "bar",
           "x": [
            "Brazil",
            "France",
            "Germany",
            "India",
            "Italy",
            "Russia",
            "Spain",
            "Turkey",
            "US",
            "United Kingdom"
           ],
           "xaxis": "x",
           "y": [
            5200300,
            878607,
            359802,
            7432680,
            391611,
            1361317,
            936560,
            343955,
            8042848,
            692112
           ],
           "yaxis": "y"
          }
         ],
         "name": "10/16/20"
        },
        {
         "data": [
          {
           "alignmentgroup": "True",
           "hovertemplate": "Date=10/20/20<br>Country=%{x}<br>Cases=%{y}<extra></extra>",
           "ids": [
            "Brazil",
            "France",
            "Germany",
            "India",
            "Italy",
            "Russia",
            "Spain",
            "Turkey",
            "US",
            "United Kingdom"
           ],
           "legendgroup": "",
           "marker": {
            "color": "#45a2ff"
           },
           "name": "",
           "offsetgroup": "",
           "orientation": "v",
           "showlegend": false,
           "textposition": "auto",
           "type": "bar",
           "x": [
            "Brazil",
            "France",
            "Germany",
            "India",
            "Italy",
            "Russia",
            "Spain",
            "Turkey",
            "US",
            "United Kingdom"
           ],
           "xaxis": "x",
           "y": [
            5273954,
            975213,
            385591,
            7651107,
            434449,
            1422775,
            988322,
            351413,
            8277478,
            765487
           ],
           "yaxis": "y"
          }
         ],
         "name": "10/20/20"
        },
        {
         "data": [
          {
           "alignmentgroup": "True",
           "hovertemplate": "Date=10/25/20<br>Country=%{x}<br>Cases=%{y}<extra></extra>",
           "ids": [
            "Brazil",
            "France",
            "Germany",
            "India",
            "Italy",
            "Russia",
            "Spain",
            "Turkey",
            "US",
            "United Kingdom"
           ],
           "legendgroup": "",
           "marker": {
            "color": "#45a2ff"
           },
           "name": "",
           "offsetgroup": "",
           "orientation": "v",
           "showlegend": false,
           "textposition": "auto",
           "type": "bar",
           "x": [
            "Brazil",
            "France",
            "Germany",
            "India",
            "Italy",
            "Russia",
            "Spain",
            "Turkey",
            "US",
            "United Kingdom"
           ],
           "xaxis": "x",
           "y": [
            5394128,
            1138166,
            437698,
            7909959,
            525782,
            1503652,
            1046132,
            361801,
            8641994,
            876840
           ],
           "yaxis": "y"
          }
         ],
         "name": "10/25/20"
        },
        {
         "data": [
          {
           "alignmentgroup": "True",
           "hovertemplate": "Date=11/2/20<br>Country=%{x}<br>Cases=%{y}<extra></extra>",
           "ids": [
            "Brazil",
            "France",
            "Germany",
            "India",
            "Italy",
            "Russia",
            "Spain",
            "Turkey",
            "US",
            "United Kingdom"
           ],
           "legendgroup": "",
           "marker": {
            "color": "#45a2ff"
           },
           "name": "",
           "offsetgroup": "",
           "orientation": "v",
           "showlegend": false,
           "textposition": "auto",
           "type": "bar",
           "x": [
            "Brazil",
            "France",
            "Germany",
            "India",
            "Italy",
            "Russia",
            "Spain",
            "Turkey",
            "US",
            "United Kingdom"
           ],
           "xaxis": "x",
           "y": [
            5554206,
            1566634,
            569598,
            8267623,
            731588,
            1642665,
            1240697,
            379775,
            9329001,
            1057021
           ],
           "yaxis": "y"
          }
         ],
         "name": "11/2/20"
        },
        {
         "data": [
          {
           "alignmentgroup": "True",
           "hovertemplate": "Date=11/6/20<br>Country=%{x}<br>Cases=%{y}<extra></extra>",
           "ids": [
            "Brazil",
            "France",
            "Germany",
            "India",
            "Italy",
            "Russia",
            "Spain",
            "Turkey",
            "US",
            "United Kingdom"
           ],
           "legendgroup": "",
           "marker": {
            "color": "#45a2ff"
           },
           "name": "",
           "offsetgroup": "",
           "orientation": "v",
           "showlegend": false,
           "textposition": "auto",
           "type": "bar",
           "x": [
            "Brazil",
            "France",
            "Germany",
            "India",
            "Italy",
            "Russia",
            "Spain",
            "Turkey",
            "US",
            "United Kingdom"
           ],
           "xaxis": "x",
           "y": [
            5631181,
            1711917,
            653992,
            8462080,
            862681,
            1720063,
            1328832,
            389256,
            9813335,
            1149791
           ],
           "yaxis": "y"
          }
         ],
         "name": "11/6/20"
        },
        {
         "data": [
          {
           "alignmentgroup": "True",
           "hovertemplate": "Date=11/10/20<br>Country=%{x}<br>Cases=%{y}<extra></extra>",
           "ids": [
            "Brazil",
            "France",
            "Germany",
            "India",
            "Italy",
            "Russia",
            "Spain",
            "Turkey",
            "US",
            "United Kingdom"
           ],
           "legendgroup": "",
           "marker": {
            "color": "#45a2ff"
           },
           "name": "",
           "offsetgroup": "",
           "orientation": "v",
           "showlegend": false,
           "textposition": "auto",
           "type": "bar",
           "x": [
            "Brazil",
            "France",
            "Germany",
            "India",
            "Italy",
            "Russia",
            "Spain",
            "Turkey",
            "US",
            "United Kingdom"
           ],
           "xaxis": "x",
           "y": [
            5699005,
            1881171,
            715693,
            8636011,
            995463,
            1802762,
            1381218,
            399360,
            10313440,
            1237198
           ],
           "yaxis": "y"
          }
         ],
         "name": "11/10/20"
        },
        {
         "data": [
          {
           "alignmentgroup": "True",
           "hovertemplate": "Date=11/15/20<br>Country=%{x}<br>Cases=%{y}<extra></extra>",
           "ids": [
            "Brazil",
            "France",
            "Germany",
            "India",
            "Italy",
            "Russia",
            "Spain",
            "Turkey",
            "US",
            "United Kingdom"
           ],
           "legendgroup": "",
           "marker": {
            "color": "#45a2ff"
           },
           "name": "",
           "offsetgroup": "",
           "orientation": "v",
           "showlegend": false,
           "textposition": "auto",
           "type": "bar",
           "x": [
            "Brazil",
            "France",
            "Germany",
            "India",
            "Italy",
            "Russia",
            "Spain",
            "Turkey",
            "US",
            "United Kingdom"
           ],
           "xaxis": "x",
           "y": [
            5863093,
            2033419,
            802946,
            8845127,
            1178529,
            1910149,
            1458591,
            414278,
            11105231,
            1372884
           ],
           "yaxis": "y"
          }
         ],
         "name": "11/15/20"
        },
        {
         "data": [
          {
           "alignmentgroup": "True",
           "hovertemplate": "Date=11/24/20<br>Country=%{x}<br>Cases=%{y}<extra></extra>",
           "ids": [
            "Brazil",
            "France",
            "Germany",
            "India",
            "Italy",
            "Russia",
            "Spain",
            "Turkey",
            "US",
            "United Kingdom"
           ],
           "legendgroup": "",
           "marker": {
            "color": "#45a2ff"
           },
           "name": "",
           "offsetgroup": "",
           "orientation": "v",
           "showlegend": false,
           "textposition": "auto",
           "type": "bar",
           "x": [
            "Brazil",
            "France",
            "Germany",
            "India",
            "Italy",
            "Russia",
            "Spain",
            "Turkey",
            "US",
            "United Kingdom"
           ],
           "xaxis": "x",
           "y": [
            6118708,
            2207751,
            963192,
            9222216,
            1455022,
            2120836,
            1594844,
            460916,
            12654299,
            1542611
           ],
           "yaxis": "y"
          }
         ],
         "name": "11/24/20"
        },
        {
         "data": [
          {
           "alignmentgroup": "True",
           "hovertemplate": "Date=11/29/20<br>Country=%{x}<br>Cases=%{y}<extra></extra>",
           "ids": [
            "Brazil",
            "France",
            "Germany",
            "India",
            "Italy",
            "Russia",
            "Spain",
            "Turkey",
            "US",
            "United Kingdom"
           ],
           "legendgroup": "",
           "marker": {
            "color": "#45a2ff"
           },
           "name": "",
           "offsetgroup": "",
           "orientation": "v",
           "showlegend": false,
           "textposition": "auto",
           "type": "bar",
           "x": [
            "Brazil",
            "France",
            "Germany",
            "India",
            "Italy",
            "Russia",
            "Spain",
            "Turkey",
            "US",
            "United Kingdom"
           ],
           "xaxis": "x",
           "y": [
            6314740,
            2272520,
            1055691,
            9431691,
            1585178,
            2249890,
            1628208,
            607628,
            13450477,
            1621305
           ],
           "yaxis": "y"
          }
         ],
         "name": "11/29/20"
        },
        {
         "data": [
          {
           "alignmentgroup": "True",
           "hovertemplate": "Date=12/2/20<br>Country=%{x}<br>Cases=%{y}<extra></extra>",
           "ids": [
            "Brazil",
            "France",
            "Germany",
            "India",
            "Italy",
            "Russia",
            "Spain",
            "Turkey",
            "US",
            "United Kingdom"
           ],
           "legendgroup": "",
           "marker": {
            "color": "#45a2ff"
           },
           "name": "",
           "offsetgroup": "",
           "orientation": "v",
           "showlegend": false,
           "textposition": "auto",
           "type": "bar",
           "x": [
            "Brazil",
            "France",
            "Germany",
            "India",
            "Italy",
            "Russia",
            "Spain",
            "Turkey",
            "US",
            "United Kingdom"
           ],
           "xaxis": "x",
           "y": [
            6436650,
            2299466,
            1117953,
            9534964,
            1641610,
            2327105,
            1665775,
            700880,
            13992765,
            1663467
           ],
           "yaxis": "y"
          }
         ],
         "name": "12/2/20"
        },
        {
         "data": [
          {
           "alignmentgroup": "True",
           "hovertemplate": "Date=12/7/20<br>Country=%{x}<br>Cases=%{y}<extra></extra>",
           "ids": [
            "Brazil",
            "France",
            "Germany",
            "India",
            "Italy",
            "Russia",
            "Spain",
            "Turkey",
            "US",
            "United Kingdom"
           ],
           "legendgroup": "",
           "marker": {
            "color": "#45a2ff"
           },
           "name": "",
           "offsetgroup": "",
           "orientation": "v",
           "showlegend": false,
           "textposition": "auto",
           "type": "bar",
           "x": [
            "Brazil",
            "France",
            "Germany",
            "India",
            "Italy",
            "Russia",
            "Spain",
            "Turkey",
            "US",
            "United Kingdom"
           ],
           "xaxis": "x",
           "y": [
            6623911,
            2351006,
            1200006,
            9703770,
            1742557,
            2466961,
            1702328,
            860432,
            15030195,
            1742525
           ],
           "yaxis": "y"
          }
         ],
         "name": "12/7/20"
        },
        {
         "data": [
          {
           "alignmentgroup": "True",
           "hovertemplate": "Date=12/10/20<br>Country=%{x}<br>Cases=%{y}<extra></extra>",
           "ids": [
            "Brazil",
            "France",
            "Germany",
            "India",
            "Italy",
            "Russia",
            "Spain",
            "Turkey",
            "US",
            "United Kingdom"
           ],
           "legendgroup": "",
           "marker": {
            "color": "#45a2ff"
           },
           "name": "",
           "offsetgroup": "",
           "orientation": "v",
           "showlegend": false,
           "textposition": "auto",
           "type": "bar",
           "x": [
            "Brazil",
            "France",
            "Germany",
            "India",
            "Italy",
            "Russia",
            "Spain",
            "Turkey",
            "US",
            "United Kingdom"
           ],
           "xaxis": "x",
           "y": [
            6781799,
            2393590,
            1287092,
            9796744,
            1787147,
            2546113,
            1720056,
            1748567,
            15698737,
            1792611
           ],
           "yaxis": "y"
          }
         ],
         "name": "12/10/20"
        },
        {
         "data": [
          {
           "alignmentgroup": "True",
           "hovertemplate": "Date=12/15/20<br>Country=%{x}<br>Cases=%{y}<extra></extra>",
           "ids": [
            "Brazil",
            "France",
            "Germany",
            "India",
            "Italy",
            "Russia",
            "Spain",
            "Turkey",
            "US",
            "United Kingdom"
           ],
           "legendgroup": "",
           "marker": {
            "color": "#45a2ff"
           },
           "name": "",
           "offsetgroup": "",
           "orientation": "v",
           "showlegend": false,
           "textposition": "auto",
           "type": "bar",
           "x": [
            "Brazil",
            "France",
            "Germany",
            "India",
            "Italy",
            "Russia",
            "Spain",
            "Turkey",
            "US",
            "United Kingdom"
           ],
           "xaxis": "x",
           "y": [
            6970034,
            2447406,
            1391086,
            9932547,
            1870576,
            2682866,
            1762212,
            1898447,
            16735333,
            1893436
           ],
           "yaxis": "y"
          }
         ],
         "name": "12/15/20"
        },
        {
         "data": [
          {
           "alignmentgroup": "True",
           "hovertemplate": "Date=12/24/20<br>Country=%{x}<br>Cases=%{y}<extra></extra>",
           "ids": [
            "Brazil",
            "France",
            "Germany",
            "India",
            "Italy",
            "Russia",
            "Spain",
            "Turkey",
            "US",
            "United Kingdom"
           ],
           "legendgroup": "",
           "marker": {
            "color": "#45a2ff"
           },
           "name": "",
           "offsetgroup": "",
           "orientation": "v",
           "showlegend": false,
           "textposition": "auto",
           "type": "bar",
           "x": [
            "Brazil",
            "France",
            "Germany",
            "India",
            "Italy",
            "Russia",
            "Spain",
            "Turkey",
            "US",
            "United Kingdom"
           ],
           "xaxis": "x",
           "y": [
            7423945,
            2584333,
            1630596,
            10146845,
            2009317,
            2934695,
            1854951,
            2100712,
            18665343,
            2195144
           ],
           "yaxis": "y"
          }
         ],
         "name": "12/24/20"
        },
        {
         "data": [
          {
           "alignmentgroup": "True",
           "hovertemplate": "Date=12/29/20<br>Country=%{x}<br>Cases=%{y}<extra></extra>",
           "ids": [
            "Brazil",
            "France",
            "Germany",
            "India",
            "Italy",
            "Russia",
            "Spain",
            "Turkey",
            "US",
            "United Kingdom"
           ],
           "legendgroup": "",
           "marker": {
            "color": "#45a2ff"
           },
           "name": "",
           "offsetgroup": "",
           "orientation": "v",
           "showlegend": false,
           "textposition": "auto",
           "type": "bar",
           "x": [
            "Brazil",
            "France",
            "Germany",
            "India",
            "Italy",
            "Russia",
            "Spain",
            "Turkey",
            "US",
            "United Kingdom"
           ],
           "xaxis": "x",
           "y": [
            7563551,
            2631110,
            1692109,
            10244852,
            2067487,
            3073923,
            1893502,
            2178580,
            19511426,
            2389963
           ],
           "yaxis": "y"
          }
         ],
         "name": "12/29/20"
        }
       ],
       "layout": {
        "barmode": "relative",
        "legend": {
         "tracegroupgap": 0
        },
        "margin": {
         "t": 60
        },
        "showlegend": false,
        "sliders": [
         {
          "active": 0,
          "currentvalue": {
           "prefix": "Date="
          },
          "len": 0.9,
          "pad": {
           "b": 10,
           "t": 60
          },
          "steps": [
           {
            "args": [
             [
              "1/24/20"
             ],
             {
              "frame": {
               "duration": 0,
               "redraw": true
              },
              "fromcurrent": true,
              "mode": "immediate",
              "transition": {
               "duration": 0,
               "easing": "linear"
              }
             }
            ],
            "label": "1/24/20",
            "method": "animate"
           },
           {
            "args": [
             [
              "1/29/20"
             ],
             {
              "frame": {
               "duration": 0,
               "redraw": true
              },
              "fromcurrent": true,
              "mode": "immediate",
              "transition": {
               "duration": 0,
               "easing": "linear"
              }
             }
            ],
            "label": "1/29/20",
            "method": "animate"
           },
           {
            "args": [
             [
              "2/3/20"
             ],
             {
              "frame": {
               "duration": 0,
               "redraw": true
              },
              "fromcurrent": true,
              "mode": "immediate",
              "transition": {
               "duration": 0,
               "easing": "linear"
              }
             }
            ],
            "label": "2/3/20",
            "method": "animate"
           },
           {
            "args": [
             [
              "2/8/20"
             ],
             {
              "frame": {
               "duration": 0,
               "redraw": true
              },
              "fromcurrent": true,
              "mode": "immediate",
              "transition": {
               "duration": 0,
               "easing": "linear"
              }
             }
            ],
            "label": "2/8/20",
            "method": "animate"
           },
           {
            "args": [
             [
              "2/11/20"
             ],
             {
              "frame": {
               "duration": 0,
               "redraw": true
              },
              "fromcurrent": true,
              "mode": "immediate",
              "transition": {
               "duration": 0,
               "easing": "linear"
              }
             }
            ],
            "label": "2/11/20",
            "method": "animate"
           },
           {
            "args": [
             [
              "2/16/20"
             ],
             {
              "frame": {
               "duration": 0,
               "redraw": true
              },
              "fromcurrent": true,
              "mode": "immediate",
              "transition": {
               "duration": 0,
               "easing": "linear"
              }
             }
            ],
            "label": "2/16/20",
            "method": "animate"
           },
           {
            "args": [
             [
              "2/20/20"
             ],
             {
              "frame": {
               "duration": 0,
               "redraw": true
              },
              "fromcurrent": true,
              "mode": "immediate",
              "transition": {
               "duration": 0,
               "easing": "linear"
              }
             }
            ],
            "label": "2/20/20",
            "method": "animate"
           },
           {
            "args": [
             [
              "2/25/20"
             ],
             {
              "frame": {
               "duration": 0,
               "redraw": true
              },
              "fromcurrent": true,
              "mode": "immediate",
              "transition": {
               "duration": 0,
               "easing": "linear"
              }
             }
            ],
            "label": "2/25/20",
            "method": "animate"
           },
           {
            "args": [
             [
              "3/7/20"
             ],
             {
              "frame": {
               "duration": 0,
               "redraw": true
              },
              "fromcurrent": true,
              "mode": "immediate",
              "transition": {
               "duration": 0,
               "easing": "linear"
              }
             }
            ],
            "label": "3/7/20",
            "method": "animate"
           },
           {
            "args": [
             [
              "3/12/20"
             ],
             {
              "frame": {
               "duration": 0,
               "redraw": true
              },
              "fromcurrent": true,
              "mode": "immediate",
              "transition": {
               "duration": 0,
               "easing": "linear"
              }
             }
            ],
            "label": "3/12/20",
            "method": "animate"
           },
           {
            "args": [
             [
              "3/17/20"
             ],
             {
              "frame": {
               "duration": 0,
               "redraw": true
              },
              "fromcurrent": true,
              "mode": "immediate",
              "transition": {
               "duration": 0,
               "easing": "linear"
              }
             }
            ],
            "label": "3/17/20",
            "method": "animate"
           },
           {
            "args": [
             [
              "3/21/20"
             ],
             {
              "frame": {
               "duration": 0,
               "redraw": true
              },
              "fromcurrent": true,
              "mode": "immediate",
              "transition": {
               "duration": 0,
               "easing": "linear"
              }
             }
            ],
            "label": "3/21/20",
            "method": "animate"
           },
           {
            "args": [
             [
              "3/26/20"
             ],
             {
              "frame": {
               "duration": 0,
               "redraw": true
              },
              "fromcurrent": true,
              "mode": "immediate",
              "transition": {
               "duration": 0,
               "easing": "linear"
              }
             }
            ],
            "label": "3/26/20",
            "method": "animate"
           },
           {
            "args": [
             [
              "3/30/20"
             ],
             {
              "frame": {
               "duration": 0,
               "redraw": true
              },
              "fromcurrent": true,
              "mode": "immediate",
              "transition": {
               "duration": 0,
               "easing": "linear"
              }
             }
            ],
            "label": "3/30/20",
            "method": "animate"
           },
           {
            "args": [
             [
              "4/3/20"
             ],
             {
              "frame": {
               "duration": 0,
               "redraw": true
              },
              "fromcurrent": true,
              "mode": "immediate",
              "transition": {
               "duration": 0,
               "easing": "linear"
              }
             }
            ],
            "label": "4/3/20",
            "method": "animate"
           },
           {
            "args": [
             [
              "4/7/20"
             ],
             {
              "frame": {
               "duration": 0,
               "redraw": true
              },
              "fromcurrent": true,
              "mode": "immediate",
              "transition": {
               "duration": 0,
               "easing": "linear"
              }
             }
            ],
            "label": "4/7/20",
            "method": "animate"
           },
           {
            "args": [
             [
              "4/11/20"
             ],
             {
              "frame": {
               "duration": 0,
               "redraw": true
              },
              "fromcurrent": true,
              "mode": "immediate",
              "transition": {
               "duration": 0,
               "easing": "linear"
              }
             }
            ],
            "label": "4/11/20",
            "method": "animate"
           },
           {
            "args": [
             [
              "4/16/20"
             ],
             {
              "frame": {
               "duration": 0,
               "redraw": true
              },
              "fromcurrent": true,
              "mode": "immediate",
              "transition": {
               "duration": 0,
               "easing": "linear"
              }
             }
            ],
            "label": "4/16/20",
            "method": "animate"
           },
           {
            "args": [
             [
              "4/20/20"
             ],
             {
              "frame": {
               "duration": 0,
               "redraw": true
              },
              "fromcurrent": true,
              "mode": "immediate",
              "transition": {
               "duration": 0,
               "easing": "linear"
              }
             }
            ],
            "label": "4/20/20",
            "method": "animate"
           },
           {
            "args": [
             [
              "4/25/20"
             ],
             {
              "frame": {
               "duration": 0,
               "redraw": true
              },
              "fromcurrent": true,
              "mode": "immediate",
              "transition": {
               "duration": 0,
               "easing": "linear"
              }
             }
            ],
            "label": "4/25/20",
            "method": "animate"
           },
           {
            "args": [
             [
              "5/3/20"
             ],
             {
              "frame": {
               "duration": 0,
               "redraw": true
              },
              "fromcurrent": true,
              "mode": "immediate",
              "transition": {
               "duration": 0,
               "easing": "linear"
              }
             }
            ],
            "label": "5/3/20",
            "method": "animate"
           },
           {
            "args": [
             [
              "5/6/20"
             ],
             {
              "frame": {
               "duration": 0,
               "redraw": true
              },
              "fromcurrent": true,
              "mode": "immediate",
              "transition": {
               "duration": 0,
               "easing": "linear"
              }
             }
            ],
            "label": "5/6/20",
            "method": "animate"
           },
           {
            "args": [
             [
              "5/11/20"
             ],
             {
              "frame": {
               "duration": 0,
               "redraw": true
              },
              "fromcurrent": true,
              "mode": "immediate",
              "transition": {
               "duration": 0,
               "easing": "linear"
              }
             }
            ],
            "label": "5/11/20",
            "method": "animate"
           },
           {
            "args": [
             [
              "5/16/20"
             ],
             {
              "frame": {
               "duration": 0,
               "redraw": true
              },
              "fromcurrent": true,
              "mode": "immediate",
              "transition": {
               "duration": 0,
               "easing": "linear"
              }
             }
            ],
            "label": "5/16/20",
            "method": "animate"
           },
           {
            "args": [
             [
              "5/20/20"
             ],
             {
              "frame": {
               "duration": 0,
               "redraw": true
              },
              "fromcurrent": true,
              "mode": "immediate",
              "transition": {
               "duration": 0,
               "easing": "linear"
              }
             }
            ],
            "label": "5/20/20",
            "method": "animate"
           },
           {
            "args": [
             [
              "5/25/20"
             ],
             {
              "frame": {
               "duration": 0,
               "redraw": true
              },
              "fromcurrent": true,
              "mode": "immediate",
              "transition": {
               "duration": 0,
               "easing": "linear"
              }
             }
            ],
            "label": "5/25/20",
            "method": "animate"
           },
           {
            "args": [
             [
              "6/2/20"
             ],
             {
              "frame": {
               "duration": 0,
               "redraw": true
              },
              "fromcurrent": true,
              "mode": "immediate",
              "transition": {
               "duration": 0,
               "easing": "linear"
              }
             }
            ],
            "label": "6/2/20",
            "method": "animate"
           },
           {
            "args": [
             [
              "6/6/20"
             ],
             {
              "frame": {
               "duration": 0,
               "redraw": true
              },
              "fromcurrent": true,
              "mode": "immediate",
              "transition": {
               "duration": 0,
               "easing": "linear"
              }
             }
            ],
            "label": "6/6/20",
            "method": "animate"
           },
           {
            "args": [
             [
              "6/10/20"
             ],
             {
              "frame": {
               "duration": 0,
               "redraw": true
              },
              "fromcurrent": true,
              "mode": "immediate",
              "transition": {
               "duration": 0,
               "easing": "linear"
              }
             }
            ],
            "label": "6/10/20",
            "method": "animate"
           },
           {
            "args": [
             [
              "6/15/20"
             ],
             {
              "frame": {
               "duration": 0,
               "redraw": true
              },
              "fromcurrent": true,
              "mode": "immediate",
              "transition": {
               "duration": 0,
               "easing": "linear"
              }
             }
            ],
            "label": "6/15/20",
            "method": "animate"
           },
           {
            "args": [
             [
              "6/24/20"
             ],
             {
              "frame": {
               "duration": 0,
               "redraw": true
              },
              "fromcurrent": true,
              "mode": "immediate",
              "transition": {
               "duration": 0,
               "easing": "linear"
              }
             }
            ],
            "label": "6/24/20",
            "method": "animate"
           },
           {
            "args": [
             [
              "6/29/20"
             ],
             {
              "frame": {
               "duration": 0,
               "redraw": true
              },
              "fromcurrent": true,
              "mode": "immediate",
              "transition": {
               "duration": 0,
               "easing": "linear"
              }
             }
            ],
            "label": "6/29/20",
            "method": "animate"
           },
           {
            "args": [
             [
              "7/2/20"
             ],
             {
              "frame": {
               "duration": 0,
               "redraw": true
              },
              "fromcurrent": true,
              "mode": "immediate",
              "transition": {
               "duration": 0,
               "easing": "linear"
              }
             }
            ],
            "label": "7/2/20",
            "method": "animate"
           },
           {
            "args": [
             [
              "7/5/20"
             ],
             {
              "frame": {
               "duration": 0,
               "redraw": true
              },
              "fromcurrent": true,
              "mode": "immediate",
              "transition": {
               "duration": 0,
               "easing": "linear"
              }
             }
            ],
            "label": "7/5/20",
            "method": "animate"
           },
           {
            "args": [
             [
              "7/10/20"
             ],
             {
              "frame": {
               "duration": 0,
               "redraw": true
              },
              "fromcurrent": true,
              "mode": "immediate",
              "transition": {
               "duration": 0,
               "easing": "linear"
              }
             }
            ],
            "label": "7/10/20",
            "method": "animate"
           },
           {
            "args": [
             [
              "7/15/20"
             ],
             {
              "frame": {
               "duration": 0,
               "redraw": true
              },
              "fromcurrent": true,
              "mode": "immediate",
              "transition": {
               "duration": 0,
               "easing": "linear"
              }
             }
            ],
            "label": "7/15/20",
            "method": "animate"
           },
           {
            "args": [
             [
              "7/24/20"
             ],
             {
              "frame": {
               "duration": 0,
               "redraw": true
              },
              "fromcurrent": true,
              "mode": "immediate",
              "transition": {
               "duration": 0,
               "easing": "linear"
              }
             }
            ],
            "label": "7/24/20",
            "method": "animate"
           },
           {
            "args": [
             [
              "7/29/20"
             ],
             {
              "frame": {
               "duration": 0,
               "redraw": true
              },
              "fromcurrent": true,
              "mode": "immediate",
              "transition": {
               "duration": 0,
               "easing": "linear"
              }
             }
            ],
            "label": "7/29/20",
            "method": "animate"
           },
           {
            "args": [
             [
              "8/1/20"
             ],
             {
              "frame": {
               "duration": 0,
               "redraw": true
              },
              "fromcurrent": true,
              "mode": "immediate",
              "transition": {
               "duration": 0,
               "easing": "linear"
              }
             }
            ],
            "label": "8/1/20",
            "method": "animate"
           },
           {
            "args": [
             [
              "8/4/20"
             ],
             {
              "frame": {
               "duration": 0,
               "redraw": true
              },
              "fromcurrent": true,
              "mode": "immediate",
              "transition": {
               "duration": 0,
               "easing": "linear"
              }
             }
            ],
            "label": "8/4/20",
            "method": "animate"
           },
           {
            "args": [
             [
              "8/9/20"
             ],
             {
              "frame": {
               "duration": 0,
               "redraw": true
              },
              "fromcurrent": true,
              "mode": "immediate",
              "transition": {
               "duration": 0,
               "easing": "linear"
              }
             }
            ],
            "label": "8/9/20",
            "method": "animate"
           },
           {
            "args": [
             [
              "8/14/20"
             ],
             {
              "frame": {
               "duration": 0,
               "redraw": true
              },
              "fromcurrent": true,
              "mode": "immediate",
              "transition": {
               "duration": 0,
               "easing": "linear"
              }
             }
            ],
            "label": "8/14/20",
            "method": "animate"
           },
           {
            "args": [
             [
              "8/19/20"
             ],
             {
              "frame": {
               "duration": 0,
               "redraw": true
              },
              "fromcurrent": true,
              "mode": "immediate",
              "transition": {
               "duration": 0,
               "easing": "linear"
              }
             }
            ],
            "label": "8/19/20",
            "method": "animate"
           },
           {
            "args": [
             [
              "8/23/20"
             ],
             {
              "frame": {
               "duration": 0,
               "redraw": true
              },
              "fromcurrent": true,
              "mode": "immediate",
              "transition": {
               "duration": 0,
               "easing": "linear"
              }
             }
            ],
            "label": "8/23/20",
            "method": "animate"
           },
           {
            "args": [
             [
              "8/28/20"
             ],
             {
              "frame": {
               "duration": 0,
               "redraw": true
              },
              "fromcurrent": true,
              "mode": "immediate",
              "transition": {
               "duration": 0,
               "easing": "linear"
              }
             }
            ],
            "label": "8/28/20",
            "method": "animate"
           },
           {
            "args": [
             [
              "9/4/20"
             ],
             {
              "frame": {
               "duration": 0,
               "redraw": true
              },
              "fromcurrent": true,
              "mode": "immediate",
              "transition": {
               "duration": 0,
               "easing": "linear"
              }
             }
            ],
            "label": "9/4/20",
            "method": "animate"
           },
           {
            "args": [
             [
              "9/9/20"
             ],
             {
              "frame": {
               "duration": 0,
               "redraw": true
              },
              "fromcurrent": true,
              "mode": "immediate",
              "transition": {
               "duration": 0,
               "easing": "linear"
              }
             }
            ],
            "label": "9/9/20",
            "method": "animate"
           },
           {
            "args": [
             [
              "9/13/20"
             ],
             {
              "frame": {
               "duration": 0,
               "redraw": true
              },
              "fromcurrent": true,
              "mode": "immediate",
              "transition": {
               "duration": 0,
               "easing": "linear"
              }
             }
            ],
            "label": "9/13/20",
            "method": "animate"
           },
           {
            "args": [
             [
              "9/18/20"
             ],
             {
              "frame": {
               "duration": 0,
               "redraw": true
              },
              "fromcurrent": true,
              "mode": "immediate",
              "transition": {
               "duration": 0,
               "easing": "linear"
              }
             }
            ],
            "label": "9/18/20",
            "method": "animate"
           },
           {
            "args": [
             [
              "9/22/20"
             ],
             {
              "frame": {
               "duration": 0,
               "redraw": true
              },
              "fromcurrent": true,
              "mode": "immediate",
              "transition": {
               "duration": 0,
               "easing": "linear"
              }
             }
            ],
            "label": "9/22/20",
            "method": "animate"
           },
           {
            "args": [
             [
              "9/27/20"
             ],
             {
              "frame": {
               "duration": 0,
               "redraw": true
              },
              "fromcurrent": true,
              "mode": "immediate",
              "transition": {
               "duration": 0,
               "easing": "linear"
              }
             }
            ],
            "label": "9/27/20",
            "method": "animate"
           },
           {
            "args": [
             [
              "10/3/20"
             ],
             {
              "frame": {
               "duration": 0,
               "redraw": true
              },
              "fromcurrent": true,
              "mode": "immediate",
              "transition": {
               "duration": 0,
               "easing": "linear"
              }
             }
            ],
            "label": "10/3/20",
            "method": "animate"
           },
           {
            "args": [
             [
              "10/6/20"
             ],
             {
              "frame": {
               "duration": 0,
               "redraw": true
              },
              "fromcurrent": true,
              "mode": "immediate",
              "transition": {
               "duration": 0,
               "easing": "linear"
              }
             }
            ],
            "label": "10/6/20",
            "method": "animate"
           },
           {
            "args": [
             [
              "10/11/20"
             ],
             {
              "frame": {
               "duration": 0,
               "redraw": true
              },
              "fromcurrent": true,
              "mode": "immediate",
              "transition": {
               "duration": 0,
               "easing": "linear"
              }
             }
            ],
            "label": "10/11/20",
            "method": "animate"
           },
           {
            "args": [
             [
              "10/16/20"
             ],
             {
              "frame": {
               "duration": 0,
               "redraw": true
              },
              "fromcurrent": true,
              "mode": "immediate",
              "transition": {
               "duration": 0,
               "easing": "linear"
              }
             }
            ],
            "label": "10/16/20",
            "method": "animate"
           },
           {
            "args": [
             [
              "10/20/20"
             ],
             {
              "frame": {
               "duration": 0,
               "redraw": true
              },
              "fromcurrent": true,
              "mode": "immediate",
              "transition": {
               "duration": 0,
               "easing": "linear"
              }
             }
            ],
            "label": "10/20/20",
            "method": "animate"
           },
           {
            "args": [
             [
              "10/25/20"
             ],
             {
              "frame": {
               "duration": 0,
               "redraw": true
              },
              "fromcurrent": true,
              "mode": "immediate",
              "transition": {
               "duration": 0,
               "easing": "linear"
              }
             }
            ],
            "label": "10/25/20",
            "method": "animate"
           },
           {
            "args": [
             [
              "11/2/20"
             ],
             {
              "frame": {
               "duration": 0,
               "redraw": true
              },
              "fromcurrent": true,
              "mode": "immediate",
              "transition": {
               "duration": 0,
               "easing": "linear"
              }
             }
            ],
            "label": "11/2/20",
            "method": "animate"
           },
           {
            "args": [
             [
              "11/6/20"
             ],
             {
              "frame": {
               "duration": 0,
               "redraw": true
              },
              "fromcurrent": true,
              "mode": "immediate",
              "transition": {
               "duration": 0,
               "easing": "linear"
              }
             }
            ],
            "label": "11/6/20",
            "method": "animate"
           },
           {
            "args": [
             [
              "11/10/20"
             ],
             {
              "frame": {
               "duration": 0,
               "redraw": true
              },
              "fromcurrent": true,
              "mode": "immediate",
              "transition": {
               "duration": 0,
               "easing": "linear"
              }
             }
            ],
            "label": "11/10/20",
            "method": "animate"
           },
           {
            "args": [
             [
              "11/15/20"
             ],
             {
              "frame": {
               "duration": 0,
               "redraw": true
              },
              "fromcurrent": true,
              "mode": "immediate",
              "transition": {
               "duration": 0,
               "easing": "linear"
              }
             }
            ],
            "label": "11/15/20",
            "method": "animate"
           },
           {
            "args": [
             [
              "11/24/20"
             ],
             {
              "frame": {
               "duration": 0,
               "redraw": true
              },
              "fromcurrent": true,
              "mode": "immediate",
              "transition": {
               "duration": 0,
               "easing": "linear"
              }
             }
            ],
            "label": "11/24/20",
            "method": "animate"
           },
           {
            "args": [
             [
              "11/29/20"
             ],
             {
              "frame": {
               "duration": 0,
               "redraw": true
              },
              "fromcurrent": true,
              "mode": "immediate",
              "transition": {
               "duration": 0,
               "easing": "linear"
              }
             }
            ],
            "label": "11/29/20",
            "method": "animate"
           },
           {
            "args": [
             [
              "12/2/20"
             ],
             {
              "frame": {
               "duration": 0,
               "redraw": true
              },
              "fromcurrent": true,
              "mode": "immediate",
              "transition": {
               "duration": 0,
               "easing": "linear"
              }
             }
            ],
            "label": "12/2/20",
            "method": "animate"
           },
           {
            "args": [
             [
              "12/7/20"
             ],
             {
              "frame": {
               "duration": 0,
               "redraw": true
              },
              "fromcurrent": true,
              "mode": "immediate",
              "transition": {
               "duration": 0,
               "easing": "linear"
              }
             }
            ],
            "label": "12/7/20",
            "method": "animate"
           },
           {
            "args": [
             [
              "12/10/20"
             ],
             {
              "frame": {
               "duration": 0,
               "redraw": true
              },
              "fromcurrent": true,
              "mode": "immediate",
              "transition": {
               "duration": 0,
               "easing": "linear"
              }
             }
            ],
            "label": "12/10/20",
            "method": "animate"
           },
           {
            "args": [
             [
              "12/15/20"
             ],
             {
              "frame": {
               "duration": 0,
               "redraw": true
              },
              "fromcurrent": true,
              "mode": "immediate",
              "transition": {
               "duration": 0,
               "easing": "linear"
              }
             }
            ],
            "label": "12/15/20",
            "method": "animate"
           },
           {
            "args": [
             [
              "12/24/20"
             ],
             {
              "frame": {
               "duration": 0,
               "redraw": true
              },
              "fromcurrent": true,
              "mode": "immediate",
              "transition": {
               "duration": 0,
               "easing": "linear"
              }
             }
            ],
            "label": "12/24/20",
            "method": "animate"
           },
           {
            "args": [
             [
              "12/29/20"
             ],
             {
              "frame": {
               "duration": 0,
               "redraw": true
              },
              "fromcurrent": true,
              "mode": "immediate",
              "transition": {
               "duration": 0,
               "easing": "linear"
              }
             }
            ],
            "label": "12/29/20",
            "method": "animate"
           }
          ],
          "x": 0.1,
          "xanchor": "left",
          "y": 0,
          "yanchor": "top"
         }
        ],
        "template": {
         "data": {
          "bar": [
           {
            "error_x": {
             "color": "#f2f5fa"
            },
            "error_y": {
             "color": "#f2f5fa"
            },
            "marker": {
             "line": {
              "color": "rgb(17,17,17)",
              "width": 0.5
             }
            },
            "type": "bar"
           }
          ],
          "barpolar": [
           {
            "marker": {
             "line": {
              "color": "rgb(17,17,17)",
              "width": 0.5
             }
            },
            "type": "barpolar"
           }
          ],
          "carpet": [
           {
            "aaxis": {
             "endlinecolor": "#A2B1C6",
             "gridcolor": "#506784",
             "linecolor": "#506784",
             "minorgridcolor": "#506784",
             "startlinecolor": "#A2B1C6"
            },
            "baxis": {
             "endlinecolor": "#A2B1C6",
             "gridcolor": "#506784",
             "linecolor": "#506784",
             "minorgridcolor": "#506784",
             "startlinecolor": "#A2B1C6"
            },
            "type": "carpet"
           }
          ],
          "choropleth": [
           {
            "colorbar": {
             "outlinewidth": 0,
             "ticks": ""
            },
            "type": "choropleth"
           }
          ],
          "contour": [
           {
            "colorbar": {
             "outlinewidth": 0,
             "ticks": ""
            },
            "colorscale": [
             [
              0,
              "#0d0887"
             ],
             [
              0.1111111111111111,
              "#46039f"
             ],
             [
              0.2222222222222222,
              "#7201a8"
             ],
             [
              0.3333333333333333,
              "#9c179e"
             ],
             [
              0.4444444444444444,
              "#bd3786"
             ],
             [
              0.5555555555555556,
              "#d8576b"
             ],
             [
              0.6666666666666666,
              "#ed7953"
             ],
             [
              0.7777777777777778,
              "#fb9f3a"
             ],
             [
              0.8888888888888888,
              "#fdca26"
             ],
             [
              1,
              "#f0f921"
             ]
            ],
            "type": "contour"
           }
          ],
          "contourcarpet": [
           {
            "colorbar": {
             "outlinewidth": 0,
             "ticks": ""
            },
            "type": "contourcarpet"
           }
          ],
          "heatmap": [
           {
            "colorbar": {
             "outlinewidth": 0,
             "ticks": ""
            },
            "colorscale": [
             [
              0,
              "#0d0887"
             ],
             [
              0.1111111111111111,
              "#46039f"
             ],
             [
              0.2222222222222222,
              "#7201a8"
             ],
             [
              0.3333333333333333,
              "#9c179e"
             ],
             [
              0.4444444444444444,
              "#bd3786"
             ],
             [
              0.5555555555555556,
              "#d8576b"
             ],
             [
              0.6666666666666666,
              "#ed7953"
             ],
             [
              0.7777777777777778,
              "#fb9f3a"
             ],
             [
              0.8888888888888888,
              "#fdca26"
             ],
             [
              1,
              "#f0f921"
             ]
            ],
            "type": "heatmap"
           }
          ],
          "heatmapgl": [
           {
            "colorbar": {
             "outlinewidth": 0,
             "ticks": ""
            },
            "colorscale": [
             [
              0,
              "#0d0887"
             ],
             [
              0.1111111111111111,
              "#46039f"
             ],
             [
              0.2222222222222222,
              "#7201a8"
             ],
             [
              0.3333333333333333,
              "#9c179e"
             ],
             [
              0.4444444444444444,
              "#bd3786"
             ],
             [
              0.5555555555555556,
              "#d8576b"
             ],
             [
              0.6666666666666666,
              "#ed7953"
             ],
             [
              0.7777777777777778,
              "#fb9f3a"
             ],
             [
              0.8888888888888888,
              "#fdca26"
             ],
             [
              1,
              "#f0f921"
             ]
            ],
            "type": "heatmapgl"
           }
          ],
          "histogram": [
           {
            "marker": {
             "colorbar": {
              "outlinewidth": 0,
              "ticks": ""
             }
            },
            "type": "histogram"
           }
          ],
          "histogram2d": [
           {
            "colorbar": {
             "outlinewidth": 0,
             "ticks": ""
            },
            "colorscale": [
             [
              0,
              "#0d0887"
             ],
             [
              0.1111111111111111,
              "#46039f"
             ],
             [
              0.2222222222222222,
              "#7201a8"
             ],
             [
              0.3333333333333333,
              "#9c179e"
             ],
             [
              0.4444444444444444,
              "#bd3786"
             ],
             [
              0.5555555555555556,
              "#d8576b"
             ],
             [
              0.6666666666666666,
              "#ed7953"
             ],
             [
              0.7777777777777778,
              "#fb9f3a"
             ],
             [
              0.8888888888888888,
              "#fdca26"
             ],
             [
              1,
              "#f0f921"
             ]
            ],
            "type": "histogram2d"
           }
          ],
          "histogram2dcontour": [
           {
            "colorbar": {
             "outlinewidth": 0,
             "ticks": ""
            },
            "colorscale": [
             [
              0,
              "#0d0887"
             ],
             [
              0.1111111111111111,
              "#46039f"
             ],
             [
              0.2222222222222222,
              "#7201a8"
             ],
             [
              0.3333333333333333,
              "#9c179e"
             ],
             [
              0.4444444444444444,
              "#bd3786"
             ],
             [
              0.5555555555555556,
              "#d8576b"
             ],
             [
              0.6666666666666666,
              "#ed7953"
             ],
             [
              0.7777777777777778,
              "#fb9f3a"
             ],
             [
              0.8888888888888888,
              "#fdca26"
             ],
             [
              1,
              "#f0f921"
             ]
            ],
            "type": "histogram2dcontour"
           }
          ],
          "mesh3d": [
           {
            "colorbar": {
             "outlinewidth": 0,
             "ticks": ""
            },
            "type": "mesh3d"
           }
          ],
          "parcoords": [
           {
            "line": {
             "colorbar": {
              "outlinewidth": 0,
              "ticks": ""
             }
            },
            "type": "parcoords"
           }
          ],
          "pie": [
           {
            "automargin": true,
            "type": "pie"
           }
          ],
          "scatter": [
           {
            "marker": {
             "line": {
              "color": "#283442"
             }
            },
            "type": "scatter"
           }
          ],
          "scatter3d": [
           {
            "line": {
             "colorbar": {
              "outlinewidth": 0,
              "ticks": ""
             }
            },
            "marker": {
             "colorbar": {
              "outlinewidth": 0,
              "ticks": ""
             }
            },
            "type": "scatter3d"
           }
          ],
          "scattercarpet": [
           {
            "marker": {
             "colorbar": {
              "outlinewidth": 0,
              "ticks": ""
             }
            },
            "type": "scattercarpet"
           }
          ],
          "scattergeo": [
           {
            "marker": {
             "colorbar": {
              "outlinewidth": 0,
              "ticks": ""
             }
            },
            "type": "scattergeo"
           }
          ],
          "scattergl": [
           {
            "marker": {
             "line": {
              "color": "#283442"
             }
            },
            "type": "scattergl"
           }
          ],
          "scattermapbox": [
           {
            "marker": {
             "colorbar": {
              "outlinewidth": 0,
              "ticks": ""
             }
            },
            "type": "scattermapbox"
           }
          ],
          "scatterpolar": [
           {
            "marker": {
             "colorbar": {
              "outlinewidth": 0,
              "ticks": ""
             }
            },
            "type": "scatterpolar"
           }
          ],
          "scatterpolargl": [
           {
            "marker": {
             "colorbar": {
              "outlinewidth": 0,
              "ticks": ""
             }
            },
            "type": "scatterpolargl"
           }
          ],
          "scatterternary": [
           {
            "marker": {
             "colorbar": {
              "outlinewidth": 0,
              "ticks": ""
             }
            },
            "type": "scatterternary"
           }
          ],
          "surface": [
           {
            "colorbar": {
             "outlinewidth": 0,
             "ticks": ""
            },
            "colorscale": [
             [
              0,
              "#0d0887"
             ],
             [
              0.1111111111111111,
              "#46039f"
             ],
             [
              0.2222222222222222,
              "#7201a8"
             ],
             [
              0.3333333333333333,
              "#9c179e"
             ],
             [
              0.4444444444444444,
              "#bd3786"
             ],
             [
              0.5555555555555556,
              "#d8576b"
             ],
             [
              0.6666666666666666,
              "#ed7953"
             ],
             [
              0.7777777777777778,
              "#fb9f3a"
             ],
             [
              0.8888888888888888,
              "#fdca26"
             ],
             [
              1,
              "#f0f921"
             ]
            ],
            "type": "surface"
           }
          ],
          "table": [
           {
            "cells": {
             "fill": {
              "color": "#506784"
             },
             "line": {
              "color": "rgb(17,17,17)"
             }
            },
            "header": {
             "fill": {
              "color": "#2a3f5f"
             },
             "line": {
              "color": "rgb(17,17,17)"
             }
            },
            "type": "table"
           }
          ]
         },
         "layout": {
          "annotationdefaults": {
           "arrowcolor": "#f2f5fa",
           "arrowhead": 0,
           "arrowwidth": 1
          },
          "autotypenumbers": "strict",
          "coloraxis": {
           "colorbar": {
            "outlinewidth": 0,
            "ticks": ""
           }
          },
          "colorscale": {
           "diverging": [
            [
             0,
             "#8e0152"
            ],
            [
             0.1,
             "#c51b7d"
            ],
            [
             0.2,
             "#de77ae"
            ],
            [
             0.3,
             "#f1b6da"
            ],
            [
             0.4,
             "#fde0ef"
            ],
            [
             0.5,
             "#f7f7f7"
            ],
            [
             0.6,
             "#e6f5d0"
            ],
            [
             0.7,
             "#b8e186"
            ],
            [
             0.8,
             "#7fbc41"
            ],
            [
             0.9,
             "#4d9221"
            ],
            [
             1,
             "#276419"
            ]
           ],
           "sequential": [
            [
             0,
             "#0d0887"
            ],
            [
             0.1111111111111111,
             "#46039f"
            ],
            [
             0.2222222222222222,
             "#7201a8"
            ],
            [
             0.3333333333333333,
             "#9c179e"
            ],
            [
             0.4444444444444444,
             "#bd3786"
            ],
            [
             0.5555555555555556,
             "#d8576b"
            ],
            [
             0.6666666666666666,
             "#ed7953"
            ],
            [
             0.7777777777777778,
             "#fb9f3a"
            ],
            [
             0.8888888888888888,
             "#fdca26"
            ],
            [
             1,
             "#f0f921"
            ]
           ],
           "sequentialminus": [
            [
             0,
             "#0d0887"
            ],
            [
             0.1111111111111111,
             "#46039f"
            ],
            [
             0.2222222222222222,
             "#7201a8"
            ],
            [
             0.3333333333333333,
             "#9c179e"
            ],
            [
             0.4444444444444444,
             "#bd3786"
            ],
            [
             0.5555555555555556,
             "#d8576b"
            ],
            [
             0.6666666666666666,
             "#ed7953"
            ],
            [
             0.7777777777777778,
             "#fb9f3a"
            ],
            [
             0.8888888888888888,
             "#fdca26"
            ],
            [
             1,
             "#f0f921"
            ]
           ]
          },
          "colorway": [
           "#636efa",
           "#EF553B",
           "#00cc96",
           "#ab63fa",
           "#FFA15A",
           "#19d3f3",
           "#FF6692",
           "#B6E880",
           "#FF97FF",
           "#FECB52"
          ],
          "font": {
           "color": "#f2f5fa"
          },
          "geo": {
           "bgcolor": "rgb(17,17,17)",
           "lakecolor": "rgb(17,17,17)",
           "landcolor": "rgb(17,17,17)",
           "showlakes": true,
           "showland": true,
           "subunitcolor": "#506784"
          },
          "hoverlabel": {
           "align": "left"
          },
          "hovermode": "closest",
          "mapbox": {
           "style": "dark"
          },
          "paper_bgcolor": "rgb(17,17,17)",
          "plot_bgcolor": "rgb(17,17,17)",
          "polar": {
           "angularaxis": {
            "gridcolor": "#506784",
            "linecolor": "#506784",
            "ticks": ""
           },
           "bgcolor": "rgb(17,17,17)",
           "radialaxis": {
            "gridcolor": "#506784",
            "linecolor": "#506784",
            "ticks": ""
           }
          },
          "scene": {
           "xaxis": {
            "backgroundcolor": "rgb(17,17,17)",
            "gridcolor": "#506784",
            "gridwidth": 2,
            "linecolor": "#506784",
            "showbackground": true,
            "ticks": "",
            "zerolinecolor": "#C8D4E3"
           },
           "yaxis": {
            "backgroundcolor": "rgb(17,17,17)",
            "gridcolor": "#506784",
            "gridwidth": 2,
            "linecolor": "#506784",
            "showbackground": true,
            "ticks": "",
            "zerolinecolor": "#C8D4E3"
           },
           "zaxis": {
            "backgroundcolor": "rgb(17,17,17)",
            "gridcolor": "#506784",
            "gridwidth": 2,
            "linecolor": "#506784",
            "showbackground": true,
            "ticks": "",
            "zerolinecolor": "#C8D4E3"
           }
          },
          "shapedefaults": {
           "line": {
            "color": "#f2f5fa"
           }
          },
          "sliderdefaults": {
           "bgcolor": "#C8D4E3",
           "bordercolor": "rgb(17,17,17)",
           "borderwidth": 1,
           "tickwidth": 0
          },
          "ternary": {
           "aaxis": {
            "gridcolor": "#506784",
            "linecolor": "#506784",
            "ticks": ""
           },
           "baxis": {
            "gridcolor": "#506784",
            "linecolor": "#506784",
            "ticks": ""
           },
           "bgcolor": "rgb(17,17,17)",
           "caxis": {
            "gridcolor": "#506784",
            "linecolor": "#506784",
            "ticks": ""
           }
          },
          "title": {
           "x": 0.05
          },
          "updatemenudefaults": {
           "bgcolor": "#506784",
           "borderwidth": 0
          },
          "xaxis": {
           "automargin": true,
           "gridcolor": "#283442",
           "linecolor": "#506784",
           "ticks": "",
           "title": {
            "standoff": 15
           },
           "zerolinecolor": "#283442",
           "zerolinewidth": 2
          },
          "yaxis": {
           "automargin": true,
           "gridcolor": "#283442",
           "linecolor": "#506784",
           "ticks": "",
           "title": {
            "standoff": 15
           },
           "zerolinecolor": "#283442",
           "zerolinewidth": 2
          }
         }
        },
        "updatemenus": [
         {
          "buttons": [
           {
            "args": [
             null,
             {
              "frame": {
               "duration": 500,
               "redraw": true
              },
              "fromcurrent": true,
              "mode": "immediate",
              "transition": {
               "duration": 500,
               "easing": "linear"
              }
             }
            ],
            "label": "&#9654;",
            "method": "animate"
           },
           {
            "args": [
             [
              null
             ],
             {
              "frame": {
               "duration": 0,
               "redraw": true
              },
              "fromcurrent": true,
              "mode": "immediate",
              "transition": {
               "duration": 0,
               "easing": "linear"
              }
             }
            ],
            "label": "&#9724;",
            "method": "animate"
           }
          ],
          "direction": "left",
          "pad": {
           "r": 10,
           "t": 70
          },
          "showactive": false,
          "type": "buttons",
          "x": 0.1,
          "xanchor": "right",
          "y": 0,
          "yanchor": "top"
         }
        ],
        "xaxis": {
         "anchor": "y",
         "domain": [
          0,
          1
         ],
         "title": {
          "text": "Country"
         }
        },
        "yaxis": {
         "anchor": "x",
         "domain": [
          0,
          1
         ],
         "range": [
          0,
          19511426
         ],
         "title": {
          "text": "Cases"
         }
        }
       }
      }
     },
     "metadata": {}
    }
   ],
   "source": [
    "# Based on number of confirmed cases\n",
    "animated_barchart(confirmed_global,\"confirmed\")"
   ]
  },
  {
   "cell_type": "code",
   "execution_count": 3,
   "metadata": {},
   "outputs": [
    {
     "output_type": "display_data",
     "data": {
      "application/vnd.plotly.v1+json": {
       "config": {
        "plotlyServerURL": "https://plotly.com"
       },
       "data": [
        {
         "alignmentgroup": "True",
         "hovertemplate": "Date=1/24/20<br>Country=%{x}<br>Cases=%{y}<extra></extra>",
         "ids": [
          "Brazil",
          "France",
          "India",
          "Iran",
          "Italy",
          "Mexico",
          "Russia",
          "Spain",
          "US",
          "United Kingdom"
         ],
         "legendgroup": "",
         "marker": {
          "color": "#f54842"
         },
         "name": "",
         "offsetgroup": "",
         "orientation": "v",
         "showlegend": false,
         "textposition": "auto",
         "type": "bar",
         "x": [
          "Brazil",
          "France",
          "India",
          "Iran",
          "Italy",
          "Mexico",
          "Russia",
          "Spain",
          "US",
          "United Kingdom"
         ],
         "xaxis": "x",
         "y": [
          0,
          0,
          0,
          0,
          0,
          0,
          0,
          0,
          0,
          0
         ],
         "yaxis": "y"
        }
       ],
       "frames": [
        {
         "data": [
          {
           "alignmentgroup": "True",
           "hovertemplate": "Date=1/24/20<br>Country=%{x}<br>Cases=%{y}<extra></extra>",
           "ids": [
            "Brazil",
            "France",
            "India",
            "Iran",
            "Italy",
            "Mexico",
            "Russia",
            "Spain",
            "US",
            "United Kingdom"
           ],
           "legendgroup": "",
           "marker": {
            "color": "#f54842"
           },
           "name": "",
           "offsetgroup": "",
           "orientation": "v",
           "showlegend": false,
           "textposition": "auto",
           "type": "bar",
           "x": [
            "Brazil",
            "France",
            "India",
            "Iran",
            "Italy",
            "Mexico",
            "Russia",
            "Spain",
            "US",
            "United Kingdom"
           ],
           "xaxis": "x",
           "y": [
            0,
            0,
            0,
            0,
            0,
            0,
            0,
            0,
            0,
            0
           ],
           "yaxis": "y"
          }
         ],
         "name": "1/24/20"
        },
        {
         "data": [
          {
           "alignmentgroup": "True",
           "hovertemplate": "Date=1/29/20<br>Country=%{x}<br>Cases=%{y}<extra></extra>",
           "ids": [
            "Brazil",
            "France",
            "India",
            "Iran",
            "Italy",
            "Mexico",
            "Russia",
            "Spain",
            "US",
            "United Kingdom"
           ],
           "legendgroup": "",
           "marker": {
            "color": "#f54842"
           },
           "name": "",
           "offsetgroup": "",
           "orientation": "v",
           "showlegend": false,
           "textposition": "auto",
           "type": "bar",
           "x": [
            "Brazil",
            "France",
            "India",
            "Iran",
            "Italy",
            "Mexico",
            "Russia",
            "Spain",
            "US",
            "United Kingdom"
           ],
           "xaxis": "x",
           "y": [
            0,
            0,
            0,
            0,
            0,
            0,
            0,
            0,
            0,
            0
           ],
           "yaxis": "y"
          }
         ],
         "name": "1/29/20"
        },
        {
         "data": [
          {
           "alignmentgroup": "True",
           "hovertemplate": "Date=2/3/20<br>Country=%{x}<br>Cases=%{y}<extra></extra>",
           "ids": [
            "Brazil",
            "France",
            "India",
            "Iran",
            "Italy",
            "Mexico",
            "Russia",
            "Spain",
            "US",
            "United Kingdom"
           ],
           "legendgroup": "",
           "marker": {
            "color": "#f54842"
           },
           "name": "",
           "offsetgroup": "",
           "orientation": "v",
           "showlegend": false,
           "textposition": "auto",
           "type": "bar",
           "x": [
            "Brazil",
            "France",
            "India",
            "Iran",
            "Italy",
            "Mexico",
            "Russia",
            "Spain",
            "US",
            "United Kingdom"
           ],
           "xaxis": "x",
           "y": [
            0,
            0,
            0,
            0,
            0,
            0,
            0,
            0,
            0,
            0
           ],
           "yaxis": "y"
          }
         ],
         "name": "2/3/20"
        },
        {
         "data": [
          {
           "alignmentgroup": "True",
           "hovertemplate": "Date=2/8/20<br>Country=%{x}<br>Cases=%{y}<extra></extra>",
           "ids": [
            "Brazil",
            "France",
            "India",
            "Iran",
            "Italy",
            "Mexico",
            "Russia",
            "Spain",
            "US",
            "United Kingdom"
           ],
           "legendgroup": "",
           "marker": {
            "color": "#f54842"
           },
           "name": "",
           "offsetgroup": "",
           "orientation": "v",
           "showlegend": false,
           "textposition": "auto",
           "type": "bar",
           "x": [
            "Brazil",
            "France",
            "India",
            "Iran",
            "Italy",
            "Mexico",
            "Russia",
            "Spain",
            "US",
            "United Kingdom"
           ],
           "xaxis": "x",
           "y": [
            0,
            0,
            0,
            0,
            0,
            0,
            0,
            0,
            0,
            0
           ],
           "yaxis": "y"
          }
         ],
         "name": "2/8/20"
        },
        {
         "data": [
          {
           "alignmentgroup": "True",
           "hovertemplate": "Date=2/11/20<br>Country=%{x}<br>Cases=%{y}<extra></extra>",
           "ids": [
            "Brazil",
            "France",
            "India",
            "Iran",
            "Italy",
            "Mexico",
            "Russia",
            "Spain",
            "US",
            "United Kingdom"
           ],
           "legendgroup": "",
           "marker": {
            "color": "#f54842"
           },
           "name": "",
           "offsetgroup": "",
           "orientation": "v",
           "showlegend": false,
           "textposition": "auto",
           "type": "bar",
           "x": [
            "Brazil",
            "France",
            "India",
            "Iran",
            "Italy",
            "Mexico",
            "Russia",
            "Spain",
            "US",
            "United Kingdom"
           ],
           "xaxis": "x",
           "y": [
            0,
            0,
            0,
            0,
            0,
            0,
            0,
            0,
            0,
            0
           ],
           "yaxis": "y"
          }
         ],
         "name": "2/11/20"
        },
        {
         "data": [
          {
           "alignmentgroup": "True",
           "hovertemplate": "Date=2/16/20<br>Country=%{x}<br>Cases=%{y}<extra></extra>",
           "ids": [
            "Brazil",
            "France",
            "India",
            "Iran",
            "Italy",
            "Mexico",
            "Russia",
            "Spain",
            "US",
            "United Kingdom"
           ],
           "legendgroup": "",
           "marker": {
            "color": "#f54842"
           },
           "name": "",
           "offsetgroup": "",
           "orientation": "v",
           "showlegend": false,
           "textposition": "auto",
           "type": "bar",
           "x": [
            "Brazil",
            "France",
            "India",
            "Iran",
            "Italy",
            "Mexico",
            "Russia",
            "Spain",
            "US",
            "United Kingdom"
           ],
           "xaxis": "x",
           "y": [
            0,
            1,
            0,
            0,
            0,
            0,
            0,
            0,
            0,
            0
           ],
           "yaxis": "y"
          }
         ],
         "name": "2/16/20"
        },
        {
         "data": [
          {
           "alignmentgroup": "True",
           "hovertemplate": "Date=2/20/20<br>Country=%{x}<br>Cases=%{y}<extra></extra>",
           "ids": [
            "Brazil",
            "France",
            "India",
            "Iran",
            "Italy",
            "Mexico",
            "Russia",
            "Spain",
            "US",
            "United Kingdom"
           ],
           "legendgroup": "",
           "marker": {
            "color": "#f54842"
           },
           "name": "",
           "offsetgroup": "",
           "orientation": "v",
           "showlegend": false,
           "textposition": "auto",
           "type": "bar",
           "x": [
            "Brazil",
            "France",
            "India",
            "Iran",
            "Italy",
            "Mexico",
            "Russia",
            "Spain",
            "US",
            "United Kingdom"
           ],
           "xaxis": "x",
           "y": [
            0,
            1,
            0,
            2,
            0,
            0,
            0,
            0,
            0,
            0
           ],
           "yaxis": "y"
          }
         ],
         "name": "2/20/20"
        },
        {
         "data": [
          {
           "alignmentgroup": "True",
           "hovertemplate": "Date=2/25/20<br>Country=%{x}<br>Cases=%{y}<extra></extra>",
           "ids": [
            "Brazil",
            "France",
            "India",
            "Iran",
            "Italy",
            "Mexico",
            "Russia",
            "Spain",
            "US",
            "United Kingdom"
           ],
           "legendgroup": "",
           "marker": {
            "color": "#f54842"
           },
           "name": "",
           "offsetgroup": "",
           "orientation": "v",
           "showlegend": false,
           "textposition": "auto",
           "type": "bar",
           "x": [
            "Brazil",
            "France",
            "India",
            "Iran",
            "Italy",
            "Mexico",
            "Russia",
            "Spain",
            "US",
            "United Kingdom"
           ],
           "xaxis": "x",
           "y": [
            0,
            1,
            0,
            16,
            10,
            0,
            0,
            0,
            0,
            0
           ],
           "yaxis": "y"
          }
         ],
         "name": "2/25/20"
        },
        {
         "data": [
          {
           "alignmentgroup": "True",
           "hovertemplate": "Date=3/7/20<br>Country=%{x}<br>Cases=%{y}<extra></extra>",
           "ids": [
            "Brazil",
            "France",
            "India",
            "Iran",
            "Italy",
            "Mexico",
            "Russia",
            "Spain",
            "US",
            "United Kingdom"
           ],
           "legendgroup": "",
           "marker": {
            "color": "#f54842"
           },
           "name": "",
           "offsetgroup": "",
           "orientation": "v",
           "showlegend": false,
           "textposition": "auto",
           "type": "bar",
           "x": [
            "Brazil",
            "France",
            "India",
            "Iran",
            "Italy",
            "Mexico",
            "Russia",
            "Spain",
            "US",
            "United Kingdom"
           ],
           "xaxis": "x",
           "y": [
            0,
            16,
            0,
            145,
            233,
            0,
            0,
            10,
            17,
            2
           ],
           "yaxis": "y"
          }
         ],
         "name": "3/7/20"
        },
        {
         "data": [
          {
           "alignmentgroup": "True",
           "hovertemplate": "Date=3/12/20<br>Country=%{x}<br>Cases=%{y}<extra></extra>",
           "ids": [
            "Brazil",
            "France",
            "India",
            "Iran",
            "Italy",
            "Mexico",
            "Russia",
            "Spain",
            "US",
            "United Kingdom"
           ],
           "legendgroup": "",
           "marker": {
            "color": "#f54842"
           },
           "name": "",
           "offsetgroup": "",
           "orientation": "v",
           "showlegend": false,
           "textposition": "auto",
           "type": "bar",
           "x": [
            "Brazil",
            "France",
            "India",
            "Iran",
            "Italy",
            "Mexico",
            "Russia",
            "Spain",
            "US",
            "United Kingdom"
           ],
           "xaxis": "x",
           "y": [
            0,
            48,
            1,
            429,
            1016,
            0,
            0,
            55,
            43,
            9
           ],
           "yaxis": "y"
          }
         ],
         "name": "3/12/20"
        },
        {
         "data": [
          {
           "alignmentgroup": "True",
           "hovertemplate": "Date=3/17/20<br>Country=%{x}<br>Cases=%{y}<extra></extra>",
           "ids": [
            "Brazil",
            "France",
            "India",
            "Iran",
            "Italy",
            "Mexico",
            "Russia",
            "Spain",
            "US",
            "United Kingdom"
           ],
           "legendgroup": "",
           "marker": {
            "color": "#f54842"
           },
           "name": "",
           "offsetgroup": "",
           "orientation": "v",
           "showlegend": false,
           "textposition": "auto",
           "type": "bar",
           "x": [
            "Brazil",
            "France",
            "India",
            "Iran",
            "Italy",
            "Mexico",
            "Russia",
            "Spain",
            "US",
            "United Kingdom"
           ],
           "xaxis": "x",
           "y": [
            1,
            149,
            3,
            988,
            2503,
            0,
            0,
            533,
            133,
            83
           ],
           "yaxis": "y"
          }
         ],
         "name": "3/17/20"
        },
        {
         "data": [
          {
           "alignmentgroup": "True",
           "hovertemplate": "Date=3/21/20<br>Country=%{x}<br>Cases=%{y}<extra></extra>",
           "ids": [
            "Brazil",
            "France",
            "India",
            "Iran",
            "Italy",
            "Mexico",
            "Russia",
            "Spain",
            "US",
            "United Kingdom"
           ],
           "legendgroup": "",
           "marker": {
            "color": "#f54842"
           },
           "name": "",
           "offsetgroup": "",
           "orientation": "v",
           "showlegend": false,
           "textposition": "auto",
           "type": "bar",
           "x": [
            "Brazil",
            "France",
            "India",
            "Iran",
            "Italy",
            "Mexico",
            "Russia",
            "Spain",
            "US",
            "United Kingdom"
           ],
           "xaxis": "x",
           "y": [
            15,
            563,
            4,
            1556,
            4825,
            2,
            1,
            1375,
            466,
            253
           ],
           "yaxis": "y"
          }
         ],
         "name": "3/21/20"
        },
        {
         "data": [
          {
           "alignmentgroup": "True",
           "hovertemplate": "Date=3/26/20<br>Country=%{x}<br>Cases=%{y}<extra></extra>",
           "ids": [
            "Brazil",
            "France",
            "India",
            "Iran",
            "Italy",
            "Mexico",
            "Russia",
            "Spain",
            "US",
            "United Kingdom"
           ],
           "legendgroup": "",
           "marker": {
            "color": "#f54842"
           },
           "name": "",
           "offsetgroup": "",
           "orientation": "v",
           "showlegend": false,
           "textposition": "auto",
           "type": "bar",
           "x": [
            "Brazil",
            "France",
            "India",
            "Iran",
            "Italy",
            "Mexico",
            "Russia",
            "Spain",
            "US",
            "United Kingdom"
           ],
           "xaxis": "x",
           "y": [
            77,
            1697,
            20,
            2234,
            8215,
            8,
            3,
            4365,
            1742,
            886
           ],
           "yaxis": "y"
          }
         ],
         "name": "3/26/20"
        },
        {
         "data": [
          {
           "alignmentgroup": "True",
           "hovertemplate": "Date=3/30/20<br>Country=%{x}<br>Cases=%{y}<extra></extra>",
           "ids": [
            "Brazil",
            "France",
            "India",
            "Iran",
            "Italy",
            "Mexico",
            "Russia",
            "Spain",
            "US",
            "United Kingdom"
           ],
           "legendgroup": "",
           "marker": {
            "color": "#f54842"
           },
           "name": "",
           "offsetgroup": "",
           "orientation": "v",
           "showlegend": false,
           "textposition": "auto",
           "type": "bar",
           "x": [
            "Brazil",
            "France",
            "India",
            "Iran",
            "Italy",
            "Mexico",
            "Russia",
            "Spain",
            "US",
            "United Kingdom"
           ],
           "xaxis": "x",
           "y": [
            159,
            3026,
            32,
            2757,
            11591,
            28,
            9,
            7716,
            4187,
            2053
           ],
           "yaxis": "y"
          }
         ],
         "name": "3/30/20"
        },
        {
         "data": [
          {
           "alignmentgroup": "True",
           "hovertemplate": "Date=4/3/20<br>Country=%{x}<br>Cases=%{y}<extra></extra>",
           "ids": [
            "Brazil",
            "France",
            "India",
            "Iran",
            "Italy",
            "Mexico",
            "Russia",
            "Spain",
            "US",
            "United Kingdom"
           ],
           "legendgroup": "",
           "marker": {
            "color": "#f54842"
           },
           "name": "",
           "offsetgroup": "",
           "orientation": "v",
           "showlegend": false,
           "textposition": "auto",
           "type": "bar",
           "x": [
            "Brazil",
            "France",
            "India",
            "Iran",
            "Italy",
            "Mexico",
            "Russia",
            "Spain",
            "US",
            "United Kingdom"
           ],
           "xaxis": "x",
           "y": [
            359,
            6509,
            72,
            3294,
            14681,
            60,
            34,
            11198,
            9436,
            4524
           ],
           "yaxis": "y"
          }
         ],
         "name": "4/3/20"
        },
        {
         "data": [
          {
           "alignmentgroup": "True",
           "hovertemplate": "Date=4/7/20<br>Country=%{x}<br>Cases=%{y}<extra></extra>",
           "ids": [
            "Brazil",
            "France",
            "India",
            "Iran",
            "Italy",
            "Mexico",
            "Russia",
            "Spain",
            "US",
            "United Kingdom"
           ],
           "legendgroup": "",
           "marker": {
            "color": "#f54842"
           },
           "name": "",
           "offsetgroup": "",
           "orientation": "v",
           "showlegend": false,
           "textposition": "auto",
           "type": "bar",
           "x": [
            "Brazil",
            "France",
            "India",
            "Iran",
            "Italy",
            "Mexico",
            "Russia",
            "Spain",
            "US",
            "United Kingdom"
           ],
           "xaxis": "x",
           "y": [
            686,
            10330,
            150,
            3872,
            17127,
            141,
            58,
            14045,
            16895,
            7557
           ],
           "yaxis": "y"
          }
         ],
         "name": "4/7/20"
        },
        {
         "data": [
          {
           "alignmentgroup": "True",
           "hovertemplate": "Date=4/11/20<br>Country=%{x}<br>Cases=%{y}<extra></extra>",
           "ids": [
            "Brazil",
            "France",
            "India",
            "Iran",
            "Italy",
            "Mexico",
            "Russia",
            "Spain",
            "US",
            "United Kingdom"
           ],
           "legendgroup": "",
           "marker": {
            "color": "#f54842"
           },
           "name": "",
           "offsetgroup": "",
           "orientation": "v",
           "showlegend": false,
           "textposition": "auto",
           "type": "bar",
           "x": [
            "Brazil",
            "France",
            "India",
            "Iran",
            "Italy",
            "Mexico",
            "Russia",
            "Spain",
            "US",
            "United Kingdom"
           ],
           "xaxis": "x",
           "y": [
            1124,
            13835,
            288,
            4357,
            19468,
            273,
            106,
            16606,
            25597,
            11673
           ],
           "yaxis": "y"
          }
         ],
         "name": "4/11/20"
        },
        {
         "data": [
          {
           "alignmentgroup": "True",
           "hovertemplate": "Date=4/16/20<br>Country=%{x}<br>Cases=%{y}<extra></extra>",
           "ids": [
            "Brazil",
            "France",
            "India",
            "Iran",
            "Italy",
            "Mexico",
            "Russia",
            "Spain",
            "US",
            "United Kingdom"
           ],
           "legendgroup": "",
           "marker": {
            "color": "#f54842"
           },
           "name": "",
           "offsetgroup": "",
           "orientation": "v",
           "showlegend": false,
           "textposition": "auto",
           "type": "bar",
           "x": [
            "Brazil",
            "France",
            "India",
            "Iran",
            "Italy",
            "Mexico",
            "Russia",
            "Spain",
            "US",
            "United Kingdom"
           ],
           "xaxis": "x",
           "y": [
            1924,
            17903,
            448,
            4869,
            22170,
            486,
            232,
            19315,
            36576,
            16059
           ],
           "yaxis": "y"
          }
         ],
         "name": "4/16/20"
        },
        {
         "data": [
          {
           "alignmentgroup": "True",
           "hovertemplate": "Date=4/20/20<br>Country=%{x}<br>Cases=%{y}<extra></extra>",
           "ids": [
            "Brazil",
            "France",
            "India",
            "Iran",
            "Italy",
            "Mexico",
            "Russia",
            "Spain",
            "US",
            "United Kingdom"
           ],
           "legendgroup": "",
           "marker": {
            "color": "#f54842"
           },
           "name": "",
           "offsetgroup": "",
           "orientation": "v",
           "showlegend": false,
           "textposition": "auto",
           "type": "bar",
           "x": [
            "Brazil",
            "France",
            "India",
            "Iran",
            "Italy",
            "Mexico",
            "Russia",
            "Spain",
            "US",
            "United Kingdom"
           ],
           "xaxis": "x",
           "y": [
            2587,
            20241,
            592,
            5209,
            24114,
            712,
            405,
            20852,
            44769,
            19090
           ],
           "yaxis": "y"
          }
         ],
         "name": "4/20/20"
        },
        {
         "data": [
          {
           "alignmentgroup": "True",
           "hovertemplate": "Date=4/25/20<br>Country=%{x}<br>Cases=%{y}<extra></extra>",
           "ids": [
            "Brazil",
            "France",
            "India",
            "Iran",
            "Italy",
            "Mexico",
            "Russia",
            "Spain",
            "US",
            "United Kingdom"
           ],
           "legendgroup": "",
           "marker": {
            "color": "#f54842"
           },
           "name": "",
           "offsetgroup": "",
           "orientation": "v",
           "showlegend": false,
           "textposition": "auto",
           "type": "bar",
           "x": [
            "Brazil",
            "France",
            "India",
            "Iran",
            "Italy",
            "Mexico",
            "Russia",
            "Spain",
            "US",
            "United Kingdom"
           ],
           "xaxis": "x",
           "y": [
            4057,
            22588,
            825,
            5650,
            26384,
            1305,
            681,
            22902,
            56056,
            23689
           ],
           "yaxis": "y"
          }
         ],
         "name": "4/25/20"
        },
        {
         "data": [
          {
           "alignmentgroup": "True",
           "hovertemplate": "Date=5/3/20<br>Country=%{x}<br>Cases=%{y}<extra></extra>",
           "ids": [
            "Brazil",
            "France",
            "India",
            "Iran",
            "Italy",
            "Mexico",
            "Russia",
            "Spain",
            "US",
            "United Kingdom"
           ],
           "legendgroup": "",
           "marker": {
            "color": "#f54842"
           },
           "name": "",
           "offsetgroup": "",
           "orientation": "v",
           "showlegend": false,
           "textposition": "auto",
           "type": "bar",
           "x": [
            "Brazil",
            "France",
            "India",
            "Iran",
            "Italy",
            "Mexico",
            "Russia",
            "Spain",
            "US",
            "United Kingdom"
           ],
           "xaxis": "x",
           "y": [
            7051,
            24898,
            1391,
            6203,
            28884,
            2154,
            1280,
            25264,
            70708,
            28292
           ],
           "yaxis": "y"
          }
         ],
         "name": "5/3/20"
        },
        {
         "data": [
          {
           "alignmentgroup": "True",
           "hovertemplate": "Date=5/6/20<br>Country=%{x}<br>Cases=%{y}<extra></extra>",
           "ids": [
            "Brazil",
            "France",
            "India",
            "Iran",
            "Italy",
            "Mexico",
            "Russia",
            "Spain",
            "US",
            "United Kingdom"
           ],
           "legendgroup": "",
           "marker": {
            "color": "#f54842"
           },
           "name": "",
           "offsetgroup": "",
           "orientation": "v",
           "showlegend": false,
           "textposition": "auto",
           "type": "bar",
           "x": [
            "Brazil",
            "France",
            "India",
            "Iran",
            "Italy",
            "Mexico",
            "Russia",
            "Spain",
            "US",
            "United Kingdom"
           ],
           "xaxis": "x",
           "y": [
            8588,
            25812,
            1785,
            6418,
            29684,
            2704,
            1537,
            25857,
            76665,
            29937
           ],
           "yaxis": "y"
          }
         ],
         "name": "5/6/20"
        },
        {
         "data": [
          {
           "alignmentgroup": "True",
           "hovertemplate": "Date=5/11/20<br>Country=%{x}<br>Cases=%{y}<extra></extra>",
           "ids": [
            "Brazil",
            "France",
            "India",
            "Iran",
            "Italy",
            "Mexico",
            "Russia",
            "Spain",
            "US",
            "United Kingdom"
           ],
           "legendgroup": "",
           "marker": {
            "color": "#f54842"
           },
           "name": "",
           "offsetgroup": "",
           "orientation": "v",
           "showlegend": false,
           "textposition": "auto",
           "type": "bar",
           "x": [
            "Brazil",
            "France",
            "India",
            "Iran",
            "Italy",
            "Mexico",
            "Russia",
            "Spain",
            "US",
            "United Kingdom"
           ],
           "xaxis": "x",
           "y": [
            11653,
            26646,
            2294,
            6685,
            30739,
            3573,
            2009,
            26744,
            83776,
            31655
           ],
           "yaxis": "y"
          }
         ],
         "name": "5/11/20"
        },
        {
         "data": [
          {
           "alignmentgroup": "True",
           "hovertemplate": "Date=5/16/20<br>Country=%{x}<br>Cases=%{y}<extra></extra>",
           "ids": [
            "Brazil",
            "France",
            "India",
            "Iran",
            "Italy",
            "Mexico",
            "Russia",
            "Spain",
            "US",
            "United Kingdom"
           ],
           "legendgroup": "",
           "marker": {
            "color": "#f54842"
           },
           "name": "",
           "offsetgroup": "",
           "orientation": "v",
           "showlegend": false,
           "textposition": "auto",
           "type": "bar",
           "x": [
            "Brazil",
            "France",
            "India",
            "Iran",
            "Italy",
            "Mexico",
            "Russia",
            "Spain",
            "US",
            "United Kingdom"
           ],
           "xaxis": "x",
           "y": [
            15662,
            27630,
            2871,
            6937,
            31763,
            5045,
            2537,
            27563,
            91855,
            33833
           ],
           "yaxis": "y"
          }
         ],
         "name": "5/16/20"
        },
        {
         "data": [
          {
           "alignmentgroup": "True",
           "hovertemplate": "Date=5/20/20<br>Country=%{x}<br>Cases=%{y}<extra></extra>",
           "ids": [
            "Brazil",
            "France",
            "India",
            "Iran",
            "Italy",
            "Mexico",
            "Russia",
            "Spain",
            "US",
            "United Kingdom"
           ],
           "legendgroup": "",
           "marker": {
            "color": "#f54842"
           },
           "name": "",
           "offsetgroup": "",
           "orientation": "v",
           "showlegend": false,
           "textposition": "auto",
           "type": "bar",
           "x": [
            "Brazil",
            "France",
            "India",
            "Iran",
            "Italy",
            "Mexico",
            "Russia",
            "Spain",
            "US",
            "United Kingdom"
           ],
           "xaxis": "x",
           "y": [
            18859,
            28136,
            3434,
            7183,
            32330,
            6090,
            2972,
            27888,
            96807,
            34876
           ],
           "yaxis": "y"
          }
         ],
         "name": "5/20/20"
        },
        {
         "data": [
          {
           "alignmentgroup": "True",
           "hovertemplate": "Date=5/25/20<br>Country=%{x}<br>Cases=%{y}<extra></extra>",
           "ids": [
            "Brazil",
            "France",
            "India",
            "Iran",
            "Italy",
            "Mexico",
            "Russia",
            "Spain",
            "US",
            "United Kingdom"
           ],
           "legendgroup": "",
           "marker": {
            "color": "#f54842"
           },
           "name": "",
           "offsetgroup": "",
           "orientation": "v",
           "showlegend": false,
           "textposition": "auto",
           "type": "bar",
           "x": [
            "Brazil",
            "France",
            "India",
            "Iran",
            "Italy",
            "Mexico",
            "Russia",
            "Spain",
            "US",
            "United Kingdom"
           ],
           "xaxis": "x",
           "y": [
            23473,
            28461,
            4172,
            7451,
            32877,
            7633,
            3633,
            26834,
            101572,
            36143
           ],
           "yaxis": "y"
          }
         ],
         "name": "5/25/20"
        },
        {
         "data": [
          {
           "alignmentgroup": "True",
           "hovertemplate": "Date=6/2/20<br>Country=%{x}<br>Cases=%{y}<extra></extra>",
           "ids": [
            "Brazil",
            "France",
            "India",
            "Iran",
            "Italy",
            "Mexico",
            "Russia",
            "Spain",
            "US",
            "United Kingdom"
           ],
           "legendgroup": "",
           "marker": {
            "color": "#f54842"
           },
           "name": "",
           "offsetgroup": "",
           "orientation": "v",
           "showlegend": false,
           "textposition": "auto",
           "type": "bar",
           "x": [
            "Brazil",
            "France",
            "India",
            "Iran",
            "Italy",
            "Mexico",
            "Russia",
            "Spain",
            "US",
            "United Kingdom"
           ],
           "xaxis": "x",
           "y": [
            31199,
            28943,
            5829,
            7942,
            33530,
            10637,
            5031,
            27127,
            109539,
            37863
           ],
           "yaxis": "y"
          }
         ],
         "name": "6/2/20"
        },
        {
         "data": [
          {
           "alignmentgroup": "True",
           "hovertemplate": "Date=6/6/20<br>Country=%{x}<br>Cases=%{y}<extra></extra>",
           "ids": [
            "Brazil",
            "France",
            "India",
            "Iran",
            "Italy",
            "Mexico",
            "Russia",
            "Spain",
            "US",
            "United Kingdom"
           ],
           "legendgroup": "",
           "marker": {
            "color": "#f54842"
           },
           "name": "",
           "offsetgroup": "",
           "orientation": "v",
           "showlegend": false,
           "textposition": "auto",
           "type": "bar",
           "x": [
            "Brazil",
            "France",
            "India",
            "Iran",
            "Italy",
            "Mexico",
            "Russia",
            "Spain",
            "US",
            "United Kingdom"
           ],
           "xaxis": "x",
           "y": [
            35930,
            29145,
            6946,
            8209,
            33846,
            13511,
            5717,
            27135,
            113138,
            38648
           ],
           "yaxis": "y"
          }
         ],
         "name": "6/6/20"
        },
        {
         "data": [
          {
           "alignmentgroup": "True",
           "hovertemplate": "Date=6/10/20<br>Country=%{x}<br>Cases=%{y}<extra></extra>",
           "ids": [
            "Brazil",
            "France",
            "India",
            "Iran",
            "Italy",
            "Mexico",
            "Russia",
            "Spain",
            "US",
            "United Kingdom"
           ],
           "legendgroup": "",
           "marker": {
            "color": "#f54842"
           },
           "name": "",
           "offsetgroup": "",
           "orientation": "v",
           "showlegend": false,
           "textposition": "auto",
           "type": "bar",
           "x": [
            "Brazil",
            "France",
            "India",
            "Iran",
            "Italy",
            "Mexico",
            "Russia",
            "Spain",
            "US",
            "United Kingdom"
           ],
           "xaxis": "x",
           "y": [
            39680,
            29322,
            8102,
            8506,
            34114,
            15357,
            6350,
            27136,
            115911,
            39110
           ],
           "yaxis": "y"
          }
         ],
         "name": "6/10/20"
        },
        {
         "data": [
          {
           "alignmentgroup": "True",
           "hovertemplate": "Date=6/15/20<br>Country=%{x}<br>Cases=%{y}<extra></extra>",
           "ids": [
            "Brazil",
            "France",
            "India",
            "Iran",
            "Italy",
            "Mexico",
            "Russia",
            "Spain",
            "US",
            "United Kingdom"
           ],
           "legendgroup": "",
           "marker": {
            "color": "#f54842"
           },
           "name": "",
           "offsetgroup": "",
           "orientation": "v",
           "showlegend": false,
           "textposition": "auto",
           "type": "bar",
           "x": [
            "Brazil",
            "France",
            "India",
            "Iran",
            "Italy",
            "Mexico",
            "Russia",
            "Spain",
            "US",
            "United Kingdom"
           ],
           "xaxis": "x",
           "y": [
            43959,
            29439,
            9900,
            8950,
            34371,
            17580,
            7081,
            27136,
            119049,
            39480
           ],
           "yaxis": "y"
          }
         ],
         "name": "6/15/20"
        },
        {
         "data": [
          {
           "alignmentgroup": "True",
           "hovertemplate": "Date=6/24/20<br>Country=%{x}<br>Cases=%{y}<extra></extra>",
           "ids": [
            "Brazil",
            "France",
            "India",
            "Iran",
            "Italy",
            "Mexico",
            "Russia",
            "Spain",
            "US",
            "United Kingdom"
           ],
           "legendgroup": "",
           "marker": {
            "color": "#f54842"
           },
           "name": "",
           "offsetgroup": "",
           "orientation": "v",
           "showlegend": false,
           "textposition": "auto",
           "type": "bar",
           "x": [
            "Brazil",
            "France",
            "India",
            "Iran",
            "Italy",
            "Mexico",
            "Russia",
            "Spain",
            "US",
            "United Kingdom"
           ],
           "xaxis": "x",
           "y": [
            53830,
            29735,
            14894,
            9996,
            34644,
            24324,
            8503,
            28327,
            124844,
            40157
           ],
           "yaxis": "y"
          }
         ],
         "name": "6/24/20"
        },
        {
         "data": [
          {
           "alignmentgroup": "True",
           "hovertemplate": "Date=6/29/20<br>Country=%{x}<br>Cases=%{y}<extra></extra>",
           "ids": [
            "Brazil",
            "France",
            "India",
            "Iran",
            "Italy",
            "Mexico",
            "Russia",
            "Spain",
            "US",
            "United Kingdom"
           ],
           "legendgroup": "",
           "marker": {
            "color": "#f54842"
           },
           "name": "",
           "offsetgroup": "",
           "orientation": "v",
           "showlegend": false,
           "textposition": "auto",
           "type": "bar",
           "x": [
            "Brazil",
            "France",
            "India",
            "Iran",
            "Italy",
            "Mexico",
            "Russia",
            "Spain",
            "US",
            "United Kingdom"
           ],
           "xaxis": "x",
           "y": [
            58314,
            29816,
            16893,
            10670,
            34744,
            27121,
            9152,
            28346,
            127198,
            40425
           ],
           "yaxis": "y"
          }
         ],
         "name": "6/29/20"
        },
        {
         "data": [
          {
           "alignmentgroup": "True",
           "hovertemplate": "Date=7/2/20<br>Country=%{x}<br>Cases=%{y}<extra></extra>",
           "ids": [
            "Brazil",
            "France",
            "India",
            "Iran",
            "Italy",
            "Mexico",
            "Russia",
            "Spain",
            "US",
            "United Kingdom"
           ],
           "legendgroup": "",
           "marker": {
            "color": "#f54842"
           },
           "name": "",
           "offsetgroup": "",
           "orientation": "v",
           "showlegend": false,
           "textposition": "auto",
           "type": "bar",
           "x": [
            "Brazil",
            "France",
            "India",
            "Iran",
            "Italy",
            "Mexico",
            "Russia",
            "Spain",
            "US",
            "United Kingdom"
           ],
           "xaxis": "x",
           "y": [
            61884,
            29878,
            18213,
            11106,
            34818,
            29189,
            9668,
            28368,
            129250,
            40617
           ],
           "yaxis": "y"
          }
         ],
         "name": "7/2/20"
        },
        {
         "data": [
          {
           "alignmentgroup": "True",
           "hovertemplate": "Date=7/5/20<br>Country=%{x}<br>Cases=%{y}<extra></extra>",
           "ids": [
            "Brazil",
            "France",
            "India",
            "Iran",
            "Italy",
            "Mexico",
            "Russia",
            "Spain",
            "US",
            "United Kingdom"
           ],
           "legendgroup": "",
           "marker": {
            "color": "#f54842"
           },
           "name": "",
           "offsetgroup": "",
           "orientation": "v",
           "showlegend": false,
           "textposition": "auto",
           "type": "bar",
           "x": [
            "Brazil",
            "France",
            "India",
            "Iran",
            "Italy",
            "Mexico",
            "Russia",
            "Spain",
            "US",
            "United Kingdom"
           ],
           "xaxis": "x",
           "y": [
            64867,
            29895,
            19693,
            11571,
            34861,
            30639,
            10145,
            28385,
            130492,
            40717
           ],
           "yaxis": "y"
          }
         ],
         "name": "7/5/20"
        },
        {
         "data": [
          {
           "alignmentgroup": "True",
           "hovertemplate": "Date=7/10/20<br>Country=%{x}<br>Cases=%{y}<extra></extra>",
           "ids": [
            "Brazil",
            "France",
            "India",
            "Iran",
            "Italy",
            "Mexico",
            "Russia",
            "Spain",
            "US",
            "United Kingdom"
           ],
           "legendgroup": "",
           "marker": {
            "color": "#f54842"
           },
           "name": "",
           "offsetgroup": "",
           "orientation": "v",
           "showlegend": false,
           "textposition": "auto",
           "type": "bar",
           "x": [
            "Brazil",
            "France",
            "India",
            "Iran",
            "Italy",
            "Mexico",
            "Russia",
            "Spain",
            "US",
            "United Kingdom"
           ],
           "xaxis": "x",
           "y": [
            70398,
            30009,
            22123,
            12447,
            34938,
            34191,
            11000,
            28403,
            134725,
            40904
           ],
           "yaxis": "y"
          }
         ],
         "name": "7/10/20"
        },
        {
         "data": [
          {
           "alignmentgroup": "True",
           "hovertemplate": "Date=7/15/20<br>Country=%{x}<br>Cases=%{y}<extra></extra>",
           "ids": [
            "Brazil",
            "France",
            "India",
            "Iran",
            "Italy",
            "Mexico",
            "Russia",
            "Spain",
            "US",
            "United Kingdom"
           ],
           "legendgroup": "",
           "marker": {
            "color": "#f54842"
           },
           "name": "",
           "offsetgroup": "",
           "orientation": "v",
           "showlegend": false,
           "textposition": "auto",
           "type": "bar",
           "x": [
            "Brazil",
            "France",
            "India",
            "Iran",
            "Italy",
            "Mexico",
            "Russia",
            "Spain",
            "US",
            "United Kingdom"
           ],
           "xaxis": "x",
           "y": [
            75366,
            30125,
            24914,
            13410,
            34997,
            36906,
            11753,
            28413,
            138196,
            41010
           ],
           "yaxis": "y"
          }
         ],
         "name": "7/15/20"
        },
        {
         "data": [
          {
           "alignmentgroup": "True",
           "hovertemplate": "Date=7/24/20<br>Country=%{x}<br>Cases=%{y}<extra></extra>",
           "ids": [
            "Brazil",
            "France",
            "India",
            "Iran",
            "Italy",
            "Mexico",
            "Russia",
            "Spain",
            "US",
            "United Kingdom"
           ],
           "legendgroup": "",
           "marker": {
            "color": "#f54842"
           },
           "name": "",
           "offsetgroup": "",
           "orientation": "v",
           "showlegend": false,
           "textposition": "auto",
           "type": "bar",
           "x": [
            "Brazil",
            "France",
            "India",
            "Iran",
            "Italy",
            "Mexico",
            "Russia",
            "Spain",
            "US",
            "United Kingdom"
           ],
           "xaxis": "x",
           "y": [
            85238,
            30196,
            31358,
            15289,
            35097,
            42645,
            13026,
            28432,
            146507,
            41173
           ],
           "yaxis": "y"
          }
         ],
         "name": "7/24/20"
        },
        {
         "data": [
          {
           "alignmentgroup": "True",
           "hovertemplate": "Date=7/29/20<br>Country=%{x}<br>Cases=%{y}<extra></extra>",
           "ids": [
            "Brazil",
            "France",
            "India",
            "Iran",
            "Italy",
            "Mexico",
            "Russia",
            "Spain",
            "US",
            "United Kingdom"
           ],
           "legendgroup": "",
           "marker": {
            "color": "#f54842"
           },
           "name": "",
           "offsetgroup": "",
           "orientation": "v",
           "showlegend": false,
           "textposition": "auto",
           "type": "bar",
           "x": [
            "Brazil",
            "France",
            "India",
            "Iran",
            "Italy",
            "Mexico",
            "Russia",
            "Spain",
            "US",
            "United Kingdom"
           ],
           "xaxis": "x",
           "y": [
            90134,
            30241,
            34955,
            16343,
            35129,
            45361,
            13650,
            28441,
            151797,
            41254
           ],
           "yaxis": "y"
          }
         ],
         "name": "7/29/20"
        },
        {
         "data": [
          {
           "alignmentgroup": "True",
           "hovertemplate": "Date=8/1/20<br>Country=%{x}<br>Cases=%{y}<extra></extra>",
           "ids": [
            "Brazil",
            "France",
            "India",
            "Iran",
            "Italy",
            "Mexico",
            "Russia",
            "Spain",
            "US",
            "United Kingdom"
           ],
           "legendgroup": "",
           "marker": {
            "color": "#f54842"
           },
           "name": "",
           "offsetgroup": "",
           "orientation": "v",
           "showlegend": false,
           "textposition": "auto",
           "type": "bar",
           "x": [
            "Brazil",
            "France",
            "India",
            "Iran",
            "Italy",
            "Mexico",
            "Russia",
            "Spain",
            "US",
            "United Kingdom"
           ],
           "xaxis": "x",
           "y": [
            93563,
            30268,
            37364,
            16982,
            35146,
            47472,
            14034,
            28445,
            155376,
            41287
           ],
           "yaxis": "y"
          }
         ],
         "name": "8/1/20"
        },
        {
         "data": [
          {
           "alignmentgroup": "True",
           "hovertemplate": "Date=8/4/20<br>Country=%{x}<br>Cases=%{y}<extra></extra>",
           "ids": [
            "Brazil",
            "France",
            "India",
            "Iran",
            "Italy",
            "Mexico",
            "Russia",
            "Spain",
            "US",
            "United Kingdom"
           ],
           "legendgroup": "",
           "marker": {
            "color": "#f54842"
           },
           "name": "",
           "offsetgroup": "",
           "orientation": "v",
           "showlegend": false,
           "textposition": "auto",
           "type": "bar",
           "x": [
            "Brazil",
            "France",
            "India",
            "Iran",
            "Italy",
            "Mexico",
            "Russia",
            "Spain",
            "US",
            "United Kingdom"
           ],
           "xaxis": "x",
           "y": [
            95819,
            30300,
            39795,
            17617,
            35171,
            48869,
            14327,
            28498,
            157705,
            41311
           ],
           "yaxis": "y"
          }
         ],
         "name": "8/4/20"
        },
        {
         "data": [
          {
           "alignmentgroup": "True",
           "hovertemplate": "Date=8/9/20<br>Country=%{x}<br>Cases=%{y}<extra></extra>",
           "ids": [
            "Brazil",
            "France",
            "India",
            "Iran",
            "Italy",
            "Mexico",
            "Russia",
            "Spain",
            "US",
            "United Kingdom"
           ],
           "legendgroup": "",
           "marker": {
            "color": "#f54842"
           },
           "name": "",
           "offsetgroup": "",
           "orientation": "v",
           "showlegend": false,
           "textposition": "auto",
           "type": "bar",
           "x": [
            "Brazil",
            "France",
            "India",
            "Iran",
            "Italy",
            "Mexico",
            "Russia",
            "Spain",
            "US",
            "United Kingdom"
           ],
           "xaxis": "x",
           "y": [
            101049,
            30329,
            44386,
            18427,
            35205,
            52298,
            14903,
            28503,
            163175,
            41363
           ],
           "yaxis": "y"
          }
         ],
         "name": "8/9/20"
        },
        {
         "data": [
          {
           "alignmentgroup": "True",
           "hovertemplate": "Date=8/14/20<br>Country=%{x}<br>Cases=%{y}<extra></extra>",
           "ids": [
            "Brazil",
            "France",
            "India",
            "Iran",
            "Italy",
            "Mexico",
            "Russia",
            "Spain",
            "US",
            "United Kingdom"
           ],
           "legendgroup": "",
           "marker": {
            "color": "#f54842"
           },
           "name": "",
           "offsetgroup": "",
           "orientation": "v",
           "showlegend": false,
           "textposition": "auto",
           "type": "bar",
           "x": [
            "Brazil",
            "France",
            "India",
            "Iran",
            "Italy",
            "Mexico",
            "Russia",
            "Spain",
            "US",
            "United Kingdom"
           ],
           "xaxis": "x",
           "y": [
            106523,
            30412,
            49036,
            19331,
            35234,
            55908,
            15467,
            28617,
            168667,
            41443
           ],
           "yaxis": "y"
          }
         ],
         "name": "8/14/20"
        },
        {
         "data": [
          {
           "alignmentgroup": "True",
           "hovertemplate": "Date=8/19/20<br>Country=%{x}<br>Cases=%{y}<extra></extra>",
           "ids": [
            "Brazil",
            "France",
            "India",
            "Iran",
            "Italy",
            "Mexico",
            "Russia",
            "Spain",
            "US",
            "United Kingdom"
           ],
           "legendgroup": "",
           "marker": {
            "color": "#f54842"
           },
           "name": "",
           "offsetgroup": "",
           "orientation": "v",
           "showlegend": false,
           "textposition": "auto",
           "type": "bar",
           "x": [
            "Brazil",
            "France",
            "India",
            "Iran",
            "Italy",
            "Mexico",
            "Russia",
            "Spain",
            "US",
            "United Kingdom"
           ],
           "xaxis": "x",
           "y": [
            111100,
            30474,
            53866,
            20125,
            35412,
            58481,
            15951,
            28797,
            173359,
            41483
           ],
           "yaxis": "y"
          }
         ],
         "name": "8/19/20"
        },
        {
         "data": [
          {
           "alignmentgroup": "True",
           "hovertemplate": "Date=8/23/20<br>Country=%{x}<br>Cases=%{y}<extra></extra>",
           "ids": [
            "Brazil",
            "France",
            "India",
            "Iran",
            "Italy",
            "Mexico",
            "Russia",
            "Spain",
            "US",
            "United Kingdom"
           ],
           "legendgroup": "",
           "marker": {
            "color": "#f54842"
           },
           "name": "",
           "offsetgroup": "",
           "orientation": "v",
           "showlegend": false,
           "textposition": "auto",
           "type": "bar",
           "x": [
            "Brazil",
            "France",
            "India",
            "Iran",
            "Italy",
            "Mexico",
            "Russia",
            "Spain",
            "US",
            "United Kingdom"
           ],
           "xaxis": "x",
           "y": [
            114744,
            30518,
            57542,
            20643,
            35437,
            60480,
            16341,
            28838,
            176970,
            41515
           ],
           "yaxis": "y"
          }
         ],
         "name": "8/23/20"
        },
        {
         "data": [
          {
           "alignmentgroup": "True",
           "hovertemplate": "Date=8/28/20<br>Country=%{x}<br>Cases=%{y}<extra></extra>",
           "ids": [
            "Brazil",
            "France",
            "India",
            "Iran",
            "Italy",
            "Mexico",
            "Russia",
            "Spain",
            "US",
            "United Kingdom"
           ],
           "legendgroup": "",
           "marker": {
            "color": "#f54842"
           },
           "name": "",
           "offsetgroup": "",
           "orientation": "v",
           "showlegend": false,
           "textposition": "auto",
           "type": "bar",
           "x": [
            "Brazil",
            "France",
            "India",
            "Iran",
            "Italy",
            "Mexico",
            "Russia",
            "Spain",
            "US",
            "United Kingdom"
           ],
           "xaxis": "x",
           "y": [
            119504,
            30606,
            62550,
            21249,
            35472,
            63146,
            16866,
            29011,
            181926,
            41573
           ],
           "yaxis": "y"
          }
         ],
         "name": "8/28/20"
        },
        {
         "data": [
          {
           "alignmentgroup": "True",
           "hovertemplate": "Date=9/4/20<br>Country=%{x}<br>Cases=%{y}<extra></extra>",
           "ids": [
            "Brazil",
            "France",
            "India",
            "Iran",
            "Italy",
            "Mexico",
            "Russia",
            "Spain",
            "US",
            "United Kingdom"
           ],
           "legendgroup": "",
           "marker": {
            "color": "#f54842"
           },
           "name": "",
           "offsetgroup": "",
           "orientation": "v",
           "showlegend": false,
           "textposition": "auto",
           "type": "bar",
           "x": [
            "Brazil",
            "France",
            "India",
            "Iran",
            "Italy",
            "Mexico",
            "Russia",
            "Spain",
            "US",
            "United Kingdom"
           ],
           "xaxis": "x",
           "y": [
            125502,
            30696,
            69561,
            22044,
            35518,
            66851,
            17598,
            29418,
            187921,
            41626
           ],
           "yaxis": "y"
          }
         ],
         "name": "9/4/20"
        },
        {
         "data": [
          {
           "alignmentgroup": "True",
           "hovertemplate": "Date=9/9/20<br>Country=%{x}<br>Cases=%{y}<extra></extra>",
           "ids": [
            "Brazil",
            "France",
            "India",
            "Iran",
            "Italy",
            "Mexico",
            "Russia",
            "Spain",
            "US",
            "United Kingdom"
           ],
           "legendgroup": "",
           "marker": {
            "color": "#f54842"
           },
           "name": "",
           "offsetgroup": "",
           "orientation": "v",
           "showlegend": false,
           "textposition": "auto",
           "type": "bar",
           "x": [
            "Brazil",
            "France",
            "India",
            "Iran",
            "Italy",
            "Mexico",
            "Russia",
            "Spain",
            "US",
            "United Kingdom"
           ],
           "xaxis": "x",
           "y": [
            128539,
            30805,
            75062,
            22669,
            35577,
            69049,
            18080,
            29628,
            190999,
            41683
           ],
           "yaxis": "y"
          }
         ],
         "name": "9/9/20"
        },
        {
         "data": [
          {
           "alignmentgroup": "True",
           "hovertemplate": "Date=9/13/20<br>Country=%{x}<br>Cases=%{y}<extra></extra>",
           "ids": [
            "Brazil",
            "France",
            "India",
            "Iran",
            "Italy",
            "Mexico",
            "Russia",
            "Spain",
            "US",
            "United Kingdom"
           ],
           "legendgroup": "",
           "marker": {
            "color": "#f54842"
           },
           "name": "",
           "offsetgroup": "",
           "orientation": "v",
           "showlegend": false,
           "textposition": "auto",
           "type": "bar",
           "x": [
            "Brazil",
            "France",
            "India",
            "Iran",
            "Italy",
            "Mexico",
            "Russia",
            "Spain",
            "US",
            "United Kingdom"
           ],
           "xaxis": "x",
           "y": [
            131625,
            30929,
            79722,
            23157,
            35610,
            70821,
            18517,
            29747,
            194224,
            41717
           ],
           "yaxis": "y"
          }
         ],
         "name": "9/13/20"
        },
        {
         "data": [
          {
           "alignmentgroup": "True",
           "hovertemplate": "Date=9/18/20<br>Country=%{x}<br>Cases=%{y}<extra></extra>",
           "ids": [
            "Brazil",
            "France",
            "India",
            "Iran",
            "Italy",
            "Mexico",
            "Russia",
            "Spain",
            "US",
            "United Kingdom"
           ],
           "legendgroup": "",
           "marker": {
            "color": "#f54842"
           },
           "name": "",
           "offsetgroup": "",
           "orientation": "v",
           "showlegend": false,
           "textposition": "auto",
           "type": "bar",
           "x": [
            "Brazil",
            "France",
            "India",
            "Iran",
            "Italy",
            "Mexico",
            "Russia",
            "Spain",
            "US",
            "United Kingdom"
           ],
           "xaxis": "x",
           "y": [
            135793,
            31262,
            85619,
            23952,
            35668,
            72803,
            19128,
            30495,
            198700,
            41821
           ],
           "yaxis": "y"
          }
         ],
         "name": "9/18/20"
        },
        {
         "data": [
          {
           "alignmentgroup": "True",
           "hovertemplate": "Date=9/22/20<br>Country=%{x}<br>Cases=%{y}<extra></extra>",
           "ids": [
            "Brazil",
            "France",
            "India",
            "Iran",
            "Italy",
            "Mexico",
            "Russia",
            "Spain",
            "US",
            "United Kingdom"
           ],
           "legendgroup": "",
           "marker": {
            "color": "#f54842"
           },
           "name": "",
           "offsetgroup": "",
           "orientation": "v",
           "showlegend": false,
           "textposition": "auto",
           "type": "bar",
           "x": [
            "Brazil",
            "France",
            "India",
            "Iran",
            "Italy",
            "Mexico",
            "Russia",
            "Spain",
            "US",
            "United Kingdom"
           ],
           "xaxis": "x",
           "y": [
            138105,
            31430,
            90020,
            24656,
            35738,
            74348,
            19575,
            30904,
            201095,
            41914
           ],
           "yaxis": "y"
          }
         ],
         "name": "9/22/20"
        },
        {
         "data": [
          {
           "alignmentgroup": "True",
           "hovertemplate": "Date=9/27/20<br>Country=%{x}<br>Cases=%{y}<extra></extra>",
           "ids": [
            "Brazil",
            "France",
            "India",
            "Iran",
            "Italy",
            "Mexico",
            "Russia",
            "Spain",
            "US",
            "United Kingdom"
           ],
           "legendgroup": "",
           "marker": {
            "color": "#f54842"
           },
           "name": "",
           "offsetgroup": "",
           "orientation": "v",
           "showlegend": false,
           "textposition": "auto",
           "type": "bar",
           "x": [
            "Brazil",
            "France",
            "India",
            "Iran",
            "Italy",
            "Mexico",
            "Russia",
            "Spain",
            "US",
            "United Kingdom"
           ],
           "xaxis": "x",
           "y": [
            141741,
            31741,
            95542,
            25589,
            35835,
            76430,
            20239,
            31232,
            205069,
            42077
           ],
           "yaxis": "y"
          }
         ],
         "name": "9/27/20"
        },
        {
         "data": [
          {
           "alignmentgroup": "True",
           "hovertemplate": "Date=10/3/20<br>Country=%{x}<br>Cases=%{y}<extra></extra>",
           "ids": [
            "Brazil",
            "France",
            "India",
            "Iran",
            "Italy",
            "Mexico",
            "Russia",
            "Spain",
            "US",
            "United Kingdom"
           ],
           "legendgroup": "",
           "marker": {
            "color": "#f54842"
           },
           "name": "",
           "offsetgroup": "",
           "orientation": "v",
           "showlegend": false,
           "textposition": "auto",
           "type": "bar",
           "x": [
            "Brazil",
            "France",
            "India",
            "Iran",
            "Italy",
            "Mexico",
            "Russia",
            "Spain",
            "US",
            "United Kingdom"
           ],
           "xaxis": "x",
           "y": [
            145987,
            32196,
            101782,
            26746,
            35968,
            78880,
            21153,
            32086,
            209695,
            42407
           ],
           "yaxis": "y"
          }
         ],
         "name": "10/3/20"
        },
        {
         "data": [
          {
           "alignmentgroup": "True",
           "hovertemplate": "Date=10/6/20<br>Country=%{x}<br>Cases=%{y}<extra></extra>",
           "ids": [
            "Brazil",
            "France",
            "India",
            "Iran",
            "Italy",
            "Mexico",
            "Russia",
            "Spain",
            "US",
            "United Kingdom"
           ],
           "legendgroup": "",
           "marker": {
            "color": "#f54842"
           },
           "name": "",
           "offsetgroup": "",
           "orientation": "v",
           "showlegend": false,
           "textposition": "auto",
           "type": "bar",
           "x": [
            "Brazil",
            "France",
            "India",
            "Iran",
            "Italy",
            "Mexico",
            "Russia",
            "Spain",
            "US",
            "United Kingdom"
           ],
           "xaxis": "x",
           "y": [
            147494,
            32386,
            104555,
            27419,
            36030,
            82348,
            21559,
            32486,
            211212,
            42535
           ],
           "yaxis": "y"
          }
         ],
         "name": "10/6/20"
        },
        {
         "data": [
          {
           "alignmentgroup": "True",
           "hovertemplate": "Date=10/11/20<br>Country=%{x}<br>Cases=%{y}<extra></extra>",
           "ids": [
            "Brazil",
            "France",
            "India",
            "Iran",
            "Italy",
            "Mexico",
            "Russia",
            "Spain",
            "US",
            "United Kingdom"
           ],
           "legendgroup": "",
           "marker": {
            "color": "#f54842"
           },
           "name": "",
           "offsetgroup": "",
           "orientation": "v",
           "showlegend": false,
           "textposition": "auto",
           "type": "bar",
           "x": [
            "Brazil",
            "France",
            "India",
            "Iran",
            "Italy",
            "Mexico",
            "Russia",
            "Spain",
            "US",
            "United Kingdom"
           ],
           "xaxis": "x",
           "y": [
            150488,
            32730,
            109150,
            28544,
            36166,
            83781,
            22471,
            32929,
            215122,
            42915
           ],
           "yaxis": "y"
          }
         ],
         "name": "10/11/20"
        },
        {
         "data": [
          {
           "alignmentgroup": "True",
           "hovertemplate": "Date=10/16/20<br>Country=%{x}<br>Cases=%{y}<extra></extra>",
           "ids": [
            "Brazil",
            "France",
            "India",
            "Iran",
            "Italy",
            "Mexico",
            "Russia",
            "Spain",
            "US",
            "United Kingdom"
           ],
           "legendgroup": "",
           "marker": {
            "color": "#f54842"
           },
           "name": "",
           "offsetgroup": "",
           "orientation": "v",
           "showlegend": false,
           "textposition": "auto",
           "type": "bar",
           "x": [
            "Brazil",
            "France",
            "India",
            "Iran",
            "Italy",
            "Mexico",
            "Russia",
            "Spain",
            "US",
            "United Kingdom"
           ],
           "xaxis": "x",
           "y": [
            153214,
            33325,
            112998,
            29870,
            36427,
            85704,
            23580,
            33775,
            218962,
            43519
           ],
           "yaxis": "y"
          }
         ],
         "name": "10/16/20"
        },
        {
         "data": [
          {
           "alignmentgroup": "True",
           "hovertemplate": "Date=10/20/20<br>Country=%{x}<br>Cases=%{y}<extra></extra>",
           "ids": [
            "Brazil",
            "France",
            "India",
            "Iran",
            "Italy",
            "Mexico",
            "Russia",
            "Spain",
            "US",
            "United Kingdom"
           ],
           "legendgroup": "",
           "marker": {
            "color": "#f54842"
           },
           "name": "",
           "offsetgroup": "",
           "orientation": "v",
           "showlegend": false,
           "textposition": "auto",
           "type": "bar",
           "x": [
            "Brazil",
            "France",
            "India",
            "Iran",
            "Italy",
            "Mexico",
            "Russia",
            "Spain",
            "US",
            "United Kingdom"
           ],
           "xaxis": "x",
           "y": [
            154837,
            33912,
            115914,
            31034,
            36705,
            86893,
            24473,
            34210,
            221536,
            44057
           ],
           "yaxis": "y"
          }
         ],
         "name": "10/20/20"
        },
        {
         "data": [
          {
           "alignmentgroup": "True",
           "hovertemplate": "Date=10/25/20<br>Country=%{x}<br>Cases=%{y}<extra></extra>",
           "ids": [
            "Brazil",
            "France",
            "India",
            "Iran",
            "Italy",
            "Mexico",
            "Russia",
            "Spain",
            "US",
            "United Kingdom"
           ],
           "legendgroup": "",
           "marker": {
            "color": "#f54842"
           },
           "name": "",
           "offsetgroup": "",
           "orientation": "v",
           "showlegend": false,
           "textposition": "auto",
           "type": "bar",
           "x": [
            "Brazil",
            "France",
            "India",
            "Iran",
            "Italy",
            "Mexico",
            "Russia",
            "Spain",
            "US",
            "United Kingdom"
           ],
           "xaxis": "x",
           "y": [
            157134,
            34649,
            119014,
            32616,
            37338,
            88924,
            25875,
            34752,
            225857,
            44986
           ],
           "yaxis": "y"
          }
         ],
         "name": "10/25/20"
        },
        {
         "data": [
          {
           "alignmentgroup": "True",
           "hovertemplate": "Date=11/2/20<br>Country=%{x}<br>Cases=%{y}<extra></extra>",
           "ids": [
            "Brazil",
            "France",
            "India",
            "Iran",
            "Italy",
            "Mexico",
            "Russia",
            "Spain",
            "US",
            "United Kingdom"
           ],
           "legendgroup": "",
           "marker": {
            "color": "#f54842"
           },
           "name": "",
           "offsetgroup": "",
           "orientation": "v",
           "showlegend": false,
           "textposition": "auto",
           "type": "bar",
           "x": [
            "Brazil",
            "France",
            "India",
            "Iran",
            "Italy",
            "Mexico",
            "Russia",
            "Spain",
            "US",
            "United Kingdom"
           ],
           "xaxis": "x",
           "y": [
            160253,
            37486,
            123097,
            35738,
            39059,
            92100,
            28264,
            36257,
            232155,
            46943
           ],
           "yaxis": "y"
          }
         ],
         "name": "11/2/20"
        },
        {
         "data": [
          {
           "alignmentgroup": "True",
           "hovertemplate": "Date=11/6/20<br>Country=%{x}<br>Cases=%{y}<extra></extra>",
           "ids": [
            "Brazil",
            "France",
            "India",
            "Iran",
            "Italy",
            "Mexico",
            "Russia",
            "Spain",
            "US",
            "United Kingdom"
           ],
           "legendgroup": "",
           "marker": {
            "color": "#f54842"
           },
           "name": "",
           "offsetgroup": "",
           "orientation": "v",
           "showlegend": false,
           "textposition": "auto",
           "type": "bar",
           "x": [
            "Brazil",
            "France",
            "India",
            "Iran",
            "Italy",
            "Mexico",
            "Russia",
            "Spain",
            "US",
            "United Kingdom"
           ],
           "xaxis": "x",
           "y": [
            162015,
            39917,
            125562,
            37409,
            40638,
            94323,
            29654,
            38833,
            237153,
            48565
           ],
           "yaxis": "y"
          }
         ],
         "name": "11/6/20"
        },
        {
         "data": [
          {
           "alignmentgroup": "True",
           "hovertemplate": "Date=11/10/20<br>Country=%{x}<br>Cases=%{y}<extra></extra>",
           "ids": [
            "Brazil",
            "France",
            "India",
            "Iran",
            "Italy",
            "Mexico",
            "Russia",
            "Spain",
            "US",
            "United Kingdom"
           ],
           "legendgroup": "",
           "marker": {
            "color": "#f54842"
           },
           "name": "",
           "offsetgroup": "",
           "orientation": "v",
           "showlegend": false,
           "textposition": "auto",
           "type": "bar",
           "x": [
            "Brazil",
            "France",
            "India",
            "Iran",
            "Italy",
            "Mexico",
            "Russia",
            "Spain",
            "US",
            "United Kingdom"
           ],
           "xaxis": "x",
           "y": [
            162802,
            42281,
            127571,
            39202,
            42330,
            95842,
            30899,
            39345,
            240714,
            49861
           ],
           "yaxis": "y"
          }
         ],
         "name": "11/10/20"
        },
        {
         "data": [
          {
           "alignmentgroup": "True",
           "hovertemplate": "Date=11/15/20<br>Country=%{x}<br>Cases=%{y}<extra></extra>",
           "ids": [
            "Brazil",
            "France",
            "India",
            "Iran",
            "Italy",
            "Mexico",
            "Russia",
            "Spain",
            "US",
            "United Kingdom"
           ],
           "legendgroup": "",
           "marker": {
            "color": "#f54842"
           },
           "name": "",
           "offsetgroup": "",
           "orientation": "v",
           "showlegend": false,
           "textposition": "auto",
           "type": "bar",
           "x": [
            "Brazil",
            "France",
            "India",
            "Iran",
            "Italy",
            "Mexico",
            "Russia",
            "Spain",
            "US",
            "United Kingdom"
           ],
           "xaxis": "x",
           "y": [
            165798,
            44613,
            130070,
            41493,
            45229,
            98542,
            32885,
            40769,
            246421,
            52026
           ],
           "yaxis": "y"
          }
         ],
         "name": "11/15/20"
        },
        {
         "data": [
          {
           "alignmentgroup": "True",
           "hovertemplate": "Date=11/24/20<br>Country=%{x}<br>Cases=%{y}<extra></extra>",
           "ids": [
            "Brazil",
            "France",
            "India",
            "Iran",
            "Italy",
            "Mexico",
            "Russia",
            "Spain",
            "US",
            "United Kingdom"
           ],
           "legendgroup": "",
           "marker": {
            "color": "#f54842"
           },
           "name": "",
           "offsetgroup": "",
           "orientation": "v",
           "showlegend": false,
           "textposition": "auto",
           "type": "bar",
           "x": [
            "Brazil",
            "France",
            "India",
            "Iran",
            "Italy",
            "Mexico",
            "Russia",
            "Spain",
            "US",
            "United Kingdom"
           ],
           "xaxis": "x",
           "y": [
            170115,
            50322,
            134699,
            45738,
            51306,
            102739,
            36675,
            43668,
            260000,
            55935
           ],
           "yaxis": "y"
          }
         ],
         "name": "11/24/20"
        },
        {
         "data": [
          {
           "alignmentgroup": "True",
           "hovertemplate": "Date=11/29/20<br>Country=%{x}<br>Cases=%{y}<extra></extra>",
           "ids": [
            "Brazil",
            "France",
            "India",
            "Iran",
            "Italy",
            "Mexico",
            "Russia",
            "Spain",
            "US",
            "United Kingdom"
           ],
           "legendgroup": "",
           "marker": {
            "color": "#f54842"
           },
           "name": "",
           "offsetgroup": "",
           "orientation": "v",
           "showlegend": false,
           "textposition": "auto",
           "type": "bar",
           "x": [
            "Brazil",
            "France",
            "India",
            "Iran",
            "Italy",
            "Mexico",
            "Russia",
            "Spain",
            "US",
            "United Kingdom"
           ],
           "xaxis": "x",
           "y": [
            172833,
            52410,
            137139,
            47874,
            54904,
            105655,
            39127,
            44668,
            267012,
            58342
           ],
           "yaxis": "y"
          }
         ],
         "name": "11/29/20"
        },
        {
         "data": [
          {
           "alignmentgroup": "True",
           "hovertemplate": "Date=12/2/20<br>Country=%{x}<br>Cases=%{y}<extra></extra>",
           "ids": [
            "Brazil",
            "France",
            "India",
            "Iran",
            "Italy",
            "Mexico",
            "Russia",
            "Spain",
            "US",
            "United Kingdom"
           ],
           "legendgroup": "",
           "marker": {
            "color": "#f54842"
           },
           "name": "",
           "offsetgroup": "",
           "orientation": "v",
           "showlegend": false,
           "textposition": "auto",
           "type": "bar",
           "x": [
            "Brazil",
            "France",
            "India",
            "Iran",
            "Italy",
            "Mexico",
            "Russia",
            "Spain",
            "US",
            "United Kingdom"
           ],
           "xaxis": "x",
           "y": [
            174515,
            53907,
            138648,
            48990,
            57045,
            107565,
            40630,
            45784,
            273528,
            59796
           ],
           "yaxis": "y"
          }
         ],
         "name": "12/2/20"
        },
        {
         "data": [
          {
           "alignmentgroup": "True",
           "hovertemplate": "Date=12/7/20<br>Country=%{x}<br>Cases=%{y}<extra></extra>",
           "ids": [
            "Brazil",
            "France",
            "India",
            "Iran",
            "Italy",
            "Mexico",
            "Russia",
            "Spain",
            "US",
            "United Kingdom"
           ],
           "legendgroup": "",
           "marker": {
            "color": "#f54842"
           },
           "name": "",
           "offsetgroup": "",
           "orientation": "v",
           "showlegend": false,
           "textposition": "auto",
           "type": "bar",
           "x": [
            "Brazil",
            "France",
            "India",
            "Iran",
            "Italy",
            "Mexico",
            "Russia",
            "Spain",
            "US",
            "United Kingdom"
           ],
           "xaxis": "x",
           "y": [
            177317,
            55613,
            140958,
            50594,
            60606,
            110074,
            43122,
            46646,
            283763,
            61531
           ],
           "yaxis": "y"
          }
         ],
         "name": "12/7/20"
        },
        {
         "data": [
          {
           "alignmentgroup": "True",
           "hovertemplate": "Date=12/10/20<br>Country=%{x}<br>Cases=%{y}<extra></extra>",
           "ids": [
            "Brazil",
            "France",
            "India",
            "Iran",
            "Italy",
            "Mexico",
            "Russia",
            "Spain",
            "US",
            "United Kingdom"
           ],
           "legendgroup": "",
           "marker": {
            "color": "#f54842"
           },
           "name": "",
           "offsetgroup": "",
           "orientation": "v",
           "showlegend": false,
           "textposition": "auto",
           "type": "bar",
           "x": [
            "Brazil",
            "France",
            "India",
            "Iran",
            "Italy",
            "Mexico",
            "Russia",
            "Spain",
            "US",
            "United Kingdom"
           ],
           "xaxis": "x",
           "y": [
            179765,
            57044,
            142185,
            51496,
            62626,
            112326,
            44769,
            47344,
            292267,
            63179
           ],
           "yaxis": "y"
          }
         ],
         "name": "12/10/20"
        },
        {
         "data": [
          {
           "alignmentgroup": "True",
           "hovertemplate": "Date=12/15/20<br>Country=%{x}<br>Cases=%{y}<extra></extra>",
           "ids": [
            "Brazil",
            "France",
            "India",
            "Iran",
            "Italy",
            "Mexico",
            "Russia",
            "Spain",
            "US",
            "United Kingdom"
           ],
           "legendgroup": "",
           "marker": {
            "color": "#f54842"
           },
           "name": "",
           "offsetgroup": "",
           "orientation": "v",
           "showlegend": false,
           "textposition": "auto",
           "type": "bar",
           "x": [
            "Brazil",
            "France",
            "India",
            "Iran",
            "Italy",
            "Mexico",
            "Russia",
            "Spain",
            "US",
            "United Kingdom"
           ],
           "xaxis": "x",
           "y": [
            182799,
            59182,
            144096,
            52670,
            65857,
            115099,
            47410,
            48401,
            303761,
            65006
           ],
           "yaxis": "y"
          }
         ],
         "name": "12/15/20"
        },
        {
         "data": [
          {
           "alignmentgroup": "True",
           "hovertemplate": "Date=12/24/20<br>Country=%{x}<br>Cases=%{y}<extra></extra>",
           "ids": [
            "Brazil",
            "France",
            "India",
            "Iran",
            "Italy",
            "Mexico",
            "Russia",
            "Spain",
            "US",
            "United Kingdom"
           ],
           "legendgroup": "",
           "marker": {
            "color": "#f54842"
           },
           "name": "",
           "offsetgroup": "",
           "orientation": "v",
           "showlegend": false,
           "textposition": "auto",
           "type": "bar",
           "x": [
            "Brazil",
            "France",
            "India",
            "Iran",
            "Italy",
            "Mexico",
            "Russia",
            "Spain",
            "US",
            "United Kingdom"
           ],
           "xaxis": "x",
           "y": [
            189982,
            62389,
            147092,
            54308,
            70900,
            121172,
            52434,
            49824,
            329023,
            69732
           ],
           "yaxis": "y"
          }
         ],
         "name": "12/24/20"
        },
        {
         "data": [
          {
           "alignmentgroup": "True",
           "hovertemplate": "Date=12/29/20<br>Country=%{x}<br>Cases=%{y}<extra></extra>",
           "ids": [
            "Brazil",
            "France",
            "India",
            "Iran",
            "Italy",
            "Mexico",
            "Russia",
            "Spain",
            "US",
            "United Kingdom"
           ],
           "legendgroup": "",
           "marker": {
            "color": "#f54842"
           },
           "name": "",
           "offsetgroup": "",
           "orientation": "v",
           "showlegend": false,
           "textposition": "auto",
           "type": "bar",
           "x": [
            "Brazil",
            "France",
            "India",
            "Iran",
            "Italy",
            "Mexico",
            "Russia",
            "Spain",
            "US",
            "United Kingdom"
           ],
           "xaxis": "x",
           "y": [
            192681,
            64204,
            148439,
            54946,
            73029,
            123845,
            55107,
            50442,
            338568,
            71675
           ],
           "yaxis": "y"
          }
         ],
         "name": "12/29/20"
        }
       ],
       "layout": {
        "barmode": "relative",
        "legend": {
         "tracegroupgap": 0
        },
        "margin": {
         "t": 60
        },
        "showlegend": false,
        "sliders": [
         {
          "active": 0,
          "currentvalue": {
           "prefix": "Date="
          },
          "len": 0.9,
          "pad": {
           "b": 10,
           "t": 60
          },
          "steps": [
           {
            "args": [
             [
              "1/24/20"
             ],
             {
              "frame": {
               "duration": 0,
               "redraw": true
              },
              "fromcurrent": true,
              "mode": "immediate",
              "transition": {
               "duration": 0,
               "easing": "linear"
              }
             }
            ],
            "label": "1/24/20",
            "method": "animate"
           },
           {
            "args": [
             [
              "1/29/20"
             ],
             {
              "frame": {
               "duration": 0,
               "redraw": true
              },
              "fromcurrent": true,
              "mode": "immediate",
              "transition": {
               "duration": 0,
               "easing": "linear"
              }
             }
            ],
            "label": "1/29/20",
            "method": "animate"
           },
           {
            "args": [
             [
              "2/3/20"
             ],
             {
              "frame": {
               "duration": 0,
               "redraw": true
              },
              "fromcurrent": true,
              "mode": "immediate",
              "transition": {
               "duration": 0,
               "easing": "linear"
              }
             }
            ],
            "label": "2/3/20",
            "method": "animate"
           },
           {
            "args": [
             [
              "2/8/20"
             ],
             {
              "frame": {
               "duration": 0,
               "redraw": true
              },
              "fromcurrent": true,
              "mode": "immediate",
              "transition": {
               "duration": 0,
               "easing": "linear"
              }
             }
            ],
            "label": "2/8/20",
            "method": "animate"
           },
           {
            "args": [
             [
              "2/11/20"
             ],
             {
              "frame": {
               "duration": 0,
               "redraw": true
              },
              "fromcurrent": true,
              "mode": "immediate",
              "transition": {
               "duration": 0,
               "easing": "linear"
              }
             }
            ],
            "label": "2/11/20",
            "method": "animate"
           },
           {
            "args": [
             [
              "2/16/20"
             ],
             {
              "frame": {
               "duration": 0,
               "redraw": true
              },
              "fromcurrent": true,
              "mode": "immediate",
              "transition": {
               "duration": 0,
               "easing": "linear"
              }
             }
            ],
            "label": "2/16/20",
            "method": "animate"
           },
           {
            "args": [
             [
              "2/20/20"
             ],
             {
              "frame": {
               "duration": 0,
               "redraw": true
              },
              "fromcurrent": true,
              "mode": "immediate",
              "transition": {
               "duration": 0,
               "easing": "linear"
              }
             }
            ],
            "label": "2/20/20",
            "method": "animate"
           },
           {
            "args": [
             [
              "2/25/20"
             ],
             {
              "frame": {
               "duration": 0,
               "redraw": true
              },
              "fromcurrent": true,
              "mode": "immediate",
              "transition": {
               "duration": 0,
               "easing": "linear"
              }
             }
            ],
            "label": "2/25/20",
            "method": "animate"
           },
           {
            "args": [
             [
              "3/7/20"
             ],
             {
              "frame": {
               "duration": 0,
               "redraw": true
              },
              "fromcurrent": true,
              "mode": "immediate",
              "transition": {
               "duration": 0,
               "easing": "linear"
              }
             }
            ],
            "label": "3/7/20",
            "method": "animate"
           },
           {
            "args": [
             [
              "3/12/20"
             ],
             {
              "frame": {
               "duration": 0,
               "redraw": true
              },
              "fromcurrent": true,
              "mode": "immediate",
              "transition": {
               "duration": 0,
               "easing": "linear"
              }
             }
            ],
            "label": "3/12/20",
            "method": "animate"
           },
           {
            "args": [
             [
              "3/17/20"
             ],
             {
              "frame": {
               "duration": 0,
               "redraw": true
              },
              "fromcurrent": true,
              "mode": "immediate",
              "transition": {
               "duration": 0,
               "easing": "linear"
              }
             }
            ],
            "label": "3/17/20",
            "method": "animate"
           },
           {
            "args": [
             [
              "3/21/20"
             ],
             {
              "frame": {
               "duration": 0,
               "redraw": true
              },
              "fromcurrent": true,
              "mode": "immediate",
              "transition": {
               "duration": 0,
               "easing": "linear"
              }
             }
            ],
            "label": "3/21/20",
            "method": "animate"
           },
           {
            "args": [
             [
              "3/26/20"
             ],
             {
              "frame": {
               "duration": 0,
               "redraw": true
              },
              "fromcurrent": true,
              "mode": "immediate",
              "transition": {
               "duration": 0,
               "easing": "linear"
              }
             }
            ],
            "label": "3/26/20",
            "method": "animate"
           },
           {
            "args": [
             [
              "3/30/20"
             ],
             {
              "frame": {
               "duration": 0,
               "redraw": true
              },
              "fromcurrent": true,
              "mode": "immediate",
              "transition": {
               "duration": 0,
               "easing": "linear"
              }
             }
            ],
            "label": "3/30/20",
            "method": "animate"
           },
           {
            "args": [
             [
              "4/3/20"
             ],
             {
              "frame": {
               "duration": 0,
               "redraw": true
              },
              "fromcurrent": true,
              "mode": "immediate",
              "transition": {
               "duration": 0,
               "easing": "linear"
              }
             }
            ],
            "label": "4/3/20",
            "method": "animate"
           },
           {
            "args": [
             [
              "4/7/20"
             ],
             {
              "frame": {
               "duration": 0,
               "redraw": true
              },
              "fromcurrent": true,
              "mode": "immediate",
              "transition": {
               "duration": 0,
               "easing": "linear"
              }
             }
            ],
            "label": "4/7/20",
            "method": "animate"
           },
           {
            "args": [
             [
              "4/11/20"
             ],
             {
              "frame": {
               "duration": 0,
               "redraw": true
              },
              "fromcurrent": true,
              "mode": "immediate",
              "transition": {
               "duration": 0,
               "easing": "linear"
              }
             }
            ],
            "label": "4/11/20",
            "method": "animate"
           },
           {
            "args": [
             [
              "4/16/20"
             ],
             {
              "frame": {
               "duration": 0,
               "redraw": true
              },
              "fromcurrent": true,
              "mode": "immediate",
              "transition": {
               "duration": 0,
               "easing": "linear"
              }
             }
            ],
            "label": "4/16/20",
            "method": "animate"
           },
           {
            "args": [
             [
              "4/20/20"
             ],
             {
              "frame": {
               "duration": 0,
               "redraw": true
              },
              "fromcurrent": true,
              "mode": "immediate",
              "transition": {
               "duration": 0,
               "easing": "linear"
              }
             }
            ],
            "label": "4/20/20",
            "method": "animate"
           },
           {
            "args": [
             [
              "4/25/20"
             ],
             {
              "frame": {
               "duration": 0,
               "redraw": true
              },
              "fromcurrent": true,
              "mode": "immediate",
              "transition": {
               "duration": 0,
               "easing": "linear"
              }
             }
            ],
            "label": "4/25/20",
            "method": "animate"
           },
           {
            "args": [
             [
              "5/3/20"
             ],
             {
              "frame": {
               "duration": 0,
               "redraw": true
              },
              "fromcurrent": true,
              "mode": "immediate",
              "transition": {
               "duration": 0,
               "easing": "linear"
              }
             }
            ],
            "label": "5/3/20",
            "method": "animate"
           },
           {
            "args": [
             [
              "5/6/20"
             ],
             {
              "frame": {
               "duration": 0,
               "redraw": true
              },
              "fromcurrent": true,
              "mode": "immediate",
              "transition": {
               "duration": 0,
               "easing": "linear"
              }
             }
            ],
            "label": "5/6/20",
            "method": "animate"
           },
           {
            "args": [
             [
              "5/11/20"
             ],
             {
              "frame": {
               "duration": 0,
               "redraw": true
              },
              "fromcurrent": true,
              "mode": "immediate",
              "transition": {
               "duration": 0,
               "easing": "linear"
              }
             }
            ],
            "label": "5/11/20",
            "method": "animate"
           },
           {
            "args": [
             [
              "5/16/20"
             ],
             {
              "frame": {
               "duration": 0,
               "redraw": true
              },
              "fromcurrent": true,
              "mode": "immediate",
              "transition": {
               "duration": 0,
               "easing": "linear"
              }
             }
            ],
            "label": "5/16/20",
            "method": "animate"
           },
           {
            "args": [
             [
              "5/20/20"
             ],
             {
              "frame": {
               "duration": 0,
               "redraw": true
              },
              "fromcurrent": true,
              "mode": "immediate",
              "transition": {
               "duration": 0,
               "easing": "linear"
              }
             }
            ],
            "label": "5/20/20",
            "method": "animate"
           },
           {
            "args": [
             [
              "5/25/20"
             ],
             {
              "frame": {
               "duration": 0,
               "redraw": true
              },
              "fromcurrent": true,
              "mode": "immediate",
              "transition": {
               "duration": 0,
               "easing": "linear"
              }
             }
            ],
            "label": "5/25/20",
            "method": "animate"
           },
           {
            "args": [
             [
              "6/2/20"
             ],
             {
              "frame": {
               "duration": 0,
               "redraw": true
              },
              "fromcurrent": true,
              "mode": "immediate",
              "transition": {
               "duration": 0,
               "easing": "linear"
              }
             }
            ],
            "label": "6/2/20",
            "method": "animate"
           },
           {
            "args": [
             [
              "6/6/20"
             ],
             {
              "frame": {
               "duration": 0,
               "redraw": true
              },
              "fromcurrent": true,
              "mode": "immediate",
              "transition": {
               "duration": 0,
               "easing": "linear"
              }
             }
            ],
            "label": "6/6/20",
            "method": "animate"
           },
           {
            "args": [
             [
              "6/10/20"
             ],
             {
              "frame": {
               "duration": 0,
               "redraw": true
              },
              "fromcurrent": true,
              "mode": "immediate",
              "transition": {
               "duration": 0,
               "easing": "linear"
              }
             }
            ],
            "label": "6/10/20",
            "method": "animate"
           },
           {
            "args": [
             [
              "6/15/20"
             ],
             {
              "frame": {
               "duration": 0,
               "redraw": true
              },
              "fromcurrent": true,
              "mode": "immediate",
              "transition": {
               "duration": 0,
               "easing": "linear"
              }
             }
            ],
            "label": "6/15/20",
            "method": "animate"
           },
           {
            "args": [
             [
              "6/24/20"
             ],
             {
              "frame": {
               "duration": 0,
               "redraw": true
              },
              "fromcurrent": true,
              "mode": "immediate",
              "transition": {
               "duration": 0,
               "easing": "linear"
              }
             }
            ],
            "label": "6/24/20",
            "method": "animate"
           },
           {
            "args": [
             [
              "6/29/20"
             ],
             {
              "frame": {
               "duration": 0,
               "redraw": true
              },
              "fromcurrent": true,
              "mode": "immediate",
              "transition": {
               "duration": 0,
               "easing": "linear"
              }
             }
            ],
            "label": "6/29/20",
            "method": "animate"
           },
           {
            "args": [
             [
              "7/2/20"
             ],
             {
              "frame": {
               "duration": 0,
               "redraw": true
              },
              "fromcurrent": true,
              "mode": "immediate",
              "transition": {
               "duration": 0,
               "easing": "linear"
              }
             }
            ],
            "label": "7/2/20",
            "method": "animate"
           },
           {
            "args": [
             [
              "7/5/20"
             ],
             {
              "frame": {
               "duration": 0,
               "redraw": true
              },
              "fromcurrent": true,
              "mode": "immediate",
              "transition": {
               "duration": 0,
               "easing": "linear"
              }
             }
            ],
            "label": "7/5/20",
            "method": "animate"
           },
           {
            "args": [
             [
              "7/10/20"
             ],
             {
              "frame": {
               "duration": 0,
               "redraw": true
              },
              "fromcurrent": true,
              "mode": "immediate",
              "transition": {
               "duration": 0,
               "easing": "linear"
              }
             }
            ],
            "label": "7/10/20",
            "method": "animate"
           },
           {
            "args": [
             [
              "7/15/20"
             ],
             {
              "frame": {
               "duration": 0,
               "redraw": true
              },
              "fromcurrent": true,
              "mode": "immediate",
              "transition": {
               "duration": 0,
               "easing": "linear"
              }
             }
            ],
            "label": "7/15/20",
            "method": "animate"
           },
           {
            "args": [
             [
              "7/24/20"
             ],
             {
              "frame": {
               "duration": 0,
               "redraw": true
              },
              "fromcurrent": true,
              "mode": "immediate",
              "transition": {
               "duration": 0,
               "easing": "linear"
              }
             }
            ],
            "label": "7/24/20",
            "method": "animate"
           },
           {
            "args": [
             [
              "7/29/20"
             ],
             {
              "frame": {
               "duration": 0,
               "redraw": true
              },
              "fromcurrent": true,
              "mode": "immediate",
              "transition": {
               "duration": 0,
               "easing": "linear"
              }
             }
            ],
            "label": "7/29/20",
            "method": "animate"
           },
           {
            "args": [
             [
              "8/1/20"
             ],
             {
              "frame": {
               "duration": 0,
               "redraw": true
              },
              "fromcurrent": true,
              "mode": "immediate",
              "transition": {
               "duration": 0,
               "easing": "linear"
              }
             }
            ],
            "label": "8/1/20",
            "method": "animate"
           },
           {
            "args": [
             [
              "8/4/20"
             ],
             {
              "frame": {
               "duration": 0,
               "redraw": true
              },
              "fromcurrent": true,
              "mode": "immediate",
              "transition": {
               "duration": 0,
               "easing": "linear"
              }
             }
            ],
            "label": "8/4/20",
            "method": "animate"
           },
           {
            "args": [
             [
              "8/9/20"
             ],
             {
              "frame": {
               "duration": 0,
               "redraw": true
              },
              "fromcurrent": true,
              "mode": "immediate",
              "transition": {
               "duration": 0,
               "easing": "linear"
              }
             }
            ],
            "label": "8/9/20",
            "method": "animate"
           },
           {
            "args": [
             [
              "8/14/20"
             ],
             {
              "frame": {
               "duration": 0,
               "redraw": true
              },
              "fromcurrent": true,
              "mode": "immediate",
              "transition": {
               "duration": 0,
               "easing": "linear"
              }
             }
            ],
            "label": "8/14/20",
            "method": "animate"
           },
           {
            "args": [
             [
              "8/19/20"
             ],
             {
              "frame": {
               "duration": 0,
               "redraw": true
              },
              "fromcurrent": true,
              "mode": "immediate",
              "transition": {
               "duration": 0,
               "easing": "linear"
              }
             }
            ],
            "label": "8/19/20",
            "method": "animate"
           },
           {
            "args": [
             [
              "8/23/20"
             ],
             {
              "frame": {
               "duration": 0,
               "redraw": true
              },
              "fromcurrent": true,
              "mode": "immediate",
              "transition": {
               "duration": 0,
               "easing": "linear"
              }
             }
            ],
            "label": "8/23/20",
            "method": "animate"
           },
           {
            "args": [
             [
              "8/28/20"
             ],
             {
              "frame": {
               "duration": 0,
               "redraw": true
              },
              "fromcurrent": true,
              "mode": "immediate",
              "transition": {
               "duration": 0,
               "easing": "linear"
              }
             }
            ],
            "label": "8/28/20",
            "method": "animate"
           },
           {
            "args": [
             [
              "9/4/20"
             ],
             {
              "frame": {
               "duration": 0,
               "redraw": true
              },
              "fromcurrent": true,
              "mode": "immediate",
              "transition": {
               "duration": 0,
               "easing": "linear"
              }
             }
            ],
            "label": "9/4/20",
            "method": "animate"
           },
           {
            "args": [
             [
              "9/9/20"
             ],
             {
              "frame": {
               "duration": 0,
               "redraw": true
              },
              "fromcurrent": true,
              "mode": "immediate",
              "transition": {
               "duration": 0,
               "easing": "linear"
              }
             }
            ],
            "label": "9/9/20",
            "method": "animate"
           },
           {
            "args": [
             [
              "9/13/20"
             ],
             {
              "frame": {
               "duration": 0,
               "redraw": true
              },
              "fromcurrent": true,
              "mode": "immediate",
              "transition": {
               "duration": 0,
               "easing": "linear"
              }
             }
            ],
            "label": "9/13/20",
            "method": "animate"
           },
           {
            "args": [
             [
              "9/18/20"
             ],
             {
              "frame": {
               "duration": 0,
               "redraw": true
              },
              "fromcurrent": true,
              "mode": "immediate",
              "transition": {
               "duration": 0,
               "easing": "linear"
              }
             }
            ],
            "label": "9/18/20",
            "method": "animate"
           },
           {
            "args": [
             [
              "9/22/20"
             ],
             {
              "frame": {
               "duration": 0,
               "redraw": true
              },
              "fromcurrent": true,
              "mode": "immediate",
              "transition": {
               "duration": 0,
               "easing": "linear"
              }
             }
            ],
            "label": "9/22/20",
            "method": "animate"
           },
           {
            "args": [
             [
              "9/27/20"
             ],
             {
              "frame": {
               "duration": 0,
               "redraw": true
              },
              "fromcurrent": true,
              "mode": "immediate",
              "transition": {
               "duration": 0,
               "easing": "linear"
              }
             }
            ],
            "label": "9/27/20",
            "method": "animate"
           },
           {
            "args": [
             [
              "10/3/20"
             ],
             {
              "frame": {
               "duration": 0,
               "redraw": true
              },
              "fromcurrent": true,
              "mode": "immediate",
              "transition": {
               "duration": 0,
               "easing": "linear"
              }
             }
            ],
            "label": "10/3/20",
            "method": "animate"
           },
           {
            "args": [
             [
              "10/6/20"
             ],
             {
              "frame": {
               "duration": 0,
               "redraw": true
              },
              "fromcurrent": true,
              "mode": "immediate",
              "transition": {
               "duration": 0,
               "easing": "linear"
              }
             }
            ],
            "label": "10/6/20",
            "method": "animate"
           },
           {
            "args": [
             [
              "10/11/20"
             ],
             {
              "frame": {
               "duration": 0,
               "redraw": true
              },
              "fromcurrent": true,
              "mode": "immediate",
              "transition": {
               "duration": 0,
               "easing": "linear"
              }
             }
            ],
            "label": "10/11/20",
            "method": "animate"
           },
           {
            "args": [
             [
              "10/16/20"
             ],
             {
              "frame": {
               "duration": 0,
               "redraw": true
              },
              "fromcurrent": true,
              "mode": "immediate",
              "transition": {
               "duration": 0,
               "easing": "linear"
              }
             }
            ],
            "label": "10/16/20",
            "method": "animate"
           },
           {
            "args": [
             [
              "10/20/20"
             ],
             {
              "frame": {
               "duration": 0,
               "redraw": true
              },
              "fromcurrent": true,
              "mode": "immediate",
              "transition": {
               "duration": 0,
               "easing": "linear"
              }
             }
            ],
            "label": "10/20/20",
            "method": "animate"
           },
           {
            "args": [
             [
              "10/25/20"
             ],
             {
              "frame": {
               "duration": 0,
               "redraw": true
              },
              "fromcurrent": true,
              "mode": "immediate",
              "transition": {
               "duration": 0,
               "easing": "linear"
              }
             }
            ],
            "label": "10/25/20",
            "method": "animate"
           },
           {
            "args": [
             [
              "11/2/20"
             ],
             {
              "frame": {
               "duration": 0,
               "redraw": true
              },
              "fromcurrent": true,
              "mode": "immediate",
              "transition": {
               "duration": 0,
               "easing": "linear"
              }
             }
            ],
            "label": "11/2/20",
            "method": "animate"
           },
           {
            "args": [
             [
              "11/6/20"
             ],
             {
              "frame": {
               "duration": 0,
               "redraw": true
              },
              "fromcurrent": true,
              "mode": "immediate",
              "transition": {
               "duration": 0,
               "easing": "linear"
              }
             }
            ],
            "label": "11/6/20",
            "method": "animate"
           },
           {
            "args": [
             [
              "11/10/20"
             ],
             {
              "frame": {
               "duration": 0,
               "redraw": true
              },
              "fromcurrent": true,
              "mode": "immediate",
              "transition": {
               "duration": 0,
               "easing": "linear"
              }
             }
            ],
            "label": "11/10/20",
            "method": "animate"
           },
           {
            "args": [
             [
              "11/15/20"
             ],
             {
              "frame": {
               "duration": 0,
               "redraw": true
              },
              "fromcurrent": true,
              "mode": "immediate",
              "transition": {
               "duration": 0,
               "easing": "linear"
              }
             }
            ],
            "label": "11/15/20",
            "method": "animate"
           },
           {
            "args": [
             [
              "11/24/20"
             ],
             {
              "frame": {
               "duration": 0,
               "redraw": true
              },
              "fromcurrent": true,
              "mode": "immediate",
              "transition": {
               "duration": 0,
               "easing": "linear"
              }
             }
            ],
            "label": "11/24/20",
            "method": "animate"
           },
           {
            "args": [
             [
              "11/29/20"
             ],
             {
              "frame": {
               "duration": 0,
               "redraw": true
              },
              "fromcurrent": true,
              "mode": "immediate",
              "transition": {
               "duration": 0,
               "easing": "linear"
              }
             }
            ],
            "label": "11/29/20",
            "method": "animate"
           },
           {
            "args": [
             [
              "12/2/20"
             ],
             {
              "frame": {
               "duration": 0,
               "redraw": true
              },
              "fromcurrent": true,
              "mode": "immediate",
              "transition": {
               "duration": 0,
               "easing": "linear"
              }
             }
            ],
            "label": "12/2/20",
            "method": "animate"
           },
           {
            "args": [
             [
              "12/7/20"
             ],
             {
              "frame": {
               "duration": 0,
               "redraw": true
              },
              "fromcurrent": true,
              "mode": "immediate",
              "transition": {
               "duration": 0,
               "easing": "linear"
              }
             }
            ],
            "label": "12/7/20",
            "method": "animate"
           },
           {
            "args": [
             [
              "12/10/20"
             ],
             {
              "frame": {
               "duration": 0,
               "redraw": true
              },
              "fromcurrent": true,
              "mode": "immediate",
              "transition": {
               "duration": 0,
               "easing": "linear"
              }
             }
            ],
            "label": "12/10/20",
            "method": "animate"
           },
           {
            "args": [
             [
              "12/15/20"
             ],
             {
              "frame": {
               "duration": 0,
               "redraw": true
              },
              "fromcurrent": true,
              "mode": "immediate",
              "transition": {
               "duration": 0,
               "easing": "linear"
              }
             }
            ],
            "label": "12/15/20",
            "method": "animate"
           },
           {
            "args": [
             [
              "12/24/20"
             ],
             {
              "frame": {
               "duration": 0,
               "redraw": true
              },
              "fromcurrent": true,
              "mode": "immediate",
              "transition": {
               "duration": 0,
               "easing": "linear"
              }
             }
            ],
            "label": "12/24/20",
            "method": "animate"
           },
           {
            "args": [
             [
              "12/29/20"
             ],
             {
              "frame": {
               "duration": 0,
               "redraw": true
              },
              "fromcurrent": true,
              "mode": "immediate",
              "transition": {
               "duration": 0,
               "easing": "linear"
              }
             }
            ],
            "label": "12/29/20",
            "method": "animate"
           }
          ],
          "x": 0.1,
          "xanchor": "left",
          "y": 0,
          "yanchor": "top"
         }
        ],
        "template": {
         "data": {
          "bar": [
           {
            "error_x": {
             "color": "#f2f5fa"
            },
            "error_y": {
             "color": "#f2f5fa"
            },
            "marker": {
             "line": {
              "color": "rgb(17,17,17)",
              "width": 0.5
             }
            },
            "type": "bar"
           }
          ],
          "barpolar": [
           {
            "marker": {
             "line": {
              "color": "rgb(17,17,17)",
              "width": 0.5
             }
            },
            "type": "barpolar"
           }
          ],
          "carpet": [
           {
            "aaxis": {
             "endlinecolor": "#A2B1C6",
             "gridcolor": "#506784",
             "linecolor": "#506784",
             "minorgridcolor": "#506784",
             "startlinecolor": "#A2B1C6"
            },
            "baxis": {
             "endlinecolor": "#A2B1C6",
             "gridcolor": "#506784",
             "linecolor": "#506784",
             "minorgridcolor": "#506784",
             "startlinecolor": "#A2B1C6"
            },
            "type": "carpet"
           }
          ],
          "choropleth": [
           {
            "colorbar": {
             "outlinewidth": 0,
             "ticks": ""
            },
            "type": "choropleth"
           }
          ],
          "contour": [
           {
            "colorbar": {
             "outlinewidth": 0,
             "ticks": ""
            },
            "colorscale": [
             [
              0,
              "#0d0887"
             ],
             [
              0.1111111111111111,
              "#46039f"
             ],
             [
              0.2222222222222222,
              "#7201a8"
             ],
             [
              0.3333333333333333,
              "#9c179e"
             ],
             [
              0.4444444444444444,
              "#bd3786"
             ],
             [
              0.5555555555555556,
              "#d8576b"
             ],
             [
              0.6666666666666666,
              "#ed7953"
             ],
             [
              0.7777777777777778,
              "#fb9f3a"
             ],
             [
              0.8888888888888888,
              "#fdca26"
             ],
             [
              1,
              "#f0f921"
             ]
            ],
            "type": "contour"
           }
          ],
          "contourcarpet": [
           {
            "colorbar": {
             "outlinewidth": 0,
             "ticks": ""
            },
            "type": "contourcarpet"
           }
          ],
          "heatmap": [
           {
            "colorbar": {
             "outlinewidth": 0,
             "ticks": ""
            },
            "colorscale": [
             [
              0,
              "#0d0887"
             ],
             [
              0.1111111111111111,
              "#46039f"
             ],
             [
              0.2222222222222222,
              "#7201a8"
             ],
             [
              0.3333333333333333,
              "#9c179e"
             ],
             [
              0.4444444444444444,
              "#bd3786"
             ],
             [
              0.5555555555555556,
              "#d8576b"
             ],
             [
              0.6666666666666666,
              "#ed7953"
             ],
             [
              0.7777777777777778,
              "#fb9f3a"
             ],
             [
              0.8888888888888888,
              "#fdca26"
             ],
             [
              1,
              "#f0f921"
             ]
            ],
            "type": "heatmap"
           }
          ],
          "heatmapgl": [
           {
            "colorbar": {
             "outlinewidth": 0,
             "ticks": ""
            },
            "colorscale": [
             [
              0,
              "#0d0887"
             ],
             [
              0.1111111111111111,
              "#46039f"
             ],
             [
              0.2222222222222222,
              "#7201a8"
             ],
             [
              0.3333333333333333,
              "#9c179e"
             ],
             [
              0.4444444444444444,
              "#bd3786"
             ],
             [
              0.5555555555555556,
              "#d8576b"
             ],
             [
              0.6666666666666666,
              "#ed7953"
             ],
             [
              0.7777777777777778,
              "#fb9f3a"
             ],
             [
              0.8888888888888888,
              "#fdca26"
             ],
             [
              1,
              "#f0f921"
             ]
            ],
            "type": "heatmapgl"
           }
          ],
          "histogram": [
           {
            "marker": {
             "colorbar": {
              "outlinewidth": 0,
              "ticks": ""
             }
            },
            "type": "histogram"
           }
          ],
          "histogram2d": [
           {
            "colorbar": {
             "outlinewidth": 0,
             "ticks": ""
            },
            "colorscale": [
             [
              0,
              "#0d0887"
             ],
             [
              0.1111111111111111,
              "#46039f"
             ],
             [
              0.2222222222222222,
              "#7201a8"
             ],
             [
              0.3333333333333333,
              "#9c179e"
             ],
             [
              0.4444444444444444,
              "#bd3786"
             ],
             [
              0.5555555555555556,
              "#d8576b"
             ],
             [
              0.6666666666666666,
              "#ed7953"
             ],
             [
              0.7777777777777778,
              "#fb9f3a"
             ],
             [
              0.8888888888888888,
              "#fdca26"
             ],
             [
              1,
              "#f0f921"
             ]
            ],
            "type": "histogram2d"
           }
          ],
          "histogram2dcontour": [
           {
            "colorbar": {
             "outlinewidth": 0,
             "ticks": ""
            },
            "colorscale": [
             [
              0,
              "#0d0887"
             ],
             [
              0.1111111111111111,
              "#46039f"
             ],
             [
              0.2222222222222222,
              "#7201a8"
             ],
             [
              0.3333333333333333,
              "#9c179e"
             ],
             [
              0.4444444444444444,
              "#bd3786"
             ],
             [
              0.5555555555555556,
              "#d8576b"
             ],
             [
              0.6666666666666666,
              "#ed7953"
             ],
             [
              0.7777777777777778,
              "#fb9f3a"
             ],
             [
              0.8888888888888888,
              "#fdca26"
             ],
             [
              1,
              "#f0f921"
             ]
            ],
            "type": "histogram2dcontour"
           }
          ],
          "mesh3d": [
           {
            "colorbar": {
             "outlinewidth": 0,
             "ticks": ""
            },
            "type": "mesh3d"
           }
          ],
          "parcoords": [
           {
            "line": {
             "colorbar": {
              "outlinewidth": 0,
              "ticks": ""
             }
            },
            "type": "parcoords"
           }
          ],
          "pie": [
           {
            "automargin": true,
            "type": "pie"
           }
          ],
          "scatter": [
           {
            "marker": {
             "line": {
              "color": "#283442"
             }
            },
            "type": "scatter"
           }
          ],
          "scatter3d": [
           {
            "line": {
             "colorbar": {
              "outlinewidth": 0,
              "ticks": ""
             }
            },
            "marker": {
             "colorbar": {
              "outlinewidth": 0,
              "ticks": ""
             }
            },
            "type": "scatter3d"
           }
          ],
          "scattercarpet": [
           {
            "marker": {
             "colorbar": {
              "outlinewidth": 0,
              "ticks": ""
             }
            },
            "type": "scattercarpet"
           }
          ],
          "scattergeo": [
           {
            "marker": {
             "colorbar": {
              "outlinewidth": 0,
              "ticks": ""
             }
            },
            "type": "scattergeo"
           }
          ],
          "scattergl": [
           {
            "marker": {
             "line": {
              "color": "#283442"
             }
            },
            "type": "scattergl"
           }
          ],
          "scattermapbox": [
           {
            "marker": {
             "colorbar": {
              "outlinewidth": 0,
              "ticks": ""
             }
            },
            "type": "scattermapbox"
           }
          ],
          "scatterpolar": [
           {
            "marker": {
             "colorbar": {
              "outlinewidth": 0,
              "ticks": ""
             }
            },
            "type": "scatterpolar"
           }
          ],
          "scatterpolargl": [
           {
            "marker": {
             "colorbar": {
              "outlinewidth": 0,
              "ticks": ""
             }
            },
            "type": "scatterpolargl"
           }
          ],
          "scatterternary": [
           {
            "marker": {
             "colorbar": {
              "outlinewidth": 0,
              "ticks": ""
             }
            },
            "type": "scatterternary"
           }
          ],
          "surface": [
           {
            "colorbar": {
             "outlinewidth": 0,
             "ticks": ""
            },
            "colorscale": [
             [
              0,
              "#0d0887"
             ],
             [
              0.1111111111111111,
              "#46039f"
             ],
             [
              0.2222222222222222,
              "#7201a8"
             ],
             [
              0.3333333333333333,
              "#9c179e"
             ],
             [
              0.4444444444444444,
              "#bd3786"
             ],
             [
              0.5555555555555556,
              "#d8576b"
             ],
             [
              0.6666666666666666,
              "#ed7953"
             ],
             [
              0.7777777777777778,
              "#fb9f3a"
             ],
             [
              0.8888888888888888,
              "#fdca26"
             ],
             [
              1,
              "#f0f921"
             ]
            ],
            "type": "surface"
           }
          ],
          "table": [
           {
            "cells": {
             "fill": {
              "color": "#506784"
             },
             "line": {
              "color": "rgb(17,17,17)"
             }
            },
            "header": {
             "fill": {
              "color": "#2a3f5f"
             },
             "line": {
              "color": "rgb(17,17,17)"
             }
            },
            "type": "table"
           }
          ]
         },
         "layout": {
          "annotationdefaults": {
           "arrowcolor": "#f2f5fa",
           "arrowhead": 0,
           "arrowwidth": 1
          },
          "autotypenumbers": "strict",
          "coloraxis": {
           "colorbar": {
            "outlinewidth": 0,
            "ticks": ""
           }
          },
          "colorscale": {
           "diverging": [
            [
             0,
             "#8e0152"
            ],
            [
             0.1,
             "#c51b7d"
            ],
            [
             0.2,
             "#de77ae"
            ],
            [
             0.3,
             "#f1b6da"
            ],
            [
             0.4,
             "#fde0ef"
            ],
            [
             0.5,
             "#f7f7f7"
            ],
            [
             0.6,
             "#e6f5d0"
            ],
            [
             0.7,
             "#b8e186"
            ],
            [
             0.8,
             "#7fbc41"
            ],
            [
             0.9,
             "#4d9221"
            ],
            [
             1,
             "#276419"
            ]
           ],
           "sequential": [
            [
             0,
             "#0d0887"
            ],
            [
             0.1111111111111111,
             "#46039f"
            ],
            [
             0.2222222222222222,
             "#7201a8"
            ],
            [
             0.3333333333333333,
             "#9c179e"
            ],
            [
             0.4444444444444444,
             "#bd3786"
            ],
            [
             0.5555555555555556,
             "#d8576b"
            ],
            [
             0.6666666666666666,
             "#ed7953"
            ],
            [
             0.7777777777777778,
             "#fb9f3a"
            ],
            [
             0.8888888888888888,
             "#fdca26"
            ],
            [
             1,
             "#f0f921"
            ]
           ],
           "sequentialminus": [
            [
             0,
             "#0d0887"
            ],
            [
             0.1111111111111111,
             "#46039f"
            ],
            [
             0.2222222222222222,
             "#7201a8"
            ],
            [
             0.3333333333333333,
             "#9c179e"
            ],
            [
             0.4444444444444444,
             "#bd3786"
            ],
            [
             0.5555555555555556,
             "#d8576b"
            ],
            [
             0.6666666666666666,
             "#ed7953"
            ],
            [
             0.7777777777777778,
             "#fb9f3a"
            ],
            [
             0.8888888888888888,
             "#fdca26"
            ],
            [
             1,
             "#f0f921"
            ]
           ]
          },
          "colorway": [
           "#636efa",
           "#EF553B",
           "#00cc96",
           "#ab63fa",
           "#FFA15A",
           "#19d3f3",
           "#FF6692",
           "#B6E880",
           "#FF97FF",
           "#FECB52"
          ],
          "font": {
           "color": "#f2f5fa"
          },
          "geo": {
           "bgcolor": "rgb(17,17,17)",
           "lakecolor": "rgb(17,17,17)",
           "landcolor": "rgb(17,17,17)",
           "showlakes": true,
           "showland": true,
           "subunitcolor": "#506784"
          },
          "hoverlabel": {
           "align": "left"
          },
          "hovermode": "closest",
          "mapbox": {
           "style": "dark"
          },
          "paper_bgcolor": "rgb(17,17,17)",
          "plot_bgcolor": "rgb(17,17,17)",
          "polar": {
           "angularaxis": {
            "gridcolor": "#506784",
            "linecolor": "#506784",
            "ticks": ""
           },
           "bgcolor": "rgb(17,17,17)",
           "radialaxis": {
            "gridcolor": "#506784",
            "linecolor": "#506784",
            "ticks": ""
           }
          },
          "scene": {
           "xaxis": {
            "backgroundcolor": "rgb(17,17,17)",
            "gridcolor": "#506784",
            "gridwidth": 2,
            "linecolor": "#506784",
            "showbackground": true,
            "ticks": "",
            "zerolinecolor": "#C8D4E3"
           },
           "yaxis": {
            "backgroundcolor": "rgb(17,17,17)",
            "gridcolor": "#506784",
            "gridwidth": 2,
            "linecolor": "#506784",
            "showbackground": true,
            "ticks": "",
            "zerolinecolor": "#C8D4E3"
           },
           "zaxis": {
            "backgroundcolor": "rgb(17,17,17)",
            "gridcolor": "#506784",
            "gridwidth": 2,
            "linecolor": "#506784",
            "showbackground": true,
            "ticks": "",
            "zerolinecolor": "#C8D4E3"
           }
          },
          "shapedefaults": {
           "line": {
            "color": "#f2f5fa"
           }
          },
          "sliderdefaults": {
           "bgcolor": "#C8D4E3",
           "bordercolor": "rgb(17,17,17)",
           "borderwidth": 1,
           "tickwidth": 0
          },
          "ternary": {
           "aaxis": {
            "gridcolor": "#506784",
            "linecolor": "#506784",
            "ticks": ""
           },
           "baxis": {
            "gridcolor": "#506784",
            "linecolor": "#506784",
            "ticks": ""
           },
           "bgcolor": "rgb(17,17,17)",
           "caxis": {
            "gridcolor": "#506784",
            "linecolor": "#506784",
            "ticks": ""
           }
          },
          "title": {
           "x": 0.05
          },
          "updatemenudefaults": {
           "bgcolor": "#506784",
           "borderwidth": 0
          },
          "xaxis": {
           "automargin": true,
           "gridcolor": "#283442",
           "linecolor": "#506784",
           "ticks": "",
           "title": {
            "standoff": 15
           },
           "zerolinecolor": "#283442",
           "zerolinewidth": 2
          },
          "yaxis": {
           "automargin": true,
           "gridcolor": "#283442",
           "linecolor": "#506784",
           "ticks": "",
           "title": {
            "standoff": 15
           },
           "zerolinecolor": "#283442",
           "zerolinewidth": 2
          }
         }
        },
        "updatemenus": [
         {
          "buttons": [
           {
            "args": [
             null,
             {
              "frame": {
               "duration": 500,
               "redraw": true
              },
              "fromcurrent": true,
              "mode": "immediate",
              "transition": {
               "duration": 500,
               "easing": "linear"
              }
             }
            ],
            "label": "&#9654;",
            "method": "animate"
           },
           {
            "args": [
             [
              null
             ],
             {
              "frame": {
               "duration": 0,
               "redraw": true
              },
              "fromcurrent": true,
              "mode": "immediate",
              "transition": {
               "duration": 0,
               "easing": "linear"
              }
             }
            ],
            "label": "&#9724;",
            "method": "animate"
           }
          ],
          "direction": "left",
          "pad": {
           "r": 10,
           "t": 70
          },
          "showactive": false,
          "type": "buttons",
          "x": 0.1,
          "xanchor": "right",
          "y": 0,
          "yanchor": "top"
         }
        ],
        "xaxis": {
         "anchor": "y",
         "domain": [
          0,
          1
         ],
         "title": {
          "text": "Country"
         }
        },
        "yaxis": {
         "anchor": "x",
         "domain": [
          0,
          1
         ],
         "range": [
          0,
          338568
         ],
         "title": {
          "text": "Cases"
         }
        }
       }
      }
     },
     "metadata": {}
    }
   ],
   "source": [
    "# Based on number of deaths\n",
    "animated_barchart(deaths_global,\"deaths\")"
   ]
  },
  {
   "cell_type": "code",
   "execution_count": 4,
   "metadata": {},
   "outputs": [
    {
     "output_type": "display_data",
     "data": {
      "application/vnd.plotly.v1+json": {
       "config": {
        "plotlyServerURL": "https://plotly.com"
       },
       "data": [
        {
         "alignmentgroup": "True",
         "hovertemplate": "Date=1/24/20<br>Country=%{x}<br>Cases=%{y}<extra></extra>",
         "ids": [
          "Argentina",
          "Brazil",
          "Colombia",
          "Germany",
          "India",
          "Italy",
          "Mexico",
          "Poland",
          "Russia",
          "Turkey"
         ],
         "legendgroup": "",
         "marker": {
          "color": "#42f587"
         },
         "name": "",
         "offsetgroup": "",
         "orientation": "v",
         "showlegend": false,
         "textposition": "auto",
         "type": "bar",
         "x": [
          "Argentina",
          "Brazil",
          "Colombia",
          "Germany",
          "India",
          "Italy",
          "Mexico",
          "Poland",
          "Russia",
          "Turkey"
         ],
         "xaxis": "x",
         "y": [
          0,
          0,
          0,
          0,
          0,
          0,
          0,
          0,
          0,
          0
         ],
         "yaxis": "y"
        }
       ],
       "frames": [
        {
         "data": [
          {
           "alignmentgroup": "True",
           "hovertemplate": "Date=1/24/20<br>Country=%{x}<br>Cases=%{y}<extra></extra>",
           "ids": [
            "Argentina",
            "Brazil",
            "Colombia",
            "Germany",
            "India",
            "Italy",
            "Mexico",
            "Poland",
            "Russia",
            "Turkey"
           ],
           "legendgroup": "",
           "marker": {
            "color": "#42f587"
           },
           "name": "",
           "offsetgroup": "",
           "orientation": "v",
           "showlegend": false,
           "textposition": "auto",
           "type": "bar",
           "x": [
            "Argentina",
            "Brazil",
            "Colombia",
            "Germany",
            "India",
            "Italy",
            "Mexico",
            "Poland",
            "Russia",
            "Turkey"
           ],
           "xaxis": "x",
           "y": [
            0,
            0,
            0,
            0,
            0,
            0,
            0,
            0,
            0,
            0
           ],
           "yaxis": "y"
          }
         ],
         "name": "1/24/20"
        },
        {
         "data": [
          {
           "alignmentgroup": "True",
           "hovertemplate": "Date=1/29/20<br>Country=%{x}<br>Cases=%{y}<extra></extra>",
           "ids": [
            "Argentina",
            "Brazil",
            "Colombia",
            "Germany",
            "India",
            "Italy",
            "Mexico",
            "Poland",
            "Russia",
            "Turkey"
           ],
           "legendgroup": "",
           "marker": {
            "color": "#42f587"
           },
           "name": "",
           "offsetgroup": "",
           "orientation": "v",
           "showlegend": false,
           "textposition": "auto",
           "type": "bar",
           "x": [
            "Argentina",
            "Brazil",
            "Colombia",
            "Germany",
            "India",
            "Italy",
            "Mexico",
            "Poland",
            "Russia",
            "Turkey"
           ],
           "xaxis": "x",
           "y": [
            0,
            0,
            0,
            0,
            0,
            0,
            0,
            0,
            0,
            0
           ],
           "yaxis": "y"
          }
         ],
         "name": "1/29/20"
        },
        {
         "data": [
          {
           "alignmentgroup": "True",
           "hovertemplate": "Date=2/3/20<br>Country=%{x}<br>Cases=%{y}<extra></extra>",
           "ids": [
            "Argentina",
            "Brazil",
            "Colombia",
            "Germany",
            "India",
            "Italy",
            "Mexico",
            "Poland",
            "Russia",
            "Turkey"
           ],
           "legendgroup": "",
           "marker": {
            "color": "#42f587"
           },
           "name": "",
           "offsetgroup": "",
           "orientation": "v",
           "showlegend": false,
           "textposition": "auto",
           "type": "bar",
           "x": [
            "Argentina",
            "Brazil",
            "Colombia",
            "Germany",
            "India",
            "Italy",
            "Mexico",
            "Poland",
            "Russia",
            "Turkey"
           ],
           "xaxis": "x",
           "y": [
            0,
            0,
            0,
            0,
            0,
            0,
            0,
            0,
            0,
            0
           ],
           "yaxis": "y"
          }
         ],
         "name": "2/3/20"
        },
        {
         "data": [
          {
           "alignmentgroup": "True",
           "hovertemplate": "Date=2/8/20<br>Country=%{x}<br>Cases=%{y}<extra></extra>",
           "ids": [
            "Argentina",
            "Brazil",
            "Colombia",
            "Germany",
            "India",
            "Italy",
            "Mexico",
            "Poland",
            "Russia",
            "Turkey"
           ],
           "legendgroup": "",
           "marker": {
            "color": "#42f587"
           },
           "name": "",
           "offsetgroup": "",
           "orientation": "v",
           "showlegend": false,
           "textposition": "auto",
           "type": "bar",
           "x": [
            "Argentina",
            "Brazil",
            "Colombia",
            "Germany",
            "India",
            "Italy",
            "Mexico",
            "Poland",
            "Russia",
            "Turkey"
           ],
           "xaxis": "x",
           "y": [
            0,
            0,
            0,
            0,
            0,
            0,
            0,
            0,
            0,
            0
           ],
           "yaxis": "y"
          }
         ],
         "name": "2/8/20"
        },
        {
         "data": [
          {
           "alignmentgroup": "True",
           "hovertemplate": "Date=2/11/20<br>Country=%{x}<br>Cases=%{y}<extra></extra>",
           "ids": [
            "Argentina",
            "Brazil",
            "Colombia",
            "Germany",
            "India",
            "Italy",
            "Mexico",
            "Poland",
            "Russia",
            "Turkey"
           ],
           "legendgroup": "",
           "marker": {
            "color": "#42f587"
           },
           "name": "",
           "offsetgroup": "",
           "orientation": "v",
           "showlegend": false,
           "textposition": "auto",
           "type": "bar",
           "x": [
            "Argentina",
            "Brazil",
            "Colombia",
            "Germany",
            "India",
            "Italy",
            "Mexico",
            "Poland",
            "Russia",
            "Turkey"
           ],
           "xaxis": "x",
           "y": [
            0,
            0,
            0,
            0,
            0,
            0,
            0,
            0,
            0,
            0
           ],
           "yaxis": "y"
          }
         ],
         "name": "2/11/20"
        },
        {
         "data": [
          {
           "alignmentgroup": "True",
           "hovertemplate": "Date=2/16/20<br>Country=%{x}<br>Cases=%{y}<extra></extra>",
           "ids": [
            "Argentina",
            "Brazil",
            "Colombia",
            "Germany",
            "India",
            "Italy",
            "Mexico",
            "Poland",
            "Russia",
            "Turkey"
           ],
           "legendgroup": "",
           "marker": {
            "color": "#42f587"
           },
           "name": "",
           "offsetgroup": "",
           "orientation": "v",
           "showlegend": false,
           "textposition": "auto",
           "type": "bar",
           "x": [
            "Argentina",
            "Brazil",
            "Colombia",
            "Germany",
            "India",
            "Italy",
            "Mexico",
            "Poland",
            "Russia",
            "Turkey"
           ],
           "xaxis": "x",
           "y": [
            0,
            0,
            0,
            1,
            3,
            0,
            0,
            0,
            2,
            0
           ],
           "yaxis": "y"
          }
         ],
         "name": "2/16/20"
        },
        {
         "data": [
          {
           "alignmentgroup": "True",
           "hovertemplate": "Date=2/20/20<br>Country=%{x}<br>Cases=%{y}<extra></extra>",
           "ids": [
            "Argentina",
            "Brazil",
            "Colombia",
            "Germany",
            "India",
            "Italy",
            "Mexico",
            "Poland",
            "Russia",
            "Turkey"
           ],
           "legendgroup": "",
           "marker": {
            "color": "#42f587"
           },
           "name": "",
           "offsetgroup": "",
           "orientation": "v",
           "showlegend": false,
           "textposition": "auto",
           "type": "bar",
           "x": [
            "Argentina",
            "Brazil",
            "Colombia",
            "Germany",
            "India",
            "Italy",
            "Mexico",
            "Poland",
            "Russia",
            "Turkey"
           ],
           "xaxis": "x",
           "y": [
            0,
            0,
            0,
            12,
            3,
            0,
            0,
            0,
            2,
            0
           ],
           "yaxis": "y"
          }
         ],
         "name": "2/20/20"
        },
        {
         "data": [
          {
           "alignmentgroup": "True",
           "hovertemplate": "Date=2/25/20<br>Country=%{x}<br>Cases=%{y}<extra></extra>",
           "ids": [
            "Argentina",
            "Brazil",
            "Colombia",
            "Germany",
            "India",
            "Italy",
            "Mexico",
            "Poland",
            "Russia",
            "Turkey"
           ],
           "legendgroup": "",
           "marker": {
            "color": "#42f587"
           },
           "name": "",
           "offsetgroup": "",
           "orientation": "v",
           "showlegend": false,
           "textposition": "auto",
           "type": "bar",
           "x": [
            "Argentina",
            "Brazil",
            "Colombia",
            "Germany",
            "India",
            "Italy",
            "Mexico",
            "Poland",
            "Russia",
            "Turkey"
           ],
           "xaxis": "x",
           "y": [
            0,
            0,
            0,
            14,
            3,
            1,
            0,
            0,
            2,
            0
           ],
           "yaxis": "y"
          }
         ],
         "name": "2/25/20"
        },
        {
         "data": [
          {
           "alignmentgroup": "True",
           "hovertemplate": "Date=3/7/20<br>Country=%{x}<br>Cases=%{y}<extra></extra>",
           "ids": [
            "Argentina",
            "Brazil",
            "Colombia",
            "Germany",
            "India",
            "Italy",
            "Mexico",
            "Poland",
            "Russia",
            "Turkey"
           ],
           "legendgroup": "",
           "marker": {
            "color": "#42f587"
           },
           "name": "",
           "offsetgroup": "",
           "orientation": "v",
           "showlegend": false,
           "textposition": "auto",
           "type": "bar",
           "x": [
            "Argentina",
            "Brazil",
            "Colombia",
            "Germany",
            "India",
            "Italy",
            "Mexico",
            "Poland",
            "Russia",
            "Turkey"
           ],
           "xaxis": "x",
           "y": [
            0,
            0,
            0,
            18,
            3,
            589,
            1,
            0,
            2,
            0
           ],
           "yaxis": "y"
          }
         ],
         "name": "3/7/20"
        },
        {
         "data": [
          {
           "alignmentgroup": "True",
           "hovertemplate": "Date=3/12/20<br>Country=%{x}<br>Cases=%{y}<extra></extra>",
           "ids": [
            "Argentina",
            "Brazil",
            "Colombia",
            "Germany",
            "India",
            "Italy",
            "Mexico",
            "Poland",
            "Russia",
            "Turkey"
           ],
           "legendgroup": "",
           "marker": {
            "color": "#42f587"
           },
           "name": "",
           "offsetgroup": "",
           "orientation": "v",
           "showlegend": false,
           "textposition": "auto",
           "type": "bar",
           "x": [
            "Argentina",
            "Brazil",
            "Colombia",
            "Germany",
            "India",
            "Italy",
            "Mexico",
            "Poland",
            "Russia",
            "Turkey"
           ],
           "xaxis": "x",
           "y": [
            0,
            0,
            0,
            25,
            4,
            1045,
            4,
            0,
            3,
            0
           ],
           "yaxis": "y"
          }
         ],
         "name": "3/12/20"
        },
        {
         "data": [
          {
           "alignmentgroup": "True",
           "hovertemplate": "Date=3/17/20<br>Country=%{x}<br>Cases=%{y}<extra></extra>",
           "ids": [
            "Argentina",
            "Brazil",
            "Colombia",
            "Germany",
            "India",
            "Italy",
            "Mexico",
            "Poland",
            "Russia",
            "Turkey"
           ],
           "legendgroup": "",
           "marker": {
            "color": "#42f587"
           },
           "name": "",
           "offsetgroup": "",
           "orientation": "v",
           "showlegend": false,
           "textposition": "auto",
           "type": "bar",
           "x": [
            "Argentina",
            "Brazil",
            "Colombia",
            "Germany",
            "India",
            "Italy",
            "Mexico",
            "Poland",
            "Russia",
            "Turkey"
           ],
           "xaxis": "x",
           "y": [
            3,
            2,
            1,
            67,
            14,
            2941,
            4,
            13,
            8,
            0
           ],
           "yaxis": "y"
          }
         ],
         "name": "3/17/20"
        },
        {
         "data": [
          {
           "alignmentgroup": "True",
           "hovertemplate": "Date=3/21/20<br>Country=%{x}<br>Cases=%{y}<extra></extra>",
           "ids": [
            "Argentina",
            "Brazil",
            "Colombia",
            "Germany",
            "India",
            "Italy",
            "Mexico",
            "Poland",
            "Russia",
            "Turkey"
           ],
           "legendgroup": "",
           "marker": {
            "color": "#42f587"
           },
           "name": "",
           "offsetgroup": "",
           "orientation": "v",
           "showlegend": false,
           "textposition": "auto",
           "type": "bar",
           "x": [
            "Argentina",
            "Brazil",
            "Colombia",
            "Germany",
            "India",
            "Italy",
            "Mexico",
            "Poland",
            "Russia",
            "Turkey"
           ],
           "xaxis": "x",
           "y": [
            3,
            2,
            1,
            233,
            23,
            6072,
            4,
            1,
            12,
            0
           ],
           "yaxis": "y"
          }
         ],
         "name": "3/21/20"
        },
        {
         "data": [
          {
           "alignmentgroup": "True",
           "hovertemplate": "Date=3/26/20<br>Country=%{x}<br>Cases=%{y}<extra></extra>",
           "ids": [
            "Argentina",
            "Brazil",
            "Colombia",
            "Germany",
            "India",
            "Italy",
            "Mexico",
            "Poland",
            "Russia",
            "Turkey"
           ],
           "legendgroup": "",
           "marker": {
            "color": "#42f587"
           },
           "name": "",
           "offsetgroup": "",
           "orientation": "v",
           "showlegend": false,
           "textposition": "auto",
           "type": "bar",
           "x": [
            "Argentina",
            "Brazil",
            "Colombia",
            "Germany",
            "India",
            "Italy",
            "Mexico",
            "Poland",
            "Russia",
            "Turkey"
           ],
           "xaxis": "x",
           "y": [
            63,
            6,
            8,
            5673,
            45,
            10361,
            4,
            7,
            38,
            26
           ],
           "yaxis": "y"
          }
         ],
         "name": "3/26/20"
        },
        {
         "data": [
          {
           "alignmentgroup": "True",
           "hovertemplate": "Date=3/30/20<br>Country=%{x}<br>Cases=%{y}<extra></extra>",
           "ids": [
            "Argentina",
            "Brazil",
            "Colombia",
            "Germany",
            "India",
            "Italy",
            "Mexico",
            "Poland",
            "Russia",
            "Turkey"
           ],
           "legendgroup": "",
           "marker": {
            "color": "#42f587"
           },
           "name": "",
           "offsetgroup": "",
           "orientation": "v",
           "showlegend": false,
           "textposition": "auto",
           "type": "bar",
           "x": [
            "Argentina",
            "Brazil",
            "Colombia",
            "Germany",
            "India",
            "Italy",
            "Mexico",
            "Poland",
            "Russia",
            "Turkey"
           ],
           "xaxis": "x",
           "y": [
            228,
            120,
            15,
            13500,
            102,
            14620,
            35,
            7,
            66,
            162
           ],
           "yaxis": "y"
          }
         ],
         "name": "3/30/20"
        },
        {
         "data": [
          {
           "alignmentgroup": "True",
           "hovertemplate": "Date=4/3/20<br>Country=%{x}<br>Cases=%{y}<extra></extra>",
           "ids": [
            "Argentina",
            "Brazil",
            "Colombia",
            "Germany",
            "India",
            "Italy",
            "Mexico",
            "Poland",
            "Russia",
            "Turkey"
           ],
           "legendgroup": "",
           "marker": {
            "color": "#42f587"
           },
           "name": "",
           "offsetgroup": "",
           "orientation": "v",
           "showlegend": false,
           "textposition": "auto",
           "type": "bar",
           "x": [
            "Argentina",
            "Brazil",
            "Colombia",
            "Germany",
            "India",
            "Italy",
            "Mexico",
            "Poland",
            "Russia",
            "Turkey"
           ],
           "xaxis": "x",
           "y": [
            266,
            127,
            55,
            24575,
            192,
            19758,
            633,
            56,
            281,
            484
           ],
           "yaxis": "y"
          }
         ],
         "name": "4/3/20"
        },
        {
         "data": [
          {
           "alignmentgroup": "True",
           "hovertemplate": "Date=4/7/20<br>Country=%{x}<br>Cases=%{y}<extra></extra>",
           "ids": [
            "Argentina",
            "Brazil",
            "Colombia",
            "Germany",
            "India",
            "Italy",
            "Mexico",
            "Poland",
            "Russia",
            "Turkey"
           ],
           "legendgroup": "",
           "marker": {
            "color": "#42f587"
           },
           "name": "",
           "offsetgroup": "",
           "orientation": "v",
           "showlegend": false,
           "textposition": "auto",
           "type": "bar",
           "x": [
            "Argentina",
            "Brazil",
            "Colombia",
            "Germany",
            "India",
            "Italy",
            "Mexico",
            "Poland",
            "Russia",
            "Turkey"
           ],
           "xaxis": "x",
           "y": [
            338,
            127,
            100,
            36081,
            421,
            24392,
            633,
            191,
            494,
            1582
           ],
           "yaxis": "y"
          }
         ],
         "name": "4/7/20"
        },
        {
         "data": [
          {
           "alignmentgroup": "True",
           "hovertemplate": "Date=4/11/20<br>Country=%{x}<br>Cases=%{y}<extra></extra>",
           "ids": [
            "Argentina",
            "Brazil",
            "Colombia",
            "Germany",
            "India",
            "Italy",
            "Mexico",
            "Poland",
            "Russia",
            "Turkey"
           ],
           "legendgroup": "",
           "marker": {
            "color": "#42f587"
           },
           "name": "",
           "offsetgroup": "",
           "orientation": "v",
           "showlegend": false,
           "textposition": "auto",
           "type": "bar",
           "x": [
            "Argentina",
            "Brazil",
            "Colombia",
            "Germany",
            "India",
            "Italy",
            "Mexico",
            "Poland",
            "Russia",
            "Turkey"
           ],
           "xaxis": "x",
           "y": [
            440,
            173,
            214,
            57400,
            969,
            32534,
            633,
            375,
            1045,
            2965
           ],
           "yaxis": "y"
          }
         ],
         "name": "4/11/20"
        },
        {
         "data": [
          {
           "alignmentgroup": "True",
           "hovertemplate": "Date=4/16/20<br>Country=%{x}<br>Cases=%{y}<extra></extra>",
           "ids": [
            "Argentina",
            "Brazil",
            "Colombia",
            "Germany",
            "India",
            "Italy",
            "Mexico",
            "Poland",
            "Russia",
            "Turkey"
           ],
           "legendgroup": "",
           "marker": {
            "color": "#42f587"
           },
           "name": "",
           "offsetgroup": "",
           "orientation": "v",
           "showlegend": false,
           "textposition": "auto",
           "type": "bar",
           "x": [
            "Argentina",
            "Brazil",
            "Colombia",
            "Germany",
            "India",
            "Italy",
            "Mexico",
            "Poland",
            "Russia",
            "Turkey"
           ],
           "xaxis": "x",
           "y": [
            631,
            14026,
            550,
            77000,
            1768,
            40164,
            2125,
            774,
            2304,
            7089
           ],
           "yaxis": "y"
          }
         ],
         "name": "4/16/20"
        },
        {
         "data": [
          {
           "alignmentgroup": "True",
           "hovertemplate": "Date=4/20/20<br>Country=%{x}<br>Cases=%{y}<extra></extra>",
           "ids": [
            "Argentina",
            "Brazil",
            "Colombia",
            "Germany",
            "India",
            "Italy",
            "Mexico",
            "Poland",
            "Russia",
            "Turkey"
           ],
           "legendgroup": "",
           "marker": {
            "color": "#42f587"
           },
           "name": "",
           "offsetgroup": "",
           "orientation": "v",
           "showlegend": false,
           "textposition": "auto",
           "type": "bar",
           "x": [
            "Argentina",
            "Brazil",
            "Colombia",
            "Germany",
            "India",
            "Italy",
            "Mexico",
            "Poland",
            "Russia",
            "Turkey"
           ],
           "xaxis": "x",
           "y": [
            737,
            22130,
            804,
            91500,
            3273,
            48877,
            2627,
            1133,
            3446,
            13430
           ],
           "yaxis": "y"
          }
         ],
         "name": "4/20/20"
        },
        {
         "data": [
          {
           "alignmentgroup": "True",
           "hovertemplate": "Date=4/25/20<br>Country=%{x}<br>Cases=%{y}<extra></extra>",
           "ids": [
            "Argentina",
            "Brazil",
            "Colombia",
            "Germany",
            "India",
            "Italy",
            "Mexico",
            "Poland",
            "Russia",
            "Turkey"
           ],
           "legendgroup": "",
           "marker": {
            "color": "#42f587"
           },
           "name": "",
           "offsetgroup": "",
           "orientation": "v",
           "showlegend": false,
           "textposition": "auto",
           "type": "bar",
           "x": [
            "Argentina",
            "Brazil",
            "Colombia",
            "Germany",
            "India",
            "Italy",
            "Mexico",
            "Poland",
            "Russia",
            "Turkey"
           ],
           "xaxis": "x",
           "y": [
            1030,
            29160,
            1067,
            109800,
            5939,
            63120,
            7149,
            2126,
            6250,
            25582
           ],
           "yaxis": "y"
          }
         ],
         "name": "4/25/20"
        },
        {
         "data": [
          {
           "alignmentgroup": "True",
           "hovertemplate": "Date=5/3/20<br>Country=%{x}<br>Cases=%{y}<extra></extra>",
           "ids": [
            "Argentina",
            "Brazil",
            "Colombia",
            "Germany",
            "India",
            "Italy",
            "Mexico",
            "Poland",
            "Russia",
            "Turkey"
           ],
           "legendgroup": "",
           "marker": {
            "color": "#42f587"
           },
           "name": "",
           "offsetgroup": "",
           "orientation": "v",
           "showlegend": false,
           "textposition": "auto",
           "type": "bar",
           "x": [
            "Argentina",
            "Brazil",
            "Colombia",
            "Germany",
            "India",
            "Italy",
            "Mexico",
            "Poland",
            "Russia",
            "Turkey"
           ],
           "xaxis": "x",
           "y": [
            1354,
            42991,
            1722,
            130600,
            11775,
            81654,
            13447,
            3945,
            16639,
            63151
           ],
           "yaxis": "y"
          }
         ],
         "name": "5/3/20"
        },
        {
         "data": [
          {
           "alignmentgroup": "True",
           "hovertemplate": "Date=5/6/20<br>Country=%{x}<br>Cases=%{y}<extra></extra>",
           "ids": [
            "Argentina",
            "Brazil",
            "Colombia",
            "Germany",
            "India",
            "Italy",
            "Mexico",
            "Poland",
            "Russia",
            "Turkey"
           ],
           "legendgroup": "",
           "marker": {
            "color": "#42f587"
           },
           "name": "",
           "offsetgroup": "",
           "orientation": "v",
           "showlegend": false,
           "textposition": "auto",
           "type": "bar",
           "x": [
            "Argentina",
            "Brazil",
            "Colombia",
            "Germany",
            "India",
            "Italy",
            "Mexico",
            "Poland",
            "Russia",
            "Turkey"
           ],
           "xaxis": "x",
           "y": [
            1524,
            51370,
            2148,
            139900,
            15331,
            93245,
            17781,
            4655,
            21327,
            78202
           ],
           "yaxis": "y"
          }
         ],
         "name": "5/6/20"
        },
        {
         "data": [
          {
           "alignmentgroup": "True",
           "hovertemplate": "Date=5/11/20<br>Country=%{x}<br>Cases=%{y}<extra></extra>",
           "ids": [
            "Argentina",
            "Brazil",
            "Colombia",
            "Germany",
            "India",
            "Italy",
            "Mexico",
            "Poland",
            "Russia",
            "Turkey"
           ],
           "legendgroup": "",
           "marker": {
            "color": "#42f587"
           },
           "name": "",
           "offsetgroup": "",
           "orientation": "v",
           "showlegend": false,
           "textposition": "auto",
           "type": "bar",
           "x": [
            "Argentina",
            "Brazil",
            "Colombia",
            "Germany",
            "India",
            "Italy",
            "Mexico",
            "Poland",
            "Russia",
            "Turkey"
           ],
           "xaxis": "x",
           "y": [
            1837,
            67384,
            2825,
            145617,
            22549,
            106587,
            23100,
            5816,
            39801,
            95780
           ],
           "yaxis": "y"
          }
         ],
         "name": "5/11/20"
        },
        {
         "data": [
          {
           "alignmentgroup": "True",
           "hovertemplate": "Date=5/16/20<br>Country=%{x}<br>Cases=%{y}<extra></extra>",
           "ids": [
            "Argentina",
            "Brazil",
            "Colombia",
            "Germany",
            "India",
            "Italy",
            "Mexico",
            "Poland",
            "Russia",
            "Turkey"
           ],
           "legendgroup": "",
           "marker": {
            "color": "#42f587"
           },
           "name": "",
           "offsetgroup": "",
           "orientation": "v",
           "showlegend": false,
           "textposition": "auto",
           "type": "bar",
           "x": [
            "Argentina",
            "Brazil",
            "Colombia",
            "Germany",
            "India",
            "Italy",
            "Mexico",
            "Poland",
            "Russia",
            "Turkey"
           ],
           "xaxis": "x",
           "y": [
            2534,
            89672,
            3587,
            152600,
            34224,
            122810,
            31848,
            7175,
            63166,
            108137
           ],
           "yaxis": "y"
          }
         ],
         "name": "5/16/20"
        },
        {
         "data": [
          {
           "alignmentgroup": "True",
           "hovertemplate": "Date=5/20/20<br>Country=%{x}<br>Cases=%{y}<extra></extra>",
           "ids": [
            "Argentina",
            "Brazil",
            "Colombia",
            "Germany",
            "India",
            "Italy",
            "Mexico",
            "Poland",
            "Russia",
            "Turkey"
           ],
           "legendgroup": "",
           "marker": {
            "color": "#42f587"
           },
           "name": "",
           "offsetgroup": "",
           "orientation": "v",
           "showlegend": false,
           "textposition": "auto",
           "type": "bar",
           "x": [
            "Argentina",
            "Brazil",
            "Colombia",
            "Germany",
            "India",
            "Italy",
            "Mexico",
            "Poland",
            "Russia",
            "Turkey"
           ],
           "xaxis": "x",
           "y": [
            2933,
            116683,
            4256,
            156966,
            45422,
            132282,
            38419,
            8183,
            85392,
            113987
           ],
           "yaxis": "y"
          }
         ],
         "name": "5/20/20"
        },
        {
         "data": [
          {
           "alignmentgroup": "True",
           "hovertemplate": "Date=5/25/20<br>Country=%{x}<br>Cases=%{y}<extra></extra>",
           "ids": [
            "Argentina",
            "Brazil",
            "Colombia",
            "Germany",
            "India",
            "Italy",
            "Mexico",
            "Poland",
            "Russia",
            "Turkey"
           ],
           "legendgroup": "",
           "marker": {
            "color": "#42f587"
           },
           "name": "",
           "offsetgroup": "",
           "orientation": "v",
           "showlegend": false,
           "textposition": "auto",
           "type": "bar",
           "x": [
            "Argentina",
            "Brazil",
            "Colombia",
            "Germany",
            "India",
            "Italy",
            "Mexico",
            "Poland",
            "Russia",
            "Turkey"
           ],
           "xaxis": "x",
           "y": [
            3999,
            153833,
            5265,
            161199,
            60706,
            141981,
            49452,
            9276,
            118798,
            120015
           ],
           "yaxis": "y"
          }
         ],
         "name": "5/25/20"
        },
        {
         "data": [
          {
           "alignmentgroup": "True",
           "hovertemplate": "Date=6/2/20<br>Country=%{x}<br>Cases=%{y}<extra></extra>",
           "ids": [
            "Argentina",
            "Brazil",
            "Colombia",
            "Germany",
            "India",
            "Italy",
            "Mexico",
            "Poland",
            "Russia",
            "Turkey"
           ],
           "legendgroup": "",
           "marker": {
            "color": "#42f587"
           },
           "name": "",
           "offsetgroup": "",
           "orientation": "v",
           "showlegend": false,
           "textposition": "auto",
           "type": "bar",
           "x": [
            "Argentina",
            "Brazil",
            "Colombia",
            "Germany",
            "India",
            "Italy",
            "Mexico",
            "Poland",
            "Russia",
            "Turkey"
           ],
           "xaxis": "x",
           "y": [
            5709,
            223638,
            9689,
            166609,
            100285,
            160092,
            69749,
            11726,
            186602,
            129921
           ],
           "yaxis": "y"
          }
         ],
         "name": "6/2/20"
        },
        {
         "data": [
          {
           "alignmentgroup": "True",
           "hovertemplate": "Date=6/6/20<br>Country=%{x}<br>Cases=%{y}<extra></extra>",
           "ids": [
            "Argentina",
            "Brazil",
            "Colombia",
            "Germany",
            "India",
            "Italy",
            "Mexico",
            "Poland",
            "Russia",
            "Turkey"
           ],
           "legendgroup": "",
           "marker": {
            "color": "#42f587"
           },
           "name": "",
           "offsetgroup": "",
           "orientation": "v",
           "showlegend": false,
           "textposition": "auto",
           "type": "bar",
           "x": [
            "Argentina",
            "Brazil",
            "Colombia",
            "Germany",
            "India",
            "Italy",
            "Mexico",
            "Poland",
            "Russia",
            "Turkey"
           ],
           "xaxis": "x",
           "y": [
            6180,
            277149,
            13670,
            168958,
            118695,
            165078,
            80830,
            12641,
            220935,
            135322
           ],
           "yaxis": "y"
          }
         ],
         "name": "6/6/20"
        },
        {
         "data": [
          {
           "alignmentgroup": "True",
           "hovertemplate": "Date=6/10/20<br>Country=%{x}<br>Cases=%{y}<extra></extra>",
           "ids": [
            "Argentina",
            "Brazil",
            "Colombia",
            "Germany",
            "India",
            "Italy",
            "Mexico",
            "Poland",
            "Russia",
            "Turkey"
           ],
           "legendgroup": "",
           "marker": {
            "color": "#42f587"
           },
           "name": "",
           "offsetgroup": "",
           "orientation": "v",
           "showlegend": false,
           "textposition": "auto",
           "type": "bar",
           "x": [
            "Argentina",
            "Brazil",
            "Colombia",
            "Germany",
            "India",
            "Italy",
            "Mexico",
            "Poland",
            "Russia",
            "Turkey"
           ],
           "xaxis": "x",
           "y": [
            7991,
            413916,
            16566,
            170630,
            135206,
            169939,
            93930,
            13411,
            252295,
            146839
           ],
           "yaxis": "y"
          }
         ],
         "name": "6/10/20"
        },
        {
         "data": [
          {
           "alignmentgroup": "True",
           "hovertemplate": "Date=6/15/20<br>Country=%{x}<br>Cases=%{y}<extra></extra>",
           "ids": [
            "Argentina",
            "Brazil",
            "Colombia",
            "Germany",
            "India",
            "Italy",
            "Mexico",
            "Poland",
            "Russia",
            "Turkey"
           ],
           "legendgroup": "",
           "marker": {
            "color": "#42f587"
           },
           "name": "",
           "offsetgroup": "",
           "orientation": "v",
           "showlegend": false,
           "textposition": "auto",
           "type": "bar",
           "x": [
            "Argentina",
            "Brazil",
            "Colombia",
            "Germany",
            "India",
            "Italy",
            "Mexico",
            "Poland",
            "Russia",
            "Turkey"
           ],
           "xaxis": "x",
           "y": [
            9891,
            477709,
            19985,
            172692,
            180013,
            177010,
            112292,
            14383,
            284021,
            152364
           ],
           "yaxis": "y"
          }
         ],
         "name": "6/15/20"
        },
        {
         "data": [
          {
           "alignmentgroup": "True",
           "hovertemplate": "Date=6/24/20<br>Country=%{x}<br>Cases=%{y}<extra></extra>",
           "ids": [
            "Argentina",
            "Brazil",
            "Colombia",
            "Germany",
            "India",
            "Italy",
            "Mexico",
            "Poland",
            "Russia",
            "Turkey"
           ],
           "legendgroup": "",
           "marker": {
            "color": "#42f587"
           },
           "name": "",
           "offsetgroup": "",
           "orientation": "v",
           "showlegend": false,
           "textposition": "auto",
           "type": "bar",
           "x": [
            "Argentina",
            "Brazil",
            "Colombia",
            "Germany",
            "India",
            "Italy",
            "Mexico",
            "Poland",
            "Russia",
            "Turkey"
           ],
           "xaxis": "x",
           "y": [
            13816,
            660469,
            30517,
            176422,
            271697,
            186111,
            148487,
            18134,
            368222,
            164234
           ],
           "yaxis": "y"
          }
         ],
         "name": "6/24/20"
        },
        {
         "data": [
          {
           "alignmentgroup": "True",
           "hovertemplate": "Date=6/29/20<br>Country=%{x}<br>Cases=%{y}<extra></extra>",
           "ids": [
            "Argentina",
            "Brazil",
            "Colombia",
            "Germany",
            "India",
            "Italy",
            "Mexico",
            "Poland",
            "Russia",
            "Turkey"
           ],
           "legendgroup": "",
           "marker": {
            "color": "#42f587"
           },
           "name": "",
           "offsetgroup": "",
           "orientation": "v",
           "showlegend": false,
           "textposition": "auto",
           "type": "bar",
           "x": [
            "Argentina",
            "Brazil",
            "Colombia",
            "Germany",
            "India",
            "Italy",
            "Mexico",
            "Poland",
            "Russia",
            "Turkey"
           ],
           "xaxis": "x",
           "y": [
            21138,
            757811,
            38345,
            177770,
            334822,
            189196,
            170147,
            20897,
            402778,
            171809
           ],
           "yaxis": "y"
          }
         ],
         "name": "6/29/20"
        },
        {
         "data": [
          {
           "alignmentgroup": "True",
           "hovertemplate": "Date=7/2/20<br>Country=%{x}<br>Cases=%{y}<extra></extra>",
           "ids": [
            "Argentina",
            "Brazil",
            "Colombia",
            "Germany",
            "India",
            "Italy",
            "Mexico",
            "Poland",
            "Russia",
            "Turkey"
           ],
           "legendgroup": "",
           "marker": {
            "color": "#42f587"
           },
           "name": "",
           "offsetgroup": "",
           "orientation": "v",
           "showlegend": false,
           "textposition": "auto",
           "type": "bar",
           "x": [
            "Argentina",
            "Brazil",
            "Colombia",
            "Germany",
            "India",
            "Italy",
            "Mexico",
            "Poland",
            "Russia",
            "Turkey"
           ],
           "xaxis": "x",
           "y": [
            24186,
            957692,
            43481,
            179800,
            379892,
            191083,
            183757,
            22209,
            428276,
            176965
           ],
           "yaxis": "y"
          }
         ],
         "name": "7/2/20"
        },
        {
         "data": [
          {
           "alignmentgroup": "True",
           "hovertemplate": "Date=7/5/20<br>Country=%{x}<br>Cases=%{y}<extra></extra>",
           "ids": [
            "Argentina",
            "Brazil",
            "Colombia",
            "Germany",
            "India",
            "Italy",
            "Mexico",
            "Poland",
            "Russia",
            "Turkey"
           ],
           "legendgroup": "",
           "marker": {
            "color": "#42f587"
           },
           "name": "",
           "offsetgroup": "",
           "orientation": "v",
           "showlegend": false,
           "textposition": "auto",
           "type": "bar",
           "x": [
            "Argentina",
            "Brazil",
            "Colombia",
            "Germany",
            "India",
            "Italy",
            "Mexico",
            "Poland",
            "Russia",
            "Turkey"
           ],
           "xaxis": "x",
           "y": [
            27597,
            1029045,
            46643,
            181719,
            424433,
            192108,
            199914,
            23746,
            449995,
            180680
           ],
           "yaxis": "y"
          }
         ],
         "name": "7/5/20"
        },
        {
         "data": [
          {
           "alignmentgroup": "True",
           "hovertemplate": "Date=7/10/20<br>Country=%{x}<br>Cases=%{y}<extra></extra>",
           "ids": [
            "Argentina",
            "Brazil",
            "Colombia",
            "Germany",
            "India",
            "Italy",
            "Mexico",
            "Poland",
            "Russia",
            "Turkey"
           ],
           "legendgroup": "",
           "marker": {
            "color": "#42f587"
           },
           "name": "",
           "offsetgroup": "",
           "orientation": "v",
           "showlegend": false,
           "textposition": "auto",
           "type": "bar",
           "x": [
            "Argentina",
            "Brazil",
            "Colombia",
            "Germany",
            "India",
            "Italy",
            "Mexico",
            "Poland",
            "Russia",
            "Turkey"
           ],
           "xaxis": "x",
           "y": [
            38984,
            1217361,
            56272,
            184028,
            515386,
            194273,
            225356,
            26048,
            488234,
            191883
           ],
           "yaxis": "y"
          }
         ],
         "name": "7/10/20"
        },
        {
         "data": [
          {
           "alignmentgroup": "True",
           "hovertemplate": "Date=7/15/20<br>Country=%{x}<br>Cases=%{y}<extra></extra>",
           "ids": [
            "Argentina",
            "Brazil",
            "Colombia",
            "Germany",
            "India",
            "Italy",
            "Mexico",
            "Poland",
            "Russia",
            "Turkey"
           ],
           "legendgroup": "",
           "marker": {
            "color": "#42f587"
           },
           "name": "",
           "offsetgroup": "",
           "orientation": "v",
           "showlegend": false,
           "textposition": "auto",
           "type": "bar",
           "x": [
            "Argentina",
            "Brazil",
            "Colombia",
            "Germany",
            "India",
            "Italy",
            "Mexico",
            "Poland",
            "Russia",
            "Turkey"
           ],
           "xaxis": "x",
           "y": [
            47298,
            1350098,
            68806,
            186000,
            612768,
            196016,
            252368,
            28492,
            522375,
            197733
           ],
           "yaxis": "y"
          }
         ],
         "name": "7/15/20"
        },
        {
         "data": [
          {
           "alignmentgroup": "True",
           "hovertemplate": "Date=7/24/20<br>Country=%{x}<br>Cases=%{y}<extra></extra>",
           "ids": [
            "Argentina",
            "Brazil",
            "Colombia",
            "Germany",
            "India",
            "Italy",
            "Mexico",
            "Poland",
            "Russia",
            "Turkey"
           ],
           "legendgroup": "",
           "marker": {
            "color": "#42f587"
           },
           "name": "",
           "offsetgroup": "",
           "orientation": "v",
           "showlegend": false,
           "textposition": "auto",
           "type": "bar",
           "x": [
            "Argentina",
            "Brazil",
            "Colombia",
            "Germany",
            "India",
            "Italy",
            "Mexico",
            "Poland",
            "Russia",
            "Turkey"
           ],
           "xaxis": "x",
           "y": [
            65447,
            1693214,
            113864,
            189696,
            849432,
            198192,
            283382,
            31997,
            587728,
            207374
           ],
           "yaxis": "y"
          }
         ],
         "name": "7/24/20"
        },
        {
         "data": [
          {
           "alignmentgroup": "True",
           "hovertemplate": "Date=7/29/20<br>Country=%{x}<br>Cases=%{y}<extra></extra>",
           "ids": [
            "Argentina",
            "Brazil",
            "Colombia",
            "Germany",
            "India",
            "Italy",
            "Mexico",
            "Poland",
            "Russia",
            "Turkey"
           ],
           "legendgroup": "",
           "marker": {
            "color": "#42f587"
           },
           "name": "",
           "offsetgroup": "",
           "orientation": "v",
           "showlegend": false,
           "textposition": "auto",
           "type": "bar",
           "x": [
            "Argentina",
            "Brazil",
            "Colombia",
            "Germany",
            "India",
            "Italy",
            "Mexico",
            "Poland",
            "Russia",
            "Turkey"
           ],
           "xaxis": "x",
           "y": [
            77855,
            1922802,
            142777,
            191279,
            1019735,
            199031,
            314538,
            33190,
            619204,
            212557
           ],
           "yaxis": "y"
          }
         ],
         "name": "7/29/20"
        },
        {
         "data": [
          {
           "alignmentgroup": "True",
           "hovertemplate": "Date=8/1/20<br>Country=%{x}<br>Cases=%{y}<extra></extra>",
           "ids": [
            "Argentina",
            "Brazil",
            "Colombia",
            "Germany",
            "India",
            "Italy",
            "Mexico",
            "Poland",
            "Russia",
            "Turkey"
           ],
           "legendgroup": "",
           "marker": {
            "color": "#42f587"
           },
           "name": "",
           "offsetgroup": "",
           "orientation": "v",
           "showlegend": false,
           "textposition": "auto",
           "type": "bar",
           "x": [
            "Argentina",
            "Brazil",
            "Colombia",
            "Germany",
            "India",
            "Italy",
            "Mexico",
            "Poland",
            "Russia",
            "Turkey"
           ],
           "xaxis": "x",
           "y": [
            86499,
            2037982,
            160708,
            192636,
            1145629,
            200229,
            334867,
            34374,
            645316,
            215516
           ],
           "yaxis": "y"
          }
         ],
         "name": "8/1/20"
        },
        {
         "data": [
          {
           "alignmentgroup": "True",
           "hovertemplate": "Date=8/4/20<br>Country=%{x}<br>Cases=%{y}<extra></extra>",
           "ids": [
            "Argentina",
            "Brazil",
            "Colombia",
            "Germany",
            "India",
            "Italy",
            "Mexico",
            "Poland",
            "Russia",
            "Turkey"
           ],
           "legendgroup": "",
           "marker": {
            "color": "#42f587"
           },
           "name": "",
           "offsetgroup": "",
           "orientation": "v",
           "showlegend": false,
           "textposition": "auto",
           "type": "bar",
           "x": [
            "Argentina",
            "Brazil",
            "Colombia",
            "Germany",
            "India",
            "Italy",
            "Mexico",
            "Poland",
            "Russia",
            "Turkey"
           ],
           "xaxis": "x",
           "y": [
            94129,
            2157484,
            180258,
            194173,
            1282215,
            200766,
            357444,
            35056,
            660235,
            218491
           ],
           "yaxis": "y"
          }
         ],
         "name": "8/4/20"
        },
        {
         "data": [
          {
           "alignmentgroup": "True",
           "hovertemplate": "Date=8/9/20<br>Country=%{x}<br>Cases=%{y}<extra></extra>",
           "ids": [
            "Argentina",
            "Brazil",
            "Colombia",
            "Germany",
            "India",
            "Italy",
            "Mexico",
            "Poland",
            "Russia",
            "Turkey"
           ],
           "legendgroup": "",
           "marker": {
            "color": "#42f587"
           },
           "name": "",
           "offsetgroup": "",
           "orientation": "v",
           "showlegend": false,
           "textposition": "auto",
           "type": "bar",
           "x": [
            "Argentina",
            "Brazil",
            "Colombia",
            "Germany",
            "India",
            "Italy",
            "Mexico",
            "Poland",
            "Russia",
            "Turkey"
           ],
           "xaxis": "x",
           "y": [
            108242,
            2356983,
            212688,
            196783,
            1535743,
            202098,
            384432,
            36691,
            692059,
            223759
           ],
           "yaxis": "y"
          }
         ],
         "name": "8/9/20"
        },
        {
         "data": [
          {
           "alignmentgroup": "True",
           "hovertemplate": "Date=8/14/20<br>Country=%{x}<br>Cases=%{y}<extra></extra>",
           "ids": [
            "Argentina",
            "Brazil",
            "Colombia",
            "Germany",
            "India",
            "Italy",
            "Mexico",
            "Poland",
            "Russia",
            "Turkey"
           ],
           "legendgroup": "",
           "marker": {
            "color": "#42f587"
           },
           "name": "",
           "offsetgroup": "",
           "orientation": "v",
           "showlegend": false,
           "textposition": "auto",
           "type": "bar",
           "x": [
            "Argentina",
            "Brazil",
            "Colombia",
            "Germany",
            "India",
            "Italy",
            "Mexico",
            "Poland",
            "Russia",
            "Turkey"
           ],
           "xaxis": "x",
           "y": [
            199005,
            2616981,
            261293,
            200440,
            1808936,
            203326,
            410479,
            38362,
            721473,
            228980
           ],
           "yaxis": "y"
          }
         ],
         "name": "8/14/20"
        },
        {
         "data": [
          {
           "alignmentgroup": "True",
           "hovertemplate": "Date=8/19/20<br>Country=%{x}<br>Cases=%{y}<extra></extra>",
           "ids": [
            "Argentina",
            "Brazil",
            "Colombia",
            "Germany",
            "India",
            "Italy",
            "Mexico",
            "Poland",
            "Russia",
            "Turkey"
           ],
           "legendgroup": "",
           "marker": {
            "color": "#42f587"
           },
           "name": "",
           "offsetgroup": "",
           "orientation": "v",
           "showlegend": false,
           "textposition": "auto",
           "type": "bar",
           "x": [
            "Argentina",
            "Brazil",
            "Colombia",
            "Germany",
            "India",
            "Italy",
            "Mexico",
            "Poland",
            "Russia",
            "Turkey"
           ],
           "xaxis": "x",
           "y": [
            228725,
            2801931,
            326298,
            204454,
            2096664,
            204506,
            438375,
            40099,
            747802,
            233915
           ],
           "yaxis": "y"
          }
         ],
         "name": "8/19/20"
        },
        {
         "data": [
          {
           "alignmentgroup": "True",
           "hovertemplate": "Date=8/23/20<br>Country=%{x}<br>Cases=%{y}<extra></extra>",
           "ids": [
            "Argentina",
            "Brazil",
            "Colombia",
            "Germany",
            "India",
            "Italy",
            "Mexico",
            "Poland",
            "Russia",
            "Turkey"
           ],
           "legendgroup": "",
           "marker": {
            "color": "#42f587"
           },
           "name": "",
           "offsetgroup": "",
           "orientation": "v",
           "showlegend": false,
           "textposition": "auto",
           "type": "bar",
           "x": [
            "Argentina",
            "Brazil",
            "Colombia",
            "Germany",
            "India",
            "Italy",
            "Mexico",
            "Poland",
            "Russia",
            "Turkey"
           ],
           "xaxis": "x",
           "y": [
            251400,
            2947784,
            374024,
            207985,
            2338035,
            205470,
            458123,
            42183,
            768906,
            237165
           ],
           "yaxis": "y"
          }
         ],
         "name": "8/23/20"
        },
        {
         "data": [
          {
           "alignmentgroup": "True",
           "hovertemplate": "Date=8/28/20<br>Country=%{x}<br>Cases=%{y}<extra></extra>",
           "ids": [
            "Argentina",
            "Brazil",
            "Colombia",
            "Germany",
            "India",
            "Italy",
            "Mexico",
            "Poland",
            "Russia",
            "Turkey"
           ],
           "legendgroup": "",
           "marker": {
            "color": "#42f587"
           },
           "name": "",
           "offsetgroup": "",
           "orientation": "v",
           "showlegend": false,
           "textposition": "auto",
           "type": "bar",
           "x": [
            "Argentina",
            "Brazil",
            "Colombia",
            "Germany",
            "India",
            "Italy",
            "Mexico",
            "Poland",
            "Russia",
            "Turkey"
           ],
           "xaxis": "x",
           "y": [
            280165,
            3158783,
            429608,
            214186,
            2648998,
            206902,
            479770,
            44785,
            796498,
            241809
           ],
           "yaxis": "y"
          }
         ],
         "name": "8/28/20"
        },
        {
         "data": [
          {
           "alignmentgroup": "True",
           "hovertemplate": "Date=9/4/20<br>Country=%{x}<br>Cases=%{y}<extra></extra>",
           "ids": [
            "Argentina",
            "Brazil",
            "Colombia",
            "Germany",
            "India",
            "Italy",
            "Mexico",
            "Poland",
            "Russia",
            "Turkey"
           ],
           "legendgroup": "",
           "marker": {
            "color": "#42f587"
           },
           "name": "",
           "offsetgroup": "",
           "orientation": "v",
           "showlegend": false,
           "textposition": "auto",
           "type": "bar",
           "x": [
            "Argentina",
            "Brazil",
            "Colombia",
            "Germany",
            "India",
            "Italy",
            "Mexico",
            "Poland",
            "Russia",
            "Turkey"
           ],
           "xaxis": "x",
           "y": [
            331621,
            3464278,
            498221,
            222802,
            3107223,
            209027,
            514663,
            49820,
            830532,
            249108
           ],
           "yaxis": "y"
          }
         ],
         "name": "9/4/20"
        },
        {
         "data": [
          {
           "alignmentgroup": "True",
           "hovertemplate": "Date=9/9/20<br>Country=%{x}<br>Cases=%{y}<extra></extra>",
           "ids": [
            "Argentina",
            "Brazil",
            "Colombia",
            "Germany",
            "India",
            "Italy",
            "Mexico",
            "Poland",
            "Russia",
            "Turkey"
           ],
           "legendgroup": "",
           "marker": {
            "color": "#42f587"
           },
           "name": "",
           "offsetgroup": "",
           "orientation": "v",
           "showlegend": false,
           "textposition": "auto",
           "type": "bar",
           "x": [
            "Argentina",
            "Brazil",
            "Colombia",
            "Germany",
            "India",
            "Italy",
            "Mexico",
            "Poland",
            "Russia",
            "Turkey"
           ],
           "xaxis": "x",
           "y": [
            382490,
            3611632,
            552885,
            228784,
            3471783,
            211272,
            538514,
            57135,
            854069,
            254188
           ],
           "yaxis": "y"
          }
         ],
         "name": "9/9/20"
        },
        {
         "data": [
          {
           "alignmentgroup": "True",
           "hovertemplate": "Date=9/13/20<br>Country=%{x}<br>Cases=%{y}<extra></extra>",
           "ids": [
            "Argentina",
            "Brazil",
            "Colombia",
            "Germany",
            "India",
            "Italy",
            "Mexico",
            "Poland",
            "Russia",
            "Turkey"
           ],
           "legendgroup": "",
           "marker": {
            "color": "#42f587"
           },
           "name": "",
           "offsetgroup": "",
           "orientation": "v",
           "showlegend": false,
           "textposition": "auto",
           "type": "bar",
           "x": [
            "Argentina",
            "Brazil",
            "Colombia",
            "Germany",
            "India",
            "Italy",
            "Mexico",
            "Poland",
            "Russia",
            "Turkey"
           ],
           "xaxis": "x",
           "y": [
            419513,
            3723206,
            599385,
            232541,
            3780107,
            213634,
            557381,
            60659,
            873684,
            258833
           ],
           "yaxis": "y"
          }
         ],
         "name": "9/13/20"
        },
        {
         "data": [
          {
           "alignmentgroup": "True",
           "hovertemplate": "Date=9/18/20<br>Country=%{x}<br>Cases=%{y}<extra></extra>",
           "ids": [
            "Argentina",
            "Brazil",
            "Colombia",
            "Germany",
            "India",
            "Italy",
            "Mexico",
            "Poland",
            "Russia",
            "Turkey"
           ],
           "legendgroup": "",
           "marker": {
            "color": "#42f587"
           },
           "name": "",
           "offsetgroup": "",
           "orientation": "v",
           "showlegend": false,
           "textposition": "auto",
           "type": "bar",
           "x": [
            "Argentina",
            "Brazil",
            "Colombia",
            "Germany",
            "India",
            "Italy",
            "Mexico",
            "Poland",
            "Russia",
            "Turkey"
           ],
           "xaxis": "x",
           "y": [
            467286,
            3897539,
            615457,
            239654,
            4208431,
            216807,
            582109,
            63312,
            898420,
            264805
           ],
           "yaxis": "y"
          }
         ],
         "name": "9/18/20"
        },
        {
         "data": [
          {
           "alignmentgroup": "True",
           "hovertemplate": "Date=9/22/20<br>Country=%{x}<br>Cases=%{y}<extra></extra>",
           "ids": [
            "Argentina",
            "Brazil",
            "Colombia",
            "Germany",
            "India",
            "Italy",
            "Mexico",
            "Poland",
            "Russia",
            "Turkey"
           ],
           "legendgroup": "",
           "marker": {
            "color": "#42f587"
           },
           "name": "",
           "offsetgroup": "",
           "orientation": "v",
           "showlegend": false,
           "textposition": "auto",
           "type": "bar",
           "x": [
            "Argentina",
            "Brazil",
            "Colombia",
            "Germany",
            "India",
            "Italy",
            "Mexico",
            "Poland",
            "Russia",
            "Turkey"
           ],
           "xaxis": "x",
           "y": [
            517228,
            4016831,
            640900,
            244693,
            4587613,
            219670,
            598953,
            64972,
            914923,
            269696
           ],
           "yaxis": "y"
          }
         ],
         "name": "9/22/20"
        },
        {
         "data": [
          {
           "alignmentgroup": "True",
           "hovertemplate": "Date=9/27/20<br>Country=%{x}<br>Cases=%{y}<extra></extra>",
           "ids": [
            "Argentina",
            "Brazil",
            "Colombia",
            "Germany",
            "India",
            "Italy",
            "Mexico",
            "Poland",
            "Russia",
            "Turkey"
           ],
           "legendgroup": "",
           "marker": {
            "color": "#42f587"
           },
           "name": "",
           "offsetgroup": "",
           "orientation": "v",
           "showlegend": false,
           "textposition": "auto",
           "type": "bar",
           "x": [
            "Argentina",
            "Brazil",
            "Colombia",
            "Germany",
            "India",
            "Italy",
            "Mexico",
            "Poland",
            "Russia",
            "Turkey"
           ],
           "xaxis": "x",
           "y": [
            565935,
            4172711,
            711472,
            250866,
            5016520,
            224417,
            616696,
            67904,
            939921,
            275630
           ],
           "yaxis": "y"
          }
         ],
         "name": "9/27/20"
        },
        {
         "data": [
          {
           "alignmentgroup": "True",
           "hovertemplate": "Date=10/3/20<br>Country=%{x}<br>Cases=%{y}<extra></extra>",
           "ids": [
            "Argentina",
            "Brazil",
            "Colombia",
            "Germany",
            "India",
            "Italy",
            "Mexico",
            "Poland",
            "Russia",
            "Turkey"
           ],
           "legendgroup": "",
           "marker": {
            "color": "#42f587"
           },
           "name": "",
           "offsetgroup": "",
           "orientation": "v",
           "showlegend": false,
           "textposition": "auto",
           "type": "bar",
           "x": [
            "Argentina",
            "Brazil",
            "Colombia",
            "Germany",
            "India",
            "Italy",
            "Mexico",
            "Poland",
            "Russia",
            "Turkey"
           ],
           "xaxis": "x",
           "y": [
            626114,
            4361108,
            757801,
            260916,
            5509966,
            231217,
            637993,
            72209,
            972249,
            283868
           ],
           "yaxis": "y"
          }
         ],
         "name": "10/3/20"
        },
        {
         "data": [
          {
           "alignmentgroup": "True",
           "hovertemplate": "Date=10/6/20<br>Country=%{x}<br>Cases=%{y}<extra></extra>",
           "ids": [
            "Argentina",
            "Brazil",
            "Colombia",
            "Germany",
            "India",
            "Italy",
            "Mexico",
            "Poland",
            "Russia",
            "Turkey"
           ],
           "legendgroup": "",
           "marker": {
            "color": "#42f587"
           },
           "name": "",
           "offsetgroup": "",
           "orientation": "v",
           "showlegend": false,
           "textposition": "auto",
           "type": "bar",
           "x": [
            "Argentina",
            "Brazil",
            "Colombia",
            "Germany",
            "India",
            "Italy",
            "Mexico",
            "Poland",
            "Russia",
            "Turkey"
           ],
           "xaxis": "x",
           "y": [
            660272,
            4430340,
            770812,
            267747,
            5744693,
            234099,
            676923,
            74158,
            984767,
            287599
           ],
           "yaxis": "y"
          }
         ],
         "name": "10/6/20"
        },
        {
         "data": [
          {
           "alignmentgroup": "True",
           "hovertemplate": "Date=10/11/20<br>Country=%{x}<br>Cases=%{y}<extra></extra>",
           "ids": [
            "Argentina",
            "Brazil",
            "Colombia",
            "Germany",
            "India",
            "Italy",
            "Mexico",
            "Poland",
            "Russia",
            "Turkey"
           ],
           "legendgroup": "",
           "marker": {
            "color": "#42f587"
           },
           "name": "",
           "offsetgroup": "",
           "orientation": "v",
           "showlegend": false,
           "textposition": "auto",
           "type": "bar",
           "x": [
            "Argentina",
            "Brazil",
            "Colombia",
            "Germany",
            "India",
            "Italy",
            "Mexico",
            "Poland",
            "Russia",
            "Turkey"
           ],
           "xaxis": "x",
           "y": [
            721380,
            4526393,
            789787,
            276983,
            6149535,
            239709,
            694214,
            80302,
            1016120,
            294357
           ],
           "yaxis": "y"
          }
         ],
         "name": "10/11/20"
        },
        {
         "data": [
          {
           "alignmentgroup": "True",
           "hovertemplate": "Date=10/16/20<br>Country=%{x}<br>Cases=%{y}<extra></extra>",
           "ids": [
            "Argentina",
            "Brazil",
            "Colombia",
            "Germany",
            "India",
            "Italy",
            "Mexico",
            "Poland",
            "Russia",
            "Turkey"
           ],
           "legendgroup": "",
           "marker": {
            "color": "#42f587"
           },
           "name": "",
           "offsetgroup": "",
           "orientation": "v",
           "showlegend": false,
           "textposition": "auto",
           "type": "bar",
           "x": [
            "Argentina",
            "Brazil",
            "Colombia",
            "Germany",
            "India",
            "Italy",
            "Mexico",
            "Poland",
            "Russia",
            "Turkey"
           ],
           "xaxis": "x",
           "y": [
            778501,
            4526393,
            837001,
            289027,
            6524595,
            247872,
            712250,
            87773,
            1051780,
            301098
           ],
           "yaxis": "y"
          }
         ],
         "name": "10/16/20"
        },
        {
         "data": [
          {
           "alignmentgroup": "True",
           "hovertemplate": "Date=10/20/20<br>Country=%{x}<br>Cases=%{y}<extra></extra>",
           "ids": [
            "Argentina",
            "Brazil",
            "Colombia",
            "Germany",
            "India",
            "Italy",
            "Mexico",
            "Poland",
            "Russia",
            "Turkey"
           ],
           "legendgroup": "",
           "marker": {
            "color": "#42f587"
           },
           "name": "",
           "offsetgroup": "",
           "orientation": "v",
           "showlegend": false,
           "textposition": "auto",
           "type": "bar",
           "x": [
            "Argentina",
            "Brazil",
            "Colombia",
            "Germany",
            "India",
            "Italy",
            "Mexico",
            "Poland",
            "Russia",
            "Turkey"
           ],
           "xaxis": "x",
           "y": [
            829647,
            4526393,
            876731,
            299743,
            6795103,
            255005,
            730594,
            95956,
            1080461,
            306939
           ],
           "yaxis": "y"
          }
         ],
         "name": "10/20/20"
        },
        {
         "data": [
          {
           "alignmentgroup": "True",
           "hovertemplate": "Date=10/25/20<br>Country=%{x}<br>Cases=%{y}<extra></extra>",
           "ids": [
            "Argentina",
            "Brazil",
            "Colombia",
            "Germany",
            "India",
            "Italy",
            "Mexico",
            "Poland",
            "Russia",
            "Turkey"
           ],
           "legendgroup": "",
           "marker": {
            "color": "#42f587"
           },
           "name": "",
           "offsetgroup": "",
           "orientation": "v",
           "showlegend": false,
           "textposition": "auto",
           "type": "bar",
           "x": [
            "Argentina",
            "Brazil",
            "Colombia",
            "Germany",
            "India",
            "Italy",
            "Mexico",
            "Poland",
            "Russia",
            "Turkey"
           ],
           "xaxis": "x",
           "y": [
            894819,
            4526393,
            907379,
            320004,
            7137228,
            266203,
            752691,
            112619,
            1132790,
            314390
           ],
           "yaxis": "y"
          }
         ],
         "name": "10/25/20"
        },
        {
         "data": [
          {
           "alignmentgroup": "True",
           "hovertemplate": "Date=11/2/20<br>Country=%{x}<br>Cases=%{y}<extra></extra>",
           "ids": [
            "Argentina",
            "Brazil",
            "Colombia",
            "Germany",
            "India",
            "Italy",
            "Mexico",
            "Poland",
            "Russia",
            "Turkey"
           ],
           "legendgroup": "",
           "marker": {
            "color": "#42f587"
           },
           "name": "",
           "offsetgroup": "",
           "orientation": "v",
           "showlegend": false,
           "textposition": "auto",
           "type": "bar",
           "x": [
            "Argentina",
            "Brazil",
            "Colombia",
            "Germany",
            "India",
            "Italy",
            "Mexico",
            "Poland",
            "Russia",
            "Turkey"
           ],
           "xaxis": "x",
           "y": [
            998016,
            5039438,
            985796,
            372499,
            7603121,
            296017,
            795356,
            154413,
            1228921,
            327007
           ],
           "yaxis": "y"
          }
         ],
         "name": "11/2/20"
        },
        {
         "data": [
          {
           "alignmentgroup": "True",
           "hovertemplate": "Date=11/6/20<br>Country=%{x}<br>Cases=%{y}<extra></extra>",
           "ids": [
            "Argentina",
            "Brazil",
            "Colombia",
            "Germany",
            "India",
            "Italy",
            "Mexico",
            "Poland",
            "Russia",
            "Turkey"
           ],
           "legendgroup": "",
           "marker": {
            "color": "#42f587"
           },
           "name": "",
           "offsetgroup": "",
           "orientation": "v",
           "showlegend": false,
           "textposition": "auto",
           "type": "bar",
           "x": [
            "Argentina",
            "Brazil",
            "Colombia",
            "Germany",
            "India",
            "Italy",
            "Mexico",
            "Poland",
            "Russia",
            "Turkey"
           ],
           "xaxis": "x",
           "y": [
            1042237,
            5118156,
            1020263,
            405809,
            7819886,
            322925,
            812556,
            188675,
            1288096,
            334293
           ],
           "yaxis": "y"
          }
         ],
         "name": "11/6/20"
        },
        {
         "data": [
          {
           "alignmentgroup": "True",
           "hovertemplate": "Date=11/10/20<br>Country=%{x}<br>Cases=%{y}<extra></extra>",
           "ids": [
            "Argentina",
            "Brazil",
            "Colombia",
            "Germany",
            "India",
            "Italy",
            "Mexico",
            "Poland",
            "Russia",
            "Turkey"
           ],
           "legendgroup": "",
           "marker": {
            "color": "#42f587"
           },
           "name": "",
           "offsetgroup": "",
           "orientation": "v",
           "showlegend": false,
           "textposition": "auto",
           "type": "bar",
           "x": [
            "Argentina",
            "Brazil",
            "Colombia",
            "Germany",
            "India",
            "Italy",
            "Mexico",
            "Poland",
            "Russia",
            "Turkey"
           ],
           "xaxis": "x",
           "y": [
            1081897,
            5183970,
            980866,
            446402,
            8013783,
            363023,
            824355,
            230661,
            1341868,
            342501
           ],
           "yaxis": "y"
          }
         ],
         "name": "11/10/20"
        },
        {
         "data": [
          {
           "alignmentgroup": "True",
           "hovertemplate": "Date=11/15/20<br>Country=%{x}<br>Cases=%{y}<extra></extra>",
           "ids": [
            "Argentina",
            "Brazil",
            "Colombia",
            "Germany",
            "India",
            "Italy",
            "Mexico",
            "Poland",
            "Russia",
            "Turkey"
           ],
           "legendgroup": "",
           "marker": {
            "color": "#42f587"
           },
           "name": "",
           "offsetgroup": "",
           "orientation": "v",
           "showlegend": false,
           "textposition": "auto",
           "type": "bar",
           "x": [
            "Argentina",
            "Brazil",
            "Colombia",
            "Germany",
            "India",
            "Italy",
            "Mexico",
            "Poland",
            "Russia",
            "Turkey"
           ],
           "xaxis": "x",
           "y": [
            1129102,
            5279452,
            1104956,
            505714,
            8249579,
            420810,
            750190,
            294783,
            1429565,
            353663
           ],
           "yaxis": "y"
          }
         ],
         "name": "11/15/20"
        },
        {
         "data": [
          {
           "alignmentgroup": "True",
           "hovertemplate": "Date=11/24/20<br>Country=%{x}<br>Cases=%{y}<extra></extra>",
           "ids": [
            "Argentina",
            "Brazil",
            "Colombia",
            "Germany",
            "India",
            "Italy",
            "Mexico",
            "Poland",
            "Russia",
            "Turkey"
           ],
           "legendgroup": "",
           "marker": {
            "color": "#42f587"
           },
           "name": "",
           "offsetgroup": "",
           "orientation": "v",
           "showlegend": false,
           "textposition": "auto",
           "type": "bar",
           "x": [
            "Argentina",
            "Brazil",
            "Colombia",
            "Germany",
            "India",
            "Italy",
            "Mexico",
            "Poland",
            "Russia",
            "Turkey"
           ],
           "xaxis": "x",
           "y": [
            1210634,
            5509645,
            1167857,
            649070,
            8642771,
            605330,
            791516,
            454717,
            1621465,
            381569
           ],
           "yaxis": "y"
          }
         ],
         "name": "11/24/20"
        },
        {
         "data": [
          {
           "alignmentgroup": "True",
           "hovertemplate": "Date=11/29/20<br>Country=%{x}<br>Cases=%{y}<extra></extra>",
           "ids": [
            "Argentina",
            "Brazil",
            "Colombia",
            "Germany",
            "India",
            "Italy",
            "Mexico",
            "Poland",
            "Russia",
            "Turkey"
           ],
           "legendgroup": "",
           "marker": {
            "color": "#42f587"
           },
           "name": "",
           "offsetgroup": "",
           "orientation": "v",
           "showlegend": false,
           "textposition": "auto",
           "type": "bar",
           "x": [
            "Argentina",
            "Brazil",
            "Colombia",
            "Germany",
            "India",
            "Italy",
            "Mexico",
            "Poland",
            "Russia",
            "Turkey"
           ],
           "xaxis": "x",
           "y": [
            1249843,
            5581436,
            1204452,
            730797,
            8847600,
            734503,
            818397,
            559429,
            1746279,
            400242
           ],
           "yaxis": "y"
          }
         ],
         "name": "11/29/20"
        },
        {
         "data": [
          {
           "alignmentgroup": "True",
           "hovertemplate": "Date=12/2/20<br>Country=%{x}<br>Cases=%{y}<extra></extra>",
           "ids": [
            "Argentina",
            "Brazil",
            "Colombia",
            "Germany",
            "India",
            "Italy",
            "Mexico",
            "Poland",
            "Russia",
            "Turkey"
           ],
           "legendgroup": "",
           "marker": {
            "color": "#42f587"
           },
           "name": "",
           "offsetgroup": "",
           "orientation": "v",
           "showlegend": false,
           "textposition": "auto",
           "type": "bar",
           "x": [
            "Argentina",
            "Brazil",
            "Colombia",
            "Germany",
            "India",
            "Italy",
            "Mexico",
            "Poland",
            "Russia",
            "Turkey"
           ],
           "xaxis": "x",
           "y": [
            1268358,
            5759294,
            1225635,
            789564,
            8973373,
            823335,
            836567,
            622980,
            1814442,
            414141
           ],
           "yaxis": "y"
          }
         ],
         "name": "12/2/20"
        },
        {
         "data": [
          {
           "alignmentgroup": "True",
           "hovertemplate": "Date=12/7/20<br>Country=%{x}<br>Cases=%{y}<extra></extra>",
           "ids": [
            "Argentina",
            "Brazil",
            "Colombia",
            "Germany",
            "India",
            "Italy",
            "Mexico",
            "Poland",
            "Russia",
            "Turkey"
           ],
           "legendgroup": "",
           "marker": {
            "color": "#42f587"
           },
           "name": "",
           "offsetgroup": "",
           "orientation": "v",
           "showlegend": false,
           "textposition": "auto",
           "type": "bar",
           "x": [
            "Argentina",
            "Brazil",
            "Colombia",
            "Germany",
            "India",
            "Italy",
            "Mexico",
            "Poland",
            "Russia",
            "Turkey"
           ],
           "xaxis": "x",
           "y": [
            1300696,
            5897526,
            1267595,
            888701,
            9178946,
            933132,
            873555,
            722446,
            1939393,
            436270
           ],
           "yaxis": "y"
          }
         ],
         "name": "12/7/20"
        },
        {
         "data": [
          {
           "alignmentgroup": "True",
           "hovertemplate": "Date=12/10/20<br>Country=%{x}<br>Cases=%{y}<extra></extra>",
           "ids": [
            "Argentina",
            "Brazil",
            "Colombia",
            "Germany",
            "India",
            "Italy",
            "Mexico",
            "Poland",
            "Russia",
            "Turkey"
           ],
           "legendgroup": "",
           "marker": {
            "color": "#42f587"
           },
           "name": "",
           "offsetgroup": "",
           "orientation": "v",
           "showlegend": false,
           "textposition": "auto",
           "type": "bar",
           "x": [
            "Argentina",
            "Brazil",
            "Colombia",
            "Germany",
            "India",
            "Italy",
            "Mexico",
            "Poland",
            "Russia",
            "Turkey"
           ],
           "xaxis": "x",
           "y": [
            1318187,
            6043219,
            1296420,
            949913,
            9290809,
            1027994,
            896130,
            792119,
            2015137,
            452593
           ],
           "yaxis": "y"
          }
         ],
         "name": "12/10/20"
        },
        {
         "data": [
          {
           "alignmentgroup": "True",
           "hovertemplate": "Date=12/15/20<br>Country=%{x}<br>Cases=%{y}<extra></extra>",
           "ids": [
            "Argentina",
            "Brazil",
            "Colombia",
            "Germany",
            "India",
            "Italy",
            "Mexico",
            "Poland",
            "Russia",
            "Turkey"
           ],
           "legendgroup": "",
           "marker": {
            "color": "#42f587"
           },
           "name": "",
           "offsetgroup": "",
           "orientation": "v",
           "showlegend": false,
           "textposition": "auto",
           "type": "bar",
           "x": [
            "Argentina",
            "Brazil",
            "Colombia",
            "Germany",
            "India",
            "Italy",
            "Mexico",
            "Poland",
            "Russia",
            "Turkey"
           ],
           "xaxis": "x",
           "y": [
            1344300,
            6206483,
            1328430,
            1031721,
            9456449,
            1141406,
            938089,
            879748,
            2129806,
            1661191
           ],
           "yaxis": "y"
          }
         ],
         "name": "12/15/20"
        },
        {
         "data": [
          {
           "alignmentgroup": "True",
           "hovertemplate": "Date=12/24/20<br>Country=%{x}<br>Cases=%{y}<extra></extra>",
           "ids": [
            "Argentina",
            "Brazil",
            "Colombia",
            "Germany",
            "India",
            "Italy",
            "Mexico",
            "Poland",
            "Russia",
            "Turkey"
           ],
           "legendgroup": "",
           "marker": {
            "color": "#42f587"
           },
           "name": "",
           "offsetgroup": "",
           "orientation": "v",
           "showlegend": false,
           "textposition": "auto",
           "type": "bar",
           "x": [
            "Argentina",
            "Brazil",
            "Colombia",
            "Germany",
            "India",
            "Italy",
            "Mexico",
            "Poland",
            "Russia",
            "Turkey"
           ],
           "xaxis": "x",
           "y": [
            1384277,
            6512717,
            1417316,
            1220277,
            9717834,
            1344785,
            1015256,
            975876,
            2347700,
            1935292
           ],
           "yaxis": "y"
          }
         ],
         "name": "12/24/20"
        },
        {
         "data": [
          {
           "alignmentgroup": "True",
           "hovertemplate": "Date=12/29/20<br>Country=%{x}<br>Cases=%{y}<extra></extra>",
           "ids": [
            "Argentina",
            "Brazil",
            "Colombia",
            "Germany",
            "India",
            "Italy",
            "Mexico",
            "Poland",
            "Russia",
            "Turkey"
           ],
           "legendgroup": "",
           "marker": {
            "color": "#42f587"
           },
           "name": "",
           "offsetgroup": "",
           "orientation": "v",
           "showlegend": false,
           "textposition": "auto",
           "type": "bar",
           "x": [
            "Argentina",
            "Brazil",
            "Colombia",
            "Germany",
            "India",
            "Italy",
            "Mexico",
            "Poland",
            "Russia",
            "Turkey"
           ],
           "xaxis": "x",
           "y": [
            1420885,
            6754111,
            1483017,
            1319757,
            9834141,
            1425730,
            1058429,
            1014005,
            2470783,
            2058437
           ],
           "yaxis": "y"
          }
         ],
         "name": "12/29/20"
        }
       ],
       "layout": {
        "barmode": "relative",
        "legend": {
         "tracegroupgap": 0
        },
        "margin": {
         "t": 60
        },
        "showlegend": false,
        "sliders": [
         {
          "active": 0,
          "currentvalue": {
           "prefix": "Date="
          },
          "len": 0.9,
          "pad": {
           "b": 10,
           "t": 60
          },
          "steps": [
           {
            "args": [
             [
              "1/24/20"
             ],
             {
              "frame": {
               "duration": 0,
               "redraw": true
              },
              "fromcurrent": true,
              "mode": "immediate",
              "transition": {
               "duration": 0,
               "easing": "linear"
              }
             }
            ],
            "label": "1/24/20",
            "method": "animate"
           },
           {
            "args": [
             [
              "1/29/20"
             ],
             {
              "frame": {
               "duration": 0,
               "redraw": true
              },
              "fromcurrent": true,
              "mode": "immediate",
              "transition": {
               "duration": 0,
               "easing": "linear"
              }
             }
            ],
            "label": "1/29/20",
            "method": "animate"
           },
           {
            "args": [
             [
              "2/3/20"
             ],
             {
              "frame": {
               "duration": 0,
               "redraw": true
              },
              "fromcurrent": true,
              "mode": "immediate",
              "transition": {
               "duration": 0,
               "easing": "linear"
              }
             }
            ],
            "label": "2/3/20",
            "method": "animate"
           },
           {
            "args": [
             [
              "2/8/20"
             ],
             {
              "frame": {
               "duration": 0,
               "redraw": true
              },
              "fromcurrent": true,
              "mode": "immediate",
              "transition": {
               "duration": 0,
               "easing": "linear"
              }
             }
            ],
            "label": "2/8/20",
            "method": "animate"
           },
           {
            "args": [
             [
              "2/11/20"
             ],
             {
              "frame": {
               "duration": 0,
               "redraw": true
              },
              "fromcurrent": true,
              "mode": "immediate",
              "transition": {
               "duration": 0,
               "easing": "linear"
              }
             }
            ],
            "label": "2/11/20",
            "method": "animate"
           },
           {
            "args": [
             [
              "2/16/20"
             ],
             {
              "frame": {
               "duration": 0,
               "redraw": true
              },
              "fromcurrent": true,
              "mode": "immediate",
              "transition": {
               "duration": 0,
               "easing": "linear"
              }
             }
            ],
            "label": "2/16/20",
            "method": "animate"
           },
           {
            "args": [
             [
              "2/20/20"
             ],
             {
              "frame": {
               "duration": 0,
               "redraw": true
              },
              "fromcurrent": true,
              "mode": "immediate",
              "transition": {
               "duration": 0,
               "easing": "linear"
              }
             }
            ],
            "label": "2/20/20",
            "method": "animate"
           },
           {
            "args": [
             [
              "2/25/20"
             ],
             {
              "frame": {
               "duration": 0,
               "redraw": true
              },
              "fromcurrent": true,
              "mode": "immediate",
              "transition": {
               "duration": 0,
               "easing": "linear"
              }
             }
            ],
            "label": "2/25/20",
            "method": "animate"
           },
           {
            "args": [
             [
              "3/7/20"
             ],
             {
              "frame": {
               "duration": 0,
               "redraw": true
              },
              "fromcurrent": true,
              "mode": "immediate",
              "transition": {
               "duration": 0,
               "easing": "linear"
              }
             }
            ],
            "label": "3/7/20",
            "method": "animate"
           },
           {
            "args": [
             [
              "3/12/20"
             ],
             {
              "frame": {
               "duration": 0,
               "redraw": true
              },
              "fromcurrent": true,
              "mode": "immediate",
              "transition": {
               "duration": 0,
               "easing": "linear"
              }
             }
            ],
            "label": "3/12/20",
            "method": "animate"
           },
           {
            "args": [
             [
              "3/17/20"
             ],
             {
              "frame": {
               "duration": 0,
               "redraw": true
              },
              "fromcurrent": true,
              "mode": "immediate",
              "transition": {
               "duration": 0,
               "easing": "linear"
              }
             }
            ],
            "label": "3/17/20",
            "method": "animate"
           },
           {
            "args": [
             [
              "3/21/20"
             ],
             {
              "frame": {
               "duration": 0,
               "redraw": true
              },
              "fromcurrent": true,
              "mode": "immediate",
              "transition": {
               "duration": 0,
               "easing": "linear"
              }
             }
            ],
            "label": "3/21/20",
            "method": "animate"
           },
           {
            "args": [
             [
              "3/26/20"
             ],
             {
              "frame": {
               "duration": 0,
               "redraw": true
              },
              "fromcurrent": true,
              "mode": "immediate",
              "transition": {
               "duration": 0,
               "easing": "linear"
              }
             }
            ],
            "label": "3/26/20",
            "method": "animate"
           },
           {
            "args": [
             [
              "3/30/20"
             ],
             {
              "frame": {
               "duration": 0,
               "redraw": true
              },
              "fromcurrent": true,
              "mode": "immediate",
              "transition": {
               "duration": 0,
               "easing": "linear"
              }
             }
            ],
            "label": "3/30/20",
            "method": "animate"
           },
           {
            "args": [
             [
              "4/3/20"
             ],
             {
              "frame": {
               "duration": 0,
               "redraw": true
              },
              "fromcurrent": true,
              "mode": "immediate",
              "transition": {
               "duration": 0,
               "easing": "linear"
              }
             }
            ],
            "label": "4/3/20",
            "method": "animate"
           },
           {
            "args": [
             [
              "4/7/20"
             ],
             {
              "frame": {
               "duration": 0,
               "redraw": true
              },
              "fromcurrent": true,
              "mode": "immediate",
              "transition": {
               "duration": 0,
               "easing": "linear"
              }
             }
            ],
            "label": "4/7/20",
            "method": "animate"
           },
           {
            "args": [
             [
              "4/11/20"
             ],
             {
              "frame": {
               "duration": 0,
               "redraw": true
              },
              "fromcurrent": true,
              "mode": "immediate",
              "transition": {
               "duration": 0,
               "easing": "linear"
              }
             }
            ],
            "label": "4/11/20",
            "method": "animate"
           },
           {
            "args": [
             [
              "4/16/20"
             ],
             {
              "frame": {
               "duration": 0,
               "redraw": true
              },
              "fromcurrent": true,
              "mode": "immediate",
              "transition": {
               "duration": 0,
               "easing": "linear"
              }
             }
            ],
            "label": "4/16/20",
            "method": "animate"
           },
           {
            "args": [
             [
              "4/20/20"
             ],
             {
              "frame": {
               "duration": 0,
               "redraw": true
              },
              "fromcurrent": true,
              "mode": "immediate",
              "transition": {
               "duration": 0,
               "easing": "linear"
              }
             }
            ],
            "label": "4/20/20",
            "method": "animate"
           },
           {
            "args": [
             [
              "4/25/20"
             ],
             {
              "frame": {
               "duration": 0,
               "redraw": true
              },
              "fromcurrent": true,
              "mode": "immediate",
              "transition": {
               "duration": 0,
               "easing": "linear"
              }
             }
            ],
            "label": "4/25/20",
            "method": "animate"
           },
           {
            "args": [
             [
              "5/3/20"
             ],
             {
              "frame": {
               "duration": 0,
               "redraw": true
              },
              "fromcurrent": true,
              "mode": "immediate",
              "transition": {
               "duration": 0,
               "easing": "linear"
              }
             }
            ],
            "label": "5/3/20",
            "method": "animate"
           },
           {
            "args": [
             [
              "5/6/20"
             ],
             {
              "frame": {
               "duration": 0,
               "redraw": true
              },
              "fromcurrent": true,
              "mode": "immediate",
              "transition": {
               "duration": 0,
               "easing": "linear"
              }
             }
            ],
            "label": "5/6/20",
            "method": "animate"
           },
           {
            "args": [
             [
              "5/11/20"
             ],
             {
              "frame": {
               "duration": 0,
               "redraw": true
              },
              "fromcurrent": true,
              "mode": "immediate",
              "transition": {
               "duration": 0,
               "easing": "linear"
              }
             }
            ],
            "label": "5/11/20",
            "method": "animate"
           },
           {
            "args": [
             [
              "5/16/20"
             ],
             {
              "frame": {
               "duration": 0,
               "redraw": true
              },
              "fromcurrent": true,
              "mode": "immediate",
              "transition": {
               "duration": 0,
               "easing": "linear"
              }
             }
            ],
            "label": "5/16/20",
            "method": "animate"
           },
           {
            "args": [
             [
              "5/20/20"
             ],
             {
              "frame": {
               "duration": 0,
               "redraw": true
              },
              "fromcurrent": true,
              "mode": "immediate",
              "transition": {
               "duration": 0,
               "easing": "linear"
              }
             }
            ],
            "label": "5/20/20",
            "method": "animate"
           },
           {
            "args": [
             [
              "5/25/20"
             ],
             {
              "frame": {
               "duration": 0,
               "redraw": true
              },
              "fromcurrent": true,
              "mode": "immediate",
              "transition": {
               "duration": 0,
               "easing": "linear"
              }
             }
            ],
            "label": "5/25/20",
            "method": "animate"
           },
           {
            "args": [
             [
              "6/2/20"
             ],
             {
              "frame": {
               "duration": 0,
               "redraw": true
              },
              "fromcurrent": true,
              "mode": "immediate",
              "transition": {
               "duration": 0,
               "easing": "linear"
              }
             }
            ],
            "label": "6/2/20",
            "method": "animate"
           },
           {
            "args": [
             [
              "6/6/20"
             ],
             {
              "frame": {
               "duration": 0,
               "redraw": true
              },
              "fromcurrent": true,
              "mode": "immediate",
              "transition": {
               "duration": 0,
               "easing": "linear"
              }
             }
            ],
            "label": "6/6/20",
            "method": "animate"
           },
           {
            "args": [
             [
              "6/10/20"
             ],
             {
              "frame": {
               "duration": 0,
               "redraw": true
              },
              "fromcurrent": true,
              "mode": "immediate",
              "transition": {
               "duration": 0,
               "easing": "linear"
              }
             }
            ],
            "label": "6/10/20",
            "method": "animate"
           },
           {
            "args": [
             [
              "6/15/20"
             ],
             {
              "frame": {
               "duration": 0,
               "redraw": true
              },
              "fromcurrent": true,
              "mode": "immediate",
              "transition": {
               "duration": 0,
               "easing": "linear"
              }
             }
            ],
            "label": "6/15/20",
            "method": "animate"
           },
           {
            "args": [
             [
              "6/24/20"
             ],
             {
              "frame": {
               "duration": 0,
               "redraw": true
              },
              "fromcurrent": true,
              "mode": "immediate",
              "transition": {
               "duration": 0,
               "easing": "linear"
              }
             }
            ],
            "label": "6/24/20",
            "method": "animate"
           },
           {
            "args": [
             [
              "6/29/20"
             ],
             {
              "frame": {
               "duration": 0,
               "redraw": true
              },
              "fromcurrent": true,
              "mode": "immediate",
              "transition": {
               "duration": 0,
               "easing": "linear"
              }
             }
            ],
            "label": "6/29/20",
            "method": "animate"
           },
           {
            "args": [
             [
              "7/2/20"
             ],
             {
              "frame": {
               "duration": 0,
               "redraw": true
              },
              "fromcurrent": true,
              "mode": "immediate",
              "transition": {
               "duration": 0,
               "easing": "linear"
              }
             }
            ],
            "label": "7/2/20",
            "method": "animate"
           },
           {
            "args": [
             [
              "7/5/20"
             ],
             {
              "frame": {
               "duration": 0,
               "redraw": true
              },
              "fromcurrent": true,
              "mode": "immediate",
              "transition": {
               "duration": 0,
               "easing": "linear"
              }
             }
            ],
            "label": "7/5/20",
            "method": "animate"
           },
           {
            "args": [
             [
              "7/10/20"
             ],
             {
              "frame": {
               "duration": 0,
               "redraw": true
              },
              "fromcurrent": true,
              "mode": "immediate",
              "transition": {
               "duration": 0,
               "easing": "linear"
              }
             }
            ],
            "label": "7/10/20",
            "method": "animate"
           },
           {
            "args": [
             [
              "7/15/20"
             ],
             {
              "frame": {
               "duration": 0,
               "redraw": true
              },
              "fromcurrent": true,
              "mode": "immediate",
              "transition": {
               "duration": 0,
               "easing": "linear"
              }
             }
            ],
            "label": "7/15/20",
            "method": "animate"
           },
           {
            "args": [
             [
              "7/24/20"
             ],
             {
              "frame": {
               "duration": 0,
               "redraw": true
              },
              "fromcurrent": true,
              "mode": "immediate",
              "transition": {
               "duration": 0,
               "easing": "linear"
              }
             }
            ],
            "label": "7/24/20",
            "method": "animate"
           },
           {
            "args": [
             [
              "7/29/20"
             ],
             {
              "frame": {
               "duration": 0,
               "redraw": true
              },
              "fromcurrent": true,
              "mode": "immediate",
              "transition": {
               "duration": 0,
               "easing": "linear"
              }
             }
            ],
            "label": "7/29/20",
            "method": "animate"
           },
           {
            "args": [
             [
              "8/1/20"
             ],
             {
              "frame": {
               "duration": 0,
               "redraw": true
              },
              "fromcurrent": true,
              "mode": "immediate",
              "transition": {
               "duration": 0,
               "easing": "linear"
              }
             }
            ],
            "label": "8/1/20",
            "method": "animate"
           },
           {
            "args": [
             [
              "8/4/20"
             ],
             {
              "frame": {
               "duration": 0,
               "redraw": true
              },
              "fromcurrent": true,
              "mode": "immediate",
              "transition": {
               "duration": 0,
               "easing": "linear"
              }
             }
            ],
            "label": "8/4/20",
            "method": "animate"
           },
           {
            "args": [
             [
              "8/9/20"
             ],
             {
              "frame": {
               "duration": 0,
               "redraw": true
              },
              "fromcurrent": true,
              "mode": "immediate",
              "transition": {
               "duration": 0,
               "easing": "linear"
              }
             }
            ],
            "label": "8/9/20",
            "method": "animate"
           },
           {
            "args": [
             [
              "8/14/20"
             ],
             {
              "frame": {
               "duration": 0,
               "redraw": true
              },
              "fromcurrent": true,
              "mode": "immediate",
              "transition": {
               "duration": 0,
               "easing": "linear"
              }
             }
            ],
            "label": "8/14/20",
            "method": "animate"
           },
           {
            "args": [
             [
              "8/19/20"
             ],
             {
              "frame": {
               "duration": 0,
               "redraw": true
              },
              "fromcurrent": true,
              "mode": "immediate",
              "transition": {
               "duration": 0,
               "easing": "linear"
              }
             }
            ],
            "label": "8/19/20",
            "method": "animate"
           },
           {
            "args": [
             [
              "8/23/20"
             ],
             {
              "frame": {
               "duration": 0,
               "redraw": true
              },
              "fromcurrent": true,
              "mode": "immediate",
              "transition": {
               "duration": 0,
               "easing": "linear"
              }
             }
            ],
            "label": "8/23/20",
            "method": "animate"
           },
           {
            "args": [
             [
              "8/28/20"
             ],
             {
              "frame": {
               "duration": 0,
               "redraw": true
              },
              "fromcurrent": true,
              "mode": "immediate",
              "transition": {
               "duration": 0,
               "easing": "linear"
              }
             }
            ],
            "label": "8/28/20",
            "method": "animate"
           },
           {
            "args": [
             [
              "9/4/20"
             ],
             {
              "frame": {
               "duration": 0,
               "redraw": true
              },
              "fromcurrent": true,
              "mode": "immediate",
              "transition": {
               "duration": 0,
               "easing": "linear"
              }
             }
            ],
            "label": "9/4/20",
            "method": "animate"
           },
           {
            "args": [
             [
              "9/9/20"
             ],
             {
              "frame": {
               "duration": 0,
               "redraw": true
              },
              "fromcurrent": true,
              "mode": "immediate",
              "transition": {
               "duration": 0,
               "easing": "linear"
              }
             }
            ],
            "label": "9/9/20",
            "method": "animate"
           },
           {
            "args": [
             [
              "9/13/20"
             ],
             {
              "frame": {
               "duration": 0,
               "redraw": true
              },
              "fromcurrent": true,
              "mode": "immediate",
              "transition": {
               "duration": 0,
               "easing": "linear"
              }
             }
            ],
            "label": "9/13/20",
            "method": "animate"
           },
           {
            "args": [
             [
              "9/18/20"
             ],
             {
              "frame": {
               "duration": 0,
               "redraw": true
              },
              "fromcurrent": true,
              "mode": "immediate",
              "transition": {
               "duration": 0,
               "easing": "linear"
              }
             }
            ],
            "label": "9/18/20",
            "method": "animate"
           },
           {
            "args": [
             [
              "9/22/20"
             ],
             {
              "frame": {
               "duration": 0,
               "redraw": true
              },
              "fromcurrent": true,
              "mode": "immediate",
              "transition": {
               "duration": 0,
               "easing": "linear"
              }
             }
            ],
            "label": "9/22/20",
            "method": "animate"
           },
           {
            "args": [
             [
              "9/27/20"
             ],
             {
              "frame": {
               "duration": 0,
               "redraw": true
              },
              "fromcurrent": true,
              "mode": "immediate",
              "transition": {
               "duration": 0,
               "easing": "linear"
              }
             }
            ],
            "label": "9/27/20",
            "method": "animate"
           },
           {
            "args": [
             [
              "10/3/20"
             ],
             {
              "frame": {
               "duration": 0,
               "redraw": true
              },
              "fromcurrent": true,
              "mode": "immediate",
              "transition": {
               "duration": 0,
               "easing": "linear"
              }
             }
            ],
            "label": "10/3/20",
            "method": "animate"
           },
           {
            "args": [
             [
              "10/6/20"
             ],
             {
              "frame": {
               "duration": 0,
               "redraw": true
              },
              "fromcurrent": true,
              "mode": "immediate",
              "transition": {
               "duration": 0,
               "easing": "linear"
              }
             }
            ],
            "label": "10/6/20",
            "method": "animate"
           },
           {
            "args": [
             [
              "10/11/20"
             ],
             {
              "frame": {
               "duration": 0,
               "redraw": true
              },
              "fromcurrent": true,
              "mode": "immediate",
              "transition": {
               "duration": 0,
               "easing": "linear"
              }
             }
            ],
            "label": "10/11/20",
            "method": "animate"
           },
           {
            "args": [
             [
              "10/16/20"
             ],
             {
              "frame": {
               "duration": 0,
               "redraw": true
              },
              "fromcurrent": true,
              "mode": "immediate",
              "transition": {
               "duration": 0,
               "easing": "linear"
              }
             }
            ],
            "label": "10/16/20",
            "method": "animate"
           },
           {
            "args": [
             [
              "10/20/20"
             ],
             {
              "frame": {
               "duration": 0,
               "redraw": true
              },
              "fromcurrent": true,
              "mode": "immediate",
              "transition": {
               "duration": 0,
               "easing": "linear"
              }
             }
            ],
            "label": "10/20/20",
            "method": "animate"
           },
           {
            "args": [
             [
              "10/25/20"
             ],
             {
              "frame": {
               "duration": 0,
               "redraw": true
              },
              "fromcurrent": true,
              "mode": "immediate",
              "transition": {
               "duration": 0,
               "easing": "linear"
              }
             }
            ],
            "label": "10/25/20",
            "method": "animate"
           },
           {
            "args": [
             [
              "11/2/20"
             ],
             {
              "frame": {
               "duration": 0,
               "redraw": true
              },
              "fromcurrent": true,
              "mode": "immediate",
              "transition": {
               "duration": 0,
               "easing": "linear"
              }
             }
            ],
            "label": "11/2/20",
            "method": "animate"
           },
           {
            "args": [
             [
              "11/6/20"
             ],
             {
              "frame": {
               "duration": 0,
               "redraw": true
              },
              "fromcurrent": true,
              "mode": "immediate",
              "transition": {
               "duration": 0,
               "easing": "linear"
              }
             }
            ],
            "label": "11/6/20",
            "method": "animate"
           },
           {
            "args": [
             [
              "11/10/20"
             ],
             {
              "frame": {
               "duration": 0,
               "redraw": true
              },
              "fromcurrent": true,
              "mode": "immediate",
              "transition": {
               "duration": 0,
               "easing": "linear"
              }
             }
            ],
            "label": "11/10/20",
            "method": "animate"
           },
           {
            "args": [
             [
              "11/15/20"
             ],
             {
              "frame": {
               "duration": 0,
               "redraw": true
              },
              "fromcurrent": true,
              "mode": "immediate",
              "transition": {
               "duration": 0,
               "easing": "linear"
              }
             }
            ],
            "label": "11/15/20",
            "method": "animate"
           },
           {
            "args": [
             [
              "11/24/20"
             ],
             {
              "frame": {
               "duration": 0,
               "redraw": true
              },
              "fromcurrent": true,
              "mode": "immediate",
              "transition": {
               "duration": 0,
               "easing": "linear"
              }
             }
            ],
            "label": "11/24/20",
            "method": "animate"
           },
           {
            "args": [
             [
              "11/29/20"
             ],
             {
              "frame": {
               "duration": 0,
               "redraw": true
              },
              "fromcurrent": true,
              "mode": "immediate",
              "transition": {
               "duration": 0,
               "easing": "linear"
              }
             }
            ],
            "label": "11/29/20",
            "method": "animate"
           },
           {
            "args": [
             [
              "12/2/20"
             ],
             {
              "frame": {
               "duration": 0,
               "redraw": true
              },
              "fromcurrent": true,
              "mode": "immediate",
              "transition": {
               "duration": 0,
               "easing": "linear"
              }
             }
            ],
            "label": "12/2/20",
            "method": "animate"
           },
           {
            "args": [
             [
              "12/7/20"
             ],
             {
              "frame": {
               "duration": 0,
               "redraw": true
              },
              "fromcurrent": true,
              "mode": "immediate",
              "transition": {
               "duration": 0,
               "easing": "linear"
              }
             }
            ],
            "label": "12/7/20",
            "method": "animate"
           },
           {
            "args": [
             [
              "12/10/20"
             ],
             {
              "frame": {
               "duration": 0,
               "redraw": true
              },
              "fromcurrent": true,
              "mode": "immediate",
              "transition": {
               "duration": 0,
               "easing": "linear"
              }
             }
            ],
            "label": "12/10/20",
            "method": "animate"
           },
           {
            "args": [
             [
              "12/15/20"
             ],
             {
              "frame": {
               "duration": 0,
               "redraw": true
              },
              "fromcurrent": true,
              "mode": "immediate",
              "transition": {
               "duration": 0,
               "easing": "linear"
              }
             }
            ],
            "label": "12/15/20",
            "method": "animate"
           },
           {
            "args": [
             [
              "12/24/20"
             ],
             {
              "frame": {
               "duration": 0,
               "redraw": true
              },
              "fromcurrent": true,
              "mode": "immediate",
              "transition": {
               "duration": 0,
               "easing": "linear"
              }
             }
            ],
            "label": "12/24/20",
            "method": "animate"
           },
           {
            "args": [
             [
              "12/29/20"
             ],
             {
              "frame": {
               "duration": 0,
               "redraw": true
              },
              "fromcurrent": true,
              "mode": "immediate",
              "transition": {
               "duration": 0,
               "easing": "linear"
              }
             }
            ],
            "label": "12/29/20",
            "method": "animate"
           }
          ],
          "x": 0.1,
          "xanchor": "left",
          "y": 0,
          "yanchor": "top"
         }
        ],
        "template": {
         "data": {
          "bar": [
           {
            "error_x": {
             "color": "#f2f5fa"
            },
            "error_y": {
             "color": "#f2f5fa"
            },
            "marker": {
             "line": {
              "color": "rgb(17,17,17)",
              "width": 0.5
             }
            },
            "type": "bar"
           }
          ],
          "barpolar": [
           {
            "marker": {
             "line": {
              "color": "rgb(17,17,17)",
              "width": 0.5
             }
            },
            "type": "barpolar"
           }
          ],
          "carpet": [
           {
            "aaxis": {
             "endlinecolor": "#A2B1C6",
             "gridcolor": "#506784",
             "linecolor": "#506784",
             "minorgridcolor": "#506784",
             "startlinecolor": "#A2B1C6"
            },
            "baxis": {
             "endlinecolor": "#A2B1C6",
             "gridcolor": "#506784",
             "linecolor": "#506784",
             "minorgridcolor": "#506784",
             "startlinecolor": "#A2B1C6"
            },
            "type": "carpet"
           }
          ],
          "choropleth": [
           {
            "colorbar": {
             "outlinewidth": 0,
             "ticks": ""
            },
            "type": "choropleth"
           }
          ],
          "contour": [
           {
            "colorbar": {
             "outlinewidth": 0,
             "ticks": ""
            },
            "colorscale": [
             [
              0,
              "#0d0887"
             ],
             [
              0.1111111111111111,
              "#46039f"
             ],
             [
              0.2222222222222222,
              "#7201a8"
             ],
             [
              0.3333333333333333,
              "#9c179e"
             ],
             [
              0.4444444444444444,
              "#bd3786"
             ],
             [
              0.5555555555555556,
              "#d8576b"
             ],
             [
              0.6666666666666666,
              "#ed7953"
             ],
             [
              0.7777777777777778,
              "#fb9f3a"
             ],
             [
              0.8888888888888888,
              "#fdca26"
             ],
             [
              1,
              "#f0f921"
             ]
            ],
            "type": "contour"
           }
          ],
          "contourcarpet": [
           {
            "colorbar": {
             "outlinewidth": 0,
             "ticks": ""
            },
            "type": "contourcarpet"
           }
          ],
          "heatmap": [
           {
            "colorbar": {
             "outlinewidth": 0,
             "ticks": ""
            },
            "colorscale": [
             [
              0,
              "#0d0887"
             ],
             [
              0.1111111111111111,
              "#46039f"
             ],
             [
              0.2222222222222222,
              "#7201a8"
             ],
             [
              0.3333333333333333,
              "#9c179e"
             ],
             [
              0.4444444444444444,
              "#bd3786"
             ],
             [
              0.5555555555555556,
              "#d8576b"
             ],
             [
              0.6666666666666666,
              "#ed7953"
             ],
             [
              0.7777777777777778,
              "#fb9f3a"
             ],
             [
              0.8888888888888888,
              "#fdca26"
             ],
             [
              1,
              "#f0f921"
             ]
            ],
            "type": "heatmap"
           }
          ],
          "heatmapgl": [
           {
            "colorbar": {
             "outlinewidth": 0,
             "ticks": ""
            },
            "colorscale": [
             [
              0,
              "#0d0887"
             ],
             [
              0.1111111111111111,
              "#46039f"
             ],
             [
              0.2222222222222222,
              "#7201a8"
             ],
             [
              0.3333333333333333,
              "#9c179e"
             ],
             [
              0.4444444444444444,
              "#bd3786"
             ],
             [
              0.5555555555555556,
              "#d8576b"
             ],
             [
              0.6666666666666666,
              "#ed7953"
             ],
             [
              0.7777777777777778,
              "#fb9f3a"
             ],
             [
              0.8888888888888888,
              "#fdca26"
             ],
             [
              1,
              "#f0f921"
             ]
            ],
            "type": "heatmapgl"
           }
          ],
          "histogram": [
           {
            "marker": {
             "colorbar": {
              "outlinewidth": 0,
              "ticks": ""
             }
            },
            "type": "histogram"
           }
          ],
          "histogram2d": [
           {
            "colorbar": {
             "outlinewidth": 0,
             "ticks": ""
            },
            "colorscale": [
             [
              0,
              "#0d0887"
             ],
             [
              0.1111111111111111,
              "#46039f"
             ],
             [
              0.2222222222222222,
              "#7201a8"
             ],
             [
              0.3333333333333333,
              "#9c179e"
             ],
             [
              0.4444444444444444,
              "#bd3786"
             ],
             [
              0.5555555555555556,
              "#d8576b"
             ],
             [
              0.6666666666666666,
              "#ed7953"
             ],
             [
              0.7777777777777778,
              "#fb9f3a"
             ],
             [
              0.8888888888888888,
              "#fdca26"
             ],
             [
              1,
              "#f0f921"
             ]
            ],
            "type": "histogram2d"
           }
          ],
          "histogram2dcontour": [
           {
            "colorbar": {
             "outlinewidth": 0,
             "ticks": ""
            },
            "colorscale": [
             [
              0,
              "#0d0887"
             ],
             [
              0.1111111111111111,
              "#46039f"
             ],
             [
              0.2222222222222222,
              "#7201a8"
             ],
             [
              0.3333333333333333,
              "#9c179e"
             ],
             [
              0.4444444444444444,
              "#bd3786"
             ],
             [
              0.5555555555555556,
              "#d8576b"
             ],
             [
              0.6666666666666666,
              "#ed7953"
             ],
             [
              0.7777777777777778,
              "#fb9f3a"
             ],
             [
              0.8888888888888888,
              "#fdca26"
             ],
             [
              1,
              "#f0f921"
             ]
            ],
            "type": "histogram2dcontour"
           }
          ],
          "mesh3d": [
           {
            "colorbar": {
             "outlinewidth": 0,
             "ticks": ""
            },
            "type": "mesh3d"
           }
          ],
          "parcoords": [
           {
            "line": {
             "colorbar": {
              "outlinewidth": 0,
              "ticks": ""
             }
            },
            "type": "parcoords"
           }
          ],
          "pie": [
           {
            "automargin": true,
            "type": "pie"
           }
          ],
          "scatter": [
           {
            "marker": {
             "line": {
              "color": "#283442"
             }
            },
            "type": "scatter"
           }
          ],
          "scatter3d": [
           {
            "line": {
             "colorbar": {
              "outlinewidth": 0,
              "ticks": ""
             }
            },
            "marker": {
             "colorbar": {
              "outlinewidth": 0,
              "ticks": ""
             }
            },
            "type": "scatter3d"
           }
          ],
          "scattercarpet": [
           {
            "marker": {
             "colorbar": {
              "outlinewidth": 0,
              "ticks": ""
             }
            },
            "type": "scattercarpet"
           }
          ],
          "scattergeo": [
           {
            "marker": {
             "colorbar": {
              "outlinewidth": 0,
              "ticks": ""
             }
            },
            "type": "scattergeo"
           }
          ],
          "scattergl": [
           {
            "marker": {
             "line": {
              "color": "#283442"
             }
            },
            "type": "scattergl"
           }
          ],
          "scattermapbox": [
           {
            "marker": {
             "colorbar": {
              "outlinewidth": 0,
              "ticks": ""
             }
            },
            "type": "scattermapbox"
           }
          ],
          "scatterpolar": [
           {
            "marker": {
             "colorbar": {
              "outlinewidth": 0,
              "ticks": ""
             }
            },
            "type": "scatterpolar"
           }
          ],
          "scatterpolargl": [
           {
            "marker": {
             "colorbar": {
              "outlinewidth": 0,
              "ticks": ""
             }
            },
            "type": "scatterpolargl"
           }
          ],
          "scatterternary": [
           {
            "marker": {
             "colorbar": {
              "outlinewidth": 0,
              "ticks": ""
             }
            },
            "type": "scatterternary"
           }
          ],
          "surface": [
           {
            "colorbar": {
             "outlinewidth": 0,
             "ticks": ""
            },
            "colorscale": [
             [
              0,
              "#0d0887"
             ],
             [
              0.1111111111111111,
              "#46039f"
             ],
             [
              0.2222222222222222,
              "#7201a8"
             ],
             [
              0.3333333333333333,
              "#9c179e"
             ],
             [
              0.4444444444444444,
              "#bd3786"
             ],
             [
              0.5555555555555556,
              "#d8576b"
             ],
             [
              0.6666666666666666,
              "#ed7953"
             ],
             [
              0.7777777777777778,
              "#fb9f3a"
             ],
             [
              0.8888888888888888,
              "#fdca26"
             ],
             [
              1,
              "#f0f921"
             ]
            ],
            "type": "surface"
           }
          ],
          "table": [
           {
            "cells": {
             "fill": {
              "color": "#506784"
             },
             "line": {
              "color": "rgb(17,17,17)"
             }
            },
            "header": {
             "fill": {
              "color": "#2a3f5f"
             },
             "line": {
              "color": "rgb(17,17,17)"
             }
            },
            "type": "table"
           }
          ]
         },
         "layout": {
          "annotationdefaults": {
           "arrowcolor": "#f2f5fa",
           "arrowhead": 0,
           "arrowwidth": 1
          },
          "autotypenumbers": "strict",
          "coloraxis": {
           "colorbar": {
            "outlinewidth": 0,
            "ticks": ""
           }
          },
          "colorscale": {
           "diverging": [
            [
             0,
             "#8e0152"
            ],
            [
             0.1,
             "#c51b7d"
            ],
            [
             0.2,
             "#de77ae"
            ],
            [
             0.3,
             "#f1b6da"
            ],
            [
             0.4,
             "#fde0ef"
            ],
            [
             0.5,
             "#f7f7f7"
            ],
            [
             0.6,
             "#e6f5d0"
            ],
            [
             0.7,
             "#b8e186"
            ],
            [
             0.8,
             "#7fbc41"
            ],
            [
             0.9,
             "#4d9221"
            ],
            [
             1,
             "#276419"
            ]
           ],
           "sequential": [
            [
             0,
             "#0d0887"
            ],
            [
             0.1111111111111111,
             "#46039f"
            ],
            [
             0.2222222222222222,
             "#7201a8"
            ],
            [
             0.3333333333333333,
             "#9c179e"
            ],
            [
             0.4444444444444444,
             "#bd3786"
            ],
            [
             0.5555555555555556,
             "#d8576b"
            ],
            [
             0.6666666666666666,
             "#ed7953"
            ],
            [
             0.7777777777777778,
             "#fb9f3a"
            ],
            [
             0.8888888888888888,
             "#fdca26"
            ],
            [
             1,
             "#f0f921"
            ]
           ],
           "sequentialminus": [
            [
             0,
             "#0d0887"
            ],
            [
             0.1111111111111111,
             "#46039f"
            ],
            [
             0.2222222222222222,
             "#7201a8"
            ],
            [
             0.3333333333333333,
             "#9c179e"
            ],
            [
             0.4444444444444444,
             "#bd3786"
            ],
            [
             0.5555555555555556,
             "#d8576b"
            ],
            [
             0.6666666666666666,
             "#ed7953"
            ],
            [
             0.7777777777777778,
             "#fb9f3a"
            ],
            [
             0.8888888888888888,
             "#fdca26"
            ],
            [
             1,
             "#f0f921"
            ]
           ]
          },
          "colorway": [
           "#636efa",
           "#EF553B",
           "#00cc96",
           "#ab63fa",
           "#FFA15A",
           "#19d3f3",
           "#FF6692",
           "#B6E880",
           "#FF97FF",
           "#FECB52"
          ],
          "font": {
           "color": "#f2f5fa"
          },
          "geo": {
           "bgcolor": "rgb(17,17,17)",
           "lakecolor": "rgb(17,17,17)",
           "landcolor": "rgb(17,17,17)",
           "showlakes": true,
           "showland": true,
           "subunitcolor": "#506784"
          },
          "hoverlabel": {
           "align": "left"
          },
          "hovermode": "closest",
          "mapbox": {
           "style": "dark"
          },
          "paper_bgcolor": "rgb(17,17,17)",
          "plot_bgcolor": "rgb(17,17,17)",
          "polar": {
           "angularaxis": {
            "gridcolor": "#506784",
            "linecolor": "#506784",
            "ticks": ""
           },
           "bgcolor": "rgb(17,17,17)",
           "radialaxis": {
            "gridcolor": "#506784",
            "linecolor": "#506784",
            "ticks": ""
           }
          },
          "scene": {
           "xaxis": {
            "backgroundcolor": "rgb(17,17,17)",
            "gridcolor": "#506784",
            "gridwidth": 2,
            "linecolor": "#506784",
            "showbackground": true,
            "ticks": "",
            "zerolinecolor": "#C8D4E3"
           },
           "yaxis": {
            "backgroundcolor": "rgb(17,17,17)",
            "gridcolor": "#506784",
            "gridwidth": 2,
            "linecolor": "#506784",
            "showbackground": true,
            "ticks": "",
            "zerolinecolor": "#C8D4E3"
           },
           "zaxis": {
            "backgroundcolor": "rgb(17,17,17)",
            "gridcolor": "#506784",
            "gridwidth": 2,
            "linecolor": "#506784",
            "showbackground": true,
            "ticks": "",
            "zerolinecolor": "#C8D4E3"
           }
          },
          "shapedefaults": {
           "line": {
            "color": "#f2f5fa"
           }
          },
          "sliderdefaults": {
           "bgcolor": "#C8D4E3",
           "bordercolor": "rgb(17,17,17)",
           "borderwidth": 1,
           "tickwidth": 0
          },
          "ternary": {
           "aaxis": {
            "gridcolor": "#506784",
            "linecolor": "#506784",
            "ticks": ""
           },
           "baxis": {
            "gridcolor": "#506784",
            "linecolor": "#506784",
            "ticks": ""
           },
           "bgcolor": "rgb(17,17,17)",
           "caxis": {
            "gridcolor": "#506784",
            "linecolor": "#506784",
            "ticks": ""
           }
          },
          "title": {
           "x": 0.05
          },
          "updatemenudefaults": {
           "bgcolor": "#506784",
           "borderwidth": 0
          },
          "xaxis": {
           "automargin": true,
           "gridcolor": "#283442",
           "linecolor": "#506784",
           "ticks": "",
           "title": {
            "standoff": 15
           },
           "zerolinecolor": "#283442",
           "zerolinewidth": 2
          },
          "yaxis": {
           "automargin": true,
           "gridcolor": "#283442",
           "linecolor": "#506784",
           "ticks": "",
           "title": {
            "standoff": 15
           },
           "zerolinecolor": "#283442",
           "zerolinewidth": 2
          }
         }
        },
        "updatemenus": [
         {
          "buttons": [
           {
            "args": [
             null,
             {
              "frame": {
               "duration": 500,
               "redraw": true
              },
              "fromcurrent": true,
              "mode": "immediate",
              "transition": {
               "duration": 500,
               "easing": "linear"
              }
             }
            ],
            "label": "&#9654;",
            "method": "animate"
           },
           {
            "args": [
             [
              null
             ],
             {
              "frame": {
               "duration": 0,
               "redraw": true
              },
              "fromcurrent": true,
              "mode": "immediate",
              "transition": {
               "duration": 0,
               "easing": "linear"
              }
             }
            ],
            "label": "&#9724;",
            "method": "animate"
           }
          ],
          "direction": "left",
          "pad": {
           "r": 10,
           "t": 70
          },
          "showactive": false,
          "type": "buttons",
          "x": 0.1,
          "xanchor": "right",
          "y": 0,
          "yanchor": "top"
         }
        ],
        "xaxis": {
         "anchor": "y",
         "domain": [
          0,
          1
         ],
         "title": {
          "text": "Country"
         }
        },
        "yaxis": {
         "anchor": "x",
         "domain": [
          0,
          1
         ],
         "range": [
          0,
          9834141
         ],
         "title": {
          "text": "Cases"
         }
        }
       }
      }
     },
     "metadata": {}
    }
   ],
   "source": [
    "# Based on number of recoveries\n",
    "animated_barchart(recovered_global,\"recovered\")"
   ]
  },
  {
   "source": [
    "## Comparison animations based on users choice"
   ],
   "cell_type": "markdown",
   "metadata": {}
  },
  {
   "cell_type": "code",
   "execution_count": 5,
   "metadata": {},
   "outputs": [
    {
     "output_type": "display_data",
     "data": {
      "application/vnd.plotly.v1+json": {
       "config": {
        "plotlyServerURL": "https://plotly.com"
       },
       "data": [
        {
         "alignmentgroup": "True",
         "hovertemplate": "Date=1/24/20<br>Country=%{x}<br>Cases=%{y}<extra></extra>",
         "ids": [
          "Australia",
          "Brazil",
          "India",
          "US"
         ],
         "legendgroup": "",
         "marker": {
          "color": "#45a2ff"
         },
         "name": "",
         "offsetgroup": "",
         "orientation": "v",
         "showlegend": false,
         "textposition": "auto",
         "type": "bar",
         "x": [
          "Australia",
          "Brazil",
          "India",
          "US"
         ],
         "xaxis": "x",
         "y": [
          0,
          0,
          0,
          2
         ],
         "yaxis": "y"
        }
       ],
       "frames": [
        {
         "data": [
          {
           "alignmentgroup": "True",
           "hovertemplate": "Date=1/24/20<br>Country=%{x}<br>Cases=%{y}<extra></extra>",
           "ids": [
            "Australia",
            "Brazil",
            "India",
            "US"
           ],
           "legendgroup": "",
           "marker": {
            "color": "#45a2ff"
           },
           "name": "",
           "offsetgroup": "",
           "orientation": "v",
           "showlegend": false,
           "textposition": "auto",
           "type": "bar",
           "x": [
            "Australia",
            "Brazil",
            "India",
            "US"
           ],
           "xaxis": "x",
           "y": [
            0,
            0,
            0,
            2
           ],
           "yaxis": "y"
          }
         ],
         "name": "1/24/20"
        },
        {
         "data": [
          {
           "alignmentgroup": "True",
           "hovertemplate": "Date=1/29/20<br>Country=%{x}<br>Cases=%{y}<extra></extra>",
           "ids": [
            "Australia",
            "Brazil",
            "India",
            "US"
           ],
           "legendgroup": "",
           "marker": {
            "color": "#45a2ff"
           },
           "name": "",
           "offsetgroup": "",
           "orientation": "v",
           "showlegend": false,
           "textposition": "auto",
           "type": "bar",
           "x": [
            "Australia",
            "Brazil",
            "India",
            "US"
           ],
           "xaxis": "x",
           "y": [
            6,
            0,
            0,
            6
           ],
           "yaxis": "y"
          }
         ],
         "name": "1/29/20"
        },
        {
         "data": [
          {
           "alignmentgroup": "True",
           "hovertemplate": "Date=2/3/20<br>Country=%{x}<br>Cases=%{y}<extra></extra>",
           "ids": [
            "Australia",
            "Brazil",
            "India",
            "US"
           ],
           "legendgroup": "",
           "marker": {
            "color": "#45a2ff"
           },
           "name": "",
           "offsetgroup": "",
           "orientation": "v",
           "showlegend": false,
           "textposition": "auto",
           "type": "bar",
           "x": [
            "Australia",
            "Brazil",
            "India",
            "US"
           ],
           "xaxis": "x",
           "y": [
            12,
            0,
            3,
            11
           ],
           "yaxis": "y"
          }
         ],
         "name": "2/3/20"
        },
        {
         "data": [
          {
           "alignmentgroup": "True",
           "hovertemplate": "Date=2/8/20<br>Country=%{x}<br>Cases=%{y}<extra></extra>",
           "ids": [
            "Australia",
            "Brazil",
            "India",
            "US"
           ],
           "legendgroup": "",
           "marker": {
            "color": "#45a2ff"
           },
           "name": "",
           "offsetgroup": "",
           "orientation": "v",
           "showlegend": false,
           "textposition": "auto",
           "type": "bar",
           "x": [
            "Australia",
            "Brazil",
            "India",
            "US"
           ],
           "xaxis": "x",
           "y": [
            15,
            0,
            3,
            12
           ],
           "yaxis": "y"
          }
         ],
         "name": "2/8/20"
        },
        {
         "data": [
          {
           "alignmentgroup": "True",
           "hovertemplate": "Date=2/11/20<br>Country=%{x}<br>Cases=%{y}<extra></extra>",
           "ids": [
            "Australia",
            "Brazil",
            "India",
            "US"
           ],
           "legendgroup": "",
           "marker": {
            "color": "#45a2ff"
           },
           "name": "",
           "offsetgroup": "",
           "orientation": "v",
           "showlegend": false,
           "textposition": "auto",
           "type": "bar",
           "x": [
            "Australia",
            "Brazil",
            "India",
            "US"
           ],
           "xaxis": "x",
           "y": [
            15,
            0,
            3,
            13
           ],
           "yaxis": "y"
          }
         ],
         "name": "2/11/20"
        },
        {
         "data": [
          {
           "alignmentgroup": "True",
           "hovertemplate": "Date=2/16/20<br>Country=%{x}<br>Cases=%{y}<extra></extra>",
           "ids": [
            "Australia",
            "Brazil",
            "India",
            "US"
           ],
           "legendgroup": "",
           "marker": {
            "color": "#45a2ff"
           },
           "name": "",
           "offsetgroup": "",
           "orientation": "v",
           "showlegend": false,
           "textposition": "auto",
           "type": "bar",
           "x": [
            "Australia",
            "Brazil",
            "India",
            "US"
           ],
           "xaxis": "x",
           "y": [
            15,
            0,
            3,
            14
           ],
           "yaxis": "y"
          }
         ],
         "name": "2/16/20"
        },
        {
         "data": [
          {
           "alignmentgroup": "True",
           "hovertemplate": "Date=2/20/20<br>Country=%{x}<br>Cases=%{y}<extra></extra>",
           "ids": [
            "Australia",
            "Brazil",
            "India",
            "US"
           ],
           "legendgroup": "",
           "marker": {
            "color": "#45a2ff"
           },
           "name": "",
           "offsetgroup": "",
           "orientation": "v",
           "showlegend": false,
           "textposition": "auto",
           "type": "bar",
           "x": [
            "Australia",
            "Brazil",
            "India",
            "US"
           ],
           "xaxis": "x",
           "y": [
            15,
            0,
            3,
            14
           ],
           "yaxis": "y"
          }
         ],
         "name": "2/20/20"
        },
        {
         "data": [
          {
           "alignmentgroup": "True",
           "hovertemplate": "Date=2/25/20<br>Country=%{x}<br>Cases=%{y}<extra></extra>",
           "ids": [
            "Australia",
            "Brazil",
            "India",
            "US"
           ],
           "legendgroup": "",
           "marker": {
            "color": "#45a2ff"
           },
           "name": "",
           "offsetgroup": "",
           "orientation": "v",
           "showlegend": false,
           "textposition": "auto",
           "type": "bar",
           "x": [
            "Australia",
            "Brazil",
            "India",
            "US"
           ],
           "xaxis": "x",
           "y": [
            15,
            0,
            3,
            16
           ],
           "yaxis": "y"
          }
         ],
         "name": "2/25/20"
        },
        {
         "data": [
          {
           "alignmentgroup": "True",
           "hovertemplate": "Date=3/7/20<br>Country=%{x}<br>Cases=%{y}<extra></extra>",
           "ids": [
            "Australia",
            "Brazil",
            "India",
            "US"
           ],
           "legendgroup": "",
           "marker": {
            "color": "#45a2ff"
           },
           "name": "",
           "offsetgroup": "",
           "orientation": "v",
           "showlegend": false,
           "textposition": "auto",
           "type": "bar",
           "x": [
            "Australia",
            "Brazil",
            "India",
            "US"
           ],
           "xaxis": "x",
           "y": [
            63,
            13,
            34,
            403
           ],
           "yaxis": "y"
          }
         ],
         "name": "3/7/20"
        },
        {
         "data": [
          {
           "alignmentgroup": "True",
           "hovertemplate": "Date=3/12/20<br>Country=%{x}<br>Cases=%{y}<extra></extra>",
           "ids": [
            "Australia",
            "Brazil",
            "India",
            "US"
           ],
           "legendgroup": "",
           "marker": {
            "color": "#45a2ff"
           },
           "name": "",
           "offsetgroup": "",
           "orientation": "v",
           "showlegend": false,
           "textposition": "auto",
           "type": "bar",
           "x": [
            "Australia",
            "Brazil",
            "India",
            "US"
           ],
           "xaxis": "x",
           "y": [
            128,
            52,
            73,
            1586
           ],
           "yaxis": "y"
          }
         ],
         "name": "3/12/20"
        },
        {
         "data": [
          {
           "alignmentgroup": "True",
           "hovertemplate": "Date=3/17/20<br>Country=%{x}<br>Cases=%{y}<extra></extra>",
           "ids": [
            "Australia",
            "Brazil",
            "India",
            "US"
           ],
           "legendgroup": "",
           "marker": {
            "color": "#45a2ff"
           },
           "name": "",
           "offsetgroup": "",
           "orientation": "v",
           "showlegend": false,
           "textposition": "auto",
           "type": "bar",
           "x": [
            "Australia",
            "Brazil",
            "India",
            "US"
           ],
           "xaxis": "x",
           "y": [
            452,
            321,
            142,
            6512
           ],
           "yaxis": "y"
          }
         ],
         "name": "3/17/20"
        },
        {
         "data": [
          {
           "alignmentgroup": "True",
           "hovertemplate": "Date=3/21/20<br>Country=%{x}<br>Cases=%{y}<extra></extra>",
           "ids": [
            "Australia",
            "Brazil",
            "India",
            "US"
           ],
           "legendgroup": "",
           "marker": {
            "color": "#45a2ff"
           },
           "name": "",
           "offsetgroup": "",
           "orientation": "v",
           "showlegend": false,
           "textposition": "auto",
           "type": "bar",
           "x": [
            "Australia",
            "Brazil",
            "India",
            "US"
           ],
           "xaxis": "x",
           "y": [
            1071,
            1021,
            330,
            26025
           ],
           "yaxis": "y"
          }
         ],
         "name": "3/21/20"
        },
        {
         "data": [
          {
           "alignmentgroup": "True",
           "hovertemplate": "Date=3/26/20<br>Country=%{x}<br>Cases=%{y}<extra></extra>",
           "ids": [
            "Australia",
            "Brazil",
            "India",
            "US"
           ],
           "legendgroup": "",
           "marker": {
            "color": "#45a2ff"
           },
           "name": "",
           "offsetgroup": "",
           "orientation": "v",
           "showlegend": false,
           "textposition": "auto",
           "type": "bar",
           "x": [
            "Australia",
            "Brazil",
            "India",
            "US"
           ],
           "xaxis": "x",
           "y": [
            2810,
            2985,
            727,
            86613
           ],
           "yaxis": "y"
          }
         ],
         "name": "3/26/20"
        },
        {
         "data": [
          {
           "alignmentgroup": "True",
           "hovertemplate": "Date=3/30/20<br>Country=%{x}<br>Cases=%{y}<extra></extra>",
           "ids": [
            "Australia",
            "Brazil",
            "India",
            "US"
           ],
           "legendgroup": "",
           "marker": {
            "color": "#45a2ff"
           },
           "name": "",
           "offsetgroup": "",
           "orientation": "v",
           "showlegend": false,
           "textposition": "auto",
           "type": "bar",
           "x": [
            "Australia",
            "Brazil",
            "India",
            "US"
           ],
           "xaxis": "x",
           "y": [
            4361,
            4579,
            1251,
            165861
           ],
           "yaxis": "y"
          }
         ],
         "name": "3/30/20"
        },
        {
         "data": [
          {
           "alignmentgroup": "True",
           "hovertemplate": "Date=4/3/20<br>Country=%{x}<br>Cases=%{y}<extra></extra>",
           "ids": [
            "Australia",
            "Brazil",
            "India",
            "US"
           ],
           "legendgroup": "",
           "marker": {
            "color": "#45a2ff"
           },
           "name": "",
           "offsetgroup": "",
           "orientation": "v",
           "showlegend": false,
           "textposition": "auto",
           "type": "bar",
           "x": [
            "Australia",
            "Brazil",
            "India",
            "US"
           ],
           "xaxis": "x",
           "y": [
            5330,
            9056,
            2567,
            288885
           ],
           "yaxis": "y"
          }
         ],
         "name": "4/3/20"
        },
        {
         "data": [
          {
           "alignmentgroup": "True",
           "hovertemplate": "Date=4/7/20<br>Country=%{x}<br>Cases=%{y}<extra></extra>",
           "ids": [
            "Australia",
            "Brazil",
            "India",
            "US"
           ],
           "legendgroup": "",
           "marker": {
            "color": "#45a2ff"
           },
           "name": "",
           "offsetgroup": "",
           "orientation": "v",
           "showlegend": false,
           "textposition": "auto",
           "type": "bar",
           "x": [
            "Australia",
            "Brazil",
            "India",
            "US"
           ],
           "xaxis": "x",
           "y": [
            5895,
            14034,
            5311,
            413311
           ],
           "yaxis": "y"
          }
         ],
         "name": "4/7/20"
        },
        {
         "data": [
          {
           "alignmentgroup": "True",
           "hovertemplate": "Date=4/11/20<br>Country=%{x}<br>Cases=%{y}<extra></extra>",
           "ids": [
            "Australia",
            "Brazil",
            "India",
            "US"
           ],
           "legendgroup": "",
           "marker": {
            "color": "#45a2ff"
           },
           "name": "",
           "offsetgroup": "",
           "orientation": "v",
           "showlegend": false,
           "textposition": "auto",
           "type": "bar",
           "x": [
            "Australia",
            "Brazil",
            "India",
            "US"
           ],
           "xaxis": "x",
           "y": [
            6303,
            20727,
            8446,
            544018
           ],
           "yaxis": "y"
          }
         ],
         "name": "4/11/20"
        },
        {
         "data": [
          {
           "alignmentgroup": "True",
           "hovertemplate": "Date=4/16/20<br>Country=%{x}<br>Cases=%{y}<extra></extra>",
           "ids": [
            "Australia",
            "Brazil",
            "India",
            "US"
           ],
           "legendgroup": "",
           "marker": {
            "color": "#45a2ff"
           },
           "name": "",
           "offsetgroup": "",
           "orientation": "v",
           "showlegend": false,
           "textposition": "auto",
           "type": "bar",
           "x": [
            "Australia",
            "Brazil",
            "India",
            "US"
           ],
           "xaxis": "x",
           "y": [
            6462,
            30425,
            13430,
            682463
           ],
           "yaxis": "y"
          }
         ],
         "name": "4/16/20"
        },
        {
         "data": [
          {
           "alignmentgroup": "True",
           "hovertemplate": "Date=4/20/20<br>Country=%{x}<br>Cases=%{y}<extra></extra>",
           "ids": [
            "Australia",
            "Brazil",
            "India",
            "US"
           ],
           "legendgroup": "",
           "marker": {
            "color": "#45a2ff"
           },
           "name": "",
           "offsetgroup": "",
           "orientation": "v",
           "showlegend": false,
           "textposition": "auto",
           "type": "bar",
           "x": [
            "Australia",
            "Brazil",
            "India",
            "US"
           ],
           "xaxis": "x",
           "y": [
            6623,
            40743,
            18539,
            799121
           ],
           "yaxis": "y"
          }
         ],
         "name": "4/20/20"
        },
        {
         "data": [
          {
           "alignmentgroup": "True",
           "hovertemplate": "Date=4/25/20<br>Country=%{x}<br>Cases=%{y}<extra></extra>",
           "ids": [
            "Australia",
            "Brazil",
            "India",
            "US"
           ],
           "legendgroup": "",
           "marker": {
            "color": "#45a2ff"
           },
           "name": "",
           "offsetgroup": "",
           "orientation": "v",
           "showlegend": false,
           "textposition": "auto",
           "type": "bar",
           "x": [
            "Australia",
            "Brazil",
            "India",
            "US"
           ],
           "xaxis": "x",
           "y": [
            6694,
            59324,
            26283,
            949989
           ],
           "yaxis": "y"
          }
         ],
         "name": "4/25/20"
        },
        {
         "data": [
          {
           "alignmentgroup": "True",
           "hovertemplate": "Date=5/3/20<br>Country=%{x}<br>Cases=%{y}<extra></extra>",
           "ids": [
            "Australia",
            "Brazil",
            "India",
            "US"
           ],
           "legendgroup": "",
           "marker": {
            "color": "#45a2ff"
           },
           "name": "",
           "offsetgroup": "",
           "orientation": "v",
           "showlegend": false,
           "textposition": "auto",
           "type": "bar",
           "x": [
            "Australia",
            "Brazil",
            "India",
            "US"
           ],
           "xaxis": "x",
           "y": [
            6822,
            101826,
            42505,
            1166955
           ],
           "yaxis": "y"
          }
         ],
         "name": "5/3/20"
        },
        {
         "data": [
          {
           "alignmentgroup": "True",
           "hovertemplate": "Date=5/6/20<br>Country=%{x}<br>Cases=%{y}<extra></extra>",
           "ids": [
            "Australia",
            "Brazil",
            "India",
            "US"
           ],
           "legendgroup": "",
           "marker": {
            "color": "#45a2ff"
           },
           "name": "",
           "offsetgroup": "",
           "orientation": "v",
           "showlegend": false,
           "textposition": "auto",
           "type": "bar",
           "x": [
            "Australia",
            "Brazil",
            "India",
            "US"
           ],
           "xaxis": "x",
           "y": [
            6894,
            126611,
            52987,
            1239745
           ],
           "yaxis": "y"
          }
         ],
         "name": "5/6/20"
        },
        {
         "data": [
          {
           "alignmentgroup": "True",
           "hovertemplate": "Date=5/11/20<br>Country=%{x}<br>Cases=%{y}<extra></extra>",
           "ids": [
            "Australia",
            "Brazil",
            "India",
            "US"
           ],
           "legendgroup": "",
           "marker": {
            "color": "#45a2ff"
           },
           "name": "",
           "offsetgroup": "",
           "orientation": "v",
           "showlegend": false,
           "textposition": "auto",
           "type": "bar",
           "x": [
            "Australia",
            "Brazil",
            "India",
            "US"
           ],
           "xaxis": "x",
           "y": [
            6970,
            169594,
            70768,
            1357368
           ],
           "yaxis": "y"
          }
         ],
         "name": "5/11/20"
        },
        {
         "data": [
          {
           "alignmentgroup": "True",
           "hovertemplate": "Date=5/16/20<br>Country=%{x}<br>Cases=%{y}<extra></extra>",
           "ids": [
            "Australia",
            "Brazil",
            "India",
            "US"
           ],
           "legendgroup": "",
           "marker": {
            "color": "#45a2ff"
           },
           "name": "",
           "offsetgroup": "",
           "orientation": "v",
           "showlegend": false,
           "textposition": "auto",
           "type": "bar",
           "x": [
            "Australia",
            "Brazil",
            "India",
            "US"
           ],
           "xaxis": "x",
           "y": [
            7044,
            233511,
            90648,
            1476261
           ],
           "yaxis": "y"
          }
         ],
         "name": "5/16/20"
        },
        {
         "data": [
          {
           "alignmentgroup": "True",
           "hovertemplate": "Date=5/20/20<br>Country=%{x}<br>Cases=%{y}<extra></extra>",
           "ids": [
            "Australia",
            "Brazil",
            "India",
            "US"
           ],
           "legendgroup": "",
           "marker": {
            "color": "#45a2ff"
           },
           "name": "",
           "offsetgroup": "",
           "orientation": "v",
           "showlegend": false,
           "textposition": "auto",
           "type": "bar",
           "x": [
            "Australia",
            "Brazil",
            "India",
            "US"
           ],
           "xaxis": "x",
           "y": [
            7081,
            291579,
            112028,
            1560615
           ],
           "yaxis": "y"
          }
         ],
         "name": "5/20/20"
        },
        {
         "data": [
          {
           "alignmentgroup": "True",
           "hovertemplate": "Date=5/25/20<br>Country=%{x}<br>Cases=%{y}<extra></extra>",
           "ids": [
            "Australia",
            "Brazil",
            "India",
            "US"
           ],
           "legendgroup": "",
           "marker": {
            "color": "#45a2ff"
           },
           "name": "",
           "offsetgroup": "",
           "orientation": "v",
           "showlegend": false,
           "textposition": "auto",
           "type": "bar",
           "x": [
            "Australia",
            "Brazil",
            "India",
            "US"
           ],
           "xaxis": "x",
           "y": [
            7126,
            374898,
            144950,
            1670129
           ],
           "yaxis": "y"
          }
         ],
         "name": "5/25/20"
        },
        {
         "data": [
          {
           "alignmentgroup": "True",
           "hovertemplate": "Date=6/2/20<br>Country=%{x}<br>Cases=%{y}<extra></extra>",
           "ids": [
            "Australia",
            "Brazil",
            "India",
            "US"
           ],
           "legendgroup": "",
           "marker": {
            "color": "#45a2ff"
           },
           "name": "",
           "offsetgroup": "",
           "orientation": "v",
           "showlegend": false,
           "textposition": "auto",
           "type": "bar",
           "x": [
            "Australia",
            "Brazil",
            "India",
            "US"
           ],
           "xaxis": "x",
           "y": [
            7229,
            555383,
            207191,
            1835988
           ],
           "yaxis": "y"
          }
         ],
         "name": "6/2/20"
        },
        {
         "data": [
          {
           "alignmentgroup": "True",
           "hovertemplate": "Date=6/6/20<br>Country=%{x}<br>Cases=%{y}<extra></extra>",
           "ids": [
            "Australia",
            "Brazil",
            "India",
            "US"
           ],
           "legendgroup": "",
           "marker": {
            "color": "#45a2ff"
           },
           "name": "",
           "offsetgroup": "",
           "orientation": "v",
           "showlegend": false,
           "textposition": "auto",
           "type": "bar",
           "x": [
            "Australia",
            "Brazil",
            "India",
            "US"
           ],
           "xaxis": "x",
           "y": [
            7259,
            672846,
            246622,
            1923985
           ],
           "yaxis": "y"
          }
         ],
         "name": "6/6/20"
        },
        {
         "data": [
          {
           "alignmentgroup": "True",
           "hovertemplate": "Date=6/10/20<br>Country=%{x}<br>Cases=%{y}<extra></extra>",
           "ids": [
            "Australia",
            "Brazil",
            "India",
            "US"
           ],
           "legendgroup": "",
           "marker": {
            "color": "#45a2ff"
           },
           "name": "",
           "offsetgroup": "",
           "orientation": "v",
           "showlegend": false,
           "textposition": "auto",
           "type": "bar",
           "x": [
            "Australia",
            "Brazil",
            "India",
            "US"
           ],
           "xaxis": "x",
           "y": [
            7285,
            772416,
            286605,
            1998476
           ],
           "yaxis": "y"
          }
         ],
         "name": "6/10/20"
        },
        {
         "data": [
          {
           "alignmentgroup": "True",
           "hovertemplate": "Date=6/15/20<br>Country=%{x}<br>Cases=%{y}<extra></extra>",
           "ids": [
            "Australia",
            "Brazil",
            "India",
            "US"
           ],
           "legendgroup": "",
           "marker": {
            "color": "#45a2ff"
           },
           "name": "",
           "offsetgroup": "",
           "orientation": "v",
           "showlegend": false,
           "textposition": "auto",
           "type": "bar",
           "x": [
            "Australia",
            "Brazil",
            "India",
            "US"
           ],
           "xaxis": "x",
           "y": [
            7347,
            888271,
            343091,
            2109967
           ],
           "yaxis": "y"
          }
         ],
         "name": "6/15/20"
        },
        {
         "data": [
          {
           "alignmentgroup": "True",
           "hovertemplate": "Date=6/24/20<br>Country=%{x}<br>Cases=%{y}<extra></extra>",
           "ids": [
            "Australia",
            "Brazil",
            "India",
            "US"
           ],
           "legendgroup": "",
           "marker": {
            "color": "#45a2ff"
           },
           "name": "",
           "offsetgroup": "",
           "orientation": "v",
           "showlegend": false,
           "textposition": "auto",
           "type": "bar",
           "x": [
            "Australia",
            "Brazil",
            "India",
            "US"
           ],
           "xaxis": "x",
           "y": [
            7558,
            1188631,
            473105,
            2378031
           ],
           "yaxis": "y"
          }
         ],
         "name": "6/24/20"
        },
        {
         "data": [
          {
           "alignmentgroup": "True",
           "hovertemplate": "Date=6/29/20<br>Country=%{x}<br>Cases=%{y}<extra></extra>",
           "ids": [
            "Australia",
            "Brazil",
            "India",
            "US"
           ],
           "legendgroup": "",
           "marker": {
            "color": "#45a2ff"
           },
           "name": "",
           "offsetgroup": "",
           "orientation": "v",
           "showlegend": false,
           "textposition": "auto",
           "type": "bar",
           "x": [
            "Australia",
            "Brazil",
            "India",
            "US"
           ],
           "xaxis": "x",
           "y": [
            7834,
            1368195,
            566840,
            2585898
           ],
           "yaxis": "y"
          }
         ],
         "name": "6/29/20"
        },
        {
         "data": [
          {
           "alignmentgroup": "True",
           "hovertemplate": "Date=7/2/20<br>Country=%{x}<br>Cases=%{y}<extra></extra>",
           "ids": [
            "Australia",
            "Brazil",
            "India",
            "US"
           ],
           "legendgroup": "",
           "marker": {
            "color": "#45a2ff"
           },
           "name": "",
           "offsetgroup": "",
           "orientation": "v",
           "showlegend": false,
           "textposition": "auto",
           "type": "bar",
           "x": [
            "Australia",
            "Brazil",
            "India",
            "US"
           ],
           "xaxis": "x",
           "y": [
            8066,
            1496858,
            625544,
            2739067
           ],
           "yaxis": "y"
          }
         ],
         "name": "7/2/20"
        },
        {
         "data": [
          {
           "alignmentgroup": "True",
           "hovertemplate": "Date=7/5/20<br>Country=%{x}<br>Cases=%{y}<extra></extra>",
           "ids": [
            "Australia",
            "Brazil",
            "India",
            "US"
           ],
           "legendgroup": "",
           "marker": {
            "color": "#45a2ff"
           },
           "name": "",
           "offsetgroup": "",
           "orientation": "v",
           "showlegend": false,
           "textposition": "auto",
           "type": "bar",
           "x": [
            "Australia",
            "Brazil",
            "India",
            "US"
           ],
           "xaxis": "x",
           "y": [
            8583,
            1603055,
            697413,
            2886576
           ],
           "yaxis": "y"
          }
         ],
         "name": "7/5/20"
        },
        {
         "data": [
          {
           "alignmentgroup": "True",
           "hovertemplate": "Date=7/10/20<br>Country=%{x}<br>Cases=%{y}<extra></extra>",
           "ids": [
            "Australia",
            "Brazil",
            "India",
            "US"
           ],
           "legendgroup": "",
           "marker": {
            "color": "#45a2ff"
           },
           "name": "",
           "offsetgroup": "",
           "orientation": "v",
           "showlegend": false,
           "textposition": "auto",
           "type": "bar",
           "x": [
            "Australia",
            "Brazil",
            "India",
            "US"
           ],
           "xaxis": "x",
           "y": [
            9553,
            1800827,
            820916,
            3181241
           ],
           "yaxis": "y"
          }
         ],
         "name": "7/10/20"
        },
        {
         "data": [
          {
           "alignmentgroup": "True",
           "hovertemplate": "Date=7/15/20<br>Country=%{x}<br>Cases=%{y}<extra></extra>",
           "ids": [
            "Australia",
            "Brazil",
            "India",
            "US"
           ],
           "legendgroup": "",
           "marker": {
            "color": "#45a2ff"
           },
           "name": "",
           "offsetgroup": "",
           "orientation": "v",
           "showlegend": false,
           "textposition": "auto",
           "type": "bar",
           "x": [
            "Australia",
            "Brazil",
            "India",
            "US"
           ],
           "xaxis": "x",
           "y": [
            10810,
            1966748,
            968857,
            3495012
           ],
           "yaxis": "y"
          }
         ],
         "name": "7/15/20"
        },
        {
         "data": [
          {
           "alignmentgroup": "True",
           "hovertemplate": "Date=7/24/20<br>Country=%{x}<br>Cases=%{y}<extra></extra>",
           "ids": [
            "Australia",
            "Brazil",
            "India",
            "US"
           ],
           "legendgroup": "",
           "marker": {
            "color": "#45a2ff"
           },
           "name": "",
           "offsetgroup": "",
           "orientation": "v",
           "showlegend": false,
           "textposition": "auto",
           "type": "bar",
           "x": [
            "Australia",
            "Brazil",
            "India",
            "US"
           ],
           "xaxis": "x",
           "y": [
            13950,
            2343366,
            1337024,
            4106394
           ],
           "yaxis": "y"
          }
         ],
         "name": "7/24/20"
        },
        {
         "data": [
          {
           "alignmentgroup": "True",
           "hovertemplate": "Date=7/29/20<br>Country=%{x}<br>Cases=%{y}<extra></extra>",
           "ids": [
            "Australia",
            "Brazil",
            "India",
            "US"
           ],
           "legendgroup": "",
           "marker": {
            "color": "#45a2ff"
           },
           "name": "",
           "offsetgroup": "",
           "orientation": "v",
           "showlegend": false,
           "textposition": "auto",
           "type": "bar",
           "x": [
            "Australia",
            "Brazil",
            "India",
            "US"
           ],
           "xaxis": "x",
           "y": [
            16298,
            2552265,
            1581963,
            4419874
           ],
           "yaxis": "y"
          }
         ],
         "name": "7/29/20"
        },
        {
         "data": [
          {
           "alignmentgroup": "True",
           "hovertemplate": "Date=8/1/20<br>Country=%{x}<br>Cases=%{y}<extra></extra>",
           "ids": [
            "Australia",
            "Brazil",
            "India",
            "US"
           ],
           "legendgroup": "",
           "marker": {
            "color": "#45a2ff"
           },
           "name": "",
           "offsetgroup": "",
           "orientation": "v",
           "showlegend": false,
           "textposition": "auto",
           "type": "bar",
           "x": [
            "Australia",
            "Brazil",
            "India",
            "US"
           ],
           "xaxis": "x",
           "y": [
            17895,
            2707877,
            1750723,
            4613200
           ],
           "yaxis": "y"
          }
         ],
         "name": "8/1/20"
        },
        {
         "data": [
          {
           "alignmentgroup": "True",
           "hovertemplate": "Date=8/4/20<br>Country=%{x}<br>Cases=%{y}<extra></extra>",
           "ids": [
            "Australia",
            "Brazil",
            "India",
            "US"
           ],
           "legendgroup": "",
           "marker": {
            "color": "#45a2ff"
           },
           "name": "",
           "offsetgroup": "",
           "orientation": "v",
           "showlegend": false,
           "textposition": "auto",
           "type": "bar",
           "x": [
            "Australia",
            "Brazil",
            "India",
            "US"
           ],
           "xaxis": "x",
           "y": [
            19445,
            2801921,
            1908254,
            4761351
           ],
           "yaxis": "y"
          }
         ],
         "name": "8/4/20"
        },
        {
         "data": [
          {
           "alignmentgroup": "True",
           "hovertemplate": "Date=8/9/20<br>Country=%{x}<br>Cases=%{y}<extra></extra>",
           "ids": [
            "Australia",
            "Brazil",
            "India",
            "US"
           ],
           "legendgroup": "",
           "marker": {
            "color": "#45a2ff"
           },
           "name": "",
           "offsetgroup": "",
           "orientation": "v",
           "showlegend": false,
           "textposition": "auto",
           "type": "bar",
           "x": [
            "Australia",
            "Brazil",
            "India",
            "US"
           ],
           "xaxis": "x",
           "y": [
            21397,
            3035422,
            2215074,
            5034154
           ],
           "yaxis": "y"
          }
         ],
         "name": "8/9/20"
        },
        {
         "data": [
          {
           "alignmentgroup": "True",
           "hovertemplate": "Date=8/14/20<br>Country=%{x}<br>Cases=%{y}<extra></extra>",
           "ids": [
            "Australia",
            "Brazil",
            "India",
            "US"
           ],
           "legendgroup": "",
           "marker": {
            "color": "#45a2ff"
           },
           "name": "",
           "offsetgroup": "",
           "orientation": "v",
           "showlegend": false,
           "textposition": "auto",
           "type": "bar",
           "x": [
            "Australia",
            "Brazil",
            "India",
            "US"
           ],
           "xaxis": "x",
           "y": [
            23035,
            3275520,
            2525922,
            5302819
           ],
           "yaxis": "y"
          }
         ],
         "name": "8/14/20"
        },
        {
         "data": [
          {
           "alignmentgroup": "True",
           "hovertemplate": "Date=8/19/20<br>Country=%{x}<br>Cases=%{y}<extra></extra>",
           "ids": [
            "Australia",
            "Brazil",
            "India",
            "US"
           ],
           "legendgroup": "",
           "marker": {
            "color": "#45a2ff"
           },
           "name": "",
           "offsetgroup": "",
           "orientation": "v",
           "showlegend": false,
           "textposition": "auto",
           "type": "bar",
           "x": [
            "Australia",
            "Brazil",
            "India",
            "US"
           ],
           "xaxis": "x",
           "y": [
            24236,
            3456652,
            2836925,
            5519619
           ],
           "yaxis": "y"
          }
         ],
         "name": "8/19/20"
        },
        {
         "data": [
          {
           "alignmentgroup": "True",
           "hovertemplate": "Date=8/23/20<br>Country=%{x}<br>Cases=%{y}<extra></extra>",
           "ids": [
            "Australia",
            "Brazil",
            "India",
            "US"
           ],
           "legendgroup": "",
           "marker": {
            "color": "#45a2ff"
           },
           "name": "",
           "offsetgroup": "",
           "orientation": "v",
           "showlegend": false,
           "textposition": "auto",
           "type": "bar",
           "x": [
            "Australia",
            "Brazil",
            "India",
            "US"
           ],
           "xaxis": "x",
           "y": [
            24915,
            3605783,
            3106348,
            5690061
           ],
           "yaxis": "y"
          }
         ],
         "name": "8/23/20"
        },
        {
         "data": [
          {
           "alignmentgroup": "True",
           "hovertemplate": "Date=8/28/20<br>Country=%{x}<br>Cases=%{y}<extra></extra>",
           "ids": [
            "Australia",
            "Brazil",
            "India",
            "US"
           ],
           "legendgroup": "",
           "marker": {
            "color": "#45a2ff"
           },
           "name": "",
           "offsetgroup": "",
           "orientation": "v",
           "showlegend": false,
           "textposition": "auto",
           "type": "bar",
           "x": [
            "Australia",
            "Brazil",
            "India",
            "US"
           ],
           "xaxis": "x",
           "y": [
            25547,
            3804803,
            3463972,
            5904305
           ],
           "yaxis": "y"
          }
         ],
         "name": "8/28/20"
        },
        {
         "data": [
          {
           "alignmentgroup": "True",
           "hovertemplate": "Date=9/4/20<br>Country=%{x}<br>Cases=%{y}<extra></extra>",
           "ids": [
            "Australia",
            "Brazil",
            "India",
            "US"
           ],
           "legendgroup": "",
           "marker": {
            "color": "#45a2ff"
           },
           "name": "",
           "offsetgroup": "",
           "orientation": "v",
           "showlegend": false,
           "textposition": "auto",
           "type": "bar",
           "x": [
            "Australia",
            "Brazil",
            "India",
            "US"
           ],
           "xaxis": "x",
           "y": [
            26207,
            4091801,
            4023179,
            6196213
           ],
           "yaxis": "y"
          }
         ],
         "name": "9/4/20"
        },
        {
         "data": [
          {
           "alignmentgroup": "True",
           "hovertemplate": "Date=9/9/20<br>Country=%{x}<br>Cases=%{y}<extra></extra>",
           "ids": [
            "Australia",
            "Brazil",
            "India",
            "US"
           ],
           "legendgroup": "",
           "marker": {
            "color": "#45a2ff"
           },
           "name": "",
           "offsetgroup": "",
           "orientation": "v",
           "showlegend": false,
           "textposition": "auto",
           "type": "bar",
           "x": [
            "Australia",
            "Brazil",
            "India",
            "US"
           ],
           "xaxis": "x",
           "y": [
            26524,
            4197889,
            4465863,
            6355282
           ],
           "yaxis": "y"
          }
         ],
         "name": "9/9/20"
        },
        {
         "data": [
          {
           "alignmentgroup": "True",
           "hovertemplate": "Date=9/13/20<br>Country=%{x}<br>Cases=%{y}<extra></extra>",
           "ids": [
            "Australia",
            "Brazil",
            "India",
            "US"
           ],
           "legendgroup": "",
           "marker": {
            "color": "#45a2ff"
           },
           "name": "",
           "offsetgroup": "",
           "orientation": "v",
           "showlegend": false,
           "textposition": "auto",
           "type": "bar",
           "x": [
            "Australia",
            "Brazil",
            "India",
            "US"
           ],
           "xaxis": "x",
           "y": [
            26692,
            4330455,
            4846427,
            6514296
           ],
           "yaxis": "y"
          }
         ],
         "name": "9/13/20"
        },
        {
         "data": [
          {
           "alignmentgroup": "True",
           "hovertemplate": "Date=9/18/20<br>Country=%{x}<br>Cases=%{y}<extra></extra>",
           "ids": [
            "Australia",
            "Brazil",
            "India",
            "US"
           ],
           "legendgroup": "",
           "marker": {
            "color": "#45a2ff"
           },
           "name": "",
           "offsetgroup": "",
           "orientation": "v",
           "showlegend": false,
           "textposition": "auto",
           "type": "bar",
           "x": [
            "Australia",
            "Brazil",
            "India",
            "US"
           ],
           "xaxis": "x",
           "y": [
            26885,
            4495183,
            5308014,
            6720266
           ],
           "yaxis": "y"
          }
         ],
         "name": "9/18/20"
        },
        {
         "data": [
          {
           "alignmentgroup": "True",
           "hovertemplate": "Date=9/22/20<br>Country=%{x}<br>Cases=%{y}<extra></extra>",
           "ids": [
            "Australia",
            "Brazil",
            "India",
            "US"
           ],
           "legendgroup": "",
           "marker": {
            "color": "#45a2ff"
           },
           "name": "",
           "offsetgroup": "",
           "orientation": "v",
           "showlegend": false,
           "textposition": "auto",
           "type": "bar",
           "x": [
            "Australia",
            "Brazil",
            "India",
            "US"
           ],
           "xaxis": "x",
           "y": [
            26972,
            4591364,
            5646010,
            6891985
           ],
           "yaxis": "y"
          }
         ],
         "name": "9/22/20"
        },
        {
         "data": [
          {
           "alignmentgroup": "True",
           "hovertemplate": "Date=9/27/20<br>Country=%{x}<br>Cases=%{y}<extra></extra>",
           "ids": [
            "Australia",
            "Brazil",
            "India",
            "US"
           ],
           "legendgroup": "",
           "marker": {
            "color": "#45a2ff"
           },
           "name": "",
           "offsetgroup": "",
           "orientation": "v",
           "showlegend": false,
           "textposition": "auto",
           "type": "bar",
           "x": [
            "Australia",
            "Brazil",
            "India",
            "US"
           ],
           "xaxis": "x",
           "y": [
            27044,
            4732309,
            6074702,
            7106487
           ],
           "yaxis": "y"
          }
         ],
         "name": "9/27/20"
        },
        {
         "data": [
          {
           "alignmentgroup": "True",
           "hovertemplate": "Date=10/3/20<br>Country=%{x}<br>Cases=%{y}<extra></extra>",
           "ids": [
            "Australia",
            "Brazil",
            "India",
            "US"
           ],
           "legendgroup": "",
           "marker": {
            "color": "#45a2ff"
           },
           "name": "",
           "offsetgroup": "",
           "orientation": "v",
           "showlegend": false,
           "textposition": "auto",
           "type": "bar",
           "x": [
            "Australia",
            "Brazil",
            "India",
            "US"
           ],
           "xaxis": "x",
           "y": [
            27135,
            4906833,
            6549373,
            7371323
           ],
           "yaxis": "y"
          }
         ],
         "name": "10/3/20"
        },
        {
         "data": [
          {
           "alignmentgroup": "True",
           "hovertemplate": "Date=10/6/20<br>Country=%{x}<br>Cases=%{y}<extra></extra>",
           "ids": [
            "Australia",
            "Brazil",
            "India",
            "US"
           ],
           "legendgroup": "",
           "marker": {
            "color": "#45a2ff"
           },
           "name": "",
           "offsetgroup": "",
           "orientation": "v",
           "showlegend": false,
           "textposition": "auto",
           "type": "bar",
           "x": [
            "Australia",
            "Brazil",
            "India",
            "US"
           ],
           "xaxis": "x",
           "y": [
            27181,
            4969141,
            6757131,
            7491223
           ],
           "yaxis": "y"
          }
         ],
         "name": "10/6/20"
        },
        {
         "data": [
          {
           "alignmentgroup": "True",
           "hovertemplate": "Date=10/11/20<br>Country=%{x}<br>Cases=%{y}<extra></extra>",
           "ids": [
            "Australia",
            "Brazil",
            "India",
            "US"
           ],
           "legendgroup": "",
           "marker": {
            "color": "#45a2ff"
           },
           "name": "",
           "offsetgroup": "",
           "orientation": "v",
           "showlegend": false,
           "textposition": "auto",
           "type": "bar",
           "x": [
            "Australia",
            "Brazil",
            "India",
            "US"
           ],
           "xaxis": "x",
           "y": [
            27285,
            5094979,
            7120538,
            7757365
           ],
           "yaxis": "y"
          }
         ],
         "name": "10/11/20"
        },
        {
         "data": [
          {
           "alignmentgroup": "True",
           "hovertemplate": "Date=10/16/20<br>Country=%{x}<br>Cases=%{y}<extra></extra>",
           "ids": [
            "Australia",
            "Brazil",
            "India",
            "US"
           ],
           "legendgroup": "",
           "marker": {
            "color": "#45a2ff"
           },
           "name": "",
           "offsetgroup": "",
           "orientation": "v",
           "showlegend": false,
           "textposition": "auto",
           "type": "bar",
           "x": [
            "Australia",
            "Brazil",
            "India",
            "US"
           ],
           "xaxis": "x",
           "y": [
            27378,
            5200300,
            7432680,
            8042848
           ],
           "yaxis": "y"
          }
         ],
         "name": "10/16/20"
        },
        {
         "data": [
          {
           "alignmentgroup": "True",
           "hovertemplate": "Date=10/20/20<br>Country=%{x}<br>Cases=%{y}<extra></extra>",
           "ids": [
            "Australia",
            "Brazil",
            "India",
            "US"
           ],
           "legendgroup": "",
           "marker": {
            "color": "#45a2ff"
           },
           "name": "",
           "offsetgroup": "",
           "orientation": "v",
           "showlegend": false,
           "textposition": "auto",
           "type": "bar",
           "x": [
            "Australia",
            "Brazil",
            "India",
            "US"
           ],
           "xaxis": "x",
           "y": [
            27443,
            5273954,
            7651107,
            8277478
           ],
           "yaxis": "y"
          }
         ],
         "name": "10/20/20"
        },
        {
         "data": [
          {
           "alignmentgroup": "True",
           "hovertemplate": "Date=10/25/20<br>Country=%{x}<br>Cases=%{y}<extra></extra>",
           "ids": [
            "Australia",
            "Brazil",
            "India",
            "US"
           ],
           "legendgroup": "",
           "marker": {
            "color": "#45a2ff"
           },
           "name": "",
           "offsetgroup": "",
           "orientation": "v",
           "showlegend": false,
           "textposition": "auto",
           "type": "bar",
           "x": [
            "Australia",
            "Brazil",
            "India",
            "US"
           ],
           "xaxis": "x",
           "y": [
            27525,
            5394128,
            7909959,
            8641994
           ],
           "yaxis": "y"
          }
         ],
         "name": "10/25/20"
        },
        {
         "data": [
          {
           "alignmentgroup": "True",
           "hovertemplate": "Date=11/2/20<br>Country=%{x}<br>Cases=%{y}<extra></extra>",
           "ids": [
            "Australia",
            "Brazil",
            "India",
            "US"
           ],
           "legendgroup": "",
           "marker": {
            "color": "#45a2ff"
           },
           "name": "",
           "offsetgroup": "",
           "orientation": "v",
           "showlegend": false,
           "textposition": "auto",
           "type": "bar",
           "x": [
            "Australia",
            "Brazil",
            "India",
            "US"
           ],
           "xaxis": "x",
           "y": [
            27610,
            5554206,
            8267623,
            9329001
           ],
           "yaxis": "y"
          }
         ],
         "name": "11/2/20"
        },
        {
         "data": [
          {
           "alignmentgroup": "True",
           "hovertemplate": "Date=11/6/20<br>Country=%{x}<br>Cases=%{y}<extra></extra>",
           "ids": [
            "Australia",
            "Brazil",
            "India",
            "US"
           ],
           "legendgroup": "",
           "marker": {
            "color": "#45a2ff"
           },
           "name": "",
           "offsetgroup": "",
           "orientation": "v",
           "showlegend": false,
           "textposition": "auto",
           "type": "bar",
           "x": [
            "Australia",
            "Brazil",
            "India",
            "US"
           ],
           "xaxis": "x",
           "y": [
            27652,
            5631181,
            8462080,
            9813335
           ],
           "yaxis": "y"
          }
         ],
         "name": "11/6/20"
        },
        {
         "data": [
          {
           "alignmentgroup": "True",
           "hovertemplate": "Date=11/10/20<br>Country=%{x}<br>Cases=%{y}<extra></extra>",
           "ids": [
            "Australia",
            "Brazil",
            "India",
            "US"
           ],
           "legendgroup": "",
           "marker": {
            "color": "#45a2ff"
           },
           "name": "",
           "offsetgroup": "",
           "orientation": "v",
           "showlegend": false,
           "textposition": "auto",
           "type": "bar",
           "x": [
            "Australia",
            "Brazil",
            "India",
            "US"
           ],
           "xaxis": "x",
           "y": [
            27671,
            5699005,
            8636011,
            10313440
           ],
           "yaxis": "y"
          }
         ],
         "name": "11/10/20"
        },
        {
         "data": [
          {
           "alignmentgroup": "True",
           "hovertemplate": "Date=11/15/20<br>Country=%{x}<br>Cases=%{y}<extra></extra>",
           "ids": [
            "Australia",
            "Brazil",
            "India",
            "US"
           ],
           "legendgroup": "",
           "marker": {
            "color": "#45a2ff"
           },
           "name": "",
           "offsetgroup": "",
           "orientation": "v",
           "showlegend": false,
           "textposition": "auto",
           "type": "bar",
           "x": [
            "Australia",
            "Brazil",
            "India",
            "US"
           ],
           "xaxis": "x",
           "y": [
            27749,
            5863093,
            8845127,
            11105231
           ],
           "yaxis": "y"
          }
         ],
         "name": "11/15/20"
        },
        {
         "data": [
          {
           "alignmentgroup": "True",
           "hovertemplate": "Date=11/24/20<br>Country=%{x}<br>Cases=%{y}<extra></extra>",
           "ids": [
            "Australia",
            "Brazil",
            "India",
            "US"
           ],
           "legendgroup": "",
           "marker": {
            "color": "#45a2ff"
           },
           "name": "",
           "offsetgroup": "",
           "orientation": "v",
           "showlegend": false,
           "textposition": "auto",
           "type": "bar",
           "x": [
            "Australia",
            "Brazil",
            "India",
            "US"
           ],
           "xaxis": "x",
           "y": [
            27853,
            6118708,
            9222216,
            12654299
           ],
           "yaxis": "y"
          }
         ],
         "name": "11/24/20"
        },
        {
         "data": [
          {
           "alignmentgroup": "True",
           "hovertemplate": "Date=11/29/20<br>Country=%{x}<br>Cases=%{y}<extra></extra>",
           "ids": [
            "Australia",
            "Brazil",
            "India",
            "US"
           ],
           "legendgroup": "",
           "marker": {
            "color": "#45a2ff"
           },
           "name": "",
           "offsetgroup": "",
           "orientation": "v",
           "showlegend": false,
           "textposition": "auto",
           "type": "bar",
           "x": [
            "Australia",
            "Brazil",
            "India",
            "US"
           ],
           "xaxis": "x",
           "y": [
            27902,
            6314740,
            9431691,
            13450477
           ],
           "yaxis": "y"
          }
         ],
         "name": "11/29/20"
        },
        {
         "data": [
          {
           "alignmentgroup": "True",
           "hovertemplate": "Date=12/2/20<br>Country=%{x}<br>Cases=%{y}<extra></extra>",
           "ids": [
            "Australia",
            "Brazil",
            "India",
            "US"
           ],
           "legendgroup": "",
           "marker": {
            "color": "#45a2ff"
           },
           "name": "",
           "offsetgroup": "",
           "orientation": "v",
           "showlegend": false,
           "textposition": "auto",
           "type": "bar",
           "x": [
            "Australia",
            "Brazil",
            "India",
            "US"
           ],
           "xaxis": "x",
           "y": [
            27939,
            6436650,
            9534964,
            13992765
           ],
           "yaxis": "y"
          }
         ],
         "name": "12/2/20"
        },
        {
         "data": [
          {
           "alignmentgroup": "True",
           "hovertemplate": "Date=12/7/20<br>Country=%{x}<br>Cases=%{y}<extra></extra>",
           "ids": [
            "Australia",
            "Brazil",
            "India",
            "US"
           ],
           "legendgroup": "",
           "marker": {
            "color": "#45a2ff"
           },
           "name": "",
           "offsetgroup": "",
           "orientation": "v",
           "showlegend": false,
           "textposition": "auto",
           "type": "bar",
           "x": [
            "Australia",
            "Brazil",
            "India",
            "US"
           ],
           "xaxis": "x",
           "y": [
            27987,
            6623911,
            9703770,
            15030195
           ],
           "yaxis": "y"
          }
         ],
         "name": "12/7/20"
        },
        {
         "data": [
          {
           "alignmentgroup": "True",
           "hovertemplate": "Date=12/10/20<br>Country=%{x}<br>Cases=%{y}<extra></extra>",
           "ids": [
            "Australia",
            "Brazil",
            "India",
            "US"
           ],
           "legendgroup": "",
           "marker": {
            "color": "#45a2ff"
           },
           "name": "",
           "offsetgroup": "",
           "orientation": "v",
           "showlegend": false,
           "textposition": "auto",
           "type": "bar",
           "x": [
            "Australia",
            "Brazil",
            "India",
            "US"
           ],
           "xaxis": "x",
           "y": [
            28011,
            6781799,
            9796744,
            15698737
           ],
           "yaxis": "y"
          }
         ],
         "name": "12/10/20"
        },
        {
         "data": [
          {
           "alignmentgroup": "True",
           "hovertemplate": "Date=12/15/20<br>Country=%{x}<br>Cases=%{y}<extra></extra>",
           "ids": [
            "Australia",
            "Brazil",
            "India",
            "US"
           ],
           "legendgroup": "",
           "marker": {
            "color": "#45a2ff"
           },
           "name": "",
           "offsetgroup": "",
           "orientation": "v",
           "showlegend": false,
           "textposition": "auto",
           "type": "bar",
           "x": [
            "Australia",
            "Brazil",
            "India",
            "US"
           ],
           "xaxis": "x",
           "y": [
            28060,
            6970034,
            9932547,
            16735333
           ],
           "yaxis": "y"
          }
         ],
         "name": "12/15/20"
        },
        {
         "data": [
          {
           "alignmentgroup": "True",
           "hovertemplate": "Date=12/24/20<br>Country=%{x}<br>Cases=%{y}<extra></extra>",
           "ids": [
            "Australia",
            "Brazil",
            "India",
            "US"
           ],
           "legendgroup": "",
           "marker": {
            "color": "#45a2ff"
           },
           "name": "",
           "offsetgroup": "",
           "orientation": "v",
           "showlegend": false,
           "textposition": "auto",
           "type": "bar",
           "x": [
            "Australia",
            "Brazil",
            "India",
            "US"
           ],
           "xaxis": "x",
           "y": [
            28274,
            7423945,
            10146845,
            18665343
           ],
           "yaxis": "y"
          }
         ],
         "name": "12/24/20"
        },
        {
         "data": [
          {
           "alignmentgroup": "True",
           "hovertemplate": "Date=12/29/20<br>Country=%{x}<br>Cases=%{y}<extra></extra>",
           "ids": [
            "Australia",
            "Brazil",
            "India",
            "US"
           ],
           "legendgroup": "",
           "marker": {
            "color": "#45a2ff"
           },
           "name": "",
           "offsetgroup": "",
           "orientation": "v",
           "showlegend": false,
           "textposition": "auto",
           "type": "bar",
           "x": [
            "Australia",
            "Brazil",
            "India",
            "US"
           ],
           "xaxis": "x",
           "y": [
            28381,
            7563551,
            10244852,
            19511426
           ],
           "yaxis": "y"
          }
         ],
         "name": "12/29/20"
        }
       ],
       "layout": {
        "barmode": "relative",
        "legend": {
         "tracegroupgap": 0
        },
        "margin": {
         "t": 60
        },
        "showlegend": false,
        "sliders": [
         {
          "active": 0,
          "currentvalue": {
           "prefix": "Date="
          },
          "len": 0.9,
          "pad": {
           "b": 10,
           "t": 60
          },
          "steps": [
           {
            "args": [
             [
              "1/24/20"
             ],
             {
              "frame": {
               "duration": 0,
               "redraw": true
              },
              "fromcurrent": true,
              "mode": "immediate",
              "transition": {
               "duration": 0,
               "easing": "linear"
              }
             }
            ],
            "label": "1/24/20",
            "method": "animate"
           },
           {
            "args": [
             [
              "1/29/20"
             ],
             {
              "frame": {
               "duration": 0,
               "redraw": true
              },
              "fromcurrent": true,
              "mode": "immediate",
              "transition": {
               "duration": 0,
               "easing": "linear"
              }
             }
            ],
            "label": "1/29/20",
            "method": "animate"
           },
           {
            "args": [
             [
              "2/3/20"
             ],
             {
              "frame": {
               "duration": 0,
               "redraw": true
              },
              "fromcurrent": true,
              "mode": "immediate",
              "transition": {
               "duration": 0,
               "easing": "linear"
              }
             }
            ],
            "label": "2/3/20",
            "method": "animate"
           },
           {
            "args": [
             [
              "2/8/20"
             ],
             {
              "frame": {
               "duration": 0,
               "redraw": true
              },
              "fromcurrent": true,
              "mode": "immediate",
              "transition": {
               "duration": 0,
               "easing": "linear"
              }
             }
            ],
            "label": "2/8/20",
            "method": "animate"
           },
           {
            "args": [
             [
              "2/11/20"
             ],
             {
              "frame": {
               "duration": 0,
               "redraw": true
              },
              "fromcurrent": true,
              "mode": "immediate",
              "transition": {
               "duration": 0,
               "easing": "linear"
              }
             }
            ],
            "label": "2/11/20",
            "method": "animate"
           },
           {
            "args": [
             [
              "2/16/20"
             ],
             {
              "frame": {
               "duration": 0,
               "redraw": true
              },
              "fromcurrent": true,
              "mode": "immediate",
              "transition": {
               "duration": 0,
               "easing": "linear"
              }
             }
            ],
            "label": "2/16/20",
            "method": "animate"
           },
           {
            "args": [
             [
              "2/20/20"
             ],
             {
              "frame": {
               "duration": 0,
               "redraw": true
              },
              "fromcurrent": true,
              "mode": "immediate",
              "transition": {
               "duration": 0,
               "easing": "linear"
              }
             }
            ],
            "label": "2/20/20",
            "method": "animate"
           },
           {
            "args": [
             [
              "2/25/20"
             ],
             {
              "frame": {
               "duration": 0,
               "redraw": true
              },
              "fromcurrent": true,
              "mode": "immediate",
              "transition": {
               "duration": 0,
               "easing": "linear"
              }
             }
            ],
            "label": "2/25/20",
            "method": "animate"
           },
           {
            "args": [
             [
              "3/7/20"
             ],
             {
              "frame": {
               "duration": 0,
               "redraw": true
              },
              "fromcurrent": true,
              "mode": "immediate",
              "transition": {
               "duration": 0,
               "easing": "linear"
              }
             }
            ],
            "label": "3/7/20",
            "method": "animate"
           },
           {
            "args": [
             [
              "3/12/20"
             ],
             {
              "frame": {
               "duration": 0,
               "redraw": true
              },
              "fromcurrent": true,
              "mode": "immediate",
              "transition": {
               "duration": 0,
               "easing": "linear"
              }
             }
            ],
            "label": "3/12/20",
            "method": "animate"
           },
           {
            "args": [
             [
              "3/17/20"
             ],
             {
              "frame": {
               "duration": 0,
               "redraw": true
              },
              "fromcurrent": true,
              "mode": "immediate",
              "transition": {
               "duration": 0,
               "easing": "linear"
              }
             }
            ],
            "label": "3/17/20",
            "method": "animate"
           },
           {
            "args": [
             [
              "3/21/20"
             ],
             {
              "frame": {
               "duration": 0,
               "redraw": true
              },
              "fromcurrent": true,
              "mode": "immediate",
              "transition": {
               "duration": 0,
               "easing": "linear"
              }
             }
            ],
            "label": "3/21/20",
            "method": "animate"
           },
           {
            "args": [
             [
              "3/26/20"
             ],
             {
              "frame": {
               "duration": 0,
               "redraw": true
              },
              "fromcurrent": true,
              "mode": "immediate",
              "transition": {
               "duration": 0,
               "easing": "linear"
              }
             }
            ],
            "label": "3/26/20",
            "method": "animate"
           },
           {
            "args": [
             [
              "3/30/20"
             ],
             {
              "frame": {
               "duration": 0,
               "redraw": true
              },
              "fromcurrent": true,
              "mode": "immediate",
              "transition": {
               "duration": 0,
               "easing": "linear"
              }
             }
            ],
            "label": "3/30/20",
            "method": "animate"
           },
           {
            "args": [
             [
              "4/3/20"
             ],
             {
              "frame": {
               "duration": 0,
               "redraw": true
              },
              "fromcurrent": true,
              "mode": "immediate",
              "transition": {
               "duration": 0,
               "easing": "linear"
              }
             }
            ],
            "label": "4/3/20",
            "method": "animate"
           },
           {
            "args": [
             [
              "4/7/20"
             ],
             {
              "frame": {
               "duration": 0,
               "redraw": true
              },
              "fromcurrent": true,
              "mode": "immediate",
              "transition": {
               "duration": 0,
               "easing": "linear"
              }
             }
            ],
            "label": "4/7/20",
            "method": "animate"
           },
           {
            "args": [
             [
              "4/11/20"
             ],
             {
              "frame": {
               "duration": 0,
               "redraw": true
              },
              "fromcurrent": true,
              "mode": "immediate",
              "transition": {
               "duration": 0,
               "easing": "linear"
              }
             }
            ],
            "label": "4/11/20",
            "method": "animate"
           },
           {
            "args": [
             [
              "4/16/20"
             ],
             {
              "frame": {
               "duration": 0,
               "redraw": true
              },
              "fromcurrent": true,
              "mode": "immediate",
              "transition": {
               "duration": 0,
               "easing": "linear"
              }
             }
            ],
            "label": "4/16/20",
            "method": "animate"
           },
           {
            "args": [
             [
              "4/20/20"
             ],
             {
              "frame": {
               "duration": 0,
               "redraw": true
              },
              "fromcurrent": true,
              "mode": "immediate",
              "transition": {
               "duration": 0,
               "easing": "linear"
              }
             }
            ],
            "label": "4/20/20",
            "method": "animate"
           },
           {
            "args": [
             [
              "4/25/20"
             ],
             {
              "frame": {
               "duration": 0,
               "redraw": true
              },
              "fromcurrent": true,
              "mode": "immediate",
              "transition": {
               "duration": 0,
               "easing": "linear"
              }
             }
            ],
            "label": "4/25/20",
            "method": "animate"
           },
           {
            "args": [
             [
              "5/3/20"
             ],
             {
              "frame": {
               "duration": 0,
               "redraw": true
              },
              "fromcurrent": true,
              "mode": "immediate",
              "transition": {
               "duration": 0,
               "easing": "linear"
              }
             }
            ],
            "label": "5/3/20",
            "method": "animate"
           },
           {
            "args": [
             [
              "5/6/20"
             ],
             {
              "frame": {
               "duration": 0,
               "redraw": true
              },
              "fromcurrent": true,
              "mode": "immediate",
              "transition": {
               "duration": 0,
               "easing": "linear"
              }
             }
            ],
            "label": "5/6/20",
            "method": "animate"
           },
           {
            "args": [
             [
              "5/11/20"
             ],
             {
              "frame": {
               "duration": 0,
               "redraw": true
              },
              "fromcurrent": true,
              "mode": "immediate",
              "transition": {
               "duration": 0,
               "easing": "linear"
              }
             }
            ],
            "label": "5/11/20",
            "method": "animate"
           },
           {
            "args": [
             [
              "5/16/20"
             ],
             {
              "frame": {
               "duration": 0,
               "redraw": true
              },
              "fromcurrent": true,
              "mode": "immediate",
              "transition": {
               "duration": 0,
               "easing": "linear"
              }
             }
            ],
            "label": "5/16/20",
            "method": "animate"
           },
           {
            "args": [
             [
              "5/20/20"
             ],
             {
              "frame": {
               "duration": 0,
               "redraw": true
              },
              "fromcurrent": true,
              "mode": "immediate",
              "transition": {
               "duration": 0,
               "easing": "linear"
              }
             }
            ],
            "label": "5/20/20",
            "method": "animate"
           },
           {
            "args": [
             [
              "5/25/20"
             ],
             {
              "frame": {
               "duration": 0,
               "redraw": true
              },
              "fromcurrent": true,
              "mode": "immediate",
              "transition": {
               "duration": 0,
               "easing": "linear"
              }
             }
            ],
            "label": "5/25/20",
            "method": "animate"
           },
           {
            "args": [
             [
              "6/2/20"
             ],
             {
              "frame": {
               "duration": 0,
               "redraw": true
              },
              "fromcurrent": true,
              "mode": "immediate",
              "transition": {
               "duration": 0,
               "easing": "linear"
              }
             }
            ],
            "label": "6/2/20",
            "method": "animate"
           },
           {
            "args": [
             [
              "6/6/20"
             ],
             {
              "frame": {
               "duration": 0,
               "redraw": true
              },
              "fromcurrent": true,
              "mode": "immediate",
              "transition": {
               "duration": 0,
               "easing": "linear"
              }
             }
            ],
            "label": "6/6/20",
            "method": "animate"
           },
           {
            "args": [
             [
              "6/10/20"
             ],
             {
              "frame": {
               "duration": 0,
               "redraw": true
              },
              "fromcurrent": true,
              "mode": "immediate",
              "transition": {
               "duration": 0,
               "easing": "linear"
              }
             }
            ],
            "label": "6/10/20",
            "method": "animate"
           },
           {
            "args": [
             [
              "6/15/20"
             ],
             {
              "frame": {
               "duration": 0,
               "redraw": true
              },
              "fromcurrent": true,
              "mode": "immediate",
              "transition": {
               "duration": 0,
               "easing": "linear"
              }
             }
            ],
            "label": "6/15/20",
            "method": "animate"
           },
           {
            "args": [
             [
              "6/24/20"
             ],
             {
              "frame": {
               "duration": 0,
               "redraw": true
              },
              "fromcurrent": true,
              "mode": "immediate",
              "transition": {
               "duration": 0,
               "easing": "linear"
              }
             }
            ],
            "label": "6/24/20",
            "method": "animate"
           },
           {
            "args": [
             [
              "6/29/20"
             ],
             {
              "frame": {
               "duration": 0,
               "redraw": true
              },
              "fromcurrent": true,
              "mode": "immediate",
              "transition": {
               "duration": 0,
               "easing": "linear"
              }
             }
            ],
            "label": "6/29/20",
            "method": "animate"
           },
           {
            "args": [
             [
              "7/2/20"
             ],
             {
              "frame": {
               "duration": 0,
               "redraw": true
              },
              "fromcurrent": true,
              "mode": "immediate",
              "transition": {
               "duration": 0,
               "easing": "linear"
              }
             }
            ],
            "label": "7/2/20",
            "method": "animate"
           },
           {
            "args": [
             [
              "7/5/20"
             ],
             {
              "frame": {
               "duration": 0,
               "redraw": true
              },
              "fromcurrent": true,
              "mode": "immediate",
              "transition": {
               "duration": 0,
               "easing": "linear"
              }
             }
            ],
            "label": "7/5/20",
            "method": "animate"
           },
           {
            "args": [
             [
              "7/10/20"
             ],
             {
              "frame": {
               "duration": 0,
               "redraw": true
              },
              "fromcurrent": true,
              "mode": "immediate",
              "transition": {
               "duration": 0,
               "easing": "linear"
              }
             }
            ],
            "label": "7/10/20",
            "method": "animate"
           },
           {
            "args": [
             [
              "7/15/20"
             ],
             {
              "frame": {
               "duration": 0,
               "redraw": true
              },
              "fromcurrent": true,
              "mode": "immediate",
              "transition": {
               "duration": 0,
               "easing": "linear"
              }
             }
            ],
            "label": "7/15/20",
            "method": "animate"
           },
           {
            "args": [
             [
              "7/24/20"
             ],
             {
              "frame": {
               "duration": 0,
               "redraw": true
              },
              "fromcurrent": true,
              "mode": "immediate",
              "transition": {
               "duration": 0,
               "easing": "linear"
              }
             }
            ],
            "label": "7/24/20",
            "method": "animate"
           },
           {
            "args": [
             [
              "7/29/20"
             ],
             {
              "frame": {
               "duration": 0,
               "redraw": true
              },
              "fromcurrent": true,
              "mode": "immediate",
              "transition": {
               "duration": 0,
               "easing": "linear"
              }
             }
            ],
            "label": "7/29/20",
            "method": "animate"
           },
           {
            "args": [
             [
              "8/1/20"
             ],
             {
              "frame": {
               "duration": 0,
               "redraw": true
              },
              "fromcurrent": true,
              "mode": "immediate",
              "transition": {
               "duration": 0,
               "easing": "linear"
              }
             }
            ],
            "label": "8/1/20",
            "method": "animate"
           },
           {
            "args": [
             [
              "8/4/20"
             ],
             {
              "frame": {
               "duration": 0,
               "redraw": true
              },
              "fromcurrent": true,
              "mode": "immediate",
              "transition": {
               "duration": 0,
               "easing": "linear"
              }
             }
            ],
            "label": "8/4/20",
            "method": "animate"
           },
           {
            "args": [
             [
              "8/9/20"
             ],
             {
              "frame": {
               "duration": 0,
               "redraw": true
              },
              "fromcurrent": true,
              "mode": "immediate",
              "transition": {
               "duration": 0,
               "easing": "linear"
              }
             }
            ],
            "label": "8/9/20",
            "method": "animate"
           },
           {
            "args": [
             [
              "8/14/20"
             ],
             {
              "frame": {
               "duration": 0,
               "redraw": true
              },
              "fromcurrent": true,
              "mode": "immediate",
              "transition": {
               "duration": 0,
               "easing": "linear"
              }
             }
            ],
            "label": "8/14/20",
            "method": "animate"
           },
           {
            "args": [
             [
              "8/19/20"
             ],
             {
              "frame": {
               "duration": 0,
               "redraw": true
              },
              "fromcurrent": true,
              "mode": "immediate",
              "transition": {
               "duration": 0,
               "easing": "linear"
              }
             }
            ],
            "label": "8/19/20",
            "method": "animate"
           },
           {
            "args": [
             [
              "8/23/20"
             ],
             {
              "frame": {
               "duration": 0,
               "redraw": true
              },
              "fromcurrent": true,
              "mode": "immediate",
              "transition": {
               "duration": 0,
               "easing": "linear"
              }
             }
            ],
            "label": "8/23/20",
            "method": "animate"
           },
           {
            "args": [
             [
              "8/28/20"
             ],
             {
              "frame": {
               "duration": 0,
               "redraw": true
              },
              "fromcurrent": true,
              "mode": "immediate",
              "transition": {
               "duration": 0,
               "easing": "linear"
              }
             }
            ],
            "label": "8/28/20",
            "method": "animate"
           },
           {
            "args": [
             [
              "9/4/20"
             ],
             {
              "frame": {
               "duration": 0,
               "redraw": true
              },
              "fromcurrent": true,
              "mode": "immediate",
              "transition": {
               "duration": 0,
               "easing": "linear"
              }
             }
            ],
            "label": "9/4/20",
            "method": "animate"
           },
           {
            "args": [
             [
              "9/9/20"
             ],
             {
              "frame": {
               "duration": 0,
               "redraw": true
              },
              "fromcurrent": true,
              "mode": "immediate",
              "transition": {
               "duration": 0,
               "easing": "linear"
              }
             }
            ],
            "label": "9/9/20",
            "method": "animate"
           },
           {
            "args": [
             [
              "9/13/20"
             ],
             {
              "frame": {
               "duration": 0,
               "redraw": true
              },
              "fromcurrent": true,
              "mode": "immediate",
              "transition": {
               "duration": 0,
               "easing": "linear"
              }
             }
            ],
            "label": "9/13/20",
            "method": "animate"
           },
           {
            "args": [
             [
              "9/18/20"
             ],
             {
              "frame": {
               "duration": 0,
               "redraw": true
              },
              "fromcurrent": true,
              "mode": "immediate",
              "transition": {
               "duration": 0,
               "easing": "linear"
              }
             }
            ],
            "label": "9/18/20",
            "method": "animate"
           },
           {
            "args": [
             [
              "9/22/20"
             ],
             {
              "frame": {
               "duration": 0,
               "redraw": true
              },
              "fromcurrent": true,
              "mode": "immediate",
              "transition": {
               "duration": 0,
               "easing": "linear"
              }
             }
            ],
            "label": "9/22/20",
            "method": "animate"
           },
           {
            "args": [
             [
              "9/27/20"
             ],
             {
              "frame": {
               "duration": 0,
               "redraw": true
              },
              "fromcurrent": true,
              "mode": "immediate",
              "transition": {
               "duration": 0,
               "easing": "linear"
              }
             }
            ],
            "label": "9/27/20",
            "method": "animate"
           },
           {
            "args": [
             [
              "10/3/20"
             ],
             {
              "frame": {
               "duration": 0,
               "redraw": true
              },
              "fromcurrent": true,
              "mode": "immediate",
              "transition": {
               "duration": 0,
               "easing": "linear"
              }
             }
            ],
            "label": "10/3/20",
            "method": "animate"
           },
           {
            "args": [
             [
              "10/6/20"
             ],
             {
              "frame": {
               "duration": 0,
               "redraw": true
              },
              "fromcurrent": true,
              "mode": "immediate",
              "transition": {
               "duration": 0,
               "easing": "linear"
              }
             }
            ],
            "label": "10/6/20",
            "method": "animate"
           },
           {
            "args": [
             [
              "10/11/20"
             ],
             {
              "frame": {
               "duration": 0,
               "redraw": true
              },
              "fromcurrent": true,
              "mode": "immediate",
              "transition": {
               "duration": 0,
               "easing": "linear"
              }
             }
            ],
            "label": "10/11/20",
            "method": "animate"
           },
           {
            "args": [
             [
              "10/16/20"
             ],
             {
              "frame": {
               "duration": 0,
               "redraw": true
              },
              "fromcurrent": true,
              "mode": "immediate",
              "transition": {
               "duration": 0,
               "easing": "linear"
              }
             }
            ],
            "label": "10/16/20",
            "method": "animate"
           },
           {
            "args": [
             [
              "10/20/20"
             ],
             {
              "frame": {
               "duration": 0,
               "redraw": true
              },
              "fromcurrent": true,
              "mode": "immediate",
              "transition": {
               "duration": 0,
               "easing": "linear"
              }
             }
            ],
            "label": "10/20/20",
            "method": "animate"
           },
           {
            "args": [
             [
              "10/25/20"
             ],
             {
              "frame": {
               "duration": 0,
               "redraw": true
              },
              "fromcurrent": true,
              "mode": "immediate",
              "transition": {
               "duration": 0,
               "easing": "linear"
              }
             }
            ],
            "label": "10/25/20",
            "method": "animate"
           },
           {
            "args": [
             [
              "11/2/20"
             ],
             {
              "frame": {
               "duration": 0,
               "redraw": true
              },
              "fromcurrent": true,
              "mode": "immediate",
              "transition": {
               "duration": 0,
               "easing": "linear"
              }
             }
            ],
            "label": "11/2/20",
            "method": "animate"
           },
           {
            "args": [
             [
              "11/6/20"
             ],
             {
              "frame": {
               "duration": 0,
               "redraw": true
              },
              "fromcurrent": true,
              "mode": "immediate",
              "transition": {
               "duration": 0,
               "easing": "linear"
              }
             }
            ],
            "label": "11/6/20",
            "method": "animate"
           },
           {
            "args": [
             [
              "11/10/20"
             ],
             {
              "frame": {
               "duration": 0,
               "redraw": true
              },
              "fromcurrent": true,
              "mode": "immediate",
              "transition": {
               "duration": 0,
               "easing": "linear"
              }
             }
            ],
            "label": "11/10/20",
            "method": "animate"
           },
           {
            "args": [
             [
              "11/15/20"
             ],
             {
              "frame": {
               "duration": 0,
               "redraw": true
              },
              "fromcurrent": true,
              "mode": "immediate",
              "transition": {
               "duration": 0,
               "easing": "linear"
              }
             }
            ],
            "label": "11/15/20",
            "method": "animate"
           },
           {
            "args": [
             [
              "11/24/20"
             ],
             {
              "frame": {
               "duration": 0,
               "redraw": true
              },
              "fromcurrent": true,
              "mode": "immediate",
              "transition": {
               "duration": 0,
               "easing": "linear"
              }
             }
            ],
            "label": "11/24/20",
            "method": "animate"
           },
           {
            "args": [
             [
              "11/29/20"
             ],
             {
              "frame": {
               "duration": 0,
               "redraw": true
              },
              "fromcurrent": true,
              "mode": "immediate",
              "transition": {
               "duration": 0,
               "easing": "linear"
              }
             }
            ],
            "label": "11/29/20",
            "method": "animate"
           },
           {
            "args": [
             [
              "12/2/20"
             ],
             {
              "frame": {
               "duration": 0,
               "redraw": true
              },
              "fromcurrent": true,
              "mode": "immediate",
              "transition": {
               "duration": 0,
               "easing": "linear"
              }
             }
            ],
            "label": "12/2/20",
            "method": "animate"
           },
           {
            "args": [
             [
              "12/7/20"
             ],
             {
              "frame": {
               "duration": 0,
               "redraw": true
              },
              "fromcurrent": true,
              "mode": "immediate",
              "transition": {
               "duration": 0,
               "easing": "linear"
              }
             }
            ],
            "label": "12/7/20",
            "method": "animate"
           },
           {
            "args": [
             [
              "12/10/20"
             ],
             {
              "frame": {
               "duration": 0,
               "redraw": true
              },
              "fromcurrent": true,
              "mode": "immediate",
              "transition": {
               "duration": 0,
               "easing": "linear"
              }
             }
            ],
            "label": "12/10/20",
            "method": "animate"
           },
           {
            "args": [
             [
              "12/15/20"
             ],
             {
              "frame": {
               "duration": 0,
               "redraw": true
              },
              "fromcurrent": true,
              "mode": "immediate",
              "transition": {
               "duration": 0,
               "easing": "linear"
              }
             }
            ],
            "label": "12/15/20",
            "method": "animate"
           },
           {
            "args": [
             [
              "12/24/20"
             ],
             {
              "frame": {
               "duration": 0,
               "redraw": true
              },
              "fromcurrent": true,
              "mode": "immediate",
              "transition": {
               "duration": 0,
               "easing": "linear"
              }
             }
            ],
            "label": "12/24/20",
            "method": "animate"
           },
           {
            "args": [
             [
              "12/29/20"
             ],
             {
              "frame": {
               "duration": 0,
               "redraw": true
              },
              "fromcurrent": true,
              "mode": "immediate",
              "transition": {
               "duration": 0,
               "easing": "linear"
              }
             }
            ],
            "label": "12/29/20",
            "method": "animate"
           }
          ],
          "x": 0.1,
          "xanchor": "left",
          "y": 0,
          "yanchor": "top"
         }
        ],
        "template": {
         "data": {
          "bar": [
           {
            "error_x": {
             "color": "#f2f5fa"
            },
            "error_y": {
             "color": "#f2f5fa"
            },
            "marker": {
             "line": {
              "color": "rgb(17,17,17)",
              "width": 0.5
             }
            },
            "type": "bar"
           }
          ],
          "barpolar": [
           {
            "marker": {
             "line": {
              "color": "rgb(17,17,17)",
              "width": 0.5
             }
            },
            "type": "barpolar"
           }
          ],
          "carpet": [
           {
            "aaxis": {
             "endlinecolor": "#A2B1C6",
             "gridcolor": "#506784",
             "linecolor": "#506784",
             "minorgridcolor": "#506784",
             "startlinecolor": "#A2B1C6"
            },
            "baxis": {
             "endlinecolor": "#A2B1C6",
             "gridcolor": "#506784",
             "linecolor": "#506784",
             "minorgridcolor": "#506784",
             "startlinecolor": "#A2B1C6"
            },
            "type": "carpet"
           }
          ],
          "choropleth": [
           {
            "colorbar": {
             "outlinewidth": 0,
             "ticks": ""
            },
            "type": "choropleth"
           }
          ],
          "contour": [
           {
            "colorbar": {
             "outlinewidth": 0,
             "ticks": ""
            },
            "colorscale": [
             [
              0,
              "#0d0887"
             ],
             [
              0.1111111111111111,
              "#46039f"
             ],
             [
              0.2222222222222222,
              "#7201a8"
             ],
             [
              0.3333333333333333,
              "#9c179e"
             ],
             [
              0.4444444444444444,
              "#bd3786"
             ],
             [
              0.5555555555555556,
              "#d8576b"
             ],
             [
              0.6666666666666666,
              "#ed7953"
             ],
             [
              0.7777777777777778,
              "#fb9f3a"
             ],
             [
              0.8888888888888888,
              "#fdca26"
             ],
             [
              1,
              "#f0f921"
             ]
            ],
            "type": "contour"
           }
          ],
          "contourcarpet": [
           {
            "colorbar": {
             "outlinewidth": 0,
             "ticks": ""
            },
            "type": "contourcarpet"
           }
          ],
          "heatmap": [
           {
            "colorbar": {
             "outlinewidth": 0,
             "ticks": ""
            },
            "colorscale": [
             [
              0,
              "#0d0887"
             ],
             [
              0.1111111111111111,
              "#46039f"
             ],
             [
              0.2222222222222222,
              "#7201a8"
             ],
             [
              0.3333333333333333,
              "#9c179e"
             ],
             [
              0.4444444444444444,
              "#bd3786"
             ],
             [
              0.5555555555555556,
              "#d8576b"
             ],
             [
              0.6666666666666666,
              "#ed7953"
             ],
             [
              0.7777777777777778,
              "#fb9f3a"
             ],
             [
              0.8888888888888888,
              "#fdca26"
             ],
             [
              1,
              "#f0f921"
             ]
            ],
            "type": "heatmap"
           }
          ],
          "heatmapgl": [
           {
            "colorbar": {
             "outlinewidth": 0,
             "ticks": ""
            },
            "colorscale": [
             [
              0,
              "#0d0887"
             ],
             [
              0.1111111111111111,
              "#46039f"
             ],
             [
              0.2222222222222222,
              "#7201a8"
             ],
             [
              0.3333333333333333,
              "#9c179e"
             ],
             [
              0.4444444444444444,
              "#bd3786"
             ],
             [
              0.5555555555555556,
              "#d8576b"
             ],
             [
              0.6666666666666666,
              "#ed7953"
             ],
             [
              0.7777777777777778,
              "#fb9f3a"
             ],
             [
              0.8888888888888888,
              "#fdca26"
             ],
             [
              1,
              "#f0f921"
             ]
            ],
            "type": "heatmapgl"
           }
          ],
          "histogram": [
           {
            "marker": {
             "colorbar": {
              "outlinewidth": 0,
              "ticks": ""
             }
            },
            "type": "histogram"
           }
          ],
          "histogram2d": [
           {
            "colorbar": {
             "outlinewidth": 0,
             "ticks": ""
            },
            "colorscale": [
             [
              0,
              "#0d0887"
             ],
             [
              0.1111111111111111,
              "#46039f"
             ],
             [
              0.2222222222222222,
              "#7201a8"
             ],
             [
              0.3333333333333333,
              "#9c179e"
             ],
             [
              0.4444444444444444,
              "#bd3786"
             ],
             [
              0.5555555555555556,
              "#d8576b"
             ],
             [
              0.6666666666666666,
              "#ed7953"
             ],
             [
              0.7777777777777778,
              "#fb9f3a"
             ],
             [
              0.8888888888888888,
              "#fdca26"
             ],
             [
              1,
              "#f0f921"
             ]
            ],
            "type": "histogram2d"
           }
          ],
          "histogram2dcontour": [
           {
            "colorbar": {
             "outlinewidth": 0,
             "ticks": ""
            },
            "colorscale": [
             [
              0,
              "#0d0887"
             ],
             [
              0.1111111111111111,
              "#46039f"
             ],
             [
              0.2222222222222222,
              "#7201a8"
             ],
             [
              0.3333333333333333,
              "#9c179e"
             ],
             [
              0.4444444444444444,
              "#bd3786"
             ],
             [
              0.5555555555555556,
              "#d8576b"
             ],
             [
              0.6666666666666666,
              "#ed7953"
             ],
             [
              0.7777777777777778,
              "#fb9f3a"
             ],
             [
              0.8888888888888888,
              "#fdca26"
             ],
             [
              1,
              "#f0f921"
             ]
            ],
            "type": "histogram2dcontour"
           }
          ],
          "mesh3d": [
           {
            "colorbar": {
             "outlinewidth": 0,
             "ticks": ""
            },
            "type": "mesh3d"
           }
          ],
          "parcoords": [
           {
            "line": {
             "colorbar": {
              "outlinewidth": 0,
              "ticks": ""
             }
            },
            "type": "parcoords"
           }
          ],
          "pie": [
           {
            "automargin": true,
            "type": "pie"
           }
          ],
          "scatter": [
           {
            "marker": {
             "line": {
              "color": "#283442"
             }
            },
            "type": "scatter"
           }
          ],
          "scatter3d": [
           {
            "line": {
             "colorbar": {
              "outlinewidth": 0,
              "ticks": ""
             }
            },
            "marker": {
             "colorbar": {
              "outlinewidth": 0,
              "ticks": ""
             }
            },
            "type": "scatter3d"
           }
          ],
          "scattercarpet": [
           {
            "marker": {
             "colorbar": {
              "outlinewidth": 0,
              "ticks": ""
             }
            },
            "type": "scattercarpet"
           }
          ],
          "scattergeo": [
           {
            "marker": {
             "colorbar": {
              "outlinewidth": 0,
              "ticks": ""
             }
            },
            "type": "scattergeo"
           }
          ],
          "scattergl": [
           {
            "marker": {
             "line": {
              "color": "#283442"
             }
            },
            "type": "scattergl"
           }
          ],
          "scattermapbox": [
           {
            "marker": {
             "colorbar": {
              "outlinewidth": 0,
              "ticks": ""
             }
            },
            "type": "scattermapbox"
           }
          ],
          "scatterpolar": [
           {
            "marker": {
             "colorbar": {
              "outlinewidth": 0,
              "ticks": ""
             }
            },
            "type": "scatterpolar"
           }
          ],
          "scatterpolargl": [
           {
            "marker": {
             "colorbar": {
              "outlinewidth": 0,
              "ticks": ""
             }
            },
            "type": "scatterpolargl"
           }
          ],
          "scatterternary": [
           {
            "marker": {
             "colorbar": {
              "outlinewidth": 0,
              "ticks": ""
             }
            },
            "type": "scatterternary"
           }
          ],
          "surface": [
           {
            "colorbar": {
             "outlinewidth": 0,
             "ticks": ""
            },
            "colorscale": [
             [
              0,
              "#0d0887"
             ],
             [
              0.1111111111111111,
              "#46039f"
             ],
             [
              0.2222222222222222,
              "#7201a8"
             ],
             [
              0.3333333333333333,
              "#9c179e"
             ],
             [
              0.4444444444444444,
              "#bd3786"
             ],
             [
              0.5555555555555556,
              "#d8576b"
             ],
             [
              0.6666666666666666,
              "#ed7953"
             ],
             [
              0.7777777777777778,
              "#fb9f3a"
             ],
             [
              0.8888888888888888,
              "#fdca26"
             ],
             [
              1,
              "#f0f921"
             ]
            ],
            "type": "surface"
           }
          ],
          "table": [
           {
            "cells": {
             "fill": {
              "color": "#506784"
             },
             "line": {
              "color": "rgb(17,17,17)"
             }
            },
            "header": {
             "fill": {
              "color": "#2a3f5f"
             },
             "line": {
              "color": "rgb(17,17,17)"
             }
            },
            "type": "table"
           }
          ]
         },
         "layout": {
          "annotationdefaults": {
           "arrowcolor": "#f2f5fa",
           "arrowhead": 0,
           "arrowwidth": 1
          },
          "autotypenumbers": "strict",
          "coloraxis": {
           "colorbar": {
            "outlinewidth": 0,
            "ticks": ""
           }
          },
          "colorscale": {
           "diverging": [
            [
             0,
             "#8e0152"
            ],
            [
             0.1,
             "#c51b7d"
            ],
            [
             0.2,
             "#de77ae"
            ],
            [
             0.3,
             "#f1b6da"
            ],
            [
             0.4,
             "#fde0ef"
            ],
            [
             0.5,
             "#f7f7f7"
            ],
            [
             0.6,
             "#e6f5d0"
            ],
            [
             0.7,
             "#b8e186"
            ],
            [
             0.8,
             "#7fbc41"
            ],
            [
             0.9,
             "#4d9221"
            ],
            [
             1,
             "#276419"
            ]
           ],
           "sequential": [
            [
             0,
             "#0d0887"
            ],
            [
             0.1111111111111111,
             "#46039f"
            ],
            [
             0.2222222222222222,
             "#7201a8"
            ],
            [
             0.3333333333333333,
             "#9c179e"
            ],
            [
             0.4444444444444444,
             "#bd3786"
            ],
            [
             0.5555555555555556,
             "#d8576b"
            ],
            [
             0.6666666666666666,
             "#ed7953"
            ],
            [
             0.7777777777777778,
             "#fb9f3a"
            ],
            [
             0.8888888888888888,
             "#fdca26"
            ],
            [
             1,
             "#f0f921"
            ]
           ],
           "sequentialminus": [
            [
             0,
             "#0d0887"
            ],
            [
             0.1111111111111111,
             "#46039f"
            ],
            [
             0.2222222222222222,
             "#7201a8"
            ],
            [
             0.3333333333333333,
             "#9c179e"
            ],
            [
             0.4444444444444444,
             "#bd3786"
            ],
            [
             0.5555555555555556,
             "#d8576b"
            ],
            [
             0.6666666666666666,
             "#ed7953"
            ],
            [
             0.7777777777777778,
             "#fb9f3a"
            ],
            [
             0.8888888888888888,
             "#fdca26"
            ],
            [
             1,
             "#f0f921"
            ]
           ]
          },
          "colorway": [
           "#636efa",
           "#EF553B",
           "#00cc96",
           "#ab63fa",
           "#FFA15A",
           "#19d3f3",
           "#FF6692",
           "#B6E880",
           "#FF97FF",
           "#FECB52"
          ],
          "font": {
           "color": "#f2f5fa"
          },
          "geo": {
           "bgcolor": "rgb(17,17,17)",
           "lakecolor": "rgb(17,17,17)",
           "landcolor": "rgb(17,17,17)",
           "showlakes": true,
           "showland": true,
           "subunitcolor": "#506784"
          },
          "hoverlabel": {
           "align": "left"
          },
          "hovermode": "closest",
          "mapbox": {
           "style": "dark"
          },
          "paper_bgcolor": "rgb(17,17,17)",
          "plot_bgcolor": "rgb(17,17,17)",
          "polar": {
           "angularaxis": {
            "gridcolor": "#506784",
            "linecolor": "#506784",
            "ticks": ""
           },
           "bgcolor": "rgb(17,17,17)",
           "radialaxis": {
            "gridcolor": "#506784",
            "linecolor": "#506784",
            "ticks": ""
           }
          },
          "scene": {
           "xaxis": {
            "backgroundcolor": "rgb(17,17,17)",
            "gridcolor": "#506784",
            "gridwidth": 2,
            "linecolor": "#506784",
            "showbackground": true,
            "ticks": "",
            "zerolinecolor": "#C8D4E3"
           },
           "yaxis": {
            "backgroundcolor": "rgb(17,17,17)",
            "gridcolor": "#506784",
            "gridwidth": 2,
            "linecolor": "#506784",
            "showbackground": true,
            "ticks": "",
            "zerolinecolor": "#C8D4E3"
           },
           "zaxis": {
            "backgroundcolor": "rgb(17,17,17)",
            "gridcolor": "#506784",
            "gridwidth": 2,
            "linecolor": "#506784",
            "showbackground": true,
            "ticks": "",
            "zerolinecolor": "#C8D4E3"
           }
          },
          "shapedefaults": {
           "line": {
            "color": "#f2f5fa"
           }
          },
          "sliderdefaults": {
           "bgcolor": "#C8D4E3",
           "bordercolor": "rgb(17,17,17)",
           "borderwidth": 1,
           "tickwidth": 0
          },
          "ternary": {
           "aaxis": {
            "gridcolor": "#506784",
            "linecolor": "#506784",
            "ticks": ""
           },
           "baxis": {
            "gridcolor": "#506784",
            "linecolor": "#506784",
            "ticks": ""
           },
           "bgcolor": "rgb(17,17,17)",
           "caxis": {
            "gridcolor": "#506784",
            "linecolor": "#506784",
            "ticks": ""
           }
          },
          "title": {
           "x": 0.05
          },
          "updatemenudefaults": {
           "bgcolor": "#506784",
           "borderwidth": 0
          },
          "xaxis": {
           "automargin": true,
           "gridcolor": "#283442",
           "linecolor": "#506784",
           "ticks": "",
           "title": {
            "standoff": 15
           },
           "zerolinecolor": "#283442",
           "zerolinewidth": 2
          },
          "yaxis": {
           "automargin": true,
           "gridcolor": "#283442",
           "linecolor": "#506784",
           "ticks": "",
           "title": {
            "standoff": 15
           },
           "zerolinecolor": "#283442",
           "zerolinewidth": 2
          }
         }
        },
        "updatemenus": [
         {
          "buttons": [
           {
            "args": [
             null,
             {
              "frame": {
               "duration": 500,
               "redraw": true
              },
              "fromcurrent": true,
              "mode": "immediate",
              "transition": {
               "duration": 500,
               "easing": "linear"
              }
             }
            ],
            "label": "&#9654;",
            "method": "animate"
           },
           {
            "args": [
             [
              null
             ],
             {
              "frame": {
               "duration": 0,
               "redraw": true
              },
              "fromcurrent": true,
              "mode": "immediate",
              "transition": {
               "duration": 0,
               "easing": "linear"
              }
             }
            ],
            "label": "&#9724;",
            "method": "animate"
           }
          ],
          "direction": "left",
          "pad": {
           "r": 10,
           "t": 70
          },
          "showactive": false,
          "type": "buttons",
          "x": 0.1,
          "xanchor": "right",
          "y": 0,
          "yanchor": "top"
         }
        ],
        "xaxis": {
         "anchor": "y",
         "domain": [
          0,
          1
         ],
         "title": {
          "text": "Country"
         }
        },
        "yaxis": {
         "anchor": "x",
         "domain": [
          0,
          1
         ],
         "range": [
          0,
          19511426
         ],
         "title": {
          "text": "Cases"
         }
        }
       }
      }
     },
     "metadata": {}
    }
   ],
   "source": [
    "# Based on number of confirmed cases in - India,US,Australia and Brazil\n",
    "create_comparison_animation(confirmed_global,\"confirmed\",\"India\",\"US\",\"Australia\",\"Brazil\")"
   ]
  },
  {
   "cell_type": "code",
   "execution_count": 6,
   "metadata": {},
   "outputs": [
    {
     "output_type": "display_data",
     "data": {
      "application/vnd.plotly.v1+json": {
       "config": {
        "plotlyServerURL": "https://plotly.com"
       },
       "data": [
        {
         "alignmentgroup": "True",
         "hovertemplate": "Date=1/24/20<br>Country=%{x}<br>Cases=%{y}<extra></extra>",
         "ids": [
          "Australia",
          "Brazil",
          "India",
          "US"
         ],
         "legendgroup": "",
         "marker": {
          "color": "#42f587"
         },
         "name": "",
         "offsetgroup": "",
         "orientation": "v",
         "showlegend": false,
         "textposition": "auto",
         "type": "bar",
         "x": [
          "Australia",
          "Brazil",
          "India",
          "US"
         ],
         "xaxis": "x",
         "y": [
          0,
          0,
          0,
          0
         ],
         "yaxis": "y"
        }
       ],
       "frames": [
        {
         "data": [
          {
           "alignmentgroup": "True",
           "hovertemplate": "Date=1/24/20<br>Country=%{x}<br>Cases=%{y}<extra></extra>",
           "ids": [
            "Australia",
            "Brazil",
            "India",
            "US"
           ],
           "legendgroup": "",
           "marker": {
            "color": "#42f587"
           },
           "name": "",
           "offsetgroup": "",
           "orientation": "v",
           "showlegend": false,
           "textposition": "auto",
           "type": "bar",
           "x": [
            "Australia",
            "Brazil",
            "India",
            "US"
           ],
           "xaxis": "x",
           "y": [
            0,
            0,
            0,
            0
           ],
           "yaxis": "y"
          }
         ],
         "name": "1/24/20"
        },
        {
         "data": [
          {
           "alignmentgroup": "True",
           "hovertemplate": "Date=1/29/20<br>Country=%{x}<br>Cases=%{y}<extra></extra>",
           "ids": [
            "Australia",
            "Brazil",
            "India",
            "US"
           ],
           "legendgroup": "",
           "marker": {
            "color": "#42f587"
           },
           "name": "",
           "offsetgroup": "",
           "orientation": "v",
           "showlegend": false,
           "textposition": "auto",
           "type": "bar",
           "x": [
            "Australia",
            "Brazil",
            "India",
            "US"
           ],
           "xaxis": "x",
           "y": [
            0,
            0,
            0,
            0
           ],
           "yaxis": "y"
          }
         ],
         "name": "1/29/20"
        },
        {
         "data": [
          {
           "alignmentgroup": "True",
           "hovertemplate": "Date=2/3/20<br>Country=%{x}<br>Cases=%{y}<extra></extra>",
           "ids": [
            "Australia",
            "Brazil",
            "India",
            "US"
           ],
           "legendgroup": "",
           "marker": {
            "color": "#42f587"
           },
           "name": "",
           "offsetgroup": "",
           "orientation": "v",
           "showlegend": false,
           "textposition": "auto",
           "type": "bar",
           "x": [
            "Australia",
            "Brazil",
            "India",
            "US"
           ],
           "xaxis": "x",
           "y": [
            2,
            0,
            0,
            0
           ],
           "yaxis": "y"
          }
         ],
         "name": "2/3/20"
        },
        {
         "data": [
          {
           "alignmentgroup": "True",
           "hovertemplate": "Date=2/8/20<br>Country=%{x}<br>Cases=%{y}<extra></extra>",
           "ids": [
            "Australia",
            "Brazil",
            "India",
            "US"
           ],
           "legendgroup": "",
           "marker": {
            "color": "#42f587"
           },
           "name": "",
           "offsetgroup": "",
           "orientation": "v",
           "showlegend": false,
           "textposition": "auto",
           "type": "bar",
           "x": [
            "Australia",
            "Brazil",
            "India",
            "US"
           ],
           "xaxis": "x",
           "y": [
            2,
            0,
            0,
            0
           ],
           "yaxis": "y"
          }
         ],
         "name": "2/8/20"
        },
        {
         "data": [
          {
           "alignmentgroup": "True",
           "hovertemplate": "Date=2/11/20<br>Country=%{x}<br>Cases=%{y}<extra></extra>",
           "ids": [
            "Australia",
            "Brazil",
            "India",
            "US"
           ],
           "legendgroup": "",
           "marker": {
            "color": "#42f587"
           },
           "name": "",
           "offsetgroup": "",
           "orientation": "v",
           "showlegend": false,
           "textposition": "auto",
           "type": "bar",
           "x": [
            "Australia",
            "Brazil",
            "India",
            "US"
           ],
           "xaxis": "x",
           "y": [
            2,
            0,
            0,
            3
           ],
           "yaxis": "y"
          }
         ],
         "name": "2/11/20"
        },
        {
         "data": [
          {
           "alignmentgroup": "True",
           "hovertemplate": "Date=2/16/20<br>Country=%{x}<br>Cases=%{y}<extra></extra>",
           "ids": [
            "Australia",
            "Brazil",
            "India",
            "US"
           ],
           "legendgroup": "",
           "marker": {
            "color": "#42f587"
           },
           "name": "",
           "offsetgroup": "",
           "orientation": "v",
           "showlegend": false,
           "textposition": "auto",
           "type": "bar",
           "x": [
            "Australia",
            "Brazil",
            "India",
            "US"
           ],
           "xaxis": "x",
           "y": [
            8,
            0,
            3,
            3
           ],
           "yaxis": "y"
          }
         ],
         "name": "2/16/20"
        },
        {
         "data": [
          {
           "alignmentgroup": "True",
           "hovertemplate": "Date=2/20/20<br>Country=%{x}<br>Cases=%{y}<extra></extra>",
           "ids": [
            "Australia",
            "Brazil",
            "India",
            "US"
           ],
           "legendgroup": "",
           "marker": {
            "color": "#42f587"
           },
           "name": "",
           "offsetgroup": "",
           "orientation": "v",
           "showlegend": false,
           "textposition": "auto",
           "type": "bar",
           "x": [
            "Australia",
            "Brazil",
            "India",
            "US"
           ],
           "xaxis": "x",
           "y": [
            10,
            0,
            3,
            3
           ],
           "yaxis": "y"
          }
         ],
         "name": "2/20/20"
        },
        {
         "data": [
          {
           "alignmentgroup": "True",
           "hovertemplate": "Date=2/25/20<br>Country=%{x}<br>Cases=%{y}<extra></extra>",
           "ids": [
            "Australia",
            "Brazil",
            "India",
            "US"
           ],
           "legendgroup": "",
           "marker": {
            "color": "#42f587"
           },
           "name": "",
           "offsetgroup": "",
           "orientation": "v",
           "showlegend": false,
           "textposition": "auto",
           "type": "bar",
           "x": [
            "Australia",
            "Brazil",
            "India",
            "US"
           ],
           "xaxis": "x",
           "y": [
            11,
            0,
            3,
            6
           ],
           "yaxis": "y"
          }
         ],
         "name": "2/25/20"
        },
        {
         "data": [
          {
           "alignmentgroup": "True",
           "hovertemplate": "Date=3/7/20<br>Country=%{x}<br>Cases=%{y}<extra></extra>",
           "ids": [
            "Australia",
            "Brazil",
            "India",
            "US"
           ],
           "legendgroup": "",
           "marker": {
            "color": "#42f587"
           },
           "name": "",
           "offsetgroup": "",
           "orientation": "v",
           "showlegend": false,
           "textposition": "auto",
           "type": "bar",
           "x": [
            "Australia",
            "Brazil",
            "India",
            "US"
           ],
           "xaxis": "x",
           "y": [
            21,
            0,
            3,
            7
           ],
           "yaxis": "y"
          }
         ],
         "name": "3/7/20"
        },
        {
         "data": [
          {
           "alignmentgroup": "True",
           "hovertemplate": "Date=3/12/20<br>Country=%{x}<br>Cases=%{y}<extra></extra>",
           "ids": [
            "Australia",
            "Brazil",
            "India",
            "US"
           ],
           "legendgroup": "",
           "marker": {
            "color": "#42f587"
           },
           "name": "",
           "offsetgroup": "",
           "orientation": "v",
           "showlegend": false,
           "textposition": "auto",
           "type": "bar",
           "x": [
            "Australia",
            "Brazil",
            "India",
            "US"
           ],
           "xaxis": "x",
           "y": [
            21,
            0,
            4,
            12
           ],
           "yaxis": "y"
          }
         ],
         "name": "3/12/20"
        },
        {
         "data": [
          {
           "alignmentgroup": "True",
           "hovertemplate": "Date=3/17/20<br>Country=%{x}<br>Cases=%{y}<extra></extra>",
           "ids": [
            "Australia",
            "Brazil",
            "India",
            "US"
           ],
           "legendgroup": "",
           "marker": {
            "color": "#42f587"
           },
           "name": "",
           "offsetgroup": "",
           "orientation": "v",
           "showlegend": false,
           "textposition": "auto",
           "type": "bar",
           "x": [
            "Australia",
            "Brazil",
            "India",
            "US"
           ],
           "xaxis": "x",
           "y": [
            23,
            2,
            14,
            17
           ],
           "yaxis": "y"
          }
         ],
         "name": "3/17/20"
        },
        {
         "data": [
          {
           "alignmentgroup": "True",
           "hovertemplate": "Date=3/21/20<br>Country=%{x}<br>Cases=%{y}<extra></extra>",
           "ids": [
            "Australia",
            "Brazil",
            "India",
            "US"
           ],
           "legendgroup": "",
           "marker": {
            "color": "#42f587"
           },
           "name": "",
           "offsetgroup": "",
           "orientation": "v",
           "showlegend": false,
           "textposition": "auto",
           "type": "bar",
           "x": [
            "Australia",
            "Brazil",
            "India",
            "US"
           ],
           "xaxis": "x",
           "y": [
            26,
            2,
            23,
            176
           ],
           "yaxis": "y"
          }
         ],
         "name": "3/21/20"
        },
        {
         "data": [
          {
           "alignmentgroup": "True",
           "hovertemplate": "Date=3/26/20<br>Country=%{x}<br>Cases=%{y}<extra></extra>",
           "ids": [
            "Australia",
            "Brazil",
            "India",
            "US"
           ],
           "legendgroup": "",
           "marker": {
            "color": "#42f587"
           },
           "name": "",
           "offsetgroup": "",
           "orientation": "v",
           "showlegend": false,
           "textposition": "auto",
           "type": "bar",
           "x": [
            "Australia",
            "Brazil",
            "India",
            "US"
           ],
           "xaxis": "x",
           "y": [
            172,
            6,
            45,
            681
           ],
           "yaxis": "y"
          }
         ],
         "name": "3/26/20"
        },
        {
         "data": [
          {
           "alignmentgroup": "True",
           "hovertemplate": "Date=3/30/20<br>Country=%{x}<br>Cases=%{y}<extra></extra>",
           "ids": [
            "Australia",
            "Brazil",
            "India",
            "US"
           ],
           "legendgroup": "",
           "marker": {
            "color": "#42f587"
           },
           "name": "",
           "offsetgroup": "",
           "orientation": "v",
           "showlegend": false,
           "textposition": "auto",
           "type": "bar",
           "x": [
            "Australia",
            "Brazil",
            "India",
            "US"
           ],
           "xaxis": "x",
           "y": [
            257,
            120,
            102,
            5644
           ],
           "yaxis": "y"
          }
         ],
         "name": "3/30/20"
        },
        {
         "data": [
          {
           "alignmentgroup": "True",
           "hovertemplate": "Date=4/3/20<br>Country=%{x}<br>Cases=%{y}<extra></extra>",
           "ids": [
            "Australia",
            "Brazil",
            "India",
            "US"
           ],
           "legendgroup": "",
           "marker": {
            "color": "#42f587"
           },
           "name": "",
           "offsetgroup": "",
           "orientation": "v",
           "showlegend": false,
           "textposition": "auto",
           "type": "bar",
           "x": [
            "Australia",
            "Brazil",
            "India",
            "US"
           ],
           "xaxis": "x",
           "y": [
            649,
            127,
            192,
            9707
           ],
           "yaxis": "y"
          }
         ],
         "name": "4/3/20"
        },
        {
         "data": [
          {
           "alignmentgroup": "True",
           "hovertemplate": "Date=4/7/20<br>Country=%{x}<br>Cases=%{y}<extra></extra>",
           "ids": [
            "Australia",
            "Brazil",
            "India",
            "US"
           ],
           "legendgroup": "",
           "marker": {
            "color": "#42f587"
           },
           "name": "",
           "offsetgroup": "",
           "orientation": "v",
           "showlegend": false,
           "textposition": "auto",
           "type": "bar",
           "x": [
            "Australia",
            "Brazil",
            "India",
            "US"
           ],
           "xaxis": "x",
           "y": [
            1080,
            127,
            421,
            21763
           ],
           "yaxis": "y"
          }
         ],
         "name": "4/7/20"
        },
        {
         "data": [
          {
           "alignmentgroup": "True",
           "hovertemplate": "Date=4/11/20<br>Country=%{x}<br>Cases=%{y}<extra></extra>",
           "ids": [
            "Australia",
            "Brazil",
            "India",
            "US"
           ],
           "legendgroup": "",
           "marker": {
            "color": "#42f587"
           },
           "name": "",
           "offsetgroup": "",
           "orientation": "v",
           "showlegend": false,
           "textposition": "auto",
           "type": "bar",
           "x": [
            "Australia",
            "Brazil",
            "India",
            "US"
           ],
           "xaxis": "x",
           "y": [
            1806,
            173,
            969,
            31270
           ],
           "yaxis": "y"
          }
         ],
         "name": "4/11/20"
        },
        {
         "data": [
          {
           "alignmentgroup": "True",
           "hovertemplate": "Date=4/16/20<br>Country=%{x}<br>Cases=%{y}<extra></extra>",
           "ids": [
            "Australia",
            "Brazil",
            "India",
            "US"
           ],
           "legendgroup": "",
           "marker": {
            "color": "#42f587"
           },
           "name": "",
           "offsetgroup": "",
           "orientation": "v",
           "showlegend": false,
           "textposition": "auto",
           "type": "bar",
           "x": [
            "Australia",
            "Brazil",
            "India",
            "US"
           ],
           "xaxis": "x",
           "y": [
            2355,
            14026,
            1768,
            54703
           ],
           "yaxis": "y"
          }
         ],
         "name": "4/16/20"
        },
        {
         "data": [
          {
           "alignmentgroup": "True",
           "hovertemplate": "Date=4/20/20<br>Country=%{x}<br>Cases=%{y}<extra></extra>",
           "ids": [
            "Australia",
            "Brazil",
            "India",
            "US"
           ],
           "legendgroup": "",
           "marker": {
            "color": "#42f587"
           },
           "name": "",
           "offsetgroup": "",
           "orientation": "v",
           "showlegend": false,
           "textposition": "auto",
           "type": "bar",
           "x": [
            "Australia",
            "Brazil",
            "India",
            "US"
           ],
           "xaxis": "x",
           "y": [
            4291,
            22130,
            3273,
            72329
           ],
           "yaxis": "y"
          }
         ],
         "name": "4/20/20"
        },
        {
         "data": [
          {
           "alignmentgroup": "True",
           "hovertemplate": "Date=4/25/20<br>Country=%{x}<br>Cases=%{y}<extra></extra>",
           "ids": [
            "Australia",
            "Brazil",
            "India",
            "US"
           ],
           "legendgroup": "",
           "marker": {
            "color": "#42f587"
           },
           "name": "",
           "offsetgroup": "",
           "orientation": "v",
           "showlegend": false,
           "textposition": "auto",
           "type": "bar",
           "x": [
            "Australia",
            "Brazil",
            "India",
            "US"
           ],
           "xaxis": "x",
           "y": [
            5376,
            29160,
            5939,
            100372
           ],
           "yaxis": "y"
          }
         ],
         "name": "4/25/20"
        },
        {
         "data": [
          {
           "alignmentgroup": "True",
           "hovertemplate": "Date=5/3/20<br>Country=%{x}<br>Cases=%{y}<extra></extra>",
           "ids": [
            "Australia",
            "Brazil",
            "India",
            "US"
           ],
           "legendgroup": "",
           "marker": {
            "color": "#42f587"
           },
           "name": "",
           "offsetgroup": "",
           "orientation": "v",
           "showlegend": false,
           "textposition": "auto",
           "type": "bar",
           "x": [
            "Australia",
            "Brazil",
            "India",
            "US"
           ],
           "xaxis": "x",
           "y": [
            5849,
            42991,
            11775,
            180152
           ],
           "yaxis": "y"
          }
         ],
         "name": "5/3/20"
        },
        {
         "data": [
          {
           "alignmentgroup": "True",
           "hovertemplate": "Date=5/6/20<br>Country=%{x}<br>Cases=%{y}<extra></extra>",
           "ids": [
            "Australia",
            "Brazil",
            "India",
            "US"
           ],
           "legendgroup": "",
           "marker": {
            "color": "#42f587"
           },
           "name": "",
           "offsetgroup": "",
           "orientation": "v",
           "showlegend": false,
           "textposition": "auto",
           "type": "bar",
           "x": [
            "Australia",
            "Brazil",
            "India",
            "US"
           ],
           "xaxis": "x",
           "y": [
            6031,
            51370,
            15331,
            189910
           ],
           "yaxis": "y"
          }
         ],
         "name": "5/6/20"
        },
        {
         "data": [
          {
           "alignmentgroup": "True",
           "hovertemplate": "Date=5/11/20<br>Country=%{x}<br>Cases=%{y}<extra></extra>",
           "ids": [
            "Australia",
            "Brazil",
            "India",
            "US"
           ],
           "legendgroup": "",
           "marker": {
            "color": "#42f587"
           },
           "name": "",
           "offsetgroup": "",
           "orientation": "v",
           "showlegend": false,
           "textposition": "auto",
           "type": "bar",
           "x": [
            "Australia",
            "Brazil",
            "India",
            "US"
           ],
           "xaxis": "x",
           "y": [
            6213,
            67384,
            22549,
            232733
           ],
           "yaxis": "y"
          }
         ],
         "name": "5/11/20"
        },
        {
         "data": [
          {
           "alignmentgroup": "True",
           "hovertemplate": "Date=5/16/20<br>Country=%{x}<br>Cases=%{y}<extra></extra>",
           "ids": [
            "Australia",
            "Brazil",
            "India",
            "US"
           ],
           "legendgroup": "",
           "marker": {
            "color": "#42f587"
           },
           "name": "",
           "offsetgroup": "",
           "orientation": "v",
           "showlegend": false,
           "textposition": "auto",
           "type": "bar",
           "x": [
            "Australia",
            "Brazil",
            "India",
            "US"
           ],
           "xaxis": "x",
           "y": [
            6364,
            89672,
            34224,
            268376
           ],
           "yaxis": "y"
          }
         ],
         "name": "5/16/20"
        },
        {
         "data": [
          {
           "alignmentgroup": "True",
           "hovertemplate": "Date=5/20/20<br>Country=%{x}<br>Cases=%{y}<extra></extra>",
           "ids": [
            "Australia",
            "Brazil",
            "India",
            "US"
           ],
           "legendgroup": "",
           "marker": {
            "color": "#42f587"
           },
           "name": "",
           "offsetgroup": "",
           "orientation": "v",
           "showlegend": false,
           "textposition": "auto",
           "type": "bar",
           "x": [
            "Australia",
            "Brazil",
            "India",
            "US"
           ],
           "xaxis": "x",
           "y": [
            6470,
            116683,
            45422,
            294312
           ],
           "yaxis": "y"
          }
         ],
         "name": "5/20/20"
        },
        {
         "data": [
          {
           "alignmentgroup": "True",
           "hovertemplate": "Date=5/25/20<br>Country=%{x}<br>Cases=%{y}<extra></extra>",
           "ids": [
            "Australia",
            "Brazil",
            "India",
            "US"
           ],
           "legendgroup": "",
           "marker": {
            "color": "#42f587"
           },
           "name": "",
           "offsetgroup": "",
           "orientation": "v",
           "showlegend": false,
           "textposition": "auto",
           "type": "bar",
           "x": [
            "Australia",
            "Brazil",
            "India",
            "US"
           ],
           "xaxis": "x",
           "y": [
            6552,
            153833,
            60706,
            379157
           ],
           "yaxis": "y"
          }
         ],
         "name": "5/25/20"
        },
        {
         "data": [
          {
           "alignmentgroup": "True",
           "hovertemplate": "Date=6/2/20<br>Country=%{x}<br>Cases=%{y}<extra></extra>",
           "ids": [
            "Australia",
            "Brazil",
            "India",
            "US"
           ],
           "legendgroup": "",
           "marker": {
            "color": "#42f587"
           },
           "name": "",
           "offsetgroup": "",
           "orientation": "v",
           "showlegend": false,
           "textposition": "auto",
           "type": "bar",
           "x": [
            "Australia",
            "Brazil",
            "India",
            "US"
           ],
           "xaxis": "x",
           "y": [
            6636,
            223638,
            100285,
            463868
           ],
           "yaxis": "y"
          }
         ],
         "name": "6/2/20"
        },
        {
         "data": [
          {
           "alignmentgroup": "True",
           "hovertemplate": "Date=6/6/20<br>Country=%{x}<br>Cases=%{y}<extra></extra>",
           "ids": [
            "Australia",
            "Brazil",
            "India",
            "US"
           ],
           "legendgroup": "",
           "marker": {
            "color": "#42f587"
           },
           "name": "",
           "offsetgroup": "",
           "orientation": "v",
           "showlegend": false,
           "textposition": "auto",
           "type": "bar",
           "x": [
            "Australia",
            "Brazil",
            "India",
            "US"
           ],
           "xaxis": "x",
           "y": [
            6703,
            277149,
            118695,
            500849
           ],
           "yaxis": "y"
          }
         ],
         "name": "6/6/20"
        },
        {
         "data": [
          {
           "alignmentgroup": "True",
           "hovertemplate": "Date=6/10/20<br>Country=%{x}<br>Cases=%{y}<extra></extra>",
           "ids": [
            "Australia",
            "Brazil",
            "India",
            "US"
           ],
           "legendgroup": "",
           "marker": {
            "color": "#42f587"
           },
           "name": "",
           "offsetgroup": "",
           "orientation": "v",
           "showlegend": false,
           "textposition": "auto",
           "type": "bar",
           "x": [
            "Australia",
            "Brazil",
            "India",
            "US"
           ],
           "xaxis": "x",
           "y": [
            6759,
            413916,
            135206,
            533504
           ],
           "yaxis": "y"
          }
         ],
         "name": "6/10/20"
        },
        {
         "data": [
          {
           "alignmentgroup": "True",
           "hovertemplate": "Date=6/15/20<br>Country=%{x}<br>Cases=%{y}<extra></extra>",
           "ids": [
            "Australia",
            "Brazil",
            "India",
            "US"
           ],
           "legendgroup": "",
           "marker": {
            "color": "#42f587"
           },
           "name": "",
           "offsetgroup": "",
           "orientation": "v",
           "showlegend": false,
           "textposition": "auto",
           "type": "bar",
           "x": [
            "Australia",
            "Brazil",
            "India",
            "US"
           ],
           "xaxis": "x",
           "y": [
            6856,
            477709,
            180013,
            576334
           ],
           "yaxis": "y"
          }
         ],
         "name": "6/15/20"
        },
        {
         "data": [
          {
           "alignmentgroup": "True",
           "hovertemplate": "Date=6/24/20<br>Country=%{x}<br>Cases=%{y}<extra></extra>",
           "ids": [
            "Australia",
            "Brazil",
            "India",
            "US"
           ],
           "legendgroup": "",
           "marker": {
            "color": "#42f587"
           },
           "name": "",
           "offsetgroup": "",
           "orientation": "v",
           "showlegend": false,
           "textposition": "auto",
           "type": "bar",
           "x": [
            "Australia",
            "Brazil",
            "India",
            "US"
           ],
           "xaxis": "x",
           "y": [
            6931,
            660469,
            271697,
            656161
           ],
           "yaxis": "y"
          }
         ],
         "name": "6/24/20"
        },
        {
         "data": [
          {
           "alignmentgroup": "True",
           "hovertemplate": "Date=6/29/20<br>Country=%{x}<br>Cases=%{y}<extra></extra>",
           "ids": [
            "Australia",
            "Brazil",
            "India",
            "US"
           ],
           "legendgroup": "",
           "marker": {
            "color": "#42f587"
           },
           "name": "",
           "offsetgroup": "",
           "orientation": "v",
           "showlegend": false,
           "textposition": "auto",
           "type": "bar",
           "x": [
            "Australia",
            "Brazil",
            "India",
            "US"
           ],
           "xaxis": "x",
           "y": [
            7037,
            757811,
            334822,
            705203
           ],
           "yaxis": "y"
          }
         ],
         "name": "6/29/20"
        },
        {
         "data": [
          {
           "alignmentgroup": "True",
           "hovertemplate": "Date=7/2/20<br>Country=%{x}<br>Cases=%{y}<extra></extra>",
           "ids": [
            "Australia",
            "Brazil",
            "India",
            "US"
           ],
           "legendgroup": "",
           "marker": {
            "color": "#42f587"
           },
           "name": "",
           "offsetgroup": "",
           "orientation": "v",
           "showlegend": false,
           "textposition": "auto",
           "type": "bar",
           "x": [
            "Australia",
            "Brazil",
            "India",
            "US"
           ],
           "xaxis": "x",
           "y": [
            7130,
            957692,
            379892,
            781970
           ],
           "yaxis": "y"
          }
         ],
         "name": "7/2/20"
        },
        {
         "data": [
          {
           "alignmentgroup": "True",
           "hovertemplate": "Date=7/5/20<br>Country=%{x}<br>Cases=%{y}<extra></extra>",
           "ids": [
            "Australia",
            "Brazil",
            "India",
            "US"
           ],
           "legendgroup": "",
           "marker": {
            "color": "#42f587"
           },
           "name": "",
           "offsetgroup": "",
           "orientation": "v",
           "showlegend": false,
           "textposition": "auto",
           "type": "bar",
           "x": [
            "Australia",
            "Brazil",
            "India",
            "US"
           ],
           "xaxis": "x",
           "y": [
            7420,
            1029045,
            424433,
            906763
           ],
           "yaxis": "y"
          }
         ],
         "name": "7/5/20"
        },
        {
         "data": [
          {
           "alignmentgroup": "True",
           "hovertemplate": "Date=7/10/20<br>Country=%{x}<br>Cases=%{y}<extra></extra>",
           "ids": [
            "Australia",
            "Brazil",
            "India",
            "US"
           ],
           "legendgroup": "",
           "marker": {
            "color": "#42f587"
           },
           "name": "",
           "offsetgroup": "",
           "orientation": "v",
           "showlegend": false,
           "textposition": "auto",
           "type": "bar",
           "x": [
            "Australia",
            "Brazil",
            "India",
            "US"
           ],
           "xaxis": "x",
           "y": [
            7733,
            1217361,
            515386,
            983185
           ],
           "yaxis": "y"
          }
         ],
         "name": "7/10/20"
        },
        {
         "data": [
          {
           "alignmentgroup": "True",
           "hovertemplate": "Date=7/15/20<br>Country=%{x}<br>Cases=%{y}<extra></extra>",
           "ids": [
            "Australia",
            "Brazil",
            "India",
            "US"
           ],
           "legendgroup": "",
           "marker": {
            "color": "#42f587"
           },
           "name": "",
           "offsetgroup": "",
           "orientation": "v",
           "showlegend": false,
           "textposition": "auto",
           "type": "bar",
           "x": [
            "Australia",
            "Brazil",
            "India",
            "US"
           ],
           "xaxis": "x",
           "y": [
            8035,
            1350098,
            612768,
            1075882
           ],
           "yaxis": "y"
          }
         ],
         "name": "7/15/20"
        },
        {
         "data": [
          {
           "alignmentgroup": "True",
           "hovertemplate": "Date=7/24/20<br>Country=%{x}<br>Cases=%{y}<extra></extra>",
           "ids": [
            "Australia",
            "Brazil",
            "India",
            "US"
           ],
           "legendgroup": "",
           "marker": {
            "color": "#42f587"
           },
           "name": "",
           "offsetgroup": "",
           "orientation": "v",
           "showlegend": false,
           "textposition": "auto",
           "type": "bar",
           "x": [
            "Australia",
            "Brazil",
            "India",
            "US"
           ],
           "xaxis": "x",
           "y": [
            8938,
            1693214,
            849432,
            1261624
           ],
           "yaxis": "y"
          }
         ],
         "name": "7/24/20"
        },
        {
         "data": [
          {
           "alignmentgroup": "True",
           "hovertemplate": "Date=7/29/20<br>Country=%{x}<br>Cases=%{y}<extra></extra>",
           "ids": [
            "Australia",
            "Brazil",
            "India",
            "US"
           ],
           "legendgroup": "",
           "marker": {
            "color": "#42f587"
           },
           "name": "",
           "offsetgroup": "",
           "orientation": "v",
           "showlegend": false,
           "textposition": "auto",
           "type": "bar",
           "x": [
            "Australia",
            "Brazil",
            "India",
            "US"
           ],
           "xaxis": "x",
           "y": [
            9619,
            1922802,
            1019735,
            1389425
           ],
           "yaxis": "y"
          }
         ],
         "name": "7/29/20"
        },
        {
         "data": [
          {
           "alignmentgroup": "True",
           "hovertemplate": "Date=8/1/20<br>Country=%{x}<br>Cases=%{y}<extra></extra>",
           "ids": [
            "Australia",
            "Brazil",
            "India",
            "US"
           ],
           "legendgroup": "",
           "marker": {
            "color": "#42f587"
           },
           "name": "",
           "offsetgroup": "",
           "orientation": "v",
           "showlegend": false,
           "textposition": "auto",
           "type": "bar",
           "x": [
            "Australia",
            "Brazil",
            "India",
            "US"
           ],
           "xaxis": "x",
           "y": [
            10204,
            2037982,
            1145629,
            1461885
           ],
           "yaxis": "y"
          }
         ],
         "name": "8/1/20"
        },
        {
         "data": [
          {
           "alignmentgroup": "True",
           "hovertemplate": "Date=8/4/20<br>Country=%{x}<br>Cases=%{y}<extra></extra>",
           "ids": [
            "Australia",
            "Brazil",
            "India",
            "US"
           ],
           "legendgroup": "",
           "marker": {
            "color": "#42f587"
           },
           "name": "",
           "offsetgroup": "",
           "orientation": "v",
           "showlegend": false,
           "textposition": "auto",
           "type": "bar",
           "x": [
            "Australia",
            "Brazil",
            "India",
            "US"
           ],
           "xaxis": "x",
           "y": [
            10799,
            2157484,
            1282215,
            1528979
           ],
           "yaxis": "y"
          }
         ],
         "name": "8/4/20"
        },
        {
         "data": [
          {
           "alignmentgroup": "True",
           "hovertemplate": "Date=8/9/20<br>Country=%{x}<br>Cases=%{y}<extra></extra>",
           "ids": [
            "Australia",
            "Brazil",
            "India",
            "US"
           ],
           "legendgroup": "",
           "marker": {
            "color": "#42f587"
           },
           "name": "",
           "offsetgroup": "",
           "orientation": "v",
           "showlegend": false,
           "textposition": "auto",
           "type": "bar",
           "x": [
            "Australia",
            "Brazil",
            "India",
            "US"
           ],
           "xaxis": "x",
           "y": [
            11876,
            2356983,
            1535743,
            1656864
           ],
           "yaxis": "y"
          }
         ],
         "name": "8/9/20"
        },
        {
         "data": [
          {
           "alignmentgroup": "True",
           "hovertemplate": "Date=8/14/20<br>Country=%{x}<br>Cases=%{y}<extra></extra>",
           "ids": [
            "Australia",
            "Brazil",
            "India",
            "US"
           ],
           "legendgroup": "",
           "marker": {
            "color": "#42f587"
           },
           "name": "",
           "offsetgroup": "",
           "orientation": "v",
           "showlegend": false,
           "textposition": "auto",
           "type": "bar",
           "x": [
            "Australia",
            "Brazil",
            "India",
            "US"
           ],
           "xaxis": "x",
           "y": [
            13632,
            2616981,
            1808936,
            1796326
           ],
           "yaxis": "y"
          }
         ],
         "name": "8/14/20"
        },
        {
         "data": [
          {
           "alignmentgroup": "True",
           "hovertemplate": "Date=8/19/20<br>Country=%{x}<br>Cases=%{y}<extra></extra>",
           "ids": [
            "Australia",
            "Brazil",
            "India",
            "US"
           ],
           "legendgroup": "",
           "marker": {
            "color": "#42f587"
           },
           "name": "",
           "offsetgroup": "",
           "orientation": "v",
           "showlegend": false,
           "textposition": "auto",
           "type": "bar",
           "x": [
            "Australia",
            "Brazil",
            "India",
            "US"
           ],
           "xaxis": "x",
           "y": [
            15249,
            2801931,
            2096664,
            1925049
           ],
           "yaxis": "y"
          }
         ],
         "name": "8/19/20"
        },
        {
         "data": [
          {
           "alignmentgroup": "True",
           "hovertemplate": "Date=8/23/20<br>Country=%{x}<br>Cases=%{y}<extra></extra>",
           "ids": [
            "Australia",
            "Brazil",
            "India",
            "US"
           ],
           "legendgroup": "",
           "marker": {
            "color": "#42f587"
           },
           "name": "",
           "offsetgroup": "",
           "orientation": "v",
           "showlegend": false,
           "textposition": "auto",
           "type": "bar",
           "x": [
            "Australia",
            "Brazil",
            "India",
            "US"
           ],
           "xaxis": "x",
           "y": [
            19233,
            2947784,
            2338035,
            1997761
           ],
           "yaxis": "y"
          }
         ],
         "name": "8/23/20"
        },
        {
         "data": [
          {
           "alignmentgroup": "True",
           "hovertemplate": "Date=8/28/20<br>Country=%{x}<br>Cases=%{y}<extra></extra>",
           "ids": [
            "Australia",
            "Brazil",
            "India",
            "US"
           ],
           "legendgroup": "",
           "marker": {
            "color": "#42f587"
           },
           "name": "",
           "offsetgroup": "",
           "orientation": "v",
           "showlegend": false,
           "textposition": "auto",
           "type": "bar",
           "x": [
            "Australia",
            "Brazil",
            "India",
            "US"
           ],
           "xaxis": "x",
           "y": [
            20633,
            3158783,
            2648998,
            2118367
           ],
           "yaxis": "y"
          }
         ],
         "name": "8/28/20"
        },
        {
         "data": [
          {
           "alignmentgroup": "True",
           "hovertemplate": "Date=9/4/20<br>Country=%{x}<br>Cases=%{y}<extra></extra>",
           "ids": [
            "Australia",
            "Brazil",
            "India",
            "US"
           ],
           "legendgroup": "",
           "marker": {
            "color": "#42f587"
           },
           "name": "",
           "offsetgroup": "",
           "orientation": "v",
           "showlegend": false,
           "textposition": "auto",
           "type": "bar",
           "x": [
            "Australia",
            "Brazil",
            "India",
            "US"
           ],
           "xaxis": "x",
           "y": [
            22172,
            3464278,
            3107223,
            2283454
           ],
           "yaxis": "y"
          }
         ],
         "name": "9/4/20"
        },
        {
         "data": [
          {
           "alignmentgroup": "True",
           "hovertemplate": "Date=9/9/20<br>Country=%{x}<br>Cases=%{y}<extra></extra>",
           "ids": [
            "Australia",
            "Brazil",
            "India",
            "US"
           ],
           "legendgroup": "",
           "marker": {
            "color": "#42f587"
           },
           "name": "",
           "offsetgroup": "",
           "orientation": "v",
           "showlegend": false,
           "textposition": "auto",
           "type": "bar",
           "x": [
            "Australia",
            "Brazil",
            "India",
            "US"
           ],
           "xaxis": "x",
           "y": [
            22863,
            3611632,
            3471783,
            2387479
           ],
           "yaxis": "y"
          }
         ],
         "name": "9/9/20"
        },
        {
         "data": [
          {
           "alignmentgroup": "True",
           "hovertemplate": "Date=9/13/20<br>Country=%{x}<br>Cases=%{y}<extra></extra>",
           "ids": [
            "Australia",
            "Brazil",
            "India",
            "US"
           ],
           "legendgroup": "",
           "marker": {
            "color": "#42f587"
           },
           "name": "",
           "offsetgroup": "",
           "orientation": "v",
           "showlegend": false,
           "textposition": "auto",
           "type": "bar",
           "x": [
            "Australia",
            "Brazil",
            "India",
            "US"
           ],
           "xaxis": "x",
           "y": [
            23465,
            3723206,
            3780107,
            2451406
           ],
           "yaxis": "y"
          }
         ],
         "name": "9/13/20"
        },
        {
         "data": [
          {
           "alignmentgroup": "True",
           "hovertemplate": "Date=9/18/20<br>Country=%{x}<br>Cases=%{y}<extra></extra>",
           "ids": [
            "Australia",
            "Brazil",
            "India",
            "US"
           ],
           "legendgroup": "",
           "marker": {
            "color": "#42f587"
           },
           "name": "",
           "offsetgroup": "",
           "orientation": "v",
           "showlegend": false,
           "textposition": "auto",
           "type": "bar",
           "x": [
            "Australia",
            "Brazil",
            "India",
            "US"
           ],
           "xaxis": "x",
           "y": [
            23861,
            3897539,
            4208431,
            2556465
           ],
           "yaxis": "y"
          }
         ],
         "name": "9/18/20"
        },
        {
         "data": [
          {
           "alignmentgroup": "True",
           "hovertemplate": "Date=9/22/20<br>Country=%{x}<br>Cases=%{y}<extra></extra>",
           "ids": [
            "Australia",
            "Brazil",
            "India",
            "US"
           ],
           "legendgroup": "",
           "marker": {
            "color": "#42f587"
           },
           "name": "",
           "offsetgroup": "",
           "orientation": "v",
           "showlegend": false,
           "textposition": "auto",
           "type": "bar",
           "x": [
            "Australia",
            "Brazil",
            "India",
            "US"
           ],
           "xaxis": "x",
           "y": [
            24331,
            4016831,
            4587613,
            2646959
           ],
           "yaxis": "y"
          }
         ],
         "name": "9/22/20"
        },
        {
         "data": [
          {
           "alignmentgroup": "True",
           "hovertemplate": "Date=9/27/20<br>Country=%{x}<br>Cases=%{y}<extra></extra>",
           "ids": [
            "Australia",
            "Brazil",
            "India",
            "US"
           ],
           "legendgroup": "",
           "marker": {
            "color": "#42f587"
           },
           "name": "",
           "offsetgroup": "",
           "orientation": "v",
           "showlegend": false,
           "textposition": "auto",
           "type": "bar",
           "x": [
            "Australia",
            "Brazil",
            "India",
            "US"
           ],
           "xaxis": "x",
           "y": [
            24633,
            4172711,
            5016520,
            2766280
           ],
           "yaxis": "y"
          }
         ],
         "name": "9/27/20"
        },
        {
         "data": [
          {
           "alignmentgroup": "True",
           "hovertemplate": "Date=10/3/20<br>Country=%{x}<br>Cases=%{y}<extra></extra>",
           "ids": [
            "Australia",
            "Brazil",
            "India",
            "US"
           ],
           "legendgroup": "",
           "marker": {
            "color": "#42f587"
           },
           "name": "",
           "offsetgroup": "",
           "orientation": "v",
           "showlegend": false,
           "textposition": "auto",
           "type": "bar",
           "x": [
            "Australia",
            "Brazil",
            "India",
            "US"
           ],
           "xaxis": "x",
           "y": [
            24866,
            4361108,
            5509966,
            2897322
           ],
           "yaxis": "y"
          }
         ],
         "name": "10/3/20"
        },
        {
         "data": [
          {
           "alignmentgroup": "True",
           "hovertemplate": "Date=10/6/20<br>Country=%{x}<br>Cases=%{y}<extra></extra>",
           "ids": [
            "Australia",
            "Brazil",
            "India",
            "US"
           ],
           "legendgroup": "",
           "marker": {
            "color": "#42f587"
           },
           "name": "",
           "offsetgroup": "",
           "orientation": "v",
           "showlegend": false,
           "textposition": "auto",
           "type": "bar",
           "x": [
            "Australia",
            "Brazil",
            "India",
            "US"
           ],
           "xaxis": "x",
           "y": [
            24917,
            4430340,
            5744693,
            2952390
           ],
           "yaxis": "y"
          }
         ],
         "name": "10/6/20"
        },
        {
         "data": [
          {
           "alignmentgroup": "True",
           "hovertemplate": "Date=10/11/20<br>Country=%{x}<br>Cases=%{y}<extra></extra>",
           "ids": [
            "Australia",
            "Brazil",
            "India",
            "US"
           ],
           "legendgroup": "",
           "marker": {
            "color": "#42f587"
           },
           "name": "",
           "offsetgroup": "",
           "orientation": "v",
           "showlegend": false,
           "textposition": "auto",
           "type": "bar",
           "x": [
            "Australia",
            "Brazil",
            "India",
            "US"
           ],
           "xaxis": "x",
           "y": [
            25000,
            4526393,
            6149535,
            3075077
           ],
           "yaxis": "y"
          }
         ],
         "name": "10/11/20"
        },
        {
         "data": [
          {
           "alignmentgroup": "True",
           "hovertemplate": "Date=10/16/20<br>Country=%{x}<br>Cases=%{y}<extra></extra>",
           "ids": [
            "Australia",
            "Brazil",
            "India",
            "US"
           ],
           "legendgroup": "",
           "marker": {
            "color": "#42f587"
           },
           "name": "",
           "offsetgroup": "",
           "orientation": "v",
           "showlegend": false,
           "textposition": "auto",
           "type": "bar",
           "x": [
            "Australia",
            "Brazil",
            "India",
            "US"
           ],
           "xaxis": "x",
           "y": [
            25097,
            4526393,
            6524595,
            3197539
           ],
           "yaxis": "y"
          }
         ],
         "name": "10/16/20"
        },
        {
         "data": [
          {
           "alignmentgroup": "True",
           "hovertemplate": "Date=10/20/20<br>Country=%{x}<br>Cases=%{y}<extra></extra>",
           "ids": [
            "Australia",
            "Brazil",
            "India",
            "US"
           ],
           "legendgroup": "",
           "marker": {
            "color": "#42f587"
           },
           "name": "",
           "offsetgroup": "",
           "orientation": "v",
           "showlegend": false,
           "textposition": "auto",
           "type": "bar",
           "x": [
            "Australia",
            "Brazil",
            "India",
            "US"
           ],
           "xaxis": "x",
           "y": [
            25125,
            4526393,
            6795103,
            3295148
           ],
           "yaxis": "y"
          }
         ],
         "name": "10/20/20"
        },
        {
         "data": [
          {
           "alignmentgroup": "True",
           "hovertemplate": "Date=10/25/20<br>Country=%{x}<br>Cases=%{y}<extra></extra>",
           "ids": [
            "Australia",
            "Brazil",
            "India",
            "US"
           ],
           "legendgroup": "",
           "marker": {
            "color": "#42f587"
           },
           "name": "",
           "offsetgroup": "",
           "orientation": "v",
           "showlegend": false,
           "textposition": "auto",
           "type": "bar",
           "x": [
            "Australia",
            "Brazil",
            "India",
            "US"
           ],
           "xaxis": "x",
           "y": [
            25196,
            4526393,
            7137228,
            3422878
           ],
           "yaxis": "y"
          }
         ],
         "name": "10/25/20"
        },
        {
         "data": [
          {
           "alignmentgroup": "True",
           "hovertemplate": "Date=11/2/20<br>Country=%{x}<br>Cases=%{y}<extra></extra>",
           "ids": [
            "Australia",
            "Brazil",
            "India",
            "US"
           ],
           "legendgroup": "",
           "marker": {
            "color": "#42f587"
           },
           "name": "",
           "offsetgroup": "",
           "orientation": "v",
           "showlegend": false,
           "textposition": "auto",
           "type": "bar",
           "x": [
            "Australia",
            "Brazil",
            "India",
            "US"
           ],
           "xaxis": "x",
           "y": [
            25384,
            5039438,
            7603121,
            3674981
           ],
           "yaxis": "y"
          }
         ],
         "name": "11/2/20"
        },
        {
         "data": [
          {
           "alignmentgroup": "True",
           "hovertemplate": "Date=11/6/20<br>Country=%{x}<br>Cases=%{y}<extra></extra>",
           "ids": [
            "Australia",
            "Brazil",
            "India",
            "US"
           ],
           "legendgroup": "",
           "marker": {
            "color": "#42f587"
           },
           "name": "",
           "offsetgroup": "",
           "orientation": "v",
           "showlegend": false,
           "textposition": "auto",
           "type": "bar",
           "x": [
            "Australia",
            "Brazil",
            "India",
            "US"
           ],
           "xaxis": "x",
           "y": [
            25440,
            5118156,
            7819886,
            3810791
           ],
           "yaxis": "y"
          }
         ],
         "name": "11/6/20"
        },
        {
         "data": [
          {
           "alignmentgroup": "True",
           "hovertemplate": "Date=11/10/20<br>Country=%{x}<br>Cases=%{y}<extra></extra>",
           "ids": [
            "Australia",
            "Brazil",
            "India",
            "US"
           ],
           "legendgroup": "",
           "marker": {
            "color": "#42f587"
           },
           "name": "",
           "offsetgroup": "",
           "orientation": "v",
           "showlegend": false,
           "textposition": "auto",
           "type": "bar",
           "x": [
            "Australia",
            "Brazil",
            "India",
            "US"
           ],
           "xaxis": "x",
           "y": [
            25454,
            5183970,
            8013783,
            3961873
           ],
           "yaxis": "y"
          }
         ],
         "name": "11/10/20"
        },
        {
         "data": [
          {
           "alignmentgroup": "True",
           "hovertemplate": "Date=11/15/20<br>Country=%{x}<br>Cases=%{y}<extra></extra>",
           "ids": [
            "Australia",
            "Brazil",
            "India",
            "US"
           ],
           "legendgroup": "",
           "marker": {
            "color": "#42f587"
           },
           "name": "",
           "offsetgroup": "",
           "orientation": "v",
           "showlegend": false,
           "textposition": "auto",
           "type": "bar",
           "x": [
            "Australia",
            "Brazil",
            "India",
            "US"
           ],
           "xaxis": "x",
           "y": [
            25468,
            5279452,
            8249579,
            4174884
           ],
           "yaxis": "y"
          }
         ],
         "name": "11/15/20"
        },
        {
         "data": [
          {
           "alignmentgroup": "True",
           "hovertemplate": "Date=11/24/20<br>Country=%{x}<br>Cases=%{y}<extra></extra>",
           "ids": [
            "Australia",
            "Brazil",
            "India",
            "US"
           ],
           "legendgroup": "",
           "marker": {
            "color": "#42f587"
           },
           "name": "",
           "offsetgroup": "",
           "orientation": "v",
           "showlegend": false,
           "textposition": "auto",
           "type": "bar",
           "x": [
            "Australia",
            "Brazil",
            "India",
            "US"
           ],
           "xaxis": "x",
           "y": [
            25539,
            5509645,
            8642771,
            4696664
           ],
           "yaxis": "y"
          }
         ],
         "name": "11/24/20"
        },
        {
         "data": [
          {
           "alignmentgroup": "True",
           "hovertemplate": "Date=11/29/20<br>Country=%{x}<br>Cases=%{y}<extra></extra>",
           "ids": [
            "Australia",
            "Brazil",
            "India",
            "US"
           ],
           "legendgroup": "",
           "marker": {
            "color": "#42f587"
           },
           "name": "",
           "offsetgroup": "",
           "orientation": "v",
           "showlegend": false,
           "textposition": "auto",
           "type": "bar",
           "x": [
            "Australia",
            "Brazil",
            "India",
            "US"
           ],
           "xaxis": "x",
           "y": [
            25592,
            5581436,
            8847600,
            5065030
           ],
           "yaxis": "y"
          }
         ],
         "name": "11/29/20"
        },
        {
         "data": [
          {
           "alignmentgroup": "True",
           "hovertemplate": "Date=12/2/20<br>Country=%{x}<br>Cases=%{y}<extra></extra>",
           "ids": [
            "Australia",
            "Brazil",
            "India",
            "US"
           ],
           "legendgroup": "",
           "marker": {
            "color": "#42f587"
           },
           "name": "",
           "offsetgroup": "",
           "orientation": "v",
           "showlegend": false,
           "textposition": "auto",
           "type": "bar",
           "x": [
            "Australia",
            "Brazil",
            "India",
            "US"
           ],
           "xaxis": "x",
           "y": [
            25614,
            5759294,
            8973373,
            5322128
           ],
           "yaxis": "y"
          }
         ],
         "name": "12/2/20"
        },
        {
         "data": [
          {
           "alignmentgroup": "True",
           "hovertemplate": "Date=12/7/20<br>Country=%{x}<br>Cases=%{y}<extra></extra>",
           "ids": [
            "Australia",
            "Brazil",
            "India",
            "US"
           ],
           "legendgroup": "",
           "marker": {
            "color": "#42f587"
           },
           "name": "",
           "offsetgroup": "",
           "orientation": "v",
           "showlegend": false,
           "textposition": "auto",
           "type": "bar",
           "x": [
            "Australia",
            "Brazil",
            "India",
            "US"
           ],
           "xaxis": "x",
           "y": [
            25646,
            5897526,
            9178946,
            5714557
           ],
           "yaxis": "y"
          }
         ],
         "name": "12/7/20"
        },
        {
         "data": [
          {
           "alignmentgroup": "True",
           "hovertemplate": "Date=12/10/20<br>Country=%{x}<br>Cases=%{y}<extra></extra>",
           "ids": [
            "Australia",
            "Brazil",
            "India",
            "US"
           ],
           "legendgroup": "",
           "marker": {
            "color": "#42f587"
           },
           "name": "",
           "offsetgroup": "",
           "orientation": "v",
           "showlegend": false,
           "textposition": "auto",
           "type": "bar",
           "x": [
            "Australia",
            "Brazil",
            "India",
            "US"
           ],
           "xaxis": "x",
           "y": [
            25665,
            6043219,
            9290809,
            5985047
           ],
           "yaxis": "y"
          }
         ],
         "name": "12/10/20"
        },
        {
         "data": [
          {
           "alignmentgroup": "True",
           "hovertemplate": "Date=12/15/20<br>Country=%{x}<br>Cases=%{y}<extra></extra>",
           "ids": [
            "Australia",
            "Brazil",
            "India",
            "US"
           ],
           "legendgroup": "",
           "marker": {
            "color": "#42f587"
           },
           "name": "",
           "offsetgroup": "",
           "orientation": "v",
           "showlegend": false,
           "textposition": "auto",
           "type": "bar",
           "x": [
            "Australia",
            "Brazil",
            "India",
            "US"
           ],
           "xaxis": "x",
           "y": [
            25690,
            6206483,
            9456449,
            0
           ],
           "yaxis": "y"
          }
         ],
         "name": "12/15/20"
        },
        {
         "data": [
          {
           "alignmentgroup": "True",
           "hovertemplate": "Date=12/24/20<br>Country=%{x}<br>Cases=%{y}<extra></extra>",
           "ids": [
            "Australia",
            "Brazil",
            "India",
            "US"
           ],
           "legendgroup": "",
           "marker": {
            "color": "#42f587"
           },
           "name": "",
           "offsetgroup": "",
           "orientation": "v",
           "showlegend": false,
           "textposition": "auto",
           "type": "bar",
           "x": [
            "Australia",
            "Brazil",
            "India",
            "US"
           ],
           "xaxis": "x",
           "y": [
            25724,
            6512717,
            9717834,
            0
           ],
           "yaxis": "y"
          }
         ],
         "name": "12/24/20"
        },
        {
         "data": [
          {
           "alignmentgroup": "True",
           "hovertemplate": "Date=12/29/20<br>Country=%{x}<br>Cases=%{y}<extra></extra>",
           "ids": [
            "Australia",
            "Brazil",
            "India",
            "US"
           ],
           "legendgroup": "",
           "marker": {
            "color": "#42f587"
           },
           "name": "",
           "offsetgroup": "",
           "orientation": "v",
           "showlegend": false,
           "textposition": "auto",
           "type": "bar",
           "x": [
            "Australia",
            "Brazil",
            "India",
            "US"
           ],
           "xaxis": "x",
           "y": [
            25754,
            6754111,
            9834141,
            0
           ],
           "yaxis": "y"
          }
         ],
         "name": "12/29/20"
        }
       ],
       "layout": {
        "barmode": "relative",
        "legend": {
         "tracegroupgap": 0
        },
        "margin": {
         "t": 60
        },
        "showlegend": false,
        "sliders": [
         {
          "active": 0,
          "currentvalue": {
           "prefix": "Date="
          },
          "len": 0.9,
          "pad": {
           "b": 10,
           "t": 60
          },
          "steps": [
           {
            "args": [
             [
              "1/24/20"
             ],
             {
              "frame": {
               "duration": 0,
               "redraw": true
              },
              "fromcurrent": true,
              "mode": "immediate",
              "transition": {
               "duration": 0,
               "easing": "linear"
              }
             }
            ],
            "label": "1/24/20",
            "method": "animate"
           },
           {
            "args": [
             [
              "1/29/20"
             ],
             {
              "frame": {
               "duration": 0,
               "redraw": true
              },
              "fromcurrent": true,
              "mode": "immediate",
              "transition": {
               "duration": 0,
               "easing": "linear"
              }
             }
            ],
            "label": "1/29/20",
            "method": "animate"
           },
           {
            "args": [
             [
              "2/3/20"
             ],
             {
              "frame": {
               "duration": 0,
               "redraw": true
              },
              "fromcurrent": true,
              "mode": "immediate",
              "transition": {
               "duration": 0,
               "easing": "linear"
              }
             }
            ],
            "label": "2/3/20",
            "method": "animate"
           },
           {
            "args": [
             [
              "2/8/20"
             ],
             {
              "frame": {
               "duration": 0,
               "redraw": true
              },
              "fromcurrent": true,
              "mode": "immediate",
              "transition": {
               "duration": 0,
               "easing": "linear"
              }
             }
            ],
            "label": "2/8/20",
            "method": "animate"
           },
           {
            "args": [
             [
              "2/11/20"
             ],
             {
              "frame": {
               "duration": 0,
               "redraw": true
              },
              "fromcurrent": true,
              "mode": "immediate",
              "transition": {
               "duration": 0,
               "easing": "linear"
              }
             }
            ],
            "label": "2/11/20",
            "method": "animate"
           },
           {
            "args": [
             [
              "2/16/20"
             ],
             {
              "frame": {
               "duration": 0,
               "redraw": true
              },
              "fromcurrent": true,
              "mode": "immediate",
              "transition": {
               "duration": 0,
               "easing": "linear"
              }
             }
            ],
            "label": "2/16/20",
            "method": "animate"
           },
           {
            "args": [
             [
              "2/20/20"
             ],
             {
              "frame": {
               "duration": 0,
               "redraw": true
              },
              "fromcurrent": true,
              "mode": "immediate",
              "transition": {
               "duration": 0,
               "easing": "linear"
              }
             }
            ],
            "label": "2/20/20",
            "method": "animate"
           },
           {
            "args": [
             [
              "2/25/20"
             ],
             {
              "frame": {
               "duration": 0,
               "redraw": true
              },
              "fromcurrent": true,
              "mode": "immediate",
              "transition": {
               "duration": 0,
               "easing": "linear"
              }
             }
            ],
            "label": "2/25/20",
            "method": "animate"
           },
           {
            "args": [
             [
              "3/7/20"
             ],
             {
              "frame": {
               "duration": 0,
               "redraw": true
              },
              "fromcurrent": true,
              "mode": "immediate",
              "transition": {
               "duration": 0,
               "easing": "linear"
              }
             }
            ],
            "label": "3/7/20",
            "method": "animate"
           },
           {
            "args": [
             [
              "3/12/20"
             ],
             {
              "frame": {
               "duration": 0,
               "redraw": true
              },
              "fromcurrent": true,
              "mode": "immediate",
              "transition": {
               "duration": 0,
               "easing": "linear"
              }
             }
            ],
            "label": "3/12/20",
            "method": "animate"
           },
           {
            "args": [
             [
              "3/17/20"
             ],
             {
              "frame": {
               "duration": 0,
               "redraw": true
              },
              "fromcurrent": true,
              "mode": "immediate",
              "transition": {
               "duration": 0,
               "easing": "linear"
              }
             }
            ],
            "label": "3/17/20",
            "method": "animate"
           },
           {
            "args": [
             [
              "3/21/20"
             ],
             {
              "frame": {
               "duration": 0,
               "redraw": true
              },
              "fromcurrent": true,
              "mode": "immediate",
              "transition": {
               "duration": 0,
               "easing": "linear"
              }
             }
            ],
            "label": "3/21/20",
            "method": "animate"
           },
           {
            "args": [
             [
              "3/26/20"
             ],
             {
              "frame": {
               "duration": 0,
               "redraw": true
              },
              "fromcurrent": true,
              "mode": "immediate",
              "transition": {
               "duration": 0,
               "easing": "linear"
              }
             }
            ],
            "label": "3/26/20",
            "method": "animate"
           },
           {
            "args": [
             [
              "3/30/20"
             ],
             {
              "frame": {
               "duration": 0,
               "redraw": true
              },
              "fromcurrent": true,
              "mode": "immediate",
              "transition": {
               "duration": 0,
               "easing": "linear"
              }
             }
            ],
            "label": "3/30/20",
            "method": "animate"
           },
           {
            "args": [
             [
              "4/3/20"
             ],
             {
              "frame": {
               "duration": 0,
               "redraw": true
              },
              "fromcurrent": true,
              "mode": "immediate",
              "transition": {
               "duration": 0,
               "easing": "linear"
              }
             }
            ],
            "label": "4/3/20",
            "method": "animate"
           },
           {
            "args": [
             [
              "4/7/20"
             ],
             {
              "frame": {
               "duration": 0,
               "redraw": true
              },
              "fromcurrent": true,
              "mode": "immediate",
              "transition": {
               "duration": 0,
               "easing": "linear"
              }
             }
            ],
            "label": "4/7/20",
            "method": "animate"
           },
           {
            "args": [
             [
              "4/11/20"
             ],
             {
              "frame": {
               "duration": 0,
               "redraw": true
              },
              "fromcurrent": true,
              "mode": "immediate",
              "transition": {
               "duration": 0,
               "easing": "linear"
              }
             }
            ],
            "label": "4/11/20",
            "method": "animate"
           },
           {
            "args": [
             [
              "4/16/20"
             ],
             {
              "frame": {
               "duration": 0,
               "redraw": true
              },
              "fromcurrent": true,
              "mode": "immediate",
              "transition": {
               "duration": 0,
               "easing": "linear"
              }
             }
            ],
            "label": "4/16/20",
            "method": "animate"
           },
           {
            "args": [
             [
              "4/20/20"
             ],
             {
              "frame": {
               "duration": 0,
               "redraw": true
              },
              "fromcurrent": true,
              "mode": "immediate",
              "transition": {
               "duration": 0,
               "easing": "linear"
              }
             }
            ],
            "label": "4/20/20",
            "method": "animate"
           },
           {
            "args": [
             [
              "4/25/20"
             ],
             {
              "frame": {
               "duration": 0,
               "redraw": true
              },
              "fromcurrent": true,
              "mode": "immediate",
              "transition": {
               "duration": 0,
               "easing": "linear"
              }
             }
            ],
            "label": "4/25/20",
            "method": "animate"
           },
           {
            "args": [
             [
              "5/3/20"
             ],
             {
              "frame": {
               "duration": 0,
               "redraw": true
              },
              "fromcurrent": true,
              "mode": "immediate",
              "transition": {
               "duration": 0,
               "easing": "linear"
              }
             }
            ],
            "label": "5/3/20",
            "method": "animate"
           },
           {
            "args": [
             [
              "5/6/20"
             ],
             {
              "frame": {
               "duration": 0,
               "redraw": true
              },
              "fromcurrent": true,
              "mode": "immediate",
              "transition": {
               "duration": 0,
               "easing": "linear"
              }
             }
            ],
            "label": "5/6/20",
            "method": "animate"
           },
           {
            "args": [
             [
              "5/11/20"
             ],
             {
              "frame": {
               "duration": 0,
               "redraw": true
              },
              "fromcurrent": true,
              "mode": "immediate",
              "transition": {
               "duration": 0,
               "easing": "linear"
              }
             }
            ],
            "label": "5/11/20",
            "method": "animate"
           },
           {
            "args": [
             [
              "5/16/20"
             ],
             {
              "frame": {
               "duration": 0,
               "redraw": true
              },
              "fromcurrent": true,
              "mode": "immediate",
              "transition": {
               "duration": 0,
               "easing": "linear"
              }
             }
            ],
            "label": "5/16/20",
            "method": "animate"
           },
           {
            "args": [
             [
              "5/20/20"
             ],
             {
              "frame": {
               "duration": 0,
               "redraw": true
              },
              "fromcurrent": true,
              "mode": "immediate",
              "transition": {
               "duration": 0,
               "easing": "linear"
              }
             }
            ],
            "label": "5/20/20",
            "method": "animate"
           },
           {
            "args": [
             [
              "5/25/20"
             ],
             {
              "frame": {
               "duration": 0,
               "redraw": true
              },
              "fromcurrent": true,
              "mode": "immediate",
              "transition": {
               "duration": 0,
               "easing": "linear"
              }
             }
            ],
            "label": "5/25/20",
            "method": "animate"
           },
           {
            "args": [
             [
              "6/2/20"
             ],
             {
              "frame": {
               "duration": 0,
               "redraw": true
              },
              "fromcurrent": true,
              "mode": "immediate",
              "transition": {
               "duration": 0,
               "easing": "linear"
              }
             }
            ],
            "label": "6/2/20",
            "method": "animate"
           },
           {
            "args": [
             [
              "6/6/20"
             ],
             {
              "frame": {
               "duration": 0,
               "redraw": true
              },
              "fromcurrent": true,
              "mode": "immediate",
              "transition": {
               "duration": 0,
               "easing": "linear"
              }
             }
            ],
            "label": "6/6/20",
            "method": "animate"
           },
           {
            "args": [
             [
              "6/10/20"
             ],
             {
              "frame": {
               "duration": 0,
               "redraw": true
              },
              "fromcurrent": true,
              "mode": "immediate",
              "transition": {
               "duration": 0,
               "easing": "linear"
              }
             }
            ],
            "label": "6/10/20",
            "method": "animate"
           },
           {
            "args": [
             [
              "6/15/20"
             ],
             {
              "frame": {
               "duration": 0,
               "redraw": true
              },
              "fromcurrent": true,
              "mode": "immediate",
              "transition": {
               "duration": 0,
               "easing": "linear"
              }
             }
            ],
            "label": "6/15/20",
            "method": "animate"
           },
           {
            "args": [
             [
              "6/24/20"
             ],
             {
              "frame": {
               "duration": 0,
               "redraw": true
              },
              "fromcurrent": true,
              "mode": "immediate",
              "transition": {
               "duration": 0,
               "easing": "linear"
              }
             }
            ],
            "label": "6/24/20",
            "method": "animate"
           },
           {
            "args": [
             [
              "6/29/20"
             ],
             {
              "frame": {
               "duration": 0,
               "redraw": true
              },
              "fromcurrent": true,
              "mode": "immediate",
              "transition": {
               "duration": 0,
               "easing": "linear"
              }
             }
            ],
            "label": "6/29/20",
            "method": "animate"
           },
           {
            "args": [
             [
              "7/2/20"
             ],
             {
              "frame": {
               "duration": 0,
               "redraw": true
              },
              "fromcurrent": true,
              "mode": "immediate",
              "transition": {
               "duration": 0,
               "easing": "linear"
              }
             }
            ],
            "label": "7/2/20",
            "method": "animate"
           },
           {
            "args": [
             [
              "7/5/20"
             ],
             {
              "frame": {
               "duration": 0,
               "redraw": true
              },
              "fromcurrent": true,
              "mode": "immediate",
              "transition": {
               "duration": 0,
               "easing": "linear"
              }
             }
            ],
            "label": "7/5/20",
            "method": "animate"
           },
           {
            "args": [
             [
              "7/10/20"
             ],
             {
              "frame": {
               "duration": 0,
               "redraw": true
              },
              "fromcurrent": true,
              "mode": "immediate",
              "transition": {
               "duration": 0,
               "easing": "linear"
              }
             }
            ],
            "label": "7/10/20",
            "method": "animate"
           },
           {
            "args": [
             [
              "7/15/20"
             ],
             {
              "frame": {
               "duration": 0,
               "redraw": true
              },
              "fromcurrent": true,
              "mode": "immediate",
              "transition": {
               "duration": 0,
               "easing": "linear"
              }
             }
            ],
            "label": "7/15/20",
            "method": "animate"
           },
           {
            "args": [
             [
              "7/24/20"
             ],
             {
              "frame": {
               "duration": 0,
               "redraw": true
              },
              "fromcurrent": true,
              "mode": "immediate",
              "transition": {
               "duration": 0,
               "easing": "linear"
              }
             }
            ],
            "label": "7/24/20",
            "method": "animate"
           },
           {
            "args": [
             [
              "7/29/20"
             ],
             {
              "frame": {
               "duration": 0,
               "redraw": true
              },
              "fromcurrent": true,
              "mode": "immediate",
              "transition": {
               "duration": 0,
               "easing": "linear"
              }
             }
            ],
            "label": "7/29/20",
            "method": "animate"
           },
           {
            "args": [
             [
              "8/1/20"
             ],
             {
              "frame": {
               "duration": 0,
               "redraw": true
              },
              "fromcurrent": true,
              "mode": "immediate",
              "transition": {
               "duration": 0,
               "easing": "linear"
              }
             }
            ],
            "label": "8/1/20",
            "method": "animate"
           },
           {
            "args": [
             [
              "8/4/20"
             ],
             {
              "frame": {
               "duration": 0,
               "redraw": true
              },
              "fromcurrent": true,
              "mode": "immediate",
              "transition": {
               "duration": 0,
               "easing": "linear"
              }
             }
            ],
            "label": "8/4/20",
            "method": "animate"
           },
           {
            "args": [
             [
              "8/9/20"
             ],
             {
              "frame": {
               "duration": 0,
               "redraw": true
              },
              "fromcurrent": true,
              "mode": "immediate",
              "transition": {
               "duration": 0,
               "easing": "linear"
              }
             }
            ],
            "label": "8/9/20",
            "method": "animate"
           },
           {
            "args": [
             [
              "8/14/20"
             ],
             {
              "frame": {
               "duration": 0,
               "redraw": true
              },
              "fromcurrent": true,
              "mode": "immediate",
              "transition": {
               "duration": 0,
               "easing": "linear"
              }
             }
            ],
            "label": "8/14/20",
            "method": "animate"
           },
           {
            "args": [
             [
              "8/19/20"
             ],
             {
              "frame": {
               "duration": 0,
               "redraw": true
              },
              "fromcurrent": true,
              "mode": "immediate",
              "transition": {
               "duration": 0,
               "easing": "linear"
              }
             }
            ],
            "label": "8/19/20",
            "method": "animate"
           },
           {
            "args": [
             [
              "8/23/20"
             ],
             {
              "frame": {
               "duration": 0,
               "redraw": true
              },
              "fromcurrent": true,
              "mode": "immediate",
              "transition": {
               "duration": 0,
               "easing": "linear"
              }
             }
            ],
            "label": "8/23/20",
            "method": "animate"
           },
           {
            "args": [
             [
              "8/28/20"
             ],
             {
              "frame": {
               "duration": 0,
               "redraw": true
              },
              "fromcurrent": true,
              "mode": "immediate",
              "transition": {
               "duration": 0,
               "easing": "linear"
              }
             }
            ],
            "label": "8/28/20",
            "method": "animate"
           },
           {
            "args": [
             [
              "9/4/20"
             ],
             {
              "frame": {
               "duration": 0,
               "redraw": true
              },
              "fromcurrent": true,
              "mode": "immediate",
              "transition": {
               "duration": 0,
               "easing": "linear"
              }
             }
            ],
            "label": "9/4/20",
            "method": "animate"
           },
           {
            "args": [
             [
              "9/9/20"
             ],
             {
              "frame": {
               "duration": 0,
               "redraw": true
              },
              "fromcurrent": true,
              "mode": "immediate",
              "transition": {
               "duration": 0,
               "easing": "linear"
              }
             }
            ],
            "label": "9/9/20",
            "method": "animate"
           },
           {
            "args": [
             [
              "9/13/20"
             ],
             {
              "frame": {
               "duration": 0,
               "redraw": true
              },
              "fromcurrent": true,
              "mode": "immediate",
              "transition": {
               "duration": 0,
               "easing": "linear"
              }
             }
            ],
            "label": "9/13/20",
            "method": "animate"
           },
           {
            "args": [
             [
              "9/18/20"
             ],
             {
              "frame": {
               "duration": 0,
               "redraw": true
              },
              "fromcurrent": true,
              "mode": "immediate",
              "transition": {
               "duration": 0,
               "easing": "linear"
              }
             }
            ],
            "label": "9/18/20",
            "method": "animate"
           },
           {
            "args": [
             [
              "9/22/20"
             ],
             {
              "frame": {
               "duration": 0,
               "redraw": true
              },
              "fromcurrent": true,
              "mode": "immediate",
              "transition": {
               "duration": 0,
               "easing": "linear"
              }
             }
            ],
            "label": "9/22/20",
            "method": "animate"
           },
           {
            "args": [
             [
              "9/27/20"
             ],
             {
              "frame": {
               "duration": 0,
               "redraw": true
              },
              "fromcurrent": true,
              "mode": "immediate",
              "transition": {
               "duration": 0,
               "easing": "linear"
              }
             }
            ],
            "label": "9/27/20",
            "method": "animate"
           },
           {
            "args": [
             [
              "10/3/20"
             ],
             {
              "frame": {
               "duration": 0,
               "redraw": true
              },
              "fromcurrent": true,
              "mode": "immediate",
              "transition": {
               "duration": 0,
               "easing": "linear"
              }
             }
            ],
            "label": "10/3/20",
            "method": "animate"
           },
           {
            "args": [
             [
              "10/6/20"
             ],
             {
              "frame": {
               "duration": 0,
               "redraw": true
              },
              "fromcurrent": true,
              "mode": "immediate",
              "transition": {
               "duration": 0,
               "easing": "linear"
              }
             }
            ],
            "label": "10/6/20",
            "method": "animate"
           },
           {
            "args": [
             [
              "10/11/20"
             ],
             {
              "frame": {
               "duration": 0,
               "redraw": true
              },
              "fromcurrent": true,
              "mode": "immediate",
              "transition": {
               "duration": 0,
               "easing": "linear"
              }
             }
            ],
            "label": "10/11/20",
            "method": "animate"
           },
           {
            "args": [
             [
              "10/16/20"
             ],
             {
              "frame": {
               "duration": 0,
               "redraw": true
              },
              "fromcurrent": true,
              "mode": "immediate",
              "transition": {
               "duration": 0,
               "easing": "linear"
              }
             }
            ],
            "label": "10/16/20",
            "method": "animate"
           },
           {
            "args": [
             [
              "10/20/20"
             ],
             {
              "frame": {
               "duration": 0,
               "redraw": true
              },
              "fromcurrent": true,
              "mode": "immediate",
              "transition": {
               "duration": 0,
               "easing": "linear"
              }
             }
            ],
            "label": "10/20/20",
            "method": "animate"
           },
           {
            "args": [
             [
              "10/25/20"
             ],
             {
              "frame": {
               "duration": 0,
               "redraw": true
              },
              "fromcurrent": true,
              "mode": "immediate",
              "transition": {
               "duration": 0,
               "easing": "linear"
              }
             }
            ],
            "label": "10/25/20",
            "method": "animate"
           },
           {
            "args": [
             [
              "11/2/20"
             ],
             {
              "frame": {
               "duration": 0,
               "redraw": true
              },
              "fromcurrent": true,
              "mode": "immediate",
              "transition": {
               "duration": 0,
               "easing": "linear"
              }
             }
            ],
            "label": "11/2/20",
            "method": "animate"
           },
           {
            "args": [
             [
              "11/6/20"
             ],
             {
              "frame": {
               "duration": 0,
               "redraw": true
              },
              "fromcurrent": true,
              "mode": "immediate",
              "transition": {
               "duration": 0,
               "easing": "linear"
              }
             }
            ],
            "label": "11/6/20",
            "method": "animate"
           },
           {
            "args": [
             [
              "11/10/20"
             ],
             {
              "frame": {
               "duration": 0,
               "redraw": true
              },
              "fromcurrent": true,
              "mode": "immediate",
              "transition": {
               "duration": 0,
               "easing": "linear"
              }
             }
            ],
            "label": "11/10/20",
            "method": "animate"
           },
           {
            "args": [
             [
              "11/15/20"
             ],
             {
              "frame": {
               "duration": 0,
               "redraw": true
              },
              "fromcurrent": true,
              "mode": "immediate",
              "transition": {
               "duration": 0,
               "easing": "linear"
              }
             }
            ],
            "label": "11/15/20",
            "method": "animate"
           },
           {
            "args": [
             [
              "11/24/20"
             ],
             {
              "frame": {
               "duration": 0,
               "redraw": true
              },
              "fromcurrent": true,
              "mode": "immediate",
              "transition": {
               "duration": 0,
               "easing": "linear"
              }
             }
            ],
            "label": "11/24/20",
            "method": "animate"
           },
           {
            "args": [
             [
              "11/29/20"
             ],
             {
              "frame": {
               "duration": 0,
               "redraw": true
              },
              "fromcurrent": true,
              "mode": "immediate",
              "transition": {
               "duration": 0,
               "easing": "linear"
              }
             }
            ],
            "label": "11/29/20",
            "method": "animate"
           },
           {
            "args": [
             [
              "12/2/20"
             ],
             {
              "frame": {
               "duration": 0,
               "redraw": true
              },
              "fromcurrent": true,
              "mode": "immediate",
              "transition": {
               "duration": 0,
               "easing": "linear"
              }
             }
            ],
            "label": "12/2/20",
            "method": "animate"
           },
           {
            "args": [
             [
              "12/7/20"
             ],
             {
              "frame": {
               "duration": 0,
               "redraw": true
              },
              "fromcurrent": true,
              "mode": "immediate",
              "transition": {
               "duration": 0,
               "easing": "linear"
              }
             }
            ],
            "label": "12/7/20",
            "method": "animate"
           },
           {
            "args": [
             [
              "12/10/20"
             ],
             {
              "frame": {
               "duration": 0,
               "redraw": true
              },
              "fromcurrent": true,
              "mode": "immediate",
              "transition": {
               "duration": 0,
               "easing": "linear"
              }
             }
            ],
            "label": "12/10/20",
            "method": "animate"
           },
           {
            "args": [
             [
              "12/15/20"
             ],
             {
              "frame": {
               "duration": 0,
               "redraw": true
              },
              "fromcurrent": true,
              "mode": "immediate",
              "transition": {
               "duration": 0,
               "easing": "linear"
              }
             }
            ],
            "label": "12/15/20",
            "method": "animate"
           },
           {
            "args": [
             [
              "12/24/20"
             ],
             {
              "frame": {
               "duration": 0,
               "redraw": true
              },
              "fromcurrent": true,
              "mode": "immediate",
              "transition": {
               "duration": 0,
               "easing": "linear"
              }
             }
            ],
            "label": "12/24/20",
            "method": "animate"
           },
           {
            "args": [
             [
              "12/29/20"
             ],
             {
              "frame": {
               "duration": 0,
               "redraw": true
              },
              "fromcurrent": true,
              "mode": "immediate",
              "transition": {
               "duration": 0,
               "easing": "linear"
              }
             }
            ],
            "label": "12/29/20",
            "method": "animate"
           }
          ],
          "x": 0.1,
          "xanchor": "left",
          "y": 0,
          "yanchor": "top"
         }
        ],
        "template": {
         "data": {
          "bar": [
           {
            "error_x": {
             "color": "#f2f5fa"
            },
            "error_y": {
             "color": "#f2f5fa"
            },
            "marker": {
             "line": {
              "color": "rgb(17,17,17)",
              "width": 0.5
             }
            },
            "type": "bar"
           }
          ],
          "barpolar": [
           {
            "marker": {
             "line": {
              "color": "rgb(17,17,17)",
              "width": 0.5
             }
            },
            "type": "barpolar"
           }
          ],
          "carpet": [
           {
            "aaxis": {
             "endlinecolor": "#A2B1C6",
             "gridcolor": "#506784",
             "linecolor": "#506784",
             "minorgridcolor": "#506784",
             "startlinecolor": "#A2B1C6"
            },
            "baxis": {
             "endlinecolor": "#A2B1C6",
             "gridcolor": "#506784",
             "linecolor": "#506784",
             "minorgridcolor": "#506784",
             "startlinecolor": "#A2B1C6"
            },
            "type": "carpet"
           }
          ],
          "choropleth": [
           {
            "colorbar": {
             "outlinewidth": 0,
             "ticks": ""
            },
            "type": "choropleth"
           }
          ],
          "contour": [
           {
            "colorbar": {
             "outlinewidth": 0,
             "ticks": ""
            },
            "colorscale": [
             [
              0,
              "#0d0887"
             ],
             [
              0.1111111111111111,
              "#46039f"
             ],
             [
              0.2222222222222222,
              "#7201a8"
             ],
             [
              0.3333333333333333,
              "#9c179e"
             ],
             [
              0.4444444444444444,
              "#bd3786"
             ],
             [
              0.5555555555555556,
              "#d8576b"
             ],
             [
              0.6666666666666666,
              "#ed7953"
             ],
             [
              0.7777777777777778,
              "#fb9f3a"
             ],
             [
              0.8888888888888888,
              "#fdca26"
             ],
             [
              1,
              "#f0f921"
             ]
            ],
            "type": "contour"
           }
          ],
          "contourcarpet": [
           {
            "colorbar": {
             "outlinewidth": 0,
             "ticks": ""
            },
            "type": "contourcarpet"
           }
          ],
          "heatmap": [
           {
            "colorbar": {
             "outlinewidth": 0,
             "ticks": ""
            },
            "colorscale": [
             [
              0,
              "#0d0887"
             ],
             [
              0.1111111111111111,
              "#46039f"
             ],
             [
              0.2222222222222222,
              "#7201a8"
             ],
             [
              0.3333333333333333,
              "#9c179e"
             ],
             [
              0.4444444444444444,
              "#bd3786"
             ],
             [
              0.5555555555555556,
              "#d8576b"
             ],
             [
              0.6666666666666666,
              "#ed7953"
             ],
             [
              0.7777777777777778,
              "#fb9f3a"
             ],
             [
              0.8888888888888888,
              "#fdca26"
             ],
             [
              1,
              "#f0f921"
             ]
            ],
            "type": "heatmap"
           }
          ],
          "heatmapgl": [
           {
            "colorbar": {
             "outlinewidth": 0,
             "ticks": ""
            },
            "colorscale": [
             [
              0,
              "#0d0887"
             ],
             [
              0.1111111111111111,
              "#46039f"
             ],
             [
              0.2222222222222222,
              "#7201a8"
             ],
             [
              0.3333333333333333,
              "#9c179e"
             ],
             [
              0.4444444444444444,
              "#bd3786"
             ],
             [
              0.5555555555555556,
              "#d8576b"
             ],
             [
              0.6666666666666666,
              "#ed7953"
             ],
             [
              0.7777777777777778,
              "#fb9f3a"
             ],
             [
              0.8888888888888888,
              "#fdca26"
             ],
             [
              1,
              "#f0f921"
             ]
            ],
            "type": "heatmapgl"
           }
          ],
          "histogram": [
           {
            "marker": {
             "colorbar": {
              "outlinewidth": 0,
              "ticks": ""
             }
            },
            "type": "histogram"
           }
          ],
          "histogram2d": [
           {
            "colorbar": {
             "outlinewidth": 0,
             "ticks": ""
            },
            "colorscale": [
             [
              0,
              "#0d0887"
             ],
             [
              0.1111111111111111,
              "#46039f"
             ],
             [
              0.2222222222222222,
              "#7201a8"
             ],
             [
              0.3333333333333333,
              "#9c179e"
             ],
             [
              0.4444444444444444,
              "#bd3786"
             ],
             [
              0.5555555555555556,
              "#d8576b"
             ],
             [
              0.6666666666666666,
              "#ed7953"
             ],
             [
              0.7777777777777778,
              "#fb9f3a"
             ],
             [
              0.8888888888888888,
              "#fdca26"
             ],
             [
              1,
              "#f0f921"
             ]
            ],
            "type": "histogram2d"
           }
          ],
          "histogram2dcontour": [
           {
            "colorbar": {
             "outlinewidth": 0,
             "ticks": ""
            },
            "colorscale": [
             [
              0,
              "#0d0887"
             ],
             [
              0.1111111111111111,
              "#46039f"
             ],
             [
              0.2222222222222222,
              "#7201a8"
             ],
             [
              0.3333333333333333,
              "#9c179e"
             ],
             [
              0.4444444444444444,
              "#bd3786"
             ],
             [
              0.5555555555555556,
              "#d8576b"
             ],
             [
              0.6666666666666666,
              "#ed7953"
             ],
             [
              0.7777777777777778,
              "#fb9f3a"
             ],
             [
              0.8888888888888888,
              "#fdca26"
             ],
             [
              1,
              "#f0f921"
             ]
            ],
            "type": "histogram2dcontour"
           }
          ],
          "mesh3d": [
           {
            "colorbar": {
             "outlinewidth": 0,
             "ticks": ""
            },
            "type": "mesh3d"
           }
          ],
          "parcoords": [
           {
            "line": {
             "colorbar": {
              "outlinewidth": 0,
              "ticks": ""
             }
            },
            "type": "parcoords"
           }
          ],
          "pie": [
           {
            "automargin": true,
            "type": "pie"
           }
          ],
          "scatter": [
           {
            "marker": {
             "line": {
              "color": "#283442"
             }
            },
            "type": "scatter"
           }
          ],
          "scatter3d": [
           {
            "line": {
             "colorbar": {
              "outlinewidth": 0,
              "ticks": ""
             }
            },
            "marker": {
             "colorbar": {
              "outlinewidth": 0,
              "ticks": ""
             }
            },
            "type": "scatter3d"
           }
          ],
          "scattercarpet": [
           {
            "marker": {
             "colorbar": {
              "outlinewidth": 0,
              "ticks": ""
             }
            },
            "type": "scattercarpet"
           }
          ],
          "scattergeo": [
           {
            "marker": {
             "colorbar": {
              "outlinewidth": 0,
              "ticks": ""
             }
            },
            "type": "scattergeo"
           }
          ],
          "scattergl": [
           {
            "marker": {
             "line": {
              "color": "#283442"
             }
            },
            "type": "scattergl"
           }
          ],
          "scattermapbox": [
           {
            "marker": {
             "colorbar": {
              "outlinewidth": 0,
              "ticks": ""
             }
            },
            "type": "scattermapbox"
           }
          ],
          "scatterpolar": [
           {
            "marker": {
             "colorbar": {
              "outlinewidth": 0,
              "ticks": ""
             }
            },
            "type": "scatterpolar"
           }
          ],
          "scatterpolargl": [
           {
            "marker": {
             "colorbar": {
              "outlinewidth": 0,
              "ticks": ""
             }
            },
            "type": "scatterpolargl"
           }
          ],
          "scatterternary": [
           {
            "marker": {
             "colorbar": {
              "outlinewidth": 0,
              "ticks": ""
             }
            },
            "type": "scatterternary"
           }
          ],
          "surface": [
           {
            "colorbar": {
             "outlinewidth": 0,
             "ticks": ""
            },
            "colorscale": [
             [
              0,
              "#0d0887"
             ],
             [
              0.1111111111111111,
              "#46039f"
             ],
             [
              0.2222222222222222,
              "#7201a8"
             ],
             [
              0.3333333333333333,
              "#9c179e"
             ],
             [
              0.4444444444444444,
              "#bd3786"
             ],
             [
              0.5555555555555556,
              "#d8576b"
             ],
             [
              0.6666666666666666,
              "#ed7953"
             ],
             [
              0.7777777777777778,
              "#fb9f3a"
             ],
             [
              0.8888888888888888,
              "#fdca26"
             ],
             [
              1,
              "#f0f921"
             ]
            ],
            "type": "surface"
           }
          ],
          "table": [
           {
            "cells": {
             "fill": {
              "color": "#506784"
             },
             "line": {
              "color": "rgb(17,17,17)"
             }
            },
            "header": {
             "fill": {
              "color": "#2a3f5f"
             },
             "line": {
              "color": "rgb(17,17,17)"
             }
            },
            "type": "table"
           }
          ]
         },
         "layout": {
          "annotationdefaults": {
           "arrowcolor": "#f2f5fa",
           "arrowhead": 0,
           "arrowwidth": 1
          },
          "autotypenumbers": "strict",
          "coloraxis": {
           "colorbar": {
            "outlinewidth": 0,
            "ticks": ""
           }
          },
          "colorscale": {
           "diverging": [
            [
             0,
             "#8e0152"
            ],
            [
             0.1,
             "#c51b7d"
            ],
            [
             0.2,
             "#de77ae"
            ],
            [
             0.3,
             "#f1b6da"
            ],
            [
             0.4,
             "#fde0ef"
            ],
            [
             0.5,
             "#f7f7f7"
            ],
            [
             0.6,
             "#e6f5d0"
            ],
            [
             0.7,
             "#b8e186"
            ],
            [
             0.8,
             "#7fbc41"
            ],
            [
             0.9,
             "#4d9221"
            ],
            [
             1,
             "#276419"
            ]
           ],
           "sequential": [
            [
             0,
             "#0d0887"
            ],
            [
             0.1111111111111111,
             "#46039f"
            ],
            [
             0.2222222222222222,
             "#7201a8"
            ],
            [
             0.3333333333333333,
             "#9c179e"
            ],
            [
             0.4444444444444444,
             "#bd3786"
            ],
            [
             0.5555555555555556,
             "#d8576b"
            ],
            [
             0.6666666666666666,
             "#ed7953"
            ],
            [
             0.7777777777777778,
             "#fb9f3a"
            ],
            [
             0.8888888888888888,
             "#fdca26"
            ],
            [
             1,
             "#f0f921"
            ]
           ],
           "sequentialminus": [
            [
             0,
             "#0d0887"
            ],
            [
             0.1111111111111111,
             "#46039f"
            ],
            [
             0.2222222222222222,
             "#7201a8"
            ],
            [
             0.3333333333333333,
             "#9c179e"
            ],
            [
             0.4444444444444444,
             "#bd3786"
            ],
            [
             0.5555555555555556,
             "#d8576b"
            ],
            [
             0.6666666666666666,
             "#ed7953"
            ],
            [
             0.7777777777777778,
             "#fb9f3a"
            ],
            [
             0.8888888888888888,
             "#fdca26"
            ],
            [
             1,
             "#f0f921"
            ]
           ]
          },
          "colorway": [
           "#636efa",
           "#EF553B",
           "#00cc96",
           "#ab63fa",
           "#FFA15A",
           "#19d3f3",
           "#FF6692",
           "#B6E880",
           "#FF97FF",
           "#FECB52"
          ],
          "font": {
           "color": "#f2f5fa"
          },
          "geo": {
           "bgcolor": "rgb(17,17,17)",
           "lakecolor": "rgb(17,17,17)",
           "landcolor": "rgb(17,17,17)",
           "showlakes": true,
           "showland": true,
           "subunitcolor": "#506784"
          },
          "hoverlabel": {
           "align": "left"
          },
          "hovermode": "closest",
          "mapbox": {
           "style": "dark"
          },
          "paper_bgcolor": "rgb(17,17,17)",
          "plot_bgcolor": "rgb(17,17,17)",
          "polar": {
           "angularaxis": {
            "gridcolor": "#506784",
            "linecolor": "#506784",
            "ticks": ""
           },
           "bgcolor": "rgb(17,17,17)",
           "radialaxis": {
            "gridcolor": "#506784",
            "linecolor": "#506784",
            "ticks": ""
           }
          },
          "scene": {
           "xaxis": {
            "backgroundcolor": "rgb(17,17,17)",
            "gridcolor": "#506784",
            "gridwidth": 2,
            "linecolor": "#506784",
            "showbackground": true,
            "ticks": "",
            "zerolinecolor": "#C8D4E3"
           },
           "yaxis": {
            "backgroundcolor": "rgb(17,17,17)",
            "gridcolor": "#506784",
            "gridwidth": 2,
            "linecolor": "#506784",
            "showbackground": true,
            "ticks": "",
            "zerolinecolor": "#C8D4E3"
           },
           "zaxis": {
            "backgroundcolor": "rgb(17,17,17)",
            "gridcolor": "#506784",
            "gridwidth": 2,
            "linecolor": "#506784",
            "showbackground": true,
            "ticks": "",
            "zerolinecolor": "#C8D4E3"
           }
          },
          "shapedefaults": {
           "line": {
            "color": "#f2f5fa"
           }
          },
          "sliderdefaults": {
           "bgcolor": "#C8D4E3",
           "bordercolor": "rgb(17,17,17)",
           "borderwidth": 1,
           "tickwidth": 0
          },
          "ternary": {
           "aaxis": {
            "gridcolor": "#506784",
            "linecolor": "#506784",
            "ticks": ""
           },
           "baxis": {
            "gridcolor": "#506784",
            "linecolor": "#506784",
            "ticks": ""
           },
           "bgcolor": "rgb(17,17,17)",
           "caxis": {
            "gridcolor": "#506784",
            "linecolor": "#506784",
            "ticks": ""
           }
          },
          "title": {
           "x": 0.05
          },
          "updatemenudefaults": {
           "bgcolor": "#506784",
           "borderwidth": 0
          },
          "xaxis": {
           "automargin": true,
           "gridcolor": "#283442",
           "linecolor": "#506784",
           "ticks": "",
           "title": {
            "standoff": 15
           },
           "zerolinecolor": "#283442",
           "zerolinewidth": 2
          },
          "yaxis": {
           "automargin": true,
           "gridcolor": "#283442",
           "linecolor": "#506784",
           "ticks": "",
           "title": {
            "standoff": 15
           },
           "zerolinecolor": "#283442",
           "zerolinewidth": 2
          }
         }
        },
        "updatemenus": [
         {
          "buttons": [
           {
            "args": [
             null,
             {
              "frame": {
               "duration": 500,
               "redraw": true
              },
              "fromcurrent": true,
              "mode": "immediate",
              "transition": {
               "duration": 500,
               "easing": "linear"
              }
             }
            ],
            "label": "&#9654;",
            "method": "animate"
           },
           {
            "args": [
             [
              null
             ],
             {
              "frame": {
               "duration": 0,
               "redraw": true
              },
              "fromcurrent": true,
              "mode": "immediate",
              "transition": {
               "duration": 0,
               "easing": "linear"
              }
             }
            ],
            "label": "&#9724;",
            "method": "animate"
           }
          ],
          "direction": "left",
          "pad": {
           "r": 10,
           "t": 70
          },
          "showactive": false,
          "type": "buttons",
          "x": 0.1,
          "xanchor": "right",
          "y": 0,
          "yanchor": "top"
         }
        ],
        "xaxis": {
         "anchor": "y",
         "domain": [
          0,
          1
         ],
         "title": {
          "text": "Country"
         }
        },
        "yaxis": {
         "anchor": "x",
         "domain": [
          0,
          1
         ],
         "range": [
          0,
          9834141
         ],
         "title": {
          "text": "Cases"
         }
        }
       }
      }
     },
     "metadata": {}
    }
   ],
   "source": [
    "# Based on number of recoveries in - India,US,Australia and Brazil\n",
    "create_comparison_animation(recovered_global,\"recovered\",\"India\",\"US\",\"Australia\",\"Brazil\")"
   ]
  },
  {
   "cell_type": "code",
   "execution_count": 10,
   "metadata": {},
   "outputs": [
    {
     "output_type": "display_data",
     "data": {
      "application/vnd.plotly.v1+json": {
       "config": {
        "plotlyServerURL": "https://plotly.com"
       },
       "data": [
        {
         "alignmentgroup": "True",
         "hovertemplate": "Date=1/24/20<br>Country=%{x}<br>Cases=%{y}<extra></extra>",
         "ids": [
          "Brazil",
          "India",
          "US"
         ],
         "legendgroup": "",
         "marker": {
          "color": "#f54842"
         },
         "name": "",
         "offsetgroup": "",
         "orientation": "v",
         "showlegend": false,
         "textposition": "auto",
         "type": "bar",
         "x": [
          "Brazil",
          "India",
          "US"
         ],
         "xaxis": "x",
         "y": [
          0,
          0,
          0
         ],
         "yaxis": "y"
        }
       ],
       "frames": [
        {
         "data": [
          {
           "alignmentgroup": "True",
           "hovertemplate": "Date=1/24/20<br>Country=%{x}<br>Cases=%{y}<extra></extra>",
           "ids": [
            "Brazil",
            "India",
            "US"
           ],
           "legendgroup": "",
           "marker": {
            "color": "#f54842"
           },
           "name": "",
           "offsetgroup": "",
           "orientation": "v",
           "showlegend": false,
           "textposition": "auto",
           "type": "bar",
           "x": [
            "Brazil",
            "India",
            "US"
           ],
           "xaxis": "x",
           "y": [
            0,
            0,
            0
           ],
           "yaxis": "y"
          }
         ],
         "name": "1/24/20"
        },
        {
         "data": [
          {
           "alignmentgroup": "True",
           "hovertemplate": "Date=1/29/20<br>Country=%{x}<br>Cases=%{y}<extra></extra>",
           "ids": [
            "Brazil",
            "India",
            "US"
           ],
           "legendgroup": "",
           "marker": {
            "color": "#f54842"
           },
           "name": "",
           "offsetgroup": "",
           "orientation": "v",
           "showlegend": false,
           "textposition": "auto",
           "type": "bar",
           "x": [
            "Brazil",
            "India",
            "US"
           ],
           "xaxis": "x",
           "y": [
            0,
            0,
            0
           ],
           "yaxis": "y"
          }
         ],
         "name": "1/29/20"
        },
        {
         "data": [
          {
           "alignmentgroup": "True",
           "hovertemplate": "Date=2/3/20<br>Country=%{x}<br>Cases=%{y}<extra></extra>",
           "ids": [
            "Brazil",
            "India",
            "US"
           ],
           "legendgroup": "",
           "marker": {
            "color": "#f54842"
           },
           "name": "",
           "offsetgroup": "",
           "orientation": "v",
           "showlegend": false,
           "textposition": "auto",
           "type": "bar",
           "x": [
            "Brazil",
            "India",
            "US"
           ],
           "xaxis": "x",
           "y": [
            0,
            0,
            0
           ],
           "yaxis": "y"
          }
         ],
         "name": "2/3/20"
        },
        {
         "data": [
          {
           "alignmentgroup": "True",
           "hovertemplate": "Date=2/8/20<br>Country=%{x}<br>Cases=%{y}<extra></extra>",
           "ids": [
            "Brazil",
            "India",
            "US"
           ],
           "legendgroup": "",
           "marker": {
            "color": "#f54842"
           },
           "name": "",
           "offsetgroup": "",
           "orientation": "v",
           "showlegend": false,
           "textposition": "auto",
           "type": "bar",
           "x": [
            "Brazil",
            "India",
            "US"
           ],
           "xaxis": "x",
           "y": [
            0,
            0,
            0
           ],
           "yaxis": "y"
          }
         ],
         "name": "2/8/20"
        },
        {
         "data": [
          {
           "alignmentgroup": "True",
           "hovertemplate": "Date=2/11/20<br>Country=%{x}<br>Cases=%{y}<extra></extra>",
           "ids": [
            "Brazil",
            "India",
            "US"
           ],
           "legendgroup": "",
           "marker": {
            "color": "#f54842"
           },
           "name": "",
           "offsetgroup": "",
           "orientation": "v",
           "showlegend": false,
           "textposition": "auto",
           "type": "bar",
           "x": [
            "Brazil",
            "India",
            "US"
           ],
           "xaxis": "x",
           "y": [
            0,
            0,
            0
           ],
           "yaxis": "y"
          }
         ],
         "name": "2/11/20"
        },
        {
         "data": [
          {
           "alignmentgroup": "True",
           "hovertemplate": "Date=2/16/20<br>Country=%{x}<br>Cases=%{y}<extra></extra>",
           "ids": [
            "Brazil",
            "India",
            "US"
           ],
           "legendgroup": "",
           "marker": {
            "color": "#f54842"
           },
           "name": "",
           "offsetgroup": "",
           "orientation": "v",
           "showlegend": false,
           "textposition": "auto",
           "type": "bar",
           "x": [
            "Brazil",
            "India",
            "US"
           ],
           "xaxis": "x",
           "y": [
            0,
            0,
            0
           ],
           "yaxis": "y"
          }
         ],
         "name": "2/16/20"
        },
        {
         "data": [
          {
           "alignmentgroup": "True",
           "hovertemplate": "Date=2/20/20<br>Country=%{x}<br>Cases=%{y}<extra></extra>",
           "ids": [
            "Brazil",
            "India",
            "US"
           ],
           "legendgroup": "",
           "marker": {
            "color": "#f54842"
           },
           "name": "",
           "offsetgroup": "",
           "orientation": "v",
           "showlegend": false,
           "textposition": "auto",
           "type": "bar",
           "x": [
            "Brazil",
            "India",
            "US"
           ],
           "xaxis": "x",
           "y": [
            0,
            0,
            0
           ],
           "yaxis": "y"
          }
         ],
         "name": "2/20/20"
        },
        {
         "data": [
          {
           "alignmentgroup": "True",
           "hovertemplate": "Date=2/25/20<br>Country=%{x}<br>Cases=%{y}<extra></extra>",
           "ids": [
            "Brazil",
            "India",
            "US"
           ],
           "legendgroup": "",
           "marker": {
            "color": "#f54842"
           },
           "name": "",
           "offsetgroup": "",
           "orientation": "v",
           "showlegend": false,
           "textposition": "auto",
           "type": "bar",
           "x": [
            "Brazil",
            "India",
            "US"
           ],
           "xaxis": "x",
           "y": [
            0,
            0,
            0
           ],
           "yaxis": "y"
          }
         ],
         "name": "2/25/20"
        },
        {
         "data": [
          {
           "alignmentgroup": "True",
           "hovertemplate": "Date=3/7/20<br>Country=%{x}<br>Cases=%{y}<extra></extra>",
           "ids": [
            "Brazil",
            "India",
            "US"
           ],
           "legendgroup": "",
           "marker": {
            "color": "#f54842"
           },
           "name": "",
           "offsetgroup": "",
           "orientation": "v",
           "showlegend": false,
           "textposition": "auto",
           "type": "bar",
           "x": [
            "Brazil",
            "India",
            "US"
           ],
           "xaxis": "x",
           "y": [
            0,
            0,
            17
           ],
           "yaxis": "y"
          }
         ],
         "name": "3/7/20"
        },
        {
         "data": [
          {
           "alignmentgroup": "True",
           "hovertemplate": "Date=3/12/20<br>Country=%{x}<br>Cases=%{y}<extra></extra>",
           "ids": [
            "Brazil",
            "India",
            "US"
           ],
           "legendgroup": "",
           "marker": {
            "color": "#f54842"
           },
           "name": "",
           "offsetgroup": "",
           "orientation": "v",
           "showlegend": false,
           "textposition": "auto",
           "type": "bar",
           "x": [
            "Brazil",
            "India",
            "US"
           ],
           "xaxis": "x",
           "y": [
            0,
            1,
            43
           ],
           "yaxis": "y"
          }
         ],
         "name": "3/12/20"
        },
        {
         "data": [
          {
           "alignmentgroup": "True",
           "hovertemplate": "Date=3/17/20<br>Country=%{x}<br>Cases=%{y}<extra></extra>",
           "ids": [
            "Brazil",
            "India",
            "US"
           ],
           "legendgroup": "",
           "marker": {
            "color": "#f54842"
           },
           "name": "",
           "offsetgroup": "",
           "orientation": "v",
           "showlegend": false,
           "textposition": "auto",
           "type": "bar",
           "x": [
            "Brazil",
            "India",
            "US"
           ],
           "xaxis": "x",
           "y": [
            1,
            3,
            133
           ],
           "yaxis": "y"
          }
         ],
         "name": "3/17/20"
        },
        {
         "data": [
          {
           "alignmentgroup": "True",
           "hovertemplate": "Date=3/21/20<br>Country=%{x}<br>Cases=%{y}<extra></extra>",
           "ids": [
            "Brazil",
            "India",
            "US"
           ],
           "legendgroup": "",
           "marker": {
            "color": "#f54842"
           },
           "name": "",
           "offsetgroup": "",
           "orientation": "v",
           "showlegend": false,
           "textposition": "auto",
           "type": "bar",
           "x": [
            "Brazil",
            "India",
            "US"
           ],
           "xaxis": "x",
           "y": [
            15,
            4,
            466
           ],
           "yaxis": "y"
          }
         ],
         "name": "3/21/20"
        },
        {
         "data": [
          {
           "alignmentgroup": "True",
           "hovertemplate": "Date=3/26/20<br>Country=%{x}<br>Cases=%{y}<extra></extra>",
           "ids": [
            "Brazil",
            "India",
            "US"
           ],
           "legendgroup": "",
           "marker": {
            "color": "#f54842"
           },
           "name": "",
           "offsetgroup": "",
           "orientation": "v",
           "showlegend": false,
           "textposition": "auto",
           "type": "bar",
           "x": [
            "Brazil",
            "India",
            "US"
           ],
           "xaxis": "x",
           "y": [
            77,
            20,
            1742
           ],
           "yaxis": "y"
          }
         ],
         "name": "3/26/20"
        },
        {
         "data": [
          {
           "alignmentgroup": "True",
           "hovertemplate": "Date=3/30/20<br>Country=%{x}<br>Cases=%{y}<extra></extra>",
           "ids": [
            "Brazil",
            "India",
            "US"
           ],
           "legendgroup": "",
           "marker": {
            "color": "#f54842"
           },
           "name": "",
           "offsetgroup": "",
           "orientation": "v",
           "showlegend": false,
           "textposition": "auto",
           "type": "bar",
           "x": [
            "Brazil",
            "India",
            "US"
           ],
           "xaxis": "x",
           "y": [
            159,
            32,
            4187
           ],
           "yaxis": "y"
          }
         ],
         "name": "3/30/20"
        },
        {
         "data": [
          {
           "alignmentgroup": "True",
           "hovertemplate": "Date=4/3/20<br>Country=%{x}<br>Cases=%{y}<extra></extra>",
           "ids": [
            "Brazil",
            "India",
            "US"
           ],
           "legendgroup": "",
           "marker": {
            "color": "#f54842"
           },
           "name": "",
           "offsetgroup": "",
           "orientation": "v",
           "showlegend": false,
           "textposition": "auto",
           "type": "bar",
           "x": [
            "Brazil",
            "India",
            "US"
           ],
           "xaxis": "x",
           "y": [
            359,
            72,
            9436
           ],
           "yaxis": "y"
          }
         ],
         "name": "4/3/20"
        },
        {
         "data": [
          {
           "alignmentgroup": "True",
           "hovertemplate": "Date=4/7/20<br>Country=%{x}<br>Cases=%{y}<extra></extra>",
           "ids": [
            "Brazil",
            "India",
            "US"
           ],
           "legendgroup": "",
           "marker": {
            "color": "#f54842"
           },
           "name": "",
           "offsetgroup": "",
           "orientation": "v",
           "showlegend": false,
           "textposition": "auto",
           "type": "bar",
           "x": [
            "Brazil",
            "India",
            "US"
           ],
           "xaxis": "x",
           "y": [
            686,
            150,
            16895
           ],
           "yaxis": "y"
          }
         ],
         "name": "4/7/20"
        },
        {
         "data": [
          {
           "alignmentgroup": "True",
           "hovertemplate": "Date=4/11/20<br>Country=%{x}<br>Cases=%{y}<extra></extra>",
           "ids": [
            "Brazil",
            "India",
            "US"
           ],
           "legendgroup": "",
           "marker": {
            "color": "#f54842"
           },
           "name": "",
           "offsetgroup": "",
           "orientation": "v",
           "showlegend": false,
           "textposition": "auto",
           "type": "bar",
           "x": [
            "Brazil",
            "India",
            "US"
           ],
           "xaxis": "x",
           "y": [
            1124,
            288,
            25597
           ],
           "yaxis": "y"
          }
         ],
         "name": "4/11/20"
        },
        {
         "data": [
          {
           "alignmentgroup": "True",
           "hovertemplate": "Date=4/16/20<br>Country=%{x}<br>Cases=%{y}<extra></extra>",
           "ids": [
            "Brazil",
            "India",
            "US"
           ],
           "legendgroup": "",
           "marker": {
            "color": "#f54842"
           },
           "name": "",
           "offsetgroup": "",
           "orientation": "v",
           "showlegend": false,
           "textposition": "auto",
           "type": "bar",
           "x": [
            "Brazil",
            "India",
            "US"
           ],
           "xaxis": "x",
           "y": [
            1924,
            448,
            36576
           ],
           "yaxis": "y"
          }
         ],
         "name": "4/16/20"
        },
        {
         "data": [
          {
           "alignmentgroup": "True",
           "hovertemplate": "Date=4/20/20<br>Country=%{x}<br>Cases=%{y}<extra></extra>",
           "ids": [
            "Brazil",
            "India",
            "US"
           ],
           "legendgroup": "",
           "marker": {
            "color": "#f54842"
           },
           "name": "",
           "offsetgroup": "",
           "orientation": "v",
           "showlegend": false,
           "textposition": "auto",
           "type": "bar",
           "x": [
            "Brazil",
            "India",
            "US"
           ],
           "xaxis": "x",
           "y": [
            2587,
            592,
            44769
           ],
           "yaxis": "y"
          }
         ],
         "name": "4/20/20"
        },
        {
         "data": [
          {
           "alignmentgroup": "True",
           "hovertemplate": "Date=4/25/20<br>Country=%{x}<br>Cases=%{y}<extra></extra>",
           "ids": [
            "Brazil",
            "India",
            "US"
           ],
           "legendgroup": "",
           "marker": {
            "color": "#f54842"
           },
           "name": "",
           "offsetgroup": "",
           "orientation": "v",
           "showlegend": false,
           "textposition": "auto",
           "type": "bar",
           "x": [
            "Brazil",
            "India",
            "US"
           ],
           "xaxis": "x",
           "y": [
            4057,
            825,
            56056
           ],
           "yaxis": "y"
          }
         ],
         "name": "4/25/20"
        },
        {
         "data": [
          {
           "alignmentgroup": "True",
           "hovertemplate": "Date=5/3/20<br>Country=%{x}<br>Cases=%{y}<extra></extra>",
           "ids": [
            "Brazil",
            "India",
            "US"
           ],
           "legendgroup": "",
           "marker": {
            "color": "#f54842"
           },
           "name": "",
           "offsetgroup": "",
           "orientation": "v",
           "showlegend": false,
           "textposition": "auto",
           "type": "bar",
           "x": [
            "Brazil",
            "India",
            "US"
           ],
           "xaxis": "x",
           "y": [
            7051,
            1391,
            70708
           ],
           "yaxis": "y"
          }
         ],
         "name": "5/3/20"
        },
        {
         "data": [
          {
           "alignmentgroup": "True",
           "hovertemplate": "Date=5/6/20<br>Country=%{x}<br>Cases=%{y}<extra></extra>",
           "ids": [
            "Brazil",
            "India",
            "US"
           ],
           "legendgroup": "",
           "marker": {
            "color": "#f54842"
           },
           "name": "",
           "offsetgroup": "",
           "orientation": "v",
           "showlegend": false,
           "textposition": "auto",
           "type": "bar",
           "x": [
            "Brazil",
            "India",
            "US"
           ],
           "xaxis": "x",
           "y": [
            8588,
            1785,
            76665
           ],
           "yaxis": "y"
          }
         ],
         "name": "5/6/20"
        },
        {
         "data": [
          {
           "alignmentgroup": "True",
           "hovertemplate": "Date=5/11/20<br>Country=%{x}<br>Cases=%{y}<extra></extra>",
           "ids": [
            "Brazil",
            "India",
            "US"
           ],
           "legendgroup": "",
           "marker": {
            "color": "#f54842"
           },
           "name": "",
           "offsetgroup": "",
           "orientation": "v",
           "showlegend": false,
           "textposition": "auto",
           "type": "bar",
           "x": [
            "Brazil",
            "India",
            "US"
           ],
           "xaxis": "x",
           "y": [
            11653,
            2294,
            83776
           ],
           "yaxis": "y"
          }
         ],
         "name": "5/11/20"
        },
        {
         "data": [
          {
           "alignmentgroup": "True",
           "hovertemplate": "Date=5/16/20<br>Country=%{x}<br>Cases=%{y}<extra></extra>",
           "ids": [
            "Brazil",
            "India",
            "US"
           ],
           "legendgroup": "",
           "marker": {
            "color": "#f54842"
           },
           "name": "",
           "offsetgroup": "",
           "orientation": "v",
           "showlegend": false,
           "textposition": "auto",
           "type": "bar",
           "x": [
            "Brazil",
            "India",
            "US"
           ],
           "xaxis": "x",
           "y": [
            15662,
            2871,
            91855
           ],
           "yaxis": "y"
          }
         ],
         "name": "5/16/20"
        },
        {
         "data": [
          {
           "alignmentgroup": "True",
           "hovertemplate": "Date=5/20/20<br>Country=%{x}<br>Cases=%{y}<extra></extra>",
           "ids": [
            "Brazil",
            "India",
            "US"
           ],
           "legendgroup": "",
           "marker": {
            "color": "#f54842"
           },
           "name": "",
           "offsetgroup": "",
           "orientation": "v",
           "showlegend": false,
           "textposition": "auto",
           "type": "bar",
           "x": [
            "Brazil",
            "India",
            "US"
           ],
           "xaxis": "x",
           "y": [
            18859,
            3434,
            96807
           ],
           "yaxis": "y"
          }
         ],
         "name": "5/20/20"
        },
        {
         "data": [
          {
           "alignmentgroup": "True",
           "hovertemplate": "Date=5/25/20<br>Country=%{x}<br>Cases=%{y}<extra></extra>",
           "ids": [
            "Brazil",
            "India",
            "US"
           ],
           "legendgroup": "",
           "marker": {
            "color": "#f54842"
           },
           "name": "",
           "offsetgroup": "",
           "orientation": "v",
           "showlegend": false,
           "textposition": "auto",
           "type": "bar",
           "x": [
            "Brazil",
            "India",
            "US"
           ],
           "xaxis": "x",
           "y": [
            23473,
            4172,
            101572
           ],
           "yaxis": "y"
          }
         ],
         "name": "5/25/20"
        },
        {
         "data": [
          {
           "alignmentgroup": "True",
           "hovertemplate": "Date=6/2/20<br>Country=%{x}<br>Cases=%{y}<extra></extra>",
           "ids": [
            "Brazil",
            "India",
            "US"
           ],
           "legendgroup": "",
           "marker": {
            "color": "#f54842"
           },
           "name": "",
           "offsetgroup": "",
           "orientation": "v",
           "showlegend": false,
           "textposition": "auto",
           "type": "bar",
           "x": [
            "Brazil",
            "India",
            "US"
           ],
           "xaxis": "x",
           "y": [
            31199,
            5829,
            109539
           ],
           "yaxis": "y"
          }
         ],
         "name": "6/2/20"
        },
        {
         "data": [
          {
           "alignmentgroup": "True",
           "hovertemplate": "Date=6/6/20<br>Country=%{x}<br>Cases=%{y}<extra></extra>",
           "ids": [
            "Brazil",
            "India",
            "US"
           ],
           "legendgroup": "",
           "marker": {
            "color": "#f54842"
           },
           "name": "",
           "offsetgroup": "",
           "orientation": "v",
           "showlegend": false,
           "textposition": "auto",
           "type": "bar",
           "x": [
            "Brazil",
            "India",
            "US"
           ],
           "xaxis": "x",
           "y": [
            35930,
            6946,
            113138
           ],
           "yaxis": "y"
          }
         ],
         "name": "6/6/20"
        },
        {
         "data": [
          {
           "alignmentgroup": "True",
           "hovertemplate": "Date=6/10/20<br>Country=%{x}<br>Cases=%{y}<extra></extra>",
           "ids": [
            "Brazil",
            "India",
            "US"
           ],
           "legendgroup": "",
           "marker": {
            "color": "#f54842"
           },
           "name": "",
           "offsetgroup": "",
           "orientation": "v",
           "showlegend": false,
           "textposition": "auto",
           "type": "bar",
           "x": [
            "Brazil",
            "India",
            "US"
           ],
           "xaxis": "x",
           "y": [
            39680,
            8102,
            115911
           ],
           "yaxis": "y"
          }
         ],
         "name": "6/10/20"
        },
        {
         "data": [
          {
           "alignmentgroup": "True",
           "hovertemplate": "Date=6/15/20<br>Country=%{x}<br>Cases=%{y}<extra></extra>",
           "ids": [
            "Brazil",
            "India",
            "US"
           ],
           "legendgroup": "",
           "marker": {
            "color": "#f54842"
           },
           "name": "",
           "offsetgroup": "",
           "orientation": "v",
           "showlegend": false,
           "textposition": "auto",
           "type": "bar",
           "x": [
            "Brazil",
            "India",
            "US"
           ],
           "xaxis": "x",
           "y": [
            43959,
            9900,
            119049
           ],
           "yaxis": "y"
          }
         ],
         "name": "6/15/20"
        },
        {
         "data": [
          {
           "alignmentgroup": "True",
           "hovertemplate": "Date=6/24/20<br>Country=%{x}<br>Cases=%{y}<extra></extra>",
           "ids": [
            "Brazil",
            "India",
            "US"
           ],
           "legendgroup": "",
           "marker": {
            "color": "#f54842"
           },
           "name": "",
           "offsetgroup": "",
           "orientation": "v",
           "showlegend": false,
           "textposition": "auto",
           "type": "bar",
           "x": [
            "Brazil",
            "India",
            "US"
           ],
           "xaxis": "x",
           "y": [
            53830,
            14894,
            124844
           ],
           "yaxis": "y"
          }
         ],
         "name": "6/24/20"
        },
        {
         "data": [
          {
           "alignmentgroup": "True",
           "hovertemplate": "Date=6/29/20<br>Country=%{x}<br>Cases=%{y}<extra></extra>",
           "ids": [
            "Brazil",
            "India",
            "US"
           ],
           "legendgroup": "",
           "marker": {
            "color": "#f54842"
           },
           "name": "",
           "offsetgroup": "",
           "orientation": "v",
           "showlegend": false,
           "textposition": "auto",
           "type": "bar",
           "x": [
            "Brazil",
            "India",
            "US"
           ],
           "xaxis": "x",
           "y": [
            58314,
            16893,
            127198
           ],
           "yaxis": "y"
          }
         ],
         "name": "6/29/20"
        },
        {
         "data": [
          {
           "alignmentgroup": "True",
           "hovertemplate": "Date=7/2/20<br>Country=%{x}<br>Cases=%{y}<extra></extra>",
           "ids": [
            "Brazil",
            "India",
            "US"
           ],
           "legendgroup": "",
           "marker": {
            "color": "#f54842"
           },
           "name": "",
           "offsetgroup": "",
           "orientation": "v",
           "showlegend": false,
           "textposition": "auto",
           "type": "bar",
           "x": [
            "Brazil",
            "India",
            "US"
           ],
           "xaxis": "x",
           "y": [
            61884,
            18213,
            129250
           ],
           "yaxis": "y"
          }
         ],
         "name": "7/2/20"
        },
        {
         "data": [
          {
           "alignmentgroup": "True",
           "hovertemplate": "Date=7/5/20<br>Country=%{x}<br>Cases=%{y}<extra></extra>",
           "ids": [
            "Brazil",
            "India",
            "US"
           ],
           "legendgroup": "",
           "marker": {
            "color": "#f54842"
           },
           "name": "",
           "offsetgroup": "",
           "orientation": "v",
           "showlegend": false,
           "textposition": "auto",
           "type": "bar",
           "x": [
            "Brazil",
            "India",
            "US"
           ],
           "xaxis": "x",
           "y": [
            64867,
            19693,
            130492
           ],
           "yaxis": "y"
          }
         ],
         "name": "7/5/20"
        },
        {
         "data": [
          {
           "alignmentgroup": "True",
           "hovertemplate": "Date=7/10/20<br>Country=%{x}<br>Cases=%{y}<extra></extra>",
           "ids": [
            "Brazil",
            "India",
            "US"
           ],
           "legendgroup": "",
           "marker": {
            "color": "#f54842"
           },
           "name": "",
           "offsetgroup": "",
           "orientation": "v",
           "showlegend": false,
           "textposition": "auto",
           "type": "bar",
           "x": [
            "Brazil",
            "India",
            "US"
           ],
           "xaxis": "x",
           "y": [
            70398,
            22123,
            134725
           ],
           "yaxis": "y"
          }
         ],
         "name": "7/10/20"
        },
        {
         "data": [
          {
           "alignmentgroup": "True",
           "hovertemplate": "Date=7/15/20<br>Country=%{x}<br>Cases=%{y}<extra></extra>",
           "ids": [
            "Brazil",
            "India",
            "US"
           ],
           "legendgroup": "",
           "marker": {
            "color": "#f54842"
           },
           "name": "",
           "offsetgroup": "",
           "orientation": "v",
           "showlegend": false,
           "textposition": "auto",
           "type": "bar",
           "x": [
            "Brazil",
            "India",
            "US"
           ],
           "xaxis": "x",
           "y": [
            75366,
            24914,
            138196
           ],
           "yaxis": "y"
          }
         ],
         "name": "7/15/20"
        },
        {
         "data": [
          {
           "alignmentgroup": "True",
           "hovertemplate": "Date=7/24/20<br>Country=%{x}<br>Cases=%{y}<extra></extra>",
           "ids": [
            "Brazil",
            "India",
            "US"
           ],
           "legendgroup": "",
           "marker": {
            "color": "#f54842"
           },
           "name": "",
           "offsetgroup": "",
           "orientation": "v",
           "showlegend": false,
           "textposition": "auto",
           "type": "bar",
           "x": [
            "Brazil",
            "India",
            "US"
           ],
           "xaxis": "x",
           "y": [
            85238,
            31358,
            146507
           ],
           "yaxis": "y"
          }
         ],
         "name": "7/24/20"
        },
        {
         "data": [
          {
           "alignmentgroup": "True",
           "hovertemplate": "Date=7/29/20<br>Country=%{x}<br>Cases=%{y}<extra></extra>",
           "ids": [
            "Brazil",
            "India",
            "US"
           ],
           "legendgroup": "",
           "marker": {
            "color": "#f54842"
           },
           "name": "",
           "offsetgroup": "",
           "orientation": "v",
           "showlegend": false,
           "textposition": "auto",
           "type": "bar",
           "x": [
            "Brazil",
            "India",
            "US"
           ],
           "xaxis": "x",
           "y": [
            90134,
            34955,
            151797
           ],
           "yaxis": "y"
          }
         ],
         "name": "7/29/20"
        },
        {
         "data": [
          {
           "alignmentgroup": "True",
           "hovertemplate": "Date=8/1/20<br>Country=%{x}<br>Cases=%{y}<extra></extra>",
           "ids": [
            "Brazil",
            "India",
            "US"
           ],
           "legendgroup": "",
           "marker": {
            "color": "#f54842"
           },
           "name": "",
           "offsetgroup": "",
           "orientation": "v",
           "showlegend": false,
           "textposition": "auto",
           "type": "bar",
           "x": [
            "Brazil",
            "India",
            "US"
           ],
           "xaxis": "x",
           "y": [
            93563,
            37364,
            155376
           ],
           "yaxis": "y"
          }
         ],
         "name": "8/1/20"
        },
        {
         "data": [
          {
           "alignmentgroup": "True",
           "hovertemplate": "Date=8/4/20<br>Country=%{x}<br>Cases=%{y}<extra></extra>",
           "ids": [
            "Brazil",
            "India",
            "US"
           ],
           "legendgroup": "",
           "marker": {
            "color": "#f54842"
           },
           "name": "",
           "offsetgroup": "",
           "orientation": "v",
           "showlegend": false,
           "textposition": "auto",
           "type": "bar",
           "x": [
            "Brazil",
            "India",
            "US"
           ],
           "xaxis": "x",
           "y": [
            95819,
            39795,
            157705
           ],
           "yaxis": "y"
          }
         ],
         "name": "8/4/20"
        },
        {
         "data": [
          {
           "alignmentgroup": "True",
           "hovertemplate": "Date=8/9/20<br>Country=%{x}<br>Cases=%{y}<extra></extra>",
           "ids": [
            "Brazil",
            "India",
            "US"
           ],
           "legendgroup": "",
           "marker": {
            "color": "#f54842"
           },
           "name": "",
           "offsetgroup": "",
           "orientation": "v",
           "showlegend": false,
           "textposition": "auto",
           "type": "bar",
           "x": [
            "Brazil",
            "India",
            "US"
           ],
           "xaxis": "x",
           "y": [
            101049,
            44386,
            163175
           ],
           "yaxis": "y"
          }
         ],
         "name": "8/9/20"
        },
        {
         "data": [
          {
           "alignmentgroup": "True",
           "hovertemplate": "Date=8/14/20<br>Country=%{x}<br>Cases=%{y}<extra></extra>",
           "ids": [
            "Brazil",
            "India",
            "US"
           ],
           "legendgroup": "",
           "marker": {
            "color": "#f54842"
           },
           "name": "",
           "offsetgroup": "",
           "orientation": "v",
           "showlegend": false,
           "textposition": "auto",
           "type": "bar",
           "x": [
            "Brazil",
            "India",
            "US"
           ],
           "xaxis": "x",
           "y": [
            106523,
            49036,
            168667
           ],
           "yaxis": "y"
          }
         ],
         "name": "8/14/20"
        },
        {
         "data": [
          {
           "alignmentgroup": "True",
           "hovertemplate": "Date=8/19/20<br>Country=%{x}<br>Cases=%{y}<extra></extra>",
           "ids": [
            "Brazil",
            "India",
            "US"
           ],
           "legendgroup": "",
           "marker": {
            "color": "#f54842"
           },
           "name": "",
           "offsetgroup": "",
           "orientation": "v",
           "showlegend": false,
           "textposition": "auto",
           "type": "bar",
           "x": [
            "Brazil",
            "India",
            "US"
           ],
           "xaxis": "x",
           "y": [
            111100,
            53866,
            173359
           ],
           "yaxis": "y"
          }
         ],
         "name": "8/19/20"
        },
        {
         "data": [
          {
           "alignmentgroup": "True",
           "hovertemplate": "Date=8/23/20<br>Country=%{x}<br>Cases=%{y}<extra></extra>",
           "ids": [
            "Brazil",
            "India",
            "US"
           ],
           "legendgroup": "",
           "marker": {
            "color": "#f54842"
           },
           "name": "",
           "offsetgroup": "",
           "orientation": "v",
           "showlegend": false,
           "textposition": "auto",
           "type": "bar",
           "x": [
            "Brazil",
            "India",
            "US"
           ],
           "xaxis": "x",
           "y": [
            114744,
            57542,
            176970
           ],
           "yaxis": "y"
          }
         ],
         "name": "8/23/20"
        },
        {
         "data": [
          {
           "alignmentgroup": "True",
           "hovertemplate": "Date=8/28/20<br>Country=%{x}<br>Cases=%{y}<extra></extra>",
           "ids": [
            "Brazil",
            "India",
            "US"
           ],
           "legendgroup": "",
           "marker": {
            "color": "#f54842"
           },
           "name": "",
           "offsetgroup": "",
           "orientation": "v",
           "showlegend": false,
           "textposition": "auto",
           "type": "bar",
           "x": [
            "Brazil",
            "India",
            "US"
           ],
           "xaxis": "x",
           "y": [
            119504,
            62550,
            181926
           ],
           "yaxis": "y"
          }
         ],
         "name": "8/28/20"
        },
        {
         "data": [
          {
           "alignmentgroup": "True",
           "hovertemplate": "Date=9/4/20<br>Country=%{x}<br>Cases=%{y}<extra></extra>",
           "ids": [
            "Brazil",
            "India",
            "US"
           ],
           "legendgroup": "",
           "marker": {
            "color": "#f54842"
           },
           "name": "",
           "offsetgroup": "",
           "orientation": "v",
           "showlegend": false,
           "textposition": "auto",
           "type": "bar",
           "x": [
            "Brazil",
            "India",
            "US"
           ],
           "xaxis": "x",
           "y": [
            125502,
            69561,
            187921
           ],
           "yaxis": "y"
          }
         ],
         "name": "9/4/20"
        },
        {
         "data": [
          {
           "alignmentgroup": "True",
           "hovertemplate": "Date=9/9/20<br>Country=%{x}<br>Cases=%{y}<extra></extra>",
           "ids": [
            "Brazil",
            "India",
            "US"
           ],
           "legendgroup": "",
           "marker": {
            "color": "#f54842"
           },
           "name": "",
           "offsetgroup": "",
           "orientation": "v",
           "showlegend": false,
           "textposition": "auto",
           "type": "bar",
           "x": [
            "Brazil",
            "India",
            "US"
           ],
           "xaxis": "x",
           "y": [
            128539,
            75062,
            190999
           ],
           "yaxis": "y"
          }
         ],
         "name": "9/9/20"
        },
        {
         "data": [
          {
           "alignmentgroup": "True",
           "hovertemplate": "Date=9/13/20<br>Country=%{x}<br>Cases=%{y}<extra></extra>",
           "ids": [
            "Brazil",
            "India",
            "US"
           ],
           "legendgroup": "",
           "marker": {
            "color": "#f54842"
           },
           "name": "",
           "offsetgroup": "",
           "orientation": "v",
           "showlegend": false,
           "textposition": "auto",
           "type": "bar",
           "x": [
            "Brazil",
            "India",
            "US"
           ],
           "xaxis": "x",
           "y": [
            131625,
            79722,
            194224
           ],
           "yaxis": "y"
          }
         ],
         "name": "9/13/20"
        },
        {
         "data": [
          {
           "alignmentgroup": "True",
           "hovertemplate": "Date=9/18/20<br>Country=%{x}<br>Cases=%{y}<extra></extra>",
           "ids": [
            "Brazil",
            "India",
            "US"
           ],
           "legendgroup": "",
           "marker": {
            "color": "#f54842"
           },
           "name": "",
           "offsetgroup": "",
           "orientation": "v",
           "showlegend": false,
           "textposition": "auto",
           "type": "bar",
           "x": [
            "Brazil",
            "India",
            "US"
           ],
           "xaxis": "x",
           "y": [
            135793,
            85619,
            198700
           ],
           "yaxis": "y"
          }
         ],
         "name": "9/18/20"
        },
        {
         "data": [
          {
           "alignmentgroup": "True",
           "hovertemplate": "Date=9/22/20<br>Country=%{x}<br>Cases=%{y}<extra></extra>",
           "ids": [
            "Brazil",
            "India",
            "US"
           ],
           "legendgroup": "",
           "marker": {
            "color": "#f54842"
           },
           "name": "",
           "offsetgroup": "",
           "orientation": "v",
           "showlegend": false,
           "textposition": "auto",
           "type": "bar",
           "x": [
            "Brazil",
            "India",
            "US"
           ],
           "xaxis": "x",
           "y": [
            138105,
            90020,
            201095
           ],
           "yaxis": "y"
          }
         ],
         "name": "9/22/20"
        },
        {
         "data": [
          {
           "alignmentgroup": "True",
           "hovertemplate": "Date=9/27/20<br>Country=%{x}<br>Cases=%{y}<extra></extra>",
           "ids": [
            "Brazil",
            "India",
            "US"
           ],
           "legendgroup": "",
           "marker": {
            "color": "#f54842"
           },
           "name": "",
           "offsetgroup": "",
           "orientation": "v",
           "showlegend": false,
           "textposition": "auto",
           "type": "bar",
           "x": [
            "Brazil",
            "India",
            "US"
           ],
           "xaxis": "x",
           "y": [
            141741,
            95542,
            205069
           ],
           "yaxis": "y"
          }
         ],
         "name": "9/27/20"
        },
        {
         "data": [
          {
           "alignmentgroup": "True",
           "hovertemplate": "Date=10/3/20<br>Country=%{x}<br>Cases=%{y}<extra></extra>",
           "ids": [
            "Brazil",
            "India",
            "US"
           ],
           "legendgroup": "",
           "marker": {
            "color": "#f54842"
           },
           "name": "",
           "offsetgroup": "",
           "orientation": "v",
           "showlegend": false,
           "textposition": "auto",
           "type": "bar",
           "x": [
            "Brazil",
            "India",
            "US"
           ],
           "xaxis": "x",
           "y": [
            145987,
            101782,
            209695
           ],
           "yaxis": "y"
          }
         ],
         "name": "10/3/20"
        },
        {
         "data": [
          {
           "alignmentgroup": "True",
           "hovertemplate": "Date=10/6/20<br>Country=%{x}<br>Cases=%{y}<extra></extra>",
           "ids": [
            "Brazil",
            "India",
            "US"
           ],
           "legendgroup": "",
           "marker": {
            "color": "#f54842"
           },
           "name": "",
           "offsetgroup": "",
           "orientation": "v",
           "showlegend": false,
           "textposition": "auto",
           "type": "bar",
           "x": [
            "Brazil",
            "India",
            "US"
           ],
           "xaxis": "x",
           "y": [
            147494,
            104555,
            211212
           ],
           "yaxis": "y"
          }
         ],
         "name": "10/6/20"
        },
        {
         "data": [
          {
           "alignmentgroup": "True",
           "hovertemplate": "Date=10/11/20<br>Country=%{x}<br>Cases=%{y}<extra></extra>",
           "ids": [
            "Brazil",
            "India",
            "US"
           ],
           "legendgroup": "",
           "marker": {
            "color": "#f54842"
           },
           "name": "",
           "offsetgroup": "",
           "orientation": "v",
           "showlegend": false,
           "textposition": "auto",
           "type": "bar",
           "x": [
            "Brazil",
            "India",
            "US"
           ],
           "xaxis": "x",
           "y": [
            150488,
            109150,
            215122
           ],
           "yaxis": "y"
          }
         ],
         "name": "10/11/20"
        },
        {
         "data": [
          {
           "alignmentgroup": "True",
           "hovertemplate": "Date=10/16/20<br>Country=%{x}<br>Cases=%{y}<extra></extra>",
           "ids": [
            "Brazil",
            "India",
            "US"
           ],
           "legendgroup": "",
           "marker": {
            "color": "#f54842"
           },
           "name": "",
           "offsetgroup": "",
           "orientation": "v",
           "showlegend": false,
           "textposition": "auto",
           "type": "bar",
           "x": [
            "Brazil",
            "India",
            "US"
           ],
           "xaxis": "x",
           "y": [
            153214,
            112998,
            218962
           ],
           "yaxis": "y"
          }
         ],
         "name": "10/16/20"
        },
        {
         "data": [
          {
           "alignmentgroup": "True",
           "hovertemplate": "Date=10/20/20<br>Country=%{x}<br>Cases=%{y}<extra></extra>",
           "ids": [
            "Brazil",
            "India",
            "US"
           ],
           "legendgroup": "",
           "marker": {
            "color": "#f54842"
           },
           "name": "",
           "offsetgroup": "",
           "orientation": "v",
           "showlegend": false,
           "textposition": "auto",
           "type": "bar",
           "x": [
            "Brazil",
            "India",
            "US"
           ],
           "xaxis": "x",
           "y": [
            154837,
            115914,
            221536
           ],
           "yaxis": "y"
          }
         ],
         "name": "10/20/20"
        },
        {
         "data": [
          {
           "alignmentgroup": "True",
           "hovertemplate": "Date=10/25/20<br>Country=%{x}<br>Cases=%{y}<extra></extra>",
           "ids": [
            "Brazil",
            "India",
            "US"
           ],
           "legendgroup": "",
           "marker": {
            "color": "#f54842"
           },
           "name": "",
           "offsetgroup": "",
           "orientation": "v",
           "showlegend": false,
           "textposition": "auto",
           "type": "bar",
           "x": [
            "Brazil",
            "India",
            "US"
           ],
           "xaxis": "x",
           "y": [
            157134,
            119014,
            225857
           ],
           "yaxis": "y"
          }
         ],
         "name": "10/25/20"
        },
        {
         "data": [
          {
           "alignmentgroup": "True",
           "hovertemplate": "Date=11/2/20<br>Country=%{x}<br>Cases=%{y}<extra></extra>",
           "ids": [
            "Brazil",
            "India",
            "US"
           ],
           "legendgroup": "",
           "marker": {
            "color": "#f54842"
           },
           "name": "",
           "offsetgroup": "",
           "orientation": "v",
           "showlegend": false,
           "textposition": "auto",
           "type": "bar",
           "x": [
            "Brazil",
            "India",
            "US"
           ],
           "xaxis": "x",
           "y": [
            160253,
            123097,
            232155
           ],
           "yaxis": "y"
          }
         ],
         "name": "11/2/20"
        },
        {
         "data": [
          {
           "alignmentgroup": "True",
           "hovertemplate": "Date=11/6/20<br>Country=%{x}<br>Cases=%{y}<extra></extra>",
           "ids": [
            "Brazil",
            "India",
            "US"
           ],
           "legendgroup": "",
           "marker": {
            "color": "#f54842"
           },
           "name": "",
           "offsetgroup": "",
           "orientation": "v",
           "showlegend": false,
           "textposition": "auto",
           "type": "bar",
           "x": [
            "Brazil",
            "India",
            "US"
           ],
           "xaxis": "x",
           "y": [
            162015,
            125562,
            237153
           ],
           "yaxis": "y"
          }
         ],
         "name": "11/6/20"
        },
        {
         "data": [
          {
           "alignmentgroup": "True",
           "hovertemplate": "Date=11/10/20<br>Country=%{x}<br>Cases=%{y}<extra></extra>",
           "ids": [
            "Brazil",
            "India",
            "US"
           ],
           "legendgroup": "",
           "marker": {
            "color": "#f54842"
           },
           "name": "",
           "offsetgroup": "",
           "orientation": "v",
           "showlegend": false,
           "textposition": "auto",
           "type": "bar",
           "x": [
            "Brazil",
            "India",
            "US"
           ],
           "xaxis": "x",
           "y": [
            162802,
            127571,
            240714
           ],
           "yaxis": "y"
          }
         ],
         "name": "11/10/20"
        },
        {
         "data": [
          {
           "alignmentgroup": "True",
           "hovertemplate": "Date=11/15/20<br>Country=%{x}<br>Cases=%{y}<extra></extra>",
           "ids": [
            "Brazil",
            "India",
            "US"
           ],
           "legendgroup": "",
           "marker": {
            "color": "#f54842"
           },
           "name": "",
           "offsetgroup": "",
           "orientation": "v",
           "showlegend": false,
           "textposition": "auto",
           "type": "bar",
           "x": [
            "Brazil",
            "India",
            "US"
           ],
           "xaxis": "x",
           "y": [
            165798,
            130070,
            246421
           ],
           "yaxis": "y"
          }
         ],
         "name": "11/15/20"
        },
        {
         "data": [
          {
           "alignmentgroup": "True",
           "hovertemplate": "Date=11/24/20<br>Country=%{x}<br>Cases=%{y}<extra></extra>",
           "ids": [
            "Brazil",
            "India",
            "US"
           ],
           "legendgroup": "",
           "marker": {
            "color": "#f54842"
           },
           "name": "",
           "offsetgroup": "",
           "orientation": "v",
           "showlegend": false,
           "textposition": "auto",
           "type": "bar",
           "x": [
            "Brazil",
            "India",
            "US"
           ],
           "xaxis": "x",
           "y": [
            170115,
            134699,
            260000
           ],
           "yaxis": "y"
          }
         ],
         "name": "11/24/20"
        },
        {
         "data": [
          {
           "alignmentgroup": "True",
           "hovertemplate": "Date=11/29/20<br>Country=%{x}<br>Cases=%{y}<extra></extra>",
           "ids": [
            "Brazil",
            "India",
            "US"
           ],
           "legendgroup": "",
           "marker": {
            "color": "#f54842"
           },
           "name": "",
           "offsetgroup": "",
           "orientation": "v",
           "showlegend": false,
           "textposition": "auto",
           "type": "bar",
           "x": [
            "Brazil",
            "India",
            "US"
           ],
           "xaxis": "x",
           "y": [
            172833,
            137139,
            267012
           ],
           "yaxis": "y"
          }
         ],
         "name": "11/29/20"
        },
        {
         "data": [
          {
           "alignmentgroup": "True",
           "hovertemplate": "Date=12/2/20<br>Country=%{x}<br>Cases=%{y}<extra></extra>",
           "ids": [
            "Brazil",
            "India",
            "US"
           ],
           "legendgroup": "",
           "marker": {
            "color": "#f54842"
           },
           "name": "",
           "offsetgroup": "",
           "orientation": "v",
           "showlegend": false,
           "textposition": "auto",
           "type": "bar",
           "x": [
            "Brazil",
            "India",
            "US"
           ],
           "xaxis": "x",
           "y": [
            174515,
            138648,
            273528
           ],
           "yaxis": "y"
          }
         ],
         "name": "12/2/20"
        },
        {
         "data": [
          {
           "alignmentgroup": "True",
           "hovertemplate": "Date=12/7/20<br>Country=%{x}<br>Cases=%{y}<extra></extra>",
           "ids": [
            "Brazil",
            "India",
            "US"
           ],
           "legendgroup": "",
           "marker": {
            "color": "#f54842"
           },
           "name": "",
           "offsetgroup": "",
           "orientation": "v",
           "showlegend": false,
           "textposition": "auto",
           "type": "bar",
           "x": [
            "Brazil",
            "India",
            "US"
           ],
           "xaxis": "x",
           "y": [
            177317,
            140958,
            283763
           ],
           "yaxis": "y"
          }
         ],
         "name": "12/7/20"
        },
        {
         "data": [
          {
           "alignmentgroup": "True",
           "hovertemplate": "Date=12/10/20<br>Country=%{x}<br>Cases=%{y}<extra></extra>",
           "ids": [
            "Brazil",
            "India",
            "US"
           ],
           "legendgroup": "",
           "marker": {
            "color": "#f54842"
           },
           "name": "",
           "offsetgroup": "",
           "orientation": "v",
           "showlegend": false,
           "textposition": "auto",
           "type": "bar",
           "x": [
            "Brazil",
            "India",
            "US"
           ],
           "xaxis": "x",
           "y": [
            179765,
            142185,
            292267
           ],
           "yaxis": "y"
          }
         ],
         "name": "12/10/20"
        },
        {
         "data": [
          {
           "alignmentgroup": "True",
           "hovertemplate": "Date=12/15/20<br>Country=%{x}<br>Cases=%{y}<extra></extra>",
           "ids": [
            "Brazil",
            "India",
            "US"
           ],
           "legendgroup": "",
           "marker": {
            "color": "#f54842"
           },
           "name": "",
           "offsetgroup": "",
           "orientation": "v",
           "showlegend": false,
           "textposition": "auto",
           "type": "bar",
           "x": [
            "Brazil",
            "India",
            "US"
           ],
           "xaxis": "x",
           "y": [
            182799,
            144096,
            303761
           ],
           "yaxis": "y"
          }
         ],
         "name": "12/15/20"
        },
        {
         "data": [
          {
           "alignmentgroup": "True",
           "hovertemplate": "Date=12/24/20<br>Country=%{x}<br>Cases=%{y}<extra></extra>",
           "ids": [
            "Brazil",
            "India",
            "US"
           ],
           "legendgroup": "",
           "marker": {
            "color": "#f54842"
           },
           "name": "",
           "offsetgroup": "",
           "orientation": "v",
           "showlegend": false,
           "textposition": "auto",
           "type": "bar",
           "x": [
            "Brazil",
            "India",
            "US"
           ],
           "xaxis": "x",
           "y": [
            189982,
            147092,
            329023
           ],
           "yaxis": "y"
          }
         ],
         "name": "12/24/20"
        },
        {
         "data": [
          {
           "alignmentgroup": "True",
           "hovertemplate": "Date=12/29/20<br>Country=%{x}<br>Cases=%{y}<extra></extra>",
           "ids": [
            "Brazil",
            "India",
            "US"
           ],
           "legendgroup": "",
           "marker": {
            "color": "#f54842"
           },
           "name": "",
           "offsetgroup": "",
           "orientation": "v",
           "showlegend": false,
           "textposition": "auto",
           "type": "bar",
           "x": [
            "Brazil",
            "India",
            "US"
           ],
           "xaxis": "x",
           "y": [
            192681,
            148439,
            338568
           ],
           "yaxis": "y"
          }
         ],
         "name": "12/29/20"
        }
       ],
       "layout": {
        "barmode": "relative",
        "legend": {
         "tracegroupgap": 0
        },
        "margin": {
         "t": 60
        },
        "showlegend": false,
        "sliders": [
         {
          "active": 0,
          "currentvalue": {
           "prefix": "Date="
          },
          "len": 0.9,
          "pad": {
           "b": 10,
           "t": 60
          },
          "steps": [
           {
            "args": [
             [
              "1/24/20"
             ],
             {
              "frame": {
               "duration": 0,
               "redraw": true
              },
              "fromcurrent": true,
              "mode": "immediate",
              "transition": {
               "duration": 0,
               "easing": "linear"
              }
             }
            ],
            "label": "1/24/20",
            "method": "animate"
           },
           {
            "args": [
             [
              "1/29/20"
             ],
             {
              "frame": {
               "duration": 0,
               "redraw": true
              },
              "fromcurrent": true,
              "mode": "immediate",
              "transition": {
               "duration": 0,
               "easing": "linear"
              }
             }
            ],
            "label": "1/29/20",
            "method": "animate"
           },
           {
            "args": [
             [
              "2/3/20"
             ],
             {
              "frame": {
               "duration": 0,
               "redraw": true
              },
              "fromcurrent": true,
              "mode": "immediate",
              "transition": {
               "duration": 0,
               "easing": "linear"
              }
             }
            ],
            "label": "2/3/20",
            "method": "animate"
           },
           {
            "args": [
             [
              "2/8/20"
             ],
             {
              "frame": {
               "duration": 0,
               "redraw": true
              },
              "fromcurrent": true,
              "mode": "immediate",
              "transition": {
               "duration": 0,
               "easing": "linear"
              }
             }
            ],
            "label": "2/8/20",
            "method": "animate"
           },
           {
            "args": [
             [
              "2/11/20"
             ],
             {
              "frame": {
               "duration": 0,
               "redraw": true
              },
              "fromcurrent": true,
              "mode": "immediate",
              "transition": {
               "duration": 0,
               "easing": "linear"
              }
             }
            ],
            "label": "2/11/20",
            "method": "animate"
           },
           {
            "args": [
             [
              "2/16/20"
             ],
             {
              "frame": {
               "duration": 0,
               "redraw": true
              },
              "fromcurrent": true,
              "mode": "immediate",
              "transition": {
               "duration": 0,
               "easing": "linear"
              }
             }
            ],
            "label": "2/16/20",
            "method": "animate"
           },
           {
            "args": [
             [
              "2/20/20"
             ],
             {
              "frame": {
               "duration": 0,
               "redraw": true
              },
              "fromcurrent": true,
              "mode": "immediate",
              "transition": {
               "duration": 0,
               "easing": "linear"
              }
             }
            ],
            "label": "2/20/20",
            "method": "animate"
           },
           {
            "args": [
             [
              "2/25/20"
             ],
             {
              "frame": {
               "duration": 0,
               "redraw": true
              },
              "fromcurrent": true,
              "mode": "immediate",
              "transition": {
               "duration": 0,
               "easing": "linear"
              }
             }
            ],
            "label": "2/25/20",
            "method": "animate"
           },
           {
            "args": [
             [
              "3/7/20"
             ],
             {
              "frame": {
               "duration": 0,
               "redraw": true
              },
              "fromcurrent": true,
              "mode": "immediate",
              "transition": {
               "duration": 0,
               "easing": "linear"
              }
             }
            ],
            "label": "3/7/20",
            "method": "animate"
           },
           {
            "args": [
             [
              "3/12/20"
             ],
             {
              "frame": {
               "duration": 0,
               "redraw": true
              },
              "fromcurrent": true,
              "mode": "immediate",
              "transition": {
               "duration": 0,
               "easing": "linear"
              }
             }
            ],
            "label": "3/12/20",
            "method": "animate"
           },
           {
            "args": [
             [
              "3/17/20"
             ],
             {
              "frame": {
               "duration": 0,
               "redraw": true
              },
              "fromcurrent": true,
              "mode": "immediate",
              "transition": {
               "duration": 0,
               "easing": "linear"
              }
             }
            ],
            "label": "3/17/20",
            "method": "animate"
           },
           {
            "args": [
             [
              "3/21/20"
             ],
             {
              "frame": {
               "duration": 0,
               "redraw": true
              },
              "fromcurrent": true,
              "mode": "immediate",
              "transition": {
               "duration": 0,
               "easing": "linear"
              }
             }
            ],
            "label": "3/21/20",
            "method": "animate"
           },
           {
            "args": [
             [
              "3/26/20"
             ],
             {
              "frame": {
               "duration": 0,
               "redraw": true
              },
              "fromcurrent": true,
              "mode": "immediate",
              "transition": {
               "duration": 0,
               "easing": "linear"
              }
             }
            ],
            "label": "3/26/20",
            "method": "animate"
           },
           {
            "args": [
             [
              "3/30/20"
             ],
             {
              "frame": {
               "duration": 0,
               "redraw": true
              },
              "fromcurrent": true,
              "mode": "immediate",
              "transition": {
               "duration": 0,
               "easing": "linear"
              }
             }
            ],
            "label": "3/30/20",
            "method": "animate"
           },
           {
            "args": [
             [
              "4/3/20"
             ],
             {
              "frame": {
               "duration": 0,
               "redraw": true
              },
              "fromcurrent": true,
              "mode": "immediate",
              "transition": {
               "duration": 0,
               "easing": "linear"
              }
             }
            ],
            "label": "4/3/20",
            "method": "animate"
           },
           {
            "args": [
             [
              "4/7/20"
             ],
             {
              "frame": {
               "duration": 0,
               "redraw": true
              },
              "fromcurrent": true,
              "mode": "immediate",
              "transition": {
               "duration": 0,
               "easing": "linear"
              }
             }
            ],
            "label": "4/7/20",
            "method": "animate"
           },
           {
            "args": [
             [
              "4/11/20"
             ],
             {
              "frame": {
               "duration": 0,
               "redraw": true
              },
              "fromcurrent": true,
              "mode": "immediate",
              "transition": {
               "duration": 0,
               "easing": "linear"
              }
             }
            ],
            "label": "4/11/20",
            "method": "animate"
           },
           {
            "args": [
             [
              "4/16/20"
             ],
             {
              "frame": {
               "duration": 0,
               "redraw": true
              },
              "fromcurrent": true,
              "mode": "immediate",
              "transition": {
               "duration": 0,
               "easing": "linear"
              }
             }
            ],
            "label": "4/16/20",
            "method": "animate"
           },
           {
            "args": [
             [
              "4/20/20"
             ],
             {
              "frame": {
               "duration": 0,
               "redraw": true
              },
              "fromcurrent": true,
              "mode": "immediate",
              "transition": {
               "duration": 0,
               "easing": "linear"
              }
             }
            ],
            "label": "4/20/20",
            "method": "animate"
           },
           {
            "args": [
             [
              "4/25/20"
             ],
             {
              "frame": {
               "duration": 0,
               "redraw": true
              },
              "fromcurrent": true,
              "mode": "immediate",
              "transition": {
               "duration": 0,
               "easing": "linear"
              }
             }
            ],
            "label": "4/25/20",
            "method": "animate"
           },
           {
            "args": [
             [
              "5/3/20"
             ],
             {
              "frame": {
               "duration": 0,
               "redraw": true
              },
              "fromcurrent": true,
              "mode": "immediate",
              "transition": {
               "duration": 0,
               "easing": "linear"
              }
             }
            ],
            "label": "5/3/20",
            "method": "animate"
           },
           {
            "args": [
             [
              "5/6/20"
             ],
             {
              "frame": {
               "duration": 0,
               "redraw": true
              },
              "fromcurrent": true,
              "mode": "immediate",
              "transition": {
               "duration": 0,
               "easing": "linear"
              }
             }
            ],
            "label": "5/6/20",
            "method": "animate"
           },
           {
            "args": [
             [
              "5/11/20"
             ],
             {
              "frame": {
               "duration": 0,
               "redraw": true
              },
              "fromcurrent": true,
              "mode": "immediate",
              "transition": {
               "duration": 0,
               "easing": "linear"
              }
             }
            ],
            "label": "5/11/20",
            "method": "animate"
           },
           {
            "args": [
             [
              "5/16/20"
             ],
             {
              "frame": {
               "duration": 0,
               "redraw": true
              },
              "fromcurrent": true,
              "mode": "immediate",
              "transition": {
               "duration": 0,
               "easing": "linear"
              }
             }
            ],
            "label": "5/16/20",
            "method": "animate"
           },
           {
            "args": [
             [
              "5/20/20"
             ],
             {
              "frame": {
               "duration": 0,
               "redraw": true
              },
              "fromcurrent": true,
              "mode": "immediate",
              "transition": {
               "duration": 0,
               "easing": "linear"
              }
             }
            ],
            "label": "5/20/20",
            "method": "animate"
           },
           {
            "args": [
             [
              "5/25/20"
             ],
             {
              "frame": {
               "duration": 0,
               "redraw": true
              },
              "fromcurrent": true,
              "mode": "immediate",
              "transition": {
               "duration": 0,
               "easing": "linear"
              }
             }
            ],
            "label": "5/25/20",
            "method": "animate"
           },
           {
            "args": [
             [
              "6/2/20"
             ],
             {
              "frame": {
               "duration": 0,
               "redraw": true
              },
              "fromcurrent": true,
              "mode": "immediate",
              "transition": {
               "duration": 0,
               "easing": "linear"
              }
             }
            ],
            "label": "6/2/20",
            "method": "animate"
           },
           {
            "args": [
             [
              "6/6/20"
             ],
             {
              "frame": {
               "duration": 0,
               "redraw": true
              },
              "fromcurrent": true,
              "mode": "immediate",
              "transition": {
               "duration": 0,
               "easing": "linear"
              }
             }
            ],
            "label": "6/6/20",
            "method": "animate"
           },
           {
            "args": [
             [
              "6/10/20"
             ],
             {
              "frame": {
               "duration": 0,
               "redraw": true
              },
              "fromcurrent": true,
              "mode": "immediate",
              "transition": {
               "duration": 0,
               "easing": "linear"
              }
             }
            ],
            "label": "6/10/20",
            "method": "animate"
           },
           {
            "args": [
             [
              "6/15/20"
             ],
             {
              "frame": {
               "duration": 0,
               "redraw": true
              },
              "fromcurrent": true,
              "mode": "immediate",
              "transition": {
               "duration": 0,
               "easing": "linear"
              }
             }
            ],
            "label": "6/15/20",
            "method": "animate"
           },
           {
            "args": [
             [
              "6/24/20"
             ],
             {
              "frame": {
               "duration": 0,
               "redraw": true
              },
              "fromcurrent": true,
              "mode": "immediate",
              "transition": {
               "duration": 0,
               "easing": "linear"
              }
             }
            ],
            "label": "6/24/20",
            "method": "animate"
           },
           {
            "args": [
             [
              "6/29/20"
             ],
             {
              "frame": {
               "duration": 0,
               "redraw": true
              },
              "fromcurrent": true,
              "mode": "immediate",
              "transition": {
               "duration": 0,
               "easing": "linear"
              }
             }
            ],
            "label": "6/29/20",
            "method": "animate"
           },
           {
            "args": [
             [
              "7/2/20"
             ],
             {
              "frame": {
               "duration": 0,
               "redraw": true
              },
              "fromcurrent": true,
              "mode": "immediate",
              "transition": {
               "duration": 0,
               "easing": "linear"
              }
             }
            ],
            "label": "7/2/20",
            "method": "animate"
           },
           {
            "args": [
             [
              "7/5/20"
             ],
             {
              "frame": {
               "duration": 0,
               "redraw": true
              },
              "fromcurrent": true,
              "mode": "immediate",
              "transition": {
               "duration": 0,
               "easing": "linear"
              }
             }
            ],
            "label": "7/5/20",
            "method": "animate"
           },
           {
            "args": [
             [
              "7/10/20"
             ],
             {
              "frame": {
               "duration": 0,
               "redraw": true
              },
              "fromcurrent": true,
              "mode": "immediate",
              "transition": {
               "duration": 0,
               "easing": "linear"
              }
             }
            ],
            "label": "7/10/20",
            "method": "animate"
           },
           {
            "args": [
             [
              "7/15/20"
             ],
             {
              "frame": {
               "duration": 0,
               "redraw": true
              },
              "fromcurrent": true,
              "mode": "immediate",
              "transition": {
               "duration": 0,
               "easing": "linear"
              }
             }
            ],
            "label": "7/15/20",
            "method": "animate"
           },
           {
            "args": [
             [
              "7/24/20"
             ],
             {
              "frame": {
               "duration": 0,
               "redraw": true
              },
              "fromcurrent": true,
              "mode": "immediate",
              "transition": {
               "duration": 0,
               "easing": "linear"
              }
             }
            ],
            "label": "7/24/20",
            "method": "animate"
           },
           {
            "args": [
             [
              "7/29/20"
             ],
             {
              "frame": {
               "duration": 0,
               "redraw": true
              },
              "fromcurrent": true,
              "mode": "immediate",
              "transition": {
               "duration": 0,
               "easing": "linear"
              }
             }
            ],
            "label": "7/29/20",
            "method": "animate"
           },
           {
            "args": [
             [
              "8/1/20"
             ],
             {
              "frame": {
               "duration": 0,
               "redraw": true
              },
              "fromcurrent": true,
              "mode": "immediate",
              "transition": {
               "duration": 0,
               "easing": "linear"
              }
             }
            ],
            "label": "8/1/20",
            "method": "animate"
           },
           {
            "args": [
             [
              "8/4/20"
             ],
             {
              "frame": {
               "duration": 0,
               "redraw": true
              },
              "fromcurrent": true,
              "mode": "immediate",
              "transition": {
               "duration": 0,
               "easing": "linear"
              }
             }
            ],
            "label": "8/4/20",
            "method": "animate"
           },
           {
            "args": [
             [
              "8/9/20"
             ],
             {
              "frame": {
               "duration": 0,
               "redraw": true
              },
              "fromcurrent": true,
              "mode": "immediate",
              "transition": {
               "duration": 0,
               "easing": "linear"
              }
             }
            ],
            "label": "8/9/20",
            "method": "animate"
           },
           {
            "args": [
             [
              "8/14/20"
             ],
             {
              "frame": {
               "duration": 0,
               "redraw": true
              },
              "fromcurrent": true,
              "mode": "immediate",
              "transition": {
               "duration": 0,
               "easing": "linear"
              }
             }
            ],
            "label": "8/14/20",
            "method": "animate"
           },
           {
            "args": [
             [
              "8/19/20"
             ],
             {
              "frame": {
               "duration": 0,
               "redraw": true
              },
              "fromcurrent": true,
              "mode": "immediate",
              "transition": {
               "duration": 0,
               "easing": "linear"
              }
             }
            ],
            "label": "8/19/20",
            "method": "animate"
           },
           {
            "args": [
             [
              "8/23/20"
             ],
             {
              "frame": {
               "duration": 0,
               "redraw": true
              },
              "fromcurrent": true,
              "mode": "immediate",
              "transition": {
               "duration": 0,
               "easing": "linear"
              }
             }
            ],
            "label": "8/23/20",
            "method": "animate"
           },
           {
            "args": [
             [
              "8/28/20"
             ],
             {
              "frame": {
               "duration": 0,
               "redraw": true
              },
              "fromcurrent": true,
              "mode": "immediate",
              "transition": {
               "duration": 0,
               "easing": "linear"
              }
             }
            ],
            "label": "8/28/20",
            "method": "animate"
           },
           {
            "args": [
             [
              "9/4/20"
             ],
             {
              "frame": {
               "duration": 0,
               "redraw": true
              },
              "fromcurrent": true,
              "mode": "immediate",
              "transition": {
               "duration": 0,
               "easing": "linear"
              }
             }
            ],
            "label": "9/4/20",
            "method": "animate"
           },
           {
            "args": [
             [
              "9/9/20"
             ],
             {
              "frame": {
               "duration": 0,
               "redraw": true
              },
              "fromcurrent": true,
              "mode": "immediate",
              "transition": {
               "duration": 0,
               "easing": "linear"
              }
             }
            ],
            "label": "9/9/20",
            "method": "animate"
           },
           {
            "args": [
             [
              "9/13/20"
             ],
             {
              "frame": {
               "duration": 0,
               "redraw": true
              },
              "fromcurrent": true,
              "mode": "immediate",
              "transition": {
               "duration": 0,
               "easing": "linear"
              }
             }
            ],
            "label": "9/13/20",
            "method": "animate"
           },
           {
            "args": [
             [
              "9/18/20"
             ],
             {
              "frame": {
               "duration": 0,
               "redraw": true
              },
              "fromcurrent": true,
              "mode": "immediate",
              "transition": {
               "duration": 0,
               "easing": "linear"
              }
             }
            ],
            "label": "9/18/20",
            "method": "animate"
           },
           {
            "args": [
             [
              "9/22/20"
             ],
             {
              "frame": {
               "duration": 0,
               "redraw": true
              },
              "fromcurrent": true,
              "mode": "immediate",
              "transition": {
               "duration": 0,
               "easing": "linear"
              }
             }
            ],
            "label": "9/22/20",
            "method": "animate"
           },
           {
            "args": [
             [
              "9/27/20"
             ],
             {
              "frame": {
               "duration": 0,
               "redraw": true
              },
              "fromcurrent": true,
              "mode": "immediate",
              "transition": {
               "duration": 0,
               "easing": "linear"
              }
             }
            ],
            "label": "9/27/20",
            "method": "animate"
           },
           {
            "args": [
             [
              "10/3/20"
             ],
             {
              "frame": {
               "duration": 0,
               "redraw": true
              },
              "fromcurrent": true,
              "mode": "immediate",
              "transition": {
               "duration": 0,
               "easing": "linear"
              }
             }
            ],
            "label": "10/3/20",
            "method": "animate"
           },
           {
            "args": [
             [
              "10/6/20"
             ],
             {
              "frame": {
               "duration": 0,
               "redraw": true
              },
              "fromcurrent": true,
              "mode": "immediate",
              "transition": {
               "duration": 0,
               "easing": "linear"
              }
             }
            ],
            "label": "10/6/20",
            "method": "animate"
           },
           {
            "args": [
             [
              "10/11/20"
             ],
             {
              "frame": {
               "duration": 0,
               "redraw": true
              },
              "fromcurrent": true,
              "mode": "immediate",
              "transition": {
               "duration": 0,
               "easing": "linear"
              }
             }
            ],
            "label": "10/11/20",
            "method": "animate"
           },
           {
            "args": [
             [
              "10/16/20"
             ],
             {
              "frame": {
               "duration": 0,
               "redraw": true
              },
              "fromcurrent": true,
              "mode": "immediate",
              "transition": {
               "duration": 0,
               "easing": "linear"
              }
             }
            ],
            "label": "10/16/20",
            "method": "animate"
           },
           {
            "args": [
             [
              "10/20/20"
             ],
             {
              "frame": {
               "duration": 0,
               "redraw": true
              },
              "fromcurrent": true,
              "mode": "immediate",
              "transition": {
               "duration": 0,
               "easing": "linear"
              }
             }
            ],
            "label": "10/20/20",
            "method": "animate"
           },
           {
            "args": [
             [
              "10/25/20"
             ],
             {
              "frame": {
               "duration": 0,
               "redraw": true
              },
              "fromcurrent": true,
              "mode": "immediate",
              "transition": {
               "duration": 0,
               "easing": "linear"
              }
             }
            ],
            "label": "10/25/20",
            "method": "animate"
           },
           {
            "args": [
             [
              "11/2/20"
             ],
             {
              "frame": {
               "duration": 0,
               "redraw": true
              },
              "fromcurrent": true,
              "mode": "immediate",
              "transition": {
               "duration": 0,
               "easing": "linear"
              }
             }
            ],
            "label": "11/2/20",
            "method": "animate"
           },
           {
            "args": [
             [
              "11/6/20"
             ],
             {
              "frame": {
               "duration": 0,
               "redraw": true
              },
              "fromcurrent": true,
              "mode": "immediate",
              "transition": {
               "duration": 0,
               "easing": "linear"
              }
             }
            ],
            "label": "11/6/20",
            "method": "animate"
           },
           {
            "args": [
             [
              "11/10/20"
             ],
             {
              "frame": {
               "duration": 0,
               "redraw": true
              },
              "fromcurrent": true,
              "mode": "immediate",
              "transition": {
               "duration": 0,
               "easing": "linear"
              }
             }
            ],
            "label": "11/10/20",
            "method": "animate"
           },
           {
            "args": [
             [
              "11/15/20"
             ],
             {
              "frame": {
               "duration": 0,
               "redraw": true
              },
              "fromcurrent": true,
              "mode": "immediate",
              "transition": {
               "duration": 0,
               "easing": "linear"
              }
             }
            ],
            "label": "11/15/20",
            "method": "animate"
           },
           {
            "args": [
             [
              "11/24/20"
             ],
             {
              "frame": {
               "duration": 0,
               "redraw": true
              },
              "fromcurrent": true,
              "mode": "immediate",
              "transition": {
               "duration": 0,
               "easing": "linear"
              }
             }
            ],
            "label": "11/24/20",
            "method": "animate"
           },
           {
            "args": [
             [
              "11/29/20"
             ],
             {
              "frame": {
               "duration": 0,
               "redraw": true
              },
              "fromcurrent": true,
              "mode": "immediate",
              "transition": {
               "duration": 0,
               "easing": "linear"
              }
             }
            ],
            "label": "11/29/20",
            "method": "animate"
           },
           {
            "args": [
             [
              "12/2/20"
             ],
             {
              "frame": {
               "duration": 0,
               "redraw": true
              },
              "fromcurrent": true,
              "mode": "immediate",
              "transition": {
               "duration": 0,
               "easing": "linear"
              }
             }
            ],
            "label": "12/2/20",
            "method": "animate"
           },
           {
            "args": [
             [
              "12/7/20"
             ],
             {
              "frame": {
               "duration": 0,
               "redraw": true
              },
              "fromcurrent": true,
              "mode": "immediate",
              "transition": {
               "duration": 0,
               "easing": "linear"
              }
             }
            ],
            "label": "12/7/20",
            "method": "animate"
           },
           {
            "args": [
             [
              "12/10/20"
             ],
             {
              "frame": {
               "duration": 0,
               "redraw": true
              },
              "fromcurrent": true,
              "mode": "immediate",
              "transition": {
               "duration": 0,
               "easing": "linear"
              }
             }
            ],
            "label": "12/10/20",
            "method": "animate"
           },
           {
            "args": [
             [
              "12/15/20"
             ],
             {
              "frame": {
               "duration": 0,
               "redraw": true
              },
              "fromcurrent": true,
              "mode": "immediate",
              "transition": {
               "duration": 0,
               "easing": "linear"
              }
             }
            ],
            "label": "12/15/20",
            "method": "animate"
           },
           {
            "args": [
             [
              "12/24/20"
             ],
             {
              "frame": {
               "duration": 0,
               "redraw": true
              },
              "fromcurrent": true,
              "mode": "immediate",
              "transition": {
               "duration": 0,
               "easing": "linear"
              }
             }
            ],
            "label": "12/24/20",
            "method": "animate"
           },
           {
            "args": [
             [
              "12/29/20"
             ],
             {
              "frame": {
               "duration": 0,
               "redraw": true
              },
              "fromcurrent": true,
              "mode": "immediate",
              "transition": {
               "duration": 0,
               "easing": "linear"
              }
             }
            ],
            "label": "12/29/20",
            "method": "animate"
           }
          ],
          "x": 0.1,
          "xanchor": "left",
          "y": 0,
          "yanchor": "top"
         }
        ],
        "template": {
         "data": {
          "bar": [
           {
            "error_x": {
             "color": "#f2f5fa"
            },
            "error_y": {
             "color": "#f2f5fa"
            },
            "marker": {
             "line": {
              "color": "rgb(17,17,17)",
              "width": 0.5
             }
            },
            "type": "bar"
           }
          ],
          "barpolar": [
           {
            "marker": {
             "line": {
              "color": "rgb(17,17,17)",
              "width": 0.5
             }
            },
            "type": "barpolar"
           }
          ],
          "carpet": [
           {
            "aaxis": {
             "endlinecolor": "#A2B1C6",
             "gridcolor": "#506784",
             "linecolor": "#506784",
             "minorgridcolor": "#506784",
             "startlinecolor": "#A2B1C6"
            },
            "baxis": {
             "endlinecolor": "#A2B1C6",
             "gridcolor": "#506784",
             "linecolor": "#506784",
             "minorgridcolor": "#506784",
             "startlinecolor": "#A2B1C6"
            },
            "type": "carpet"
           }
          ],
          "choropleth": [
           {
            "colorbar": {
             "outlinewidth": 0,
             "ticks": ""
            },
            "type": "choropleth"
           }
          ],
          "contour": [
           {
            "colorbar": {
             "outlinewidth": 0,
             "ticks": ""
            },
            "colorscale": [
             [
              0,
              "#0d0887"
             ],
             [
              0.1111111111111111,
              "#46039f"
             ],
             [
              0.2222222222222222,
              "#7201a8"
             ],
             [
              0.3333333333333333,
              "#9c179e"
             ],
             [
              0.4444444444444444,
              "#bd3786"
             ],
             [
              0.5555555555555556,
              "#d8576b"
             ],
             [
              0.6666666666666666,
              "#ed7953"
             ],
             [
              0.7777777777777778,
              "#fb9f3a"
             ],
             [
              0.8888888888888888,
              "#fdca26"
             ],
             [
              1,
              "#f0f921"
             ]
            ],
            "type": "contour"
           }
          ],
          "contourcarpet": [
           {
            "colorbar": {
             "outlinewidth": 0,
             "ticks": ""
            },
            "type": "contourcarpet"
           }
          ],
          "heatmap": [
           {
            "colorbar": {
             "outlinewidth": 0,
             "ticks": ""
            },
            "colorscale": [
             [
              0,
              "#0d0887"
             ],
             [
              0.1111111111111111,
              "#46039f"
             ],
             [
              0.2222222222222222,
              "#7201a8"
             ],
             [
              0.3333333333333333,
              "#9c179e"
             ],
             [
              0.4444444444444444,
              "#bd3786"
             ],
             [
              0.5555555555555556,
              "#d8576b"
             ],
             [
              0.6666666666666666,
              "#ed7953"
             ],
             [
              0.7777777777777778,
              "#fb9f3a"
             ],
             [
              0.8888888888888888,
              "#fdca26"
             ],
             [
              1,
              "#f0f921"
             ]
            ],
            "type": "heatmap"
           }
          ],
          "heatmapgl": [
           {
            "colorbar": {
             "outlinewidth": 0,
             "ticks": ""
            },
            "colorscale": [
             [
              0,
              "#0d0887"
             ],
             [
              0.1111111111111111,
              "#46039f"
             ],
             [
              0.2222222222222222,
              "#7201a8"
             ],
             [
              0.3333333333333333,
              "#9c179e"
             ],
             [
              0.4444444444444444,
              "#bd3786"
             ],
             [
              0.5555555555555556,
              "#d8576b"
             ],
             [
              0.6666666666666666,
              "#ed7953"
             ],
             [
              0.7777777777777778,
              "#fb9f3a"
             ],
             [
              0.8888888888888888,
              "#fdca26"
             ],
             [
              1,
              "#f0f921"
             ]
            ],
            "type": "heatmapgl"
           }
          ],
          "histogram": [
           {
            "marker": {
             "colorbar": {
              "outlinewidth": 0,
              "ticks": ""
             }
            },
            "type": "histogram"
           }
          ],
          "histogram2d": [
           {
            "colorbar": {
             "outlinewidth": 0,
             "ticks": ""
            },
            "colorscale": [
             [
              0,
              "#0d0887"
             ],
             [
              0.1111111111111111,
              "#46039f"
             ],
             [
              0.2222222222222222,
              "#7201a8"
             ],
             [
              0.3333333333333333,
              "#9c179e"
             ],
             [
              0.4444444444444444,
              "#bd3786"
             ],
             [
              0.5555555555555556,
              "#d8576b"
             ],
             [
              0.6666666666666666,
              "#ed7953"
             ],
             [
              0.7777777777777778,
              "#fb9f3a"
             ],
             [
              0.8888888888888888,
              "#fdca26"
             ],
             [
              1,
              "#f0f921"
             ]
            ],
            "type": "histogram2d"
           }
          ],
          "histogram2dcontour": [
           {
            "colorbar": {
             "outlinewidth": 0,
             "ticks": ""
            },
            "colorscale": [
             [
              0,
              "#0d0887"
             ],
             [
              0.1111111111111111,
              "#46039f"
             ],
             [
              0.2222222222222222,
              "#7201a8"
             ],
             [
              0.3333333333333333,
              "#9c179e"
             ],
             [
              0.4444444444444444,
              "#bd3786"
             ],
             [
              0.5555555555555556,
              "#d8576b"
             ],
             [
              0.6666666666666666,
              "#ed7953"
             ],
             [
              0.7777777777777778,
              "#fb9f3a"
             ],
             [
              0.8888888888888888,
              "#fdca26"
             ],
             [
              1,
              "#f0f921"
             ]
            ],
            "type": "histogram2dcontour"
           }
          ],
          "mesh3d": [
           {
            "colorbar": {
             "outlinewidth": 0,
             "ticks": ""
            },
            "type": "mesh3d"
           }
          ],
          "parcoords": [
           {
            "line": {
             "colorbar": {
              "outlinewidth": 0,
              "ticks": ""
             }
            },
            "type": "parcoords"
           }
          ],
          "pie": [
           {
            "automargin": true,
            "type": "pie"
           }
          ],
          "scatter": [
           {
            "marker": {
             "line": {
              "color": "#283442"
             }
            },
            "type": "scatter"
           }
          ],
          "scatter3d": [
           {
            "line": {
             "colorbar": {
              "outlinewidth": 0,
              "ticks": ""
             }
            },
            "marker": {
             "colorbar": {
              "outlinewidth": 0,
              "ticks": ""
             }
            },
            "type": "scatter3d"
           }
          ],
          "scattercarpet": [
           {
            "marker": {
             "colorbar": {
              "outlinewidth": 0,
              "ticks": ""
             }
            },
            "type": "scattercarpet"
           }
          ],
          "scattergeo": [
           {
            "marker": {
             "colorbar": {
              "outlinewidth": 0,
              "ticks": ""
             }
            },
            "type": "scattergeo"
           }
          ],
          "scattergl": [
           {
            "marker": {
             "line": {
              "color": "#283442"
             }
            },
            "type": "scattergl"
           }
          ],
          "scattermapbox": [
           {
            "marker": {
             "colorbar": {
              "outlinewidth": 0,
              "ticks": ""
             }
            },
            "type": "scattermapbox"
           }
          ],
          "scatterpolar": [
           {
            "marker": {
             "colorbar": {
              "outlinewidth": 0,
              "ticks": ""
             }
            },
            "type": "scatterpolar"
           }
          ],
          "scatterpolargl": [
           {
            "marker": {
             "colorbar": {
              "outlinewidth": 0,
              "ticks": ""
             }
            },
            "type": "scatterpolargl"
           }
          ],
          "scatterternary": [
           {
            "marker": {
             "colorbar": {
              "outlinewidth": 0,
              "ticks": ""
             }
            },
            "type": "scatterternary"
           }
          ],
          "surface": [
           {
            "colorbar": {
             "outlinewidth": 0,
             "ticks": ""
            },
            "colorscale": [
             [
              0,
              "#0d0887"
             ],
             [
              0.1111111111111111,
              "#46039f"
             ],
             [
              0.2222222222222222,
              "#7201a8"
             ],
             [
              0.3333333333333333,
              "#9c179e"
             ],
             [
              0.4444444444444444,
              "#bd3786"
             ],
             [
              0.5555555555555556,
              "#d8576b"
             ],
             [
              0.6666666666666666,
              "#ed7953"
             ],
             [
              0.7777777777777778,
              "#fb9f3a"
             ],
             [
              0.8888888888888888,
              "#fdca26"
             ],
             [
              1,
              "#f0f921"
             ]
            ],
            "type": "surface"
           }
          ],
          "table": [
           {
            "cells": {
             "fill": {
              "color": "#506784"
             },
             "line": {
              "color": "rgb(17,17,17)"
             }
            },
            "header": {
             "fill": {
              "color": "#2a3f5f"
             },
             "line": {
              "color": "rgb(17,17,17)"
             }
            },
            "type": "table"
           }
          ]
         },
         "layout": {
          "annotationdefaults": {
           "arrowcolor": "#f2f5fa",
           "arrowhead": 0,
           "arrowwidth": 1
          },
          "autotypenumbers": "strict",
          "coloraxis": {
           "colorbar": {
            "outlinewidth": 0,
            "ticks": ""
           }
          },
          "colorscale": {
           "diverging": [
            [
             0,
             "#8e0152"
            ],
            [
             0.1,
             "#c51b7d"
            ],
            [
             0.2,
             "#de77ae"
            ],
            [
             0.3,
             "#f1b6da"
            ],
            [
             0.4,
             "#fde0ef"
            ],
            [
             0.5,
             "#f7f7f7"
            ],
            [
             0.6,
             "#e6f5d0"
            ],
            [
             0.7,
             "#b8e186"
            ],
            [
             0.8,
             "#7fbc41"
            ],
            [
             0.9,
             "#4d9221"
            ],
            [
             1,
             "#276419"
            ]
           ],
           "sequential": [
            [
             0,
             "#0d0887"
            ],
            [
             0.1111111111111111,
             "#46039f"
            ],
            [
             0.2222222222222222,
             "#7201a8"
            ],
            [
             0.3333333333333333,
             "#9c179e"
            ],
            [
             0.4444444444444444,
             "#bd3786"
            ],
            [
             0.5555555555555556,
             "#d8576b"
            ],
            [
             0.6666666666666666,
             "#ed7953"
            ],
            [
             0.7777777777777778,
             "#fb9f3a"
            ],
            [
             0.8888888888888888,
             "#fdca26"
            ],
            [
             1,
             "#f0f921"
            ]
           ],
           "sequentialminus": [
            [
             0,
             "#0d0887"
            ],
            [
             0.1111111111111111,
             "#46039f"
            ],
            [
             0.2222222222222222,
             "#7201a8"
            ],
            [
             0.3333333333333333,
             "#9c179e"
            ],
            [
             0.4444444444444444,
             "#bd3786"
            ],
            [
             0.5555555555555556,
             "#d8576b"
            ],
            [
             0.6666666666666666,
             "#ed7953"
            ],
            [
             0.7777777777777778,
             "#fb9f3a"
            ],
            [
             0.8888888888888888,
             "#fdca26"
            ],
            [
             1,
             "#f0f921"
            ]
           ]
          },
          "colorway": [
           "#636efa",
           "#EF553B",
           "#00cc96",
           "#ab63fa",
           "#FFA15A",
           "#19d3f3",
           "#FF6692",
           "#B6E880",
           "#FF97FF",
           "#FECB52"
          ],
          "font": {
           "color": "#f2f5fa"
          },
          "geo": {
           "bgcolor": "rgb(17,17,17)",
           "lakecolor": "rgb(17,17,17)",
           "landcolor": "rgb(17,17,17)",
           "showlakes": true,
           "showland": true,
           "subunitcolor": "#506784"
          },
          "hoverlabel": {
           "align": "left"
          },
          "hovermode": "closest",
          "mapbox": {
           "style": "dark"
          },
          "paper_bgcolor": "rgb(17,17,17)",
          "plot_bgcolor": "rgb(17,17,17)",
          "polar": {
           "angularaxis": {
            "gridcolor": "#506784",
            "linecolor": "#506784",
            "ticks": ""
           },
           "bgcolor": "rgb(17,17,17)",
           "radialaxis": {
            "gridcolor": "#506784",
            "linecolor": "#506784",
            "ticks": ""
           }
          },
          "scene": {
           "xaxis": {
            "backgroundcolor": "rgb(17,17,17)",
            "gridcolor": "#506784",
            "gridwidth": 2,
            "linecolor": "#506784",
            "showbackground": true,
            "ticks": "",
            "zerolinecolor": "#C8D4E3"
           },
           "yaxis": {
            "backgroundcolor": "rgb(17,17,17)",
            "gridcolor": "#506784",
            "gridwidth": 2,
            "linecolor": "#506784",
            "showbackground": true,
            "ticks": "",
            "zerolinecolor": "#C8D4E3"
           },
           "zaxis": {
            "backgroundcolor": "rgb(17,17,17)",
            "gridcolor": "#506784",
            "gridwidth": 2,
            "linecolor": "#506784",
            "showbackground": true,
            "ticks": "",
            "zerolinecolor": "#C8D4E3"
           }
          },
          "shapedefaults": {
           "line": {
            "color": "#f2f5fa"
           }
          },
          "sliderdefaults": {
           "bgcolor": "#C8D4E3",
           "bordercolor": "rgb(17,17,17)",
           "borderwidth": 1,
           "tickwidth": 0
          },
          "ternary": {
           "aaxis": {
            "gridcolor": "#506784",
            "linecolor": "#506784",
            "ticks": ""
           },
           "baxis": {
            "gridcolor": "#506784",
            "linecolor": "#506784",
            "ticks": ""
           },
           "bgcolor": "rgb(17,17,17)",
           "caxis": {
            "gridcolor": "#506784",
            "linecolor": "#506784",
            "ticks": ""
           }
          },
          "title": {
           "x": 0.05
          },
          "updatemenudefaults": {
           "bgcolor": "#506784",
           "borderwidth": 0
          },
          "xaxis": {
           "automargin": true,
           "gridcolor": "#283442",
           "linecolor": "#506784",
           "ticks": "",
           "title": {
            "standoff": 15
           },
           "zerolinecolor": "#283442",
           "zerolinewidth": 2
          },
          "yaxis": {
           "automargin": true,
           "gridcolor": "#283442",
           "linecolor": "#506784",
           "ticks": "",
           "title": {
            "standoff": 15
           },
           "zerolinecolor": "#283442",
           "zerolinewidth": 2
          }
         }
        },
        "updatemenus": [
         {
          "buttons": [
           {
            "args": [
             null,
             {
              "frame": {
               "duration": 500,
               "redraw": true
              },
              "fromcurrent": true,
              "mode": "immediate",
              "transition": {
               "duration": 500,
               "easing": "linear"
              }
             }
            ],
            "label": "&#9654;",
            "method": "animate"
           },
           {
            "args": [
             [
              null
             ],
             {
              "frame": {
               "duration": 0,
               "redraw": true
              },
              "fromcurrent": true,
              "mode": "immediate",
              "transition": {
               "duration": 0,
               "easing": "linear"
              }
             }
            ],
            "label": "&#9724;",
            "method": "animate"
           }
          ],
          "direction": "left",
          "pad": {
           "r": 10,
           "t": 70
          },
          "showactive": false,
          "type": "buttons",
          "x": 0.1,
          "xanchor": "right",
          "y": 0,
          "yanchor": "top"
         }
        ],
        "xaxis": {
         "anchor": "y",
         "domain": [
          0,
          1
         ],
         "title": {
          "text": "Country"
         }
        },
        "yaxis": {
         "anchor": "x",
         "domain": [
          0,
          1
         ],
         "range": [
          0,
          338568
         ],
         "title": {
          "text": "Cases"
         }
        }
       }
      }
     },
     "metadata": {}
    }
   ],
   "source": [
    "# Based on number of deaths in - India,US and Brazil\n",
    "create_comparison_animation(deaths_global,\"deaths\",\"India\",\"US\",\"Brazil\")"
   ]
  }
 ]
}